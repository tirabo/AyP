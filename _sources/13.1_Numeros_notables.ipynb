{
  "cells": [
    {
      "cell_type": "markdown",
      "source": [
        "# Los números notables (optativa)"
      ],
      "metadata": {
        "id": "bMOIQyEAbPcd"
      }
    },
    {
      "cell_type": "markdown",
      "metadata": {
        "id": "p_xCG3W1qWM9"
      },
      "source": [
        "\n",
        "\n",
        "$0$ :  elemento neutro de la suma.\n",
        "\n",
        "$1$ : elemento neutro de la multiplicación.\n",
        "\n",
        "$i$ : raíz cuadrada de -1.\n",
        "\n",
        "$\\pi$ : la razón entre el perímetro de la circunferencia y el diámetro.\n",
        "\n",
        "$e$ : es el límite de la sucesión $\\left(1 + \\dfrac{1}{n}\\right)^n$. Es decir,\n",
        "$$\n",
        "e = \\lim_{n \\to \\infty} \\left(1 + \\dfrac{1}{n}\\right)^n\n",
        "$$\n",
        "\n",
        "Veremos en lo que sigue formas de calcular $\\pi$ y $e$."
      ]
    },
    {
      "cell_type": "markdown",
      "metadata": {
        "id": "Mo-WtxuEfV8K"
      },
      "source": [
        "##1. Cálculo de $\\pi$\n",
        "\n",
        "Veremos diferentes métodos para calcular $\\pi$ que nos servirán para ilustrar diferentes estrategias de cálculo, muy distintas entre si.\n",
        "\n",
        "El primer método no es ni fue utilizado para calcular $\\pi$, pero ilustra un método probabilistico de cálculo,  usando *Montecarlo.*\n",
        "\n",
        "El segundo método se inspira en un método usado por Arquímedes y en occidente hasta mediados del segundo milenio, el *método poligonal de Arquímedes*. Sin embargo  difiere en el método original en muchos aspectos. La similitud es, y ahí termina, en que se usan polígonos inscriptos y circunscriptos a una circunferencia para el cálculo de $\\pi$.\n",
        "\n",
        "El tercer método es el que desarrolló Newton a partir del desarrollo de $(a + b)^n$ (el *binomio de Newton*).\n",
        "\n",
        "El cuarto método es un método relativamente moderno que calcula en forma eficiente aproximaciones de $\\pi$"
      ]
    },
    {
      "cell_type": "code",
      "execution_count": null,
      "metadata": {
        "id": "Z0bRaeCaQG10"
      },
      "outputs": [],
      "source": [
        "# necesitamos importar estas bibliotecas (ya veremos por qué)\n",
        "import random\n",
        "import math"
      ]
    },
    {
      "cell_type": "markdown",
      "metadata": {
        "id": "OWFdGEMvgXvO"
      },
      "source": [
        "### Calcular $\\pi$ contando las gotas de la lluvia.\n",
        "\n",
        "El método que usaremos es *Montecarlo* y es muy intuitivo.\n",
        "\n",
        "Se \"dibuja\" (en forma imaginaria) un cuadrado de $1 \\times 1$ y se \"tiran al azar\" puntos $(x,y)$  en el cuadrado, es decir $0 \\le  x, y \\le 1$.\n",
        "\n",
        "La distancia del origen a  $(x,y)$  es  $\\sqrt{x^2 + y^2}$. Los puntos $(x,y)$ dentro de la circunferencia de radio $1$ son\n",
        "$$\n",
        "D^1 = \\left\\{(x,y):\\sqrt{x^2 + y^2} \\le 1\\right\\}\n",
        "$$\n",
        "\n",
        "Es decir, $(x,y)$ pertenece al círculo de radio $1$ sii $x^2 + y^2 \\le 1$.\n",
        "\n",
        "Ahora bien, la superficie del círculode radio 1 es $\\pi$ por radiom al cuadrado. En  este caso  el radio  es $1/2$, es decir la superficie del círculo de radio $1$  es $\\frac\\pi4$. Como la superficie del cuadrado de lado $1$ es $1$, si tiramos $n$ puntos al azar en un cuadrado aproximadamente $n \\cdot \\frac\\pi4$ caerán dentro del círculo.  Es decir si $k$ son los puntos que han caido en el cículo:\n",
        "$$\n",
        "k \\sim \\pi\\cdot \\frac{1}{4}\\cdot  n.\n",
        "$$\n",
        "Haciendo pasaje de término,\n",
        "$$\n",
        "\\pi \\sim \\frac{4k}{n}\n",
        "$$\n",
        "\n",
        "Implementemos un simulador de tirar puntos en el cuadrado que detecte los puntos que caen dentro del círculo:"
      ]
    },
    {
      "cell_type": "code",
      "execution_count": null,
      "metadata": {
        "id": "PDKY9OOXgvsF",
        "colab": {
          "base_uri": "https://localhost:8080/"
        },
        "outputId": "63fd4f95-5eb1-4b55-c45e-c6d992bc6798"
      },
      "outputs": [
        {
          "output_type": "stream",
          "name": "stdout",
          "text": [
            "3.16\n",
            "3.196\n",
            "3.16\n",
            "3.14156\n",
            "3.143504\n",
            "3.1416868\n"
          ]
        }
      ],
      "source": [
        "def calcular_pi_prob(n: int ) -> float:\n",
        "    # calcula pi con n puntos\n",
        "    puntos_en_circulo = 0\n",
        "    for _ in range(n):\n",
        "        x, y = random.uniform(0, 1), random.uniform(0, 1)\n",
        "        if x**2 + y**2 <= 1:\n",
        "            puntos_en_circulo = puntos_en_circulo + 1\n",
        "    return 4 * puntos_en_circulo / n\n",
        "\n",
        "print(calcular_pi_prob(100))\n",
        "print(calcular_pi_prob(1000))\n",
        "print(calcular_pi_prob(10**4))\n",
        "print(calcular_pi_prob(10**5))\n",
        "print(calcular_pi_prob(10**6))\n",
        "print(calcular_pi_prob(10**7))"
      ]
    },
    {
      "cell_type": "markdown",
      "metadata": {
        "id": "Olfo4HcNN6Wv"
      },
      "source": [
        "como verán la precisión no es muy buena, incluso tirando muchos puntos. Pero al menos nos da una idea del valor de $\\pi$."
      ]
    },
    {
      "cell_type": "markdown",
      "metadata": {
        "id": "Y4ZyUkFikUGe"
      },
      "source": [
        "### Calcular $\\pi$ con polígonos regulares\n",
        "\n",
        "Cuando la longitud de la circunferencia se divide por la longitud del diámetro, el valor obtenido siempre se puede redondear a $3.14$ un valor cercano a $\\pi$.\n",
        "\n",
        "Una de las técnicas que se pueden utilizar para encontrar una aproximación más precisa al valor de $\\pi$ fue desarrollada por Arquímedes. El método utilizado por él consiste en calcular una aproximación del valor $\\pi$ mediante polígonos con perímetros muy similares a los de una circunferencia.\n",
        "\n",
        "\n",
        "\n"
      ]
    },
    {
      "cell_type": "markdown",
      "metadata": {
        "id": "bxhBkqq_tf4u"
      },
      "source": [
        "#### Versión simplificada del método poligonal de Arquímedes\n",
        "\n",
        "Primero, dibujamos una circunferencia de radio $r$ y se construyen un cuadrado inscrito y otro cuadrado circunscrito respecto a esta circunferencia. Calculamos el perímetro de ambos cuadrados y los denotamos $p$ y $P$, al perímetro del inscrito y del circunscrito,  respectivamente. Si $C$ es el perímetro de la circunferencia,  entonces valen las siguientes desigualdades:\n",
        "$$\n",
        "p < C < P.\n",
        "$$\n",
        "\n",
        "El perímetro de la circunferencia de radio $r$ es  $C =2\\pi r$, luego:\n",
        "$$\n",
        "p < C < P\\quad \\Rightarrow \\quad \\frac{p}{2r} < \\pi < \\frac{P}{2r}.\n",
        "$$\n",
        "Por lo tanto, $\\pi$ es un número que se encuentra entre los perímetros del cuadrado más pequeño y el cuadrado más grande, ambos divididos por diámetro.\n",
        "\n"
      ]
    },
    {
      "cell_type": "markdown",
      "metadata": {
        "id": "scAg5bkHtf4v"
      },
      "source": [
        "Esto se puede generalizar a polígonos regulares de $n$-lados: si consideramos $r=1$, $p_n$ el perímetro del polígono regular de $n$ lados inscrito en  la circunferencia de radio 1,  $P_n$ el perímetro del polígono regular de $n$ lados circunscrito en  la circunferencia de radio 1 y $C_1 = 2\\pi$ el perímetro de la circunferencia de radio 1,  entonces\n",
        "\\begin{equation}\n",
        "p_n < 2\\pi < P_n\\quad \\Rightarrow  \\quad \\frac{p_n}{2} < \\pi < \\frac{P_n}{2}. \\tag{1}\n",
        "\\end{equation}\n",
        "\n",
        "Ahora bien $p_n = n \\cdot b_n$ donde $b_n$  es la longitud de un lado del polígono. Un poco de trigonometría nos dice que $b_n = 2\\sin({\\frac{360}{n}/2}) = 2\\sin(\\frac{180}{n})$. Luego $p_n = 2n \\sin(\\frac{180}{n})$.\n",
        "\n",
        "De  forma análoga, con un poco de trigonometría,  $P_n = n \\cdot B_n$ donde $B_n$  es la longitud del lado y $B_n = 2\\tan({\\frac{360}{n}/2}) = 2\\tan(\\frac{180}{n})$. Luego $P_n = 2n \\tan(\\frac{180}{n})$.\n",
        "\n",
        "Concluyendo:  reemplazando en la fórmula (1) obtenemos\n",
        "$$\n",
        "p_n < C_1 < P_n\\quad => \\quad n \\sin(\\frac{180}{n}) < \\pi < n \\tan(\\frac{180}{n}).\n",
        "$$"
      ]
    },
    {
      "cell_type": "code",
      "execution_count": null,
      "metadata": {
        "id": "2Mgua-qCkii7",
        "colab": {
          "base_uri": "https://localhost:8080/"
        },
        "outputId": "32d7bd06-c647-44e4-bdcb-686950fbf8b6"
      },
      "outputs": [
        {
          "output_type": "stream",
          "name": "stdout",
          "text": [
            "3.141592601912665\n",
            "3.141592756944053\n",
            "1.550313877274334e-07\n"
          ]
        }
      ],
      "source": [
        "def  calcular_pi_poligono_ins(n: int) -> float:\n",
        "    # pre: n >=3\n",
        "    # post: calcula pi haciendo el polígono regular de n-lados inscripto en una circunferencia de radio 1\n",
        "    angulo = 2 * math.pi / n\n",
        "    base = 2 * math.sin(angulo / 2)\n",
        "    perimetro = n * base # parecido a  2 * PI * radio = 2 * PI\n",
        "    return perimetro / 2\n",
        "\n",
        "print(calcular_pi_poligono_ins(10000))\n",
        "\n",
        "def  calcular_pi_poligono_cir(n: int) -> float:\n",
        "    # pre: n >=3\n",
        "    # post: calcula pi haciendo el polígono regular de n-lados circunscripto a una circunferencia de radio 1\n",
        "    angulo = 2 * math.pi / n\n",
        "    base = 2 * math.tan(angulo / 2)\n",
        "    perimetro = n * base # parecido  2 * PI * radio = 2 * PI\n",
        "    return perimetro / 2\n",
        "\n",
        "print(calcular_pi_poligono_cir(10000))\n",
        "\n",
        "print(calcular_pi_poligono_cir(10000) - calcular_pi_poligono_ins(10000))\n",
        "\n"
      ]
    },
    {
      "cell_type": "markdown",
      "metadata": {
        "id": "HJPqt_1rtf4z"
      },
      "source": [
        "Este método tiene de interesante que nos da una estimación del error que se está cometiendo. Por ejemplo,  como vemos arriba,  con polígonos de 10000 lados sabemos que obtenemos $\\pi$  hasta el 6º decimal.\n",
        "\n",
        "El método de Arquímedes se basaba en que sabiendo los lados de un triángulo de $n$ lados se podía calcular los lados de un triángulo de $2n$ lados, pero esto involucraba unas cuentas muy trabajosas. Con este método calculó aproximaciones de $\\pi$ con polígonos de $3$, $6$, $12$, $24$, $48$ y $96$ lados. Este último cálculo nos da que:"
      ]
    },
    {
      "cell_type": "code",
      "execution_count": null,
      "metadata": {
        "id": "cUM-bKhPtf40",
        "colab": {
          "base_uri": "https://localhost:8080/"
        },
        "outputId": "fc1e3ebe-1b59-4597-8f21-67473a3ac757"
      },
      "outputs": [
        {
          "output_type": "stream",
          "name": "stdout",
          "text": [
            "3.1427145996453683\n",
            "3.1410319508905093\n",
            "0.0016826487548589064\n"
          ]
        }
      ],
      "source": [
        "print(calcular_pi_poligono_cir(96))\n",
        "print(calcular_pi_poligono_ins(96))\n",
        "print(calcular_pi_poligono_cir(96) - calcular_pi_poligono_ins(96))"
      ]
    },
    {
      "cell_type": "markdown",
      "metadata": {
        "id": "sDj4Yv_Ztf41"
      },
      "source": [
        "y por lo tanto\n",
        "$$\n",
        "3.1410319508905093 < \\pi <  3.1427145996453683.\n",
        "$$\n",
        "y la precisión es de 2 decimales."
      ]
    },
    {
      "cell_type": "markdown",
      "metadata": {
        "id": "RCyc5dipk0mk"
      },
      "source": [
        "### Calcular $\\pi$ con el método de Newton\n",
        "\n",
        "La fórmula que obutvo Newton se sigue de un  caso particular de la derivada de la la función arcoseno. Está fuera del alcance de este curso la justificación y demostración de la formula y  solamente vermos  su implementación.\n",
        "\n",
        "Para mas datos ver:\n",
        "\n",
        "-  http://www.pi314.net/eng/newton.php , o\n",
        "\n",
        "- https://www.youtube.com/watch?v=9EJqxZqf63I\n",
        "\n",
        "\n",
        "La fórmula es la siguiente:\n",
        "\n",
        "$$\n",
        "\\pi =  24\\left(\\frac{\\sqrt[2]{3}}{32}- \\sum_{k=0}^\\infty \\frac{ (2k)!}{2^{4k+2}(k!)^2  (2k - 1)  (2k + 3))}\\right)\n",
        " $$\n",
        "\n",
        "\n",
        "\n",
        "\n",
        " Esto significa que $\\pi$ se puede aproximar por la suma \"hasta $n$\". Es decir  dado $n \\ge 0$,\n",
        " $$\n",
        " \\pi/24 \\sim  \\frac{\\sqrt[2]{3}}{32}- \\sum_{k=0}^n \\frac{ (2k)!}{2^{4k+2}(k!)^2  (2k - 1)  (2k + 3))}\n",
        " $$\n",
        "Dicho de otra forma, si  \n",
        "$$a_k = \\frac{ (2k)!}{2^{4k+2}(k!)^2  (2k - 1)  (2k + 3))}\n",
        "$$\n",
        "entonces\n",
        "$$\n",
        "\\pi/24 \\sim  \\frac{\\sqrt[2]{3}}{32}- \\sum_{k=0}^n a_k\n",
        "$$\n",
        "o\n",
        "$$\n",
        "\\pi/24 \\sim  \\frac{\\sqrt[2]{3}}{32}- a_0 - a_1 - a_2 - \\cdots -a_n.\n",
        "$$\n",
        "\n",
        "La implementación es sencilla utilizando la función `math.factorial()`, el factorial."
      ]
    },
    {
      "cell_type": "code",
      "execution_count": null,
      "metadata": {
        "id": "TJUjrfKEk72m",
        "colab": {
          "base_uri": "https://localhost:8080/"
        },
        "outputId": "5fc46e77-8715-4391-e9e1-3c7c03af8c51"
      },
      "outputs": [
        {
          "output_type": "stream",
          "name": "stdout",
          "text": [
            "3.1415926535897936\n"
          ]
        }
      ],
      "source": [
        "def calcular_pi_Newton(n: int ) -> float:\n",
        "    # ver: http://www.pi314.net/eng/newton.php\n",
        "    # calcula  24*(3**0.5 /32 - \\sum_{k=0}^n  0.5**(4*k+2) * (2*k)!/ (k!**2 * (2*k - 1)*(2*k + 3)))\n",
        "    pi24 = 3**0.5 / 32\n",
        "    for k in range(n+1):\n",
        "        pi24 = pi24 -  math.factorial(2*k) / (2**(4*k+2) * math.factorial(k)**2 * (2*k - 1) * (2*k + 3))\n",
        "    return 24 * pi24\n",
        "\n",
        "print(calcular_pi_Newton(50)) # 30 decimales correctos"
      ]
    },
    {
      "cell_type": "markdown",
      "metadata": {
        "id": "zNIA0Qpalf1I"
      },
      "source": [
        "### Cálculo de $\\pi$ moderno (una opción)\n",
        "\n",
        "Ver https://es.wikipedia.org/wiki/F%C3%B3rmula_de_Bailey-Borwein-Plouffe\n",
        "\n",
        "La fórmula Bailey-Borwein-Plouffe (fórmula BBP) es una fórmula para $\\pi$. Fue descubierta en 1995 por Simon Plouffe y lleva el nombre de los autores del artículo en el que fue publicado, David H. Bailey, Peter Borwein y Plouffe. La fórmula es\n",
        "$$\n",
        "\\pi = \\sum_{k = 0}^\\infty \\frac{1}{16^k}\n",
        "\\left( \\frac{4}{8k + 1} - \\frac{2}{8k + 4} - \\frac{1}{8k + 5} - \\frac{1}{8k + 6}\\right).\n",
        "$$\n",
        "\n",
        "Esta fómula permite, aunque no de manera obvia, calular el  $n$-ésimo dígito de $\\pi$ escrito en base $16$ sin calcular los dígitos anteriores.\n",
        "\n",
        "Lo  que no es difícl de ver, basándose en la teoría de escribir un número en una base dada, que el error de las sumatoria hasta $n$  difiere con $\\pi$ en menos de $1/16^n$. Es decir\n",
        "$$\n",
        "0 < \\pi -  \\sum_{k = 0}^n \\frac{1}{16^k}\n",
        "\\left( \\frac{4}{8k + 1} - \\frac{2}{8k + 4} - \\frac{1}{8k + 5} - \\frac{1}{8k + 6}\\right) < \\frac{1}{16^n}.\n",
        "$$\n",
        "Esto se debe  a que lo que multiplica $1/16^k$ en cada término es menor que $16$ (en realidad $<1$ si $k>0$).\n",
        "\n",
        "Para implementar la fórmula observemos  que\n",
        "$$\n",
        "\\frac{1}{16^k} =  \\frac{1}{2^{4k}} =\\left(\\frac{1}{2}\\right)^{4k} = 0.5^{4k}\n",
        "$$"
      ]
    },
    {
      "cell_type": "code",
      "execution_count": null,
      "metadata": {
        "id": "ddR0zDMsl8E9"
      },
      "outputs": [],
      "source": [
        "def calcular_pi_1997(n: int ) -> float:\n",
        "    # ver: https://en.wikipedia.org/wiki/Approximations_of_%CF%80#Efficient_methods\n",
        "    # calcula   \\sum_{k=0}^n  0.5**(4*k) * (4/(8*k + 1) - 2/(8*k + 4) - 1/(8*k + 5) - 1/(8*k + 6))\n",
        "    pi = 0\n",
        "    for k in range(n+1):\n",
        "        pi = pi +  0.5**(4*k) * (4/(8*k + 1) - 2/(8*k + 4) - 1/(8*k + 5) - 1/(8*k + 6))\n",
        "    return pi"
      ]
    },
    {
      "cell_type": "markdown",
      "source": [
        "Pero si queremos implementarlo con mucha precisión lo mejor es usar el  módulo `decimal`. La escritura empeorará mucho, pero mejorará la precisión."
      ],
      "metadata": {
        "id": "tuVrJL99MGkN"
      }
    },
    {
      "cell_type": "code",
      "source": [
        "from decimal import Decimal, getcontext\n",
        "getcontext().prec = 500\n",
        "\n",
        "def calcular_pi_1997(n: int ) -> float:\n",
        "    # ver: https://en.wikipedia.org/wiki/Approximations_of_%CF%80#Efficient_methods\n",
        "    # calcula   \\sum_{k=0}^n  0.5**(4*k) * (4/(8*k + 1) - 2/(8*k + 4) - 1/(8*k + 5) - 1/(8*k + 6))\n",
        "    pi = 0\n",
        "    for k in range(n+1):\n",
        "        pi = pi +  Decimal(0.5)**(4*k) * (Decimal(4)/Decimal(8*k + 1) - Decimal(2)/Decimal(8*k + 4) - Decimal(1)/Decimal(8*k + 5) - Decimal(1)/Decimal(8*k + 6))\n",
        "    return pi"
      ],
      "metadata": {
        "id": "45eBnDjxL_12"
      },
      "execution_count": null,
      "outputs": []
    },
    {
      "cell_type": "markdown",
      "source": [
        "Si calculamos `calcular_pi_1997(n)` el error será menor que`Decimal(1) / Decimal(16**n)`. Probemos agunos casos:"
      ],
      "metadata": {
        "id": "OC-TPXcSPEgu"
      }
    },
    {
      "cell_type": "code",
      "source": [
        "for n in [20, 30, 100, 200, 300]:\n",
        "    print('Si n=', n)\n",
        "    print(calcular_pi_1997(n))\n",
        "    # print('tiene', str(-int(log10(Decimal(1) / Decimal(16**n)))), 'decimales correctos.\\n')\n",
        "    print('tiene error menor que ', str(Decimal(1) / Decimal(16**n)),'\\n')"
      ],
      "metadata": {
        "colab": {
          "base_uri": "https://localhost:8080/"
        },
        "id": "WKAsQcc2PEtK",
        "outputId": "c19efeca-36d3-4a2a-a124-23d875ffbcc0"
      },
      "execution_count": null,
      "outputs": [
        {
          "output_type": "stream",
          "name": "stdout",
          "text": [
            "Si n= 20\n",
            "3.141592653589793238462643381\n",
            "tiene error menor que  8.271806125530276748714086921E-25 \n",
            "\n",
            "Si n= 30\n",
            "3.141592653589793238462643381\n",
            "tiene error menor que  7.523163845262640050999913838E-37 \n",
            "\n",
            "Si n= 100\n",
            "3.141592653589793238462643381\n",
            "tiene error menor que  3.872591914849318272818030633E-121 \n",
            "\n",
            "Si n= 200\n",
            "3.141592653589793238462643381\n",
            "tiene error menor que  1.499696813895630954817644438E-241 \n",
            "\n",
            "Si n= 300\n",
            "3.141592653589793238462643381\n",
            "tiene error menor que  5.807713756217503183283449999E-362 \n",
            "\n"
          ]
        }
      ]
    },
    {
      "cell_type": "markdown",
      "source": [
        "Debemos decir que el cálculo de decimales  de $\\pi$ no es de mucha utilidad y  actualmente se realizan ese tipo de cálculos más para probar la capacidad del hardware que para obtener los dígitos de $\\pi$. Para hacer estos cálculos se utiliza la fórmula de Bailey-Borwein-Plouffe vista más  arriba  o  la fórmula  de Chudnovsky (https://es.wikipedia.org/wiki/Algoritmo_de_Chudnovsky)."
      ],
      "metadata": {
        "id": "JLPPF7F7hviW"
      }
    },
    {
      "cell_type": "markdown",
      "metadata": {
        "id": "brsX00IyBtH7"
      },
      "source": [
        "### El número $e$\n",
        "\n",
        "El número $e$ surge del estudio del interés compuesto, problema abordado por Jacob Bernoulli en 1683.\n",
        "\n",
        "Si se invierte un \\$1  con un interés del 100\\% anual y\n",
        "se pagan los intereses una vez al año, se obtendrán ${}$\\$2.\n",
        "\n",
        "Si se pagan los intereses 2 veces al año, dividiendo el interés entre 2, la cantidad obtenida es ${}$\\$1 multiplicado por $1.5$ dos veces, es decir $1 \\times 1.50^2 = 2.25$.\n",
        "\n",
        "Si dividimos el año en 4 períodos (trimestres), al igual que la tasa de interés, se obtienen $1 \\times 1.25^4 = 2.441\\ldots$\n",
        "\n",
        "En el caso de pagos mensuales el monto asciende a\n",
        "$$\n",
        "(1+\\frac{1}{12})^{12} = 2.61303\\ldots.\n",
        "$$\n",
        "\n",
        "Por tanto, si depositamos 1 peso en un banco que paga 100\\% de interés y promete $n$ actualizaciones o capitalizaciones aun interes de 100/n\\% cada una, el dinero que recuperaremos después de un año\n",
        "\\begin{equation}\n",
        "\\left(1 + \\dfrac{1}{n}\\right)^n \\tag{2}\n",
        "\\end{equation}\n",
        "pesos.\n",
        "\n",
        "Finalmente, si vamos a un banco que ofrece 100% de interés con capitalización \"instantanea\",  contrario a lo que muchos puedan suponer, a lo largo de un año no vamos a entontranos con \"infinito dinero\" sinó con\n",
        "\\begin{equation}\n",
        "e = \\lim_{n \\to \\infty} \\left(1 + \\dfrac{1}{n}\\right)^n = 2.71828\\ldots \\tag{3}\n",
        "\\end{equation}\n",
        "pesos.\n",
        "\n",
        "Una forma sencilla, en una computadora, de calcular $e$  es usar directamente la fórmula (2) como aproximación. Sin embargo,  esta fórmula introduce errores y no es buena computacionalmente.\n",
        "\n",
        "Aqui  implementamos la fórmula (2)  y calculamos una aproximación de $e$ para 4N = 1000$."
      ]
    },
    {
      "cell_type": "code",
      "execution_count": null,
      "metadata": {
        "id": "ZfWageMxqVBF",
        "colab": {
          "base_uri": "https://localhost:8080/"
        },
        "outputId": "53d48058-8b0c-4778-fa36-2d825269eca0"
      },
      "outputs": [
        {
          "output_type": "stream",
          "name": "stdout",
          "text": [
            "2.7169239322355936\n"
          ]
        }
      ],
      "source": [
        "def calcular_e(n: int) -> float:\n",
        "    return (1 + 1 / n)**n\n",
        "\n",
        "e_aprox = calcular_e(1000)\n",
        "print(e_aprox)"
      ]
    },
    {
      "cell_type": "markdown",
      "source": [
        "La función `math.exp` eleva el número $e$ a la potencia indicada como argumento. Es decir `math.exp(1)` es una aproximación de Python al número $e$. Veamos cuanto difiere de la aproximación de $e$ calculada con la fórmula (2):"
      ],
      "metadata": {
        "id": "Q_yA16OO1X11"
      }
    },
    {
      "cell_type": "code",
      "source": [
        "import math\n",
        "print(abs(e_aprox - math.exp(1)))"
      ],
      "metadata": {
        "colab": {
          "base_uri": "https://localhost:8080/"
        },
        "id": "MsUao7sA2Dxq",
        "outputId": "4707d43a-b0d8-46a7-8d48-b8e09ba0bf56"
      },
      "execution_count": null,
      "outputs": [
        {
          "output_type": "stream",
          "name": "stdout",
          "text": [
            "0.0013578962234515046\n"
          ]
        }
      ]
    },
    {
      "cell_type": "markdown",
      "source": [
        "También se puede calcular $e$ usando la serie de  Taylor.\n",
        "$$\n",
        "e = \\sum_{n=0}^\\infty \\frac{1}{n!}.\n",
        "$$\n",
        "Esta forma de calcular $e$ es más adecuada computacionalmente que la fórmula (2) y,  además, nos permite determinar fácilmente la precisión del resultado.   \n",
        "\n",
        "**Ejercicio.** Dado $m$  entero, $m> 0$, implementar la aproximación por series de Taylor de $e$ en grado $m$:\n",
        "$$\n",
        "\\sum_{n=0}^m \\frac{1}{n!}.\n",
        "$$\n"
      ],
      "metadata": {
        "id": "FbWTneiA0YI6"
      }
    },
    {
      "cell_type": "code",
      "source": [],
      "metadata": {
        "id": "oqpYIRzSzPS8"
      },
      "execution_count": null,
      "outputs": []
    }
  ],
  "metadata": {
    "colab": {
      "provenance": []
    },
    "interpreter": {
      "hash": "df45a1d593e760cb2f2d0116876d0d9854c557dc207c92c5b1e029045d5f17a5"
    },
    "kernelspec": {
      "display_name": "Python 3.9.6 64-bit",
      "language": "python",
      "name": "python3"
    },
    "language_info": {
      "codemirror_mode": {
        "name": "ipython",
        "version": 3
      },
      "file_extension": ".py",
      "mimetype": "text/x-python",
      "name": "python",
      "nbconvert_exporter": "python",
      "pygments_lexer": "ipython3",
      "version": "3.9.6"
    }
  },
  "nbformat": 4,
  "nbformat_minor": 0
}