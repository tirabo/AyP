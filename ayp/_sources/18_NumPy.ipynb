{
  "nbformat": 4,
  "nbformat_minor": 0,
  "metadata": {
    "colab": {
      "provenance": []
    },
    "kernelspec": {
      "name": "python3",
      "display_name": "Python 3"
    },
    "language_info": {
      "name": "python"
    }
  },
  "cells": [
    {
      "cell_type": "markdown",
      "metadata": {
        "id": "h7zwTx_hihhj"
      },
      "source": [
        "# Introducción a NumPy\n",
        "\n",
        "**Referencias:**\n",
        "\n",
        "- https://www.freecodecamp.org/espanol/news/la-guia-definitiva-del-paquete-numpy-para-computacion-cientifica-en-python/\n",
        "- https://numpy.org/doc/stable/\n",
        "- http://www.denebola.org/japp/CC/numpy.html\n",
        "\n",
        "*Esencialmente* NumPy es una biblioteca donde la estructura más destacada es la de *arreglo* o *array* en inglés. NumPy también permite a los desarrolladores o usuarios de Python realizar en forma rápida una amplia variedad de cálculos numéricos en arreglos considerados \"inmensos\".\n",
        "\n",
        "Es de mucho uso en las aplicaciones numéricas y  en ciencia de datos."
      ]
    },
    {
      "cell_type": "markdown",
      "source": [
        "## 1. ¿Qué es NumPy?\n",
        "NumPy es el paquete fundamental para la computación científica en Python. Es una biblioteca de Python que proporciona matrices multidimensionales, varios objetos derivados (como matrices y matrices enmascaradas), y un surtido de rutinas para realizar operaciones rápidas con matrices, incluyendo operaciones matemáticas, lógicas, de manipulación de formas, de ordenación, de selección, de E/S, de transformadas discretas de Fourier, de álgebra lineal básica, de operaciones estadísticas básicas, de simulación aleatoria y mucho más.\n",
        "\n",
        "**Principales características**\n",
        "\n",
        "1. POTENTES ARRAYS N-DIMENSIONALES.\n",
        "Rápidos y versátiles, los conceptos de vectorización, indexación y difusión de NumPy son los estándares de facto de la computación de arrays hoy en día.\n",
        "2. HERRAMIENTAS DE CÁLCULO NUMÉRICO.\n",
        "NumPy ofrece funciones matemáticas completas, generadores de números aleatorios, rutinas de álgebra lineal, transformadas de Fourier y mucho más.\n",
        "3. INTEROPERABLE. NumPy es compatible con una amplia gama de plataformas de hardware y de computación, y funciona bien con bibliotecas distribuidas, de GPU y de matrices dispersas.\n",
        "4. RENDIMIENTO. El núcleo de NumPy es un código C bien optimizado. Se utiliza la flexibilidad de Python y la velocidad del código compilado.\n",
        "5. FÁCIL DE USAR. La sintaxis de alto nivel de NumPy lo hace accesible y productivo para programadores de cualquier nivel de experiencia.\n",
        "6. CÓDIGO ABIERTO. Distribuido bajo una licencia  BSD, NumPy es desarrollado y mantenido públicamente en GitHub por una activa comunidad de programadores."
      ],
      "metadata": {
        "id": "dTWmJAGrtXH6"
      }
    },
    {
      "cell_type": "markdown",
      "metadata": {
        "id": "RedsdQwgcq0d"
      },
      "source": [
        "## 2. Instalación de NumPy\n",
        "\n",
        "En Colab no es necesario hacer ninguna instalación para utilizar NumPy, solo hay que importarlo y usarlo.\n",
        "\n",
        "En  el caso de una instalación de Python en una PC, se debe instalar haciendo\n",
        "\n",
        "\n",
        "```\n",
        "pip install numpy\n",
        "```\n",
        "\n",
        "En  Colab o una vez instalado en  una PC se lo puede utilizar haciendo la siguiente instrucción:\n"
      ]
    },
    {
      "cell_type": "code",
      "source": [
        "import numpy as np"
      ],
      "metadata": {
        "id": "ybSlvg1BwKe4"
      },
      "execution_count": null,
      "outputs": []
    },
    {
      "cell_type": "markdown",
      "source": [
        "La tradición es renombrar `numpy` como `np`, pero se podría haber elegido otro nombre."
      ],
      "metadata": {
        "id": "9G8zF8STxYy4"
      }
    },
    {
      "cell_type": "markdown",
      "source": [
        "## 3. Arreglos de NumPy: introducción\n",
        "En esta sección aprenderemos algunas características de los arreglos de NumPy.\n",
        "\n",
        "**¿Qué son los Arreglos de NumPy?**\n",
        "\n",
        "Los arreglos NumPy son la forma principal de almacenar datos utilizando la biblioteca NumPy. Son similares a las listas normales en Python, pero tienen la ventaja de ser más rápidos y tener más métodos integrados.\n",
        "\n",
        "Los arreglos de NumPy son creados llamando al método `array()` de la biblioteca de NumPy. Dentro del método, se debería pasar una lista.\n",
        "\n",
        "A continuación, se muestra un ejemplo de un arreglo de NumPy básico.\n"
      ],
      "metadata": {
        "id": "d-qUMdu1xyVq"
      }
    },
    {
      "cell_type": "code",
      "source": [
        "sample_list = [1, 2, 3]\n",
        "arreglo_np = np.array(sample_list)\n",
        "print(type(arreglo_np), arreglo_np)"
      ],
      "metadata": {
        "id": "aR-dsYJGyYMu",
        "colab": {
          "base_uri": "https://localhost:8080/"
        },
        "outputId": "4999637f-404a-45e1-df2b-a8acecac37c8"
      },
      "execution_count": null,
      "outputs": [
        {
          "output_type": "stream",
          "name": "stdout",
          "text": [
            "<class 'numpy.ndarray'> [1 2 3]\n"
          ]
        }
      ]
    },
    {
      "cell_type": "markdown",
      "source": [
        "Otro ejemplo:"
      ],
      "metadata": {
        "id": "CEL2l1YHitGy"
      }
    },
    {
      "cell_type": "code",
      "source": [
        "sample_list = [1.0, 2, 3]\n",
        "print(np.array(sample_list))\n",
        "np.array(sample_list)"
      ],
      "metadata": {
        "id": "P4m-Z8m0iv-U",
        "colab": {
          "base_uri": "https://localhost:8080/"
        },
        "outputId": "9695b3f5-a8f9-48e8-e600-6f3c5ca87144"
      },
      "execution_count": null,
      "outputs": [
        {
          "output_type": "stream",
          "name": "stdout",
          "text": [
            "[1. 2. 3.]\n"
          ]
        },
        {
          "output_type": "execute_result",
          "data": {
            "text/plain": [
              "array([1., 2., 3.])"
            ]
          },
          "metadata": {},
          "execution_count": 4
        }
      ]
    },
    {
      "cell_type": "markdown",
      "source": [
        "Como hemos observado, la última línea de ese bloque de código dará como resultado una salida que se ve así.\n",
        "\n",
        "```\n",
        "array([1.,2.,3.])\n",
        "```\n",
        "\n",
        "El contenedor `array()` indica que esta ya no es una lista normal de Python. En cambio, es un arreglo de NumPy.\n",
        "\n",
        "Además,  como uno de los números ingresados es  un `float`, convierte todo a `float`.\n",
        "\n"
      ],
      "metadata": {
        "id": "E9UF7oejyZ3x"
      }
    },
    {
      "cell_type": "markdown",
      "source": [
        "**Los dos tipos diferentes de arreglos de NumPy**\n",
        "\n",
        "Hay dos tipos diferentes de arreglos de NumPy: *vectores* y *matrices.*\n",
        "\n",
        "Los vectores son arreglos de NumPy uni-dimensionales y se ven así:\n",
        "\n",
        "```\n",
        "my_vector = np.array(['este', 'es', 'un', 'vector'])\n",
        "```\n",
        "\n",
        "Las matrices son arreglo bi-dimensionales y son creadas pasando una lista de listas dentro del método `np.array()`. Un ejemplo es el siguiente.\n",
        "\n",
        "```\n",
        "my_matrix = [[1, 2, 3],[4, 5, 6],[7, 8, 9]]\n",
        "np.array(my_matrix)\n",
        "```\n",
        "\n",
        "También se pueden expandir los arreglos de NumPy para trabajar con matrices de tres, cuatro, cinco, seis o más dimensiones."
      ],
      "metadata": {
        "id": "_wNf5XnojIL0"
      }
    },
    {
      "cell_type": "code",
      "source": [
        "my_matrix = [[1, 2, 3],[4, 5, 6],[7, 8, 9]]\n",
        "print('Tipo de my_matrix:', type(my_matrix))\n",
        "print('Tipo de un elemento de my_matrix:',type(my_matrix[0]))\n",
        "matriz = np.array(my_matrix)\n",
        "print('Tipo de matriz:',type(matriz))\n",
        "print('Tipo de un elemento de matriz:',type(matriz[0]))"
      ],
      "metadata": {
        "id": "goIu6bMD9IqG",
        "colab": {
          "base_uri": "https://localhost:8080/"
        },
        "outputId": "eee04aa3-306c-4661-fcdc-a7901b69a654"
      },
      "execution_count": null,
      "outputs": [
        {
          "output_type": "stream",
          "name": "stdout",
          "text": [
            "Tipo de my_matrix: <class 'list'>\n",
            "Tipo de un elemento de my_matrix: <class 'list'>\n",
            "Tipo de matriz: <class 'numpy.ndarray'>\n",
            "Tipo de un elemento de matriz: <class 'numpy.ndarray'>\n"
          ]
        }
      ]
    },
    {
      "cell_type": "code",
      "source": [
        "f1 = np.array([1, 2, 3])\n",
        "f2 = np.array([4, 5, 6])\n",
        "f3 = np.array([7, 8, 9])\n",
        "mm = np.array([f1, f2, f3])\n",
        "print('Tipo de mm:',type(mm[0]))\n",
        "print('mm:',mm)\n",
        "print('matrix:',matriz)\n",
        "print('\\nSorpresa:\\n', matriz == mm)"
      ],
      "metadata": {
        "id": "7x8t1HAhFOiR",
        "colab": {
          "base_uri": "https://localhost:8080/"
        },
        "outputId": "9e00e1b4-4e90-4cd1-b4da-142476aefe6f"
      },
      "execution_count": null,
      "outputs": [
        {
          "output_type": "stream",
          "name": "stdout",
          "text": [
            "Tipo de mm: <class 'numpy.ndarray'>\n",
            "mm: [[1 2 3]\n",
            " [4 5 6]\n",
            " [7 8 9]]\n",
            "matrix: [[1 2 3]\n",
            " [4 5 6]\n",
            " [7 8 9]]\n",
            "\n",
            "Sorpresa:\n",
            " [[ True  True  True]\n",
            " [ True  True  True]\n",
            " [ True  True  True]]\n"
          ]
        }
      ]
    },
    {
      "cell_type": "markdown",
      "source": [
        "Como se puede observar en  la última línea de la celda de código anterior,  el  operador `==` no compara la igualdad de dos arreglos de Numpy, sino que crea un arreglo donde en cada coordenada da el valor de la igualdad en la misma coordenada de los arreglos correspondiente."
      ],
      "metadata": {
        "id": "XHQICo-0jrMn"
      }
    },
    {
      "cell_type": "markdown",
      "source": [
        "Para comprobar que dos arrays NumPy son iguales existe una instrucción especial:"
      ],
      "metadata": {
        "id": "Vdq4l-FyWirm"
      }
    },
    {
      "cell_type": "code",
      "source": [
        "if np.array_equal(matriz, mm):\n",
        "    print(\"Los arrays son iguales\")\n",
        "else:\n",
        "    print(\"Los arrays son diferentes\")"
      ],
      "metadata": {
        "id": "j7CGfuQMWpQu",
        "colab": {
          "base_uri": "https://localhost:8080/"
        },
        "outputId": "749b7588-41e6-4445-c089-12a33bc786fe"
      },
      "execution_count": null,
      "outputs": [
        {
          "output_type": "stream",
          "name": "stdout",
          "text": [
            "Los arrays son iguales\n"
          ]
        }
      ]
    },
    {
      "cell_type": "markdown",
      "source": [
        "**Tipos en un arreglo NumPy**\n",
        "\n",
        "A diferencia de listas, los elementos de un arreglo de NumPy son todos del mismo tipo,  no podemos hacer arreglos heterogeneos. Los tipos de los elementos de un arreglo NumPy  son tipos propios de NumPy:"
      ],
      "metadata": {
        "id": "LifRTf6WRwPS"
      }
    },
    {
      "cell_type": "code",
      "source": [
        "arr_str = np.array(['este', 'es', 'un', 'vector'])\n",
        "print(type(arr_str))\n",
        "print(type(arr_str[0]))"
      ],
      "metadata": {
        "id": "2ujKqj8dSPg2",
        "colab": {
          "base_uri": "https://localhost:8080/"
        },
        "outputId": "81da8a75-a083-4934-a799-fff10337d0fc"
      },
      "execution_count": null,
      "outputs": [
        {
          "output_type": "stream",
          "name": "stdout",
          "text": [
            "<class 'numpy.ndarray'>\n",
            "<class 'numpy.str_'>\n"
          ]
        }
      ]
    },
    {
      "cell_type": "code",
      "source": [
        "arr_int = np.array([1, 2, 3, 4])\n",
        "print(type(arr_int))\n",
        "print(type(arr_int[0]))"
      ],
      "metadata": {
        "id": "MxNN8hQMSf7Y",
        "colab": {
          "base_uri": "https://localhost:8080/"
        },
        "outputId": "2672b7f3-9a07-452a-a104-002b8987f5f4"
      },
      "execution_count": null,
      "outputs": [
        {
          "output_type": "stream",
          "name": "stdout",
          "text": [
            "<class 'numpy.ndarray'>\n",
            "<class 'numpy.int64'>\n"
          ]
        }
      ]
    },
    {
      "cell_type": "code",
      "source": [
        "arr_str2 = np.array([1, '2', 3.0, 4])\n",
        "print(type(arr_str2))\n",
        "print(type(arr_str2[0]))"
      ],
      "metadata": {
        "id": "XbctSkg_6Znf",
        "colab": {
          "base_uri": "https://localhost:8080/"
        },
        "outputId": "d22ce728-a8f8-431e-a026-cef238a35485"
      },
      "execution_count": null,
      "outputs": [
        {
          "output_type": "stream",
          "name": "stdout",
          "text": [
            "<class 'numpy.ndarray'>\n",
            "<class 'numpy.str_'>\n"
          ]
        }
      ]
    },
    {
      "cell_type": "markdown",
      "source": [
        "Observar que si cuando definimos un arreglo donde hay cadenas,  el arreglo se considera de cadenas."
      ],
      "metadata": {
        "id": "oSkn80z1llHH"
      }
    },
    {
      "cell_type": "code",
      "source": [
        "arr_float = np.array([1, 2., 3, 4])\n",
        "print(type(arr_float))\n",
        "print(type(arr_float[0]))"
      ],
      "metadata": {
        "id": "g2IL-ee2SgFS",
        "colab": {
          "base_uri": "https://localhost:8080/"
        },
        "outputId": "5bb6ad9e-1973-4ac5-86e4-2288a930caf6"
      },
      "execution_count": null,
      "outputs": [
        {
          "output_type": "stream",
          "name": "stdout",
          "text": [
            "<class 'numpy.ndarray'>\n",
            "<class 'numpy.float64'>\n"
          ]
        }
      ]
    },
    {
      "cell_type": "markdown",
      "source": [
        "Observar que si cuando definimos un arreglo donde hay decimales y enteros,  el arreglo se considera de decimales.\n"
      ],
      "metadata": {
        "id": "A-OVgxf8S2tD"
      }
    },
    {
      "cell_type": "markdown",
      "source": [
        "**Inserción de elementos en un arreglo**\n",
        "\n",
        "Para añadir elementos, NumPy tiene las funciones `insert()` y `append()`, que funcionan de manera similar a sus equivalentes en listas, pero en este caso son funciones y no métodos que se aplican a un array:\n"
      ],
      "metadata": {
        "id": "vPMlEdsbP2js"
      }
    },
    {
      "cell_type": "code",
      "source": [
        "z = np.array([5.6, 7.3, 7.7, 2.3, 4.2, 9.2, 7.])\n",
        "# Añadimos el elemento 100 al array z, al final\n",
        "print(z)\n",
        "z = np.append(z, 100)\n",
        "print(z)"
      ],
      "metadata": {
        "id": "m2pNCiIaQQg8",
        "colab": {
          "base_uri": "https://localhost:8080/"
        },
        "outputId": "ec2b9bde-9418-4409-b7f7-6fb55df4d567"
      },
      "execution_count": null,
      "outputs": [
        {
          "output_type": "stream",
          "name": "stdout",
          "text": [
            "[5.6 7.3 7.7 2.3 4.2 9.2 7. ]\n",
            "[  5.6   7.3   7.7   2.3   4.2   9.2   7.  100. ]\n"
          ]
        }
      ]
    },
    {
      "cell_type": "code",
      "source": [
        "# Añadimos el elemento 200 al array z, en el tercer puesto (índice 2)\n",
        "z = np.insert(z, 2, 200)\n",
        "print(z)"
      ],
      "metadata": {
        "id": "JRUG8SJwQu91",
        "colab": {
          "base_uri": "https://localhost:8080/"
        },
        "outputId": "eeddfe64-a841-4645-e31c-8c690bcbddbd"
      },
      "execution_count": null,
      "outputs": [
        {
          "output_type": "stream",
          "name": "stdout",
          "text": [
            "[  5.6   7.3 200.    7.7   2.3   4.2   9.2   7.  100. ]\n"
          ]
        }
      ]
    },
    {
      "cell_type": "markdown",
      "source": [
        "\n",
        "Como se ve, a diferencia de las listas, el primer parámetro es el array y luego el elemento que se quiere añadir, en el caso de `append()` y el array, la posición y luego elemento a añadir en el caso de `insert()`.\n",
        "\n",
        "Si a un arrgelo Numpy  se la hace el append de una lista u otro arreglo Numpy  añade todos los elementos de la lista o arreglo  \n",
        "\n"
      ],
      "metadata": {
        "id": "21ZvXrQ1QQxO"
      }
    },
    {
      "cell_type": "code",
      "source": [
        "z = np.array([5.6, 7.3, 7.7, 2.3, 4.2, 9.2, 7.])\n",
        "w = [1,2,3]\n",
        "z = np.append(z, w)\n",
        "print(z)"
      ],
      "metadata": {
        "id": "BfYh-IFAmdML",
        "colab": {
          "base_uri": "https://localhost:8080/"
        },
        "outputId": "2cab7be9-b3c0-4a06-9b97-361c2aebbfeb"
      },
      "execution_count": null,
      "outputs": [
        {
          "output_type": "stream",
          "name": "stdout",
          "text": [
            "[5.6 7.3 7.7 2.3 4.2 9.2 7.  1.  2.  3. ]\n"
          ]
        }
      ]
    },
    {
      "cell_type": "markdown",
      "source": [
        "Si se hace un `insert()` de una lista,  se inserta la lista o arreglo en la posición indicada."
      ],
      "metadata": {
        "id": "LSIoahk_nKxQ"
      }
    },
    {
      "cell_type": "code",
      "source": [
        "z = np.array([5.6, 7.3, 7.7, 2.3, 4.2, 9.2, 7.])\n",
        "print(z)\n",
        "u = np.array([1,2,3])\n",
        "z = np.insert(z, 2, w)\n",
        "print(z)"
      ],
      "metadata": {
        "id": "__MlvglJnJoZ",
        "colab": {
          "base_uri": "https://localhost:8080/"
        },
        "outputId": "77657f8b-1a7a-471b-cb5d-27812f948eb7"
      },
      "execution_count": null,
      "outputs": [
        {
          "output_type": "stream",
          "name": "stdout",
          "text": [
            "[5.6 7.3 7.7 2.3 4.2 9.2 7. ]\n",
            "[5.6 7.3 1.  2.  3.  7.7 2.3 4.2 9.2 7. ]\n"
          ]
        }
      ]
    },
    {
      "cell_type": "markdown",
      "source": [
        "La inserción de un `float` en un arreglo de `int` crea un arreglo de `float`. La inserción de un `int` en un arreglo de `float` transforma el `int` en `float` y lo inserta."
      ],
      "metadata": {
        "id": "Ao6FZmtvm15K"
      }
    },
    {
      "cell_type": "markdown",
      "source": [
        "## 4. Indexación y asignación en NumPy\n",
        "En esta sección, exploraremos la indexación y la asignación en arreglos NumPy.\n",
        "\n",
        "Primero creamos un arreglo para ejemplificar las operaciones"
      ],
      "metadata": {
        "id": "DTHYEQip0l9a"
      }
    },
    {
      "cell_type": "code",
      "source": [
        "tupla_ejemplo = (0.2, 1.3, 2.4, 3.5, 4.6)\n",
        "arr = np.array(tupla_ejemplo) # se puede convertir una tupla en array numpy\n",
        "print(arr)"
      ],
      "metadata": {
        "id": "IEA6Pchn1R7z",
        "colab": {
          "base_uri": "https://localhost:8080/"
        },
        "outputId": "93359fb4-5f25-45f8-f931-140b94c20d29"
      },
      "execution_count": null,
      "outputs": [
        {
          "output_type": "stream",
          "name": "stdout",
          "text": [
            "[0.2 1.3 2.4 3.5 4.6]\n"
          ]
        }
      ]
    },
    {
      "cell_type": "markdown",
      "source": [
        "Este ejemplo es con un arreglo de 5 elementos de tipo `float`.\n",
        "\n",
        "Podemos seleccionar (y retornar) un elemento específico desde un arreglo NumPy de la misma forma que realiza con una lista normal de Python: usando los corchetes.\n",
        "\n",
        "Un ejemplo se ve a continuación:"
      ],
      "metadata": {
        "id": "vsg7i7X71SIu"
      }
    },
    {
      "cell_type": "code",
      "source": [
        "print(arr[0] , type(arr[0]))"
      ],
      "metadata": {
        "id": "G4IouGIb2dcU",
        "colab": {
          "base_uri": "https://localhost:8080/"
        },
        "outputId": "276f7d40-f90e-424c-99a4-199b86aaf590"
      },
      "execution_count": null,
      "outputs": [
        {
          "output_type": "stream",
          "name": "stdout",
          "text": [
            "0.2 <class 'numpy.float64'>\n"
          ]
        }
      ]
    },
    {
      "cell_type": "markdown",
      "source": [
        "que imprime el valor de la primera posición del arreglo y su tipo.\n",
        "\n",
        "Como podemos observar el tipo dentro de un arreglo NumPy es propio de NumPy.\n",
        "\n",
        "También podemos referenciar múltiples elementos de un arreglo NumPy usando la notación slice. Por ejemplo,\n"
      ],
      "metadata": {
        "id": "R2lJNAoW2d-V"
      }
    },
    {
      "cell_type": "code",
      "source": [
        "print(arr)\n",
        "print(arr[0:2])\n",
        "print(arr[2:4])\n",
        "print(arr[:])\n",
        "print(arr[0:4:2]) # es el arreglo desde el corte 0 al corte 4 saltando de a 2."
      ],
      "metadata": {
        "id": "NNGurB4l3Gta",
        "colab": {
          "base_uri": "https://localhost:8080/"
        },
        "outputId": "e8f9b6ac-0e03-40c1-9ab6-6399383a29ce"
      },
      "execution_count": null,
      "outputs": [
        {
          "output_type": "stream",
          "name": "stdout",
          "text": [
            "[0.2 1.3 2.4 3.5 4.6]\n",
            "[0.2 1.3]\n",
            "[2.4 3.5]\n",
            "[0.2 1.3 2.4 3.5 4.6]\n",
            "[0.2 2.4]\n"
          ]
        }
      ]
    },
    {
      "cell_type": "markdown",
      "source": [
        "La última forma,  aunque no lo hemos visto,  se puede hacer en las litas usuales de Python:"
      ],
      "metadata": {
        "id": "HzLsFub4O3eV"
      }
    },
    {
      "cell_type": "code",
      "source": [
        "lista = [0.2, 1.3, 2.4, 3.5, 4.6]\n",
        "lista[0:4:2]"
      ],
      "metadata": {
        "id": "_T1vVd7uIVL8",
        "colab": {
          "base_uri": "https://localhost:8080/"
        },
        "outputId": "505e2597-6344-4395-fe4d-233bdc48da89"
      },
      "execution_count": null,
      "outputs": [
        {
          "output_type": "execute_result",
          "data": {
            "text/plain": [
              "[0.2, 2.4]"
            ]
          },
          "metadata": {},
          "execution_count": 19
        }
      ]
    },
    {
      "cell_type": "markdown",
      "source": [
        "Observamos recién que la notación corchete y la notación slice de los arreglos de NumPy  se comporta de manera similar a la de listas de Python. Por otro lado,  veremos a continuación que la asignación se comporta en forma similar, pero no idéntica.\n",
        "\n",
        "Podemos asignar nuevos valores a un elemento de un arreglo NumPy usando el operador `=`, al igual que las listas de Python normales. A continuación se muestran algunos ejemplos.\n",
        "\n"
      ],
      "metadata": {
        "id": "BuWT3A2u3HJR"
      }
    },
    {
      "cell_type": "code",
      "source": [
        "print(arr)\n",
        "arr[1] = 5.7\n",
        "print(arr)"
      ],
      "metadata": {
        "id": "Ibxpcniv4c3Z",
        "colab": {
          "base_uri": "https://localhost:8080/"
        },
        "outputId": "7d9cad9c-2e94-4355-95ab-7c66ea998b16"
      },
      "execution_count": null,
      "outputs": [
        {
          "output_type": "stream",
          "name": "stdout",
          "text": [
            "[0.2 1.3 2.4 3.5 4.6]\n",
            "[0.2 5.7 2.4 3.5 4.6]\n"
          ]
        }
      ]
    },
    {
      "cell_type": "markdown",
      "source": [
        "Pero NumPy ofrece algunas operaciones de asignación novedosas y que en muchos casos agilizan el trabajo.\n",
        "\n",
        "Por  ejemplo,  si queremos que todos los valores del array tengan un valor determinado:"
      ],
      "metadata": {
        "id": "DPC8JEyJ4dC_"
      }
    },
    {
      "cell_type": "code",
      "source": [
        "arr[:] = 0.0\n",
        "print(arr)"
      ],
      "metadata": {
        "id": "s1ynrCmK5H8y",
        "colab": {
          "base_uri": "https://localhost:8080/"
        },
        "outputId": "84564cc9-d014-4b96-f63d-b0eac7650bab"
      },
      "execution_count": null,
      "outputs": [
        {
          "output_type": "stream",
          "name": "stdout",
          "text": [
            "[0. 0. 0. 0. 0.]\n"
          ]
        }
      ]
    },
    {
      "cell_type": "markdown",
      "source": [
        "reemplaza todos los valores de `arr` por `0.0`.\n",
        "\n",
        "Definamos otro array:"
      ],
      "metadata": {
        "id": "OZOYxMNV5IHb"
      }
    },
    {
      "cell_type": "code",
      "source": [
        "otro_arr = np.array([0.12, 0.94, 0.66, 0.73, 0.83])\n",
        "print(otro_arr)"
      ],
      "metadata": {
        "id": "9AkBMKHd5xeM",
        "colab": {
          "base_uri": "https://localhost:8080/"
        },
        "outputId": "3474682b-b1e5-43d7-fa0e-53443e6fab9a"
      },
      "execution_count": null,
      "outputs": [
        {
          "output_type": "stream",
          "name": "stdout",
          "text": [
            "[0.12 0.94 0.66 0.73 0.83]\n"
          ]
        }
      ]
    },
    {
      "cell_type": "markdown",
      "source": [
        "Podemos reemplazar los valores en cierto rango del array por un valor determinado:"
      ],
      "metadata": {
        "id": "gQQZ1UFq5xo3"
      }
    },
    {
      "cell_type": "code",
      "source": [
        "otro_arr[2:4] = 0.5\n",
        "print(otro_arr)"
      ],
      "metadata": {
        "id": "jYFqiXfN7rSz",
        "colab": {
          "base_uri": "https://localhost:8080/"
        },
        "outputId": "cf7dfb64-1726-4743-a0cb-2617a4261d8b"
      },
      "execution_count": null,
      "outputs": [
        {
          "output_type": "stream",
          "name": "stdout",
          "text": [
            "[0.12 0.94 0.5  0.5  0.83]\n"
          ]
        }
      ]
    },
    {
      "cell_type": "markdown",
      "source": [
        "Observar que reemplazó los índices 2 y 3 por el valor `0.5`.\n",
        "\n",
        "Podemos también reemplazar una porción de un array por otro array del mismo tamaño que la porción:"
      ],
      "metadata": {
        "id": "lo6LNyj57reP"
      }
    },
    {
      "cell_type": "code",
      "source": [
        "otro_arr[2:4] = np.array([6.5, 7.1])\n",
        "print(otro_arr)"
      ],
      "metadata": {
        "id": "bBK-LdDZ8Mdy",
        "colab": {
          "base_uri": "https://localhost:8080/"
        },
        "outputId": "e49237fe-65a3-449c-c808-15e567e19201"
      },
      "execution_count": null,
      "outputs": [
        {
          "output_type": "stream",
          "name": "stdout",
          "text": [
            "[0.12 0.94 6.5  7.1  0.83]\n"
          ]
        }
      ]
    },
    {
      "cell_type": "markdown",
      "source": [
        "Hay muchas otras formas posibles de asignación  que resultan útiles para diversos contextos."
      ],
      "metadata": {
        "id": "91MdnXCT842m"
      }
    },
    {
      "cell_type": "markdown",
      "source": [
        "Hasta ahora en la sección, solo hemos explorado cómo hacer referencia a arreglos NumPy unidimensionales. Ahora exploraremos la indexación de matrices bidimensionales.\n",
        "\n",
        "\n",
        "Para comenzar, creemos un arreglo NumPy de dos dimensiones llamado `mat`:\n"
      ],
      "metadata": {
        "id": "dU5zT07cAQ8C"
      }
    },
    {
      "cell_type": "code",
      "source": [
        "mat = np.array([[5, 10, 15, 17],[20, 25, 30, 32],[35, 40, 45, 47]])\n",
        "print(mat)"
      ],
      "metadata": {
        "id": "y3noGvsDAvEI",
        "colab": {
          "base_uri": "https://localhost:8080/"
        },
        "outputId": "43ce4961-80a8-4e6b-af6b-ac678a2fb3ea"
      },
      "execution_count": null,
      "outputs": [
        {
          "output_type": "stream",
          "name": "stdout",
          "text": [
            "[[ 5 10 15 17]\n",
            " [20 25 30 32]\n",
            " [35 40 45 47]]\n"
          ]
        }
      ]
    },
    {
      "cell_type": "markdown",
      "source": [
        "Hay dos formas de indexar un arreglo NumPy de dos dimensiones:\n",
        "\n",
        "```\n",
        "mat[fila, columna]\n",
        "mat[fila][columna]\n",
        "```\n",
        "\n",
        "Por ejemplo, primero obtengamos la primera fila:\n"
      ],
      "metadata": {
        "id": "GpV58yt8AvRO"
      }
    },
    {
      "cell_type": "code",
      "source": [
        "mat[0, :]"
      ],
      "metadata": {
        "id": "Sn47PzdKBa52",
        "colab": {
          "base_uri": "https://localhost:8080/"
        },
        "outputId": "c462983b-61c3-4875-ff53-561c97fa4293"
      },
      "execution_count": null,
      "outputs": [
        {
          "output_type": "execute_result",
          "data": {
            "text/plain": [
              "array([ 5, 10, 15, 17])"
            ]
          },
          "metadata": {},
          "execution_count": 26
        }
      ]
    },
    {
      "cell_type": "markdown",
      "source": [
        "Luego, obtengamos el último elemento de la primera fila:\n",
        "\n"
      ],
      "metadata": {
        "id": "8cFadXbRBbE5"
      }
    },
    {
      "cell_type": "code",
      "source": [
        "mat[0,-1]"
      ],
      "metadata": {
        "id": "_wBMhPf49SDm",
        "colab": {
          "base_uri": "https://localhost:8080/"
        },
        "outputId": "8670f1c9-8501-4678-a9e3-b45844d92136"
      },
      "execution_count": null,
      "outputs": [
        {
          "output_type": "execute_result",
          "data": {
            "text/plain": [
              "17"
            ]
          },
          "metadata": {},
          "execution_count": 27
        }
      ]
    },
    {
      "cell_type": "markdown",
      "source": [
        "\n",
        "También puede generar submatrices a partir de un arreglo NumPy bidimensional utilizando esta notación:"
      ],
      "metadata": {
        "id": "yb_qdf4f9SOI"
      }
    },
    {
      "cell_type": "code",
      "source": [
        "mat[1:3,:]"
      ],
      "metadata": {
        "id": "ZIuZh_Z0BuC4",
        "colab": {
          "base_uri": "https://localhost:8080/"
        },
        "outputId": "9200732f-63c3-47c2-e9f3-e3755bf4fd8e"
      },
      "execution_count": null,
      "outputs": [
        {
          "output_type": "execute_result",
          "data": {
            "text/plain": [
              "array([[20, 25, 30, 32],\n",
              "       [35, 40, 45, 47]])"
            ]
          },
          "metadata": {},
          "execution_count": 28
        }
      ]
    },
    {
      "cell_type": "code",
      "source": [
        "mat[1:3,1:2]"
      ],
      "metadata": {
        "id": "uSdMVYgGBrbw",
        "colab": {
          "base_uri": "https://localhost:8080/"
        },
        "outputId": "fdd40acd-2c09-4eab-e9b3-d4ab71195d26"
      },
      "execution_count": null,
      "outputs": [
        {
          "output_type": "execute_result",
          "data": {
            "text/plain": [
              "array([[25],\n",
              "       [40]])"
            ]
          },
          "metadata": {},
          "execution_count": 29
        }
      ]
    },
    {
      "cell_type": "code",
      "source": [
        "mat[:,1]"
      ],
      "metadata": {
        "id": "YIyg5KU0CBNr",
        "colab": {
          "base_uri": "https://localhost:8080/"
        },
        "outputId": "ab425971-9d54-4a51-9b2b-c341d31c5b1b"
      },
      "execution_count": null,
      "outputs": [
        {
          "output_type": "execute_result",
          "data": {
            "text/plain": [
              "array([10, 25, 40])"
            ]
          },
          "metadata": {},
          "execution_count": 30
        }
      ]
    },
    {
      "cell_type": "markdown",
      "source": [
        "Cuando usamos `mat[:, 1]`, estamos seleccionando la segunda columna del arreglo `mat`. Esta operación devuelve un arreglo unidimensional (o vector) que contiene los elementos de la segunda columna."
      ],
      "metadata": {
        "id": "4mcAtlbWTORG"
      }
    },
    {
      "cell_type": "code",
      "source": [
        "mat[:,1:2] #"
      ],
      "metadata": {
        "id": "-ZdgAqKXlzpX",
        "colab": {
          "base_uri": "https://localhost:8080/"
        },
        "outputId": "3b754133-5cf7-49e2-8730-f74d4ea027cc"
      },
      "execution_count": null,
      "outputs": [
        {
          "output_type": "execute_result",
          "data": {
            "text/plain": [
              "array([[10],\n",
              "       [25],\n",
              "       [40]])"
            ]
          },
          "metadata": {},
          "execution_count": 31
        }
      ]
    },
    {
      "cell_type": "markdown",
      "source": [
        "Cuando hacemos `mat[:, 1:2]`, estás seleccionando un \"rebanada\" del arreglo `mat` que incluye todas las filas y la segunda columna. Aunque estás seleccionando la misma columna que en el caso anterior, la diferencia es que la notación `1:`2 devuelve un subarreglo bidimensional,  en este caso 3 filas y 1 columna."
      ],
      "metadata": {
        "id": "oqWsAlZdTgi2"
      }
    },
    {
      "cell_type": "markdown",
      "source": [
        "## 5. Referenciación de arreglos en NumPy\n",
        "\n",
        "NumPy hace uso de un concepto llamado *referencia de arreglos* (array referencing) que es una fuente común de confusiones para las personas que son nuevas en la biblioteca.\n",
        "\n",
        "Para entender la referencia de arreglos, primero veamos un ejemplo:\n"
      ],
      "metadata": {
        "id": "-2vWD9BY2sOp"
      }
    },
    {
      "cell_type": "code",
      "source": [
        "new_array = np.array([6, 7, 8, 9])\n",
        "print('new_array:', new_array)\n",
        "second_new_array = new_array[1:3]\n",
        "print('second_new_array:', second_new_array) # imprime [7 8]"
      ],
      "metadata": {
        "id": "yNRN04NF9ZEH",
        "colab": {
          "base_uri": "https://localhost:8080/"
        },
        "outputId": "e006a3ed-27bc-4bed-df3c-5ce537ba38b1"
      },
      "execution_count": null,
      "outputs": [
        {
          "output_type": "stream",
          "name": "stdout",
          "text": [
            "new_array: [6 7 8 9]\n",
            "second_new_array: [7 8]\n"
          ]
        }
      ]
    },
    {
      "cell_type": "code",
      "source": [
        "second_new_array[1] = 4\n",
        "print(second_new_array) # imprime [7, 4], como se esperaba"
      ],
      "metadata": {
        "id": "RRIDEpZS9010",
        "colab": {
          "base_uri": "https://localhost:8080/"
        },
        "outputId": "2d3f9efd-ac9d-44f3-98a8-30ccbb599836"
      },
      "execution_count": null,
      "outputs": [
        {
          "output_type": "stream",
          "name": "stdout",
          "text": [
            "[7 4]\n"
          ]
        }
      ]
    },
    {
      "cell_type": "code",
      "source": [
        "print('new_array:', new_array)"
      ],
      "metadata": {
        "id": "oCjU8Nb6-OZx",
        "colab": {
          "base_uri": "https://localhost:8080/"
        },
        "outputId": "389ebe79-dc76-454f-8509-21275425bc89"
      },
      "execution_count": null,
      "outputs": [
        {
          "output_type": "stream",
          "name": "stdout",
          "text": [
            "new_array: [6 7 4 9]\n"
          ]
        }
      ]
    },
    {
      "cell_type": "markdown",
      "source": [
        "Observar que aunque no hemos reasignado directamente ningún elemento de `new_array`,  el tercer elemento pasó de valer `8` a valer `4`.\n",
        "\n",
        "¿Que ha pasado? Lo  que pasó es que la modificación de `second_new_array` cambió también el valor de `new_array`.\n",
        "\n",
        "¿Por qué es esto? Por defecto, NumPy *no* crea una copia de un arreglo cuando hace referencia a la variable del arreglo original usando el operador de asignación `=`. En cambio, simplemente apunta la nueva variable a la anterior, lo que permite que la segunda variable realice modificaciones en la variable original, incluso si esta no es nuestra intención.\n",
        "\n",
        "Esto puede parecer extraño, pero tiene una explicación lógica. El propósito de la referencia de arreglos es conservar poder computacional. Al trabajar con grandes conjuntos de datos, rápidamente te quedarías sin RAM si crearas un nuevo arreglo cada vez que quisieras trabajar con una porción de él.\n",
        "\n",
        "\n",
        "En  el caso que querramos una copia del arreglo existe una solución, se puede utilizar el método `copy` para copiar explícitamente un arreglo NumPy.\n",
        "\n",
        "A continuación se muestra un ejemplo de esto.\n"
      ],
      "metadata": {
        "id": "lddsadF59ZNu"
      }
    },
    {
      "cell_type": "code",
      "source": [
        "array_to_copy = np.array([1, 2, 3])\n",
        "copied_array = array_to_copy[1:3].copy()\n",
        "print(array_to_copy)\n",
        "print(copied_array)"
      ],
      "metadata": {
        "id": "3xZ3VQVt_5WJ",
        "colab": {
          "base_uri": "https://localhost:8080/"
        },
        "outputId": "1d7253cb-3a26-4ce3-9375-90853801b18b"
      },
      "execution_count": null,
      "outputs": [
        {
          "output_type": "stream",
          "name": "stdout",
          "text": [
            "[1 2 3]\n",
            "[2 3]\n"
          ]
        }
      ]
    },
    {
      "cell_type": "markdown",
      "source": [
        "Como se puede ver a continuación, realizar modificaciones al arreglo copiado no altera el original.\n"
      ],
      "metadata": {
        "id": "clcM_GoN_5iu"
      }
    },
    {
      "cell_type": "code",
      "source": [
        "copied_array[0] = 9\n",
        "print(copied_array)\n",
        "print(array_to_copy)"
      ],
      "metadata": {
        "id": "6B7D8WcAAQw8",
        "colab": {
          "base_uri": "https://localhost:8080/"
        },
        "outputId": "f4a9eb2d-5e38-4459-e228-180fb9be87d9"
      },
      "execution_count": null,
      "outputs": [
        {
          "output_type": "stream",
          "name": "stdout",
          "text": [
            "[9 3]\n",
            "[1 2 3]\n"
          ]
        }
      ]
    },
    {
      "cell_type": "markdown",
      "source": [
        "La referencia de arreglos también se aplica a arreglos bidimensionales en NumPy, así que hay que asegurarse de utilizar el método `copy()` si se desea evitar modificar inadvertidamente un arreglo original después de guardar una porción de él en un nuevo nombre de variable."
      ],
      "metadata": {
        "id": "ZGxQxsENG0Aq"
      }
    },
    {
      "cell_type": "markdown",
      "source": [
        "## 6. Operaciones aritméticas con arreglos de NumPy\n",
        "\n",
        "NumPy nos permite realizar operaciones aritméticas con arreglos. Puedes realizarlas usando el arreglo y un sólo número, o puedes realizarlas entre dos arreglos NumPy.\n",
        "\n",
        "Exploramos cada una de las principales operaciones matemáticas a continuación.\n",
        "\n",
        "Utilicemos algunos arreglos para hacer nuestro ejemplos."
      ],
      "metadata": {
        "id": "monCkM4XD9Ed"
      }
    },
    {
      "cell_type": "code",
      "source": [
        "arr_a = np.array([1, 2, 3, 4, 5])\n",
        "arr_b = np.array([5, 8, 9, 10, 11])\n",
        "arr_c = np.array([15, 28, 19, 10, 21, 5])"
      ],
      "metadata": {
        "id": "lt7Qy1BpYetx"
      },
      "execution_count": null,
      "outputs": []
    },
    {
      "cell_type": "markdown",
      "source": [
        "**Suma.**\n",
        "Al sumar un sólo número a un arreglo de NumPy, ese número se suma a cada elemento en el arreglo. A continuación se ve un ejemplo:"
      ],
      "metadata": {
        "id": "kmKlOQ0FYvku"
      }
    },
    {
      "cell_type": "code",
      "source": [
        "print(2 + arr_a)\n",
        "print(arr_a)"
      ],
      "metadata": {
        "id": "Mut0vCfKYv6m",
        "colab": {
          "base_uri": "https://localhost:8080/"
        },
        "outputId": "7078c560-fb91-4464-8994-0d1f44f3befc"
      },
      "execution_count": null,
      "outputs": [
        {
          "output_type": "stream",
          "name": "stdout",
          "text": [
            "[3 4 5 6 7]\n",
            "[1 2 3 4 5]\n"
          ]
        }
      ]
    },
    {
      "cell_type": "markdown",
      "source": [
        "Podemos sumar dos arreglos NumPy usando el operador `+`. Los arreglos se suman elemento por elemento (lo que significa que los primeros elementos se suman entre si, los segundos elementos se suman se suman entre si, y así sucesivamente).\n",
        "\n",
        "A continuación se ve un ejemplo."
      ],
      "metadata": {
        "id": "Urx4XIQjYe6u"
      }
    },
    {
      "cell_type": "code",
      "source": [
        "arr_a = np.array([1, 2, 3, 4, 5])\n",
        "arr_b = np.array([5, 8, 9, 10, 11])\n",
        "arr_c = np.array([15, 28, 19, 10, 21, 5])\n",
        "print(arr_a)\n",
        "print(arr_b)\n",
        "arr_d = arr_a + arr_b\n",
        "print(arr_d)"
      ],
      "metadata": {
        "id": "7q-nMfRj8Dkl",
        "colab": {
          "base_uri": "https://localhost:8080/"
        },
        "outputId": "1bda4eb7-bf48-4388-b3ac-d606cf2d579d"
      },
      "execution_count": null,
      "outputs": [
        {
          "output_type": "stream",
          "name": "stdout",
          "text": [
            "[1 2 3 4 5]\n",
            "[ 5  8  9 10 11]\n",
            "[ 6 10 12 14 16]\n"
          ]
        }
      ]
    },
    {
      "cell_type": "code",
      "source": [
        "arr_d[0] = -1\n",
        "print(arr_d)\n",
        "print(arr_a)\n",
        "print(arr_b)"
      ],
      "metadata": {
        "id": "rZ2Wwp3BDXZJ",
        "colab": {
          "base_uri": "https://localhost:8080/"
        },
        "outputId": "5e9f1b9f-cf2b-4e04-9a68-62ff01ea27a4"
      },
      "execution_count": null,
      "outputs": [
        {
          "output_type": "stream",
          "name": "stdout",
          "text": [
            "[-1 10 12 14 16]\n",
            "[1 2 3 4 5]\n",
            "[ 5  8  9 10 11]\n"
          ]
        }
      ]
    },
    {
      "cell_type": "markdown",
      "source": [
        "La suma de arreglos es asociativa y conmutativa.\n",
        "\n",
        "Si intentamos sumar arreglos de distinto tamaño obtendremos una excepción. Por ejemplo\n",
        "\n",
        "\n",
        "```\n",
        "arr_a + arr_c\n",
        "```\n",
        "\n",
        "nos devuelve error."
      ],
      "metadata": {
        "id": "Bnlm1Wap9oyH"
      }
    },
    {
      "cell_type": "markdown",
      "source": [
        "**Elemento neutro de la suma y opuesto aditivo**\n",
        "\n",
        "El elemento neutro de la suma es el arreglo cuyos valores son todos cero."
      ],
      "metadata": {
        "id": "vnZJzUUj9K1I"
      }
    },
    {
      "cell_type": "code",
      "source": [
        "arr_a + np.array([0, 0, 0, 0, 0])"
      ],
      "metadata": {
        "id": "vrBZf8JE9dqV",
        "colab": {
          "base_uri": "https://localhost:8080/"
        },
        "outputId": "d308903f-4e6c-4564-ad18-aae7137f31c6"
      },
      "execution_count": null,
      "outputs": [
        {
          "output_type": "execute_result",
          "data": {
            "text/plain": [
              "array([1, 2, 3, 4, 5])"
            ]
          },
          "metadata": {},
          "execution_count": 41
        }
      ]
    },
    {
      "cell_type": "code",
      "source": [
        "arr_a + 0"
      ],
      "metadata": {
        "id": "4bAnSS6VEGaQ",
        "colab": {
          "base_uri": "https://localhost:8080/"
        },
        "outputId": "b0acaf8d-61ca-41e7-9d6f-8f03fff79462"
      },
      "execution_count": null,
      "outputs": [
        {
          "output_type": "execute_result",
          "data": {
            "text/plain": [
              "array([1, 2, 3, 4, 5])"
            ]
          },
          "metadata": {},
          "execution_count": 42
        }
      ]
    },
    {
      "cell_type": "markdown",
      "source": [
        "El opuesto aditivo de un arreglo se obtiene, como es lógico,  agregando el signo `-` al arreglo:"
      ],
      "metadata": {
        "id": "5Ch8edYb9d4C"
      }
    },
    {
      "cell_type": "code",
      "source": [
        "-arr_a"
      ],
      "metadata": {
        "id": "qoPLNLd59LDY",
        "colab": {
          "base_uri": "https://localhost:8080/"
        },
        "outputId": "7dc98e09-5775-435e-c1cd-b4f8a3de1b66"
      },
      "execution_count": null,
      "outputs": [
        {
          "output_type": "execute_result",
          "data": {
            "text/plain": [
              "array([-1, -2, -3, -4, -5])"
            ]
          },
          "metadata": {},
          "execution_count": 43
        }
      ]
    },
    {
      "cell_type": "code",
      "source": [
        "arr_a + (-arr_a)"
      ],
      "metadata": {
        "id": "vOwC1WgZ-vUy",
        "colab": {
          "base_uri": "https://localhost:8080/"
        },
        "outputId": "d9b80402-b73b-4e04-e66d-8590d72897c0"
      },
      "execution_count": null,
      "outputs": [
        {
          "output_type": "execute_result",
          "data": {
            "text/plain": [
              "array([0, 0, 0, 0, 0])"
            ]
          },
          "metadata": {},
          "execution_count": 44
        }
      ]
    },
    {
      "cell_type": "markdown",
      "source": [
        "**Resta**\n",
        "\n",
        "Como en los enteros o los número reales la resta se obtiene sumando el opuesto aditivo"
      ],
      "metadata": {
        "id": "NM5jv1Ci8D2D"
      }
    },
    {
      "cell_type": "code",
      "source": [
        "arr_a + (-arr_b)"
      ],
      "metadata": {
        "id": "q7eqaTFS8zwI",
        "colab": {
          "base_uri": "https://localhost:8080/"
        },
        "outputId": "d70ffc92-d102-4659-e92d-b1345f34ed15"
      },
      "execution_count": null,
      "outputs": [
        {
          "output_type": "execute_result",
          "data": {
            "text/plain": [
              "array([-4, -6, -6, -6, -6])"
            ]
          },
          "metadata": {},
          "execution_count": 45
        }
      ]
    },
    {
      "cell_type": "markdown",
      "source": [
        "Obviamente, se puede simplificar la notación:"
      ],
      "metadata": {
        "id": "CrYOmWX7_dJO"
      }
    },
    {
      "cell_type": "code",
      "source": [
        "arr_a - arr_b"
      ],
      "metadata": {
        "id": "JOgmxsX2_i3Z",
        "colab": {
          "base_uri": "https://localhost:8080/"
        },
        "outputId": "22468831-bd66-4055-d051-af651f7f5c97"
      },
      "execution_count": null,
      "outputs": [
        {
          "output_type": "execute_result",
          "data": {
            "text/plain": [
              "array([-4, -6, -6, -6, -6])"
            ]
          },
          "metadata": {},
          "execution_count": 46
        }
      ]
    },
    {
      "cell_type": "markdown",
      "source": [
        "Operaciones con números tambiés se pueden hacer"
      ],
      "metadata": {
        "id": "vXsUdcnX_pE1"
      }
    },
    {
      "cell_type": "code",
      "source": [
        "arr_a - 2"
      ],
      "metadata": {
        "id": "gfMBMEU4AfDJ",
        "colab": {
          "base_uri": "https://localhost:8080/"
        },
        "outputId": "c0aeea82-8eb3-43a0-fab6-8c018239c2ba"
      },
      "execution_count": null,
      "outputs": [
        {
          "output_type": "execute_result",
          "data": {
            "text/plain": [
              "array([-1,  0,  1,  2,  3])"
            ]
          },
          "metadata": {},
          "execution_count": 47
        }
      ]
    },
    {
      "cell_type": "code",
      "source": [
        "2 - arr_a"
      ],
      "metadata": {
        "id": "zlk8KV6zAiuz",
        "colab": {
          "base_uri": "https://localhost:8080/"
        },
        "outputId": "88d53532-3552-4769-e867-d75e167693e7"
      },
      "execution_count": null,
      "outputs": [
        {
          "output_type": "execute_result",
          "data": {
            "text/plain": [
              "array([ 1,  0, -1, -2, -3])"
            ]
          },
          "metadata": {},
          "execution_count": 48
        }
      ]
    },
    {
      "cell_type": "code",
      "source": [
        "(arr_a - 2) + (2 - arr_a)"
      ],
      "metadata": {
        "id": "CEBEVT3qEanl",
        "colab": {
          "base_uri": "https://localhost:8080/"
        },
        "outputId": "3adfdc84-ef73-4486-82db-d890d44a1d5f"
      },
      "execution_count": null,
      "outputs": [
        {
          "output_type": "execute_result",
          "data": {
            "text/plain": [
              "array([0, 0, 0, 0, 0])"
            ]
          },
          "metadata": {},
          "execution_count": 49
        }
      ]
    },
    {
      "cell_type": "markdown",
      "source": [
        "**Multiplicación**\n",
        "\n",
        "La multiplicación también se realiza elemento por elemento tanto para casos de un sólo número como para casos de operaciones entre arreglos de NumPy.\n",
        "\n",
        "A continuación se ven dos ejemplos."
      ],
      "metadata": {
        "id": "vVH3h4e980la"
      }
    },
    {
      "cell_type": "code",
      "source": [
        "6 * arr_a"
      ],
      "metadata": {
        "id": "gK4zZdeqA9Lp",
        "colab": {
          "base_uri": "https://localhost:8080/"
        },
        "outputId": "111f3e64-e62d-4b5b-90ed-d6e8c882deb9"
      },
      "execution_count": null,
      "outputs": [
        {
          "output_type": "execute_result",
          "data": {
            "text/plain": [
              "array([ 6, 12, 18, 24, 30])"
            ]
          },
          "metadata": {},
          "execution_count": 50
        }
      ]
    },
    {
      "cell_type": "code",
      "source": [
        "arr_a * arr_b"
      ],
      "metadata": {
        "id": "eEk589kqA9WY",
        "colab": {
          "base_uri": "https://localhost:8080/"
        },
        "outputId": "afb3fcc6-da98-499a-ade9-400708e3ba32"
      },
      "execution_count": null,
      "outputs": [
        {
          "output_type": "execute_result",
          "data": {
            "text/plain": [
              "array([ 5, 16, 27, 40, 55])"
            ]
          },
          "metadata": {},
          "execution_count": 51
        }
      ]
    },
    {
      "cell_type": "markdown",
      "source": [
        "*Observación.* Es posible multiplicar matrices con el operador `*` y la multiplicación se hace coordenada  a coordenada, es decir *NO* es la multiplicación de matrices del álgebra lineal.\n",
        "\n",
        "Por supuesto la multiplicación de matrices, no coordenada a coordenada sino haciendo filas por columnas,  que verán más adelante en la materia de álgebra lineal,  también está implementada en NumPy."
      ],
      "metadata": {
        "id": "LwteMLLmFJjz"
      }
    },
    {
      "cell_type": "code",
      "source": [
        "mat_A = np.array([[1, 0, 2, 3],[-1, 3, 2, 3],[3, 4, 4, 4]]) # matriz 3x4\n",
        "mat_B = np.array([[2,3], [-1, 0], [2, 2], [-5,1]]) # matriz 4x2\n",
        "np.dot(mat_A, mat_B) # multiplicar 3x4.4x2 resulta 3x2"
      ],
      "metadata": {
        "id": "b56M2UF_KXDK",
        "colab": {
          "base_uri": "https://localhost:8080/"
        },
        "outputId": "9c1285fe-b335-4c8f-b037-fbfaa499ef52"
      },
      "execution_count": null,
      "outputs": [
        {
          "output_type": "execute_result",
          "data": {
            "text/plain": [
              "array([[ -9,  10],\n",
              "       [-16,   4],\n",
              "       [-10,  21]])"
            ]
          },
          "metadata": {},
          "execution_count": 52
        }
      ]
    },
    {
      "cell_type": "markdown",
      "source": [
        "**División**\n",
        "\n",
        "En este punto, probablemente no te sorprende saber que la división en arreglos NumPy se realiza elemento por elemento. Un ejemplo:"
      ],
      "metadata": {
        "id": "4L07282h83Jq"
      }
    },
    {
      "cell_type": "code",
      "source": [
        "print(arr_a)\n",
        "print(arr_a / 2)"
      ],
      "metadata": {
        "id": "esSwtZyUBa7Q",
        "colab": {
          "base_uri": "https://localhost:8080/"
        },
        "outputId": "4fa11b60-d2b9-4afd-d87c-d7c3e674a8d7"
      },
      "execution_count": null,
      "outputs": [
        {
          "output_type": "stream",
          "name": "stdout",
          "text": [
            "[1 2 3 4 5]\n",
            "[0.5 1.  1.5 2.  2.5]\n"
          ]
        }
      ]
    },
    {
      "cell_type": "markdown",
      "source": [
        "También funciona bien la división entera:"
      ],
      "metadata": {
        "id": "soWat6IVBlM5"
      }
    },
    {
      "cell_type": "code",
      "source": [
        "arr_a // 2"
      ],
      "metadata": {
        "id": "VqT1zjXIBgbL",
        "colab": {
          "base_uri": "https://localhost:8080/"
        },
        "outputId": "2696b612-a83d-4136-c864-1b9581bf017e"
      },
      "execution_count": null,
      "outputs": [
        {
          "output_type": "execute_result",
          "data": {
            "text/plain": [
              "array([0, 1, 1, 2, 2])"
            ]
          },
          "metadata": {},
          "execution_count": 54
        }
      ]
    },
    {
      "cell_type": "markdown",
      "source": [
        "La división entre arreglos de la misma longitud también es posible:"
      ],
      "metadata": {
        "id": "wwyn_aiukDTG"
      }
    },
    {
      "cell_type": "code",
      "source": [
        "print(arr_a)\n",
        "print(arr_b)\n",
        "print(arr_b / arr_a)\n",
        "print(arr_b // arr_a)"
      ],
      "metadata": {
        "id": "HDWftNpKkKJB",
        "colab": {
          "base_uri": "https://localhost:8080/"
        },
        "outputId": "1dd8baaf-3077-4732-9246-e97e02d9e99c"
      },
      "execution_count": null,
      "outputs": [
        {
          "output_type": "stream",
          "name": "stdout",
          "text": [
            "[1 2 3 4 5]\n",
            "[ 5  8  9 10 11]\n",
            "[5.  4.  3.  2.5 2.2]\n",
            "[5 4 3 2 2]\n"
          ]
        }
      ]
    },
    {
      "cell_type": "markdown",
      "source": [
        "La división tiene una excepción notable en comparación con las otras operaciones matemáticas que hemos visto en esta sección. Dado que no podemos dividir por cero, al hacerlo, el campo correspondiente se completará con un valor `nan`, que es la abreviatura de Python para \"No es un número\" (“Not A Number”). Jupyter Notebook y Colab también imprimen una advertencia.\n",
        "\n",
        "En el caso de Colab  el valor que toma la coordenada al ser dividida por 0 es `inf`\n"
      ],
      "metadata": {
        "id": "ENLhpHQ_BbN-"
      }
    },
    {
      "cell_type": "code",
      "source": [
        "arr_d = arr_a - 2\n",
        "arr_d"
      ],
      "metadata": {
        "id": "sPH7TUp8Bzcf",
        "colab": {
          "base_uri": "https://localhost:8080/"
        },
        "outputId": "3e6a38d4-3238-4978-e2e0-4b9852bd1b10"
      },
      "execution_count": null,
      "outputs": [
        {
          "output_type": "execute_result",
          "data": {
            "text/plain": [
              "array([-1,  0,  1,  2,  3])"
            ]
          },
          "metadata": {},
          "execution_count": 56
        }
      ]
    },
    {
      "cell_type": "code",
      "source": [
        "arr_e = arr_b / arr_d"
      ],
      "metadata": {
        "id": "6txnfb1NCVlx",
        "colab": {
          "base_uri": "https://localhost:8080/"
        },
        "outputId": "e73a4c0e-f527-418c-bc09-73ddb41a4c16"
      },
      "execution_count": null,
      "outputs": [
        {
          "output_type": "stream",
          "name": "stderr",
          "text": [
            "<ipython-input-57-545c1364d91b>:1: RuntimeWarning: divide by zero encountered in divide\n",
            "  arr_e = arr_b / arr_d\n"
          ]
        }
      ]
    },
    {
      "cell_type": "code",
      "source": [
        "arr_e"
      ],
      "metadata": {
        "id": "UULlZIDkCi4G",
        "colab": {
          "base_uri": "https://localhost:8080/"
        },
        "outputId": "7cd51247-4be0-46bb-d7f1-bba1717e8c83"
      },
      "execution_count": null,
      "outputs": [
        {
          "output_type": "execute_result",
          "data": {
            "text/plain": [
              "array([-5.        ,         inf,  9.        ,  5.        ,  3.66666667])"
            ]
          },
          "metadata": {},
          "execution_count": 58
        }
      ]
    },
    {
      "cell_type": "code",
      "source": [
        "type(arr_e[1])"
      ],
      "metadata": {
        "id": "C34BGNeKDLAH",
        "colab": {
          "base_uri": "https://localhost:8080/"
        },
        "outputId": "da4ea956-ca1d-4c72-e926-077ac0c58653"
      },
      "execution_count": null,
      "outputs": [
        {
          "output_type": "execute_result",
          "data": {
            "text/plain": [
              "numpy.float64"
            ]
          },
          "metadata": {},
          "execution_count": 59
        }
      ]
    },
    {
      "cell_type": "markdown",
      "source": [
        "Observamos que NumPy considera `inf` un número más, pero,  sin embargo,  este número  no cumple  con los axiomas de los números reales: es más grande que cualquier número y otras particularidades del infinito."
      ],
      "metadata": {
        "id": "7uWI-FOmDVtZ"
      }
    },
    {
      "cell_type": "code",
      "source": [
        "arr_e[1] > 10**2345566"
      ],
      "metadata": {
        "id": "vQI2HUYYDs9w",
        "colab": {
          "base_uri": "https://localhost:8080/"
        },
        "outputId": "286b3898-baf2-441d-b1c0-355dde80be79"
      },
      "execution_count": null,
      "outputs": [
        {
          "output_type": "execute_result",
          "data": {
            "text/plain": [
              "True"
            ]
          },
          "metadata": {},
          "execution_count": 60
        }
      ]
    },
    {
      "cell_type": "markdown",
      "source": [
        "El valor `inf` tiene otras propiedades que ustedes podrán explorar."
      ],
      "metadata": {
        "id": "qmBPXLw9EOke"
      }
    },
    {
      "cell_type": "code",
      "source": [
        "-arr_e[1] > 10**2345566"
      ],
      "metadata": {
        "id": "tsw9vMOeFnIu",
        "colab": {
          "base_uri": "https://localhost:8080/"
        },
        "outputId": "936ff303-82af-4104-b750-14cfd3ca735e"
      },
      "execution_count": null,
      "outputs": [
        {
          "output_type": "execute_result",
          "data": {
            "text/plain": [
              "False"
            ]
          },
          "metadata": {},
          "execution_count": 61
        }
      ]
    },
    {
      "cell_type": "code",
      "source": [
        "-arr_e[1] < -10**2345566"
      ],
      "metadata": {
        "id": "ySF0pIbrFuV4",
        "colab": {
          "base_uri": "https://localhost:8080/"
        },
        "outputId": "79fa779a-9613-40f8-857a-e1f96cae20f3"
      },
      "execution_count": null,
      "outputs": [
        {
          "output_type": "execute_result",
          "data": {
            "text/plain": [
              "True"
            ]
          },
          "metadata": {},
          "execution_count": 62
        }
      ]
    },
    {
      "cell_type": "markdown",
      "source": [
        "**Las funciones de NumPy actuan como un 'map' en un arreglo de NumPy**\n",
        "\n",
        "Dada una función sobre algún tipo permitido en un arreglo, un *map* (es un concepto) consiste en iterar sobre un array y modificar sus elementos utilizando la función. La función entonces se ejecutará en cada uno de los elementos del array. Conceptualmente si $f$ es una función y, por ejemplo $[x_1, x_2, x_3, \\ldots]$ es una arreglo  con $x_i$ en el dominio de $f$, entonces el *map de $f$*  en el arreglo es:\n",
        "$$\n",
        "\\operatorname{map}(f)([x_1, x_2, x_3, \\ldots]) = [f(x_1), f(x_2), f(x_3), \\ldots]\n",
        "$$\n",
        "\n",
        "El módulo `numpy` tiene funciones similares al módulo `math`, pero que actúan sobre cada componente del arreglo,  es decir actúan como maps.\n",
        "\n",
        "Usaremos este concepto en gran medida cuando grafiquemos funciones, pero veamos un ejemplo ahora.\n"
      ],
      "metadata": {
        "id": "p7NOv7RdJMDG"
      }
    },
    {
      "cell_type": "code",
      "source": [
        "x = np.arange(0, 2*np.pi + 0.1, np.pi / 8)\n",
        " # crea un arreglo de 0 a un float menor que 2*np.pi + 0.1 incrementando\n",
        " # np.pi / 8\n",
        " # en cada paso\n",
        "print(x)"
      ],
      "metadata": {
        "id": "WnSVuHODJaHO",
        "colab": {
          "base_uri": "https://localhost:8080/"
        },
        "outputId": "b88a0e55-51d1-4582-a8aa-aa8b0e3647d7"
      },
      "execution_count": null,
      "outputs": [
        {
          "output_type": "stream",
          "name": "stdout",
          "text": [
            "[0.         0.39269908 0.78539816 1.17809725 1.57079633 1.96349541\n",
            " 2.35619449 2.74889357 3.14159265 3.53429174 3.92699082 4.3196899\n",
            " 4.71238898 5.10508806 5.49778714 5.89048623 6.28318531]\n"
          ]
        }
      ]
    },
    {
      "cell_type": "code",
      "source": [
        "print(np.sin(x))"
      ],
      "metadata": {
        "id": "3WESy-OwKAOv",
        "colab": {
          "base_uri": "https://localhost:8080/"
        },
        "outputId": "dfcca15b-b92d-4184-81f3-a252fa0ac99f"
      },
      "execution_count": null,
      "outputs": [
        {
          "output_type": "stream",
          "name": "stdout",
          "text": [
            "[ 0.00000000e+00  3.82683432e-01  7.07106781e-01  9.23879533e-01\n",
            "  1.00000000e+00  9.23879533e-01  7.07106781e-01  3.82683432e-01\n",
            "  1.22464680e-16 -3.82683432e-01 -7.07106781e-01 -9.23879533e-01\n",
            " -1.00000000e+00 -9.23879533e-01 -7.07106781e-01 -3.82683432e-01\n",
            " -2.44929360e-16]\n"
          ]
        }
      ]
    },
    {
      "cell_type": "markdown",
      "source": [
        "Dada una función que se aplica sobre números, podemos convertirla en un map  de un array NumPy con el método `vectorize()`, es decir si `f` es una función de números en números\n",
        "\n",
        "    v_f = np.vectorize(f)\n",
        "\n",
        "es una función que se aplica como map de `f` a arreglos numéricos. Por ejemplo,"
      ],
      "metadata": {
        "id": "7X9tYX_qZbt5"
      }
    },
    {
      "cell_type": "code",
      "source": [
        "def f(x):\n",
        "    return x**2"
      ],
      "metadata": {
        "id": "PNMzVePKaXW5"
      },
      "execution_count": null,
      "outputs": []
    },
    {
      "cell_type": "code",
      "source": [
        "v_f = np.vectorize(f)\n",
        "\n",
        "x = np.array([1, 2, 3, 4, 5])\n",
        "print(x)\n",
        "print(v_f(x))"
      ],
      "metadata": {
        "id": "gt76joZPPuU4",
        "colab": {
          "base_uri": "https://localhost:8080/"
        },
        "outputId": "921588d4-fad5-45b1-9255-f6571bf8ddfd"
      },
      "execution_count": null,
      "outputs": [
        {
          "output_type": "stream",
          "name": "stdout",
          "text": [
            "[1 2 3 4 5]\n",
            "[ 1  4  9 16 25]\n"
          ]
        }
      ]
    },
    {
      "cell_type": "markdown",
      "source": [
        "que hubiera sido lo mismo que"
      ],
      "metadata": {
        "id": "gxiO7hhCaxz2"
      }
    },
    {
      "cell_type": "code",
      "source": [
        "print (x**2)"
      ],
      "metadata": {
        "id": "75twWMtZa0hn",
        "colab": {
          "base_uri": "https://localhost:8080/"
        },
        "outputId": "a17f6db6-a879-41ab-f452-0570a5b90b3e"
      },
      "execution_count": null,
      "outputs": [
        {
          "output_type": "stream",
          "name": "stdout",
          "text": [
            "[ 1  4  9 16 25]\n"
          ]
        }
      ]
    },
    {
      "cell_type": "markdown",
      "source": [
        "Pero para funciones más complejas conviene utilizar `vectorize()`."
      ],
      "metadata": {
        "id": "9WJiiRlOlHY3"
      }
    },
    {
      "cell_type": "markdown",
      "source": [
        "La documentación de NumPy aclara que vectorizar una función no aumenta la eficiencia respecto a iterar sobre el arreglo y  aplicar la función en cada elemento. El método `vectorize()` se utiliza para escribir código más compacto.  "
      ],
      "metadata": {
        "id": "rvA-pb-ha53-"
      }
    },
    {
      "cell_type": "markdown",
      "source": [
        "El código con iteraciones sería así:"
      ],
      "metadata": {
        "id": "bi0SICGaRD_B"
      }
    },
    {
      "cell_type": "code",
      "source": [
        "x = np.array([1, 2, 3, 4, 5])\n",
        "print(x)\n",
        "for i in range(len(x)):\n",
        "    x[i] = x[i]**2\n",
        "print(x)"
      ],
      "metadata": {
        "id": "6SVBOocGP-dM",
        "colab": {
          "base_uri": "https://localhost:8080/"
        },
        "outputId": "4cfbc328-061b-4558-affb-6af87d5ad6ad"
      },
      "execution_count": null,
      "outputs": [
        {
          "output_type": "stream",
          "name": "stdout",
          "text": [
            "[1 2 3 4 5]\n",
            "[ 1  4  9 16 25]\n"
          ]
        }
      ]
    },
    {
      "cell_type": "markdown",
      "source": [
        "Veremos luego  diferentes formas de iterar en arreglos NumPy, pero el ejemplo anterior nos muestra que las formas válidas para listas o cadenas también se pueden utilizar."
      ],
      "metadata": {
        "id": "NPssD-E6WqGn"
      }
    },
    {
      "cell_type": "markdown",
      "source": [
        "## 7. Métodos incorporados\n",
        "Los arreglos de NumPy vienen con un número de métodos incorporados útiles. Analizaremos a continuación algunos de estos métodos con ejemplos.\n",
        "\n",
        "**Obtener un rango de números utilizando Numpy**\n",
        "\n",
        "NumPy tiene un método útil llamado `arange` que toma dos números y devuelve un arreglo de números enteros que son mayores o iguales al primer número y menores que el segundo número. Es muy parecido al método de Python `range`, pero `arange` devuelve un objeto `array` de NumPy\n",
        "\n",
        "Un ejemplo del método `arange` es el siguiente."
      ],
      "metadata": {
        "id": "ispYRIvpEJ6t"
      }
    },
    {
      "cell_type": "code",
      "source": [
        "np.arange(1, 5)"
      ],
      "metadata": {
        "id": "dYPRKb4gFPV3",
        "colab": {
          "base_uri": "https://localhost:8080/"
        },
        "outputId": "73275a48-75d5-4fce-b172-49fe7aaa3b59"
      },
      "execution_count": null,
      "outputs": [
        {
          "output_type": "execute_result",
          "data": {
            "text/plain": [
              "array([1, 2, 3, 4])"
            ]
          },
          "metadata": {},
          "execution_count": 69
        }
      ]
    },
    {
      "cell_type": "code",
      "source": [
        "np.arange(1.5, 5.5)"
      ],
      "metadata": {
        "id": "mg05ryz4HE5u",
        "colab": {
          "base_uri": "https://localhost:8080/"
        },
        "outputId": "6fd64a03-003a-43b0-b4e6-8de35b167776"
      },
      "execution_count": null,
      "outputs": [
        {
          "output_type": "execute_result",
          "data": {
            "text/plain": [
              "array([1.5, 2.5, 3.5, 4.5])"
            ]
          },
          "metadata": {},
          "execution_count": 70
        }
      ]
    },
    {
      "cell_type": "markdown",
      "source": [
        "También se puede incluir una tercera variable en el método `arange` que proporciona un tamaño de paso. Pasar $2$ como tercera variable devolverá cada segundo número en el rango, pasar $5$ como tercera variable devolverá cada quinto número en el rango, y así sucesivamente. También podemos poner como tercer parámetro cualquier número (entero,  punto flotante)\n",
        "\n",
        "Ejemplos de ejemplo de uso de la tercera variable en el método arange se encuentra a continuación."
      ],
      "metadata": {
        "id": "7lxkfvU5FPkC"
      }
    },
    {
      "cell_type": "code",
      "source": [
        "np.arange(1,11,0.5)"
      ],
      "metadata": {
        "id": "TsTjxhnBFnqX",
        "colab": {
          "base_uri": "https://localhost:8080/"
        },
        "outputId": "7f6443cc-548d-45af-a63b-814f4ff45211"
      },
      "execution_count": null,
      "outputs": [
        {
          "output_type": "execute_result",
          "data": {
            "text/plain": [
              "array([ 1. ,  1.5,  2. ,  2.5,  3. ,  3.5,  4. ,  4.5,  5. ,  5.5,  6. ,\n",
              "        6.5,  7. ,  7.5,  8. ,  8.5,  9. ,  9.5, 10. , 10.5])"
            ]
          },
          "metadata": {},
          "execution_count": 71
        }
      ]
    },
    {
      "cell_type": "code",
      "source": [
        "np.arange(1,11,2)"
      ],
      "metadata": {
        "id": "2DAqpR8H8Qvf",
        "colab": {
          "base_uri": "https://localhost:8080/"
        },
        "outputId": "dd819c15-2bf1-474f-998c-ea4966c72e5d"
      },
      "execution_count": null,
      "outputs": [
        {
          "output_type": "execute_result",
          "data": {
            "text/plain": [
              "array([1, 3, 5, 7, 9])"
            ]
          },
          "metadata": {},
          "execution_count": 72
        }
      ]
    },
    {
      "cell_type": "code",
      "source": [
        "np.arange(1,11,np.pi)"
      ],
      "metadata": {
        "id": "ilTdAYfF8Q4-",
        "colab": {
          "base_uri": "https://localhost:8080/"
        },
        "outputId": "b0b8c7ce-3dbc-4860-a653-ce38d2505b27"
      },
      "execution_count": null,
      "outputs": [
        {
          "output_type": "execute_result",
          "data": {
            "text/plain": [
              "array([ 1.        ,  4.14159265,  7.28318531, 10.42477796])"
            ]
          },
          "metadata": {},
          "execution_count": 73
        }
      ]
    },
    {
      "cell_type": "markdown",
      "source": [
        "**Generar arreglos de unos y ceros**\n",
        "\n",
        "Mientras programas, de vez en cuando necesitará crear arreglos de unos o ceros. NumPy tiene métodos incorporados que te permiten hacer ambas cosas.\n",
        "\n",
        "Podemos crear arreglos de ceros utilizando el método `zeros` de NumPy. Le pasas el número de enteros que quisieras crear como el argumento de la función. Un ejemplo es el siguiente."
      ],
      "metadata": {
        "id": "6cygqUzzFn2I"
      }
    },
    {
      "cell_type": "code",
      "source": [
        "np.zeros(4)"
      ],
      "metadata": {
        "id": "w4LReXSuGDRB",
        "colab": {
          "base_uri": "https://localhost:8080/"
        },
        "outputId": "db1cbdfd-19e1-4e30-8807-fe59f5b17261"
      },
      "execution_count": null,
      "outputs": [
        {
          "output_type": "execute_result",
          "data": {
            "text/plain": [
              "array([0., 0., 0., 0.])"
            ]
          },
          "metadata": {},
          "execution_count": 74
        }
      ]
    },
    {
      "cell_type": "markdown",
      "source": [
        "También se puedes hacer algo similar utilizando matrices. Por ejemplo,"
      ],
      "metadata": {
        "id": "SdgLfeNTGDlG"
      }
    },
    {
      "cell_type": "code",
      "source": [
        "np.zeros((5, 3))"
      ],
      "metadata": {
        "id": "KGzBRN1oGTqF",
        "colab": {
          "base_uri": "https://localhost:8080/"
        },
        "outputId": "3dc898e0-5638-46e2-8c86-7cc149ddda58"
      },
      "execution_count": null,
      "outputs": [
        {
          "output_type": "execute_result",
          "data": {
            "text/plain": [
              "array([[0., 0., 0.],\n",
              "       [0., 0., 0.],\n",
              "       [0., 0., 0.],\n",
              "       [0., 0., 0.],\n",
              "       [0., 0., 0.]])"
            ]
          },
          "metadata": {},
          "execution_count": 75
        }
      ]
    },
    {
      "cell_type": "code",
      "source": [
        "a1 = np.array([1,20,30])\n",
        "print(a1[1:2])\n",
        "b1 = np.zeros(a1[1:2])\n",
        "print(b1)"
      ],
      "metadata": {
        "id": "1xzXATnoYx6E",
        "colab": {
          "base_uri": "https://localhost:8080/"
        },
        "outputId": "78154ad7-c1d5-449d-ca3a-399878d8d11e"
      },
      "execution_count": null,
      "outputs": [
        {
          "output_type": "stream",
          "name": "stdout",
          "text": [
            "[20]\n",
            "[0. 0. 0. 0. 0. 0. 0. 0. 0. 0. 0. 0. 0. 0. 0. 0. 0. 0. 0. 0.]\n"
          ]
        }
      ]
    },
    {
      "cell_type": "markdown",
      "source": [
        " crea un arreglo de $5 \\times 3$ que contiene todos ceros. Observar que debemos usar el doble paréntesis. Si queremos que los ceros sean de tipo entero, podemos hacer lo siguiente:"
      ],
      "metadata": {
        "id": "1BTt4PFCGT1B"
      }
    },
    {
      "cell_type": "code",
      "source": [
        "np.zeros((5, 3), dtype=int)"
      ],
      "metadata": {
        "id": "8xXQZhI0HJDo",
        "colab": {
          "base_uri": "https://localhost:8080/"
        },
        "outputId": "5746cf60-243d-4e98-8b17-c4410d3a1212"
      },
      "execution_count": null,
      "outputs": [
        {
          "output_type": "execute_result",
          "data": {
            "text/plain": [
              "array([[0, 0, 0],\n",
              "       [0, 0, 0],\n",
              "       [0, 0, 0],\n",
              "       [0, 0, 0],\n",
              "       [0, 0, 0]])"
            ]
          },
          "metadata": {},
          "execution_count": 77
        }
      ]
    },
    {
      "cell_type": "markdown",
      "source": [
        "Podemos crear arreglos de unos usando un método similar llamado `ones`. Un ejemplo es el que sigue.\n"
      ],
      "metadata": {
        "id": "GIXE4m8hHJU1"
      }
    },
    {
      "cell_type": "code",
      "source": [
        "np.ones(5)"
      ],
      "metadata": {
        "id": "wGe8fjwuHmGB",
        "colab": {
          "base_uri": "https://localhost:8080/"
        },
        "outputId": "33b6ad7f-4baf-4ca0-886c-7c11db7c4951"
      },
      "execution_count": null,
      "outputs": [
        {
          "output_type": "execute_result",
          "data": {
            "text/plain": [
              "array([1., 1., 1., 1., 1.])"
            ]
          },
          "metadata": {},
          "execution_count": 78
        }
      ]
    },
    {
      "cell_type": "markdown",
      "source": [
        "o, un arreglo de unos enteros:"
      ],
      "metadata": {
        "id": "-vbEkwyjHsSL"
      }
    },
    {
      "cell_type": "code",
      "source": [
        "np.ones(5, dtype=int)"
      ],
      "metadata": {
        "id": "PQ_pQuwxHnu5",
        "colab": {
          "base_uri": "https://localhost:8080/"
        },
        "outputId": "f932448c-5655-43d0-ad8b-464aea9c79b6"
      },
      "execution_count": null,
      "outputs": [
        {
          "output_type": "execute_result",
          "data": {
            "text/plain": [
              "array([1, 1, 1, 1, 1])"
            ]
          },
          "metadata": {},
          "execution_count": 79
        }
      ]
    },
    {
      "cell_type": "markdown",
      "source": [
        "**Dividir uniformemente un rango de números**\n",
        "\n",
        "Hay muchas situaciones en las que se desea dividir un intervalo en intervalos regulares y  crear un arreglo con estos valores, algo así como *separe el intervalo de 1 a 10 en 10 subintervalos de igual longitud*. El método `linspace` de NumPy está diseñado para resolver este problema. `linspace` tiene tres argumentos:\n",
        "\n",
        "1. El inicio del intervalo\n",
        "2. El fin del intervalo\n",
        "3. El número de subintervalos más 1 en los que deseas que se divida el intervalo\n",
        "\n",
        "Un ejemplo del método `linspace` es el siguiente:"
      ],
      "metadata": {
        "id": "ExNb_V2tHmQ7"
      }
    },
    {
      "cell_type": "code",
      "source": [
        "print(np.linspace(0, 1, 11))\n",
        "print(len(np.linspace(0, 1, 11)))"
      ],
      "metadata": {
        "id": "yR2L1Q_oOel1",
        "colab": {
          "base_uri": "https://localhost:8080/"
        },
        "outputId": "692433cc-2969-4617-f7c6-aa8504d244b7"
      },
      "execution_count": null,
      "outputs": [
        {
          "output_type": "stream",
          "name": "stdout",
          "text": [
            "[0.  0.1 0.2 0.3 0.4 0.5 0.6 0.7 0.8 0.9 1. ]\n",
            "11\n"
          ]
        }
      ]
    },
    {
      "cell_type": "markdown",
      "source": [
        "Lo que devuelve es el arreglo con  los puntos de separación de los intervalos."
      ],
      "metadata": {
        "id": "E-PuTFgSnZoH"
      }
    },
    {
      "cell_type": "markdown",
      "source": [
        "Haciendo una cuenta, podemos obtener  algo equivalente con `arange()`. Por ejemplo, en este caso los intervalos serán de $1/10 =0.1$ de ancho, luego:"
      ],
      "metadata": {
        "id": "wvhYAtZ09GVn"
      }
    },
    {
      "cell_type": "code",
      "source": [
        "np.arange(0, 1 + 0.1, 0.1)"
      ],
      "metadata": {
        "id": "_Pw-8Bwd83N9",
        "colab": {
          "base_uri": "https://localhost:8080/"
        },
        "outputId": "0414053a-e705-4493-9941-f1fcd313b8a0"
      },
      "execution_count": null,
      "outputs": [
        {
          "output_type": "execute_result",
          "data": {
            "text/plain": [
              "array([0. , 0.1, 0.2, 0.3, 0.4, 0.5, 0.6, 0.7, 0.8, 0.9, 1. ])"
            ]
          },
          "metadata": {},
          "execution_count": 81
        }
      ]
    },
    {
      "cell_type": "markdown",
      "source": [
        "Obviamente,  hay que utilizar `linspace()` para cometer menos errores y por ser más fácil."
      ],
      "metadata": {
        "id": "ElvuXQ1x9jrQ"
      }
    },
    {
      "cell_type": "markdown",
      "source": [
        "**Crear la matriz identidad**\n",
        "\n",
        "En álgebra lineal hay concepto muy importante y es el de *matriz identidad*, que es un arreglo cuadrado cuyos valores diagonales son todos 1 y  las otras posiciones valen 0. NumPy tiene una función incorporada para construir matrices identidad. La función es `eye`.\n",
        "\n",
        "Algunos ejemplos:"
      ],
      "metadata": {
        "id": "p8LcoNbEOex9"
      }
    },
    {
      "cell_type": "code",
      "source": [
        "np.eye(1)"
      ],
      "metadata": {
        "id": "xNYaSO27PjZ-",
        "colab": {
          "base_uri": "https://localhost:8080/"
        },
        "outputId": "00de2162-8b8c-4fb4-c372-65d6303e770c"
      },
      "execution_count": null,
      "outputs": [
        {
          "output_type": "execute_result",
          "data": {
            "text/plain": [
              "array([[1.]])"
            ]
          },
          "metadata": {},
          "execution_count": 82
        }
      ]
    },
    {
      "cell_type": "code",
      "source": [
        "np.eye(4)"
      ],
      "metadata": {
        "id": "aqRnTMsGPnsN",
        "colab": {
          "base_uri": "https://localhost:8080/"
        },
        "outputId": "0ffbcb0d-0e3d-4a28-8f8d-460693a3c995"
      },
      "execution_count": null,
      "outputs": [
        {
          "output_type": "execute_result",
          "data": {
            "text/plain": [
              "array([[1., 0., 0., 0.],\n",
              "       [0., 1., 0., 0.],\n",
              "       [0., 0., 1., 0.],\n",
              "       [0., 0., 0., 1.]])"
            ]
          },
          "metadata": {},
          "execution_count": 83
        }
      ]
    },
    {
      "cell_type": "code",
      "source": [
        "np.eye(50, dtype = int)"
      ],
      "metadata": {
        "id": "SSX0nInyPn2O",
        "colab": {
          "base_uri": "https://localhost:8080/"
        },
        "outputId": "eeff3cbd-ce81-4ed6-f202-ac433b109187"
      },
      "execution_count": null,
      "outputs": [
        {
          "output_type": "execute_result",
          "data": {
            "text/plain": [
              "array([[1, 0, 0, ..., 0, 0, 0],\n",
              "       [0, 1, 0, ..., 0, 0, 0],\n",
              "       [0, 0, 1, ..., 0, 0, 0],\n",
              "       ...,\n",
              "       [0, 0, 0, ..., 1, 0, 0],\n",
              "       [0, 0, 0, ..., 0, 1, 0],\n",
              "       [0, 0, 0, ..., 0, 0, 1]])"
            ]
          },
          "metadata": {},
          "execution_count": 84
        }
      ]
    },
    {
      "cell_type": "markdown",
      "source": [
        "\n",
        "**Números aleatorios usando NumPy**\n",
        "\n",
        "NumPy tiene varios métodos integrados que te permiten crear matrices de números aleatorios. Cada uno de estos métodos comienza con `random`. A continuación se muestran algunos ejemplos:"
      ],
      "metadata": {
        "id": "eThNwMeCPjnP"
      }
    },
    {
      "cell_type": "code",
      "source": [
        "np.random.rand(10)"
      ],
      "metadata": {
        "id": "-mVBAobmQdtn",
        "colab": {
          "base_uri": "https://localhost:8080/"
        },
        "outputId": "e16d5f3b-eb82-4064-9b06-5e3866a27586"
      },
      "execution_count": null,
      "outputs": [
        {
          "output_type": "execute_result",
          "data": {
            "text/plain": [
              "array([0.2983777 , 0.69507606, 0.37410726, 0.2300458 , 0.24297557,\n",
              "       0.42915462, 0.38052813, 0.5067167 , 0.63572637, 0.71072974])"
            ]
          },
          "metadata": {},
          "execution_count": 85
        }
      ]
    },
    {
      "cell_type": "markdown",
      "source": [
        "Devuelve un arreglo de 10 números aleatorios entre 0 y 1.\n",
        "\n",
        "El tamaño de la muestra puede ser un número entero (para un arreglo unidimensional) o dos enteros separados por comas (para un arreglo bidimensional)."
      ],
      "metadata": {
        "id": "8NeY-37bQd4U"
      }
    },
    {
      "cell_type": "code",
      "source": [
        "np.random.rand(4, 3)*10"
      ],
      "metadata": {
        "id": "CoPRdlxsRIoT",
        "colab": {
          "base_uri": "https://localhost:8080/"
        },
        "outputId": "d610b6b4-1ddd-46b6-aa90-9967a3221f63"
      },
      "execution_count": null,
      "outputs": [
        {
          "output_type": "execute_result",
          "data": {
            "text/plain": [
              "array([[6.60169349, 6.6229515 , 9.28809826],\n",
              "       [2.93223868, 6.44561933, 8.31205509],\n",
              "       [3.51285786, 0.29550514, 5.96597583],\n",
              "       [2.96349962, 2.38928151, 9.17972454]])"
            ]
          },
          "metadata": {},
          "execution_count": 86
        }
      ]
    },
    {
      "cell_type": "markdown",
      "source": [
        "Lo anterior devuelve una matriz $4 \\times 3$ de números aleatorios entre 0 y 10.\n",
        "\n",
        "Se pueden obtener números aleatorios entre 0 y 1, siguiendo la distribución normal:\n"
      ],
      "metadata": {
        "id": "inKst1npRJAN"
      }
    },
    {
      "cell_type": "code",
      "source": [
        "np.random.randn(30)"
      ],
      "metadata": {
        "id": "3I_RD8m2S48F",
        "colab": {
          "base_uri": "https://localhost:8080/"
        },
        "outputId": "5905b5cd-9037-4024-b6f3-f3c28497a72c"
      },
      "execution_count": null,
      "outputs": [
        {
          "output_type": "execute_result",
          "data": {
            "text/plain": [
              "array([ 0.57898079, -0.31468369,  0.5658963 , -0.07599016, -0.51979715,\n",
              "       -0.76583369,  0.67031251, -0.75737784, -0.63555371,  0.08839179,\n",
              "       -1.51891764,  0.497266  , -2.10787107,  0.43127675, -0.2915617 ,\n",
              "       -0.31137412, -1.26449563, -0.17821829, -1.28286351, -0.62005092,\n",
              "        1.15652031, -0.00724021,  1.46690131,  0.03243399, -0.63394414,\n",
              "        0.35969558,  0.80380967,  1.46059777,  0.04614124,  0.41146677])"
            ]
          },
          "metadata": {},
          "execution_count": 87
        }
      ]
    },
    {
      "cell_type": "markdown",
      "source": [
        "\n",
        "En  el caso de números aletorios enteros se usa `randint`.\n"
      ],
      "metadata": {
        "id": "-fDNX0DPS5Go"
      }
    },
    {
      "cell_type": "code",
      "source": [
        "np.random.randint(-20, 20, 10)"
      ],
      "metadata": {
        "id": "Ld15i4SpThvO",
        "colab": {
          "base_uri": "https://localhost:8080/"
        },
        "outputId": "425c4ac5-0f30-4df4-84ae-e6567f600e4d"
      },
      "execution_count": null,
      "outputs": [
        {
          "output_type": "execute_result",
          "data": {
            "text/plain": [
              "array([ 19,  -5, -13,  -2,   4, -13,  13,   1,   6, -15])"
            ]
          },
          "metadata": {},
          "execution_count": 88
        }
      ]
    },
    {
      "cell_type": "markdown",
      "source": [
        "Devuelve una muestra de 10 números enteros que son mayores o iguales que -20 y menores que 20.\n",
        "\n",
        "**Remodelar arreglos de NumPy**\n",
        "\n",
        "Es muy común tomar un arreglo con ciertas dimensiones y transformar ese arreglo en una forma diferente. Por ejemplo, es posible que tengas un arreglo unidimensional con 6 elementos y desees cambiarlo a un arreglo bidimensional de 2x3.\n",
        "\n",
        "A continuación se muestra un ejemplo:"
      ],
      "metadata": {
        "id": "OkCUKrmOTh6c"
      }
    },
    {
      "cell_type": "code",
      "source": [
        "arr = np.array([0,1,2,3,4,5])\n",
        "print(arr)\n",
        "arr.reshape(2,3)"
      ],
      "metadata": {
        "id": "WKXwLddTUHgX",
        "colab": {
          "base_uri": "https://localhost:8080/"
        },
        "outputId": "c2da621e-5792-4517-fbf9-27b82ce3814c"
      },
      "execution_count": null,
      "outputs": [
        {
          "output_type": "stream",
          "name": "stdout",
          "text": [
            "[0 1 2 3 4 5]\n"
          ]
        },
        {
          "output_type": "execute_result",
          "data": {
            "text/plain": [
              "array([[0, 1, 2],\n",
              "       [3, 4, 5]])"
            ]
          },
          "metadata": {},
          "execution_count": 89
        }
      ]
    },
    {
      "cell_type": "markdown",
      "source": [
        "La salida de esta operación es:\n",
        "\n",
        "\n",
        "```\n",
        "array([[0, 1, 2],\n",
        "       [3, 4, 5]])\n",
        "```\n",
        "\n",
        "Hay que tener en cuenta que para usar el método `reshape`, el arreglo original debe tener la misma cantidad de elementos que la multiplicación de los argumentos del método `reshape`.\n",
        "\n",
        "Si se duda sobre las dimensiones de un arreglo NumPy, se puede determinar sus dimensiones utilizando el atributo `shape` de NumPy. Por  ejemplo:"
      ],
      "metadata": {
        "id": "D2gv_jjsUHrb"
      }
    },
    {
      "cell_type": "code",
      "source": [
        "arr = np.array([0,1,2,3,4,5])\n",
        "print(arr.shape)\n",
        "arr = arr.reshape(2,3)\n",
        "print(arr.shape)\n",
        "print(arr)\n",
        "print(type(arr[0]))\n",
        "arr_2 = np.array([[0, 1, 2],  [3, 4, 5]])\n",
        "print(arr_2)\n",
        "print(type(arr_2[0]), arr_2[0])"
      ],
      "metadata": {
        "id": "FCliQqA5VJbo",
        "colab": {
          "base_uri": "https://localhost:8080/"
        },
        "outputId": "e2a0d1f4-83fb-4841-dfba-68356a73a3b1"
      },
      "execution_count": null,
      "outputs": [
        {
          "output_type": "stream",
          "name": "stdout",
          "text": [
            "(6,)\n",
            "(2, 3)\n",
            "[[0 1 2]\n",
            " [3 4 5]]\n",
            "<class 'numpy.ndarray'>\n",
            "[[0 1 2]\n",
            " [3 4 5]]\n",
            "<class 'numpy.ndarray'> [0 1 2]\n"
          ]
        }
      ]
    },
    {
      "cell_type": "markdown",
      "source": [
        "El método `shape` es el adecuado para averiguar el tamaño de los arreglos con los cuales estamos trabajando. Aplicar la función `len` solo devuelve en número de filas del arreglo."
      ],
      "metadata": {
        "id": "01ObUJq7IMoO"
      }
    },
    {
      "cell_type": "code",
      "source": [
        "len(arr)"
      ],
      "metadata": {
        "id": "kQMG5qdeIkv4",
        "colab": {
          "base_uri": "https://localhost:8080/"
        },
        "outputId": "87be90dd-99e9-41bb-8746-4fd8f6408c21"
      },
      "execution_count": null,
      "outputs": [
        {
          "output_type": "execute_result",
          "data": {
            "text/plain": [
              "2"
            ]
          },
          "metadata": {},
          "execution_count": 91
        }
      ]
    },
    {
      "cell_type": "markdown",
      "source": [
        "**Métodos de estadística sobre un arreglo NumPy**\n",
        "\n",
        "Aprendamos cuatro métodos útiles para identificar los valores máximo y mínimo dentro de un arreglo NumPy. Trabajaremos con este arreglo:\n"
      ],
      "metadata": {
        "id": "8zokHM1KVJoY"
      }
    },
    {
      "cell_type": "code",
      "source": [
        "simple_array = [1, 2., 3, 8, 30, 5]\n",
        "z = np.array(simple_array)\n",
        "print(z)"
      ],
      "metadata": {
        "id": "dmcJf0tnV8fx",
        "colab": {
          "base_uri": "https://localhost:8080/"
        },
        "outputId": "ab3183d0-ffa7-42f1-db58-0823b06f4de3"
      },
      "execution_count": null,
      "outputs": [
        {
          "output_type": "stream",
          "name": "stdout",
          "text": [
            "[ 1.  2.  3.  8. 30.  5.]\n"
          ]
        }
      ]
    },
    {
      "cell_type": "markdown",
      "source": [
        "Además de las operaciones aritméticas básicas, los arrays de NumPy tienen métodos o funciones específicas para estadística. Algunas de ellas son las siguientes:\n"
      ],
      "metadata": {
        "id": "mQnZFG91VIeW"
      }
    },
    {
      "cell_type": "code",
      "source": [
        "z.max()   # Valor máximo de los elementos del array"
      ],
      "metadata": {
        "id": "Zh29IHLuVhoA",
        "colab": {
          "base_uri": "https://localhost:8080/"
        },
        "outputId": "132d0a15-b0f9-43e0-effe-8ab3b32caf08"
      },
      "execution_count": null,
      "outputs": [
        {
          "output_type": "execute_result",
          "data": {
            "text/plain": [
              "30.0"
            ]
          },
          "metadata": {},
          "execution_count": 93
        }
      ]
    },
    {
      "cell_type": "code",
      "source": [
        "z.argmax() # índice donde se encuentra el máximo"
      ],
      "metadata": {
        "id": "1cScFpD30SHa",
        "colab": {
          "base_uri": "https://localhost:8080/"
        },
        "outputId": "90a536fa-f897-4c17-c679-73b99d21f841"
      },
      "execution_count": null,
      "outputs": [
        {
          "output_type": "execute_result",
          "data": {
            "text/plain": [
              "4"
            ]
          },
          "metadata": {},
          "execution_count": 94
        }
      ]
    },
    {
      "cell_type": "code",
      "source": [
        "z.min()   # Valor mínimo de los elementos del array"
      ],
      "metadata": {
        "id": "h9ZQ688IVzwv",
        "colab": {
          "base_uri": "https://localhost:8080/"
        },
        "outputId": "022524d9-f02e-48d6-afcf-540db8e94359"
      },
      "execution_count": null,
      "outputs": [
        {
          "output_type": "execute_result",
          "data": {
            "text/plain": [
              "1.0"
            ]
          },
          "metadata": {},
          "execution_count": 95
        }
      ]
    },
    {
      "cell_type": "code",
      "source": [
        "z.mean()  # Valor medio de los elementos del array"
      ],
      "metadata": {
        "id": "l7afZLAnVz70",
        "colab": {
          "base_uri": "https://localhost:8080/"
        },
        "outputId": "83da0ffd-2bf0-4146-fd4c-b251269c5368"
      },
      "execution_count": null,
      "outputs": [
        {
          "output_type": "execute_result",
          "data": {
            "text/plain": [
              "8.166666666666666"
            ]
          },
          "metadata": {},
          "execution_count": 96
        }
      ]
    },
    {
      "cell_type": "code",
      "source": [
        "z.std()   # Desviación típica de los elementos del array"
      ],
      "metadata": {
        "id": "lHk2MrITV0F7",
        "colab": {
          "base_uri": "https://localhost:8080/"
        },
        "outputId": "83bc7026-ffa7-4332-f536-f54a0fb1ab28"
      },
      "execution_count": null,
      "outputs": [
        {
          "output_type": "execute_result",
          "data": {
            "text/plain": [
              "10.023583302503264"
            ]
          },
          "metadata": {},
          "execution_count": 97
        }
      ]
    },
    {
      "cell_type": "code",
      "source": [
        "z.sum()   # Suma de todos los elementos del array"
      ],
      "metadata": {
        "id": "_2qoGnqFV0RR",
        "colab": {
          "base_uri": "https://localhost:8080/"
        },
        "outputId": "b6dcc0bd-fb10-4674-e5ad-ef50269fc359"
      },
      "execution_count": null,
      "outputs": [
        {
          "output_type": "execute_result",
          "data": {
            "text/plain": [
              "49.0"
            ]
          },
          "metadata": {},
          "execution_count": 98
        }
      ]
    },
    {
      "cell_type": "code",
      "source": [
        "print(np.median(z)) # Mediana de los elementos del array\n",
        "x =np.array([1, 2., 3, 8, 30, 5, 20])\n",
        "np.median(x)"
      ],
      "metadata": {
        "id": "uqr9AviEV0dm",
        "colab": {
          "base_uri": "https://localhost:8080/"
        },
        "outputId": "c86e4736-cc46-4abd-d3e9-c47466cdcc3e"
      },
      "execution_count": null,
      "outputs": [
        {
          "output_type": "stream",
          "name": "stdout",
          "text": [
            "4.0\n"
          ]
        },
        {
          "output_type": "execute_result",
          "data": {
            "text/plain": [
              "5.0"
            ]
          },
          "metadata": {},
          "execution_count": 99
        }
      ]
    },
    {
      "cell_type": "markdown",
      "source": [
        "\n",
        "Los métodos, que se operan de la forma `z.sum()` también pueden usarse como funciones de tipo `sum(z)`, etc. Consulten el manual de NumPy para conocer otras propiedades y métodos de los arrays o simplemente acudan y consulten la “ayuda” de las funciones que quieran utilizar."
      ],
      "metadata": {
        "id": "sh3HIs0sVmMx"
      }
    },
    {
      "cell_type": "code",
      "source": [
        "sum(z)"
      ],
      "metadata": {
        "id": "5r92mjaNPpwv",
        "colab": {
          "base_uri": "https://localhost:8080/"
        },
        "outputId": "ef7abbaf-1270-41d4-d1d9-5ecffbf0fbf4"
      },
      "execution_count": null,
      "outputs": [
        {
          "output_type": "execute_result",
          "data": {
            "text/plain": [
              "49.0"
            ]
          },
          "metadata": {},
          "execution_count": 100
        }
      ]
    },
    {
      "cell_type": "markdown",
      "source": [
        "## 8. Arrays booleanos\n",
        "\n",
        "Una gran utilidad de los arrays es la posibilidad de usarlos con datos booleanos (`True` o `False`) y operar entre ellos o incluso mezclados con arrays con números. Veamos algunos ejemplos:"
      ],
      "metadata": {
        "id": "XpPbSwFJOJRS"
      }
    },
    {
      "cell_type": "code",
      "source": [
        "A = np.array([True, False, True])\n",
        "B = np.array([False, False, True])\n",
        "print(type(A[0]))"
      ],
      "metadata": {
        "id": "Bcex3qylOj13",
        "colab": {
          "base_uri": "https://localhost:8080/"
        },
        "outputId": "76092807-ad61-4132-c661-5d83da5cbe21"
      },
      "execution_count": null,
      "outputs": [
        {
          "output_type": "stream",
          "name": "stdout",
          "text": [
            "<class 'numpy.bool_'>\n"
          ]
        }
      ]
    },
    {
      "cell_type": "markdown",
      "source": [
        "Podemos hacer el \"y\" de array booleanos con  el `*`:"
      ],
      "metadata": {
        "id": "x5RKuB7ZcAlI"
      }
    },
    {
      "cell_type": "code",
      "source": [
        "print(A*B)"
      ],
      "metadata": {
        "id": "0CHcr_SvPCrm",
        "colab": {
          "base_uri": "https://localhost:8080/"
        },
        "outputId": "59a6b7e3-24fb-431b-a48a-49828d6dcf15"
      },
      "execution_count": null,
      "outputs": [
        {
          "output_type": "stream",
          "name": "stdout",
          "text": [
            "[False False  True]\n"
          ]
        }
      ]
    },
    {
      "cell_type": "markdown",
      "source": [
        "En este ejemplo vemos cómo al multiplicar dos arrays booleanos es resultado es otro array booleano hacien el \"y\" coordenada a coordenada. Para hacer el \"o\" usamos el operador `+` y para hacer la negación el `~`:"
      ],
      "metadata": {
        "id": "BmhiHH-dcWoI"
      }
    },
    {
      "cell_type": "code",
      "source": [
        "print(A+B)\n",
        "print(~A)"
      ],
      "metadata": {
        "id": "WsQ8kVG5cmeR",
        "colab": {
          "base_uri": "https://localhost:8080/"
        },
        "outputId": "6130ca25-f6c7-495f-ec16-9452f8b72346"
      },
      "execution_count": null,
      "outputs": [
        {
          "output_type": "stream",
          "name": "stdout",
          "text": [
            "[ True False  True]\n",
            "[False  True False]\n"
          ]
        }
      ]
    },
    {
      "cell_type": "markdown",
      "source": [
        "Pero al multiplicar los arrays booleanos con arrays numéricos, el resultado es un array numérico con los mismos elementos, pero con los elementos que fueron multiplicados por `False` iguales a cero."
      ],
      "metadata": {
        "id": "bjSMmN1VdBM-"
      }
    },
    {
      "cell_type": "code",
      "source": [
        "C = np.array([1, 2, 3])\n",
        "print('A =',A)\n",
        "print('C =',C)\n",
        "print('A*C =',A*C)"
      ],
      "metadata": {
        "id": "9AcNgw_VPJsd",
        "colab": {
          "base_uri": "https://localhost:8080/"
        },
        "outputId": "6029e596-4d65-4bde-fda7-a57c8a60e521"
      },
      "execution_count": null,
      "outputs": [
        {
          "output_type": "stream",
          "name": "stdout",
          "text": [
            "A = [ True False  True]\n",
            "C = [1 2 3]\n",
            "A*C = [1 0 3]\n"
          ]
        }
      ]
    },
    {
      "cell_type": "markdown",
      "source": [
        "En  realidad en este tipo de operaciones el array booleano puede ser visto como un array numérico con `0` en `False` y `1` en `True`, como podemos ver en este ejemplo:  "
      ],
      "metadata": {
        "id": "qPQmRi9powC5"
      }
    },
    {
      "cell_type": "code",
      "source": [
        "print('B =',B)\n",
        "print('C =',C)\n",
        "print('B+C =',B+C)"
      ],
      "metadata": {
        "id": "UsFQmj8iPTw1",
        "colab": {
          "base_uri": "https://localhost:8080/"
        },
        "outputId": "ca526f41-5531-45ec-b627-0e454b20b0d2"
      },
      "execution_count": null,
      "outputs": [
        {
          "output_type": "stream",
          "name": "stdout",
          "text": [
            "B = [False False  True]\n",
            "C = [1 2 3]\n",
            "B+C = [1 2 4]\n"
          ]
        }
      ]
    },
    {
      "cell_type": "markdown",
      "source": [
        "Tambíén es posible usar los arrays como índices de otro array y como índices se pueden usar arrays numéricos o booleanos. El resultado será:\n",
        "\n",
        "- si el array que se usa de índice es numérico (enteros no negativos), se devolverá el subarray con eso índices,\n",
        "- si el array que se usa de índice es booleano (de `True` y `False`), debe tener la misma longitud del array original y devuelve  el subarray de las posiciones correspondientes a `True`\n",
        "\n",
        "Hagamos algunos ejemplos.\n"
      ],
      "metadata": {
        "id": "Biq7EHmCOkPw"
      }
    },
    {
      "cell_type": "code",
      "source": [
        "# Array con enteros de 0 a 90, de 10 en 10\n",
        "mi_array = np.arange(0,100,10)\n",
        "print(mi_array)"
      ],
      "metadata": {
        "id": "jSdAjGqNQAer",
        "colab": {
          "base_uri": "https://localhost:8080/"
        },
        "outputId": "3f73b2e2-4375-4bf6-b523-2de30460f227"
      },
      "execution_count": null,
      "outputs": [
        {
          "output_type": "stream",
          "name": "stdout",
          "text": [
            "[ 0 10 20 30 40 50 60 70 80 90]\n"
          ]
        }
      ]
    },
    {
      "cell_type": "code",
      "source": [
        "# Array de índices numericos con numeros de 0-9 de 2 en 2\n",
        "indices1 = np.arange(0,10,2)\n",
        "print(indices1)"
      ],
      "metadata": {
        "id": "6YaK2HK3QlaU",
        "colab": {
          "base_uri": "https://localhost:8080/"
        },
        "outputId": "c754ca92-8b69-445e-f94a-444b5ae14edd"
      },
      "execution_count": null,
      "outputs": [
        {
          "output_type": "stream",
          "name": "stdout",
          "text": [
            "[0 2 4 6 8]\n"
          ]
        }
      ]
    },
    {
      "cell_type": "code",
      "source": [
        "# Array de 10 índices booleanos\n",
        "indices2 = np.array([False, True, True, False, False, True, False, False, True, True])\n",
        "print(indices2)"
      ],
      "metadata": {
        "id": "eVG5IIYhQlo0",
        "colab": {
          "base_uri": "https://localhost:8080/"
        },
        "outputId": "195d4644-1217-4e3a-95c5-f51246ae1857"
      },
      "execution_count": null,
      "outputs": [
        {
          "output_type": "stream",
          "name": "stdout",
          "text": [
            "[False  True  True False False  True False False  True  True]\n"
          ]
        }
      ]
    },
    {
      "cell_type": "code",
      "source": [
        "print(mi_array)\n",
        "print(mi_array[indices1]) # solo aprecen los valores con índice en indices1\n",
        "print(mi_array[indices2]) # solo aparecen  los valores con índices True en indices2"
      ],
      "metadata": {
        "id": "21FWlgf6RUXD",
        "colab": {
          "base_uri": "https://localhost:8080/"
        },
        "outputId": "db0b3e65-09e4-40fa-8cf0-d154e9c0d9ef"
      },
      "execution_count": null,
      "outputs": [
        {
          "output_type": "stream",
          "name": "stdout",
          "text": [
            "[ 0 10 20 30 40 50 60 70 80 90]\n",
            "[ 0 20 40 60 80]\n",
            "[10 20 50 80 90]\n"
          ]
        }
      ]
    },
    {
      "cell_type": "markdown",
      "source": [
        "Solo es admisible utilizar como índices arreglos de enteros o arreglos de booleanos y  estos últimos deben tener la misma longitud que el arreglo que se está indizando."
      ],
      "metadata": {
        "id": "bfdTrDivq1G2"
      }
    },
    {
      "cell_type": "markdown",
      "source": [
        "También es muy sencillo crear arrays booleanos usando operadores lógicos y luego usalos como índices, por ejemplo:"
      ],
      "metadata": {
        "id": "aN_VyxuPQFzf"
      }
    },
    {
      "cell_type": "code",
      "source": [
        "# Creamos un array booleano usando un operador booleano\n",
        "mayores50 = mi_array > 50\n",
        "print(mayores50)"
      ],
      "metadata": {
        "id": "5zED4VTkSyLb",
        "colab": {
          "base_uri": "https://localhost:8080/"
        },
        "outputId": "f35f1f5d-b21f-47dd-f600-2c944c61a943"
      },
      "execution_count": null,
      "outputs": [
        {
          "output_type": "stream",
          "name": "stdout",
          "text": [
            "[False False False False False False  True  True  True  True]\n"
          ]
        }
      ]
    },
    {
      "cell_type": "markdown",
      "source": [
        "Este array puede servir como índice para recuperar un subarray."
      ],
      "metadata": {
        "id": "RAXYhDoJUHU4"
      }
    },
    {
      "cell_type": "code",
      "source": [
        "print(mi_array[mayores50])"
      ],
      "metadata": {
        "id": "37xfR0oXT4ZI",
        "colab": {
          "base_uri": "https://localhost:8080/"
        },
        "outputId": "7530a38e-c3e2-4483-f1a2-3a4a2f7a51ad"
      },
      "execution_count": null,
      "outputs": [
        {
          "output_type": "stream",
          "name": "stdout",
          "text": [
            "[60 70 80 90]\n"
          ]
        }
      ]
    },
    {
      "cell_type": "markdown",
      "source": [
        "La creación de array booleanos para ser usados como índices de arrays numéricos es una característica *muy útil* y *muy utilizada* en NumPy (remarcamos esto). A estos array booleanos suele llamárselos *máscaras* y se utilizan, por ejemplo, para \"limpiar\" datos espurios de una muestra."
      ],
      "metadata": {
        "id": "H6nqBDyL_wj4"
      }
    },
    {
      "cell_type": "markdown",
      "source": [
        "## 9. Iterar sobre arreglos Numpy\n",
        "\n",
        "Iterar un arreglo NumPy se puede realizar de varias formas, dependiendo de tus necesidades específicas. Aquí hay algunas de las maneras más comunes:\n",
        "\n",
        "### 9.1. Iterar sobre los elementos del arreglo (arreglo unidimensional)\n",
        "\n",
        "Si tienes un arreglo unidimensional, puedes iterar sobre sus elementos de manera similar a cómo lo harías con una lista en Python.\n",
        "\n"
      ],
      "metadata": {
        "id": "jhH4HoZdXqGC"
      }
    },
    {
      "cell_type": "code",
      "source": [
        "import numpy as np\n",
        "\n",
        "arr = np.array([1, 2, 3, 4, 5])\n",
        "\n",
        "for element in arr:\n",
        "    print(element)"
      ],
      "metadata": {
        "id": "HGvNZXdpYM12",
        "colab": {
          "base_uri": "https://localhost:8080/"
        },
        "outputId": "4b89dd18-941f-4108-ebdd-1a7582dc11bf"
      },
      "execution_count": null,
      "outputs": [
        {
          "output_type": "stream",
          "name": "stdout",
          "text": [
            "1\n",
            "2\n",
            "3\n",
            "4\n",
            "5\n"
          ]
        }
      ]
    },
    {
      "cell_type": "markdown",
      "source": [
        "### 9.2. Iterar sobre las filas de un arreglo bidimensional\n",
        "\n",
        "Esto es escencialmente lo mismo que se hace en el punto anterior, pero ahora los elementos son filas."
      ],
      "metadata": {
        "id": "PUSX2y9nYG_q"
      }
    },
    {
      "cell_type": "code",
      "source": [
        "mat = np.array([[5, 10, 15, 17],\n",
        "                [20, 25, 30, 32],\n",
        "                [35, 40, 45, 47]])\n",
        "\n",
        "for row in mat:\n",
        "    print(row)"
      ],
      "metadata": {
        "id": "9Umwi02iYqb5",
        "colab": {
          "base_uri": "https://localhost:8080/"
        },
        "outputId": "c9b12239-161d-43a0-e3b1-47fe00f57449"
      },
      "execution_count": null,
      "outputs": [
        {
          "output_type": "stream",
          "name": "stdout",
          "text": [
            "[ 5 10 15 17]\n",
            "[20 25 30 32]\n",
            "[35 40 45 47]\n"
          ]
        }
      ]
    },
    {
      "cell_type": "markdown",
      "source": [
        "### 9.3. Iterar sobre los elementos de un arreglo bidimensional (anidando loops)\n",
        "\n",
        "Puedes anidar loops para iterar sobre cada elemento en un arreglo bidimensional. Es exactamente igual a como se hace en listas de listas.\n"
      ],
      "metadata": {
        "id": "KJtZE0loYmhv"
      }
    },
    {
      "cell_type": "code",
      "source": [
        "for row in mat:\n",
        "    for element in row:\n",
        "        print(element)"
      ],
      "metadata": {
        "id": "r4Lnf1OUY3ux",
        "colab": {
          "base_uri": "https://localhost:8080/"
        },
        "outputId": "072e2497-92b5-4ba6-dd54-1d1ac42d0682"
      },
      "execution_count": null,
      "outputs": [
        {
          "output_type": "stream",
          "name": "stdout",
          "text": [
            "5\n",
            "10\n",
            "15\n",
            "17\n",
            "20\n",
            "25\n",
            "30\n",
            "32\n",
            "35\n",
            "40\n",
            "45\n",
            "47\n"
          ]
        }
      ]
    },
    {
      "cell_type": "markdown",
      "source": [
        "### 9.4. Iterar usando `nditer`\n",
        "\n",
        "NumPy proporciona `np.nditer` para iterar de manera eficiente sobre cualquier arreglo, independientemente de su forma."
      ],
      "metadata": {
        "id": "FcRxwePnYzp2"
      }
    },
    {
      "cell_type": "code",
      "source": [
        "for element in np.nditer(mat):\n",
        "    print(element)"
      ],
      "metadata": {
        "id": "17aDFNYSZIAr",
        "colab": {
          "base_uri": "https://localhost:8080/"
        },
        "outputId": "48643bec-0b1b-4945-d209-fc3265777aba"
      },
      "execution_count": null,
      "outputs": [
        {
          "output_type": "stream",
          "name": "stdout",
          "text": [
            "5\n",
            "10\n",
            "15\n",
            "17\n",
            "20\n",
            "25\n",
            "30\n",
            "32\n",
            "35\n",
            "40\n",
            "45\n",
            "47\n"
          ]
        }
      ]
    },
    {
      "cell_type": "markdown",
      "source": [
        "### 9.5. Iterar con `enumerate`\n",
        "\n",
        "Si necesitas los índices junto con los elementos, puedes usar `enumerate`.\n",
        "\n",
        "#### Unidimensional\n"
      ],
      "metadata": {
        "id": "8AaHksSDZDQE"
      }
    },
    {
      "cell_type": "code",
      "source": [
        "for index, element in enumerate(arr):\n",
        "    print(f\"Index: {index}, Element: {element}\")"
      ],
      "metadata": {
        "id": "1063yspxZ43I",
        "colab": {
          "base_uri": "https://localhost:8080/"
        },
        "outputId": "10e93a5d-a18b-4060-c756-a0102a5d63cc"
      },
      "execution_count": null,
      "outputs": [
        {
          "output_type": "stream",
          "name": "stdout",
          "text": [
            "Index: 0, Element: 1\n",
            "Index: 1, Element: 2\n",
            "Index: 2, Element: 3\n",
            "Index: 3, Element: 4\n",
            "Index: 4, Element: 5\n"
          ]
        }
      ]
    },
    {
      "cell_type": "markdown",
      "source": [
        "#### Bidimensional\n",
        "\n",
        "Para un arreglo bidimensional, puedes anidar `enumerate` para obtener tanto las filas como las columnas.\n"
      ],
      "metadata": {
        "id": "ju3mMeKzZXls"
      }
    },
    {
      "cell_type": "code",
      "source": [
        "for i, row in enumerate(mat):\n",
        "    for j, element in enumerate(row):\n",
        "        print(f\"Row: {i}, Column: {j}, Element: {element}\")"
      ],
      "metadata": {
        "id": "EebCx4kyZybh",
        "colab": {
          "base_uri": "https://localhost:8080/"
        },
        "outputId": "2801692f-cc76-4158-a1f3-6be61965285a"
      },
      "execution_count": null,
      "outputs": [
        {
          "output_type": "stream",
          "name": "stdout",
          "text": [
            "Row: 0, Column: 0, Element: 5\n",
            "Row: 0, Column: 1, Element: 10\n",
            "Row: 0, Column: 2, Element: 15\n",
            "Row: 0, Column: 3, Element: 17\n",
            "Row: 1, Column: 0, Element: 20\n",
            "Row: 1, Column: 1, Element: 25\n",
            "Row: 1, Column: 2, Element: 30\n",
            "Row: 1, Column: 3, Element: 32\n",
            "Row: 2, Column: 0, Element: 35\n",
            "Row: 2, Column: 1, Element: 40\n",
            "Row: 2, Column: 2, Element: 45\n",
            "Row: 2, Column: 3, Element: 47\n"
          ]
        }
      ]
    },
    {
      "cell_type": "markdown",
      "source": [
        "### 9.6. Iterar con `np.ndenumerate`\n",
        "\n",
        "`np.ndenumerate` es útil para iterar sobre todos los elementos de un arreglo junto con sus índices.\n",
        "\n"
      ],
      "metadata": {
        "id": "WOk-gDNPZcqZ"
      }
    },
    {
      "cell_type": "code",
      "source": [
        "for index, element in np.ndenumerate(mat):\n",
        "    print(f\"Index: {index}, Element: {element}\")"
      ],
      "metadata": {
        "id": "gVL7uXyqZo93",
        "colab": {
          "base_uri": "https://localhost:8080/"
        },
        "outputId": "c15e63b3-27d5-4667-f13f-acd9bf28b64b"
      },
      "execution_count": null,
      "outputs": [
        {
          "output_type": "stream",
          "name": "stdout",
          "text": [
            "Index: (0, 0), Element: 5\n",
            "Index: (0, 1), Element: 10\n",
            "Index: (0, 2), Element: 15\n",
            "Index: (0, 3), Element: 17\n",
            "Index: (1, 0), Element: 20\n",
            "Index: (1, 1), Element: 25\n",
            "Index: (1, 2), Element: 30\n",
            "Index: (1, 3), Element: 32\n",
            "Index: (2, 0), Element: 35\n",
            "Index: (2, 1), Element: 40\n",
            "Index: (2, 2), Element: 45\n",
            "Index: (2, 3), Element: 47\n"
          ]
        }
      ]
    },
    {
      "cell_type": "markdown",
      "source": [
        "## Ejemplos"
      ],
      "metadata": {
        "id": "u4TLZwV0YVWj"
      }
    },
    {
      "cell_type": "markdown",
      "source": [
        "1. Crear un array de 120 números enteros aleatorios con valores de -100 a +100. Usando arrays de booleanos crear otros arrays que contengan los positivos, los negativos, los mayores de 50 y los $x$ tal que $-50 < x < 50$ del array original."
      ],
      "metadata": {
        "id": "KrTm2GBaYres"
      }
    },
    {
      "cell_type": "code",
      "source": [],
      "metadata": {
        "id": "6yTBXURGg85g"
      },
      "execution_count": null,
      "outputs": []
    },
    {
      "cell_type": "markdown",
      "source": [
        "**Solución:**"
      ],
      "metadata": {
        "id": "gT7Nt38Vvnh1"
      }
    },
    {
      "cell_type": "code",
      "source": [
        "original = np.random.randint(-100, 100, 120)\n",
        "print(original)"
      ],
      "metadata": {
        "id": "a2qxSNNNYr10",
        "colab": {
          "base_uri": "https://localhost:8080/"
        },
        "outputId": "1bf28f74-6b51-4470-9406-2a7f1c3aea44"
      },
      "execution_count": null,
      "outputs": [
        {
          "output_type": "stream",
          "name": "stdout",
          "text": [
            "[-40  80  27 -57  17  10 -83  -3  35 -27 -55 -15  89 -22 -86 -74 -89  41\n",
            "  60  71 -20  76  70  -5  91 -25  89 -73  60 -97  13  27 -13  55   6  12\n",
            "   1  -1 -20  98  23  65 -87  64 -88  10 -51 -11  -9  57 -69  71  44  72\n",
            "   9   9 -81  55   0  54  39  63  56  -7 -80 -26 -68  17  22 -47  77  43\n",
            " -32  12  97 -80  26  29 -23 -24  12  48 -32  26 -32  55  34  -8  69  71\n",
            "  50  -2 -46   7 -37 -20 -40 -35 -17 -91 -30   4 -29  33 -36 -97  50  75\n",
            " -34  77  69  29 -72 -16  -7 -54  48  29  81  37]\n"
          ]
        }
      ]
    },
    {
      "cell_type": "code",
      "source": [
        "positivos = original > 0\n",
        "orig_pos = original[positivos]\n",
        "print(orig_pos)"
      ],
      "metadata": {
        "id": "cDa7K8HDSgN4",
        "colab": {
          "base_uri": "https://localhost:8080/"
        },
        "outputId": "25d41de9-79d6-48ba-f7a4-8ec4e5a66390"
      },
      "execution_count": null,
      "outputs": [
        {
          "output_type": "stream",
          "name": "stdout",
          "text": [
            "[80 27 17 10 35 89 41 60 71 76 70 91 89 60 13 27 55  6 12  1 98 23 65 64\n",
            " 10 57 71 44 72  9  9 55 54 39 63 56 17 22 77 43 12 97 26 29 12 48 26 55\n",
            " 34 69 71 50  7  4 33 50 75 77 69 29 48 29 81 37]\n"
          ]
        }
      ]
    },
    {
      "cell_type": "code",
      "source": [
        "negativos = original < 0\n",
        "orig_neg = original[negativos]\n",
        "print(orig_neg)"
      ],
      "metadata": {
        "id": "R8nsvWaCThxp",
        "colab": {
          "base_uri": "https://localhost:8080/"
        },
        "outputId": "8d33ecb9-3366-4cf3-a353-052018e8378f"
      },
      "execution_count": null,
      "outputs": [
        {
          "output_type": "stream",
          "name": "stdout",
          "text": [
            "[-40 -57 -83  -3 -27 -55 -15 -22 -86 -74 -89 -20  -5 -25 -73 -97 -13  -1\n",
            " -20 -87 -88 -51 -11  -9 -69 -81  -7 -80 -26 -68 -47 -32 -80 -23 -24 -32\n",
            " -32  -8  -2 -46 -37 -20 -40 -35 -17 -91 -30 -29 -36 -97 -34 -72 -16  -7\n",
            " -54]\n"
          ]
        }
      ]
    },
    {
      "cell_type": "code",
      "source": [
        "mayores50 = original > 50\n",
        "orig_may50 = original[mayores50]\n",
        "print(orig_may50)"
      ],
      "metadata": {
        "id": "5XDHxH_9T7Vo",
        "colab": {
          "base_uri": "https://localhost:8080/"
        },
        "outputId": "c56d5372-983d-4ec9-c7c2-2521972cd6c9"
      },
      "execution_count": null,
      "outputs": [
        {
          "output_type": "stream",
          "name": "stdout",
          "text": [
            "[80 89 60 71 76 70 91 89 60 55 98 65 64 57 71 72 55 54 63 56 77 97 55 69\n",
            " 71 75 77 69 81]\n"
          ]
        }
      ]
    },
    {
      "cell_type": "code",
      "source": [
        "intervalo1 = -50 < original # mayores que -50\n",
        "intervalo2 = original < 50 # menores que 50\n",
        "intervalo = intervalo1 * intervalo2 # los x tales que -50 < x < 50\n",
        "orig_int = original[intervalo]\n",
        "print(orig_int)"
      ],
      "metadata": {
        "id": "1usahRRNUP_S",
        "colab": {
          "base_uri": "https://localhost:8080/"
        },
        "outputId": "b0b47567-55e2-408d-db9c-304878cbba52"
      },
      "execution_count": null,
      "outputs": [
        {
          "output_type": "stream",
          "name": "stdout",
          "text": [
            "[-40  27  17  10  -3  35 -27 -15 -22  41 -20  -5 -25  13  27 -13   6  12\n",
            "   1  -1 -20  23  10 -11  -9  44   9   9   0  39  -7 -26  17  22 -47  43\n",
            " -32  12  26  29 -23 -24  12  48 -32  26 -32  34  -8  -2 -46   7 -37 -20\n",
            " -40 -35 -17 -30   4 -29  33 -36 -34  29 -16  -7  48  29  37]\n"
          ]
        }
      ]
    },
    {
      "cell_type": "markdown",
      "source": [
        "Así como el  `*` actúa como un  `and` entre booleanos,  el `+` actúa como un `or`. Veamos un ejemplo:"
      ],
      "metadata": {
        "id": "Lx9XAuAAwi20"
      }
    },
    {
      "cell_type": "code",
      "source": [
        "intervalo = ( original < -50) + (original > 50) # los extremos,  es decir los x tal (x < -50) or (x > 50)\n",
        "orig_extremos = original[intervalo]\n",
        "print(orig_extremos)"
      ],
      "metadata": {
        "id": "XrSARCrXVyQG",
        "colab": {
          "base_uri": "https://localhost:8080/"
        },
        "outputId": "ab4c18b7-a087-4fe4-ee5b-35046efbb9dd"
      },
      "execution_count": null,
      "outputs": [
        {
          "output_type": "stream",
          "name": "stdout",
          "text": [
            "[ 80 -57 -83 -55  89 -86 -74 -89  60  71  76  70  91  89 -73  60 -97  55\n",
            "  98  65 -87  64 -88 -51  57 -69  71  72 -81  55  54  63  56 -80 -68  77\n",
            "  97 -80  55  69  71 -91 -97  75  77  69 -72 -54  81]\n"
          ]
        }
      ]
    },
    {
      "cell_type": "markdown",
      "source": [
        "2. La nota final de una materia de la Facultad, digamos $F$, se calcula añadiendo a la nota del examen final ($Z$) una ponderación de la evaluación contínua ($C$) a lo largo del curso de la forma:\n",
        "$$\n",
        "P = 0.6\\,C + Z \\frac{(10 - 0.6\\,C)}{10}\n",
        "$$\n",
        "El alumno estará aprobado cuando $P$ sea mayor o igual a cinco, siempre que $Z$ supere un tercio de la nota máxima ($Z>10/3$). En  ese cas $F= P$. En caso contrario, se queda con $F=Z$. Un grupo de alumnos ha obtenido las siguientes calificaciones en la evaluación contínua y en el examen final:\n",
        "$$\n",
        "\\begin{matrix}\n",
        "&&\ta_0& a_1& a_2& a_3& a_4& a_5& a_6& a_7& a_8& a_9 \\\\\n",
        "C&&\t8.2& 0.0& 9.0& 5.0& 8.4& 7.2& 5.0& 9.2& 4.9& 7.9 \\\\\n",
        "Z&&\t7.1& 5.1& 8.8& 3.1& 4.6& 2.0& 4.1& 7.4& 4.4& 8.8\n",
        "\\end{matrix}\n",
        "$$\n",
        "\n",
        "Usando arrays de NumPy hacer un programa que calcule sus notas finales indicando además quién ha aprobado y quién no. Calcular también la nota media de la evaluación continua, del examen final y de la nota final."
      ],
      "metadata": {
        "id": "3xBz9qz_YsUj"
      }
    },
    {
      "cell_type": "markdown",
      "source": [
        "**Solución:** Primero creemos las estructuras necesarias para poder trabajar."
      ],
      "metadata": {
        "id": "MfTGN7x_SPQT"
      }
    },
    {
      "cell_type": "code",
      "source": [
        "import numpy as np\n",
        "alumnos = np.array(['a_0', 'a_1', 'a_2', 'a_3', 'a_4', 'a_5', 'a_6', 'a_7', 'a_8', 'a_9'])\n",
        "eval_c = np.array([8.2, 0.0, 9.0, 5.0, 8.4, 7.2, 5.0, 9.2, 4.9, 7.9])\n",
        "eval_z = np.array([7.1, 5.8, 8.8, 3.1, 4.6, 2.0, 4.1, 7.4, 4.4, 8.8])\n",
        "eval_p = 0.6 * eval_c + eval_z * (10 - 0.6 * eval_c) / 10\n",
        "print(eval_c)\n",
        "print(eval_z)\n",
        "print(eval_p)"
      ],
      "metadata": {
        "id": "DHCydz4SYsnf",
        "colab": {
          "base_uri": "https://localhost:8080/"
        },
        "outputId": "f02e25b5-17eb-4fb0-a740-217f70e2c37b"
      },
      "execution_count": null,
      "outputs": [
        {
          "output_type": "stream",
          "name": "stdout",
          "text": [
            "[8.2 0.  9.  5.  8.4 7.2 5.  9.2 4.9 7.9]\n",
            "[7.1 5.8 8.8 3.1 4.6 2.  4.1 7.4 4.4 8.8]\n",
            "[8.5268 5.8    9.448  5.17   7.3216 5.456  5.87   8.8352 6.0464 9.3688]\n"
          ]
        }
      ]
    },
    {
      "cell_type": "markdown",
      "source": [
        "Antes de hacer las cuentas escribamos la lógica de la nota para un alumno. Si\n",
        "$$\n",
        "P =  0.6\\,C + Z \\displaystyle\\frac{(10 - 0.6\\,C)}{10},\n",
        "$$\n",
        "entonces\n",
        "$$\n",
        "F = \\left\\{\n",
        "    \\begin{matrix}\n",
        "    P & &\\text{si }&\\quad Z > 1/3 \\;\\wedge\\; P \\ge 5 \\\\\n",
        "    Z & &\\text{}& \\text{en caso contrario.}\n",
        "    \\end{matrix}\n",
        "    \\right.\n",
        "$$\n",
        "Entonces $F$  será la nota final."
      ],
      "metadata": {
        "id": "WKNwNMFetxFQ"
      }
    },
    {
      "cell_type": "markdown",
      "source": [
        "Veamos los alumnos aprobados:"
      ],
      "metadata": {
        "id": "rJH5Y24kSqf8"
      }
    },
    {
      "cell_type": "code",
      "source": [
        "criterio_1 = eval_z >= 10/3\n",
        "criterio_2 = eval_p >= 5\n",
        "criterio_aprobado = criterio_1 * criterio_2\n",
        "aprobados = alumnos[criterio_aprobado]\n",
        "print(aprobados)"
      ],
      "metadata": {
        "id": "lvYAGMKMmILc",
        "colab": {
          "base_uri": "https://localhost:8080/"
        },
        "outputId": "80b62379-7c9c-4b3e-d518-b325b57d69eb"
      },
      "execution_count": null,
      "outputs": [
        {
          "output_type": "stream",
          "name": "stdout",
          "text": [
            "['a_0' 'a_1' 'a_2' 'a_4' 'a_6' 'a_7' 'a_8' 'a_9']\n"
          ]
        }
      ]
    },
    {
      "cell_type": "markdown",
      "source": [
        "Hacer el array con las notas finales es un poco más complicado. Recordemos que multiplicar por un array lógico es como multiplicar por 1s y 0s (`True` y `False`, respectivamente)."
      ],
      "metadata": {
        "id": "1s-fFtI-0sVm"
      }
    },
    {
      "cell_type": "code",
      "source": [
        "print(eval_p * criterio_aprobado)\n",
        "print(eval_z * ~criterio_aprobado)\n",
        "eval_f = eval_p * criterio_aprobado + eval_z * ~criterio_aprobado\n",
        "eval_f = np.round(eval_f)\n",
        "print('Notas finales:', eval_f)"
      ],
      "metadata": {
        "id": "-DKQRLQA00D3",
        "colab": {
          "base_uri": "https://localhost:8080/"
        },
        "outputId": "ac8b9fe3-efb8-46ba-9a43-b224f0ff9d8d"
      },
      "execution_count": null,
      "outputs": [
        {
          "output_type": "stream",
          "name": "stdout",
          "text": [
            "[8.5268 5.8    9.448  0.     7.3216 0.     5.87   8.8352 6.0464 9.3688]\n",
            "[0.  0.  0.  3.1 0.  2.  0.  0.  0.  0. ]\n",
            "Notas finales: [9. 6. 9. 3. 7. 2. 6. 9. 6. 9.]\n"
          ]
        }
      ]
    },
    {
      "cell_type": "markdown",
      "source": [
        "Podemos,  además, como pide la consigna, calcular algunos datos estadísticos sobre el curso:"
      ],
      "metadata": {
        "id": "s8mrXgbRxmsB"
      }
    },
    {
      "cell_type": "code",
      "source": [
        "print('Promedio de las evaluaciones continuas:', np.round(eval_c.mean(),1))\n",
        "print('Promedio de las notas del examen final:', np.round(eval_z.mean(),1))\n",
        "print('Promedio de las notas finales:', eval_f.mean())"
      ],
      "metadata": {
        "id": "afdgj8FsmjWc",
        "colab": {
          "base_uri": "https://localhost:8080/"
        },
        "outputId": "3180ba4d-5f0f-44de-b78a-3ad3ddf66a00"
      },
      "execution_count": null,
      "outputs": [
        {
          "output_type": "stream",
          "name": "stdout",
          "text": [
            "Promedio de las evaluaciones continuas: 6.5\n",
            "Promedio de las notas del examen final: 5.6\n",
            "Promedio de las notas finales: 6.6\n"
          ]
        }
      ]
    },
    {
      "cell_type": "code",
      "source": [],
      "metadata": {
        "id": "ZWKdP1m1u5uu"
      },
      "execution_count": null,
      "outputs": []
    },
    {
      "cell_type": "markdown",
      "source": [
        "##10. Operadores booleanos\n",
        "\n",
        "En NumPy, los operadores lógicos se utilizan para realizar operaciones booleanas elemento a elemento en arrays. Los principales operadores lógicos en NumPy son:\n",
        "\n",
        "- `a & b`: Devuelve un array booleano con `True` donde ambos elementos `a` y `b` son `True`. Es equivalente al operador `and` en Python.\n",
        "\n",
        "- `a | b`: Devuelve un array booleano con `True` donde al menos uno de los elementos en `a` o `b` es `True`. Es equivalente al operador `or` en Python.\n",
        "\n",
        "- `~a`: Devuelve un array booleano con los elementos negados, es decir, `False` donde `a` es `True` y viceversa. Es equivalente al operador `not` en Python\n",
        "\n",
        "Ejemplos:"
      ],
      "metadata": {
        "id": "hnA-oSSHoZP6"
      }
    },
    {
      "cell_type": "code",
      "source": [
        "import numpy as np\n",
        "\n",
        "a = np.array([True, False, True])\n",
        "b = np.array([True, True, False])\n",
        "\n",
        "print(a & b)  # [True False False]\n",
        "print(a | b)   # [True True True]\n",
        "print(~a)     # [False True False]"
      ],
      "metadata": {
        "colab": {
          "base_uri": "https://localhost:8080/"
        },
        "id": "J6-G5lU3pS1p",
        "outputId": "ceb99bdb-96ff-4037-df0c-4d21491d1eb0"
      },
      "execution_count": null,
      "outputs": [
        {
          "output_type": "stream",
          "name": "stdout",
          "text": [
            "[ True False False]\n",
            "[ True  True  True]\n",
            "[False  True False]\n"
          ]
        }
      ]
    },
    {
      "cell_type": "markdown",
      "source": [
        "Estos operadores lógicos en NumPy son muy útiles para filtrar y seleccionar elementos en arrays basados en condiciones booleanas.\n"
      ],
      "metadata": {
        "id": "JLZn1xLtpMwB"
      }
    },
    {
      "cell_type": "markdown",
      "source": [
        "**Ejemplo.** Crear un arreglo de 50  elementos con números enteros elegidos al azar entre 0 y 100.\n",
        "\n",
        "1. Obtener el subarreglo de enteros positivos divisibles por 3.\n",
        "2. Obtener el subarreglo  de los enteros que dividen a 120 o son mayores que 80.\n",
        "3. Obtener el arrego complementario al anterior."
      ],
      "metadata": {
        "id": "cbmjFQ96pu5l"
      }
    },
    {
      "cell_type": "code",
      "source": [
        "arreglo = np.random.randint(0, 100, 50)\n",
        "print(arreglo)"
      ],
      "metadata": {
        "colab": {
          "base_uri": "https://localhost:8080/"
        },
        "id": "kIPBHxRWqnIh",
        "outputId": "548ed460-99f1-414f-9b57-f2fdb1846ded"
      },
      "execution_count": null,
      "outputs": [
        {
          "output_type": "stream",
          "name": "stdout",
          "text": [
            "[98 32 45 27 43  8 87 92  7 57 96 27 50 95 79 95 93 41 58  6 90 94 46 22\n",
            " 86 83 38 31 95 59 77 52 82 92 90 40 72 69  0 19 60 42 54 52 17 67 15 52\n",
            " 73  3]\n"
          ]
        }
      ]
    },
    {
      "cell_type": "code",
      "source": [
        "# Solución de 1.\n",
        "pos3 = arreglo[(arreglo >0) & (arreglo % 3 == 0)]\n",
        "print(pos3)"
      ],
      "metadata": {
        "colab": {
          "base_uri": "https://localhost:8080/"
        },
        "id": "OGZYv8_MqfqK",
        "outputId": "e5bcba77-ee22-4a12-ed39-a8654e956c4e"
      },
      "execution_count": null,
      "outputs": [
        {
          "output_type": "stream",
          "name": "stdout",
          "text": [
            "[45 27 87 57 96 27 93  6 90 90 72 69 60 42 54 15  3]\n"
          ]
        }
      ]
    },
    {
      "cell_type": "markdown",
      "source": [
        "Siempre debemos poner entre paréntesis las expresiones  que conecta el `&` o el `|`, pues sin los paréntesis la interpretación que hace NumPy de las expresiones puede ser ambigua o no corresponder a lo que nosotros queremos."
      ],
      "metadata": {
        "id": "6NEkNuk8sGuu"
      }
    },
    {
      "cell_type": "code",
      "source": [
        "# Solución de 2.\n",
        "arreglo_2  = arreglo[(120 % arreglo == 0) | (arreglo > 80)]\n",
        "print(arreglo_2)"
      ],
      "metadata": {
        "colab": {
          "base_uri": "https://localhost:8080/"
        },
        "id": "IACD6LiLrX0Y",
        "outputId": "49f95e14-b9b7-4255-b0ac-03f9941b8b86"
      },
      "execution_count": null,
      "outputs": [
        {
          "output_type": "stream",
          "name": "stdout",
          "text": [
            "[98  8 87 92 96 95 95 93  6 90 94 86 83 95 82 92 90 40  0 60 15  3]\n"
          ]
        },
        {
          "output_type": "stream",
          "name": "stderr",
          "text": [
            "<ipython-input-132-2593075f4e69>:2: RuntimeWarning: divide by zero encountered in remainder\n",
            "  arreglo_2  = arreglo[(120 % arreglo == 0) | (arreglo > 80)]\n"
          ]
        }
      ]
    },
    {
      "cell_type": "markdown",
      "source": [
        "Para 3., encontramos el complemento negando la expresión lógica de 2.:"
      ],
      "metadata": {
        "id": "kEPiczINvWka"
      }
    },
    {
      "cell_type": "code",
      "source": [
        "# Solución de 3.\n",
        "arreglo_3 = arreglo[~((120 % arreglo == 0) | (arreglo > 80))]\n",
        "print(arreglo_3)"
      ],
      "metadata": {
        "colab": {
          "base_uri": "https://localhost:8080/"
        },
        "id": "NLS-bgtPs25C",
        "outputId": "e15ccccc-3c58-46e0-fcb6-56180ff2dbb2"
      },
      "execution_count": null,
      "outputs": [
        {
          "output_type": "stream",
          "name": "stdout",
          "text": [
            "[32 45 27 43  7 57 27 50 79 41 58 46 22 38 31 59 77 52 72 69 19 42 54 52\n",
            " 17 67 52 73]\n"
          ]
        },
        {
          "output_type": "stream",
          "name": "stderr",
          "text": [
            "<ipython-input-133-5013561f1b01>:2: RuntimeWarning: divide by zero encountered in remainder\n",
            "  arreglo_3 = arreglo[~((120 % arreglo == 0) | (arreglo > 80))]\n"
          ]
        }
      ]
    },
    {
      "cell_type": "markdown",
      "source": [
        "Obviamente usando las leyes de  De Morgan, y  un poco más, podemos obtener una expresión sin negaciones de `~((120 % arreglo == 0) | (arreglo > 80))`:\n",
        "\n",
        " `~((120 % arreglo == 0) | (arreglo > 80))`  $\\quad\\equiv$\n",
        "\n",
        " `~(120 % arreglo == 0) & ~(arreglo > 80)`  $\\quad\\equiv$\n",
        "\n",
        " `(120 % arreglo != 0) & (arreglo <= 80)`.\n",
        "\n",
        " Es  decir, el complemto de los valores que dividen a 120 o son mayores que 80, son los valores que no dividen a 120 y  son menores o iguales a 80.\n",
        "\n",
        " En código:\n",
        "\n",
        "\n"
      ],
      "metadata": {
        "id": "ttlfNJQNtRN5"
      }
    },
    {
      "cell_type": "code",
      "source": [
        "arreglo_3_v2 = arreglo[(120 % arreglo != 0) & (arreglo <= 80)]\n",
        "print(arreglo_3_v2)"
      ],
      "metadata": {
        "colab": {
          "base_uri": "https://localhost:8080/"
        },
        "id": "Y2eo27cSuqBZ",
        "outputId": "14a1f4f3-432b-4566-dc35-9411155914c0"
      },
      "execution_count": null,
      "outputs": [
        {
          "output_type": "stream",
          "name": "stdout",
          "text": [
            "[32 45 27 43  7 57 27 50 79 41 58 46 22 38 31 59 77 52 72 69 19 42 54 52\n",
            " 17 67 52 73]\n"
          ]
        },
        {
          "output_type": "stream",
          "name": "stderr",
          "text": [
            "<ipython-input-134-a606f7d64c9e>:1: RuntimeWarning: divide by zero encountered in remainder\n",
            "  arreglo_3_v2 = arreglo[(120 % arreglo != 0) & (arreglo <= 80)]\n"
          ]
        }
      ]
    },
    {
      "cell_type": "markdown",
      "source": [
        "Obviamnete, para encontrar el complemento es más fácil negar que hacer lo que hicimos al final."
      ],
      "metadata": {
        "id": "LqE0DQT-u40V"
      }
    },
    {
      "cell_type": "markdown",
      "source": [
        "## 11. Eficiencia\n",
        "\n",
        "Un artículo sobre la eficiencia de las diferentes librerías y lenguajes de programación  para el tratamiento de datos:\n",
        "\n",
        "https://datapythonista.me/blog/how-fast-can-we-process-a-csv-file\n",
        "\n",
        "El repositorio de los archivos que utiliza el artículo es:\n",
        "\n",
        " https://github.com/datapythonista/bench_csv"
      ],
      "metadata": {
        "id": "Ujo9-uBWh438"
      }
    },
    {
      "cell_type": "markdown",
      "source": [
        "Estudiaremos ahora un caso muy particular para analizar la eficiencia de Python, Numpy y Pandas.\n",
        "\n",
        "Pandas es una biblioteca de Python diseñada específicamente para el manejo y análisis de estructuras de datos. Su objetivo es convertirse en la herramienta de análisis y manipulación de datos de código abierto más potente y flexible en cualquier lenguaje de programación.\n",
        "\n"
      ],
      "metadata": {
        "id": "B_SM8l8Gj9vB"
      }
    },
    {
      "cell_type": "markdown",
      "source": [
        "**Un test de eficiencia.**\n",
        "\n",
        "Creamos un archivo CSV de 1 millon de líneas con 8 campos por línea cada campo tiene un entero aleatorio entre  $-2 \\cdot 10^{8}$ y $2 \\cdot 10^{8}$. Cada fila es considerada una $8$-upla y nuestra tarea es contar el número de $8$-uplas a distancia del origen menor que $2 \\cdot 10^{8}$, es decir debemos contar las $8$-uplas de enteros $(x_1,x_2,\\ldots,x_8)$ tales que\n",
        "$$\n",
        "\\sqrt{x_1^2+x_2^2 +\\cdots+x_8^2} < 2 \\cdot 10^{8}.\n",
        "$$\n",
        "Programáticamente es muy sencillo hacerlo en Python puro, pero lo que nos interesa ahora es comparar eficiencias de hacerlo con Python puro, Numpy y Pandas. Estas eficiencias son en Colab y pueden no ser representativas en otras arquitecturas."
      ],
      "metadata": {
        "id": "Z2oDexrgGNir"
      }
    },
    {
      "cell_type": "markdown",
      "source": [
        "Cargamos algunas librerías genéricas y dos parámentros"
      ],
      "metadata": {
        "id": "Us5VQ5TYoOsp"
      }
    },
    {
      "cell_type": "code",
      "source": [
        "from random import randint\n",
        "import csv\n",
        "import math\n",
        "import time\n",
        "\n",
        "limite, distancia = 2*10**8, 2*10**8"
      ],
      "metadata": {
        "id": "RpzXE7WfiPgB"
      },
      "execution_count": null,
      "outputs": []
    },
    {
      "cell_type": "markdown",
      "source": [
        "Cramos el archivo CSV:"
      ],
      "metadata": {
        "id": "8bqocJfBm8UK"
      }
    },
    {
      "cell_type": "code",
      "source": [
        "with open(\"archivo.csv\", \"w\") as f:\n",
        "    f.write('camp0,camp1,camp2,camp3,camp4,camp5,camp6,camp7\\n')\n",
        "    for i in range(10**6):\n",
        "        f.write(str(randint(-limite,limite))+','+\n",
        "                str(randint(-limite,limite))+','+\n",
        "                str(randint(-limite,limite))+','+\n",
        "                str(randint(-limite,limite))+','+\n",
        "                str(randint(-limite,limite))+','+\n",
        "                str(randint(-limite,limite))+','+\n",
        "                str(randint(-limite,limite))+','+\n",
        "                str(randint(-limite,limite))+'\\n')"
      ],
      "metadata": {
        "id": "Z228Sp8IodDD"
      },
      "execution_count": null,
      "outputs": []
    },
    {
      "cell_type": "markdown",
      "source": [
        "El archivo generado tiene varias decenas de Mb (75 MBytes o algo parecido)."
      ],
      "metadata": {
        "id": "i3VGzQVTqLMT"
      }
    },
    {
      "cell_type": "markdown",
      "source": [
        "Solución con Python puro:"
      ],
      "metadata": {
        "id": "19ZpAinHt5ra"
      }
    },
    {
      "cell_type": "code",
      "source": [
        "# Python puro cargando el archivo\n",
        "t_0 = time.time()\n",
        "with open(\"archivo.csv\") as f:\n",
        "    counter = 0\n",
        "    reader = csv.reader(f)\n",
        "    next(reader) # omite la primera linea\n",
        "    for row in reader:\n",
        "        result = math.sqrt(sum([float(value)**2 for value in row]))\n",
        "        if result < distancia:\n",
        "            counter += 1\n",
        "print('ok:',counter)\n",
        "t_1 = time.time()\n",
        "print('Tiempo:', t_1-t_0)"
      ],
      "metadata": {
        "id": "X7soFMzZpLrm"
      },
      "execution_count": null,
      "outputs": []
    },
    {
      "cell_type": "markdown",
      "source": [
        "Podemos partir la solución en dos pasos. Primero cargamos el archivo cvs a una arreglo de Python  y luego contamos las filas que cumplen con la condición."
      ],
      "metadata": {
        "id": "Q5MCJzMIoj-s"
      }
    },
    {
      "cell_type": "code",
      "source": [
        "# Abrir archivo y cargarlo a lista\n",
        "t_0 = time.time()\n",
        "archivo = []\n",
        "with open(\"archivo.csv\") as f:\n",
        "    reader = csv.reader(f)\n",
        "    next(reader)\n",
        "    for row in reader:\n",
        "        archivo.append(row)\n",
        "t_1 = time.time()\n",
        "print('Tiempo:', t_1-t_0)"
      ],
      "metadata": {
        "id": "QOLqMZ2D32TK"
      },
      "execution_count": null,
      "outputs": []
    },
    {
      "cell_type": "code",
      "source": [
        "# Python puro con archivo precargado\n",
        "t_0 = time.time()\n",
        "counter = 0\n",
        "# archivo es una lista creada en la celda de código anterior\n",
        "for row in archivo:\n",
        "    result = math.sqrt(sum([int(value)**2 for value in row]))\n",
        "    if result < distancia:\n",
        "        counter += 1\n",
        "print('ok:', counter)\n",
        "t_1 = time.time()\n",
        "print('Tiempo:', t_1-t_0)"
      ],
      "metadata": {
        "id": "gNh38vww4S6A"
      },
      "execution_count": null,
      "outputs": []
    },
    {
      "cell_type": "markdown",
      "source": [
        "Aparentemente, conviene hacerlo de un solo paso."
      ],
      "metadata": {
        "id": "haHU0XtIo-20"
      }
    },
    {
      "cell_type": "markdown",
      "source": [
        "Veamos una solución con Numpy."
      ],
      "metadata": {
        "id": "CvjLNymnR9Fr"
      }
    },
    {
      "cell_type": "code",
      "source": [
        "import numpy as np"
      ],
      "metadata": {
        "id": "hDQuozLOSAXL"
      },
      "execution_count": null,
      "outputs": []
    },
    {
      "cell_type": "markdown",
      "source": [
        "Primero en dos pasos."
      ],
      "metadata": {
        "id": "JQeEhPPWpJxW"
      }
    },
    {
      "cell_type": "code",
      "source": [
        "# Cargar archivo (una lista definida antes) como array numpy\n",
        "t_0 = time.time()\n",
        "archivo_np = np.array(archivo, dtype=np.float64)\n",
        "t_1 = time.time()\n",
        "print('Tiempo:', t_1-t_0)"
      ],
      "metadata": {
        "id": "Y9-RK8A567lm"
      },
      "execution_count": null,
      "outputs": []
    },
    {
      "cell_type": "code",
      "source": [
        "# Con numpy con array precargado\n",
        "t_0 = time.time()\n",
        "counter = np.sum(np.sqrt(np.sum(archivo_np ** 2, axis = 1)) < distancia)\n",
        "print('ok:',counter)\n",
        "t_1 = time.time()\n",
        "print('Tiempo:', t_1-t_0)"
      ],
      "metadata": {
        "id": "wlQQjWk2osN_"
      },
      "execution_count": null,
      "outputs": []
    },
    {
      "cell_type": "markdown",
      "source": [
        "Con Numpy en un solo paso,  es decir abrir el archivo csv  como arreglo Numpy y hacer la verificación:"
      ],
      "metadata": {
        "id": "CAn_XYENpSil"
      }
    },
    {
      "cell_type": "code",
      "source": [
        "t_0 = time.time()\n",
        "counter = np.sum(np.sqrt(np.sum(np.loadtxt('archivo.csv', delimiter=\",\", skiprows=1, dtype = np.float64) ** 2, axis = 1)) < distancia)\n",
        "print('ok:',counter)\n",
        "t_1 = time.time()\n",
        "print('Tiempo:', t_1-t_0)"
      ],
      "metadata": {
        "id": "Kgt9kngiF9gM"
      },
      "execution_count": null,
      "outputs": []
    },
    {
      "cell_type": "markdown",
      "source": [
        "De lo que hemos visto,  claramente esto es  lo más conveniente."
      ],
      "metadata": {
        "id": "gR7bXH-ipb-N"
      }
    },
    {
      "cell_type": "markdown",
      "source": [
        "Con Pandas:"
      ],
      "metadata": {
        "id": "w9Tkqfd-6CUC"
      }
    },
    {
      "cell_type": "code",
      "source": [
        "import pandas as pd"
      ],
      "metadata": {
        "id": "v9kCsfPocAqF"
      },
      "execution_count": null,
      "outputs": []
    },
    {
      "cell_type": "code",
      "source": [
        "t_0 = time.time()\n",
        "\n",
        "values = pd.read_csv(\"archivo.csv\", engine=\"python\").pow(2).sum(axis=1).pow(.5)\n",
        "print(values[values < distancia].count())\n",
        "\n",
        "t_1 = time.time()\n",
        "print('Tiempo:', t_1-t_0)"
      ],
      "metadata": {
        "id": "gXTmbFL5Lndh"
      },
      "execution_count": null,
      "outputs": []
    },
    {
      "cell_type": "markdown",
      "source": [
        "Esto parece ser mucho más lento que Python puro  y Numpy. Sin embargo la literatura dice que es más eficiente. Eso se debe a que en realidad Colab no es la herramienta adecuada para analizar los problemas de eficiencia en este caso."
      ],
      "metadata": {
        "id": "GTbR8F3fpq_6"
      }
    }
  ]
}