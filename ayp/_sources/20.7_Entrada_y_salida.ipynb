{
  "cells": [
    {
      "cell_type": "markdown",
      "metadata": {
        "id": "db5jPS5oLr4v"
      },
      "source": [
        "## 7. Lectura y escritura de archivos"
      ]
    },
    {
      "cell_type": "markdown",
      "metadata": {
        "id": "j4OCmjGI21HD"
      },
      "source": [
        "**Ejercicio 1.** Escribir una función, llamada `head()` que reciba el nombre de un archivo y un número $n$ e imprima las primeras $n$ líneas del archivo. Para probar la función utilice un archivo de texto de su computadora."
      ]
    },
    {
      "cell_type": "code",
      "execution_count": 13,
      "metadata": {
        "id": "EwIhgMKvL7ah"
      },
      "outputs": [],
      "source": [
        "# Solución\n",
        "def head(file, n):\n",
        "    \"\"\"Imprime las primeras n líneas del archivo file.\"\"\"\n",
        "    with open(file) as f:\n",
        "        for i in range(n):\n",
        "            print(f.readline(), end='')"
      ]
    },
    {
      "cell_type": "markdown",
      "metadata": {
        "id": "ySSvxXwBBatV"
      },
      "source": [
        "**Ejercicio 2.** Escribir la función `contar()` que cuenta el número de líneas, palabras y caracteres de un archivo de texto. La función debe devolver los 3 valores. Pruebe la función con archivos de su computadora."
      ]
    },
    {
      "cell_type": "code",
      "execution_count": 14,
      "metadata": {
        "id": "yyd79_B4MTta"
      },
      "outputs": [],
      "source": [
        "# Solución\n",
        "# 1º forma\n",
        "def contar(file):\n",
        "    \"\"\"Cuenta las líneas, palabras y caracteres del archivo file.\"\"\"\n",
        "    with open(file) as f:\n",
        "        texto = f.read()\n",
        "    lineas = texto.count('\\n')\n",
        "    palabras = len(texto.split())\n",
        "    caracteres = len(texto)\n",
        "    return lineas, palabras, caracteres\n",
        "\n",
        "# 2º forma (leyendo  línea a línea)\n",
        "def contar(file):\n",
        "    \"\"\"Cuenta las líneas, palabras y caracteres del archivo file.\"\"\"\n",
        "    with open(file) as f:\n",
        "        lineas = 0\n",
        "        palabras = 0\n",
        "        caracteres = 0\n",
        "        for linea in f:\n",
        "            lineas += 1\n",
        "            palabras += len(linea.split())\n",
        "            caracteres += len(linea)\n",
        "    return lineas, palabras, caracteres"
      ]
    },
    {
      "cell_type": "markdown",
      "metadata": {
        "id": "W0CUCggqFyJ6"
      },
      "source": [
        "**Ejercicio 3.** Escribir la función `main()` que solicite al usuario su nombre y apellido. Cuando el usuario responda, imprimir \" Bienvenido Sr/a + 'nombre y apellido' \".  Escribir su nombre y apellido en un archivo llamado invitados.txt."
      ]
    },
    {
      "cell_type": "code",
      "execution_count": 15,
      "metadata": {
        "id": "4nx5sS6UMZj6"
      },
      "outputs": [],
      "source": [
        "# Solución\n",
        "def main():\n",
        "    nom_ap = input(\"Ingrese su nombre y apellido: \")\n",
        "    print(\"bienvenido Sr/a\", nom_ap)\n",
        "    with open(\"invitados.txt\", \"w\") as f:\n",
        "        f.write(nom_ap)"
      ]
    },
    {
      "cell_type": "markdown",
      "metadata": {},
      "source": [
        "Para probar la función descomente la siguiente línea y  ejecute la celda de código."
      ]
    },
    {
      "cell_type": "code",
      "execution_count": 16,
      "metadata": {},
      "outputs": [],
      "source": [
        "# main()"
      ]
    },
    {
      "cell_type": "markdown",
      "metadata": {
        "id": "AGlajxwBoaOP"
      },
      "source": [
        "**Ejercicio 4.** Escribir la función `codigo_cesar()`, que recibe una cadena de caracteres y devuelve una cadena que es lo original encriptada. El algoritmo de cifrado a utilizar será muy sencillo: a cada carácter comprendido entre la `a` y la `z` en la posición $k$, se lo cambia por el carácter en la posición $k+3$ módulo $26$, para obtener un nuevo carácter. La lista de caracteres tiene $26$ letras (no está la `ñ`). \n",
        "\n",
        "Escribir una función `codigo_cesar_io()` que reciba el nombre de un archivo de texto de origen y uno de destino, de modo que para cada línea del archivo origen, se guarde una línea cifrada en el archivo destino aon el algoritmo anterior"
      ]
    },
    {
      "cell_type": "code",
      "execution_count": 17,
      "metadata": {
        "id": "DGkgPsIbMmZW"
      },
      "outputs": [],
      "source": [
        "# Solución\n",
        "# 1º forma \n",
        "def codigo_cesar(texto_plano):\n",
        "    texto_cifrado = ''\n",
        "    alfabeto = ['a', 'b', 'c', 'd', 'e', 'f', 'g', 'h', 'i', 'j', 'k', 'l', 'm', 'n', 'o', 'p', 'q', 'r', 's', 't', 'u', 'v', 'w', 'x', 'y', 'z']\n",
        "    letra_pos = {}\n",
        "    for i in range(len(alfabeto)):\n",
        "        letra_pos[alfabeto[i]] = i\n",
        "    # letra_pos[x] = la posición del carácter x. Por ejemplo, letra_pos['a'] = 0\n",
        "\n",
        "    for caracter in texto_plano:\n",
        "        if caracter in alfabeto:\n",
        "            nueva_pos = (letra_pos[caracter] + 3) % 26\n",
        "            texto_cifrado = texto_cifrado + alfabeto[nueva_pos]\n",
        "        else:\n",
        "            texto_cifrado = texto_cifrado + caracter\n",
        "    return texto_cifrado\n",
        "\n",
        "# 2º forma (más compacta,  más difícil de leer)\n",
        "def codigo_cesar(texto_plano):\n",
        "    alfabeto = ['a', 'b', 'c', 'd', 'e', 'f', 'g', 'h', 'i', 'j', 'k', 'l', 'm', 'n', 'o', 'p', 'q', 'r', 's', 't', 'u', 'v', 'w', 'x', 'y', 'z']\n",
        "    lista_cifrada = [alfabeto[(alfabeto.index(letra) + 3) % 26] if letra in alfabeto else letra for letra in texto_plano]\n",
        "    return ''.join(lista_cifrada)\n"
      ]
    },
    {
      "cell_type": "code",
      "execution_count": null,
      "metadata": {
        "colab": {
          "base_uri": "https://localhost:8080/"
        },
        "id": "Q3PpspTSlhPD",
        "outputId": "f5951dc0-1189-4095-f888-9c0c4a6e4539"
      },
      "outputs": [],
      "source": [
        "# Pruebas\n",
        "cifrado = codigo_cesar('¡hola! ¿que tal?') # '¡krod! ¿txh wdo?'\n",
        "print(cifrado)"
      ]
    },
    {
      "cell_type": "code",
      "execution_count": 19,
      "metadata": {},
      "outputs": [],
      "source": [
        "# Solución\n",
        "def codigo_cesar_io(archivo_in, archivo_out):\n",
        "    with open(archivo_in) as f:\n",
        "        texto = f.read()\n",
        "    texto_cifrado = codigo_cesar(texto)\n",
        "    with open(archivo_out, 'w') as f:\n",
        "        f.write(texto_cifrado)"
      ]
    },
    {
      "cell_type": "markdown",
      "metadata": {},
      "source": [
        "**Ejercicio 5.** Crear el archivo `texto_plano.txt`que consiste de 1000 líneas, cada una con 100 caracteres alfabéticos elegidos al azar. "
      ]
    },
    {
      "cell_type": "code",
      "execution_count": 2,
      "metadata": {},
      "outputs": [],
      "source": [
        "# Solución\n",
        "from  random import choice\n",
        "alfabeto = 'abcdefghijklmnopqrstuvwxyz'\n",
        "with open('texto_plano.txt', 'w') as f:\n",
        "    for i in range(1000):\n",
        "        for j in range(100):\n",
        "            f.write(choice(alfabeto))\n",
        "        f.write('\\n')\n"
      ]
    },
    {
      "cell_type": "markdown",
      "metadata": {
        "id": "-6l8q_oC2Fzc"
      },
      "source": [
        "**Ejercicio 6.** Escribir una función, llamada `cp()`, que copie todo el contenido de un archivo (sea de texto o binario) a otro, de modo que quede exactamente igual.\n",
        "\n",
        "*Nota:* Si el archivo es muy grande se puede utilizar `archivo.read(bytes)` para leer como máximo una cantidad de bytes."
      ]
    },
    {
      "cell_type": "code",
      "execution_count": 20,
      "metadata": {
        "id": "B_PTyF89NrYJ"
      },
      "outputs": [],
      "source": [
        "# Solución simple\n",
        "\n",
        "def cp(nombre_archivo, nombre_copia):\n",
        "    with open(nombre_archivo, 'rb') as archivo:\n",
        "        contenido = archivo.read()\n",
        "\n",
        "    with open(nombre_copia, 'wb') as archivo:\n",
        "        archivo.write(contenido)"
      ]
    },
    {
      "cell_type": "code",
      "execution_count": 1,
      "metadata": {},
      "outputs": [],
      "source": [
        "# Solución con manejo de errores y read(byte)\n",
        "def cp(nombre_archivo, nombre_copia):\n",
        "    try:\n",
        "        with open(nombre_archivo, 'rb') as archivo:\n",
        "            with open(nombre_copia, 'wb') as copia:\n",
        "                contenido = archivo.read(1024)\n",
        "                while True and contenido:\n",
        "                    copia.write(contenido)\n",
        "                    contenido = archivo.read(1024)\n",
        "    except FileNotFoundError:\n",
        "        print('Algunos de los archivos no existe')"
      ]
    },
    {
      "cell_type": "markdown",
      "metadata": {},
      "source": [
        "Utilizamos el archivo `texto_plano.txt` del ejercicio anterior para hacer pruebas."
      ]
    },
    {
      "cell_type": "code",
      "execution_count": 3,
      "metadata": {},
      "outputs": [
        {
          "name": "stdout",
          "output_type": "stream",
          "text": [
            "Algunos de los archivos no existe\n"
          ]
        }
      ],
      "source": [
        "# Pruebas\n",
        "cp('texto_plano.txt', 'copia_texto.txt')\n",
        "cp('archivo_no_existe.txt', 'copia_texto.txt')"
      ]
    },
    {
      "cell_type": "markdown",
      "metadata": {
        "id": "9zX-C2f2oBVM"
      },
      "source": [
        "**Ejercicio 7.** Escribir una función que reciba una cadena de caracteres y el nombre de un archivo e imprima las líneas del archivo que contienen la expresión recibida."
      ]
    },
    {
      "cell_type": "code",
      "execution_count": 1,
      "metadata": {
        "id": "d2XUDQTJNr6s"
      },
      "outputs": [],
      "source": [
        "# Solución\n",
        "def encontrar_cadena(archivo, cadena):\n",
        "    assert type(cadena) == str, 'la cadena debe ser un string'\n",
        "    assert type(archivo) == str, 'el nombre del archivo debe ser un string'\n",
        "    try:\n",
        "        with open(archivo) as f:\n",
        "            for linea in f:\n",
        "                if cadena in linea:\n",
        "                    print(linea, end='')\n",
        "    except FileNotFoundError:\n",
        "        print('El archivo no existe')"
      ]
    },
    {
      "cell_type": "markdown",
      "metadata": {
        "id": "CoYfUUVXo40g"
      },
      "source": [
        "**Ejercicio 8.** \n",
        "\n",
        "1. Escribir un programa que cree un archivo llamado `archivo_datos.txt` cuyo contenido son 1000 lineas  y cada línea tiene el formato `clave : valor`, donde la clave es una cadena de 5 letras y el valor es un número de 10 dígitos,  ambos generados al azar.  \n",
        "2. Escribir una función `cargar_datos()` que reciba un nombre de archivo, cuyo contenido en cada línea tiene el formato `clave : valor` y devuelva un diccionario con el primer campo como clave y el segundo como valor de cada línea. Aplicar la función al archivo creado en el item anterior. "
      ]
    },
    {
      "cell_type": "code",
      "execution_count": 4,
      "metadata": {
        "id": "VGcLFiOHNsqC"
      },
      "outputs": [],
      "source": [
        "# Solución\n",
        "\n",
        "# 1.\n",
        "from random import choice\n",
        "letras = 'abcdefghijklmnopqrstuvwxyz'\n",
        "digitos = '0123456789'\n",
        "with open('archivo_datos.txt', 'w') as f:\n",
        "    for i in range(1000):\n",
        "        clave = ''.join([choice(letras) for _ in range(5)])\n",
        "        valor = ''.join([choice(digitos) for _ in range(10)])\n",
        "        f.write(clave + ' : ' + valor + '\\n')\n",
        "\n",
        "# 2.\n",
        "def cargar_datos(archivo):\n",
        "    datos = {}\n",
        "    try:\n",
        "        with open(archivo) as f:\n",
        "            for linea in f:\n",
        "                clave, valor = linea.strip().split(' : ')\n",
        "                datos[clave] = valor\n",
        "        return datos\n",
        "    except FileNotFoundError:\n",
        "        print('El archivo \"'+archivo+'\" no existe')\n",
        "        return None"
      ]
    },
    {
      "cell_type": "code",
      "execution_count": null,
      "metadata": {},
      "outputs": [],
      "source": [
        "# Pruebas\n",
        "datos = cargar_datos('archivo_datos.txt')\n",
        "print(str(datos)[:500])\n"
      ]
    },
    {
      "cell_type": "markdown",
      "metadata": {
        "id": "U3BGFBsBpIE1"
      },
      "source": [
        "**Ejercicio 9.** Escribir una función `guardar_datos()` que reciba un diccionario y un nombre de archivo, y guarde el contenido del diccionario en el archivo, con el formato `clave : valor` en cada línea."
      ]
    },
    {
      "cell_type": "code",
      "execution_count": null,
      "metadata": {
        "id": "7I49Z7CTpctU"
      },
      "outputs": [],
      "source": [
        "# Solución\n",
        "\n",
        "def guardar_datos(datos , archivo):\n",
        "    \"\"\" \n",
        "    pre: Datos es un diccionario, archivo es el nombre del archivo donde se guardarán los datos.\n",
        "    post: Guarda los datos en el archivo en formato clave : valor.\n",
        "    \"\"\"\n",
        "    with open(archivo, 'w') as f:\n",
        "        for clave, valor in datos.items():\n",
        "            f.write(clave + ' : ' + valor + '\\n')"
      ]
    },
    {
      "cell_type": "code",
      "execution_count": null,
      "metadata": {},
      "outputs": [],
      "source": [
        "# Pruebas\n",
        "datos = {'a': '123', 'b': '456', 'c': '789'}\n",
        "guardar_datos(datos, 'archivo_datos.txt')"
      ]
    },
    {
      "cell_type": "markdown",
      "metadata": {
        "id": "mn833mqvVNQx"
      },
      "source": [
        "**Ejercicio 10.** En algunos sitios web hay un archivo llamado `robots.txt` que indica a qué partes querés que accedan los rastreadores de los motores de búsqueda (como el rastreador de Google). También indica a qué partes *no*  querés que accedan.\n",
        "\n",
        "El ejercicio consiste en escribir un programa Python usando el módulo `requests` para descargar y mostrar el contenido de `robot.txt` de [https://es.wikipedia.org](https://es.wikipedia.org)"
      ]
    },
    {
      "cell_type": "code",
      "execution_count": 6,
      "metadata": {
        "id": "4W9xQnuTOV3S"
      },
      "outputs": [
        {
          "name": "stdout",
          "output_type": "stream",
          "text": [
            "# robots.txt for http://www.wikipedia.org/ and friends\n",
            "#\n",
            "# Please note: There are a lot of pages on this site, and there are\n",
            "# some misbehaved spiders out there that go _way_ too fast. If you're\n",
            "# irresponsible, your access to the site may be blocked.\n",
            "#\n",
            "\n",
            "# Observed spamming large amounts of https://en.wikipedia.org/?curid=NNNNNN\n",
            "# and ignoring 429 ratelimit responses, claims to respect robots:\n",
            "# http://mj12bot.com/\n",
            "User-agent: MJ12bot\n",
            "Disallow: /\n",
            "\n",
            "# advertising-related bots:\n",
            "User-agent: Mediapa\n"
          ]
        }
      ],
      "source": [
        "# Solución\n",
        "import requests\n",
        "def imprimir_archivo(url, num_car=1000):\n",
        "    \"\"\"Descarga el archivo desde la url y lo imprime en pantalla.\n",
        "    Muestra los primeros num_car caracteres.\"\"\"\n",
        "    try:\n",
        "        response = requests.get(url)\n",
        "        print(response.text[:num_car])\n",
        "    except requests.exceptions.RequestException as e:\n",
        "        print('Error al descargar el archivo:', e)\n",
        "\n",
        "imprimir_archivo('https://es.wikipedia.org/robots.txt')"
      ]
    },
    {
      "cell_type": "markdown",
      "metadata": {
        "id": "HZ7aGbhWVvRR"
      },
      "source": [
        "**Ejercicio 11.** Uso de la biblioteca `json`.\n",
        "\n",
        "Si bien podemos extraer información de la web  bajando y  analizando páginas web directamente con Python, algunos sitios nos ofrecen la posibilidad de acceder a la información ya estructurada como JSON (*Java Script Object Notation*),  como CSV (*comma-separated values*) o como XML (*Extensible Markup Language*). Esto  nos permite importar datos estructurados que luego  podemos pasar, por ejemplo, a diccionarios o listas y de esa forma trabajar en forma más cómoda y segura.\n",
        "\n",
        "En este ejercicio practicaremos con archivos en formato JSON. Para ello debemos primero importar la biblioteca `json`.\n",
        "\n",
        "Hay dos métodos,  que nos permiten importar archivos JSON y exportar a archivos JSON.\n",
        "\n",
        "`json.loads('cadena json')`: convierte una cadena de caracteres en formato JSON  a un diccionario o lista según corresponda. Esto es llamado *deserializar* una cadena.\n",
        "\n",
        "`json.dumps(diccionario o lista)`: convierte un diccionario o lista a cadena de caracteres (que luego puede ser utilizada como input de `json.loads()`). Esto es llamado *serializar* un objeto.\n",
        "\n",
        "En  la siguiente celda de código hay unos ejemplos muy sencillos del uso de estos dos métodos."
      ]
    },
    {
      "cell_type": "code",
      "execution_count": null,
      "metadata": {
        "id": "5oYnoQ2MW6KH"
      },
      "outputs": [],
      "source": [
        "import json\n",
        "\n",
        "dic = {'a':1}\n",
        "x = json.dumps(dic)\n",
        "print(type(x), x)\n",
        "y = json.loads(x)\n",
        "print(type(y), y)\n",
        "\n",
        "lista = [{'a':1}]\n",
        "x = json.dumps(lista)\n",
        "print(type(x), x)\n",
        "y = json.loads(x)\n",
        "print(type(y), y)"
      ]
    },
    {
      "cell_type": "markdown",
      "metadata": {
        "id": "dVonLq03V2LV"
      },
      "source": [
        "Para importar un archivo JSON  de internet debemos utilizar el módulo `requests()` para traer el archivo y luego tenemos dos opciones: 1) hacer `nombre_del_request.json()` o 2) `json.loads(nombre_del_request.text))`, cualquiera de las dos opciones está bien, aunque es más utilizada la primera. En  ambas opciones se obtiene un diccionario/lista que se corresponde con la estructura del archivo JSON.\n",
        "\n",
        "Para guardar un archivo JSON se debe tener un diccionario o lista,  guardar como cadena con `json.dumps()` y después esa cadena guardarla en un archivo.\n",
        "\n",
        "Para abrir un archivo JSON local se debe usar, como siempre, `with` para abrir el archivo en modo lectura y luego dentro del `with` poner la instrucción `json.loads(archivo.read())`. También se puede hacer con `open()`.\n",
        "\n",
        "\n",
        "En  el siguiente ejemplo,  primero bajamos un archivo JSON de un sitio web, luego lo guardamos localmente y finalmente lo leemos localmente:"
      ]
    },
    {
      "cell_type": "code",
      "execution_count": null,
      "metadata": {
        "id": "rhsLgBddW_Af"
      },
      "outputs": [],
      "source": [
        "# Lectura\n",
        "import requests\n",
        "import json\n",
        "\n",
        "# Lectura de archivo json desde una url\n",
        "url = 'https://tirabo.github.io/files_ayp/archivo_ejemplo.json'\n",
        "try:\n",
        "    response = requests.get(url)\n",
        "    objeto_json = response.json()\n",
        "except requests.exceptions.RequestException as e:\n",
        "    print('Error al descargar el archivo:', e)\n",
        "    objeto_json = {}\n",
        "\n",
        "# Escritura a archivo local\n",
        "with open('docu.json', 'w') as f:\n",
        "    f.write(json.dumps(objeto_json))\n",
        "\n",
        "# Lectura de archivo json local\n",
        "try:\n",
        "    with open('docu.json') as f:\n",
        "        objeto_json_local = json.loads(f.read())\n",
        "except FileNotFoundError:\n",
        "    objeto_json_local = {}\n",
        "\n",
        "print(type(objeto_json), objeto_json)\n",
        "print(type(objeto_json_local), objeto_json_local)"
      ]
    },
    {
      "cell_type": "markdown",
      "metadata": {
        "id": "okuloIlAWC9y"
      },
      "source": [
        "Observar que el archivo `docu.json` tiene contenido similar (aunque no el mismo formato) que el archivo [https://tirabo.github.io/files_ayp/archivo_ejemplo.json](https://tirabo.github.io/files_ayp/archivo_ejemplo.json).\n",
        "\n",
        "En este ejercicio:  \n",
        "1. Guardá un archivo de texto llamado `personas.json` con el siguiente contenido:\n",
        "\n",
        "       {\n",
        "        \"people\" : [\n",
        "          {\n",
        "            \"firstName\": \"Joe\",\n",
        "            \"lastName\": \"Jackson\",\n",
        "            \"gender\": \"male\",\n",
        "            \"age\": 28,\n",
        "            \"number\": \"7349282382\"\n",
        "          },\n",
        "          {\n",
        "            \"firstName\": \"James\",\n",
        "            \"lastName\": \"Smith\",\n",
        "            \"gender\": \"male\",\n",
        "            \"age\": 32,\n",
        "            \"number\": \"5678568567\"\n",
        "          },\n",
        "          {\n",
        "            \"firstName\": \"Emily\",\n",
        "            \"lastName\": \"Jones\",\n",
        "            \"gender\": \"female\",\n",
        "            \"age\": 24,\n",
        "            \"number\": \"456754675\"\n",
        "          }\n",
        "        ]\n",
        "      }\n",
        "\n",
        "2. Importá el archivo,  transformá el contenido en un diccionario y cambiá  la segunda persona poniendo tus datos personales.\n",
        "3. Guardá el contenido en un archivo llamado `personas_mod.json`."
      ]
    },
    {
      "cell_type": "code",
      "execution_count": 7,
      "metadata": {},
      "outputs": [],
      "source": [
        "# Soluciones\n",
        "import json\n",
        "\n",
        "# 1. \n",
        "cadena = {\"people\" : [  {\"firstName\": \"Joe\", \"lastName\": \"Jackson\", \"gender\": \"male\", \"age\": 28, \"number\": \"7349282382\"}, \\\n",
        "                        {\"firstName\": \"James\", \"lastName\": \"Smith\", \"gender\": \"male\", \"age\": 32, \"number\": \"5678568567\"}, \\\n",
        "                        {\"firstName\": \"Emily\", \"lastName\": \"Jones\", \"gender\": \"female\", \"age\": 24,\"number\": \"456754675\"} \\\n",
        "                    ] \\\n",
        "        }\n",
        "with open('personas.json', 'w') as f:\n",
        "    f.write(json.dumps(cadena))\n",
        "\n",
        "# 2.\n",
        "with open('personas.json') as f:\n",
        "    personas = json.loads(f.read())\n",
        "\n",
        "personas['people'][1]['firstName'] = 'Federico'\n",
        "personas['people'][1]['lastName'] = 'Giraudo'\n",
        "personas['people'][1]['gender'] = 'male'\n",
        "personas['people'][1]['age'] = 25\n",
        "personas['people'][1]['number'] = '123456789'\n",
        "\n",
        "# 3. \n",
        "with open('personas_mod.json', 'w') as f:\n",
        "    f.write(json.dumps(personas))\n"
      ]
    },
    {
      "cell_type": "markdown",
      "metadata": {
        "id": "alY_DY9t4SAe"
      },
      "source": [
        "**Ejercicio 12.** Ejemplo CSV.\n",
        "\n",
        "1. Bajar con el  módulo `requests` el archivo [https://tirabo.github.io/files_ayp/Notas_LCC_COM1_anonimizados.csv](https://tirabo.github.io/files_ayp/Notas_LCC_COM1_anonimizados.csv)\n",
        "\n",
        "El archivo contiene un listado de alumnos (anonimizado)  y  las notas de 3 parciales. Hacer lo siguiente:\n",
        "\n",
        "2. Crear un archivo CSV llamado `condicion.csv` con los campos: DNI, REG, PROM, NOTA donde se consignará el DNI  de cada alumno,  si es alumno regular, que es `True` si  aprobó 2 parciales o más, `False` en caso contrario. En el campo PROM si el alumno promocionó, que es `True` si el promedio de los tres parciales es al menos 7, `False` en otro caso. Finalmente el campo NOTA es el promedio redondeado de los 3 parciales.\n",
        "\n",
        "Para hacer este ejercicio repase la primera parte de la clase \n",
        "<a  href=\"17_Archivos_CSV_XML_JSON_APIs.html\" />17. Interacción con archivos CSV, XML y JSON</a>\n"
      ]
    },
    {
      "cell_type": "code",
      "execution_count": 29,
      "metadata": {
        "id": "oE30PI79GdWr"
      },
      "outputs": [
        {
          "name": "stdout",
          "output_type": "stream",
          "text": [
            "Las claves son: ['Alumno', 'DNI', 'P1', 'P2', 'P3']\n"
          ]
        }
      ],
      "source": [
        "# Solución\n",
        "import requests\n",
        "import csv\n",
        "\n",
        "\n",
        "url = 'https://tirabo.github.io/files_ayp/Notas_LCC_COM1_anonimizados.csv'\n",
        "try:\n",
        "    response = requests.get(url)\n",
        "    response_text = response.text.splitlines() # lista de líneas\n",
        "    reader = csv.reader(response_text)\n",
        "    claves = next(reader)\n",
        "    valores = []\n",
        "    for fila in reader:\n",
        "        valores.append(fila)\n",
        "except requests.exceptions.RequestException as e:\n",
        "    print('Error al descargar el archivo:', e)\n",
        "\n",
        "if response.status_code == 200:\n",
        "    # valores es la lista de listas con los datos del archivo csv \n",
        "    print('Las claves son:', claves)\n",
        "\n",
        "    datos = [['DNI', 'REG', 'PROM', 'NOTA']] # Nuevas claves\n",
        "    for fila in valores:\n",
        "        dni = fila[1]\n",
        "        P1 = float(fila[2]) if fila[2] != '' else 0\n",
        "        P2 = float(fila[3]) if fila[3] != '' else 0\n",
        "        P3 = float(fila[4]) if fila[4] != '' else 0\n",
        "        if (P1 >=4 and P2 >= 4) or (P1 >= 4 and P3 >= 4) or (P2 >= 4 and P3 >= 4):\n",
        "            reg = True\n",
        "        else:\n",
        "            reg = False\n",
        "        nota = round((P1 + P2 + P3) / 3)\n",
        "        prom = True if nota >= 7 else False\n",
        "        datos.append([dni, reg, prom, nota]) \n",
        "    # datos es una lista de listas con todos los datos\n",
        "    with open('condicion.csv', 'w', newline='', encoding='utf8') as file:\n",
        "        writer = csv.writer(file)\n",
        "        # Escribir cada fila individualmente\n",
        "        for fila in datos:\n",
        "            writer.writerow(fila)"
      ]
    },
    {
      "cell_type": "markdown",
      "metadata": {
        "id": "k0VuEtQfy5en"
      },
      "source": [
        "**Ejercicio 13.**\n",
        "\n",
        "1.Hacé un diccionario con el contenido escrito más abajo y guardalo en un archivo llamado `peliculas.json` dentro del directorio `data`.\n",
        "\n",
        "```\n",
        "{\n",
        "    \"Pelicula\" : [\n",
        "        {\n",
        "        \"Título\": \"Titanic\",\n",
        "        \"Director\": \"James Cameron\",\n",
        "        \"Año\": 1997\n",
        "        },\n",
        "        {\n",
        "        \"Título\": \"Gladiador\",\n",
        "        \"Director\": \"Ridley Scott\",\n",
        "        \"Año\": 2000\n",
        "        },\n",
        "        {\n",
        "        \"Título\": \"Bird Box: a ciegas\",\n",
        "        \"Director\": \"Susanne Bier\",\n",
        "        \"Año\": 2018\n",
        "        }\n",
        "    ]\n",
        "}\n",
        "```\n",
        "\n",
        "2. Lee el archivo con Python,  transformá el contenido en un diccionario y cambiá la segundo pelicula por:\n",
        "\n",
        "    ```\n",
        "    Título: It.\n",
        "    Director: Andrés Muschietti.\n",
        "    Año: 2017.\n",
        "    ```\n",
        "\n",
        "3. Guardá el contenido en el directorio `data` en un archivo llamado `peliculas_mod.json`."
      ]
    },
    {
      "cell_type": "code",
      "execution_count": 4,
      "metadata": {
        "id": "_wHhvViV18eA"
      },
      "outputs": [],
      "source": [
        "# Solución\n",
        "import json\n",
        "import os\n",
        "\n",
        "ruta = './data' # Directorio donde se guardará el archivo\n",
        "\n",
        "# Verifica si el directorio no existe\n",
        "if not os.path.exists(ruta):\n",
        "    # Crea el directorio\n",
        "    os.mkdir(ruta)\n",
        "\n",
        "# 1.\n",
        "# Crea un diccionario con los datos\n",
        "dic_peliculas =  {}\n",
        "dic_peliculas['Pelicula'] = []\n",
        "dic_peliculas['Pelicula'].append({\"Título\": \"Titanic\", \"Director\": \"James Cameron\", \"Año\": 1997})\n",
        "dic_peliculas['Pelicula'].append({\"Título\": \"Gladiador\", \"Director\": \"Ridley Scott\", \"Año\": 2000})\n",
        "dic_peliculas['Pelicula'].append({\"Título\": \"Bird Box: a ciegas\", \"Director\": \"Susanne Bier\", \"Año\": 2018})\n",
        "# \n",
        "with open(ruta + '/peliculas.json', 'w', encoding='utf8') as f:\n",
        "    f.write(json.dumps(dic_peliculas))\n",
        "\n",
        "# 2. \n",
        "# Carga los datos del archivo json\n",
        "with open(ruta + '/peliculas.json', 'r', encoding='utf8') as f:\n",
        "    peliculas = json.loads(f.read())\n",
        "peliculas['Pelicula'][1][\"Título\"] = \"It\"\n",
        "peliculas['Pelicula'][1][\"Director\"] = \"Andy Muschietti\"\n",
        "peliculas['Pelicula'][1][\"Año\"] = 2017\n",
        "\n",
        "# 3.\n",
        "# Guarda los datos modificados en un nuevo archivo\n",
        "with open(ruta + '/peliculas_mod.json', 'w', encoding='utf8') as f:\n",
        "    f.write(json.dumps(peliculas))"
      ]
    },
    {
      "cell_type": "markdown",
      "metadata": {
        "id": "9VRBreUEPRpm"
      },
      "source": [
        "**Ejercicio 14.**\n",
        "\n",
        "1. Escribir una función `cargar_datos_1()` que reciba un diccionario, formado por los primeros 6 meses del año como claves y la duración de los mismos en días como valores, considerar un año no bisiesto. Y devuelva un archivo, \"meses_del_año.txt\" en donde cada renglón del mismo son las claves y los valores del diccionario.\n",
        "2. Escribir una función `cargar_datos_2()` que reciba como entrada el archivo \"meses_del_año.txt\" y agregue al mismo archivo los meses y días correspondientes que faltan.\n",
        "\n",
        "Definir el siguiente diccionario,d:\n",
        "\n",
        "Enero, 31 días\n",
        "\n",
        "Febrero, 28 días\n",
        "\n",
        "Marzo, 31 días\n",
        "\n",
        "Abril, 30 días\n",
        "\n",
        "Mayo, 31 días\n",
        "\n",
        "Junio, 30 días\n",
        "\n",
        "Evaluar la función `cargar_datos_1(d)` y obtener el siguiente archivo \"meses_del_año.txt\":\n",
        "\n",
        "Enero, 31 días\n",
        "\n",
        "Febrero, 28 días\n",
        "\n",
        "Marzo, 31 días\n",
        "\n",
        "Abril, 30 días\n",
        "\n",
        "Mayo, 31 días\n",
        "\n",
        "Junio, 30 días\n",
        "\n",
        "Evaluar la función `cargar_datos_2(meses_del_año.txt)` y completar la información del archivo \"meses_del_año.txt\":\n",
        "\n",
        "Enero, 31 días\n",
        "\n",
        "Febrero, 28 días\n",
        "\n",
        "Marzo, 31 días\n",
        "\n",
        "Abril, 30 días\n",
        "\n",
        "Mayo, 31 días\n",
        "\n",
        "Junio, 30 días\n",
        "\n",
        "Julio, 31 días\n",
        "\n",
        "Agosto, 31 días\n",
        "\n",
        "Septiembre, 30 días\n",
        "\n",
        "Octubre, 31 días\n",
        "\n",
        "Noviembre, 30 días\n",
        "\n",
        "Diciembre, 31 días"
      ]
    },
    {
      "cell_type": "code",
      "execution_count": null,
      "metadata": {
        "id": "DC-q6yG_ghr0"
      },
      "outputs": [],
      "source": []
    },
    {
      "cell_type": "markdown",
      "metadata": {
        "id": "fLSZz-p9WNmO"
      },
      "source": [
        "**Ejercicio 15.** Manejo de APIs y json.\n",
        "\n",
        "**Introducción**\n",
        "\n",
        "La Oficina Nacional de Administración Oceánica y Atmosférica (National Oceanic and Atmospheric Administration, NOAA) es una agencia científica del Departamento de Comercio de los Estados Unidos cuyas actividades se centran en monitorear las condiciones de los océanos y la atmósfera.\n",
        "\n",
        "El NOAA ofrece distintos *datasets* (conjuntos de datos estructurados) sin limitaciones. Los datos puedes ser bajados directamente del sitio web https://www.noaa.gov/ o, alternativamente, accedidos por API.\n",
        "\n",
        "En este ejercicio accederemos a los datasets utilizando la API. Para utilizar la API se debe solicitar  un *token* al NOAA (ver *Referencias*). El token es una cadena de caracteres que funciona como id y password al mismo tiempo.\n",
        "\n",
        "Si al comienzo ponemos\n",
        "\n",
        "    import requests\n",
        "    token = 'nuestro token'\n",
        "    my_headers = {'token' : token}\n",
        "    response = requests.get('https://www.ncdc.noaa.gov/cdo-web/api/v2/datasets', headers=my_headers)\n",
        "    respuesta = response.json()\n",
        "    resultados = respuesta['results'] # Datasets disponible\n",
        "    for w in resultados:\n",
        "      pass\n",
        "      print(w['uid'],':',w['name'])\n",
        "\n",
        "obtendremos el `id` de cada uno de los datasets ofrecidos por el NOAA via API y una breve descripción de los mismos. En particular,  son interesantes:\n",
        "\n",
        "    GHCND : Daily Summaries\n",
        "    GSOM : Global Summary of the Month\n",
        "    GSOY : Global Summary of the Year\n",
        "\n",
        "La API permite una variedad de consultas, por ejemplo\n",
        "\n",
        "    response = requests.get('https://www.ncdc.noaa.gov/cdo-web/api/v2/datasets?locationid=CITY:US390029', headers=my_headers)\n",
        "    respuesta = response.json()\n",
        "\n",
        "nos devuelve todos los datasets disponibles para determinada localidad.\n",
        "\n",
        "También podemos obtener, por ejemplo, datos climatológicos de una determinada localidad durante un período determinado de tiempo: la consulta\n",
        "\n",
        "    response = requests.get('https://www.ncdc.noaa.gov/cdo-web/api/v2/data?datasetid=GHCND&stationid=GHCND:AR000087344&units=metric&startdate=2021-05-01&enddate=2021-05-31', headers=my_headers)\n",
        "    respuesta = response.json()\n",
        "    resultados = respuesta['results']\n",
        "\n",
        "nos devuelve un sumario de temperaturas y precipitaciones diarias en el mes de mayo de la estación meteorológica del Aeropuerto de Córdoba.  \n",
        "\n",
        "En las referencias a continuación se encuentra como obtener el token, la descripción de la API, la lista de estaciones meteorológicas y mucha más información. Luego viene una celda de código con ejemplos, y luego una celda de texto con el enunciado del ejercicio.\n",
        "\n",
        "\n",
        "\n",
        "*Referencias*\n",
        "- https://www.ncdc.noaa.gov/ National Centers for Environmental Information (37 petabytes)\n",
        "- https://www.ncei.noaa.gov/support/access-data-service-api-user-documentation\n",
        "- https://www.ncdc.noaa.gov/ghcn-daily-description\n",
        "  - Para bajar estaciones meteorolgógicas:  https://www1.ncdc.noaa.gov/pub/data/ghcn/daily/ghcnd-stations.txt\n",
        "  - Para bajar manual de ghcn-daily: https://www1.ncdc.noaa.gov/pub/data/ghcn/daily/readme.txt\n",
        "- Para pedir token: https://www.ncdc.noaa.gov/cdo-web/token\n",
        "- Climate Data Online - Web Services Documentation: https://www.ncdc.noaa.gov/cdo-web/webservices/v2#gettingStarted\n",
        "- Manual genérico para uso de APIs en Python: https://www.nylas.com/blog/use-python-requests-module-rest-apis/\n",
        "\n"
      ]
    },
    {
      "cell_type": "code",
      "execution_count": null,
      "metadata": {
        "id": "VY_4JySzXV3l"
      },
      "outputs": [],
      "source": [
        "import requests\n",
        "token = 'LsJXpYprYMzOKjMtqAlDmMUzwGelIQDf' # reemplazar con token propio\n",
        "my_headers = {'token' : token}\n",
        "# Ejemplo: datasets disponibles en NOAA\n",
        "response = requests.get('https://www.ncdc.noaa.gov/cdo-web/api/v2/datasets', headers=my_headers)\n",
        "respuesta = response.json()\n",
        "resultados = respuesta['results'] # Datasets disponibles\n",
        "\"\"\"\n",
        "for w in resultados:\n",
        "  pass\n",
        "  print(w['id'],':',w['name'])\n",
        "\"\"\"\n",
        "# Ejemplo: datasets  disponible en la ciudad US390029\n",
        "response = requests.get('https://www.ncdc.noaa.gov/cdo-web/api/v2/datasets?locationid=CITY:US390029', headers=my_headers)\n",
        "respuesta = response.json()\n",
        "# print(respuesta)\n",
        "\n",
        "# Datos climatológicos diarios (temperatura máxima, temperatura mínima y precipitaciones) en un período de tiempo en\n",
        "# la estación meteorológica  AR000087344 (Aeropuerto de Córdoba)\n",
        "fecha_ini, fecha_fin = '2010-05-01', '2010-05-31'\n",
        "response = requests.get('https://www.ncdc.noaa.gov/cdo-web/api/v2/data?datasetid=GHCND&stationid=GHCND:AR000087344&limit=1000&units=metric&startdate='+fecha_ini+'&enddate='+fecha_fin+'', headers=my_headers)\n",
        "respuesta = response.json()\n",
        "resultados = respuesta['results']\n",
        "# print(response.json())\n",
        "for w in resultados:\n",
        "  print(w)\n",
        "# Observación 1. Cuidado: no necesariamente todos los día tienen todos los datos.\n",
        "# Observación 2. Por defecto la API  recupera 25 registros por llamada. En la llamada anterior pusimos 'limit=1000'\n",
        "#                para recuperar hasta 1000 registros por llamada. La API no permite más."
      ]
    },
    {
      "cell_type": "markdown",
      "metadata": {
        "id": "hZcosXPlWSuw"
      },
      "source": [
        "Observar que cada elemento de  `resultados` es un diccionario y en ese diccionario  estan las claves`date`, `datatype` y `value`.\n",
        "- `date` indica el día.\n",
        "- Si el `datatype` es `TMAX`,  entonces `value` indica la temperatura máxima del día.\n",
        "- Si el `datatype` es `TMIN`,  entonces `value` indica la temperatura mínima del día.\n",
        "- Si el `datatype` es `TAVG`,  entonces `value` indica la temperatura promedio del día.\n",
        "- Si el `datatype` es `PRCP`,  entonces `value` indica la precipitación (en mm) de ese día."
      ]
    },
    {
      "cell_type": "markdown",
      "metadata": {
        "id": "l5wo3ifSWYd3"
      },
      "source": [
        "Trataremos de obtener información  meteorológica utilizando el dataset GHCND,  que es el de los sumarios diarios.\n",
        "\n",
        "**a)**  Utilizando la API hacer una función cuyo input  sea `AAAA` (un año) y genere una archivo llamado `AAAAcba.json` con los datos meteorológicos día a día del año `AAAA` de la estación AR000087344 (Aeropuerto de Córdoba). Recordar que el límite de datos que devuelve es 1000,  así que se debe tener cuidado de no excederse y perder datos.\n",
        "\n",
        "**b)**   Utilizando  los archivos generados en a) obtener el promedio de temperaturas máximas en la ciudad de Córdoba del mes de enero de 1970 y del mes de enero de 2020 e imprimir la diferencia.    \n"
      ]
    },
    {
      "cell_type": "code",
      "execution_count": null,
      "metadata": {
        "id": "KVqsLrWsV6oQ"
      },
      "outputs": [],
      "source": []
    }
  ],
  "metadata": {
    "colab": {
      "provenance": []
    },
    "kernelspec": {
      "display_name": "Python 3",
      "name": "python3"
    },
    "language_info": {
      "codemirror_mode": {
        "name": "ipython",
        "version": 3
      },
      "file_extension": ".py",
      "mimetype": "text/x-python",
      "name": "python",
      "nbconvert_exporter": "python",
      "pygments_lexer": "ipython3",
      "version": "3.10.4"
    }
  },
  "nbformat": 4,
  "nbformat_minor": 0
}
