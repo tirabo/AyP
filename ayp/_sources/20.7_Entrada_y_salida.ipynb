{
  "cells": [
    {
      "cell_type": "markdown",
      "metadata": {
        "id": "db5jPS5oLr4v"
      },
      "source": [
        "## 7. Lectura y escritura de archivos"
      ]
    },
    {
      "cell_type": "markdown",
      "metadata": {
        "id": "j4OCmjGI21HD"
      },
      "source": [
        "**Ejercicio 1.** Escribir una función, llamada `head()` que reciba el nombre de un archivo y un número `n` e imprima las primeras n líneas del archivo."
      ]
    },
    {
      "cell_type": "code",
      "execution_count": null,
      "metadata": {
        "id": "EwIhgMKvL7ah"
      },
      "outputs": [],
      "source": []
    },
    {
      "cell_type": "markdown",
      "metadata": {
        "id": "ySSvxXwBBatV"
      },
      "source": [
        "**Ejercicio 2.** Escribir una función que cuente el número de caracteres, palabras y filas de un archivo de texto."
      ]
    },
    {
      "cell_type": "code",
      "execution_count": null,
      "metadata": {
        "id": "yyd79_B4MTta"
      },
      "outputs": [],
      "source": []
    },
    {
      "cell_type": "markdown",
      "metadata": {
        "id": "W0CUCggqFyJ6"
      },
      "source": [
        "**Ejercicio 3.** Escribir un programa que solicite al usuario su nombre y apellido. Cuando el usuario responda, imprimir \" Bienvenido Sr/a + 'nombre y apellido' \".  Escribir su nombre y apellido en un archivo llamado invitados.txt."
      ]
    },
    {
      "cell_type": "code",
      "execution_count": null,
      "metadata": {
        "id": "4nx5sS6UMZj6"
      },
      "outputs": [],
      "source": []
    },
    {
      "cell_type": "markdown",
      "metadata": {
        "id": "AGlajxwBoaOP"
      },
      "source": [
        "**Ejercicio 4.** Escribir una función, que reciba el nombre de un archivo de texto de origen y uno de destino, de modo que para cada línea del archivo origen, se guarde una línea cifrada en el archivo destino. El algoritmo de cifrado a utilizar será muy sencillo: a cada caracter comprendido entre la `a` y la `z` en la posicón `k`, se lo cambia por el carcter en la posición `k+3` módulo $26$, para obtener un nuevo caracter."
      ]
    },
    {
      "cell_type": "code",
      "execution_count": null,
      "metadata": {
        "id": "DGkgPsIbMmZW"
      },
      "outputs": [],
      "source": [
        "def codigo_cesar(texto_plano):\n",
        "    texto_cifrado = ''\n",
        "    alfabeto = ['a', 'b', 'c', 'd', 'e', 'f', 'g', 'h', 'i', 'j', 'k', 'l', 'm', 'n', 'o', 'p', 'q', 'r', 's', 't', 'u', 'v', 'w', 'x', 'y', 'z']\n",
        "    letra_pos = {}\n",
        "    for i in range(len(alfabeto)):\n",
        "        letra_pos[alfabeto[i]] = i\n",
        "\n",
        "    for caracter in texto_plano:\n",
        "        if caracter in alfabeto:\n",
        "            nueva_pos = (letra_pos[caracter] + 13) % 26\n",
        "            texto_cifrado = texto_cifrado + alfabeto[nueva_pos]\n",
        "        else:\n",
        "            texto_cifrado = texto_cifrado + caracter\n",
        "\n",
        "\n",
        "    return texto_cifrado"
      ]
    },
    {
      "cell_type": "code",
      "execution_count": null,
      "metadata": {
        "colab": {
          "base_uri": "https://localhost:8080/"
        },
        "id": "Q3PpspTSlhPD",
        "outputId": "f5951dc0-1189-4095-f888-9c0c4a6e4539"
      },
      "outputs": [
        {
          "name": "stdout",
          "output_type": "stream",
          "text": [
            "¡ubyn! ¿dhr gny?\n"
          ]
        }
      ],
      "source": [
        "cifrado = codigo_cesar('¡hola! ¿que tal?')\n",
        "print(cifrado)"
      ]
    },
    {
      "cell_type": "markdown",
      "metadata": {
        "id": "-6l8q_oC2Fzc"
      },
      "source": [
        "**Ejercicio 5.** Escribir una función, llamada `cp()`, que copie todo el contenido de un archivo (sea de texto o binario) a otro, de modo que quede exactamente igual. Nota: utilizar `archivo.read(bytes)` para leer como máximo una cantidad de bytes."
      ]
    },
    {
      "cell_type": "code",
      "execution_count": null,
      "metadata": {
        "id": "B_PTyF89NrYJ"
      },
      "outputs": [],
      "source": [
        "def cp(nombre_archivo, nombre_copia):\n",
        "    with open(nombre_archivo, 'rb') as archivo:\n",
        "        contenido = archivo.read()\n",
        "\n",
        "    with open(nombre_copia, 'wb') as archivo:\n",
        "        archivo.write(contenido)\n",
        "\n",
        "archivo = './sample_data/README.md'\n",
        "copia = './copia.md'\n",
        "\n",
        "cp(archivo, copia+'2')"
      ]
    },
    {
      "cell_type": "markdown",
      "metadata": {
        "id": "9zX-C2f2oBVM"
      },
      "source": [
        "**Ejercicio 6.** Escribir una función que reciba una cadena de caracteres y el nombre de un archivo e imprima las líneas del archivo que contienen la expresión recibida."
      ]
    },
    {
      "cell_type": "code",
      "execution_count": null,
      "metadata": {
        "id": "d2XUDQTJNr6s"
      },
      "outputs": [],
      "source": []
    },
    {
      "cell_type": "markdown",
      "metadata": {
        "id": "CoYfUUVXo40g"
      },
      "source": [
        "**Ejercicio 7.** Escribir una función `cargar_datos()` que reciba un nombre de archivo, cuyo contenido en cada línea tiene el formato clave, valor y devuelva un diccionario con el primer campo como clave y el segundo como valor de cada línea."
      ]
    },
    {
      "cell_type": "code",
      "execution_count": null,
      "metadata": {
        "id": "VGcLFiOHNsqC"
      },
      "outputs": [],
      "source": []
    },
    {
      "cell_type": "markdown",
      "metadata": {
        "id": "U3BGFBsBpIE1"
      },
      "source": [
        "**Ejercicio 8.** Escribir una función `guardar_datos()` que reciba un diccionario y un nombre de archivo, y guarde el contenido del diccionario en el archivo, con el formato clave, valor en cada línea."
      ]
    },
    {
      "cell_type": "code",
      "execution_count": null,
      "metadata": {
        "id": "7I49Z7CTpctU"
      },
      "outputs": [],
      "source": []
    },
    {
      "cell_type": "markdown",
      "metadata": {
        "id": "mn833mqvVNQx"
      },
      "source": [
        "**Ejercicio 9.** En  un sitio web un archivo llamado robots.txt indica a qué partes querés que accedan los rastreadores de los motores de búsqueda (como el rastreador de Google). También indica a qué partes *no*  querés que accedan.\n",
        "\n",
        "El ejercicio consiste en escibir un programa Python para descargar y mostrar el contenido de robot.txt de es.wikipedia.org."
      ]
    },
    {
      "cell_type": "code",
      "execution_count": null,
      "metadata": {
        "id": "4W9xQnuTOV3S"
      },
      "outputs": [],
      "source": []
    },
    {
      "cell_type": "markdown",
      "metadata": {
        "id": "HZ7aGbhWVvRR"
      },
      "source": [
        "**Ejercicio 10.** Uso de la biblioteca `json`.\n",
        "\n",
        "Si bien podemos  analizar y extraer información de la web  bajando y  analizando páginas web directamente con Python, algunos sitios nos ofrecen la posibilidad de acceder a la información ya estructurada como json (*Java Script Object Notation*),  como csv (*comma-separated values*) o como xml (*Extensible Markup Language*). Esto  nos permite importar directamente la información a diccionarios o listas y  de esa forma trabajar en forma más cómoda y consistente.\n",
        "\n",
        "En este ejercicio practicaremos con archivos en formato json. Para ello debemos primero importar la biblioteca json.\n",
        "\n",
        "Hay dos métodos,  que nos permiten importar archivos json y exportar a archivos json.\n",
        "\n",
        "`json.loads('cadena json')`: convierte una cadena de caracteres en formato json  a un diccionario o lista según corresponda. Esto es llamado *deserializar* una cadena.\n",
        "\n",
        "`json.dumps(diccionario o lista)`: convierte un diccionario o lista a cadena de caracteres (que luego puede ser utilizada como input de `json.loads()`). Esto es llamado *serializar* un objeto.\n",
        "\n",
        "En  la siguiente celda de código hay unos ejemplos muy sencillos del uso de estos dos métodos."
      ]
    },
    {
      "cell_type": "code",
      "execution_count": null,
      "metadata": {
        "id": "5oYnoQ2MW6KH"
      },
      "outputs": [],
      "source": [
        "import json\n",
        "\n",
        "dic = {'a':1}\n",
        "x = json.dumps(dic)\n",
        "print(type(x), x)\n",
        "y = json.loads(x)\n",
        "print(type(y), y)\n",
        "\n",
        "lista = [{'a':1}]\n",
        "x = json.dumps(lista)\n",
        "print(type(x), x)\n",
        "y = json.loads(x)\n",
        "print(type(y), y)"
      ]
    },
    {
      "cell_type": "markdown",
      "metadata": {
        "id": "dVonLq03V2LV"
      },
      "source": [
        "Para importar archivo json entonces se debe usar como siempre la función  `open()` y luego hacer `json.loads(archivo.read())`.\n",
        "\n",
        "Para guardar un archivo json se debe tener un diccionario o lista,  guardar como cadena con `json.dumps()` y después esa cadena guardarla en un archivo.\n",
        "\n",
        "Por ejemplo"
      ]
    },
    {
      "cell_type": "code",
      "execution_count": null,
      "metadata": {
        "id": "rhsLgBddW_Af"
      },
      "outputs": [],
      "source": [
        "# Lectura\n",
        "x = open('./sample_data/anscombe.json', 'r')\n",
        "cadena_json = x.read()\n",
        "# print(type(x), type(cadena_json))\n",
        "# print(cadena_json)\n",
        "x.close()\n",
        "\n",
        "obj_json = json.loads(cadena_json)\n",
        "print(type(obj_json))\n",
        "print(obj_json[0].keys())\n",
        "\n",
        "# Agrandemos cada diccionario  con clave 'prom' donde almacenamos el promedio de X e Y\n",
        "for i in range(len(obj_json)):\n",
        "  x, y = obj_json[i]['X'], obj_json[i]['Y']\n",
        "  prom = (x + y) / 2\n",
        "  obj_json[i]['prom'] = prom\n",
        "\n",
        "# Escritura\n",
        "y = open('./sample_data/docu.json', 'w')\n",
        "cadena_json = json.dumps(obj_json) # es una str\n",
        "y.write(cadena_json)\n",
        "y.close()\n"
      ]
    },
    {
      "cell_type": "markdown",
      "metadata": {
        "id": "okuloIlAWC9y"
      },
      "source": [
        "Observar que el archivo `./sample_data/docu.json` tiene contenido similar (aunque no el mismo formato) que el archivo `./sample_data/anscombe.json`.\n",
        "\n",
        "*Importante.* Los archivos creados por nosotros y  guardados en Colab (por ejemplo, `./sample_data/docu.json`) son borrados al poco tiempo.\n",
        "\n",
        "En este ejercicio:  \n",
        "1. Hacé un archivo llamado `personas.json` con el siguiente contenido:\n",
        "\n",
        "       {\n",
        "        \"people\" : [\n",
        "          {\n",
        "            \"firstName\": \"Joe\",\n",
        "            \"lastName\": \"Jackson\",\n",
        "            \"gender\": \"male\",\n",
        "            \"age\": 28,\n",
        "            \"number\": \"7349282382\"\n",
        "          },\n",
        "          {\n",
        "            \"firstName\": \"James\",\n",
        "            \"lastName\": \"Smith\",\n",
        "            \"gender\": \"male\",\n",
        "            \"age\": 32,\n",
        "            \"number\": \"5678568567\"\n",
        "          },\n",
        "          {\n",
        "            \"firstName\": \"Emily\",\n",
        "            \"lastName\": \"Jones\",\n",
        "            \"gender\": \"female\",\n",
        "            \"age\": 24,\n",
        "            \"number\": \"456754675\"\n",
        "          }\n",
        "        ]\n",
        "      }\n",
        "\n",
        "2. Importá el archivo,  transformá el contenido en un diccionario y cambiá  la segunda persona poniendo tus datos personales.\n",
        "3. Guardá el contenido en un archivo llamado `personas_mod.json`."
      ]
    },
    {
      "cell_type": "markdown",
      "metadata": {
        "id": "alY_DY9t4SAe"
      },
      "source": [
        "**Ejercicio 11.** Ejemplo CSV.\n",
        "\n",
        "1. Bajar con el  módulo `requests` el archivo https://github.com/tirabo/Algoritmos-y-Programacion/blob/main/2024/python/documentos_de_prueba/Notas_LCC_COM1_anonimizados.csv\n",
        "\n",
        "El archivo contiene un listado de alumnos (anonimizado)  y  las notas de 3 parciales. Hacer lo siguiente:\n",
        "\n",
        "2. Crear un archivo CSV con los campos: DNI, REG, PROM, NOTA donde se consignará el DNI  de cada alumno,  si es alumno regular, `True` si  aprobó 2 parciales o más, `False` en caso contrario, si el alumno promocionó, `True` si esl promedio de los tres parciales es al menos 7, `False` en otro caso. Finalmente el campo NOTA es el promedio redondeado de los 3 parciales en caso que el alumno se encuentre promocionado,  en caso contrario se deja vacío.\n",
        "\n",
        "\n",
        "*Observación.* Si `response` es el objeto que devuelve la `request`, no existe una instrucción `response.csv` o algo similar para transformar la respuesta en un objeto CSV. Debemos escribir `response.text`  a un archivo, línea por línea, usando el módulo `csv` para que el programa sea más robusto. Por ejemplo, podemos hacer:\n",
        "\n",
        "\n",
        "\n",
        "```\n",
        "import csv\n",
        "\n",
        "with open('data.csv', 'w', newline='') as file:\n",
        "    writer = csv.writer(file)\n",
        "    for row in csv.reader(response.text.splitlines()):\n",
        "        writer.writerow(row)\n",
        "```\n",
        "\n",
        "Después leemos los contenidos del archivo y lo transformamos en un objeto CSV usando el módulo `csv`.\n",
        "\n",
        "\n",
        "Otra forma de hacerlo, más corta y sin necesidad de crear un archivo, es directamente creando un objeto CSV, por ejemplo:\n",
        "\n",
        "```\n",
        "import csv\n",
        "import io\n",
        "\n",
        "reader = csv.reader(io.StringIO(response.text))\n",
        "# Imprimimos la líneas del archivo\n",
        "for row in reader:\n",
        "    print(row)\n",
        "```\n",
        "\n",
        "\n",
        "\n",
        "\n",
        "\n",
        "\n"
      ]
    },
    {
      "cell_type": "code",
      "execution_count": null,
      "metadata": {
        "id": "oE30PI79GdWr"
      },
      "outputs": [],
      "source": []
    },
    {
      "cell_type": "markdown",
      "metadata": {
        "id": "k0VuEtQfy5en"
      },
      "source": [
        "**Ejercicio 12.** Uso de la biblioteca `json`.\n",
        "\n",
        "1.Hacé un archivo llamado peliculas.json con el siguiente contenido:\n",
        "\n",
        "       {\n",
        "        \"Pelicula\" : [\n",
        "          {\n",
        "            \"Título\": \"Titanic\",\n",
        "            \"Diractor\": \"James Cameron\",\n",
        "            \"Año\": 1997,\n",
        "          },\n",
        "          {\n",
        "            \"Título\": \"Gladiador\",\n",
        "            \"Director\": \"Ridley Scott\",\n",
        "            \"Año\": 2000,\n",
        "          },\n",
        "          {\n",
        "            \"Título\": \"Bird Box: a ciegas\",\n",
        "            \"Autor\": \"Susanne Bier\",\n",
        "            \"Año\": 2018,\n",
        "          }\n",
        "        ]\n",
        "      }\n",
        "3. Subí el archivo a `./sample_data` del Colab.\n",
        "4. Lee el archivo con Python,  transformá el contenido en un diccionario y cambiá  la segundo pelicula por:\n",
        "\n",
        "Título: It.\n",
        "\n",
        "Director: Andrés Muschietti.\n",
        "\n",
        "Año: 2017.\n",
        "\n",
        "5. Guardá el contenido en el directorio `./sample_data` en un archivo llamado `peliculas_mod.json`."
      ]
    },
    {
      "cell_type": "code",
      "execution_count": null,
      "metadata": {
        "id": "_wHhvViV18eA"
      },
      "outputs": [],
      "source": [
        "import json"
      ]
    },
    {
      "cell_type": "markdown",
      "metadata": {
        "id": "9VRBreUEPRpm"
      },
      "source": [
        "**Ejercicio 13.**\n",
        "\n",
        "1. Escribir una función `cargar_datos_1()` que reciba un diccionario, formado por los primeros 6 meses del año como claves y la duración de los mismos en días como valores, considerar un año no bisiesto. Y devuelva un archivo, \"meses_del_año.txt\" en donde cada renglón del mismo son las claves y los valores del diccionario.\n",
        "2. Escribir una función `cargar_datos_2()` que reciba como entrada el archivo \"meses_del_año.txt\" y agregue al mismo archivo los meses y días correspondientes que faltan.\n",
        "\n",
        "Definir el siguiente diccionario,d:\n",
        "\n",
        "Enero, 31 días\n",
        "\n",
        "Febrero, 28 días\n",
        "\n",
        "Marzo, 31 días\n",
        "\n",
        "Abril, 30 días\n",
        "\n",
        "Mayo, 31 días\n",
        "\n",
        "Junio, 30 días\n",
        "\n",
        "Evaluar la función `cargar_datos_1(d)` y obtener el siguiente archivo \"meses_del_año.txt\":\n",
        "\n",
        "Enero, 31 días\n",
        "\n",
        "Febrero, 28 días\n",
        "\n",
        "Marzo, 31 días\n",
        "\n",
        "Abril, 30 días\n",
        "\n",
        "Mayo, 31 días\n",
        "\n",
        "Junio, 30 días\n",
        "\n",
        "Evaluar la función `cargar_datos_2(meses_del_año.txt)` y completar la información del archivo \"meses_del_año.txt\":\n",
        "\n",
        "Enero, 31 días\n",
        "\n",
        "Febrero, 28 días\n",
        "\n",
        "Marzo, 31 días\n",
        "\n",
        "Abril, 30 días\n",
        "\n",
        "Mayo, 31 días\n",
        "\n",
        "Junio, 30 días\n",
        "\n",
        "Julio, 31 días\n",
        "\n",
        "Agosto, 31 días\n",
        "\n",
        "Septiembre, 30 días\n",
        "\n",
        "Octubre, 31 días\n",
        "\n",
        "Noviembre, 30 días\n",
        "\n",
        "Diciembre, 31 días"
      ]
    },
    {
      "cell_type": "code",
      "execution_count": null,
      "metadata": {
        "id": "DC-q6yG_ghr0"
      },
      "outputs": [],
      "source": []
    },
    {
      "cell_type": "markdown",
      "metadata": {
        "id": "fLSZz-p9WNmO"
      },
      "source": [
        "**Ejercicio 14.** Manejo de APIs y json.\n",
        "\n",
        "**Introducción**\n",
        "\n",
        "La Oficina Nacional de Administración Oceánica y Atmosférica (National Oceanic and Atmospheric Administration, NOAA) es una agencia científica del Departamento de Comercio de los Estados Unidos cuyas actividades se centran en monitorear las condiciones de los océanos y la atmósfera.\n",
        "\n",
        "El NOAA ofrece distintos *datasets* (conjuntos de datos estructurados) sin limitaciones. Los datos puedes ser bajados directamente del sitio web https://www.noaa.gov/ o, alternativamente, accedidos por API.\n",
        "\n",
        "En este ejercicio accederemos a los datasets utilizando la API. Para utilizar la API se debe solicitar  un *token* al NOAA (ver *Referencias*). El token es una cadena de caracteres que funciona como id y password al mismo tiempo.\n",
        "\n",
        "Si al comienzo ponemos\n",
        "\n",
        "    import requests\n",
        "    token = 'nuestro token'\n",
        "    my_headers = {'token' : token}\n",
        "    response = requests.get('https://www.ncdc.noaa.gov/cdo-web/api/v2/datasets', headers=my_headers)\n",
        "    respuesta = response.json()\n",
        "    resultados = respuesta['results'] # Datasets disponible\n",
        "    for w in resultados:\n",
        "      pass\n",
        "      print(w['uid'],':',w['name'])\n",
        "\n",
        "obtendremos el `id` de cada uno de los datasets ofrecidos por el NOAA via API y una breve descripción de los mismos. En particular,  son interesantes:\n",
        "\n",
        "    GHCND : Daily Summaries\n",
        "    GSOM : Global Summary of the Month\n",
        "    GSOY : Global Summary of the Year\n",
        "\n",
        "La API permite una variedad de consultas, por ejemplo\n",
        "\n",
        "    response = requests.get('https://www.ncdc.noaa.gov/cdo-web/api/v2/datasets?locationid=CITY:US390029', headers=my_headers)\n",
        "    respuesta = response.json()\n",
        "\n",
        "nos devuelve todos los datasets disponibles para determinada localidad.\n",
        "\n",
        "También podemos obtener, por ejemplo, datos climatológicos de una determinada localidad durante un período determinado de tiempo: la consulta\n",
        "\n",
        "    response = requests.get('https://www.ncdc.noaa.gov/cdo-web/api/v2/data?datasetid=GHCND&stationid=GHCND:AR000087344&units=metric&startdate=2021-05-01&enddate=2021-05-31', headers=my_headers)\n",
        "    respuesta = response.json()\n",
        "    resultados = respuesta['results']\n",
        "\n",
        "nos devuelve un sumario de temperaturas y precipitaciones diarias en el mes de mayo de la estación meteorológica del Aeropuerto de Córdoba.  \n",
        "\n",
        "En las referencias a continuación se encuentra como obtener el token, la descripción de la API, la lista de estaciones meteorológicas y mucha más información. Luego viene una celda de código con ejemplos, y luego una celda de texto con el enunciado del ejercicio.\n",
        "\n",
        "\n",
        "\n",
        "*Referencias*\n",
        "- https://www.ncdc.noaa.gov/ National Centers for Environmental Information (37 petabytes)\n",
        "- https://www.ncei.noaa.gov/support/access-data-service-api-user-documentation\n",
        "- https://www.ncdc.noaa.gov/ghcn-daily-description\n",
        "  - Para bajar estaciones meteorolgógicas:  https://www1.ncdc.noaa.gov/pub/data/ghcn/daily/ghcnd-stations.txt\n",
        "  - Para bajar manual de ghcn-daily: https://www1.ncdc.noaa.gov/pub/data/ghcn/daily/readme.txt\n",
        "- Para pedir token: https://www.ncdc.noaa.gov/cdo-web/token\n",
        "- Climate Data Online - Web Services Documentation: https://www.ncdc.noaa.gov/cdo-web/webservices/v2#gettingStarted\n",
        "- Manual genérico para uso de APIs en Python: https://www.nylas.com/blog/use-python-requests-module-rest-apis/\n",
        "\n"
      ]
    },
    {
      "cell_type": "code",
      "execution_count": null,
      "metadata": {
        "id": "VY_4JySzXV3l"
      },
      "outputs": [],
      "source": [
        "import requests\n",
        "token = 'LsJXpYprYMzOKjMtqAlDmMUzwGelIQDf' # reemplazar con token propio\n",
        "my_headers = {'token' : token}\n",
        "# Ejemplo: datasets disponibles en NOAA\n",
        "response = requests.get('https://www.ncdc.noaa.gov/cdo-web/api/v2/datasets', headers=my_headers)\n",
        "respuesta = response.json()\n",
        "resultados = respuesta['results'] # Datasets disponibles\n",
        "\"\"\"\n",
        "for w in resultados:\n",
        "  pass\n",
        "  print(w['id'],':',w['name'])\n",
        "\"\"\"\n",
        "# Ejemplo: datasets  disponible en la ciudad US390029\n",
        "response = requests.get('https://www.ncdc.noaa.gov/cdo-web/api/v2/datasets?locationid=CITY:US390029', headers=my_headers)\n",
        "respuesta = response.json()\n",
        "# print(respuesta)\n",
        "\n",
        "# Datos climatológicos diarios (temperatura máxima, temperatura mínima y precipitaciones) en un período de tiempo en\n",
        "# la estación meteorológica  AR000087344 (Aeropuerto de Córdoba)\n",
        "fecha_ini, fecha_fin = '2010-05-01', '2010-05-31'\n",
        "response = requests.get('https://www.ncdc.noaa.gov/cdo-web/api/v2/data?datasetid=GHCND&stationid=GHCND:AR000087344&limit=1000&units=metric&startdate='+fecha_ini+'&enddate='+fecha_fin+'', headers=my_headers)\n",
        "respuesta = response.json()\n",
        "resultados = respuesta['results']\n",
        "# print(response.json())\n",
        "for w in resultados:\n",
        "  print(w)\n",
        "# Observación 1. Cuidado: no necesariamente todos los día tienen todos los datos.\n",
        "# Observación 2. Por defecto la API  recupera 25 registros por llamada. En la llamada anterior pusimos 'limit=1000'\n",
        "#                para recuperar hasta 1000 registros por llamada. La API no permite más."
      ]
    },
    {
      "cell_type": "markdown",
      "metadata": {
        "id": "hZcosXPlWSuw"
      },
      "source": [
        "Observar que cada elemento de  `resultados` es un diccionario y en ese diccionario  estan las claves`date`, `datatype` y `value`.\n",
        "- `date` indica el día.\n",
        "- Si el `datatype` es `TMAX`,  entonces `value` indica la temperatura máxima del día.\n",
        "- Si el `datatype` es `TMIN`,  entonces `value` indica la temperatura mínima del día.\n",
        "- Si el `datatype` es `TAVG`,  entonces `value` indica la temperatura promedio del día.\n",
        "- Si el `datatype` es `PRCP`,  entonces `value` indica la precipitación (en mm) de ese día."
      ]
    },
    {
      "cell_type": "markdown",
      "metadata": {
        "id": "l5wo3ifSWYd3"
      },
      "source": [
        "Trataremos de obtener información  meteorológica utilizando el dataset GHCND,  que es el de los sumarios diarios.\n",
        "\n",
        "**a)**  Utilizando la API hacer una función cuyo input  sea `AAAA` (un año) y genere una archivo llamado `AAAAcba.json` con los datos meteorológicos día a día del año `AAAA` de la estación AR000087344 (Aeropuerto de Córdoba). Recordar que el límite de datos que devuelve es 1000,  así que se debe tener cuidado de no excederse y perder datos.\n",
        "\n",
        "**b)**   Utilizando  los archivos generados en a) obtener el promedio de temperaturas máximas en la ciudad de Córdoba del mes de enero de 1970 y del mes de enero de 2020 e imprimir la diferencia.    \n"
      ]
    },
    {
      "cell_type": "code",
      "execution_count": null,
      "metadata": {
        "id": "KVqsLrWsV6oQ"
      },
      "outputs": [],
      "source": []
    }
  ],
  "metadata": {
    "colab": {
      "provenance": []
    },
    "kernelspec": {
      "display_name": "Python 3",
      "name": "python3"
    },
    "language_info": {
      "name": "python"
    }
  },
  "nbformat": 4,
  "nbformat_minor": 0
}
