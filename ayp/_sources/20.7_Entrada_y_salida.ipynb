{
  "cells": [
    {
      "cell_type": "markdown",
      "metadata": {
        "id": "db5jPS5oLr4v"
      },
      "source": [
        "## 7. Lectura y escritura de archivos"
      ]
    },
    {
      "cell_type": "markdown",
      "metadata": {
        "id": "j4OCmjGI21HD"
      },
      "source": [
        "**Ejercicio 1.** Escribir una función, llamada `head()` que reciba el nombre de un archivo y un número $n$ e imprima las primeras $n$ líneas del archivo. Para probar la función utilice un archivo de texto de su computadora."
      ]
    },
    {
      "cell_type": "code",
      "execution_count": 13,
      "metadata": {
        "id": "EwIhgMKvL7ah"
      },
      "outputs": [],
      "source": [
        "# Solución\n",
        "def head(file, n):\n",
        "    \"\"\"Imprime las primeras n líneas del archivo file.\"\"\"\n",
        "    with open(file) as f:\n",
        "        for i in range(n):\n",
        "            print(f.readline(), end='')"
      ]
    },
    {
      "cell_type": "markdown",
      "metadata": {
        "id": "ySSvxXwBBatV"
      },
      "source": [
        "**Ejercicio 2.** Escribir la función `contar()` que cuenta el número de líneas, palabras y caracteres de un archivo de texto. La función debe devolver los 3 valores. Pruebe la función con archivos de su computadora."
      ]
    },
    {
      "cell_type": "code",
      "execution_count": 14,
      "metadata": {
        "id": "yyd79_B4MTta"
      },
      "outputs": [],
      "source": [
        "# Solución\n",
        "# 1º forma\n",
        "def contar(file):\n",
        "    \"\"\"Cuenta las líneas, palabras y caracteres del archivo file.\"\"\"\n",
        "    with open(file) as f:\n",
        "        texto = f.read()\n",
        "    lineas = texto.count('\\n')\n",
        "    palabras = len(texto.split())\n",
        "    caracteres = len(texto)\n",
        "    return lineas, palabras, caracteres\n",
        "\n",
        "# 2º forma (leyendo  línea a línea)\n",
        "def contar(file):\n",
        "    \"\"\"Cuenta las líneas, palabras y caracteres del archivo file.\"\"\"\n",
        "    with open(file) as f:\n",
        "        lineas = 0\n",
        "        palabras = 0\n",
        "        caracteres = 0\n",
        "        for linea in f:\n",
        "            lineas += 1\n",
        "            palabras += len(linea.split())\n",
        "            caracteres += len(linea)\n",
        "    return lineas, palabras, caracteres"
      ]
    },
    {
      "cell_type": "markdown",
      "metadata": {
        "id": "W0CUCggqFyJ6"
      },
      "source": [
        "**Ejercicio 3.** Escribir la función `main()` que solicite al usuario su nombre y apellido. Cuando el usuario responda, imprimir \" Bienvenido Sr/a + 'nombre y apellido' \".  Escribir su nombre y apellido en un archivo llamado invitados.txt."
      ]
    },
    {
      "cell_type": "code",
      "execution_count": 15,
      "metadata": {
        "id": "4nx5sS6UMZj6"
      },
      "outputs": [],
      "source": [
        "# Solución\n",
        "def main():\n",
        "    nom_ap = input(\"Ingrese su nombre y apellido: \")\n",
        "    print(\"bienvenido Sr/a\", nom_ap)\n",
        "    with open(\"invitados.txt\", \"w\") as f:\n",
        "        f.write(nom_ap)"
      ]
    },
    {
      "cell_type": "markdown",
      "metadata": {},
      "source": [
        "Para probar la función descomente la siguiente línea y  ejecute la celda de código."
      ]
    },
    {
      "cell_type": "code",
      "execution_count": 16,
      "metadata": {},
      "outputs": [],
      "source": [
        "# main()"
      ]
    },
    {
      "cell_type": "markdown",
      "metadata": {
        "id": "AGlajxwBoaOP"
      },
      "source": [
        "**Ejercicio 4.** Escribir la función `codigo_cesar()`, que recibe una cadena de caracteres y devuelve una cadena que es lo original encriptada. El algoritmo de cifrado a utilizar será muy sencillo: a cada carácter comprendido entre la `a` y la `z` en la posición $k$, se lo cambia por el carácter en la posición $k+3$ módulo $26$, para obtener un nuevo carácter. La lista de caracteres tiene $26$ letras (no está la `ñ`). \n",
        "\n",
        "Escribir una función `codigo_cesar_io()` que reciba el nombre de un archivo de texto de origen y uno de destino, de modo que para cada línea del archivo origen, se guarde una línea cifrada en el archivo destino aon el algoritmo anterior"
      ]
    },
    {
      "cell_type": "code",
      "execution_count": 17,
      "metadata": {
        "id": "DGkgPsIbMmZW"
      },
      "outputs": [],
      "source": [
        "# Solución\n",
        "# 1º forma \n",
        "def codigo_cesar(texto_plano):\n",
        "    texto_cifrado = ''\n",
        "    alfabeto = ['a', 'b', 'c', 'd', 'e', 'f', 'g', 'h', 'i', 'j', 'k', 'l', 'm', 'n', 'o', 'p', 'q', 'r', 's', 't', 'u', 'v', 'w', 'x', 'y', 'z']\n",
        "    letra_pos = {}\n",
        "    for i in range(len(alfabeto)):\n",
        "        letra_pos[alfabeto[i]] = i\n",
        "    # letra_pos[x] = la posición del carácter x. Por ejemplo, letra_pos['a'] = 0\n",
        "\n",
        "    for caracter in texto_plano:\n",
        "        if caracter in alfabeto:\n",
        "            nueva_pos = (letra_pos[caracter] + 3) % 26\n",
        "            texto_cifrado = texto_cifrado + alfabeto[nueva_pos]\n",
        "        else:\n",
        "            texto_cifrado = texto_cifrado + caracter\n",
        "    return texto_cifrado\n",
        "\n",
        "# 2º forma (más compacta,  más difícil de leer)\n",
        "def codigo_cesar(texto_plano):\n",
        "    alfabeto = ['a', 'b', 'c', 'd', 'e', 'f', 'g', 'h', 'i', 'j', 'k', 'l', 'm', 'n', 'o', 'p', 'q', 'r', 's', 't', 'u', 'v', 'w', 'x', 'y', 'z']\n",
        "    lista_cifrada = [alfabeto[(alfabeto.index(letra) + 3) % 26] if letra in alfabeto else letra for letra in texto_plano]\n",
        "    return ''.join(lista_cifrada)\n"
      ]
    },
    {
      "cell_type": "code",
      "execution_count": 18,
      "metadata": {
        "colab": {
          "base_uri": "https://localhost:8080/"
        },
        "id": "Q3PpspTSlhPD",
        "outputId": "f5951dc0-1189-4095-f888-9c0c4a6e4539"
      },
      "outputs": [
        {
          "name": "stdout",
          "output_type": "stream",
          "text": [
            "¡krod! ¿txh wdo?\n"
          ]
        }
      ],
      "source": [
        "# Pruebas\n",
        "cifrado = codigo_cesar('¡hola! ¿que tal?') # '¡krod! ¿txh wdo?'\n",
        "print(cifrado)"
      ]
    },
    {
      "cell_type": "code",
      "execution_count": 19,
      "metadata": {},
      "outputs": [],
      "source": [
        "# Solución\n",
        "def codigo_cesar_io(archivo_in, archivo_out):\n",
        "    with open(archivo_in) as f:\n",
        "        texto = f.read()\n",
        "    texto_cifrado = codigo_cesar(texto)\n",
        "    with open(archivo_out, 'w') as f:\n",
        "        f.write(texto_cifrado)"
      ]
    },
    {
      "cell_type": "markdown",
      "metadata": {},
      "source": [
        "**Ejercicio 5.** Crear el archivo `texto_plano.txt`que consiste de 1000 líneas, cada una con 100 caracteres alfabéticos elegidos al azar. "
      ]
    },
    {
      "cell_type": "code",
      "execution_count": 37,
      "metadata": {},
      "outputs": [],
      "source": [
        "# Solución\n",
        "from  random import choice\n",
        "alfabeto = 'abcdefghijklmnopqrstuvwxyz'\n",
        "with open('texto_plano.txt', 'w') as f:\n",
        "    for i in range(1000):\n",
        "        for j in range(100):\n",
        "            f.write(choice(alfabeto))\n",
        "        f.write('\\n')\n"
      ]
    },
    {
      "cell_type": "markdown",
      "metadata": {
        "id": "-6l8q_oC2Fzc"
      },
      "source": [
        "**Ejercicio 6.** Escribir una función, llamada `cp()`, que copie todo el contenido de un archivo (sea de texto o binario) a otro, de modo que quede exactamente igual.\n",
        "\n",
        "*Nota:* Si el archivo es muy grande se puede utilizar `archivo.read(bytes)` para leer como máximo una cantidad de bytes."
      ]
    },
    {
      "cell_type": "code",
      "execution_count": 20,
      "metadata": {
        "id": "B_PTyF89NrYJ"
      },
      "outputs": [],
      "source": [
        "# Solución simple\n",
        "\n",
        "def cp(nombre_archivo, nombre_copia):\n",
        "    with open(nombre_archivo, 'rb') as archivo:\n",
        "        contenido = archivo.read()\n",
        "\n",
        "    with open(nombre_copia, 'wb') as archivo:\n",
        "        archivo.write(contenido)"
      ]
    },
    {
      "cell_type": "code",
      "execution_count": 38,
      "metadata": {},
      "outputs": [],
      "source": [
        "# Solución con manejo de errores y read(byte)\n",
        "def cp(nombre_archivo, nombre_copia):\n",
        "    try:\n",
        "        with open(nombre_archivo, 'rb') as archivo:\n",
        "            with open(nombre_copia, 'wb') as copia:\n",
        "                while True:\n",
        "                    contenido = archivo.read(1024)\n",
        "                    if not contenido:\n",
        "                        break\n",
        "                    copia.write(contenido)\n",
        "    except FileNotFoundError:\n",
        "        print('El archivo \"'+nombre_archivo+'\" no existe')"
      ]
    },
    {
      "cell_type": "markdown",
      "metadata": {},
      "source": [
        "Utilizamos el archivo `texto_plano.txt` del ejercicio anterior para hacer pruebas."
      ]
    },
    {
      "cell_type": "code",
      "execution_count": 39,
      "metadata": {},
      "outputs": [
        {
          "name": "stdout",
          "output_type": "stream",
          "text": [
            "El archivo \"archivo_no_existe.txt\" no existe\n"
          ]
        }
      ],
      "source": [
        "# Pruebas\n",
        "cp('texto_plano.txt', 'copia_texto.txt')\n",
        "cp('archivo_no_existe.txt', 'copia_texto.txt')"
      ]
    },
    {
      "cell_type": "markdown",
      "metadata": {
        "id": "9zX-C2f2oBVM"
      },
      "source": [
        "**Ejercicio 7.** Escribir una función que reciba una cadena de caracteres y el nombre de un archivo e imprima las líneas del archivo que contienen la expresión recibida."
      ]
    },
    {
      "cell_type": "code",
      "execution_count": 1,
      "metadata": {
        "id": "d2XUDQTJNr6s"
      },
      "outputs": [],
      "source": [
        "# Solución\n",
        "def encontrar_cadena(archivo, cadena):\n",
        "    with open(archivo) as f:\n",
        "        for linea in f:\n",
        "            if cadena in linea:\n",
        "                print(linea, end='')"
      ]
    },
    {
      "cell_type": "markdown",
      "metadata": {
        "id": "CoYfUUVXo40g"
      },
      "source": [
        "**Ejercicio 8.** \n",
        "\n",
        "1. Escribir un programa que cree un archivo llamado `archivo_datos.txt` cuyo contenido son 1000 lineas  y cada línea tiene el formato `clave : valor`, donde la clave es una cadena de 5 letras y el valor es un número de 10 dígitos,  ambos generados al azar.  \n",
        "2. Escribir una función `cargar_datos()` que reciba un nombre de archivo, cuyo contenido en cada línea tiene el formato `clave : valor` y devuelva un diccionario con el primer campo como clave y el segundo como valor de cada línea. Aplicar la función al archivo creado en el item anterior. "
      ]
    },
    {
      "cell_type": "code",
      "execution_count": 4,
      "metadata": {
        "id": "VGcLFiOHNsqC"
      },
      "outputs": [],
      "source": [
        "# Solución\n",
        "\n",
        "# 1.\n",
        "from random import choice\n",
        "letras = 'abcdefghijklmnopqrstuvwxyz'\n",
        "digitos = '0123456789'\n",
        "with open('archivo_datos.txt', 'w') as f:\n",
        "    for i in range(1000):\n",
        "        clave = ''.join([choice(letras) for _ in range(5)])\n",
        "        valor = ''.join([choice(digitos) for _ in range(10)])\n",
        "        f.write(clave + ' : ' + valor + '\\n')\n",
        "\n",
        "# 2.\n",
        "def cargar_datos(archivo):\n",
        "    datos = {}\n",
        "    try:\n",
        "        with open(archivo) as f:\n",
        "            for linea in f:\n",
        "                clave, valor = linea.strip().split(' : ')\n",
        "                datos[clave] = valor\n",
        "        return datos\n",
        "    except FileNotFoundError:\n",
        "        print('El archivo \"'+archivo+'\" no existe')\n",
        "        return None"
      ]
    },
    {
      "cell_type": "code",
      "execution_count": 5,
      "metadata": {},
      "outputs": [
        {
          "name": "stdout",
          "output_type": "stream",
          "text": [
            "{'illzw': '7663036889', 'pawqm': '2166247658', 'bkojl': '7658977292', 'yyodt': '9660981720', 'aqmld': '5732409506', 'rhbrm': '3923441841', 'vomom': '0524999860', 'inpms': '5608798371', 'azegb': '7962551952', 'nlbmv': '4457221483', 'gncac': '1386989074', 'vpxlo': '7234540759', 'eiztu': '0419016433', 'mjzyj': '5621915199', 'hpzkm': '9883879778', 'xhdoc': '2214299143', 'azzyb': '6324385116', 'adiny': '2715495212', 'gfruk': '6800007612', 'liirm': '7857906460', 'xjclu': '7763980760', 'ddrve': '664303\n"
          ]
        }
      ],
      "source": [
        "# Pruebas\n",
        "datos = cargar_datos('archivo_datos.txt')\n",
        "print(str(datos)[:500])\n"
      ]
    },
    {
      "cell_type": "markdown",
      "metadata": {
        "id": "U3BGFBsBpIE1"
      },
      "source": [
        "**Ejercicio 9.** Escribir una función `guardar_datos()` que reciba un diccionario y un nombre de archivo, y guarde el contenido del diccionario en el archivo, con el formato `clave : valor` en cada línea."
      ]
    },
    {
      "cell_type": "code",
      "execution_count": null,
      "metadata": {
        "id": "7I49Z7CTpctU"
      },
      "outputs": [],
      "source": [
        "# Solución\n",
        "\n",
        "def guardar_datos(datos , archivo):\n",
        "    \"\"\" \n",
        "    pre: Datos es un diccionario, archivo es el nombre del archivo donde se guardarán los datos.\n",
        "    post: Guarda los datos en el archivo en formato clave : valor.\n",
        "    \"\"\"\n",
        "    with open(archivo, 'w') as f:\n",
        "        for clave, valor in datos.items():\n",
        "            f.write(clave + ' : ' + valor + '\\n')"
      ]
    },
    {
      "cell_type": "code",
      "execution_count": null,
      "metadata": {},
      "outputs": [],
      "source": [
        "# Pruebas\n",
        "datos = {'a': '123', 'b': '456', 'c': '789'}\n",
        "guardar_datos(datos, 'archivo_datos.txt')"
      ]
    },
    {
      "cell_type": "markdown",
      "metadata": {
        "id": "mn833mqvVNQx"
      },
      "source": [
        "**Ejercicio 10.** En algunos sitios web hay un archivo llamado `robots.txt` que indica a qué partes querés que accedan los rastreadores de los motores de búsqueda (como el rastreador de Google). También indica a qué partes *no*  querés que accedan.\n",
        "\n",
        "El ejercicio consiste en escribir un programa Python usando el módulo `requests` para descargar y mostrar el contenido de `robot.txt` de [https://es.wikipedia.org](https://es.wikipedia.org)"
      ]
    },
    {
      "cell_type": "code",
      "execution_count": 13,
      "metadata": {
        "id": "4W9xQnuTOV3S"
      },
      "outputs": [
        {
          "name": "stdout",
          "output_type": "stream",
          "text": [
            "# robots.txt for http://www.wikipedia.org/ and friends\n",
            "#\n",
            "# Please note: There are a lot of pages on this site, and there are\n",
            "# some misbehaved spiders out there that go _way_ too fast. If you're\n",
            "# irresponsible, your access to the site may be blocked.\n",
            "#\n",
            "\n",
            "# Observed spamming large amounts of https://en.wikipedia.org/?curid=NNNNNN\n",
            "# and ignoring 429 ratelimit responses, claims to respect robots:\n",
            "# http://mj12bot.com/\n",
            "User-agent: MJ12bot\n",
            "Disallow: /\n",
            "\n",
            "# advertising-related bots:\n",
            "User-agent: Mediapartners-Google*\n",
            "Disallow: /\n",
            "\n",
            "# Wikipedia work bots:\n",
            "User-agent: IsraBot\n",
            "Disallow:\n",
            "\n",
            "User-agent: Orthogaffe\n",
            "Disallow:\n",
            "\n",
            "# Crawlers that are kind enough to obey, but which we'd rather not have\n",
            "# unless they're feeding search engines.\n",
            "User-agent: UbiCrawler\n",
            "Disallow: /\n",
            "\n",
            "User-agent: DOC\n",
            "Disallow: /\n",
            "\n",
            "User-agent: Zao\n",
            "Disallow: /\n",
            "\n",
            "# Some bots are known to be trouble, particularly those designed to copy\n",
            "# entire sites. Please obey robots.txt.\n",
            "User-agent: sitecheck.internetseer.com\n",
            "Disallow: /\n",
            "\n",
            "User-agent: Zealbot\n",
            "Disallow: /\n",
            "\n",
            "User-agent: MSIECrawler\n",
            "Disallow: /\n",
            "\n",
            "User-agent: SiteSnagger\n",
            "Disallow: /\n",
            "\n",
            "User-agent: WebStripper\n",
            "Disallow: /\n",
            "\n",
            "User-agent: WebCopier\n",
            "Disallow: /\n",
            "\n",
            "User-agent: Fetch\n",
            "Disallow: /\n",
            "\n",
            "User-agent: Offline Explorer\n",
            "Disallow: /\n",
            "\n",
            "User-agent: Teleport\n",
            "Disallow: /\n",
            "\n",
            "User-agent: TeleportPro\n",
            "Disallow: /\n",
            "\n",
            "User-agent: WebZIP\n",
            "Disallow: /\n",
            "\n",
            "User-agent: linko\n",
            "Disallow: /\n",
            "\n",
            "User-agent: HTTrack\n",
            "Disallow: /\n",
            "\n",
            "User-agent: Microsoft.URL.Control\n",
            "Disallow: /\n",
            "\n",
            "User-agent: Xenu\n",
            "Disallow: /\n",
            "\n",
            "User-agent: larbin\n",
            "Disallow: /\n",
            "\n",
            "User-agent: libwww\n",
            "Disallow: /\n",
            "\n",
            "User-agent: ZyBORG\n",
            "Disallow: /\n",
            "\n",
            "User-agent: Download Ninja\n",
            "Disallow: /\n",
            "\n",
            "# Misbehaving: requests much too fast:\n",
            "User-agent: fast\n",
            "Disallow: /\n",
            "\n",
            "#\n",
            "# Sorry, wget in its recursive mode is a frequent problem.\n",
            "# Please read the man page and use it properly; there is a\n",
            "# --wait option you can use to set the delay between hits,\n",
            "# for instance.\n",
            "#\n",
            "User-agent: wget\n",
            "Disallow: /\n",
            "\n",
            "#\n",
            "# The 'grub' distributed client has been *very* poorly behaved.\n",
            "#\n",
            "User-agent: grub-client\n",
            "Disallow: /\n",
            "\n",
            "#\n",
            "# Doesn't follow robots.txt anyway, but...\n",
            "#\n",
            "User-agent: k2spider\n",
            "Disallow: /\n",
            "\n",
            "#\n",
            "# Hits many times per second, not acceptable\n",
            "# http://www.nameprotect.com/botinfo.html\n",
            "User-agent: NPBot\n",
            "Disallow: /\n",
            "\n",
            "# A capture bot, downloads gazillions of pages with no public benefit\n",
            "# http://www.webreaper.net/\n",
            "User-agent: WebReaper\n",
            "Disallow: /\n",
            "\n",
            "\n",
            "#\n",
            "# Friendly, low-speed bots are welcome viewing article pages, but not\n",
            "# dynamically-generated pages please.\n",
            "#\n",
            "# Inktomi's \"Slurp\" can read a minimum delay between hits; if your\n",
            "# bot supports such a thing using the 'Crawl-delay' or another\n",
            "# instruction, please let us know.\n",
            "#\n",
            "# There is a special exception for API mobileview to allow dynamic\n",
            "# mobile web & app views to load section content.\n",
            "# These views aren't HTTP-cached but use parser cache aggressively\n",
            "# and don't expose special: pages etc.\n",
            "#\n",
            "# Another exception is for REST API documentation, located at\n",
            "# /api/rest_v1/?doc.\n",
            "#\n",
            "User-agent: *\n",
            "Allow: /w/api.php?action=mobileview&\n",
            "Allow: /w/load.php?\n",
            "Allow: /api/rest_v1/?doc\n",
            "Disallow: /w/\n",
            "Disallow: /api/\n",
            "Disallow: /trap/\n",
            "Disallow: /wiki/Special:\n",
            "Disallow: /wiki/Spezial:\n",
            "Disallow: /wiki/Spesial:\n",
            "Disallow: /wiki/Special%3A\n",
            "Disallow: /wiki/Spezial%3A\n",
            "Disallow: /wiki/Spesial%3A\n",
            "#\n",
            "# ar:\n",
            "Disallow: /wiki/%D8%AE%D8%A7%D8%B5:Search\n",
            "Disallow: /wiki/%D8%AE%D8%A7%D8%B5%3ASearch\n",
            "#\n",
            "# dewiki:\n",
            "# T6937\n",
            "# sensible deletion and meta user discussion pages:\n",
            "Disallow: /wiki/Wikipedia:L%C3%B6schkandidaten/\n",
            "Disallow: /wiki/Wikipedia:Löschkandidaten/\n",
            "Disallow: /wiki/Wikipedia:Vandalensperrung/\n",
            "Disallow: /wiki/Wikipedia:Benutzersperrung/\n",
            "Disallow: /wiki/Wikipedia:Vermittlungsausschuss/\n",
            "Disallow: /wiki/Wikipedia:Administratoren/Probleme/\n",
            "Disallow: /wiki/Wikipedia:Adminkandidaturen/\n",
            "Disallow: /wiki/Wikipedia:Qualitätssicherung/\n",
            "Disallow: /wiki/Wikipedia:Qualit%C3%A4tssicherung/\n",
            "# 4937#5\n",
            "Disallow: /wiki/Wikipedia:Vandalismusmeldung/\n",
            "Disallow: /wiki/Wikipedia:Gesperrte_Lemmata/\n",
            "Disallow: /wiki/Wikipedia:Löschprüfung/\n",
            "Disallow: /wiki/Wikipedia:L%C3%B6schprüfung/\n",
            "Disallow: /wiki/Wikipedia:Administratoren/Notizen/\n",
            "Disallow: /wiki/Wikipedia:Schiedsgericht/Anfragen/\n",
            "Disallow: /wiki/Wikipedia:L%C3%B6schpr%C3%BCfung/\n",
            "# T14111\n",
            "Disallow: /wiki/Wikipedia:Checkuser/\n",
            "Disallow: /wiki/Wikipedia_Diskussion:Checkuser/\n",
            "Disallow: /wiki/Wikipedia_Diskussion:Adminkandidaturen/\n",
            "# T15961\n",
            "Disallow: /wiki/Wikipedia:Spam-Blacklist-Log\n",
            "Disallow: /wiki/Wikipedia%3ASpam-Blacklist-Log\n",
            "Disallow: /wiki/Wikipedia_Diskussion:Spam-Blacklist-Log\n",
            "Disallow: /wiki/Wikipedia_Diskussion%3ASpam-Blacklist-Log\n",
            "#\n",
            "# enwiki:\n",
            "# Folks get annoyed when VfD discussions end up the number 1 google hit for\n",
            "# their name. See T6776\n",
            "Disallow: /wiki/Wikipedia:Articles_for_deletion/\n",
            "Disallow: /wiki/Wikipedia%3AArticles_for_deletion/\n",
            "Disallow: /wiki/Wikipedia:Votes_for_deletion/\n",
            "Disallow: /wiki/Wikipedia%3AVotes_for_deletion/\n",
            "Disallow: /wiki/Wikipedia:Pages_for_deletion/\n",
            "Disallow: /wiki/Wikipedia%3APages_for_deletion/\n",
            "Disallow: /wiki/Wikipedia:Miscellany_for_deletion/\n",
            "Disallow: /wiki/Wikipedia%3AMiscellany_for_deletion/\n",
            "Disallow: /wiki/Wikipedia:Miscellaneous_deletion/\n",
            "Disallow: /wiki/Wikipedia%3AMiscellaneous_deletion/\n",
            "Disallow: /wiki/Wikipedia:Copyright_problems\n",
            "Disallow: /wiki/Wikipedia%3ACopyright_problems\n",
            "Disallow: /wiki/Wikipedia:Protected_titles/\n",
            "Disallow: /wiki/Wikipedia%3AProtected_titles/\n",
            "# T15398\n",
            "Disallow: /wiki/Wikipedia:WikiProject_Spam/\n",
            "Disallow: /wiki/Wikipedia%3AWikiProject_Spam/\n",
            "# T16075\n",
            "Disallow: /wiki/MediaWiki:Spam-blacklist\n",
            "Disallow: /wiki/MediaWiki%3ASpam-blacklist\n",
            "Disallow: /wiki/MediaWiki_talk:Spam-blacklist\n",
            "Disallow: /wiki/MediaWiki_talk%3ASpam-blacklist\n",
            "# T13261\n",
            "Disallow: /wiki/Wikipedia:Requests_for_arbitration/\n",
            "Disallow: /wiki/Wikipedia%3ARequests_for_arbitration/\n",
            "Disallow: /wiki/Wikipedia:Requests_for_comment/\n",
            "Disallow: /wiki/Wikipedia%3ARequests_for_comment/\n",
            "Disallow: /wiki/Wikipedia:Requests_for_adminship/\n",
            "Disallow: /wiki/Wikipedia%3ARequests_for_adminship/\n",
            "# T12288\n",
            "Disallow: /wiki/Wikipedia_talk:Articles_for_deletion/\n",
            "Disallow: /wiki/Wikipedia_talk%3AArticles_for_deletion/\n",
            "Disallow: /wiki/Wikipedia_talk:Votes_for_deletion/\n",
            "Disallow: /wiki/Wikipedia_talk%3AVotes_for_deletion/\n",
            "Disallow: /wiki/Wikipedia_talk:Pages_for_deletion/\n",
            "Disallow: /wiki/Wikipedia_talk%3APages_for_deletion/\n",
            "Disallow: /wiki/Wikipedia_talk:Miscellany_for_deletion/\n",
            "Disallow: /wiki/Wikipedia_talk%3AMiscellany_for_deletion/\n",
            "Disallow: /wiki/Wikipedia_talk:Miscellaneous_deletion/\n",
            "Disallow: /wiki/Wikipedia_talk%3AMiscellaneous_deletion/\n",
            "# T16793\n",
            "Disallow: /wiki/Wikipedia:Changing_username\n",
            "Disallow: /wiki/Wikipedia%3AChanging_username\n",
            "Disallow: /wiki/Wikipedia:Changing_username/\n",
            "Disallow: /wiki/Wikipedia%3AChanging_username/\n",
            "Disallow: /wiki/Wikipedia_talk:Changing_username\n",
            "Disallow: /wiki/Wikipedia_talk%3AChanging_username\n",
            "Disallow: /wiki/Wikipedia_talk:Changing_username/\n",
            "Disallow: /wiki/Wikipedia_talk%3AChanging_username/\n",
            "#\n",
            "# eswiki:\n",
            "# T8746\n",
            "Disallow: /wiki/Wikipedia:Consultas_de_borrado/\n",
            "Disallow: /wiki/Wikipedia%3AConsultas_de_borrado/\n",
            "#\n",
            "# fiwiki:\n",
            "# T10695\n",
            "Disallow: /wiki/Wikipedia:Poistettavat_sivut\n",
            "Disallow: /wiki/K%C3%A4ytt%C3%A4j%C3%A4:\n",
            "Disallow: /wiki/Käyttäjä:\n",
            "Disallow: /wiki/Keskustelu_k%C3%A4ytt%C3%A4j%C3%A4st%C3%A4:\n",
            "Disallow: /wiki/Keskustelu_käyttäjästä:\n",
            "Disallow: /wiki/Wikipedia:Yll%C3%A4pit%C3%A4j%C3%A4t/\n",
            "Disallow: /wiki/Wikipedia:Ylläpitäjät/\n",
            "#\n",
            "# hewiki:\n",
            "Disallow: /wiki/%D7%9E%D7%99%D7%95%D7%97%D7%93:Search\n",
            "Disallow: /wiki/%D7%9E%D7%99%D7%95%D7%97%D7%93%3ASearch\n",
            "#T11517\n",
            "Disallow: /wiki/ויקיפדיה:רשימת_מועמדים_למחיקה/\n",
            "Disallow: /wiki/ויקיפדיה%3Aרשימת_מועמדים_למחיקה/\n",
            "Disallow: /wiki/%D7%95%D7%99%D7%A7%D7%99%D7%A4%D7%93%D7%99%D7%94:%D7%A8%D7%A9%D7%99%D7%9E%D7%AA_%D7%9E%D7%95%D7%A2%D7%9E%D7%93%D7%99%D7%9D_%D7%9C%D7%9E%D7%97%D7%99%D7%A7%D7%94/\n",
            "Disallow: /wiki/%D7%95%D7%99%D7%A7%D7%99%D7%A4%D7%93%D7%99%D7%94%3A%D7%A8%D7%A9%D7%99%D7%9E%D7%AA_%D7%9E%D7%95%D7%A2%D7%9E%D7%93%D7%99%D7%9D_%D7%9C%D7%9E%D7%97%D7%99%D7%A7%D7%94/\n",
            "Disallow: /wiki/ויקיפדיה:ערכים_לא_קיימים_ומוגנים\n",
            "Disallow: /wiki/ויקיפדיה%3Aערכים_לא_קיימים_ומוגנים\n",
            "Disallow: /wiki/%D7%95%D7%99%D7%A7%D7%99%D7%A4%D7%93%D7%99%D7%94:%D7%A2%D7%A8%D7%9B%D7%99%D7%9D_%D7%9C%D7%90_%D7%A7%D7%99%D7%99%D7%9E%D7%99%D7%9D_%D7%95%D7%9E%D7%95%D7%92%D7%A0%D7%99%D7%9D\n",
            "Disallow: /wiki/%D7%95%D7%99%D7%A7%D7%99%D7%A4%D7%93%D7%99%D7%94%3A%D7%A2%D7%A8%D7%9B%D7%99%D7%9D_%D7%9C%D7%90_%D7%A7%D7%99%D7%99%D7%9E%D7%99%D7%9D_%D7%95%D7%9E%D7%95%D7%92%D7%A0%D7%99%D7%9D\n",
            "Disallow: /wiki/ויקיפדיה:דפים_לא_קיימים_ומוגנים\n",
            "Disallow: /wiki/ויקיפדיה%3Aדפים_לא_קיימים_ומוגנים\n",
            "Disallow: /wiki/%D7%95%D7%99%D7%A7%D7%99%D7%A4%D7%93%D7%99%D7%94:%D7%93%D7%A4%D7%99%D7%9D_%D7%9C%D7%90_%D7%A7%D7%99%D7%99%D7%9E%D7%99%D7%9D_%D7%95%D7%9E%D7%95%D7%92%D7%A0%D7%99%D7%9D\n",
            "Disallow: /wiki/%D7%95%D7%99%D7%A7%D7%99%D7%A4%D7%93%D7%99%D7%94%3A%D7%93%D7%A4%D7%99%D7%9D_%D7%9C%D7%90_%D7%A7%D7%99%D7%99%D7%9E%D7%99%D7%9D_%D7%95%D7%9E%D7%95%D7%92%D7%A0%D7%99%D7%9D\n",
            "#\n",
            "# huwiki:\n",
            "Disallow: /wiki/Speci%C3%A1lis:Search\n",
            "Disallow: /wiki/Speci%C3%A1lis%3ASearch\n",
            "#\n",
            "# itwiki:\n",
            "# T7545\n",
            "Disallow: /wiki/Wikipedia:Pagine_da_cancellare\n",
            "Disallow: /wiki/Wikipedia%3APagine_da_cancellare\n",
            "Disallow: /wiki/Wikipedia:Utenti_problematici\n",
            "Disallow: /wiki/Wikipedia%3AUtenti_problematici\n",
            "Disallow: /wiki/Wikipedia:Vandalismi_in_corso\n",
            "Disallow: /wiki/Wikipedia%3AVandalismi_in_corso\n",
            "Disallow: /wiki/Wikipedia:Amministratori\n",
            "Disallow: /wiki/Wikipedia%3AAmministratori\n",
            "Disallow: /wiki/Wikipedia:Proposte_di_cancellazione_semplificata\n",
            "Disallow: /wiki/Wikipedia%3AProposte_di_cancellazione_semplificata\n",
            "Disallow: /wiki/Categoria:Da_cancellare_subito\n",
            "Disallow: /wiki/Categoria%3ADa_cancellare_subito\n",
            "Disallow: /wiki/Wikipedia:Sospette_violazioni_di_copyright\n",
            "Disallow: /wiki/Wikipedia%3ASospette_violazioni_di_copyright\n",
            "Disallow: /wiki/Categoria:Da_controllare_per_copyright\n",
            "Disallow: /wiki/Categoria%3ADa_controllare_per_copyright\n",
            "Disallow: /wiki/Progetto:Rimozione_contributi_sospetti\n",
            "Disallow: /wiki/Progetto%3ARimozione_contributi_sospetti\n",
            "Disallow: /wiki/Categoria:Da_cancellare_subito_per_violazione_integrale_copyright\n",
            "Disallow: /wiki/Categoria%3ADa_cancellare_subito_per_violazione_integrale_copyright\n",
            "Disallow: /wiki/Progetto:Cococo\n",
            "Disallow: /wiki/Progetto%3ACococo\n",
            "Disallow: /wiki/Discussioni_progetto:Cococo\n",
            "Disallow: /wiki/Discussioni_progetto%3ACococo\n",
            "#\n",
            "# jawiki\n",
            "Disallow: /wiki/%E7%89%B9%E5%88%A5:Search\n",
            "Disallow: /wiki/%E7%89%B9%E5%88%A5%3ASearch\n",
            "# T7239\n",
            "Disallow: /wiki/Wikipedia:%E5%89%8A%E9%99%A4%E4%BE%9D%E9%A0%BC/\n",
            "Disallow: /wiki/Wikipedia%3A%E5%89%8A%E9%99%A4%E4%BE%9D%E9%A0%BC/\n",
            "Disallow: /wiki/Wikipedia:%E5%88%A9%E7%94%A8%E8%80%85%E3%83%9A%E3%83%BC%E3%82%B8%E3%81%AE%E5%89%8A%E9%99%A4%E4%BE%9D%E9%A0%BC\n",
            "Disallow: /wiki/Wikipedia%3A%E5%88%A9%E7%94%A8%E8%80%85%E3%83%9A%E3%83%BC%E3%82%B8%E3%81%AE%E5%89%8A%E9%99%A4%E4%BE%9D%E9%A0%BC\n",
            "# nowiki\n",
            "# T13432\n",
            "Disallow: /wiki/Bruker:\n",
            "Disallow: /wiki/Bruker%3A\n",
            "Disallow: /wiki/Brukerdiskusjon\n",
            "Disallow: /wiki/Wikipedia:Administratorer\n",
            "Disallow: /wiki/Wikipedia%3AAdministratorer\n",
            "Disallow: /wiki/Wikipedia-diskusjon:Administratorer\n",
            "Disallow: /wiki/Wikipedia-diskusjon%3AAdministratorer\n",
            "Disallow: /wiki/Wikipedia:Sletting\n",
            "Disallow: /wiki/Wikipedia%3ASletting\n",
            "Disallow: /wiki/Wikipedia-diskusjon:Sletting\n",
            "Disallow: /wiki/Wikipedia-diskusjon%3ASletting\n",
            "#\n",
            "# plwiki\n",
            "# T10067\n",
            "Disallow: /wiki/Wikipedia:Strony_do_usuni%C4%99cia\n",
            "Disallow: /wiki/Wikipedia%3AStrony_do_usuni%C4%99cia\n",
            "Disallow: /wiki/Wikipedia:Do_usuni%C4%99cia\n",
            "Disallow: /wiki/Wikipedia%3ADo_usuni%C4%99cia\n",
            "Disallow: /wiki/Wikipedia:SDU/\n",
            "Disallow: /wiki/Wikipedia%3ASDU/\n",
            "Disallow: /wiki/Wikipedia:Strony_podejrzane_o_naruszenie_praw_autorskich\n",
            "Disallow: /wiki/Wikipedia%3AStrony_podejrzane_o_naruszenie_praw_autorskich\n",
            "#\n",
            "# ptwiki:\n",
            "# T7394\n",
            "Disallow: /wiki/Wikipedia:Páginas_para_eliminar/\n",
            "Disallow: /wiki/Wikipedia:P%C3%A1ginas_para_eliminar/\n",
            "Disallow: /wiki/Wikipedia%3AP%C3%A1ginas_para_eliminar/\n",
            "Disallow: /wiki/Wikipedia_Discussão:Páginas_para_eliminar/\n",
            "Disallow: /wiki/Wikipedia_Discuss%C3%A3o:P%C3%A1ginas_para_eliminar/\n",
            "Disallow: /wiki/Wikipedia_Discuss%C3%A3o%3AP%C3%A1ginas_para_eliminar/\n",
            "#\n",
            "# rowiki:\n",
            "# T14546\n",
            "Disallow: /wiki/Wikipedia:Pagini_de_%C5%9Fters\n",
            "Disallow: /wiki/Wikipedia%3APagini_de_%C5%9Fters\n",
            "Disallow: /wiki/Discu%C5%A3ie_Wikipedia:Pagini_de_%C5%9Fters\n",
            "Disallow: /wiki/Discu%C5%A3ie_Wikipedia%3APagini_de_%C5%9Fters\n",
            "#\n",
            "# ruwiki:\n",
            "Disallow: /wiki/%D0%A1%D0%BF%D0%B5%D1%86%D0%B8%D0%B0%D0%BB%D1%8C%D0%BD%D1%8B%D0%B5:Search\n",
            "Disallow: /wiki/%D0%A1%D0%BF%D0%B5%D1%86%D0%B8%D0%B0%D0%BB%D1%8C%D0%BD%D1%8B%D0%B5%3ASearch\n",
            "#\n",
            "# svwiki:\n",
            "# T12229\n",
            "Disallow: /wiki/Wikipedia%3ASidor_f%C3%B6reslagna_f%C3%B6r_radering\n",
            "Disallow: /wiki/Wikipedia:Sidor_f%C3%B6reslagna_f%C3%B6r_radering\n",
            "Disallow: /wiki/Wikipedia:Sidor_föreslagna_för_radering\n",
            "Disallow: /wiki/Användare\n",
            "Disallow: /wiki/Anv%C3%A4ndare\n",
            "Disallow: /wiki/Användardiskussion\n",
            "Disallow: /wiki/Anv%C3%A4ndardiskussion\n",
            "Disallow: /wiki/Wikipedia:Skyddade_sidnamn\n",
            "Disallow: /wiki/Wikipedia%3ASkyddade_sidnamn\n",
            "# T13291\n",
            "Disallow: /wiki/Wikipedia:Sidor_som_bör_raderas\n",
            "Disallow: /wiki/Wikipedia:Sidor_som_b%C3%B6r_raderas\n",
            "Disallow: /wiki/Wikipedia%3ASidor_som_b%C3%B6r_raderas\n",
            "#\n",
            "# zhwiki:\n",
            "# T7104\n",
            "Disallow: /wiki/Wikipedia:删除投票/侵权\n",
            "Disallow: /wiki/Wikipedia:%E5%88%A0%E9%99%A4%E6%8A%95%E7%A5%A8/%E4%BE%B5%E6%9D%83\n",
            "Disallow: /wiki/Wikipedia:删除投票和请求\n",
            "Disallow: /wiki/Wikipedia:%E5%88%A0%E9%99%A4%E6%8A%95%E7%A5%A8%E5%92%8C%E8%AF%B7%E6%B1%82\n",
            "Disallow: /wiki/Category:快速删除候选\n",
            "Disallow: /wiki/Category:%E5%BF%AB%E9%80%9F%E5%88%A0%E9%99%A4%E5%80%99%E9%80%89\n",
            "Disallow: /wiki/Category:维基百科需要翻译的文章\n",
            "Disallow: /wiki/Category:%E7%BB%B4%E5%9F%BA%E7%99%BE%E7%A7%91%E9%9C%80%E8%A6%81%E7%BF%BB%E8%AF%91%E7%9A%84%E6%96%87%E7%AB%A0\n",
            "#\n",
            "# sister projects\n",
            "#\n",
            "# enwikinews:\n",
            "# T7340\n",
            "Disallow: /wiki/Portal:Prepared_stories/\n",
            "Disallow: /wiki/Portal%3APrepared_stories/\n",
            "#\n",
            "# itwikinews\n",
            "# T11138\n",
            "Disallow: /wiki/Wikinotizie:Richieste_di_cancellazione\n",
            "Disallow: /wiki/Wikinotizie:Sospette_violazioni_di_copyright\n",
            "Disallow: /wiki/Categoria:Da_cancellare_subito\n",
            "Disallow: /wiki/Categoria:Da_cancellare_subito_per_violazione_integrale_copyright\n",
            "Disallow: /wiki/Wikinotizie:Storie_in_preparazione\n",
            "#\n",
            "# enwikiquote:\n",
            "# T17095\n",
            "Disallow: /wiki/Wikiquote:Votes_for_deletion/\n",
            "Disallow: /wiki/Wikiquote%3AVotes_for_deletion/\n",
            "Disallow: /wiki/Wikiquote_talk:Votes_for_deletion/\n",
            "Disallow: /wiki/Wikiquote_talk%3AVotes_for_deletion/\n",
            "Disallow: /wiki/Wikiquote:Votes_for_deletion_archive/\n",
            "Disallow: /wiki/Wikiquote%3AVotes_for_deletion_archive/\n",
            "Disallow: /wiki/Wikiquote_talk:Votes_for_deletion_archive/\n",
            "Disallow: /wiki/Wikiquote_talk%3AVotes_for_deletion_archive/\n",
            "#\n",
            "# enwikibooks\n",
            "Disallow: /wiki/Wikibooks:Votes_for_deletion\n",
            "#\n",
            "# working...\n",
            "Disallow: /wiki/Fundraising_2007/comments\n",
            "#\n",
            "#\n",
            "#\n",
            "#----------------------------------------------------------#\n",
            "#\n",
            "#\n",
            "#\n",
            " # <!-- Please do not remove the space at the start of this line, it breaks the rendering.  http://www.robotstxt.org/orig.html says spaces before comments are OK. --><syntaxhighlight lang=\"text\">\n",
            "#\n",
            "# Localisable part of robots.txt for es.wikipedia.org\n",
            "#\n",
            "# Edit at http://es.wikipedia.org/w/index.php?title=MediaWiki:Robots.txt&action=edit\n",
            "# Don't add newlines here. All rules set here are active for every user-agent.\n",
            "#\n",
            "# Please check any changes using a syntax validator such as http://tool.motoricerca.info/robots-checker.phtml\n",
            "# Enter http://es.wikipedia.org/robots.txt as the URL to check.\n",
            "#\n",
            "Disallow: /wiki/MediaWiki:Spam-blacklist\n",
            "Disallow: /wiki/MediaWiki%3ASpam-blacklist\n",
            "Disallow: /wiki/MediaWiki_discusión:Spam-blacklist\n",
            "Disallow: /wiki/MediaWiki_discusi%C3%B3n%3ASpam-blacklist\n",
            "Disallow: /wiki/Categoría:Wikipedia:Páginas_no_indexadas\n",
            "Disallow: /wiki/Categor%C3%ADa%3AWikipedia%3AP%C3%A1ginas_no_indexadas\n",
            "Disallow: /wiki/Categoría:Wikipedia:Categorías_ocultas\n",
            "Disallow: /wiki/Categor%C3%ADa%3AWikipedia%3ACategor%C3%ADas_ocultas\n",
            "#\n",
            "Disallow: /wiki/Wikipedia:Consultas_de_borrado/\n",
            "Disallow: /wiki/Wikipedia%3AConsultas_de_borrado/\n",
            "#\n",
            "Disallow: /wiki/Categoría:Wikipedia:Artículos_sospechosos_de_violar_los_derechos_de_autor\n",
            "Disallow: /wiki/Categor%C3%ADa%3AWikipedia%3AArt%C3%ADculos_sospechosos_de_violar_los_derechos_de_autor\n",
            "Disallow: /wiki/Categoría:Wikipedia:Plagios_obvios\n",
            "Disallow: /wiki/Categor%C3%ADa%3AWikipedia%3APlagios_obvios\n",
            "Disallow: /wiki/Categoría:Wikipedia:Borrar_(definitivo)\n",
            "Disallow: /wiki/Categor%C3%ADa%3AWikipedia%3ABorrar_%28definitivo%29\n",
            "Disallow: /wiki/Categoría:Wikipedia:Artículos_propuestos_para_borrado\n",
            "Disallow: /wiki/Categor%C3%ADa%3AWikipedia%3AArt%C3%ADculos_propuestos_para_borrado\n",
            "Disallow: /wiki/Wikipedia:Asistente_para_la_creación_de_artículos/Solicitudes/\n",
            "Disallow: /wiki/Wikipedia%3AAsistente_para_la_creaci%C3%B3n_de_art%C3%ADculos/Solicitudes/\n",
            "#\n",
            "Disallow: /wiki/Wikipedia:Candidaturas_a_bibliotecario/\n",
            "Disallow: /wiki/Wikipedia%3ACandidaturas_a_bibliotecario/\n",
            "Disallow: /wiki/Wikipedia_discusión:Candidaturas_a_bibliotecario/\n",
            "Disallow: /wiki/Wikipedia_discusi%C3%B3n%3ACandidaturas_a_bibliotecario/\n",
            "Disallow: /wiki/Wikipedia:Checkusers/Candidaturas\n",
            "Disallow: /wiki/Wikipedia%3ACheckusers/Candidaturas\n",
            "Disallow: /wiki/Wikipedia:Checkusers/Candidaturas/\n",
            "Disallow: /wiki/Wikipedia%3ACheckusers/Candidaturas/\n",
            "Disallow: /wiki/Wikipedia_discusión:Checkusers/Candidaturas/\n",
            "Disallow: /wiki/Wikipedia_discusi%C3%B3n%3ACheckusers/Candidaturas/\n",
            "Disallow: /wiki/Wikipedia:Supresores/Candidaturas\n",
            "Disallow: /wiki/Wikipedia%3ASupresores/Candidaturas\n",
            "Disallow: /wiki/Wikipedia:Supresores/Candidaturas/\n",
            "Disallow: /wiki/Wikipedia%3ASupresores/Candidaturas/\n",
            "Disallow: /wiki/Wikipedia_discusión:Supresores/Candidaturas/\n",
            "Disallow: /wiki/Wikipedia_discusi%C3%B3n%3ASupresores/Candidaturas/\n",
            "Disallow: /wiki/Wikipedia:Administradores_de_candidaturas_a_artículo_destacado\n",
            "Disallow: /wiki/Wikipedia%3AAdministradores_de_candidaturas_a_art%C3%ADculo_destacado\n",
            "Disallow: /wiki/Wikipedia:Administradores_de_candidaturas_a_artículo_destacado/\n",
            "Disallow: /wiki/Wikipedia%3AAdministradores_de_candidaturas_a_art%C3%ADculo_destacado/\n",
            "Disallow: /wiki/Wikipedia_discusión:Administradores_de_candidaturas_a_artículo_destacado/\n",
            "Disallow: /wiki/Wikipedia_discusi%C3%B3n%3AAdministradores_de_candidaturas_a_art%C3%ADculo_destacado/\n",
            "Disallow: /wiki/Wikipedia:Tablón_de_anuncios_de_los_bibliotecarios\n",
            "Disallow: /wiki/Wikipedia%3ATabl%C3%B3n_de_anuncios_de_los_bibliotecarios\n",
            "Disallow: /wiki/Wikipedia:Tablón_de_anuncios_de_los_bibliotecarios/\n",
            "Disallow: /wiki/Wikipedia%3ATabl%C3%B3n_de_anuncios_de_los_bibliotecarios/\n",
            "#\n",
            "Disallow: /wiki/Wikipedia:Solicitudes_de_verificación_de_usuarios\n",
            "Disallow: /wiki/Wikipedia%3ASolicitudes_de_verificaci%C3%B3n_de_usuarios\n",
            "Disallow: /wiki/Wikipedia:Solicitudes_de_verificación_de_usuarios/\n",
            "Disallow: /wiki/Wikipedia%3ASolicitudes_de_verificaci%C3%B3n_de_usuarios/\n",
            "Disallow: /wiki/Wikipedia_discusión:Solicitudes_de_verificación_de_usuarios/\n",
            "Disallow: /wiki/Wikipedia_discusi%C3%B3n%3ASolicitudes_de_verificaci%C3%B3n_de_usuarios/\n",
            "Disallow: /wiki/Wikipedia:Cambiar_el_nombre_de_usuario\n",
            "Disallow: /wiki/Wikipedia%3ACambiar_el_nombre_de_usuario\n",
            "Disallow: /wiki/Wikipedia_discusión:Cambiar_el_nombre_de_usuario\n",
            "Disallow: /wiki/Wikipedia_discusi%C3%B3n%3ACambiar_el_nombre_de_usuario\n",
            "Disallow: /wiki/Wikipedia:Cambiar_el_nombre_de_usuario/\n",
            "Disallow: /wiki/Wikipedia%3ACambiar_el_nombre_de_usuario/\n",
            "# </syntaxhighlight>\n"
          ]
        }
      ],
      "source": [
        "# Solución\n",
        "import requests\n",
        "def imprimir_archivo(url):\n",
        "    \"\"\"Descarga el archivo desde la url y lo imprime en pantalla.\"\"\"\n",
        "    try:\n",
        "        response = requests.get(url)\n",
        "        print(response.text)\n",
        "    except requests.exceptions.RequestException as e:\n",
        "        print('Error al descargar el archivo:', e)\n",
        "\n",
        "imprimir_archivo('https://es.wikipedia.org/robots.txt')"
      ]
    },
    {
      "cell_type": "markdown",
      "metadata": {
        "id": "HZ7aGbhWVvRR"
      },
      "source": [
        "**Ejercicio 11.** Uso de la biblioteca `json`.\n",
        "\n",
        "Si bien podemos extraer información de la web  bajando y  analizando páginas web directamente con Python, algunos sitios nos ofrecen la posibilidad de acceder a la información ya estructurada como JSON (*Java Script Object Notation*),  como CSV (*comma-separated values*) o como XML (*Extensible Markup Language*). Esto  nos permite importar datos estructurados que luego  podemos pasar, por ejemplo, a diccionarios o listas y de esa forma trabajar en forma más cómoda y segura.\n",
        "\n",
        "En este ejercicio practicaremos con archivos en formato JSON. Para ello debemos primero importar la biblioteca `json`.\n",
        "\n",
        "Hay dos métodos,  que nos permiten importar archivos JSON y exportar a archivos JSON.\n",
        "\n",
        "`json.loads('cadena json')`: convierte una cadena de caracteres en formato JSON  a un diccionario o lista según corresponda. Esto es llamado *deserializar* una cadena.\n",
        "\n",
        "`json.dumps(diccionario o lista)`: convierte un diccionario o lista a cadena de caracteres (que luego puede ser utilizada como input de `json.loads()`). Esto es llamado *serializar* un objeto.\n",
        "\n",
        "En  la siguiente celda de código hay unos ejemplos muy sencillos del uso de estos dos métodos."
      ]
    },
    {
      "cell_type": "code",
      "execution_count": 14,
      "metadata": {
        "id": "5oYnoQ2MW6KH"
      },
      "outputs": [
        {
          "name": "stdout",
          "output_type": "stream",
          "text": [
            "<class 'str'> {\"a\": 1}\n",
            "<class 'dict'> {'a': 1}\n",
            "<class 'str'> [{\"a\": 1}]\n",
            "<class 'list'> [{'a': 1}]\n"
          ]
        }
      ],
      "source": [
        "import json\n",
        "\n",
        "dic = {'a':1}\n",
        "x = json.dumps(dic)\n",
        "print(type(x), x)\n",
        "y = json.loads(x)\n",
        "print(type(y), y)\n",
        "\n",
        "lista = [{'a':1}]\n",
        "x = json.dumps(lista)\n",
        "print(type(x), x)\n",
        "y = json.loads(x)\n",
        "print(type(y), y)"
      ]
    },
    {
      "cell_type": "markdown",
      "metadata": {
        "id": "dVonLq03V2LV"
      },
      "source": [
        "Para importar archivo JSON entonces se debe usar como siempre la función `open()` y luego hacer `json.loads(archivo.read())`.\n",
        "\n",
        "Para guardar un archivo JSON se debe tener un diccionario o lista,  guardar como cadena con `json.dumps()` y después esa cadena guardarla en un archivo.\n",
        "\n",
        "Por ejemplo"
      ]
    },
    {
      "cell_type": "code",
      "execution_count": null,
      "metadata": {
        "id": "rhsLgBddW_Af"
      },
      "outputs": [],
      "source": [
        "# Lectura\n",
        "import requests\n",
        "import json\n",
        "\n",
        "# Lectura de archivo json desde una url\n",
        "url = 'https://tirabo.github.io/files_ayp/archivo_ejemplo.json'\n",
        "response = requests.get(url)\n",
        "cadena_json = response.text\n",
        "objeto_json = json.loads(cadena_json)\n",
        "print(type(objeto_json))\n",
        "print(objeto_json[0].keys())\n",
        "\n",
        "# Escritura a archivo local\n",
        "with open('docu.json', 'w') as f:\n",
        "    json.dumps(objeto_json, f)"
      ]
    },
    {
      "cell_type": "markdown",
      "metadata": {
        "id": "okuloIlAWC9y"
      },
      "source": [
        "Observar que el archivo `./sample_data/docu.json` tiene contenido similar (aunque no el mismo formato) que el archivo `./sample_data/anscombe.json`.\n",
        "\n",
        "*Importante.* Los archivos creados por nosotros y  guardados en Colab (por ejemplo, `./sample_data/docu.json`) son borrados al poco tiempo.\n",
        "\n",
        "En este ejercicio:  \n",
        "1. Hacé un archivo llamado `personas.json` con el siguiente contenido:\n",
        "\n",
        "       {\n",
        "        \"people\" : [\n",
        "          {\n",
        "            \"firstName\": \"Joe\",\n",
        "            \"lastName\": \"Jackson\",\n",
        "            \"gender\": \"male\",\n",
        "            \"age\": 28,\n",
        "            \"number\": \"7349282382\"\n",
        "          },\n",
        "          {\n",
        "            \"firstName\": \"James\",\n",
        "            \"lastName\": \"Smith\",\n",
        "            \"gender\": \"male\",\n",
        "            \"age\": 32,\n",
        "            \"number\": \"5678568567\"\n",
        "          },\n",
        "          {\n",
        "            \"firstName\": \"Emily\",\n",
        "            \"lastName\": \"Jones\",\n",
        "            \"gender\": \"female\",\n",
        "            \"age\": 24,\n",
        "            \"number\": \"456754675\"\n",
        "          }\n",
        "        ]\n",
        "      }\n",
        "\n",
        "2. Importá el archivo,  transformá el contenido en un diccionario y cambiá  la segunda persona poniendo tus datos personales.\n",
        "3. Guardá el contenido en un archivo llamado `personas_mod.json`."
      ]
    },
    {
      "cell_type": "markdown",
      "metadata": {
        "id": "alY_DY9t4SAe"
      },
      "source": [
        "**Ejercicio 12.** Ejemplo CSV.\n",
        "\n",
        "1. Bajar con el  módulo `requests` el archivo [https://tirabo.github.io/files_ayp/Notas_LCC_COM1_anonimizados.csv](https://tirabo.github.io/files_ayp/Notas_LCC_COM1_anonimizados.csv)\n",
        "\n",
        "El archivo contiene un listado de alumnos (anonimizado)  y  las notas de 3 parciales. Hacer lo siguiente:\n",
        "\n",
        "2. Crear un archivo CSV con los campos: DNI, REG, PROM, NOTA donde se consignará el DNI  de cada alumno,  si es alumno regular, `True` si  aprobó 2 parciales o más, `False` en caso contrario, si el alumno promocionó, `True` si esl promedio de los tres parciales es al menos 7, `False` en otro caso. Finalmente el campo NOTA es el promedio redondeado de los 3 parciales en caso que el alumno se encuentre promocionado,  en caso contrario se deja vacío.\n",
        "\n",
        "\n",
        "*Observación.* Si `response` es el objeto que devuelve la `request`, no existe una instrucción `response.csv` o algo similar para transformar la respuesta en un objeto CSV. Debemos escribir `response.text`  a un archivo, línea por línea, usando el módulo `csv` para que el programa sea más robusto. Por ejemplo, podemos hacer:\n",
        "\n",
        "\n",
        "\n",
        "```\n",
        "import csv\n",
        "\n",
        "with open('data.csv', 'w', newline='') as file:\n",
        "    writer = csv.writer(file)\n",
        "    for row in csv.reader(response.text.splitlines()):\n",
        "        writer.writerow(row)\n",
        "```\n",
        "\n",
        "Después leemos los contenidos del archivo y lo transformamos en un objeto CSV usando el módulo `csv`.\n",
        "\n",
        "\n",
        "Otra forma de hacerlo, más corta y sin necesidad de crear un archivo, es directamente creando un objeto CSV, por ejemplo:\n",
        "\n",
        "```\n",
        "import csv\n",
        "import io\n",
        "\n",
        "reader = csv.reader(io.StringIO(response.text))\n",
        "# Imprimimos la líneas del archivo\n",
        "for row in reader:\n",
        "    print(row)\n",
        "```\n",
        "\n",
        "\n",
        "\n",
        "\n",
        "\n",
        "\n"
      ]
    },
    {
      "cell_type": "code",
      "execution_count": null,
      "metadata": {
        "id": "oE30PI79GdWr"
      },
      "outputs": [],
      "source": []
    },
    {
      "cell_type": "markdown",
      "metadata": {
        "id": "k0VuEtQfy5en"
      },
      "source": [
        "**Ejercicio 13.**\n",
        "\n",
        "1.Hacé un archivo llamado `peliculas.json` con el siguiente contenido:\n",
        "\n",
        "```\n",
        "{\n",
        "    \"Pelicula\" : [\n",
        "        {\n",
        "        \"Título\": \"Titanic\",\n",
        "        \"Director\": \"James Cameron\",\n",
        "        \"Año\": 1997,\n",
        "        },\n",
        "        {\n",
        "        \"Título\": \"Gladiador\",\n",
        "        \"Director\": \"Ridley Scott\",\n",
        "        \"Año\": 2000,\n",
        "        },\n",
        "        {\n",
        "        \"Título\": \"Bird Box: a ciegas\",\n",
        "        \"Director\": \"Susanne Bier\",\n",
        "        \"Año\": 2018,\n",
        "        }\n",
        "    ]\n",
        "}\n",
        "```\n",
        "    \n",
        "y guardalo en un sub directorio llamado `data`\n",
        "\n",
        "2. Lee el archivo con Python,  transformá el contenido en un diccionario y cambiá la segundo pelicula por:\n",
        "\n",
        "    ```\n",
        "    Título: It.\n",
        "    Director: Andrés Muschietti.\n",
        "    Año: 2017.\n",
        "    ```\n",
        "\n",
        "3. Guardá el contenido en el directorio `data` en un archivo llamado `peliculas_mod.json`."
      ]
    },
    {
      "cell_type": "code",
      "execution_count": null,
      "metadata": {
        "id": "_wHhvViV18eA"
      },
      "outputs": [],
      "source": [
        "import json"
      ]
    },
    {
      "cell_type": "markdown",
      "metadata": {
        "id": "9VRBreUEPRpm"
      },
      "source": [
        "**Ejercicio 14.**\n",
        "\n",
        "1. Escribir una función `cargar_datos_1()` que reciba un diccionario, formado por los primeros 6 meses del año como claves y la duración de los mismos en días como valores, considerar un año no bisiesto. Y devuelva un archivo, \"meses_del_año.txt\" en donde cada renglón del mismo son las claves y los valores del diccionario.\n",
        "2. Escribir una función `cargar_datos_2()` que reciba como entrada el archivo \"meses_del_año.txt\" y agregue al mismo archivo los meses y días correspondientes que faltan.\n",
        "\n",
        "Definir el siguiente diccionario,d:\n",
        "\n",
        "Enero, 31 días\n",
        "\n",
        "Febrero, 28 días\n",
        "\n",
        "Marzo, 31 días\n",
        "\n",
        "Abril, 30 días\n",
        "\n",
        "Mayo, 31 días\n",
        "\n",
        "Junio, 30 días\n",
        "\n",
        "Evaluar la función `cargar_datos_1(d)` y obtener el siguiente archivo \"meses_del_año.txt\":\n",
        "\n",
        "Enero, 31 días\n",
        "\n",
        "Febrero, 28 días\n",
        "\n",
        "Marzo, 31 días\n",
        "\n",
        "Abril, 30 días\n",
        "\n",
        "Mayo, 31 días\n",
        "\n",
        "Junio, 30 días\n",
        "\n",
        "Evaluar la función `cargar_datos_2(meses_del_año.txt)` y completar la información del archivo \"meses_del_año.txt\":\n",
        "\n",
        "Enero, 31 días\n",
        "\n",
        "Febrero, 28 días\n",
        "\n",
        "Marzo, 31 días\n",
        "\n",
        "Abril, 30 días\n",
        "\n",
        "Mayo, 31 días\n",
        "\n",
        "Junio, 30 días\n",
        "\n",
        "Julio, 31 días\n",
        "\n",
        "Agosto, 31 días\n",
        "\n",
        "Septiembre, 30 días\n",
        "\n",
        "Octubre, 31 días\n",
        "\n",
        "Noviembre, 30 días\n",
        "\n",
        "Diciembre, 31 días"
      ]
    },
    {
      "cell_type": "code",
      "execution_count": null,
      "metadata": {
        "id": "DC-q6yG_ghr0"
      },
      "outputs": [],
      "source": []
    },
    {
      "cell_type": "markdown",
      "metadata": {
        "id": "fLSZz-p9WNmO"
      },
      "source": [
        "**Ejercicio 15.** Manejo de APIs y json.\n",
        "\n",
        "**Introducción**\n",
        "\n",
        "La Oficina Nacional de Administración Oceánica y Atmosférica (National Oceanic and Atmospheric Administration, NOAA) es una agencia científica del Departamento de Comercio de los Estados Unidos cuyas actividades se centran en monitorear las condiciones de los océanos y la atmósfera.\n",
        "\n",
        "El NOAA ofrece distintos *datasets* (conjuntos de datos estructurados) sin limitaciones. Los datos puedes ser bajados directamente del sitio web https://www.noaa.gov/ o, alternativamente, accedidos por API.\n",
        "\n",
        "En este ejercicio accederemos a los datasets utilizando la API. Para utilizar la API se debe solicitar  un *token* al NOAA (ver *Referencias*). El token es una cadena de caracteres que funciona como id y password al mismo tiempo.\n",
        "\n",
        "Si al comienzo ponemos\n",
        "\n",
        "    import requests\n",
        "    token = 'nuestro token'\n",
        "    my_headers = {'token' : token}\n",
        "    response = requests.get('https://www.ncdc.noaa.gov/cdo-web/api/v2/datasets', headers=my_headers)\n",
        "    respuesta = response.json()\n",
        "    resultados = respuesta['results'] # Datasets disponible\n",
        "    for w in resultados:\n",
        "      pass\n",
        "      print(w['uid'],':',w['name'])\n",
        "\n",
        "obtendremos el `id` de cada uno de los datasets ofrecidos por el NOAA via API y una breve descripción de los mismos. En particular,  son interesantes:\n",
        "\n",
        "    GHCND : Daily Summaries\n",
        "    GSOM : Global Summary of the Month\n",
        "    GSOY : Global Summary of the Year\n",
        "\n",
        "La API permite una variedad de consultas, por ejemplo\n",
        "\n",
        "    response = requests.get('https://www.ncdc.noaa.gov/cdo-web/api/v2/datasets?locationid=CITY:US390029', headers=my_headers)\n",
        "    respuesta = response.json()\n",
        "\n",
        "nos devuelve todos los datasets disponibles para determinada localidad.\n",
        "\n",
        "También podemos obtener, por ejemplo, datos climatológicos de una determinada localidad durante un período determinado de tiempo: la consulta\n",
        "\n",
        "    response = requests.get('https://www.ncdc.noaa.gov/cdo-web/api/v2/data?datasetid=GHCND&stationid=GHCND:AR000087344&units=metric&startdate=2021-05-01&enddate=2021-05-31', headers=my_headers)\n",
        "    respuesta = response.json()\n",
        "    resultados = respuesta['results']\n",
        "\n",
        "nos devuelve un sumario de temperaturas y precipitaciones diarias en el mes de mayo de la estación meteorológica del Aeropuerto de Córdoba.  \n",
        "\n",
        "En las referencias a continuación se encuentra como obtener el token, la descripción de la API, la lista de estaciones meteorológicas y mucha más información. Luego viene una celda de código con ejemplos, y luego una celda de texto con el enunciado del ejercicio.\n",
        "\n",
        "\n",
        "\n",
        "*Referencias*\n",
        "- https://www.ncdc.noaa.gov/ National Centers for Environmental Information (37 petabytes)\n",
        "- https://www.ncei.noaa.gov/support/access-data-service-api-user-documentation\n",
        "- https://www.ncdc.noaa.gov/ghcn-daily-description\n",
        "  - Para bajar estaciones meteorolgógicas:  https://www1.ncdc.noaa.gov/pub/data/ghcn/daily/ghcnd-stations.txt\n",
        "  - Para bajar manual de ghcn-daily: https://www1.ncdc.noaa.gov/pub/data/ghcn/daily/readme.txt\n",
        "- Para pedir token: https://www.ncdc.noaa.gov/cdo-web/token\n",
        "- Climate Data Online - Web Services Documentation: https://www.ncdc.noaa.gov/cdo-web/webservices/v2#gettingStarted\n",
        "- Manual genérico para uso de APIs en Python: https://www.nylas.com/blog/use-python-requests-module-rest-apis/\n",
        "\n"
      ]
    },
    {
      "cell_type": "code",
      "execution_count": null,
      "metadata": {
        "id": "VY_4JySzXV3l"
      },
      "outputs": [],
      "source": [
        "import requests\n",
        "token = 'LsJXpYprYMzOKjMtqAlDmMUzwGelIQDf' # reemplazar con token propio\n",
        "my_headers = {'token' : token}\n",
        "# Ejemplo: datasets disponibles en NOAA\n",
        "response = requests.get('https://www.ncdc.noaa.gov/cdo-web/api/v2/datasets', headers=my_headers)\n",
        "respuesta = response.json()\n",
        "resultados = respuesta['results'] # Datasets disponibles\n",
        "\"\"\"\n",
        "for w in resultados:\n",
        "  pass\n",
        "  print(w['id'],':',w['name'])\n",
        "\"\"\"\n",
        "# Ejemplo: datasets  disponible en la ciudad US390029\n",
        "response = requests.get('https://www.ncdc.noaa.gov/cdo-web/api/v2/datasets?locationid=CITY:US390029', headers=my_headers)\n",
        "respuesta = response.json()\n",
        "# print(respuesta)\n",
        "\n",
        "# Datos climatológicos diarios (temperatura máxima, temperatura mínima y precipitaciones) en un período de tiempo en\n",
        "# la estación meteorológica  AR000087344 (Aeropuerto de Córdoba)\n",
        "fecha_ini, fecha_fin = '2010-05-01', '2010-05-31'\n",
        "response = requests.get('https://www.ncdc.noaa.gov/cdo-web/api/v2/data?datasetid=GHCND&stationid=GHCND:AR000087344&limit=1000&units=metric&startdate='+fecha_ini+'&enddate='+fecha_fin+'', headers=my_headers)\n",
        "respuesta = response.json()\n",
        "resultados = respuesta['results']\n",
        "# print(response.json())\n",
        "for w in resultados:\n",
        "  print(w)\n",
        "# Observación 1. Cuidado: no necesariamente todos los día tienen todos los datos.\n",
        "# Observación 2. Por defecto la API  recupera 25 registros por llamada. En la llamada anterior pusimos 'limit=1000'\n",
        "#                para recuperar hasta 1000 registros por llamada. La API no permite más."
      ]
    },
    {
      "cell_type": "markdown",
      "metadata": {
        "id": "hZcosXPlWSuw"
      },
      "source": [
        "Observar que cada elemento de  `resultados` es un diccionario y en ese diccionario  estan las claves`date`, `datatype` y `value`.\n",
        "- `date` indica el día.\n",
        "- Si el `datatype` es `TMAX`,  entonces `value` indica la temperatura máxima del día.\n",
        "- Si el `datatype` es `TMIN`,  entonces `value` indica la temperatura mínima del día.\n",
        "- Si el `datatype` es `TAVG`,  entonces `value` indica la temperatura promedio del día.\n",
        "- Si el `datatype` es `PRCP`,  entonces `value` indica la precipitación (en mm) de ese día."
      ]
    },
    {
      "cell_type": "markdown",
      "metadata": {
        "id": "l5wo3ifSWYd3"
      },
      "source": [
        "Trataremos de obtener información  meteorológica utilizando el dataset GHCND,  que es el de los sumarios diarios.\n",
        "\n",
        "**a)**  Utilizando la API hacer una función cuyo input  sea `AAAA` (un año) y genere una archivo llamado `AAAAcba.json` con los datos meteorológicos día a día del año `AAAA` de la estación AR000087344 (Aeropuerto de Córdoba). Recordar que el límite de datos que devuelve es 1000,  así que se debe tener cuidado de no excederse y perder datos.\n",
        "\n",
        "**b)**   Utilizando  los archivos generados en a) obtener el promedio de temperaturas máximas en la ciudad de Córdoba del mes de enero de 1970 y del mes de enero de 2020 e imprimir la diferencia.    \n"
      ]
    },
    {
      "cell_type": "code",
      "execution_count": null,
      "metadata": {
        "id": "KVqsLrWsV6oQ"
      },
      "outputs": [],
      "source": []
    }
  ],
  "metadata": {
    "colab": {
      "provenance": []
    },
    "kernelspec": {
      "display_name": "Python 3",
      "name": "python3"
    },
    "language_info": {
      "codemirror_mode": {
        "name": "ipython",
        "version": 3
      },
      "file_extension": ".py",
      "mimetype": "text/x-python",
      "name": "python",
      "nbconvert_exporter": "python",
      "pygments_lexer": "ipython3",
      "version": "3.10.12"
    }
  },
  "nbformat": 4,
  "nbformat_minor": 0
}
