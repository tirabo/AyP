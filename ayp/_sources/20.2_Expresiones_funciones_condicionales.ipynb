{
  "cells": [
    {
      "cell_type": "markdown",
      "metadata": {
        "id": "tJaE2QJfW_n8"
      },
      "source": [
        "## 2. Expresiones, funciones y condicionales \n"
      ]
    },
    {
      "cell_type": "markdown",
      "metadata": {
        "id": "LYkc84N-GjOl"
      },
      "source": [
        "### 1° Parte. Definición de scripts y funciones con operadores aritméticos"
      ]
    },
    {
      "cell_type": "markdown",
      "metadata": {
        "id": "7oIOWiihnZOk"
      },
      "source": [
        "**Ejercicio 1.** Escribir una expresión que devuelva la superficie de un rectángulo de lados de longitud $3$ y  $2$.\n"
      ]
    },
    {
      "cell_type": "code",
      "execution_count": 1,
      "metadata": {
        "id": "lL4-67TSWncG"
      },
      "outputs": [
        {
          "data": {
            "text/plain": [
              "6"
            ]
          },
          "execution_count": 1,
          "metadata": {},
          "output_type": "execute_result"
        }
      ],
      "source": [
        "# Solución\n",
        "3*2"
      ]
    },
    {
      "cell_type": "markdown",
      "metadata": {
        "id": "ULK1Tl_SnZOn"
      },
      "source": [
        "**Ejercicio 2.** En los siguientes ítems se pide definir programas referidos a rectángulos en los que un lado mide el doble que el otro.\n",
        "\n",
        "Sean `x`, `y`  variables. Correr los programas que se piden definir más abajo con  `x = 1`,  `x = 2` y `x = 3`, e `y = 4`.\n",
        "\n",
        "1. Escribir una expresión que calcule el perímetro del rectángulo con lados `x` e `y`.\n",
        "2. Escribir una expresión que calcule la superficie del rectángulo con lados `x` e `y`."
      ]
    },
    {
      "cell_type": "code",
      "execution_count": 2,
      "metadata": {
        "id": "fQYha5MknZOo"
      },
      "outputs": [
        {
          "name": "stdout",
          "output_type": "stream",
          "text": [
            "Perímetro: 10\n",
            "Área: 4\n",
            "Perímetro: 12\n",
            "Área: 8\n",
            "Perímetro: 14\n",
            "Área: 12\n"
          ]
        }
      ],
      "source": [
        "# Solución\n",
        "y = 4\n",
        "x = 1\n",
        "print('Perímetro:', 2*x + 2*y)\n",
        "print('Área:', x*y)\n",
        "x = 2\n",
        "print('Perímetro:', 2*x + 2*y)\n",
        "print('Área:', x*y)\n",
        "x = 3\n",
        "print('Perímetro:', 2*x + 2*y)\n",
        "print('Área:', x*y)"
      ]
    },
    {
      "cell_type": "markdown",
      "metadata": {
        "id": "nZVp0zQfnZOp"
      },
      "source": [
        "**Ejercicio 3.** Sean `x = 5` e `y = 6`. Escribir una expresión que calcule  la superficie de un triángulo siendo  `x` la base e `y` la altura. ¿Cuál operador de división habría que usar?\n",
        "\n",
        "Calcular la superficie del triángulo con base $6$ y altura $7$."
      ]
    },
    {
      "cell_type": "code",
      "execution_count": 3,
      "metadata": {
        "id": "6EdO_5ZTnZOq"
      },
      "outputs": [
        {
          "name": "stdout",
          "output_type": "stream",
          "text": [
            "Área: 15.0\n",
            "Área: 21.0\n"
          ]
        }
      ],
      "source": [
        "# Solución\n",
        "x, y = 5, 6\n",
        "print('Área:', x*y / 2)\n",
        "x, y = 6, 7\n",
        "print('Área:', x*y / 2)"
      ]
    },
    {
      "cell_type": "markdown",
      "metadata": {
        "id": "m1uO0457nZOq"
      },
      "source": [
        "**Ejercicio 4.** Sean `x = 3`, `y = 7`, `z = 5`. Escribir una expresión que calcule  el promedio de  `x`, `y` y  `z`. ¿Cuál operador de división habría que usar?\n",
        "\n",
        "Calcular el promedio  de  $5.2$, $6.8$ y $7.1$."
      ]
    },
    {
      "cell_type": "code",
      "execution_count": 4,
      "metadata": {
        "id": "R1qH28dQnZOr"
      },
      "outputs": [
        {
          "name": "stdout",
          "output_type": "stream",
          "text": [
            "Promedio: 5.0\n",
            "Promedio: 6.366666666666667\n"
          ]
        }
      ],
      "source": [
        "# Solución\n",
        "x, y, z = 3, 7, 5\n",
        "print('Promedio:', (x + y + z) / 3)\n",
        "x, y, z = 5.2, 6.8, 7.1\n",
        "print('Promedio:', (x + y + z) / 3)\n"
      ]
    },
    {
      "cell_type": "markdown",
      "metadata": {
        "id": "2hhHvrxOnZOs"
      },
      "source": [
        "**Ejercicio 5.** Si hay $233$ chocolates y $17$ alumnos hacer un programa que calcule el número de chocolates que le tocará a cada estudiante. ¿Cuál operador de división habría que usar?\n",
        "\n",
        "¿Cuántos chocolates le quedarán al profe? (no usar el operador `%`).\n",
        "\n",
        "Hacer la misma cuenta con   $127$ chocolates y $11$ alumnos.\n"
      ]
    },
    {
      "cell_type": "code",
      "execution_count": 5,
      "metadata": {
        "id": "uO2Bf0p66YfI"
      },
      "outputs": [
        {
          "name": "stdout",
          "output_type": "stream",
          "text": [
            "Chocolates por alumno: 13\n",
            "Chocolates restantes: 12\n"
          ]
        }
      ],
      "source": [
        "chocolates,  alumnos = 233, 17\n",
        "chocolates_x_alumno = chocolates // alumnos\n",
        "print('Chocolates por alumno:', chocolates_x_alumno)\n",
        "print('Chocolates restantes:', chocolates - chocolates_x_alumno * alumnos)"
      ]
    },
    {
      "cell_type": "code",
      "execution_count": 6,
      "metadata": {
        "id": "vTn0pYz4SO7Z"
      },
      "outputs": [
        {
          "name": "stdout",
          "output_type": "stream",
          "text": [
            "Chocolates por alumno: 11\n",
            "Chocolates restantes: 6\n"
          ]
        }
      ],
      "source": [
        "chocolates,  alumnos = 127, 11\n",
        "chocolates_x_alumno = chocolates // alumnos\n",
        "print('Chocolates por alumno:', chocolates_x_alumno)\n",
        "print('Chocolates restantes:', chocolates - chocolates_x_alumno * alumnos)"
      ]
    },
    {
      "cell_type": "markdown",
      "metadata": {
        "id": "dxg61KaQnZOt"
      },
      "source": [
        "\n",
        "\n",
        "**Ejercicio 6.** En los siguiente hacer los scripts correspondientes para valores de `x = 3`,  `x = 5`,  `x = 6`\n",
        "\n",
        "1. Calcular el radio de un círculo sabiendo que la medida de la circunferencia es `x `(ayuda: escribir `from numpy import pi` para poder utilizar la constante `pi`)\n",
        "2. Calcular la superficie de un círculo conociendo que su radio es `x`.\n",
        "3. Calcula la superficie de un círculo conociendo que la longitud de su circunferencia es  `x`."
      ]
    },
    {
      "cell_type": "code",
      "execution_count": 7,
      "metadata": {
        "id": "MG9jizt4nZOu"
      },
      "outputs": [
        {
          "name": "stdout",
          "output_type": "stream",
          "text": [
            "0.477464829275686\n",
            "0.7957747154594768\n",
            "0.954929658551372\n"
          ]
        }
      ],
      "source": [
        "# Ej 6.1\n",
        "from numpy import pi\n",
        "\n",
        "x=3\n",
        "radio = x/(2*pi)\n",
        "print(radio)\n",
        "\n",
        "x = 5\n",
        "radio = x/(2*pi)\n",
        "print(radio)\n",
        "\n",
        "x = 6\n",
        "radio = x/(2*pi)\n",
        "print(radio)"
      ]
    },
    {
      "cell_type": "code",
      "execution_count": 8,
      "metadata": {
        "id": "ij0fYmRvTuDE"
      },
      "outputs": [
        {
          "name": "stdout",
          "output_type": "stream",
          "text": [
            "28.274333882308138\n",
            "78.53981633974483\n",
            "113.09733552923255\n"
          ]
        }
      ],
      "source": [
        "# Ej 6.2\n",
        "x= 3\n",
        "superficie = pi*(x**2)\n",
        "print(superficie)\n",
        "\n",
        "x = 5\n",
        "superficie = pi*(x**2)\n",
        "print(superficie)\n",
        "\n",
        "x = 6\n",
        "superficie = pi*(x**2)\n",
        "print(superficie)\n"
      ]
    },
    {
      "cell_type": "code",
      "execution_count": 9,
      "metadata": {
        "id": "7tkan5vOUSuH"
      },
      "outputs": [
        {
          "name": "stdout",
          "output_type": "stream",
          "text": [
            "0.716197243913529\n",
            "1.9894367886486921\n",
            "2.864788975654116\n"
          ]
        }
      ],
      "source": [
        "# Ej 6.3\n",
        "\n",
        "x= 3\n",
        "radio = x / (2*pi)\n",
        "superficie = pi*(radio**2)\n",
        "print(superficie)\n",
        "\n",
        "x = 5\n",
        "radio = x / (2*pi)\n",
        "superficie = pi*(radio**2)\n",
        "print(superficie)\n",
        "\n",
        "x = 6\n",
        "radio = x / (2*pi)\n",
        "superficie = pi*(radio**2)\n",
        "print(superficie)"
      ]
    },
    {
      "cell_type": "markdown",
      "metadata": {
        "id": "gGkMsQwlXxqV"
      },
      "source": [
        "**Ejercicio 7.** Definir una función que devuelva la superficie de un rectángulo de lado $3$ conociendo la longitud del otro lado. Mostrar que en el caso de que el otro lado valga $7$ devuelve $21$ y si el otro lado vale $5$ devuelve $15$. \n"
      ]
    },
    {
      "cell_type": "code",
      "execution_count": 10,
      "metadata": {
        "id": "YDIPVdcaiqh_"
      },
      "outputs": [],
      "source": [
        "# Solución\n",
        "def superficie_rectangulo(otro_lado):\n",
        "    superficie = 3 * otro_lado\n",
        "    return(superficie)"
      ]
    },
    {
      "cell_type": "code",
      "execution_count": 11,
      "metadata": {
        "id": "kCcg1zpHWdv_"
      },
      "outputs": [
        {
          "name": "stdout",
          "output_type": "stream",
          "text": [
            "21\n",
            "15\n"
          ]
        }
      ],
      "source": [
        "print(superficie_rectangulo(7))\n",
        "print(superficie_rectangulo(5))"
      ]
    },
    {
      "cell_type": "markdown",
      "metadata": {
        "id": "KxUV8CymiKNn"
      },
      "source": [
        "**Ejercicio 8.** En los siguientes ítems se pide definir una serie de funciones referidas a rectángulos en los que un lado mide el doble que el otro.\n",
        "\n",
        "1. Definir la función `perimetro_1x2()` que devuelve el perímetro del rectángulo conociendo la longitud del lado más corto.\n",
        "2. Definir la función `area_1x2()` que devuelve la superficie del rectángulo conociendo la longitud del lado más corto.\n",
        "3. Definir la función `area_2x1()` que devuelve la superficie del rectángulo conociendo la longitud del lado más largo. ¿Cuál operador de división habría que usar? ¿Por qué?\n",
        "4. Definir la función `perimetro_2x1()` que devuelve el perímetro del rectángulo conociendo la longitud del lado más largo."
      ]
    },
    {
      "cell_type": "code",
      "execution_count": 12,
      "metadata": {
        "id": "R_RGlAmsi-nG"
      },
      "outputs": [],
      "source": [
        "# Ej 8.1\n",
        "def perimetro_1x2(lado_corto):\n",
        "    \"\"\"\n",
        "    Devuelve el perímetro del rectángulo donde lado_corto  es el lado más corto\n",
        "    \"\"\"\n",
        "    lado_largo = 2*lado_corto\n",
        "    return 2*lado_corto + 2*lado_largo"
      ]
    },
    {
      "cell_type": "code",
      "execution_count": 13,
      "metadata": {},
      "outputs": [],
      "source": [
        "# Ej 8.2\n",
        "def area_1x2(lado_corto):\n",
        "    \"\"\"\n",
        "    Devuelve la superficie del rectángulo donde lado_corto  es el lado más corto\n",
        "    \"\"\"\n",
        "    lado_largo = 2*lado_corto\n",
        "    return lado_corto * lado_largo"
      ]
    },
    {
      "cell_type": "code",
      "execution_count": 14,
      "metadata": {},
      "outputs": [],
      "source": [
        "# Ej 8.3\n",
        "def area_2x1(lado_largo):\n",
        "    \"\"\"\n",
        "    Devuelve la superficie del rectángulo donde lado_largo es el lado más largo\n",
        "    \"\"\"\n",
        "    lado_corto = lado_largo / 2\n",
        "    return lado_corto * lado_largo"
      ]
    },
    {
      "cell_type": "code",
      "execution_count": 15,
      "metadata": {},
      "outputs": [],
      "source": [
        "# Ej 8.4\n",
        "def perimetro_1x2(lado_largo):\n",
        "    \"\"\"\n",
        "    Devuelve el perímetro del rectángulo donde lado_largo es el lado más largo\n",
        "    \"\"\"\n",
        "    lado_corto = lado_largo / 2\n",
        "    return 2*lado_corto + 2*lado_largo"
      ]
    },
    {
      "cell_type": "markdown",
      "metadata": {
        "id": "_b1TZMdWiKWU"
      },
      "source": [
        "**Ejercicio 9.** Definir una función que calcula la superficie de un triángulo conociendo la base y la altura. ¿Cuál operador de división habría que usar?\n"
      ]
    },
    {
      "cell_type": "code",
      "execution_count": 16,
      "metadata": {
        "id": "SLnPFOoWkuZ6"
      },
      "outputs": [],
      "source": [
        "# Solución\n",
        "def area_triangulo(base, altura):\n",
        "    \"\"\"\n",
        "    Devuelve la superficie del triángulo\n",
        "    \"\"\"\n",
        "    return base * altura / 2"
      ]
    },
    {
      "cell_type": "markdown",
      "metadata": {
        "id": "2l_RrEJDiKiQ"
      },
      "source": [
        "**Ejercicio 10.** Definir una función que calcula el promedio de dos números dados. ¿Cuál operador de división habría que usar?\n",
        "\n"
      ]
    },
    {
      "cell_type": "code",
      "execution_count": 17,
      "metadata": {
        "id": "dJFcohWLk1qq"
      },
      "outputs": [],
      "source": [
        "# Solución\n",
        "def promedio(x, y):\n",
        "    \"\"\"\n",
        "    Devuelve el promedio de dos números\n",
        "    \"\"\"\n",
        "    return (x + y) / 2"
      ]
    },
    {
      "cell_type": "markdown",
      "metadata": {
        "id": "yuEgNcZgiKyH"
      },
      "source": [
        "**Ejercicio 11.** Definir una función que calcula el número de chocolates que le tocará a cada estudiante conociendo el número total de chocolates y la cantidad de estudiantes. ¿Cuál operador de división habría que usar?\n",
        "\n",
        "Definir una función que calcula el número de chocolates que quedará para el profe (no usar el operador `%`).\n"
      ]
    },
    {
      "cell_type": "code",
      "execution_count": 18,
      "metadata": {
        "id": "5yooOWFxomKy"
      },
      "outputs": [],
      "source": [
        "# Solución\n",
        "def chocolates_x_alumno(chocolates, alumnos):\n",
        "    \"\"\"\n",
        "    Devuelve la cantidad de chocolates que le toca a cada alumno\n",
        "    \"\"\"\n",
        "    chocolates_x_alumno = chocolates // alumnos\n",
        "    return chocolates_x_alumno\n",
        "\n",
        "def chocolates_restantes(chocolates, alumnos):\n",
        "    \"\"\"\n",
        "    Devuelve la cantidad de chocolates que quedan después de repartir a cada alumno\n",
        "    \"\"\"\n",
        "    chocolates_x_alumno = chocolates // alumnos\n",
        "    return chocolates - chocolates_x_alumno * alumnos"
      ]
    },
    {
      "cell_type": "markdown",
      "metadata": {
        "id": "iMHoCPUAiK8B"
      },
      "source": [
        "**Ejercicio 12.**\n",
        "\n",
        "1. Definir una función que calcula el radio de un círculo conociendo la medida de la circunferencia (ayuda: escribir `from numpy import pi` para poder utilizar la constante `pi` que representa una aproximación del número $\\pi$.)\n",
        "2. Definir una función que calcula la superficie de un círculo conociendo su radio.\n",
        "3. Definir una función que calcula la superficie de un círculo conociendo su circunferencia."
      ]
    },
    {
      "cell_type": "code",
      "execution_count": 19,
      "metadata": {
        "id": "r-etV-bbXyH8"
      },
      "outputs": [],
      "source": [
        "# Solución\n",
        "def radio(cirdunferencia):\n",
        "    \"\"\"\n",
        "    Devuelve el radio de un círculo conociendo su circunferencia\n",
        "    \"\"\"\n",
        "    return cirdunferencia / (2*pi)\n",
        "\n",
        "def superficie_circulo(radio):\n",
        "    \"\"\"\n",
        "    Devuelve la superficie de un círculo conociendo su radio\n",
        "    \"\"\"\n",
        "    return pi*(radio**2)\n",
        "\n",
        "def superficie_circulo_x_circunferencia(circunferencia):\n",
        "    \"\"\"\n",
        "    Devuelve la superficie de un círculo conociendo su circunferencia\n",
        "    \"\"\"\n",
        "    radio = circunferencia / (2*pi)\n",
        "    return pi*(radio**2)"
      ]
    },
    {
      "cell_type": "markdown",
      "metadata": {
        "id": "DD-J7AwcHfl_"
      },
      "source": [
        "### 2° Parte. Definición de funciones, operador de módulo y operadores relacionales\n",
        "\n",
        "En  todas las definiciones de función incluir (como comentarios) precondición y postcondición.\n"
      ]
    },
    {
      "cell_type": "markdown",
      "metadata": {
        "id": "WJ6OezfMHfmI"
      },
      "source": [
        "**Ejercicio 13.** Dada las siguiente expresiones\n",
        "\n",
        "```\n",
        "(x != 0) and (5 // x == 2)\n",
        "```\n",
        "y\n",
        "\n",
        "```\n",
        "(5 // x == 2) and (x != 0)\n",
        "```\n",
        "Observar que son iguales salvo el orden en que  está ubicadas las expresiones entre paréntesis.\n",
        "\n",
        "1. Encontrar algún valor de `x` con el cual el resultado  de aplicarlo  a ambas expresiones es distinto.\n",
        "\n",
        "2. Explicar el funcionamiento de la evaluación de la disyunción que ocasiona que la disyunción no sea conmutativa.\n"
      ]
    },
    {
      "cell_type": "code",
      "execution_count": 20,
      "metadata": {
        "id": "adh4HQtsboSK"
      },
      "outputs": [
        {
          "data": {
            "text/plain": [
              "False"
            ]
          },
          "execution_count": 20,
          "metadata": {},
          "output_type": "execute_result"
        }
      ],
      "source": [
        "# Solución\n",
        "(0 != 0) and (5 // 0 == 2)\n",
        "# (5 // 0 == 2) and (0 != 0) # descomentar para ver el error"
      ]
    },
    {
      "cell_type": "markdown",
      "metadata": {
        "id": "HCKmEtjl3c3-"
      },
      "source": [
        "**Ejercicio 14.** Definir una función que devuelve el valor absoluto de un número `float` (sin usar la función `abs()`).\n"
      ]
    },
    {
      "cell_type": "code",
      "execution_count": 21,
      "metadata": {
        "id": "A7OnrOQgHfmI"
      },
      "outputs": [],
      "source": [
        "# Solución\n",
        "def valor_absoluto(x):\n",
        "    \"\"\"\n",
        "    pre: x es un float\n",
        "    post: devuelve el valor absoluto de x\n",
        "    \"\"\"\n",
        "    if x < 0:\n",
        "        abs =  -x\n",
        "    else:\n",
        "        abs = x\n",
        "    return abs"
      ]
    },
    {
      "cell_type": "markdown",
      "metadata": {
        "id": "lcseCiOk4BU1"
      },
      "source": [
        "\n",
        "**Ejercicio 15.** Definir una función que determina si un `float` se encuentra entre -5 y 5 (inclusive).\n"
      ]
    },
    {
      "cell_type": "code",
      "execution_count": 22,
      "metadata": {
        "id": "fgISO8AV4FBi"
      },
      "outputs": [],
      "source": [
        "# Solución\n",
        "def entre(x):\n",
        "    \"\"\"\n",
        "    pre: x es un float\n",
        "    post: devuelve True si x está entre -5 y 5, False en caso contrario\n",
        "    \"\"\"\n",
        "    if x > -5 and x < 5:\n",
        "        se_cumple = True\n",
        "    else:\n",
        "        se_cumple = False\n",
        "    return se_cumple"
      ]
    },
    {
      "cell_type": "markdown",
      "metadata": {
        "id": "yCUzxwy64Bg_"
      },
      "source": [
        "\n",
        "**Ejercicio 16.** Definir la función `es_par()` que determina si un número entero es o no par. No usar el operador `%`.\n"
      ]
    },
    {
      "cell_type": "code",
      "execution_count": 23,
      "metadata": {
        "id": "-APZiNOX4Im1"
      },
      "outputs": [],
      "source": [
        "# Solución\n",
        "def es_par(n: int):\n",
        "    \"\"\"\n",
        "    pre: n es un entero\n",
        "    post: devuelve True si n es par, False en caso contrario\n",
        "    \"\"\"\n",
        "    if (n // 2) * 2 == n:\n",
        "        par = True\n",
        "    else:\n",
        "        par = False\n",
        "    return par"
      ]
    },
    {
      "cell_type": "code",
      "execution_count": 24,
      "metadata": {
        "id": "G-elelwAAIMP"
      },
      "outputs": [
        {
          "name": "stdout",
          "output_type": "stream",
          "text": [
            "True\n",
            "False\n",
            "True\n",
            "False\n"
          ]
        }
      ],
      "source": [
        "# Pruebas\n",
        "print(es_par(4)) # True\n",
        "print(es_par(5)) # False\n",
        "print(es_par(8)) # True\n",
        "print(es_par(23)) # False"
      ]
    },
    {
      "cell_type": "markdown",
      "metadata": {
        "id": "qEpIjfc44BoE"
      },
      "source": [
        "\n",
        "**Ejercicio 17.** \n",
        "\n",
        "1. Definir una función que determina si un número entero es o no múltiplo de $3$. .\n",
        "2. Dado $k$ entero positivo, definir una función que determina si un número entero es o no múltiplo de $k$. \n",
        "\n",
        "En  ninguno de los dos caso se puede utilizar el operador `%`."
      ]
    },
    {
      "cell_type": "code",
      "execution_count": 25,
      "metadata": {
        "id": "xa2iCt0V4Lzh"
      },
      "outputs": [],
      "source": [
        "def multiplo_de_3(n: int):\n",
        "    \"\"\"\n",
        "    pre: n es un entero\n",
        "    post: devuelve True si n es múltiplo de 3, False en caso contrario\n",
        "    \"\"\"\n",
        "    if (n // 3) * 3 == n:\n",
        "        multiplo = True\n",
        "    else:\n",
        "        multiplo = False\n",
        "    return multiplo\n",
        "\n",
        "def multiplo_de_k(k, n: int):\n",
        "    \"\"\"\n",
        "    pre: n es un entero\n",
        "    post: devuelve True si n es múltiplo de k, False en caso contrario\n",
        "    \"\"\"\n",
        "    if (n // k) * k == n:\n",
        "        multiplo = True\n",
        "    else:\n",
        "        multiplo = False\n",
        "    return multiplo"
      ]
    },
    {
      "cell_type": "markdown",
      "metadata": {
        "id": "OrMgne1Y4Bt3"
      },
      "source": [
        "\n",
        "\n",
        "**Ejercicio 18.** Definir la función `entre_abs()` que determina si dados dos números `float` el valor absoluto del primero es menor o igual que el valor absoluto del segundo."
      ]
    },
    {
      "cell_type": "code",
      "execution_count": 26,
      "metadata": {
        "id": "Zrk4P9Tq4OZl"
      },
      "outputs": [],
      "source": [
        "# Solución\n",
        "def entre_abs(x, y):\n",
        "    \"\"\"\n",
        "    pre: x e y son floats\n",
        "    post: devuelve True si |x| <= |y|, False en caso contrario\n",
        "    \"\"\"\n",
        "    if (x >= -y and x <= y) or (x <= -y and x >= y):\n",
        "        se_cumple = True\n",
        "    else:\n",
        "        se_cumple = False\n",
        "    return se_cumple"
      ]
    },
    {
      "cell_type": "code",
      "execution_count": 27,
      "metadata": {},
      "outputs": [
        {
          "name": "stdout",
          "output_type": "stream",
          "text": [
            "True\n",
            "True\n",
            "True\n",
            "True\n",
            "False\n",
            "False\n",
            "False\n",
            "False\n"
          ]
        }
      ],
      "source": [
        "# Pruebas\n",
        "print(entre_abs(3, 5)) # True\n",
        "print(entre_abs(-3, 5)) # True\n",
        "print(entre_abs(3, -5)) # True\n",
        "print(entre_abs(-3, -5)) # True\n",
        "print(entre_abs(6, 5)) # False\n",
        "print(entre_abs(-6, 5)) # False\n",
        "print(entre_abs(6, -5)) # False\n",
        "print(entre_abs(-6, -5)) # False"
      ]
    },
    {
      "cell_type": "markdown",
      "metadata": {
        "id": "ch2jhrIq4Bzj"
      },
      "source": [
        "\n",
        "**Ejercicio 19.** Definir la función `multiplo()` que determina si dados dos números enteros el primero es o no múltiplo del segundo.\n"
      ]
    },
    {
      "cell_type": "code",
      "execution_count": 28,
      "metadata": {
        "id": "DMog9jVh4Q19"
      },
      "outputs": [],
      "source": [
        "# Solución\n",
        "def multiplo(n, m: int):\n",
        "    \"\"\"\n",
        "    pre: n y m son enteros, m != 0\n",
        "    post: devuelve True si n es múltiplo de m, False en caso contrario\n",
        "    \"\"\"\n",
        "    return n % m == 0"
      ]
    },
    {
      "cell_type": "code",
      "execution_count": 29,
      "metadata": {
        "id": "H3mW6VDeDo23"
      },
      "outputs": [
        {
          "name": "stdout",
          "output_type": "stream",
          "text": [
            "False\n",
            "True\n",
            "False\n",
            "True\n"
          ]
        }
      ],
      "source": [
        "# Pruebas\n",
        "print(multiplo(5, 15)) # False\n",
        "print(multiplo(15, 5)) # True\n",
        "print(multiplo(21, 5)) # False\n",
        "print(multiplo(24, 8)) # True"
      ]
    },
    {
      "cell_type": "markdown",
      "metadata": {
        "id": "mM0THlZo4B5B"
      },
      "source": [
        "\n",
        "**Ejercicio 20.**  Definir una función que determina si dados dos números enteros el primero divide o no divide al segundo.\n"
      ]
    },
    {
      "cell_type": "code",
      "execution_count": 30,
      "metadata": {
        "id": "EqH4iiX14S4r"
      },
      "outputs": [],
      "source": [
        "# Solución\n",
        "def divisor(n, m: int):\n",
        "    \"\"\"\n",
        "    pre: n y m son enteros, n != 0\n",
        "    post: devuelve True si n es divisor de m, False en caso contrario\n",
        "    \"\"\"\n",
        "    return m % n == 0"
      ]
    },
    {
      "cell_type": "code",
      "execution_count": 31,
      "metadata": {},
      "outputs": [
        {
          "name": "stdout",
          "output_type": "stream",
          "text": [
            "True\n",
            "False\n",
            "False\n",
            "False\n",
            "True\n"
          ]
        }
      ],
      "source": [
        "# Pruebas\n",
        "print(divisor(5, 15)) # True\n",
        "print(divisor(15, 5)) # False\n",
        "print(divisor(21, 5)) # False\n",
        "print(divisor(24, 8)) # False\n",
        "print(divisor(3, 9)) # True"
      ]
    },
    {
      "cell_type": "markdown",
      "metadata": {
        "id": "Lj7FnOfn4B-y"
      },
      "source": [
        "\n",
        "**Ejercicio 21.** Definir una función que determina si dados dos números enteros el cuadrado del primero es o no menor o igual al segundo."
      ]
    },
    {
      "cell_type": "code",
      "execution_count": 32,
      "metadata": {
        "id": "UDvOjPqY4U1U"
      },
      "outputs": [],
      "source": [
        "# solución\n",
        "def cuadrado(n, m):\n",
        "    \"\"\"\n",
        "    pre: n y m son enteros\n",
        "    post: devuelve True si el cuadrado de n es <= a m, False en caso contrario\n",
        "    \"\"\"\n",
        "    return n**2 <= m"
      ]
    },
    {
      "cell_type": "code",
      "execution_count": 33,
      "metadata": {},
      "outputs": [
        {
          "name": "stdout",
          "output_type": "stream",
          "text": [
            "True\n",
            "False\n",
            "False\n",
            "True\n"
          ]
        }
      ],
      "source": [
        "# Pruebas\n",
        "print(cuadrado(5, 25)) # True\n",
        "print(cuadrado(5, 24)) # False\n",
        "print(cuadrado(5, 23)) # False\n",
        "print(cuadrado(5, 26)) # True"
      ]
    },
    {
      "cell_type": "markdown",
      "metadata": {
        "id": "L3wTWJW9IHqh"
      },
      "source": [
        "### 3° Parte. Instrucciones condicionales"
      ]
    },
    {
      "cell_type": "markdown",
      "metadata": {
        "id": "CWpoWbeoIHqh"
      },
      "source": [
        "**Ejercicio 22.** Escribí una función que solicite ingresar un número entero, luego otro número y luego los imprima en orden no descendente. ¿Por qué la consigna no dice más sencillamente \"en orden ascendente\"?"
      ]
    },
    {
      "cell_type": "code",
      "execution_count": 34,
      "metadata": {
        "id": "o6XMHztIIHqh"
      },
      "outputs": [],
      "source": [
        "# Solución\n",
        "def dos_no_descendente():\n",
        "    \"\"\"\n",
        "    Pide dos números al usuario e imprime los números en orden no descendente\n",
        "    \"\"\"\n",
        "    x = int(input(prompt = 'Ingrese el 1° número: '))\n",
        "    y = int(input(prompt = 'Ingrese el 2° número: '))\n",
        "    if x <= y:\n",
        "        print(x, y)\n",
        "    else:\n",
        "        print(y, x)"
      ]
    },
    {
      "cell_type": "code",
      "execution_count": 35,
      "metadata": {},
      "outputs": [],
      "source": [
        "# Probar descomentando la siguiente línea\n",
        "# dos_no_descendente()"
      ]
    },
    {
      "cell_type": "markdown",
      "metadata": {
        "id": "Ae3iSDvRIHqh"
      },
      "source": [
        "\n",
        "**Ejercicio 23.**\n",
        "Escribí una función que solicite ingresar un número entero, luego otro número entero, luego un tercer número entero y luego los imprima en orden no descendente."
      ]
    },
    {
      "cell_type": "code",
      "execution_count": 36,
      "metadata": {
        "id": "XDK6nUtPaZSs"
      },
      "outputs": [],
      "source": [
        "# Solución\n",
        "def tres_no_descendente():\n",
        "    \"\"\" \n",
        "    Pide tres números al usuario e imprime los números en orden no descendente\n",
        "    \"\"\"\n",
        "    x = int(input(prompt = 'Ingrese el 1° número: '))\n",
        "    y = int(input(prompt = 'Ingrese el 2° número: '))\n",
        "    z = int(input(prompt = 'Ingrese el 3° número: '))\n",
        "    if x <= y and x <= z:\n",
        "        if y <= z:\n",
        "            print(x,y,z)\n",
        "        else:\n",
        "            print(x,z,y)\n",
        "    if y < x and y <= z:\n",
        "        if x <= z:\n",
        "            print(y,x,z)\n",
        "        else:\n",
        "            print(y,z,x)\n",
        "    if z < x and z <= y:\n",
        "        if x <= y:\n",
        "            print(z,x,y)\n",
        "        else:\n",
        "            print(z,y,x)"
      ]
    },
    {
      "cell_type": "code",
      "execution_count": 37,
      "metadata": {
        "id": "KbkxBrfiS_BX"
      },
      "outputs": [],
      "source": [
        "# Probar descomentando la siguiente línea\n",
        "# tres_no_descendente()"
      ]
    },
    {
      "cell_type": "markdown",
      "metadata": {
        "id": "QKi6DlMTIHqi"
      },
      "source": [
        "\n",
        "**Ejercicio 24.**\n",
        "Escribí una función que solicite ingresar un número entero no negativo y lo aloje en una variable `x`, luego otro número entero no negativo y lo aloje en otra variable `y`, luego intercambie los valores de ambas variables, y finalmente devuelva los valores de `x` e `y`.\n",
        "\n",
        "\n"
      ]
    },
    {
      "cell_type": "code",
      "execution_count": 38,
      "metadata": {
        "id": "Ac3znYphIHqi"
      },
      "outputs": [],
      "source": [
        "# Solución\n",
        "def ingreso():\n",
        "    \"\"\"\n",
        "    Pide dos números no negativos al usuario, los intercambia y los devuelve.+\n",
        "    \"\"\"\n",
        "    x = input(prompt = 'Ingrese un número: ')\n",
        "    x = float(x)\n",
        "    while x < 0:\n",
        "        print('El número debe ser no negativo')\n",
        "        x = input(prompt = 'Ingrese un número: ')\n",
        "        x = float(x)\n",
        "    y = input(prompt = 'Ingrese otro número: ')\n",
        "    y = float(y)\n",
        "    while y < 0:\n",
        "        print('El número debe ser no negativo')\n",
        "        y = input(prompt = 'Ingrese otro número: ')\n",
        "        y = float(y)\n",
        "    x, y = y, x\n",
        "    return x, y\n"
      ]
    },
    {
      "cell_type": "code",
      "execution_count": 39,
      "metadata": {
        "id": "idmtFH4ZG7vl"
      },
      "outputs": [],
      "source": [
        "# Probar descomentando la siguiente línea\n",
        "# ingreso()"
      ]
    },
    {
      "cell_type": "markdown",
      "metadata": {
        "id": "F33Q2rJ5IHqi"
      },
      "source": [
        "\n",
        "**Ejercicio 25.**\n",
        "Definir la función `bisiesto()` que recibe un año y devuelve `True` si el año es bisiesto  y `False` en caso contrario. Los años bisiestos son múltiplos de 4, como 2020 o 2068, a menos que sean múltiplos de 100, como 2100, 2200 y 2300, pero los múltiplos de 400, como 2000 y 2400 sí son bisiestos."
      ]
    },
    {
      "cell_type": "code",
      "execution_count": 40,
      "metadata": {
        "id": "hdpkPXcHIHqi"
      },
      "outputs": [],
      "source": [
        "# Solución\n",
        "def bisiesto(año: int):\n",
        "    \"\"\" \n",
        "    pre: año > 0.\n",
        "    post: Devuelve true si el año en bisiesto.\n",
        "    \n",
        "    Si año % 4 == 0, salvo que año % 100 == 0.\n",
        "    Pero si año % 400 == 0  es bisiesto.\n",
        "    \"\"\"\n",
        "    bis = False\n",
        "    if año % 400 == 0:\n",
        "        bis = True\n",
        "    elif año % 4 == 0 and not año % 100 == 0:\n",
        "        bis = True\n",
        "    return bis"
      ]
    },
    {
      "cell_type": "code",
      "execution_count": 41,
      "metadata": {
        "colab": {
          "base_uri": "https://localhost:8080/"
        },
        "id": "Fhb7pM_6VvnL",
        "outputId": "3fa4c13f-bb1c-45bb-dd27-1dee50914da3"
      },
      "outputs": [
        {
          "name": "stdout",
          "output_type": "stream",
          "text": [
            "True\n",
            "False\n",
            "False\n",
            "False\n",
            "True\n"
          ]
        }
      ],
      "source": [
        "# Pruebas\n",
        "print(bisiesto(2020)) # True   \n",
        "print(bisiesto(2021)) # False\n",
        "print(bisiesto(2022)) # False\n",
        "print(bisiesto(1900)) # False\n",
        "print(bisiesto(2000)) # True\n"
      ]
    },
    {
      "cell_type": "markdown",
      "metadata": {
        "id": "rLOGyNHjIHqi"
      },
      "source": [
        "\n",
        "**Ejercicio 26.**\n",
        "Definir la función `fecha_valida()` que determina si una fecha, dada por un número de día, un número de mes y un número de año, es una fecha válida."
      ]
    },
    {
      "cell_type": "code",
      "execution_count": 42,
      "metadata": {
        "id": "G3IfoIDWIHqi"
      },
      "outputs": [],
      "source": [
        "# Solución\n",
        "def fecha_valida(dia: int, mes: int, año: int) -> bool:\n",
        "    \"\"\"\n",
        "    pre: type(dia)==type(mes)==type(año)==int\n",
        "    post: devuelve True si es una fecha valida, caso contrario devuelve False.\n",
        "    \"\"\"\n",
        "    assert type(dia) == int and type(mes) == int and type(año) == int, 'los 3 argumentos deben ser enteros'\n",
        "    valida = False\n",
        "    if mes in [1,3,5,7,8,10,12]:\n",
        "        valida =  dia <= 31\n",
        "    elif mes in [4,6,9,11]:\n",
        "        valida = dia <= 30\n",
        "    elif mes == 2:\n",
        "        if bisiesto(año):\n",
        "            valida = dia <= 29\n",
        "        else:\n",
        "            valida = dia <= 28\n",
        "    return valida"
      ]
    },
    {
      "cell_type": "code",
      "execution_count": 43,
      "metadata": {
        "id": "MzODYmkFZ-1K"
      },
      "outputs": [
        {
          "name": "stdout",
          "output_type": "stream",
          "text": [
            "False\n",
            "True\n",
            "False\n",
            "True\n",
            "False\n"
          ]
        }
      ],
      "source": [
        "# Pruebas\n",
        "print(fecha_valida(22,13,1983)) # False\n",
        "print(fecha_valida(22,12,1983)) # True\n",
        "print(fecha_valida(29,2,1983)) # False\n",
        "print(fecha_valida(29,2,2000)) # True\n",
        "print(fecha_valida(29,2,1900)) # False\n"
      ]
    }
  ],
  "metadata": {
    "colab": {
      "provenance": []
    },
    "kernelspec": {
      "display_name": "Python 3",
      "name": "python3"
    },
    "language_info": {
      "codemirror_mode": {
        "name": "ipython",
        "version": 3
      },
      "file_extension": ".py",
      "mimetype": "text/x-python",
      "name": "python",
      "nbconvert_exporter": "python",
      "pygments_lexer": "ipython3",
      "version": "3.10.4"
    }
  },
  "nbformat": 4,
  "nbformat_minor": 0
}
