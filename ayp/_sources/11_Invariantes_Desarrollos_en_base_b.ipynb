{
  "cells": [
    {
      "cell_type": "markdown",
      "metadata": {
        "id": "46o0X2qQj0Bf"
      },
      "source": [
        "# Invariantes"
      ]
    },
    {
      "cell_type": "markdown",
      "metadata": {
        "id": "TocQAMA_j3bH"
      },
      "source": [
        "## 1. Razonando sobre programas: Corrección parcial\n",
        "\n",
        "¿Cómo podemos convencernos de que un programa es correcto? Es decir que hace lo que queremos que haga.\n",
        "\n",
        "Poe ejemplo, proponemos el siguiente código para calcular el cuadrado de un número."
      ]
    },
    {
      "cell_type": "code",
      "execution_count": null,
      "metadata": {
        "id": "lcvn5Q2JkEoH"
      },
      "outputs": [],
      "source": [
        "def cuadrado(n : int) -> int:\n",
        "    # pre: n es un entero\n",
        "    # post: devuelve el cuadrado de n\n",
        "    # n ** 2 es el cuadrado de n\n",
        "    res = n ** 2\n",
        "    # res es el cuadrado de n\n",
        "    return res"
      ]
    },
    {
      "cell_type": "markdown",
      "metadata": {
        "id": "fLKnRCy2py4G"
      },
      "source": [
        "Observaciones:\n",
        "\n",
        "\n",
        "*   Si las variables que aparecen en una afirmación verdadera antes de una línea de código no se modifican en esa línea de código, la misma afirmación sigue siendo verdadera luego de la línea de código.\n",
        "*   Si antes de la asignación `x = e` vale una afirmación $A(e)$, entonces luego de la asignación vale la afirmación $A(x)$.\n",
        "\n"
      ]
    },
    {
      "cell_type": "markdown",
      "metadata": {
        "id": "5C5_grZyo_6v"
      },
      "source": [
        "Verifiquemos  que el programa escrito en la celda de código  anterior hace lo que queremos que haga.\n",
        "\n",
        "1.   La precondición no se demuestra, se asume que es verdadera cuando comienza la ejecución de la función (será responsabilidad de quien use la función, asegurarse de que se cumpla su precondición)\n",
        "2.   La precondición `n es un entero` implica `n ** 2 es el cuadrado de n`. De hecho esta afirmación simplemente está diciendo que en Python `n ** 2` es lo que habitualmente escribimos $n^2$ en matemática. Por lo tanto, la afirmación `n ** 2 es el cuadrado de n` es verdadera en la línea 4.\n",
        "3.   Por ello, luego de la asignación `res = n ** 2`, la afirmación `res es el cuadrado de n` es verdadera, ya que la variable `res` tiene ahora justamente el valor de la expresión `n ** 2`. Por lo tanto, si `n ** 2 es el cuadrado de n` es verdadera en la línea 4, entonces `res es el cuadrado de n` es verdadera en la línea 6.\n",
        "4.   Por último, si en la línea 6 vale `res es el cuadrado de n`, entonces efectivamente se cumple la postcondición ya que en la fila siguiente se está devolviendo justamente el cuadrado de `n`.\n",
        "\n",
        "¿Qué hemos demostrado? Hemos demostrado que si se cumple la precondición cuando se llama a la función, entonces se va a cumplir la postcondición cuando la misma finalice.\n"
      ]
    },
    {
      "cell_type": "markdown",
      "metadata": {
        "id": "YKII90ye2-Jm"
      },
      "source": [
        "No profundizaremos en la corrección parcial de programas en este curso. Es un tema muy amplio que excede los alcances de la materia. La demostración anterior se presenta como ejemplo de que es posible demostrar el funcionamiento correcto de programas."
      ]
    },
    {
      "cell_type": "markdown",
      "metadata": {
        "id": "eKFXPddaokti"
      },
      "source": [
        "## 2. Invariantes\n",
        "\n",
        "Demostrar la corrección de un programa que no tiene ciclos es sencillo y hay algoritmos que son capaces de hacerlo. Cuando introducimos ciclos, demostrar un programa deja de ser una tarea rutinaria y tiene intrínsecamente la misma dificultad que demostrar un teorema en matemática.\n",
        "\n",
        "Como ya dijimos no profundizaremos en este tema, pero sí es interesante estudiar una herramienta para demostrar la corrección de programas que son los los *invariantes* de los ciclos `while`. Un invariante nos puede ayudar a razonar sobre el ciclo y descubrir si lo estamos implementando bien o mal.  "
      ]
    },
    {
      "cell_type": "markdown",
      "metadata": {
        "id": "TgjhO8SieKPr"
      },
      "source": [
        "Razonar sobre el ciclo `while` requiere identificar un *invariante*. Un invariante es una afirmación que vale antes de entrar al `while` y al final de cada ejecución del cuerpo del `while`.\n",
        "\n",
        "    # invariante\n",
        "    while condición:\n",
        "        cuerpo del ciclo\n",
        "        # invariante\n",
        "\n",
        "Para demostrar que una afirmación es un invariante, debemos demostrar\n",
        "\n",
        "1)    que vale antes del `while`:\n",
        "\n",
        "```\n",
        "    # invariante\n",
        "    while condición:\n",
        "        cuerpo del ciclo\n",
        "```\n",
        "\n",
        "2)   que la afirmación vale al finalizar el cuerpo de cada ciclo\n",
        "\n",
        "```\n",
        "    while condición:\n",
        "        cuerpo del ciclo\n",
        "        # invariante\n",
        "```\n",
        "\n",
        "Observemos  que como el invariante se verifica al terminar el cuerpo  de cada ciclo, al fallar la condición del `while` el ciclo termina y el invariante sigue valiendo. Es decir,  el invariante es verdadero al finalizar el ciclo o, más formalmente `invariante == True and condicion == False`."
      ]
    },
    {
      "cell_type": "markdown",
      "metadata": {
        "id": "lB5IqWQ4oktm"
      },
      "source": [
        "Veamos un ejemplo de invariante analizando la siguiente implementación de la función factorial:"
      ]
    },
    {
      "cell_type": "code",
      "execution_count": null,
      "metadata": {
        "id": "rXYiodSHaWlE"
      },
      "outputs": [],
      "source": [
        "def factorial(n : int) -> int:\n",
        "    # pre: n es un número entero no negativo\n",
        "    # post: devuelve el factorial de n, es decir, 1 * 2 * 3 * ... * n\n",
        "    res = 1\n",
        "    i = 2\n",
        "    print(i - 1, res) # res es el factorial de i - 1\n",
        "    while i <= n:\n",
        "        res = res * i\n",
        "        i = i + 1\n",
        "        print(i - 1, res) # res es el factorial de i - 1\n",
        "    return res"
      ]
    },
    {
      "cell_type": "code",
      "execution_count": null,
      "metadata": {
        "colab": {
          "base_uri": "https://localhost:8080/"
        },
        "id": "s_UwymCRjoqX",
        "outputId": "5c9edb4f-acb2-4ea3-eb58-3f8d07ae0d41"
      },
      "outputs": [
        {
          "name": "stdout",
          "output_type": "stream",
          "text": [
            "1 1\n",
            "2 2\n",
            "3 6\n",
            "4 24\n",
            "5 120\n",
            "6 720\n",
            "7 5040\n",
            "8 40320\n"
          ]
        },
        {
          "data": {
            "text/plain": [
              "40320"
            ]
          },
          "execution_count": 2,
          "metadata": {},
          "output_type": "execute_result"
        }
      ],
      "source": [
        "factorial(8)"
      ]
    },
    {
      "cell_type": "markdown",
      "metadata": {
        "id": "iQKJSUH8okto"
      },
      "source": [
        "Observemos que cuando hacemos el algoritmo anterior la idea es que `res` vaya tomando el valor del producto de todos los números anteriores a `i` y el invariante refleja esto: parte del invariante será la expresión `res == 1 * 2 * ... * (i - 1)` . Por otro  lado, otra propiedad invariante es `2 <= i <= n + 1`, proponemos entonces\n",
        "\n",
        "    invariante: res == 1 * 2 * ... * (i - 1) and 2 <= i <= n + 1\n",
        "\n",
        "Reescribimos la función agregando el invariante como comentario:"
      ]
    },
    {
      "cell_type": "code",
      "execution_count": null,
      "metadata": {
        "id": "-jSQg-rZkxsU"
      },
      "outputs": [],
      "source": [
        "def factorial(n : int) -> int:\n",
        "    # pre: n es un número entero, n >= 1\n",
        "    # post: devuelve el factorial de n, es decir, 1 * 2 * 3 * ... * n\n",
        "    res = 1\n",
        "    i = 2\n",
        "    # 1. invariante: res == 1 * 2 * ... * (i - 1) and 2 <= i <= n + 1 (res = 1, i = 2)\n",
        "    while i <= n:\n",
        "        res = res * i\n",
        "        i = i + 1\n",
        "        # 2. invariante: res == 1 * 2 * ... * (i - 1) and 2 <= i <= n + 1\n",
        "    return res"
      ]
    },
    {
      "cell_type": "markdown",
      "metadata": {
        "id": "cTF_vWNEoktp"
      },
      "source": [
        "Podemos comprobar que el invariante es verdadero en los dos lugares donde lo hemos incluido.\n",
        "\n",
        "1. Como `res == 1`, `i == 2`, es claro que `res == 1 * 2 * ... * (i - 1)` y `2 <= i <= n + 1`.\n",
        "2. Sean `res0`, `i0` los valores de ingreso de `res`, `i` al ciclo `while`. Al finalizar el cuerpo del ciclo, `res`, `i` toman nuevos valores `res1 = res0 * i0`, `i1 = i0 + 1`, luego `res1 == res0 * i0 == 1 * 2 * ... * (i0 - 1) * i0 == 1 * 2 * ... * (i1 - 1)`. Como `i0 < n`, pues pasó la condición del `while`, `2 <= i1 == i0 + 1 <= n + 1`.\n",
        "\n",
        "Esta forma de escribir es para respetar lo que dijimos de que el invariante debe valer en dos lugares (antes del ciclo y al final del cuerpo del `while`). Si embargo,  sabiendo esto, es más conveniente, por claridad, escribir el invariante en un solo lugar."
      ]
    },
    {
      "cell_type": "code",
      "execution_count": null,
      "metadata": {
        "id": "kGUV8BGjoktp"
      },
      "outputs": [],
      "source": [
        "def factorial(n : int) -> int:\n",
        "    # pre: n es un número entero, n >= 1\n",
        "    # post: devuelve el factorial de n, es decir, 1 * 2 * 3 * ... * n\n",
        "    res = 1\n",
        "    i = 2\n",
        "    # invariante: res == 1 * 2 * ... * (i - 1) and 2 <= i <= n + 1\n",
        "    while i <= n:\n",
        "        res = res * i\n",
        "        i = i + 1\n",
        "    return res"
      ]
    },
    {
      "cell_type": "markdown",
      "metadata": {
        "id": "7XqS-2n-oktq"
      },
      "source": [
        "Lo interesante de este invariante es que al terminar el ciclo,  es decir al ser `i == n + 1` y  valer el invariante obtenemos el resultado  que buscábamos:\n",
        "\n",
        "    res == 1 * 2 * ... * (i - 1) and i == n + 1  =>  res ==  1 * 2 * ... * n       \n",
        "\n",
        "En  general,  obtener el invariante no es sencillo pero una vez que nos damos cuenta cual es muy sencillo de verificar. Los invariantes interesantes son los que tienen la propiedad de  que cuando termina el ciclo el invariante es el resultado que buscábamos.\n",
        "\n",
        "Veamos otro ejemplo,  encontremos el mínimo de una lista de enteros no vacía.\n",
        "\n",
        "Esta función se puede implementar fácilmente con un `for`:"
      ]
    },
    {
      "cell_type": "code",
      "execution_count": null,
      "metadata": {
        "colab": {
          "base_uri": "https://localhost:8080/"
        },
        "id": "_-wkrbNp7Xgj",
        "outputId": "855830ce-b32c-41b1-9404-a60a8b953f8b"
      },
      "outputs": [
        {
          "name": "stdout",
          "output_type": "stream",
          "text": [
            "4\n"
          ]
        }
      ],
      "source": [
        "def minimo(ns : list) -> int:\n",
        "    # pre: ns es una lista de enteros no vacía\n",
        "    # post: devuelve el menor de los enteros de la lista ns\n",
        "    assert type(ns) == list and len(ns) > 0, \"Error: ns no es una lista no vacía\"\n",
        "    menor = ns[0]\n",
        "    for i in range(1,len(ns)):\n",
        "        if ns[i] < menor:\n",
        "            menor = ns[i]\n",
        "    return menor\n",
        "\n",
        "print(minimo([45, 65, 23, 4, 48]))"
      ]
    },
    {
      "cell_type": "markdown",
      "metadata": {
        "id": "WG4zA6Yaoktr"
      },
      "source": [
        "Pero para poder usar el invariante debemos trabajar con `while`. Como ya sabemos, todo `for` que itera sobre números enteros se puede implementar con un `while`:"
      ]
    },
    {
      "cell_type": "code",
      "execution_count": null,
      "metadata": {
        "id": "_BgZQJwZnaAN"
      },
      "outputs": [],
      "source": [
        "def minimo(ns : list) -> int:\n",
        "    # pre: ns es una lista de enteros no vacía\n",
        "    # post: devuelve el menor de los enteros de la lista ns\n",
        "    assert type(ns) == list and len(ns) > 0, \"ns no es una lista no vacía\"\n",
        "    menor = ns[0]\n",
        "    i = 1\n",
        "    while i < len(ns):\n",
        "        if ns[i] < menor:\n",
        "            menor = ns[i]\n",
        "        i = i + 1\n",
        "    return menor"
      ]
    },
    {
      "cell_type": "markdown",
      "metadata": {
        "id": "jT7SKbRYokts"
      },
      "source": [
        "Observemos que en este caso cada vez que termina el cuerpo  del `while` se satisface que\n",
        "\n",
        "    menor es el menor elemento de ns[0:i] y 1 <= i <= len(ns)\n",
        "\n",
        "y  este será nuestro invariante."
      ]
    },
    {
      "cell_type": "code",
      "execution_count": null,
      "metadata": {
        "id": "5TKruCVsnunm"
      },
      "outputs": [],
      "source": [
        "def minimo(ns : list) -> int:\n",
        "    # pre: ns es una lista de enteros no vacía\n",
        "    # post: devuelve el menor de los enteros de la lista ns\n",
        "    assert type(ns) == list and len(ns) > 0, \"Error: ns no es una lista no vacía\"\n",
        "    res = ns[0]\n",
        "    i = 1\n",
        "    # invariante: res es el menor elemento de ns[0:i] y 1 <= i <= len(ns)\n",
        "    while i < len(ns):\n",
        "        if ns[i] < res:\n",
        "            res = ns[i]\n",
        "        i = i + 1\n",
        "    return res"
      ]
    },
    {
      "cell_type": "markdown",
      "metadata": {
        "id": "RQRGLgc0oktt"
      },
      "source": [
        "Cuando termina el `while` obtenemos que `res es el menor elemento de ns[0:len(ns)]` o equivalentemente `res es el menor elemento de ns`,  que es el resultado deseado."
      ]
    },
    {
      "cell_type": "markdown",
      "metadata": {
        "id": "zXhLi9apoktt"
      },
      "source": [
        "**Observación.**\n",
        "\n",
        "1. En  el ejemplo del factorial el invariante podría haber sido  `res == 1 * 2 * ... * (i - 1)`.\n",
        "2. En  el ejemplo del mínimo el invariante podría haber sido `res es el menor elemento de ns[0:i]`.\n",
        "\n",
        "Estos dos invariantes garantizan que cuando se termine el ciclo obtenemos el resultado deseado. ¿Por  qué entonces agregamos las afirmaciones sobre el `i`? La respuesta es que las afirmaciones sobre `i` garantizan la finalización del ciclo, pues al estar el `i` acotado y en cada paso ser distinto,  nos garantizamos que el ciclo termina. Sin embargo, cuando nos resulte clara la finalización del ciclo, sólo dejaremos las afirmaciones que no sean de verificación de terminación de ciclo."
      ]
    },
    {
      "cell_type": "markdown",
      "metadata": {
        "id": "Rlia9214chbb"
      },
      "source": [
        "## 3. Ejemplo: ¿es primo?\n",
        "\n",
        "Recordemos que $n \\geq 2$, entero, es primo, si y sólo si no existe ningún número entero $2 \\leq d < n$ que divida a $n$.\n",
        "\n",
        "Escribamos un algoritmo sencillo para detectar si un número es primo:"
      ]
    },
    {
      "cell_type": "code",
      "execution_count": null,
      "metadata": {
        "id": "p9QDKDfXoktu"
      },
      "outputs": [],
      "source": [
        "def es_primo(n : int) -> bool:\n",
        "    # pre: n es un número entero >= 2\n",
        "    # post: devuelve True sii n es número primo\n",
        "    assert type(n) == int and n >= 2, \"Error: n no es un número entero >= 2\"\n",
        "    es_primo = True\n",
        "    for d in range(2,n):\n",
        "        if n % d == 0:\n",
        "            es_primo = False\n",
        "    return es_primo"
      ]
    },
    {
      "cell_type": "markdown",
      "metadata": {
        "id": "ow-Uh5jfoktu"
      },
      "source": [
        "Este es el algorimo más sencillo que se nos ocurre (quizás con un `break` es más intuitivo aún). Implementemos lo anterior con un `while`:"
      ]
    },
    {
      "cell_type": "code",
      "execution_count": null,
      "metadata": {
        "id": "XjeKLSk3mz0z"
      },
      "outputs": [],
      "source": [
        "def es_primo(n: int) -> bool:\n",
        "    # pre: n > 0\n",
        "    # post: devuelve True si n  es primo, en caso contrario devuelve False\n",
        "    assert type(n) == int and n >= 2, \"Error: n no es un número entero >= 2\"\n",
        "    es_primo = True\n",
        "    d = 2\n",
        "    while d < n:\n",
        "        if n % d == 0:\n",
        "            es_primo = False\n",
        "        d += 1\n",
        "    return es_primo"
      ]
    },
    {
      "cell_type": "markdown",
      "metadata": {
        "id": "DfKmppgWnHzr"
      },
      "source": [
        "Pero ya hemos visto que se puede hacer algo parecido, pero más eficiente y elegante:"
      ]
    },
    {
      "cell_type": "code",
      "execution_count": null,
      "metadata": {
        "id": "A876esj8-zg8"
      },
      "outputs": [],
      "source": [
        "def es_primo(n: int) -> bool:\n",
        "    # pre: n > 0\n",
        "    # post: devuelve True si n  es primo, en caso contrario devuelve False\n",
        "    assert type(n) == int and n >= 2, \"Error: n no es un número entero >= 2\"\n",
        "    d = 2\n",
        "    while d < n and n % d != 0:\n",
        "        d += 1\n",
        "    return d == n # d == n implica que n es primo"
      ]
    },
    {
      "cell_type": "markdown",
      "metadata": {
        "id": "a6h_CjrOfGVo"
      },
      "source": [
        "¿Cuál es el invariante? o, mejor dicho, debemos encontrar un invariante que cumpla con lo que fue dicho en la sección 2 de este cuaderno.\n",
        "\n",
        "Observemos  que para llegar al paso `d` y superar la condición del `while` el  número `d` y  todos los anteriores no dividen a `n`. Esa es la idea para proponer un invariante:"
      ]
    },
    {
      "cell_type": "code",
      "execution_count": null,
      "metadata": {
        "id": "ATQ6Gw4cfDQt"
      },
      "outputs": [],
      "source": [
        "def es_primo(n: int) -> bool:\n",
        "    # pre: n > 0\n",
        "    # post: devuelve True si n  es primo, en caso contrario devuelve False\n",
        "    assert type(n) == int and n >= 2, \"Error: n no es un número entero >= 2\"\n",
        "    d = 2\n",
        "    # invariante: para todo j en  2 <= j <= d - 1, j no divide a n\n",
        "    while d < n and n % d != 0:\n",
        "        d += 1\n",
        "        # invariante: para todo j en  2 <= j <= d - 1, j no divide a n\n",
        "    return d == n # d == n implica que n es primo"
      ]
    },
    {
      "cell_type": "markdown",
      "metadata": {
        "id": "efo3dkJef8GM"
      },
      "source": [
        "Podemos comprobar que el invariante es verdadero antes que comience el ciclo y cuando termina el cuerpo del ciclo.\n",
        "\n",
        "1. Como `d == 2` y `n > 0`, es claro que para todo `j` en  `2 <= j <= 1`, `n % j != 0` (pues el conjunto es vacío).\n",
        "2. Sea `d0` el valor de ingreso de `d` al ciclo `while`. Al finalizar el cuerpo del ciclo, `d` toma el valor `d1 = d0 + 1`. Como originalmente para todo `j` en  `2 <= j <= d0 - 1`, cumple `n % j != 0` y por pasar el ciclo `n % d0 != 0`, entonces para todo `j` tal que `2 <= j <= d0 == d1 - 1`, se satisface  `n % j != 0` y por lo tanto se cumple el invariante.\n",
        "\n",
        "Es claro entonces que la afirmación propuesta es un invariante. Cuando el ciclo termina puede ser por dos motivos:\n",
        "\n",
        "1. `d == n`: entonces el invariante nos dice que para todo $j$ no divide a $n$ con $2 \\le j \\le n-1$. Es decir, $n$  es primo.\n",
        "2. `d < n and n % d == 0`: entonces el invariante nos dice que $j$ no divide a $n$ con $2 \\le j \\le d-1$, pero como `n % d == 0`, tenemos que $d|n$ y $d < n$. Es decir $n$ no es primo.\n",
        "\n",
        "Concluyendo,  de lo anterior deducimos  que `d == n` es equivalente  a \"$n$ es primo\"."
      ]
    },
    {
      "cell_type": "markdown",
      "metadata": {
        "id": "ELGeMlCnkiMg"
      },
      "source": [
        "## 4. Ejemplo: máximo común divisor\n",
        "\n",
        "El  máximo común divisor de define de la siguiente manera.\n",
        "\n",
        "**Definición.**  Si $a$ y $b$ son enteros algunos de ellos no nulo, decimos que un entero no negativo $d$ es un *máximo común divisor* o *mcd*, de $a$ y $b$ si\n",
        "\n",
        "a) $d|a$  y $d|b$;\n",
        "\n",
        "b) si $ c|a $ y $c|b$ entonces $c | d$.\n",
        "\n",
        "El máximo común divisor es el número más grande que es divisor común a $a$ y $b$,  es decir:\n",
        "\\begin{equation*}\n",
        " \\operatorname{mcd}(a,b) = \\operatorname{max}\\{d \\in \\mathbb N: d|a \\wedge d|b\\}.\n",
        "\\end{equation*}\n",
        "\n",
        "Una forma de obtenerlo es encontrar todos los divisores comunes de $a$ y $b$ y  quedarse con el máximo. Esta no es una forma eficiente y para números grandes es imposible de aplicar.\n",
        "\n",
        "La forma \"correcta\" de calcular el mcd es usando el *algoritmo de Euclides* y  la veremos más adelante.\n",
        "\n",
        "Como primera aproximación para calcular el mcd usaremos el algoritmo explicado en un cuaderno previo que se basa en las siguientes propiedades: si $x$, $y$  son enteros,  con $y$ no nulo,  entonces:\n",
        "\\begin{align*}\n",
        "&a)&\\operatorname{mcd}(x, y) &= \\operatorname{mcd}(y - x, x) \\\\\n",
        "&b)&\\operatorname{mcd}(0, y) &= y.\n",
        "\\end{align*}\n",
        "\n",
        "Por lo tanto,  la idea para obtener el mcd es hacer restas hasta que uno de los dos argumentos de la función mcd alcance el 0 y obtener el mcd por la propiedad b). Una de las implementaciones es la siguiente:"
      ]
    },
    {
      "cell_type": "code",
      "execution_count": null,
      "metadata": {
        "id": "XVqs5jj8oktw"
      },
      "outputs": [],
      "source": [
        "def mcd(a, b: int) -> int:\n",
        "    # pre: (a >= 0 and b >=0) and (a != 0 or b != 0).\n",
        "    # post: devuelve el mdc de a y b\n",
        "    x, y = min(a, b), max(a, b)\n",
        "    while x != 0: # \"mientras x distinto de 0\"\n",
        "        x, y = min(x, y - x), max(x, y - x)\n",
        "    return y"
      ]
    },
    {
      "cell_type": "markdown",
      "metadata": {
        "id": "oJo2Sl6-renr"
      },
      "source": [
        "o,  equivalentemente,"
      ]
    },
    {
      "cell_type": "code",
      "execution_count": null,
      "metadata": {
        "id": "z3VaV3kJqZEd"
      },
      "outputs": [],
      "source": [
        "def mcd(a, b: int) -> int:\n",
        "    # pre: (a >= 0 and b >=0) and (a != 0 or b != 0).\n",
        "    # post: devuelve el mdc de a y b\n",
        "    if a <= b:\n",
        "        x, y = a, b\n",
        "    else:\n",
        "        x, y = b, a\n",
        "    while x != 0: # \"mientras x distinto de 0\"\n",
        "        if x <= y - x:\n",
        "            x, y = x, y - x\n",
        "        else:\n",
        "            x, y = y - x, x\n",
        "    return y"
      ]
    },
    {
      "cell_type": "markdown",
      "metadata": {
        "id": "n7ac0T8foktw"
      },
      "source": [
        "¿Cuál es el invariante del ciclo? Primero observemos que siempre $x \\le y$, pero eso no ayuda mucho. Lo  que debemos observar, y no es del todo trivial,  es que por la propiedad a) tenemos que $\\operatorname{mcd}(x, y) = \\operatorname{mcd}(a, b)$, luego el invariante sería:\n",
        "\n",
        "    invariante: x <= y and mcd(x,y) = mcd(a,b)\n",
        "\n",
        "Es claro que lo anterior es un invariante del ciclo y que cuando el ciclo termina, es decir  cuando `x == 0`, tenemos:\n",
        "\n",
        "    mcd(x,y) = mcd(a,b) and x == 0\n",
        "\n",
        "lo cual implica que\n",
        "\n",
        "    mcd(a,b) = mcd(0,y) = y\n",
        "\n",
        "Esto prueba que el ciclo es correcto y que el valor que se devuelve es el  mcd  entre `a` y `b`. La única consideración que habría que hacer es respecto a si el ciclo termina. Pero esto se puede verificar fácilmente pues en cada paso se hace una resta y  entonces uno de los argumentos del mcd va decreciendo. Luego de una cantidad suficiente de pasos llegaremos a que uno de los argumentos del mcd es 0 y  el ciclo termina."
      ]
    },
    {
      "cell_type": "markdown",
      "metadata": {
        "id": "9mUbSWX9oktx"
      },
      "source": [
        "### Algoritmo de Euclides\n",
        "\n",
        "El algoritmo anterior es relativamente eficiente, pero lo es mucho más el *algoritmo de Euclides* que se basa en las siguientes propiedades: si $x$, $y$  son enteros no negativos,  con $y$ no nulo,  entonces:\n",
        "\\begin{align*}\n",
        "&a)\\text{ si } x = q \\cdot y + r \\text{ con } 0 \\le r < y \\;\\Rightarrow\\; \\operatorname{mcd}(x, y) = \\operatorname{mcd}(y, r) \\\\\n",
        "&b)\\operatorname{mcd}(0, x) = x.\n",
        "\\end{align*}\n",
        "\n",
        "Tanto a) como b) son sencillos de probar con la definición de mcd. Observar  que a) es una generalización del a) anterior, pues $r = x - q \\cdot y$,  es decir $r$ es $x$ restando $q$ veces $y$.\n",
        "\n",
        "La implementación del algoritmo es más sencilla que en método anterior y el invariante es muy parecido:"
      ]
    },
    {
      "cell_type": "code",
      "execution_count": null,
      "metadata": {
        "id": "FLIkQPxwoktx"
      },
      "outputs": [],
      "source": [
        "def mcd(a, b: int) -> int:\n",
        "    # pre: (a >= 0 and b >=0) and (b != 0).\n",
        "    # post: devuelve el mdc de a y b\n",
        "    i, j = a, b\n",
        "    # 1. invariante: mcd(a, b) = mcd(i, j)\n",
        "    while j != 0:\n",
        "        resto = i % j  # i = q * j + resto\n",
        "        i, j = j, resto\n",
        "        # 2. invariante: mcd(a, b) = mcd(i, j)\n",
        "    return i"
      ]
    },
    {
      "cell_type": "markdown",
      "metadata": {
        "id": "LRdv3HiOoktx"
      },
      "source": [
        "Verifiquemos el invariante:  \n",
        "\n",
        "1. Obviamente cuando `a == i` y `b == j` (linea 4) obtenemos `mcd(a, b) == mcd(i, j)`.\n",
        "2. Sean `i0`, `j0` los valores de ingreso de `i`, `j` al ciclo `while`. Al finalizar el ciclo, `i`, `j` toman nuevos valores `i1 = j0`, `j1 = i0 - q * j0`, luego  `mcd(a, b) == mcd(i0, j0) == mcd(q * j0 + j1, i1)`. Por b), `mcd(q * j0 + j1, i1) == mcd(i1, j1)`. Concluimos entonces que `mcd(a, b) == mcd(i1, j1)`.\n",
        "\n",
        "Cuando el ciclo termina vale `mcd(a, b) == mcd(i, j)` y `j == 0`, luego `mcd(a, b) == mcd(i, 0) == i`."
      ]
    },
    {
      "cell_type": "markdown",
      "metadata": {
        "id": "J7YwZX3eOnO_"
      },
      "source": [
        "# Desarrollo en base $b \\ge 2$ de números enteros\n",
        "\n",
        "Dado $b$ entero y $b \\ge 2$, un número entero positivo $n$ se puede escribir de una única forma como\n",
        "\\begin{equation*}\n",
        "n = \\sum_{i=0}^k a_i b^i = a_kb^k + a_{k-1}b^{k-1} + \\cdots + a_1 b + a_0,\n",
        "\\end{equation*}\n",
        "donde $a_k \\ne 0$ y $ 0 \\le a_i < b$ ($0 \\le i \\le k$).\n",
        "\n",
        "En  ese caso escribimos $n = (a_ka_{k-1} \\ldots a_0)_b$,  que es la *representación o desarrollo de $n$ en base $b$.*\n",
        "\n",
        "El  algoritmo para obtener el desarrollo de un número en base $b$ lo explicamos con un ejemplo.\n",
        "\n"
      ]
    },
    {
      "cell_type": "markdown",
      "metadata": {
        "id": "dtKJcHrNPutS"
      },
      "source": [
        "**Ejemplo.** Deseamos escribir el número $407$ con una expresión de la forma\n",
        "\\begin{equation*}\n",
        "407 = r_n5^n +r_{n-1} 5^{n-1}+\\cdots + r_1 5 + r_0,\n",
        "\\end{equation*}\n",
        "con $0 \\le r_i < 5$. La forma de hacerlo  es, primero, dividir el número original y los sucesivos cocientes por $5$:  \n",
        "\\begin{align*}\n",
        "407 &=5\\cdot 81 &+& 2 \\tag{B1}\\\\\n",
        "81 & = 5\\cdot 16 &+& 1  \\tag{B2}\\\\\n",
        "16 & = 5\\cdot 3 &+& 1  \\tag{B3}\\\\\n",
        "3 & = 5\\cdot 0 &+& 3.\\tag{B4}\n",
        "\\end{align*}\n",
        "Entonces, el desarrollo en base $5$ de $407$ viene dado por los restos de las divisiones sucesiva, leídos en forma ascendente.\n",
        "\n",
        "En este caso diremos que el desarrollo en base $5$ de $407$ es $3112$ o, resumidamente, $407 = (3112)_5$.  \n",
        "\n",
        "La demostración  de que este algoritmo funciona bien no es complicada, pero no la haremos aqui,  donde lo que más nos interesa es implementar correctamente el algoritmo."
      ]
    },
    {
      "cell_type": "markdown",
      "metadata": {
        "id": "J8hIHEC5QX8q"
      },
      "source": [
        "Implementaremos ahora el algoritmo que encuentra el desarrollo en base $b$  de un  número entro positivo $n$."
      ]
    },
    {
      "cell_type": "code",
      "execution_count": null,
      "metadata": {
        "id": "wj07Sc_QQrBp"
      },
      "outputs": [],
      "source": [
        "def base10_a_baseb(n:int, b:int) -> str:\n",
        "    \"\"\"\n",
        "    pre: n, b enteros n >0, b >2\n",
        "    post: devuelve la cadena de n en base b\n",
        "    \"\"\"\n",
        "    restos = ''\n",
        "    q, r = n, 0\n",
        "\n",
        "    while q > 0:\n",
        "        r = q % b\n",
        "        q = q // b\n",
        "        # print(q, r)\n",
        "        restos = str(r) + restos\n",
        "    return restos\n",
        "\n",
        "base10_a_baseb(407, 5)\n",
        "base10_a_baseb(3*5**10 + 1, 5)"
      ]
    },
    {
      "cell_type": "markdown",
      "metadata": {
        "id": "2M0zsIlbShYV"
      },
      "source": [
        "Demostremos usando invariantes  que este es el algoritmo correcto. ¿Cuál es el invariante? Recordar que debe ser una propiedad que se cumple dentro del ciclo y cuando la guarda (en este caso `q > 0`)  es falsa,  es decir `q == 0`, se debe cumplir el resultado,  es decir `restos` debe ser el desarrollo en base $b$  de $n$.\n",
        "\n",
        "Observar que  se cumple,  \n",
        "\\begin{align*}\n",
        "(\\text{B1}) \\quad&\\Rightarrow& 407 &=5\\cdot 81 + 2 \\\\\n",
        "(\\text{B2}) \\quad&\\Rightarrow&  407& = 5^2\\cdot 16 + 5\\cdot 1 +2 \\\\\n",
        "(\\text{B3}) \\quad&\\Rightarrow&  407& = 5^3\\cdot  3+ 5^2\\cdot 1 + 5\\cdot 1 +2\n",
        "\\end{align*}\n",
        "En  general se va a cumplir  que en  el paso $\\text{(Bi)}$\n",
        "\\begin{align*}\n",
        "(\\text{Bi}) \\quad&\\Rightarrow& n  &=  a_i b^i + a_{i-1} b^{i-1} + \\cdots + a_1 b + a_0\n",
        "\\end{align*}\n",
        "con $0 \\le a_k < b$ para $0 \\le k < i$. Basandonos en estas observaciones, se propone el invariante\n",
        "\n",
        "    n = r[0] + r[1]*b + r[2]*b^2 + ... + r[s]*b^s + q*b^(s+1)\n",
        "\n",
        "sonde `s = len(r) - 1`. Es fácil ver que este invarainte se cumple antes del ciclo. Por  inducción se puede probar  que el invariante vale al final de cada iteración. Cuando el ciclo `while` termina,  es decir cuando `q = 0`, obtenemos\n",
        "\n",
        "    n = r[0] + r[1]*b + r[2]*b^2 + ... + r[s]*b^s\n",
        "\n",
        "y como  `0 <= r[i] < b` obtenemos el desarrollo en base `b`.  `"
      ]
    },
    {
      "cell_type": "markdown",
      "metadata": {
        "id": "LRZ4MOWsGusR"
      },
      "source": [
        "\n",
        "### Desarrollo en base $b \\ge 2$ de números decimales\n",
        "\n",
        "\n",
        "\n",
        "En  forma análoga al resultado para número enteros,  si $t \\in \\mathbb R$, $t >0$,\n",
        "\\begin{equation*}\n",
        "t = \\sum_{i=-\\infty}^k a_i b^i.\n",
        "\\end{equation*}\n",
        "donde $a_k \\ne 0$ y $ 0 \\le a_i < b$ ($-\\infty \\le i \\le k$).\n",
        "\n",
        "Luego\n",
        "\\begin{equation*}\n",
        "t = (a_k \\ldots a_0. a_{-1} a_{-2} \\ldots)_b.\n",
        "\\end{equation*}\n",
        "\n",
        "*Ejemplos.* Escribamos $0.5$ en base $2$.\n",
        "\\begin{equation*}\n",
        "0.5 = \\frac{1}{2} = 1\\cdot 2^{-1},\n",
        "\\end{equation*}\n",
        "luego $0.5 = (0.1)_2$.\n",
        "\n",
        "¿Qué  número es (en base 10) el número $(0.01)_2$?\n",
        "\\begin{equation*}\n",
        "(0.01)_2 = 1 \\cdot 2^{-2} = 0.25.\n",
        "\\end{equation*}\n",
        "\n",
        "Como ocurre en base $10$, algunos números reales pueden requerir un desarrollo infinito. Por ejemplo:\n",
        "\\begin{equation*}\n",
        "0.1 =  (0.0001\\, 1001\\, 1001\\, {1001} ....)_2,\n",
        "\\end{equation*}\n",
        "Es decir el desarrollo de base $2$ de $0.1$ es $0.0001$ seguido por infinitas repeticiones de  $1001$, lo que se llama el *período.*"
      ]
    },
    {
      "cell_type": "markdown",
      "metadata": {
        "id": "-sXS8P8Ool7T"
      },
      "source": [
        "*Observación.* Pese a que nuestra creencia es que todo número real se representa de una única forma ¿sabías que $1 = 0.9999...$? Veamos una demostración de este hecho   poco intuitivo:\n",
        "\\begin{align*}\n",
        "     x &= 0.999\\ldots \\\\\n",
        "   10x &= 9.999\\ldots && \\text{(multiplicando por $10$)}\\\\\n",
        "   10x &= 9+0.999\\ldots && \\\\\n",
        "   10x &= 9 + x && \\text{(por definición de $x$) }\\\\\n",
        "   9x &= 9 && \\text{(restando $x$)}\\\\\n",
        "    x &= 1 && \\text{(dividiendo por 9)}\n",
        "\\end{align*}\n",
        "De la misma forma podemos demostrar que\n",
        "\\begin{equation*}\n",
        "(1)_2 = (0.11111...)_2.\n",
        "\\end{equation*}\n",
        "\n",
        "También se pueden probar estas igualdades por argumentos analíticos que ustedes verán en las materias de cálculo. Por ejemplo, utilizando la teoría de series (sumas infinitas) se puede probar que\n",
        "\\begin{equation*}\n",
        "1 = \\sum_{i=1}^\\infty 9/10^i.\n",
        "\\end{equation*}"
      ]
    },
    {
      "cell_type": "markdown",
      "metadata": {
        "id": "tE4adL8kol7U"
      },
      "source": [
        "En base 2 tenemos las siguientes representaciones:\n",
        "\n",
        "$0.1 = (0.0001 1001 1001 1001 ....)_2$\n",
        "\n",
        "$0.1 + 0.1 = (0.0011 0011 0011 0011 0011 0011 ....)_2$\n",
        "\n",
        "$0.1 + 0.1 + 0.1 = (0.0100 1100 1100 1100 1100 ....)_2$\n",
        "\n",
        "$0.1 + 0.1 + 0.1 + 0.1 = (0.0110 0110 0110 0110 ....)_2$\n",
        "\n",
        "$0.1 + 0.1 + 0.1 + 0.1 + 0.1 = (0.1)_2$. En este caso es fácil calcular el desarrollo en base $2$  de este número, pues es igual a $0.5 = 1/2 = 2^{-1}$.\n",
        "\n",
        "En Python los números se representan internamente en forma binaria y es por eso que ocurren fenómenos \"raros\" que veremos a continuación."
      ]
    },
    {
      "cell_type": "code",
      "execution_count": null,
      "metadata": {
        "id": "IrACgRsYesp1"
      },
      "outputs": [],
      "source": [
        "print(0.1)\n",
        "print(0.1 + 0.1)"
      ]
    },
    {
      "cell_type": "markdown",
      "metadata": {
        "id": "T1YGDKP8TgKA"
      },
      "source": [
        "Hasta aquí, lo esperable. Pero:"
      ]
    },
    {
      "cell_type": "code",
      "execution_count": null,
      "metadata": {
        "id": "6g6ZOMcwTgYo"
      },
      "outputs": [],
      "source": [
        "print(0.1 + 0.1 + 0.1)"
      ]
    },
    {
      "cell_type": "markdown",
      "metadata": {
        "id": "gCfFsQhITpSp"
      },
      "source": [
        "Como se vió en la celda anterior `0.1 + 0.1 + 0.1` no da exactamente `0.3` y eso es por la representación binaria de Python. Después sigue bien:"
      ]
    },
    {
      "cell_type": "code",
      "execution_count": null,
      "metadata": {
        "id": "MWHdYtRVTpfY"
      },
      "outputs": [],
      "source": [
        "print(0.1 + 0.1 + 0.1 + 0.1 )\n",
        "print(0.1 + 0.1 + 0.1 + 0.1 + 0.1)"
      ]
    },
    {
      "cell_type": "markdown",
      "metadata": {
        "id": "0_c-DUcKUEWT"
      },
      "source": [
        "Este tipo de fenómenos puede hacer perder exactitud en cálculos muy sencillos."
      ]
    },
    {
      "cell_type": "code",
      "execution_count": null,
      "metadata": {
        "id": "M0iEKIyrUEhd"
      },
      "outputs": [],
      "source": [
        "print(0.1 + 0.1 + 0.1 - 0.3)\n",
        "x, y = 0.1 + 0.1 + 0.1, 0.1\n",
        "print('Se pierde exactitud en los cálculos: x**2 + y =', x**2 + y,'. Debería dar', 0.19)"
      ]
    },
    {
      "cell_type": "markdown",
      "metadata": {
        "id": "f-sLRmwNeWaM"
      },
      "source": [
        "\n",
        "\n",
        "La biblioteca `Decimal` nos permite hacer operaciones con números representados en forma decimal exactas.\n",
        "\n",
        "Con la biblioteca `Decimal`  `0.1 + 0.1 + 0.1 - 0.3` es exactamente igual a cero. En `float`, el resultado es `5.551115123125783e-17`. Aunque cercanas a cero, las diferencias impiden pruebas de igualdad confiables y las diferencias pueden acumularse. Por estas razones, se recomienda el uso de `Decimal` en aplicaciones de contabilidad con estrictas restricciones de confiabilidad."
      ]
    },
    {
      "cell_type": "code",
      "execution_count": null,
      "metadata": {
        "id": "J6bDcFgZk0gZ"
      },
      "outputs": [],
      "source": [
        "from decimal import *\n",
        "import math\n",
        "getcontext().prec = 28\n",
        "x = Decimal(1)\n",
        "print(x)\n",
        "print(Decimal('0.1') + Decimal('0.1'))\n",
        "print(Decimal('0.1') + Decimal('0.1') + Decimal('0.1'))\n",
        "print(Decimal('0.1') + Decimal('0.1') + Decimal('0.1') + Decimal('0.1'))\n",
        "print(Decimal('0.1') + Decimal('0.1') + Decimal('0.1') + Decimal('0.1') + Decimal('0.1'))\n",
        "print(Decimal('0.1') + Decimal('0.1') + Decimal('0.1') - Decimal('0.3'))\n",
        "\n",
        "x, y = Decimal('0.1') + Decimal('0.1') + Decimal('0.1'), Decimal('0.1')\n",
        "print('Los cálculos son exactos: x**2 + y =', x**2 + y,'. Debería dar (y da)', 0.19)"
      ]
    },
    {
      "cell_type": "markdown",
      "metadata": {
        "id": "vEJXjcg3UdZD"
      },
      "source": [
        "Está claro que es relativamente molesto  codificar usando constantemente la palabra `Decimal`, pero es el precio que se debe pagar para tener precisión razonable. Observar que `Decimal` toma como argumentos cadenas que representan números. También acepta números."
      ]
    },
    {
      "cell_type": "markdown",
      "metadata": {
        "id": "5BZ30E6pol7X"
      },
      "source": [
        "### Series de Taylor para la exponencial\n",
        "\n",
        "El número $e$ se define de la siguiente manera:\n",
        "\\begin{equation*}\n",
        "e = \\lim_{n \\to \\infty} \\left( 1 + \\frac{1}{n}  \\right)^n.\n",
        "\\end{equation*}\n",
        "y\n",
        "\\begin{equation*}\n",
        "e^x = \\lim_{n \\to \\infty} \\left( 1 + \\frac{1}{n}  \\right)^{nx}.\n",
        "\\end{equation*}\n",
        "\n",
        "Definamos en  Python una función que nos de una aproximación de $e$"
      ]
    },
    {
      "cell_type": "code",
      "execution_count": null,
      "metadata": {
        "id": "_1CaQx_Ool7Y"
      },
      "outputs": [],
      "source": [
        "def exp_0(n: int) -> float:\n",
        "    # pre: n entero > 0\n",
        "    # post: devuelve (1 + 1/n)**n\n",
        "    return (1 + 1/n)**n"
      ]
    },
    {
      "cell_type": "markdown",
      "metadata": {
        "id": "ncFY6Xv4ol7Y"
      },
      "source": [
        "Hagamos algunas pruebas"
      ]
    },
    {
      "cell_type": "code",
      "execution_count": null,
      "metadata": {
        "id": "EKdGkgaGol7Z"
      },
      "outputs": [],
      "source": [
        "for i in range(1, 40):\n",
        "    print(i,':',exp_0(i))"
      ]
    },
    {
      "cell_type": "markdown",
      "metadata": {
        "id": "GJFiaw6tzFZs"
      },
      "source": [
        "El  número $e$ es $2,71828...$ y observamos que con la función anterior no nos acercamos razonablemente rápido."
      ]
    },
    {
      "cell_type": "markdown",
      "metadata": {
        "id": "rdSA21Cd2Rqq"
      },
      "source": [
        "El desarrollo decimal de  $e$ hasta 50 dígitos  es $e \\sim 2.71828182845904523536028747135266249775724709369995957496696762772$. Por otro lado la biblioteca `math` provee `math.e`una aproximación al nùmero `e` y si hacemos"
      ]
    },
    {
      "cell_type": "code",
      "execution_count": null,
      "metadata": {
        "id": "T5Oi6a_04DfU"
      },
      "outputs": [],
      "source": [
        "math.e - 2.71828182845904523536028747135266249775724709369995957496696762772"
      ]
    },
    {
      "cell_type": "markdown",
      "metadata": {
        "id": "gL4ZAU994M-Z"
      },
      "source": [
        "nos devuelve 0. Es decir,  como era de suponerse, `math.e` es una aproximación muy precisa de $e$.   "
      ]
    },
    {
      "cell_type": "markdown",
      "metadata": {
        "id": "fsNuKgt5ol7Z"
      },
      "source": [
        "Una forma alternativa de calcular $e$ es con la serie de Taylor,\n",
        "\\begin{equation*}\n",
        "e = \\sum_{i=0}^{\\infty} \\frac1{i!}.\n",
        "\\end{equation*}\n",
        "y\n",
        "\\begin{equation*}\n",
        "e^x = \\sum_{i=0}^{\\infty} \\frac1{i!}x^i.\n",
        "\\end{equation*}\n",
        "Luego,  una aproximación de $e^x$, de grado $n$ es\n",
        "\\begin{equation*}\n",
        "e^x = \\sum_{i=0}^{n} \\frac1{i!}x^i.\n",
        "\\end{equation*}\n",
        "\n",
        "Esta forma,  como veremos, aproxima en pocos pasos mucho mejor que la fórmula que define a $e$."
      ]
    },
    {
      "cell_type": "code",
      "execution_count": null,
      "metadata": {
        "id": "A1ruIqxYGxPk"
      },
      "outputs": [],
      "source": [
        "def exp(x: float, n: int) -> float:\n",
        "  # Calcula la serie de Taylor de e**x hasta grado n\n",
        "  # e**x = \\sum_{n=0}^\\infty x**n / n!\n",
        "  ex = 0\n",
        "  for i in range(n + 1):\n",
        "    ex = ex + x**i / math.factorial(i)\n",
        "  return ex\n",
        "\n",
        "print('Aproximación de e (e**1):',exp(1, 10)) #\n",
        "print('e provisto por math:',math.e)\n",
        "print('Diferencia entre la aproximación y el e de math:', abs(exp(1,10) - math.e))"
      ]
    },
    {
      "cell_type": "markdown",
      "metadata": {
        "id": "jTjpPbLWhzrm"
      },
      "source": [
        "\n",
        "\n",
        "Podemos mejorar la precisión con `Decimal`."
      ]
    },
    {
      "cell_type": "code",
      "execution_count": null,
      "metadata": {
        "id": "9ry0ogs8Fibi"
      },
      "outputs": [],
      "source": [
        "getcontext().prec = 50 # precisión hasta 50 dígitos\n",
        "\n",
        "def expD(x: float, n: int) -> float:\n",
        "  # Calcula la serie de Taylor de e**x hasta grado n\n",
        "  # e**x = \\sum_{n=0}^\\infty x**n / n!\n",
        "  aprox_ex = Decimal('0')\n",
        "  for i in range(n + 1):\n",
        "    aprox_ex = aprox_ex + Decimal(str(x))**i / Decimal(str(math.factorial(i)))\n",
        "  return aprox_ex\n",
        "\n",
        "# Observación: debemos poner Decimal(str(x)) pues, aunque Decimal acepta float,\n",
        "#    para preservar la precisión se deben ingresar números como strings.\n",
        "\n",
        "print('Aproximación de e con Decimal:',Decimal(exp(1,10)))\n",
        "print('Diferencia entre la aproximación con Decimal y sin Decimal:',Decimal(exp(1,10))- expD(1,10)) # varían a partir de decimal 16\n",
        "# Observación: la expresión print(exp(1,10)- expD(1,10)) nos devuelve error pues\n",
        "#   exp(1,10) es float y expD(1,10) es decimal.Decimal\n",
        "\n",
        "print('Diferencia entre la aproximación y el e de math:', abs(exp(1,10) - math.e))\n",
        "print('Diferencia entre la aproximación con Decimal y el e de math:', abs(expD(1,10) - Decimal(math.e)))"
      ]
    },
    {
      "cell_type": "markdown",
      "metadata": {
        "id": "sLnw7vEz5bDN"
      },
      "source": [
        "Ahora aproximemos con 20 sumandos de la serie de Taylor:"
      ]
    },
    {
      "cell_type": "code",
      "execution_count": null,
      "metadata": {
        "id": "y3cyv4XA5fj1"
      },
      "outputs": [],
      "source": [
        "print('Aproximación de e con Decimal:',Decimal(exp(1,20)))\n",
        "print('Diferencia entre la aproximación con Decimal y sin Decimal:',Decimal(exp(1,20))- expD(1,20))\n",
        "\n",
        "print('Diferencia entre la aproximación y el e de math:', abs(exp(1,20) - math.e))\n",
        "print('Diferencia entre la aproximación con Decimal y el e de math:', abs(expD(1,20) - Decimal(math.e)))"
      ]
    },
    {
      "cell_type": "markdown",
      "metadata": {
        "id": "X2O3qv6E50Gx"
      },
      "source": [
        "Mejora un poco la aproximación con `Decimal`."
      ]
    }
  ],
  "metadata": {
    "colab": {
      "provenance": []
    },
    "kernelspec": {
      "display_name": "Python 3",
      "name": "python3"
    },
    "language_info": {
      "codemirror_mode": {
        "name": "ipython",
        "version": 3
      },
      "file_extension": ".py",
      "mimetype": "text/x-python",
      "name": "python",
      "nbconvert_exporter": "python",
      "pygments_lexer": "ipython3",
      "version": "3.8.12"
    }
  },
  "nbformat": 4,
  "nbformat_minor": 0
}
