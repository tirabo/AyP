{
  "cells": [
    {
      "cell_type": "markdown",
      "metadata": {
        "id": "tOijOcduNSRi"
      },
      "source": [
        "## 5. Recursión\n",
        "\n",
        "Después de hacer esta práctica te recomiendo que visites la página\n",
        "\n",
        "[https://inventwithpython.com/blog/2021/10/04/22-examples-of-recursive-functions-in-python/](https://inventwithpython.com/blog/2021/10/04/22-examples-of-recursive-functions-in-python/)\n",
        "\n",
        "donde hay 22 ejemplos de recursión muy interesantes desde búsqueda binaria y números combinatorios, pasando por la Torres de Hanoi, y el problema de las 8 reinas, también hay ejemplos de algoritmos recursivos para dibujar fractales.  "
      ]
    },
    {
      "cell_type": "markdown",
      "metadata": {},
      "source": [
        "### 1° Parte. Funciones recursivas"
      ]
    },
    {
      "cell_type": "markdown",
      "metadata": {
        "id": "0fcc1PKPV5fq"
      },
      "source": [
        "**Ejercicio 1.** Implementar las siguientes funciones con dominio en $\\mathbb N$, en forma recursiva:\n",
        "\\begin{equation*}\n",
        "f(n) = \\left\\{\n",
        "\\begin{matrix}\n",
        "1 &\\quad\\text{si $n=1$,} \\\\\n",
        "2f(n-1) + n^2&\\quad\\text{si $n>1$.}\n",
        "\\end{matrix}    \n",
        "\\right.\n",
        "\\qquad\n",
        "g(n) = \\left\\{\n",
        "\\begin{matrix}\n",
        "-1 &\\quad\\text{si $n=1$,} \\\\\n",
        "g(n-1)^2 + 2n-3&\\quad\\text{si $n>1$.}\n",
        "\\end{matrix}    \n",
        "\\right.\n",
        "\\end{equation*}"
      ]
    },
    {
      "cell_type": "code",
      "execution_count": null,
      "metadata": {
        "id": "NtH99kDqcGw8"
      },
      "outputs": [],
      "source": [
        "# Solución\n",
        "def f(n):\n",
        "    if n == 1:\n",
        "        return 1\n",
        "    else:\n",
        "        return 2 * f(n-1) + n**2\n",
        "\n",
        "def g(n):\n",
        "    if n == 1:\n",
        "        return -1\n",
        "    else:\n",
        "        return g(n-1)**2 + 2 * n -3"
      ]
    },
    {
      "cell_type": "markdown",
      "metadata": {
        "id": "IAP592l8XH4y"
      },
      "source": [
        "**Ejercicio 2.**\n",
        "\n",
        "1. Implementar las siguientes funciones en forma recursiva:\n",
        "\n",
        "\\begin{align*}\n",
        "f(n) &= \\left\\{\n",
        "\\begin{matrix}\n",
        "1 &\\quad\\text{si $n=0$,} \\\\\n",
        "-2&\\quad\\text{si $n=1$,} \\\\\n",
        "2f(n-1) + f(n-2)^2+ n^2&\\quad\\text{si $n$ entero y $n>1$.}\n",
        "\\end{matrix}    \n",
        "\\right.\n",
        "\\\\\n",
        "\\\\\n",
        "g(n) &= \\left\\{\n",
        "\\begin{matrix}\n",
        "-1 &\\quad\\text{si $n=2$,} \\\\\n",
        "5 &\\quad\\text{si $n=3$,} \\\\\n",
        "g(n-1)^2 + 2g(n-2) + 2n-3&\\quad\\text{si $n>3$, entero.}\n",
        "\\end{matrix}    \n",
        "\\right.\n",
        "\\end{align*}\n",
        "\n",
        "\n",
        "2. Calcular $f(10)$ y $g(10)$.\n"
      ]
    },
    {
      "cell_type": "code",
      "execution_count": null,
      "metadata": {
        "id": "CPfpBWCzcHev"
      },
      "outputs": [],
      "source": [
        "# Solución\n",
        "def f(n):\n",
        "    if n == 0:\n",
        "        return 1\n",
        "    elif n == 1:\n",
        "        return -2\n",
        "    else:\n",
        "        return 2 * f(n-1) + f(n-2)**2 + n**2\n",
        "\n",
        "def g(n):\n",
        "    if n == 2:\n",
        "        return -1\n",
        "    elif n == 3:\n",
        "        return 5\n",
        "    else:\n",
        "        return g(n-1)**2 + 2 * g(n-2) + 2 * n - 3\n",
        "\n",
        "\n",
        "print(f(10)) # 78372086639509\n",
        "print(g(10)) # 825932318305020056226987883954621217173284864500834640566847783835948403477259044589087693550"
      ]
    },
    {
      "cell_type": "markdown",
      "metadata": {
        "id": "1cK5oSmfcIpm"
      },
      "source": [
        "**Ejerccio 3.** Programe una función recursiva para verificar si una palabra es un palíndromo, es decir una palabra que se lee igual de izquierda a derecha  que de derecha a izquierda.\n",
        "\n",
        "Ejemplos.\n",
        "\n",
        "1. `palindromo('ab')` devuelve `False`.\n",
        "2. `palindromo('anana')` devuelve `True`.\n",
        "3. `palindromo('aabbaa')` devuelve `True`.\n",
        "4. `palindromo('aabaa')` devuelve `True`.\n",
        "5. `palindromo('neuquen')` devuelve `True`.\n",
        "3. `palindromo('Neuquen')` devuelve `False`."
      ]
    },
    {
      "cell_type": "code",
      "execution_count": 3,
      "metadata": {
        "id": "25geFW-Vlb1n"
      },
      "outputs": [],
      "source": [
        "# Solución\n",
        "def palindromo(cadena):\n",
        "    \"\"\" \n",
        "    pre: cadena es un string\n",
        "    post: devuelve True si cadena es palíndromo, False en caso contrario\n",
        "    \"\"\"\n",
        "    if len(cadena) < 2:\n",
        "        return True\n",
        "    else:\n",
        "        return cadena[0] == cadena[-1] and palindromo(cadena[1:-1])"
      ]
    },
    {
      "cell_type": "code",
      "execution_count": null,
      "metadata": {},
      "outputs": [],
      "source": [
        "# Pruebas\n",
        "print(palindromo('ab')) # False \n",
        "print(palindromo('anana')) # True\n",
        "print(palindromo('aabbaa')) # True\n",
        "print(palindromo('aabaa')) # True\n",
        "print(palindromo('neuquen')) # True\n",
        "print(palindromo('Neuquen')) # False"
      ]
    },
    {
      "cell_type": "markdown",
      "metadata": {
        "id": "BUFGeyUjl3pc"
      },
      "source": [
        "**Ejercicio 4.** Implemente las siguientes funciones recursivas.\n",
        "\n",
        "1.\n",
        "\n",
        "\\begin{equation*}\n",
        "h(n) = \\left\\{\n",
        "    \\begin{matrix}\n",
        "    1 &\\quad \\text{si $n=0$,}\\\\\n",
        "    h(n-1)^2 & \\text{si $n>0$.}\n",
        "    \\end{matrix}\n",
        "    \\right.\n",
        "\\end{equation*}\n",
        "2.\n",
        "\n",
        "\\begin{equation*}\n",
        "g(x, y) = \\left\\{\n",
        "    \\begin{matrix}\n",
        "    0 &\\quad \\text{si $x=0$,}\\\\\n",
        "    0 &\\quad \\text{si $y=0$,}\\\\\n",
        "    1 + g(x-1,y-1) & \\text{si $x>0$ e $y >0$.}\n",
        "    \\end{matrix}\n",
        "    \\right.\n",
        "\\end{equation*}\n",
        "Observar que la función $g(x,y)$ tiene un dominio muy particular. Especificar el  dominio  y hacer un `assert` para verificar que los parámetros `x` e `y` sean correctos.\n",
        "\n",
        "3.\n",
        "\n",
        "\\begin{equation*}\n",
        "f(i) = \\left\\{\n",
        "    \\begin{matrix}\n",
        "    i &\\quad \\text{si $i=0$,}\\\\\n",
        "    i + f(i-1) &\\quad \\text{si $$ es par,}\\\\\n",
        "    f(i-1) & \\text{si $i$ es impar.}\n",
        "    \\end{matrix}\n",
        "    \\right.\n",
        "\\end{equation*}\n",
        "4.\n",
        "\n",
        "\\begin{equation*}\n",
        "t(i) = \\left\\{\n",
        "    \\begin{matrix}\n",
        "    1 &\\quad \\text{si $i=0$,}\\\\\n",
        "    i + \\operatorname{min}(2t(\\lfloor {i/2}\\rfloor), 3t(\\lfloor i/3 \\rfloor) & \\text{si $i>0$.}\n",
        "    \\end{matrix}\n",
        "    \\right.\n",
        "\\end{equation*}\n",
        "Donde si $x \\in \\mathbb R$, el símbolo $\\lfloor x \\rfloor$ denota el *piso* de $x$,  es decir el mayor entero menor o igual a $x$.\n",
        "\n",
        "\n"
      ]
    },
    {
      "cell_type": "code",
      "execution_count": null,
      "metadata": {
        "id": "MPxwPvFMqGLK"
      },
      "outputs": [],
      "source": [
        "# Soluciones\n",
        "\n",
        "# 1.\n",
        "def h(n):\n",
        "    if n == 0:\n",
        "        return 1\n",
        "    else:\n",
        "        return h(n-1)**2\n",
        "\n",
        "# 2.\n",
        "def g(x, y):\n",
        "    assert (x == 0 ) or (y == 0) or (x > 0 and y > 0), 'los parámetros deben estar en el dominio de la función'\n",
        "    if x == 0:\n",
        "        return 0\n",
        "    elif y == 0:\n",
        "        return 0\n",
        "    else:\n",
        "        return 1 + g(x-1, y-1)\n",
        "\n",
        "# 3.\n",
        "def f(i):\n",
        "    if i == 0:\n",
        "        return 1\n",
        "    elif i % 2 == 0:\n",
        "        return i + f(i-1)\n",
        "    else:\n",
        "        return f(i-1)\n",
        "\n",
        "# 4. \n",
        "def t(n):\n",
        "    if n == 0:\n",
        "        return 1\n",
        "    else:\n",
        "        return i + min(2 * t(i // 2), 3 * t(i // 3))"
      ]
    },
    {
      "cell_type": "markdown",
      "metadata": {
        "id": "nTJL2JB1Nqws"
      },
      "source": [
        "**Ejercicio 5.** $x^n$: elevar un número $x$ a una potencia entera no negativa se puede resolver con un ciclo `for` que devuelva $x \\cdot x \\cdots\\ x\\cdot  x$, $n$ veces, pero en este ejercicio se pide resolverlo definiendo una función que utiliza \"recursión en $n$\". Aunque, se puede tomar $0^0$ igual a $1$ o igual a $0$,  en ciencias de la computación es conveniente tomar $0^0 = 1$."
      ]
    },
    {
      "cell_type": "code",
      "execution_count": null,
      "metadata": {
        "id": "OrPMkO7iOm0c"
      },
      "outputs": [],
      "source": [
        "# Solución\n",
        "def potencia(x, n):\n",
        "    \"\"\"\n",
        "    pre: x es un número real y n es un número entero no negativo\n",
        "    post: devuelve x elevado a la n\n",
        "    \"\"\"\n",
        "    if n == 0:\n",
        "        return 1\n",
        "    else:\n",
        "        return x * potencia(x, n-1)"
      ]
    },
    {
      "cell_type": "markdown",
      "metadata": {
        "id": "SwYfsUTROnBa"
      },
      "source": [
        "\n",
        "**Ejercicio 6.** Dados $n$ y $m$  enteros no negativos y $m$ nop nulo, dar una función recursiva que divida $n$ por $m$ y devuelva su cociente (sin usar `//`, ni `/`). Los dos casos a considerar son $n < m$ (este sería el caso base) y $n \\ge m$. \n",
        "\n",
        "*Observación.* La división es  una \"resta generalizada\", por ejemplo $23$ dividido $5$ es $4$, pues $5$ \"cabe\" cuatro veces en  $23$ o dicho de otra forma: puedo restar $4$ veces el $5$ a $23$ y lo que me queda (que es el resto) es no negativo y menor a $5$. Si resto una vez más el $5$ obtengo un número negativo.\n",
        "\n",
        "Más formalmente, si $n \\ge m$, vale la siguiente fórmula:\n",
        "\\begin{equation*}\n",
        "n / m = (n - m) / m \\;+ \\;1,\n",
        "\\end{equation*}\n",
        "donde $/$ denota la división entera."
      ]
    },
    {
      "cell_type": "code",
      "execution_count": null,
      "metadata": {
        "id": "GdtXYnrVQCRL"
      },
      "outputs": [],
      "source": [
        "# Solución\n",
        "def division_entera(n, m):\n",
        "    \"\"\"\n",
        "    pre: n y m son números enteros no negativos, m no nulo\n",
        "    post: devuelve el cociente de la división entera de n por m\n",
        "    \"\"\"\n",
        "    if n < m:\n",
        "        return 0\n",
        "    else:\n",
        "        return 1 + division_entera(n-m, m)"
      ]
    },
    {
      "cell_type": "markdown",
      "metadata": {
        "id": "VVdVm4fWO7m3"
      },
      "source": [
        "**Ejercicio 7.** Ahora una definición que devuelva  cociente y resto de una división entera. Para ello podés utilizar `return a, b` para devolver dos valores. En la llamada recursiva podés escribir `x, y = div(n, m)` para que guarde el primer valor que devuelve en `x`, el segundo en `y`.\n",
        "\n",
        "El  ejercicio es un poco engañoso respecto a como usar recursión para obtener el resto, pues el resto permanece invariante en todo el cálculo.  Es decir, el resto de $n/m$ es igual al resto de $(n-m)/m$ (división entera)."
      ]
    },
    {
      "cell_type": "code",
      "execution_count": 7,
      "metadata": {
        "id": "2Q_a8mqnPzft"
      },
      "outputs": [],
      "source": [
        "# Solución\n",
        "def div(n, m):\n",
        "    \"\"\"\n",
        "    pre: n y m son números enteros no negativos, m no nulo\n",
        "    post: devuelve el cociente de la división entera de n por m\n",
        "    \"\"\"\n",
        "    if n < m:\n",
        "        return 0, n\n",
        "    else:\n",
        "        return 1 + div(n-m, m)[0], div(n-m, m)[1]"
      ]
    },
    {
      "cell_type": "code",
      "execution_count": null,
      "metadata": {},
      "outputs": [],
      "source": [
        "# Pruebas\n",
        "print(div(10, 3)) # (3, 1)\n",
        "print(div(10, 2)) # (5, 0)\n",
        "print(div(10, 5)) # (2, 0)\n",
        "print(div(0, 3)) # (0, 0)\n",
        "print(div(30, 7)) # (4, 2)"
      ]
    },
    {
      "cell_type": "markdown",
      "metadata": {
        "id": "ksxt6WstPz7n"
      },
      "source": [
        "**Ejercicio 8**. Definir una función recursiva que calcula el divisor común mayor entre dos números enteros no negativos, uno de ellos no nulo. Hay varias formas de analizar los casos, una posibilidad sencilla es considerar 3 casos.\n",
        "- $\\operatorname{mcd}(n, 0) = \\operatorname{mcd}(0, n) = n$,     si $n > 0$ (caso base),\n",
        "- $\\operatorname{mcd}(n,m) = \\operatorname{mcd}(n-m,m)$, si $n \\ge  m$,\n",
        "- $\\operatorname{mcd}(n,m) = \\operatorname{mcd}(n,m-n)$, si $n < m$.\n",
        "\n",
        "¿Cuál es la precondición?\n"
      ]
    },
    {
      "cell_type": "code",
      "execution_count": 11,
      "metadata": {
        "id": "RDvJTgQfT74G"
      },
      "outputs": [],
      "source": [
        "# Solución\n",
        "def mcd(n, m):\n",
        "    \"\"\"\n",
        "    pre: n y m son números enteros no negativos, uno de ellos no nulo\n",
        "    post: devuelve el máximo común divisor de n y m\n",
        "    \"\"\"\n",
        "    assert type(n) == int and type(m) == int, 'n y m deben ser números enteros'\n",
        "    assert (n > 0 and m >= 0) or (n >= 0 and m > 0), 'n y m deben ser no negativos, uno de ellos no nulo'\n",
        "    if m == 0:\n",
        "        return n\n",
        "    elif n == 0:\n",
        "        return m\n",
        "    elif n >= m:\n",
        "        return mcd(n -m, m)\n",
        "    else:\n",
        "        return mcd(n, m - n)"
      ]
    },
    {
      "cell_type": "code",
      "execution_count": null,
      "metadata": {},
      "outputs": [],
      "source": [
        "# Pruebas\n",
        "print(mcd(10, 3)) # 1\n",
        "print(mcd(10, 2)) # 2\n",
        "print(mcd(10, 5)) # 5\n",
        "print(mcd(0, 3)) # 3\n",
        "print(mcd(30, 7)) # 1\n",
        "print(mcd(90, 315)) # 45"
      ]
    },
    {
      "cell_type": "markdown",
      "metadata": {
        "id": "shC-Hwm3QYpz"
      },
      "source": [
        "**Ejercicio 9.** El divisor común mayor $d$ entre dos números enteros $n$ y $m$ satisface que existen $a$ y $b$ enteros tales que $d = a \\cdot n + b \\cdot m$. Definí `mcd2()` que devuelva una terna (acordate que podés escribir `return d, a, b` y `x, y, z = mcd2(n,m)`). La idea es que si `d`, `a`, `b` es el resultado de `mcd2(n,m)` entonces `d` es el divisor común mayor y `d == a * n + b * m`.\n",
        "\n",
        "Observar que los casos base son cuando $n = 0$, en ese caso el máximo común divisor es $m$ y $m = 0 \\cdot n + 1 \\cdot m$ (en realidad lo que multiplica a $n$ podría ser cualquier número). Análogamente, cuando $m = 0$, el máximo común divisor es $n$ y $n = 1 \\cdot n + 0 \\cdot m$.\n",
        "\n",
        "Para el caso recursivo tener en cuenta\n",
        "\n",
        "- si $n \\ge m$, entonces  $\\operatorname{mcd}(n,m) = \\operatorname{mcd}(n-m,m)$ y si $\\operatorname{mcd}(n-m,m) = a_0 \\cdot (n - m) + b_0 \\cdot m$, entonces $\\operatorname{mcd}(n,m) = a_0 \\cdot n  + (b_0 - a_0) \\cdot m$.\n",
        "- Análogamente, si $n < m$, entonces $\\operatorname{mcd}(n,m) = \\operatorname{mcd}(n,m-n)$ y si $\\operatorname{mcd}(n,m-n) = a_0 \\cdot n + b_0 \\cdot (m - n)$, entonces $\\operatorname{mcd}(n,m) = (a_0 -b_0) \\cdot n  + b_0 \\cdot m$."
      ]
    },
    {
      "cell_type": "code",
      "execution_count": 15,
      "metadata": {
        "id": "Jy1Zhsxvd5KE"
      },
      "outputs": [],
      "source": [
        "# Solución\n",
        "def mcd2(n, m):\n",
        "    \"\"\"\n",
        "    pre: n y m son números enteros no negativos, uno de ellos no nulo\n",
        "    post: devuelve el máximo común divisor de n y m\n",
        "    \"\"\"\n",
        "    assert type(n) == int and type(m) == int, 'n y m deben ser números enteros'\n",
        "    assert (n > 0 and m >= 0) or (n >= 0 and m > 0), 'n y m deben ser no negativos, uno de ellos no nulo'\n",
        "    if n == 0:\n",
        "        return m, 0, 1\n",
        "    elif m == 0:\n",
        "        return n, 1, 0\n",
        "    elif n >= m:\n",
        "        d0, a0, b0 =  mcd2(n - m, m)\n",
        "        return d0, a0, b0 - a0\n",
        "    else:\n",
        "        d0, a0, b0 =  mcd2(n, m - n)\n",
        "        return d0, a0 - b0, b0"
      ]
    },
    {
      "cell_type": "code",
      "execution_count": null,
      "metadata": {},
      "outputs": [],
      "source": [
        "# Pruebas\n",
        "d, a, b = mcd2(10, 3)\n",
        "print(d, a, b) # 1 1 -3 o 1 -2 7\n",
        "print(a * 10 + b * 3) # 1\n",
        "\n",
        "d, a, b = mcd2(10, 2)\n",
        "print(d, a, b) # (2, 0, 1)\n",
        "print(a*10 + b*2) # 2\n",
        "\n",
        "d, a, b = mcd2(10, 5)\n",
        "print(d, a, b) # (5, 0, 1)\n",
        "print(a*10 + b*5) # 5\n",
        "\n",
        "d, a, b = mcd2(0, 3)\n",
        "print(d, a, b) # (3, 0, 1)\n",
        "print(a*0 + b*3) # 3\n",
        "\n",
        "d, a, b = mcd2(30, 7) \n",
        "print(d, a, b) # 1 -3 13\n",
        "print(a*30 + b*7) # 1\n",
        "\n",
        "d, a, b = mcd2(90, 315)\n",
        "print(d, a, b) # 45 -3 1\n",
        "print(a*90 + b*315) # 45\n",
        "\n",
        "d, a, b = mcd2(321, 437)\n",
        "print(d, a, b) # 1 -162 119\n",
        "print(a*321 + b*437) # 1\n"
      ]
    },
    {
      "cell_type": "markdown",
      "metadata": {
        "id": "LgWJfqnzRHm-"
      },
      "source": [
        "**Ejercicio 10.** Para $n$ entero no negativo y $m$ entero entre $0$ y $n$ se define el número combinatorio  o coeficiente binomial, que es de gran importancia en matemática, de la siguiente manera:\n",
        "\\begin{equation*}\n",
        "\\binom{n}{m} = \\frac{n!}{(n-m)!m!}.\n",
        "\\end{equation*}\n",
        "\n",
        "El número  combinantorio  aparece en el desarrollo de la potencia del binomio:\n",
        "\\begin{equation*}\n",
        "(a+b)^n = \\sum_{k=0}^n  \\binom{n}{k} a^{n-k}b^{k},\n",
        "\\end{equation*}\n",
        " de donde surge el nombre *coeficiente binomial*. También se utiliza extensivamente en el cálculo de probabilidades puesto que  $\\displaystyle\\binom{n}{m}$ mide el número de combinaciones (de allí *número combinatorio*) posibles de  $m$ elementos eligiendo libremente de un conjunto donde hay $n$ elementos.\n",
        "\n",
        "\n",
        "El teorema de Pascal dice que ese número también se puede calcular de manera recursiva. Por la fórmula anterior $\\displaystyle\\binom{n}{0} = \\binom{n}{n} = 1$. Si $m>0$, entonces $n$ también debe serlo pues $n \\ge m$. En tal caso el teorema dice que\n",
        "\\begin{equation*}\n",
        "\\binom{n}{m} = \\binom{n-1}{m-1} + \\binom{n-1}{m}.\n",
        "\\end{equation*}\n",
        "Utilizar este teorema para dar una definición recursiva del número combinatorio . ¿Cuál es la precondición?"
      ]
    },
    {
      "cell_type": "code",
      "execution_count": null,
      "metadata": {
        "id": "4q2twW1bT9N9"
      },
      "outputs": [],
      "source": [
        "# Solución\n",
        "def combinatorio(n, m):\n",
        "    \"\"\" \n",
        "    pre: n y m son números enteros no negativos, n >= m\n",
        "    post: devuelve el coeficiente binomial  (n m)\n",
        "    \"\"\"\n",
        "    if m == 0 or n == m:\n",
        "        return 1\n",
        "    else:\n",
        "        return combinatorio(n-1, m-1) + combinatorio(n-1, m)"
      ]
    },
    {
      "cell_type": "markdown",
      "metadata": {},
      "source": [
        "### 2° Parte. Recursión sobre listas"
      ]
    },
    {
      "cell_type": "markdown",
      "metadata": {
        "id": "Tk84T6zfWFNb"
      },
      "source": [
        "**Ejercicio 11.** Dar una versión recursiva de la definición de mínimo de una lista de enteros. Si la lista es vacía devuelve `None`.\n"
      ]
    },
    {
      "cell_type": "code",
      "execution_count": null,
      "metadata": {
        "id": "ZkfgS0YkVw56"
      },
      "outputs": [],
      "source": [
        "# Solución\n",
        "def minimo(lista):\n",
        "    \"\"\"\n",
        "    pre: lista es una lista de números enteros no vacía\n",
        "    post: devuelve el mínimo de la lista\n",
        "    \"\"\"\n",
        "    if len(lista) == 0:\n",
        "        return None\n",
        "    elif len(lista) == 1:\n",
        "        return lista[0]\n",
        "    else:\n",
        "        return min(lista[0], minimo(lista[1:]))"
      ]
    },
    {
      "cell_type": "markdown",
      "metadata": {
        "id": "NpoaOv7bWY_u"
      },
      "source": [
        "**Ejercicio 12.** Dar una versión recursiva de la definición de la función `son_todos_primos()` de una lista que devuelve `True` si la lista es de números primos. Debe hacerse una función auxiliar  `es_primo()` (que puede ser recursiva o no) que indique si un número es primo.\n"
      ]
    },
    {
      "cell_type": "code",
      "execution_count": null,
      "metadata": {
        "id": "CqF64FepWURS"
      },
      "outputs": [],
      "source": [
        "# Solución \n",
        "\n",
        "def es_primo(n):\n",
        "    \"\"\"\n",
        "    pre: n es un número entero no negativo\n",
        "    post: devuelve True si n es primo, False en caso contrario\n",
        "    \"\"\"\n",
        "    devolver = True\n",
        "    if n < 2:\n",
        "        devolver = False\n",
        "    else:\n",
        "        for i in range(2, int(n ** 0.5) + 1):\n",
        "            if n % i == 0:\n",
        "                devolver = False\n",
        "    return devolver\n",
        "\n",
        "def son_todos_primos(lista):\n",
        "    \"\"\"\n",
        "    pre: lista es una lista de números enteros no negativos\n",
        "    post: devuelve True si todos los elementos de la lista son primos, False en caso contrario\n",
        "    \"\"\"\n",
        "    if len(lista) == 0:\n",
        "        return True\n",
        "    else:\n",
        "        return es_primo(lista[0]) and son_todos_primos(lista[1:])\n"
      ]
    },
    {
      "cell_type": "markdown",
      "metadata": {
        "id": "ASeyITVMWckn"
      },
      "source": [
        "**Ejercicio 13.** En una versión de la búsqueda lineal de un elemento en una lista se compara el elemento buscado  secuencialmente con cada elemento de la lista y se continúa hasta que se lo encuentra, en ese caso se devuelve `True`. Si no se encuentra ninguna coincidencia se devuelve `False`.\n",
        "\n",
        "Una implementación iterativa de búsqueda lineal es la siguiente:"
      ]
    },
    {
      "cell_type": "code",
      "execution_count": null,
      "metadata": {
        "id": "bJFwRrYSWc3S"
      },
      "outputs": [],
      "source": [
        "def busqueda_lineal(elem, lista):\n",
        "    ret = False\n",
        "    for i in range(len(lista)):\n",
        "        if elem == lista[i]:\n",
        "            ret = True\n",
        "    return ret"
      ]
    },
    {
      "cell_type": "markdown",
      "metadata": {
        "id": "koifSz_ofVat"
      },
      "source": [
        "Implementar búqueda lineal de manera recursiva."
      ]
    },
    {
      "cell_type": "code",
      "execution_count": null,
      "metadata": {
        "id": "fKrzbizFfddR"
      },
      "outputs": [],
      "source": [
        "# Solución\n",
        "def busqueda_lineal_recursiva(elem, lista):\n",
        "    if len(lista) == 0:\n",
        "        return False\n",
        "    else:\n",
        "        return elem == lista[0] or busqueda_lineal_recursiva(elem, lista[1:])"
      ]
    },
    {
      "cell_type": "markdown",
      "metadata": {
        "id": "xMfyu1Lz-gNv"
      },
      "source": [
        "**Ejercicio 14.** Una versión más avanzada de búsqueda lineal devuelve un entero: si la primera vez que aparece el elemento en la lista se encuentra en la posición `k`, devuelve `k`. Si el elemento no se encuentra en la lista entonces devuelve  `-1`."
      ]
    },
    {
      "cell_type": "code",
      "execution_count": 32,
      "metadata": {
        "id": "NwYQAPGuPgl3"
      },
      "outputs": [],
      "source": [
        "# Solución\n",
        "def busqueda_lineal_recursiva_2(elem, lista):\n",
        "    \"\"\"\n",
        "    pre: elem es un elemento, lista es una lista\n",
        "    post: devuelve la posición de la primera ocurrencia de elem en lista o -1 si no encuentra el elemento.\n",
        "    \"\"\"\n",
        "    if len(lista) == 0:\n",
        "        return -1\n",
        "    else:\n",
        "        if elem == lista[0]:\n",
        "            return 0\n",
        "        else:\n",
        "            k = busqueda_lineal_recursiva_2(elem, lista[1:])\n",
        "            if k == -1:\n",
        "                return -1\n",
        "            else:\n",
        "                return 1 + k"
      ]
    },
    {
      "cell_type": "code",
      "execution_count": 51,
      "metadata": {},
      "outputs": [
        {
          "name": "stdout",
          "output_type": "stream",
          "text": [
            "[13, 5, 8, 3, 1, 6, 9, 13, 15, 8, 1, 8, 13, 2, 3, 10, 11, 11, 1, 7]\n",
            "15\n",
            "15\n"
          ]
        }
      ],
      "source": [
        "# Pruebas (repita varias veces para ver diferentes resultados)\n",
        "from random import randint\n",
        "\n",
        "lista = [randint(1, 15) for i in range(20)]\n",
        "print(lista)\n",
        "print(busqueda_lineal_recursiva_2(10, lista))\n",
        "if 10 in lista:\n",
        "    print(lista.index(10))\n",
        "else:\n",
        "    print(-1)"
      ]
    },
    {
      "cell_type": "markdown",
      "metadata": {
        "id": "CMOWbJ0vWihn"
      },
      "source": [
        "**Ejercicio 15.**\n",
        "\n",
        "La búsqueda binaria es el otro método de búsqueda habitual para una lista de valores ordenada. La búsqueda binaria devuelve la posición en la lista del elemento buscado y en caso de que el elemento no se encuentre devuelve -1. Si el elemento se encuentra en varias posiciones, devuelve alguna de ellas. La búsqueda binaria es mucho más rápida que la búsqueda lineal, pero para que funcione los elementos de la lista deben estar ya ordenados.\n",
        "\n",
        "Supongamos que la lista está en orden ascendente. Una búsqueda binaria compara primero el elemento buscado con el elemento situado en el centro de la lista. Considere los tres casos siguientes:\n",
        "\n",
        "- Si la clave es menor que el elemento de la mitad de la lista, hay que seguir buscando la clave sólo en la primera mitad de la lista.\n",
        "- Si la clave es igual al elemento central de la lista, la búsqueda termina con una coincidencia.\n",
        "- Si la clave es mayor que el elemento central de la lista, hay que seguir buscando la clave sólo en la segunda mitad de la lista.\n",
        "\n",
        "Dar una versión recursiva de la búsqueda binaria: debe llevar dos parámetros adicionales que indican entre cuáles posiciones de la lista se está buscando. Es decir la signatura de la función debe ser algo así:\n",
        "```\n",
        "def busqueda_binaria(elem, lista, izq, der)\n",
        "```\n",
        "y para obtener el resultado deseado debemos ejecutar:\n",
        "```\n",
        "def busqueda_binaria(elem, lista, 0, len(lista))\n",
        "```\n",
        "\n",
        "*Ejemplos.*\n",
        "```\n",
        "busqueda_binaria(13, [1, 4, 8, 11, 13, 16, 19, 19, 19, 21], 0, 9)\n",
        "```\n",
        "devuelve `4`.\n",
        "```\n",
        "busqueda_binaria(19, [1, 4, 8, 11, 13, 16, 19, 19, 19, 21], 0, 9)\n",
        "```\n",
        "devuelve `7`. Observar que `7` es la posición de la segunda ocurrencia de `19`.\n",
        "```\n",
        "busqueda_binaria(5, [1, 4, 8, 11, 13, 16, 19, 19, 21], 0, 8)\n",
        "```\n",
        "devuelve `-1`.\n",
        "\n",
        "**Otros ejemplos**\n",
        "1. `busqueda_binaria(19, [1, 4, 8, 11, 13, 16, 19, 19, 19, 21], 0, 6)` devuelve `6`.\n",
        "2. `busqueda_binaria(13, [1, 4, 8, 11, 13, 16, 19, 19, 19, 21], 2, 6)` devuelve `4`.\n",
        "2. `busqueda_binaria(13, [1, 4, 8, 11, 13, 16, 19, 19, 19, 21], 5, 8)` devuelve `-1`."
      ]
    },
    {
      "cell_type": "code",
      "execution_count": null,
      "metadata": {
        "id": "Gbk95mHdWit8"
      },
      "outputs": [],
      "source": [
        "# Solución\n",
        "def busqueda_binaria(elem, lista, izq, der):\n",
        "    \"\"\"\n",
        "    pre: elem es entero, lista  es una lista ordenada ascendente de enteros, 0 <= izq <= der < len(lista). len(lista) > 0.\n",
        "    post: devuelve la coordenada donde está elem entre izq y der. Si elem  no está,  devuelve -1.\n",
        "    \"\"\"\n",
        "    if izq == der:\n",
        "        if elem == lista[izq]:\n",
        "            return izq\n",
        "        else:\n",
        "            return -1\n",
        "    else:\n",
        "        medio = (izq + der) // 2\n",
        "        if elem == lista[medio]:\n",
        "            return medio\n",
        "        elif elem > lista[medio]:\n",
        "            return busqueda_binaria(elem, lista, medio + 1, der)\n",
        "        else:\n",
        "            return busqueda_binaria(elem, lista, izq, medio - 1)"
      ]
    },
    {
      "cell_type": "code",
      "execution_count": null,
      "metadata": {
        "colab": {
          "base_uri": "https://localhost:8080/"
        },
        "id": "f8EkN_NariT8",
        "outputId": "1fc6d102-308f-46b3-93b7-0683ff75f753"
      },
      "outputs": [],
      "source": [
        "# Pruebas\n",
        "print(busqueda_binaria(19, [1, 4, 8, 11, 13, 16, 19, 19, 19, 21], 0, 6)) # devuelve 6\n",
        "print(busqueda_binaria(19, [1, 19, 21], 0, 2)) # devuelve 1.\n",
        "print(busqueda_binaria(13, [1, 4, 8, 11, 13, 16, 19, 19, 19, 21], 2, 6)) # devuelve 4.\n",
        "print(busqueda_binaria(13, [1, 4, 8, 11, 13, 16, 19, 19, 19, 21], 5, 8)) # devuelve -1"
      ]
    }
  ],
  "metadata": {
    "colab": {
      "provenance": []
    },
    "kernelspec": {
      "display_name": "Python 3",
      "name": "python3"
    },
    "language_info": {
      "codemirror_mode": {
        "name": "ipython",
        "version": 3
      },
      "file_extension": ".py",
      "mimetype": "text/x-python",
      "name": "python",
      "nbconvert_exporter": "python",
      "pygments_lexer": "ipython3",
      "version": "3.10.4"
    }
  },
  "nbformat": 4,
  "nbformat_minor": 0
}
