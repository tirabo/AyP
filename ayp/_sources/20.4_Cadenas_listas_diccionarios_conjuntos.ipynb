{
  "cells": [
    {
      "cell_type": "markdown",
      "metadata": {
        "id": "f7MhyigAaW3j"
      },
      "source": [
        "## 4. Cadenas, listas, diccionarios y conjuntos\n",
        "\n",
        "### 1° Parte. Cadenas\n",
        "\n"
      ]
    },
    {
      "cell_type": "markdown",
      "metadata": {
        "id": "NCy4GGuAaXtr"
      },
      "source": [
        "**Ejercicio 1.** Escribir una función que recibe una cadena de caracteres y devuelve el número de letras `a` que hay en la cadena recibida.\n",
        "\n",
        "*Ejemplo.*\n",
        "\n",
        "\n",
        "```\n",
        "contar_a('sdaeraad') # devuelve 3\n",
        "contar_a('sdf ghhj aaa uiio abab') # devuelve 5\n",
        "```"
      ]
    },
    {
      "cell_type": "code",
      "execution_count": 2,
      "metadata": {
        "id": "sPdPV6M3IqCn"
      },
      "outputs": [],
      "source": [
        "# Solución\n",
        "def contar_a(cadena: str) -> int:\n",
        "    contador = 0\n",
        "    for letra in cadena:\n",
        "        if letra == \"a\":\n",
        "            contador += 1\n",
        "    return contador\n"
      ]
    },
    {
      "cell_type": "code",
      "execution_count": null,
      "metadata": {
        "colab": {
          "base_uri": "https://localhost:8080/"
        },
        "id": "cSDhKfHzWkmr",
        "outputId": "020b4fb1-779a-4198-faf9-aa16fd2bc737"
      },
      "outputs": [],
      "source": [
        "# Pruebas\n",
        "print(contar_a('sdaeraad')) #  3\n",
        "print(contar_a('sdf ghhj aaa uiio abab'))  # 5"
      ]
    },
    {
      "cell_type": "markdown",
      "metadata": {
        "id": "DpLVu4edagki"
      },
      "source": [
        "**Ejercicio 2.**\n",
        "Escribir una función como la anterior, solo que cuenta todas las `a` mayúsculas y minúsculas.\n"
      ]
    },
    {
      "cell_type": "code",
      "execution_count": 11,
      "metadata": {
        "id": "VbUUVfdkoJRI"
      },
      "outputs": [],
      "source": [
        "# Solución\n",
        "def contar_a_A(cadena: str) -> int:\n",
        "    \"\"\"\n",
        "    pre: cadena es una cadena de caracteres\n",
        "    post: devuelve la cantidad de letras 'a' y 'A' en la cadena\n",
        "    \"\"\"\n",
        "    contador = 0\n",
        "    for letra in cadena:\n",
        "        if letra == \"a\" or letra == \"A\":\n",
        "            contador += 1\n",
        "    return contador"
      ]
    },
    {
      "cell_type": "code",
      "execution_count": null,
      "metadata": {},
      "outputs": [],
      "source": [
        "# Pruebas\n",
        "print(contar_a_A('sdaeraad')) #  3\n",
        "print(contar_a_A('sdf ghhj aaa uiio abab'))  # 5\n",
        "print(contar_a_A('sdaAeraad')) #  4\n",
        "print(contar_a_A('sdf ghhj aAaAa uiio abab'))  # 7"
      ]
    },
    {
      "cell_type": "markdown",
      "metadata": {
        "id": "0eeA4sU4aj_R"
      },
      "source": [
        "**Ejercicio 3.** Definir la función `contar_a_b_c()` que recibe una cadena de caracteres y devuelve 3 números. El primero de esos números es el número de letras `a`, el segundo es el número de letras `b` y el tercero es el número de letras `c`.\n",
        "\n",
        "\n",
        "\n",
        "*Ejemplo.*\n",
        "```\n",
        "contar_abc('sdaerbaccad')\n",
        "```\n",
        "devuelve\n",
        "```\n",
        "3, 1, 2\n",
        "```\n",
        "\n"
      ]
    },
    {
      "cell_type": "code",
      "execution_count": 5,
      "metadata": {
        "id": "pgvVyCnrIu-d"
      },
      "outputs": [],
      "source": [
        "# Solución\n",
        "def contar_a_b_c(cadena: str) -> int:\n",
        "    \"\"\"\n",
        "    pre: cadena es una cadena de caracteres\n",
        "    post: devuelve la cantidad de letras 'a', 'b' y 'c', respectivamente,  en la cadena\n",
        "    \"\"\"\n",
        "    assert type(cadena) == str, \"el parámetro debe ser una cadena de caracteres\"\n",
        "    contador_a, contador_b, contador_c = 0, 0 , 0\n",
        "    for letra in cadena:\n",
        "        if letra == \"a\":\n",
        "            contador_a += 1\n",
        "        elif letra == \"b\":\n",
        "            contador_b += 1\n",
        "        elif letra == \"c\":\n",
        "            contador_c += 1\n",
        "    return contador_a, contador_b, contador_c"
      ]
    },
    {
      "cell_type": "code",
      "execution_count": null,
      "metadata": {},
      "outputs": [],
      "source": [
        "# Pruebas\n",
        "print(contar_a_b_c('sdaeraad')) #  (3, 0, 0)\n",
        "print(contar_a_b_c('cadena es una cadena de caracteres'))  # (7, 0, 4)\n",
        "print(contar_a_b_c(\"el parámetro debe ser una cadena de caracteres\")) #  (6, 1, 3)"
      ]
    },
    {
      "cell_type": "markdown",
      "metadata": {
        "id": "hJcYyT-oakUU"
      },
      "source": [
        "**Ejercicio 4.**  Igual que el anterior, pero ahora definir la función `contar_aA_bB_cC()` donde se se cuentan las `a` junto con las `A`, las `b` junto con `B` y las `c` junto con `C`.\n",
        "\n",
        "*Ejemplo.*\n",
        "```\n",
        "contar_aA_bB_cC()('arstABbcqqCaccbbb')\n",
        "```\n",
        "devuelve\n",
        "```\n",
        "3, 5, 4\n",
        "```"
      ]
    },
    {
      "cell_type": "code",
      "execution_count": 6,
      "metadata": {
        "id": "B01l6vhDakde"
      },
      "outputs": [],
      "source": [
        "# Solución\n",
        "def contar_aA_bB_cC(cadena: str) -> int:\n",
        "    \"\"\"\n",
        "    pre: cadena es una cadena de caracteres\n",
        "    post: devuelve la cantidad de letras 'a', 'b' y 'c', mayúsculas o minúsculas respectivamente,  en la cadena\n",
        "    \"\"\"\n",
        "    assert type(cadena) == str, \"el parámetro debe ser una cadena de caracteres\"\n",
        "    contador_a, contador_b, contador_c = 0, 0 , 0\n",
        "    for letra in cadena:\n",
        "        if letra == \"a\" or letra == \"A\":\n",
        "            contador_a += 1\n",
        "        elif letra == \"b\" or letra == \"B\":\n",
        "            contador_b += 1\n",
        "        elif letra == \"c\" or letra == \"C\":\n",
        "            contador_c += 1\n",
        "    return contador_a, contador_b, contador_c"
      ]
    },
    {
      "cell_type": "code",
      "execution_count": null,
      "metadata": {},
      "outputs": [],
      "source": [
        "# Pruebas\n",
        "print(contar_aA_bB_cC('arstABbcqqCaccbbb')) # (3, 5, 4)\n",
        "print(contar_aA_bB_cC('Cadena es una cadena de caracteres')) # (7, 0, 4)"
      ]
    },
    {
      "cell_type": "markdown",
      "metadata": {
        "id": "1GEN6ftXakoR"
      },
      "source": [
        "**Ejercicio 5.** Definir la  función `numeros_cadena()` que recibe 3 números enteros no negativos y devuelve una cadena de caracteres con tantas `a` como dice el primer número de la lista, tantas `b` como dice el segundo y tantas `c` como dice el tercero.\n",
        "*Ejemplo.*\n",
        "```\n",
        "numeros_cadena(3, 5, 4)\n",
        "```\n",
        "devuelve\n",
        "```\n",
        "aaabbbbbcccc\n",
        "```"
      ]
    },
    {
      "cell_type": "code",
      "execution_count": 7,
      "metadata": {
        "id": "Z17r5aaZI0NT"
      },
      "outputs": [],
      "source": [
        "# Solución\n",
        "def numeros_cadena(n1,n2,n3: int) -> str:\n",
        "    a = \"a\"*n1\n",
        "    b = \"b\"*n2\n",
        "    c = \"c\"*n3\n",
        "    return a + b +c"
      ]
    },
    {
      "cell_type": "code",
      "execution_count": null,
      "metadata": {
        "colab": {
          "base_uri": "https://localhost:8080/",
          "height": 35
        },
        "id": "rAgPGrkvZnYR",
        "outputId": "04b788d5-f5f5-41dc-a4c5-bbe9fa3932fa"
      },
      "outputs": [],
      "source": [
        "# Pruebas\n",
        "print(numeros_cadena(3, 5, 4)) # aaabbbbbcccc\n",
        "print(numeros_cadena(7, 0, 4)) # aaaaaaaacccc\n",
        "print('Cadena vacía:',numeros_cadena(0, 0, 0)) # Cadena vacía:"
      ]
    },
    {
      "cell_type": "markdown",
      "metadata": {
        "id": "HbdezIa4ak8L"
      },
      "source": [
        "**Ejercicio 6.** Definir la función `permutacion_ordenada()` que recibe una cadena de caracteres con letras `a`, `b` y `c`, minúsculas o mayúsculas, y devuelve una permutación *ordenada* de esa cadena, en minúsculas. Por ejemplo, si recibe `aABbcCaccbbb` devuelve `aaabbbbbcccc`. Debería poder hacerse en pocas líneas combinando las soluciones a los ejercicios 4 y 5.\n",
        "\n",
        "*Observación.* Si una función devuelve múltiples valores, podemos recuperar estos valores con una asignación múltiple. Por ejemplo, con la notación del  enunciado del ejercicio 4, si hacemos\n",
        "```\n",
        "na, nb, nc = contar_aAbBcC('aABbcCaccbbb')\n",
        "```\n",
        "obtenemos que  `na` vale 3,  `nb` vale 5 y `nc` vale 4."
      ]
    },
    {
      "cell_type": "code",
      "execution_count": 8,
      "metadata": {
        "id": "_8K7rkpLalFc"
      },
      "outputs": [],
      "source": [
        "# Solución\n",
        "def permutacion_ordenada(cadena_abc):\n",
        "    \"\"\"\n",
        "    pre: cadena_abc es una cadena de caracteres que contiene solo las letras 'a', 'A', 'b', 'B', 'c' y 'C'\n",
        "    post: devuelve una permutacion ordenada en minúsculas de la cadena\n",
        "    \"\"\"\n",
        "    assert type(cadena_abc) == str, \"el parámetro debe ser una cadena de caracteres\"\n",
        "    assert all(letra in \"aAbBcC\" for letra in cadena_abc), \"la cadena debe contener solo las letras 'a', 'A', 'b', 'B', 'c' y 'C'\"\n",
        "    if len(cadena_abc) == 0:\n",
        "        return \"\"\n",
        "    else:\n",
        "        nro_a, nro_b, nro_c =  contar_aA_bB_cC(cadena_abc)\n",
        "        return numeros_cadena(nro_a, nro_b, nro_c) "
      ]
    },
    {
      "cell_type": "code",
      "execution_count": null,
      "metadata": {},
      "outputs": [],
      "source": [
        "# Pruebas\n",
        "print(permutacion_ordenada('aABbcCaccbbb')) # aaabbbbbcccc\n",
        "print(permutacion_ordenada('bbbcaABbcCaccbbb')) # aaabbbbbbbbccccc\n",
        "print(permutacion_ordenada('cccbbbaaa')) # aaabbbccc\n",
        "print(permutacion_ordenada('')) #\n"
      ]
    },
    {
      "cell_type": "markdown",
      "metadata": {
        "id": "xgA3Y4gS_VkL"
      },
      "source": [
        "### 2° Parte. Listas"
      ]
    },
    {
      "cell_type": "markdown",
      "metadata": {
        "id": "gGkMsQwlXxqV"
      },
      "source": [
        "**Ejercicio 1.** Escribir las sentencias necesarias para hacer lo siguiente:\n",
        "\n",
        "1. Crear una lista con 10 valores booleanos falsos.\n",
        "2. Generar una lista de 10 números enteros aleatorios entre -50 y 50 y asignarla a la variable `ls`.\n",
        "3. Asignar el valor `5` al último elemento de la lista `ls`.\n",
        "4. Mostrar la suma de los dos primeros elementos de la lista `ls`.\n",
        "5. Calcular la suma de los cinco primeros elementos de la lista `ls`.\n",
        "6. Encontrar el elemento mínimo de la lista `ls` (sin usar `min`).\n",
        "7. Generar aleatoriamente un índice de 0 a 9 y mostrar el elemento de este índice en la lista `ls`.\n"
      ]
    },
    {
      "cell_type": "code",
      "execution_count": null,
      "metadata": {
        "colab": {
          "base_uri": "https://localhost:8080/"
        },
        "id": "r-etV-bbXyH8",
        "outputId": "150f2635-93fe-4332-9123-87f72fcafbdf"
      },
      "outputs": [],
      "source": [
        "# Soluciones\n",
        "from random import randint\n",
        "# 1.1\n",
        "lista = [False] * 10\n",
        "# 1.2\n",
        "ls = []\n",
        "for _ in range(10):\n",
        "    ls.append(randint(-50,50))\n",
        "print(\"La lista 'ls' es:\",ls)\n",
        "# 1.3\n",
        "ls[-1] = 5\n",
        "print('Reemplazamos el valor de la última coordenada por 5:',ls)\n",
        "# 1.4\n",
        "suma = ls[0] + ls[1]\n",
        "print('La suma de los dos primeros elementos de la lista es:',suma)\n",
        "# 1.5\n",
        "suma = 0\n",
        "for i in range(5):\n",
        "    suma += ls[i]\n",
        "print('La suma de los primeros 5 elementos de la lista es:',suma)\n",
        "# 1.6\n",
        "minimo = ls[0]\n",
        "for i in range(1,10):\n",
        "    if ls[i] < minimo:\n",
        "        minimo = ls[i]\n",
        "print('El mínimo valor de la lista es:',minimo)\n",
        "# 1.7\n",
        "indice = randint(0,9)\n",
        "print('El índice aleatorio es:',indice)\n",
        "print('El valor en la posición aleatoria es:',ls[indice])\n"
      ]
    },
    {
      "cell_type": "markdown",
      "metadata": {
        "id": "YDW5rDNzXy-3"
      },
      "source": [
        "**Ejercicio 2.** Predecir y explicar el porqué del comportamiento de cada uno de los siguentes programas."
      ]
    },
    {
      "cell_type": "code",
      "execution_count": null,
      "metadata": {
        "colab": {
          "base_uri": "https://localhost:8080/"
        },
        "id": "DwqgH2_xXzJz",
        "outputId": "7c615734-443d-4ecc-9e08-7391bb66df32"
      },
      "outputs": [],
      "source": [
        "def main():\n",
        "    numero = 0\n",
        "    numeros = [10]\n",
        "    m(numero, numeros)\n",
        "    print(\"numero es\", numero, \"y numeros[0] es\", numeros[0])\n",
        "\n",
        "def m(x, y):\n",
        "    x = 3\n",
        "    y[0] = 3\n",
        "\n",
        "main()"
      ]
    },
    {
      "cell_type": "markdown",
      "metadata": {},
      "source": [
        "**Respuesta.** siempre imprime `numero es 0 y numeros[0] es 3`. La función `m(x, y)` no modifica `x` y modifica la lista `y` haciendo que la primera coordenada valga `3`."
      ]
    },
    {
      "cell_type": "code",
      "execution_count": null,
      "metadata": {
        "colab": {
          "base_uri": "https://localhost:8080/"
        },
        "id": "yXE9LZSSceUE",
        "outputId": "f8ae16c1-a308-4ae8-e724-71821dec40b6"
      },
      "outputs": [],
      "source": [
        "def main():\n",
        "    lst = [1, 2, 3, 4, 5]\n",
        "    invertir(lst) # da vuelta la lista\n",
        "    for value in lst:\n",
        "        # print(lst[value-1])\n",
        "        print(lst[value-1], end = ' ')\n",
        "\n",
        "def invertir(lst):\n",
        "    nueva_lst = len(lst) * [0]\n",
        "    for i in range(len(lst)):\n",
        "        nueva_lst[i] = lst[len(lst) - 1 - i]\n",
        "    lst = nueva_lst\n",
        "    print(lst)\n",
        "\n",
        "main()"
      ]
    },
    {
      "cell_type": "markdown",
      "metadata": {},
      "source": [
        "**Respuesta.** La función `invertir()` solo imprime la lista que recibe en orden inverso, no devuelve nada o,  técniocamente, devuelve `None`. Por eso la primera linea que se produce cuando corremos el programa es `[5, 4, 3, 2, 1]`. Luego  la función `main()` imprime en orden inverso los elementos de la lista."
      ]
    },
    {
      "cell_type": "code",
      "execution_count": null,
      "metadata": {
        "colab": {
          "base_uri": "https://localhost:8080/"
        },
        "id": "lXLR8Nclcecv",
        "outputId": "5d4af6aa-bac9-480c-d271-eff1b12e6eba"
      },
      "outputs": [],
      "source": [
        "def main():\n",
        "    list1 = m(1)\n",
        "    print(list1)\n",
        "    list2 = m(1)\n",
        "    print(list2)\n",
        "\n",
        "def m(x, lst = [1, 1, 2, 3]):\n",
        "    if x in lst:\n",
        "        lst.remove(x)\n",
        "    return lst\n",
        "\n",
        "main()"
      ]
    },
    {
      "cell_type": "markdown",
      "metadata": {},
      "source": [
        "**Respuesta.** La función `m(x)` remueve el elemento `x` de la lista `[1, 1, 2, 3]`, si `x` se encuentra en la lista. La función `main()` remueve `1` de la lista, imprime la lista, después remueve el otro `1` de la lista y la imprime de nuevo."
      ]
    },
    {
      "cell_type": "code",
      "execution_count": null,
      "metadata": {
        "colab": {
          "base_uri": "https://localhost:8080/"
        },
        "id": "GuwUGNpKcelp",
        "outputId": "10559354-02a7-49b1-8b94-63300360ce19"
      },
      "outputs": [],
      "source": [
        "def main():\n",
        "    list1 = m(1)\n",
        "    print(list1)\n",
        "    list2 = m(1)\n",
        "    print(list2)\n",
        "\n",
        "def m(x, lst = None):\n",
        "    if lst == None:\n",
        "        lst = [1, 1, 2, 3]\n",
        "    if x in lst:\n",
        "        print(x)\n",
        "        lst.remove(x)\n",
        "    return lst\n",
        "\n",
        "main()"
      ]
    },
    {
      "cell_type": "markdown",
      "metadata": {},
      "source": [
        "**Respuesta.** La función `m(x)` crea la lista `[1, 1, 2, 3]`, luego saca `x` de la lista, si se encuentra en ella y devuelve la lista. La función `main()` crea dos listas con `m(1)` (son iguales) y las imprime."
      ]
    },
    {
      "cell_type": "markdown",
      "metadata": {
        "id": "DnQpkLjSXzUS"
      },
      "source": [
        "**Ejercicio 3.**\n",
        "Definir la función `lista_primos_hasta(n)` que dado un número natural $n \\ge 2$ devuelve la lista de todos los números primos entre $2$ y $n-1$.\n"
      ]
    },
    {
      "cell_type": "code",
      "execution_count": 27,
      "metadata": {
        "id": "ttevvr1GXzew"
      },
      "outputs": [],
      "source": [
        "# Solución\n",
        "def es_primo(n):\n",
        "    ret = True\n",
        "    for i in range(2, n):\n",
        "        if n % i == 0:\n",
        "            ret = False\n",
        "    return ret\n",
        "\n",
        "def lista_primos_hasta(n):\n",
        "    ret = []\n",
        "    for i in range(2, n):\n",
        "        if es_primo(i):\n",
        "            ret.append(i)\n",
        "    return ret"
      ]
    },
    {
      "cell_type": "code",
      "execution_count": null,
      "metadata": {
        "id": "2jH-RZa2Ug8Y"
      },
      "outputs": [],
      "source": [
        "# Pruebas\n",
        "print(lista_primos_hasta(10)) # [2, 3, 5, 7]\n",
        "print(lista_primos_hasta(20)) # [2, 3, 5, 7, 11, 13, 17, 19]\n",
        "print(lista_primos_hasta(30)) # [2, 3, 5, 7, 11, 13, 17, 19, 23, 29]\n"
      ]
    },
    {
      "cell_type": "markdown",
      "metadata": {
        "id": "fIYe2uPHXzpC"
      },
      "source": [
        "**Ejercicio 4.** Escribir la función `intercambia()` que recibe una lista y dos posiciones de la lista e intercambia los valores que hay en esas posiciones. No lleva `return` porque modifica la propia lista que recibe como parámetro. Acá podemos usar el `assert` para asegurarnos que las posiciones pertenezcan a la lista.\n"
      ]
    },
    {
      "cell_type": "code",
      "execution_count": 30,
      "metadata": {
        "colab": {
          "base_uri": "https://localhost:8080/"
        },
        "id": "Ew-S2nhKXz1b",
        "outputId": "99363bd8-2e8c-4de0-be41-3551680d62fe"
      },
      "outputs": [],
      "source": [
        "# Soluciones\n",
        "def intercambia(lista: list, i, j: int):\n",
        "    \"\"\"\n",
        "    pre: 0 <= i , j < len(lista)\n",
        "    pos: intercambia lista[i] con lista[j]\n",
        "    \"\"\"\n",
        "    assert type(lista) == list and type(i) == int and type(j) == int,'el primer parámetro debe ser tipo lista, los dos parámetros siguientes deben ser int'\n",
        "    assert 0 <= i < len(lista) and 0 <= j < len(lista), 'los índices deben estar dentro del rango de la lista'\n",
        "    lista[i], lista[j] = lista[j], lista[i]"
      ]
    },
    {
      "cell_type": "code",
      "execution_count": null,
      "metadata": {},
      "outputs": [],
      "source": [
        "# Pruebas\n",
        "lista = [1, 2, 3, 4, 5]\n",
        "print(lista)\n",
        "intercambia(lista, 0, 4)\n",
        "print(lista,'\\n') # [5, 2, 3, 4, 1]\n",
        "\n",
        "lista = [1, 2, 3, 4, 5]\n",
        "print(lista)\n",
        "intercambia(lista, 1, 3)\n",
        "print(lista,'\\n') # [1, 4, 3, 2, 5]\n",
        "\n",
        "lista = [1, 2, 3, 4, 5]\n",
        "print(lista)\n",
        "intercambia(lista, 2, 2)\n",
        "print(lista,'\\n') # [1, 2, 3, 4, 5]"
      ]
    },
    {
      "cell_type": "markdown",
      "metadata": {
        "id": "nEly6ZIoYx1t"
      },
      "source": [
        "**Ejercicio 5.** Escribir la función `pos()` que  dado un elemento, devuelve la posición que ese elemento tiene en la lista. Si el elemento no está en la lista devuelve $-1$. No  utilizar el método `index()`. "
      ]
    },
    {
      "cell_type": "code",
      "execution_count": 35,
      "metadata": {
        "id": "ATb38YZ9xmW2"
      },
      "outputs": [],
      "source": [
        "# Solución\n",
        "def pos(x, list: list) -> int:\n",
        "    devuelve = -1\n",
        "    for k in range(len(list)):\n",
        "        if list[k] == x:\n",
        "            devuelve = k\n",
        "    return devuelve"
      ]
    },
    {
      "cell_type": "code",
      "execution_count": null,
      "metadata": {
        "colab": {
          "base_uri": "https://localhost:8080/"
        },
        "id": "de1BQO5EhhL7",
        "outputId": "d3b7bb55-4f9d-43c9-9dee-b8cf3e5fcca5"
      },
      "outputs": [],
      "source": [
        "# Pruebas\n",
        "print(pos(6, [1,2,3,4,5])) # -1\n",
        "print(pos(3, [1,2,3,4,5])) # 2\n",
        "print(pos(1, [1,2,3,4,5])) # 0\n"
      ]
    },
    {
      "cell_type": "markdown",
      "metadata": {
        "id": "QaWIBkeOYymB"
      },
      "source": [
        "**Ejercicio 6.** Escribir la función `menor_elem()` que devuelve el menor elemento de la lista a partir de un cierto índice: esta función recibe la lista y un índice de la lista y devuelve el menor elemento desde ese índice en adelante.\n"
      ]
    },
    {
      "cell_type": "code",
      "execution_count": 45,
      "metadata": {
        "id": "btqimAETYzES"
      },
      "outputs": [],
      "source": [
        "# Solución\n",
        "def menor_elem(j:int, lista:list) -> int:\n",
        "    \"\"\" \n",
        "    pre: lista es de tipo list, j es un entero tal que 0 <= j < len(lista)\n",
        "    post: devuelve el menor elemento de la lista a partir de la posición j\n",
        "    \"\"\"\n",
        "    minimo = lista[j]\n",
        "    for k in range(j, len(lista)):\n",
        "        if lista[k] <  minimo:\n",
        "            minimo = lista[k]\n",
        "    return minimo"
      ]
    },
    {
      "cell_type": "code",
      "execution_count": null,
      "metadata": {
        "colab": {
          "base_uri": "https://localhost:8080/"
        },
        "id": "kcYn6a8akkWw",
        "outputId": "316a77c5-57ca-4a2a-e623-2b31f6f18960"
      },
      "outputs": [],
      "source": [
        "# Pruebas\n",
        "print(menor_elem(4,[6,2,8,-1,5,1,7,3,9])) # 1\n",
        "print(menor_elem(0,[6,2,8,-1,5,1,7,3,9])) # -1 (es le  mínimo de la lista)\n",
        "print(menor_elem(2,[6,2,8,-1,5,1,7,3,9])) # -1 \n",
        "\n"
      ]
    },
    {
      "cell_type": "markdown",
      "metadata": {
        "id": "_MkIMSmaYzQx"
      },
      "source": [
        "**Ejercicio 7.** Igual que el ejercicio anterior pero devuelve la posición de ese elemento."
      ]
    },
    {
      "cell_type": "code",
      "execution_count": 42,
      "metadata": {
        "id": "tskmakVzYzqQ"
      },
      "outputs": [],
      "source": [
        "# Solución\n",
        "def menor_elem(j:int, lista:list) -> int:\n",
        "    \"\"\" \n",
        "    pre: lista es de tipo list, j es un entero tal que 0 <= j < len(lista)\n",
        "    post: devuelve la possición del menor elemento de la lista a partir de la posición j\n",
        "    \"\"\"\n",
        "    minimo = lista[j]\n",
        "    indice = j\n",
        "    for k in range(j, len(lista)):\n",
        "        if lista[k] <  minimo:\n",
        "            minimo = lista[k]\n",
        "            indice = k\n",
        "    return indice"
      ]
    },
    {
      "cell_type": "code",
      "execution_count": null,
      "metadata": {},
      "outputs": [],
      "source": [
        "# Pruebas\n",
        "print(menor_elem(4,[6,2,8,-1,5,1,7,3,9])) # 5\n",
        "print(menor_elem(0,[6,2,8,-1,5,1,7,3,9])) # 3\n",
        "print(menor_elem(2,[6,2,8,-1,5,1,7,3,9])) # 3"
      ]
    },
    {
      "cell_type": "markdown",
      "metadata": {
        "id": "ycvMEcY__J-w"
      },
      "source": [
        "<a name=\"ej08\">**Ejercicio 8.**</a>  Escribir la función `contar_letras()`que recibe una cadena y devuelve una lista de 26 números. El primero de esos números (el que se encuentra en la posición 0 de la lista) es el número de letras `a`. El segundo es el número de letras `b`, etc. El último, es el número de letras `z`.\n",
        "\n",
        "*Observación.* La posición 0 de la lista que se devuelve corresponde a la letra `a`, la posición 1 corresponde a la letra `b`, etc.\n",
        "\n",
        "En general las posiciones de las letras está dadas por\n",
        "```\n",
        "letras = ['a', 'b', 'c', 'd', 'e', 'f', 'g', 'h', 'i', 'j', 'k', 'l', 'm', 'n', 'o', 'p', 'q', 'r', 's', 't', 'u', 'v', 'w', 'x', 'y', 'z']\n",
        "```\n",
        "\n",
        "*Ejemplo.*\n",
        "```\n",
        "contar_letras('sdaeraad') = [3, 0, 0, 2, 1, 0, ...]\n",
        "```\n",
        "\n"
      ]
    },
    {
      "cell_type": "code",
      "execution_count": 60,
      "metadata": {
        "id": "0iil3eFjakK1"
      },
      "outputs": [],
      "source": [
        "# Solución\n",
        "def contar_letras(cadena):\n",
        "    \"\"\"\n",
        "    pre: cadena es una cadena de caracteres \n",
        "    post: devuelve un lista con la cantidad de veces que aparece cada letra minúscula en la cadena\n",
        "    \"\"\"\n",
        "    letras = ['a', 'b', 'c', 'd', 'e', 'f', 'g', 'h', 'i', 'j', 'k', 'l', 'm', 'n', 'o', 'p', 'q', 'r', 's', 't', 'u', 'v', 'w', 'x', 'y', 'z']\n",
        "    contador = [0]*26\n",
        "    for letra in cadena:\n",
        "        if letra in letras:\n",
        "            k = pos(letra, letras) # Utilizanos la función pos() definida anteriormente\n",
        "            contador[k] += 1\n",
        "    return contador"
      ]
    },
    {
      "cell_type": "code",
      "execution_count": null,
      "metadata": {},
      "outputs": [],
      "source": [
        "# Pruebas\n",
        "print(contar_letras('sdaeraad')) # [3, 0, 0, 2, 1, 0, 0, 0, 0, 0, 0, 0, 0, 0, 0, 0, 0, 1, 1, 0, 0, 0, 0, 0, 0, 0]\n",
        "print(contar_letras('sdf ghhj aaa uiio abab'))  # [5, 2, 0, 1, 0, 1, 1, 2, 2, 1, 0, 0, 0, 0, 1, 0, 0, 0, 1, 0, 1, 0, 0, 0, 0, 0]\n",
        "print(contar_letras('devuelve un lista con la cantidad de veces que aparece cada letra en la cadena')) \n",
        "#[12, 0, 6, 6, 12, 0, 0, 0, 2, 0, 0, 5, 0, 5, 1, 1, 1, 2, 2, 3, 3, 3, 0, 0, 0, 0]"
      ]
    },
    {
      "cell_type": "markdown",
      "metadata": {
        "id": "O_MRWMWv_J-w"
      },
      "source": [
        "<a name=\"ej09\">**Ejercicio 9.**</a> Definir la función `generar_cadena()` que recibe una lista de 26 números y devuelve una cadena de caracteres con tantas `a` como dice el primer número de la lista, tantas `b` como dice el segundo, etc."
      ]
    },
    {
      "cell_type": "code",
      "execution_count": 53,
      "metadata": {
        "id": "JZZO6sIMakxM"
      },
      "outputs": [],
      "source": [
        "# Solución\n",
        "def generar_cadena(lista):\n",
        "    \"\"\"\n",
        "    pre: lista es una lista de 26 enteros no negativos\n",
        "    post: devuelve una cadena de letras minúsculas donde cada letra aparece tantas veces como indica su posición en la lista\n",
        "    \"\"\"\n",
        "    letras = ['a', 'b', 'c', 'd', 'e', 'f', 'g', 'h', 'i', 'j', 'k', 'l', 'm', 'n', 'o', 'p', 'q', 'r', 's', 't', 'u', 'v', 'w', 'x', 'y', 'z']\n",
        "    cadena = \"\"\n",
        "    for k in range(26):\n",
        "        cadena += lista[k]*letras[k]\n",
        "    return cadena"
      ]
    },
    {
      "cell_type": "code",
      "execution_count": null,
      "metadata": {},
      "outputs": [],
      "source": [
        "# Pruebas\n",
        "print(generar_cadena([3, 0, 0, 2, 1, 0, 0, 0, 0, 0, 0, 0, 0, 0, 0, 0, 0, 1, 1, 0, 0, 0, 0, 0, 0, 0])) # aaadders\n",
        "print(generar_cadena([5, 2, 0, 1, 0, 1, 1, 2, 2, 1, 0, 0, 0, 0, 1, 0, 0, 0, 1, 0, 1, 0, 0, 0, 0, 0])) # aaaaabbdfghhiijosu\n",
        "print(generar_cadena([12, 0, 6, 6, 12, 0, 0, 0, 2, 0, 0, 5, 0, 5, 1, 1, 1, 2, 2, 3, 3, 3, 0, 0, 0, 0])) \n",
        "# aaaaaaaaaaaaccccccddddddeeeeeeeeeeeeiilllllnnnnnopqrrsstttuuuvvv\n"
      ]
    },
    {
      "cell_type": "markdown",
      "metadata": {
        "id": "TI6I1pHc_J-w"
      },
      "source": [
        "**Ejercicio 10.** Definir la función `ordenar_cadena()` que recibe una cadena de caracteres y devuelve una permutación *ordenada* de las letras minúsculas de esa cadena. Por ejemplo, si recibe `abracadabra, pata de cabra` devuelve `aaaaaaaaabbbccddeprrrt`. Debería poder hacerse combinando las soluciones a los ejercicios [8](#ej1) y [9](#ej9)."
      ]
    },
    {
      "cell_type": "code",
      "execution_count": 58,
      "metadata": {
        "id": "XzQcPLIn_J-w"
      },
      "outputs": [],
      "source": [
        "# Solución \n",
        "def ordenar_cadena(cadena):\n",
        "    \"\"\"\n",
        "    pre: cadena es una cadena de caracteres\n",
        "    post: devuelve una cadena con las letras minúsculas de cadena ordenadas alfabéticamente\n",
        "    \"\"\"\n",
        "    contador = contar_letras(cadena) # Utilizamos la función contar_letras() definida anteriormente\n",
        "    return generar_cadena(contador) # Utilizamos la función generar_cadena() definida anterior"
      ]
    },
    {
      "cell_type": "code",
      "execution_count": null,
      "metadata": {},
      "outputs": [],
      "source": [
        "# Pruebas\n",
        "print(ordenar_cadena('sdaeraad')) # aaadders\n",
        "print(ordenar_cadena('sdf ghhj aaa uiio abab')) # aaaaabbdfghhiijosu\n",
        "print(ordenar_cadena('devuelve un lista con la cantidad de veces que aparece cada letra en la cadena'))\n",
        "# aaaaaaaaaaaaccccccddddddeeeeeeeeeeeeiilllllnnnnnopqrrsstttuuuvvv"
      ]
    },
    {
      "cell_type": "markdown",
      "metadata": {
        "id": "wm-aaVe7Eq1O"
      },
      "source": [
        "### 3° Parte. Diccionarios y conjuntos"
      ]
    },
    {
      "cell_type": "markdown",
      "metadata": {
        "id": "LB5LbLTsE1Gn"
      },
      "source": [
        "**Ejercicio 1.**  Usá un diccionario para almacenar información sobre una persona que conocés.\n",
        "Guardá su nombre, apellido, edad y la ciudad en la que vive. Debe tener claves como `nombre`, `apellido`, `edad` y `ciudad`. Imprimir cada campo del diccionario."
      ]
    },
    {
      "cell_type": "code",
      "execution_count": 61,
      "metadata": {
        "colab": {
          "base_uri": "https://localhost:8080/"
        },
        "id": "oDr2PHrlFDYY",
        "outputId": "d17570c2-ef5e-4d28-e84d-a7c5d33d3fdf"
      },
      "outputs": [
        {
          "name": "stdout",
          "output_type": "stream",
          "text": [
            "{'nombre': 'Javier', 'apellido': 'Román', 'edad': 41, 'ciudad': 'Córdoba'}\n"
          ]
        }
      ],
      "source": [
        "# Solución\n",
        "d ={\"nombre\": \"Javier\", \"apellido\": \"Román\", \"edad\": 41, \"ciudad\": \"Córdoba\"}\n",
        "print(d)"
      ]
    },
    {
      "cell_type": "markdown",
      "metadata": {
        "id": "Fo-ezAgoE_C-"
      },
      "source": [
        "**Ejercicio 2.**  Usar un diccionario para almacenar el equipo de fútbol preferido de las personas.\n",
        "Pensá en cinco nombres y utilízalos como claves en tu diccionario. Por cada persona almacená el equipo de fútbol  como un valor en su diccionario (si no la conocés, inventalo).\n",
        "\n",
        "Imprimí el nombre de cada persona y su el equipo de fútbol favorito."
      ]
    },
    {
      "cell_type": "code",
      "execution_count": 62,
      "metadata": {
        "id": "YQs90RX8EKkp"
      },
      "outputs": [
        {
          "name": "stdout",
          "output_type": "stream",
          "text": [
            "{'Paulo': 'Talleres', 'Javier': 'Belgrano', 'Natalia': 'Instituto', 'Mariano': 'Racing', 'Gustavo': 'River'}\n",
            "Paulo es hincha de Talleres\n",
            "Javier es hincha de Belgrano\n",
            "Natalia es hincha de Instituto\n",
            "Mariano es hincha de Racing\n",
            "Gustavo es hincha de River\n"
          ]
        }
      ],
      "source": [
        "# Solución\n",
        "equipos_preferidos = {}\n",
        "equipos_preferidos[\"Paulo\"] = \"Talleres\"\n",
        "equipos_preferidos[\"Javier\"] = \"Belgrano\"\n",
        "equipos_preferidos[\"Natalia\"] = \"Instituto\"\n",
        "equipos_preferidos[\"Mariano\"] = \"Racing\"\n",
        "equipos_preferidos[\"Gustavo\"] = \"River\"\n",
        "print(equipos_preferidos)\n",
        "for nombre, equipo in equipos_preferidos.items():\n",
        "    print(nombre, 'es hincha de', equipo)"
      ]
    },
    {
      "cell_type": "markdown",
      "metadata": {
        "id": "cOjb5pnIFMkz"
      },
      "source": [
        "**Ejercicio 3.** Glosario: se puede utilizar un diccionario de Python para modelar un diccionario real.\n",
        "Sin embargo, para evitar confusiones, llamémoslo glosario.\n",
        "- Pensá en cinco palabras de programación que hayas aprendido en las lecciones anteriores. Utilizá estas palabras como claves en tu glosario y almacená sus\n",
        "significados como valores.\n",
        "- Imprimí cada palabra y su significado como una salida con un formato prolijo. Se podría imprimir la palabra seguida de dos puntos y luego su significado, o imprimir la palabra en una línea y luego imprimir su significado con sangría en una segunda línea. Utilizá el carácter de nueva línea (`\\n`) para insertar una línea en blanco entre el significado de cada palabra y la palabra siguiente.\n"
      ]
    },
    {
      "cell_type": "code",
      "execution_count": 64,
      "metadata": {
        "id": "Oirei7lzFM83"
      },
      "outputs": [
        {
          "name": "stdout",
          "output_type": "stream",
          "text": [
            "lista: sucesión de elementos\n",
            "\n",
            "cadena: sucesión de caracteres\n",
            "\n",
            "diccionario: coleccion de pares clave-valor\n",
            "\n",
            "tupla: secuencia inmutable de elementos\n",
            "\n",
            "conjunto: coleccion de elementos únicos, sin orden\n",
            "\n"
          ]
        }
      ],
      "source": [
        "# Solución\n",
        "glosario = {} # equivalentemente, glosario = dict()\n",
        "glosario['lista'] = 'sucesión de elementos'\n",
        "glosario['cadena'] = 'sucesión de caracteres'\n",
        "glosario['diccionario'] = 'coleccion de pares clave-valor'\n",
        "glosario['tupla'] = 'secuencia inmutable de elementos'\n",
        "glosario['conjunto'] = 'coleccion de elementos únicos, sin orden'\n",
        "\n",
        "for palabra, significado in glosario.items():\n",
        "    print(palabra + ': ' + significado+ '\\n')\n"
      ]
    },
    {
      "cell_type": "markdown",
      "metadata": {
        "id": "9PBuG1vzH5s6"
      },
      "source": [
        "**Ejercicio 4.**  Ríos: hacé un diccionario que contenga tres ríos y el país que atraviesa cada río. Un par clave-valor podría ser `nilo`: `egipto` (aunque el Nilo  pasa por varios paises).\n",
        "- Usá un bucle para imprimir una oración sobre cada río, como *El Nilo corre\n",
        "a través de Egipto* (esta cadenas no están en el diccionario).\n",
        "-  Utilizá un bucle para imprimir el nombre de cada río incluido en el diccionario.\n",
        "- Utilizá un bucle para imprimir el nombre de cada país incluido en el diccionario.\n",
        "\n"
      ]
    },
    {
      "cell_type": "code",
      "execution_count": 66,
      "metadata": {
        "id": "Ag-0cmb4H59l"
      },
      "outputs": [
        {
          "name": "stdout",
          "output_type": "stream",
          "text": [
            "El amazonas a través de brasil\n",
            "El nilo a través de egipto\n",
            "El misisipi a través de estados unidos\n",
            "El ganges a través de india\n",
            "El parana a través de argentina\n",
            "\n",
            "amazonas\n",
            "nilo\n",
            "misisipi\n",
            "ganges\n",
            "parana\n",
            "\n",
            "brasil\n",
            "egipto\n",
            "estados unidos\n",
            "india\n",
            "argentina\n"
          ]
        }
      ],
      "source": [
        "# Solución\n",
        "rios = {'amazonas': 'brasil', 'nilo': 'egipto', 'misisipi': 'estados unidos', 'ganges': 'india', 'parana': 'argentina'}\n",
        "for rio, pais in rios.items():\n",
        "    print('El', rio, 'a través de', pais)\n",
        "print('')\n",
        "for rio in rios.keys():\n",
        "    print(rio)\n",
        "print('')\n",
        "for pais in rios.values():\n",
        "    print(pais)"
      ]
    },
    {
      "cell_type": "markdown",
      "metadata": {
        "id": "1GuUDqEYJQCl"
      },
      "source": [
        "**Ejercicio 5.** Personas: comenzá con el programa que escribiste para el ejercicio 1. Creá dos nuevos diccionarios que representen a diferentes personas y almacená los tres diccionarios en una lista llamada `personas`.\n",
        "\n",
        "Recorré la lista de personas.\n",
        "\n",
        "Mientras vayas recorriendo  la lista, imprimí todo lo que sepa sobre cada persona.\n"
      ]
    },
    {
      "cell_type": "code",
      "execution_count": 70,
      "metadata": {
        "id": "Xu3x5zb8JT23"
      },
      "outputs": [
        {
          "name": "stdout",
          "output_type": "stream",
          "text": [
            "Javier Román tiene 41 años y es de Córdoba\n",
            "Paulo Perez tiene 39 años y es de Toledo\n",
            "Natalia Gonzalez tiene 38 años y es de Córdoba\n"
          ]
        }
      ],
      "source": [
        "# Solución\n",
        "p0 ={\"nombre\": \"Javier\", \"apellido\": \"Román\", \"edad\": 41, \"ciudad\": \"Córdoba\"}\n",
        "p1 ={\"nombre\": \"Paulo\", \"apellido\": \"Perez\", \"edad\": 39, \"ciudad\": \"Toledo\"}\n",
        "p2 ={\"nombre\": \"Natalia\", \"apellido\": \"Gonzalez\", \"edad\": 38, \"ciudad\": \"Córdoba\"}\n",
        "personas = [p0, p1, p2]\n",
        "for persona in personas:\n",
        "    print(persona['nombre'] + ' ' + persona['apellido'] + ' tiene ' + str(persona['edad']) + ' años y es de ' + persona['ciudad'])\n"
      ]
    },
    {
      "cell_type": "markdown",
      "metadata": {
        "id": "RnlkL88jJUNY"
      },
      "source": [
        "**Ejercicio 6.** Lista de diccionarios. Hacé varios diccionarios, donde cada diccionario represente una mascota diferente. En cada diccionario, incluí el tipo de animal y el nombre del propietario.\n",
        "\n",
        "Guardá estos diccionarios en una lista llamada `mascotas`. A continuación, recorré tu lista y e imprimí todo lo que sabés sobre cada mascota.\n"
      ]
    },
    {
      "cell_type": "code",
      "execution_count": 71,
      "metadata": {
        "id": "g7fg77UhJXil"
      },
      "outputs": [
        {
          "name": "stdout",
          "output_type": "stream",
          "text": [
            "Toby es un perro y su dueño es Javier\n",
            "Mia es un gato y su dueño es Paulo\n",
            "Luna es un perro y su dueño es Natalia\n"
          ]
        }
      ],
      "source": [
        "# Solución \n",
        "mascotas = []\n",
        "mascota_0 = {\"nombre\": \"Toby\", \"tipo\": \"perro\", \"dueño\": \"Javier\"}\n",
        "mascota_1 = {\"nombre\": \"Mia\", \"tipo\": \"gato\", \"dueño\": \"Paulo\"}\n",
        "mascota_2 = {\"nombre\": \"Luna\", \"tipo\": \"perro\", \"dueño\": \"Natalia\"}\n",
        "mascotas.append(mascota_0)\n",
        "mascotas.append(mascota_1)\n",
        "mascotas.append(mascota_2)\n",
        "for mascota in mascotas:\n",
        "    print(mascota['nombre'] + ' es un ' + mascota['tipo'] + ' y su dueño es ' + mascota['dueño'])"
      ]
    },
    {
      "cell_type": "markdown",
      "metadata": {
        "id": "8u6eElTdJYtr"
      },
      "source": [
        "**Ejercicio 7.** Lugares favoritos. Creá un diccionario llamado `lugares_favoritos`. Pensá en tres nombres de personas para usar como claves en el diccionario y almacená de uno a tres lugares favoritos por cada persona.\n",
        "\n",
        "Recorré el diccionario e imprimí el nombre de cada persona y sus lugares favoritos.\n"
      ]
    },
    {
      "cell_type": "code",
      "execution_count": 75,
      "metadata": {
        "id": "tBekky1_JbQX"
      },
      "outputs": [
        {
          "name": "stdout",
          "output_type": "stream",
          "text": [
            "A Paulo le gustan los siguientes lugares:\n",
            "Córdoba, Santa Fe, Mendoza, \n",
            "\n",
            "A Javier le gustan los siguientes lugares:\n",
            "Córdoba, Bariloche, Mendoza, \n",
            "\n",
            "A Natalia le gustan los siguientes lugares:\n",
            "Rosario, San Juan, \n",
            "\n"
          ]
        }
      ],
      "source": [
        "# Solución\n",
        "lugares_favoritos = {}\n",
        "lugares_favoritos[\"Paulo\"] = [\"Córdoba\", \"Santa Fe\", \"Mendoza\"]\n",
        "lugares_favoritos[\"Javier\"] = [\"Córdoba\", \"Bariloche\", \"Mendoza\"]\n",
        "lugares_favoritos[\"Natalia\"] = [\"Rosario\", \"San Juan\"]\n",
        "\n",
        "for persona, lugares in lugares_favoritos.items():\n",
        "    print('A '+ persona + ' le gustan los siguientes lugares:')\n",
        "    for lugar in lugares:\n",
        "        print(lugar, end = ', ')\n",
        "    print('\\n')\n"
      ]
    },
    {
      "cell_type": "markdown",
      "metadata": {
        "id": "p52cjGprJb14"
      },
      "source": [
        "**Ejercicio 8.** Modificá su programa del ejercicio 2 para que cada persona pueda tener más de un equipo favorito (sí, eso puede ocurrir...). Luego imprimí el nombre de cada persona junto  su/sus equipo/s favorito/s.\n"
      ]
    },
    {
      "cell_type": "code",
      "execution_count": 76,
      "metadata": {
        "id": "c5IeMf7NJdoZ"
      },
      "outputs": [
        {
          "name": "stdout",
          "output_type": "stream",
          "text": [
            "Paulo es hincha de:\n",
            "Talleres, \n",
            "\n",
            "Javier es hincha de:\n",
            "Belgrano, River, \n",
            "\n",
            "Natalia es hincha de:\n",
            "Instituto, Boca, \n",
            "\n",
            "Mariano es hincha de:\n",
            "Racing, Independiente, \n",
            "\n",
            "Gustavo es hincha de:\n",
            "River, Huracán, \n",
            "\n"
          ]
        }
      ],
      "source": [
        "# Solución\n",
        "equipos_preferidos = {}\n",
        "equipos_preferidos[\"Paulo\"] = [\"Talleres\"]\n",
        "equipos_preferidos[\"Javier\"] = [\"Belgrano\", \"River\"]\n",
        "equipos_preferidos[\"Natalia\"] = [\"Instituto\", \"Boca\"]\n",
        "equipos_preferidos[\"Mariano\"] = [\"Racing\", \"Independiente\"]\n",
        "equipos_preferidos[\"Gustavo\"] = [\"River\", \"Huracán\"]\n",
        "\n",
        "for nombre, equipos in equipos_preferidos.items():\n",
        "    print(nombre, 'es hincha de:')\n",
        "    for equipo in equipos:\n",
        "        print(equipo, end = ', ')\n",
        "    print('\\n')"
      ]
    },
    {
      "cell_type": "markdown",
      "metadata": {
        "id": "zWu-ID1EJeL_"
      },
      "source": [
        "**Ejercicio 9.** Diccionario de diccionarios.  Hacé un diccionario llamado `ciudades`. Utilizá los nombres de tres ciudades como claves en tu diccionario. Por cada ciudad, creá un diccionario de información sobre ella que incluya el país en el que se encuentra, su población aproximada y un hecho relevante sobre esa ciudad.\n",
        "\n",
        "Las claves del diccionario de cada ciudad deberían ser algo así como\n",
        "`país`, `población` y `hecho`.\n",
        "\n",
        "Imprimí  el nombre de cada ciudad y toda la información información que ha almacenado sobre ella.\n"
      ]
    },
    {
      "cell_type": "code",
      "execution_count": 1,
      "metadata": {
        "id": "EZSA1RygJg4s"
      },
      "outputs": [
        {
          "name": "stdout",
          "output_type": "stream",
          "text": [
            "Córdoba es una ciudad de Argentina con una población de 1600000 habitantes y una superficie de 576 km2\n",
            "Santa Fe es una ciudad de Argentina con una población de 500000 habitantes y una superficie de 300 km2\n",
            "Montevideo es una ciudad de Uruguay con una población de 1300000 habitantes y una superficie de 530 km2\n",
            "Asunción es una ciudad de Paraguay con una población de 1000000 habitantes y una superficie de 117 km2\n"
          ]
        }
      ],
      "source": [
        "# Solución\n",
        "ciudades = {}\n",
        "ciudades[\"Córdoba\"] = {\"pais\" : \"Argentina\", \"poblacion\": 1_600_000, \"superficie\": 576}\n",
        "ciudades[\"Santa Fe\"] = {\"pais\" : \"Argentina\", \"poblacion\": 500_000, \"superficie\": 300}\n",
        "ciudades[\"Montevideo\"] = {\"pais\" : \"Uruguay\", \"poblacion\": 1_300_000, \"superficie\": 530}\n",
        "ciudades[\"Asunción\"] = {\"pais\" : \"Paraguay\", \"poblacion\": 1_000_000, \"superficie\": 117}\n",
        "\n",
        "for ciudad, datos in ciudades.items():\n",
        "    print(ciudad, 'es una ciudad de', datos['pais'], 'con una población de', datos['poblacion'], 'habitantes y una superficie de', datos['superficie'], 'km2')"
      ]
    },
    {
      "cell_type": "markdown",
      "metadata": {
        "id": "mEUoZBoL-h71"
      },
      "source": [
        "**Ejercicio 10.**\n",
        "<ol type=\"a\">\n",
        "  <li>Escribir una función que tome dos conjuntos como parámetros y devuelva su unión.</li>\n",
        "  <li>Escribir una función que tome dos conjuntos como parámetros y devuelva su intersección.</li>\n",
        "  <li>Escribir una función que tome un conjunto y un elemento como parámetros, y agregue ese elemento al conjunto.</li>\n",
        "  <li>Escribir una función que tome una lista de conjuntos como parámetro y devuelva la intersección de todos ellos.</li>\n",
        "</ol>"
      ]
    },
    {
      "cell_type": "code",
      "execution_count": 4,
      "metadata": {
        "id": "yRSDr7_T_VeS"
      },
      "outputs": [],
      "source": [
        "# Solución\n",
        "#a.\n",
        "def union_conjuntos(conjunto1, conjunto2):\n",
        "    \"\"\"\n",
        "    pre: conjunto1 y conjunto2 son conjuntos\n",
        "    post: devuelve la unión de conjunto1 y conjunto2\n",
        "    \"\"\"\n",
        "    assert type(conjunto1) == set and type(conjunto2) == set, 'los parámetros deben ser conjuntos'\n",
        "    return conjunto1.union(conjunto2)\n",
        "\n",
        "# b. \n",
        "def interseccion_conjuntos(conjunto1, conjunto2):\n",
        "    \"\"\"\n",
        "    pre: conjunto1 y conjunto2 son conjuntos\n",
        "    post: devuelve la intersección de conjunto1 y conjunto2\n",
        "    \"\"\"\n",
        "    assert type(conjunto1) == set and type(conjunto2) == set, 'los parámetros deben ser conjuntos'\n",
        "    return conjunto1.intersection(conjunto2)\n",
        "\n",
        "# c.\n",
        "def diferencia_conjuntos(conjunto1, conjunto2):\n",
        "    \"\"\"\n",
        "    pre: conjunto1 y conjunto2 son conjuntos\n",
        "    post: devuelve la diferencia de conjunto1 y conjunto2\n",
        "    \"\"\"\n",
        "    assert type(conjunto1) == set and type(conjunto2) == set, 'los parámetros deben ser conjuntos'\n",
        "    return conjunto1.difference(conjunto2)\n",
        "\n",
        "# d. \n",
        "def interseccion(lista_conjuntos):\n",
        "    \"\"\"\n",
        "    pre: lista_conjuntos es una lista de conjuntos\n",
        "    post: devuelve la intersección de todos los conjuntos de la lista\n",
        "    \"\"\"\n",
        "    assert all(type(conjunto) == set for conjunto in lista_conjuntos), 'los elementos de la lista deben ser conjuntos'\n",
        "    inter = lista_conjuntos[0]\n",
        "    for i in range(1, len(lista_conjuntos)):\n",
        "        inter = inter.intersection(lista_conjuntos[i])\n",
        "    return inter"
      ]
    },
    {
      "cell_type": "markdown",
      "metadata": {
        "id": "G_JX8ihd_WAC"
      },
      "source": [
        "**Ejercicio 11.**\n",
        "\n",
        "<ol type=\"a\">\n",
        "  <li>Escribir la función `sub()` que toma una lista y un conjunto como parámetros, y verifique si todos los elementos de la lista están presentes en el conjunto.</li>\n",
        "  <li>Escribir la función `lista_unicos()` que toma una lista como parámetro y, utilizando conjuntos, devuelve una nueva lista sin elementos duplicados.</li>\n",
        "</ol>\n",
        "\n",
        "\n"
      ]
    },
    {
      "cell_type": "code",
      "execution_count": 5,
      "metadata": {
        "colab": {
          "base_uri": "https://localhost:8080/"
        },
        "id": "8oecCuI3_9Ka",
        "outputId": "c7ed20f7-f458-44d8-bd4c-58faf413d7e8"
      },
      "outputs": [],
      "source": [
        "# Solución\n",
        "\n",
        "# a. \n",
        "def sub(lista: list, conjunto: set):\n",
        "    \"\"\"\n",
        "    pre: lista es una lista de elementos, conjunto es un conjunto\n",
        "    post: devuelve True si todos los elementos de lista están en conjunto, False en caso contrario\n",
        "    \"\"\"\n",
        "    assert type(lista) == list and type(conjunto) == set, 'los parámetros deben ser una lista y un conjunto'\n",
        "    ret = True\n",
        "    for elem in lista:\n",
        "        if elem not in conjunto:\n",
        "            ret = False\n",
        "    return ret\n",
        "\n",
        "# b. \n",
        "def lista_unicos(lista: list):\n",
        "    \"\"\"\n",
        "    pre: lista es una lista de elementos\n",
        "    post: devuelve una lista con los elementos de lista original sin repetidos\n",
        "    \"\"\"\n",
        "    assert type(lista) == list, 'el parámetro debe ser una lista'\n",
        "    return list(set(lista))"
      ]
    },
    {
      "cell_type": "code",
      "execution_count": 11,
      "metadata": {},
      "outputs": [
        {
          "name": "stdout",
          "output_type": "stream",
          "text": [
            "True\n",
            "False\n",
            "True\n",
            "[1, 2, 3, 4, 5]\n",
            "[1, 2, 3, 4, 5]\n",
            "[]\n",
            "[1]\n"
          ]
        }
      ],
      "source": [
        "# Pruebas\n",
        "print(sub([\"a\",\"b\",\"c\",\"d\"], {\"a\",\"b\",\"c\",\"d\"})) # True\n",
        "print(sub([\"a\",\"b\",\"c\",\"d\"], {\"a\",\"b\",\"c\"})) # False\n",
        "print(sub([\"a\",\"b\",\"c\",\"d\",\"a\"], {\"a\",\"b\",\"c\",\"d\",\"e\"})) # True\n",
        "\n",
        "print(lista_unicos([1,2,3,4,5,1,2,3,4,5])) # [1, 2, 3, 4, 5]\n",
        "print(lista_unicos([1,2,3,4,5])) # [1, 2, 3, 4, 5]\n",
        "print(lista_unicos([])) # []\n",
        "print(lista_unicos([1,1,1,1,1,1,1,1,1,1])) # [1]"
      ]
    },
    {
      "cell_type": "markdown",
      "metadata": {
        "id": "YwsKx4t71kww"
      },
      "source": [
        "**Ejercicio 12.** El número que tiene la mayor frecuencia en una serie se conoce como la *moda* de la serie. La moda es el valor que aparece con mayor frecuencia o repetición en un conjunto de datos. En otras palabras, es el número que se repite más veces en la serie.\n",
        "\n",
        "Por ejemplo, en la serie $2, 4, 4, 6, 6, 6, 8$, el número $6$ es la moda, ya que se repite más veces que cualquier otro número en la serie.\n",
        "\n",
        "Es importante tener en cuenta que una serie puede tener múltiples modas si varios números tienen la misma frecuencia máxima. En tal caso, se dice que la serie tiene *múltiples modas.*\n",
        "\n",
        "Escribir la función `moda()` que devuelva la moda de una lista de números enteros. Si hay múltiples módas devuelve alguna de ellas.\n",
        "\n",
        "Solo se permite,  a nivel de operaciónes, métodos o funciones en listas, acceder para leer o modificar los elementos de una lista por el índice. En el caso de diccionarios acceder para leer o modificar a elementos por su clave. No está permitido utilizar  `max()`, `sorted()` o métodos similares.\n",
        "\n",
        "Para implementar la función `moda()` puede seguir los siguientes pasos:\n",
        "\n",
        "1. Hacer un diccionario donde las claves son los elementos de la lista y los valores son la cantidad de repeticiones de cada elemento en la lista.\n",
        "2. Encontrar y devolver una de las claves del diccionario cuyo valor sea máximo.\n",
        "\n"
      ]
    },
    {
      "cell_type": "code",
      "execution_count": 12,
      "metadata": {
        "id": "QifeOzP-_5vP"
      },
      "outputs": [],
      "source": [
        "# Solución\n",
        "def moda(lista: list):\n",
        "    \"\"\"\n",
        "    pre: lista es una lista de números enteros\n",
        "    post: devuelve uno de los elementos que más veces se repiten en la lista\n",
        "    \"\"\"\n",
        "    assert type(lista) == list, 'el parámetro debe ser una lista'\n",
        "    assert all(type(elem) == int for elem in lista), 'los elementos de la lista deben ser números enteros'\n",
        "    repeticiones = {}\n",
        "    for  elem in lista:\n",
        "        if elem in repeticiones:\n",
        "            repeticiones[elem] += 1\n",
        "        else:\n",
        "            repeticiones[elem] = 1\n",
        "    maximo = repeticiones[lista[0]]\n",
        "    moda = lista[0]\n",
        "    for clave, valor in repeticiones.items():\n",
        "        if valor > maximo:\n",
        "            maximo = valor\n",
        "            moda = clave\n",
        "    return moda"
      ]
    },
    {
      "cell_type": "code",
      "execution_count": 16,
      "metadata": {},
      "outputs": [
        {
          "name": "stdout",
          "output_type": "stream",
          "text": [
            "1\n",
            "2\n",
            "1\n",
            "3\n",
            "8\n"
          ]
        }
      ],
      "source": [
        "# Pruebas\n",
        "print(moda([1,2,3,4,5,1,2,3,4,5])) # cualquier valor se repite dos veces\n",
        "print(moda([2,3,4,5,1])) # cualquier valor se encuentra una vez\n",
        "print(moda([1,1,1,1,1,1,1,1,1,1])) # 1\n",
        "print(moda([2,3,4,5,1,3,5])) # 3 o 5 (cada uno aparece 2 veces)\n",
        "print(moda([1,2,3,4,5,6,7,8,9,8,10])) # 8"
      ]
    },
    {
      "cell_type": "markdown",
      "metadata": {},
      "source": [
        "**Ejercicio 13.** Redefinir la función `moda()` del ejercicio anterior para, dada una lista,  devuelva el conjunto de todos los números que son moda de la lista original."
      ]
    },
    {
      "cell_type": "code",
      "execution_count": 19,
      "metadata": {},
      "outputs": [],
      "source": [
        "# Solución\n",
        "\n",
        "def moda(lista: list):\n",
        "    \"\"\"\n",
        "    pre: lista es una lista de números enteros\n",
        "    post: devuelve uno de los elementos que más veces se repiten en la lista\n",
        "    \"\"\"\n",
        "    assert type(lista) == list, 'el parámetro debe ser una lista'\n",
        "    assert all(type(elem) == int for elem in lista), 'los elementos de la lista deben ser números enteros'\n",
        "    repeticiones = {}\n",
        "    for  elem in lista:\n",
        "        if elem in repeticiones:\n",
        "            repeticiones[elem] += 1\n",
        "        else:\n",
        "            repeticiones[elem] = 1\n",
        "    maximo = repeticiones[lista[0]]\n",
        "    for clave, valor in repeticiones.items():\n",
        "        if valor > maximo:\n",
        "            maximo = valor\n",
        "    moda = set()\n",
        "    for clave, valor in repeticiones.items():\n",
        "        if valor == maximo:\n",
        "            moda.add(clave)\n",
        "    return moda"
      ]
    },
    {
      "cell_type": "code",
      "execution_count": 20,
      "metadata": {},
      "outputs": [
        {
          "name": "stdout",
          "output_type": "stream",
          "text": [
            "{1, 2, 3, 4, 5}\n",
            "{1, 2, 3, 4, 5}\n",
            "{1}\n",
            "{3, 5}\n",
            "{8}\n"
          ]
        }
      ],
      "source": [
        "# Pruebas\n",
        "print(moda([1,2,3,4,5,1,2,3,4,5])) # {1, 2, 3, 4, 5}\n",
        "print(moda([2,3,4,5,1])) # {1, 2, 3, 4, 5}\n",
        "print(moda([1,1,1,1,1,1,1,1,1,1])) # {1}\n",
        "print(moda([2,3,4,5,1,3,5])) # {3, 5}\n",
        "print(moda([1,2,3,4,5,6,7,8,9,8,10])) # {8}"
      ]
    },
    {
      "cell_type": "markdown",
      "metadata": {
        "id": "HoeQV1Mu_5nd"
      },
      "source": [
        "### 4° Parte. Definiciones por comprensión"
      ]
    },
    {
      "cell_type": "markdown",
      "metadata": {
        "id": "vr7bN4LiADXQ"
      },
      "source": [
        "**Ejercicio 1.** Para realizar los siguientes ejercicios utilizar listas por comprensión.\n",
        "\n",
        "1. Crear la  lista `impares` con los números impares entre $50$ y $100$.\n",
        "\n",
        "Sean  `a =  [1, 2, 3, 4, 5]` y `b = [4, 5, 6, 7, 8]`\n",
        "\n",
        "2. Crear una lista con los elementos que están en `a` y `b`.\n",
        "3. Crear una lista  con los elementos que están en `a` pero no en `b`.\n",
        "4. Sean `c = 'hola'` y `d = 'mundo'`. Crear una lista con las letras que se encuentran en `c` y `d`.\n",
        "5. Dada la lista `numeros = [1, 2, 3, 4, 5, 6, 7, 8, 9, 10]` crear la lista `multiplos_de_tres` con todos los elementos de `numeros` que son múltiplos de  $3$.\n"
      ]
    },
    {
      "cell_type": "code",
      "execution_count": 2,
      "metadata": {
        "id": "_n5YHpGZADXZ"
      },
      "outputs": [],
      "source": [
        "# Solución\n",
        "\n",
        "# 1.\n",
        "impares = [i for i in range(50,100) if i % 2 !=0]\n",
        "\n",
        "# 2.\n",
        "a = [1, 2, 3, 4, 5]\n",
        "b = [4, 5, 6, 7, 8]\n",
        "interseccion = [n for n in a if n in b]\n",
        "\n",
        "# 3. \n",
        "diferencia = [n for n in a if n not in b]\n",
        "\n",
        "# 4.\n",
        "a = \"hola\"\n",
        "b = \"mundo\"\n",
        "letras_comunes = [letra for letra in set(a) if letra in b]\n",
        "\n",
        "# 5.\n",
        "numeros = [1, 2, 3, 4, 5, 6, 7, 8, 9, 10]\n",
        "multiplos_de_tres = [n for n in numeros if n % 3 == 0]"
      ]
    },
    {
      "cell_type": "markdown",
      "metadata": {
        "id": "wckuUb1uADXa"
      },
      "source": [
        "**Ejercicio 2.**  Dada la lista `nombres = [\"Juan\", \"María\", \"Pedro\", \"Ana\", \"Pablo\", \"Gabriel\"]`,  crear una lista de los nombres de las personas en una lista que tienen más de 4 caracteres."
      ]
    },
    {
      "cell_type": "code",
      "execution_count": 3,
      "metadata": {
        "id": "OkBv7dzcADXa"
      },
      "outputs": [
        {
          "name": "stdout",
          "output_type": "stream",
          "text": [
            "['María', 'Pedro', 'Pablo', 'Gabriel']\n"
          ]
        }
      ],
      "source": [
        "# Solución\n",
        "nombres = [\"Juan\", \"María\", \"Pedro\", \"Ana\", \"Pablo\", \"Gabriel\"]\n",
        "nombres_largos = [k for k in nombres if len(k)>=5] \n",
        "print(nombres_largos)"
      ]
    },
    {
      "cell_type": "markdown",
      "metadata": {
        "id": "-hX0sJ5pADXa"
      },
      "source": [
        "**Ejercicio 3.** Dada la cadena\n",
        "\n",
        "```\n",
        "\"Hola mundo, esto es una cadena de prueba\"\n",
        "```\n",
        "hacer lista de las palabras que tienen más de 3 letras.\n"
      ]
    },
    {
      "cell_type": "code",
      "execution_count": 10,
      "metadata": {
        "id": "BDIRx1coADXa"
      },
      "outputs": [
        {
          "name": "stdout",
          "output_type": "stream",
          "text": [
            "['Hola', 'mundo,', 'esto', 'cadena', 'prueba']\n"
          ]
        }
      ],
      "source": [
        "# Solución\n",
        "cadena = \"Hola mundo, esto es una cadena de prueba\"\n",
        "palabras = cadena.split() # crea una lista con cada una de las palabras\n",
        "palabras_largas = [palabra for palabra in palabras if len(palabra) > 3] \n",
        "print(palabras_largas)"
      ]
    },
    {
      "cell_type": "markdown",
      "metadata": {
        "id": "CiY3rLE5ADXa"
      },
      "source": [
        "**Ejercicio 4.**  Crear un diccionario a partir de la lista de tuplas\n",
        "\n",
        "```\n",
        "[(1, \"uno\"), (2, \"dos\"), (3, \"tres\")]\n",
        "```\n",
        " donde la clave es el primer elemento de la tupla y el valor es el segundo elemento."
      ]
    },
    {
      "cell_type": "code",
      "execution_count": 11,
      "metadata": {
        "id": "3O6FS3lNADXa"
      },
      "outputs": [
        {
          "name": "stdout",
          "output_type": "stream",
          "text": [
            "{1: 'uno', 2: 'dos', 3: 'tres'}\n"
          ]
        }
      ],
      "source": [
        "# Solución\n",
        "lista_tuplas = [(1, \"uno\"), (2, \"dos\"), (3, \"tres\")]\n",
        "diccionario = {item[0]:item[1] for item in lista_tuplas} # reemplazar {} por un diccionario por comprensión\n",
        "print(diccionario)"
      ]
    },
    {
      "cell_type": "markdown",
      "metadata": {
        "id": "vE-cPpbpADXa"
      },
      "source": [
        "**Ejercicio 5.** Definir una función que recibe dos listas de igual longitud y  devuelve un diccionario donde cada clave es un elemento de la primera lista y el valor es el elemento correspondiente de la segunda lista. Hacerlo por comprensión."
      ]
    },
    {
      "cell_type": "code",
      "execution_count": 12,
      "metadata": {},
      "outputs": [],
      "source": [
        "# Solución\n",
        "def listas_a_diccionario(lista1, lista2):\n",
        "    \"\"\"\n",
        "    pre: lista1 y lista2 son listas de igual longitud\n",
        "    post: devuelve un diccionario donde las claves son los elementos de lista1 y los valores los elementos de lista2\n",
        "    \"\"\"\n",
        "    assert len(lista1) == len(lista2), 'las listas deben tener igual longitud'\n",
        "    return {lista1[i]:lista2[i] for i in range(len(lista1))}"
      ]
    },
    {
      "cell_type": "code",
      "execution_count": 13,
      "metadata": {
        "id": "B-ooC6ykADXb"
      },
      "outputs": [
        {
          "name": "stdout",
          "output_type": "stream",
          "text": [
            "{'nombre': 'Juan', 'edad': 25, 'ciudad': 'Madrid'}\n"
          ]
        }
      ],
      "source": [
        "# Pruebas\n",
        "claves = [\"nombre\", \"edad\", \"ciudad\"]\n",
        "valores = [\"Juan\", 25, \"Madrid\"]\n",
        "diccionario = listas_a_diccionario(claves, valores)\n",
        "print(diccionario) # {'nombre': 'Juan', 'edad': 25, 'ciudad': 'Madrid'}"
      ]
    },
    {
      "cell_type": "markdown",
      "metadata": {
        "id": "v9H7IhoqADXb"
      },
      "source": [
        "**Ejercicio 6.** Crear por comprensión una lista de los primeros 10 números naturales donde los números pares son multiplicados por 2 y los impares son multiplicados por 3.\n"
      ]
    },
    {
      "cell_type": "code",
      "execution_count": 14,
      "metadata": {
        "id": "khYyv4-GADXb"
      },
      "outputs": [
        {
          "name": "stdout",
          "output_type": "stream",
          "text": [
            "[3, 4, 9, 8, 15, 12, 21, 16, 27, 20]\n"
          ]
        }
      ],
      "source": [
        "# Solución\n",
        "\n",
        "numeros_transformados = [x * 2 if x % 2 == 0 else x * 3 for x in range(1, 11)]\n",
        "print(numeros_transformados)"
      ]
    },
    {
      "cell_type": "markdown",
      "metadata": {
        "id": "kgXuMDUUADXb"
      },
      "source": [
        "**Ejercicio 7.** Dada una lista `nombres` con nombres de personas, crear una lista  donde los nombres que comienzan por `A` son reemplazados por `Nombre empieza por A` y los demás nombres por `Nombre no empieza por A`. Aplicar el resultado a la lista `[\"Ana\", \"Pedro\", \"Luis\", \"Alberto\"]`.\n",
        "\n",
        "\n"
      ]
    },
    {
      "cell_type": "code",
      "execution_count": 17,
      "metadata": {
        "id": "bBF92qaIADXb"
      },
      "outputs": [
        {
          "name": "stdout",
          "output_type": "stream",
          "text": [
            "['Nombre empieza por A', 'Nombre no empieza por A', 'Nombre no empieza por A', 'Nombre empieza por A']\n"
          ]
        }
      ],
      "source": [
        "nombres = [\"Ana\", \"Pedro\", \"Luis\", \"Alberto\"]\n",
        "resultado = ['Nombre empieza por A' if nombre[0] == 'A' else 'Nombre no empieza por A'for nombre in nombres ] \n",
        "print(resultado)"
      ]
    },
    {
      "cell_type": "markdown",
      "metadata": {
        "id": "edk1j1J2ADXb"
      },
      "source": [
        "**Ejercicio 8 (pivotear).** Dada una lista de números (enteros o punto flotante)  y un número `x` de la lista,  *pivotear la lista por `x`* es reorganizar los elementos de la lista de manera que todos los elementos menores a `x` estén a la izquierda de `x`, todos los elementos mayores a `x` estén a la derecha de `x` y todos los elementos iguales a `x` estén al lado de `x`.\n",
        "\n",
        "Por  ejemplo, dada la lista\n",
        "\n",
        "    [6, 3, 5, 4, 8, 7, 6, 5, 4, 2, 3]\n",
        "    \n",
        "La lista pivoteada por `4` resultaría\n",
        "\n",
        "    [2, 3, 3, 4, 4, 5, 6, 8, 7, 6, 5]\n",
        "\n",
        "o  algo similar. Obviamente, puede haber más de una forma de pivotear la lista.\n",
        "\n",
        "Dada la lista `lista_num`, usando listas por comprensión construya una lista que es la original pivoteada por el primer elemento. Va a ser necesario hacer más de una lista por comprensión."
      ]
    },
    {
      "cell_type": "code",
      "execution_count": 23,
      "metadata": {
        "colab": {
          "base_uri": "https://localhost:8080/"
        },
        "id": "hmCKKGlWADXb",
        "outputId": "b846c0d3-d021-4255-f0d7-f939426841e5"
      },
      "outputs": [
        {
          "name": "stdout",
          "output_type": "stream",
          "text": [
            "[16, 11, 18, 4, 8, 5, 10, 5, 5, 18, 3, 3, 1, 16, 19]\n"
          ]
        }
      ],
      "source": [
        "# Esta celda nos peermitira hacer tests\n",
        "from random import randint\n",
        "lista_num = [randint(1,20) for _ in range(15)] # lista de 10 números enteros al azar de 1 a 20\n",
        "print(lista_num)"
      ]
    },
    {
      "cell_type": "code",
      "execution_count": 24,
      "metadata": {
        "colab": {
          "base_uri": "https://localhost:8080/"
        },
        "id": "zWClalRCADXb",
        "outputId": "65388cfd-20c6-4c6d-f47f-38afa4db984a"
      },
      "outputs": [
        {
          "name": "stdout",
          "output_type": "stream",
          "text": [
            "Pivoteamos por: 16\n",
            "[11, 4, 8, 5, 10, 5, 5, 3, 3, 1, 16, 16, 18, 18, 19]\n"
          ]
        }
      ],
      "source": [
        "# Solución\n",
        "primero = lista_num[0]\n",
        "print('Pivoteamos por:', primero)\n",
        "pivoteada = [x for x in lista_num if x < primero] + [x for x in lista_num if x == primero] + [x for x in lista_num if x > primero]\n",
        "print(pivoteada)"
      ]
    }
  ],
  "metadata": {
    "colab": {
      "provenance": []
    },
    "kernelspec": {
      "display_name": "Python 3",
      "name": "python3"
    },
    "language_info": {
      "codemirror_mode": {
        "name": "ipython",
        "version": 3
      },
      "file_extension": ".py",
      "mimetype": "text/x-python",
      "name": "python",
      "nbconvert_exporter": "python",
      "pygments_lexer": "ipython3",
      "version": "3.10.4"
    }
  },
  "nbformat": 4,
  "nbformat_minor": 0
}
