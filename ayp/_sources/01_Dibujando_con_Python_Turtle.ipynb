{
  "cells": [
    {
      "cell_type": "markdown",
      "metadata": {
        "id": "ELY2TD-rKBs5"
      },
      "source": [
        "# Dibujando con  una tortuga\n",
        "\n",
        "\n",
        "En  el curso para comenzar a programar en Python utilizamos [Google Colaboratory](https://colab.research.google.com/) o *Colab* y una biblioteca o  módulo de Colab que nos permite dibujar en  pantalla. \n",
        "\n",
        "Google Colaboratory es un entorno de desarrollo en línea gratuito que permite a los usuarios escribir y ejecutar código Python en un navegador web. Google Colaboratory implementa las Jupyter Notebooks, o Cuadernos Jupyter,  en linea. El módulo que utilizaremos es Colab Turtle,  una implementación de Python Turtle, un módulo de Python que permite a los usuarios crear gráficos utilizando una tortuga virtual. Los usuarios pueden controlar la tortuga mediante comandos de Python para dibujar formas y patrones en la pantalla.\n",
        "\n",
        "A diferencia del curso, en este sitio se utilizarán directamente las Jupyter Notebooks y la biblioteca Turtle de Python. Jupyter Notebook corre directamente en su computadora con un Python instalado. \n",
        "\n"
      ]
    },
    {
      "cell_type": "markdown",
      "metadata": {
        "id": "RtqFaijCxDNi"
      },
      "source": [
        "Con la siguiente instrucción haremos accesible todas las funciones e instrucciones de la biblioteca Turtle a nuestro cuaderno Jupyter:"
      ]
    },
    {
      "cell_type": "code",
      "execution_count": 4,
      "metadata": {
        "id": "QiekrzA3ESGc"
      },
      "outputs": [],
      "source": [
        "from turtle import *"
      ]
    },
    {
      "cell_type": "markdown",
      "metadata": {},
      "source": [
        "Si se encuentra con el error `No module named '_tkinter'`, tendrá que instalar el paquete de interfaz Tk en su sistema."
      ]
    },
    {
      "cell_type": "markdown",
      "metadata": {},
      "source": [
        "*Aviso.* En  el documento html que se encuentra en el sitio no se podrán ver las ventanas de `turtle`. Para ver como funciona la biblioteca deberás bajar el Jupyter Notebook correspondiente, es decir con la flecha de arriba a la derecha bajar el documento `.ipynb` y  correrlo localmente. "
      ]
    },
    {
      "cell_type": "markdown",
      "metadata": {
        "id": "E9xz1Mp9EfmN"
      },
      "source": [
        "## 1. Primeros pasos\n",
        "\n"
      ]
    },
    {
      "cell_type": "markdown",
      "metadata": {
        "id": "olMVedzqE_9j"
      },
      "source": [
        "En una pantalla dibujaremos líneas o curvas con instrucciones provistas por nosotros. Primero creamos la *pizarra* o *ventana* para dibujar:\n",
        "\n"
      ]
    },
    {
      "cell_type": "code",
      "execution_count": 86,
      "metadata": {},
      "outputs": [
        {
          "data": {
            "text/plain": [
              "<turtle._Screen at 0x2582f3b8460>"
            ]
          },
          "execution_count": 86,
          "metadata": {},
          "output_type": "execute_result"
        }
      ],
      "source": [
        "Screen()"
      ]
    },
    {
      "cell_type": "markdown",
      "metadata": {},
      "source": [
        "Ahora, dibujemos una línea de 50 pixels de largo: "
      ]
    },
    {
      "cell_type": "code",
      "execution_count": 88,
      "metadata": {
        "colab": {
          "base_uri": "https://localhost:8080/",
          "height": 521
        },
        "id": "Lx26akGJFLft",
        "outputId": "618a7c08-6432-4e70-f45a-725da78ed27a"
      },
      "outputs": [],
      "source": [
        "forward(50)"
      ]
    },
    {
      "cell_type": "markdown",
      "metadata": {},
      "source": [
        "Observarán que ejecutando la celda de código anterior se dibuja de linea de izquierda a derecha y  su \"punta\" queda indicada por un flecha que llamaremos la *tortuga*.\n",
        "\n"
      ]
    },
    {
      "cell_type": "markdown",
      "metadata": {
        "id": "JqiokNnNFuLz"
      },
      "source": [
        "Por supuesto,  hay una instrucción para girar la tortuga: `left(n)` gira la  tortuga  a la izquierda `n` grados. La frase \"a la izquierda\" significa en contra del sentido de giro de las agujas de un reloj.\n",
        "\n",
        "Ejecutemos la siguiente celda de código:"
      ]
    },
    {
      "cell_type": "code",
      "execution_count": 89,
      "metadata": {
        "colab": {
          "base_uri": "https://localhost:8080/",
          "height": 521
        },
        "id": "X0bIzvSiGMqv",
        "outputId": "23a01da4-6dcf-4660-d418-8d8d96db2449"
      },
      "outputs": [],
      "source": [
        "left(90) # gira la tortuga 90 grados a la izquierda"
      ]
    },
    {
      "cell_type": "markdown",
      "metadata": {
        "id": "gyVSwrbuGoBK"
      },
      "source": [
        "Avanzando 50  pixels dibujamos una \"L\" con los dos lados iguales:"
      ]
    },
    {
      "cell_type": "code",
      "execution_count": 90,
      "metadata": {
        "colab": {
          "base_uri": "https://localhost:8080/",
          "height": 521
        },
        "id": "1OCk7S25G0FH",
        "outputId": "88b8f5ba-1b38-45d0-b35b-739e8287100c"
      },
      "outputs": [],
      "source": [
        "forward(50)"
      ]
    },
    {
      "cell_type": "markdown",
      "metadata": {
        "id": "gOJJK-yJG5Rt"
      },
      "source": [
        "No se nota demasiado que los dos lados son iguales, pero  podemos esconder la tortuga para ver mejor."
      ]
    },
    {
      "cell_type": "code",
      "execution_count": 91,
      "metadata": {
        "colab": {
          "base_uri": "https://localhost:8080/",
          "height": 521
        },
        "id": "nZqOs1DMHCIv",
        "outputId": "3cc7ec2b-7f67-4a27-c6e0-8517f848942d"
      },
      "outputs": [],
      "source": [
        "hideturtle()"
      ]
    },
    {
      "cell_type": "markdown",
      "metadata": {
        "id": "0zV42FIDHaB8"
      },
      "source": [
        "Mostremos la tortuga de nuevo"
      ]
    },
    {
      "cell_type": "code",
      "execution_count": 92,
      "metadata": {
        "colab": {
          "base_uri": "https://localhost:8080/",
          "height": 521
        },
        "id": "quKtuzdJHgqU",
        "outputId": "db0c24e2-90cb-47b3-8aea-e396e679ccf8"
      },
      "outputs": [],
      "source": [
        "showturtle()"
      ]
    },
    {
      "cell_type": "markdown",
      "metadata": {
        "id": "w0dLkWkMHlTH"
      },
      "source": [
        "Terminemos nuestro primer dibujo dibujando un cuadrado"
      ]
    },
    {
      "cell_type": "code",
      "execution_count": 93,
      "metadata": {
        "colab": {
          "base_uri": "https://localhost:8080/",
          "height": 521
        },
        "id": "Cf9D8bt8HtPT",
        "outputId": "c62b06fd-49b1-4dc9-fe36-c87c798175aa"
      },
      "outputs": [],
      "source": [
        "left(90)\n",
        "forward(50)\n",
        "left(90)\n",
        "forward(50)\n",
        "hideturtle()"
      ]
    },
    {
      "cell_type": "markdown",
      "metadata": {},
      "source": [
        "Finalmente,  si queremos cerrar la ventana de dibujo ejecutamos"
      ]
    },
    {
      "cell_type": "code",
      "execution_count": 94,
      "metadata": {},
      "outputs": [],
      "source": [
        "exitonclick() "
      ]
    },
    {
      "cell_type": "markdown",
      "metadata": {},
      "source": [
        "\n",
        "y luego  hacemos click en la ventana. "
      ]
    },
    {
      "cell_type": "markdown",
      "metadata": {},
      "source": [
        "**Ejercicio 1.** Dibujar una escalera como la siguiente:"
      ]
    },
    {
      "cell_type": "markdown",
      "metadata": {},
      "source": [
        "![image.png](data:image/png;base64,iVBORw0KGgoAAAANSUhEUgAAAOMAAADVCAYAAAClrUf8AAAAAXNSR0IArs4c6QAAAARnQU1BAACxjwv8YQUAAAAJcEhZcwAADsMAAA7DAcdvqGQAAAK+SURBVHhe7dYxbsMwFAVB/dz/zooMsEwRWLa8hmYavprgApz9sAEf97NO4MPECBFihAgxQoQYIUKMECFGiBAjRIgRIsQIEWKECDFChBghQowQIUaIECNEiBEixAgRYoQIMUKEGOGEmVnrPDFChBghQowQIUaIECNEiBEixAgRYoQIMUKEGCFCjBAhRogQI0SIESLECBFihAgxQoQYIUKMECFGiBAjRIgRIsQIEWKECDFChBghQowQIUaIECNEiBEixAgRYoQIMUKEGCFCjBAhRogQI0SIESLECBFihAgxQoQYIUKMECFGiBAjRIgRIsQIEWKECDFChBghQowQIUaIECNEiBEixAgRYoQIMUKEGCFi9sPacNrMrHUfr0pIjLzUI0ZP6jm+qRAhRogQI0SIESLECBFihAgxQoQYIUKMECFGiBAjRIgRIsQIEWKECDFChBghQowQIUaIECNEiBEixAgRYoQIMUKEGCFCjBAhRogQI0SIESLECBFihAgxQoQYIUKMECFGiBAjRIgRIsQIEWKECDFChBghQowQIUaIECNEiBEixAgRYoQIMUKEGCFCjBAhRogQI0SIESLECBFihAgxQoQYIUKMECFGiJj9sDZvMDNr3Ycn9RwxvtkjRlfMf/imQoQYIUKMECFGiBAjRIgRIsQIEWKECDFChBghQowQIUaIECNEiBEixAgRYoQIMUKEGCFCjBAhRogQI0SIESLECBFihAgxQoQYIUKMECFGiBAjRIgRIsQIEWKECDFChBghQowQIUaIECNEiBEixAgRYoQIMUKEGCFCjBAhRogQI0SIESLECBFihAgxQoQYIUKMECFGiBAjRIgRIsQIEWKECDFChBghYvbD2peYmbXu4+Ir5ktdHiPwN99UiBAjRIgRIsQIEWKECDFChBghQowQIUaIECNEiBEStu0XkYUsi42/f8EAAAAASUVORK5CYII=)"
      ]
    },
    {
      "cell_type": "markdown",
      "metadata": {
        "id": "vq9u_-jYNY5D"
      },
      "source": [
        "\n",
        "Como la consigna no es precisa (matemáticamente hablando) hay cierto grado de libertad en la  ubicación y tamaño de la escalera."
      ]
    },
    {
      "cell_type": "markdown",
      "metadata": {},
      "source": [
        "Primero creemos la pizarra:"
      ]
    },
    {
      "cell_type": "code",
      "execution_count": 5,
      "metadata": {},
      "outputs": [
        {
          "data": {
            "text/plain": [
              "<turtle._Screen at 0x1e978f0ca00>"
            ]
          },
          "execution_count": 5,
          "metadata": {},
          "output_type": "execute_result"
        }
      ],
      "source": [
        "Screen()"
      ]
    },
    {
      "cell_type": "markdown",
      "metadata": {},
      "source": [
        "Ahora dibujemos la escalera"
      ]
    },
    {
      "cell_type": "code",
      "execution_count": 6,
      "metadata": {
        "colab": {
          "base_uri": "https://localhost:8080/",
          "height": 521
        },
        "id": "vgkvfBjmN2B2",
        "outputId": "675ec525-3d5d-4a16-df46-3a9bec1e8974"
      },
      "outputs": [],
      "source": [
        "# Dibujar zigzag (un símbolo # al comienzo de una linea es un comentario, no se ejecuta)\n",
        "forward(60)\n",
        "left(90)\n",
        "forward(60)\n",
        "right(90) # equivalente a left(270)\n",
        "forward(60)\n",
        "left(90)\n",
        "forward(60)\n",
        "right(90) \n",
        "forward(60)\n",
        "left(90)\n",
        "forward(60)\n",
        "hideturtle()"
      ]
    },
    {
      "cell_type": "markdown",
      "metadata": {
        "id": "7ndL6IoRIhdW"
      },
      "source": [
        "## 2. Ciclos\n",
        "\n",
        "Un ciclo en programación es una estructura que permite repetir un conjunto de instrucciones varias veces. Los ciclos son útiles cuando se necesita realizar una tarea varias veces, en lugar de escribir las mismas instrucciones una y otra vez. En Python, hay dos tipos de ciclos: el ciclo `for` y el ciclo   `while`. El ciclo `for` se utiliza para iterar un número determinado de veces, mientras que el ciclo `while` se utiliza para repetir un conjunto de instrucciones mientras se cumpla una condición determinada."
      ]
    },
    {
      "cell_type": "markdown",
      "metadata": {
        "id": "-cvVpJ9wIur_"
      },
      "source": [
        "Ahora utilizaremos el  ciclo `for` para simplificar la forma en que dibujamos el cuadrado.\n",
        "\n",
        "Lo primero que debemos hacer para comenzar un nuevo dibujo es \"olvidarnos\" del  pizarrón viejo y  empezar a dibujar en un pizarrón vacío:"
      ]
    },
    {
      "cell_type": "code",
      "execution_count": 7,
      "metadata": {
        "colab": {
          "base_uri": "https://localhost:8080/",
          "height": 521
        },
        "id": "FWDzj49rJEQ6",
        "outputId": "6113d95d-2063-4c75-d072-58d4ab7197cf"
      },
      "outputs": [],
      "source": [
        "reset()"
      ]
    },
    {
      "cell_type": "markdown",
      "metadata": {
        "id": "SLlLFe4dJIia"
      },
      "source": [
        "Ahora peguemos las instrucciones que nos permitieron dibujar el  cuadrado y ejecutémolas todas juntas (sin ocultar la tortuga):"
      ]
    },
    {
      "cell_type": "code",
      "execution_count": 8,
      "metadata": {
        "colab": {
          "base_uri": "https://localhost:8080/",
          "height": 521
        },
        "id": "DRzdiI52JaX7",
        "outputId": "ca48682e-465c-43d2-ccce-e8058609d8bb"
      },
      "outputs": [],
      "source": [
        "forward(50)\n",
        "left(90)\n",
        "forward(50)\n",
        "left(90)\n",
        "forward(50)\n",
        "left(90)\n",
        "forward(50)\n",
        "left(90)"
      ]
    },
    {
      "cell_type": "markdown",
      "metadata": {
        "id": "vu38QBvZJtSO"
      },
      "source": [
        "Observar que repetimos cuatro veces las instrucciones\n",
        "\n",
        "        forward(50)\n",
        "        left(90)\n",
        "¿Hay una forma de hacerlo sin repetir la escritura de las instrucciones? Sí, por supuesto.\n",
        "\n",
        "La escritura no es muy didáctica, pero posteriormente en el curso quedará más claro.\n",
        "\n",
        "La forma de hacerlo  en general es\n",
        "\n",
        "        for _ in range(n):\n",
        "            <instrucciones>\n",
        "repite $n$ veces el conjunto de instrucciones que están por debajo y  corridas 4 espacios respecto al `for`. En nuestro caso:"
      ]
    },
    {
      "cell_type": "code",
      "execution_count": 9,
      "metadata": {
        "colab": {
          "base_uri": "https://localhost:8080/",
          "height": 521
        },
        "id": "IjkqWz2SKTZX",
        "outputId": "700de4ee-06e9-42d4-eb0f-d713c2a1499a"
      },
      "outputs": [],
      "source": [
        "reset()\n",
        "for _ in range(4):\n",
        "    forward(50)\n",
        "    left(90)"
      ]
    },
    {
      "cell_type": "markdown",
      "metadata": {
        "id": "fObmnB65PtKo"
      },
      "source": [
        "La instrucción `for` crea un *ciclo* que es una estructura que repite instrucciones dentro de un programa. Los ciclos son una parte fundamental de los programas y sin ciclos la utilidad de las computadoras sería muy limitada."
      ]
    },
    {
      "cell_type": "markdown",
      "metadata": {
        "id": "cJWmtsYGQcUD"
      },
      "source": [
        "**Ejercicio 2.** Dibujar la escalera del ejercicio 1 utilizando un `for`."
      ]
    },
    {
      "cell_type": "code",
      "execution_count": 13,
      "metadata": {
        "colab": {
          "base_uri": "https://localhost:8080/",
          "height": 521
        },
        "id": "_Mze8exKQo4q",
        "outputId": "bb1c9e71-3fbf-4eea-d02f-c233e6c5c77d"
      },
      "outputs": [],
      "source": [
        "# Dibujar escalera con for\n",
        "# Dibujar zigzag (un símbolo # al comienzo de una linea es un comentario)\n",
        "reset()\n",
        "for _ in range(3):\n",
        "    left(90) \n",
        "    forward(60)\n",
        "    right(90)\n",
        "    forward(60)\n",
        "hideturtle()"
      ]
    },
    {
      "cell_type": "markdown",
      "metadata": {
        "id": "3YLlIZ9DMzGZ"
      },
      "source": [
        "## 2. Ciclos anidados\n",
        "\n",
        "Uno de los asuntos más delicados en la programación es la anidación de bucles o ciclos, cuando se pone un ciclo dentro de otro. Es fuente de muchos errores.\n",
        "\n",
        "Para perderle el miedo y minimizar errores lógicos lo mejor es practicar.\n"
      ]
    },
    {
      "cell_type": "markdown",
      "metadata": {
        "id": "5B-MuZlum6_Z"
      },
      "source": [
        "\n",
        "Ahora, para ejemplificar, nuestro objetivo será dibujar 4 cuadrados como el anterior de tal forma que se haga un dibujo como este:"
      ]
    },
    {
      "cell_type": "markdown",
      "metadata": {},
      "source": [
        "![image.png](data:image/png;base64,iVBORw0KGgoAAAANSUhEUgAAAPgAAABKCAYAAACW05l1AAAAAXNSR0IArs4c6QAAAARnQU1BAACxjwv8YQUAAAAJcEhZcwAADsMAAA7DAcdvqGQAAAEeSURBVHhe7d0xDoMwEABBO///c6DgAyjGRKuZBrrTCa3kyszvaQBJn+sJBAkcwgQOYQKHMIFDmMAhTOAQJnAIEziECRzCBA5hAocwgUOYwCFM4BAmcAgTOIQJHMIEDmEChzCBQ5jAIUzgELb8XvQ55/W23xtXvNt3H/ve90jgb30Ic59n7h6r5jqiQ5jAIUzgECZwCBM4hAkcwgQOYQKHMIFDmMAhTOAQJnAIEziECRzCBA5hAocwgUOYwCFM4BAmcAgTOIQJHMIEDmEChzCBQ5jAIUzgECZwCPN30R/Zdx/73rc8cOB/OKJDmMAhTOAQJnAIEziECRzCBA5hAocwgUOYwCFM4BAmcAgTOIQJHMIEDmEChzCBQ5jAIWuMAzq+RHxcxcolAAAAAElFTkSuQmCC)"
      ]
    },
    {
      "cell_type": "markdown",
      "metadata": {
        "id": "GZL8iR9gM60K"
      },
      "source": [
        "Tenemos la forma de dibujar un cuadrado,  ahora queremos dibujar 4 cuadrados aislados. Primero dibujemos un cuadrado:"
      ]
    },
    {
      "cell_type": "code",
      "execution_count": 14,
      "metadata": {
        "colab": {
          "base_uri": "https://localhost:8080/",
          "height": 521
        },
        "id": "Ajls61BGQxca",
        "outputId": "29f5f7b0-cf0a-4a07-a470-6ca924b966c6"
      },
      "outputs": [],
      "source": [
        "reset()\n",
        "for _ in range(4):\n",
        "    forward(30)\n",
        "    left(90)"
      ]
    },
    {
      "cell_type": "markdown",
      "metadata": {
        "id": "KMm4YseKdJJ-"
      },
      "source": [
        "Ahora, nos movemos hacia arriba para dibujar el siguiente cuadrado. Nos movemos 60 unidades para separarnos del primer cuadrado."
      ]
    },
    {
      "cell_type": "code",
      "execution_count": 15,
      "metadata": {
        "colab": {
          "base_uri": "https://localhost:8080/",
          "height": 521
        },
        "id": "3KYdVOC4dQxK",
        "outputId": "18746c98-9929-4f55-ab20-5794efee4a4f"
      },
      "outputs": [],
      "source": [
        "forward(60)"
      ]
    },
    {
      "cell_type": "markdown",
      "metadata": {
        "id": "BRaS2jR8dcyO"
      },
      "source": [
        "Como posiblemante se dieron cuenta antes de ejecutar la instrucción, no solo nos movemos sino que tambíen dibujamos al movernos y por lo tanto la instrucción anterior no es muy útil.\n",
        "\n",
        "Para solucionar el problema podemos usar la instrucción `penup()` que levanta el lápiz y permite mover la tortuga sin pintar.\n",
        "\n",
        "Empecemos de cero:"
      ]
    },
    {
      "cell_type": "code",
      "execution_count": 16,
      "metadata": {
        "colab": {
          "base_uri": "https://localhost:8080/",
          "height": 521
        },
        "id": "RnCjC-0de380",
        "outputId": "696bfaab-33a6-4027-8d7b-e127052ae8a9"
      },
      "outputs": [],
      "source": [
        "reset()\n",
        "for _ in range(4):\n",
        "    forward(30)\n",
        "    left(90)\n",
        "penup()\n",
        "forward(60)"
      ]
    },
    {
      "cell_type": "markdown",
      "metadata": {
        "id": "WPCJeenefNeS"
      },
      "source": [
        "Observemos que colocamos pegadas al margen izquierdo las instrucciones\n",
        "\n",
        "        penup()\n",
        "        forward(60)  \n",
        "Con esto las instrucciones no se ejecutan dentro del ciclo `for`."
      ]
    },
    {
      "cell_type": "markdown",
      "metadata": {
        "id": "sBy7Vw8LfC0s"
      },
      "source": [
        "Así como tenemos la instrucción `penup()`,  tenemos la instrucción `pendown()` que vuelva a hacer que dibuje la tortuga. Podemos dibujar entonces otro cuadrado"
      ]
    },
    {
      "cell_type": "code",
      "execution_count": 17,
      "metadata": {
        "colab": {
          "base_uri": "https://localhost:8080/",
          "height": 521
        },
        "id": "Re9GkT8Fgcph",
        "outputId": "e0c0f4cd-d5ee-4aab-993a-ff5e2a084724"
      },
      "outputs": [],
      "source": [
        "pendown()\n",
        "for _ in range(4):\n",
        "    forward(30)\n",
        "    left(90)"
      ]
    },
    {
      "cell_type": "markdown",
      "metadata": {
        "id": "J9vUFEyojzxc"
      },
      "source": [
        "Y ahora dejemos lista la tortuga para el próximo dibujo:"
      ]
    },
    {
      "cell_type": "code",
      "execution_count": 18,
      "metadata": {
        "colab": {
          "base_uri": "https://localhost:8080/",
          "height": 521
        },
        "id": "wXDOILt8kFDa",
        "outputId": "5dd0241d-67cc-4ebc-b09e-b4c405dd68c6"
      },
      "outputs": [],
      "source": [
        "penup()\n",
        "forward(60)\n",
        "pendown()"
      ]
    },
    {
      "cell_type": "markdown",
      "metadata": {
        "id": "qRDYk2oYifmN"
      },
      "source": [
        "Todo lo hecho hasta ahora quedaría\n"
      ]
    },
    {
      "cell_type": "code",
      "execution_count": 19,
      "metadata": {
        "colab": {
          "base_uri": "https://localhost:8080/",
          "height": 521
        },
        "id": "DQq7Qje9ioDS",
        "outputId": "a1e2594e-cd48-4be3-cfbe-0c8e260a16a6"
      },
      "outputs": [],
      "source": [
        "reset()\n",
        "for _ in range(4):\n",
        "    forward(30)\n",
        "    left(90)\n",
        "penup()\n",
        "forward(60)\n",
        "pendown()\n",
        "for _ in range(4):\n",
        "    forward(30)\n",
        "    left(90)\n",
        "penup()\n",
        "forward(60)\n",
        "pendown()"
      ]
    },
    {
      "cell_type": "markdown",
      "metadata": {
        "id": "HmtHZHw7iJ4d"
      },
      "source": [
        "Finalmente,  si  repetimos dos veces más las lineas del 8 al 13 obtenemos el dibujo deseado:"
      ]
    },
    {
      "cell_type": "code",
      "execution_count": 20,
      "metadata": {
        "colab": {
          "base_uri": "https://localhost:8080/",
          "height": 521
        },
        "id": "XWkfJOTAiCp6",
        "outputId": "1a89d57d-4998-4de5-9ff4-dd03b5f8c687"
      },
      "outputs": [],
      "source": [
        "reset()\n",
        "for _ in range(4):\n",
        "    forward(30)\n",
        "    left(90)\n",
        "penup()\n",
        "forward(60)\n",
        "pendown()\n",
        "for _ in range(4):\n",
        "    forward(30)\n",
        "    left(90)\n",
        "penup()\n",
        "forward(60)\n",
        "pendown()\n",
        "for _ in range(4):\n",
        "    forward(30)\n",
        "    left(90)\n",
        "penup()\n",
        "forward(60)\n",
        "pendown()\n",
        "for _ in range(4):\n",
        "    forward(30)\n",
        "    left(90)\n",
        "penup()\n",
        "forward(60)\n",
        "pendown()\n",
        "hideturtle()"
      ]
    },
    {
      "cell_type": "markdown",
      "metadata": {
        "id": "59JU3XSyk8JJ"
      },
      "source": [
        "De nuevo tenemos repeticiones sistemáticas de código  y podemos usar un ciclo `for`.\n",
        "\n",
        "La estructura de nuestro programa debería ser algo así:\n",
        "\n",
        "```\n",
        "repetir 4 veces:\n",
        "    dibujar un cuadrado\n",
        "    ubicarse para dibujar un nuevo cuadrado\n",
        "```\n",
        "\n",
        "\n",
        "\n",
        "\n",
        "\n",
        "El código que se repite es\n",
        "\n",
        "```\n",
        "for _ in range(4):\n",
        "        forward(30)\n",
        "        left(90)\n",
        "    penup()\n",
        "    forward(60)\n",
        "    pendown()\n",
        "```\n",
        "\n",
        "El  programa quedaría"
      ]
    },
    {
      "cell_type": "code",
      "execution_count": 21,
      "metadata": {
        "colab": {
          "base_uri": "https://localhost:8080/",
          "height": 521
        },
        "id": "52VCdXh_lcGS",
        "outputId": "ea9f4a13-a4a9-4eba-f84b-bd0a4181638c"
      },
      "outputs": [],
      "source": [
        "reset()\n",
        "speed(6) # la tortuga va avelocidad 6\n",
        "for _ in range(4):\n",
        "    for _ in range(4):\n",
        "        forward(30)\n",
        "        left(90)\n",
        "    penup()\n",
        "    forward(60)\n",
        "    pendown()\n",
        "hideturtle()"
      ]
    },
    {
      "cell_type": "markdown",
      "metadata": {
        "id": "pRz0-cDTsScj"
      },
      "source": [
        "Observemos  que hemos incluido un ciclo dentro de otro y  así hemos escrito un programa con ciclos anidados."
      ]
    },
    {
      "cell_type": "markdown",
      "metadata": {
        "id": "U5lObs2lsiHy"
      },
      "source": [
        "**Ejercicio 3.** Modificar el programa que dibuja 4 cuadrados para obtener el siguiente dibujo"
      ]
    },
    {
      "cell_type": "markdown",
      "metadata": {},
      "source": [
        "![image.png](data:image/png;base64,iVBORw0KGgoAAAANSUhEUgAAADYAAADxCAYAAACAqETRAAAAAXNSR0IArs4c6QAAAARnQU1BAACxjwv8YQUAAAAJcEhZcwAADsMAAA7DAcdvqGQAAAFOSURBVHhe7dsxCsMwEABBK///c5LCD0gUCNpjprE7scWB4NB6vl0DPe7vOMJqhNUIqxFWI6xmbNjHl+C11v33fzv39K/Cdg741e65ZqxGWI2wGmE1wmqE1QirEVYjrEZYjbAaYTXCaoTV2LbUmLEaYTXCaoTVCKsRViOsRliNsBphNcJqhNUIqxFWY9vibcshhNUIqxFWI6xGWI2wGmE1wmqE1QirEVYjrEZYzdgw25YaM1YjrEZYjbAaYTXCaoTVCKsRViOsRliNsBphNcJqbFu8bTmEsBphNcJqhNUIqxFWI6xGWI2wGmE1wmqE1QirGRtm21JjxmqE1QirEVYjrEZYjbAaYTXCaoTVCKsRViOsRliNbYu3LYcQViOsRliNsBphNcJqhNUIqxFWI6xGWI2wGmE1Y8NsW2rMWI2wGmE1wmqE1QirEVYjrOW6XnKKdY4943PcAAAAAElFTkSuQmCC)"
      ]
    },
    {
      "cell_type": "code",
      "execution_count": 23,
      "metadata": {
        "colab": {
          "base_uri": "https://localhost:8080/",
          "height": 521
        },
        "id": "UL2YzcP4sv5C",
        "outputId": "f2915770-96da-4750-8376-af940dc6ac75"
      },
      "outputs": [],
      "source": [
        "reset()\n",
        "for _ in range(4):\n",
        "    for _ in range(4):\n",
        "        forward(30)\n",
        "        left(90)\n",
        "    left(90)\n",
        "    penup()\n",
        "    forward(60)\n",
        "    pendown()\n",
        "    left(270)"
      ]
    },
    {
      "cell_type": "markdown",
      "metadata": {
        "id": "4hJ8SFY0tYZt"
      },
      "source": [
        "*Observación.* La técnica de reutilizar programas,  es decir modificar código preexistente, es muy útil y muy utilizada. No  es necesario escribir un programa desde cero si tenemos a disposición el código fuente de un programa que hace algo parecido a lo que nosotros queremos."
      ]
    },
    {
      "cell_type": "markdown",
      "metadata": {
        "id": "NYXBDmJDuMyj"
      },
      "source": [
        "## 3. Instrucciones condicionales\n",
        "\n",
        "- Con frecuencia es conveniente actuar de cierta manera solamente si se cumple una cierta condición. La primera forma que veremos es\n",
        "    - Si pasa “esto” hacer “algo”\n",
        "    - Seguir con la próxima instrucción\n",
        "\n",
        "Las llamamos *instrucciones condicionales.*\n",
        "\n",
        "- La instrucción condicional en Python es\n",
        "    \n",
        "       if <condición>:\n",
        "           <instrucciones>        "
      ]
    },
    {
      "cell_type": "markdown",
      "metadata": {
        "id": "pJrog9auvK3U"
      },
      "source": [
        "Para continuar expliquemos un poco más de Turtle.\n",
        "\n",
        "   - El tamaño del pizarrón es de 800 (ancho) x 500 (alto)\n",
        "   - Todo punto del pizarrón está determinado por sus coordenadas $(n,m)$, donde $(0,0)$ es la esquina superior izquierda y $(800, 500)$ es la esquina inferior derecha.\n",
        "\n",
        "La instrucción `goto(n, m)` coloca la tortuga en el coordenada $(n,m)$.  "
      ]
    },
    {
      "cell_type": "code",
      "execution_count": 24,
      "metadata": {
        "colab": {
          "base_uri": "https://localhost:8080/",
          "height": 521
        },
        "id": "ZUh8D3_hythq",
        "outputId": "aa86cfb6-390f-4f0a-ee16-28ce862f841b"
      },
      "outputs": [],
      "source": [
        "reset()\n",
        "goto(0,0)\n",
        "goto(400, 0)\n",
        "goto(800, 250)\n",
        "goto(0,500)"
      ]
    },
    {
      "cell_type": "markdown",
      "metadata": {
        "id": "huk979E61co3"
      },
      "source": [
        "Utilizaremos la función `randint` de la biblioteca `random` de Python que nos permite obtener un entero al azar:"
      ]
    },
    {
      "cell_type": "code",
      "execution_count": null,
      "metadata": {
        "id": "B14I5izZ1uYj"
      },
      "outputs": [],
      "source": [
        "from random import randint"
      ]
    },
    {
      "cell_type": "markdown",
      "metadata": {
        "id": "O7YiOw872IrV"
      },
      "source": [
        "Con la instrucción `randint(n, m)` con $n \\le m$ obtenemos un número al azar $k$ tal que $n \\le k \\le m$.\n",
        "\n",
        "Por ejemplo"
      ]
    },
    {
      "cell_type": "code",
      "execution_count": null,
      "metadata": {
        "colab": {
          "base_uri": "https://localhost:8080/"
        },
        "id": "3WexuQcP1zSD",
        "outputId": "16afede9-b089-4517-e3dc-0728658ee1fb"
      },
      "outputs": [],
      "source": [
        "randint(1, 10)"
      ]
    },
    {
      "cell_type": "markdown",
      "metadata": {
        "id": "dIAPG4WH2ktJ"
      },
      "source": [
        "imprime en pantalla un número al azar entre 1 y 10."
      ]
    },
    {
      "cell_type": "markdown",
      "metadata": {
        "id": "yCcOlifS2vBI"
      },
      "source": [
        "Queremos ahora hacer el siguiente programa:\n",
        "\n",
        "- Dibujamos un punto al azar en el pizarrón,\n",
        "- si el punto está del lado izquierdo, movemos la tortuga (dibujando) a un punto al azar del lado derecho.\n",
        "\n",
        "Primero dibujemos la tortuga en  un  punto al azar:\n"
      ]
    },
    {
      "cell_type": "code",
      "execution_count": null,
      "metadata": {
        "colab": {
          "base_uri": "https://localhost:8080/",
          "height": 521
        },
        "id": "BOZnqbps3emM",
        "outputId": "052f6087-925f-4bb8-901f-57d7161e9486"
      },
      "outputs": [],
      "source": [
        "from random import randint\n",
        "initializeTurtle()\n",
        "penup()\n",
        "goto(randint(0,800), randint(0,500))\n",
        "pendown()"
      ]
    },
    {
      "cell_type": "markdown",
      "metadata": {
        "id": "H7DQ6vpn4eDD"
      },
      "source": [
        "Ya sabemos colocar la tortuga en algún punto del pizarrón. Ahora debemos verificar si ese punto está a la izquierda,  es decir si está en $(n, m)$ con $n \\le 400$ o si está a la derecha ($n > 400$). Pero ¿cómo sabemos donde está la tortuga? Hay dos instrucciones que nos permiten saber las coordenadas:\n",
        "\n",
        "- `getx()`: primera coodenada\n",
        "- `gety()`: segunda coordenada\n",
        "\n",
        "Verefiquemos en que costado está el punto:"
      ]
    },
    {
      "cell_type": "code",
      "execution_count": null,
      "metadata": {
        "colab": {
          "base_uri": "https://localhost:8080/",
          "height": 521
        },
        "id": "0CEDmBzC4C6y",
        "outputId": "4c30df5e-10e1-4134-e265-f6ec24a8ab53"
      },
      "outputs": [],
      "source": [
        "initializeTurtle()\n",
        "penup()\n",
        "goto(randint(0,800), randint(0,500))\n",
        "pendown()\n",
        "if getx() <= 400:\n",
        "    pass"
      ]
    },
    {
      "cell_type": "markdown",
      "metadata": {
        "id": "J3w9EA-W6G6Y"
      },
      "source": [
        "La instrucción  `pass` se utiliza para \"no hacer nada\" y permite dejar pendiente escritura de código.\n",
        "\n",
        "Ya tenemos escrita la condición \"si la tortuga está en el lado izquierdo\", ahora escribamos la instrucción \"la pasamos al lado derecho\"."
      ]
    },
    {
      "cell_type": "code",
      "execution_count": null,
      "metadata": {
        "colab": {
          "base_uri": "https://localhost:8080/",
          "height": 521
        },
        "id": "Q3Vcz86W6sOh",
        "outputId": "696b2617-6b4e-4d5a-de4d-cb32b7c992e0"
      },
      "outputs": [],
      "source": [
        "from random import randint\n",
        "initializeTurtle()\n",
        "penup()\n",
        "goto(randint(0,800), randint(0,500))\n",
        "pendown()\n",
        "if getx() <= 400:\n",
        "    goto(randint(401,800), randint(0,500))"
      ]
    }
  ],
  "metadata": {
    "colab": {
      "provenance": []
    },
    "kernelspec": {
      "display_name": "Python 3",
      "name": "python3"
    },
    "language_info": {
      "codemirror_mode": {
        "name": "ipython",
        "version": 3
      },
      "file_extension": ".py",
      "mimetype": "text/x-python",
      "name": "python",
      "nbconvert_exporter": "python",
      "pygments_lexer": "ipython3",
      "version": "3.9.6"
    }
  },
  "nbformat": 4,
  "nbformat_minor": 0
}
