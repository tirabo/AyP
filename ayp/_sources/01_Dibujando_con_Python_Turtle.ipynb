{
  "cells": [
    {
      "cell_type": "markdown",
      "metadata": {
        "id": "ELY2TD-rKBs5"
      },
      "source": [
        "# Dibujando con  una tortuga\n",
        "\n",
        "\n",
        "Para comenzar a programar en Python utilizaremos Colab y una biblioteca que nos permite dibujar en  pantalla.\n",
        "\n",
        "Colab Turtle es una implementación de Python Turtle que se ejecuta en Google Colaboratory, un entorno de desarrollo en línea gratuito que permite a los usuarios escribir y ejecutar código Python en un navegador web. Python Turtle es un módulo de Python que permite a los usuarios crear gráficos utilizando una tortuga virtual. Los usuarios pueden controlar la tortuga mediante comandos de Python para dibujar formas y patrones en la pantalla.\n",
        "\n",
        "Para utilizar Colab Turtle necesitamos instalar la *biblioteca* de instrucciones \"ColabTurtle\". La instalamos ejecutando la línea de la celda siguiente, clicando ![image.png](data:image/png;base64,iVBORw0KGgoAAAANSUhEUgAAACIAAAAkCAYAAADsHujfAAABcklEQVRYCe2VvQ2DMBCFMxsttNBCyw4wBEMwBC1DULOJo1c86XKyzz+JIgoX1tnGPn9595PXfd/uCeP1BAgwVBAdiapIVUQroNc1R36myHmebts2N8/zx8AevumHYuvs0BzH4YZhcE3TmGOaJoezMQB+zwJZlsV83Ae3rmsSTDLIOI7ZEASDOvzlIZsEUqIEIWhjykRBEGc6+9ZaORMF6fs+CIJw5ahlhcgEQRlaKqB0EfN9313btuZZ+gmVtgmCnkAHPksQwOCBlISGT1/CmiB4yAfAPQkC59d1RUOl7xDqpyB0aoXq7yBd13nV/AsIQoN+wdD5bBFIbrKiPH2Py72iZM0p31AoJATmReWL5LMaGhSIhUKCoLyZ0NqaVYPDj2nxgMlp41IBOYcPrYJcRxXh4ZSuKR+Wcysk9J8MggslysSUKALBJeRMijo4Y/3tE4A2SxFegkUZoiegQcmBvVCJyvt6XgyiHX27riBawcco8gakA+ZpeypPEgAAAABJRU5ErkJggg==):"
      ]
    },
    {
      "cell_type": "code",
      "execution_count": null,
      "metadata": {
        "colab": {
          "base_uri": "https://localhost:8080/"
        },
        "id": "mrx-cu4cEMhW",
        "outputId": "fe06b7c6-be6e-4a64-a6d0-49603bb5b213"
      },
      "outputs": [],
      "source": [
        "!pip3 install ColabTurtle"
      ]
    },
    {
      "cell_type": "code",
      "execution_count": null,
      "metadata": {
        "id": "mB8z95diD9dt"
      },
      "outputs": [],
      "source": [
        "# !pip install ColabTurtlePlus  # implementacón alternativa, parecido pero cambian los dibujos"
      ]
    },
    {
      "cell_type": "markdown",
      "metadata": {
        "id": "RtqFaijCxDNi"
      },
      "source": [
        "Con la siguiente instrucción haremos accesible todas las funciones e instrucciones de la biblioteca Colab Trurtle:"
      ]
    },
    {
      "cell_type": "code",
      "execution_count": null,
      "metadata": {
        "id": "QiekrzA3ESGc"
      },
      "outputs": [],
      "source": [
        "from ColabTurtle.Turtle import *"
      ]
    },
    {
      "cell_type": "code",
      "execution_count": null,
      "metadata": {
        "id": "eiyXza0UEJ0-"
      },
      "outputs": [],
      "source": [
        "# from ColabTurtlePlus.Turtle import * # implementacón alternativa, parecido pero cambian los dibujos"
      ]
    },
    {
      "cell_type": "markdown",
      "metadata": {
        "id": "E9xz1Mp9EfmN"
      },
      "source": [
        "## 1. Primeros pasos\n",
        "\n",
        "Para dibujar necesitamos un \"pizarrón\":"
      ]
    },
    {
      "cell_type": "code",
      "execution_count": null,
      "metadata": {
        "colab": {
          "base_uri": "https://localhost:8080/",
          "height": 521
        },
        "id": "-q2SYxMdEk_-",
        "outputId": "4aa50658-29f8-4798-ff9f-94aece53d655"
      },
      "outputs": [],
      "source": [
        "initializeTurtle()"
      ]
    },
    {
      "cell_type": "markdown",
      "metadata": {
        "id": "olMVedzqE_9j"
      },
      "source": [
        "El \"juego\" consiste en mover la tortuga y dibujar.\n",
        "\n",
        "Movamos para adelante la tortuga 50 posiciones"
      ]
    },
    {
      "cell_type": "code",
      "execution_count": null,
      "metadata": {
        "colab": {
          "base_uri": "https://localhost:8080/",
          "height": 521
        },
        "id": "Lx26akGJFLft",
        "outputId": "618a7c08-6432-4e70-f45a-725da78ed27a"
      },
      "outputs": [],
      "source": [
        "forward(50)"
      ]
    },
    {
      "cell_type": "markdown",
      "metadata": {
        "id": "JqiokNnNFuLz"
      },
      "source": [
        "Por supuesto,  hay una instrucción para girar la tortuga: `left(n)` gira la  tortuga  a la izquierda `n` grados. La frase \"a la izquierda\" significa en contra del sentido de giro de las agujas de un reloj.\n",
        "\n",
        "Por ejemplo,"
      ]
    },
    {
      "cell_type": "code",
      "execution_count": null,
      "metadata": {
        "colab": {
          "base_uri": "https://localhost:8080/",
          "height": 521
        },
        "id": "X0bIzvSiGMqv",
        "outputId": "23a01da4-6dcf-4660-d418-8d8d96db2449"
      },
      "outputs": [],
      "source": [
        "left(90)"
      ]
    },
    {
      "cell_type": "markdown",
      "metadata": {
        "id": "gyVSwrbuGoBK"
      },
      "source": [
        "Esto nos permite dibujar una \"L\" con los dos lados iguales:"
      ]
    },
    {
      "cell_type": "code",
      "execution_count": null,
      "metadata": {
        "colab": {
          "base_uri": "https://localhost:8080/",
          "height": 521
        },
        "id": "1OCk7S25G0FH",
        "outputId": "88b8f5ba-1b38-45d0-b35b-739e8287100c"
      },
      "outputs": [],
      "source": [
        "forward(50)"
      ]
    },
    {
      "cell_type": "markdown",
      "metadata": {
        "id": "gOJJK-yJG5Rt"
      },
      "source": [
        "No se nota demasiado que los dos lados son iguales, pero  podemos esconder la tortuga para ver mejor."
      ]
    },
    {
      "cell_type": "code",
      "execution_count": null,
      "metadata": {
        "colab": {
          "base_uri": "https://localhost:8080/",
          "height": 521
        },
        "id": "nZqOs1DMHCIv",
        "outputId": "3cc7ec2b-7f67-4a27-c6e0-8517f848942d"
      },
      "outputs": [],
      "source": [
        "hideturtle()"
      ]
    },
    {
      "cell_type": "markdown",
      "metadata": {
        "id": "0zV42FIDHaB8"
      },
      "source": [
        "Mostremos la tortuga de nuevo"
      ]
    },
    {
      "cell_type": "code",
      "execution_count": null,
      "metadata": {
        "colab": {
          "base_uri": "https://localhost:8080/",
          "height": 521
        },
        "id": "quKtuzdJHgqU",
        "outputId": "db0c24e2-90cb-47b3-8aea-e396e679ccf8"
      },
      "outputs": [],
      "source": [
        "showturtle()"
      ]
    },
    {
      "cell_type": "markdown",
      "metadata": {
        "id": "w0dLkWkMHlTH"
      },
      "source": [
        "Terminemos nuestro primer dibujo dibujando un cuadrado"
      ]
    },
    {
      "cell_type": "code",
      "execution_count": null,
      "metadata": {
        "colab": {
          "base_uri": "https://localhost:8080/",
          "height": 521
        },
        "id": "Cf9D8bt8HtPT",
        "outputId": "c62b06fd-49b1-4dc9-fe36-c87c798175aa"
      },
      "outputs": [],
      "source": [
        "left(90)\n",
        "forward(50)\n",
        "left(90)\n",
        "forward(50)\n",
        "hideturtle()"
      ]
    },
    {
      "cell_type": "markdown",
      "metadata": {
        "id": "vq9u_-jYNY5D"
      },
      "source": [
        "**Ejercicio 1.** Dibujar una escalera como la siguiente:\n",
        "\n",
        "![image.png](data:image/png;base64,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)\n",
        "\n",
        "Como la consigna no es precisa (matemáticamente hablando) hay cierto grado de libertad en la  ubicación y tamaño de la escalera."
      ]
    },
    {
      "cell_type": "code",
      "execution_count": null,
      "metadata": {
        "colab": {
          "base_uri": "https://localhost:8080/",
          "height": 521
        },
        "id": "vgkvfBjmN2B2",
        "outputId": "675ec525-3d5d-4a16-df46-3a9bec1e8974"
      },
      "outputs": [],
      "source": [
        "# Dibujar zigzag (un símbolo # al comienzo de una linea es un comentario)\n",
        "initializeTurtle()\n",
        "left(270) # equivalente a rigth(90)\n",
        "forward(60)\n",
        "left(90)\n",
        "forward(60)\n",
        "left(270)\n",
        "forward(60)\n",
        "left(90)\n",
        "forward(60)\n",
        "left(270)\n",
        "forward(60)\n",
        "left(90)\n",
        "forward(60)\n",
        "hideturtle()\n"
      ]
    },
    {
      "cell_type": "markdown",
      "metadata": {
        "id": "7ndL6IoRIhdW"
      },
      "source": [
        "## 2. Ciclos\n",
        "\n",
        "Un ciclo en programación es una estructura que permite repetir un conjunto de instrucciones varias veces. Los ciclos son útiles cuando se necesita realizar una tarea varias veces, en lugar de escribir las mismas instrucciones una y otra vez. En Python, hay dos tipos de ciclos: el ciclo `for` y el ciclo   `while`. El ciclo `for` se utiliza para iterar un número determinado de veces, mientras que el ciclo `while` se utiliza para repetir un conjunto de instrucciones mientras se cumpla una condición determinada."
      ]
    },
    {
      "cell_type": "markdown",
      "metadata": {
        "id": "-cvVpJ9wIur_"
      },
      "source": [
        "Ahora utilizaremos el  ciclo `for` para simplificar la forma en que dibujamos el cuadrado.\n",
        "\n",
        "Lo primero que debemos hacer para comenzar un nuevo dibujo es \"olvidarnos\" del  pizarrón viejo y  crear uno nuevo:"
      ]
    },
    {
      "cell_type": "code",
      "execution_count": null,
      "metadata": {
        "colab": {
          "base_uri": "https://localhost:8080/",
          "height": 521
        },
        "id": "FWDzj49rJEQ6",
        "outputId": "6113d95d-2063-4c75-d072-58d4ab7197cf"
      },
      "outputs": [],
      "source": [
        "initializeTurtle()"
      ]
    },
    {
      "cell_type": "markdown",
      "metadata": {
        "id": "SLlLFe4dJIia"
      },
      "source": [
        "Ahora peguemos las instrucciones que nos permitieron dibujar el  cuadrado y ejecutémolas todas juntas (sin ocultar la tortuga):"
      ]
    },
    {
      "cell_type": "code",
      "execution_count": null,
      "metadata": {
        "colab": {
          "base_uri": "https://localhost:8080/",
          "height": 521
        },
        "id": "DRzdiI52JaX7",
        "outputId": "ca48682e-465c-43d2-ccce-e8058609d8bb"
      },
      "outputs": [],
      "source": [
        "forward(50)\n",
        "left(90)\n",
        "forward(50)\n",
        "left(90)\n",
        "forward(50)\n",
        "left(90)\n",
        "forward(50)\n",
        "left(90)"
      ]
    },
    {
      "cell_type": "markdown",
      "metadata": {
        "id": "vu38QBvZJtSO"
      },
      "source": [
        "Observar que repetimos cuatro veces las instrucciones\n",
        "\n",
        "        forward(50)\n",
        "        left(90)\n",
        "¿Hay una forma de hacerlo sin repetir la escritura de las instrucciones? Sí, por supuesto.\n",
        "\n",
        "La escritura no es muy didáctica, pero posteriormente en el curso quedará más claro.\n",
        "\n",
        "La forma de hacerlo  en general es\n",
        "\n",
        "        for _ in range(n):\n",
        "            <instrucciones>\n",
        "repite $n$ veces el conjunto de instrucciones que están por debajo y  corridas 4 espacios respecto al `for`. En nuestro caso:"
      ]
    },
    {
      "cell_type": "code",
      "execution_count": null,
      "metadata": {
        "colab": {
          "base_uri": "https://localhost:8080/",
          "height": 521
        },
        "id": "IjkqWz2SKTZX",
        "outputId": "700de4ee-06e9-42d4-eb0f-d713c2a1499a"
      },
      "outputs": [],
      "source": [
        "initializeTurtle()\n",
        "for _ in range(4):\n",
        "    forward(50)\n",
        "    left(90)"
      ]
    },
    {
      "cell_type": "markdown",
      "metadata": {
        "id": "fObmnB65PtKo"
      },
      "source": [
        "La instrucción `for` crea un *ciclo* que es una estructura que repite instrucciones dentro de un programa. Los ciclos son una parte fundamental de los programas y sin ciclos la utilidad de las computadoras sería muy limitada."
      ]
    },
    {
      "cell_type": "markdown",
      "metadata": {
        "id": "cJWmtsYGQcUD"
      },
      "source": [
        "**Ejercicio 2.** Dibujar la escalera del ejercicio 1 utilizando un `for`."
      ]
    },
    {
      "cell_type": "code",
      "execution_count": null,
      "metadata": {
        "colab": {
          "base_uri": "https://localhost:8080/",
          "height": 521
        },
        "id": "_Mze8exKQo4q",
        "outputId": "bb1c9e71-3fbf-4eea-d02f-c233e6c5c77d"
      },
      "outputs": [],
      "source": [
        "# Dibujar escalera con for\n",
        "# Dibujar zigzag (un símbolo # al comienzo de una linea es un comentario)\n",
        "initializeTurtle()\n",
        "for _ in range(3):\n",
        "    left(270) # equivalente a rigth(90)\n",
        "    forward(60)\n",
        "    left(90)\n",
        "    forward(60)\n",
        "hideturtle()"
      ]
    },
    {
      "cell_type": "markdown",
      "metadata": {
        "id": "3YLlIZ9DMzGZ"
      },
      "source": [
        "## 2. Ciclos anidados\n",
        "\n",
        "Uno de los asuntos más delicados en la programación es la anidación de bucles o ciclos, cuando se pone un ciclo dentro de otro. Es fuente de muchos errores.\n",
        "\n",
        "Para perderle el miedo y minimizar errores lógicos lo mejor es practicar.\n"
      ]
    },
    {
      "cell_type": "markdown",
      "metadata": {
        "id": "5B-MuZlum6_Z"
      },
      "source": [
        "\n",
        "Ahora, para ejemplificar, nuestro objetivo será dibujar 4 cuadrados como el anterior de tal forma que se haga un dibujo como este:\n",
        "\n",
        "![image.png](data:image/png;base64,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)"
      ]
    },
    {
      "cell_type": "markdown",
      "metadata": {
        "id": "GZL8iR9gM60K"
      },
      "source": [
        "Tenemos la forma de dibujar un cuadrado,  ahora queremos dibujar 4 cuadrados aislados. Primero dibujemos un cuadrado:"
      ]
    },
    {
      "cell_type": "code",
      "execution_count": null,
      "metadata": {
        "colab": {
          "base_uri": "https://localhost:8080/",
          "height": 521
        },
        "id": "Ajls61BGQxca",
        "outputId": "29f5f7b0-cf0a-4a07-a470-6ca924b966c6"
      },
      "outputs": [],
      "source": [
        "initializeTurtle()\n",
        "for _ in range(4):\n",
        "    forward(30)\n",
        "    left(90)"
      ]
    },
    {
      "cell_type": "markdown",
      "metadata": {
        "id": "KMm4YseKdJJ-"
      },
      "source": [
        "Ahora, nos movemos hacia arriba para dibujar el siguiente cuadrado. Nos movemos 60 unidades para separarnos del primer cuadrado."
      ]
    },
    {
      "cell_type": "code",
      "execution_count": null,
      "metadata": {
        "colab": {
          "base_uri": "https://localhost:8080/",
          "height": 521
        },
        "id": "3KYdVOC4dQxK",
        "outputId": "18746c98-9929-4f55-ab20-5794efee4a4f"
      },
      "outputs": [],
      "source": [
        "forward(60)"
      ]
    },
    {
      "cell_type": "markdown",
      "metadata": {
        "id": "BRaS2jR8dcyO"
      },
      "source": [
        "Como posiblemante se dieron cuenta antes de ejecutar la instrucción, no solo nos movemos sino que tambíen dibujamos al movernos y por lo tanto la instrucción anterior no es muy útil.\n",
        "\n",
        "Para solucionar el problema podemos usar la instrucción `penup()` que levanta el lápiz y permite mover la tortuga sin pintar.\n",
        "\n",
        "Empecemos de cero:"
      ]
    },
    {
      "cell_type": "code",
      "execution_count": null,
      "metadata": {
        "colab": {
          "base_uri": "https://localhost:8080/",
          "height": 521
        },
        "id": "RnCjC-0de380",
        "outputId": "696bfaab-33a6-4027-8d7b-e127052ae8a9"
      },
      "outputs": [],
      "source": [
        "initializeTurtle()\n",
        "for _ in range(4):\n",
        "    forward(30)\n",
        "    left(90)\n",
        "penup()\n",
        "forward(60)"
      ]
    },
    {
      "cell_type": "markdown",
      "metadata": {
        "id": "WPCJeenefNeS"
      },
      "source": [
        "Observemos que colocamos pegadas al margen izquierdo las instrucciones\n",
        "\n",
        "        penup()\n",
        "        forward(60)  \n",
        "Con esto las instrucciones no se ejecutan dentro del ciclo `for`."
      ]
    },
    {
      "cell_type": "markdown",
      "metadata": {
        "id": "sBy7Vw8LfC0s"
      },
      "source": [
        "Así como tenemos la instrucción `penup()`,  tenemos la instrucción `pendown()` que vuelva a hacer que dibuje la tortuga. Podemos dibujar entonces otro cuadrado"
      ]
    },
    {
      "cell_type": "code",
      "execution_count": null,
      "metadata": {
        "colab": {
          "base_uri": "https://localhost:8080/",
          "height": 521
        },
        "id": "Re9GkT8Fgcph",
        "outputId": "e0c0f4cd-d5ee-4aab-993a-ff5e2a084724"
      },
      "outputs": [],
      "source": [
        "pendown()\n",
        "for _ in range(4):\n",
        "    forward(30)\n",
        "    left(90)"
      ]
    },
    {
      "cell_type": "markdown",
      "metadata": {
        "id": "J9vUFEyojzxc"
      },
      "source": [
        "Y ahora dejemos lista la tortuga para el próximo dibujo:"
      ]
    },
    {
      "cell_type": "code",
      "execution_count": null,
      "metadata": {
        "colab": {
          "base_uri": "https://localhost:8080/",
          "height": 521
        },
        "id": "wXDOILt8kFDa",
        "outputId": "5dd0241d-67cc-4ebc-b09e-b4c405dd68c6"
      },
      "outputs": [],
      "source": [
        "penup()\n",
        "forward(60)\n",
        "pendown()"
      ]
    },
    {
      "cell_type": "markdown",
      "metadata": {
        "id": "qRDYk2oYifmN"
      },
      "source": [
        "Todo lo hecho hasta ahora quedaría\n"
      ]
    },
    {
      "cell_type": "code",
      "execution_count": null,
      "metadata": {
        "colab": {
          "base_uri": "https://localhost:8080/",
          "height": 521
        },
        "id": "DQq7Qje9ioDS",
        "outputId": "a1e2594e-cd48-4be3-cfbe-0c8e260a16a6"
      },
      "outputs": [],
      "source": [
        "initializeTurtle()\n",
        "for _ in range(4):\n",
        "    forward(30)\n",
        "    left(90)\n",
        "penup()\n",
        "forward(60)\n",
        "pendown()\n",
        "for _ in range(4):\n",
        "    forward(30)\n",
        "    left(90)\n",
        "penup()\n",
        "forward(60)\n",
        "pendown()"
      ]
    },
    {
      "cell_type": "markdown",
      "metadata": {
        "id": "HmtHZHw7iJ4d"
      },
      "source": [
        "Finalmente,  si  repetimos dos veces más las lineas del 8 al 13 obtenemos el dibujo deseado:"
      ]
    },
    {
      "cell_type": "code",
      "execution_count": null,
      "metadata": {
        "colab": {
          "base_uri": "https://localhost:8080/",
          "height": 521
        },
        "id": "XWkfJOTAiCp6",
        "outputId": "1a89d57d-4998-4de5-9ff4-dd03b5f8c687"
      },
      "outputs": [],
      "source": [
        "initializeTurtle()\n",
        "for _ in range(4):\n",
        "    forward(30)\n",
        "    left(90)\n",
        "penup()\n",
        "forward(60)\n",
        "pendown()\n",
        "for _ in range(4):\n",
        "    forward(30)\n",
        "    left(90)\n",
        "penup()\n",
        "forward(60)\n",
        "pendown()\n",
        "for _ in range(4):\n",
        "    forward(30)\n",
        "    left(90)\n",
        "penup()\n",
        "forward(60)\n",
        "pendown()\n",
        "for _ in range(4):\n",
        "    forward(30)\n",
        "    left(90)\n",
        "penup()\n",
        "forward(60)\n",
        "pendown()\n",
        "hideturtle()"
      ]
    },
    {
      "cell_type": "markdown",
      "metadata": {
        "id": "59JU3XSyk8JJ"
      },
      "source": [
        "De nuevo tenemos repeticiones sistemáticas de código  y podemos usar un ciclo `for`.\n",
        "\n",
        "La estructura de nuestro programa debería ser algo así:\n",
        "\n",
        "```\n",
        "repetir 4 veces:\n",
        "    dibujar un cuadrado\n",
        "    ubicarse para dibujar un nuevo cuadrado\n",
        "```\n",
        "\n",
        "\n",
        "\n",
        "\n",
        "\n",
        "El código que se repite es\n",
        "\n",
        "```\n",
        "for _ in range(4):\n",
        "        forward(30)\n",
        "        left(90)\n",
        "    penup()\n",
        "    forward(60)\n",
        "    pendown()\n",
        "```\n",
        "\n",
        "El  programa quedaría"
      ]
    },
    {
      "cell_type": "code",
      "execution_count": null,
      "metadata": {
        "colab": {
          "base_uri": "https://localhost:8080/",
          "height": 521
        },
        "id": "52VCdXh_lcGS",
        "outputId": "ea9f4a13-a4a9-4eba-f84b-bd0a4181638c"
      },
      "outputs": [],
      "source": [
        "initializeTurtle()\n",
        "speed(6) # la tortuga va avelocidad 6\n",
        "for _ in range(4):\n",
        "    for _ in range(4):\n",
        "        forward(30)\n",
        "        left(90)\n",
        "    penup()\n",
        "    forward(60)\n",
        "    pendown()\n",
        "hideturtle()"
      ]
    },
    {
      "cell_type": "markdown",
      "metadata": {
        "id": "pRz0-cDTsScj"
      },
      "source": [
        "Observemos  que hemos incluido un ciclo dentro de otro y  así hemos escrito un programa con ciclos anidados."
      ]
    },
    {
      "cell_type": "markdown",
      "metadata": {
        "id": "U5lObs2lsiHy"
      },
      "source": [
        "**Ejercicio 3.** Modificar el programa que dibuja 4 cuadrados para obtener el siguiente dibujo\n",
        "\n",
        "![image.png](data:image/png;base64,iVBORw0KGgoAAAANSUhEUgAAATwAAABVCAYAAADUiVggAAAAAXNSR0IArs4c6QAAAARnQU1BAACxjwv8YQUAAAAJcEhZcwAAEnQAABJ0Ad5mH3gAAAK/SURBVHhe7dxBShthHAXwSTeCN/AEghsP4MYjeBx3UfBEXiArL+BC8ASudSdCppnygV0M5J9YJtO83w8e/WoD/XyL17EGF13X9ZsAHL1f7VeAo2fwgBgGD4hh8IAYBg+IYfCAGAYPiGHwgBgGD4hh8IAYBg+IYfCAGAYPiGHwgBgGD4hh8IAYP/4BoA8PD93V1VX39vbWvb6+to9+WyyGv2Jap6en3eXlZff5+dnd3t52Ly8v7U8OS1d1uqrT1W6Gwdsrq9Wqn7uvr6/+4uJi9P5TRlf16KoeXe2c0Q+Wsl6v26c0b4+Pj6P3nzK6qkdX9ehqt/zo//AO8ai8j5OTk3Y6HF3V6apOV7uJ+KbF8/NzO7GNrup0VTeXroZ/HoZHvb1snlTb6dv9/X07Tefve1xfX//J34Y73d3dtd8dhq7qdFWnq90NN90rY8ZeN2WWy2W7ybdN0aOvnTJjxl43ZXRVj67qmWtXQ7wPD4hh8IAYRzd4/8t3reZAV3W6qptzV57wgBgGD4hh8IAYBg+IYfCAGAYPiGHwgBgGD4hh8IAYBg+IYfCAGAYPiGHwgBgGD4hh8IAYBg+IYfCAGAYPiGHwgBgGD4hh8IAYBg+IYfCAGAYPiBExeH3ftxPb6KpOV3Vz6coTHhDD4AExDB4Q458P3vC1+iGzXC7bTeZv7P5TRlf16KqeOXcV8YR3fn7eTmyjqzpd1c2lq4jBOzs7aye20VWdrurm0tWPBu/j46Od5u3p6amdDkdXdbqq09XuhjfI7JWbm5v+/f1982X7PK3X6361Wo3eferoqh5d1aOr3bJoB4Cj520pQAyDB8QweEAMgwfEMHhADIMHxDB4QAyDB8QweEAMgwfEMHhADIMHxDB4QAyDB8QweEAMgwfEMHhADIMHxDB4QAyDB8QweEAMgwfEMHhADIMHhOi630k9Y3oEpQTUAAAAAElFTkSuQmCC)"
      ]
    },
    {
      "cell_type": "code",
      "execution_count": null,
      "metadata": {
        "colab": {
          "base_uri": "https://localhost:8080/",
          "height": 521
        },
        "id": "UL2YzcP4sv5C",
        "outputId": "f2915770-96da-4750-8376-af940dc6ac75"
      },
      "outputs": [],
      "source": [
        "initializeTurtle()\n",
        "for _ in range(4):\n",
        "    for _ in range(4):\n",
        "        forward(30)\n",
        "        left(90)\n",
        "    left(90)\n",
        "    penup()\n",
        "    forward(60)\n",
        "    pendown()\n",
        "    left(270)"
      ]
    },
    {
      "cell_type": "markdown",
      "metadata": {
        "id": "4hJ8SFY0tYZt"
      },
      "source": [
        "*Observación.* La técnica de reutilizar programas,  es decir modificar código preexistente, es muy útil y muy utilizada. No  es necesario escribir un programa desde cero si tenemos a disposición el código fuente de un programa que hace algo parecido a lo que nosotros queremos."
      ]
    },
    {
      "cell_type": "markdown",
      "metadata": {
        "id": "NYXBDmJDuMyj"
      },
      "source": [
        "## 3. Instrucciones condicionales\n",
        "\n",
        "- Con frecuencia es conveniente actuar de cierta manera solamente si se cumple una cierta condición. La primera forma que veremos es\n",
        "    - Si pasa “esto” hacer “algo”\n",
        "    - Seguir con la próxima instrucción\n",
        "\n",
        "Las llamamos *instrucciones condicionales.*\n",
        "\n",
        "- La instrucción condicional en Python es\n",
        "    \n",
        "       if <condición>:\n",
        "           <instrucciones>        "
      ]
    },
    {
      "cell_type": "markdown",
      "metadata": {
        "id": "pJrog9auvK3U"
      },
      "source": [
        "Para continuar expliquemos un poco más de Colab Turtle.\n",
        "\n",
        "   - El tamaño del pizarrón es de 800 (ancho) x 500 (alto)\n",
        "   - Todo punto del pizarron está determinado por sus coordenadas $(n,m)$, donde $(0,0)$ es la esquina superior izquierda y $(800, 500)$ es la esquina inferior derecha.\n",
        "\n",
        "La instrucción `goto(n, m)` coloca la tortuga en el coordenada $(n,m)$.  "
      ]
    },
    {
      "cell_type": "code",
      "execution_count": null,
      "metadata": {
        "colab": {
          "base_uri": "https://localhost:8080/",
          "height": 521
        },
        "id": "ZUh8D3_hythq",
        "outputId": "aa86cfb6-390f-4f0a-ee16-28ce862f841b"
      },
      "outputs": [],
      "source": [
        "initializeTurtle()\n",
        "goto(0,0)\n",
        "goto(400, 0)\n",
        "goto(800, 250)\n",
        "goto(0,500)"
      ]
    },
    {
      "cell_type": "markdown",
      "metadata": {
        "id": "huk979E61co3"
      },
      "source": [
        "Utilizaremos la función `randint` de la biblioteca `random` de Python que nos permite obtener un entero al azar:"
      ]
    },
    {
      "cell_type": "code",
      "execution_count": null,
      "metadata": {
        "id": "B14I5izZ1uYj"
      },
      "outputs": [],
      "source": [
        "from random import randint"
      ]
    },
    {
      "cell_type": "markdown",
      "metadata": {
        "id": "O7YiOw872IrV"
      },
      "source": [
        "Con la instrucción `randint(n, m)` con $n \\le m$ obtenemos un número al azar $k$ tal que $n \\le k \\le m$.\n",
        "\n",
        "Por ejemplo"
      ]
    },
    {
      "cell_type": "code",
      "execution_count": null,
      "metadata": {
        "colab": {
          "base_uri": "https://localhost:8080/"
        },
        "id": "3WexuQcP1zSD",
        "outputId": "16afede9-b089-4517-e3dc-0728658ee1fb"
      },
      "outputs": [],
      "source": [
        "randint(1, 10)"
      ]
    },
    {
      "cell_type": "markdown",
      "metadata": {
        "id": "dIAPG4WH2ktJ"
      },
      "source": [
        "imprime en pantalla un número al azar entre 1 y 10."
      ]
    },
    {
      "cell_type": "markdown",
      "metadata": {
        "id": "yCcOlifS2vBI"
      },
      "source": [
        "Queremos ahora hacer el siguiente programa:\n",
        "\n",
        "- Dibujamos un punto al azar en el pizarrón,\n",
        "- si el punto está del lado izquierdo, movemos la tortuga (dibujando) a un punto al azar del lado derecho.\n",
        "\n",
        "Primero dibujemos la tortuga en  un  punto al azar:\n"
      ]
    },
    {
      "cell_type": "code",
      "execution_count": null,
      "metadata": {
        "colab": {
          "base_uri": "https://localhost:8080/",
          "height": 521
        },
        "id": "BOZnqbps3emM",
        "outputId": "052f6087-925f-4bb8-901f-57d7161e9486"
      },
      "outputs": [],
      "source": [
        "from random import randint\n",
        "initializeTurtle()\n",
        "penup()\n",
        "goto(randint(0,800), randint(0,500))\n",
        "pendown()"
      ]
    },
    {
      "cell_type": "markdown",
      "metadata": {
        "id": "H7DQ6vpn4eDD"
      },
      "source": [
        "Ya sabemos colocar la tortuga en algún punto del pizarrón. Ahora debemos verificar si ese punto está a la izquierda,  es decir si está en $(n, m)$ con $n \\le 400$ o si está a la derecha ($n > 400$). Pero ¿cómo sabemos donde está la tortuga? Hay dos instrucciones que nos permiten saber las coordenadas:\n",
        "\n",
        "- `getx()`: primera coodenada\n",
        "- `gety()`: segunda coordenada\n",
        "\n",
        "Verefiquemos en que costado está el punto:"
      ]
    },
    {
      "cell_type": "code",
      "execution_count": null,
      "metadata": {
        "colab": {
          "base_uri": "https://localhost:8080/",
          "height": 521
        },
        "id": "0CEDmBzC4C6y",
        "outputId": "4c30df5e-10e1-4134-e265-f6ec24a8ab53"
      },
      "outputs": [],
      "source": [
        "initializeTurtle()\n",
        "penup()\n",
        "goto(randint(0,800), randint(0,500))\n",
        "pendown()\n",
        "if getx() <= 400:\n",
        "    pass"
      ]
    },
    {
      "cell_type": "markdown",
      "metadata": {
        "id": "J3w9EA-W6G6Y"
      },
      "source": [
        "La instrucción  `pass` se utiliza para \"no hacer nada\" y permite dejar pendiente escritura de código.\n",
        "\n",
        "Ya tenemos escrita la condición \"si la tortuga está en el lado izquierdo\", ahora escribamos la instrucción \"la pasamos al lado derecho\"."
      ]
    },
    {
      "cell_type": "code",
      "execution_count": null,
      "metadata": {
        "colab": {
          "base_uri": "https://localhost:8080/",
          "height": 521
        },
        "id": "Q3Vcz86W6sOh",
        "outputId": "696b2617-6b4e-4d5a-de4d-cb32b7c992e0"
      },
      "outputs": [],
      "source": [
        "from random import randint\n",
        "initializeTurtle()\n",
        "penup()\n",
        "goto(randint(0,800), randint(0,500))\n",
        "pendown()\n",
        "if getx() <= 400:\n",
        "    goto(randint(401,800), randint(0,500))"
      ]
    }
  ],
  "metadata": {
    "colab": {
      "provenance": []
    },
    "kernelspec": {
      "display_name": "Python 3",
      "name": "python3"
    },
    "language_info": {
      "name": "python"
    }
  },
  "nbformat": 4,
  "nbformat_minor": 0
}
