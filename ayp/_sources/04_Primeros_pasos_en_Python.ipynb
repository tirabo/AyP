{
  "cells": [
    {
      "cell_type": "markdown",
      "metadata": {
        "id": "TVPL-_LK_3GG"
      },
      "source": [
        "# Primeros pasos con Python\n",
        "\n",
        "Después de hacer algunos programas en Turtle donde se han visto algunos principios de programación, muchos de los relevantes, ahora haremos una introducción a la programación en general, no solo en Turtle. "
      ]
    },
    {
      "cell_type": "markdown",
      "metadata": {
        "id": "qQwZ0RFr_voY"
      },
      "source": [
        "## 1. Ejecutando  Python\n",
        "\n",
        "Uno de los desafíos al comenzar a trabajar con Python es instalar el software relacionado en tu computadora.\n",
        "\n",
        "Si estás familiarizado con su sistema operativo, y especialmente si te sentís cómodo con la interfaz de línea de comandos, no vas a tener problemas para instalar Python. Pero para los principiantes, puede ser complicado  aprender sobre administración del sistema y programación al  mismo tiempo.\n",
        "\n",
        "Para evitar ese problema, recomendamos comenzar con Jupyter Notebooks. *Jupyter Notebook* (anteriormente IPython Notebooks) es un entorno informático que permite trabajar alternadamente con programas Python y texto enriquecido. Este que están viendo es un *cuaderno Jupyter*.  \n",
        "\n",
        "Existen varias implementaciones de cuadernos Jupyter para comezar a trabajar con ellas:\n",
        "\n",
        "- *Google Colaboratory (Colab).* Es una versión de Jupyter Notebooks on line provista por Google. Es una fabulosa herramienta didáctica y nos permitirá hacer gran parte del curso aunque en  las últimas semanas posiblemente necesitemos otra herramienta. Las tareas y ejercicios del curso se harán con esta herramienta.\n",
        "- *Anaconda.* Anaconda es mucho más que Jupyter Notebooks y los que se sientan cómodos con esta aplicación podrán utilizarla en el curso.\n",
        "- *JupyterLab Desktop.*  Es un subproducto de Anaconda, pero mucho más fácil de instalar y manejar.\n",
        "\n",
        "Un  cuaderno Jupyter se divide en celdas de texto con formato y celdas de código Python. Cuando creamos una celda elegimos que tipo de celda queremos (\"Markdown\" para texto, \"Code\" para Python). Obviamente lo que estamos leyendo ahora es una celda de texto. La celda siguiente es una celda de código y la podemos ejecutar cliqueando el triangulito o posicionarse en ella  y hacer `Mayus+Enter`:\n",
        "\n",
        "\n"
      ]
    },
    {
      "cell_type": "code",
      "execution_count": null,
      "metadata": {
        "colab": {
          "base_uri": "https://localhost:8080/"
        },
        "id": "auL-phi-Dpjy",
        "outputId": "d91a568c-1ca3-46c2-f697-eb6918bf706b"
      },
      "outputs": [],
      "source": [
        "1 + 1"
      ]
    },
    {
      "cell_type": "markdown",
      "metadata": {
        "id": "s06jkquK1IAz"
      },
      "source": [
        "En muchos proyectos que involucren desarrollo de software en Python se utiliza *el modo de secuencia de comandos* o *modo script*. En este modo cada pieza de código se guarda en un archivo y luego se ejecuta este archivo, llamado *script*, en el intérprete. Por convención, los scripts de Python tienen nombres que terminan en `.py`. Si sabés cómo crear y ejecutar un script en tu computadora podrás correr todos los scripts de este curso.\n",
        "\n",
        "Hay herramientas muy útiles para escribir código llamadas IDE (Integrated Development Environment) o entornos de desarrollo integrado​s. Una IDE es una aplicación informática que proporciona servicios integrales para facilitarle al desarrollador o programador el desarrollo de software.\n",
        "\n",
        "La primera que mencionaremos es Visual Studio Code. Visual Studio Code es un editor de código fuente desarrollado por Microsoft para Windows, Linux, macOS y Web. Incluye soporte para la depuración, control integrado de Git, resaltado de sintaxis, finalización inteligente de código, fragmentos y refactorización de código. También es personalizable, por lo que los usuarios pueden cambiar el tema del editor, los atajos de teclado y las preferencias. Es gratuito y de código abierto. Por medio de plugins es posible codificar en casi cualquier lenguaje de programación, en particular en Python.\n",
        "\n",
        "La otra herramienta a mencionar es PyCharm. PyCharm es un IDE multiplataforma dirigido principalmente a Python y al desarrollo web. Una versión de código abierto está disponible como PyCharm Community Edition. Hay una versión paga llamada PyCharm Professional Edition. Una versión especial llamada PyCharm Edu está basada en PyCharm, dirigida específicamente al aprendizaje de la programación con Python. Como alumno universitario podés aplicar a la versión académica. PyCharm tiene una distribución para Anaconda que se puede instalar junto con Anaconda y están estrechamente integradas."
      ]
    },
    {
      "cell_type": "markdown",
      "metadata": {
        "id": "4opU7Xhz1IA1"
      },
      "source": [
        "En la primer celda que ejecutamos usamos a Python como calculadora y ese es el uso  mas sencillo que le podemos dar. Profundizaremos más abajo en este aspecto.\n",
        "\n",
        "Ahora vemos algunos ejemplos muy sencillos de scripts:"
      ]
    },
    {
      "cell_type": "code",
      "execution_count": null,
      "metadata": {
        "colab": {
          "base_uri": "https://localhost:8080/"
        },
        "id": "Q5V3hjH2EiXi",
        "outputId": "640d520a-c7e7-4e8f-f816-ebe93ed665a5"
      },
      "outputs": [],
      "source": [
        "print('¡Hola, mundo!')"
      ]
    },
    {
      "cell_type": "markdown",
      "metadata": {
        "id": "wqAZcEqREmGw"
      },
      "source": [
        "Este es un ejemplo de una _sentencia print_, aunque en realidad no imprime nada en papel. Muestra un resultado en la pantalla. En este caso, como ya habrás comprobado, el resultado son las palabras\n",
        "```\n",
        "¡Hola Mundo!\n",
        "```\n",
        "Las comillas en el programa,  que pueden ser simples o dobles, marcan el principio y el final del texto que se mostrará y no aparecen en el resultado.\n",
        "\n",
        "Los paréntesis indican que `print` es una _función_. Veremos funciones con profundidad más adelante.\n"
      ]
    },
    {
      "cell_type": "code",
      "execution_count": null,
      "metadata": {
        "colab": {
          "base_uri": "https://localhost:8080/"
        },
        "id": "sex_mdmahNdt",
        "outputId": "922275df-3c25-4957-a826-8446980643ef"
      },
      "outputs": [],
      "source": [
        "print('El \"Tata\" Martino')\n",
        "print(\"El 'Tata' Martino\")\n",
        "print(\"El \\\"Tata\\\" Martino\")\n",
        "print(\"El \\\"Tata\\\" Martino\\nEntrenador\")\n"
      ]
    },
    {
      "cell_type": "markdown",
      "metadata": {
        "id": "xpokPMVbF-lc"
      },
      "source": [
        "## 2. Operadores aritméticos\n",
        "\n",
        "Después de `Hola, mundo`, el siguiente paso es la aritmética elemental. Python proporciona _operadores_, que son símbolos especiales que representan cálculos\n",
        "como suma y multiplicación.\n",
        "\n",
        "Los operadores `+`, `-` y `*` realizan sumas, resta y multiplicación, respectivamente. Por ejemplo:\n"
      ]
    },
    {
      "cell_type": "code",
      "execution_count": null,
      "metadata": {
        "colab": {
          "base_uri": "https://localhost:8080/"
        },
        "id": "S--O7kbPGjFH",
        "outputId": "e319c4cf-9e68-4a55-e99a-90107d67df88"
      },
      "outputs": [],
      "source": [
        "40 + 2"
      ]
    },
    {
      "cell_type": "code",
      "execution_count": null,
      "metadata": {
        "colab": {
          "base_uri": "https://localhost:8080/"
        },
        "id": "Pid-Y4PgGjOd",
        "outputId": "9e914cc2-1ec0-44cd-e743-a308148d00e4"
      },
      "outputs": [],
      "source": [
        "43 - 1"
      ]
    },
    {
      "cell_type": "code",
      "execution_count": null,
      "metadata": {
        "colab": {
          "base_uri": "https://localhost:8080/"
        },
        "id": "AtjYYD5QGjY5",
        "outputId": "5dc23809-e49c-42ff-9a6d-f95348cb74d7"
      },
      "outputs": [],
      "source": [
        "6 * 3"
      ]
    },
    {
      "cell_type": "markdown",
      "metadata": {
        "id": "Frjcq4CDG8a1"
      },
      "source": [
        "El operador `/` realiza la división:\n",
        "\n"
      ]
    },
    {
      "cell_type": "code",
      "execution_count": null,
      "metadata": {
        "colab": {
          "base_uri": "https://localhost:8080/"
        },
        "id": "tKtPt1_aHTcV",
        "outputId": "f364e128-205e-4b6b-bd73-11b104c5ed81"
      },
      "outputs": [],
      "source": [
        "84 / 2"
      ]
    },
    {
      "cell_type": "markdown",
      "metadata": {
        "id": "ecaQAlHoHZEY"
      },
      "source": [
        "Quizás te preguntes al ejecutar la celda anterior por qué el resultado es `42.0` en lugar de `42`. La respuesta es que Python tiene dos operadores de división. El primero,  es el que ya vimos, es `/` que siempre obtiene  un número decimal o coma flotante. El segundo es `//` y es la _división entera_. Por ejemplo,\n"
      ]
    },
    {
      "cell_type": "code",
      "execution_count": null,
      "metadata": {
        "colab": {
          "base_uri": "https://localhost:8080/"
        },
        "id": "MRRGn5MrTkQT",
        "outputId": "065a7288-4f07-4c71-ef54-2a4e5884bce5"
      },
      "outputs": [],
      "source": [
        "84 // 2"
      ]
    },
    {
      "cell_type": "markdown",
      "metadata": {
        "id": "pGMgN0VgTy7c"
      },
      "source": [
        "devuelve `42` y"
      ]
    },
    {
      "cell_type": "code",
      "execution_count": null,
      "metadata": {
        "colab": {
          "base_uri": "https://localhost:8080/"
        },
        "id": "OBAR5XPYUPbV",
        "outputId": "1ee6fa73-c1df-4340-f3e1-71551ca84a9d"
      },
      "outputs": [],
      "source": [
        "20 // 3"
      ]
    },
    {
      "cell_type": "code",
      "execution_count": null,
      "metadata": {
        "id": "sumM2xh62STH"
      },
      "outputs": [],
      "source": [
        "20/6"
      ]
    },
    {
      "cell_type": "markdown",
      "metadata": {
        "id": "mMFJEsbvUN05"
      },
      "source": [
        "Devuelve `6`, pues \"3 entra 6 veces en 20\".\n",
        "\n",
        "Finalmente, el operador `**` realiza una exponenciación; esto es,\n",
        "eleva un número a una potencia:"
      ]
    },
    {
      "cell_type": "code",
      "execution_count": null,
      "metadata": {
        "colab": {
          "base_uri": "https://localhost:8080/"
        },
        "id": "7MZkobTDHwul",
        "outputId": "6ef978c4-074d-4257-a83d-226fbe31c0ce"
      },
      "outputs": [],
      "source": [
        "6 ** 2"
      ]
    },
    {
      "cell_type": "markdown",
      "metadata": {
        "id": "AK84soxpiVs4"
      },
      "source": [
        "Sabemos que $a^n$ es $a$ multiplicado por si mismo $n$-veces. También conocemos, que $(a^n)^m = a^{nm}$.\n",
        "\n",
        "Entonces, como sabemos que si $a>0$, $(\\sqrt[n]{a})^n = a$, es \"claro\" que $\\sqrt[n]{a} = a^{1/n}$, pues $ (a^{1/n})^n = a^{\\frac1n n} =a$.\n",
        "\n",
        "Luego\n",
        "$$\n",
        "\\sqrt{10} = 10^{1/2} = 10^{0.5}.\n",
        "$$\n",
        "Por ejemplo,"
      ]
    },
    {
      "cell_type": "code",
      "execution_count": null,
      "metadata": {
        "colab": {
          "base_uri": "https://localhost:8080/"
        },
        "id": "5IdMaNuN1IA-",
        "outputId": "0752d7bc-da9d-4cfb-f830-375af1de22c7"
      },
      "outputs": [],
      "source": [
        "print(9**0.5) # raíz cuadrada de 9 (= 3)\n",
        "print(27**(1/3)) # raíz cúbica de 27 (= 3)"
      ]
    },
    {
      "cell_type": "markdown",
      "metadata": {
        "id": "pa1xnfneH0Sg"
      },
      "source": [
        "En  las celdas de código anteriores usamos el símbolo `#` para comenzar un *comentario*: el texto que sigue después de `#` no será interpretado  o ejecutado y sirve de ayuda al programador.\n",
        "\n",
        "En algunos lenguajes de programación se utiliza `^` para la exponenciación, pero en Python `^` es un operador bit a bit llamado XOR. Si no estás familiarizado con los operadores bit a bit, el resultado te sorprenderá:\n",
        "\n",
        "\n"
      ]
    },
    {
      "cell_type": "code",
      "execution_count": null,
      "metadata": {
        "colab": {
          "base_uri": "https://localhost:8080/"
        },
        "id": "WvvOCb76IGsh",
        "outputId": "85a5e0d9-2000-4d85-9013-62d06155d014"
      },
      "outputs": [],
      "source": [
        "6 ^ 2"
      ]
    },
    {
      "cell_type": "markdown",
      "metadata": {
        "id": "vwc7xDXq3e2k"
      },
      "source": [
        "$6^2$"
      ]
    },
    {
      "cell_type": "markdown",
      "metadata": {
        "id": "6w_XZ-CFI-eh"
      },
      "source": [
        "No cubriremos los operadores bit a bit en este curso, pero podes leer acerca de\n",
        "ellos en [http://wiki.python.org/moin/BitwiseOperators](http://wiki.python.org/moin/BitwiseOperators) (en inglés)."
      ]
    },
    {
      "cell_type": "markdown",
      "metadata": {
        "id": "Rdjt76sqKu_b"
      },
      "source": [
        "## 3. Valores y tipos\n",
        "\n",
        "Un _valor_ es una de las entidades básicas con las que trabaja un programa, como una letra o un número. Algunos valores que hemos visto hasta ahora son `2`, `42.0` y `'¡Hola, mundo!'`.\n",
        "\n",
        "Estos valores pertenecen a diferentes _tipos_: `2` es un _entero_, `42.0` es un _número de coma flotante_ y `'¡Hola, mundo!'`es una _cadena_, así llamada porque los caracteres que contiene se ubican en forma consecutiva.\n",
        "\n",
        "Si no estás seguro de qué tipo de valor es un valor determinado, Python mismo puede decírtelo ejecutando la función `type()`.\n"
      ]
    },
    {
      "cell_type": "code",
      "execution_count": null,
      "metadata": {
        "colab": {
          "base_uri": "https://localhost:8080/"
        },
        "id": "fWHLvHlhMNHg",
        "outputId": "6bf6e221-c5a1-461e-fc38-fedc0b9e79bd"
      },
      "outputs": [],
      "source": [
        "print(type(2))\n",
        "print(type(42.0))\n",
        "print(type('¡Hola, mundo!'))\n",
        "print(type(True))"
      ]
    },
    {
      "cell_type": "code",
      "execution_count": null,
      "metadata": {
        "colab": {
          "base_uri": "https://localhost:8080/"
        },
        "id": "w4bH1BsRm9hl",
        "outputId": "ff9a2628-59fd-4fcf-bfba-24257d4a655f"
      },
      "outputs": [],
      "source": [
        "n = 2\n",
        "print( n < 5)"
      ]
    },
    {
      "cell_type": "markdown",
      "metadata": {
        "id": "2TryIXoYMc-y"
      },
      "source": [
        "Vemos en los resultados de ejecutar la celda anterior que en todos aparece la palabra `class`. La palabra `class`,  cuya traducción al español es *clase*, se usa en el sentido de una categoría: un tipo es una categoría de valores.\n",
        "\n",
        "No es sorprendente que los enteros pertenezcan al tipo `int`, las cadenas pertenezcan a `str` (por _string_ en inglés) y los números en coma flotante pertenezcan a `float`.\n",
        "\n",
        "El tipo `bool` solo tiene dos valores `True` y `False`,  que sirven para denotar la verdad o falsedad de expresiones lógicas.\n",
        "\n",
        "¿Qué pasa con valores como `'2'` y `'42.0'`?\n",
        "Parecen números, pero están entre comillas como cadenas y, efectivamente son cadenas. Lo  comprobaremos ejecutando lo siguiente:\n"
      ]
    },
    {
      "cell_type": "code",
      "execution_count": null,
      "metadata": {
        "colab": {
          "base_uri": "https://localhost:8080/"
        },
        "id": "NruWxWThNmOS",
        "outputId": "74e34ea1-6408-459a-e786-3928a3835602"
      },
      "outputs": [],
      "source": [
        "print(type('2'))\n",
        "print(type('42.0'))"
      ]
    },
    {
      "cell_type": "markdown",
      "metadata": {
        "id": "NrcJNSbgNzv6"
      },
      "source": [
        "Cuando escribís un entero grande, podés tener la tentación de usar puntos entre grupos de dígitos, como en `1.000.000`. Sin embargo,  esto no es una forma permitida de escribir un entero, por ejemplo, si descomentamos la siguiente celda de código la ejecución nos devuelve un error:"
      ]
    },
    {
      "cell_type": "code",
      "execution_count": null,
      "metadata": {
        "colab": {
          "base_uri": "https://localhost:8080/",
          "height": 106
        },
        "id": "EY_YT_qFOK-x",
        "outputId": "5e439cda-b2f0-4a9b-e3aa-3bd3008d7b7a"
      },
      "outputs": [],
      "source": [
        "## print(1.000.000)"
      ]
    },
    {
      "cell_type": "markdown",
      "metadata": {
        "id": "PvCxy1u9Ob5G"
      },
      "source": [
        "La forma correcta de escribir \"un millón\" es `1000000`. Python permite utilizar el guion bajo  en un entero para simplificar la lectura:  `1_000_000` es otra forma de escribir \"un millón\".\n",
        "\n",
        "Podemos tratar también de escribir un número decimal o coma flotante usando la notación latina. Por ejemplo, \"cuatro coma cinco\", podríamos intentar escribirlo como `4,5`,  y hagamos la prueba:  "
      ]
    },
    {
      "cell_type": "code",
      "execution_count": null,
      "metadata": {
        "colab": {
          "base_uri": "https://localhost:8080/"
        },
        "id": "Mm82U3MYO8QS",
        "outputId": "161fbad1-4911-4d04-a0c6-a10fb82818f1"
      },
      "outputs": [],
      "source": [
        "print(4,5)"
      ]
    },
    {
      "cell_type": "markdown",
      "metadata": {
        "id": "4ZzHRGgUPDQa"
      },
      "source": [
        "¡Eso no es lo que esperábamos en absoluto! Python interpreta la expresión `4,5` como dos enteros separados.\n",
        "\n",
        "Este es el primer ejemplo que hemos visto de un *error semántico*: el código se ejecuta sin producir un mensaje de error, pero no es lo que queremos obtener.\n",
        "\n",
        "La forma correcta de escribir un número decimal es reemplazando  la coma por  el punto, por ejemplo \"cuatro coma cinco\" se escribe `4.5`"
      ]
    },
    {
      "cell_type": "code",
      "execution_count": null,
      "metadata": {
        "colab": {
          "base_uri": "https://localhost:8080/"
        },
        "id": "VxkgDsqu1IBE",
        "outputId": "dc90137c-f13f-4f15-f83e-d84df05558b8"
      },
      "outputs": [],
      "source": [
        "print(4.5 * 2)"
      ]
    },
    {
      "cell_type": "markdown",
      "metadata": {
        "id": "kCoCtpzZ1IBE"
      },
      "source": [
        "## 4. Python como calculadora\n",
        "\n",
        "Como vimos más arriba Python puede ser usado como una calculadora. Ahora veremos más funciones de \"calculadora\". Para ello utilizaremos el módulo `math`. El módulo `math` permite utilizar funciones matemáticas que no son accesibles directamente en Python. La instrucción para importar el módulo es"
      ]
    },
    {
      "cell_type": "code",
      "execution_count": null,
      "metadata": {
        "id": "PXm6xi6IjClh"
      },
      "outputs": [],
      "source": [
        "import math"
      ]
    },
    {
      "cell_type": "markdown",
      "metadata": {
        "id": "CExAYGV51IBF"
      },
      "source": [
        "y debemos ejecutarla si en las siguientes celdas de código queremos usar el módulo.\n",
        "\n",
        "La instrucción para obtener el logaritmo en base $e$ es `math.log(t)`, donde `t` es un número real positivo.\n",
        "\n",
        "Recordemos que si $a, t >0$ ,\n",
        "$$\n",
        "\\operatorname{log}_a(t) = r \\quad ⇔ \\quad a^r = t\n",
        "$$"
      ]
    },
    {
      "cell_type": "code",
      "execution_count": null,
      "metadata": {
        "colab": {
          "base_uri": "https://localhost:8080/"
        },
        "id": "8d6sLzcpjM18",
        "outputId": "b0f6e533-936e-47ff-a54d-93d5c91765a9"
      },
      "outputs": [],
      "source": [
        "math.log(10)"
      ]
    },
    {
      "cell_type": "markdown",
      "metadata": {
        "id": "IlkO1doO1IBF"
      },
      "source": [
        "Si queremos obtener el logaritmo en base 10 debemos usar la función `math.log10()`:"
      ]
    },
    {
      "cell_type": "code",
      "execution_count": null,
      "metadata": {
        "colab": {
          "base_uri": "https://localhost:8080/"
        },
        "id": "2q2P1aNAjUsL",
        "outputId": "e5232c6a-763a-4bfc-9152-5fe73b4eee3f"
      },
      "outputs": [],
      "source": [
        "print(math.log10(10))\n",
        "print(math.log10(10**234))"
      ]
    },
    {
      "cell_type": "markdown",
      "metadata": {
        "id": "a4OQsjXI1IBF"
      },
      "source": [
        "Las funciones trigonométricas también son accesibles  desde el  módulo `math`."
      ]
    },
    {
      "cell_type": "code",
      "execution_count": null,
      "metadata": {
        "colab": {
          "base_uri": "https://localhost:8080/"
        },
        "id": "AQl4t8TEjgPr",
        "outputId": "0151e3dc-ac23-45fd-b516-6bc09e8b9cb1"
      },
      "outputs": [],
      "source": [
        "math.sin(0)"
      ]
    },
    {
      "cell_type": "markdown",
      "metadata": {
        "id": "2iEKJc6U1IBG"
      },
      "source": [
        "es el seno  de $0$.\n",
        "\n",
        "Si queremos calcular el seno de 360° directamente fallaremos:"
      ]
    },
    {
      "cell_type": "code",
      "execution_count": null,
      "metadata": {
        "colab": {
          "base_uri": "https://localhost:8080/"
        },
        "id": "jUmKwndHjlOB",
        "outputId": "e6370dec-6952-4732-d53e-2d9de2486cb6"
      },
      "outputs": [],
      "source": [
        "math.sin(360)"
      ]
    },
    {
      "cell_type": "markdown",
      "metadata": {
        "id": "7ucq0oIi1IBG"
      },
      "source": [
        "El problema es que las funciones trigonométricas en Python aceptan  los grados en radianes.  Recordemos que $\\pi$ radianes son 180° sexagesimales, todo lo demás es regla de tres simple:\n",
        "- 360° $\\to$ $2\\pi$\n",
        "- 270° $\\to$ $\\displaystyle\\frac32 \\pi$\n",
        "- 90° $\\to$ $\\pi/2$\n",
        "\n",
        "En general\n",
        "- $x$ grados sexagesimales $\\to$ $x \\cdot \\pi / 180$ radianes.\n",
        "\n",
        "Podemos obtener $\\pi$ copiando alguna estimación de algún sitio web, pero es más sencillo utilizar el que nos provee  Python:"
      ]
    },
    {
      "cell_type": "code",
      "execution_count": null,
      "metadata": {
        "colab": {
          "base_uri": "https://localhost:8080/"
        },
        "id": "9gdrcmyCjwoT",
        "outputId": "fe4763e0-af5e-48a8-8006-12485159f8cb"
      },
      "outputs": [],
      "source": [
        "math.pi"
      ]
    },
    {
      "cell_type": "code",
      "execution_count": null,
      "metadata": {
        "colab": {
          "base_uri": "https://localhost:8080/"
        },
        "id": "U3HhewRdj1Qk",
        "outputId": "cc99d4a7-9ec2-4ac3-c49e-c714bd1d3849"
      },
      "outputs": [],
      "source": [
        "math.sin(2 * math.pi)"
      ]
    },
    {
      "cell_type": "markdown",
      "metadata": {
        "id": "D0Wd4M5-j_Zh"
      },
      "source": [
        "La expresión ressultante es\n",
        "\n",
        "<p align=\"center\">-2.4492935982947064e-16</p>\n",
        "\n",
        " que se lee\n",
        "$$\n",
        "-2.4492935982947064 \\times 10^{-16}.\n",
        "$$\n",
        " Es decir es\n",
        "$$\n",
        "-0.00000000000000024492935982947064\n",
        "$$\n",
        "Nosotros esperaríamos que el resultado de ejecutar la línea de código anterior sea `0`, pero debido a que el valor de $\\pi$ es una aproximación y  que la función `sin()` también devuelve aproximaciones,  el resultado es número \"cercano\"  a `0`.\n",
        "\n",
        "Para ver todas las funciones del módulo ejecutamos `dir(math)`:"
      ]
    },
    {
      "cell_type": "code",
      "execution_count": null,
      "metadata": {
        "colab": {
          "base_uri": "https://localhost:8080/"
        },
        "id": "Hut4aN6Zk0e8",
        "outputId": "673e7887-0f07-49e1-927b-4a04c9bdddf0"
      },
      "outputs": [],
      "source": [
        "dir(math)"
      ]
    },
    {
      "cell_type": "markdown",
      "metadata": {
        "id": "TxxTe1nP1IBH"
      },
      "source": [
        "Entre todos los métodos que nos provee la biblioteca `math` tenemos los que convierten radianes a grados sexagesimales y  viceversa."
      ]
    },
    {
      "cell_type": "code",
      "execution_count": null,
      "metadata": {
        "colab": {
          "base_uri": "https://localhost:8080/"
        },
        "id": "Qi-A0TDalU3-",
        "outputId": "ddda56f1-02e3-4011-adeb-27708797ba49"
      },
      "outputs": [],
      "source": [
        "math.degrees(math.pi)"
      ]
    },
    {
      "cell_type": "code",
      "execution_count": null,
      "metadata": {
        "colab": {
          "base_uri": "https://localhost:8080/"
        },
        "id": "vBvvz54NlyKm",
        "outputId": "ea62e3a7-007f-4ae7-dc1a-8f001d0010fe"
      },
      "outputs": [],
      "source": [
        "math.sin(math.radians(360)) # esto debería resultar un número cercano a 0"
      ]
    },
    {
      "cell_type": "markdown",
      "metadata": {
        "id": "LkxL_Dmhrq9A"
      },
      "source": [
        "También podemos calcular exponenciales y logaritmos."
      ]
    },
    {
      "cell_type": "code",
      "execution_count": null,
      "metadata": {
        "colab": {
          "base_uri": "https://localhost:8080/"
        },
        "id": "ul0K19rnl_bm",
        "outputId": "1869ade1-187a-4fad-e47f-1c55099b62b0"
      },
      "outputs": [],
      "source": [
        "print(math.e) # el número e\n",
        "math.log(math.e) # el logaritmo natural (en base e) de e"
      ]
    },
    {
      "cell_type": "markdown",
      "metadata": {
        "id": "mfYpGl-WmLbQ"
      },
      "source": [
        "Recordemos que $\\log(x) = y$ si y solo si $e^y = x$.\n",
        "\n",
        "En  general\n",
        "$$\n",
        "\\log_a(x) = y \\quad\\Leftrightarrow \\quad a^y = x  \\quad \\Leftrightarrow\\quad  \\log(a^y) = \\log(x) \\quad  \\Leftrightarrow \\quad \\log(a) \\cdot y = \\log(x)\\quad  \\Leftrightarrow \\quad  y = \\log(x) / \\log(a)\n",
        "$$\n",
        "\n",
        "Concluyendo:\n",
        "$$\n",
        "\\log_a(x) =  \\log(x) / \\log(a)\n",
        "$$\n",
        "\n",
        "Luego, si queremos calcular, el logaritmo en base 2 de `x`, debemos  hacer `math.log(x) / math.log(2)`. Por ejemplo,"
      ]
    },
    {
      "cell_type": "code",
      "execution_count": null,
      "metadata": {
        "colab": {
          "base_uri": "https://localhost:8080/"
        },
        "id": "khJI4gfhmxjn",
        "outputId": "1dccc699-78ac-4660-82d6-67c2ede719d3"
      },
      "outputs": [],
      "source": [
        "print(math.log(10) / math.log(2)) # logartimo en base 2 de 10\n",
        "print(math.log(16) / math.log(2)) # logartimo en base 2 de 16 (es 4, pues 2**4 = 16)"
      ]
    },
    {
      "cell_type": "markdown",
      "metadata": {
        "id": "LaBPHwNCsKqk"
      },
      "source": [
        "Por suerte el logaritmo en base 2, el más utilizado en ciencias de la computación,  está definido en la biblioteca  `math`."
      ]
    },
    {
      "cell_type": "code",
      "execution_count": null,
      "metadata": {
        "colab": {
          "base_uri": "https://localhost:8080/"
        },
        "id": "llYMKnfesYjq",
        "outputId": "391ece7a-2b6f-40df-c343-31903a7cbec6"
      },
      "outputs": [],
      "source": [
        "print(math.log2(10))\n",
        "print(math.log2(16))"
      ]
    },
    {
      "cell_type": "markdown",
      "metadata": {
        "id": "DPmsAbIw1IBI"
      },
      "source": [
        "Una forma de elevar un número  a una potencia es utilizando `math.pow()`"
      ]
    },
    {
      "cell_type": "code",
      "execution_count": null,
      "metadata": {
        "colab": {
          "base_uri": "https://localhost:8080/"
        },
        "id": "0XWUE-CqnRLh",
        "outputId": "17547347-6ba8-4219-f347-ac396169ebf2"
      },
      "outputs": [],
      "source": [
        "math.pow(2, 3)"
      ]
    },
    {
      "cell_type": "markdown",
      "metadata": {
        "id": "d-15A55c1IBI"
      },
      "source": [
        "que es lo mismo que"
      ]
    },
    {
      "cell_type": "code",
      "execution_count": null,
      "metadata": {
        "colab": {
          "base_uri": "https://localhost:8080/"
        },
        "id": "HouKvv0DnWxN",
        "outputId": "5bc15873-7d09-4a20-9d61-4c06cfee8b23"
      },
      "outputs": [],
      "source": [
        "2**3"
      ]
    },
    {
      "cell_type": "markdown",
      "metadata": {
        "id": "gA9ohlQW1IBI"
      },
      "source": [
        "También, para ciertas situaciones y algoritmos a veces es conveniente manejar el concepto de infinito. Esto muchas veces se hace eligiendo un número \"muy grande\". Python nos provee `math.inf` que pese a no ser un número formalmente es del tipo `float`. Decimos que no es número porque no cumple las leyes o axiomas de un número real pues es un \"número\" más grande que cualquier otro.\n",
        "\n",
        "Para que quede claro: matemáticamente *infinito* no es un número sino un concepto matemático."
      ]
    },
    {
      "cell_type": "code",
      "execution_count": null,
      "metadata": {
        "colab": {
          "base_uri": "https://localhost:8080/"
        },
        "id": "4qUt67U2nfDW",
        "outputId": "ee2c3941-20c0-4c17-c95a-eacb9d4b009c"
      },
      "outputs": [],
      "source": [
        "type(math.inf)"
      ]
    },
    {
      "cell_type": "markdown",
      "metadata": {
        "id": "fTkc6tL81IBJ"
      },
      "source": [
        "Por  el tipo `math.inf` parece ser un número, pero..."
      ]
    },
    {
      "cell_type": "code",
      "execution_count": null,
      "metadata": {
        "colab": {
          "base_uri": "https://localhost:8080/"
        },
        "id": "o_DTML3D1IBJ",
        "outputId": "aed26322-0e59-4ee7-8169-263edfd79833"
      },
      "outputs": [],
      "source": [
        "math.inf + 1 == math.inf # ningún número cumple con esta condición"
      ]
    },
    {
      "cell_type": "code",
      "execution_count": null,
      "metadata": {
        "colab": {
          "base_uri": "https://localhost:8080/"
        },
        "id": "G8T7_vN1sw2W",
        "outputId": "cd8194c6-c685-4b21-95fb-79139c811ead"
      },
      "outputs": [],
      "source": [
        "math.inf / 2 == math.inf # ningún número cumple con esta condición"
      ]
    },
    {
      "cell_type": "markdown",
      "metadata": {
        "id": "9FVnHMWz1IBJ"
      },
      "source": [
        "El `==` compara dos cantidades y devuelve `True` si son iguales."
      ]
    },
    {
      "cell_type": "code",
      "execution_count": null,
      "metadata": {
        "colab": {
          "base_uri": "https://localhost:8080/"
        },
        "id": "ovHQaFvF1IBJ",
        "outputId": "9d4a47c0-556b-4434-a599-d60787aed458"
      },
      "outputs": [],
      "source": [
        "print(10**4552 < math.inf) # todos los números cumplen con esta condición"
      ]
    },
    {
      "cell_type": "markdown",
      "metadata": {
        "id": "Sl3zMcfPsEw_"
      },
      "source": [
        "Para evitar escribir `math.` antes de cada función ejecutamos la siguiente celda  de código:"
      ]
    },
    {
      "cell_type": "code",
      "execution_count": null,
      "metadata": {
        "id": "VA0U308msOTg"
      },
      "outputs": [],
      "source": [
        "from math import *"
      ]
    },
    {
      "cell_type": "markdown",
      "metadata": {
        "id": "5tNpL5Cb1IBJ"
      },
      "source": [
        "Luego de ejecutar la celda de arriba es lícito escribir, por ejemplo:"
      ]
    },
    {
      "cell_type": "code",
      "execution_count": null,
      "metadata": {
        "colab": {
          "base_uri": "https://localhost:8080/"
        },
        "id": "SE_XiSLd1IBK",
        "outputId": "17dcde6c-df5c-40b9-af78-54e08024a0d3"
      },
      "outputs": [],
      "source": [
        "sin(2 * pi)"
      ]
    },
    {
      "cell_type": "markdown",
      "metadata": {
        "id": "DdtghJIGsSjl"
      },
      "source": [
        "Si sabemos que vamos a utilizar algunas funciones determinadas del módulo, podemos importar solamente esa funciones:"
      ]
    },
    {
      "cell_type": "code",
      "execution_count": null,
      "metadata": {
        "colab": {
          "base_uri": "https://localhost:8080/"
        },
        "id": "GL5zk4tzn6Zl",
        "outputId": "06853e3e-dad6-4902-d5eb-2207be02d12d"
      },
      "outputs": [],
      "source": [
        "from math import log, e\n",
        "log(e)"
      ]
    },
    {
      "cell_type": "markdown",
      "metadata": {
        "id": "bDCuHOhosfmx"
      },
      "source": [
        "Si queremos acortar o cambiar el nombre del módulo dentro de nuestro programa podemos hacer algo como lo siguiente:"
      ]
    },
    {
      "cell_type": "code",
      "execution_count": null,
      "metadata": {
        "colab": {
          "base_uri": "https://localhost:8080/"
        },
        "id": "57CuD_AjoO8c",
        "outputId": "a7135766-5a8f-4df2-9251-de6d1d59d5b0"
      },
      "outputs": [],
      "source": [
        "import math as mt\n",
        "mt.log(mt.e)"
      ]
    },
    {
      "cell_type": "markdown",
      "metadata": {
        "id": "cqwOuvHlYGKz"
      },
      "source": [
        "# Variables, expresiones y sentencias"
      ]
    },
    {
      "cell_type": "markdown",
      "metadata": {
        "id": "uaYJ-f7lYsNo"
      },
      "source": [
        "## 1. Variables y asignaciones\n",
        "\n",
        "En programación, una variable está formada por un espacio en el sistema de almacenaje (memoria principal de un ordenador) y un nombre simbólico (un identificador) que está asociado a dicho espacio. Ese espacio contiene una cantidad de información conocida o desconocida, es decir un valor.\n",
        "\n",
        "Las variables de un programa describen el *estado* del programa. Los estados describen completamente al programa, al menos en lo que se refiere a los resultados que se obtienen y a la interacción con el mundo exterior u otras componentes.\n",
        "\n",
        "En Python la forma de crear variables es crear un nombre, el de la variable, y asignarle un valor. Una *asignación* crea una nueva variable y por medio del símbolo `=` le da un valor:"
      ]
    },
    {
      "cell_type": "code",
      "execution_count": null,
      "metadata": {
        "id": "g0WNnlM4Y-eV"
      },
      "outputs": [],
      "source": [
        "mensaje = 'Y ahora algo completamente diferente'\n",
        "n = 17\n",
        "pi = 3.1415926535897932"
      ]
    },
    {
      "cell_type": "markdown",
      "metadata": {
        "id": "ANqX88jrZQEm"
      },
      "source": [
        "Este ejemplo hace tres asignaciones. La primera asigna una cadena a una nueva variable llamada `mensaje`; la segunda asigna el número entero `17` a `n` y  la tercera asigna el valor (aproximado) de $\\pi$ a `pi`.\n"
      ]
    },
    {
      "cell_type": "code",
      "execution_count": null,
      "metadata": {
        "id": "20FCCo7wiTh2"
      },
      "outputs": [],
      "source": []
    },
    {
      "cell_type": "code",
      "execution_count": null,
      "metadata": {
        "colab": {
          "base_uri": "https://localhost:8080/"
        },
        "id": "L71mMpCvfjBM",
        "outputId": "9193001c-6b5a-44a1-c9cc-2de5926a66e0"
      },
      "outputs": [],
      "source": [
        "print(mensaje)\n",
        "print(n)\n",
        "print(pi)\n",
        "print(2 * pi)"
      ]
    },
    {
      "cell_type": "markdown",
      "metadata": {
        "id": "QHDk0vTwe-7w"
      },
      "source": [
        "## 2.  Nombres de variables y palabras reservadas\n",
        "Como norma general, los programadores eligen nombres significativos para sus\n",
        "variables: esto permite documentar para qué se usa la variable.\n",
        "\n",
        "Los nombres de las variables pueden tener una longitud arbitraria. Pueden estar\n",
        "formados por letras y números, pero deben comenzar con una letra o un guion bajo (`_`). Aunque es aceptable usar mayúsculas, por convención no lo haremos. Si lo hacés, recordá que la distinción es importante: `Bruno` y `bruno` son dos variables diferentes.\n",
        "\n",
        "El guion bajo (`_`) también es legal y se utiliza a menudo para separar nombres con múltiples palabras, como `mi_nombre` o `precio_del_cafe_colombiano` o incluso el carácter simple se utiliza como variable.\n",
        "\n",
        "Para definir una variable debemos asignarle un valor. Por ejemplo:"
      ]
    },
    {
      "cell_type": "code",
      "execution_count": null,
      "metadata": {
        "id": "odSLjpbmfJHx"
      },
      "outputs": [],
      "source": [
        "bruno_diaz = 5\n",
        "bruno = 6\n",
        "_ = 38\n",
        "_empleado = 'Juan Pérez'"
      ]
    },
    {
      "cell_type": "markdown",
      "metadata": {
        "id": "CP0Gen94uybc"
      },
      "source": [
        "\n",
        "Si intentás darle a una variable un nombre ilegal, obtendrás un error de sintaxis."
      ]
    },
    {
      "cell_type": "code",
      "execution_count": null,
      "metadata": {
        "colab": {
          "base_uri": "https://localhost:8080/",
          "height": 106
        },
        "id": "SUUMtG4puxVK",
        "outputId": "fe975436-9b99-4564-88a7-d69536974032"
      },
      "outputs": [],
      "source": [
        "# 76trombones = \"gran desfile\" # descomentar esta linea produce error "
      ]
    },
    {
      "cell_type": "code",
      "execution_count": null,
      "metadata": {
        "colab": {
          "base_uri": "https://localhost:8080/",
          "height": 106
        },
        "id": "8f5wQxyzuxfz",
        "outputId": "a510fb55-9401-448a-df98-794f9d2ab131"
      },
      "outputs": [],
      "source": [
        "# mas$ = 1000000 # descomentar esta linea produce error "
      ]
    },
    {
      "cell_type": "code",
      "execution_count": null,
      "metadata": {
        "colab": {
          "base_uri": "https://localhost:8080/",
          "height": 106
        },
        "id": "riqPVtkTuxqF",
        "outputId": "7c93419c-c505-41c6-eb85-a20af707e5ff"
      },
      "outputs": [],
      "source": [
        "# global = \"Curso de Programación 101\" # descomentar esta linea produce error"
      ]
    },
    {
      "cell_type": "markdown",
      "metadata": {
        "id": "t9EzTKdXfQxU"
      },
      "source": [
        "`76trombones` es ilegal porque no comienza por una letra o guion bajo. `mas$` es ilegal porque contiene un carácter ilegal, el signo pesos. Pero ¿qué tiene de malo `global`?\n",
        "\n",
        "Resulta que `global` es una de las palabras reservadas de Python. El lenguaje usa las palabras reservadas para definir sus reglas y estructura, y no pueden usarse como nombres de variables.\n",
        "\n",
        "Python 3 tiene las siguientes palabras reservadas (son pocas):\n",
        "\n",
        "|      |     |     |      |     |\n",
        "| :------------- | :---------- | :----------- | :----------- | :----------- |\n",
        "| `False`| `class`| `finally`| `is`| `return`|\n",
        "| `None`| `continue`| `for`| `lambda`| `try`|\n",
        "| `True`| `def`| `from`| `nonlocal`| `while`|\n",
        "| `and`| `del`| `global`| `not`| `with`|\n",
        "| `as`| `elif`| `if`| `or`| `yield`|\n",
        "| `assert`| `else`| `import`| `pass`|\n",
        "| `break`| `except`| `in`| `raise`|\n",
        "\n",
        "Tal vez quieras mantener esta lista a mano.\n",
        "\n",
        "Si el intérprete se queja de alguno de sus nombres de variable, y  no sabés por qué, comprobá si está en esta lista.\n"
      ]
    },
    {
      "cell_type": "markdown",
      "metadata": {
        "id": "DD3tWboOfXLj"
      },
      "source": [
        "\n",
        "\n",
        "## 3. Expresiones y sentencias\n",
        "\n",
        "Una *expresión* es una línea de código válido Python que produce un valor.\n",
        "Podemos pensar en las expresiones como las palabras del lenguaje.\n",
        "Un valor en sí mismo se considera una expresión y, por lo tanto, una variable también es una expresión.\n",
        "\n",
        "Por ejemplo,  si hacemos la asignación\n",
        "\n"
      ]
    },
    {
      "cell_type": "code",
      "execution_count": null,
      "metadata": {
        "id": "UOBAuFbqaSiu"
      },
      "outputs": [],
      "source": [
        "n = 17"
      ]
    },
    {
      "cell_type": "markdown",
      "metadata": {
        "id": "OBqedtTyaZNs"
      },
      "source": [
        "\n",
        "Entonces, las siguientes son todas expresiones legales:\n",
        "```\n",
        "42\n",
        "n\n",
        "n + 25\n",
        "```\n",
        "Cuando escribís una expresión en el prompt o en una celda de código y la ejecutás, el intérprete la evalúa, lo que significa que encuentra el valor de la expresión. En este ejemplo, en la primer línea el intérprete sabe que hay un valor `42`.  En la tercera línea  `n` tiene el valor `17` y en la última `n + 25` tiene el valor `42`.\n",
        "\n",
        "Una *sentencia*, también llamada *declaración* o en inglés *statement*, realiza una acción. Escribimos una sentencia cuando queremos que nuestro programa haga algo. Es decir, las sentencias son las instrucciones de nuestro programa.\n",
        "\n",
        "En este Colab hemos visto dos tipos de sentencias: `print` y la asignación."
      ]
    },
    {
      "cell_type": "code",
      "execution_count": null,
      "metadata": {
        "colab": {
          "base_uri": "https://localhost:8080/"
        },
        "id": "CgZrBaJ6fRIr",
        "outputId": "2f5eaeb1-a592-4104-a35a-8d3c7758f2cb"
      },
      "outputs": [],
      "source": [
        "print(1)\n",
        "x = 2\n",
        "print(x)"
      ]
    },
    {
      "cell_type": "markdown",
      "metadata": {
        "id": "c2cOnko2flTg"
      },
      "source": [
        "Cuando escibís una sentencia en la linea de comandos, Python la ejecuta\n",
        "y muestra el resultado (si lo hay). En  el caso de Jupyter Notebooks, solo se muestra el valor de la última sentencia en la secuencia.\n",
        "\n",
        "Las sentencias de asignación no entregan ningún resultado.\n",
        "\n"
      ]
    },
    {
      "cell_type": "code",
      "execution_count": null,
      "metadata": {
        "colab": {
          "base_uri": "https://localhost:8080/"
        },
        "id": "PEyJ7qU1gV1A",
        "outputId": "16daf294-4fb7-4634-a0c3-91e487f4e4ad"
      },
      "outputs": [],
      "source": [
        "millas = 26.2\n",
        "millas * 2"
      ]
    },
    {
      "cell_type": "markdown",
      "metadata": {
        "id": "OVulQn54jx4X"
      },
      "source": [
        "## 4. Operaciones de cadena\n",
        "\n",
        "Recordemos que las _cadenas_, o _strings_ en inglés, representan porciones de texto. Toda cadena es una serie de símbolos alfanuméricos sucesivos delimitados por  comillas simples o dobles.\n",
        "\n",
        "Hablaremos en esta sección de que tipo de operaciones se pueden hacer con las cadenas.\n",
        "\n",
        "En general, no es posible realizar operaciones matemáticas con cadenas, incluso si las cadenas parecen números, por lo que lo siguiente es ilegal:\n",
        "\n",
        "\n",
        "```\n",
        "'2' * '3'  \n",
        "'huevos' / 'fácil'  \n",
        "'tercero' * 'un amuleto'\n",
        "```\n",
        "Sí podemos utilizar los operadores `+` y `*` con cadenas, pero no son operadores aritméticos. Lo vemos a continuación.\n",
        "\n",
        "El operador `+` realiza la concatenación de cadenas, lo que significa que une las cadenas vinculándolas de un extremo a otro. Por ejemplo:\n"
      ]
    },
    {
      "cell_type": "code",
      "execution_count": null,
      "metadata": {
        "colab": {
          "base_uri": "https://localhost:8080/"
        },
        "id": "cBVGO_ORkPlY",
        "outputId": "a243ee2a-9ab1-4a52-84b1-6d2bc5083e63"
      },
      "outputs": [],
      "source": [
        "primero = 'sobre'\n",
        "segundo = 'todo'\n",
        "print(primero + segundo)"
      ]
    },
    {
      "cell_type": "markdown",
      "metadata": {
        "id": "WS1G6VcKkVxr"
      },
      "source": [
        "\n",
        "Como dijimos arriba, el operador `*` también trabaja con cadenas; realiza repetición. Por ejemplo, `'Spam' * 3` es `'SpamSpamSpam'`. Si uno de los valores es una cadena, el otro debe ser un número entero.\n",
        "\n"
      ]
    },
    {
      "cell_type": "code",
      "execution_count": null,
      "metadata": {
        "colab": {
          "base_uri": "https://localhost:8080/"
        },
        "id": "GnBTaujJ5bbV",
        "outputId": "3fba2181-dd65-44ca-c2ca-0a96a5a3ad41"
      },
      "outputs": [],
      "source": [
        "print('Spam' * 3)\n",
        "print(2 * 'Spam')"
      ]
    },
    {
      "cell_type": "code",
      "execution_count": null,
      "metadata": {
        "id": "OToC9hG72waZ"
      },
      "outputs": [],
      "source": []
    },
    {
      "cell_type": "markdown",
      "metadata": {
        "id": "1bdm-jqL5tkN"
      },
      "source": [
        "Este uso de `+` y `*` tiene sentido por analogía con la suma y la multiplicación. Así como `4 * 3` es equivalente a `4 + 4 + 4`, esperamos que `'Spam' * 3` sea lo mismo que `'Spam' + 'Spam' + 'Spam'`, y lo es. Hay muchas propiedades de la suma y multiplicación de enteros  que se aplican a la suma y multiplicación de cadenas. Por ejemplo, las asociatividad de la suma vale para ambos contextos.  \n",
        "\n",
        "También existe un elemento neutro de la suma y  es la _cadena vacía_ `''`.\n",
        "\n",
        "Por otro lado, la conmutatividad no es una propiedad que vale para la concatenación de cadenas ¿Podés pensar en otra propiedad que tenga la suma de enteros y que no tenga la concatenación de cadenas?"
      ]
    },
    {
      "cell_type": "markdown",
      "metadata": {
        "id": "QOX1Y2S7lzKF"
      },
      "source": [
        "\n",
        "## 5. Comentarios de Python\n",
        "\n",
        "A medida que los programas se hacen más grandes y complicados, se vuelven más difíciles de leer. Los lenguajes formales son densos y, a menudo, es difícil mirar un fragmento de código y averiguar qué está haciendo o por qué.\n",
        "\n",
        "Por esta razón, es una buena idea agregar anotaciones a tus programas para explicar en lenguaje natural lo que está haciendo el programa. Estas anotaciones o notas se denominan _comentarios_ y en Python comienzan con el símbolo `#`:\n",
        "```\n",
        "# calcula el porcentaje de la hora que ha transcurrido\n",
        "porcentaje = (minuto * 100) / 60\n",
        "```\n",
        "En este caso, el comentario aparece en una línea aparte. También se pueden poner comentarios al final de una línea:\n",
        "\n",
        "```\n",
        "porcentaje = (minuto * 100) / 60 # porcentaje de una hora\n",
        "```\n",
        "\n",
        "Todo, desde el `#` hasta el final de la línea, se ignora; no tiene ningún efecto en la ejecución del programa.\n",
        "\n",
        "Los comentarios son más útiles cuando documentan características no obvias del código. Es razonable suponer que el lector del código puede averiguar _qué_ hace  y es útil explicar _por qué._\n",
        "\n",
        "Este comentario es redundante e inútil:\n",
        "```\n",
        "v = 5 # asignar 5 a v\n",
        "```\n",
        "\n",
        "Este comentario contiene información útil que no está en el código:\n",
        "```\n",
        "v = 5  # velocidad en metros / segundo.\n",
        "```\n",
        "\n",
        "Los buenos nombres de variables pueden reducir la necesidad de comentarios, pero los nombres largos pueden dificultar la lectura de expresiones complejas, por lo que se debe ser cuidadoso y usar buen criterio para darle nombres a las variables.\n",
        "\n"
      ]
    },
    {
      "cell_type": "markdown",
      "metadata": {
        "id": "0V2RuOHykqpv"
      },
      "source": [
        "## 6. Depuración\n",
        "\n",
        "Pueden ocurrir tres tipos de errores en un programa: errores de sintaxis, errores de tiempo de ejecución y errores semánticos. Es útil distinguirlos para localizarlos más rápidamente.\n",
        "\n",
        "**Error de sintaxis:** *Sintaxis* se refiere a la estructura de un programa y las reglas sobre esa estructura. Por ejemplo, los paréntesis deben venir en pares coincidentes, por lo que `(1 + 2)` es legal, pero `8)` es un error de sintaxis.\n",
        "\n",
        "Si hay un error de sintaxis en cualquier parte de tu programa, Python muestra un mensaje de error y se cierra, y no podrá ejecutar el programa.\n",
        "\n",
        "Durante las primeras semanas de aprendizaje en programación, es posible que uno dedique mucho tiempo a rastrear errores de sintaxis,  aunque los entornos de programación a menudo nos indican inmediatamente el error y lo corregimos.\n",
        "\n",
        "A medida que se gane experiencia, se cometerán menos errores y se los encontrará más rápido.\n",
        "\n",
        "**Error de tiempo de ejecución:** el segundo tipo de error es un *error de tiempo de ejecución*, llamado así porque el error no aparece hasta que el programa ha comenzado a ejecutarse. Estos errores también se denominan *excepciones* porque suelen indicar que ha sucedido algo excepcional (y malo).\n",
        "\n",
        "Los errores de tiempo de ejecución son raros en los programas simples que veremos en las primeras clases, por lo que puede pasar un tiempo antes de que encontrés uno.\n",
        "\n",
        "**Error semántico:** el tercer tipo de error es *semántico* que significa relacionado con el significado.\n",
        "\n",
        "Si hay un error semántico en tu programa, se ejecutará sin generar mensajes de error, pero no hará lo correcto. Hará otra cosa. Específicamente, hará lo que le dijiste que hiciera (que puede no coincidir con lo que querés que haga).\n",
        "\n",
        "Identificar errores semánticos puede ser complicado porque requiere trabajar hacia atrás mirando la salida del programa y tratando de averiguar qué está haciendo.\n",
        "\n",
        "\n"
      ]
    },
    {
      "cell_type": "code",
      "execution_count": null,
      "metadata": {
        "colab": {
          "base_uri": "https://localhost:8080/"
        },
        "id": "3ewBADYK2zTM",
        "outputId": "0258bf05-c4d5-41bd-e465-98d2171dfcef"
      },
      "outputs": [],
      "source": [
        "# imprimamos el valor 4,5\n",
        "print(4,5) # error semántico"
      ]
    },
    {
      "cell_type": "code",
      "execution_count": null,
      "metadata": {
        "colab": {
          "base_uri": "https://localhost:8080/"
        },
        "id": "BvihrKJ03GIb",
        "outputId": "67e232fa-bd11-4b3e-eb0e-e422ed460429"
      },
      "outputs": [],
      "source": [
        "print(4.5) # correcto"
      ]
    },
    {
      "cell_type": "markdown",
      "metadata": {
        "id": "84ouC4OuD8VY"
      },
      "source": [
        "Tanto para los errores sintácticos como para las excepciones los entornos de programación nos ofrecen mucha ayuda, incluso marcándolos antes de ejecutar el programa. Sin embargo,  los errores semánticos solo los podemos solucionar  razonando sobre lo que hemos escrito en el programa.  "
      ]
    }
  ],
  "metadata": {
    "colab": {
      "provenance": []
    },
    "kernelspec": {
      "display_name": "Python 3 (ipykernel)",
      "language": "python",
      "name": "python3"
    },
    "language_info": {
      "codemirror_mode": {
        "name": "ipython",
        "version": 3
      },
      "file_extension": ".py",
      "mimetype": "text/x-python",
      "name": "python",
      "nbconvert_exporter": "python",
      "pygments_lexer": "ipython3",
      "version": "3.10.4"
    }
  },
  "nbformat": 4,
  "nbformat_minor": 0
}
