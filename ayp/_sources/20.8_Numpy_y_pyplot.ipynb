{
  "cells": [
    {
      "cell_type": "markdown",
      "metadata": {
        "id": "LiSFrlKfVBit"
      },
      "source": [
        "## 8. NumPy y PyPlot\n"
      ]
    },
    {
      "cell_type": "markdown",
      "metadata": {
        "id": "hQ56qk09zwke"
      },
      "source": [
        "### 1° Parte. NumPy"
      ]
    },
    {
      "cell_type": "markdown",
      "metadata": {},
      "source": [
        "**Ejercicio 0.** Los siguientes ejercicios son para practicar operaciones elementales de NumPy.\n",
        "\n",
        "\n",
        "1. Crear un arreglo: Crea un arreglo unidimensional con los números del 1 al 10.\n",
        "2. Crear una matriz: Crea una matriz de 3x3 llena de ceros.\n",
        "3. Matriz identidad: Crea una matriz identidad de tamaño 4x4.\n",
        "4. Suma de arreglos: Dado dos arreglos, realiza la suma elemento a elemento.\n",
        "5. Multiplicación por un escalar: Multiplica un arreglo por un escalar (por ejemplo, 2).\n",
        "6. Redimensionar un arreglo: Convierte un arreglo unidimensional de 12 elementos en una matriz de 3x4.\n",
        "7. Acceso a elementos: Accede al tercer elemento de un arreglo unidimensional y al elemento en la posición (1, 2) de una matriz.\n",
        "8. Filtrar elementos: Crea un arreglo y filtra todos los números que son mayores que 5.\n",
        "9. Calcular la media: Calcula la media y la desviación estándar de un arreglo.\n",
        "10. Transponer una matriz: Transpone una matriz de 2x3 a 3x2.\n",
        "11. Concatenar arreglos: Une dos arreglos verticalmente y horizontalmente.\n",
        "12. Submatrices: Extrae una submatriz de una matriz dada.\n",
        "13. Buscar elementos: Encuentra los índices de los elementos que son pares en un arreglo.\n",
        "14. Ordenar un arreglo: Crea un arreglo desordenado y ordénalo.\n",
        "15. Crear arreglos aleatorios: Genera un arreglo de 10 números aleatorios entre -100 y +100.\n",
        "16. Suma de matrices: Suma dos matrices del mismo tamaño.\n",
        "17. Producto punto: Calcula el producto punto entre dos vectores.\n",
        "18. Elementos únicos: Encuentra los elementos únicos en un arreglo dado.\n",
        "19. Operaciones booleanas: Crea un arreglo binario y conviértelo a booleano.\n",
        "20. Guardar y cargar arreglos: Guarda un arreglo en un archivo y luego cárgalo nuevamente."
      ]
    },
    {
      "cell_type": "code",
      "execution_count": 24,
      "metadata": {},
      "outputs": [
        {
          "name": "stdout",
          "output_type": "stream",
          "text": [
            "1. Crear un arreglo: Crea un arreglo unidimensional con los números del 1 al 10.\n",
            "[ 1  2  3  4  5  6  7  8  9 10]\n",
            "\n",
            "2. Crear una matriz: Crea una matriz de 3x3 llena de ceros.\n",
            "[[0. 0. 0.]\n",
            " [0. 0. 0.]\n",
            " [0. 0. 0.]]\n",
            "\n",
            "3. Matriz identidad: Crea una matriz identidad de tamaño 4x4.\n",
            "[[1. 0. 0. 0.]\n",
            " [0. 1. 0. 0.]\n",
            " [0. 0. 1. 0.]\n",
            " [0. 0. 0. 1.]]\n",
            "\n",
            "4. Suma de arreglos: Dado dos arreglos, realiza la suma elemento a elemento.\n",
            "[5 7 9]\n",
            "\n",
            "5. Multiplicación por un escalar: Multiplica un arreglo por un escalar (por ejemplo, 2).\n",
            "[2 4 6]\n",
            "\n",
            "6. Redimensionar un arreglo: Convierte un arreglo unidimensional de 12 elementos en una matriz de 3x4.\n",
            "[[ 0  1  2  3]\n",
            " [ 4  5  6  7]\n",
            " [ 8  9 10 11]]\n",
            "\n",
            "7. Acceso a elementos: Accede al tercer elemento de un arreglo unidimensional y al elemento en la posición (1, 2) de una matriz.\n",
            "3\n",
            "6\n",
            "\n",
            "8. Filtrar elementos: Crea un arreglo y filtra todos los números que son mayores que 5.\n",
            "[6 7 9 8]\n",
            "\n",
            "9. Calcular la media: Calcula la media y la desviación estándar de un arreglo.\n",
            "Media: 3.0\n",
            "Desviación estándar: 1.4142135623730951\n",
            "\n",
            "10. Transponer una matriz: Transpone una matriz de 2x3 a 3x2.\n",
            "[[1 4]\n",
            " [2 5]\n",
            " [3 6]]\n",
            "\n",
            "11. Concatenar arreglos: Une dos arreglos verticalmente y horizontalmente.\n",
            "Vertical: [[1 2 3]\n",
            " [4 5 6]]\n",
            "Horizontal: [1 2 3 4 5 6]\n",
            "\n",
            "12. Submatrices: Extrae una submatriz de una matriz dada.\n",
            "[[5 6]\n",
            " [8 9]]\n",
            "\n",
            "13. Buscar elementos: Encuentra los índices de los elementos que son pares en un arreglo.\n",
            "(array([1, 3, 5, 7]),)\n",
            "\n",
            "14. Ordenar un arreglo: Crea un arreglo desordenado y ordénalo.\n",
            "[1 2 3 4 5]\n",
            "\n",
            "15. Crear arreglos aleatorios: Genera un arreglo de 10 números aleatorios entre -100 y +100.\n",
            "[-86 -92  99 -65  67  39  64 -30  57  67]\n",
            "\n",
            "16. Suma de matrices: Suma dos matrices del mismo tamaño.\n",
            "[[ 6  8]\n",
            " [10 12]]\n",
            "\n",
            "17. Producto punto: Calcula el producto punto entre dos vectores.\n",
            "32\n",
            "\n",
            "18. Elementos únicos: Encuentra los elementos únicos en un arreglo dado.\n",
            "[1 2 3 4 5]\n",
            "\n",
            "19. Operaciones booleanas: Crea un arreglo binario y conviértelo a booleano.\n",
            "[ True False  True False  True]\n",
            "\n",
            "20. Guardar y cargar arreglos: Guarda un arreglo en un archivo y luego cárgalo nuevamente.\n",
            "[1 2 3 4 5]\n"
          ]
        }
      ],
      "source": [
        "# Solución\n",
        "import numpy as np\n",
        "\n",
        "# 1. Crear un arreglo: Crea un arreglo unidimensional con los números del 1 al 10.\n",
        "print(\"1. Crear un arreglo: Crea un arreglo unidimensional con los números del 1 al 10.\")\n",
        "print(np.array([1, 2, 3, 4, 5, 6, 7, 8, 9, 10]))\n",
        "# o bien: print(np.arange(1, 11))\n",
        "\n",
        "# 2. Crear una matriz: Crea una matriz de 3x3 llena de ceros.\n",
        "print(\"\\n2. Crear una matriz: Crea una matriz de 3x3 llena de ceros.\")\n",
        "print(np.zeros((3, 3)))\n",
        "\n",
        "# 3. Matriz identidad: Crea una matriz identidad de tamaño 4x4.\n",
        "print(\"\\n3. Matriz identidad: Crea una matriz identidad de tamaño 4x4.\")\n",
        "print(np.eye(4))\n",
        "\n",
        "# 4. Suma de arreglos: Dado dos arreglos, realiza la suma elemento a elemento.\n",
        "print(\"\\n4. Suma de arreglos: Dado dos arreglos, realiza la suma elemento a elemento.\")\n",
        "a = np.array([1, 2, 3])\n",
        "b = np.array([4, 5, 6])\n",
        "print(a + b)\n",
        "\n",
        "# 5. Multiplicación por un escalar: Multiplica un arreglo por un escalar (por ejemplo, 2).\n",
        "print(\"\\n5. Multiplicación por un escalar: Multiplica un arreglo por un escalar (por ejemplo, 2).\")\n",
        "a = np.array([1, 2, 3])\n",
        "print(a * 2)\n",
        "\n",
        "# 6. Redimensionar un arreglo: Convierte un arreglo unidimensional de 12 elementos en una matriz de 3x4.\n",
        "print(\"\\n6. Redimensionar un arreglo: Convierte un arreglo unidimensional de 12 elementos en una matriz de 3x4.\")   \n",
        "a = np.arange(12)\n",
        "print(a.reshape(3, 4))\n",
        "\n",
        "# 7. Acceso a elementos: Accede al tercer elemento de un arreglo unidimensional y al elemento en la posición (1, 2) de una matriz.\n",
        "print(\"\\n7. Acceso a elementos: Accede al tercer elemento de un arreglo unidimensional y al elemento en la posición (1, 2) de una matriz.\")\n",
        "a = np.array([1, 2, 3, 4, 5])\n",
        "print(a[2])\n",
        "a = np.array([[1, 2, 3], [4, 5, 6]])\n",
        "print(a[1, 2])\n",
        "\n",
        "# 8. Filtrar elementos: Crea un arreglo y filtra todos los números que son mayores que 5.\n",
        "print(\"\\n8. Filtrar elementos: Crea un arreglo y filtra todos los números que son mayores que 5.\")\n",
        "a = np.array([1, 6, 4, 7, 9, 3, 8])\n",
        "print(a[a > 5])\n",
        "\n",
        "# 9. Calcular la media: Calcula la media y la desviación estándar de un arreglo.\n",
        "print(\"\\n9. Calcular la media: Calcula la media y la desviación estándar de un arreglo.\")\n",
        "a = np.array([1, 2, 3, 4, 5])\n",
        "print(\"Media:\", np.mean(a))\n",
        "print(\"Desviación estándar:\", np.std(a))\n",
        "\n",
        "# 10. Transponer una matriz: Transpone una matriz de 2x3 a 3x2.\n",
        "print(\"\\n10. Transponer una matriz: Transpone una matriz de 2x3 a 3x2.\")\n",
        "a = np.array([[1, 2, 3], [4, 5, 6]])\n",
        "print(a.T)\n",
        "\n",
        "# 11. Concatenar arreglos: Une dos arreglos verticalmente y horizontalmente.\n",
        "print(\"\\n11. Concatenar arreglos: Une dos arreglos verticalmente y horizontalmente.\")\n",
        "a = np.array([1, 2, 3])\n",
        "b = np.array([4, 5, 6])\n",
        "print(\"Vertical:\", np.vstack((a, b)))\n",
        "print(\"Horizontal:\", np.hstack((a, b)))\n",
        "\n",
        "# 12. Submatrices: Extrae una submatriz de una matriz dada.\n",
        "print(\"\\n12. Submatrices: Extrae una submatriz de una matriz dada.\")\n",
        "a = np.array([[1, 2, 3], [4, 5, 6], [7, 8, 9]])\n",
        "print(a[1:, 1:])\n",
        "# o bien: print(a[1:3, 1:3])\n",
        "\n",
        "# 13. Buscar elementos: Encuentra los índices de los elementos que son pares en un arreglo.\n",
        "print(\"\\n13. Buscar elementos: Encuentra los índices de los elementos que son pares en un arreglo.\")\n",
        "a = np.array([1, 2, 3, 4, 5, 6, 7, 8, 9])\n",
        "print(np.where(a % 2 == 0))\n",
        "\n",
        "# 14. Ordenar un arreglo: Crea un arreglo desordenado y ordénalo.\n",
        "print(\"\\n14. Ordenar un arreglo: Crea un arreglo desordenado y ordénalo.\")\n",
        "a = np.array([4, 2, 1, 3, 5])\n",
        "print(np.sort(a))\n",
        "\n",
        "# 15. Crear arreglos aleatorios: Genera un arreglo de 10 números aleatorios entre -100 y +100.\n",
        "print(\"\\n15. Crear arreglos aleatorios: Genera un arreglo de 10 números aleatorios entre -100 y +100.\")\n",
        "print(np.random.randint(-100, 100, 10))\n",
        "\n",
        "# 16. Suma de matrices: Suma dos matrices del mismo tamaño.\n",
        "print(\"\\n16. Suma de matrices: Suma dos matrices del mismo tamaño.\")\n",
        "a = np.array([[1, 2], [3, 4]])\n",
        "b = np.array([[5, 6], [7, 8]])\n",
        "print(a + b)\n",
        "\n",
        "# 17. Producto punto: Calcula el producto punto entre dos vectores.\n",
        "print(\"\\n17. Producto punto: Calcula el producto punto entre dos vectores.\")\n",
        "a = np.array([1, 2, 3])\n",
        "b = np.array([4, 5, 6])\n",
        "print(np.dot(a, b))\n",
        "\n",
        "# 18. Elementos únicos: Encuentra los elementos únicos en un arreglo dado.\n",
        "print(\"\\n18. Elementos únicos: Encuentra los elementos únicos en un arreglo dado.\")\n",
        "a = np.array([1, 2, 1, 3, 4, 2, 5])\n",
        "print(np.unique(a))\n",
        "\n",
        "# 19. Operaciones booleanas: Crea un arreglo binario y conviértelo a booleano.\n",
        "print(\"\\n19. Operaciones booleanas: Crea un arreglo binario y conviértelo a booleano.\")\n",
        "a = np.array([1, 0, 1, 0, 1])\n",
        "print(a.astype(bool))\n",
        "\n",
        "# 20. Guardar y cargar arreglos: Guarda un arreglo en un archivo y luego cárgalo nuevamente.\n",
        "print(\"\\n20. Guardar y cargar arreglos: Guarda un arreglo en un archivo y luego cárgalo nuevamente.\")\n",
        "a = np.array([1, 2, 3, 4, 5])\n",
        "np.save(\"arreglo.npy\", a)\n",
        "b = np.load(\"arreglo.npy\")\n",
        "print(b)\n"
      ]
    },
    {
      "cell_type": "markdown",
      "metadata": {
        "id": "mn833mqvVNQx"
      },
      "source": [
        "**Ejercicio 1.**\n",
        "\n",
        "Escribir un programa que imprima un arreglo numpy de 100 de números aleatorios del 0 al 100."
      ]
    },
    {
      "cell_type": "code",
      "execution_count": 5,
      "metadata": {
        "id": "4W9xQnuTOV3S"
      },
      "outputs": [
        {
          "name": "stdout",
          "output_type": "stream",
          "text": [
            "[ 11  94  22  40  85  78  91  97  22  55   1  58  37  24  65  51  23  37\n",
            "  65  30  18  73  12  47  49  45  79  51   9  70  55  58  50  73  28  45\n",
            "  48  22  65  18  81  10  61  62  93  85   4  12  68  88  12  87  85   1\n",
            "  17  15  55  40  20  67  43  35  17  85  14  21  70  98  97  32  31  27\n",
            "  76  60  31  31  32  79  14 100  59   9  31  70  25  42  56  81  58  55\n",
            "  32  19  72  11  27  74  43  10  78  96]\n"
          ]
        }
      ],
      "source": [
        "# Solución\n",
        "import numpy as np\n",
        "\n",
        "# Generar un arreglo de 100 números aleatorios entre 0 y 100\n",
        "arreglo_aleatorio = np.random.randint(0, 101, size=(100))\n",
        "\n",
        "# Imprimir el arreglo\n",
        "print(arreglo_aleatorio)"
      ]
    },
    {
      "cell_type": "markdown",
      "metadata": {
        "id": "WnYdioy3VPYE"
      },
      "source": [
        "**Ejercicio 2.**\n",
        "\n",
        "Escribir un programa que imprima un arreglo numpy de 100 de números aleatorios del 0 al 10. Además, que imprima los índices de los elementos iguales a cero del arreglo.\n",
        "\n",
        "*Ayuda:* la función `where()` de NumPy se puede utilizar  para encontrar la solución del ejercicio. La sintaxis es:\n",
        "\n",
        "```Python\n",
        "indices = np.where(\"expresión lógica\")\n",
        "```\n",
        "Donde \"expresión lógica\",  es una condición que debe cumplir el arreglo. Por ejemplo\n",
        "```Python\n",
        "indices = np.where(arreglo > 0)\n",
        "```\n",
        "devuelve los índices de `arreglo` donde está ubicados los números positivos.\n"
      ]
    },
    {
      "cell_type": "code",
      "execution_count": 14,
      "metadata": {
        "id": "FGhS456MdiLZ"
      },
      "outputs": [
        {
          "name": "stdout",
          "output_type": "stream",
          "text": [
            "Arreglo de números aleatorios:\n",
            "[ 3  5 10  9  8  7  4  7  9  3  3  7  4  5  0  7  8  2 10  9  7  3  0 10\n",
            "  0  6  8  2  3  2  8  9  4  2  8  4 10  4  7  1  6  3  1  9  1  0  2  1\n",
            "  6 10  4  0  0 10  5  5 10  4  6  2 10 10  6 10 10  8  9  3  0  6  3  1\n",
            "  5  3  3  7  2  9  6  0  3  1  0 10  0  6  6  8  8  4  2  8 10  5  0 10\n",
            "  9  4  2  9]\n",
            "\n",
            "Índices de los valores iguales a 0:\n",
            "[14 22 24 45 51 52 68 79 82 84 94]\n"
          ]
        }
      ],
      "source": [
        "# Solución\n",
        "import numpy as np\n",
        "\n",
        "# Generar un arreglo de 100 números aleatorios entre 0 y 100\n",
        "arreglo_aleatorio = np.random.randint(0, 11, size=(100))\n",
        "\n",
        "# Imprimir el arreglo\n",
        "print(\"Arreglo de números aleatorios:\")\n",
        "print(arreglo_aleatorio)\n",
        "\n",
        "# Encontrar los índices de los valores mayores a 50\n",
        "indices_iguales_a_0 = np.where(arreglo_aleatorio == 0) \n",
        "# Imprimir los índices\n",
        "print(\"\\nÍndices de los valores iguales a 0:\")\n",
        "print(indices_iguales_a_0[0])"
      ]
    },
    {
      "cell_type": "markdown",
      "metadata": {
        "id": "aPOd35w1Viug"
      },
      "source": [
        "**Ejercicio 3.**\n",
        "\n",
        "Escribir un programa que imprima un arreglo numpy de 100 de números aleatorios del 0 al 100. Además, que imprima los índices de los valores mayores a 50."
      ]
    },
    {
      "cell_type": "code",
      "execution_count": null,
      "metadata": {
        "id": "H4rDjSBuo2dh"
      },
      "outputs": [],
      "source": [
        "# Solución\n",
        "import numpy as np\n",
        "\n",
        "# Generar un arreglo de 100 números aleatorios entre 0 y 100\n",
        "arreglo_aleatorio = np.random.randint(0, 101, size=(100))\n",
        "\n",
        "# Imprimir el arreglo\n",
        "print(\"Arreglo de números aleatorios:\")\n",
        "print(arreglo_aleatorio)\n",
        "\n",
        "# Encontrar los índices de los valores mayores a 50\n",
        "indices_mayores_a_50 = np.where(arreglo_aleatorio > 50) \n",
        "# Imprimir los índices\n",
        "print(\"\\nÍndices de los valores mayores a 50:\")\n",
        "print(indices_mayores_a_50[0])"
      ]
    },
    {
      "cell_type": "markdown",
      "metadata": {
        "id": "2Y6daHE1Vpzh"
      },
      "source": [
        "**Ejercicio 4.**\n",
        "\n",
        "Crear las matrices:\n",
        "\n",
        "\\begin{equation}\n",
        "\\begin{bmatrix}\n",
        "6 & 8 & 1\\\\\n",
        "2 & 9 & 3\\\\\n",
        "4 & 5 & 1\n",
        "\\end{bmatrix}\n",
        "\\quad \\text{ y } \\quad\n",
        "\\begin{bmatrix}\n",
        "7 & 1 & -4\\\\\n",
        "-2 & 0 & -6\\\\\n",
        "-1 & 1 & -1\n",
        "\\end{bmatrix}\n",
        "\\end{equation}\n",
        "\n",
        "y calcular el producto de las mismas componente a componente."
      ]
    },
    {
      "cell_type": "code",
      "execution_count": 16,
      "metadata": {
        "id": "XBN3tViHo4rJ"
      },
      "outputs": [
        {
          "name": "stdout",
          "output_type": "stream",
          "text": [
            "Matriz A:\n",
            "[[6 8 1]\n",
            " [2 9 3]\n",
            " [4 5 1]]\n",
            "\n",
            "Matriz B:\n",
            "[[ 7  1 -4]\n",
            " [-2  0 -6]\n",
            " [-1  1 -1]]\n",
            "\n",
            "Producto componente a componente:\n",
            "[[ 42   8  -4]\n",
            " [ -4   0 -18]\n",
            " [ -4   5  -1]]\n"
          ]
        }
      ],
      "source": [
        "# Solución\n",
        "import numpy as np\n",
        "\n",
        "# Definir las matrices\n",
        "matriz_a = np.array([[6, 8, 1],\n",
        "                     [2, 9, 3],\n",
        "                     [4, 5, 1]])\n",
        "\n",
        "matriz_b = np.array([[7, 1, -4],\n",
        "                     [-2, 0, -6],\n",
        "                     [-1, 1, -1]])\n",
        "\n",
        "# Calcular el producto componente a componente\n",
        "producto_cc = matriz_a * matriz_b\n",
        "\n",
        "# Imprimir las matrices y el resultado\n",
        "print(\"Matriz A:\")\n",
        "print(matriz_a)\n",
        "\n",
        "print(\"\\nMatriz B:\")\n",
        "print(matriz_b)\n",
        "\n",
        "print(\"\\nProducto componente a componente:\")\n",
        "print(producto_cc)"
      ]
    },
    {
      "cell_type": "markdown",
      "metadata": {
        "id": "HZ7aGbhWVvRR"
      },
      "source": [
        "**Ejercicio 5.**\n",
        "\n",
        "Crear un array de 100 números enteros aleatorios con valores de -100 a +100. Usando arrays de booleanos crear otros arrays que contengan los índices de: los números positivos, los números negativos, los números pares y los números impares del array original."
      ]
    },
    {
      "cell_type": "code",
      "execution_count": 17,
      "metadata": {
        "id": "bYEqBscCfGG2"
      },
      "outputs": [
        {
          "name": "stdout",
          "output_type": "stream",
          "text": [
            "Arreglo original:\n",
            "[-91  67   7 -11  54  61  -4 -17 -63 -55  14  90  51  81   3 -44 -43 -36\n",
            " -26  20  -8  98 -24  11  99  47  59  57 -39 -47  14 -65 -96  19  34  77\n",
            "  27 -54 -10  25 -34   8 -87  -5  89  80 -95  67 -80  96  82  21 -72  34\n",
            "   4  30   4  84 -83 -38 -48   6  89 -11 -83  50  93 -65 -51   8 -86 -90\n",
            " -67  99  56 100  45 -91 -45   6 -28 -85 -76 -56  72  19 -94 -94  36  18\n",
            " -52   1 100 -28 -56 -59  64  49 -78  78]\n",
            "\n",
            "Índices de números positivos:\n",
            "[ 1  2  4  5 10 11 12 13 14 19 21 23 24 25 26 27 30 33 34 35 36 39 41 44\n",
            " 45 47 49 50 51 53 54 55 56 57 61 62 65 66 69 73 74 75 76 79 84 85 88 89\n",
            " 91 92 96 97 99]\n",
            "\n",
            "Índices de números negativos:\n",
            "[ 0  3  6  7  8  9 15 16 17 18 20 22 28 29 31 32 37 38 40 42 43 46 48 52\n",
            " 58 59 60 63 64 67 68 70 71 72 77 78 80 81 82 83 86 87 90 93 94 95 98]\n",
            "\n",
            "Índices de números pares:\n",
            "[ 4  6 10 11 15 17 18 19 20 21 22 30 32 34 37 38 40 41 45 48 49 50 52 53\n",
            " 54 55 56 57 59 60 61 65 69 70 71 74 75 79 80 82 83 84 86 87 88 89 90 92\n",
            " 93 94 96 98 99]\n",
            "\n",
            "Índices de números impares:\n",
            "[ 0  1  2  3  5  7  8  9 12 13 14 16 23 24 25 26 27 28 29 31 33 35 36 39\n",
            " 42 43 44 46 47 51 58 62 63 64 66 67 68 72 73 76 77 78 81 85 91 95 97]\n"
          ]
        }
      ],
      "source": [
        "# Solución\n",
        "import numpy as np\n",
        "\n",
        "# Crear un arreglo de 100 números enteros aleatorios entre -100 y +100\n",
        "arreglo = np.random.randint(-100, 101, size=100)\n",
        "\n",
        "# Imprimir el arreglo original\n",
        "print(\"Arreglo original:\")\n",
        "print(arreglo)\n",
        "\n",
        "# Crear arreglos booleanos para las condiciones\n",
        "positivos = arreglo > 0\n",
        "negativos = arreglo < 0\n",
        "pares = (arreglo % 2 == 0)\n",
        "impares = (arreglo % 2 != 0)\n",
        "\n",
        "# Obtener los índices de los números que cumplen las condiciones\n",
        "indices_positivos = np.where(positivos)[0]\n",
        "indices_negativos = np.where(negativos)[0]\n",
        "indices_pares = np.where(pares)[0]\n",
        "indices_impares = np.where(impares)[0]\n",
        "\n",
        "# Imprimir los resultados\n",
        "print(\"\\nÍndices de números positivos:\")\n",
        "print(indices_positivos)\n",
        "\n",
        "print(\"\\nÍndices de números negativos:\")\n",
        "print(indices_negativos)\n",
        "\n",
        "print(\"\\nÍndices de números pares:\")\n",
        "print(indices_pares)\n",
        "\n",
        "print(\"\\nÍndices de números impares:\")\n",
        "print(indices_impares)"
      ]
    },
    {
      "cell_type": "markdown",
      "metadata": {
        "id": "LZCE8eYRFD9z"
      },
      "source": [
        "**Ejercicio 7**\n",
        "\n",
        "Crea un array bidimensional 5x5 con todos los valores cero. Usando el indexado de arrays, asigna 1 a todos los elementos de la diagonal, para obtener la matiz identidad 5x5. Finalmente, asigna el valor 5 a todos los elementos de las subarrays 2x2 inferior izquierda y superior derecha de la matriz de 5x5."
      ]
    },
    {
      "cell_type": "code",
      "execution_count": 23,
      "metadata": {
        "id": "0KYkM5R1GImm"
      },
      "outputs": [
        {
          "name": "stdout",
          "output_type": "stream",
          "text": [
            "Matriz 5x5 de 0s:\n",
            " [[0. 0. 0. 0. 0.]\n",
            " [0. 0. 0. 0. 0.]\n",
            " [0. 0. 0. 0. 0.]\n",
            " [0. 0. 0. 0. 0.]\n",
            " [0. 0. 0. 0. 0.]]\n",
            "\n",
            "Matriz con 1s en la diagonal:\n",
            " [[1. 0. 0. 0. 0.]\n",
            " [0. 1. 0. 0. 0.]\n",
            " [0. 0. 1. 0. 0.]\n",
            " [0. 0. 0. 1. 0.]\n",
            " [0. 0. 0. 0. 1.]]\n",
            "\n",
            "Matriz con 5s agregados en la submatriz 2x2 inferior izquierda:\n",
            " [[1. 0. 0. 0. 0.]\n",
            " [0. 1. 0. 0. 0.]\n",
            " [0. 0. 1. 0. 0.]\n",
            " [5. 5. 0. 1. 0.]\n",
            " [5. 5. 0. 0. 1.]]\n",
            "\n",
            "Matriz con 5s agregados en la submatriz 2x2 superior derecha:\n",
            " [[1. 0. 0. 5. 5.]\n",
            " [0. 1. 0. 5. 5.]\n",
            " [0. 0. 1. 0. 0.]\n",
            " [5. 5. 0. 1. 0.]\n",
            " [5. 5. 0. 0. 1.]]\n"
          ]
        }
      ],
      "source": [
        "# Solución\n",
        "import numpy as np\n",
        "\n",
        "# Crear un array 5x5 lleno de ceros\n",
        "matriz = np.zeros((5, 5))\n",
        "print(\"Matriz 5x5 de 0s:\\n\", matriz)\n",
        "\n",
        "# Asignar 1 a todos los elementos de la diagonal\n",
        "np.fill_diagonal(matriz, 1)\n",
        "print(\"\\nMatriz con 1s en la diagonal:\\n\", matriz)\n",
        "\n",
        "# Asignar el valor 5 a la submatriz 2x2 inferior izquierda\n",
        "matriz[3:5, 0:2] = 5\n",
        "print(\"\\nMatriz con 5s agregados en la submatriz 2x2 inferior izquierda:\\n\", matriz)\n",
        "\n",
        "# Asignar el valor 5 a la submatriz 2x2 superior derecha\n",
        "matriz[0:2, 3:5] = 5\n",
        "print(\"\\nMatriz con 5s agregados en la submatriz 2x2 superior derecha:\\n\", matriz)\n"
      ]
    },
    {
      "cell_type": "markdown",
      "metadata": {
        "id": "N7AvkEG8TulH"
      },
      "source": [
        "**Ejercicio 8**\n",
        "\n",
        "Los diámetros de las esporas del lycopodium pueden medirse por métodos interferométricos. Los resultados de uno de estos experimentos son los siguientes:\n",
        "$$\n",
        "\\begin{matrix}\n",
        "\\text{k * diametro (cm)} & 14 & 15 & 16 & 17 & 18 & 19 & 20 & 21 & 22 & 23\\\\\n",
        "\\hline\n",
        "\\text{número de esporas} & 1 & 1 & 8 & 24 & 48 & 58 & 35 & 16 & 8 & 1 \\\\\n",
        "\\end{matrix}\n",
        "$$\n",
        "donde $k=5880$.\n",
        "Usando funciones de numpy determinar, el diámetro medio de las esporas y la desviación estándar de la muestra. Separar, en arrays independientes, las medidas de los diámetros:\n",
        "\n",
        "1. Que tengan valores inferiores a la media menos la desviación estándar, es decir $d < \\overline{d} - \\sigma_d$.\n",
        "2. Que tengan valores superiores a la media más la desviación estándar, es decir $d > \\overline{d} + \\sigma_d$.\n",
        "3. Que tengan valores entre $\\overline{d} - \\sigma_d < d < \\overline{d} + \\sigma_d$."
      ]
    },
    {
      "cell_type": "code",
      "execution_count": null,
      "metadata": {
        "id": "HSwtx1VHUMWb"
      },
      "outputs": [],
      "source": []
    },
    {
      "cell_type": "markdown",
      "metadata": {
        "id": "PAaYBUbb9D_V"
      },
      "source": [
        "**Ejercicio 9**\n",
        "\n",
        "Crear un array numpy de 150 números enteros aleatorios en el rango del 1 al 1000. Imrpimirla. Usando una máscara booleana, identificar los números divisibles entre 3 y mayores a 500. Imprimir los valores con su correspondiente ubicación en el arreglo original."
      ]
    },
    {
      "cell_type": "code",
      "execution_count": null,
      "metadata": {
        "id": "CcrueYQt9E0f"
      },
      "outputs": [],
      "source": []
    },
    {
      "cell_type": "markdown",
      "metadata": {
        "id": "MS8Wd3Xw9ZgV"
      },
      "source": [
        "**Ejercicio 10**\n",
        "\n",
        "1. Crear un array numpy de 80 números enteros aleatorios en el rango del 1 al 100. Imprimirla.\n",
        "\n",
        "2. Escribe un programa que elige un número aleatorio del array del paso 1 y ordena el array. Primero se debe imprimir el array ordenado. Luego, el usuario tiene que adivinar el número y el programa le dice si su adivinanza es demasiado alta o demasiado baja. Si el usuario adivina el número en 6 o menos intentos, la función debe devolver `True`, de lo contrario, devuelve `False`.\n",
        "\n",
        "*Ayuda:* `np.sort(arreglo)` ordena `arreglo`. `np.random.choice(arreglo)` elige un elemento al azar de `arreglo`."
      ]
    },
    {
      "cell_type": "markdown",
      "metadata": {
        "id": "_DTG1Rt2zkc6"
      },
      "source": [
        "### 2° Parte. PyPlot"
      ]
    },
    {
      "cell_type": "code",
      "execution_count": null,
      "metadata": {
        "id": "wPtgj2Vq9gRv"
      },
      "outputs": [],
      "source": []
    },
    {
      "cell_type": "markdown",
      "metadata": {
        "id": "Hkdg0s9J-Er7"
      },
      "source": [
        "**Ejercicio 11.1 - Gráfico de línea simple.** Crea un gráfico de línea que muestre la evolución de una serie de datos a lo largo del tiempo.\n"
      ]
    },
    {
      "cell_type": "code",
      "execution_count": null,
      "metadata": {
        "id": "3SXygwGd-WtT"
      },
      "outputs": [],
      "source": [
        "datos = [1, 2, 3, 4, 5]"
      ]
    },
    {
      "cell_type": "markdown",
      "metadata": {
        "id": "8HrdQ0ng-dC3"
      },
      "source": [
        "**Ejercicio 11.2 - Gráfico de dispersión.** Representa un conjunto de puntos en un plano cartesiano."
      ]
    },
    {
      "cell_type": "code",
      "execution_count": null,
      "metadata": {
        "id": "UZPF5vDX-dTI"
      },
      "outputs": [],
      "source": [
        "x = [1, 2, 3, 4, 5]\n",
        "y = [2, 3, 4, 5, 6]"
      ]
    },
    {
      "cell_type": "markdown",
      "metadata": {
        "id": "apYgGufA-def"
      },
      "source": [
        "**Ejercicio 11.3 - Histograma.** Muestra la distribución de frecuencia de un conjunto de datos."
      ]
    },
    {
      "cell_type": "code",
      "execution_count": null,
      "metadata": {
        "id": "7tZw7b_D-don"
      },
      "outputs": [],
      "source": [
        "datos = [1, 1, 2, 3, 3, 3, 4, 4, 4, 4]"
      ]
    },
    {
      "cell_type": "markdown",
      "metadata": {
        "id": "gKLdUyxO-d0G"
      },
      "source": [
        "**Ejercicio 11.4 - Gráfico de barras.** Representa datos categóricos en forma de barras."
      ]
    },
    {
      "cell_type": "code",
      "execution_count": null,
      "metadata": {
        "id": "ejBDFcdB-eBe"
      },
      "outputs": [],
      "source": [
        "categorias = ['A', 'B', 'C', 'D']\n",
        "valores = [10, 20, 15, 25]"
      ]
    },
    {
      "cell_type": "markdown",
      "metadata": {
        "id": "rn1dHFvF-eMB"
      },
      "source": [
        "**Ejercicio 11.5 - Gráfico circular.** Muestra la proporción de diferentes categorías en un conjunto de datos.\n"
      ]
    },
    {
      "cell_type": "code",
      "execution_count": null,
      "metadata": {
        "id": "y57Uh2d6-eX6"
      },
      "outputs": [],
      "source": [
        "sizes = [20, 30, 25, 25]\n",
        "labels = ['A', 'B', 'C', 'D']"
      ]
    },
    {
      "cell_type": "markdown",
      "metadata": {
        "id": "PtP0vz58AaH2"
      },
      "source": [
        "**Ejercicio 12**\n",
        "\n",
        "Escribir un programa que pregunte al usuario por las ventas de un rango de años y muestre por pantalla un diagrama de líneas con la evolución de las ventas."
      ]
    },
    {
      "cell_type": "code",
      "execution_count": null,
      "metadata": {
        "id": "yUtdYo1KCSYe"
      },
      "outputs": [],
      "source": []
    },
    {
      "cell_type": "markdown",
      "metadata": {
        "id": "iuckjj17CSk5"
      },
      "source": [
        "**Ejercicio 13**\n",
        "\n",
        "Escribir una función que reciba una diccionario con las notas de las asignaturas de un curso y una cadena con el nombre de un color y devuelva un diagrama de barras de las notas en el color dado."
      ]
    },
    {
      "cell_type": "code",
      "execution_count": null,
      "metadata": {
        "id": "VLVIXrnSCW7h"
      },
      "outputs": [],
      "source": []
    },
    {
      "cell_type": "markdown",
      "metadata": {
        "id": "yGX_6aF4CX46"
      },
      "source": [
        "**Ejercicio 14**\n",
        "\n",
        "Escribir una función que reciba un array de numpy con las notas de los alumnos de un curso y devuelva un diagrama de barras con las notas. El diagrama debe tener el título “Distribución de notas”."
      ]
    },
    {
      "cell_type": "code",
      "execution_count": null,
      "metadata": {
        "id": "0vncRwTnCemn"
      },
      "outputs": [],
      "source": []
    },
    {
      "cell_type": "markdown",
      "metadata": {
        "id": "c_0tdMuTCgiE"
      },
      "source": [
        "**Ejercicio 15**\n",
        "\n",
        "Escribir una función que reciba un array de numpy con el número de ventas de un producto durante los meses de un trimestre y un título y cree un gráfico circular con las ventas en formato png con el titulo dado. El diagrama debe guardarse en un fichero con formato png y el título dado."
      ]
    },
    {
      "cell_type": "code",
      "execution_count": null,
      "metadata": {
        "id": "tpE8drWlCgx1"
      },
      "outputs": [],
      "source": []
    },
    {
      "cell_type": "markdown",
      "metadata": {
        "id": "PyMfmwxiCg9M"
      },
      "source": [
        "**Ejercicio 16**\n",
        "\n",
        "Escribir una función que reciba un arreglo numpy con el número de ventas de un producto por años y una cadena con el tipo de gráfico a generar (lineas, barras, sectores, areas) y devuelva un diagrama del tipo indicado con la evolución de las ventas por años y con el título “Evolución del número de ventas”."
      ]
    },
    {
      "cell_type": "code",
      "execution_count": null,
      "metadata": {
        "id": "r7Ede3ONChHJ"
      },
      "outputs": [],
      "source": []
    },
    {
      "cell_type": "markdown",
      "metadata": {
        "id": "3sVQwzcGChQE"
      },
      "source": [
        "**Ejercicio 17**\n",
        "\n",
        "Escribir una función que reciba una matriz numpy con los ingresos y gastos de una empresa por meses y devuelva un diagrama de líneas con dos líneas, una para los ingresos y otra para los gastos. El diagrama debe tener una leyenda identificando la línea de los ingresos y la de los gastos, un título con el nombre “Evolución de ingresos y gastos” y el eje y debe empezar en 0."
      ]
    },
    {
      "cell_type": "code",
      "execution_count": null,
      "metadata": {
        "id": "Xs5iawZJCha1"
      },
      "outputs": [],
      "source": []
    }
  ],
  "metadata": {
    "colab": {
      "provenance": []
    },
    "kernelspec": {
      "display_name": "Python 3",
      "name": "python3"
    },
    "language_info": {
      "codemirror_mode": {
        "name": "ipython",
        "version": 3
      },
      "file_extension": ".py",
      "mimetype": "text/x-python",
      "name": "python",
      "nbconvert_exporter": "python",
      "pygments_lexer": "ipython3",
      "version": "3.10.12"
    }
  },
  "nbformat": 4,
  "nbformat_minor": 0
}
