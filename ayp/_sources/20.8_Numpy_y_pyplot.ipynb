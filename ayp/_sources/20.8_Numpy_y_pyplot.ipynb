{
  "cells": [
    {
      "cell_type": "markdown",
      "metadata": {
        "id": "LiSFrlKfVBit"
      },
      "source": [
        "## 8. NumPy y PyPlot\n"
      ]
    },
    {
      "cell_type": "markdown",
      "metadata": {
        "id": "hQ56qk09zwke"
      },
      "source": [
        "### 1° Parte. NumPy"
      ]
    },
    {
      "cell_type": "markdown",
      "metadata": {},
      "source": [
        "**Ejercicio 0.** Los siguientes ejercicios son para practicar operaciones elementales de NumPy.\n",
        "\n",
        "\n",
        "1. **Crear un arreglo.** Crea un arreglo unidimensional con los números del 1 al 10.\n",
        "2. **Crear una matriz.** Crea una matriz de 3x3 llena de ceros.\n",
        "3. **Matriz identidad.** Crea una matriz identidad de tamaño 4x4.\n",
        "4. **Suma de arreglos.** Dado dos arreglos, `a = np.array([1, 2, 3])` y `b = np.array([4, 5, 6])` obtené el arreglo que se obtiene de sumar coordenada a coordenada.\n",
        "5. **Multiplicación por un escalar.** Multiplica coordenada a coordenada el arreglo `a = np.array([1, 2, 3])` por el escalar 2.\n",
        "6. **Redimensionar un arreglo.** Convierte el arreglo unidimensional `a = np.arange(12)`, de 12 elementos, en una matriz de 3x4.\n",
        "7. **Acceso a elementos.** Accede al tercer elemento de el arreglo unidimensional `a = np.array([1, 2, 3, 4, 5])` y al elemento en la posición (1, 2) de la matriz `b = np.array([[1, 2, 3], [4, 5, 6]])`. \n",
        "8. **Filtrar elementos.** Filtrar todos los números que son mayores que 5 del arreglo `a = np.array([1, 6, 4, 7, 9, 3, 8])`.\n",
        "9. **Calcular la media.** Calcular la media y la desviación estándar del arreglo `a = np.array([1, 2, 3, 4, 5])`.\n",
        "10. **Transponer una matriz.** Transponer la matriz `a = np.array([[1, 2, 3], [4, 5, 6]])`.\n",
        "11. **Concatenar arreglos.** Concatenar los arreglos `a = np.array([1, 2, 3])` y `b = np.array([4, 5, 6])` verticalmente y horizontalmente.\n",
        "12. **Submatrices.** Extrae la submatriz 2x2 de la esquina superior derecha de la matriz `a = np.array([[1, 2, 3], [4, 5, 6], [7, 8, 9]])`.\n",
        "13. **Buscar elementos.** Encuentra los índices de los elementos que son pares del arreglo `a = np.array([1, 2, 3, 4, 5, 6, 7, 8, 9])`.\n",
        "14. **Ordenar un arreglo.** Ordenar el arreglo `a = np.array([4, 2, 1, 3, 5])`.\n",
        "15. **Crear arreglos aleatorios.** Genera un arreglo de 10 números aleatorios entre -100 y +100.\n",
        "16. **Suma de matrices.** Sumar las matrices `a = np.array([[1, 2], [3, 4]])`y `b = np.array([[5, 6], [7, 8]])`.\n",
        "17. **Producto punto.** Calcular el producto punto entre los vectores `a = np.array([1, 2, 3])`y `b = np.array([4, 5, 6])`. En matemática el *producto punto* o *producto escalar* entre dos vectores $(x_1, \\ldots, x_n)$ y $(y_1, \\ldots, y_n)$ se define como\n",
        "\\begin{equation*}\n",
        "(x_1, \\ldots, x_n) \\cdot (y_1, \\ldots, y_n) := x_1y_1 + \\cdots + x_ny_n.\n",
        "\\end{equation*}\n",
        "Es decir, es la suma de los valores que se obtienen de multiplicar los vectores coordenada a coordenada. \n",
        "18. **Elementos únicos.** Encuentra los elementos únicos del arreglo `a = np.array([1, 2, 1, 3, 4, 2, 5])`. Es decir, hacer un arreglo con todos los elementos de  `a` sin repetición.\n",
        "19. **Operaciones booleanas.** Convertir a booleano el arreglo binario `a = np.array([1, 0, 1, 0, 1])`.\n",
        "20. **Guardar y cargar arreglos.** Guardar el arreglo `a = np.array([1, 2, 3, 4, 5])` en el archivo `arreglo.npy` y luego cargá el archivo y asignalo a la variable `b`."
      ]
    },
    {
      "cell_type": "code",
      "execution_count": null,
      "metadata": {},
      "outputs": [],
      "source": [
        "# Solución\n",
        "import numpy as np\n",
        "\n",
        "# 1. Crear un arreglo: Crea un arreglo unidimensional con los números del 1 al 10.\n",
        "print(\"1. Crear un arreglo: Crea un arreglo unidimensional con los números del 1 al 10.\")\n",
        "print(np.array([1, 2, 3, 4, 5, 6, 7, 8, 9, 10]))\n",
        "# o bien: print(np.arange(1, 11))\n",
        "\n",
        "# 2. Crear una matriz: Crea una matriz de 3x3 llena de ceros.\n",
        "print(\"\\n2. Crear una matriz: Crea una matriz de 3x3 llena de ceros.\")\n",
        "print(np.zeros((3, 3)))\n",
        "\n",
        "# 3. Matriz identidad: Crea una matriz identidad de tamaño 4x4.\n",
        "print(\"\\n3. Matriz identidad: Crea una matriz identidad de tamaño 4x4.\")\n",
        "print(np.eye(4))\n",
        "\n",
        "# 4. Suma de arreglos: Dado dos arreglos, realiza la suma elemento a elemento.\n",
        "print(\"\\n4. Suma de arreglos: Dado dos arreglos, realiza la suma elemento a elemento.\")\n",
        "a = np.array([1, 2, 3])\n",
        "b = np.array([4, 5, 6])\n",
        "print(a + b)\n",
        "\n",
        "# 5. Multiplicación por un escalar: Multiplica un arreglo por un escalar (por ejemplo, 2).\n",
        "print(\"\\n5. Multiplicación por un escalar: Multiplica un arreglo por un escalar (por ejemplo, 2).\")\n",
        "a = np.array([1, 2, 3])\n",
        "print(a * 2)\n",
        "\n",
        "# 6. Redimensionar un arreglo: Convierte un arreglo unidimensional de 12 elementos en una matriz de 3x4.\n",
        "print(\"\\n6. Redimensionar un arreglo: Convierte un arreglo unidimensional de 12 elementos en una matriz de 3x4.\")   \n",
        "a = np.arange(12)\n",
        "print(a.reshape(3, 4))\n",
        "\n",
        "# 7. Acceso a elementos: Accede al tercer elemento de un arreglo unidimensional y al elemento en la posición (1, 2) de una matriz.\n",
        "print(\"\\n7. Acceso a elementos: Accede al tercer elemento de un arreglo unidimensional y al elemento en la posición (1, 2) de una matriz.\")\n",
        "a = np.array([1, 2, 3, 4, 5])\n",
        "print(a[2])\n",
        "a = np.array([[1, 2, 3], [4, 5, 6]])\n",
        "print(a[1, 2])\n",
        "\n",
        "# 8. Filtrar elementos: Crea un arreglo y filtra todos los números que son mayores que 5.\n",
        "print(\"\\n8. Filtrar elementos: Crea un arreglo y filtra todos los números que son mayores que 5.\")\n",
        "a = np.array([1, 6, 4, 7, 9, 3, 8])\n",
        "print(a[a > 5])\n",
        "\n",
        "# 9. Calcular la media: Calcula la media y la desviación estándar de un arreglo.\n",
        "print(\"\\n9. Calcular la media: Calcula la media y la desviación estándar de un arreglo.\")\n",
        "a = np.array([1, 2, 3, 4, 5])\n",
        "print(\"Media:\", np.mean(a))\n",
        "print(\"Desviación estándar:\", np.std(a))\n",
        "\n",
        "# 10. Transponer una matriz: Transpone una matriz de 2x3 a 3x2.\n",
        "print(\"\\n10. Transponer una matriz: Transpone una matriz de 2x3 a 3x2.\")\n",
        "a = np.array([[1, 2, 3], [4, 5, 6]])\n",
        "print(a.T)\n",
        "\n",
        "# 11. Concatenar arreglos: Une dos arreglos verticalmente y horizontalmente.\n",
        "print(\"\\n11. Concatenar arreglos: Une dos arreglos verticalmente y horizontalmente.\")\n",
        "a = np.array([1, 2, 3])\n",
        "b = np.array([4, 5, 6])\n",
        "print(\"Vertical:\", np.vstack((a, b)))\n",
        "print(\"Horizontal:\", np.hstack((a, b)))\n",
        "\n",
        "# 12. Submatrices: Extrae una submatriz de una matriz dada.\n",
        "print(\"\\n12. Submatrices: Extrae una submatriz de una matriz dada.\")\n",
        "a = np.array([[1, 2, 3], [4, 5, 6], [7, 8, 9]])\n",
        "print(a[1:3, 1:3])\n",
        "\n",
        "# 13. Buscar elementos: Encuentra los índices de los elementos que son pares en un arreglo.\n",
        "print(\"\\n13. Buscar elementos: Encuentra los índices de los elementos que son pares en un arreglo.\")\n",
        "a = np.array([1, 2, 3, 4, 5, 6, 7, 8, 9])\n",
        "print(np.where(a % 2 == 0))\n",
        "\n",
        "# 14. Ordenar un arreglo: Crea un arreglo desordenado y ordénalo.\n",
        "print(\"\\n14. Ordenar un arreglo: Crea un arreglo desordenado y ordénalo.\")\n",
        "a = np.array([4, 2, 1, 3, 5])\n",
        "print(np.sort(a))\n",
        "\n",
        "# 15. Crear arreglos aleatorios: Genera un arreglo de 10 números aleatorios entre -100 y +100.\n",
        "print(\"\\n15. Crear arreglos aleatorios: Genera un arreglo de 10 números aleatorios entre -100 y +100.\")\n",
        "print(np.random.randint(-100, 100, 10))\n",
        "\n",
        "# 16. Suma de matrices: Suma dos matrices del mismo tamaño.\n",
        "print(\"\\n16. Suma de matrices: Suma dos matrices del mismo tamaño.\")\n",
        "a = np.array([[1, 2], [3, 4]])\n",
        "b = np.array([[5, 6], [7, 8]])\n",
        "print(a + b)\n",
        "\n",
        "# 17. Producto punto: Calcula el producto punto entre dos vectores.\n",
        "print(\"\\n17. Producto punto: Calcula el producto punto entre dos vectores.\")\n",
        "a = np.array([1, 2, 3])\n",
        "b = np.array([4, 5, 6])\n",
        "print(np.dot(a, b))\n",
        "\n",
        "# 18. Elementos únicos: Encuentra los elementos únicos en un arreglo dado.\n",
        "print(\"\\n18. Elementos únicos: Encuentra los elementos únicos en un arreglo dado.\")\n",
        "a = np.array([1, 2, 1, 3, 4, 2, 5])\n",
        "print(np.unique(a))\n",
        "\n",
        "# 19. Operaciones booleanas: Crea un arreglo binario y conviértelo a booleano.\n",
        "print(\"\\n19. Operaciones booleanas: Crea un arreglo binario y conviértelo a booleano.\")\n",
        "a = np.array([1, 0, 1, 0, 1])\n",
        "print(a.astype(bool))\n",
        "\n",
        "# 20. Guardar y cargar arreglos: Guarda un arreglo en un archivo y luego cárgalo nuevamente.\n",
        "print(\"\\n20. Guardar y cargar arreglos: Guarda un arreglo en un archivo y luego cárgalo nuevamente.\")\n",
        "a = np.array([1, 2, 3, 4, 5])\n",
        "np.save(\"arreglo.npy\", a)\n",
        "b = np.load(\"arreglo.npy\")\n",
        "print(b)\n"
      ]
    },
    {
      "cell_type": "markdown",
      "metadata": {
        "id": "mn833mqvVNQx"
      },
      "source": [
        "**Ejercicio 1.**\n",
        "\n",
        "Escribir un programa que imprima un arreglo NumPy de 100 de números aleatorios del 0 al 100."
      ]
    },
    {
      "cell_type": "code",
      "execution_count": null,
      "metadata": {
        "id": "4W9xQnuTOV3S"
      },
      "outputs": [],
      "source": [
        "# Solución\n",
        "import numpy as np\n",
        "\n",
        "# Generar un arreglo de 100 números aleatorios entre 0 y 100\n",
        "arreglo_aleatorio = np.random.randint(0, 101, size=(100))\n",
        "\n",
        "# Imprimir el arreglo\n",
        "print(arreglo_aleatorio)"
      ]
    },
    {
      "cell_type": "markdown",
      "metadata": {
        "id": "WnYdioy3VPYE"
      },
      "source": [
        "**Ejercicio 2.**\n",
        "\n",
        "Escribir un programa que imprima un arreglo NumPy de 100 de números aleatorios del 0 al 10. Además, que imprima los índices de los elementos iguales a cero del arreglo.\n",
        "\n",
        "*Ayuda:* la función `where()` de NumPy se puede utilizar  para encontrar la solución del ejercicio. La sintaxis es:\n",
        "\n",
        "```Python\n",
        "indices = np.where(\"expresión lógica\")\n",
        "```\n",
        "Donde \"expresión lógica\",  es una condición que debe cumplir el arreglo. Por ejemplo\n",
        "```Python\n",
        "indices = np.where(arreglo > 0)\n",
        "```\n",
        "devuelve los índices de `arreglo` donde está ubicados los números positivos.\n"
      ]
    },
    {
      "cell_type": "code",
      "execution_count": null,
      "metadata": {
        "id": "FGhS456MdiLZ"
      },
      "outputs": [],
      "source": [
        "# Solución\n",
        "import numpy as np\n",
        "\n",
        "# Generar un arreglo de 100 números aleatorios entre 0 y 100\n",
        "arreglo_aleatorio = np.random.randint(0, 11, size=(100))\n",
        "\n",
        "# Imprimir el arreglo\n",
        "print(\"Arreglo de números aleatorios:\")\n",
        "print(arreglo_aleatorio)\n",
        "\n",
        "# Encontrar los índices de los valores mayores a 50\n",
        "indices_iguales_a_0 = np.where(arreglo_aleatorio == 0) \n",
        "# Imprimir los índices\n",
        "print(\"\\nÍndices de los valores iguales a 0:\")\n",
        "print(indices_iguales_a_0[0])"
      ]
    },
    {
      "cell_type": "markdown",
      "metadata": {
        "id": "aPOd35w1Viug"
      },
      "source": [
        "**Ejercicio 3.**\n",
        "\n",
        "Escribir un programa que imprima un arreglo NumPy de 100 de números aleatorios del 0 al 100. Además, que imprima los índices de los valores mayores a 50."
      ]
    },
    {
      "cell_type": "code",
      "execution_count": null,
      "metadata": {
        "id": "H4rDjSBuo2dh"
      },
      "outputs": [],
      "source": [
        "# Solución\n",
        "import numpy as np\n",
        "\n",
        "# Generar un arreglo de 100 números aleatorios entre 0 y 100\n",
        "arreglo_aleatorio = np.random.randint(0, 101, size=(100))\n",
        "\n",
        "# Imprimir el arreglo\n",
        "print(\"Arreglo de números aleatorios:\")\n",
        "print(arreglo_aleatorio)\n",
        "\n",
        "# Encontrar los índices de los valores mayores a 50\n",
        "indices_mayores_a_50 = np.where(arreglo_aleatorio > 50) \n",
        "# Imprimir los índices\n",
        "print(\"\\nÍndices de los valores mayores a 50:\")\n",
        "print(indices_mayores_a_50[0])"
      ]
    },
    {
      "cell_type": "markdown",
      "metadata": {
        "id": "2Y6daHE1Vpzh"
      },
      "source": [
        "**Ejercicio 4.**\n",
        "\n",
        "Crear las matrices:\n",
        "\n",
        "\\begin{equation}\n",
        "\\begin{bmatrix}\n",
        "6 & 8 & 1\\\\\n",
        "2 & 9 & 3\\\\\n",
        "4 & 5 & 1\n",
        "\\end{bmatrix}\n",
        "\\quad \\text{ y } \\quad\n",
        "\\begin{bmatrix}\n",
        "7 & 1 & -4\\\\\n",
        "-2 & 0 & -6\\\\\n",
        "-1 & 1 & -1\n",
        "\\end{bmatrix}\n",
        "\\end{equation}\n",
        "\n",
        "y calcular el producto de las mismas componente a componente."
      ]
    },
    {
      "cell_type": "code",
      "execution_count": null,
      "metadata": {
        "id": "XBN3tViHo4rJ"
      },
      "outputs": [],
      "source": [
        "# Solución\n",
        "import numpy as np\n",
        "\n",
        "# Definir las matrices\n",
        "matriz_a = np.array([[6, 8, 1],\n",
        "                     [2, 9, 3],\n",
        "                     [4, 5, 1]])\n",
        "\n",
        "matriz_b = np.array([[7, 1, -4],\n",
        "                     [-2, 0, -6],\n",
        "                     [-1, 1, -1]])\n",
        "\n",
        "# Calcular el producto componente a componente\n",
        "producto_cc = matriz_a * matriz_b\n",
        "\n",
        "# Imprimir las matrices y el resultado\n",
        "print(\"Matriz A:\")\n",
        "print(matriz_a)\n",
        "\n",
        "print(\"\\nMatriz B:\")\n",
        "print(matriz_b)\n",
        "\n",
        "print(\"\\nProducto componente a componente:\")\n",
        "print(producto_cc)"
      ]
    },
    {
      "cell_type": "markdown",
      "metadata": {
        "id": "HZ7aGbhWVvRR"
      },
      "source": [
        "**Ejercicio 5.**\n",
        "\n",
        "Crear un array de 100 números enteros aleatorios con valores de -100 a +100. Usando arrays de booleanos crear otros arrays que contengan los índices de: los números positivos, los números negativos, los números pares y los números impares del array original."
      ]
    },
    {
      "cell_type": "code",
      "execution_count": null,
      "metadata": {
        "id": "bYEqBscCfGG2"
      },
      "outputs": [],
      "source": [
        "# Solución\n",
        "import numpy as np\n",
        "\n",
        "# Crear un arreglo de 100 números enteros aleatorios entre -100 y +100\n",
        "arreglo = np.random.randint(-100, 101, size=100)\n",
        "\n",
        "# Imprimir el arreglo original\n",
        "print(\"Arreglo original:\")\n",
        "print(arreglo)\n",
        "\n",
        "# Crear arreglos booleanos para las condiciones\n",
        "positivos = arreglo > 0\n",
        "negativos = arreglo < 0\n",
        "pares = (arreglo % 2 == 0)\n",
        "impares = (arreglo % 2 != 0)\n",
        "\n",
        "# Obtener los índices de los números que cumplen las condiciones\n",
        "indices_positivos = np.where(positivos)[0]\n",
        "indices_negativos = np.where(negativos)[0]\n",
        "indices_pares = np.where(pares)[0]\n",
        "indices_impares = np.where(impares)[0]\n",
        "\n",
        "# Imprimir los resultados\n",
        "print(\"\\nÍndices de números positivos:\")\n",
        "print(indices_positivos)\n",
        "\n",
        "print(\"\\nÍndices de números negativos:\")\n",
        "print(indices_negativos)\n",
        "\n",
        "print(\"\\nÍndices de números pares:\")\n",
        "print(indices_pares)\n",
        "\n",
        "print(\"\\nÍndices de números impares:\")\n",
        "print(indices_impares)"
      ]
    },
    {
      "cell_type": "markdown",
      "metadata": {
        "id": "LZCE8eYRFD9z"
      },
      "source": [
        "**Ejercicio 7**\n",
        "\n",
        "Crea un array bidimensional 5x5 con todos los valores cero. Usando el indexado de arrays, asigna 1 a todos los elementos de la diagonal, para obtener la matiz identidad 5x5. Finalmente, asigna el valor 5 a todos los elementos de las subarrays 2x2 inferior izquierda y superior derecha de la matriz de 5x5."
      ]
    },
    {
      "cell_type": "code",
      "execution_count": null,
      "metadata": {
        "id": "0KYkM5R1GImm"
      },
      "outputs": [],
      "source": [
        "# Solución\n",
        "import numpy as np\n",
        "\n",
        "# Crear un array 5x5 lleno de ceros\n",
        "matriz = np.zeros((5, 5))\n",
        "print(\"Matriz 5x5 de 0s:\\n\", matriz)\n",
        "\n",
        "# Asignar 1 a todos los elementos de la diagonal\n",
        "np.fill_diagonal(matriz, 1)\n",
        "print(\"\\nMatriz con 1s en la diagonal:\\n\", matriz)\n",
        "\n",
        "# Asignar el valor 5 a la submatriz 2x2 inferior izquierda\n",
        "matriz[3:5, 0:2] = 5\n",
        "print(\"\\nMatriz con 5s agregados en la submatriz 2x2 inferior izquierda:\\n\", matriz)\n",
        "\n",
        "# Asignar el valor 5 a la submatriz 2x2 superior derecha\n",
        "matriz[0:2, 3:5] = 5\n",
        "print(\"\\nMatriz con 5s agregados en la submatriz 2x2 superior derecha:\\n\", matriz)\n"
      ]
    },
    {
      "cell_type": "markdown",
      "metadata": {
        "id": "N7AvkEG8TulH"
      },
      "source": [
        "**Ejercicio 8**\n",
        "\n",
        "Los diámetros de las esporas del lycopodium pueden medirse por métodos interferométricos. Los resultados de uno de estos experimentos son los siguientes:\n",
        "\n",
        "\\begin{matrix}\n",
        "\\text{k * diámetro (cm)} & 14 & 15 & 16 & 17 & 18 & 19 & 20 & 21 & 22 & 23\\\\\n",
        "\\hline\n",
        "\\text{número de esporas} & 1 & 1 & 8 & 24 & 48 & 58 & 35 & 16 & 8 & 1 \\\\\n",
        "\\end{matrix}\n",
        "\n",
        "donde $k=5880$.\n",
        "Usando funciones de NumPy determinar, el diámetro medio de las esporas ($\\overline{d}$) y la desviación estándar de la muestra ($\\sigma_d$). Separar, en arrays independientes, las medidas de los diámetros:\n",
        "\n",
        "1. que tengan valores inferiores a la media menos la desviación estándar, es decir $d < \\overline{d} - \\sigma_d$,\n",
        "2. que tengan valores superiores a la media más la desviación estándar, es decir $d > \\overline{d} + \\sigma_d$,\n",
        "3. que tengan valores entre $\\overline{d} - \\sigma_d < d < \\overline{d} + \\sigma_d$.\n",
        "\n",
        "*Ayuda.* Como ya sabemos la media es el promedio de la muestra,  en este caso  la suma de todos los promedios de todas las muestras  dividido la cantidad total de muestras. Para calcular la media y la desviación estándar en NumPy, puedes utilizar los métodos `mean()` y `std()`, respectivamente.\n",
        "\n",
        "Un forma de  hacer el ejercicio es hacer un \"gran\"  arreglo con los diámetros de todas las esporas. Es  decir, su hubiera $3$ esporas  con diámetro $18$ y $2$ esporas con diámetro $20$,  haríamos el arreglo \n",
        "\n",
        "    np.array([18, 18, 18, 20, 20])\n",
        "\n",
        "y  a ese arreglo le calculamos la media y la desviación estándar. Para hacer el arreglo con los diámetros de todas las esporas podemos usar el método `repeat()`,  que en el ejemplo sería utilizado de la siguiente forma:\n",
        "\n",
        "    np.repeat([18, 20], [3, 2]) # repetir 3 veces 18 y los veces 20\n",
        "\n",
        "con lo cual se obtiene el arreglo `np.array([18, 18, 18, 20, 20])`."
      ]
    },
    {
      "cell_type": "code",
      "execution_count": null,
      "metadata": {
        "id": "HSwtx1VHUMWb"
      },
      "outputs": [],
      "source": [
        "# Solución\n",
        "import numpy as np\n",
        "\n",
        "diametros = np.array([14, 15, 16, 17, 18, 19, 20, 21, 22, 23])\n",
        "numero_esporas = np.array([1, 1, 8, 24, 48, 58, 35, 16, 8, 1])\n",
        "\n",
        "diametros_todos = np.repeat(diametros, numero_esporas) # arreglo los diámetros de todas las esporas\n",
        "\n",
        "media_diametros = np.mean(diametros_todos)\n",
        "print('La media de los díametros es:', media_diametros)\n",
        "desviacion_estandar_diametros = np.std(diametros_todos)\n",
        "print('La desviación estándar de los díametros es:', desviacion_estandar_diametros)\n",
        "\n",
        "# 1.\n",
        "diametros_menores = diametros[diametros < media_diametros - desviacion_estandar_diametros]\n",
        "print('Los diámetros menores a la media - desviación estándar son:', diametros_menores)\n",
        "# 2. \n",
        "diametros_mayores = diametros[diametros > media_diametros + desviacion_estandar_diametros]\n",
        "print('Los diámetros mayores a la media + desviación estándar son:', diametros_mayores)\n",
        "# 3\n",
        "diametros_entre = diametros[(diametros >= media_diametros - desviacion_estandar_diametros) & (diametros <= media_diametros + desviacion_estandar_diametros)]\n",
        "print('Los diámetros entre la media - desviación estándar y la media + desviación estándar son:', diametros_entre)"
      ]
    },
    {
      "cell_type": "markdown",
      "metadata": {
        "id": "PAaYBUbb9D_V"
      },
      "source": [
        "**Ejercicio 9**\n",
        "\n",
        "Crear un array NumPy de 150 números enteros aleatorios en el rango del 1 al 1000. Imrpimirla. Usando una máscara booleana, identificar los números divisibles entre 3 y mayores a 500. Imprimir los valores con su correspondiente ubicación en el arreglo original."
      ]
    },
    {
      "cell_type": "code",
      "execution_count": null,
      "metadata": {
        "id": "CcrueYQt9E0f"
      },
      "outputs": [],
      "source": [
        "import numpy as np\n",
        "\n",
        "# Crear un array de 150 números enteros aleatorios en el rango de 1 a 1000\n",
        "array_aleatorio = np.random.randint(1, 1001, size=150)\n",
        "\n",
        "# Imprimir el array original\n",
        "print(\"Array original:\")\n",
        "print(array_aleatorio)\n",
        "\n",
        "# Usar una máscara booleana para identificar los números divisibles entre 3 y mayores a 500\n",
        "mascara = (array_aleatorio > 500) & (array_aleatorio % 3 == 0)\n",
        "\n",
        "# Obtener los valores que cumplen la condición\n",
        "valores_filtrados = array_aleatorio[mascara]\n",
        "\n",
        "# Obtener las posiciones de esos valores en el arreglo original\n",
        "posiciones = np.where(mascara)[0]\n",
        "\n",
        "# Imprimir los resultados\n",
        "print(\"\\nValores divisibles entre 3 y mayores a 500:\")\n",
        "for valor, posicion in zip(valores_filtrados, posiciones):\n",
        "    print(f\"Valor: {valor}, Posición: {posicion}\")"
      ]
    },
    {
      "cell_type": "markdown",
      "metadata": {
        "id": "MS8Wd3Xw9ZgV"
      },
      "source": [
        "**Ejercicio 10**\n",
        "\n",
        "1. Crear un array NumPy de 80 números enteros aleatorios en el rango del 1 al 100. Imprimirla.\n",
        "\n",
        "2. Ordenar el  array.\n",
        "\n",
        "3. Escribe la función `adivinar_numero()` que recibe como parámetro el arreglo ordenado del punto 2., imprime el arreglo y elige un número aleatorio del array. Luego, el usuario tiene que adivinar el número y el programa le dice si su adivinanza es demasiado alta o demasiado baja. Si el usuario adivina el número en 6 o menos intentos, la función debe devolver `True`, de lo contrario, devuelve `False`.\n",
        "\n",
        "*Ayuda:* `np.sort(arreglo)` ordena `arreglo`. `np.random.choice(arreglo)` elige un elemento al azar de `arreglo`."
      ]
    },
    {
      "cell_type": "code",
      "execution_count": null,
      "metadata": {},
      "outputs": [],
      "source": [
        "# 1. Crear un array NumPy de 80 números enteros aleatorios en el rango del 1 al 100. Imprimirla.\n",
        "import numpy as np\n",
        "numeros = np.random.randint(1, 101, 80)\n",
        "print(numeros)\n",
        "\n",
        "# 2.\n",
        "numeros_ordenados = np.sort(numeros)\n",
        "\n",
        "# 3.\n",
        "def adivinar_numero(numeros_ordenados):\n",
        "    # elegir un número aleatorio de la lista\n",
        "    print(numeros_ordenados)\n",
        "    print('')\n",
        "    numero_adivinar = np.random.choice(numeros_ordenados)\n",
        "    adivinado = False\n",
        "    intentos = 0\n",
        "    while not adivinado and intentos < 5:\n",
        "        # solicitar al usuario que adivine el número\n",
        "        numero_usuario = int(input(\"Adivina el número: \"))\n",
        "        if numero_usuario == numero_adivinar:\n",
        "            print(\"¡Correcto! Has adivinado el número:\", numero_adivinar)\n",
        "            adivinado = True\n",
        "        elif numero_usuario < numero_adivinar:\n",
        "            print(\"Probaste con \"+ str(numero_usuario)+ \". El número es mayor. Inténtalo de nuevo.\")\n",
        "        else:\n",
        "            print(\"Probaste con \"+ str(numero_usuario)+ \". El número es menor. Inténtalo de nuevo.\")\n",
        "        intentos += 1\n",
        "    if not adivinado:\n",
        "        print(\"Lo siento, has agotado tus intentos. El número era:\", numero_adivinar)\n",
        "    return adivinado"
      ]
    },
    {
      "cell_type": "code",
      "execution_count": null,
      "metadata": {},
      "outputs": [],
      "source": [
        "import numpy as np\n",
        "numeros = np.random.randint(1, 101, 80)\n",
        "numeros_ordenados = np.sort(numeros)\n",
        "# Descomentar la siguiente línea para probar la función\n",
        "# adivinar_numero(numeros_ordenados) # A veces no aparecen los resultados en pantalla (no es error de programación)"
      ]
    },
    {
      "cell_type": "markdown",
      "metadata": {
        "id": "_DTG1Rt2zkc6"
      },
      "source": [
        "### 2° Parte. PyPlot"
      ]
    },
    {
      "cell_type": "markdown",
      "metadata": {
        "id": "Hkdg0s9J-Er7"
      },
      "source": [
        "**Ejercicio 11.** En este ejercicio repasaremos diferentes tipos de gráficos sencillos. \n",
        "\n",
        "**1. Gráfico de línea simple.** Un *gráfico de línea* simple en Matplotlib es una representación visual que muestra cómo varía una variable a lo largo del tiempo o en relación con otra variable. Este tipo de gráfico conecta una serie de puntos mediante líneas.\n",
        "\n",
        "Crea un gráfico de linea simple que muestre la evolución de una serie de datos a lo largo del tiempo. Por ejemplo si `datos = [1, 2, 4, 9, 16]` y los valores son obtenidos cada 1 segundo.\n"
      ]
    },
    {
      "cell_type": "code",
      "execution_count": null,
      "metadata": {
        "id": "3SXygwGd-WtT"
      },
      "outputs": [],
      "source": [
        "# Solución\n",
        "import matplotlib.pyplot as plt\n",
        "\n",
        "# Datos\n",
        "datos = [1, 2, 4, 9, 16]\n",
        "tiempo = list(range(len(datos)))  # Genera una lista de tiempo (0, 1, 2, ...)\n",
        "\n",
        "# Crear el gráfico\n",
        "plt.figure(figsize=(10, 5))\n",
        "plt.plot(tiempo, datos, marker='o', linestyle='-', color='b')\n",
        "\n",
        "# Añadir título y etiquetas\n",
        "plt.title('Evolución de Datos a lo Largo del Tiempo')\n",
        "plt.xlabel('Tiempo')\n",
        "plt.ylabel('Valor')\n",
        "\n",
        "# Mostrar la cuadrícula\n",
        "plt.grid()\n",
        "\n",
        "# Mostrar el gráfico\n",
        "plt.show()"
      ]
    },
    {
      "cell_type": "markdown",
      "metadata": {
        "id": "8HrdQ0ng-dC3"
      },
      "source": [
        "**2. Gráfico de parejas de datos.** Un *gráfico de pareja de datos*, es una representación visual que muestra la relación entre dos variables cuantitativas utilizando un sistema de coordenadas cartesianas. Cada punto en el gráfico representa un par de valores $(x, y)$.\n",
        "\n",
        "\n",
        "Crea  un gráfico de dispersión para representar el siguiente conjunto de puntos en el plano cartesiano.\n",
        "\n",
        "```\n",
        "x = [1, 2, 3, 4, 5]\n",
        "y = [2, 3, 5, 4, 1]\n",
        "```"
      ]
    },
    {
      "cell_type": "code",
      "execution_count": null,
      "metadata": {
        "id": "UZPF5vDX-dTI"
      },
      "outputs": [],
      "source": [
        "# Solución\n",
        "import matplotlib.pyplot as plt\n",
        "\n",
        "# Datos\n",
        "x = [1, 2, 3, 4, 5]\n",
        "y = [2, 3, 5, 4, 1]\n",
        "\n",
        "# Crear el gráfico\n",
        "plt.figure(figsize=(8, 6))\n",
        "plt.scatter(x, y, color='r', marker='o')  # Graficar los puntos\n",
        "\n",
        "# Añadir título y etiquetas\n",
        "plt.title('Representación de Puntos en un Plano Cartesiano')\n",
        "plt.xlabel('Eje X')\n",
        "plt.ylabel('Eje Y')\n",
        "\n",
        "# Configurar límites de los ejes\n",
        "plt.xlim(0, 6)\n",
        "plt.ylim(0, 7)\n",
        "\n",
        "# Mostrar cuadrícula\n",
        "plt.grid()\n",
        "\n",
        "# Mostrar el gráfico\n",
        "plt.show()"
      ]
    },
    {
      "cell_type": "markdown",
      "metadata": {
        "id": "apYgGufA-def"
      },
      "source": [
        "**3. Histograma.** Un *histograma* es un gráfico de barras donde los datos se agrupan en intervalos o \"bins\", y cada barra representa la frecuencia de datos que caen dentro de un rango específico. Por ejemplo, se puede usar un histograma para mostrar la distribución de alturas o edades.\n",
        "\n",
        "\n",
        "Muestra en un histograma la distribución de frecuencia del siguiente conjunto de datos: `datos = [1, 1, 2, 3, 3, 3, 4, 4, 4, 4]`."
      ]
    },
    {
      "cell_type": "code",
      "execution_count": null,
      "metadata": {},
      "outputs": [],
      "source": [
        "# Solución\n",
        "import matplotlib.pyplot as plt\n",
        "\n",
        "# Datos\n",
        "datos = [1, 1, 2, 3, 3, 3, 4, 4, 4, 4]\n",
        "\n",
        "# Crear el histograma\n",
        "plt.figure(figsize=(8, 6))\n",
        "plt.hist(datos, bins=range(1, 6), edgecolor='black', alpha=0.7)\n",
        "\n",
        "# Añadir título y etiquetas\n",
        "plt.title('Histograma de Frecuencia')\n",
        "plt.xlabel('Valores')\n",
        "plt.ylabel('Frecuencia')\n",
        "\n",
        "# Mostrar el gráfico\n",
        "plt.grid(axis='y', alpha=0.75)\n",
        "plt.xticks(range(1, 5))  # Establecer las marcas en el eje X\n",
        "plt.show()"
      ]
    },
    {
      "cell_type": "markdown",
      "metadata": {
        "id": "gKLdUyxO-d0G"
      },
      "source": [
        "**4. Gráfico de barras.** Los *gráficos de barras* se utilizan para comparar diferentes categorías o variables discretas. Cada barra representa una categoría específica, como tipos de frutas o resultados de encuestas, y la altura de la barra indica la cantidad o frecuencia de cada categoría. Visualmente,  a diferencia del histograma,  se separan las columnas por espacios en blanco.\n",
        "\n",
        "\n",
        "Representa los siguientes datos categóricos con un gráfico de barras.\n",
        "\n",
        "```\n",
        "categorias = ['A', 'B', 'C', 'D']\n",
        "valores = [10, 20, 15, 25]\n",
        "```"
      ]
    },
    {
      "cell_type": "code",
      "execution_count": null,
      "metadata": {},
      "outputs": [],
      "source": [
        "# Solución\n",
        "import matplotlib.pyplot as plt\n",
        "\n",
        "# Datos\n",
        "categorias = ['A', 'B', 'C', 'D']\n",
        "valores = [10, 20, 15, 25]\n",
        "\n",
        "# Crear el gráfico de barras\n",
        "plt.figure(figsize=(8, 6))\n",
        "plt.bar(categorias, valores, color='skyblue', edgecolor='black')\n",
        "\n",
        "# Añadir título y etiquetas\n",
        "plt.title('Gráfico de Barras de Datos Categóricos')\n",
        "plt.xlabel('Categorías')\n",
        "plt.ylabel('Valores')\n",
        "\n",
        "# Mostrar el gráfico\n",
        "plt.grid(axis='y', alpha=0.75)\n",
        "plt.show()"
      ]
    },
    {
      "cell_type": "markdown",
      "metadata": {
        "id": "rn1dHFvF-eMB"
      },
      "source": [
        "**5. Gráfico circular.** Un *gráfico circular*, también conocido como diagrama circular o gráfico de torta, es una representación gráfica utilizada para mostrar la proporción de diferentes categorías dentro de un todo. Cada sección del círculo representa una categoría y su tamaño es proporcional a la cantidad que representa en relación con el total.\n",
        "\n",
        "Muestra la proporción de diferentes categorías del siguiente conjunto de datos con un gráfico circular.\n",
        "```\n",
        "sizes = [20, 30, 25, 25]\n",
        "labels = ['A', 'B', 'C', 'D']\n",
        "```"
      ]
    },
    {
      "cell_type": "code",
      "execution_count": null,
      "metadata": {
        "id": "y57Uh2d6-eX6"
      },
      "outputs": [],
      "source": [
        "\n",
        "# Solución\n",
        "import matplotlib.pyplot as plt\n",
        "\n",
        "# Datos\n",
        "sizes = [20, 30, 25, 25]\n",
        "labels = ['A', 'B', 'C', 'D']\n",
        "\n",
        "# Crear el gráfico circular\n",
        "plt.figure(figsize=(8, 6))\n",
        "plt.pie(sizes, labels=labels, autopct='%1.1f%%', startangle=140)\n",
        "\n",
        "# Añadir título\n",
        "plt.title('Proporción de Diferentes Categorías')\n",
        "\n",
        "# Mostrar el gráfico\n",
        "plt.axis('equal')  # Para asegurar que el gráfico sea un círculo\n",
        "plt.show()"
      ]
    },
    {
      "cell_type": "markdown",
      "metadata": {
        "id": "PtP0vz58AaH2"
      },
      "source": [
        "**Ejercicio 12.** \n",
        "\n",
        "1. Definir la función `obtener_ventas()` que pregunta al usuario el monto de ventas año por año dentro de un rango de años y devuelve dos arreglos (arrays de NumPy), el primero de los años  y el segundo de las ventas de cada año.   \n",
        "2. Definir la función `graficar_ventas()` que tiene com parámetros los dos arreglos anteriores y muestra por pantalla un diagrama de líneas con la evolución de las ventas."
      ]
    },
    {
      "cell_type": "code",
      "execution_count": 5,
      "metadata": {
        "id": "yUtdYo1KCSYe"
      },
      "outputs": [],
      "source": [
        "# Solución\n",
        "import matplotlib.pyplot as plt\n",
        "\n",
        "def obtener_ventas():\n",
        "    # Solicitar el rango de años al usuario\n",
        "    anio_inicio = int(input(\"Ingrese el año de inicio: \"))\n",
        "    anio_fin = int(input(\"Ingrese el año de fin: \"))\n",
        "\n",
        "    # Inicializar listas para años y ventas\n",
        "    anos = []\n",
        "    ventas = []\n",
        "\n",
        "    # Obtener las ventas para cada año en el rango especificado\n",
        "    for anio in range(anio_inicio, anio_fin + 1):\n",
        "        venta = float(input(f\"Ingrese las ventas para el año {anio}: \"))\n",
        "        anos.append(anio)\n",
        "        ventas.append(venta)\n",
        "\n",
        "    return anos, ventas\n",
        "\n",
        "def graficar_ventas(anos, ventas):\n",
        "    # Crear el gráfico de líneas\n",
        "    plt.figure(figsize=(10, 5))\n",
        "    plt.plot(anos, ventas, marker='o', linestyle='-', color='b')\n",
        "\n",
        "    # Añadir título y etiquetas\n",
        "    plt.title('Evolución de Ventas por Año')\n",
        "    plt.xlabel('Año')\n",
        "    plt.ylabel('Ventas')\n",
        "\n",
        "    # Mostrar cuadrícula\n",
        "    plt.grid()\n",
        "\n",
        "    # Mostrar el gráfico\n",
        "    plt.show()"
      ]
    },
    {
      "cell_type": "code",
      "execution_count": null,
      "metadata": {},
      "outputs": [],
      "source": [
        "# Descomentar las siguientes líneas para probar las funciones\n",
        "# anos, ventas = obtener_ventas()\n",
        "# graficar_ventas(anos, ventas)"
      ]
    },
    {
      "cell_type": "markdown",
      "metadata": {
        "id": "yGX_6aF4CX46"
      },
      "source": [
        "**Ejercicio 13**\n",
        "\n",
        "Escribir una función que reciba un array de NumPy con las notas de los alumnos de un curso y  el  nombre de la materia y devuelva un gráfico de  barras  la distribución de notas. El diagrama debe tener el título “Distribución de notas de la materia ...”.\n",
        "\n",
        "Observar que, para poder implementar esta función, para cada nota del 0 al 10 debe contarse la cantidad de alumnos con esa nota. Si `x` es un arreglo NumPy, la instrucción `np.sum(predicado)` devuelve la cantidad de elementos de `x` que satisfacen el `predicado`.Por ejemplo, `np.sum(x > 2)` devuelve la cantidad de elementos de `x` que son mayores que 2. "
      ]
    },
    {
      "cell_type": "code",
      "execution_count": null,
      "metadata": {
        "id": "0vncRwTnCemn"
      },
      "outputs": [],
      "source": [
        "import numpy as np\n",
        "import matplotlib.pyplot as plt\n",
        "\n",
        "def graficar_notas(notas_alumnos, materia):\n",
        "    \"\"\"\n",
        "    Genera un gráfico de barras que representa la distribución de notas de los alumnos.\n",
        "    notas_alumnos: Array de NumPy con las notas de los alumnos.\n",
        "    materia: cadena con el nombre de la materia.\n",
        "    \"\"\"\n",
        "    notas = np.array([])\n",
        "    for i in range(11):\n",
        "        cantidad = np.sum(notas_alumnos == i)\n",
        "        notas = np.append(notas,  cantidad)\n",
        "    # notas[i] representa la cantidad de alumnos con nota i\n",
        "\n",
        "    # Crear el gráfico de barras\n",
        "    plt.bar(np.array(range(11)), notas)\n",
        "\n",
        "    # Añadir título y etiquetas\n",
        "    plt.title('Distribución de notas de la materia ' + materia)\n",
        "    plt.xlabel('Notas')\n",
        "    plt.ylabel('Cantidad de alumnos')\n",
        "\n",
        "    # Mostrar cuadrícula\n",
        "    plt.grid(axis='y', alpha=0.75)\n",
        "\n",
        "    # Mostrar el gráfico\n",
        "    plt.show()\n",
        "\n",
        "    \n",
        "\n",
        "# Ejemplo de uso\n",
        "notas_alumnos = np.array([8, 9, 4, 6, 3, 3, 7, 8, 9, 7, 4, 4, 8, 9, 5, 6, 5, 6, 7, 8, 10])  # Array de NumPy con las notas\n",
        "graficar_notas(notas_alumnos, 'Historia')"
      ]
    },
    {
      "cell_type": "markdown",
      "metadata": {
        "id": "c_0tdMuTCgiE"
      },
      "source": [
        "**Ejercicio 14**\n",
        "\n",
        "Escribir una función que reciba un array de NumPy con el número de ventas de un producto durante los meses de un trimestre y un título y cree un gráfico circular con las ventas en formato png con el titulo dado. El diagrama debe guardarse en un fichero con formato png y el título dado.\n",
        "\n",
        "Probar la función con el arreglo `ventas = np.array([150, 200, 250])`."
      ]
    },
    {
      "cell_type": "code",
      "execution_count": 14,
      "metadata": {
        "id": "tpE8drWlCgx1"
      },
      "outputs": [],
      "source": [
        "import numpy as np\n",
        "import matplotlib.pyplot as plt\n",
        "\n",
        "def crear_grafico_circular(ventas, titulo):\n",
        "    # Crear el gráfico circular\n",
        "    plt.figure(figsize=(8, 8))\n",
        "    plt.pie(ventas, labels=[f'Mes {i+1}' for i in range(len(ventas))], autopct='%1.1f%%', startangle=90)\n",
        "    plt.title(titulo)\n",
        "    # Guardar el gráfico como archivo PNG\n",
        "    plt.savefig(f\"{titulo}.png\")\n",
        "    plt.close()\n",
        "\n",
        "# Ejemplo de uso\n",
        "ventas = np.array([150, 200, 250])\n",
        "titulo_grafico = \"Ventas del Producto en el Trimestre\"\n",
        "crear_grafico_circular(ventas , titulo_grafico)"
      ]
    },
    {
      "cell_type": "markdown",
      "metadata": {
        "id": "PyMfmwxiCg9M"
      },
      "source": [
        "**Ejercicio 15**\n",
        "\n",
        "Escribir una función que reciba un arreglo NumPy con el número de ventas de un producto por años y una cadena con el tipo de gráfico a generar (lineas, barras, torta, áreas) y devuelva un diagrama del tipo indicado con la evolución de las ventas por años y con el título “Evolución del número de ventas (lineas)” o  “Evolución del número de ventas (barras)”, etc., según lo que corresponda."
      ]
    },
    {
      "cell_type": "code",
      "execution_count": 29,
      "metadata": {
        "id": "r7Ede3ONChHJ"
      },
      "outputs": [],
      "source": [
        "import numpy as np\n",
        "import matplotlib.pyplot as plt\n",
        "\n",
        "def crear_grafico_evolucion(ventas_por_año, tipo='lineas'):\n",
        "    \"\"\"\n",
        "    Crea un gráfico de la evolución del número de ventas por año. El tipo de gráfico puede ser 'lineas', 'barras', 'torta' o 'areas'.\n",
        "    Recibe dos parámetros: un array de NumPy con las ventas por año y el tipo de gráfico a generar.\n",
        "    \"\"\"\n",
        "    # Comprobar que el argumento ventas_por_año sea un array de NumPy\n",
        "    if not isinstance(ventas_por_año, np.ndarray):\n",
        "        raise ValueError(\"ventas_por_año debe ser un arreglo NumPy.\")\n",
        "    assert tipo in ['lineas', 'barras', 'torta', 'areas'], \"tipo de gráfico no válido. Usa 'lineas', 'barras', 'torta' o 'areas'.\"\n",
        "    \n",
        "    años = np.arange(len(ventas_por_año)) + 1  # Asumiendo años consecutivos comenzando desde 1\n",
        "\n",
        "    plt.figure(figsize=(10, 6))\n",
        "    \n",
        "    if tipo == 'lineas':\n",
        "        plt.plot(años, ventas_por_año, marker='o', linestyle='-', color='b')\n",
        "        plt.fill_between(años, ventas_por_año, color='lightblue', alpha=0.5)\n",
        "        plt.xlabel(\"Años\")\n",
        "        plt.ylabel(\"Número de Ventas\")\n",
        "        plt.xticks(años)  # Asegura que cada año esté etiquetado en el eje x\n",
        "        plt.grid()\n",
        "    elif tipo == 'barras':\n",
        "        plt.bar(años, ventas_por_año, color='skyblue')\n",
        "        plt.xlabel(\"Años\")\n",
        "        plt.ylabel(\"Número de Ventas\")\n",
        "        plt.xticks(años)  # Asegura que cada año esté etiquetado en el eje x\n",
        "        plt.grid()\n",
        "    elif tipo == 'torta':\n",
        "        plt.pie(ventas_por_año, labels=[f'Año {i+1}' for i in range(len(ventas_por_año))], autopct='%1.1f%%')\n",
        "        # plt.axis('equal')  # Asegura que el gráfico sea un círculo\n",
        "    elif tipo == 'areas':\n",
        "        plt.fill_between(años, ventas_por_año, color='lightgreen', alpha=0.5)\n",
        "        plt.xlabel(\"Años\")\n",
        "        plt.ylabel(\"Número de Ventas\")\n",
        "        plt.xticks(años)  # Asegura que cada año esté etiquetado en el eje x\n",
        "        plt.grid()\n",
        "    titulo = \"Evolución del número de ventas \" + '(' + tipo + ')'\n",
        "    plt.title(titulo)\n",
        "    \n",
        "    # Guardar el gráfico como archivo PNG\n",
        "    plt.savefig(titulo + \".png\")\n",
        "    plt.close()\n",
        "\n",
        "# Ejemplo de uso\n",
        "ventas_anuales = np.array([1200, 1500, 1800, 2200, 2500])\n",
        "crear_grafico_evolucion(ventas_anuales, tipo='lineas')  # Cambia 'lineas' por 'barras', 'torta' o 'areas' según sea necesario\n",
        "crear_grafico_evolucion(ventas_anuales, tipo='barras')  \n",
        "crear_grafico_evolucion(ventas_anuales, tipo='torta')  \n",
        "crear_grafico_evolucion(ventas_anuales, tipo='areas')  "
      ]
    },
    {
      "cell_type": "markdown",
      "metadata": {
        "id": "3sVQwzcGChQE"
      },
      "source": [
        "**Ejercicio 16**\n",
        "\n",
        "Escribir una función que reciba una matriz NumPy con los ingresos y gastos de una empresa por meses y devuelva un diagrama de líneas con dos líneas, una para los ingresos y otra para los gastos. El diagrama debe tener una leyenda identificando la línea de los ingresos y la de los gastos, un título con el nombre “Evolución de ingresos y gastos” y el eje y debe empezar en 0."
      ]
    },
    {
      "cell_type": "code",
      "execution_count": 31,
      "metadata": {
        "id": "Xs5iawZJCha1"
      },
      "outputs": [],
      "source": [
        "import numpy as np\n",
        "import matplotlib.pyplot as plt\n",
        "\n",
        "def graficar_ingresos_gastos(datos):\n",
        "    \"\"\"\n",
        "    Crea un gráfico de líneas que muestra la evolución de ingresos y gastos.\n",
        "\n",
        "    Args:\n",
        "        datos (np.ndarray): Matriz con dos columnas; la primera para ingresos y la segunda para gastos.\n",
        "    \"\"\"\n",
        "    # Comprobar que el argumento datos sea un array de NumPy\n",
        "    if not isinstance(datos, np.ndarray) or datos.shape[1] != 2:\n",
        "        raise ValueError(\"datos debe ser una matriz NumPy con dos columnas: ingresos y gastos.\")\n",
        "    \n",
        "    meses = np.arange(1, datos.shape[0] + 1)  # Crear un array para los meses\n",
        "    ingresos = datos[:, 0]  # Primera columna: ingresos\n",
        "    gastos = datos[:, 1]     # Segunda columna: gastos\n",
        "\n",
        "    plt.figure(figsize=(10, 6))\n",
        "    \n",
        "    # Graficar ingresos y gastos\n",
        "    plt.plot(meses, ingresos, marker='o', linestyle='-', color='green', label='Ingresos')\n",
        "    plt.plot(meses, gastos, marker='o', linestyle='-', color='red', label='Gastos')\n",
        "\n",
        "    # Configuración del gráfico\n",
        "    plt.title(\"Evolución de ingresos y gastos\")\n",
        "    plt.xlabel(\"Meses\")\n",
        "    plt.ylabel(\"Cantidad\")\n",
        "    plt.xticks(meses)  # Asegura que cada mes esté etiquetado en el eje x\n",
        "    plt.ylim(bottom=0)  # El eje Y comienza en 0\n",
        "    plt.grid()\n",
        "    \n",
        "    # Añadir leyenda\n",
        "    plt.legend()\n",
        "    \n",
        "    # Guardar el gráfico como archivo PNG\n",
        "    plt.savefig(\"Evolucion_ingresos_gastos.png\")\n",
        "    plt.close()\n",
        "\n",
        "# Ejemplo de uso\n",
        "datos_empresa = np.array([[1000, 800], [1500, 1200], [2100, 1800], [2400, 2200], [3000, 2500]])\n",
        "graficar_ingresos_gastos(datos_empresa)"
      ]
    }
  ],
  "metadata": {
    "colab": {
      "provenance": []
    },
    "kernelspec": {
      "display_name": "Python 3",
      "name": "python3"
    },
    "language_info": {
      "codemirror_mode": {
        "name": "ipython",
        "version": 3
      },
      "file_extension": ".py",
      "mimetype": "text/x-python",
      "name": "python",
      "nbconvert_exporter": "python",
      "pygments_lexer": "ipython3",
      "version": "3.10.4"
    }
  },
  "nbformat": 4,
  "nbformat_minor": 0
}
