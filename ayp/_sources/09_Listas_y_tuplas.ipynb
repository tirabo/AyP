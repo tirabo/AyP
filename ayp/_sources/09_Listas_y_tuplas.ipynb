{
  "cells": [
    {
      "cell_type": "markdown",
      "metadata": {
        "id": "-Oko1muQ06MU"
      },
      "source": [
        "# Listas y tuplas"
      ]
    },
    {
      "cell_type": "markdown",
      "metadata": {
        "id": "R22rHsKNE6_r"
      },
      "source": [
        "## 1. Listas\n",
        "\n",
        "Como una cadena, una *lista* es una secuencia de valores. En una cadena, los valores son caracteres; en una lista, los valores pueden ser de cualquier tipo. Los valores de una lista se denominan *elementos* o, a veces, *items*.\n",
        "\n",
        "Hay varias formas de crear una lista nueva; lo más simple es encerrar los elementos entre corchetes `[` y `]`:\n"
      ]
    },
    {
      "cell_type": "code",
      "execution_count": null,
      "metadata": {
        "id": "hBu8JfswyYPk"
      },
      "outputs": [],
      "source": [
        "[10, 20, 30, 40]\n",
        "['Alberto', 'Pedro', 'Carla']"
      ]
    },
    {
      "cell_type": "markdown",
      "metadata": {
        "id": "N--Pmd2byYZ6"
      },
      "source": [
        "El primer ejemplo es una lista de cuatro números enteros. El segundo es una lista de tres cadenas. Los elementos de una lista no tienen que ser del mismo tipo. La siguiente lista contiene una cadena, un numero punto flotante, un número entero y otra lista:"
      ]
    },
    {
      "cell_type": "code",
      "execution_count": null,
      "metadata": {
        "id": "bVGUU2A-yrYu"
      },
      "outputs": [],
      "source": [
        "['spam', 2.0, 5, [10, 20]]"
      ]
    },
    {
      "cell_type": "markdown",
      "metadata": {
        "id": "OBqmo6Z0yrhx"
      },
      "source": [
        "si hay una lista dentro de otra lista se dice que hay una lista *anidada*. Veremos más adelante (en otra clase) un ejemplo muy importante de listas anidades, que son las *matrices*.\n",
        "\n",
        "Aunque las listas permiten poner diferentes tipos de elementos, no es una práctica recomendable hacer listas \"heterogeneas\". Es decir, lo recomendable es hacer listas del mismo tipo de elementos: listas de `int`, listas de `float`, listas de listas, etc.\n",
        "\n",
        "Una lista que no contiene elementos se denomina lista vacía y se puede crear con `[]`.\n",
        "\n",
        "Como era de esperar, se puede asignar valores de listas a variables:"
      ]
    },
    {
      "cell_type": "code",
      "execution_count": null,
      "metadata": {
        "id": "BddiwXQKzPW1"
      },
      "outputs": [],
      "source": [
        "quesos = ['Cheddar', 'Edam', 'Gouda']\n",
        "números = [42, 123]\n",
        "vacío = []\n",
        "print(quesos)\n",
        "print(números)\n",
        "print(vacío)"
      ]
    },
    {
      "cell_type": "markdown",
      "metadata": {
        "id": "TaZ0hPAwzPgk"
      },
      "source": [
        "## 2. Acceder  a los elementos de una lista y otras operaciones comunes\n",
        "\n",
        "La sintaxis para acceder a los elementos de una lista es la misma que para acceder a los caracteres de una cadena: el operador de corchetes. La expresión entre corchetes especifica el índice. Recordá que los índices comienzan en 0:"
      ]
    },
    {
      "cell_type": "code",
      "execution_count": null,
      "metadata": {
        "id": "OeEOfzJJ0ATi"
      },
      "outputs": [],
      "source": [
        "quesos = ['Cheddar', 'Edam', 'Gouda']\n",
        "print(quesos[0])\n",
        "print(quesos[1])\n",
        "print(quesos[2])\n",
        "# print(quesos[3]) # descomentar da erro"
      ]
    },
    {
      "cell_type": "markdown",
      "metadata": {
        "id": "RyVzsy9K0Ag0"
      },
      "source": [
        "A diferencia de las cadenas, las listas son *mutables*. Cuando el operador de corchetes aparece en el lado izquierdo de una asignación, identifica el elemento de la lista que se asignará.\n",
        "\n",
        "\n"
      ]
    },
    {
      "cell_type": "code",
      "execution_count": null,
      "metadata": {
        "id": "4iCy8ehg1lca"
      },
      "outputs": [],
      "source": [
        "números = [42, 123]\n",
        "print(números[1])\n",
        "números[1] = 5\n",
        "print(números[1])"
      ]
    },
    {
      "cell_type": "markdown",
      "metadata": {
        "id": "GLHxzWTr1llF"
      },
      "source": [
        "El  elemento de índice 1 en `números`, que era `123`, ahora es `5`.\n"
      ]
    },
    {
      "cell_type": "markdown",
      "metadata": {
        "id": "LgPeGJIr0YlD"
      },
      "source": [
        "Los índices de lista funcionan de la misma manera que los índices de cadena:\n",
        "\n",
        "- Cualquier expresión entera se puede utilizar como índice.\n",
        "- Si intentás leer o escribir un elemento que no existe, obtenés un `IndexError`.\n",
        "- Si un índice tiene un valor negativo, cuenta hacia atrás desde el final de la lista.\n"
      ]
    },
    {
      "cell_type": "code",
      "execution_count": null,
      "metadata": {
        "id": "Y0ucaPGQ2LKX"
      },
      "outputs": [],
      "source": [
        "números = [42, 123, 33, 5]\n",
        "print(números[-1])\n",
        "print(números[4 - 1])"
      ]
    },
    {
      "cell_type": "markdown",
      "metadata": {
        "id": "rX_fX9MJ2LRe"
      },
      "source": [
        "El operador `in` también funciona en listas."
      ]
    },
    {
      "cell_type": "code",
      "execution_count": null,
      "metadata": {
        "id": "j5m4gVq80dLk"
      },
      "outputs": [],
      "source": [
        "quesos = ['Cheddar', 'Edam', 'Gouda']\n",
        "print('Edam' in quesos)\n",
        "print('Brie' in quesos)\n",
        "print(['Cheddar', 'Edam'] in quesos)\n",
        "print('Cheddar'in quesos and 'Edam' in quesos)"
      ]
    },
    {
      "cell_type": "markdown",
      "metadata": {
        "id": "G92L2lx0RYIR"
      },
      "source": [
        "Como se puede observar al ejecutar la penúltima línea de código de la celda anterior el operador `in` no detecta \"sublistas\"."
      ]
    },
    {
      "cell_type": "markdown",
      "metadata": {
        "id": "a4an9g8f0dTI"
      },
      "source": [
        "**Rebanadas (*slices* en inglés) de un lista.** El operador slice también funciona en listas:"
      ]
    },
    {
      "cell_type": "code",
      "execution_count": null,
      "metadata": {
        "id": "B_LEeKUIETNx",
        "colab": {
          "base_uri": "https://localhost:8080/"
        },
        "outputId": "47a93087-c62a-41ac-e7c1-97e20d732ded"
      },
      "outputs": [
        {
          "output_type": "stream",
          "name": "stdout",
          "text": [
            "['b', 'c']\n",
            "['a', 'b', 'c', 'd']\n",
            "['d', 'e', 'f']\n"
          ]
        }
      ],
      "source": [
        "t = ['a', 'b', 'c', 'd', 'e', 'f']\n",
        "print(t[1:3])\n",
        "print(t[:4])\n",
        "print(t[3:])"
      ]
    },
    {
      "cell_type": "markdown",
      "metadata": {
        "id": "A8jPcX2mETU6"
      },
      "source": [
        "Si se omite el primer índice, la slice comienza por el principio. Si se omite el segundo, la slice llega al final. Así que si se omiten ambos, la slice es una copia de la lista completa.\n"
      ]
    },
    {
      "cell_type": "code",
      "execution_count": null,
      "metadata": {
        "id": "Eb4d8UiZFDJf",
        "colab": {
          "base_uri": "https://localhost:8080/"
        },
        "outputId": "b2ab3b34-0b45-4591-8138-5c0c2d494089"
      },
      "outputs": [
        {
          "output_type": "stream",
          "name": "stdout",
          "text": [
            "['a', 'b', 'c', 'd', 'e', 'f']\n"
          ]
        }
      ],
      "source": [
        "s = t[:]\n",
        "print(s)"
      ]
    },
    {
      "cell_type": "markdown",
      "source": [
        "Como listas de elementos `s` y `t`  son iguales, como objetos, son diferentes."
      ],
      "metadata": {
        "id": "MdI0KUyPywkI"
      }
    },
    {
      "cell_type": "markdown",
      "metadata": {
        "id": "nTH3zr4CO_5X"
      },
      "source": [
        "**Concatenar listas.** Al igual que en cadenas el operador `+` se utiliza para concatenar listas. Por ejemplo:"
      ]
    },
    {
      "cell_type": "code",
      "execution_count": null,
      "metadata": {
        "id": "TRY5A1okPAJI",
        "colab": {
          "base_uri": "https://localhost:8080/"
        },
        "outputId": "10a6fce3-dfc8-4c68-8a7f-6fa820a5aefe"
      },
      "outputs": [
        {
          "output_type": "stream",
          "name": "stdout",
          "text": [
            "[1, 2, 3, 5, 7, 9]\n",
            "[5, 7, 9, 1, 2, 3]\n"
          ]
        }
      ],
      "source": [
        "print([1, 2, 3] + [5, 7, 9])\n",
        "print([5, 7, 9] + [1, 2, 3])"
      ]
    },
    {
      "cell_type": "markdown",
      "metadata": {
        "id": "UFtBljgfPkqC"
      },
      "source": [
        "Se puede concaternar con el operador `+` varias listas. El operador `+` es asociativo,  pero, obviamente, no es conmutativo. El *neutro* es la lista vacía `[]`,  es decir\n",
        "```\n",
        "lista + []  == lista\n",
        "```\n",
        "Por ejemplo,"
      ]
    },
    {
      "cell_type": "code",
      "execution_count": null,
      "metadata": {
        "id": "EUUE_yy0Pkzp",
        "colab": {
          "base_uri": "https://localhost:8080/"
        },
        "outputId": "679262d7-8331-4b57-f0c9-20ed83aa7438"
      },
      "outputs": [
        {
          "output_type": "execute_result",
          "data": {
            "text/plain": [
              "True"
            ]
          },
          "metadata": {},
          "execution_count": 18
        }
      ],
      "source": [
        "lista = [1, 2, 3]\n",
        "lista + []  == lista"
      ]
    },
    {
      "cell_type": "markdown",
      "metadata": {
        "id": "0-YB2jTeQG-O"
      },
      "source": [
        "**La función `len`.** `len` es una función incorporada que devuelve el número de elementos de una lista:"
      ]
    },
    {
      "cell_type": "code",
      "execution_count": null,
      "metadata": {
        "id": "vlP5RMnZQHMZ",
        "colab": {
          "base_uri": "https://localhost:8080/"
        },
        "outputId": "2d0b2eb8-7dfe-4320-bcd3-9e1d33a0f3e0"
      },
      "outputs": [
        {
          "output_type": "execute_result",
          "data": {
            "text/plain": [
              "5"
            ]
          },
          "metadata": {},
          "execution_count": 19
        }
      ],
      "source": [
        "vocales = ['a', 'e', 'i', 'o', 'u']\n",
        "len(vocales)"
      ]
    },
    {
      "cell_type": "markdown",
      "metadata": {
        "id": "YhqIWTStQmL3"
      },
      "source": [
        "Como en el caso de las cadenas, invocar `lista[len(lista)]` devuelve un error pues la posición `len(lista)` no existe.\n",
        "\n",
        "**El operador `*`.** El operado `*` repite una lista un número determinado de veces. Su sintaxis es :\n",
        "```\n",
        "lista * n\n",
        "```\n",
        "y su efecto es concatenar la lista $n$ veces. Por ejemplo\n"
      ]
    },
    {
      "cell_type": "code",
      "execution_count": null,
      "metadata": {
        "id": "cBWqha4-ccbW"
      },
      "outputs": [],
      "source": [
        "[1, 2] * 3 == [1, 2, 1, 2, 1, 2]"
      ]
    },
    {
      "cell_type": "markdown",
      "metadata": {
        "id": "gMVaDFdzcciw"
      },
      "source": [
        "También se puede multiplicar por izquierda,  es indistinto:"
      ]
    },
    {
      "cell_type": "code",
      "execution_count": null,
      "metadata": {
        "id": "TefCMzwcczdi"
      },
      "outputs": [],
      "source": [
        "3 * [1, 2]"
      ]
    },
    {
      "cell_type": "markdown",
      "metadata": {
        "id": "1HXsQsUbczk_"
      },
      "source": [
        "Si  multiplicamos por 0 o por un número negativo obtenemos la lista vacía. Una de las aplicaciones más usuales del operador `*` es crear listas de determinada longitud. Por ejemplo:"
      ]
    },
    {
      "cell_type": "code",
      "execution_count": null,
      "metadata": {
        "id": "q-6njFvDdONO"
      },
      "outputs": [],
      "source": [
        "print([0] * 10) # lista de 10 enteros, todos iguales a 0\n",
        "print([''] * 10) # lista de diez cadenas vacías"
      ]
    },
    {
      "cell_type": "markdown",
      "source": [
        "Concatenar la lista vacía $n$-veces resulta en la lista vacía nuevamente:"
      ],
      "metadata": {
        "id": "mGSXUcdRS3g1"
      }
    },
    {
      "cell_type": "code",
      "source": [
        "[] * 10"
      ],
      "metadata": {
        "id": "YFabneXgqfbq",
        "colab": {
          "base_uri": "https://localhost:8080/"
        },
        "outputId": "5d0531b2-b376-418c-8179-45c5b2270010"
      },
      "execution_count": null,
      "outputs": [
        {
          "output_type": "execute_result",
          "data": {
            "text/plain": [
              "[]"
            ]
          },
          "metadata": {},
          "execution_count": 20
        }
      ]
    },
    {
      "cell_type": "markdown",
      "metadata": {
        "id": "-n-AZHa5FDQj"
      },
      "source": [
        "## 3. Una lista es mutable\n",
        "\n",
        "Los tipos integrados como `int`, `float`, `bool`, `str` son inmutables. Sin embargo, los objetos de tipo `list`  o *listas* son contenedores ordenados y mutables de Python, siendo una de las estructuras de datos más comunes en Python.\n",
        "\n",
        "*Podemos pensar a una lista como una referencia a los elementos que contiene y que es posible cambiar los elementos referenciados sin cambiar la referencia.*\n",
        "\n",
        "Otra propiedad importante,  es que si dos variables de tipo `list` tiene la misma referencia, entonces el cambio de  elementos en una de ellas se reflejará en un cambio de elementos en la otra. Si ejecutamos:"
      ]
    },
    {
      "cell_type": "code",
      "execution_count": null,
      "metadata": {
        "id": "SOwkm9HkWntG",
        "colab": {
          "base_uri": "https://localhost:8080/"
        },
        "outputId": "6d33ddcd-577e-480f-b01e-1af3d0d8e79c"
      },
      "outputs": [
        {
          "output_type": "stream",
          "name": "stdout",
          "text": [
            "[-1, 2, 3, 5, 7, 9] [-1, 2, 3, 5, 7, 9]\n"
          ]
        }
      ],
      "source": [
        "lista1 = [1, 2, 3, 5, 7, 9]\n",
        "lista2 = lista1\n",
        "lista1[0] = -1\n",
        "print(lista1, lista2)"
      ]
    },
    {
      "cell_type": "markdown",
      "metadata": {
        "id": "9lHB6-QDfR0z"
      },
      "source": [
        "como `lista2` referencia a la misma lista de elementos que `lista1` cuando se modifique una de las listas se modificará la otra.\n",
        "\n",
        "Sin embargo, el manejo de este tipo de situaciones no es muy obvio. Por ejemplo si ejecutamos el siguiente código"
      ]
    },
    {
      "cell_type": "code",
      "execution_count": null,
      "metadata": {
        "id": "MEWTpssaeMS2",
        "colab": {
          "base_uri": "https://localhost:8080/"
        },
        "outputId": "e5a71acc-108f-4514-a587-41981b8ce361"
      },
      "outputs": [
        {
          "output_type": "stream",
          "name": "stdout",
          "text": [
            "1: [1, 2, 3, 4] [1, 2, 3, 4]\n",
            "2: [1, -100, 3, 4] [1, -100, 3, 4]\n",
            "3: [1, -100, 3, 4] [1, -100, 3, 4]\n",
            "4: [5, -100, 3, 4] [1, -100, 3, 4]\n"
          ]
        }
      ],
      "source": [
        "lista1 = [1, 2, 3, 4]\n",
        "lista2 = lista1\n",
        "print('1:',lista1, lista2)\n",
        "lista1[1] = -100\n",
        "print('2:',lista1, lista2)\n",
        "lista1 = lista1[:]\n",
        "print('3:',lista1, lista2)\n",
        "lista1[0] = 5\n",
        "print('4:',lista1, lista2)"
      ]
    },
    {
      "cell_type": "markdown",
      "metadata": {
        "id": "iO-v-nstWn4Q"
      },
      "source": [
        "Nos damos cuenta que pese a que, por línea 2, `lista1` y `lista2` referencia a lo mismo,  al final referencian a listas diferentes.\n",
        "\n",
        "¿Qué pasó? En  realidad lo que pasa es que la actualización de una variable en Python (ver línea 3) no es una verdadera actualización:  destruye la variable (en este caso la referencia `lista1`) y  crea otra variable nueva (en este caso con el mismo nombre) que toma los valores que están a la derecha del `=`. Por lo tanto,  después de la línea 3 `lista1` y `lista2` referencian a listas diferentes.\n",
        "\n",
        "\n",
        "\n",
        "Dado que las listas son mutables, si queremos mantener una lista pero vamos a hacer operaciones que la modifiquen, es útil hacer una copia antes de realizar estas operaciones. Por ejemplo, ejecutando las siguientes líneas de código podemos observar la diferencia entre copiar la variable lista y copiar el contenido de una lista:"
      ]
    },
    {
      "cell_type": "code",
      "execution_count": null,
      "metadata": {
        "id": "lh3f8OWRE7Sc",
        "colab": {
          "base_uri": "https://localhost:8080/"
        },
        "outputId": "f36f08f6-d48c-4d5b-a4f8-0556564613b6"
      },
      "outputs": [
        {
          "output_type": "stream",
          "name": "stdout",
          "text": [
            "[-1, 2, 3, 5, 7, 9]\n",
            "[-1, 2, 3, 5, 7, 9]\n",
            "[1, 2, 3, 5, 7, 9]\n"
          ]
        }
      ],
      "source": [
        "lista1 = [1, 2, 3, 5, 7, 9]\n",
        "lista2 = lista1 # lista1 y lista2 referencia a la misma lista de elementos\n",
        "lista3 = lista1[:] # lista3  es una copia de lista1\n",
        "lista1[0] = -1 # cambiamos el primer elemento de la lista de elementos referenciada por lista1\n",
        "print(lista1)\n",
        "print(lista2) # por lo tanto cambiamos la lista de elementos referenciada por lista2\n",
        "print(lista3) # lista3 no cambia."
      ]
    },
    {
      "cell_type": "markdown",
      "metadata": {
        "id": "x9Qj9zvWScwG"
      },
      "source": [
        "Observar que, como antes, `lista2` referencia a la misma lista que `lista1`: cuando se modifique una de las listas se modificará la otra. En  cambio, `lista3` es una copia de los elementos de la `lista1` y cuando modifiquemos `lista1` (o `lista2` en este caso) no afectará en nada a `lista3`."
      ]
    },
    {
      "cell_type": "markdown",
      "source": [
        "## 4. Arreglos multidimensionales\n",
        "\n",
        "Un arreglo multidimensional es una estructura de datos que contiene más de una dimensión. En  el caso de 2 dimensiones los elementos están organizados en filas y columnas. A diferencia de un arreglo unidimensional, que es una lista lineal de elementos, un arreglo bidimensional se puede visualizar como una tabla o matriz.\n",
        "\n",
        "Por ejemplo, un arreglo unidimensional podría ser una lista de números enteros, mientras que un arreglo bidimensional podría ser una tabla de notas de estudiantes, donde cada fila representa un estudiante y cada columna representa una asignatura. En este caso, el arreglo bidimensional tendría dos dimensiones: una para los estudiantes y otra para las asignaturas."
      ],
      "metadata": {
        "id": "MUvxfPRP6xO6"
      }
    },
    {
      "cell_type": "markdown",
      "source": [
        "Por ejemplo,"
      ],
      "metadata": {
        "id": "okroAClO75LT"
      }
    },
    {
      "cell_type": "code",
      "source": [
        "notas = [[4, 8], [3, 10], [6, 9] ]"
      ],
      "metadata": {
        "id": "I0vJ-ftp7_E4"
      },
      "execution_count": null,
      "outputs": []
    },
    {
      "cell_type": "markdown",
      "source": [
        "es un arreglo bidimensional. Tiene 3 filas y 2 columnas. En este ejemplo  queremos representar las notas de 3 alumnos en 2 materias:"
      ],
      "metadata": {
        "id": "UasVOYei8KXZ"
      }
    },
    {
      "cell_type": "code",
      "source": [
        "print(notas[0])\n",
        "print(notas[1])\n",
        "print(notas[2])"
      ],
      "metadata": {
        "colab": {
          "base_uri": "https://localhost:8080/"
        },
        "id": "ujr9A3TB8c4Y",
        "outputId": "b23b0424-83b8-44fc-a137-4cf3e812cb3f"
      },
      "execution_count": null,
      "outputs": [
        {
          "output_type": "stream",
          "name": "stdout",
          "text": [
            "[4, 8]\n",
            "[3, 10]\n",
            "[6, 9]\n"
          ]
        }
      ]
    },
    {
      "cell_type": "markdown",
      "source": [
        "El alumno `0` se ha sacado `4` y `8`, el alumno `1` se ha sacado `3` y `10` y  el alumno `2` se ha sacado `6` y `9`.\n",
        "\n",
        "Observar que los arreglos multidimensionales *no son una estructura nueva en Python*,  simplemente son listas cuyos elementos son listas.\n",
        "\n",
        "En el caso de arreglo bidimensional, digamos `arr`,  cada elemento `arr[i]` se llamará la *fila i* y diremos que la *columna j* son los elementos  `arr[k][j]` para `k` de  `0` en adelante.  \n",
        "\n",
        "Por ejemplo, `notas[0]` devuelve la lista que está en la posición `0` de `notas`,  es decir la fila `0`. Si queremos saber la nota que obtuvo el  alumno `2` en la materia `1`, simplemente hacemos `notas[2][1]`.   \n",
        "\n",
        "Por supuesto que si $n>1$ también se pueden hacer arreglos $n$-dimensionales: un arreglo $n$-dimensional es una lista de arreglos $(n-1)$-dimensionales."
      ],
      "metadata": {
        "id": "_LiR8anb8nqY"
      }
    },
    {
      "cell_type": "markdown",
      "metadata": {
        "id": "HjQjcqwiFGeI"
      },
      "source": [
        "## 5. Recorriendo una lista\n",
        "\n",
        "La forma más común de recorrer los elementos de una lista es con un ciclo `for`. La sintaxis es la misma  que para las cadenas:\n"
      ]
    },
    {
      "cell_type": "code",
      "execution_count": null,
      "metadata": {
        "id": "QTUGcA7PZRM3",
        "colab": {
          "base_uri": "https://localhost:8080/"
        },
        "outputId": "a33e5e4b-ddba-4487-d5ce-49e628edd7db"
      },
      "outputs": [
        {
          "output_type": "stream",
          "name": "stdout",
          "text": [
            "Cheddar\n",
            "Edam\n",
            "Gouda\n"
          ]
        }
      ],
      "source": [
        "quesos = ['Cheddar', 'Edam', 'Gouda']\n",
        "for queso in quesos:\n",
        "    print(queso)"
      ]
    },
    {
      "cell_type": "markdown",
      "metadata": {
        "id": "XTYeRau6ZRUz"
      },
      "source": [
        "Esto funciona bien si solo se necesita leer los elementos de la  lista. Si se desea escribir o actualizar los elementos de la lista es necesario utilizar índices. Una forma habitual de hacerlo es combinar las funciones integradas `range` y `len`:"
      ]
    },
    {
      "cell_type": "code",
      "execution_count": null,
      "metadata": {
        "id": "3Xd7QxO5Z0IN",
        "colab": {
          "base_uri": "https://localhost:8080/"
        },
        "outputId": "528015c6-ce26-4a5d-9942-4946580adaad"
      },
      "outputs": [
        {
          "output_type": "stream",
          "name": "stdout",
          "text": [
            "[1, 4, 9, 16, 25]\n"
          ]
        }
      ],
      "source": [
        "numeros = [1, 2, 3, 4, 5]\n",
        "for i in range(len(numeros)):\n",
        "    numeros[i] = numeros[i]**2\n",
        "\n",
        "print(numeros) # ahora numeros es la lista original \"elevada al cuadrado\""
      ]
    },
    {
      "cell_type": "markdown",
      "metadata": {
        "id": "28vdIn7UZ0VM"
      },
      "source": [
        "Este ciclo recorre la lista y actualiza cada elemento. Como ya vimos, `len` devuelve el número de elementos de la lista. `range` devuelve una lista de índices de 0 a $n-1$, donde $n$ es la longitud de la lista. Cada vez que se recorre el ciclo, se obtiene en `i` el índice del siguiente elemento. La declaración de asignación en el cuerpo usa `i` para leer el antiguo valor del ítem y asignar el nuevo valor.\n"
      ]
    },
    {
      "cell_type": "code",
      "source": [
        "type(range(5))\n",
        "print(range(5))\n",
        "print(list(range(5)))"
      ],
      "metadata": {
        "colab": {
          "base_uri": "https://localhost:8080/"
        },
        "id": "mWoszmFF3h_k",
        "outputId": "960cf11d-848a-4486-9f32-6eb79c1db229"
      },
      "execution_count": null,
      "outputs": [
        {
          "output_type": "stream",
          "name": "stdout",
          "text": [
            "range(0, 5)\n",
            "[0, 1, 2, 3, 4]\n"
          ]
        }
      ]
    },
    {
      "cell_type": "markdown",
      "source": [
        "Otr forma:"
      ],
      "metadata": {
        "id": "Ix4M9Ui1uggE"
      }
    },
    {
      "cell_type": "code",
      "source": [
        "numeros = [1, 2, 3, 4, 5]\n",
        "for i, num in enumerate(numeros):\n",
        "     numeros[i] = num**2\n",
        "print(numeros)"
      ],
      "metadata": {
        "id": "MiIez658ukNt",
        "colab": {
          "base_uri": "https://localhost:8080/"
        },
        "outputId": "decd4ccc-1bd5-4644-f9ec-aec3b66869fb"
      },
      "execution_count": null,
      "outputs": [
        {
          "output_type": "stream",
          "name": "stdout",
          "text": [
            "[1, 4, 9, 16, 25]\n"
          ]
        }
      ]
    },
    {
      "cell_type": "code",
      "source": [
        "print(list(enumerate(numeros)))"
      ],
      "metadata": {
        "colab": {
          "base_uri": "https://localhost:8080/"
        },
        "id": "mYKGYHqK4CHa",
        "outputId": "74342ee8-7710-47cb-f012-311f01deab5e"
      },
      "execution_count": null,
      "outputs": [
        {
          "output_type": "stream",
          "name": "stdout",
          "text": [
            "[(0, 1), (1, 4), (2, 9), (3, 16), (4, 25)]\n"
          ]
        }
      ]
    },
    {
      "cell_type": "markdown",
      "source": [
        "\n",
        "Un ciclo `for` sobre una lista vacía nunca ejecuta el cuerpo:"
      ],
      "metadata": {
        "id": "ZJGOmD2OvN6M"
      }
    },
    {
      "cell_type": "code",
      "execution_count": null,
      "metadata": {
        "id": "iZaAVIB0bPNJ"
      },
      "outputs": [],
      "source": [
        "for x in []:\n",
        "    print('Esto nunca se imprime.')"
      ]
    },
    {
      "cell_type": "markdown",
      "metadata": {
        "id": "WFBHlwCkbPZx"
      },
      "source": [
        "Aunque una lista puede contener otra lista, la lista anidada sigue contando como un solo elemento. La longitud de la siguiente  lista es cuatro:\n",
        "\n",
        "\n",
        "```\n",
        "['spam', 1, ['Brie', 'Roquefort', 'Pol le Veq'], [1, 2, 3]]\n",
        "```"
      ]
    },
    {
      "cell_type": "code",
      "source": [
        "print(len(['spam', 1, ['Brie', 'Roquefort', 'Pol le Veq'], [1, 2, 3]]))"
      ],
      "metadata": {
        "colab": {
          "base_uri": "https://localhost:8080/"
        },
        "id": "cP4fDvk4iO6v",
        "outputId": "c2e6bd2f-f35e-49aa-e374-1dd4fb139173"
      },
      "execution_count": null,
      "outputs": [
        {
          "output_type": "stream",
          "name": "stdout",
          "text": [
            "4\n"
          ]
        }
      ]
    },
    {
      "cell_type": "markdown",
      "metadata": {
        "id": "_6hXJSY9cHff"
      },
      "source": [
        "## 6. Métodos en listas\n",
        "\n",
        "Llamamos métodos a funciones que se aplican de una forma particular, con la notación punto. Veamos a continuación ejemplos.\n",
        "\n",
        "Python proporciona métodos que operan en listas. Por ejemplo, `append` agrega un nuevo elemento al final de una lista:"
      ]
    },
    {
      "cell_type": "code",
      "execution_count": null,
      "metadata": {
        "id": "7skAS3JychC9",
        "colab": {
          "base_uri": "https://localhost:8080/"
        },
        "outputId": "12fad7b6-edc8-4288-b4a7-667e22359990"
      },
      "outputs": [
        {
          "output_type": "stream",
          "name": "stdout",
          "text": [
            "None\n",
            "['a', 'b', 'c', 'd']\n"
          ]
        }
      ],
      "source": [
        "t = ['a', 'b', 'c']\n",
        "print(t.append('d'))\n",
        "print(t)"
      ]
    },
    {
      "cell_type": "markdown",
      "metadata": {
        "id": "RVfGzaQmchNS"
      },
      "source": [
        "El método `append()` es importante porque permite crear listas en forma iterativa. Por ejemplo si queremos crear la lista de los primeros 10  números naturales al cuadrado podemos hacer:"
      ]
    },
    {
      "cell_type": "code",
      "execution_count": null,
      "metadata": {
        "id": "MBrkb-XAfSmp",
        "colab": {
          "base_uri": "https://localhost:8080/"
        },
        "outputId": "9f210962-34a8-416f-8447-a9f5a54786d1"
      },
      "outputs": [
        {
          "output_type": "stream",
          "name": "stdout",
          "text": [
            "[1, 4, 9, 16, 25, 36, 49, 64, 81, 100]\n"
          ]
        }
      ],
      "source": [
        "cuadrados = []\n",
        "for i in range(1, 11):\n",
        "    cuadrados.append(i**2)\n",
        "\n",
        "print(cuadrados)"
      ]
    },
    {
      "cell_type": "markdown",
      "metadata": {
        "id": "u76lVCQDfSyO"
      },
      "source": [
        "\n",
        "\n",
        "El  métodos `extend()` aplicado a una lista toma otra lista como argumento y agrega todos sus elementos a la primera lista:\n"
      ]
    },
    {
      "cell_type": "code",
      "execution_count": null,
      "metadata": {
        "id": "uTqIgPqsdEvd",
        "colab": {
          "base_uri": "https://localhost:8080/"
        },
        "outputId": "4a18eb49-2a2a-496e-f132-c24061c4481c"
      },
      "outputs": [
        {
          "output_type": "stream",
          "name": "stdout",
          "text": [
            "['a', 'b', 'c', 'd', 'e']\n",
            "['d', 'e']\n"
          ]
        }
      ],
      "source": [
        "t1 = ['a', 'b', 'c']\n",
        "t2 = ['d', 'e']\n",
        "t1.extend(t2) # la lista t1  se \"agranda\"\n",
        "print(t1)\n",
        "print(t2)"
      ]
    },
    {
      "cell_type": "code",
      "source": [
        "t1 = ['a', 'b', 'c']\n",
        "t2 = ['d', 'e']\n",
        "for elem in t2:\n",
        "    t1.append(elem)\n",
        "print(t1)\n",
        "print(t2)"
      ],
      "metadata": {
        "colab": {
          "base_uri": "https://localhost:8080/"
        },
        "id": "Cl3dZ7hjkFaJ",
        "outputId": "38b9c38b-5bc4-49ff-9f88-1f031a1e5734"
      },
      "execution_count": null,
      "outputs": [
        {
          "output_type": "stream",
          "name": "stdout",
          "text": [
            "['a', 'b', 'c', 'd', 'e']\n",
            "['d', 'e']\n"
          ]
        }
      ]
    },
    {
      "cell_type": "markdown",
      "metadata": {
        "id": "pYfBbf76dE2e"
      },
      "source": [
        "Este ejemplo deja `t2` sin modificar. Usar el método `extend()` es similar a la concatenación, la diferencia es que *mientras `extend()`actualiza una lista, la concatenación crea una lista nueva.*  \n",
        "\n",
        "El método `sort` ordena los elementos de la lista de menor a mayor:\n"
      ]
    },
    {
      "cell_type": "code",
      "execution_count": null,
      "metadata": {
        "id": "aHot_QyAdugi",
        "colab": {
          "base_uri": "https://localhost:8080/"
        },
        "outputId": "621d7c67-e179-4b02-847b-6e3c77659e6f"
      },
      "outputs": [
        {
          "output_type": "stream",
          "name": "stdout",
          "text": [
            "['a', 'b', 'c', 'd', 'e']\n"
          ]
        }
      ],
      "source": [
        "t = ['d', 'c', 'e', 'b', 'a']\n",
        "t.sort()\n",
        "print(t)"
      ]
    },
    {
      "cell_type": "markdown",
      "metadata": {
        "id": "dz24dmeiduqC"
      },
      "source": [
        "La mayoría de los métodos de lista son nulos: modifican la lista y devuelven `None`. Si escribís accidentalmente o por error `t = t.sort()`, la lista `t` original desaparecerá y se convertirá en `None`.\n",
        "\n",
        "Debemos remarcar que en listas existe la función `sorted()` que se aplica a una lista y devuelve una lista con los contenidos de la primera pero ordenada. Por ejemplo:\n",
        "\n"
      ]
    },
    {
      "cell_type": "code",
      "execution_count": null,
      "metadata": {
        "id": "JGnGfg2gcHyS",
        "colab": {
          "base_uri": "https://localhost:8080/"
        },
        "outputId": "57c000ce-12fa-4ee1-cca7-3cabd32a7d38"
      },
      "outputs": [
        {
          "output_type": "stream",
          "name": "stdout",
          "text": [
            "['d', 'c', 'e', 'b', 'a']\n",
            "['a', 'b', 'c', 'd', 'e']\n"
          ]
        }
      ],
      "source": [
        "t = ['d', 'c', 'e', 'b', 'a']\n",
        "s = sorted(t)\n",
        "print(t)\n",
        "print(s)"
      ]
    },
    {
      "cell_type": "markdown",
      "metadata": {
        "id": "SwoHH5DmexZQ"
      },
      "source": [
        "Como se puede observar, la lista `t` no ha sido modificada por `sorted()`.\n",
        "\n",
        "Otros métodos que resultan útiles son los que remueven elementos. Se pueden remover elementos de  una lista de dos maneras. Una de ellas es removiendo un elemento por índice, la otra es removiendoun elemento determinado.\n",
        "\n",
        "El método `pop()` recibe como prarámetro un entero,  remueve el elemento con ese índice en la lista y devuelve el elemento. Es decir\n",
        "```\n",
        "lista.pop(i)\n",
        "```\n",
        "remueve el elemento de índice `i` de `lista` y devuelve el elemento de índice `i` de la lista original. Por ejemplo:\n",
        "\n"
      ]
    },
    {
      "cell_type": "code",
      "execution_count": null,
      "metadata": {
        "id": "sR_ScNERhsRy",
        "colab": {
          "base_uri": "https://localhost:8080/"
        },
        "outputId": "a1ab05a2-7229-4b28-a45f-9c9845b66921"
      },
      "outputs": [
        {
          "output_type": "stream",
          "name": "stdout",
          "text": [
            "['a', 'c']\n",
            "b\n"
          ]
        }
      ],
      "source": [
        "t = ['a', 'b', 'c']\n",
        "x = t.pop(1)\n",
        "print(t)\n",
        "print(x)"
      ]
    },
    {
      "cell_type": "markdown",
      "metadata": {
        "id": "vXyJtGQZhsdz"
      },
      "source": [
        "remueve el elemento de índice 1 en la lista `t` (antes de ser modificada). Si `pop()` no recibe ningún argumento remueve y devuelve el último elemento de la lista y si la lista es vacía se produce un error.\n",
        "\n",
        "\n"
      ]
    },
    {
      "cell_type": "code",
      "execution_count": null,
      "metadata": {
        "id": "F4TTt4Fy06NO",
        "colab": {
          "base_uri": "https://localhost:8080/"
        },
        "outputId": "15b26f45-ff84-4e95-a31c-7b65d9df7bf0"
      },
      "outputs": [
        {
          "output_type": "stream",
          "name": "stdout",
          "text": [
            "['a', 'b']\n",
            "c\n"
          ]
        }
      ],
      "source": [
        "t = ['a', 'b', 'c']\n",
        "x = t.pop()\n",
        "print(t)\n",
        "print(x)"
      ]
    },
    {
      "cell_type": "markdown",
      "metadata": {
        "id": "zIhWvF7W06NP"
      },
      "source": [
        "El método `remove()` recibe como parámetro un elemento y remueve la primer ocurrencia de ese elemento en la lista, si el elemento está en la lista. Si no, se produce un error. Es decir\n",
        "\n",
        "```\n",
        "lista.remove(x)\n",
        "```\n",
        "remueve la primera ocurrencia del elemento `x` en `lista` y si `x not in lista` se produce un error. Por ejemplo:"
      ]
    },
    {
      "cell_type": "code",
      "execution_count": null,
      "metadata": {
        "id": "vy5rnGFTiOQO",
        "colab": {
          "base_uri": "https://localhost:8080/"
        },
        "outputId": "41db977f-7eed-43f0-e829-74bdc6bbc9e3"
      },
      "outputs": [
        {
          "output_type": "stream",
          "name": "stdout",
          "text": [
            "['a', 'c', 'b']\n"
          ]
        }
      ],
      "source": [
        "t = ['a', 'b', 'c', 'b']\n",
        "t.remove('b')\n",
        "print(t)\n",
        "# t.remove('z') # descomentar lo anterior produce un error"
      ]
    },
    {
      "cell_type": "markdown",
      "metadata": {
        "id": "f-awYc8ihXxM"
      },
      "source": [
        "Una forma muy usual de remover elementos es primero comprobar si existe y luego removerlo. Por ejemplo, removamos todas las ocurrencias de `b` en la lista `['a', 'b', 'c', 'b']`:"
      ]
    },
    {
      "cell_type": "code",
      "execution_count": null,
      "metadata": {
        "id": "o_UHJb0JhYpM"
      },
      "outputs": [],
      "source": [
        "t = ['a', 'b', 'c', 'b']\n",
        "while 'b' in t:\n",
        "    t.remove('b')\n",
        "print(t)"
      ]
    },
    {
      "cell_type": "markdown",
      "source": [
        "El  método `remove()` devuelve `None`."
      ],
      "metadata": {
        "id": "jDMZfPwtl1XL"
      }
    },
    {
      "cell_type": "markdown",
      "source": [
        "###**Para leer más adelante.**\n",
        "\n",
        "Como un ejemplo de lo engañoso que pueden ser las referencias en listas veamos lo siguiente. Supongamos que   queremos crear un arreglo bidimensional de $3 \\times 5$ donde cada elemento es `0`. Estaríamos tentados de hacerlo de la siguiente forma:"
      ],
      "metadata": {
        "id": "dh8W0Tnn26iF"
      }
    },
    {
      "cell_type": "code",
      "source": [
        "lista = [[0] * 5]*3 # 3 filas, 5 columnas\n",
        "print(lista)"
      ],
      "metadata": {
        "id": "ypoMhwyr5_fp"
      },
      "execution_count": null,
      "outputs": []
    },
    {
      "cell_type": "markdown",
      "source": [
        "Todo parece estar bien.\n",
        "\n",
        "Ahora queremos modificar `lista[0][0]` y  darle el valor `3`,  entonces"
      ],
      "metadata": {
        "id": "JsJ_MuMf6Un0"
      }
    },
    {
      "cell_type": "code",
      "source": [
        "lista[0][0] = 3"
      ],
      "metadata": {
        "id": "8gjo7YXF_1pF"
      },
      "execution_count": null,
      "outputs": []
    },
    {
      "cell_type": "markdown",
      "source": [
        "Imprimamos de nuevo la lista:"
      ],
      "metadata": {
        "id": "MiTd0w1Z_63G"
      }
    },
    {
      "cell_type": "code",
      "source": [
        "print(lista)"
      ],
      "metadata": {
        "id": "YQsNm-VY_9ro"
      },
      "execution_count": null,
      "outputs": []
    },
    {
      "cell_type": "markdown",
      "source": [
        "Tenemos un problema,  no solo pasó a valer `3` el elemento `lista[0][0]` sino tambíen todos los de la primera columna. ¿Qué es lo que ha pasado? Si  hacemos `una_lista*3` en realidad estamos  poniendo la misma lista en cada fila y  cualquier modificación de `una_lista` se reflejará en cada fila.\n",
        "\n",
        "Una solución,  menos elegante pero correcta sería:"
      ],
      "metadata": {
        "id": "AzuMlTTbAHIQ"
      }
    },
    {
      "cell_type": "code",
      "source": [
        "lista = []\n",
        "for _ in range(3):\n",
        "    lista.append([0]*5)"
      ],
      "metadata": {
        "id": "RQkSJnzhDh7n"
      },
      "execution_count": null,
      "outputs": []
    },
    {
      "cell_type": "markdown",
      "source": [
        "En  este caso, en cada iteración se crea una fila nueva y ya las cosas funcionan como queríamos:"
      ],
      "metadata": {
        "id": "96nNO78mEDqR"
      }
    },
    {
      "cell_type": "code",
      "source": [
        "print(lista)\n",
        "lista[0][0] = 3\n",
        "print(lista)"
      ],
      "metadata": {
        "id": "SfcGpEvDEJXa"
      },
      "execution_count": null,
      "outputs": []
    },
    {
      "cell_type": "markdown",
      "source": [
        "En  la clase que viene veremos una forma mejor de hacerlo,  con listas por comprensión."
      ],
      "metadata": {
        "id": "SFWQBKfiEgeX"
      }
    },
    {
      "cell_type": "markdown",
      "metadata": {
        "id": "2z6zqILjbeY5"
      },
      "source": [
        "## 7. Listas como argumentos de funciones\n",
        "\n",
        "Habíamos visto que las variables de tipos inmutables pasadas como argumentos de funciones si eran modificadas en el cuerpo de la función no las afectaba, pues en realidad la función copia la variable y todo cambio se hace sobre la copia, no sobre la variable original.\n",
        "\n"
      ]
    },
    {
      "cell_type": "code",
      "source": [
        "def f(a):\n",
        "    a = 5\n",
        "    return a\n",
        "x = 2\n",
        "f(x)\n",
        "print(x)"
      ],
      "metadata": {
        "colab": {
          "base_uri": "https://localhost:8080/"
        },
        "id": "c9l0xy_Or15G",
        "outputId": "080a854d-cdee-46f3-9fe3-beda729749a9"
      },
      "execution_count": null,
      "outputs": [
        {
          "output_type": "stream",
          "name": "stdout",
          "text": [
            "2\n"
          ]
        }
      ]
    },
    {
      "cell_type": "markdown",
      "source": [
        "Cuando se pasa una lista como uno de los argumentos de una función, la función obtiene una referencia a la lista y la copia. Si la función modifica la lista, la lista original (en realidad la única lista en juego) ve el cambio, pues la referencia copiada contiene los mismos elementos.  \n",
        "\n",
        "Por ejemplo, `eliminar_encabezado()` elimina el primer elemento de una lista:"
      ],
      "metadata": {
        "id": "1ROFw_qqr2OE"
      }
    },
    {
      "cell_type": "code",
      "execution_count": null,
      "metadata": {
        "id": "p_yZH21GmfnR",
        "colab": {
          "base_uri": "https://localhost:8080/"
        },
        "outputId": "9eb945cb-a1ba-4d16-9747-2b7dd4228d40"
      },
      "outputs": [
        {
          "output_type": "stream",
          "name": "stdout",
          "text": [
            "[1, 2, 3, 4]\n",
            "[2, 3, 4]\n"
          ]
        }
      ],
      "source": [
        "def eliminar_encabezado(lista_in: list):\n",
        "    lista_in.pop(0)\n",
        "\n",
        "lista = [1, 2, 3, 4]\n",
        "print(lista)\n",
        "eliminar_encabezado(lista)\n",
        "print(lista)"
      ]
    },
    {
      "cell_type": "markdown",
      "metadata": {
        "id": "hBtD9vQAmfxa"
      },
      "source": [
        "Es importante distinguir entre operaciones que modifican listas y operaciones que crean nuevas listas. Por ejemplo, el método `append` modifica una lista, pero el operador `+` crea una nueva lista.\n",
        "\n",
        "Aquí hay un ejemplo usando `append`:"
      ]
    },
    {
      "cell_type": "code",
      "execution_count": null,
      "metadata": {
        "id": "flBiPMzsnqIr",
        "colab": {
          "base_uri": "https://localhost:8080/"
        },
        "outputId": "be8fe623-e19f-48ed-e193-2acff66873f8"
      },
      "outputs": [
        {
          "output_type": "stream",
          "name": "stdout",
          "text": [
            "[1, 2, 3]\n",
            "None\n"
          ]
        }
      ],
      "source": [
        "t1 = [1, 2]\n",
        "t2 = t1.append (3)\n",
        "print(t1)\n",
        "print(t2)"
      ]
    },
    {
      "cell_type": "markdown",
      "metadata": {
        "id": "t6LkBnGHnqRA"
      },
      "source": [
        "El valor de retorno de `append` es` None`.\n",
        "\n",
        "Aquí hay un ejemplo usando el operador `+`:"
      ]
    },
    {
      "cell_type": "code",
      "execution_count": null,
      "metadata": {
        "id": "VW_QnaFRn4vn",
        "colab": {
          "base_uri": "https://localhost:8080/"
        },
        "outputId": "5be03647-7595-4863-83cb-a205cfe6ed8b"
      },
      "outputs": [
        {
          "output_type": "stream",
          "name": "stdout",
          "text": [
            "[1, 2, 3]\n",
            "[1, 2, 3, 4]\n"
          ]
        }
      ],
      "source": [
        "t3 = t1 + [4]\n",
        "print(t1)\n",
        "print(t3)"
      ]
    },
    {
      "cell_type": "markdown",
      "metadata": {
        "id": "Tgp9VO67n42J"
      },
      "source": [
        "El resultado del operador es una nueva lista y la lista original no se modifica.\n",
        "\n",
        "Esta diferencia es importante cuando se escriben funciones que se supone modifican listas. Por ejemplo, esta función *no* elimina el encabezado de una lista:"
      ]
    },
    {
      "cell_type": "code",
      "execution_count": null,
      "metadata": {
        "id": "BR1XMpFqoN2W",
        "colab": {
          "base_uri": "https://localhost:8080/"
        },
        "outputId": "8c9962b2-6f65-4221-81ba-15059067948f"
      },
      "outputs": [
        {
          "output_type": "stream",
          "name": "stdout",
          "text": [
            "[1, 2, 3, 4]\n",
            "[1, 2, 3, 4]\n"
          ]
        }
      ],
      "source": [
        "def eliminar_encabezado_malo(lista: list):\n",
        "    lista = lista[1:]\n",
        "    # ¡INCORRECTO! (lista en el cuerpo de  la función es una copia del lo que ha\n",
        "    # sido ingresado como parámetro)\n",
        "\n",
        "lista = [1, 2, 3, 4]\n",
        "print(lista)\n",
        "eliminar_encabezado_malo(lista)\n",
        "print(lista)"
      ]
    },
    {
      "cell_type": "markdown",
      "metadata": {
        "id": "ZzWfiERLoOAO"
      },
      "source": [
        "El operador slice crea una nueva lista y la asignación hace que `lista` se refiera a esta nueva lista, pero eso no afecta a la lista que ingresó como parámetro. En  este caso, la función está creando una variable local llamada `lista`, pero esa variable local ya no es la misma referencia que la variable original `lista`.\n",
        "\n",
        "Una alternativa para obtener lo que queremos sin modificar la lista original es escribir una función que cree y devuelva una nueva lista. Por ejemplo, `cola` devuelve todo menos el primer elemento de una lista:"
      ]
    },
    {
      "cell_type": "code",
      "execution_count": null,
      "metadata": {
        "id": "IrGSPxQuqAem",
        "colab": {
          "base_uri": "https://localhost:8080/"
        },
        "outputId": "783add39-7bbe-40f0-95c0-69b015093e5f"
      },
      "outputs": [
        {
          "output_type": "stream",
          "name": "stdout",
          "text": [
            "[2, 3, 4]\n",
            "[1, 2, 3, 4]\n"
          ]
        }
      ],
      "source": [
        "def cola(lista: list) -> list:\n",
        "    return lista[1:]\n",
        "\n",
        "lista = [1, 2, 3, 4]\n",
        "print(cola(lista))\n",
        "print(lista)"
      ]
    },
    {
      "cell_type": "markdown",
      "metadata": {
        "id": "9aZ3JMhbqAmN"
      },
      "source": [
        "Esta función deja la lista original sin modificar. Así es como se usa:"
      ]
    },
    {
      "cell_type": "code",
      "execution_count": null,
      "metadata": {
        "id": "ZpYxqP8sFHmR",
        "colab": {
          "base_uri": "https://localhost:8080/"
        },
        "outputId": "40e2673b-0a52-4ced-89b1-a425e94f4308"
      },
      "outputs": [
        {
          "output_type": "stream",
          "name": "stdout",
          "text": [
            "['b', 'c'] ['a', 'b', 'c']\n"
          ]
        }
      ],
      "source": [
        "letras = ['a', 'b', 'c']\n",
        "resto = cola(letras)\n",
        "print(resto, letras)"
      ]
    },
    {
      "cell_type": "markdown",
      "metadata": {
        "id": "eoc3SHrh1vLO"
      },
      "source": [
        "## 8. Tuplas\n",
        "\n",
        "Una *tupla* en Python es una secuencia de elementos. A diferencia de las listas las tuplas son un tipo de secuencia inmutable. Esto quiere decir que una tupla no puede ser modificada: no se pueden modificar sus elementos y no se puede añadir ni eliminar elementos a una tupla.\n",
        "\n",
        "En  Python una tupla tiene el tipo `tuple`. Las tuplas se crean utilizando paréntesis (en vez de corchetes). Por ejemplo\n"
      ]
    },
    {
      "cell_type": "code",
      "execution_count": null,
      "metadata": {
        "id": "p5kf3SfR2ul9",
        "colab": {
          "base_uri": "https://localhost:8080/"
        },
        "outputId": "4cd94b30-5402-4c73-a16d-673c353c1394"
      },
      "outputs": [
        {
          "output_type": "execute_result",
          "data": {
            "text/plain": [
              "tuple"
            ]
          },
          "metadata": {},
          "execution_count": 61
        }
      ],
      "source": [
        "a = (1, 2, 3)\n",
        "type(a)"
      ]
    },
    {
      "cell_type": "markdown",
      "metadata": {
        "id": "60Ai6LVm231w"
      },
      "source": [
        "Los mayoría de los métodos u operaciones de listas que no  impliquen modificaciones en la lista o listas son soportados por el tipo `tuple`. Veamos algunos ejemplos :"
      ]
    },
    {
      "cell_type": "code",
      "execution_count": null,
      "metadata": {
        "id": "mPd-42Rm24C8",
        "colab": {
          "base_uri": "https://localhost:8080/"
        },
        "outputId": "cfc3352a-02cd-4211-9500-7aeb5052b544"
      },
      "outputs": [
        {
          "output_type": "stream",
          "name": "stdout",
          "text": [
            "3\n",
            "1 2 3\n",
            "(1, 2, 3, 1, 2, 3, 1, 2, 3)\n",
            "(1, 2, 3, 6, 8, 7)\n"
          ]
        }
      ],
      "source": [
        "a, b = (1, 2, 3), (6, 8, 7)\n",
        "print(len(a))\n",
        "print(a[0], a[1], a[2])\n",
        "print(a * 3)\n",
        "print(a + b)"
      ]
    },
    {
      "cell_type": "markdown",
      "metadata": {
        "id": "8o0sgRmB3odP"
      },
      "source": [
        "La notación slice también se aplica para tuplas (con uso también de corchetes):"
      ]
    },
    {
      "cell_type": "code",
      "execution_count": null,
      "metadata": {
        "id": "B2U-WDH23oo0"
      },
      "outputs": [],
      "source": [
        "a = (1, 2, 3, 6, 7, 8)\n",
        "print(a[2:4])\n",
        "b = a[:]\n",
        "print(b)"
      ]
    },
    {
      "cell_type": "markdown",
      "metadata": {
        "id": "2Lvrr7Ke4GaT"
      },
      "source": [
        "Obviamente,  debido a que las tuplas son inmutables, una asignación a un elemento de una tupla resultará en error. Por ejemplo, el siguiente código\n",
        "```\n",
        "a = (1, 2, 3)\n",
        "a[0] = -1\n",
        "```\n",
        "producirá un error.\n",
        "\n",
        "Las tuplas son usadas cuando queremos garantizar la inmutabilidad de una serie ordenada de datos. En las funciones cuando es necesario devolver muchos valores, los agrupamos en una tupla o los ponemos después del `return` uno tras otro separados por comas y lo que se devuelve es una tupla con esos valores. Por ejemplo:\n",
        "\n"
      ]
    },
    {
      "cell_type": "code",
      "execution_count": null,
      "metadata": {
        "id": "esOYmvxf5Vy1",
        "colab": {
          "base_uri": "https://localhost:8080/"
        },
        "outputId": "6857ee5b-4d24-4681-a46d-38960567787d"
      },
      "outputs": [
        {
          "output_type": "stream",
          "name": "stdout",
          "text": [
            "(1, 5, 7) <class 'tuple'>\n"
          ]
        }
      ],
      "source": [
        "def devolver_varios(a, b, c: int) -> tuple:\n",
        "    return a, b, c\n",
        "\n",
        "x = devolver_varios(1, 5, 7)\n",
        "print(x, type(x))"
      ]
    },
    {
      "cell_type": "markdown",
      "metadata": {
        "id": "p4elB5Zr6AFs"
      },
      "source": [
        "Obviamente, cada valor de lo que devuelve la función se recupera con el índice correspondiente.\n",
        "\n",
        "También está permitido asignar una tupla a una serie de valores. Por  ejemplo:"
      ]
    },
    {
      "cell_type": "code",
      "execution_count": null,
      "metadata": {
        "id": "AmDlRH626fW8",
        "colab": {
          "base_uri": "https://localhost:8080/"
        },
        "outputId": "6f7396d6-0fab-445d-bd6f-a6f50569d3d1"
      },
      "outputs": [
        {
          "output_type": "stream",
          "name": "stdout",
          "text": [
            "3 4 2\n",
            "1 5 7\n"
          ]
        }
      ],
      "source": [
        "a, b, c = (3, 4, 2)\n",
        "print(a, b, c)\n",
        "a, b, c = devolver_varios(1, 5, 7)\n",
        "print(a, b, c)"
      ]
    },
    {
      "cell_type": "markdown",
      "metadata": {
        "id": "dbrGlVC38-Zz"
      },
      "source": [
        "Como en el caso de las listas, también está permitido recorrer una tupla. Se usa la misma sintaxis que para listas."
      ]
    },
    {
      "cell_type": "code",
      "execution_count": null,
      "metadata": {
        "id": "huA3noBO06Nb",
        "colab": {
          "base_uri": "https://localhost:8080/"
        },
        "outputId": "b116b999-a055-47e3-940c-efb1e44c06d0"
      },
      "outputs": [
        {
          "output_type": "stream",
          "name": "stdout",
          "text": [
            "1\n",
            "4\n",
            "9\n"
          ]
        }
      ],
      "source": [
        "for x in (1, 2, 3):\n",
        "    print(x**2)"
      ]
    },
    {
      "cell_type": "markdown",
      "metadata": {
        "id": "Yd-U8rpz7Eaj"
      },
      "source": [
        "Por último, es útil conocer que podemos convertir tuplas en listas y viceversa. La primera operación se hace con la función `list()` y  la segunda con la función `tuple()`. Veamos algunos ejemplos:"
      ]
    },
    {
      "cell_type": "markdown",
      "source": [],
      "metadata": {
        "id": "EVUhZL5gDFSR"
      }
    },
    {
      "cell_type": "code",
      "execution_count": null,
      "metadata": {
        "id": "rTizAayg7aaZ",
        "colab": {
          "base_uri": "https://localhost:8080/"
        },
        "outputId": "72a5e8d4-ff02-4d57-8d8b-dc5212297577"
      },
      "outputs": [
        {
          "output_type": "stream",
          "name": "stdout",
          "text": [
            "[1, 3, 5, 7]\n",
            "(7, 8, 9)\n"
          ]
        }
      ],
      "source": [
        "a = (1, 3, 5, 7)\n",
        "b = list(a)\n",
        "print(b)\n",
        "c = [7, 8, 9]\n",
        "d = tuple(c)\n",
        "print(d)"
      ]
    },
    {
      "cell_type": "code",
      "source": [
        "x = (7, 8, 9)\n",
        "x = x + (10,) # (10) es el entero 10, (10,) es la tupla con el entero 10.\n",
        "print(x)"
      ],
      "metadata": {
        "colab": {
          "base_uri": "https://localhost:8080/"
        },
        "id": "eeKBeEjxDWW0",
        "outputId": "7c5061b8-d880-43fa-f9e3-1e6c71168323"
      },
      "execution_count": null,
      "outputs": [
        {
          "output_type": "stream",
          "name": "stdout",
          "text": [
            "(7, 8, 9, 10)\n"
          ]
        }
      ]
    },
    {
      "cell_type": "markdown",
      "metadata": {
        "id": "JkvobkPl8kJP"
      },
      "source": [
        "## 9. Igualdad de listas y tuplas\n",
        "\n",
        "Dos listas o tuplas son iguales si tienen los mismos elementos en el mismo orden. Por ejemplo"
      ]
    },
    {
      "cell_type": "code",
      "execution_count": null,
      "metadata": {
        "id": "QOXH9JUb8kVp",
        "colab": {
          "base_uri": "https://localhost:8080/"
        },
        "outputId": "55d42a87-f4dd-4e43-c666-d21eba16056c"
      },
      "outputs": [
        {
          "output_type": "stream",
          "name": "stdout",
          "text": [
            "True\n"
          ]
        }
      ],
      "source": [
        "lista1 = [1, 2 , 3, 4]\n",
        "lista2 = [1, 2 , 3, 4]\n",
        "print(lista1 == lista2)"
      ]
    },
    {
      "cell_type": "markdown",
      "metadata": {
        "id": "KQ1OIbhR8kfT"
      },
      "source": [
        "Observar que *decir que dos listas son iguales no es lo mismo que decir que son la misma lista.* En el ejemplo anterior `lista1` y `lista2` son *dos* listas diferentes, pero que tienen los mismos elementos, en el mismo orden. Se podría decir que físicamente los  elementos de `lista1` ocupan otro lugar que los elementos de `lista2`.  \n",
        "\n",
        "La comparación de listas se hace recorriendo una lista y verificando si los elementos son iguales a los de la otra lista en la misma posición. Para tuplas es análogo.\n",
        "\n"
      ]
    },
    {
      "cell_type": "markdown",
      "source": [
        "Podemos definir la función que nos dice si dos listas son iguales de la siguiente manera:"
      ],
      "metadata": {
        "id": "OA4Z-fuvU8TK"
      }
    },
    {
      "cell_type": "code",
      "source": [
        "def igualdad_de_listas(lst1, lst2):\n",
        "    ret = True\n",
        "    if len(lst1) != len(lst2):\n",
        "        ret = False\n",
        "    else:\n",
        "        for i in range(len(lst1)):\n",
        "            if lst1[i] != lst2[i]:\n",
        "                ret = False\n",
        "    return ret"
      ],
      "metadata": {
        "id": "YB1HduvHVL7q"
      },
      "execution_count": null,
      "outputs": []
    },
    {
      "cell_type": "markdown",
      "source": [
        "Esta función primero se fija si las dos listas tienen la misma longitud y en ese caso si ambas listas tienen en cada coordenada idénticos items.\n",
        "\n",
        "El problema de la función anterior es que  sí o sí debe recorrer ambas listas (en el caso que tengan igual longitud) aún cuando puede haber un elemento distinto al comienzo o en un punto intermedio.\n",
        "\n",
        "Obviamente esto puede ser solucionado  con un `break` después de la línea 8, pero hemos dicho que no usaremos `break.\n",
        "\n",
        "La forma de mejorar la función es reemplazar el `for` con un `while` con dos condiciones:"
      ],
      "metadata": {
        "id": "1XmkllD9VvHc"
      }
    },
    {
      "cell_type": "code",
      "source": [
        "def igualdad_de_listas(lst1, lst2):\n",
        "    ret = True\n",
        "    if len(lst1) != len(lst2):\n",
        "        ret = False\n",
        "    else:\n",
        "        i = 0\n",
        "        while i < len(lst1) and lst1[i] == lst2[i]:\n",
        "            i = i + i\n",
        "        if i < len(lst1) - 1:\n",
        "            ret = False\n",
        "    return ret"
      ],
      "metadata": {
        "id": "QdfIATIeVO3J"
      },
      "execution_count": null,
      "outputs": []
    },
    {
      "cell_type": "markdown",
      "source": [
        "Aunque hemos dicho  que no es conveniente poner un `return` antes dela última línea de la función, en este caso es mucho más claro hacerlo así:"
      ],
      "metadata": {
        "id": "0jJsVLOcWxEM"
      }
    },
    {
      "cell_type": "code",
      "source": [
        "def igualdad_de_listas(lst1, lst2):\n",
        "    if len(lst1) != len(lst2):\n",
        "        return False\n",
        "    else:\n",
        "        for i in range(len(lst1)):\n",
        "            if lst1[i] != lst2[i]:\n",
        "                return False\n",
        "    return True"
      ],
      "metadata": {
        "id": "JRQeLq6LVSMZ"
      },
      "execution_count": null,
      "outputs": []
    },
    {
      "cell_type": "markdown",
      "source": [
        "\n",
        "Generalizando la comprobación de la igualdad, también funcionan `<`, `<=`, `>`, `>=` para listas cuyos elementos con comparables con esos operadores. En  este caso,  si `a` y `b` son listas, entonces  `a < b`  si son iguales hasta cierto punto y  cuando son distintas en el índice `i` entonces `a[i] < b[i]`. También `a < b` si son  iguales hasta cierto índice, ese índice es el último de `a` y `len(a) < len(b)`. Esto es el llamado *orden lexicográfico*, que no es otra cosa que el orden de las palabras en un diccionario. Por ejemplo:\n"
      ],
      "metadata": {
        "id": "LpdYIjWO_BJg"
      }
    },
    {
      "cell_type": "code",
      "execution_count": null,
      "metadata": {
        "id": "ERgEPy6g8kp0"
      },
      "outputs": [],
      "source": [
        "a = [1, 2, 3, 4, 5]\n",
        "b = [1, 3, 3, 4]\n",
        "print(a < b)\n",
        "a = [1, 2, 3]\n",
        "b = [1, 2, 3, 4]\n",
        "print(a < b)"
      ]
    },
    {
      "cell_type": "markdown",
      "source": [
        "**Ejercicio.** Escribir una función que dado un elemento, devuelve la primera posición que ese elemento tiene en la lista. Si el elemento no está en la lista devuelve -1."
      ],
      "metadata": {
        "id": "5fzHgvbOxq5x"
      }
    },
    {
      "cell_type": "code",
      "source": [
        "def posicion1(elem, lista: list) -> bool:\n",
        "    # pre: elem elemento, lista es list\n",
        "    # post: devuelve i si existe  i tq elem == lista[i],-1 en otro caso\n",
        "    i = -1\n",
        "    for j in range(len(lista)):\n",
        "        if lista[j] == elem:\n",
        "            i = j\n",
        "    return i\n",
        "\n",
        "print(posicion1(2, [0, 1, 2, 3, 2, 5]))\n",
        "print(posicion1(7, [0, 1, 2, 3, 2, 5]))\n",
        "\n",
        "def posicion1(elem, lista: list) -> bool:\n",
        "    # pre: elem elemento, lista es list\n",
        "    # post: devuelve i si existe  i tq elem == lista[i],-1 en otro caso\n",
        "    i = -1\n",
        "    for j in range(len(lista)):\n",
        "        if lista[j] == elem:\n",
        "            i = j\n",
        "            break\n",
        "    return i\n",
        "\n",
        "print(posicion1(2, [0, 1, 2, 3, 2, 5]))\n",
        "print(posicion1(7, [0, 1, 2, 3, 2, 5]))\n",
        "\n",
        "def posicion1(elem, lista: list) -> bool:\n",
        "    # pre: elem elemento, lista es list\n",
        "    # post: devuelve i si existe  i tq elem == lista[i],-1 en otro caso\n",
        "    i = -1\n",
        "    for j in range(len(lista)):\n",
        "        if lista[j] == elem:\n",
        "            i = j\n",
        "            return i\n",
        "    return i\n",
        "print(posicion1(2, [0, 1, 2, 3, 2, 5]))\n",
        "print(posicion1(7, [0, 1, 2, 3, 2, 5]))\n",
        "\n",
        "\n",
        "def posicion1(elem, lista: list) -> bool:\n",
        "    # pre: elem elemento, lista es list\n",
        "    # post: devuelve i si existe  i tq elem == lista[i],-1 en otro caso\n",
        "    i = -1\n",
        "    j = 0\n",
        "    while j < len(lista) and i == -1:\n",
        "        if lista[j] == elem:\n",
        "            i = j\n",
        "        j = j + 1\n",
        "    return i\n",
        "\n",
        "print(posicion1(2, [0, 1, 2, 3, 2, 5]))\n",
        "print(posicion1(7, [0, 1, 2, 3, 2, 5]))"
      ],
      "metadata": {
        "id": "Uh6C_7N4x1Oh",
        "colab": {
          "base_uri": "https://localhost:8080/"
        },
        "outputId": "e0b5f778-95ce-4deb-bc96-2f8b88588f86"
      },
      "execution_count": null,
      "outputs": [
        {
          "output_type": "stream",
          "name": "stdout",
          "text": [
            "4\n",
            "-1\n",
            "2\n",
            "-1\n",
            "2\n",
            "-1\n",
            "2\n",
            "-1\n"
          ]
        }
      ]
    },
    {
      "cell_type": "markdown",
      "source": [
        "La primera implementación no está bien, porque devuelve la *última* ocurrencia de `elem`."
      ],
      "metadata": {
        "id": "rOYREvpZy212"
      }
    },
    {
      "cell_type": "code",
      "source": [
        "a = [1, 2, 3, 4, 3, 5]\n",
        "print(posicion1(4, a))\n",
        "print(posicion1(3, a))\n",
        "print(posicion1(8, a))"
      ],
      "metadata": {
        "id": "yEHj1OcvzDfO"
      },
      "execution_count": null,
      "outputs": []
    },
    {
      "cell_type": "code",
      "source": [
        "def posicion2(elem, lista: list) -> bool:\n",
        "    # pre: elem elemento, lista es list\n",
        "    # post: devuelve True si existe  i tq elem == lista[i], False en otro caso\n",
        "    ret = -1\n",
        "    i = 0\n",
        "    while i < len(lista) and elem != lista[i]:\n",
        "        i += 1\n",
        "    if i < len(lista):\n",
        "        ret = i\n",
        "    return ret"
      ],
      "metadata": {
        "id": "bnT5jGJzzuzc"
      },
      "execution_count": null,
      "outputs": []
    },
    {
      "cell_type": "markdown",
      "source": [
        "La función bien implementada:"
      ],
      "metadata": {
        "id": "cvRY14IY1dWK"
      }
    },
    {
      "cell_type": "code",
      "source": [
        "a = [1, 2, 3, 4, 3, 5]\n",
        "print(posicion2(4, a))\n",
        "print(posicion2(3, a))\n",
        "print(posicion2(8, a))"
      ],
      "metadata": {
        "id": "7dvpJLPp0cgP"
      },
      "execution_count": null,
      "outputs": []
    },
    {
      "cell_type": "markdown",
      "source": [
        "Una solución correcta, pero no conveniente:"
      ],
      "metadata": {
        "id": "vLhajNUa1ihG"
      }
    },
    {
      "cell_type": "code",
      "source": [
        "def posicion3(elem, lista: list) -> bool:\n",
        "    # pre: elem elemento, lista es list\n",
        "    # post: devuelve True si existe  i tq elem == lista[i], False en otro caso\n",
        "    for i in range(len(lista)):\n",
        "        if elem == lista[i]:\n",
        "            return i\n",
        "    return -1"
      ],
      "metadata": {
        "id": "OjQsi6-N1tc4"
      },
      "execution_count": null,
      "outputs": []
    },
    {
      "cell_type": "code",
      "source": [
        "a = [1, 2, 3, 4, 3, 5]\n",
        "print(posicion3(4, a))\n",
        "print(posicion3(3, a))\n",
        "print(posicion3(8, a))"
      ],
      "metadata": {
        "id": "ueDYN5ri2CFr"
      },
      "execution_count": null,
      "outputs": []
    }
  ],
  "metadata": {
    "colab": {
      "provenance": []
    },
    "kernelspec": {
      "display_name": "Python 3 (ipykernel)",
      "language": "python",
      "name": "python3"
    },
    "language_info": {
      "codemirror_mode": {
        "name": "ipython",
        "version": 3
      },
      "file_extension": ".py",
      "mimetype": "text/x-python",
      "name": "python",
      "nbconvert_exporter": "python",
      "pygments_lexer": "ipython3",
      "version": "3.9.6"
    }
  },
  "nbformat": 4,
  "nbformat_minor": 0
}