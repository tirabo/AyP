{
  "cells": [
    {
      "cell_type": "markdown",
      "metadata": {
        "id": "ELY2TD-rKBs5"
      },
      "source": [
        "# Practicando con Colab Turtle\n",
        "\n",
        "En esta clase practicaremos el uso  de la biblioteca Colab Turtle y esto nos permite practicar en la programación Python.\n",
        "\n",
        "La instrucción `print()` permite imprimir en pantalla y es muy útil para mostra resultados o escribir mensajes. Por ejemplo:"
      ]
    },
    {
      "cell_type": "code",
      "execution_count": null,
      "metadata": {
        "id": "AErBYEKIOIdx"
      },
      "outputs": [],
      "source": [
        "print('¡Hola mundo!')"
      ]
    },
    {
      "cell_type": "markdown",
      "metadata": {
        "id": "FvqRwFsN-aeQ"
      },
      "source": [
        "Ahora instalamos Colab Turtle:"
      ]
    },
    {
      "cell_type": "code",
      "execution_count": null,
      "metadata": {
        "id": "Iz-52mhxKgMG"
      },
      "outputs": [],
      "source": [
        "!pip3 install ColabTurtle"
      ]
    },
    {
      "cell_type": "markdown",
      "metadata": {
        "id": "xaAmCnh9Lt0E"
      },
      "source": [
        "Hemos instalado la biblioteca.\n",
        "\n",
        "En  general las bibliotecas se instalan una sola vez en la máquina que trabajamos, por línea de comando usualmente. Pero en este caso el intérprete de Python se encuentra en un servidor remoto y cada vez que cerramos el Colab  se pierden los datos de instalación.\n",
        "\n",
        "La siguiente nos permite utilizar todas las instrucciones de esa biblioteca."
      ]
    },
    {
      "cell_type": "code",
      "execution_count": null,
      "metadata": {
        "id": "2aPB_Yl0MKnN"
      },
      "outputs": [],
      "source": [
        "from ColabTurtle.Turtle import *\n",
        "# import ColabTurtle.Turtle # en este caso no conviene"
      ]
    },
    {
      "cell_type": "markdown",
      "metadata": {
        "id": "ZB7eC4pWMXuC"
      },
      "source": [
        "¡Listo!\n",
        "\n",
        "## 1. Introducción\n",
        "\n",
        "Ya podés usar las funciones definidas en ColabTurtle. Como ya vimos, lo primero es \"arrancar\" e inicializar el ColabTurtle para crear una hoja de dibujo:"
      ]
    },
    {
      "cell_type": "code",
      "execution_count": null,
      "metadata": {
        "id": "oKdTICFmNqUa"
      },
      "outputs": [],
      "source": [
        "initializeTurtle()"
      ]
    },
    {
      "cell_type": "markdown",
      "metadata": {
        "id": "U06y0NaqNqq-"
      },
      "source": [
        "¿No te gusta el color del fondo? Probá cambiarlo:"
      ]
    },
    {
      "cell_type": "code",
      "execution_count": null,
      "metadata": {
        "id": "aEn2NJ4bNMN_"
      },
      "outputs": [],
      "source": [
        "bgcolor('green')"
      ]
    },
    {
      "cell_type": "markdown",
      "metadata": {
        "id": "151DWD3RSDWf"
      },
      "source": [
        "Hay otros colores de fondo posibles: `white`, `yellow`, `orange`, `red`, `green`, `blue`, `purple`, `grey`, `black`.\n",
        "\n",
        "Por más información visitar [ColabTurtle](https://github.com/tolgaatam/ColabTurtle).\n",
        "\n",
        "Allí encontrarás información sobre esta biblioteca, y también el siguiente ejemplo (modificado un poco por nosotros).\n",
        "\n",
        "Podés correrlo para ver lo que hace."
      ]
    },
    {
      "cell_type": "code",
      "execution_count": null,
      "metadata": {
        "id": "zOyRFMCXGGJj"
      },
      "outputs": [],
      "source": [
        "initializeTurtle()\n",
        "\n",
        "color('mediumblue')\n",
        "penup()\n",
        "goto(100, 250)\n",
        "pendown()\n",
        "forward(100)\n",
        "left(90)\n",
        "forward(40)\n",
        "right(180)\n",
        "forward(80)\n",
        "penup()\n",
        "right(90)\n",
        "forward(50)\n",
        "left(90)\n",
        "forward(50)\n",
        "left(90)\n",
        "backward(10)\n",
        "pendown()\n",
        "speed(10)\n",
        "for i in range(18):\n",
        "    forward(17)\n",
        "    right(20)\n",
        "penup()\n",
        "shape('circle')\n",
        "color(230, 90, 120)\n",
        "speed(7)\n",
        "right(90)\n",
        "forward(160)\n",
        "left(90)\n",
        "forward(60)\n",
        "right(180)\n",
        "pendown()\n",
        "forward(100)\n",
        "left(90)\n",
        "forward(80)\n",
        "penup()\n",
        "shape('turtle')\n",
        "forward(50)\n",
        "left(90)\n",
        "forward(40)\n",
        "pendown()\n",
        "for i in range(5):\n",
        "    forward(17)\n",
        "    right(20)\n",
        "left(200)\n",
        "for i in range(13):\n",
        "    forward(17)\n",
        "    left(20)\n",
        "left(90)\n",
        "forward(50)\n",
        "penup()\n",
        "backward(100)\n",
        "left(90)\n",
        "forward(40)\n",
        "pendown()\n",
        "left(155)\n",
        "forward(105)\n",
        "right(130)\n",
        "forward(105)\n",
        "backward(45)\n",
        "right(115)\n",
        "forward(50)\n",
        "bgcolor(\"#efefef\")\n",
        "penup()\n",
        "backward(70)\n",
        "left(90)\n",
        "forward(100)\n",
        "right(90)\n",
        "pencolor('black')\n",
        "pensize(7)\n",
        "pendown()\n",
        "forward(650)\n",
        "left(180)\n",
        "speed(12)\n",
        "for i in range(90):\n",
        "    forward(7)\n",
        "    right(0.2)\n",
        "speed(2)\n",
        "left(18+180)\n",
        "penup()\n",
        "forward(300)\n",
        "setheading(270)\n",
        "write(\"Hola curso!\", align=\"center\", font=(25, \"Arial\", \"italic\"))\n",
        "color('rgb(70 110 70)')\n",
        "backward(40)"
      ]
    },
    {
      "cell_type": "markdown",
      "metadata": {
        "id": "frgK5Qsxhe8T"
      },
      "source": [
        "\n",
        "\n",
        "El ejemplo ilustra funciones definidas en este módulo. Es un lindo ejemplo de uso de las funciones de turtle, pero ya veremos que no es un buen ejemplo de estilo de programación. En general no es una buena práctica escribir una secuencia larga de instrucciones. Hablábamos de programación estructural. En este ejemplo no se aprecia mucha estructura en el programa.\n",
        "\n",
        "Hagamos una lista de algunas instrucciones de la biblioteca ColabTurtle que utilizaremos\n",
        "\n",
        "- `initializeTurtle()`: crea una pantalla negra y ubica la tortuga en el medio  y mirando hacia arriba (270º según la convención de la biblioteca).\n",
        "- `setheading(n)`: la tortuga apunta a n grados. 0º es hacia la derecha y se  gira en el sentido de las agujas del reloj.\n",
        "- `color('algun_color')`: el color del lápiz.\n",
        "- `bgcolor('algun_color')`: el color de fondo.\n",
        "- `speed(n)`: velocidad a la que se dibuja.\n",
        "- `penup()`: lápiz arriba (no dibuja cuando se mueve).\n",
        "- `pendown()`: lápiz abajo.\n",
        "- `goto(n, m)`: la tortuga va a la coordenada $(n, m)$ (par de  enteros).\n",
        "- `forward(n)`: la tortuga avanza `n`.\n",
        "- `backward(n)`: la tortuga retrocede `n`.\n",
        "- `left(n)`: las tortuga gira a la izquierda `n` grados.\n",
        "- `right(n)`: las tortuga gira a la derecha `n` grados.\n",
        "\n",
        "Hay unas cuantas instrucciones más que iremos viendo.\n",
        "\n",
        "Recordemos que  el tamaño del pizarrón es de 800 (ancho) x 500 (alto) y que todo punto del pizarrón está determinado por sus coordenadas $(n,m)$, donde $(0,0)$ es la esquina superior izquierda y $(800, 500)$ es la esquina inferior derecha.\n",
        "\n"
      ]
    },
    {
      "cell_type": "markdown",
      "metadata": {
        "id": "eaNPA3p9OQG2"
      },
      "source": [
        "Hagamos un dibujo parecido al siguiente:\n",
        "\n",
        "![image.png](data:image/png;base64,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)"
      ]
    },
    {
      "cell_type": "markdown",
      "metadata": {
        "id": "UA2nAKx4wkdH"
      },
      "source": [
        "La implementación inmediata de una \"L\" es"
      ]
    },
    {
      "cell_type": "code",
      "execution_count": null,
      "metadata": {
        "id": "Gra13f5ywwKe"
      },
      "outputs": [],
      "source": [
        "initializeTurtle()\n",
        "forward(100)\n",
        "right(90)\n",
        "forward(100)"
      ]
    },
    {
      "cell_type": "markdown",
      "metadata": {
        "id": "OEXo2f0vB3Ju"
      },
      "source": [
        "Sin embargo, no es la \"L\"  que nosotros queremos: no está colocada como queremos y tampoco son los colores que se piden.\n",
        "\n",
        "Primero corrijamos la forma que está colocada. Para ello,  empecemos apuntando la tortuga hacia la derecha,  después avanzamos y doblamos hacia abajo:"
      ]
    },
    {
      "cell_type": "code",
      "execution_count": null,
      "metadata": {
        "id": "z1bc_YnICV6E"
      },
      "outputs": [],
      "source": [
        "initializeTurtle()\n",
        "right(90)\n",
        "forward(100)\n",
        "right(90)\n",
        "forward(100)"
      ]
    },
    {
      "cell_type": "markdown",
      "metadata": {
        "id": "8q1XlvjwTflA"
      },
      "source": [
        "Ahora hagamos el dibujo con el fondo blanco y el lápiz negro."
      ]
    },
    {
      "cell_type": "code",
      "execution_count": null,
      "metadata": {
        "id": "etQyt_UbSvsm"
      },
      "outputs": [],
      "source": [
        "initializeTurtle()\n",
        "bgcolor('white')\n",
        "color('black')\n",
        "right(90)\n",
        "forward(100)\n",
        "right(90)\n",
        "forward(100)"
      ]
    },
    {
      "cell_type": "markdown",
      "metadata": {
        "id": "dxwSTQTaUqWh"
      },
      "source": [
        "Ahora sí se parece bastante al dibujo que queríamos hacer.\n",
        "\n",
        "Nos ha quedado bastante largo. Pero en realidad las primeras cuatro líneas son solamente para iniciar la pizarra con la tortuga apuntando hacia la derecha, fondo blanco y lápiz negro. La solución en sí del ejemplo, está en las 3 últimas líneas de código.\n",
        "\n",
        "Vamos a resaltar esta observación dejando una línea en blanco entre esos dos fragmentos del programa"
      ]
    },
    {
      "cell_type": "code",
      "execution_count": null,
      "metadata": {
        "id": "FOTC1TEuP2Zk"
      },
      "outputs": [],
      "source": [
        "initializeTurtle()\n",
        "bgcolor('white')\n",
        "color('black')\n",
        "right(90)\n",
        "\n",
        "forward(100)\n",
        "right(90)\n",
        "forward(100)"
      ]
    },
    {
      "cell_type": "markdown",
      "metadata": {
        "id": "l_o3reKkVt8N"
      },
      "source": [
        "Además vamos a insertar *comentarios* que aclaren qué hace cada parte del programa:"
      ]
    },
    {
      "cell_type": "code",
      "execution_count": null,
      "metadata": {},
      "outputs": [],
      "source": []
    },
    {
      "cell_type": "code",
      "execution_count": null,
      "metadata": {
        "id": "3v8U72EVV426"
      },
      "outputs": [],
      "source": [
        "# configuración pizarra inicial\n",
        "initializeTurtle() # inicia la pantalla\n",
        "bgcolor('white')\n",
        "color('black')\n",
        "right(90)\n",
        "\n",
        "# dibuja la L\n",
        "forward(100)\n",
        "right(90)\n",
        "forward(100)"
      ]
    },
    {
      "cell_type": "markdown",
      "metadata": {
        "id": "clEdqb5SWge7"
      },
      "source": [
        "Los comentarios y los espacios son muy útiles: ayudan a organizar el código y a que otra persona y nosotros mismos lo entendamos mejor.\n",
        "\n",
        "Acostumbrate desde ahora a usarlos criteriosamente.\n",
        "\n",
        "Los comentarios son también útiles a la hora de depurar código, se puede anteponer un \"```#```\" al comienzo de cualquier línea de código cuya ejecución uno quiera evitar.\n",
        "\n",
        "Si se quiere evitar la ejecución de varias líneas de código, resulta más conveniente encerrarlas entre comillas ```.\n",
        "\n",
        "Por ejemplo, en el siguiente programa, las únicas líneas que se ejecutan son la 8 y la 9."
      ]
    },
    {
      "cell_type": "code",
      "execution_count": null,
      "metadata": {
        "id": "VbGUlj2SYOpX"
      },
      "outputs": [],
      "source": [
        "# configuración pizarra inicial\n",
        "initializeTurtle()\n",
        "'''\n",
        "bgcolor('white')\n",
        "color('black')\n",
        "right(90)\n",
        "'''\n",
        "\n",
        "# solución del ejercicio 1 del artista\n",
        "forward(100)\n",
        "right(90)\n",
        "forward(100)"
      ]
    },
    {
      "cell_type": "markdown",
      "metadata": {
        "id": "jgP1awP0Qvw4"
      },
      "source": [
        "## Algunas funciones más de ColabTurtle:\n",
        "\n",
        "\n",
        "\n",
        "*   `bgcolor(color)`: color del pizarrón.\n",
        "*   `color(color)`: color del lápiz.\n",
        "*   `forward(units)`: avanza `units`\n",
        "*   `backward(units)`: retrocede `units`\n",
        "*   `speed(vel)`: velocidad de la tortuga. `vel` debe ser un número entre `1` y `13`\n",
        "*   `right(degrees)`: gira hacia la derecha `degrees` grados.\n",
        "*   `left(degrees)`: gira hacia la izquierda `degrees` grados.\n",
        "*   `penup()`: levanta el lápiz, para poder desplazarse sin dejar huella\n",
        "*   `pendown()`: apoya el lápiz, para volver a dibujar después de haberlo levantado\n",
        "*   `width(ancho)`: cambia el grosor del lápiz a `anch`.\n",
        "*   `hideturtle()`: esconde la tortuga.\n",
        "*   `showturtle()`: muestra la tortuga.\n",
        "*   `goto(x, y)`: lleva la tortuga a la coodernada $(x,y)$.\n",
        "*   `getx()`: devuelve la primera coordenada de la ubicación de la tortuga.\n",
        "*   `gety()`: devuelve la segunda coordenada de la ubicación de la tortuga.\n",
        "\n",
        "Más funciones se presentan al final de [ColabTurtle](https://github.com/tolgaatam/ColabTurtle)."
      ]
    },
    {
      "cell_type": "markdown",
      "metadata": {
        "id": "WJFn_12xFPMJ"
      },
      "source": [
        "## 2. Crear figuras con código\n",
        "\n",
        "Haremos algunos dibujos con Turtle para practicar.\n",
        "\n",
        "Primero dibujemos un cuadrado como hicimos la clase pasada, pero con fondo blanco y lápiz negro."
      ]
    },
    {
      "cell_type": "markdown",
      "metadata": {
        "id": "HAZv6B6y0Dkp"
      },
      "source": [
        "Para hacer esto necesitamos la instrucción \"*repetir ? veces*\". En Python no hay una instrucción exactamente igual a *repetir*. Para hacer esto  usaremos  el `for` de Python,  que se implementa de la siguiente manera (en este caso)\n",
        "\n",
        "    for _ in range(n):\n",
        "        instrucción_1\n",
        "        instrucción_2\n",
        "        etc\n",
        "\n",
        "El parámetro `n` es un entero positivo. Esta instrucción se \"lee\": *hacer n veces las siguientes instrucciones*.  "
      ]
    },
    {
      "cell_type": "code",
      "execution_count": null,
      "metadata": {
        "id": "4H3CzluyvIzG"
      },
      "outputs": [],
      "source": [
        "# configuración pizarra inicial\n",
        "initializeTurtle()\n",
        "bgcolor('white')\n",
        "color('black')\n",
        "right(90)\n",
        "\n",
        "# cuadrado 100 x 100\n",
        "for _ in range(4):\n",
        "    forward(100)\n",
        "    right(90)"
      ]
    },
    {
      "cell_type": "markdown",
      "metadata": {
        "id": "KdMF0ov9e6Ht"
      },
      "source": [
        "Los dos puntos (```:```) al final de la línea 8, y la sangría en las líneas 9 y 10 son fundamentales. La sangría determina cuáles son las líneas cuyas instrucciones deben iterarse. Se recomienda usar 4 espacios como sangría. En Colab puede configurarse tocando la rueda dentada (arriba derecha) y  luego \"Editor\".\n",
        "\n"
      ]
    },
    {
      "cell_type": "markdown",
      "metadata": {
        "id": "CF263VVKf4AB"
      },
      "source": [
        "### **Ejemplo.** Triángulo equilátero\n",
        "\n",
        "Dibujemos un triángulo equilátero de lado $100$. Recordemos que un triángulo equilátero tiene los ángulos interiores de $60°$. Razonando un poco,  si venimos en una dirección y doblamos $120°$ obtenemos que el ángulo que queda entre el recorrido original y el recorrido nuevo es $60°$.\n",
        "\n"
      ]
    },
    {
      "cell_type": "code",
      "execution_count": null,
      "metadata": {
        "id": "obaUwAPxF46H"
      },
      "outputs": [],
      "source": [
        "# configuración pizarra inicial\n",
        "initializeTurtle()\n",
        "bgcolor('white')\n",
        "color('black')\n",
        "right(90)\n",
        "\n",
        "forward(100)\n",
        "left(120)\n",
        "forward(100)\n",
        "left(120)\n",
        "forward(100)\n",
        "left(120)\n"
      ]
    },
    {
      "cell_type": "markdown",
      "metadata": {
        "id": "A8n2eaOA3hc9"
      },
      "source": [
        "No debería tener dificultad en traducir esto a Python:"
      ]
    },
    {
      "cell_type": "code",
      "execution_count": null,
      "metadata": {
        "id": "AWGPiKVd3ohz"
      },
      "outputs": [],
      "source": [
        "# configuración pizarra inicial\n",
        "initializeTurtle()\n",
        "bgcolor('white')\n",
        "color('black')\n",
        "right(90)\n",
        "\n",
        "# solución del ejercicio 5, lección 4\n",
        "for _ in range(3):\n",
        "    forward(100)\n",
        "    right(120)"
      ]
    },
    {
      "cell_type": "markdown",
      "metadata": {
        "id": "rVimdynaGhUX"
      },
      "source": [
        "También podemos resolver el ejercicio usando diferentes colores o colores aleatorios para cada lado del triángulo."
      ]
    },
    {
      "cell_type": "markdown",
      "metadata": {
        "id": "kefTtXDZgYjL"
      },
      "source": [
        "La principal novedad es la elección aleatoria del color. Para eso utilizaremos la función ```choice``` de la biblioteca ```random```:\n",
        "\n"
      ]
    },
    {
      "cell_type": "code",
      "execution_count": null,
      "metadata": {
        "id": "gq1HqvDShIWn"
      },
      "outputs": [],
      "source": [
        "from random import choice"
      ]
    },
    {
      "cell_type": "markdown",
      "metadata": {
        "id": "4nyKjzYehEoH"
      },
      "source": [
        "que nos permite elegir al azar elementos de una lista. Probá ejecutar varias veces el siguiente código:"
      ]
    },
    {
      "cell_type": "code",
      "execution_count": null,
      "metadata": {
        "id": "S5F4pxjshxMf"
      },
      "outputs": [],
      "source": [
        "choice(['yellow', 'orange', 'red', 'green', 'blue', 'purple', 'grey', 'black'])"
      ]
    },
    {
      "cell_type": "markdown",
      "metadata": {
        "id": "6n-9L6c7iSgl"
      },
      "source": [
        "Ahora podemos resolver el ejercicio:"
      ]
    },
    {
      "cell_type": "code",
      "execution_count": null,
      "metadata": {
        "id": "Zvya_e81iYtz"
      },
      "outputs": [],
      "source": [
        "# configuración pizarra inicial\n",
        "initializeTurtle()\n",
        "bgcolor('white')\n",
        "color('black')\n",
        "right(90)\n",
        "\n",
        "# solución del ejercicio 4 del artista\n",
        "for _ in range(3):\n",
        "    color(choice(['yellow', 'orange', 'red', 'green', 'blue', 'purple', 'grey', 'black']))\n",
        "    forward(100)\n",
        "    right(120)"
      ]
    },
    {
      "cell_type": "markdown",
      "metadata": {
        "id": "2jjdBZ6jsGeV"
      },
      "source": [
        "### **Ejemplo.** El sobre\n",
        "\n",
        "Ahora queremos dibujar algo parecido a:\n",
        "\n",
        "![image.png](data:image/png;base64,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)"
      ]
    },
    {
      "cell_type": "markdown",
      "metadata": {
        "id": "UowXL5oAIA4q"
      },
      "source": [
        "Una solución sería:"
      ]
    },
    {
      "cell_type": "code",
      "execution_count": null,
      "metadata": {
        "id": "X2_52ddqkyt0"
      },
      "outputs": [],
      "source": [
        "# configuración pizarra inicial\n",
        "initializeTurtle()\n",
        "bgcolor('white')\n",
        "color('black')\n",
        "right(90)\n",
        "\n",
        "# solución del ejercicio 5 del artista\n",
        "for _ in range(4):\n",
        "    forward(100)\n",
        "    right(90)\n",
        "for _ in range(3):\n",
        "    forward(100)\n",
        "    right(120)"
      ]
    },
    {
      "cell_type": "markdown",
      "metadata": {
        "id": "Cnbqk4mwIdGg"
      },
      "source": [
        "### **Ejemplo.** Triángulo y cuadrado\n",
        "\n",
        "Queremos dibujar algo parecido  a:\n",
        "\n",
        "![image.png](data:image/png;base64,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)"
      ]
    },
    {
      "cell_type": "markdown",
      "metadata": {
        "id": "p7jSStHmIkwN"
      },
      "source": [
        "Una forma de hacerlo sería:"
      ]
    },
    {
      "cell_type": "code",
      "execution_count": null,
      "metadata": {
        "id": "HvDR0697mv8b"
      },
      "outputs": [],
      "source": [
        "# configuración pizarra inicial\n",
        "initializeTurtle()\n",
        "bgcolor('white')\n",
        "color('black')\n",
        "right(90)\n",
        "\n",
        "# solución del ejercicio 6 del artista\n",
        "for _ in range(3):\n",
        "    forward(100)\n",
        "    right(120)\n",
        "right(180)\n",
        "for _ in range(4):\n",
        "    forward(100)\n",
        "    right(90)"
      ]
    },
    {
      "cell_type": "markdown",
      "metadata": {
        "id": "70FjyWulBOE8"
      },
      "source": [
        "De otra forma:\n"
      ]
    },
    {
      "cell_type": "code",
      "execution_count": null,
      "metadata": {
        "id": "tGxSe3QuBQ-G"
      },
      "outputs": [],
      "source": [
        "# configuración pizarra inicial\n",
        "initializeTurtle()\n",
        "bgcolor('white')\n",
        "color('black')\n",
        "right(90)\n",
        "\n",
        "# solución del ejercicio 6 del artista\n",
        "right(180)\n",
        "for _ in range(4):\n",
        "    forward(100)\n",
        "    right(90)\n",
        "right(180)\n",
        "for _ in range(3):\n",
        "    forward(100)\n",
        "    right(120)"
      ]
    },
    {
      "cell_type": "markdown",
      "metadata": {
        "id": "RzLTu6grnD65"
      },
      "source": [
        "### **Ejemplo.** Anteojos verdes\n",
        "\n",
        "Queremos dibujar algo parecido a:\n",
        "\n",
        "![image.png](data:image/png;base64,iVBORw0KGgoAAAANSUhEUgAAAXkAAAC8CAYAAACdUd6OAAAAAXNSR0IArs4c6QAAAARnQU1BAACxjwv8YQUAAAAJcEhZcwAAEnQAABJ0Ad5mH3gAAAOrSURBVHhe7doxbhNBGIDRNQ1duEFQOu6QAisncEXLUWxLOQBXSE3DEZKaE9DRoFQUQEVlbDESF8Be6dv3tvA/bmf0aaWd1eFoAiDpxfgFIEjkAcJEHiBM5AHCRB4gTOQBwkQeIEzkAcJEHiBM5AHCRB4gTOQBwkQeIEzkAcJEHiBM5AHCRB4gTOQBwkQeIEzkAcJEHiBM5AHCRB4gTOQBwkQeIGx1OBrzbG4+3Exff3wdK4Cmq5dX08PmYdq82Yx/zm/2N/l3H98JPLAIP3//nN5/ej9WlzF75D9/+zwmgL5T6C9p9shfv7oeEwD/2+yRv7u5GxMA/9vsH173j/tp97Qbq792b3fTdr0dK2qWvOer/WpM/xy2s9994Izm3nNXKAHCRB4gTOQBwkQeIEzkAcJEHiBM5AHCRB4gTOQBwkQeIEzkAcJEHiBM5AHCRB4gTOQBwkQeIEzkAcJEHiBM5AHCRB4gTOQBwkQeIEzkAcJEHiBM5AHCRB4gTOQBwkQeIEzkAcJEHiBM5AHCRB4gTOQBwkQeIEzkAcJEHiBM5AHCRB4gTOQBwkQeIEzkAcJEHiBM5AHCRB4gTOQBwkQeIEzkAcJEHiBM5AHCRB4gTOQBwkQeIEzkAcJEHiBM5AHCRB4gTOQBwkQeIEzkAcJEHiBM5AHCRB4gTOQBwkQeIEzkAcJEHiBM5AHCRB4gTOQBwkQeIEzkAcJEHiBM5AHCRB4gTOQBwkQeIEzkAcJEHiBM5AHCRB4gTOQBwkQeIEzkAcJEHiBM5AHCRB4gTOQBwkQeIEzkAcJEHiBM5AHCRB4gTOQBwkQeIEzkAcJEHiBM5AHCRB4gTOQBwkQeIEzkAcJEHiBM5AHCRB4gTOQBwkQeIEzkAcJEHiBM5AHCRB4gTOQBwkQeIEzkAcJEHiBM5AHCRB4gTOQBwkQeIEzkAcJWh6Mxz2L/uJ92T7uxYql2b3fTdr0dq67VfjUmluywvVx2Z3+T//L9y5hYMucAzmP2yD//eh4TS+YcwHnMHvnb69sxsWRLOQdXL6/GxFJd+gzMHvn7u/tp/Xo9rY4Py3Pa99P+n87BEjxsHoR+wU57fzoDlzT7h1cAzscVSoAwkQcIE3mAMJEHCBN5gDCRBwgTeYAwkQcIE3mAMJEHCBN5gDCRBwgTeYAwkQcIE3mAMJEHCBN5gDCRBwgTeYAwkQcIE3mAMJEHCBN5gDCRBwgTeYAwkQcIE3mAMJEHCBN5gDCRBwgTeYCsafoDsxhYaYh2oRIAAAAASUVORK5CYII=)"
      ]
    },
    {
      "cell_type": "markdown",
      "metadata": {
        "id": "MLQnT_zBoTDO"
      },
      "source": [
        "Una posible solución:"
      ]
    },
    {
      "cell_type": "code",
      "execution_count": null,
      "metadata": {
        "id": "hz-fs-NBo4Nb"
      },
      "outputs": [],
      "source": [
        "# configuración pizarra inicial\n",
        "initializeTurtle()\n",
        "bgcolor('white')\n",
        "color('black')\n",
        "right(90)\n",
        "\n",
        "# solución del ejercicio 7 del artista\n",
        "color('green')\n",
        "for _ in range(4):\n",
        "    forward(100)\n",
        "    right(90)\n",
        "forward(150)\n",
        "for _ in range(4):\n",
        "    forward(100)\n",
        "    right(90)"
      ]
    },
    {
      "cell_type": "markdown",
      "metadata": {
        "id": "au_bfx1uzHXn"
      },
      "source": [
        "### **Ejemplo.** El asterisco\n",
        "\n",
        "Queremos dibujar algo parecido a:\n",
        "\n",
        "![image.png](data:image/png;base64,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)\n",
        "\n",
        "Los colores de los rayos son elegidos al azar."
      ]
    },
    {
      "cell_type": "markdown",
      "metadata": {
        "id": "etuRe-iCqOWJ"
      },
      "source": [
        "**Solución:**"
      ]
    },
    {
      "cell_type": "code",
      "execution_count": null,
      "metadata": {
        "id": "pPFY6YfGxB5g"
      },
      "outputs": [],
      "source": [
        "# Traducir el código original del ejercicio 5.8 de bloques a Python\n",
        "# configuración pizarra inicial\n",
        "initializeTurtle()\n",
        "bgcolor('white')\n",
        "color('black')\n",
        "right(90)\n",
        "\n",
        "# Resolver el ejercicio 5.8\n",
        "\n",
        "for _ in range(8):\n",
        "    color(choice(['yellow', 'orange', 'red', 'green', 'blue', 'purple', 'grey', 'black']))\n",
        "    forward(100)\n",
        "    backward(100)\n",
        "    right(45)\n",
        "hideturtle()"
      ]
    },
    {
      "cell_type": "markdown",
      "metadata": {
        "id": "kQBkB5MiqN1M"
      },
      "source": [
        "Hemos repetido tantas veces las 4 líneas de código que generan una pizarra vacía inicial. Ya es hora de definir una *función* que agrupe esas 4 líneas y nos ahorre el trabajo de repetirlas (y tener que recordarlas) cada vez.\n",
        "\n",
        "La palabra clave para definir funciones en Python es `def`: un `def` al comienzo de una línea indica que comienza la definición de la función. Luego sigue el nombre de la función,  entre paréntesis los argumentos y luego `:`."
      ]
    },
    {
      "cell_type": "code",
      "execution_count": null,
      "metadata": {
        "id": "KGde0qtmNREd"
      },
      "outputs": [],
      "source": [
        "def pizarra_vacia():\n",
        "    # Define una pizarra vacía, con fondo blanco, la tortuga apuntando hacia arriba y  velocidad 12\n",
        "    initializeTurtle()\n",
        "    bgcolor('white')\n",
        "    color('black')\n",
        "    speed(12)"
      ]
    },
    {
      "cell_type": "markdown",
      "metadata": {
        "id": "jS3RXGc_92vT"
      },
      "source": [
        "Ahora `pizarra_vacia()` es una función más,  como lo es `initializeTurtle()`, solo que la hemos definido nosotros. Veremos en la próxima clase como se definen funciones en Python con cierto detalle."
      ]
    },
    {
      "cell_type": "markdown",
      "metadata": {
        "id": "POqnT2L6qnnR"
      },
      "source": [
        "### **Ejemplo.**  <a name=\"ej_circulo\">Un círculo</a>\n",
        "\n",
        "Queremos ahora dibujar un círculo. Debido a la naturaleza \"cuadriculada\" de los sistemas de coordenadas, no es posible dibujar círculos perfectos y lo que se hace es aproximar los círculos por polígonos regulares de $n$ lados. Cuanto  mayor es el $n$ mejor será la aproximación.\n",
        "\n",
        "<span id=\"mi-etiqueta\">Esta es la sección de referencia</span>\n"
      ]
    },
    {
      "cell_type": "markdown",
      "metadata": {
        "id": "f6_7s93_scEP"
      },
      "source": [
        "Te conviene agregar `speed(13)` (velocidad máxima) a la configuración pizarra inicial.\n",
        "\n",
        "Primero aproximemos el círculo por un polígono regular de 360 lados:"
      ]
    },
    {
      "cell_type": "code",
      "execution_count": null,
      "metadata": {
        "id": "Q0bK-kvarGJz"
      },
      "outputs": [],
      "source": [
        "# configuración pizarra inicial (usamos la función pizarra_vacia() que acabamos de definir)\n",
        "pizarra_vacia()\n",
        "\n",
        "# Cículo aproximado por un polígono regular de 360 lados\n",
        "for _ in range(360):\n",
        "    forward(1)\n",
        "    right(1)\n"
      ]
    },
    {
      "cell_type": "markdown",
      "metadata": {
        "id": "4F0zBVTeLn68"
      },
      "source": [
        "Es un poco lento y visualmente alcanza con polígonos con menos lados:"
      ]
    },
    {
      "cell_type": "code",
      "execution_count": null,
      "metadata": {
        "id": "gGP9pQYhmmCy"
      },
      "outputs": [],
      "source": [
        "# configuración pizarra inicial (usamos la función pizarra_vacia() que acabamos de definir)\n",
        "pizarra_vacia()\n",
        "\n",
        "# variante para dibujar círculos (polígono de 40 lados)\n",
        "for _ in range(20):\n",
        "    forward(12)\n",
        "    right(18) # ángulo de rotación"
      ]
    },
    {
      "cell_type": "markdown",
      "metadata": {
        "id": "FF6kDOD0m_8M"
      },
      "source": [
        "Observar que para dibujar un círculo aproximando con un polígono de $n$ lados, el ángulo de rotación debe ser $360 / n$."
      ]
    },
    {
      "cell_type": "markdown",
      "metadata": {
        "id": "bbEEqsca8KeT"
      },
      "source": [
        "### **Ejemplo.** <a name=\"ej_cruz_de_malta\">Cruz de Malta</a>\n",
        "\n",
        "\n",
        "Hacé un dibujo parecido al siguiente.\n",
        "\n",
        "\n",
        "![image.png](data:image/png;base64,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)\n"
      ]
    },
    {
      "cell_type": "markdown",
      "metadata": {
        "id": "LrzEf_S9Nf4c"
      },
      "source": [
        "La instrucción\n",
        "\n",
        "```color(choice(['yellow', 'orange', 'red', 'green', 'blue', 'purple', 'grey', 'black']))```\n",
        "\n",
        "permite elegir un color al azar.\n",
        "\n",
        "\n",
        "Este ejercicio se resuelve usando `for` para ubicar los 4 triángulos y  anidado otro `for` que dibuja cada triángulo."
      ]
    },
    {
      "cell_type": "code",
      "execution_count": null,
      "metadata": {
        "id": "Sod7CAOI9JLw"
      },
      "outputs": [],
      "source": [
        "# configuración pizarra inicial\n",
        "pizarra_vacia()\n",
        "\n",
        "# Cruz de  Malta\n",
        "for _ in range(4):\n",
        "    color(choice(['yellow', 'orange', 'red', 'green', 'blue', 'purple', 'grey', 'black']))\n",
        "    for _ in range(3): # dibujar triángulo\n",
        "        forward(100)\n",
        "        right(120)\n",
        "    right(90) # después de cada triángulo giramos 90°"
      ]
    },
    {
      "cell_type": "markdown",
      "metadata": {
        "id": "DA4eOJft_Y6j"
      },
      "source": [
        "### **Ejercicio.** Tríangulo repetido\n",
        "\n",
        "Queremos dibujar algo parecido a\n",
        "\n",
        "![image.png](data:image/png;base64,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)\n",
        "\n",
        "Aquí está el mismo código del ejercicio anterior, pero girado sólo 36 grados después de dibujar cada triángulo. ¿Cuántas veces necesitas repetir esto? Reemplazá el argumento de `range()` para lograr el objetivo. (Pista: después de girar el dibujo 360 grados habrás dado una vuelta completa).\n",
        "\n"
      ]
    },
    {
      "cell_type": "code",
      "execution_count": null,
      "metadata": {
        "id": "2azL-Lhx_VqM"
      },
      "outputs": [],
      "source": [
        "pizarra_vacia()\n",
        "\n",
        "for _ in range(10):\n",
        "    color(choice(['yellow', 'orange', 'red', 'green', 'blue', 'purple', 'grey', 'black']))\n",
        "    for _ in range(3): # dibujar triángulo\n",
        "        forward(100)\n",
        "        right(120)\n",
        "    right(36)"
      ]
    },
    {
      "cell_type": "markdown",
      "metadata": {
        "id": "I6iVrgTaAefq"
      },
      "source": [
        "### **Ejercicio.** Triángulo repetido muchas veces\n",
        "\n",
        "\n",
        "Aquí está el mismo código del ejercicio anterior, pero repitiendo los giros 36 veces. ¿De cuántos grados debería ser el giro para dar exactamente un giro completo? Reemplazar el argumento de `right()`"
      ]
    },
    {
      "cell_type": "code",
      "execution_count": null,
      "metadata": {
        "id": "Ys28lfEC_WfY"
      },
      "outputs": [],
      "source": [
        "pizarra_vacia()\n",
        "speed(12)\n",
        "\n",
        "for _ in range(36):\n",
        "    color(choice(['yellow', 'orange', 'red', 'green', 'blue', 'purple', 'grey', 'black']))\n",
        "    for _ in range(3): # dibujar triángulo\n",
        "        forward(100)\n",
        "        right(120)\n",
        "    right(10)"
      ]
    },
    {
      "cell_type": "markdown",
      "metadata": {
        "id": "McHku0m3-ATx"
      },
      "source": [
        "### **Ejercicio.** Cuadrado de 20 x 20\n",
        "\n",
        "Usando sólo 3 lineas adicionales dibujar un cuadrado con bordes de 20 x 20."
      ]
    },
    {
      "cell_type": "code",
      "execution_count": null,
      "metadata": {
        "id": "4uERXcf7_XSY"
      },
      "outputs": [],
      "source": [
        "pizarra_vacia()\n",
        "\n",
        "for _ in range(4):\n",
        "  forward(20)\n",
        "  right(90)"
      ]
    },
    {
      "cell_type": "markdown",
      "metadata": {
        "id": "c6brVADpAdZQ"
      },
      "source": [
        "### **Ejercicio.** Escalera de cuadrados\n",
        "\n",
        "Insertar en el código anterior 2 lineas para dibujar 10 cuadrados adyacentes como una escalera . Será necesario también acomodar las sangrías.\n",
        "\n",
        "![image.png](data:image/png;base64,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)"
      ]
    },
    {
      "cell_type": "code",
      "execution_count": null,
      "metadata": {
        "id": "efWAO2uI_X7Q"
      },
      "outputs": [],
      "source": [
        "pizarra_vacia()\n",
        "\n",
        "for _ in range(10):\n",
        "    for _ in range(4):\n",
        "        forward(20)\n",
        "        right(90)\n",
        "    forward(20)"
      ]
    },
    {
      "cell_type": "markdown",
      "metadata": {
        "id": "r7fpnUwtAdp9"
      },
      "source": [
        "### **Ejercicio.** Cuadrado de escaleras\n",
        "\n",
        "Agregar 2 líneas al código del ejercicio anterior para conseguir el siguiente dibujo.\n",
        "\n",
        "![image.png](data:image/png;base64,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)\n",
        "\n",
        "Será necesario también acomodar las sangrías."
      ]
    },
    {
      "cell_type": "code",
      "execution_count": null,
      "metadata": {
        "id": "x4aURRzl_Yoj"
      },
      "outputs": [],
      "source": [
        "pizarra_vacia()\n",
        "\n",
        "for _ in range(4):\n",
        "    for _ in range(10):\n",
        "        for _ in range(4):\n",
        "            forward(20)\n",
        "            right(90)\n",
        "        forward(20)\n",
        "    right(90)"
      ]
    },
    {
      "cell_type": "markdown",
      "metadata": {
        "id": "1zgaBA92AeNk"
      },
      "source": [
        "### **Ejercicio.** Más escaleras\n",
        "\n",
        "Deberías modificar un parámetro del código anterior  para obtener algo así:\n",
        "\n",
        "![image.png](data:image/png;base64,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)"
      ]
    },
    {
      "cell_type": "code",
      "execution_count": null,
      "metadata": {
        "id": "c_hFBcED_ZW9"
      },
      "outputs": [],
      "source": [
        "pizarra_vacia()\n",
        "\n",
        "for _ in range(4):\n",
        "  for _ in range(10):\n",
        "     for _ in range(4):\n",
        "        forward(20)\n",
        "        right(90)\n",
        "     forward(20)\n",
        "  right(70)"
      ]
    },
    {
      "cell_type": "markdown",
      "metadata": {
        "id": "iw26A1lBAeZA"
      },
      "source": [
        "### **Ejercicio.** La estrella\n",
        "\n",
        "Finalmente, modificar el código anterior para obtener el siguiente dibujo.\n",
        "\n",
        "![image.png](data:image/png;base64,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)"
      ]
    },
    {
      "cell_type": "code",
      "execution_count": null,
      "metadata": {
        "id": "lsoTiv9V_dSG"
      },
      "outputs": [],
      "source": [
        "pizarra_vacia()\n",
        "\n",
        "for _ in range(9):\n",
        "  for _ in range(10):\n",
        "     for _ in range(4):\n",
        "        forward(20)\n",
        "        right(90)\n",
        "     forward(20)\n",
        "  right(80)"
      ]
    },
    {
      "cell_type": "markdown",
      "metadata": {
        "id": "zDRO07d4VyCH"
      },
      "source": [
        "### **Ejercicio.** Estrella colorida\n",
        "\n",
        "Modificá el código del ejercicio anterior para obtener el mismo dibujo pero con cada cuadrado dibujado con un color al azar."
      ]
    },
    {
      "cell_type": "code",
      "execution_count": null,
      "metadata": {
        "id": "JNbrPAPEWJqX"
      },
      "outputs": [],
      "source": [
        "pizarra_vacia()\n",
        "\n",
        "color(choice(['yellow', 'orange', 'red', 'green', 'blue', 'purple', 'grey', 'black']))\n",
        "for _ in range(9):\n",
        "    for _ in range(10):\n",
        "        for _ in range(4):\n",
        "            forward(20)\n",
        "            right(90)\n",
        "        forward(20)\n",
        "    right(80)"
      ]
    }
  ],
  "metadata": {
    "colab": {
      "provenance": []
    },
    "kernelspec": {
      "display_name": "Python 3",
      "name": "python3"
    }
  },
  "nbformat": 4,
  "nbformat_minor": 0
}
