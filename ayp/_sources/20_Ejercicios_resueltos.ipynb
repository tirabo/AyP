{
  "cells": [
    {
      "cell_type": "markdown",
      "metadata": {
        "id": "tJaE2QJfW_n8"
      },
      "source": [
        "# Ejercicios resueltos"
      ]
    },
    {
      "cell_type": "markdown",
      "metadata": {},
      "source": [
        "## 1. Dibujando con la tortuga"
      ]
    },
    {
      "cell_type": "markdown",
      "metadata": {
        "id": "Iq4AnPxLJs6c"
      },
      "source": [
        "Antes de comenzar con los ejercicios de esta sección debés instalar importar el módulo `turtle` ejecutando la siguiente celda a de código:"
      ]
    },
    {
      "cell_type": "code",
      "execution_count": 1,
      "metadata": {
        "colab": {
          "base_uri": "https://localhost:8080/"
        },
        "id": "riAYzyHzJt5T",
        "outputId": "905162d9-587f-4676-9671-ad55518e49d9"
      },
      "outputs": [],
      "source": [
        "from turtle import *"
      ]
    },
    {
      "cell_type": "markdown",
      "metadata": {
        "id": "ZPbS9dKBqgSt"
      },
      "source": [
        "También conviene ejecutar las dos siguientes celdas de código, pues traen funciones que se utilizarán en esta sección."
      ]
    },
    {
      "cell_type": "code",
      "execution_count": 2,
      "metadata": {
        "id": "rTGl8bf3t9i5"
      },
      "outputs": [],
      "source": [
        "from math import pi # usaremos el valor de pi en algún ejercicio\n",
        "from random  import choice # usaremos choice en algunos ejercicios\n",
        "from random import randint"
      ]
    },
    {
      "cell_type": "code",
      "execution_count": 3,
      "metadata": {
        "id": "r1DeWPybyYeg"
      },
      "outputs": [],
      "source": [
        "def pizarra_vacia(velocidad = 5, fondo = 'white', lapiz ='black', ancho = 5):\n",
        "    # pre: velocidad es un número entero de 1 a 10.\n",
        "    # post: deja la pizarra vacía, con\n",
        "    #       - velocidad: velocidad de dibujo de 1 a 10. \n",
        "    #       - fondo: color de fondo \n",
        "    #       - lapiz: color del lápiz\n",
        "    #       - ancho: grosor del lápiz\n",
        "    reset()\n",
        "    setup (width=800, height=600) # tamaño de la pizarra\n",
        "    speed(velocidad)\n",
        "    bgcolor(fondo)\n",
        "    color(lapiz)\n",
        "    width(ancho)"
      ]
    },
    {
      "cell_type": "markdown",
      "metadata": {},
      "source": [
        "Muchos de los ejercicios son similares a los de [Code.org - Curso acelerado de introducción a CS](https://studio.code.org/s/20-hour/)"
      ]
    },
    {
      "cell_type": "markdown",
      "metadata": {
        "id": "gGkMsQwlXxqV"
      },
      "source": [
        "**Ejercicio 1.** \n",
        "\n",
        "**1.1)** Dibujar el siguiente \"sobre\". La idea es dibujar un cuadrado y  luego agregar un triángulo."
      ]
    },
    {
      "cell_type": "markdown",
      "metadata": {
        "id": "O7xIoFWA63Lk"
      },
      "source": [
        "![image.png](data:image/png;base64,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)"
      ]
    },
    {
      "cell_type": "code",
      "execution_count": 4,
      "metadata": {
        "id": "LmXe0p3n7JH5"
      },
      "outputs": [],
      "source": [
        "pizarra_vacia()\n",
        "\n",
        "for _ in range(4):\n",
        "    forward(100)\n",
        "    left(90)\n",
        "forward(100)\n",
        "for _ in range(3):\n",
        "    left(120)\n",
        "    forward(100)\n",
        "\n",
        "# exitonclick()\n"
      ]
    },
    {
      "cell_type": "markdown",
      "metadata": {
        "id": "U6qbrzgO7yL-"
      },
      "source": [
        "**1.6)** Dibujar este triángulo y este cuadrado.\n"
      ]
    },
    {
      "cell_type": "markdown",
      "metadata": {},
      "source": [
        "![image.png](data:image/png;base64,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)"
      ]
    },
    {
      "cell_type": "code",
      "execution_count": 5,
      "metadata": {
        "id": "KqjrKr_Tutqk"
      },
      "outputs": [],
      "source": [
        "pizarra_vacia()\n",
        "\n",
        "right(90)\n",
        "for _ in range(3):\n",
        "    left(120)\n",
        "    forward(100)\n",
        "right(90)\n",
        "for _ in range(4):\n",
        "    forward(100)\n",
        "    left(90)\n",
        "forward(100)\n",
        "\n",
        "\n",
        "# exitonclick()"
      ]
    },
    {
      "cell_type": "markdown",
      "metadata": {
        "id": "jv_peQ6PFjtp"
      },
      "source": [
        "**Ejercicio 2.** En  el siguiente código  deberás reemplazar el `0` que es argumento de `range` por un número que permita dibujar un círculo como este:"
      ]
    },
    {
      "cell_type": "markdown",
      "metadata": {},
      "source": [
        "![image.png](data:image/png;base64,iVBORw0KGgoAAAANSUhEUgAAAL0AAACoCAIAAAA6rnhPAAAACXBIWXMAAA7EAAAOxAGVKw4bAAAE8UlEQVR4nO2dW3LbQAwEl6nc/8rKB10qRS9zQTwGy+7/xNxBCwBFW9put9sAmORP9QVAS/BmbNu2bVv1VTQDb35AnSk29pvxvzQEcoS/1Rcgx1TjuaxkV+w3CSNp+VSv4k3h+rJkwit7I7jqLpP2gt4I6vJK99iX8sbFmOOBnP9xfcNfxJvZEj6e+v5vvaI4czFd6O2Nyz3z/p8E5bDqXX1Xbw7WQ+p0Ha/5Ey29OVIA2XO1vvg7zbxZI/TR/yBtvPk16C4HeaLpuRp40zTZKdqdUd2b74GKX/wsjQ4r7c2XHJUv+yQtTi3qTYvsQhFPQPH3/cQjy+HLSRUewGn1G4x5RTMToX6jGVA5mo1Hpd98ikDk8hSQikii30glIsv357LJ1HuDNMfRUad4Tr09MMb8Snlulf2m/PB9eZtSZtepn1OPIM1xarMq8+b1xYE0s7wmltZyarxReMdzVXKyLfCGtcaRqkUn2xukcadEnVRvkCaIfHXyvEGaUJLVSfIGaRLIVCfDG6RJI02dmvtwpIkjJ9twb3h/L5+E9wNjveH9PR18a5E9p2g2OUTnHOgNE6qW0Gml9TwcuhDlDc1GgbiWk9RvkKaKoORDvOE2ShmX6vh7w4RSI2JasReDBWdvaDaauLcc+g1Y8PSGZqOMb8sJ7DdIo4ZjRdy84d67I+aqRfUbmo0mXnVhLwYLPt4wpPpiq11Iv2FIKeNSHeYUWMAbsODgDctNdwwV9O83LDf6nK8Rcwos4A1YOOsNy80azNbRud+w3HThZKWYU2ABb8DCKW+ehiJDqhdP9Zpaceg3YAFvwILdG+7A1+N4Td36DctNR8xVY06BBbwBC3gDFvAGLOANWMAbsIA3YAFvwALegAW8AQt4AxbwBizgDVjAG7CAN2ABb8AC3oAFvAELeAMW8AYs4A1YwBuwwOelX5qCz0vnD6bW43hNmVNgAW/AQuz3T4EyZd8/xYqzElPVZE6BBbwBC+Hf5wuaFH+fLyvOGszWkTkFFvAGLPh7w4qjz/kaOXjDitMdQwWZU2ABb8BCiDesOMq4VMfHG1acvthqFzWnaDmaeNWF/QYsBH7OPi1HjdeK8Dn7kIqnN7QcZRybzeB7WS+L+vey0nIUcK+CvzdMKzV8J9QOezFYCPGGlqNDRLMZ9BuwEeUNLUeBoGYzQvsN9+RqOFYkdU7RcjIJTTvWG6ZVFXETaoe9GCyEe0PLySe62YyqfoM6ceRkm+HNW9lRJ4K3qUbc2Cb1G9RJIE2akTmnUCeUTGlG8n6DOkEkSzPy92LUcSdfmlFyP4U6jpRIM6ruw3l0FUdOtlthCateK2tQm57ccwYG1hHKU6r05tOLozwUcT7lk9mqi/sN6syiIM0o92agzgwi0ozavfgJnVAEUQtHyJvxtcdIXWcmmpnUz6lHvgRxzbGlKc1Q82agzgOy0gy1OfWI2kRPRvz4ut7siMcXQYsjq3sztNu1L41O2sCbcWCzaXGKT3Q8XQ9vxrGluMtZ7vQ9VBtvdvoG/UT3gzTzZufgDbng0fpe+RMtvbnT6FXb6FKP0NubHeUXsfK1nWEFb3am3k0OPbXOlcSxjjd3zjyOmEoj7QcJsqA3O7IPs9YIfFlvdqTsWSnqxb25UyjQkglfxZtHEhxaPtUrevMJg0+XTQ9vwILc7/tBC/AGLOANWMAbsPAPzf+R2oUuT18AAAAASUVORK5CYII=)"
      ]
    },
    {
      "cell_type": "code",
      "execution_count": 6,
      "metadata": {
        "id": "fXSQbcjJuuWb"
      },
      "outputs": [],
      "source": [
        "pizarra_vacia()\n",
        "speed(10)\n",
        "for _ in range(120): # reemplazar el 0\n",
        "    forward(4)\n",
        "    right(3)\n",
        "\n",
        "# exitonclick()"
      ]
    },
    {
      "cell_type": "markdown",
      "metadata": {
        "id": "YDW5rDNzXy-3"
      },
      "source": [
        "**Ejercicio 3.** El programa que está en la siguiente celda de código hace el dibujo"
      ]
    },
    {
      "cell_type": "markdown",
      "metadata": {},
      "source": [
        "![image.png](data:image/png;base64,iVBORw0KGgoAAAANSUhEUgAAAIoAAACDCAIAAADd6hT7AAAACXBIWXMAAA7EAAAOxAGVKw4bAAADdElEQVR4nO2d25KjMAwFw9b+/y+zD6ao1BJ8Q5KPcffzTGyrc0CQBG/7vn9AlT+jJwA50CMNeqSZTM+2bdu2jZ5FHJPpSaxjaJuuc/t2M93kW2nWs84715Dut1HbwQ03fXTXbcpzzzqgRxr0SPP3yT8bNk59R+f6CXS8/sPVmZynH+kxwVvM9e8rR0x/NrZ3H6mnskzXyj4sWZOqsZLG6CkW5a4c5mWqVDVKUrSebjEBpKGlJIV2bnk3+74r3KQpTiPy2jwoPUUxMdOoJ5+ksBhFpCfjRiQxd+SnFxAjdz15N96jmzDQkK+eu9mLh+ZKZsKuhhz1ZNz4DepKvCGX1uB9Yk7uWganZsE+PS92cxIWI2M9K7hJxBiy1LOOm0SAITM9q7lJeBuyaQ1+zubdYk6Kd+qe4NVYL+LmxGm9Bnqub5zV3CQ8Vm2fnjXdJOSue/jmmyuP9HBYu2JbAb5IJY2lHqKT+FmHvrOAmR7cfGNlyEYPbpww0IObeloDRGsgzVM9RMcV0hNN0/HtkR6i4w3pkaZBD7fXrKivJOmRplYP0bGlsp6kJ4i+Ngo90lTp4chmwn8Bqqkq6ZEGPdKU9XBk86NYW9ITSmv/hh5p0CNNQQ8nHm/yFSY90TSdftAjDXqkQY806JEGPdKgRxr0SIMeadAjDXqkQY806JEGPdKgRxr0SIMeadAjDXqkQU80lj9e5OeJ3uQrTHqkQY806AnF/qkgnH78KNaW9EiDHmnQE4fX89w4/XhQU1XSIw16gvB9lijHN1sq60l6pGnQQ4CsqK8k6ZHG+CH9UIQfL74HdiCRhvSEMuCpIATID5v0YKiGjisT940x18SqGhHbyq6G4TahQZsyr4PQpszc5vHGfgeSlQOkvuN8Yk1DHqv22v1qNUPSe2Yvbshvpb47L65gyLCN/vHiTS+0QrmdkLjuAVvQIw16pGnTw22CPrrr1tYaNL/6TSsxqeb45fjqOcaYX9KoJUSce+7WMEubPvDtFZGeY6R7GbIxGj7nOD2firiIeNKZZ6ieT/UBbYgnwblF6zlGFSuE2nxOxug5xhYoisIcMozUc8ygpX8zmW38iN2M13PypM82/zhDpCxCehLDL4akCiKnJzFEkmApRPWcBHhSroC6nm8MVc2y6pn03DH81osfb9DzYvi0VBr0SIMeaf4B/76e0U+u4dYAAAAASUVORK5CYII=)"
      ]
    },
    {
      "cell_type": "markdown",
      "metadata": {},
      "source": [
        "Modifícá el `4` que es parámetro del último `forward` de tal manera que el círculo quede inscripto en el cuadrado,  es decir.  que quede el siguiente dibujo:"
      ]
    },
    {
      "cell_type": "markdown",
      "metadata": {},
      "source": [
        "![image.png](data:image/png;base64,iVBORw0KGgoAAAANSUhEUgAAAHkAAABwCAIAAAC1l0jWAAAACXBIWXMAAA7EAAAOxAGVKw4bAAADIUlEQVR4nO2d246rMAxF4Wj+/5c5D5FQVYhrO/bOba+n0UzVxKseEyjE53Vdx5Cc51l+GHaGVs6RI7l1H0sYl1x/hkqUCD7/1f5A0T4Eb1XXJBy6xkHXOP6Ur4tdBjgOBsoJWN85JC7loFrXISjnVOL3ra+fL5YHRa7iQa5NluXfWPn65GqUF6QaR7jWiM6w/Hw3jfE83emu5fDAZ4P3cMKs8hI813UtpO4n3D+lZyR41prvPM9hRX+CvESR4lqwPJTogjCrWN3xrqdI5ycA3cGuJxVdqCV4lG7EOfoUom/ydIe5fj0Yjlmgf5KkO8b1ehe7M3QHuJ66RguE6251varoQqzulGPjGqILgbE0uV7mYChjvU5bw+96veOhCUf4kTVkvYy+CQnN6fq1ejRPZmjaKwm/223CpDvG9fJJXWgM0+P668PcRHShpZKYXW++/GiB9dqM+//Y5nrD5ccrvqiZ1ziaXO+Z1G4MrndefjxxhM8agoOucWhds4A8sUpgXuOg6yZMqU3XODyuWax9MK9x0DUOs2sWkC/0QpjXOOgaB13joGscdI2DrnHQNQ66xkHXOOgaB13joGscdI2DrnHQNQ7eE9xK4v3XxA1d46BrHAHPyxAlzOsmOjxzRzRoXX99M88ycvC53ZGhaxwG1ywjn3Te04LIBO+LQwRsrnnjZAG9B1HLqHvCe4LN9NwzbqvURu+FGLWH2nS8hsl73UEgnrnbMLXb906JzOuFdXfe/3rzBQl6T4tNKknUzku43hCTMlBviNRmCmMC2sdMP/YCumsdGNxvmLjH59S6MyYfVq9rumc0ntQYALH/9Vy68zowBK9Dptad3S8ufs03qW5AvzhoH44xyzes/WHWdT5Yo75GhMmEX4TI7Ut6XddrMMjuza/8/Lzn6wF71HUXAN2bX0cUyJvMED0FYXW8o+gD1h9d0zI7qbC4W7OHA3Jd0LTMPoKkj6P4Bur6Ri7iN9mFBXxk7uP60FWV7NHBdHNdUFaV8OG6oHU91AmIm75R8P4QHHSNg65xVF1vfvuHG8HbSacwWENw0DUOusZB1zj+A9uVgPnIzvBkAAAAAElFTkSuQmCC)"
      ]
    },
    {
      "cell_type": "markdown",
      "metadata": {},
      "source": [
        "El argumento de `forward()`  puede ser un número decimal y la búsqueda debe hacerse \"a ojo\"."
      ]
    },
    {
      "cell_type": "code",
      "execution_count": 7,
      "metadata": {
        "id": "DwqgH2_xXzJz"
      },
      "outputs": [],
      "source": [
        "pizarra_vacia()\n",
        "\n",
        "for _ in range(4):\n",
        "    forward(100)\n",
        "    right(90)\n",
        "forward(50)\n",
        "speed(10)\n",
        "for _ in range(90):\n",
        "    forward(4)\n",
        "    right(4)\n",
        "\n",
        "# exitonclick()"
      ]
    },
    {
      "cell_type": "code",
      "execution_count": 8,
      "metadata": {
        "id": "ttevvr1GXzew"
      },
      "outputs": [],
      "source": [
        "pizarra_vacia()\n",
        "\n",
        "for _ in range(4):\n",
        "    forward(100)\n",
        "    right(90)\n",
        "forward(50)\n",
        "speed(10)\n",
        "for _ in range(90):\n",
        "    forward(3.4)\n",
        "    right(4)\n",
        "\n",
        "# exitonclick()"
      ]
    },
    {
      "cell_type": "markdown",
      "metadata": {
        "id": "fIYe2uPHXzpC"
      },
      "source": [
        "**Ejercicio 4.** Ahora dibujaremos triángulos ubicados en diversas formas."
      ]
    },
    {
      "cell_type": "markdown",
      "metadata": {
        "id": "VNc9YFmlFA1t"
      },
      "source": [
        "**4.1)** Agregar la instrucción `left(90)` en algún punto intermedio del código siguiente  para dibujar estos triángulos."
      ]
    },
    {
      "cell_type": "markdown",
      "metadata": {},
      "source": [
        "![image.png](data:image/png;base64,iVBORw0KGgoAAAANSUhEUgAAAHwAAADZCAIAAABtrcO0AAAACXBIWXMAAA7EAAAOxAGVKw4bAAAFa0lEQVR4nO2dy5LbSAwEoY397xl9ufYAmyEtKT6a3V0FoPI0thUxZDoNtCSH5vF6vUzM5R/0BVRE0gFIOgBJByDpACQdgKQDkHQA/1558OPvF3o+dYvzpT8+v358faA44s54kfpG7s90eb9Ml0Wq5K/R8fQi9WfpfmSU92Oape+cGpX8AXdKf0l9G/fHi9RfptdM33+OKu8fdFykSv4s3U8vUn/MoFcZpX6PoS/tatBvM/r1dCW/wZw3MaT+g5nvHEn9H+a/XadBj3mPtHrywDem66qH/2+Aiurh0p1ag55EupVKnke6U0I9m3QnuXpO6U7aQc8s3bImTy7dyaY+hHQnz7QJJN3SJB9LuhNefUTpTmD1caU7IQd9dOkWMfkE0p1I6tNId2KoTybdYR/0KaUbefJZpTuk6nNLd+jUV5DuEA36OtKNJ/lS0h28+oLSHaT6stIdzKAvLt0gyUu6M1W9pL8zSb2krxk+6CV9k7HJS/oOh+obkfRD+n9gmaQf0v/IeOnT6qqxr7v9X4CkbzJKt6PxsmascVPpnwzX7Ui6M0m3I+lTdTvFZzrAuBUuHaPbKSgdqdspJR2v26kz01mMW43SiXQ7uaXT6XaySifV7aSc6dTGLV3p7LqdNNJj6HYSSI+k24k+0+MZt8ilh9TtRJQeWLcTS3p43U6gmZ7EuAUpPY9uh1x6Nt0O83jJadxYS0+r22GTnly3wyO9hG6HZKYXMm4EpdfS7QClV9TtQKTX1e3Mn+nVjdvc0qX7D3OkS/cHo6VL9wZDZ7qMbzOodOne40D68/E0s5/Xz+k/ku5jTpX+fDzNfn9ev39/+Wv2XD1Kus/yeL0OdHjRm7xlLuMXOF6km7Pl7ff3PxJi/zMNinJnkaruRk4dGdexL/N9C9V9wIgfYS8OOF6kyyOfj9+hl5KSzY14tnQZb2Pz7Efydl0tJB3AWenfTutin01vt17w0t/E/9h59v7OhfGyVnzyexRhbeNblJrpAK5JV+zfOJ+5NZSuOX6GfUsdxotiv2qgRbqGzDuXBoujRQqgUbpidxoytzula6OuOemk53ipFnvz/d6SrtjfOW+j8yKtE/udO70rveZGbdufCzoyAuggvVrsNzO3XqVX3qgN9z5qvGSNvct9dZNeM/a2ux64SPPF3uuOekrPvVHv788FHRkBdJaeNfaOmduI0its1Jv3OGO8RI+9+/UPkZ479vt3N2mRxo19xJWPkp5jo/bdnws6MgIYKD167IMyt9GlZ9qoHe9l9niJEvvQ6xwuPUfsfe8CsEj5Yx99hTOkx9qo4/bngo6MACZJjxL7hMxtZukRN+qga0aOF7bYp13PVOnMQ2bOYHG0SAHMls4Z+8zMTaVDAEhni31y5oYqnfn4OOHaWMYLKnbI94VJZxgy8weLw1J6KZDSsbGjMjd46TwbdeaV0I2XObFjD6l46QyxT74GvPQ1ozOEv/BAIX3mRgXuzwUK6dVgkT4ndobMjUe6Ie4ftcOJpK/pGzt8fy5wSZ+ZHvCoyiV9Ta88eTI3QukjNirJ/lygk14BRul9Y2fL3Dil20gvcONGK31NW+xU+3OBV/qIJBkyN2bpa65my5m5kUu/s1EJ9+cCtfSssEtvi505c+OXbj18URm3ENLX7MdOuz8XYki/kypb5hZF+ppvOfNnboGkn9mo5PtzIYz0TESSvh97lMwtlnS74pHWuIWTvsYDD7E/F87/jGkiDhUzZ24JSo9ISOn7IZNnbkGlRyeq9G8582ducaXblt8Qxi209LjElv6edpTMLeg5PTqxSw+KpAOQdACSDkDSAUg6AEkHIOkAJB2ApAOQdACSDkDSAUg6AEkH8B8hBtPaeuIQyQAAAABJRU5ErkJggg==)"
      ]
    },
    {
      "cell_type": "markdown",
      "metadata": {},
      "source": [
        "(el color de cada triángulo es elegido al azar)."
      ]
    },
    {
      "cell_type": "code",
      "execution_count": 9,
      "metadata": {
        "id": "Ew-S2nhKXz1b"
      },
      "outputs": [],
      "source": [
        "pizarra_vacia(velocidad=6)\n",
        "left(90)\n",
        "for _ in range(2):\n",
        "    color(choice(['red','green','blue','yellow','gray','purple', 'black']))\n",
        "    for _ in range(3):\n",
        "        forward(100)\n",
        "        right(120)\n",
        "    right(90)\n",
        "\n",
        "# exitonclick()"
      ]
    },
    {
      "cell_type": "markdown",
      "metadata": {
        "id": "8bXI2gqFGHN6"
      },
      "source": [
        "**4.2)** A continuación se encuentra el código para dibujar un solo triángulo. Modificá el código para hacer un dibujo parecido a este:"
      ]
    },
    {
      "cell_type": "markdown",
      "metadata": {},
      "source": [
        "![image.png](data:image/png;base64,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)"
      ]
    },
    {
      "cell_type": "code",
      "execution_count": 10,
      "metadata": {
        "colab": {
          "base_uri": "https://localhost:8080/",
          "height": 521
        },
        "id": "zyu5IS9CIjWw",
        "outputId": "eab158ec-52d0-4048-ac6b-a6d7da59c84d"
      },
      "outputs": [],
      "source": [
        "pizarra_vacia()\n",
        "left(30)\n",
        "color(choice(['red','green','blue','yellow','gray','purple', 'black']))\n",
        "for _ in range(3):\n",
        "    forward(100)\n",
        "    right(120)\n",
        "\n",
        "# exitonclick()"
      ]
    },
    {
      "cell_type": "code",
      "execution_count": 11,
      "metadata": {},
      "outputs": [],
      "source": [
        "# Solución\n",
        "pizarra_vacia()\n",
        "left(30)\n",
        "for _ in range(4):\n",
        "    left(90)\n",
        "    color(choice(['red','green','blue','yellow','gray','purple', 'black']))\n",
        "    for _ in range(3):\n",
        "        forward(100)\n",
        "        right(120)\n",
        "\n",
        "# exitonclick()"
      ]
    },
    {
      "cell_type": "markdown",
      "metadata": {
        "id": "ZLWjaBSEJNs5"
      },
      "source": [
        "**4.3)** Escribir  el código para hacer el siguiente dibujo."
      ]
    },
    {
      "cell_type": "markdown",
      "metadata": {},
      "source": [
        "![image.png](data:image/png;base64,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)"
      ]
    },
    {
      "cell_type": "markdown",
      "metadata": {},
      "source": [
        "Son diez triángulos con colores elegidos al azar y distribuidos uniformemente."
      ]
    },
    {
      "cell_type": "code",
      "execution_count": 12,
      "metadata": {
        "id": "bBbgQBRwJN4w"
      },
      "outputs": [],
      "source": [
        "pizarra_vacia(velocidad=10)\n",
        "left(30)\n",
        "for n in range(10):\n",
        "    color(choice(['red','green','blue','yellow','gray','purple', 'black']))\n",
        "    for _ in range(3):\n",
        "        forward(100)\n",
        "        right(120)\n",
        "    right(36)\n",
        "\n",
        "# exitonclick()"
      ]
    },
    {
      "cell_type": "markdown",
      "metadata": {
        "id": "EtlExeljKTQI"
      },
      "source": [
        "**4.4)** Escribir  el código para hacer el siguiente dibujo."
      ]
    },
    {
      "cell_type": "markdown",
      "metadata": {},
      "source": [
        "![image.png](data:image/png;base64,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)"
      ]
    },
    {
      "cell_type": "markdown",
      "metadata": {},
      "source": [
        "Son  36 triángulos de colores al azar distribuidos uniformemente.\n",
        "\n",
        "*Ayuda.* Sólo se deben cambiar 2 parámetros de la solución del ejercicio anterior."
      ]
    },
    {
      "cell_type": "code",
      "execution_count": 13,
      "metadata": {
        "id": "RgAMTD7WKTYp"
      },
      "outputs": [],
      "source": [
        "pizarra_vacia(velocidad=10)\n",
        "left(30)\n",
        "for n in range(36):\n",
        "    color(choice(['red','green','blue','yellow','gray','purple', 'black']))\n",
        "    for _ in range(3):\n",
        "        forward(100)\n",
        "        right(120)\n",
        "    right(10)\n",
        "\n",
        "# exitonclick()"
      ]
    },
    {
      "cell_type": "markdown",
      "metadata": {
        "id": "Ee5Kf0kfYv_w"
      },
      "source": [
        "**Ejercicio 5.** Ahora dibujaremos cuadrados ubicados en diversas formas."
      ]
    },
    {
      "cell_type": "markdown",
      "metadata": {
        "id": "jugK1Uv1L0ll"
      },
      "source": [
        "**5.1)** Definir la función `dibujar_cuadrado()`. Esta función recibe un parámetro que es un entero positivo que indica el tamaño del cuadrado. El cuerpo de la función debe tener un `for`.\n",
        "\n",
        "La función se utilizará en algunos incisos de este ejercicio."
      ]
    },
    {
      "cell_type": "code",
      "execution_count": 14,
      "metadata": {},
      "outputs": [],
      "source": [
        "def dibujar_cuadrado(lado):\n",
        "    pass # completar\n",
        "    for _ in range(4):\n",
        "        forward(lado)\n",
        "        right(90)"
      ]
    },
    {
      "cell_type": "markdown",
      "metadata": {
        "id": "kR4c6widMzNV"
      },
      "source": [
        "**5.2)** Ahora usando la función `dibujar_cuadrado()` dibujemos lo siguiente:"
      ]
    },
    {
      "cell_type": "markdown",
      "metadata": {},
      "source": [
        "![image.png](data:image/png;base64,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)"
      ]
    },
    {
      "cell_type": "markdown",
      "metadata": {},
      "source": [
        "Debe hacerse con un `for`. Cada cuadrado tiene 100 unidades de lado y un color elegido al azar. "
      ]
    },
    {
      "cell_type": "code",
      "execution_count": 15,
      "metadata": {},
      "outputs": [],
      "source": [
        "# dibujar\n",
        "pizarra_vacia(velocidad=10)\n",
        "for _ in range(3):\n",
        "    color(choice(['red','green','blue','yellow','gray','purple', 'black']))\n",
        "    dibujar_cuadrado(100)\n",
        "    right(120)\n",
        "\n",
        "# exitonclick()\n"
      ]
    },
    {
      "cell_type": "markdown",
      "metadata": {
        "id": "BMTQ-y3KOF6p"
      },
      "source": [
        "**5.3)**  Cambia el código para dibujar 36 cuadrados, de 100 unidades de lado, y cada uno a 10 grados de distancia. El dibujo que debe quedar es parecido a este:"
      ]
    },
    {
      "cell_type": "markdown",
      "metadata": {},
      "source": [
        "![image.png](data:image/png;base64,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)"
      ]
    },
    {
      "cell_type": "markdown",
      "metadata": {},
      "source": [
        "*Ayuda.* Conviene poner la tortuga a velocidad alta para que no tarde demasiado."
      ]
    },
    {
      "cell_type": "code",
      "execution_count": 16,
      "metadata": {
        "id": "7gQfYYk77tHV"
      },
      "outputs": [],
      "source": [
        "# dibujar\n",
        "pizarra_vacia(velocidad=10)\n",
        "for _ in range(36):\n",
        "    color(choice(['red','green','blue','yellow','gray','purple', 'black']))\n",
        "    dibujar_cuadrado(100)\n",
        "    right(10)\n",
        "\n",
        "# exitonclick()\n"
      ]
    },
    {
      "cell_type": "markdown",
      "metadata": {
        "id": "wLUGOeJCPiby"
      },
      "source": [
        "**Ejercicio 6.** En este ejercicio trabajaremos con rectángulos."
      ]
    },
    {
      "cell_type": "markdown",
      "metadata": {
        "id": "nEly6ZIoYx1t"
      },
      "source": [
        "**6.1)**  Definí la función `dibujar_rectangulo()` que dado dos parámetros `n` y `m`, dibuja un rectángulo de ancho `n` y altura `m`.\n"
      ]
    },
    {
      "cell_type": "code",
      "execution_count": 17,
      "metadata": {
        "id": "PQjMrTiIYyco"
      },
      "outputs": [],
      "source": [
        "def dibujar_rectangulo(n,m):\n",
        "  for _ in range(2):\n",
        "    forward(n)\n",
        "    right(90)\n",
        "    forward(m)\n",
        "    right(90)\n"
      ]
    },
    {
      "cell_type": "markdown",
      "metadata": {
        "id": "8qyhNzzCtP8-"
      },
      "source": [
        "**6.2)** Usando la función anterior dibujá un rectángulo de $600$ x $300$ ubicado en el centro del pizarrón. Recordar que\n",
        "\n",
        "   - de acuerdo a la definición de la función `pizarra_vacia()`, el tamaño del pizarrón es de $800$ (ancho) x $600$ (alto),\n",
        "   - todo punto del pizarrón está determinado por sus coordenadas $(n,m)$, donde $(0,0)$ es el centro del pizarrón, $(400, 300)$ es la esquina superior derecha y $(-400, -300)$  es la esquina inferior izquierda.\n",
        "\n",
        "*Ayuda.* Tenés que  ubicarte primero cerca de la esquina superior izquierda para que el rectángulo se dibuje dentro del pizarrón."
      ]
    },
    {
      "cell_type": "code",
      "execution_count": 18,
      "metadata": {
        "id": "OE5d5khZt0m_"
      },
      "outputs": [],
      "source": [
        "pizarra_vacia(velocidad=10)\n",
        "penup()\n",
        "goto(-300, 150)\n",
        "pendown()\n",
        "dibujar_rectangulo(600, 300)\n",
        "\n",
        "# exitonclick()\n"
      ]
    },
    {
      "cell_type": "markdown",
      "metadata": {
        "id": "9ekQg184vU52"
      },
      "source": [
        "**6.3)** Dado un rectángulo de un rectángulo de $600$ x $300$ ubicado en el centro del pizarrón, elegir un número al azar $k$  con $-300 < k < 300$ y  dibujar una línea roja perpendicular a la base con coordenada $x$ igual a $k$ tal que vaya desde el lado superior del rectángulo al lado inferior.  \n",
        "\n",
        "Por ejemplo, para $k = -120$ dibuja algo así:"
      ]
    },
    {
      "cell_type": "markdown",
      "metadata": {},
      "source": [
        "![image.png](data:image/png;base64,iVBORw0KGgoAAAANSUhEUgAAAmoAAAE+CAIAAACyR6tUAAAACXBIWXMAAA7EAAAOxAGVKw4bAAAFMUlEQVR4nO3cvW6DMBhA0bjK+7+yO/WHRLjcLmnhnAnkhcHS1QcWY855AwCKt1c/AAD8P/IJAJl8AkB2f7gfY7zkOfj7Pj+S2yLAFazPBm2mT+1kz9y5BjirdRO9vAWATD4BIJNPAMgejw59548KfNl+A7A3gFM6fgbI9AkAmXwCQCafAJDJJwBk8gkAmXwCQCafAJDJJwBk8gkAmXwCQCafAJDJJwBk8gkAmXwCQCafAJDJJwBk8gkAmXwCQCafAJDJJwBk8gkAmXwCQCafAJDJJwBk8gkAmXwCQCafAJDJJwBk8gkAmXwCQCafAJDJJwBk8gkAmXwCQCafAJDJJwBk8gkAmXwCQCafAJDJJwBk8gkAmXwCQCafAJDJJwBk8gkAmXwCQCafAJDJJwBk8gkAmXwCQCafAJDJJwBk8gkAmXwCQCafAJDJJwBk8gkAmXwCQCafAJDJJwBk8gkAmXwCQCafAJDJJwBk8gkAmXwCQCafAJDJJwBk8gkAmXwCQCafAJDJJwBk8gkAmXwCQCafAJDJJwBk8gkAmXwCQCafAJDJJwBk8gkAmXwCQCafAJDJJwBk8gkAmXwCQCafAJDJJwBk8gkAmXwCQCafAJDJJwBk8gkAmXwCQCafAJDJJwBk8gkAmXwCQCafAJDJJwBk8gkAmXwCQCafAJDJJwBk8gkAmXwCQCafAJDJJwBk8gkAmXwCQCafAJDJJwBk8gkAmXwCQCafAJDJJwBk8gkAmXwCQCafAJDJJwBk8gkAmXwCQCafAJDJJwBk8gkAmXwCQCafAJDJJwBk8gkAmXwCQCafAJDJJwBk8gkAmXwCQCafAJDJJwBk8gkAmXwCQCafAJDJJwBk8gkAmXwCQCafAJDJJwBk8gkAmXwCQCafAJDJJwBk8gkAmXwCQCafAJDJJwBk8gkAmXwCQCafAJDJJwBk8gkAmXwCQCafAJDJJwBk8gkAmXwCQCafAJDJJwBk8gkAmXwCQCafAJDJJwBk8gkAmXwCQCafAJDJJwBk8gkAmXwCQCafAJDJJwBk8gkAmXwCQCafAJDJJwBk8gkAmXwCQCafAJDJJwBk8gkAmXwCQCafAJDJJwBk8gkAmXwCQCafAJDJJwBk8gkAmXwCQCafAJDJJwBk8gkAmXwCQCafAJDJJwBk8gkAmXwCQCafAJDJJwBk8gkAmXwCQCafAJDJJwBk8gkAmXwCQCafAJDJJwBk8gkAmXwCQCafAJDJJwBk8gkAmXwCQCafAJDJJwBk8gkAmXwCQCafAJDJJwBk8gkAmXwCQCafAJDJJwBk8gkAmXwCQCafAJDJJwBk8gkAmXwCQCafAJDJJwBk8gkAmXwCQCafAJDJJwBk8gkAmXwCQCafAJDJJwBk8gkAmXwCQCafAJDJJwBk8gkAmXwCQCafAJDJJwBk8gkAmXwCQCafAJDJJwBk8gkAmXwCQCafAJDJJwBk8gkAmXwCQCafAJDJJwBk8gkAmXwCQCafAJDJJwBk8gkAmXwCQCafAJDJJwBk8gkAmXwCQCafAJDJJwBk8gkAmXwCQCafAJDJJwBk8gkAmXwCQCafAJDJJwBk8gkAmXwCQCafAJDJJ0tj3MbISwBnJ58c8JxJ4QSuTT5ZmvP3qwDnJZ/8ZK+R2glcmHwCQCafHPA8aBo9gWuTTwDI7ou14XQlHx6GTXsDuDjTJwBk8gkAmXwCQLbJ53Sckh1j5xrgrNZNHJIJAJWXtwCQyScAZPIJAJl8AkAmnwCQyScAZPIJAJl8AkD2DhNNJ3/+pu6BAAAAAElFTkSuQmCC)"
      ]
    },
    {
      "cell_type": "code",
      "execution_count": 19,
      "metadata": {
        "id": "k6jSalKvwWus"
      },
      "outputs": [],
      "source": [
        "pizarra_vacia(velocidad=10)\n",
        "penup()\n",
        "goto(-300, 150)\n",
        "pendown()\n",
        "dibujar_rectangulo(600, 300)\n",
        "k = randint(-299, 299)\n",
        "forward(k + 300)\n",
        "right(90)\n",
        "color('red')\n",
        "forward(300)\n",
        "\n",
        "# exitonclick()"
      ]
    },
    {
      "cell_type": "markdown",
      "metadata": {
        "id": "thotJ4jw1Isr"
      },
      "source": [
        "**6.4)** Dado un rectángulo de  $600$ x $300$ ubicado en el centro del pizarrón, dividir el rectángulo en $4$ rectángulos $300$ x $150$. \n",
        "\n",
        "El dibujo quedaría algo así:"
      ]
    },
    {
      "cell_type": "markdown",
      "metadata": {},
      "source": [
        "![image.png](data:image/png;base64,iVBORw0KGgoAAAANSUhEUgAAAmgAAAFGCAIAAABRw/TFAAAACXBIWXMAAA7EAAAOxAGVKw4bAAAFZklEQVR4nO3cwWoCMRRAUVP8/19OF7ZFxkF7oZ04cM5KnU024fIywTHnvAAAv/OxegEAcCbCCQCBcAJAIJwAEFwffxpjHL8OAHg3u/dntxOnagLAzW4THdUCQCCcABAIJwAEO5eD7vlfITjY5p2KPQgHe3nXx8QJAIFwAkAgnAAQCCcABMIJAIFwAkAgnAAQCCcABMIJAIFwAkAgnAAQCCcABMIJAIFwAkAgnAAQCCcABMIJAIFwAkAgnAAQCCcABMIJAIFwAkAgnAAQCCcABMIJAIFwAkAgnAAQCCcABMIJAIFwAkAgnAAQCCcABMIJAIFwAkAgnAAQCCcABMIJAIFwAkAgnAAQCCcABMIJAIFwAkAgnAAQCCcABMIJAIFwAkAgnAAQCCcABMIJAIFwAkAgnAAQCCcABMIJAIFwAkAgnAAQCCcABMIJAIFwAkAgnAAQCCcABMIJAIFwAkAgnAAQCCcABMIJAIFwAkAgnAAQCCcABMIJAIFwAkAgnAAQCCcABMIJAIFwAkAgnAAQCCcABMIJAIFwAkAgnAAQCCcABMIJAIFwAkAgnAAQCCcABMIJAIFwAkAgnAAQCCcABMIJAIFwAkAgnAAQCCcABMIJAIFwAkAgnAAQCCcABMIJAIFwAkAgnAAQCCcABMIJAIFwAkAgnAAQCCcABMIJAIFwAkAgnAAQCCcABMIJAIFwAkAgnAAQCCcABMIJAIFwAkAgnAAQCCcABMIJAIFwAkAgnAAQCCcABMIJAIFwAkAgnAAQCCcABMIJAIFwAkAgnAAQCCcABMIJAIFwAkAgnAAQCCcABMIJAIFwAkAgnAAQCCcABMIJAIFwAkAgnAAQCCcABMIJAIFwwjJjjDHG6lUAjXDCYtoJ5yKcsMyc8/bB6AknMn627td3uxcAvm0qeTFxAkAinAAQCCcABMIJAMH1+ePHl6LAH7q/jnfbbpsLevYgHOzlJdkX4QT+z8/+VEc4EUe1sJhqwrmYOGEZyYQzMnECQCCcABAIJwAEwgkAgXACQCCcABAIJwAEwgkAgXACQCCcABAIJwAEwgkAgXACQCCcABAIJwAEwgkAgXACQCCcABAIJwAEwgkAgXACQCCcABAIJwAEwgkAgXACQCCcABAIJwAEwgkAgXACQCCcABAIJwAEwgkAgXACQCCcABAIJwAEwgkAgXACQCCcABAIJwAEwgkAgXACQCCcABAIJwAEwgkAgXACQCCcABAIJwAEwgkAgXACQCCcABAIJwAEwgkAgXACQCCcABAIJwAEwgkAgXACQCCcABAIJwAEwgkAgXACQCCcABAIJwAEwgkAgXACQCCcABAIJwAEwgkAgXACQCCcABAIJwAEwgkAgXACQCCcABAIJwAEwgkAgXACQCCcABAIJwAEwgkAgXACQCCcABAIJwAEwgkAgXACQCCcABAIJwAEwgkAgXACQCCcABAIJwAEwgkAgXACQCCcABAIJwAEwgkAgXACQCCcABAIJwAEwgkAgXACQCCcABAIJwAEwgkAgXACQCCcABAIJwAEwgkAgXACQCCcABAIJwAEwgkAgXACQCCcABAIJwAEwgkAgXACQCCcABAIJwAEwgkAgXACQCCcABAIJwAEwgkAgXACQCCcABAIJwAEwgkAgXACQCCcABAIJwAEwgkAgXACQCCcABAIJwAEwgkAgXACQCCcABAIJwAEwgkAgXACQHB9/niMccw6gF32ILwbEycABMIJAIFwAkCwDeecc8k6AODd7DZxKCUA/J6jWgAIhBMAAuEEgEA4ASAQTgAIhBMAAuEEgEA4ASAQTgAIhBMAAuEEgEA4ASAQTgAIhBMAAuEEgOATqfYymXNB9rcAAAAASUVORK5CYII=)"
      ]
    },
    {
      "cell_type": "markdown",
      "metadata": {},
      "source": [
        "Una forma posible de  hacer el ejercicio es dibujar $4$ rectángulos de $300$ x $150$ convenientemente ubicados, uno a uno.  \n"
      ]
    },
    {
      "cell_type": "code",
      "execution_count": 20,
      "metadata": {
        "id": "L6gJnFd91I-U"
      },
      "outputs": [],
      "source": [
        "pizarra_vacia(velocidad=10)\n",
        "penup()\n",
        "goto(-300, 150)\n",
        "pendown()\n",
        "dibujar_rectangulo(300, 150)\n",
        "penup()\n",
        "goto(0, 150)\n",
        "pendown()\n",
        "dibujar_rectangulo(300, 150)\n",
        "penup()\n",
        "goto(-300, 0)\n",
        "pendown()\n",
        "dibujar_rectangulo(300, 150)\n",
        "penup()\n",
        "goto(0, 0)\n",
        "pendown()\n",
        "dibujar_rectangulo(300, 150)\n",
        "\n",
        "\n",
        "# exitonclick()"
      ]
    },
    {
      "cell_type": "markdown",
      "metadata": {
        "id": "zlBN_nDSx5N-"
      },
      "source": [
        "**6.5)** Dado un rectángulo de $600$ x $300$ ubicado en el centro del pizarrón, dividir el rectángulo en rectángulos $60$ x $30$.\n",
        "\n",
        "El dibujo quedaría algo así:"
      ]
    },
    {
      "cell_type": "markdown",
      "metadata": {},
      "source": [
        "![image.png](data:image/png;base64,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)"
      ]
    },
    {
      "cell_type": "markdown",
      "metadata": {},
      "source": [
        "*Ayuda 1.* Para dibujar poner velocidad de dibujo alta, para que no demore mucho.\n",
        "\n",
        "*Ayuda 2.* Este ejercicio es un poco más difícil que los anteriores y una forma de plantearlo  es con  `for` anidados donde el primero va dando  la coordenada $x$ y  el segundo  la coordenada $y$, y  se van dibujando rectángulos de $60$ x $30$ con una esquina en la coordenada $(x, y)$. El  ejercicio anterior puede ayudar a pensar como escribir los `for` anidados."
      ]
    },
    {
      "cell_type": "code",
      "execution_count": 21,
      "metadata": {
        "id": "wMFjOE__x5dR"
      },
      "outputs": [],
      "source": [
        "pizarra_vacia(velocidad=10)\n",
        "for x in range(10):\n",
        "    for y in range(10):\n",
        "        penup()\n",
        "        goto(-300 + x*60, 150 - y*30)\n",
        "        pendown()\n",
        "        dibujar_rectangulo(60, 30)\n",
        "\n",
        "\n",
        "# exitonclick()\n"
      ]
    },
    {
      "cell_type": "markdown",
      "metadata": {
        "id": "QaWIBkeOYymB"
      },
      "source": [
        "**Ejercicio 7.** Practicaremos composición de funciones. Vamos las funciones `dibujar_cuadrado()`, `dibujar_triángulo()`, `dibujar_casa()` y otras más si  resulta conveniente."
      ]
    },
    {
      "cell_type": "markdown",
      "metadata": {
        "id": "lvuiJuykD6Oh"
      },
      "source": [
        "**7.1)** Definir la función `dibujar_triangulo(n)`,  que dibuja un triángulo equilátero de lado `n`."
      ]
    },
    {
      "cell_type": "code",
      "execution_count": 22,
      "metadata": {
        "id": "btqimAETYzES"
      },
      "outputs": [],
      "source": [
        "def dibujar_triángulo(lado):\n",
        "    for _ in range(3):\n",
        "        forward(lado)\n",
        "        right(120)"
      ]
    },
    {
      "cell_type": "markdown",
      "metadata": {
        "id": "MOfOvjdeHF2x"
      },
      "source": [
        "**7.2)** Usando la función `dibujar_triangulo()` dibujar dos triángulos de lado $100$, uno con uno de los vérices apuntado a $45^\\circ$ y  el otro con la base paralela a la base del pizarrón. El dibujo quedaría algo así:"
      ]
    },
    {
      "cell_type": "markdown",
      "metadata": {},
      "source": [
        "\n",
        "![image.png](data:image/png;base64,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)"
      ]
    },
    {
      "cell_type": "markdown",
      "metadata": {},
      "source": [
        "\n",
        "(Las ubicaciones de los triángulos pueden ser totalmente diferentes a las del dibujo)."
      ]
    },
    {
      "cell_type": "code",
      "execution_count": 23,
      "metadata": {
        "id": "tTIAa91SIMHF"
      },
      "outputs": [],
      "source": [
        "pizarra_vacia(velocidad=10)\n",
        "\n",
        "left(180)\n",
        "dibujar_triángulo(100)\n",
        "penup()\n",
        "goto(-150, -80)\n",
        "pendown()\n",
        "right(45)\n",
        "dibujar_triángulo(100)\n",
        "\n",
        "# exitonclick()"
      ]
    },
    {
      "cell_type": "markdown",
      "metadata": {
        "id": "4xuEPsfxKq0q"
      },
      "source": [
        "**7.3)** Hacer el siguiente dibujo utilizando la función `dibujar_triangulo()`."
      ]
    },
    {
      "cell_type": "markdown",
      "metadata": {},
      "source": [
        "![image.png](data:image/png;base64,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)"
      ]
    },
    {
      "cell_type": "markdown",
      "metadata": {},
      "source": [
        "Los triángulos tienen lado $100$. El triángulo negro apunta hacia arriba, el rojo a la izquierda, el azul hacia abajo y el verde a la derecha.  "
      ]
    },
    {
      "cell_type": "code",
      "execution_count": 24,
      "metadata": {
        "id": "rmrQjSl-Kq_U"
      },
      "outputs": [],
      "source": [
        "pizarra_vacia(velocidad=10)\n",
        "color('blue')\n",
        "dibujar_triángulo(100)\n",
        "forward(100)\n",
        "left(90)\n",
        "color('red')\n",
        "dibujar_triángulo(100)\n",
        "forward(100)\n",
        "left(90)\n",
        "color('black')\n",
        "dibujar_triángulo(100)\n",
        "forward(100)\n",
        "left(90)\n",
        "color('green')\n",
        "dibujar_triángulo(100)\n",
        "\n",
        "\n",
        "# exitonclick()"
      ]
    },
    {
      "cell_type": "markdown",
      "metadata": {
        "id": "D3Kf4dDRPuEl"
      },
      "source": [
        "**7.4)** Hacer el siguiente dibujo:"
      ]
    },
    {
      "cell_type": "markdown",
      "metadata": {},
      "source": [
        "![image.png](data:image/png;base64,iVBORw0KGgoAAAANSUhEUgAAAHYAAAE+CAIAAADXuXPzAAAACXBIWXMAAA7EAAAOxAGVKw4bAAAEmUlEQVR4nO3c0W6jMBBAUXvV//9l9mGk3ShQhyRcY4/vfWyjCh2NBgKiddu2YmR/7j6A/EmMJzGexHgS40mM99P4Xa2123GkaX8R/OsU6/tZezcXBZ7EeBLjtU53j3kro1H7vOUU40mMJzGexHgS40mMJzGexHgS40mMJzGexHgS40mMJzGexHgS40mMJzGexHgS40mMJzGexHgS40mMJzGexHgS40mMJzGexHgS40mMJzGexHgS40mMJzGexHgS40mMJzGexHgS40mMJzGexHgS40mMJzGexHgS40mMJzGexHgS40mMJzGexHgS40mMJzGexHgS40mMJzGexHgS40mMJzGexHgS40mMJzGexHgS40mMJzGexHgS40mMJzGexHgS40mMJzGexHgS40mMJzGexHgS40mM93Pyc7VW9DgS5xTjSYwnMZ7EF7dt29NPzp7uzv9Fe+rbKfZK42X1cAw/gHOcf+uNKd62reFYa3WiDzuY4obUvw+3NZ3ox56nuG3377dtRMf5seNFsRc8/Il740zHp7uym8RvxnbxvXHNVw8nutGV3+5c0Idd/AXacd6H3KMQ+jHwNpDQEX6nzQXd42bm4uPc737xstC9b8kvCH3PU4+lFvRtD5bWGeebn92tAD3E49Hc0EMQR1kX9EDEJek4j0UcJYMekThKszfGJS5Zxnlo4mh26AmIo3mhpyGOZlzQkxGXCcd5PuJoIuhZiaMpoOcmjgZf0BmIy9jjnIQ4GhM6FXE0GnRC4micBZ2WuAwzzpmJo9uh8xNHN0KvQhzdsqDXIi53jPNyxFFP6EWJoz7QSxNH9IKWuBR4nCX+30voz/6sxM9d/pagxM9dftH27b/8yBT0DqzEpcAvGLso8Be4l57iPm/HL0rcBzdajrgnbrTWLu7vW9aZ4ltwo/zEN+JGmYlvx43S7uJBfEvKKR4HN0pFPBpulIR4TNwowy4e2bfMPsWD40azEk+BG81HPBFuNNkuns63TDTFM+JGExDPixsNTTw7bjTuLs7hW8ac4jS40VjEyXCjgRZFSt8yyBRnxY1uJs6NG91GvAJudM8uXse39J/ipXCjfsQL4kY9iJfFjfBdvLhvQadY3AghFvexi4nF3XflLtb3sGumWNxG3xKL+7LPicU92Ye7WN/zvT3F4r7bG8TiftZZ4oavuO2+vS7W92XsRduC7WduoCfQOdrPnMR4EuNJjHf2dOeVQ6P2Od8pxpMYT2I8ifEkxpMYT2I8ifEkxpMYT2I8ifEkxpMYT2I8ifEkxpMYT2I8ifEkxpMYT2I8ifEkxpMYT2I8ifEkxpMYT2I8ifEkxpMYT2I8ifEkxpMYT2I8ifEkxpMYT2I8ifEkxpMYT2I8ifEkxpMYT2I8ifEkxpMYT2I8ifEkxpMYT2I8ifEkxpMYT2I8ifEkxpMYT2I8ifEkxpMYT2I8ifEkxpMYT2I8ifEkxpMYT2I8ifEkxpMYT2I8ifEkxpMYT2I8ifEkxpMYT2I8ifEkxpMY7+fk52qt6HEkzinGkxhPYrxfibdt63kcadq7VSnpXBR4EuNJjCcxnsR4fwE6WqbKOKogQQAAAABJRU5ErkJggg==)"
      ]
    },
    {
      "cell_type": "markdown",
      "metadata": {},
      "source": [
        "Tanto los cuadrados como el triángulo tienen lado $100$."
      ]
    },
    {
      "cell_type": "code",
      "execution_count": 25,
      "metadata": {
        "id": "YTmNYU-CPuPy"
      },
      "outputs": [],
      "source": [
        "pizarra_vacia()\n",
        "dibujar_cuadrado(100)\n",
        "left(90)\n",
        "dibujar_triángulo(100)\n",
        "forward(100)\n",
        "dibujar_cuadrado(100)\n",
        "\n",
        "\n",
        "# exitonclick()\n"
      ]
    },
    {
      "cell_type": "markdown",
      "metadata": {
        "id": "YyNZV8WTQ1ib"
      },
      "source": [
        "**7.5)** Dibujar una \"casa\":"
      ]
    },
    {
      "cell_type": "markdown",
      "metadata": {},
      "source": [
        "![image.png](data:image/png;base64,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)"
      ]
    },
    {
      "cell_type": "code",
      "execution_count": 26,
      "metadata": {
        "id": "1HWIUIHoQ1vp"
      },
      "outputs": [],
      "source": [
        "pizarra_vacia()\n",
        "dibujar_cuadrado(100)\n",
        "forward(100)\n",
        "left(180)\n",
        "dibujar_triángulo(100)\n",
        "\n",
        "# exitonclick()"
      ]
    },
    {
      "cell_type": "markdown",
      "metadata": {
        "id": "iIZypcHVRqVA"
      },
      "source": [
        "**7.6)** Ahora definí una función `dibujar_casa()` que tenga un parámetro que determine el tamaño de la casa (los lados del cuadrado). Testear dibujando una casa de tamaño $120$."
      ]
    },
    {
      "cell_type": "code",
      "execution_count": 27,
      "metadata": {
        "id": "Rl29tyWsRqlA"
      },
      "outputs": [],
      "source": [
        "def dibujar_casa(lado):\n",
        "    dibujar_cuadrado(lado)\n",
        "    forward(lado)\n",
        "    left(180)\n",
        "    dibujar_triángulo(lado)\n",
        "\n",
        "pizarra_vacia()\n",
        "dibujar_casa(120)\n",
        "\n",
        "# exitonclick()"
      ]
    },
    {
      "cell_type": "markdown",
      "metadata": {
        "id": "0UW8q5U0S0nY"
      },
      "source": [
        "**7.7)** Dibujá 3 casas contiguas, una de tamaño  $80$, otra de tamaño  $100$ y otra de tamaño  $120$. El dibujo debería ser algo así:"
      ]
    },
    {
      "cell_type": "markdown",
      "metadata": {},
      "source": [
        "![image.png](data:image/png;base64,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)"
      ]
    },
    {
      "cell_type": "code",
      "execution_count": 28,
      "metadata": {
        "id": "bGjijpGfTGnN"
      },
      "outputs": [],
      "source": [
        "pizarra_vacia()\n",
        "dibujar_casa(80)\n",
        "right(90)\n",
        "forward(20)\n",
        "right(90)\n",
        "dibujar_casa(100)\n",
        "right(90)\n",
        "forward(20)\n",
        "right(90)\n",
        "dibujar_casa(120)\n",
        "\n",
        "# exitonclick()"
      ]
    },
    {
      "cell_type": "markdown",
      "metadata": {
        "id": "_MkIMSmaYzQx"
      },
      "source": [
        "**7.8)**  Basado en el código anterior dibujá usando un `for`, $10$  casas contiguas empezando  con tamaño $30$ y agrandando las casas en $10$ unidades."
      ]
    },
    {
      "cell_type": "markdown",
      "metadata": {},
      "source": [
        "![image.png](data:image/png;base64,iVBORw0KGgoAAAANSUhEUgAAA7sAAAEmCAYAAACj/YdCAAAAAXNSR0IArs4c6QAAAARnQU1BAACxjwv8YQUAAAAJcEhZcwAADsMAAA7DAcdvqGQAAEgoSURBVHhe7d1PaF1nfv/xk5/SiRcyNImpGWeTMhAjaBYJWIsZjLQRUSg2VIWCjUxMoVk1IKLFBDXCdmxEF3YwtEMhmypIKKsaRl5Y2ItYNcPgmGbRBozCENI/dt3Wbjq2Mh6Cw/3pc3zO6Orq+XP/nD/POef9gktyryXde8/z3HPP9zzP8znPtLZEAAAAAADUyP9L/gsAAAAAQG1Q7AIAAAAAaodiFwAAAABQOxS7AAAAAIDaIaAKAAAAAErw29/+Nrpx40b8X9m/f380Ojoa/z8GR7ELAAAAAAVTgXv79u3ozTffjP7rv/4rfmxiYiJaWlqK9u3bFw0NDcWPoX9MYwYAAACAgmlEV4Xu/fv3k0fMj6F/FLsAAAAAUDCN7GpE9/vvv08eMT+G/lHsAgAAAECBrl+/Hn3yySfJvZ0ePXoUffjhh9GXX36ZPIJ+UewCAAAAQEE+++yz6KOPPnIWuxcuXIiWl5cpeAdEQBUAAAAAFOTo0aPR5cuXk3tup0+fjk6dOpXcQ68Y2QUAAAAA1A7FLgAAAADk7H//93+jkydPxtOYu7WyshKdPXs2uYdeUewCAAAAQM6UtHzt2rXfXVO33bFjx6Lx8fHk3jat2b1161ZyD72i2AUAAACAHKnAVaGrgtfEVuyK73dhR7ELAAAAADnS1GVNYdZU5nZDQ0PR/v37oz179kTDw8PRCy+8kPzLNtvvwo9iFwAAAABKsG/fvujKlSvR4cOHo7fffju+vi6yQ7ELAAAAADnR9XTPnTuX3NupfWR37969xpFd6SfcClvb97Qu3gQAAAAAyJQK3Y8++ij6xS9+kTyy7ZVXXon+8i//Mvrxj38cPffcc/FjzzzzTPz/X3zxRfTdd9/Fj8mTJ0+ir776Kvr222+jF198MXr55ZeTf4ELI7sAAAAAkAMVu9evX0/u7XTw4MFodnY2HtFNqQB+9913dzzWTn9vfX09uQcfil0AAAAAyND3338fpyjbEpRdU5bbpzabPHr0iLCqLlHsAgAAAECG7t+/H7355pvRjRs3kkd2coVRtYdWmWhatEZ/4UexCwAAAAAZco3szs/Px8Wub2RXoVa6/m4nRna7R7ELAAAAABn58ssv41FbFaUmhw4ditfm+oyOjsbrek02NjaiCxcuWJ8DT1HsAgAAAEBGbIWo1uBOTEzEo7bdUlGsoreTr6DGUxS7AAAAAJAB1xRjTVteXFw0Fq82msb8/vvvJ/d28oVggWIXAAAAADJRZHiULwQLFLsAAAAAMLCzZ8/Gxa5pZFejuRrVtYVSudh+Nx3Z1civrr+L3Sh2AQAAgAGo0Dhz5kx8IzSouW7duhWvpTXROl2t17VdO9fF97ufffaZ9XmbjmIXAAAA6IPWSl67di26ePFidPr06fi2sLAQXbp0KR5xQzOk/cDW5gqZUgLzIHzhVgrFUtGLnZ5pbUn+HwAAAECX7t69Gxcx+m+n1dXV6MiRI8k91JmrH2jq8dzcXDQ7O5s8MpiTJ0/GJ1NMswfU39TvsI2RXQAAAADIgS4P9Pbbbyf3Bpf136s7il0AAACgR5oyqlE222Vmzp07R2hQA/j6gUZ29+7dm9wbnOvv+V5LE1HsAgAAAD24fv16vE5X6zRt1zhV4aFkXgreetM6XVM/UEGqqcsHDx5MHsnO2NhYfP3dTrbX0mQUuwAAAEAP1tfXuypiVRRT7NaXEpCVwGyiYlfX21U4VdbGx8eNxa74wrKahmIXAAAA6JKmiPZyaSEVHyo8dE1U1If6gUbudW3dTkpOVmry0NBQ8kj2bM+h16WpzGtra1wCawvFLgAAANAljdapyOnWjRs3ojfffDO6f/9+8gjqwNUPDh8+HF25ciXat29f8kj2fM/Raz+tK4pdAAAAoEu2kV1NK52fn0/ubWNkt55cI/xljuym9Po2NzeTe81FsQsAAAB4qLC5cOFCtLGxkTyyk4KIdK1VE/2uLhmjNZ6oNl8/cK2nzZpvXTBrxil2AQAAAC9XwTo6OhoXHBppm5iYiEfd2vkKJFSHrx/oGrhFFrtKfJ6enjYWvBS7FLsAAACAk28q8vvvvx8XOCp2FhcX42uhmrimviJ83faDomn6/PHjx5N7OzV9Gj3FLgAAAOCQVcgUoUHVVsWwsaYHpA2d3pL8PwAAAIA2mga6sLAQT1tttVrJo09pBPfv/u7vorGxsWh4eDh+7Pd+7/ei119/PZ6yfOfOnfix1OPHj6Ovv/46+r//+7/4d1AdvfaDoh04cCB6/vnno3/8x39MHnnqyZMncX/7p3/6p3hd+UsvvZT8SzMwsgsAAABYqLj57LPPkns7aW2u1uhqrW7K9Fg7/b1bt24l91AVvfaDomnNri0gTVOZr127Fk9nbhqKXQAAAMBAxY0tVMoWRpVS4WFLyVXRoeJDRQjCN0g/KJLvtegki4r2Jnmm1TkODwAAACA6evRodPny5eTeNqXgTk1NxWFULkpg1tRXBVN10rRTFR/6L8I2aD8okk6kaI3u7du3jSdTtIL11KlTyb36Y2QXAAAA6IEuL6PLz/h0+3OophDbd9++fdGVK1eiw4cPJ480G8UuAAAA0EYjsSdPnrSu0dSInu3yQu1cP+d7DpQvq35QpKGhoXg6s20q88rKSnT27NnkXv1R7AIAAABtXIE+uo5qL0nKSsCdnZ2NC6N2TQ4Nqoos+0HR9PrGx8eTe9uaFpBGsQsAAAAkfOFRtiLCRiFVur5uZ7GbamJoUBVk3Q+K5np9vvdWJxS7AAAAPfr+++/jA8a7d+/GN1MAEarn0aNH0draWjx1tbNNfdNDXVy/qymlH330EX0oIHn1g6Lpmr+madaaln3ixAlriFWdUOwCAAD06P79+3HiqS4vo5tG7lB9KjptbTlI8I/vd13Pi+Ll1Q+K5grQSvdhN27cSB6pJ4pdAACAHrSPiqQju7ZRIFTL5uamtQ3zGtkVjSTSd8KRVz8omitAK52dwsguAAAAfse03q1Ja+Dq6pNPPomuX7+e3NvJt+62W651lBsbG/F1eVX4ojxF9IMi2QLSUq73WwcUuwAAAF1yJZmq0FXBq8IX1WM76FeBMz097SwYuqViV1NLR0dHk0e2qW9pyinFbrmK6AdF0uuem5uLpqam4hHpTnq/6+vryb36odgFAADogqY1ai2f7RqV+ndNZdaUZgqW6vBN5zx+/Hg0Pz+f3BucCt73338/ubdTU6aWhqjoflAkTWVeXFw0nmSROk+jp9gFAADogqYvqtj16fbnEIaQgnqaEhoUoiZv+zoHpFHsAgAAdEEjH92M2OrnFHCD8PkuwaKRPI3EZk0jbBpp6wwPSkcXNfKr6aUojmtkN69+UDT1K9P7YGQXAACgoXQgqOAgBQh1S2v+KFbCp+LGFSymy0ppzWPWtHZyYmLCmuirIlxreFEM33rpvPpB0XSSRYFVJnUNSKPYBQAAcNDBnw6ETcWHDh5NB8EUu+FzhY2pCFUxagr0yYrvOVR8qOhFvtQPlpeXjYVeEf2gaNpf2QLSFhYWokuXLsUngeqCYhcAAMBCI3468NMURxNNC1RwjYnvd1EunYwwhY2pwBkZGYmWlpasgT5ZSEODJicnjem+en3nzp1L7iEvtn4gvmCnKnIFpKUhe3U6yUKxCwAAYKGwGoXWKLymV4P8Lspz+PDh6MqVK9G+ffuSR/KlWQO6HBGA7FHsAgAAWNhGZ9tHfDRSYrokCSO74dJI3srKSnJvJ43satrq0NBQ8ki+1Jds123VCJtG2uoaHlQ2Vz/QZ9sUIlYHvvemGQV1WYZBsQsAAGDgWnfbvpZPa+AUYGPiWu+L8mitrqlNxsfHS0ndHRsbMz6vTpa4ArQwGFc/mJmZcYaIVZn2W1NTU9Hc3Jwxc6BOAWkUuwAAAB10sKdrT5qKXR0odh4Emx4TFbsKvlEADgVv+VQ0qnhUEWlSVrHrel7fa0bvQu0HRdJsgtnZWWc6cx3W7lLsAgAAdHBN4zNNAfRNC9R0ybpMC6wqFTi6nq6uq2s6iFfbDQ8PJ/eKZ5s+nYYGra2t1e6yMGVxBTGV3Q+Kpvdb54A0il0AAADUni8wrOygKF8w1rvvvhvPNkC+mhYYVvf3S7ELAACQ8F16Q1MbbZft0AhJGlploiAc2yVOkD+N7LoCw2wjXEWxjeym1Dc3NzeTe+iXPtuu0K+y+0HRXO/Xt62qYOj0luT/AQAAGu2bb76J3nvvvejevXvJI9tU6GoE5Cc/+UnyyE7PPvts9KMf/SieAvngwYPo66+/Tv7lKT2mf6v7WsAQKWzs448/jr744ovkkW060H/nnXeiN954I3rxxReTR8vzgx/8IO476i8mzz33XPTqq68m99AL9YOf/exn0c9//vPoyZMnyaNPhdYPivbdd9/t+nx8++230VdffRX95je/iV5++eVKbhdGdgEAALb4km9VpCq4xsf1c77nQD7W19etYWOuVNqiqeBSaND09LTx9bgSwuFn6weiba+p4iH0g6K5ArnSkD0FVlURxS4AAMAW25Q9TStVUdTLJUg0gqvpgZ3qMC2warStbcFOoV5LVddtPn78eHJvJ990bJi5+oFvCnkTdDONvooBaRS7AAAADgoMUnCQAoS6penOCn5B+eoW7OQL2oKZqx/4wsGaoK4BaRS7AACg8VyX2ehnZFdTIm2jhRohcYVgIVu2ESlN27SFjYVAr08jvJ0Y2e2Pqx/os8/I7p5oZGQkWlpaMobsaftVMSCNYhcAADSaCl2NWJiKT63f04iGitdeHTx4MF5/2fm7Kla0bvfixYvxGkzkQ4WNa62h2seWnB0C9b1Dhw4l93bSe9PMgS+//DJ5BDZV7wdFUsE7MTERF/4mVVwzThozAAA5UgH1+eefxwel//Zv/xa99NJLcWovwvFXf/VX0dWrV5N7O/34xz+O/uZv/iZOwO2Vkkv/6I/+KE4BNo0oKfn0D//wD7sKvUJvNPJ5+fLleOT2P/7jP5JHt6m4+eM//uPgU41//etfR//6r/8a3b17d0d6sJJzf/nLX0bPP/98vE9pYnpwN+rSD4r2q1/9Krpz586uRHClhP/7v/97nMxcle8yRnYBAMiBphjqQEsHWUePHo1vJ06ciG7fvk0SbyDSNrK1h2sqcrd8U6BVBGt6ILLlCwLT59KWPhsSFWOuAC1dt5l0Zru69IOiuQLSfNs0NBS7AADkQOExCpFRmEzK9BjK42uPLEKmfOFWmj6tadIAgOxR7AIAkAPTqKFvJBHFcrWHRjZU7GY1sqsAHNMIEiO72XOFjak9NVJapTWavte8srISj/Bip7r1g6LZAtJE+6yqhOxR7AIAkDGtz9WIoGmdpuggjGCicvnaSMFACgjKig6qFYRjouAcBejYXgt6o7Y1HYSrPefm5qKpqSlrAE+I0tCgmZkZ4/puvd9bt24l95CqWz8omrbT9PS0M2RPJwtDR7ELAECGdIC1vLzsLF5U7NrSf1EMW4HpSyMdhA4eTSNJvsIb3dNnypW6azpwrwqNtNnCzFR0qPhg1shTde4HRdI+y5VGr5Ms2n+FjGIXAIAMqZDtZkqha4od8qWi0jZ1OM/pjSpWFIhjwhT3waTbT9tXn61OWYSNhWB4eNj4PlTcEYC3TfvWOveDIrlC9qoQkEaxCwAAGiXEUCjCywZTRNhYCFzvgz7kV5d+UCRfyF7oKHYBAMiIznIrLKZbGo2p0iUc6kBtpGLXtM01muu6zEsWbM/hG5mEm29kvC4jeq73wewAf3ASI7u9810+LfSANIpdAAAyYlu/pHV2piReHZiyzq5YrjVmOqDTel3bQV0WfM+hg/TQ18CFxrfmWZ+9sbGx5F71+dac6mRJEwPw1A8WFhaiS5cuxfvWTnXrB0WzrRnXdvflVJSJYhcAgAGpWHUlU9qKXfH9LrLh284KYlECcxF8IVgK1rGNTGE3X9iYLcW4qnxpwip219fXk3vNYesHKVuxhu64tp/vhFOZKHYBABiQa+qcpswpVEYH3jow1ZSwdr5pd8iGr420ls92Tcms6fk0lXlyctI4OqdihfCy7ujg2jQlXdLtnEfYWNl87821XerI9X5903DRPVtAmoQ6jZ5iFwCAHOlstwophXso5ENhHwhL2kZFK+t56yTEsLEQNG27uN5v1QOWQuIK+Ao1II1iFwCAAWik0BUypbPgGr2zjeymbJfKwOC6baOiuZ7X95rx1ObmpnEbFRE2FgIFmpmWSDRtZNfVD5aWlqKRkRFGdjOg/ZVmpLhC9hjZBQCgJhQCc/HiRWPIlA4KFCKjMJmUHtPog9bcdVJxo9EJCt7s6QCs2zYqmgJzTMWK7TVjmyuISSeW8g4bC4GKOVv/9a1hrQv6QbF829TVHmWg2AUAoE8KgbEVp6bC1ldc6QCBYjdbCk5RArOJ6+RDUQgv6126XXSiyXRQXWTYWAj0fk1rd33pxHVhK66a1g+KpELXFrKn9ggpII1iFwCAPmjKnG3ERAcCrinLrumrOpDXgammhGEwaiONlpuuAelroyLZXotev6Yyr62t1X50rhfpdjGFjcnx48cLCxsLgU6WaDqziW9bVZlv2mzT+kGR9B1WlYA0il0AAPqgEUEVUia+MCpXMJHCPRTyobAPDGaQNiqS77W43gfQVKEGIiGsgDSKXQAA+qCz1qbRNo2yKGzKN7KrYtc06sDIbnZsbSRVGNlN6X0ogAf+4C59pmzTwuvMF8hVtwA89YMTJ05Et2/fNo7sNrUfFM0VkKYZKSGE7FHsAgDQA32JK/RF4S8mWo9rm9rVzrWeTM+h0V+tuUPvfG3kWidbFt/6YdZzP6UTQa6wsenpaes2rDOdLJmamorm5uaM71/FYZ32J7Z+kNK+tYn9oGiugDRfGxWFYhcAgB64ClF98fdygKUDVFOqpa9Yg5uvjTSqHmKx6yrWKHbDDxsrW9qHXOnMdVi76+oH2pfagpOQD33mbCd4VeiWHbJHsQsAQJf0xe2aYmyb0mWjAwTX1EPXNFyYZd1GRdP0SwXrmPjeW92p2A89bCwEtgA8bT9NZ646Vz/Q9XR1XV1b8YXsaX9qW7qj77CyA9IodgEA6FLR4VEEE/WuzgFfhJeZhRQ2FgJXAF6d0Q/KE/K2p9gFAKALGk3QqKBpZM13GQYX1+/qrLiKXdMoBsxso5+DtFHRNFJCeNlO+gysrKwk93ZiZHcn28iu+AK+Qkc/CJNv25cZkEaxCwAVlK7pPHPmTHwr60ukSbROzDYVS1/0/a4T8/2ua30adnKtax2kjYqmNXCElz2V7uuWl5eN7znEsLEQjI2NGbeLTpZcunQpWlhYqGQf0r6QfhAm17r5MgPSKHYBoGLaD1ZOnz4d3y5evBhE6mFd6YvaFhal4skUMtUrV3qo2pz2dVMbaRTcVOxm1UZFsr1mX/FXN77iniLHzLVd0j5UpQA87ftcQUf0g/KFGpBGsQsAFaMvi85paKbHkB3bFCx9uU9OTjpDprqlaataZ2f6O7Svn2uanC8ILES+16zpnHWf0eGbtq1tMzw8nNxDJ50o0UkT29RS7U9U+IZO/UDX09V1dU3FEv0gLGoPW0CabSlQnih2AQDok4pTjTplJeu/B1SZL5CrqUFM3fKFBlUlAI9+UC2u9igjZI9iFwAqRGdGbZeO0Fn6siP+68a3TXX2OsvRQtffo33NfNtFUxs1mlBF6guuUC0F9dQ5vMw2sptuF82qMI0g4SmN7LouxaPPzubmZnIvXN2M8NMPwuFqD19b5mHotBZ7AQCCp0JXZ+F/8YtfJI/s9OTJk+irr76Kvv322+jFF1+MXn755eRf0K9vvvkmeu+996J79+4lj2xTEfWnf/qnmW/nZ555JnruueeiL774Ivruu++SR7fb9+jRo9Y1UU3kayONMPzkJz9JHqmWZ599NvrRj34UT9F88OBB9PXXXyf/8pQe07/Vca2iwsY+/vjj+HPQ6fnnn4/++q//OvrhD3+YPAKbtA9dvnzZuu5Z+5tXX301uRcWVz9QQfXOO+9Eb7zxRvydh7Do+8vUbqJ/03dnEe3GyC4AVISKXX3x++jn1tfXk3vol84+u0KhVGAoFCVrCqnS9ELbmXFbGmkTldVGRXO9D982qCKN0tcpbCwEtgA8faeEHHCo7zJbP5iamorm5uaswX4oj/ZXMzMzzpC9ogLSKHYBIHCa7qMD2l4ORPRloilq6I+239ramjEUSmEvOtDK82Db9RyatqpCoOntW3YbFU0juKYp7ioMTdugyuoWNhYCBeAdP348ubdTqH1Ir8cWoEU/CJ+vjVztmyWKXQAInIIcFOigYIduqRjS6CD649p+CntR6IvCX/Liew7at/w2KhrhZWgafb71OUc9FdW+FLsAEDjXyK7O1pvW6zGyOxiFtti2X9kju0L7lt9GRdO0dtcIiSukqyp870P7uqqGjYVA20/fGSYh9aH0tWjmhmnkj35QHdpn2UL21M4qdvMO2aPYBYCAaW2mRnNsU320Dst1AXetiylimlCduNZG+9bTZs21VrPJ7RtSGxVJn/XZ2dld700nwrTmUmsvu1nXH6r0fejkXid9FjS6bTpoRnf02Ziennb2IdO2L5rvtehzQD+oBp1w1LpdnXw00TGOcijyRLELAAGzFTTtXyA6gDF98fsKZZjZCinXgWJeXAf4TW7fkNqoSL5CXtulquF0KmxcIUmuEz/onq8PlR2A5+sH2hfqPaBabAFp4mvzQVHsAkCgVMRomo9J+9Qg15SufsKtmsq3rRTuYpsCmCfad1uobVSkuk5xt4Uk1XFKetlc21RTSnXSpCy+fqDwMu0TUS3aL+vErWkphq3Ns0KxCwCByiKEqJ9wq6aq4rZqWvvSn5sXXlbHsLGyVXGb0g+qr6yQPYpdAAiQ6/IyGs3tjPM3PSbpSJhGBss8Wx86nVk+ceJEdPv2beOooS0IrCi071Oukd2y26govhGuKo7squ/q/Zgwsps93zZdWVnJPTTIhH5Qb5o6bxrZFe2z8gpIo9gFgAC51k3pC7/zQu2mx9rpC6TMdVihUwHlWjPkWm9UBNq3u7C2Jq3l0wmQOoTTqcDRiT3TQa5vfSkGo5MlpnXQ+qwtLy8X3of0vPSDevOF7Om7OGsUuwAQEN8OX1/6Oqg3USHkSj3UAXAeZ02rTgdYtjRI3zYtUpPb13XwHVIbFU37AxW9nbS9FhYWokuXLuVy8JglFbu2BGnbgTGyYSt2RX2oyAA87bu0DzOhH9SH78RFHgFpFLsAEBDXVB5N/9GaF1sAj/5dU10nJyeNXySuKWJNpu1imrKnImpkZCRaWloyFhRFa3L72tpI0u0SQhsVTcWKLbwsz2mBWfCFjamP26Y8IjvDw8PW7exroyz4lmLQD+rHNSXdtYSrXxS7AFAROsuuYten25+Dm4JQFIiiYJSQ0L6oA1/YWFlhNk3j2s5FBMLRD5qn6JA9il0ACIRGYFzx+zq7bZv60871c77naBqdRVYYi4nOOuvss85Ch6Rp7etqI1twV5P4toFG+00jZmXzhY2pyGlyuxZF+xLNFjH1oSJHdhnhbw5f2JimzjOyCwA1pC98U0iSvuy1XskWRmMyNjZmTGq1PUdT2dYHaR2bafuFoknt62qjmZkZZ3BXE+igcWpqKpqbm4vXw3XSCZCs18ANyrcetGlhY2VTH3J9jnSyxLauehC+fqB9nPZ1qCe1r23NeJYhexS7ABAAfenbQpJU7GpKTy8Hf65iTYVQXqmHVeHbBqEXu01o36q3UZF8J8RCCy+zHciq2Gpq2FjZXNtexe76+npyLzu+fqCTWbZiCNWn/bdmcNhC9lwnQnpBsQtgYJpucvfu3fimA1NNS0L3tP20RsUWkqSDj36m0tp+V8+nqa5ra2uZfJFUjYooXU9X19U1FQCaMqfQltDVvX3T91HlNiqatosK304qVkIJL1OfVNua6PU3NWysbL5t72q3ftAPICp4bSF7WU2jp9gFMDCNOmramW4KmlDgBLqn7adi12SQkCTf77qet84UhOLqpzqbrLPNoWty+1aljYpWhe2SdfgMipF1u9EP4JNVQBrFLoC+tY8gpSO7rhEzmGk72kbg8hjZTel5Nzc3k3vNobPErhkIttGx0NS5fbX/cAVtVaWNiubaLr5tWgTXZUV8QVsohkbZTMsD9B2l7/qs+pD2TfQDiK3N05Fd9cmjR4/G+w/1GfVB3U8f8xk6vSX5fwDoyTfffBO999570b1795JHoujJkyfRV199Fe+EeglUaiIdPPzt3/5tdPXq1ejBgwfJo9u0Vkk79VdffTV5pD8/+MEPoq+//tr4HPLcc88N/BxVoZCVjz/+OPriiy+SR7apSHjnnXeiN954I3rxxReTR8NXt/ZVG/3sZz+Lfv7zn8f7k3ZVbaOifffdd7v6+Lfffhvvm3/zm99EL7/8cinbT+szf/nLXyb3dnr99dfjg9pnn302eQRleOmll+K+YwqkUh/6n//5n+jP//zPBzrZpGn1//AP/xDvtzrRD5pHS1L+4A/+IPr7v/9744n/O3fuxGt49d///u//jpaXl6N/+Zd/+d1j2t/pO07fdSaM7ALoi862uVJfbQmq2KaduqYdmraTznRqOuKgATw6IFFwzfT0tDHgSgc0IV6WJC8KWTG9X42QuhJtQ1XH9rW1kej9auojSb12ruAu7XNUcCoYqEi+sDG1p5bBIAxqD9t6WV9buqS/e/HiRWMxTT9oLs1U8oXT6VipM9BMj/mCrCh2AfRMOxXfdCbXdDX4p9LappL1S9etPH78eHJvJ99rqQv1RdsXYtWnztWlfV1tNMiU/qbpZoq76+Awa3o+fV/YwsZ0Yk99GGHQd48CzUx9yNWWPr7f1T6MftBM2g/kFUpGsQugZ90GSxBAYecLSSpSSK8lT+qL6pNNU6X2dbXRIGFtTVOl8DLCxsLE5w11QbELoGe2YIlOGjno5ueaRlM0NXJrGm3L8+ymztabzppr5K8JwWLqi6bRLG0XtUfVudq36iO7rpEm7KaR3ZGRkWhpacm4L9F2Liq8zBeMpX3eIOs/kQ/f7AB9HntZIuHrB9p36XMOZI1iF0BP9OVmWmtjY7tofJNpjYmtqOxm3Uq/XOuhVBD1uw4rdOp7rnWKClLL4+RC0Vztq21gWx8egqa0UZF8+5Ii1nPrObQ+05TvkK43J8gwXK418voO0+yAbvuQvltc/cCWOwAMimIXQE9sxa6+pEwHo92EBzSJDhBsB/Q6KNXBqQ5S8+J7jroFi+kA69KlS9HCwoLxfanP1ukAy9a+aTGpFMsQ29dVjNetjYqmEyCm7VdEsUvYWLX5Tkh024f0udZ3iwn9AJLnCXeKXQBd0RRI7YQ6z8qmFCxhmwrq+90msU390hf+5ORk7iFJKhw0tVFTHE0Fr4LF8j4ALpJv6lzWQWBlU/u6+lCI7av9gvYPtmnWdWujoml6aBnhZbYp6aJ9j07MMCW9GlxTzbvpQ9rnmK6HSj9ASvsLfVf/6le/ig4cOBDfsuobFLsAuqJwG4XcKOymV4P8blMooEUjW0VQ4IiCRxRAApStKQFpIcpz2xM2Vh+uELFB+hD9AJ3U1zQLQLes+gbFLoCuuEZn02AJ26gSI7vbZy1ta3V11jzPEd12OlOqM6a2qcwrKyvGs/BVo9EEjaSbaFvnFQRWNt97C6l91UZlhLU1jfbPRYfT2UZ29VoIG6sWfRZtl4fyjexqX6N9jgkju0il+3vNcGNkF0DhtN7Gte42XROmHZNrPagObE3rfZtABwS29Sg6+BsbG0vuFUfPOz4+ntzb5lpfVSV6H6YDePXVubm5aGpqKu6zdaPPnz6HMzMzwbevrY0kfR91bKOiqc8XFU6Xrg8nbKxeXH3ItOY+7Qe2nADtm/QdBIhpf5/Veu5nWluS/weAXfQlpS8r23obTUPSWfr04EVn87VzWltbsxZ2Oghv0sGOtoO2h7aLtk+n1dXV6MiRI8m9Yp05cyY6ffp0cm+b2kftqva1nbwImQoopcCa1qdqW2ubN0HI7etqIx3w6Ay/DqB1xh+D0/bWKLqmnZpm2WjULotE3Lt378ZFkf7bSf1O+3+KnGry9aH27zJXPxD1AfoBuqHvKttJUdEosE7g6r9GKnYBwGbrQFknxIy3rR1L686dO8lP7rT1hWf8Hd30b03x8OHD1uLionE7DA0NtbYO6ltXr15Nfrp458+fb20VE8bXp9f2+eeftx4/fpz8dHXY+t/evXtbb731VvJT9edqX9fntwi0UfHu3bvXeu2111p79uwxbnvt7wehfYX2Gdp3mP7+VjGU/CSqSvsM7TtM7avvOn3n+foBN25Z3nzfZUxjBoAcKaBFI7omIQRFuYKx6hgsVmQQWAiq+H6b1kZFynufk2fgFcKXhpLRDxASil0AVq5gCU1HU5iAbYqh63Ihmo7iuhxMnWxublrfpy8oqgiuYKwqBotpW4cSBBYC1/v1bau80Ebl8e1zBgkvI2ysGVxtqc+2il1bPwDKQLELwEprIGzBElp35Qqj0hehRmhMBa++BBWIUqUiqh+uQC6ti9NZcB3Yl02BMbOzs9bXUpVgMfXVhYWF6NKlS3Ef66S+WEYQWNls7ZsGE2ndbJHtmz4vbVQebeesw8v0u7YTGPqeIGysHnxt6eoHQBkodgHs4joYlW5TFF0/53uOOrAViSp0FQTjKjCLpNfjSifW+1hfX0/uhUvpr0r/tKWG2w7w6853YqXI9vWd6GpqGxXNtZ19bWSi4saWvqx9iuvEKKopvQoDEDrSmAHs4kpR1BQmFUYq1LqhgyZdw1Frd0xTmspMIs6L3qfer9633n8npeOeOnUquReWo0ePRpcvX07ubVN7q91DnV6qAlcjupoe20lTN7VWcWlpKT7obiIVMFpDp2uqmoqYItqXNgqLTgxpJoRpmYUKVK3tHRkZ6apIte03dIJFJ9E07RX14+pDJunnXP8FeqXvLlNfUwqzK42ZYhfALq5iVwctOnjpdkRSOycdYOtA2zSKW8di11dYVLHYDf2gNcsD9zrynYApon1po7BkefKhqifJMBhXHzJJP+f6L9ArfXeZ+pqv2OXSQwB2uHnzZmvr4Ka1dcC5I9o9vfVz6QjXpQpGR0dbKysryU9Wn2/7zc/PtzY2NpKfDo9e/7Fjx4yvPeRLRtkukaX+pUs7VfHySXkos337vYwZ8qP9uak90ptvf//gwYP4MlFbxYvx9we9lBHC5+tD7Tc+5xiEra/5+hVrdgH8jtaXKqzGtF5LIz86S6+wm17pd7Vm0LS+R2u9lN6odYN14FvvFvo6JwWL2drYtya2LK4ALY0gaGSK0cKnympfVxv51hQjP4OG02k/p/2dadaO1gUTNlZ/vj4ElI1iF42WflFr+pVuTU8QVEiNreh0Faw++l1XoayDqToUu64kUxVbKrqqMH1LbayiqJMv7bho6efXlias96GTC9ipjPa1FU16LSGFtTWNtn+/4XS+E3uEjTWD+hAnqxAyil00lr6gtaZSa9i03ki3Jl8bTuvobCM6KtR0IDRoqITWbdm+ENUeVd/2OjA0XaNS209rEbX+zVRkhEYHqfosmKifaM1MCCeGfK/l+PHj0fz8fHIPqSLbV59nfa5tBRFtVD7tl23XTRV9L3Sus9Zja2trcV/p/Dd9T+j7gtkUzUGbI2QUu2isGzduxCFCCm1JmR5rCp2Z1XRik8OHD8ehEgosGcSHH34YX3vXpM7bPqvtB1SNPs/6XOvzjWrS94K+H9qZHktpP6f9nfZ7aAbaHCEjjRmNpWnLGs3tpDQ3Z6pbTdnSNDUKNDMzk9mIpKZKLi8vG0dAq7zt9X70vvT+OiltenV1NblXDRqN08iNDmg7R25E/UH9Qv2jDBp51OikiijTqKFGCzU9VlPssFtR7etKdqeNwqLPlJYEmJaUdO7Dzpw5E6fKm2h0T0UPo3zNoz6kfYtNU4+vkI2+j9vjmCqgYT799FNrIunevXtbs7OzQSfmZunhw4et8+fPt7YOOI3bI480TVuiXpW3vZJsTe9pfHy8smnTZfSNbtWxDxUt7/ZVG6gt1Camv682RFjU5qa2Uh9RX1Gf0f5M+zXTz3Hj5rptFSOkMaNvtu99X79iGjMaR2ceXem/WoukRFLbKF3d6P1qerHpvWp0J49RF63tMSXkptteqbBVoVFFWxqpKKClrNHPQWl9tYKDXOm9Wa3t7IX6qi0ITK9Zo5V59Nu6ybN90xkcpnRnfe6rEtbWNPrcmGbxqD3T8DJbIBwAhIhiF41z7tw5a6HbTtNSu/m5KvOFQmmaaB6Fmg6mFIiiYBQTTavsPEAOkbZfGnJmKgr0/oaHh5N71WULFtPno4xQNz2vLQgsiyC1pnG1r/aX/bC1kfgCkVAe7e+rEE4HAN2i2AUaLNRQKI3M2cKyQuLbfq5AriqpSrAYQWD9qUs/BQCgE8UuGqOfs9IrKyvW0Ymqc43KFTHy4noOtZWK3dC3vW9k3DZiVjWu9+HbBllTn9Dn0oSR3f642lf7S9PlZVxcbeSb1YHy0UYA6oQ0ZjSGKxVUU7f+8z//07gOqYpJut1wpWl6k+0yZEuBlpC3vfqKbe23CgeNlOlWl7WjZb9fTWvX8+tmWl+utdF6/qqujy5blu1r+0zTRtXh+7yZqH11A7Te37QvKfLYAvVDGjPgcO/evdbi4mLrhRde2JXippsS3mwplKOjo62rV6+2Hj9+nPy16rt586Y1jXr//v2tt956q/XgwYPkp/P1wQcfWNNgQ972tv5S9PYrkvrNxMREa8+ePcb3nme6rpIWt77IjM+r26DJwbAnXaY3X/vqc6rPqz63pt+njarHljJvutG+SNn2JdqHk8aMfvXbr5jGjEawTcXTdEdNe9T0RwUJmaZt9TONL3S2kC6N4ExOThY6hU3X2tRoT5W2vV6PLUCrzlMAfe/NtV0G0c108ToEgZXNNw3c1776d9tSEdqomtRutinuAFAFFLtoNAXZKNBGwTYquBTU0mRlbYOqbfuqBGgVLa/t0pQgsLL5Ar4GaV/aqJpoNwBVR7GL2tMIpu3yGe0juzp77Rqxso1YVInvfbi2QZ6qtu1tI1yuy3bUhdpJo7sa5e2k7bK5uZncy45tZDd9LZqNwOjT4LQfHBkZiZaWlnpuX98sDLUVbVQ9tBuAqqPYRa2p0NVIhKlQUtCKRirav8gPHjwYzc7O7vpy18H2tWvXKn8x/fR9qHDopEJtbGwsuVc837Y3veaiqcC9cOFCHL5hovdgKhLqRAXRxMREfJLIRJ8P0xT5frn+nu+1oHf9tK8e075Rn1N9Xtvp86zPtT4bqCZ9LxAqBqCqSGNGrfWT9OtKbZbTp09Hp06dSu5Vh4rFtbW1uMA3jb5oW2iblMm17bW2d3p6urR0Y9/2U5E7MzPTmINCXV5meXnZmNSqbaHZFJoWq+JpELbUcBVjGtHVNEvbrAD0z9W+nftOV7K72oY2qj4lnfouBVfV70Zkr+/UXMCBNGagzZMnT+IEZiXHqpt33vbu3Rsn5pro91577TVr4uzs7GzlknYfPnwYp1Gb3s/Q0FCcIKwU1bKFvO1tKYDpTf/eNEpfNW0L3XzpiN1QW6vNTX9fKbHIl619tV/VZ1X7WVcbcWvWTf0FENv3ZRbfC2iufvsV05hRSwqyUaCNgm1MXIFI7aFVJpoWrdG9KnG9Zt/7LVIdtz36p7buNxAJ+WkPDKONAAAho9hFLSnIRtNOO9ePietSN5KGVmkapmlKqtZt2kJYQqVQGdtrbg/pKpvvtZS17V0hZ+pHtsCmutPnQ58nE7VTv8Fi6e9q2nhTg8BCYGtf7Vdv374dnThxwtpGAACEgGIXtaM1Zhq1tR2AaU1oN+s+VbzYQlUUUKSgoioc5KlQs4VqmUK6QqCD7PHx8eTeTmVse/UpW8jZ3NxcNDU1ZQ30qTO9f62jVgBRlsFivt9tQhBYCNS+2l+aDNK+AAAUhWIXtWMrhjRa2Gtyqw72TAfVvoI6JLZi11WolE3FrkbfQ9j2KnJd6cshbr8iqR+5TpgoNMIUcmSj4smU6ptSn9BzohjaX2q/GcLMDwAAekUaM2pFBdClS5fiKZCdvGltFrb0Nx0Ean2prksZ4oGgpnJrTZ2mGqp46FSF5Mwyt71v+6m404iupjA3nQpUreHU1FZTkaoTAhoB7yaR19bmmuKuNd26BqyKLxTH174m+nw0+SRQnWmZgakfkMaMFGnMyEO//YpiF7WiEd2FhQXjus5+d7JVPfj2HaBWudgtYttnWcDVXZYnBmxtHvrJpTrzta+JPh+EydWTTiZX9QQqikGxizz03a9U7AJ18MEHH7ReeeWVHXHk6W10dDS+tM7jx4+Tn+6eLrGhy/ZsFTXWv72yspL8dDgUw771wTe+5vn5+dbGxkbyk+Hybfs8L/fj2n66cZmN3XQ5INO20q2bSwXpc6TPk+n31RZcsqJcrvbtvPH5qC9bP6DNkeLSQ8gDlx5CV7R+88yZM/GtKgFL3dJZHdvawEHWnfl+V2s6e1mTWATfutZuQ7rK5tv2rvCtQfi2n9YUj42NJfeQGjRYTNvdFgQWYpBa07jaFwCAEFHsNoSmYWra0cWLF+OpRrppuq/Wt2q6ZpWl7832PnSgbEsU7ZaKLRVdKr5MdCDfzyVW8qCCYXl5ObOQrrK5XrOKXV3jM+tt7ws5m5mZ4aDfYJBgMYLAwkexCwCoGordhjBd83KQ62CGxPU+tJ5SB9+2a4F2S39H6w0nJyeNB9wqumzXYS2aXsvZs2eTezul78NUjITK95qz3vYqxkxrvqWK269oKohs18A1Xf86fUy/o7bspM+btjvCMDw8THsAACqDYhe1ppEkFbtZyfrvITwaKSZYJx8KOVLo140bN5JHzI+10+dNnzuEgfYAAFQJacwNoBFPjZroYNKUKqtRKk3L1IhM1fje2+rqanTkyJHkXja03lnTwDtpmq1GfnUgWNbIh0Z0NYVZU0Y7qZ01Anr48GHrGtiQqa01Dd80+pfltre1b9W3X5E0Uru2thafNDCNkrd/Lu/evRsvM9B/TbQMQdOYEQ61r29GkD5DJPPWk9JQlYraiTZHijRm5IE0Zhh9+umnra0idldyWedtfHw8yERhH1sy2969e1uzs7O5JA67tqkvES5vtpTMqrZvp7y3vbaRtpXp72vbontqC7WJaVuqDdWW+nzqc6rPq+nnuFX3tlX4JD0BdUMaM3xIY0YeSGOG0fr6unEkrJMSbbv5uZBo9FJncky0zk+jSnkkDiugxTYK7gvLyovveV2vuUry2vbp72rk2JTunEXIWdN0EyxmC1IDAADIAsVujWn6YC8HkTrgV6GgwJjQ6b3pYNkUxKSDbB1gDw0NJY9kz/YcaViWpnAWeQCfPq8tpEuhMnXh2/a+6ZUmvt89fvz4wCFnTaN+5wsWswWpAQAAZIFit8Y0sqmCsFta96qgGAXGhM713rSm8sqVK9G+ffuSR7Lne45et32e6haqVUT7AgAAoPoodmtMo1Wm0UVNAzWNUlVtZNc2clrmyG5Kr29zczO5ly+NRmpUUs9pohE20+WSqsq37RUi1cuUfN/202elDlPAy6IAObYfAAAoA2nMNaQiUKOKuplSeZWY+PrrrxsTzVQUaRRQtzzWuw7K9960plOvvYiD6xBei9aX6vlNxV3obTmILLe9Ld2vztuvaK5+apJu+zqdpKmrlZUV6/cMybz1RBozfEhjRh5IY8bvuFJQR0dH48TZmzdvtiYmJlp79uwx/pwSz0LUzXsr2gcffNDaKoaMrynvBF+lX5qeVzdtp7qnHtpSQXXrZtsrDXh+ft74+03YfkWypSiabmz76iCZt3loc/iQxow8kMaMmG8qcjqlUKExCo+xXZPUNU24LN2+t6JpmqsCjEzynBpe9lTuELimaHez7W0hSU3ZfkVimwIAgKJR7NZMViFTIQUspaoUoJXK8zWXHdIVAlf41iDbnhCs7LFNAQBA0Sh2a0SjVBrdNI1mmS4D4ro0iEYNVUiFcmmQXt9b0TSibAv9un37dnTixIm+LonjYhvZ1WtRSFNTRnZV7PYTuKa+rfWGJoxCZo9tCgAAikaxWyMKCbEVVDrQnJiYiA82U6bH2unvacF3CHp9b0VTgNGhQ4eSezup6Lp27VpceGVBBe6FCxeijY2N5JGdDh48WGrhXzTXtte20uhve4BOuv2Wl5eNwToKtypjOnwTaMq5ZiQQ+AUAAIpAGnNNqBC8ePGiMe1UReDk5GR80K+RsE4a4bId+Kto0iihpiCqqCzDIO+tSHqdGn3W9FkVuJ00+jg9PT3wgf7du3fj4k7/7aT2mpmZaVyx5tv2q6ur0ZEjR+L/d20/0baj2M2X9im2k1dygMTOyiCZt3loc/iQxow8kMbccLZ0xL1797beeuut5Kfszp8/39oqFo1/Y6vzlJqeN+h7K9K9e/dar732WmuPJeV60LTKx48ftz7//PPWVpFv/PuhpmgXQX1UfdW0XRYXF1sPHz70bj9uYdzK3uegeyTzNg9tDh/SmJEH0phhpPWMGvX06fbnQhLia1b4jkJ4NBKehyqGdIUgDfNi+wEAADQHxW7FKaTo5MmT1imBWiPXzfRe18/5niMvWb23Iil8R1OrbVO+FYjUb+hX6CFdZXNtgzRwzbb9AAAAUD8UuxWmNbYLCwvRpUuXjOFHWnc4NjaW3PNTsNHs7Oyu65amAUtaN3v9+vXk0fy5gp16fW9F0+tT0FEntVm/oV/6XVvhH0JIV9l828C1/QAAAFA/FLsVpjRepcqaLj8jtoLLRsFJmu7ZWeymNLK4vr6e3MuXClwVuqawIen1vRXN9fp8781ERZotfVnFnYq8sgLEQqPwKdJ+AQAAQBpzG01t1Fq+dIqjiofQpsmmVOBqRFfTfDtpKq3Wji4tLcVFUC9UiGlNo64NayrGNPI7NzeX63bJ670VTSciNPKuKbSdVKBqbe/IyEhXRaot/VInJqampuLpu9jm2vYmab/iGrDF0j7G1EYHSOysDJJ5m4c2hw9pzMhDv/2KYrdNWuil02ZVTIVaRGRZSLVLC/4TJ07Eo4+diiiu8npvRcuyaLcdXBRx8qGKXNveJO1X+i+Ko32MqY04IKoOCp/moc3hQ7GLPPTdr1TsotW6efNma6vo2HHJmK0D3/jSNg8ePEh+KhyK+E9fZ/ttdHS0dfXq1fgSK4PQ9jh27JjxOXTZgTzZ3ptuWx25UrH1tpj09Oa7VJD6nvqg+qLp97WtYObb9u23qvWruuDyFNXHZWiahzaHD/t25KHffsWa3YRpHWU/ayuLoLWztqAojUxppHDQUU8l2iqwysS3VngQrvfmW1McIlvoV8r1fkV9T30wnW3QTuuCQw7pKptv2wMAAKDeKHa3uBJyXcVGWWwFkopBhfNkRX/PdBkXbS9d37bIYlevZXp6unLFi163phlr6rdpiqzery30y3eyJfSQrrJV8eQIAAAAstP4YlfrQnX9Tdu1T/XvWlMWwiVLtJ5WBZCt+Dl+/Hg0Pz+f3Buciildl9TE91p6VfR7K5LvGrg6adC5PlmPra2txX2v89+03leFc+hrlkPAtgIAAGiuxhe7GvlRsVsFCo5SgNaNGzeSR8qT9WsJ6b0VTf1P/bCd6bGUgq0UpnT48OHkEdiwrQAAAJqr8WnMtlTBThqVm5mZiUc7y6CRZY2yqhg0jX5q1FPTfDV1M0sabdUIowovUzpyVtvl7t278RRs/bdTXu+taGrDixcvxlOXOx05ciRaXV1N7kXRmTNn4mRLE41SqnhjtLJ72vbqyzYHSIgsBYmd1Ucyb/PQ5vBh34489N2v4piqBnr48GHr/Pnzra0Caleql+02Pj7eWllZSf5CsXzJsvr3vCjhbKsDGZ9Xt0ETGDc2Nlqzs7OtvXv3Gv9+nu+taNpWpveofqj+qH6pPqa+Zvo5bvnc1L9JiCxev8mKCAfJvM1Dm8OHfTvy0G+/auw0Zq2JVMiSwpa6peAk06hc3lwBWhrdU/qyKfwoK77nUDpzv2ua9d6Wl5eN6c5FvLeiaXTaFvqlawvr2rAa/XUlNAMAAADwa2Sxq2nAmtKoUCQTBQrZElx9v5sHFdimAC0VgyMjI9HS0pI1/CgLacDS5OSkcbvo9Z07dy651xvbexNfsFMVuUK/QgpDAwAAAKqukcWu1r0qDEmhSCYa8X377beTezv5frdIWrep8B2F8BTBtV0AAAAAICSM7LZpH8FUUWe61E3RI7sa9VxZWUnu7aSRXU3x1eVViuAa8dZopOkyOS6u96bRXLWFnrNu6vzeAAAAgFA0Lo1ZayF1WRfT2tsDHWlettQvFXwqhnXLOyHYlno4Pj4eP3/R6dC9bD+f0N5bkbQ+WdtRt27XjWu76Ib+aX15Fn0X2SCxs/ps+3GSeeuLNocP+3bkoe9+FcdUNcTNmzdbWwXUrhQv3fbv39966623Wg8ePEh++unPT0xMtPbs2WP8nTxTgh8/fty6evVqa3R01PjcZaYe2tLQXnjhhdbi4mLr3r17yU+ahfzeimZLtTTdSLocHAmRYaE9qo9k3uahzeHDvh156LdfNWoas0KUTKM6Yppa6ptuqim7nQnCWdBU6du3b0cnTpwwhhXp9QwPDyf3imebPp0GLOm6vK7t4gpiKvu9FU3v1zY1HAAAAED/GnvpoSy8++678TTUrA0SoFUEXzDWINulaSFYhH4BAAAA+WhEseu7pIvrcjAaedPorkZ5O+nvqqizXTqnX4NcGqkIvmAsbZfNzc3k3k6+IKumjXQysgsAAADkoxHFrorHa9euxQVkJxW6GlkzFbOiwm5iYiIu7kwULqRF0VlRAJRtqrWKotnZ2ejgwYPJI+XRa9EIri2gy/Q+9NjFixfjtlCbtAvpvRVtbGys1mFcAAAAQBlqn8asAldrSFWYmUYTV1dXoyNHjiT37DR6u7y8bEzOVaGs9cCa3qvieBBnzpyJEw07qdjWJZE07VWjgaFwbRdtV23flO29id5TaO+tSDph4pshoG1H0uVgSIgMC+1RfSTzNg9tDh/27chD3/0qjqmqMVty19DQUJzArFTgbp0/fz5OHDb9va0NPHDCnJKgZ2dnjX9f6Yeh2vqCM75mJVkrmfnJkyfO98atu5u2MwZDQmRYaI/qI5m3eWhz+LBvRx767VeNDahSuJJCljQa2y1Nd9boY17yCrwqS3vQVt3eGwAAAICw1brY1ZpRTS82UbiSpgb3Mu1Y60pt02x9IVgu6e/aLtnjCtAKgV7f/Px8cm9b+yWUfJcjAgAAAIAs1bbYVaGrkURT8alQJY009pOCqwAlBSl1/q4rBMvH97t6TluAVgi0PQ8dOpTc22mQ7QIAAAAA/cq92FWxqQXFuplSePOiYlfpvya2grUbvkJZC6RNYU02KgJd20VFri3xOCQaJVdq9aABXQAAAACQhdyKXV0jVoWcpt8qOUs3TWfVtNY8C970eW3P4ZqK3C3XFGgl6mpE2XYd2U62686mz6Fp2FW4LI2K8qWlpWhkZKTnqeEHDhzg1nbjhAEAAAAwuNwuPaSCU+FE7cWtCjgFQ6ko0ihgHkzP204junNzcwMVvCqoFbqk4l2jsp1UwE1NTUWLi4vJI3a2GG0VugrQ6rV4LJNvu5ioPTRSjm06+WHaflzWYXBcDiEstEf1qf3Ujp3YX9UXbQ4f9u3IQ7/9KveR3faC0zfqmgXXcyhESYnKeY7sioKYuhnZzTpAq2z9vGZGdnffGNkFAAAABpdLsas1q7pEjy1917WedhC+51WIUpbrXzW9eHx8PLm308bGRnThwgVnArFeb9YBWiFwbRcAAAAAKELmxa4KuOXlZWeh50pKHoStwNRImaZNa9QxSyrqNFJsSkr2Fd5673q9JoMEaIWAYhcAAABA2TIvdlXIKqTJxzWFtx8qKm1ThzVtWetn87h8jwo72zVwXVO59TvaBp1U4A46zToEw8PDtXgfAAAAAKoptzW7RdNIcWhBRwprUljWjRs3kkfMj7XTSLFGhKuuLu8DAAAAQDVlmsasEV1NYdYU3m5oWvHk5GRcFA0yCuh6Xo3magT58OHDuQX/aKR2bW0tLrZNo8urq6vRkSNH4v+/e/duvHZY/zXRel1NY64DbRffVHXSG3cj6TI/JESGhfaoPvZXzUObw4d9O/LQd79SsZuVrYJOhfOu2/j4eOvYsWPGf9t6Ya07d+4kf6E/tufVTf9WBL0HvRfTa9B7//TTT1sbGxut2dnZ1t69e40/18Tb1pdjsgWRsvVnttXgVldXjds2i/0Qekd7VB/7q+ahzeHDvh156LdfZTKNWWtSdV1QjeSZKKxIa1tNfL/r4vtdjZJqFLUIrhCsNJDLF9wFAAAAAMhGJsWupu6ePHnSOGVV05MVVqRiUIWgrsXazvW7Pr7n1bpRXVu3CHo+VwhWt8FdAAAAAIDB5R5QpfW4Kjq1ZvbKlSvRvn37kn/JV/q8AAAAAIDmGbjY1aiqRlddl/3R5XRsI7sphUiZLsVj0+3zFk2XFLJN2QYAAAAAFGOgNObr16/Ha1Ft14vVyKpuWjsrWquqn9fNlJystb36+W6KRVsil+l5i+baLibpay6jOC/KysqKsc1Jb9yNpMv8kBAZFtqj+thfNQ9tDh/27chD3/0qjqnqk5L39CdMt60ntCZjDZqerFTj+fl54++7nrdItsQw0y2U15wn0hu7x7bKDwmRYaE9qo/9VfPQ5vBh3448FJ7GrOnDtlRh35Rl1xRjJSwrXfn7779PHtlJz6tRU1PYk+95ixTSawEAAACApum72H333XfjotPEF0blCo+6ceNG9Oabb0b3799PHtlpkOctUkivBQAAAACaJvORXa23VdiUb2RXxa7pskDdjOz2O6JcJEZ2AQAAAKA8PRe7KjQvXLgQbWxsJI/sdPDgQeu1ZtspPOrQoUPJvZ30HBr9bQ808j2vwq1CS0HWVG2NRJcVlAUAAAAATdVXsdtZiKZU5PZS2Gnkc2JiIh4FbWcqbF3PKz/84Q+j4eHhOKkrlJtSmbU9fv/3fz95lQAAAACAQiRBVV15/Phx6/PPP29tFanGNCylZPVK6VlK0TL9vcXFxdbDhw+9z1v1WxPS6Uhv7B7bKj8kRIaF9qg+9lfNQ5vDh3078lBIGrMvPCpraRhV0c8LAAAAAKi2rovdTz75JHr//feN4VEKnFpcXOxqrW4n1++mlxmyPS8AAAAAACZdF7taK/vZZ58l93bSmlutvdUa3F75ftf1vAAAAAAAmHRV7KrYtKUg20KmeqVkZlKLAQAAAABZ6KrY1XVzNY25ky6tMzk5GU9D1nTkQeiau7r2bi9/R9ewVbF94MCBStwG3UYAAAAAgO70FFDVScWpLgeUlV7/3r59+6IrV65Et27dqsQty20FAAAAALBzFrsKiDp58qR1zaxGdrMcrez17zGyCwAAAAAwcRa7v/3tb6Nr167FScidjh07Fo2NjSX3snPw4MFodnY2LnwBAAAAAOiHtdhVgatCVwWviYrd8fHx5F52FFKl6+tS7AIAAAAA+mUsdh89ehStra3FU5g1lbldOnV40PRllyKeAwAAAABQX8Zi96OPPopHV03SUKjDhw8nj2SviOcAAAAAANSXsdjd3NzcNaKb+vWvfx399Kc/jf7sz/4sOnr0aC63P/mTP4n+4i/+Ivrnf/7n5FkBAAAAAOjermJX19O9fv16cm+3NLTq8uXLud9MwVgAAAAAAPj0XOwCAAAAABA64zRmAAAAAACqjGIXAAAAAFA7FLsAAAAAgNp5prUl+f+Y0pAVDtVpfHw8vpVhY2MjXkvc6cCBA9GtW7fi/1aBtqu2b6eqvY9+2PrV6dOno1OnTiX3IGyr/DT5Mxgi2qP62F81D20OH/btyEPf/UrFbrsjR46o+N1129qJJT9RvNXVVeNr2npTrTt37iQ/Fb66vI9+hNivQsW2yk+TP4Mhoj2qj/1V89Dm8GHfjjz026+YxgwAAAAAqB2KXQAAAABA7VDsAgAAAABqh2IXAAAAAFA7FLsAAAAAgNqh2AUAAAAA1A7FLgAAAACgdih2AQAAAAC1Q7ELAAAAAKgdil0AAAAAQO1Q7AIAAAAAaodiFwAAAABQOxS7AAAAAIDaodgFAAAAANQOxS4AAAAAoHYodgEAAAAAtUOxCwAAAACoHYpdAAAAAEDtUOwCAAAAAGqHYhcAAAAAUDsUuwAAAACA2qHYBQAAAADUDsUuAAAAAKB2KHYBAAAAALVDsQsAAAAAqB2KXQAAAABA7VDsAgAAAABqh2IXAAAAAFA7FLsAAAAAgNp5prUl+f/Y0aNHo8uXLyf3th07diy+leHWrVvR2bNnk3vbXnjhhejDDz+M/1sFdXkf/Th37lz02WefJfe2ldmvQsW2yk+TP4Mhoj2qj/1V89Dm8GHfjjzY+tWBAwfif9N/TboudgEAAAAACIWv2GUaMwAAAACgdih2AQAAAAC1Q7ELAAAAAKidXcXuoUOHoldeeSW5BwAAAABAWPbv3x9NTExEe/bsSR7ZbVdAlVy4cCFOSwMAAAAAIDQqdBcXF5N7ZsZi99GjR/ENAAAAAIDQaETXdykrY7ELAAAAAEB1RdH/B00zgrIKtrt2AAAAAElFTkSuQmCC)"
      ]
    },
    {
      "cell_type": "code",
      "execution_count": 29,
      "metadata": {
        "id": "tskmakVzYzqQ"
      },
      "outputs": [
        {
          "ename": "",
          "evalue": "",
          "output_type": "error",
          "traceback": [
            "\u001b[1;31mEl kernel se bloqueó al ejecutar código en la celda actual o en una celda anterior. \n",
            "\u001b[1;31mRevise el código de las celdas para identificar una posible causa del error. \n",
            "\u001b[1;31mHaga clic <a href='https://aka.ms/vscodeJupyterKernelCrash'>aquí</a> para obtener más información. \n",
            "\u001b[1;31mVea Jupyter <a href='command:jupyter.viewOutput'>log</a> para obtener más detalles."
          ]
        }
      ],
      "source": [
        "pizarra_vacia(velocidad=10)\n",
        "penup()\n",
        "goto(-380, 0)\n",
        "pendown()\n",
        "for x in range(10):\n",
        "    dibujar_casa(30 + x*10)\n",
        "    right(90)\n",
        "    forward(10)\n",
        "    right(90)\n",
        "\n",
        "# exitonclick()"
      ]
    }
  ],
  "metadata": {
    "colab": {
      "provenance": []
    },
    "kernelspec": {
      "display_name": "Python 3",
      "name": "python3"
    },
    "language_info": {
      "codemirror_mode": {
        "name": "ipython",
        "version": 3
      },
      "file_extension": ".py",
      "mimetype": "text/x-python",
      "name": "python",
      "nbconvert_exporter": "python",
      "pygments_lexer": "ipython3",
      "version": "3.10.4"
    }
  },
  "nbformat": 4,
  "nbformat_minor": 0
}
