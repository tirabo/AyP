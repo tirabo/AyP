{
  "cells": [
    {
      "cell_type": "markdown",
      "metadata": {
        "id": "cENPUdKsVYDm"
      },
      "source": [
        "# Input y output\n",
        "\n",
        "Python,  como todo lenguaje de programación de alto nivel, ofrece diversas formas de entrada y salida de datos. Esto incluye manejo local de archivos o  lectura y escritura de archivos remotas. Para esta última opción hay varías formas de las cuales veremos algunas.  "
      ]
    },
    {
      "cell_type": "markdown",
      "metadata": {
        "id": "sp0XGdXMRraU"
      },
      "source": [
        "## 1. Manejo de archivos\n",
        "\n",
        "Hay diferentes tipos de archivos: *archivos de texto* y *archivos binarios*. Los primeros son aquéllos que pueden leerse con Notepad (en Windows) o editores como kate, gedit, vi, emacs, vscode, etc. (en Linux). Un programa Python (o en casi cualquier otro lenguaje de programación) se escribe en un archivo de texto.\n",
        "\n",
        "Los archivos binarios son archivos donde se encuentra codificada en binario información de distinto tipo: imágenes, videos, sonido, programas ejecutables, pero también puede ser texto formateado (.doc por ejemplo).\n",
        "\n",
        "Ambos tipos de archivos se pueden acceder y modificar de manera automática desde un programa Python (o cualquier otro lenguaje). Manipularemos solamente archivos de texto, por ser más sencillo comprender lo que se está haciendo, pero los archivos binarios se manipulan de manera muy similar.\n",
        "\n",
        "Se puede crear un archivo de la siguiente manera:"
      ]
    },
    {
      "cell_type": "code",
      "execution_count": null,
      "metadata": {
        "id": "vekDSGtGQqzW",
        "colab": {
          "base_uri": "https://localhost:8080/"
        },
        "outputId": "03ac220e-b423-450c-e0d8-803386176a1c"
      },
      "outputs": [
        {
          "output_type": "stream",
          "name": "stdout",
          "text": [
            "<class '_io.TextIOWrapper'>\n"
          ]
        }
      ],
      "source": [
        "archivo = open('mi_archivo.txt','w')    # la 'w' significa que el archivo se abre para escritura (writing)\n",
        "                                        # si el archivo ya existía, se borran sus contenidos al momento de abrirse\n",
        "print(type(archivo))\n",
        "archivo.write('hola\\n')                 # escribe una línea en el archivo\n",
        "archivo.write('¿qué tal?\\n')            # escribe una línea en el archivo\n",
        "archivo.write('chau, nos vemos')        # escribe una línea en el archivo\n",
        "archivo.close()                         # cierra el archivo"
      ]
    },
    {
      "cell_type": "markdown",
      "metadata": {
        "id": "-RF4428gT9q1"
      },
      "source": [
        "para revisar lo que se escribió podríamos simplemente abrir el archivo"
      ]
    },
    {
      "cell_type": "code",
      "execution_count": null,
      "metadata": {
        "id": "LC8zmtc_UTzj",
        "colab": {
          "base_uri": "https://localhost:8080/"
        },
        "outputId": "5599adfa-2a7b-4451-c314-85d55c44333b"
      },
      "outputs": [
        {
          "output_type": "stream",
          "name": "stdout",
          "text": [
            "<class 'str'>\n",
            "hola\n",
            "¿qué tal?\n",
            "chau, nos vemos\n"
          ]
        }
      ],
      "source": [
        "archivo = open('mi_archivo.txt','r')     # la 'r' significa que el archivo se abre para lectura (reading)\n",
        "contenido = archivo.read()               # lee todo el archivo\n",
        "print(type(contenido))\n",
        "print(contenido)                         # muestra el contenido del archivo\n",
        "archivo.close()                          # cierra el archivo"
      ]
    },
    {
      "cell_type": "markdown",
      "metadata": {
        "id": "Gbc2Pl9kUkSG"
      },
      "source": [
        "Procesar un archivo tiene 3 etapas:\n",
        "\n",
        "1.   abrir el archivo\n",
        "2.   procesamiento propiamente dicho\n",
        "3.   cerrar el archivo\n",
        "\n",
        "El primer paso es inevitable, no se puede procesar sin abrir. El tercero no, pero si no se lo hace se pueden obtener errores. Es importante recordar cerrar los archivos.\n",
        "\n",
        "Un archivo también puede abrirse para agregar información:"
      ]
    },
    {
      "cell_type": "code",
      "execution_count": null,
      "metadata": {
        "id": "sdIVAOsxVu6H"
      },
      "outputs": [],
      "source": [
        "archivo = open('mi_archivo.txt','a')     # la 'a' significa que el archivo se abre para agregar al final (append)\n",
        "archivo.write('\\nhola de nuevo\\n\\n\\n')   # escribe una línea en el archivo\n",
        "archivo.write('regresé\\n')               # escribe una línea en el archivo\n",
        "archivo.close()                          # cierra el archivo"
      ]
    },
    {
      "cell_type": "code",
      "source": [
        "archivo = open('mi_archivo.txt','r')     # la 'r' significa que el archivo se abre para lectura (reading)\n",
        "contenido = archivo.read()               # lee todo el archivo\n",
        "archivo.close()                          # cierra el archivo\n",
        "print(contenido)                         # muestra el contenido del archivo\n"
      ],
      "metadata": {
        "id": "Hrmq-33scA7N",
        "colab": {
          "base_uri": "https://localhost:8080/"
        },
        "outputId": "f3a158b1-7442-4245-8093-22fa06b7bf34"
      },
      "execution_count": null,
      "outputs": [
        {
          "output_type": "stream",
          "name": "stdout",
          "text": [
            "hola\n",
            "¿qué tal?\n",
            "chau, nos vemos\n",
            "hola de nuevo\n",
            "\n",
            "\n",
            "regresé\n",
            "\n"
          ]
        }
      ]
    },
    {
      "cell_type": "markdown",
      "metadata": {
        "id": "BdDUEY7XY34g"
      },
      "source": [
        "El método `read()` permite cargar todo el archivo de una vez. Eso frecuentemente facilita el procesamiento de su contenido, pero no siempre es lo que uno desea: la  intrucción `read()` carga todo el archivo en memoria y si el archivo es muy grande, por ejemplo de varios Gigabytes, seguramente esto puede ocasionar algún problema durante la ejecución de dicha instrucción.\n",
        "\n",
        "Si queremos limitar la lectura del archivo podemos leer de una vez cierta cantidad de caracteres:"
      ]
    },
    {
      "cell_type": "code",
      "execution_count": null,
      "metadata": {
        "id": "6Iam2LT3ZeMS",
        "colab": {
          "base_uri": "https://localhost:8080/"
        },
        "outputId": "dd4be4a4-5b46-42b2-b362-0ad32e5cd64f"
      },
      "outputs": [
        {
          "output_type": "stream",
          "name": "stdout",
          "text": [
            "hola\n",
            "¿qué tal\n"
          ]
        }
      ],
      "source": [
        "archivo = open('mi_archivo.txt','r')     # la 'r' significa que el archivo se abre para lectura (reading)\n",
        "contenido = archivo.read(13)             # lee el archivo hasta el 13 avo caracter\n",
        "print(contenido)\n",
        "archivo.close()"
      ]
    },
    {
      "cell_type": "markdown",
      "metadata": {
        "id": "ioHn-qlzZcqP"
      },
      "source": [
        "La siguiente vez que se lee, se lee a partir del último caracter leído:"
      ]
    },
    {
      "cell_type": "code",
      "execution_count": null,
      "metadata": {
        "id": "QFtDGClZZ77m",
        "colab": {
          "base_uri": "https://localhost:8080/"
        },
        "outputId": "d559f8cc-9177-42ea-f0a3-7ada820589f4"
      },
      "outputs": [
        {
          "output_type": "stream",
          "name": "stdout",
          "text": [
            "Hasta el 3er caracter: hol\n",
            "5 caracteres desde el 4to: a\n",
            "¿qué tal\n"
          ]
        }
      ],
      "source": [
        "archivo = open('mi_archivo.txt','r')           # la 'r' significa que el archivo se abre para lectura (reading)\n",
        "contenido = archivo.read(3)                    # lee el archivo hasta el 3 avo caracter\n",
        "print('Hasta el 3er caracter:',contenido)      # muestra el contenido de lo leido\n",
        "contenido = archivo.read(10)                    # lee el archivo hasta el 5 avo caracter\n",
        "print('5 caracteres desde el 4to:',contenido)  # muestra el contenido de lo leido\n",
        "archivo.close()                                # cierra el archivo"
      ]
    },
    {
      "cell_type": "code",
      "source": [
        "archivo = open('./sample_data/anscombe.json','r')           # la 'r' significa que el archivo se abre para lectura (reading)\n",
        "contenido = archivo.read(100)\n",
        "cadena = contenido\n",
        "while len(cadena) > 0:\n",
        "    cadena = archivo.read(100)\n",
        "    contenido += cadena\n",
        "    print(cadena)\n",
        "\n",
        "archivo.close()"
      ],
      "metadata": {
        "colab": {
          "base_uri": "https://localhost:8080/"
        },
        "id": "ZHmr65JV-0JW",
        "outputId": "3576c5cf-30b6-4ed9-89a3-f374bd40c123"
      },
      "execution_count": null,
      "outputs": [
        {
          "output_type": "stream",
          "name": "stdout",
          "text": [
            ".0, \"Y\":7.58},\n",
            "  {\"Series\":\"I\", \"X\":9.0, \"Y\":8.81},\n",
            "  {\"Series\":\"I\", \"X\":11.0, \"Y\":8.33},\n",
            "  {\"Series\n",
            "\":\"I\", \"X\":14.0, \"Y\":9.96},\n",
            "  {\"Series\":\"I\", \"X\":6.0, \"Y\":7.24},\n",
            "  {\"Series\":\"I\", \"X\":4.0, \"Y\":4.26}\n",
            ",\n",
            "  {\"Series\":\"I\", \"X\":12.0, \"Y\":10.84},\n",
            "  {\"Series\":\"I\", \"X\":7.0, \"Y\":4.81},\n",
            "  {\"Series\":\"I\", \"X\":5\n",
            ".0, \"Y\":5.68},\n",
            "\n",
            "  {\"Series\":\"II\", \"X\":10.0, \"Y\":9.14},\n",
            "  {\"Series\":\"II\", \"X\":8.0, \"Y\":8.14},\n",
            "  {\"Ser\n",
            "ies\":\"II\", \"X\":13.0, \"Y\":8.74},\n",
            "  {\"Series\":\"II\", \"X\":9.0, \"Y\":8.77},\n",
            "  {\"Series\":\"II\", \"X\":11.0, \"Y\n",
            "\":9.26},\n",
            "  {\"Series\":\"II\", \"X\":14.0, \"Y\":8.10},\n",
            "  {\"Series\":\"II\", \"X\":6.0, \"Y\":6.13},\n",
            "  {\"Series\":\"I\n",
            "I\", \"X\":4.0, \"Y\":3.10},\n",
            "  {\"Series\":\"II\", \"X\":12.0, \"Y\":9.13},\n",
            "  {\"Series\":\"II\", \"X\":7.0, \"Y\":7.26},\n",
            "\n",
            "  {\"Series\":\"II\", \"X\":5.0, \"Y\":4.74},\n",
            "\n",
            "  {\"Series\":\"III\", \"X\":10.0, \"Y\":7.46},\n",
            "  {\"Series\":\"III\", \"\n",
            "X\":8.0, \"Y\":6.77},\n",
            "  {\"Series\":\"III\", \"X\":13.0, \"Y\":12.74},\n",
            "  {\"Series\":\"III\", \"X\":9.0, \"Y\":7.11},\n",
            " \n",
            " {\"Series\":\"III\", \"X\":11.0, \"Y\":7.81},\n",
            "  {\"Series\":\"III\", \"X\":14.0, \"Y\":8.84},\n",
            "  {\"Series\":\"III\", \"X\n",
            "\":6.0, \"Y\":6.08},\n",
            "  {\"Series\":\"III\", \"X\":4.0, \"Y\":5.39},\n",
            "  {\"Series\":\"III\", \"X\":12.0, \"Y\":8.15},\n",
            "  {\n",
            "\"Series\":\"III\", \"X\":7.0, \"Y\":6.42},\n",
            "  {\"Series\":\"III\", \"X\":5.0, \"Y\":5.73},\n",
            "\n",
            "  {\"Series\":\"IV\", \"X\":8.\n",
            "0, \"Y\":6.58},\n",
            "  {\"Series\":\"IV\", \"X\":8.0, \"Y\":5.76},\n",
            "  {\"Series\":\"IV\", \"X\":8.0, \"Y\":7.71},\n",
            "  {\"Series\n",
            "\":\"IV\", \"X\":8.0, \"Y\":8.84},\n",
            "  {\"Series\":\"IV\", \"X\":8.0, \"Y\":8.47},\n",
            "  {\"Series\":\"IV\", \"X\":8.0, \"Y\":7.0\n",
            "4},\n",
            "  {\"Series\":\"IV\", \"X\":8.0, \"Y\":5.25},\n",
            "  {\"Series\":\"IV\", \"X\":19.0, \"Y\":12.50},\n",
            "  {\"Series\":\"IV\", \n",
            "\"X\":8.0, \"Y\":5.56},\n",
            "  {\"Series\":\"IV\", \"X\":8.0, \"Y\":7.91},\n",
            "  {\"Series\":\"IV\", \"X\":8.0, \"Y\":6.89}\n",
            "]\n",
            "\n",
            "\n"
          ]
        }
      ]
    },
    {
      "cell_type": "markdown",
      "metadata": {
        "id": "1sTwmnPcaOm4"
      },
      "source": [
        "Pero la forma más adecuada para leer archivos grandes de texto con líneas,  es línea por línea. Esto es posible hacerlo con la instrucción `readline()`:"
      ]
    },
    {
      "cell_type": "code",
      "execution_count": null,
      "metadata": {
        "id": "NAGgCP8FaUw6",
        "colab": {
          "base_uri": "https://localhost:8080/"
        },
        "outputId": "cd2416c9-57d5-4e07-913b-8ebfa30954c3"
      },
      "outputs": [
        {
          "output_type": "stream",
          "name": "stdout",
          "text": [
            "primera línea: hola\n",
            "segunda línea: ¿qué tal?\n"
          ]
        }
      ],
      "source": [
        "archivo = open('mi_archivo.txt','r')     # la 'r' significa que el archivo se abre para lectura (reading)\n",
        "contenido = archivo.readline()\n",
        "print('primera línea:', contenido, end='')\n",
        "contenido = archivo.readline()\n",
        "print('segunda línea:', contenido, end='')\n",
        "archivo.close()"
      ]
    },
    {
      "cell_type": "markdown",
      "metadata": {
        "id": "e7uyvXYQcj6S"
      },
      "source": [
        "Podemos iterar línea por línea para leer archivos:"
      ]
    },
    {
      "cell_type": "code",
      "execution_count": null,
      "metadata": {
        "id": "6PHZpexzc1T8",
        "colab": {
          "base_uri": "https://localhost:8080/"
        },
        "outputId": "ba992b40-23c9-487a-b3c2-904bd1dbe640"
      },
      "outputs": [
        {
          "output_type": "stream",
          "name": "stdout",
          "text": [
            "hola\n",
            "¿qué tal?\n",
            "chau, nos vemos\n",
            "hola de nuevo\n",
            "\n",
            "\n",
            "regresé\n"
          ]
        }
      ],
      "source": [
        "archivo = open('mi_archivo.txt','r')     # la 'r' significa que el archivo se abre para lectura (reading)\n",
        "linea = archivo.readline()\n",
        "while linea != '':\n",
        "    print(linea, end='')\n",
        "    linea = archivo.readline()\n",
        "archivo.close()"
      ]
    },
    {
      "cell_type": "markdown",
      "metadata": {
        "id": "teBKSm99fnLW"
      },
      "source": [
        "Python ofrece una notación más compacta, y equivalente,  para procesar todas las líneas de un archivo y conciste en iterar sobre el archivo abierto."
      ]
    },
    {
      "cell_type": "code",
      "execution_count": null,
      "metadata": {
        "id": "iWc92UVzgb2o",
        "colab": {
          "base_uri": "https://localhost:8080/"
        },
        "outputId": "ff35c20e-e9b9-4d49-fa4b-97646eba75c5"
      },
      "outputs": [
        {
          "output_type": "stream",
          "name": "stdout",
          "text": [
            "hola\n",
            "¿qué tal?\n",
            "chau, nos vemos\n",
            "hola de nuevo\n",
            "\n",
            "\n",
            "regresé\n",
            "\n",
            "y eso es todo.\n"
          ]
        }
      ],
      "source": [
        "archivo = open('mi_archivo.txt','r')     # la 'r' significa que el archivo se abre para lectura (reading)\n",
        "for linea in archivo:                    # lee el archivo linea por linea\n",
        "    print(linea, end='')\n",
        "print('\\ny eso es todo.')\n",
        "archivo.close()"
      ]
    },
    {
      "cell_type": "markdown",
      "metadata": {
        "id": "AXxNbiTibHuY"
      },
      "source": [
        "## 2. Programación defensiva: comprobando si un archivo existe:\n",
        "\n",
        "Un error típico cuando se quiere abrir un archivo para lectura es que el archivo puede no existir. Peor aún, cuando uno quiere abrir para escritura, si el archivo ya existe se borra. En ambas situaciones puede resultar conveniente chequear si existe antes de abrirlo:"
      ]
    },
    {
      "cell_type": "code",
      "execution_count": null,
      "metadata": {
        "id": "P7dbRGyu0BuN",
        "colab": {
          "base_uri": "https://localhost:8080/"
        },
        "outputId": "dd6f5993-6dad-4be7-8920-33dc6820fc55"
      },
      "outputs": [
        {
          "output_type": "stream",
          "name": "stdout",
          "text": [
            "mi_archivo2.txt no existe.\n",
            "Se puede seguir escribiendo código\n",
            "True\n"
          ]
        }
      ],
      "source": [
        "nombre_de_archivo = 'mi_archivo2.txt'\n",
        "try:\n",
        "    archivo = open(nombre_de_archivo, 'r')\n",
        "    linea = archivo.readline()\n",
        "    while linea != '':\n",
        "        print(linea, end='')\n",
        "        linea = archivo.readline()\n",
        "    archivo.close()\n",
        "except IOError:\n",
        "    print(nombre_de_archivo + ' no existe.')\n",
        "finally:\n",
        "    print('Se puede seguir escribiendo código')\n",
        "print(archivo.closed)"
      ]
    },
    {
      "cell_type": "code",
      "source": [
        "nombre_de_archivo = 'mi_archivo2.txt'\n",
        "try:\n",
        "    archivo = open(nombre_de_archivo, 'r')\n",
        "    archivo.close()\n",
        "except IOError:\n",
        "    res = False"
      ],
      "metadata": {
        "id": "kB4pfWFxCtLL"
      },
      "execution_count": null,
      "outputs": []
    },
    {
      "cell_type": "markdown",
      "metadata": {
        "id": "T92ZCEkTVYD5"
      },
      "source": [
        "Lo  que hemos definido arriba es un manejador de excepciones:  el `try` trata de hacer lo que está en su cuerpo, si lo del cuerpo del `try` falla, es decir se produce una excepción,  entonces se ejecuta el `except`,  que en este caso da un mensaje de error. Pase lo que pase se ejecuta el `finally` que  en el ejemplo imprime un mensaje.   \n",
        "\n",
        "Más precisamente la sentencia `try` funciona de la siguiente manera.\n",
        "\n",
        "1. Primero se ejecuta la cláusula `try` (la(s) sentencia(s) entre las palabras clave `try` y `except`).\n",
        "2. Si no se produce ninguna excepción, se salta la cláusula `except` y se termina la ejecución de la sentencia `try`.\n",
        "3. Si se produce una excepción durante la ejecución de la cláusula `try`, se salta el resto de la cláusula. Entonces, si el tipo de la excepción coincide con la excepción nombrada después de la palabra clave `except`, se ejecuta la cláusula `except`, y luego la ejecución continúa después del bloque try/except.\n",
        "4. Si se produce una excepción que no coincide con la excepción nombrada en la cláusula `except`, se pasa a las sentencias `try` externas, en este caso las que tiene Python.\n",
        "5. Si hay una cláusula `finally`, ésta se ejecutará como la última tarea. La cláusula `finally` se ejecuta tanto si la sentencia `try` produce una excepción como si no."
      ]
    },
    {
      "cell_type": "code",
      "execution_count": null,
      "metadata": {
        "id": "o03k46_Sbitd",
        "colab": {
          "base_uri": "https://localhost:8080/"
        },
        "outputId": "eaa4275c-b39b-4fd4-8e38-df5688de742c"
      },
      "outputs": [
        {
          "output_type": "stream",
          "name": "stdout",
          "text": [
            "\"longitude\",\"latitude\",\"housing_median_age\",\"total_rooms\",\"total_bedrooms\",\"population\",\"households\",\"median_income\",\"median_house_value\"\n",
            "\n",
            "notas.csv no existe.\n"
          ]
        }
      ],
      "source": [
        "def existe_archivo(nombre: str) -> bool:\n",
        "    res = True\n",
        "    try:\n",
        "        archivo = open(nombre_de_archivo, 'r')\n",
        "        archivo.close()\n",
        "    except IOError:\n",
        "        res = False\n",
        "    return res\n",
        "\n",
        "nombre_de_archivo = 'sample_data/california_housing_test.csv'\n",
        "if existe_archivo(nombre_de_archivo):\n",
        "    archivo = open(nombre_de_archivo, 'r')\n",
        "    linea = archivo.readline()\n",
        "    print(linea)\n",
        "    archivo.close()\n",
        "else:\n",
        "    print(nombre_de_archivo + ' no existe.')\n",
        "\n",
        "nombre_de_archivo = 'notas.csv'\n",
        "if existe_archivo(nombre_de_archivo):\n",
        "    archivo = open(nombre_de_archivo, 'r')\n",
        "    linea = archivo.readline()\n",
        "    print(linea)\n",
        "    archivo.close()\n",
        "else:\n",
        "    print(nombre_de_archivo + ' no existe.')\n",
        "\n"
      ]
    },
    {
      "cell_type": "markdown",
      "metadata": {
        "id": "juNqYE_MhZIa"
      },
      "source": [
        "Otra manera es usando el módulo `os.path`"
      ]
    },
    {
      "cell_type": "code",
      "execution_count": null,
      "metadata": {
        "id": "btYnigXqhjXT",
        "colab": {
          "base_uri": "https://localhost:8080/"
        },
        "outputId": "db8659b8-25d9-47f8-fd25-fae3980c396e"
      },
      "outputs": [
        {
          "output_type": "stream",
          "name": "stdout",
          "text": [
            "Archivo de nombre mi_archivo2.txt no existe.\n"
          ]
        }
      ],
      "source": [
        "import os.path\n",
        "\n",
        "nombre_de_archivo = 'mi_archivo2.txt'\n",
        "if os.path.isfile(nombre_de_archivo):\n",
        "    print('Archivo de nombre', nombre_de_archivo, 'existe.')\n",
        "else:\n",
        "    print('Archivo de nombre', nombre_de_archivo, 'no existe.')"
      ]
    },
    {
      "cell_type": "code",
      "source": [
        "dir(os)"
      ],
      "metadata": {
        "id": "OhOITEGSDFCq"
      },
      "execution_count": null,
      "outputs": []
    },
    {
      "cell_type": "markdown",
      "metadata": {
        "id": "hH806h_nVYD7"
      },
      "source": [
        "## 2. Manejo de archivos. Usos y costumbres\n",
        "\n",
        "La forma anterior de leer y escribir archivos es la más directa, pero hay una forma más conveniente, implementada a partir de Python 2.5, que es con el uso del `with`.\n",
        "\n",
        "El uso del `with` asegura que el archivo sea cerrado al finalizar su utilización, incluso si se produce un error (una excepción).\n",
        "\n",
        "Veamos un ejemplo de creación y escritura de un archivo:"
      ]
    },
    {
      "cell_type": "code",
      "source": [
        "with open(\"archivo.txt\", \"w\") as f:\n",
        "    f.write('Hola\\n')\n",
        "    f.write('Adios')\n",
        "print(f.closed)  # True"
      ],
      "metadata": {
        "id": "AAKyvmGk03eW",
        "colab": {
          "base_uri": "https://localhost:8080/"
        },
        "outputId": "8df37f6d-d130-40e4-c09b-dcb1d310f3f5"
      },
      "execution_count": null,
      "outputs": [
        {
          "output_type": "stream",
          "name": "stdout",
          "text": [
            "True\n"
          ]
        }
      ]
    },
    {
      "cell_type": "markdown",
      "source": [
        "Veamos un ejemplo de lectura:"
      ],
      "metadata": {
        "id": "t20AxZGudkuI"
      }
    },
    {
      "cell_type": "code",
      "source": [
        "with open(\"archivo.txt\", \"r\") as f:\n",
        "    content = f.read()\n",
        "print(f.closed)  # True"
      ],
      "metadata": {
        "id": "0m9rS2KoDo88",
        "colab": {
          "base_uri": "https://localhost:8080/"
        },
        "outputId": "3982b5d5-ef77-4d13-cb08-08202180ba8d"
      },
      "execution_count": null,
      "outputs": [
        {
          "output_type": "stream",
          "name": "stdout",
          "text": [
            "True\n"
          ]
        }
      ]
    },
    {
      "cell_type": "code",
      "execution_count": null,
      "metadata": {
        "id": "tpTP1TawVYD7",
        "colab": {
          "base_uri": "https://localhost:8080/"
        },
        "outputId": "377028d8-af09-45ed-9d40-74e3162d8855"
      },
      "outputs": [
        {
          "output_type": "stream",
          "name": "stdout",
          "text": [
            "Hola\n",
            "\n"
          ]
        }
      ],
      "source": [
        "with open('archivo.txt', 'r') as f:\n",
        "    linea_1 = f.readline()\n",
        "print(linea_1)"
      ]
    },
    {
      "cell_type": "code",
      "source": [
        "with open('archivo.txt', 'r') as f:\n",
        "    linea = f.readline()\n",
        "    while linea != '':\n",
        "        print(linea, end='')\n",
        "        linea = f.readline()\n"
      ],
      "metadata": {
        "id": "r5olkP3We3LV",
        "colab": {
          "base_uri": "https://localhost:8080/"
        },
        "outputId": "6ac70b18-fa97-45e1-e34e-91822210b26b"
      },
      "execution_count": null,
      "outputs": [
        {
          "output_type": "stream",
          "name": "stdout",
          "text": [
            "Hola\n",
            "Adios"
          ]
        }
      ]
    },
    {
      "cell_type": "markdown",
      "source": [
        "Como antes,  si el archivo es grande podemos leer línea por línea iterando sobre el objeto de I/O:"
      ],
      "metadata": {
        "id": "fmHHATIFeR78"
      }
    },
    {
      "cell_type": "code",
      "source": [
        "with open('archivo.txt', 'r') as f:\n",
        "    for linea in f:\n",
        "        print(linea)"
      ],
      "metadata": {
        "id": "WfSd00lneYT5",
        "colab": {
          "base_uri": "https://localhost:8080/"
        },
        "outputId": "5a0571ee-9ba0-43af-b246-0706059a90d1"
      },
      "execution_count": null,
      "outputs": [
        {
          "output_type": "stream",
          "name": "stdout",
          "text": [
            "Hola\n",
            "\n",
            "Adios\n"
          ]
        }
      ]
    },
    {
      "cell_type": "markdown",
      "metadata": {
        "id": "se6Q96csVYD7"
      },
      "source": [
        "¿Qué pasa si el archivo no existe?"
      ]
    },
    {
      "cell_type": "code",
      "execution_count": null,
      "metadata": {
        "id": "zQsI4c52VYD8",
        "colab": {
          "base_uri": "https://localhost:8080/",
          "height": 196
        },
        "outputId": "9d610c05-018d-4aaa-af89-e41d43fe17df"
      },
      "outputs": [
        {
          "output_type": "error",
          "ename": "FileNotFoundError",
          "evalue": "[Errno 2] No such file or directory: 'archivo_2.txt'",
          "traceback": [
            "\u001b[0;31m---------------------------------------------------------------------------\u001b[0m",
            "\u001b[0;31mFileNotFoundError\u001b[0m                         Traceback (most recent call last)",
            "\u001b[0;32m<ipython-input-27-d06e6a07491e>\u001b[0m in \u001b[0;36m<cell line: 1>\u001b[0;34m()\u001b[0m\n\u001b[0;32m----> 1\u001b[0;31m \u001b[0;32mwith\u001b[0m \u001b[0mopen\u001b[0m\u001b[0;34m(\u001b[0m\u001b[0;34m'archivo_2.txt'\u001b[0m\u001b[0;34m,\u001b[0m \u001b[0;34m'r'\u001b[0m\u001b[0;34m)\u001b[0m \u001b[0;32mas\u001b[0m \u001b[0mf\u001b[0m\u001b[0;34m:\u001b[0m\u001b[0;34m\u001b[0m\u001b[0;34m\u001b[0m\u001b[0m\n\u001b[0m\u001b[1;32m      2\u001b[0m     \u001b[0mcontenido\u001b[0m \u001b[0;34m=\u001b[0m \u001b[0mf\u001b[0m\u001b[0;34m.\u001b[0m\u001b[0mread\u001b[0m\u001b[0;34m(\u001b[0m\u001b[0;34m)\u001b[0m\u001b[0;34m\u001b[0m\u001b[0;34m\u001b[0m\u001b[0m\n\u001b[1;32m      3\u001b[0m \u001b[0mprint\u001b[0m\u001b[0;34m(\u001b[0m\u001b[0mcontenido\u001b[0m\u001b[0;34m)\u001b[0m\u001b[0;34m\u001b[0m\u001b[0;34m\u001b[0m\u001b[0m\n",
            "\u001b[0;31mFileNotFoundError\u001b[0m: [Errno 2] No such file or directory: 'archivo_2.txt'"
          ]
        }
      ],
      "source": [
        "with open('archivo_2.txt', 'r') as f:\n",
        "    contenido = f.read()\n",
        "print(contenido)"
      ]
    },
    {
      "cell_type": "markdown",
      "metadata": {
        "id": "KcxyREaeVYD8"
      },
      "source": [
        "Si queremos que aunque el archivo no existe el programa siga (algo que no es muy usual), podemos mezclar el `with` con las instrucciones que habíamos visto usando la biblioteca  `os`."
      ]
    },
    {
      "cell_type": "code",
      "execution_count": null,
      "metadata": {
        "id": "eGPxs4vfVYD8"
      },
      "outputs": [],
      "source": [
        "import os.path\n",
        "contenido = ''\n",
        "nombre_de_archivo = 'archivo_2.txt'\n",
        "if os.path.isfile(nombre_de_archivo):\n",
        "    with open(nombre_de_archivo, 'r') as f:\n",
        "        contenido = f.read()\n",
        "\n",
        "print(contenido)"
      ]
    },
    {
      "cell_type": "markdown",
      "metadata": {
        "id": "lTq5YuePVYD8"
      },
      "source": [
        "O, más convenientemente,  usar excepciones:"
      ]
    },
    {
      "cell_type": "code",
      "execution_count": null,
      "metadata": {
        "id": "X6zABfaZVYD8",
        "colab": {
          "base_uri": "https://localhost:8080/"
        },
        "outputId": "cebadb1b-0b1b-4171-b2e4-8793c2cbeabd"
      },
      "outputs": [
        {
          "output_type": "stream",
          "name": "stdout",
          "text": [
            "archivo_2.txt no existe.\n",
            "True\n"
          ]
        }
      ],
      "source": [
        "nombre_de_archivo = 'archivo_2.txt'\n",
        "try:\n",
        "    with open(nombre_de_archivo, 'r') as f:\n",
        "        contenido = f.read()\n",
        "except IOError:\n",
        "    print(nombre_de_archivo + ' no existe.')\n",
        "\n",
        "print (f.closed)"
      ]
    },
    {
      "cell_type": "markdown",
      "metadata": {
        "id": "9LnTiXfbirmd"
      },
      "source": [
        "# 3. Lectura de carpetas o directorios\n",
        "\n",
        "Podemos desear procesar una carpeta y saber los archivos que contiene. Lo podemos hacer de la siguiente manera:"
      ]
    },
    {
      "cell_type": "code",
      "execution_count": null,
      "metadata": {
        "id": "g7Z15Sogj5pM",
        "colab": {
          "base_uri": "https://localhost:8080/"
        },
        "outputId": "6fccb6b0-7ceb-4e43-86cc-a669817fdcfa"
      },
      "outputs": [
        {
          "output_type": "stream",
          "name": "stdout",
          "text": [
            "El directorio actual es: /content\n",
            "Devuelve un objeto iterable: <posix.ScandirIterator object at 0x7b4edb81eb10> \n",
            "\n",
            "<DirEntry '.config'>\n",
            "<DirEntry 'archivo.txt'>\n",
            "<DirEntry 'mi_archivo.txt'>\n",
            "<DirEntry 'sample_data'>\n"
          ]
        }
      ],
      "source": [
        "import os\n",
        "\n",
        "print('El directorio actual es:', os.getcwd())\n",
        "\n",
        "nombres = os.scandir('.')   # '.' es la carpeta actual, donde \"estamos parados\"\n",
        "print('Devuelve un objeto iterable:',nombres, '\\n')\n",
        "for nombre in nombres:\n",
        "    print(nombre)\n"
      ]
    },
    {
      "cell_type": "code",
      "source": [
        "nombres = os.scandir('..')   # '..' es la carpeta precedente a la actual.\n",
        "print('Devuelve un objeto iterable:',nombres, '\\n')\n",
        "for nombre in nombres:\n",
        "    print(nombre)\n"
      ],
      "metadata": {
        "id": "4-EVLmlwfP_a",
        "colab": {
          "base_uri": "https://localhost:8080/"
        },
        "outputId": "47fc8058-60bb-44e6-fbd5-a196aeb27a7f"
      },
      "execution_count": null,
      "outputs": [
        {
          "output_type": "stream",
          "name": "stdout",
          "text": [
            "Devuelve un objeto iterable: <posix.ScandirIterator object at 0x7b4edb81e9c0> \n",
            "\n",
            "<DirEntry 'run'>\n",
            "<DirEntry 'libx32'>\n",
            "<DirEntry 'proc'>\n",
            "<DirEntry 'lib'>\n",
            "<DirEntry 'dev'>\n",
            "<DirEntry 'boot'>\n",
            "<DirEntry 'opt'>\n",
            "<DirEntry 'tmp'>\n",
            "<DirEntry 'root'>\n",
            "<DirEntry 'mnt'>\n",
            "<DirEntry 'lib64'>\n",
            "<DirEntry 'lib32'>\n",
            "<DirEntry 'usr'>\n",
            "<DirEntry 'sys'>\n",
            "<DirEntry 'sbin'>\n",
            "<DirEntry 'etc'>\n",
            "<DirEntry 'home'>\n",
            "<DirEntry 'var'>\n",
            "<DirEntry 'media'>\n",
            "<DirEntry 'bin'>\n",
            "<DirEntry 'srv'>\n",
            "<DirEntry 'content'>\n",
            "<DirEntry 'kaggle'>\n",
            "<DirEntry '.dockerenv'>\n",
            "<DirEntry 'datalab'>\n",
            "<DirEntry 'tools'>\n",
            "<DirEntry 'NGC-DL-CONTAINER-LICENSE'>\n",
            "<DirEntry 'cuda-keyring_1.0-1_all.deb'>\n"
          ]
        }
      ]
    },
    {
      "cell_type": "code",
      "source": [
        "nombres = os.scandir('../content/sample_data')   #\n",
        "print('Devuelve un objeto iterable:',nombres, '\\n')\n",
        "for nombre in nombres:\n",
        "    print(nombre)"
      ],
      "metadata": {
        "id": "v1jrCkbXfS36"
      },
      "execution_count": null,
      "outputs": []
    },
    {
      "cell_type": "markdown",
      "metadata": {
        "id": "rdFSRXSbVYD9"
      },
      "source": [
        "También podemos poner el nombre específico de una carpeta:"
      ]
    },
    {
      "cell_type": "code",
      "execution_count": null,
      "metadata": {
        "id": "UDmHcPehVYD9"
      },
      "outputs": [],
      "source": [
        "import os\n",
        "nombre_de_carpeta = 'sample_data'\n",
        "nombres = os.scandir(nombre_de_carpeta)\n",
        "# print(nombres)\n",
        "for nombre in nombres:\n",
        "    print(nombre)"
      ]
    },
    {
      "cell_type": "markdown",
      "metadata": {
        "id": "eCmAAbSCVYD9"
      },
      "source": [
        "Si  la carpeta no existe obtendremos una excepción."
      ]
    },
    {
      "cell_type": "markdown",
      "metadata": {
        "id": "c-DBWojhVYD9"
      },
      "source": [
        "## 4. Creación de carpetas\n",
        "\n",
        "Hay diferentes métodos disponibles en el módulo `os` para crear un directorio, pero nosotros solo explicaremos `os.mkdir()`\n",
        "\n",
        "El método `os.mkdir()` en Python se utiliza para crear un directorio en la ruta indicada. Este método devuelve  una excepción `FileExistsError` si el directorio a crear ya existe.\n",
        "\n",
        "Veamos un ejemplo:"
      ]
    },
    {
      "cell_type": "code",
      "execution_count": null,
      "metadata": {
        "id": "lfpKY2pEVYD-",
        "colab": {
          "base_uri": "https://localhost:8080/"
        },
        "outputId": "2cf60e6f-6524-497c-ef67-60921703ef4b"
      },
      "outputs": [
        {
          "output_type": "stream",
          "name": "stdout",
          "text": [
            "../mi_carpeta/\n"
          ]
        }
      ],
      "source": [
        "import os\n",
        "\n",
        "directorio = 'mi_carpeta/'     # Directorio a crear\n",
        "parent_dir = \"..\"    # Directorio precedente al actual\n",
        "\n",
        "path = os.path.join(parent_dir, directorio) # ruta completa. Más \"robusto\" que pegar cadenas.\n",
        "print(path)\n",
        "\n",
        "os.mkdir('mi_carpeta')"
      ]
    },
    {
      "cell_type": "code",
      "source": [
        "nombres = os.scandir('.')\n",
        "# print(nombres)\n",
        "for nombre in nombres:\n",
        "    print(nombre)"
      ],
      "metadata": {
        "id": "UctTSsfOM6dr",
        "colab": {
          "base_uri": "https://localhost:8080/"
        },
        "outputId": "ae7f9b68-a705-49e0-f4f3-7be2e11384d2"
      },
      "execution_count": null,
      "outputs": [
        {
          "output_type": "stream",
          "name": "stdout",
          "text": [
            "<DirEntry '.config'>\n",
            "<DirEntry 'archivo.txt'>\n",
            "<DirEntry 'mi_carpeta'>\n",
            "<DirEntry '.ipynb_checkpoints'>\n",
            "<DirEntry 'mi_archivo.txt'>\n",
            "<DirEntry 'sample_data'>\n"
          ]
        }
      ]
    },
    {
      "cell_type": "markdown",
      "metadata": {
        "id": "iLis_IBXVYD-"
      },
      "source": [
        "Si ejecutamos la celda anterior más de una vez obtenemos un error, pues el directorio `mi_carpeta` ya está creado.\n",
        "\n",
        "Podemos remover un directorio vacío con la instrucción `os.rmdir`:"
      ]
    },
    {
      "cell_type": "code",
      "execution_count": null,
      "metadata": {
        "id": "0_PQfLigVYD-"
      },
      "outputs": [],
      "source": [
        "os.rmdir('mi_carpeta')"
      ]
    },
    {
      "cell_type": "markdown",
      "metadata": {
        "id": "eQJDIqDoVYD-"
      },
      "source": [
        "Podemos remover archivos con la instrucción `os.remove`:"
      ]
    },
    {
      "cell_type": "code",
      "execution_count": null,
      "metadata": {
        "id": "JWMpWV0cVYD-"
      },
      "outputs": [],
      "source": [
        "os.remove('mi_archivo.txt')"
      ]
    },
    {
      "cell_type": "markdown",
      "metadata": {
        "id": "9PjAeZrxVYD_"
      },
      "source": [
        "Las instrucciones del módulo `os` nos permiten hacer un completo manejo del sistema de archivos. Hay otro módulos que  ayudan al manejo de archivos,  como ser `pathlib` y `shutil`,  que no explicaremos en esta clase."
      ]
    },
    {
      "cell_type": "markdown",
      "metadata": {
        "id": "3mv4KtnFYaKn"
      },
      "source": [
        "## 5. Lectura de archivos en la red\n",
        "\n",
        "Para leer un archivo en la red hay,  como suele ocurrir  en Python,  varias forma de hacerlo. Nosotros lo haremos, por lo menos en este lección,  con la biblioteca `requests`.\n",
        "\n",
        "La biblioteca `requests` es el estándar de facto para hacer peticiones HTTP en Python. Abstrae las complejidades de hacer peticiones detrás de una agradable y sencilla API que nos permite centrarnos en interactuar con los servicios y consumir datos en nuestras aplicaciones.\n",
        "\n",
        "A lo largo de esta sección veremos algunas de las características más útiles que `requests` tiene para ofrecer, así como la forma de personalizar y optimizar esas características para diferentes situaciones que podamos encontrar.\n"
      ]
    },
    {
      "cell_type": "markdown",
      "metadata": {
        "id": "fFq-GTyUVYD_"
      },
      "source": [
        "**Empezar con `requests`**\n",
        "\n",
        "Comencemos por instalar la biblioteca `requests`. Para ello, se ejecuta el siguiente comando:\n",
        "\n",
        "`pip install requests`\n",
        "\n",
        "\n",
        "Una vez instalada `requests`, podemos utilizarla. En Google Colab la biblioteca `requests` ya está instalada.\n",
        "\n",
        "La importación de `requests` se hace como la de cualquier biblioteca:"
      ]
    },
    {
      "cell_type": "code",
      "execution_count": null,
      "metadata": {
        "id": "AMTIwisxVYD_"
      },
      "outputs": [],
      "source": [
        "import requests"
      ]
    },
    {
      "cell_type": "markdown",
      "metadata": {
        "id": "-jYH3wEnVYD_"
      },
      "source": [
        "Ahora que ya tenemos todo preparado, es hora de comenzar a utilizar `requests`. Nuestro primer objetivo será aprender a hacer una petición GET."
      ]
    },
    {
      "cell_type": "markdown",
      "metadata": {
        "id": "eHRpf2DoVYD_"
      },
      "source": [
        "**Protocolo HTTP**\n",
        "\n",
        "El Protocolo de Transferencia de Hipertexto (HTTP) está diseñado para permitir la comunicación entre clientes y servidores.\n",
        "\n",
        "HTTP funciona como un protocolo de petición-respuesta entre un cliente y un servidor. Estas acciones se hacen mediante métodos específicos del protocola HTTP.\n",
        "\n",
        "*Ejemplo:* un cliente (navegador) envía una petición HTTP al servidor; entonces el servidor devuelve una respuesta al cliente. La respuesta contiene información de estado sobre la solicitud y también puede contener el contenido solicitado.\n",
        "\n",
        "Los métodos HTTP, como GET y POST, determinan la acción que se intenta realizar al hacer una petición HTTP. GET indica que queremos \"conseguir\" y POST  es un método HTTP  que  indica que queremos \"enviar\".\n",
        "\n",
        "Explicamos lo anterior, debido a que ahora debemos interactuar con servidores HTTP,  no con sistemas de archivos.\n",
        "\n",
        "**El  método get() de `requests`**\n",
        "\n",
        "Uno de los métodos HTTP más comunes es GET. El método GET indica que estás tratando de obtener o recuperar datos de un recurso específico. Para hacer una petición GET con  la biblioteca `requests`, hay que invocar  `requests.get()`.\n",
        "\n",
        "Para probar esto, puedes hacer una petición GET a la API REST raíz de GitHub llamando a `get()` con la siguiente URL:"
      ]
    },
    {
      "cell_type": "code",
      "execution_count": null,
      "metadata": {
        "id": "1e70bxTPVYD_",
        "colab": {
          "base_uri": "https://localhost:8080/"
        },
        "outputId": "3b87db34-9f6d-4420-a564-35101536c40b"
      },
      "outputs": [
        {
          "output_type": "execute_result",
          "data": {
            "text/plain": [
              "<Response [200]>"
            ]
          },
          "metadata": {},
          "execution_count": 41
        }
      ],
      "source": [
        "requests.get('https://api.github.com')"
      ]
    },
    {
      "cell_type": "markdown",
      "metadata": {
        "id": "W0wVE0oyVYEA"
      },
      "source": [
        "\n",
        "¡Excelente! Hemos hecho nuestro primer GET."
      ]
    },
    {
      "cell_type": "markdown",
      "source": [
        "Veamos otro ejemplo:"
      ],
      "metadata": {
        "id": "To0YDMM7ghd8"
      }
    },
    {
      "cell_type": "code",
      "source": [
        "requests.get('https://wikipedia.org')"
      ],
      "metadata": {
        "id": "bWLwkE2RPEbi",
        "colab": {
          "base_uri": "https://localhost:8080/"
        },
        "outputId": "43246125-9b50-4b3f-e3a5-05a3d7db708c"
      },
      "execution_count": null,
      "outputs": [
        {
          "output_type": "execute_result",
          "data": {
            "text/plain": [
              "<Response [200]>"
            ]
          },
          "metadata": {},
          "execution_count": 42
        }
      ]
    },
    {
      "cell_type": "markdown",
      "source": [
        "La respuesta 200 en el método `requests.get()` de Python significa que la solicitud HTTP fue exitosa, lo que indica que la solicitud se procesó correctamente y el servidor devolvió una respuesta satisfactoria"
      ],
      "metadata": {
        "id": "pPZhtUWsg31r"
      }
    },
    {
      "cell_type": "markdown",
      "source": [
        "¿Qué pasa si queremos explorar un sitio que no existe?"
      ],
      "metadata": {
        "id": "5an6BaK6dH8n"
      }
    },
    {
      "cell_type": "code",
      "source": [
        "requests.get('https://wikipedia.arg')"
      ],
      "metadata": {
        "id": "09l8SQ1sdQHt"
      },
      "execution_count": null,
      "outputs": []
    },
    {
      "cell_type": "markdown",
      "source": [
        "Vemos que se produce una excepción y el programa termina. Evidentemente esto puede ocurrir muy frecuentemente, por ejemplo cuando el sitio está caido, y esta situación debería ser manejada con excepciones: debemos hacer los `requests.get()` dentro de un `try()`. Por ejemplo,  "
      ],
      "metadata": {
        "id": "HrTKV0WndaIq"
      }
    },
    {
      "cell_type": "code",
      "source": [
        "archivo = 'https://wikipedia.org'\n",
        "try :\n",
        "    response = requests.get(archivo)\n",
        "    status_code = response.status_code\n",
        "except requests.exceptions.RequestException as e:\n",
        "    print(e)\n",
        "    status_code = 550\n",
        "print(type(response))\n",
        "print(status_code)"
      ],
      "metadata": {
        "id": "TOYVzM6afMXM",
        "colab": {
          "base_uri": "https://localhost:8080/"
        },
        "outputId": "f6711b05-8e14-45a9-e119-00cac41a8d18"
      },
      "execution_count": null,
      "outputs": [
        {
          "output_type": "stream",
          "name": "stdout",
          "text": [
            "<class 'requests.models.Response'>\n",
            "200\n"
          ]
        }
      ]
    },
    {
      "cell_type": "code",
      "source": [
        "archivo = 'https://wikipedia.arg'\n",
        "try :\n",
        "    response = requests.get(archivo)\n",
        "    status_code = response.status_code\n",
        "except requests.exceptions.RequestException as e:\n",
        "    print(e) # imprime en la terminal el error que se produjo\n",
        "    status_code = 550\n",
        "\n",
        "print(status_code)"
      ],
      "metadata": {
        "colab": {
          "base_uri": "https://localhost:8080/"
        },
        "id": "l7m49kL8KWdD",
        "outputId": "fa42913b-0360-450c-8d5f-f1ae097cf772"
      },
      "execution_count": null,
      "outputs": [
        {
          "output_type": "stream",
          "name": "stdout",
          "text": [
            "HTTPSConnectionPool(host='wikipedia.arg', port=443): Max retries exceeded with url: / (Caused by NameResolutionError(\"<urllib3.connection.HTTPSConnection object at 0x7b4edb536260>: Failed to resolve 'wikipedia.arg' ([Errno -2] Name or service not known)\"))\n",
            "550\n"
          ]
        }
      ]
    },
    {
      "cell_type": "markdown",
      "source": [
        "El valor de `response.status_code` puede ser un código de estado HTTP que indica el resultado de la solicitud. Algunos valores posibles y sus significados son:\n",
        "\n",
        "- `200`: Indica que la solicitud ha tenido éxito.\n",
        "- `404`: Significa que el recurso solicitado no se ha encontrado en el servidor.\n",
        "- `500`: Indica un error interno en el servidor que impide transmitir el recurso solicitado.\n",
        "- `503`: Muestra que el servidor no está disponible temporalmente debido a sobrecarga o mantenimiento.\n",
        "\n",
        "En  el ejemplo, luego de intentar recuperar un documento en internet obtenemos la variable `status_code` que nos dice que ocurrió en el intento. Si el valor de `status_code` es `550`, código que definimos nosotros,  significa que el sitio no está disponible."
      ],
      "metadata": {
        "id": "VvAPrf0fghIh"
      }
    },
    {
      "cell_type": "markdown",
      "metadata": {
        "id": "4Q_1OE40VYEA"
      },
      "source": [
        "**Los objetos de la clase `Response`**\n",
        "\n",
        "El output del método `get()` devuelve un objeto del tipo `Response`. Este es un objeto poderoso que permite inspeccionar los resultados de la solicitud.\n",
        "\n",
        "Hagamos de nuevo esa misma petición, pero esta vez almacenando el valor de retorno en una variable para que podamos ver más de cerca sus atributos y comportamientos.\n",
        "\n",
        "No usaremos excepciones para no escribir demasiado, pero siempre deberían usarse con el  método `get()`."
      ]
    },
    {
      "cell_type": "code",
      "execution_count": null,
      "metadata": {
        "id": "fcxjG2_LVYEB",
        "colab": {
          "base_uri": "https://localhost:8080/"
        },
        "outputId": "387b131d-e17a-413f-8114-b6525f269988"
      },
      "outputs": [
        {
          "output_type": "stream",
          "name": "stdout",
          "text": [
            "<Response [200]>\n"
          ]
        }
      ],
      "source": [
        "respuesta = requests.get('https://api.github.com')\n",
        "print(respuesta)"
      ]
    },
    {
      "cell_type": "markdown",
      "metadata": {
        "id": "7RWS9sQ4VYEB"
      },
      "source": [
        "En este ejemplo, hemos capturado el valor de retorno de `get()`, que es una instancia de `Response`, y lo almacenamos en una variable llamada `respuesta`. Ahora podemos usar `respuesta ` para ver información sobre los resultados de tu petición GET.\n",
        "\n",
        "La primera información que se puede obtener de `Response` es el código de estado. Un código de estado nos informa del estado de la solicitud.\n",
        "\n",
        "Como ya dijimos, un estado `200` significa que su solicitud fue exitosa, mientras que un estado `404 NOT FOUND` significa que el recurso que estaba buscando no fue encontrado. Hay muchos otros códigos de estado posibles que nos dan información específica sobre lo que sucedió con su solicitud.\n",
        "\n",
        "Con el  atributo `status_code` podemos ver el código de estado que el servidor devolvió:"
      ]
    },
    {
      "cell_type": "code",
      "execution_count": null,
      "metadata": {
        "id": "kayuLDhCVYEB",
        "colab": {
          "base_uri": "https://localhost:8080/"
        },
        "outputId": "87a8d23c-ba03-4832-f654-52eaf75445b8"
      },
      "outputs": [
        {
          "output_type": "execute_result",
          "data": {
            "text/plain": [
              "200"
            ]
          },
          "metadata": {},
          "execution_count": 51
        }
      ],
      "source": [
        "respuesta.status_code"
      ]
    },
    {
      "cell_type": "markdown",
      "metadata": {
        "id": "yyuhrX7VVYEC"
      },
      "source": [
        "`status_code` devolvió un `200`, lo que significa que la solicitud fue exitosa y el servidor respondió con los datos que solicitamos.\n",
        "\n",
        "Además del código de estado 200 que indica una solicitud exitosa, el método `requests.get()` en Python puede devolver otros códigos de estado que indican diferentes tipos de respuestas del servidor:\n",
        "\n",
        "- 301 (Moved Permanently): Indica que el recurso solicitado se ha movido permanentemente a una nueva ubicación. La nueva URL se especifica en el encabezado \"Location\" de la respuesta.\n",
        "\n",
        "- 302 (Found): Indica que el recurso solicitado se ha movido temporalmente a una nueva ubicación. La nueva URL se especifica en el encabezado \"Location\" de la respuesta.\n",
        "\n",
        "- 401 (Unauthorized): Indica que se requiere autenticación para acceder al recurso solicitado.\n",
        "\n",
        "- 403 (Forbidden): Indica que el servidor ha entendido la solicitud pero se niega a autorizarla.\n",
        "\n",
        "- 404 (Not Found): Indica que el servidor no pudo encontrar el recurso solicitado.\n",
        "\n",
        "- 500 (Internal Server Error): Indica que ha ocurrido un error inesperado en el servidor que le impide procesar la solicitud.\n",
        "\n",
        "- 502 (Bad Gateway): Indica que el servidor está actuando como una puerta de enlace o proxy y ha recibido una respuesta inválida del servidor upstream.\n",
        "\n",
        "- 503 (Service Unavailable): Indica que el servidor no está listo para manejar la solicitud debido a un mantenimiento temporal u otros problemas.\n",
        "\n",
        "Estos códigos de estado se agrupan en rangos que indican el tipo de respuesta:\n",
        "\n",
        "- 1xx (Informational): Indica que la solicitud se recibió y se está procesando.\n",
        "- 2xx (Successful): Indica que la solicitud se recibió, se entendió y se aceptó con éxito.\n",
        "- 3xx (Redirection): Indica que se requiere acción adicional para completar la solicitud.\n",
        "- 4xx (Client Error): Indica que hay un error en la solicitud del cliente.\n",
        "- 5xx (Server Error): Indica que ha ocurrido un error en el servidor.\n",
        "\n",
        "En resumen, además del código 200 que indica una solicitud exitosa, `requests.get()` puede devolver otros códigos de estado que proporcionan información sobre el resultado de la solicitud HTTP."
      ]
    },
    {
      "cell_type": "markdown",
      "metadata": {
        "id": "wbN1q8OqVYEC"
      },
      "source": [
        "**El contenido**\n",
        "\n",
        "La respuesta de una solicitud GET a menudo tiene alguna información valiosa, conocida como *carga útil* o *payload* (en inglés), en el cuerpo del mensaje. Utilizando los atributos y métodos de los objetos de la clase `Response`, podemos ver la carga útil en una variedad de formatos diferentes.\n",
        "\n",
        "Para ver el contenido de la respuesta en bytes, se utiliza `.content`:"
      ]
    },
    {
      "cell_type": "code",
      "execution_count": null,
      "metadata": {
        "id": "UrP9jXrZVYEC",
        "colab": {
          "base_uri": "https://localhost:8080/"
        },
        "outputId": "86de7874-ad0f-4a69-d8f3-381ea3edddc3"
      },
      "outputs": [
        {
          "output_type": "stream",
          "name": "stdout",
          "text": [
            "b'{\"current_user_url\":\"https://api.github.com/user\",\"current_user_authorizations_html_url\":\"https://github.com/settings/connections/applications{/client_id}\",\"authorizations_url\":\"https://api.github.com/authorizations\",\"code_search_url\":\"https://api.github.com/search/code?q={query}{&page,per_page,sort,order}\",\"commit_search_url\":\"https://api.github.com/search/commits?q={query}{&page,per_page,sort,order}\",\"emails_url\":\"https://api.github.com/user/emails\",\"emojis_url\":\"https://api.github.com/emojis\",\"events_url\":\"https://api.github.com/events\",\"feeds_url\":\"https://api.github.com/feeds\",\"followers_url\":\"https://api.github.com/user/followers\",\"following_url\":\"https://api.github.com/user/following{/target}\",\"gists_url\":\"https://api.github.com/gists{/gist_id}\",\"hub_url\":\"https://api.github.com/hub\",\"issue_search_url\":\"https://api.github.com/search/issues?q={query}{&page,per_page,sort,order}\",\"issues_url\":\"https://api.github.com/issues\",\"keys_url\":\"https://api.github.com/user/keys\",\"label_search_url\":\"https://api.github.com/search/labels?q={query}&repository_id={repository_id}{&page,per_page}\",\"notifications_url\":\"https://api.github.com/notifications\",\"organization_url\":\"https://api.github.com/orgs/{org}\",\"organization_repositories_url\":\"https://api.github.com/orgs/{org}/repos{?type,page,per_page,sort}\",\"organization_teams_url\":\"https://api.github.com/orgs/{org}/teams\",\"public_gists_url\":\"https://api.github.com/gists/public\",\"rate_limit_url\":\"https://api.github.com/rate_limit\",\"repository_url\":\"https://api.github.com/repos/{owner}/{repo}\",\"repository_search_url\":\"https://api.github.com/search/repositories?q={query}{&page,per_page,sort,order}\",\"current_user_repositories_url\":\"https://api.github.com/user/repos{?type,page,per_page,sort}\",\"starred_url\":\"https://api.github.com/user/starred{/owner}{/repo}\",\"starred_gists_url\":\"https://api.github.com/gists/starred\",\"topic_search_url\":\"https://api.github.com/search/topics?q={query}{&page,per_page}\",\"user_url\":\"https://api.github.com/users/{user}\",\"user_organizations_url\":\"https://api.github.com/user/orgs\",\"user_repositories_url\":\"https://api.github.com/users/{user}/repos{?type,page,per_page,sort}\",\"user_search_url\":\"https://api.github.com/search/users?q={query}{&page,per_page,sort,order}\"}'\n"
          ]
        }
      ],
      "source": [
        "respuesta = requests.get('https://api.github.com')\n",
        "print(respuesta.content)"
      ]
    },
    {
      "cell_type": "code",
      "source": [
        "respuesta = requests.get('https://es.wikipedia.org')\n",
        "respuesta.content"
      ],
      "metadata": {
        "id": "jzMXv9eNQQ13",
        "colab": {
          "base_uri": "https://localhost:8080/"
        },
        "outputId": "1aa51059-26f8-4ccc-d411-5018087ab8a9"
      },
      "execution_count": null,
      "outputs": [
        {
          "output_type": "execute_result",
          "data": {
            "text/plain": [
              "b'<!DOCTYPE html>\\n<html class=\"client-nojs vector-feature-language-in-header-enabled vector-feature-language-in-main-page-header-disabled vector-feature-sticky-header-disabled vector-feature-page-tools-pinned-disabled vector-feature-toc-pinned-clientpref-1 vector-feature-main-menu-pinned-disabled vector-feature-limited-width-clientpref-1 vector-feature-limited-width-content-disabled vector-feature-custom-font-size-clientpref-1 vector-feature-appearance-enabled vector-feature-appearance-pinned-clientpref-1 vector-feature-night-mode-disabled skin-theme-clientpref-day vector-toc-not-available\" lang=\"es\" dir=\"ltr\">\\n<head>\\n<meta charset=\"UTF-8\">\\n<title>Wikipedia, la enciclopedia libre</title>\\n<script>(function(){var className=\"client-js vector-feature-language-in-header-enabled vector-feature-language-in-main-page-header-disabled vector-feature-sticky-header-disabled vector-feature-page-tools-pinned-disabled vector-feature-toc-pinned-clientpref-1 vector-feature-main-menu-pinned-disabled vector-feature-limited-width-clientpref-1 vector-feature-limited-width-content-disabled vector-feature-custom-font-size-clientpref-1 vector-feature-appearance-enabled vector-feature-appearance-pinned-clientpref-1 vector-feature-night-mode-disabled skin-theme-clientpref-day vector-toc-not-available\";var cookie=document.cookie.match(/(?:^|; )eswikimwclientpreferences=([^;]+)/);if(cookie){cookie[1].split(\\'%2C\\').forEach(function(pref){className=className.replace(new RegExp(\\'(^| )\\'+pref.replace(/-clientpref-\\\\w+$|[^\\\\w-]+/g,\\'\\')+\\'-clientpref-\\\\\\\\w+( |$)\\'),\\'$1\\'+pref+\\'$2\\');});}document.documentElement.className=className;}());RLCONF={\"wgBreakFrames\":false,\"wgSeparatorTransformTable\":[\",\\\\t.\",\"\\xc2\\xa0\\\\t,\"],\\n\"wgDigitTransformTable\":[\"\",\"\"],\"wgDefaultDateFormat\":\"dmy\",\"wgMonthNames\":[\"\",\"enero\",\"febrero\",\"marzo\",\"abril\",\"mayo\",\"junio\",\"julio\",\"agosto\",\"septiembre\",\"octubre\",\"noviembre\",\"diciembre\"],\"wgRequestId\":\"22aaee3b-a680-42f1-b747-c6d68b40e5d0\",\"wgCanonicalNamespace\":\"Project\",\"wgCanonicalSpecialPageName\":false,\"wgNamespaceNumber\":4,\"wgPageName\":\"Wikipedia:Portada\",\"wgTitle\":\"Portada\",\"wgCurRevisionId\":149134229,\"wgRevisionId\":149134229,\"wgArticleId\":2271189,\"wgIsArticle\":true,\"wgIsRedirect\":false,\"wgAction\":\"view\",\"wgUserName\":null,\"wgUserGroups\":[\"*\"],\"wgCategories\":[],\"wgPageViewLanguage\":\"es\",\"wgPageContentLanguage\":\"es\",\"wgPageContentModel\":\"wikitext\",\"wgRelevantPageName\":\"Wikipedia:Portada\",\"wgRelevantArticleId\":2271189,\"wgIsProbablyEditable\":false,\"wgRelevantPageIsProbablyEditable\":false,\"wgRestrictionEdit\":[\"sysop\"],\"wgRestrictionMove\":[\"sysop\"],\"wgIsMainPage\":true,\"wgNoticeProject\":\"wikipedia\",\"wgCiteReferencePreviewsActive\":false,\"wgMediaViewerOnClick\":true,\\n\"wgMediaViewerEnabledByDefault\":true,\"wgPopupsFlags\":6,\"wgVisualEditor\":{\"pageLanguageCode\":\"es\",\"pageLanguageDir\":\"ltr\",\"pageVariantFallbacks\":\"es\"},\"wgMFDisplayWikibaseDescriptions\":{\"search\":true,\"watchlist\":true,\"tagline\":true,\"nearby\":true},\"wgWMESchemaEditAttemptStepOversample\":false,\"wgWMEPageLength\":3000,\"wgULSCurrentAutonym\":\"espa\\xc3\\xb1ol\",\"wgCentralAuthMobileDomain\":false,\"wgEditSubmitButtonLabelPublish\":true,\"wgDiscussionToolsFeaturesEnabled\":{\"replytool\":true,\"newtopictool\":true,\"sourcemodetoolbar\":true,\"topicsubscription\":false,\"autotopicsub\":false,\"visualenhancements\":false,\"visualenhancements_reply\":false,\"visualenhancements_pageframe\":false},\"wgDiscussionToolsFallbackEditMode\":\"source\",\"wgULSPosition\":\"interlanguage\",\"wgULSisCompactLinksEnabled\":false,\"wgVector2022LanguageInHeader\":true,\"wgULSisLanguageSelectorEmpty\":false,\"wgWikibaseItemId\":\"Q5296\",\"wgCheckUserClientHintsHeadersJsApi\":[\"architecture\",\"bitness\",\"brands\",\"fullVersionList\",\"mobile\",\"model\",\"platform\",\\n\"platformVersion\"],\"GEHomepageSuggestedEditsEnableTopics\":true,\"wgGETopicsMatchModeEnabled\":true,\"wgGEStructuredTaskRejectionReasonTextInputEnabled\":false,\"wgGELevelingUpEnabledForUser\":false};RLSTATE={\"skins.vector.user.styles\":\"ready\",\"ext.gadget.imagenesinfobox\":\"ready\",\"ext.globalCssJs.user.styles\":\"ready\",\"site.styles\":\"ready\",\"user.styles\":\"ready\",\"skins.vector.user\":\"ready\",\"ext.globalCssJs.user\":\"ready\",\"user\":\"ready\",\"user.options\":\"loading\",\"ext.discussionTools.init.styles\":\"ready\",\"oojs-ui-core.styles\":\"ready\",\"oojs-ui.styles.indicators\":\"ready\",\"mediawiki.widgets.styles\":\"ready\",\"oojs-ui-core.icons\":\"ready\",\"skins.vector.search.codex.styles\":\"ready\",\"skins.vector.styles\":\"ready\",\"skins.vector.icons\":\"ready\",\"jquery.makeCollapsible.styles\":\"ready\",\"mediawiki.ui.button\":\"ready\",\"ext.wikimediamessages.styles\":\"ready\",\"ext.visualEditor.desktopArticleTarget.noscript\":\"ready\",\"ext.uls.interlanguage\":\"ready\",\"ext.wikimediaBadges\":\"ready\"};RLPAGEMODULES=[\"mediawiki.page.media\",\\n\"site\",\"mediawiki.page.ready\",\"jquery.makeCollapsible\",\"skins.vector.js\",\"ext.centralNotice.geoIP\",\"ext.centralNotice.startUp\",\"ext.gadget.a-commons-directo\",\"ext.gadget.ReferenceTooltips\",\"ext.gadget.refToolbar\",\"ext.gadget.switcher\",\"ext.urlShortener.toolbar\",\"ext.centralauth.centralautologin\",\"mmv.head\",\"mmv.bootstrap.autostart\",\"ext.popups\",\"ext.visualEditor.desktopArticleTarget.init\",\"ext.visualEditor.targetLoader\",\"ext.echo.centralauth\",\"ext.discussionTools.init\",\"ext.eventLogging\",\"ext.wikimediaEvents\",\"ext.navigationTiming\",\"ext.uls.interface\",\"ext.cx.eventlogging.campaigns\",\"wikibase.client.vector-2022\",\"ext.checkUser.clientHints\"];</script>\\n<script>(RLQ=window.RLQ||[]).push(function(){mw.loader.impl(function(){return[\"user.options@12s5i\",function($,jQuery,require,module){mw.user.tokens.set({\"patrolToken\":\"+\\\\\\\\\",\"watchToken\":\"+\\\\\\\\\",\"csrfToken\":\"+\\\\\\\\\"});\\n}];});});</script>\\n<link rel=\"stylesheet\" href=\"/w/load.php?lang=es&amp;modules=ext.discussionTools.init.styles%7Cext.uls.interlanguage%7Cext.visualEditor.desktopArticleTarget.noscript%7Cext.wikimediaBadges%7Cext.wikimediamessages.styles%7Cjquery.makeCollapsible.styles%7Cmediawiki.ui.button%7Cmediawiki.widgets.styles%7Coojs-ui-core.icons%2Cstyles%7Coojs-ui.styles.indicators%7Cskins.vector.icons%2Cstyles%7Cskins.vector.search.codex.styles&amp;only=styles&amp;skin=vector-2022\">\\n<script async=\"\" src=\"/w/load.php?lang=es&amp;modules=startup&amp;only=scripts&amp;raw=1&amp;skin=vector-2022\"></script>\\n<meta name=\"ResourceLoaderDynamicStyles\" content=\"\">\\n<link rel=\"stylesheet\" href=\"/w/load.php?lang=es&amp;modules=ext.gadget.imagenesinfobox&amp;only=styles&amp;skin=vector-2022\">\\n<link rel=\"stylesheet\" href=\"/w/load.php?lang=es&amp;modules=site.styles&amp;only=styles&amp;skin=vector-2022\">\\n<noscript><link rel=\"stylesheet\" href=\"/w/load.php?lang=es&amp;modules=noscript&amp;only=styles&amp;skin=vector-2022\"></noscript>\\n<meta name=\"generator\" content=\"MediaWiki 1.43.0-wmf.6\">\\n<meta name=\"referrer\" content=\"origin\">\\n<meta name=\"referrer\" content=\"origin-when-cross-origin\">\\n<meta name=\"robots\" content=\"max-image-preview:standard\">\\n<meta name=\"format-detection\" content=\"telephone=no\">\\n<meta name=\"viewport\" content=\"width=1000\">\\n<meta property=\"og:title\" content=\"Wikipedia, la enciclopedia libre\">\\n<meta property=\"og:type\" content=\"website\">\\n<link rel=\"preconnect\" href=\"//upload.wikimedia.org\">\\n<link rel=\"alternate\" media=\"only screen and (max-width: 720px)\" href=\"//es.m.wikipedia.org/wiki/Wikipedia:Portada\">\\n<link rel=\"apple-touch-icon\" href=\"/static/apple-touch/wikipedia.png\">\\n<link rel=\"icon\" href=\"/static/favicon/wikipedia.ico\">\\n<link rel=\"search\" type=\"application/opensearchdescription+xml\" href=\"/w/opensearch_desc.php\" title=\"Wikipedia (es)\">\\n<link rel=\"EditURI\" type=\"application/rsd+xml\" href=\"//es.wikipedia.org/w/api.php?action=rsd\">\\n<link rel=\"canonical\" href=\"https://es.wikipedia.org/wiki/Wikipedia:Portada\">\\n<link rel=\"license\" href=\"https://creativecommons.org/licenses/by-sa/4.0/deed.es\">\\n<link rel=\"alternate\" type=\"application/atom+xml\" title=\"Canal Atom de Wikipedia\" href=\"/w/index.php?title=Especial:CambiosRecientes&amp;feed=atom\">\\n<link rel=\"dns-prefetch\" href=\"//meta.wikimedia.org\" />\\n<link rel=\"dns-prefetch\" href=\"//login.wikimedia.org\">\\n</head>\\n<body class=\"ext-discussiontools-replytool-enabled ext-discussiontools-newtopictool-enabled ext-discussiontools-sourcemodetoolbar-enabled skin-vector skin-vector-search-vue mediawiki ltr sitedir-ltr mw-hide-empty-elt ns-4 ns-subject page-Wikipedia_Portada page-Main_Page rootpage-Wikipedia_Portada skin-vector-2022 action-view\"><a class=\"mw-jump-link\" href=\"#bodyContent\">Ir al contenido</a>\\n<div class=\"vector-header-container\">\\n\\t<header class=\"vector-header mw-header\">\\n\\t\\t<div class=\"vector-header-start\">\\n\\t\\t\\t<nav class=\"vector-main-menu-landmark\" aria-label=\"Sitio\" role=\"navigation\">\\n\\t\\t\\t\\t\\n<div id=\"vector-main-menu-dropdown\" class=\"vector-dropdown vector-main-menu-dropdown vector-button-flush-left vector-button-flush-right\"  >\\n\\t<input type=\"checkbox\" id=\"vector-main-menu-dropdown-checkbox\" role=\"button\" aria-haspopup=\"true\" data-event-name=\"ui.dropdown-vector-main-menu-dropdown\" class=\"vector-dropdown-checkbox \"  aria-label=\"Men\\xc3\\xba principal\"  >\\n\\t<label id=\"vector-main-menu-dropdown-label\" for=\"vector-main-menu-dropdown-checkbox\" class=\"vector-dropdown-label cdx-button cdx-button--fake-button cdx-button--fake-button--enabled cdx-button--weight-quiet cdx-button--icon-only \" aria-hidden=\"true\"  ><span class=\"vector-icon mw-ui-icon-menu mw-ui-icon-wikimedia-menu\"></span>\\n\\n<span class=\"vector-dropdown-label-text\">Men\\xc3\\xba principal</span>\\n\\t</label>\\n\\t<div class=\"vector-dropdown-content\">\\n\\n\\n\\t\\t\\t\\t<div id=\"vector-main-menu-unpinned-container\" class=\"vector-unpinned-container\">\\n\\t\\t\\n<div id=\"vector-main-menu\" class=\"vector-main-menu vector-pinnable-element\">\\n\\t<div\\n\\tclass=\"vector-pinnable-header vector-main-menu-pinnable-header vector-pinnable-header-unpinned\"\\n\\tdata-feature-name=\"main-menu-pinned\"\\n\\tdata-pinnable-element-id=\"vector-main-menu\"\\n\\tdata-pinned-container-id=\"vector-main-menu-pinned-container\"\\n\\tdata-unpinned-container-id=\"vector-main-menu-unpinned-container\"\\n>\\n\\t<div class=\"vector-pinnable-header-label\">Men\\xc3\\xba principal</div>\\n\\t<button class=\"vector-pinnable-header-toggle-button vector-pinnable-header-pin-button\" data-event-name=\"pinnable-header.vector-main-menu.pin\">mover a la barra lateral</button>\\n\\t<button class=\"vector-pinnable-header-toggle-button vector-pinnable-header-unpin-button\" data-event-name=\"pinnable-header.vector-main-menu.unpin\">ocultar</button>\\n</div>\\n\\n\\t\\n<div id=\"p-navigation\" class=\"vector-menu mw-portlet mw-portlet-navigation\"  >\\n\\t<div class=\"vector-menu-heading\">\\n\\t\\tNavegaci\\xc3\\xb3n\\n\\t</div>\\n\\t<div class=\"vector-menu-content\">\\n\\t\\t\\n\\t\\t<ul class=\"vector-menu-content-list\">\\n\\t\\t\\t\\n\\t\\t\\t<li id=\"n-mainpage-description\" class=\"mw-list-item\"><a href=\"/wiki/Wikipedia:Portada\" title=\"Visitar la p\\xc3\\xa1gina principal [z]\" accesskey=\"z\"><span>Portada</span></a></li><li id=\"n-portal\" class=\"mw-list-item\"><a href=\"/wiki/Portal:Comunidad\" title=\"Acerca del proyecto, lo que puedes hacer, d\\xc3\\xb3nde encontrar informaci\\xc3\\xb3n\"><span>Portal de la comunidad</span></a></li><li id=\"n-currentevents\" class=\"mw-list-item\"><a href=\"/wiki/Portal:Actualidad\" title=\"Encuentra informaci\\xc3\\xb3n de contexto sobre acontecimientos actuales\"><span>Actualidad</span></a></li><li id=\"n-recentchanges\" class=\"mw-list-item\"><a href=\"/wiki/Especial:CambiosRecientes\" title=\"Lista de cambios recientes en la wiki [r]\" accesskey=\"r\"><span>Cambios recientes</span></a></li><li id=\"n-newpages\" class=\"mw-list-item\"><a href=\"/wiki/Especial:P%C3%A1ginasNuevas\"><span>P\\xc3\\xa1ginas nuevas</span></a></li><li id=\"n-randompage\" class=\"mw-list-item\"><a href=\"/wiki/Especial:Aleatoria\" title=\"Cargar una p\\xc3\\xa1gina al azar [x]\" accesskey=\"x\"><span>P\\xc3\\xa1gina aleatoria</span></a></li><li id=\"n-help\" class=\"mw-list-item\"><a href=\"/wiki/Ayuda:Contenidos\" title=\"El lugar para aprender\"><span>Ayuda</span></a></li><li id=\"n-sitesupport\" class=\"mw-list-item\"><a href=\"//donate.wikimedia.org/wiki/Special:FundraiserRedirector?utm_source=donate&amp;utm_medium=sidebar&amp;utm_campaign=C13_es.wikipedia.org&amp;uselang=es\" title=\"Ap\\xc3\\xb3yanos\"><span>Donaciones</span></a></li><li id=\"n-bug_in_article\" class=\"mw-list-item\"><a href=\"/wiki/Wikipedia:Informes_de_error\"><span>Notificar un error</span></a></li>\\n\\t\\t</ul>\\n\\t\\t\\n\\t</div>\\n</div>\\n\\n\\t\\n\\t\\n</div>\\n\\n\\t\\t\\t\\t</div>\\n\\n\\t</div>\\n</div>\\n\\n\\t\\t</nav>\\n\\t\\t\\t\\n<a href=\"/wiki/Wikipedia:Portada\" class=\"mw-logo\">\\n\\t<img class=\"mw-logo-icon\" src=\"/static/images/icons/wikipedia.png\" alt=\"\" aria-hidden=\"true\" height=\"50\" width=\"50\">\\n\\t<span class=\"mw-logo-container skin-invert\">\\n\\t\\t<img class=\"mw-logo-wordmark\" alt=\"Wikipedia\" src=\"/static/images/mobile/copyright/wikipedia-wordmark-en.svg\" style=\"width: 7.5em; height: 1.125em;\">\\n\\t\\t<img class=\"mw-logo-tagline\" alt=\"La enciclopedia libre\" src=\"/static/images/mobile/copyright/wikipedia-tagline-es.svg\" width=\"120\" height=\"13\" style=\"width: 7.5em; height: 0.8125em;\">\\n\\t</span>\\n</a>\\n\\n\\t\\t</div>\\n\\t\\t<div class=\"vector-header-end\">\\n\\t\\t\\t\\n<div id=\"p-search\" role=\"search\" class=\"vector-search-box-vue  vector-search-box-collapses vector-search-box-show-thumbnail vector-search-box-auto-expand-width vector-search-box\">\\n\\t<a href=\"/wiki/Especial:Buscar\" class=\"cdx-button cdx-button--fake-button cdx-button--fake-button--enabled cdx-button--weight-quiet cdx-button--icon-only search-toggle\" id=\"\" title=\"Buscar en este wiki [f]\" accesskey=\"f\"><span class=\"vector-icon mw-ui-icon-search mw-ui-icon-wikimedia-search\"></span>\\n\\n<span>Buscar</span>\\n\\t</a>\\n\\t<div class=\"vector-typeahead-search-container\">\\n\\t\\t<div class=\"cdx-typeahead-search cdx-typeahead-search--show-thumbnail cdx-typeahead-search--auto-expand-width\">\\n\\t\\t\\t<form action=\"/w/index.php\" id=\"searchform\" class=\"cdx-search-input cdx-search-input--has-end-button\">\\n\\t\\t\\t\\t<div id=\"simpleSearch\" class=\"cdx-search-input__input-wrapper\"  data-search-loc=\"header-moved\">\\n\\t\\t\\t\\t\\t<div class=\"cdx-text-input cdx-text-input--has-start-icon\">\\n\\t\\t\\t\\t\\t\\t<input\\n\\t\\t\\t\\t\\t\\t\\tclass=\"cdx-text-input__input\"\\n\\t\\t\\t\\t\\t\\t\\t type=\"search\" name=\"search\" placeholder=\"Buscar en Wikipedia\" aria-label=\"Buscar en Wikipedia\" autocapitalize=\"sentences\" title=\"Buscar en este wiki [f]\" accesskey=\"f\" id=\"searchInput\"\\n\\t\\t\\t\\t\\t\\t\\t>\\n\\t\\t\\t\\t\\t\\t<span class=\"cdx-text-input__icon cdx-text-input__start-icon\"></span>\\n\\t\\t\\t\\t\\t</div>\\n\\t\\t\\t\\t\\t<input type=\"hidden\" name=\"title\" value=\"Especial:Buscar\">\\n\\t\\t\\t\\t</div>\\n\\t\\t\\t\\t<button class=\"cdx-button cdx-search-input__end-button\">Buscar</button>\\n\\t\\t\\t</form>\\n\\t\\t</div>\\n\\t</div>\\n</div>\\n\\n\\t\\t\\t<nav class=\"vector-user-links vector-user-links-wide\" aria-label=\"Herramientas personales\" role=\"navigation\" >\\n\\t<div class=\"vector-user-links-main\">\\n\\t\\n<div id=\"p-vector-user-menu-preferences\" class=\"vector-menu mw-portlet emptyPortlet\"  >\\n\\t<div class=\"vector-menu-content\">\\n\\t\\t\\n\\t\\t<ul class=\"vector-menu-content-list\">\\n\\t\\t\\t\\n\\t\\t\\t\\n\\t\\t</ul>\\n\\t\\t\\n\\t</div>\\n</div>\\n\\n\\t\\n<div id=\"p-vector-user-menu-userpage\" class=\"vector-menu mw-portlet emptyPortlet\"  >\\n\\t<div class=\"vector-menu-content\">\\n\\t\\t\\n\\t\\t<ul class=\"vector-menu-content-list\">\\n\\t\\t\\t\\n\\t\\t\\t\\n\\t\\t</ul>\\n\\t\\t\\n\\t</div>\\n</div>\\n\\n\\t<nav class=\"vector-appearance-landmark\" aria-label=\"Apariencia\">\\n\\t\\t\\n<div id=\"vector-appearance-dropdown\" class=\"vector-dropdown \"  >\\n\\t<input type=\"checkbox\" id=\"vector-appearance-dropdown-checkbox\" role=\"button\" aria-haspopup=\"true\" data-event-name=\"ui.dropdown-vector-appearance-dropdown\" class=\"vector-dropdown-checkbox \"  aria-label=\"Apariencia\"  >\\n\\t<label id=\"vector-appearance-dropdown-label\" for=\"vector-appearance-dropdown-checkbox\" class=\"vector-dropdown-label cdx-button cdx-button--fake-button cdx-button--fake-button--enabled cdx-button--weight-quiet cdx-button--icon-only \" aria-hidden=\"true\"  ><span class=\"vector-icon mw-ui-icon-appearance mw-ui-icon-wikimedia-appearance\"></span>\\n\\n<span class=\"vector-dropdown-label-text\">Apariencia</span>\\n\\t</label>\\n\\t<div class=\"vector-dropdown-content\">\\n\\n\\n\\t\\t\\t<div id=\"vector-appearance-unpinned-container\" class=\"vector-unpinned-container\">\\n\\t\\t\\t\\t\\n\\t\\t\\t</div>\\n\\t\\t\\n\\t</div>\\n</div>\\n\\n\\t</nav>\\n\\t\\n<div id=\"p-vector-user-menu-notifications\" class=\"vector-menu mw-portlet emptyPortlet\"  >\\n\\t<div class=\"vector-menu-content\">\\n\\t\\t\\n\\t\\t<ul class=\"vector-menu-content-list\">\\n\\t\\t\\t\\n\\t\\t\\t\\n\\t\\t</ul>\\n\\t\\t\\n\\t</div>\\n</div>\\n\\n\\t\\n<div id=\"p-vector-user-menu-overflow\" class=\"vector-menu mw-portlet\"  >\\n\\t<div class=\"vector-menu-content\">\\n\\t\\t\\n\\t\\t<ul class=\"vector-menu-content-list\">\\n\\t\\t\\t<li id=\"pt-createaccount-2\" class=\"user-links-collapsible-item mw-list-item user-links-collapsible-item\"><a data-mw=\"interface\" href=\"/w/index.php?title=Especial:Crear_una_cuenta&amp;returnto=Wikipedia%3APortada\" title=\"Te recomendamos crear una cuenta e iniciar sesi\\xc3\\xb3n; sin embargo, no es obligatorio\" class=\"\"><span>Crear una cuenta</span></a>\\n</li>\\n<li id=\"pt-login-2\" class=\"user-links-collapsible-item mw-list-item user-links-collapsible-item\"><a data-mw=\"interface\" href=\"/w/index.php?title=Especial:Entrar&amp;returnto=Wikipedia%3APortada\" title=\"Te recomendamos iniciar sesi\\xc3\\xb3n, aunque no es obligatorio [o]\" accesskey=\"o\" class=\"\"><span>Acceder</span></a>\\n</li>\\n\\n\\t\\t\\t\\n\\t\\t</ul>\\n\\t\\t\\n\\t</div>\\n</div>\\n\\n\\t</div>\\n\\t\\n<div id=\"vector-user-links-dropdown\" class=\"vector-dropdown vector-user-menu vector-button-flush-right vector-user-menu-logged-out\"  title=\"M\\xc3\\xa1s opciones\" >\\n\\t<input type=\"checkbox\" id=\"vector-user-links-dropdown-checkbox\" role=\"button\" aria-haspopup=\"true\" data-event-name=\"ui.dropdown-vector-user-links-dropdown\" class=\"vector-dropdown-checkbox \"  aria-label=\"Herramientas personales\"  >\\n\\t<label id=\"vector-user-links-dropdown-label\" for=\"vector-user-links-dropdown-checkbox\" class=\"vector-dropdown-label cdx-button cdx-button--fake-button cdx-button--fake-button--enabled cdx-button--weight-quiet cdx-button--icon-only \" aria-hidden=\"true\"  ><span class=\"vector-icon mw-ui-icon-ellipsis mw-ui-icon-wikimedia-ellipsis\"></span>\\n\\n<span class=\"vector-dropdown-label-text\">Herramientas personales</span>\\n\\t</label>\\n\\t<div class=\"vector-dropdown-content\">\\n\\n\\n\\t\\t\\n<div id=\"p-personal\" class=\"vector-menu mw-portlet mw-portlet-personal user-links-collapsible-item\"  title=\"Men\\xc3\\xba de usuario\" >\\n\\t<div class=\"vector-menu-content\">\\n\\t\\t\\n\\t\\t<ul class=\"vector-menu-content-list\">\\n\\t\\t\\t\\n\\t\\t\\t<li id=\"pt-createaccount\" class=\"user-links-collapsible-item mw-list-item\"><a href=\"/w/index.php?title=Especial:Crear_una_cuenta&amp;returnto=Wikipedia%3APortada\" title=\"Te recomendamos crear una cuenta e iniciar sesi\\xc3\\xb3n; sin embargo, no es obligatorio\"><span class=\"vector-icon mw-ui-icon-userAdd mw-ui-icon-wikimedia-userAdd\"></span> <span>Crear una cuenta</span></a></li><li id=\"pt-login\" class=\"user-links-collapsible-item mw-list-item\"><a href=\"/w/index.php?title=Especial:Entrar&amp;returnto=Wikipedia%3APortada\" title=\"Te recomendamos iniciar sesi\\xc3\\xb3n, aunque no es obligatorio [o]\" accesskey=\"o\"><span class=\"vector-icon mw-ui-icon-logIn mw-ui-icon-wikimedia-logIn\"></span> <span>Acceder</span></a></li>\\n\\t\\t</ul>\\n\\t\\t\\n\\t</div>\\n</div>\\n\\n<div id=\"p-user-menu-anon-editor\" class=\"vector-menu mw-portlet mw-portlet-user-menu-anon-editor\"  >\\n\\t<div class=\"vector-menu-heading\">\\n\\t\\tP\\xc3\\xa1ginas para editores desconectados <a href=\"/wiki/Ayuda:Introducci%C3%B3n\" aria-label=\"Obtenga m\\xc3\\xa1s informaci\\xc3\\xb3n sobre editar\"><span>m\\xc3\\xa1s informaci\\xc3\\xb3n</span></a>\\n\\t</div>\\n\\t<div class=\"vector-menu-content\">\\n\\t\\t\\n\\t\\t<ul class=\"vector-menu-content-list\">\\n\\t\\t\\t\\n\\t\\t\\t<li id=\"pt-anoncontribs\" class=\"mw-list-item\"><a href=\"/wiki/Especial:MisContribuciones\" title=\"Una lista de modificaciones hechas desde esta direcci\\xc3\\xb3n IP [y]\" accesskey=\"y\"><span>Contribuciones</span></a></li><li id=\"pt-anontalk\" class=\"mw-list-item\"><a href=\"/wiki/Especial:MiDiscusi%C3%B3n\" title=\"Discusi\\xc3\\xb3n sobre ediciones hechas desde esta direcci\\xc3\\xb3n IP [n]\" accesskey=\"n\"><span>Discusi\\xc3\\xb3n</span></a></li>\\n\\t\\t</ul>\\n\\t\\t\\n\\t</div>\\n</div>\\n\\n\\t\\n\\t</div>\\n</div>\\n\\n</nav>\\n\\n\\t\\t</div>\\n\\t</header>\\n</div>\\n<div class=\"mw-page-container\">\\n\\t<div class=\"mw-page-container-inner\">\\n\\t\\t<div class=\"vector-sitenotice-container\">\\n\\t\\t\\t<div id=\"siteNotice\" class=\"notheme\"><!-- CentralNotice --></div>\\n\\t\\t</div>\\n\\t\\t<div class=\"vector-column-start\">\\n\\t\\t\\t<div class=\"vector-main-menu-container\">\\n\\t\\t<div id=\"mw-navigation\">\\n\\t\\t\\t<nav id=\"mw-panel\" class=\"vector-main-menu-landmark\" aria-label=\"Sitio\" role=\"navigation\">\\n\\t\\t\\t\\t<div id=\"vector-main-menu-pinned-container\" class=\"vector-pinned-container\">\\n\\t\\t\\t\\t\\n\\t\\t\\t\\t</div>\\n\\t\\t</nav>\\n\\t\\t</div>\\n\\t</div>\\n</div>\\n\\t\\t<div class=\"mw-content-container\">\\n\\t\\t\\t<main id=\"content\" class=\"mw-body\" role=\"main\">\\n\\t\\t\\t\\t<header class=\"mw-body-header vector-page-titlebar\">\\n\\t\\t\\t\\t\\t<h1 id=\"firstHeading\" class=\"firstHeading mw-first-heading\"><span class=\"mw-page-title-namespace\">Wikipedia</span><span class=\"mw-page-title-separator\">:</span><span class=\"mw-page-title-main\">Portada</span></h1>\\n\\t\\t\\t\\t\\t\\t<div class=\"mw-indicators\">\\n\\t\\t</div>\\n</header>\\n\\t\\t\\t\\t<div class=\"vector-page-toolbar\">\\n\\t\\t\\t\\t\\t<div class=\"vector-page-toolbar-container\">\\n\\t\\t\\t\\t\\t\\t<div id=\"left-navigation\">\\n\\t\\t\\t\\t\\t\\t\\t<nav aria-label=\"Espacios de nombres\">\\n\\t\\t\\t\\t\\t\\t\\t\\t\\n<div id=\"p-associated-pages\" class=\"vector-menu vector-menu-tabs mw-portlet mw-portlet-associated-pages\"  >\\n\\t<div class=\"vector-menu-content\">\\n\\t\\t\\n\\t\\t<ul class=\"vector-menu-content-list\">\\n\\t\\t\\t\\n\\t\\t\\t<li id=\"ca-nstab-project\" class=\"selected vector-tab-noicon mw-list-item\"><a href=\"/wiki/Wikipedia:Portada\" title=\"Ver la p\\xc3\\xa1gina del proyecto [c]\" accesskey=\"c\"><span>Portada</span></a></li><li id=\"ca-talk\" class=\"vector-tab-noicon mw-list-item\"><a href=\"/wiki/Wikipedia_discusi%C3%B3n:Portada\" rel=\"discussion\" title=\"Discusi\\xc3\\xb3n acerca de la p\\xc3\\xa1gina [t]\" accesskey=\"t\"><span>Discusi\\xc3\\xb3n</span></a></li>\\n\\t\\t</ul>\\n\\t\\t\\n\\t</div>\\n</div>\\n\\n\\t\\t\\t\\t\\t\\t\\t\\t\\n<div id=\"p-variants\" class=\"vector-dropdown emptyPortlet\"  >\\n\\t<input type=\"checkbox\" id=\"p-variants-checkbox\" role=\"button\" aria-haspopup=\"true\" data-event-name=\"ui.dropdown-p-variants\" class=\"vector-dropdown-checkbox \" aria-label=\"Cambiar variante de idioma\"   >\\n\\t<label id=\"p-variants-label\" for=\"p-variants-checkbox\" class=\"vector-dropdown-label cdx-button cdx-button--fake-button cdx-button--fake-button--enabled cdx-button--weight-quiet\" aria-hidden=\"true\"  ><span class=\"vector-dropdown-label-text\">espa\\xc3\\xb1ol</span>\\n\\t</label>\\n\\t<div class=\"vector-dropdown-content\">\\n\\n\\n\\t\\t\\t\\t\\t\\n<div id=\"p-variants\" class=\"vector-menu mw-portlet mw-portlet-variants emptyPortlet\"  >\\n\\t<div class=\"vector-menu-content\">\\n\\t\\t\\n\\t\\t<ul class=\"vector-menu-content-list\">\\n\\t\\t\\t\\n\\t\\t\\t\\n\\t\\t</ul>\\n\\t\\t\\n\\t</div>\\n</div>\\n\\n\\t\\t\\t\\t\\n\\t</div>\\n</div>\\n\\n\\t\\t\\t\\t\\t\\t\\t</nav>\\n\\t\\t\\t\\t\\t\\t</div>\\n\\t\\t\\t\\t\\t\\t<div id=\"right-navigation\" class=\"vector-collapsible\">\\n\\t\\t\\t\\t\\t\\t\\t<nav aria-label=\"Vistas\">\\n\\t\\t\\t\\t\\t\\t\\t\\t\\n<div id=\"p-views\" class=\"vector-menu vector-menu-tabs mw-portlet mw-portlet-views\"  >\\n\\t<div class=\"vector-menu-content\">\\n\\t\\t\\n\\t\\t<ul class=\"vector-menu-content-list\">\\n\\t\\t\\t\\n\\t\\t\\t<li id=\"ca-view\" class=\"selected vector-tab-noicon mw-list-item\"><a href=\"/wiki/Wikipedia:Portada\"><span>Leer</span></a></li><li id=\"ca-viewsource\" class=\"vector-tab-noicon mw-list-item\"><a href=\"/w/index.php?title=Wikipedia:Portada&amp;action=edit\" title=\"Esta p\\xc3\\xa1gina est\\xc3\\xa1 protegida, pero puedes ver su c\\xc3\\xb3digo fuente [e]\" accesskey=\"e\"><span>Ver c\\xc3\\xb3digo fuente</span></a></li><li id=\"ca-history\" class=\"vector-tab-noicon mw-list-item\"><a href=\"/w/index.php?title=Wikipedia:Portada&amp;action=history\" title=\"Versiones anteriores de esta p\\xc3\\xa1gina [h]\" accesskey=\"h\"><span>Ver historial</span></a></li>\\n\\t\\t</ul>\\n\\t\\t\\n\\t</div>\\n</div>\\n\\n\\t\\t\\t\\t\\t\\t\\t</nav>\\n\\t\\t\\t\\t\\n\\t\\t\\t\\t\\t\\t\\t<nav class=\"vector-page-tools-landmark\" aria-label=\"P\\xc3\\xa1gina de herramientas\">\\n\\t\\t\\t\\t\\t\\t\\t\\t\\n<div id=\"vector-page-tools-dropdown\" class=\"vector-dropdown vector-page-tools-dropdown\"  >\\n\\t<input type=\"checkbox\" id=\"vector-page-tools-dropdown-checkbox\" role=\"button\" aria-haspopup=\"true\" data-event-name=\"ui.dropdown-vector-page-tools-dropdown\" class=\"vector-dropdown-checkbox \"  aria-label=\"Herramientas\"  >\\n\\t<label id=\"vector-page-tools-dropdown-label\" for=\"vector-page-tools-dropdown-checkbox\" class=\"vector-dropdown-label cdx-button cdx-button--fake-button cdx-button--fake-button--enabled cdx-button--weight-quiet\" aria-hidden=\"true\"  ><span class=\"vector-dropdown-label-text\">Herramientas</span>\\n\\t</label>\\n\\t<div class=\"vector-dropdown-content\">\\n\\n\\n\\t\\t\\t\\t\\t\\t\\t\\t\\t<div id=\"vector-page-tools-unpinned-container\" class=\"vector-unpinned-container\">\\n\\t\\t\\t\\t\\t\\t\\n<div id=\"vector-page-tools\" class=\"vector-page-tools vector-pinnable-element\">\\n\\t<div\\n\\tclass=\"vector-pinnable-header vector-page-tools-pinnable-header vector-pinnable-header-unpinned\"\\n\\tdata-feature-name=\"page-tools-pinned\"\\n\\tdata-pinnable-element-id=\"vector-page-tools\"\\n\\tdata-pinned-container-id=\"vector-page-tools-pinned-container\"\\n\\tdata-unpinned-container-id=\"vector-page-tools-unpinned-container\"\\n>\\n\\t<div class=\"vector-pinnable-header-label\">Herramientas</div>\\n\\t<button class=\"vector-pinnable-header-toggle-button vector-pinnable-header-pin-button\" data-event-name=\"pinnable-header.vector-page-tools.pin\">mover a la barra lateral</button>\\n\\t<button class=\"vector-pinnable-header-toggle-button vector-pinnable-header-unpin-button\" data-event-name=\"pinnable-header.vector-page-tools.unpin\">ocultar</button>\\n</div>\\n\\n\\t\\n<div id=\"p-cactions\" class=\"vector-menu mw-portlet mw-portlet-cactions emptyPortlet vector-has-collapsible-items\"  title=\"M\\xc3\\xa1s opciones\" >\\n\\t<div class=\"vector-menu-heading\">\\n\\t\\tAcciones\\n\\t</div>\\n\\t<div class=\"vector-menu-content\">\\n\\t\\t\\n\\t\\t<ul class=\"vector-menu-content-list\">\\n\\t\\t\\t\\n\\t\\t\\t<li id=\"ca-more-view\" class=\"selected vector-more-collapsible-item mw-list-item\"><a href=\"/wiki/Wikipedia:Portada\"><span>Leer</span></a></li><li id=\"ca-more-viewsource\" class=\"vector-more-collapsible-item mw-list-item\"><a href=\"/w/index.php?title=Wikipedia:Portada&amp;action=edit\"><span>Ver c\\xc3\\xb3digo fuente</span></a></li><li id=\"ca-more-history\" class=\"vector-more-collapsible-item mw-list-item\"><a href=\"/w/index.php?title=Wikipedia:Portada&amp;action=history\"><span>Ver historial</span></a></li>\\n\\t\\t</ul>\\n\\t\\t\\n\\t</div>\\n</div>\\n\\n<div id=\"p-tb\" class=\"vector-menu mw-portlet mw-portlet-tb\"  >\\n\\t<div class=\"vector-menu-heading\">\\n\\t\\tGeneral\\n\\t</div>\\n\\t<div class=\"vector-menu-content\">\\n\\t\\t\\n\\t\\t<ul class=\"vector-menu-content-list\">\\n\\t\\t\\t\\n\\t\\t\\t<li id=\"t-whatlinkshere\" class=\"mw-list-item\"><a href=\"/wiki/Especial:LoQueEnlazaAqu%C3%AD/Wikipedia:Portada\" title=\"Lista de todas las p\\xc3\\xa1ginas de la wiki que enlazan aqu\\xc3\\xad [j]\" accesskey=\"j\"><span>Lo que enlaza aqu\\xc3\\xad</span></a></li><li id=\"t-recentchangeslinked\" class=\"mw-list-item\"><a href=\"/wiki/Especial:CambiosEnEnlazadas/Wikipedia:Portada\" rel=\"nofollow\" title=\"Cambios recientes en las p\\xc3\\xa1ginas que enlazan con esta [k]\" accesskey=\"k\"><span>Cambios en enlazadas</span></a></li><li id=\"t-upload\" class=\"mw-list-item\"><a href=\"//commons.wikimedia.org/wiki/Special:UploadWizard?uselang=es\" title=\"Subir archivos [u]\" accesskey=\"u\"><span>Subir archivo</span></a></li><li id=\"t-specialpages\" class=\"mw-list-item\"><a href=\"/wiki/Especial:P%C3%A1ginasEspeciales\" title=\"Lista de todas las p\\xc3\\xa1ginas especiales [q]\" accesskey=\"q\"><span>P\\xc3\\xa1ginas especiales</span></a></li><li id=\"t-permalink\" class=\"mw-list-item\"><a href=\"/w/index.php?title=Wikipedia:Portada&amp;oldid=149134229\" title=\"Enlace permanente a esta versi\\xc3\\xb3n de la p\\xc3\\xa1gina\"><span>Enlace permanente</span></a></li><li id=\"t-info\" class=\"mw-list-item\"><a href=\"/w/index.php?title=Wikipedia:Portada&amp;action=info\" title=\"M\\xc3\\xa1s informaci\\xc3\\xb3n sobre esta p\\xc3\\xa1gina\"><span>Informaci\\xc3\\xb3n de la p\\xc3\\xa1gina</span></a></li><li id=\"t-urlshortener\" class=\"mw-list-item\"><a href=\"/w/index.php?title=Especial:Acortador_de_URL&amp;url=https%3A%2F%2Fes.wikipedia.org%2Fwiki%2FWikipedia%3APortada\"><span>Obtener URL acortado</span></a></li><li id=\"t-urlshortener-qrcode\" class=\"mw-list-item\"><a href=\"/w/index.php?title=Especial:QrCode&amp;url=https%3A%2F%2Fes.wikipedia.org%2Fwiki%2FWikipedia%3APortada\"><span>Descargar c\\xc3\\xb3digo QR</span></a></li><li id=\"t-wikibase\" class=\"mw-list-item\"><a href=\"https://www.wikidata.org/wiki/Special:EntityPage/Q5296\" title=\"Enlace al elemento conectado del repositorio de datos [g]\" accesskey=\"g\"><span>Elemento de Wikidata</span></a></li>\\n\\t\\t</ul>\\n\\t\\t\\n\\t</div>\\n</div>\\n\\n<div id=\"p-coll-print_export\" class=\"vector-menu mw-portlet mw-portlet-coll-print_export\"  >\\n\\t<div class=\"vector-menu-heading\">\\n\\t\\tImprimir/exportar\\n\\t</div>\\n\\t<div class=\"vector-menu-content\">\\n\\t\\t\\n\\t\\t<ul class=\"vector-menu-content-list\">\\n\\t\\t\\t\\n\\t\\t\\t<li id=\"coll-create_a_book\" class=\"mw-list-item\"><a href=\"/w/index.php?title=Especial:Libro&amp;bookcmd=book_creator&amp;referer=Wikipedia%3APortada\"><span>Crear un libro</span></a></li><li id=\"coll-download-as-rl\" class=\"mw-list-item\"><a href=\"/w/index.php?title=Especial:DownloadAsPdf&amp;page=Wikipedia%3APortada&amp;action=show-download-screen\"><span>Descargar como PDF</span></a></li><li id=\"t-print\" class=\"mw-list-item\"><a href=\"/w/index.php?title=Wikipedia:Portada&amp;printable=yes\" title=\"Versi\\xc3\\xb3n imprimible de esta p\\xc3\\xa1gina [p]\" accesskey=\"p\"><span>Versi\\xc3\\xb3n para imprimir</span></a></li>\\n\\t\\t</ul>\\n\\t\\t\\n\\t</div>\\n</div>\\n\\n<div id=\"p-wikibase-otherprojects\" class=\"vector-menu mw-portlet mw-portlet-wikibase-otherprojects\"  >\\n\\t<div class=\"vector-menu-heading\">\\n\\t\\tEn otros proyectos\\n\\t</div>\\n\\t<div class=\"vector-menu-content\">\\n\\t\\t\\n\\t\\t<ul class=\"vector-menu-content-list\">\\n\\t\\t\\t\\n\\t\\t\\t<li class=\"wb-otherproject-link wb-otherproject-commons mw-list-item\"><a href=\"https://commons.wikimedia.org/wiki/Main_Page\" hreflang=\"en\"><span>Wikimedia Commons</span></a></li><li class=\"wb-otherproject-link wb-otherproject-foundation mw-list-item\"><a href=\"https://foundation.wikimedia.org/wiki/Home\" hreflang=\"en\"><span>Fundaci\\xc3\\xb3n Wikimedia</span></a></li><li class=\"wb-otherproject-link wb-otherproject-mediawiki mw-list-item\"><a href=\"https://www.mediawiki.org/wiki/MediaWiki\" hreflang=\"en\"><span>MediaWiki</span></a></li><li class=\"wb-otherproject-link wb-otherproject-meta mw-list-item\"><a href=\"https://meta.wikimedia.org/wiki/Main_Page\" hreflang=\"en\"><span>Meta-Wiki</span></a></li><li class=\"wb-otherproject-link wb-otherproject-outreach mw-list-item\"><a href=\"https://outreach.wikimedia.org/wiki/Main_Page\" hreflang=\"en\"><span>Divulgaci\\xc3\\xb3n de Wikimedia</span></a></li><li class=\"wb-otherproject-link wb-otherproject-sources mw-list-item\"><a href=\"https://wikisource.org/wiki/Main_Page\" hreflang=\"en\"><span>Wikisource multiling\\xc3\\xbce</span></a></li><li class=\"wb-otherproject-link wb-otherproject-species mw-list-item\"><a href=\"https://species.wikimedia.org/wiki/Main_Page\" hreflang=\"en\"><span>Wikiespecies</span></a></li><li class=\"wb-otherproject-link wb-otherproject-wikibooks mw-list-item\"><a href=\"https://es.wikibooks.org/wiki/Portada\" hreflang=\"es\"><span>Wikilibros</span></a></li><li class=\"wb-otherproject-link wb-otherproject-wikidata mw-list-item\"><a href=\"https://www.wikidata.org/wiki/Wikidata:Main_Page\" hreflang=\"en\"><span>Wikidata</span></a></li><li class=\"wb-otherproject-link wb-otherproject-wikifunctions mw-list-item\"><a href=\"https://www.wikifunctions.org/wiki/Wikifunctions:Main_Page\" hreflang=\"en\"><span>Wikifunciones</span></a></li><li class=\"wb-otherproject-link wb-otherproject-wikimania badge-Q70894304 mw-list-item\" title=\"\"><a href=\"https://wikimania.wikimedia.org/wiki/Wikimania\" hreflang=\"en\"><span>Wikiman\\xc3\\xada</span></a></li><li class=\"wb-otherproject-link wb-otherproject-wikinews mw-list-item\"><a href=\"https://es.wikinews.org/wiki/Portada\" hreflang=\"es\"><span>Wikinoticias</span></a></li><li class=\"wb-otherproject-link wb-otherproject-wikiquote mw-list-item\"><a href=\"https://es.wikiquote.org/wiki/Portada\" hreflang=\"es\"><span>Wikiquote</span></a></li><li class=\"wb-otherproject-link wb-otherproject-wikisource mw-list-item\"><a href=\"https://es.wikisource.org/wiki/Portada\" hreflang=\"es\"><span>Wikisource</span></a></li><li class=\"wb-otherproject-link wb-otherproject-wikiversity mw-list-item\"><a href=\"https://es.wikiversity.org/wiki/Portada\" hreflang=\"es\"><span>Wikiversidad</span></a></li><li class=\"wb-otherproject-link wb-otherproject-wikivoyage mw-list-item\"><a href=\"https://es.wikivoyage.org/wiki/P%C3%A1gina_principal\" hreflang=\"es\"><span>Wikiviajes</span></a></li><li class=\"wb-otherproject-link wb-otherproject-wiktionary mw-list-item\"><a href=\"https://es.wiktionary.org/wiki/Wikcionario:Portada\" hreflang=\"es\"><span>Wikcionario</span></a></li>\\n\\t\\t</ul>\\n\\t\\t\\n\\t</div>\\n</div>\\n\\n</div>\\n\\n\\t\\t\\t\\t\\t\\t\\t\\t\\t</div>\\n\\t\\t\\t\\t\\n\\t</div>\\n</div>\\n\\n\\t\\t\\t\\t\\t\\t\\t</nav>\\n\\t\\t\\t\\t\\t\\t</div>\\n\\t\\t\\t\\t\\t</div>\\n\\t\\t\\t\\t</div>\\n\\t\\t\\t\\t<div class=\"vector-column-end\">\\n\\t\\t\\t\\t\\t<div class=\"vector-sticky-pinned-container\">\\n\\t\\t\\t\\t\\t\\t<nav class=\"vector-page-tools-landmark\" aria-label=\"P\\xc3\\xa1gina de herramientas\">\\n\\t\\t\\t\\t\\t\\t\\t<div id=\"vector-page-tools-pinned-container\" class=\"vector-pinned-container\">\\n\\t\\t\\t\\t\\n\\t\\t\\t\\t\\t\\t\\t</div>\\n\\t\\t</nav>\\n\\t\\t\\t\\t\\t\\t<nav class=\"vector-appearance-landmark\" aria-label=\"Apariencia\">\\n\\t\\t\\t\\t\\t\\t\\t<div id=\"vector-appearance-pinned-container\" class=\"vector-pinned-container\">\\n\\t\\t\\t\\t<div id=\"vector-appearance\" class=\"vector-appearance vector-pinnable-element\">\\n\\t<div\\n\\tclass=\"vector-pinnable-header vector-appearance-pinnable-header vector-pinnable-header-pinned\"\\n\\tdata-feature-name=\"appearance-pinned\"\\n\\tdata-pinnable-element-id=\"vector-appearance\"\\n\\tdata-pinned-container-id=\"vector-appearance-pinned-container\"\\n\\tdata-unpinned-container-id=\"vector-appearance-unpinned-container\"\\n>\\n\\t<div class=\"vector-pinnable-header-label\">Apariencia</div>\\n\\t<button class=\"vector-pinnable-header-toggle-button vector-pinnable-header-pin-button\" data-event-name=\"pinnable-header.vector-appearance.pin\">mover a la barra lateral</button>\\n\\t<button class=\"vector-pinnable-header-toggle-button vector-pinnable-header-unpin-button\" data-event-name=\"pinnable-header.vector-appearance.unpin\">ocultar</button>\\n</div>\\n\\n\\n</div>\\n\\n\\t\\t\\t\\t\\t\\t\\t</div>\\n\\t\\t</nav>\\n\\t\\t\\t\\t\\t</div>\\n\\t\\t\\t\\t</div>\\n\\t\\t\\t\\t<div id=\"bodyContent\" class=\"vector-body\" aria-labelledby=\"firstHeading\" data-mw-ve-target-container>\\n\\t\\t\\t\\t\\t<div class=\"vector-body-before-content\">\\n\\t\\t\\t\\t\\t\\n\\t\\t\\t\\t\\t\\t<div id=\"siteSub\" class=\"noprint\">De Wikipedia, la enciclopedia libre</div>\\n\\t\\t\\t\\t\\t</div>\\n\\t\\t\\t\\t\\t<div id=\"contentSub\"><div id=\"mw-content-subtitle\"></div></div>\\n\\t\\t\\t\\t\\t\\n\\t\\t\\t\\t\\t\\n\\t\\t\\t\\t\\t<div id=\"mw-content-text\" class=\"mw-body-content\"><div class=\"mw-content-ltr mw-parser-output\" lang=\"es\" dir=\"ltr\"><style data-mw-deduplicate=\"TemplateStyles:r144107000\">.mw-parser-output .main-header{border-bottom-color:transparent;margin-bottom:0.25em;margin-top:0;padding-bottom:0;padding-top:0}.mw-parser-output .main-plainlist>ul{list-style:none;margin:0;padding:0}.mw-parser-output .main-plainlist li{margin-bottom:0}.mw-parser-output .main-top-right .mw-ui-quiet:hover,.mw-parser-output .main-top-right .mw-ui-quiet:focus,.mw-parser-output .main-footer .mw-ui-quiet:hover,.mw-parser-output .main-footer .mw-ui-quiet:focus{color:#0645ad}.mw-parser-output .mw-headline-number{display:none}@media(min-width:720px){.mw-parser-output .main-wikimedia{padding-top:1rem;padding-left:1rem;padding-right:1rem}}@media(min-width:1000px){.mw-parser-output .main-wrapper{display:flex;margin:0 -0.5rem}.mw-parser-output .main-wrapper-column{flex:1;margin:0 0.5rem}.mw-parser-output .main-wikimedia{padding-top:1rem;padding-left:1rem;padding-right:1rem}}@media(min-width:1000px){.mw-parser-output .main-wrapper-column{width:55%}.mw-parser-output .main-wrapper-column+.main-wrapper-column{width:45%}.mw-parser-output .main-wrapper-column{flex:inherit}}.mw-parser-output .main-box-image-only div{width:auto!important}body.skin-timeless .mw-parser-output .main-box-header:after,body.skin-timeless .mw-parser-output .main-top-header:after{border-bottom:0 solid transparent}</style>\\n<style data-mw-deduplicate=\"TemplateStyles:r144107009\">.mw-parser-output .main-top{font-size:1rem;margin-top:1rem;padding-bottom:1.5rem}.mw-parser-output .main-top-left>p{font-size:0.875em;margin:0}.mw-parser-output .main-top-right{font-size:0.875em;margin-top:0.5em}.mw-parser-output .main-top-right>ul{display:none;margin-top:0.5rem}.mw-parser-output .main-top-right .mw-ui-button.mw-ui-quiet{padding-right:0}.mw-parser-output .main-top-header{border-bottom:0;margin-bottom:0;margin-top:0}.mw-parser-output .main-top-articleCount{margin-bottom:0}body.skin-minerva .mw-parser-output .main-top-articleCount{display:none}.mw-parser-output .main-top-mobileSearch{display:none;margin-top:1rem}body.skin-minerva .mw-parser-output .main-top-mobileSearch{display:block}.mw-parser-output .main-top-mobileSearchButton{background:#fff;border:none;box-shadow:0 2px 2px 0 rgba(0,0,0,0.25);color:#72777d;font-weight:normal;max-width:none;text-align:left;width:100%}@media(min-width:720px){.mw-parser-output .main-top{background-color:#f8f9fa;border:1px solid #c8ccd1;border-radius:2px;box-shadow:0 1px 1px rgba(0,0,0,.15);margin-bottom:1rem;padding:1rem}.mw-parser-output .main-top-right>ul{display:flex;flex-wrap:wrap}.mw-parser-output .main-top-articleCount{margin-bottom:0.5rem}body.skin-minerva .mw-parser-output .main-top-articleCount{display:block}body.skin-minerva .mw-parser-output .main-top-mobileSearch{display:none}}@media(min-width:1000px){.mw-parser-output .main-top{align-items:center;background-image:url(\"https://upload.wikimedia.org/wikipedia/commons/e/e3/Wikipedia_logo_letters_banner.svg\");background-position:right;background-repeat:no-repeat;display:flex;margin-bottom:1rem;margin-top:0.5rem;padding:0 1.5rem 0 0}.mw-parser-output .main-top-left{background-image:linear-gradient(to right,#f8f9fa 0%,#f8f9fa 70%,rgba(248,249,250,0)100%);flex:2;padding:2rem 0 2rem 1.5rem}.mw-parser-output .main-top-right{flex:3;margin-top:0;text-align:right}.mw-parser-output .main-top-right>ul{align-items:center;flex-direction:row-reverse;margin-top:0;text-align:left}.mw-parser-output .main-top-createArticle+li .mw-ui-button.mw-ui-quiet{padding-right:1em}}body.skin-modern .mw-parser-output .main-top-header{line-height:1.8rem;font-size:1.8rem}</style>\\n<div class=\"main-top\">\\n<div class=\"main-top-left\">\\n<h1 class=\"main-top-header\" data-mw-thread-id=\"h-Bienvenidos_a_Wikipedia,\"><span id=\"Bienvenidos_a_Wikipedia.2C\"></span><span class=\"mw-headline\" id=\"Bienvenidos_a_Wikipedia,\"><span data-mw-comment-start=\"\" id=\"h-Bienvenidos_a_Wikipedia,\"></span><a href=\"/wiki/Wikipedia:Bienvenidos\" title=\"Wikipedia:Bienvenidos\">Bienvenidos</a> a Wikipedia,<span data-mw-comment-end=\"h-Bienvenidos_a_Wikipedia,\"></span></span></h1>\\n<p>la enciclopedia de contenido libre<br/>que <a href=\"/wiki/Ayuda:Introducci%C3%B3n\" title=\"Ayuda:Introducci\\xc3\\xb3n\">todos pueden editar</a>.\\n</p>\\n<div class=\"main-top-mobileSearch\"><a href=\"/wiki/Especial:Buscar\" title=\"Especial:Buscar\"><span class=\"mw-ui-button main-top-mobileSearchButton skin-minerva-search-trigger\">Buscar en 1\\xc2\\xa0955\\xc2\\xa0312 art\\xc3\\xadculos</span></a></div>\\n</div>\\n<div class=\"main-top-right main-plainlist\">\\n<p class=\"main-top-articleCount\"><b><a href=\"/wiki/Especial:Estad%C3%ADsticas\" title=\"Especial:Estad\\xc3\\xadsticas\">1\\xc2\\xa0955\\xc2\\xa0312</a></b> art\\xc3\\xadculos <a href=\"/wiki/Wikipedia_en_espa%C3%B1ol\" title=\"Wikipedia en espa\\xc3\\xb1ol\">en espa\\xc3\\xb1ol</a>.</p>\\n<ul>\\n<li><a href=\"/wiki/Wikipedia:Caf%C3%A9\" title=\"Wikipedia:Caf\\xc3\\xa9\"><span class=\"mw-ui-button mw-ui-quiet\">Caf\\xc3\\xa9</span></a></li>\\n<li><a href=\"/wiki/Ayuda:C%C3%B3mo_puedes_colaborar\" title=\"Ayuda:C\\xc3\\xb3mo puedes colaborar\"><span class=\"mw-ui-button mw-ui-quiet\">\\xc2\\xbfC\\xc3\\xb3mo colaborar?</span></a></li>\\n<li><a href=\"/wiki/Ayuda:Introducci%C3%B3n\" title=\"Ayuda:Introducci\\xc3\\xb3n\"><span class=\"mw-ui-button mw-ui-quiet\">Primeros pasos</span></a></li>\\n<li><a href=\"/wiki/Ayuda:Contenidos\" title=\"Ayuda:Contenidos\"><span class=\"mw-ui-button mw-ui-quiet\">Ayuda</span></a></li>\\n<li><a href=\"/wiki/Wikipedia:Contacto\" title=\"Wikipedia:Contacto\"><span class=\"mw-ui-button mw-ui-quiet\">Contacto</span></a></li>\\n</ul>\\n</div>\\n</div>\\n<div class=\"main-wrapper\">\\n<div class=\"main-wrapper-column\">\\n<style data-mw-deduplicate=\"TemplateStyles:r144107018\">.mw-parser-output .main-box{background:#fff;border:solid #c8ccd1;border-width:1px 0;box-shadow:0 1px 1px rgba(0,0,0,0.15);margin:0 -1rem 1rem;padding:1rem}.mw-parser-output .main-box>p:last-child{margin-bottom:0}.mw-parser-output .main-box-image-only>.main-box-content{margin:0.5rem -1rem 0;text-align:center}.mw-parser-output .main-box-image-only>.main-box-content img{height:auto;max-width:100%}.mw-parser-output .main-box-imageCaption{text-align:center}.mw-parser-output .main-box-imageCaption>p{display:inline-block;margin-bottom:0;text-align:left}.mw-parser-output .main-box-section{color:#72777d;line-height:1.25;margin-top:-.125em}.mw-parser-output .main-box-header{margin-top:-.15em}.mw-parser-output .main-box-header a{color:inherit}.mw-parser-output .main-box-section+.main-box-header{margin-top:0}.mw-parser-output .main-box-header a:focus,.mw-parser-output .main-box:hover .main-box-header a,.mw-parser-output .main-box:hover .main-featuredLists-item>a{color:#0645ad}.mw-parser-output .main-footer{display:flex;justify-content:flex-end;margin-top:1rem;position:relative}.mw-parser-output .main-footer:empty{display:none}.mw-parser-output .main-footer-actions{flex:1}.mw-parser-output .main-footer-actions>ul{align-items:center;display:flex}.mw-parser-output .main-footer-menu{align-items:stretch;display:flex}.mw-parser-output .main-footer-menuToggle{align-items:center;display:flex;float:none;height:100%;opacity:0.87}.mw-parser-output .main-footer-menuToggle:hover{opacity:0.51}.mw-parser-output .main-footer-menuDropdown{background:#fff;border:1px solid #a2a9b1;border-radius:2px;box-shadow:0 2px 2px 0 rgba(0,0,0,0.25);max-width:15em;position:absolute;right:0;top:100%;z-index:100}.mw-parser-output .main-footer-menuDropdown .mw-ui-button{text-align:left;width:100%}@media(max-width:719px){.mw-parser-output .main-box-responsive-image>.floatleft,.mw-parser-output .main-box-responsive-image>.floatright{float:none;margin-left:-1rem;margin-right:-1rem;text-align:center}.mw-parser-output .main-box-responsive-image>.floatleft>a,.mw-parser-output .main-box-responsive-image>.floatright>a{display:block}}@media(min-width:720px){.mw-parser-output .main-box{border-radius:2px;border-width:1px;margin-bottom:1rem;margin-left:0;margin-right:0}}@media(min-width:1000px){.mw-parser-output .main-box{margin-bottom:1rem;padding:1rem}.mw-parser-output .main-box-image-only>.main-box-content{margin-left:-1rem;margin-right:-1rem}}</style>\\n<div id=\"main-tfa\" class=\"main-box main-box-responsive-image\"><div id=\"Art\\xc3\\xadculo_destacado\" class=\"main-box-section\">Art\\xc3\\xadculo destacado</div><h2 class=\"main-header main-box-header\" data-mw-thread-id=\"h-A_Thousand_Suns-Bienvenidos_a_Wikipedia,\"><span class=\"mw-headline\" id=\"A_Thousand_Suns\"><span data-mw-comment-start=\"\" id=\"h-A_Thousand_Suns-Bienvenidos_a_Wikipedia,\"></span><a href=\"/wiki/A_Thousand_Suns\" title=\"A Thousand Suns\">A Thousand Suns</a><span data-mw-comment-end=\"h-A_Thousand_Suns-Bienvenidos_a_Wikipedia,\"></span></span></h2>\\n<figure class=\"mw-halign-right\" typeof=\"mw:File/Thumb\"><a href=\"/wiki/Archivo:Ivy_Mike_001.jpg\" class=\"mw-file-description\"><img src=\"//upload.wikimedia.org/wikipedia/commons/thumb/3/35/Ivy_Mike_001.jpg/200px-Ivy_Mike_001.jpg\" decoding=\"async\" width=\"200\" height=\"159\" class=\"mw-file-element\" srcset=\"//upload.wikimedia.org/wikipedia/commons/thumb/3/35/Ivy_Mike_001.jpg/300px-Ivy_Mike_001.jpg 1.5x, //upload.wikimedia.org/wikipedia/commons/thumb/3/35/Ivy_Mike_001.jpg/400px-Ivy_Mike_001.jpg 2x\" data-file-width=\"800\" data-file-height=\"637\"/></a><figcaption>El \\xc3\\xa1lbum trata principalmente sobre el miedo a una guerra nuclear y su t\\xc3\\xadtulo hace referencia a las palabras pronunciadas por Oppenheimer tras la creaci\\xc3\\xb3n de la <a href=\"/wiki/Bomba_at%C3%B3mica\" title=\"Bomba at\\xc3\\xb3mica\">bomba at\\xc3\\xb3mica</a>.</figcaption></figure>\\n<p><i><b>A Thousand Suns</b></i> es el cuarto <a href=\"/wiki/%C3%81lbum_de_estudio\" title=\"\\xc3\\x81lbum de estudio\">\\xc3\\xa1lbum de estudio</a> de la banda <a href=\"/wiki/Estados_Unidos\" title=\"Estados Unidos\">estadounidense</a> <a href=\"/wiki/Linkin_Park\" title=\"Linkin Park\">Linkin Park</a>, lanzado el 14 de septiembre de 2010 bajo el <a href=\"/wiki/Discogr%C3%A1fica\" class=\"mw-redirect\" title=\"Discogr\\xc3\\xa1fica\">sello discogr\\xc3\\xa1fico</a> de <a href=\"/wiki/Warner_Bros._Records\" class=\"mw-redirect\" title=\"Warner Bros. Records\">Warner Bros. Records</a>. La composici\\xc3\\xb3n del \\xc3\\xa1lbum fue llevada a cabo por la banda, mientras que su producci\\xc3\\xb3n estuvo a cargo del vocalista <a href=\"/wiki/Mike_Shinoda\" title=\"Mike Shinoda\">Mike Shinoda</a> y de <a href=\"/wiki/Rick_Rubin\" title=\"Rick Rubin\">Rick Rubin</a>, con quien el grupo hab\\xc3\\xada trabajado en su \\xc3\\xa1lbum de estudio anterior, <i><a href=\"/wiki/Minutes_to_Midnight\" title=\"Minutes to Midnight\">Minutes to Midnight</a></i> (2007). Las sesiones de grabaci\\xc3\\xb3n tuvieron lugar en los NRG Recording Studios en North Hollywood (<a href=\"/wiki/Los_%C3%81ngeles\" title=\"Los \\xc3\\x81ngeles\">Los \\xc3\\x81ngeles</a>, <a href=\"/wiki/California\" title=\"California\">California</a>) desde 2008 hasta principios de 2010.\\n</p><p><i>A Thousand Suns</i> es un <a href=\"/wiki/%C3%81lbum_conceptual\" title=\"\\xc3\\x81lbum conceptual\">\\xc3\\xa1lbum conceptual</a> que trata principalmente sobre el miedo a una <a href=\"/wiki/Guerra_nuclear\" title=\"Guerra nuclear\">guerra nuclear</a>. La banda reconoci\\xc3\\xb3 que, debido a la experimentaci\\xc3\\xb3n con sonidos nuevos y distintos, fue un cambio radical con respecto a sus trabajos anteriores. Shinoda afirm\\xc3\\xb3 en una entrevista de <a href=\"/wiki/MTV\" title=\"MTV\">MTV</a> que en su obra hacen referencia a numerosos problemas sociales como la \\xc2\\xabmezcla de ideas humanas con la tecnolog\\xc3\\xada\\xc2\\xbb y los \\xc2\\xabtemores [del hombre], el miedo de lo que va a ocurrir en el mundo\\xc2\\xbb. El t\\xc3\\xadtulo del \\xc3\\xa1lbum proviene de una cita del texto sagrado <a href=\"/wiki/Hinduismo\" title=\"Hinduismo\">hinduista</a> <i><a href=\"/wiki/Bhagavad_G%C4%ABt%C4%81\" class=\"mw-redirect\" title=\"Bhagavad G\\xc4\\xabt\\xc4\\x81\">Bhagavad G\\xc4\\xabt\\xc4\\x81</a></i>, recordada por <a href=\"/wiki/Robert_Oppenheimer\" title=\"Robert Oppenheimer\">Robert Oppenheimer</a> tras la creaci\\xc3\\xb3n de la <a href=\"/wiki/Bomba_at%C3%B3mica\" title=\"Bomba at\\xc3\\xb3mica\">bomba at\\xc3\\xb3mica</a>: \\xc2\\xabSi cientos de miles de soles aparecieran en el cielo al mismo tiempo, su brillo podr\\xc3\\xada semejarse al de la refulgencia de la Persona Suprema en esa forma universal\\xc2\\xbb.\\n</p>\\n<div style=\"clear: both;\"></div>\\n<div class=\"main-footer\"><div class=\"main-footer-actions main-plainlist nomobile\">\\n<ul><li><a href=\"/wiki/A_Thousand_Suns\" title=\"A Thousand Suns\"><span class=\"mw-ui-button\"> Leer </span></a></li>\\n<li><span class=\"nomobile\"><a href=\"/wiki/Wikipedia:Art%C3%ADculos_destacados/%C3%8Dndice\" title=\"Wikipedia:Art\\xc3\\xadculos destacados/\\xc3\\x8dndice\"><span class=\"mw-ui-button mw-ui-quiet\"> Todos los art\\xc3\\xadculos destacados </span></a></span></li></ul>\\n</div><div id=\"mw-customcollapsible-tfa\" class=\"main-footer-menu mw-collapsible mw-collapsed nomobile\">\\n<div class=\"main-footer-menuToggle mw-collapsible-toggle mw-customtoggle-main-tfa\"><span typeof=\"mw:File\"><span title=\"Acciones adicionales\"><img alt=\"Acciones adicionales\" src=\"//upload.wikimedia.org/wikipedia/commons/thumb/b/b3/OOjs_UI_icon_ellipsis.svg/20px-OOjs_UI_icon_ellipsis.svg.png\" decoding=\"async\" width=\"20\" height=\"20\" class=\"mw-file-element\" srcset=\"//upload.wikimedia.org/wikipedia/commons/thumb/b/b3/OOjs_UI_icon_ellipsis.svg/30px-OOjs_UI_icon_ellipsis.svg.png 1.5x, //upload.wikimedia.org/wikipedia/commons/thumb/b/b3/OOjs_UI_icon_ellipsis.svg/40px-OOjs_UI_icon_ellipsis.svg.png 2x\" data-file-width=\"20\" data-file-height=\"20\"/></span></span></div>\\n<div class=\"main-footer-menuDropdown mw-collapsible-content main-plainlist\">\\n<ul><li><a href=\"/wiki/Wikipedia:Candidatos_a_art%C3%ADculos_destacados\" title=\"Wikipedia:Candidatos a art\\xc3\\xadculos destacados\"><span class=\"mw-ui-button mw-ui-quiet\"> Candidatos </span></a></li></ul>\\n<dl><dd><i>Anteriores:</i></dd></dl>\\n<ul><li><a href=\"/wiki/Jesse_L._Brown\" title=\"Jesse L. Brown\"><span class=\"mw-ui-button mw-ui-quiet\"> Jesse L. Brown </span></a></li>\\n<li><a href=\"/wiki/Donald_Dewar\" title=\"Donald Dewar\"><span class=\"mw-ui-button mw-ui-quiet\"> Donald Dewar </span></a></li>\\n<li><a href=\"/wiki/Felipe_I_de_Tarento\" title=\"Felipe I de Tarento\"><span class=\"mw-ui-button mw-ui-quiet\"> Felipe I de Tarento </span></a></li></ul>\\n</div></div></div>\\n</div>\\n<link rel=\"mw-deduplicated-inline-style\" href=\"mw-data:TemplateStyles:r144107018\">\\n<div id=\"main-tga\" class=\"main-box main-box-responsive-image\"><div id=\"Art\\xc3\\xadculo_bueno\" class=\"main-box-section\">Art\\xc3\\xadculo bueno</div><h2 class=\"main-header main-box-header\" data-mw-thread-id=\"h-Racismo_en_Quebec-Bienvenidos_a_Wikipedia,\"><span class=\"mw-headline\" id=\"Racismo_en_Quebec\"><span data-mw-comment-start=\"\" id=\"h-Racismo_en_Quebec-Bienvenidos_a_Wikipedia,\"></span><a href=\"/wiki/Racismo_en_Quebec\" title=\"Racismo en Quebec\">Racismo en Quebec</a><span data-mw-comment-end=\"h-Racismo_en_Quebec-Bienvenidos_a_Wikipedia,\"></span></span></h2>\\n<p>El <b>racismo en Quebec</b> se refiere a las actitudes, juicios y acciones discriminatorias basadas en la <a href=\"/wiki/Raza\" title=\"Raza\">raza</a>, <a href=\"/wiki/Etnia\" title=\"Etnia\">etnia</a> o <a href=\"/wiki/Nacionalidad\" title=\"Nacionalidad\">nacionalidad</a> que han ocurrido y contin\\xc3\\xbaan manifest\\xc3\\xa1ndose en la <a href=\"/wiki/Quebec\" title=\"Quebec\">provincia de Quebec</a>, Canad\\xc3\\xa1. A lo largo de la historia, la interacci\\xc3\\xb3n entre las comunidades angloparlantes, francoparlantes y los pueblos ind\\xc3\\xadgenas, as\\xc3\\xad como la inmigraci\\xc3\\xb3n de diferentes grupos \\xc3\\xa9tnicos, ha llevado a la formaci\\xc3\\xb3n de tensiones y conflictos raciales en diferentes momentos.\\n</p><p>En Quebec, el racismo se ha identificado como un problema social que ha generado diversas interpretaciones sobre su naturaleza y alcance.\\n</p>\\n<div style=\"clear: both;\"></div>\\n<div class=\"main-footer\"><div class=\"main-footer-actions main-plainlist nomobile\">\\n<ul><li><a href=\"/wiki/Racismo_en_Quebec\" title=\"Racismo en Quebec\"><span class=\"mw-ui-button\"> Leer </span></a></li>\\n<li><span class=\"nomobile\"><a href=\"/wiki/Wikipedia:Art%C3%ADculos_buenos/%C3%8Dndice\" title=\"Wikipedia:Art\\xc3\\xadculos buenos/\\xc3\\x8dndice\"><span class=\"mw-ui-button mw-ui-quiet\"> Todos los art\\xc3\\xadculos buenos </span></a></span></li></ul>\\n</div><div id=\"mw-customcollapsible-tga\" class=\"main-footer-menu mw-collapsible mw-collapsed nomobile\">\\n<div class=\"main-footer-menuToggle mw-collapsible-toggle mw-customtoggle-main-tga\"><span typeof=\"mw:File\"><span title=\"Acciones adicionales\"><img alt=\"Acciones adicionales\" src=\"//upload.wikimedia.org/wikipedia/commons/thumb/b/b3/OOjs_UI_icon_ellipsis.svg/20px-OOjs_UI_icon_ellipsis.svg.png\" decoding=\"async\" width=\"20\" height=\"20\" class=\"mw-file-element\" srcset=\"//upload.wikimedia.org/wikipedia/commons/thumb/b/b3/OOjs_UI_icon_ellipsis.svg/30px-OOjs_UI_icon_ellipsis.svg.png 1.5x, //upload.wikimedia.org/wikipedia/commons/thumb/b/b3/OOjs_UI_icon_ellipsis.svg/40px-OOjs_UI_icon_ellipsis.svg.png 2x\" data-file-width=\"20\" data-file-height=\"20\"/></span></span></div>\\n<div class=\"main-footer-menuDropdown mw-collapsible-content main-plainlist\">\\n<ul><li><a href=\"/wiki/Wikipedia:Selecci%C3%B3n_de_art%C3%ADculos_buenos/nominaciones\" title=\"Wikipedia:Selecci\\xc3\\xb3n de art\\xc3\\xadculos buenos/nominaciones\"><span class=\"mw-ui-button mw-ui-quiet\"> Candidatos </span></a></li></ul>\\n<dl><dd><i>Anteriores:</i></dd></dl>\\n<ul><li><a href=\"/wiki/Masacre_de_Tarapoto\" title=\"Masacre de Tarapoto\"><span class=\"mw-ui-button mw-ui-quiet\"> Masacre de Tarapoto </span></a></li>\\n<li><a href=\"/wiki/Tillia_Tepe\" title=\"Tillia Tepe\"><span class=\"mw-ui-button mw-ui-quiet\"> Tillia Tepe </span></a></li>\\n<li><a href=\"/wiki/Redada_del_bar_Abanicos\" title=\"Redada del bar Abanicos\"><span class=\"mw-ui-button mw-ui-quiet\"> Redada del bar Abanicos </span></a></li></ul>\\n</div></div></div>\\n</div>\\n<link rel=\"mw-deduplicated-inline-style\" href=\"mw-data:TemplateStyles:r144107018\">\\n<div id=\"main-potd\" class=\"main-box main-box-image-only\"><h2 class=\"main-header main-box-header\" data-mw-thread-id=\"h-Recurso_del_d\\xc3\\xada-Bienvenidos_a_Wikipedia,\"><span id=\"Recurso_del_d.C3.ADa\"></span><span class=\"mw-headline\" id=\"Recurso_del_d\\xc3\\xada\"><span data-mw-comment-start=\"\" id=\"h-Recurso_del_d\\xc3\\xada-Bienvenidos_a_Wikipedia,\"></span><a href=\"/wiki/Wikipedia:Recurso_del_d%C3%ADa\" title=\"Wikipedia:Recurso del d\\xc3\\xada\">Recurso del d\\xc3\\xada</a><span data-mw-comment-end=\"h-Recurso_del_d\\xc3\\xada-Bienvenidos_a_Wikipedia,\"></span></span></h2>\\n<div class=\"main-box-content\"><figure class=\"mw-halign-center\" typeof=\"mw:File\"><a href=\"/wiki/Archivo:Bohinjsko_jezero_2.jpg\" class=\"mw-file-description\" title=\"Lago Bohinj\"><img alt=\"Lago Bohinj\" src=\"//upload.wikimedia.org/wikipedia/commons/thumb/4/46/Bohinjsko_jezero_2.jpg/500px-Bohinjsko_jezero_2.jpg\" decoding=\"async\" width=\"500\" height=\"325\" class=\"mw-file-element\" srcset=\"//upload.wikimedia.org/wikipedia/commons/thumb/4/46/Bohinjsko_jezero_2.jpg/750px-Bohinjsko_jezero_2.jpg 1.5x, //upload.wikimedia.org/wikipedia/commons/thumb/4/46/Bohinjsko_jezero_2.jpg/1000px-Bohinjsko_jezero_2.jpg 2x\" data-file-width=\"2956\" data-file-height=\"1924\"/></a><figcaption>Lago Bohinj</figcaption></figure></div>\\n<div class=\"main-box-imageCaption\">\\n<p>Lago Bohinj\\n</p>\\n</div>\\n<p>El <b><a href=\"/wiki/Lago_Bohinj\" title=\"Lago Bohinj\">lago Bohinj</a></b> (en <a href=\"/wiki/Idioma_esloveno\" title=\"Idioma esloveno\">esloveno</a>: <i>Bohinjsko jezero</i>) es el lago m\\xc3\\xa1s grande de <a href=\"/wiki/Eslovenia\" title=\"Eslovenia\">Eslovenia</a>. Est\\xc3\\xa1 localizado en el municipio de <a href=\"/wiki/Bohinj\" title=\"Bohinj\">Bohinj</a>, al noroeste del pa\\xc3\\xads, y se encuentra dentro del <a href=\"/wiki/Parque_nacional_del_Triglav\" title=\"Parque nacional del Triglav\">parque nacional del Triglav</a>.\\n</p>\\n<div style=\"clear: both;\"></div>\\n<div class=\"main-footer\"><div class=\"main-footer-actions main-plainlist nomobile\">\\n<ul><li><a href=\"/wiki/Wikipedia:Recurso_del_d%C3%ADa\" title=\"Wikipedia:Recurso del d\\xc3\\xada\"><span class=\"mw-ui-button mw-ui-quiet\"> Archivo </span></a></li></ul>\\n</div></div>\\n</div>\\n<link rel=\"mw-deduplicated-inline-style\" href=\"mw-data:TemplateStyles:r144107018\">\\n<div id=\"main-port\" class=\"main-box\"><h2 class=\"main-header main-box-header\" data-mw-thread-id=\"h-Portales-Bienvenidos_a_Wikipedia,\"><span class=\"mw-headline\" id=\"Portales\"><span data-mw-comment-start=\"\" id=\"h-Portales-Bienvenidos_a_Wikipedia,\"></span><a href=\"/wiki/Wikipedia:Portal\" title=\"Wikipedia:Portal\">Portales</a><span data-mw-comment-end=\"h-Portales-Bienvenidos_a_Wikipedia,\"></span></span></h2>\\n<div style=\"font-size: 89%; padding-bottom:.2em; padding-top:.2em;\">\\n<figure class=\"mw-halign-right noviewer\" typeof=\"mw:File\"><a href=\"/wiki/Archivo:Nuvola_apps_package_graphics.svg\" class=\"mw-file-description\" title=\"Artes\"><img alt=\"Artes\" src=\"//upload.wikimedia.org/wikipedia/commons/thumb/c/c3/Nuvola_apps_package_graphics.svg/20px-Nuvola_apps_package_graphics.svg.png\" decoding=\"async\" width=\"20\" height=\"20\" class=\"mw-file-element\" srcset=\"//upload.wikimedia.org/wikipedia/commons/thumb/c/c3/Nuvola_apps_package_graphics.svg/30px-Nuvola_apps_package_graphics.svg.png 1.5x, //upload.wikimedia.org/wikipedia/commons/thumb/c/c3/Nuvola_apps_package_graphics.svg/40px-Nuvola_apps_package_graphics.svg.png 2x\" data-file-width=\"128\" data-file-height=\"128\"/></a><figcaption>Artes</figcaption></figure>\\n<p><b><a href=\"/wiki/Portal:Arte\" title=\"Portal:Arte\">Artes</a></b>: \\n<a href=\"/wiki/Portal:Arquitectura\" title=\"Portal:Arquitectura\">Arquitectura</a> \\xe2\\x80\\x93 \\n<a href=\"/wiki/Portal:Cine\" title=\"Portal:Cine\">Cine</a> \\xe2\\x80\\x93 \\n<a href=\"/wiki/Portal:Danza\" title=\"Portal:Danza\">Danza</a> \\xe2\\x80\\x93\\n<a href=\"/wiki/Portal:Literatura\" title=\"Portal:Literatura\">Literatura</a> \\xe2\\x80\\x93 \\n<a href=\"/wiki/Portal:M%C3%BAsica\" title=\"Portal:M\\xc3\\xbasica\">M\\xc3\\xbasica</a> \\xe2\\x80\\x93 \\n<a href=\"/wiki/Portal:M%C3%BAsica_cl%C3%A1sica\" title=\"Portal:M\\xc3\\xbasica cl\\xc3\\xa1sica\">M\\xc3\\xbasica cl\\xc3\\xa1sica</a> \\xe2\\x80\\x93 \\n<a href=\"/wiki/Portal:Pintura\" title=\"Portal:Pintura\">Pintura</a> \\xe2\\x80\\x93 \\n<a href=\"/wiki/Portal:Teatro\" title=\"Portal:Teatro\">Teatro</a>\\n</p>\\n</div>\\n<div style=\"border-top: 1px dotted #c088fe; font-size: 89%; padding-bottom:.2em; padding-top:.2em;\">\\n<figure class=\"mw-halign-right noviewer\" typeof=\"mw:File\"><a href=\"/wiki/Archivo:Sciences_humaines.svg\" class=\"mw-file-description\" title=\"Ciencias sociales\"><img alt=\"Ciencias sociales\" src=\"//upload.wikimedia.org/wikipedia/commons/thumb/3/3f/Sciences_humaines.svg/20px-Sciences_humaines.svg.png\" decoding=\"async\" width=\"20\" height=\"20\" class=\"mw-file-element\" srcset=\"//upload.wikimedia.org/wikipedia/commons/thumb/3/3f/Sciences_humaines.svg/30px-Sciences_humaines.svg.png 1.5x, //upload.wikimedia.org/wikipedia/commons/thumb/3/3f/Sciences_humaines.svg/40px-Sciences_humaines.svg.png 2x\" data-file-width=\"256\" data-file-height=\"256\"/></a><figcaption>Ciencias sociales</figcaption></figure>\\n<p><b><a href=\"/wiki/Portal:Ciencias_humanas_y_sociales\" title=\"Portal:Ciencias humanas y sociales\">Ciencias sociales</a></b>:\\n<a href=\"/wiki/Portal:Comunicaci%C3%B3n\" title=\"Portal:Comunicaci\\xc3\\xb3n\">Comunicaci\\xc3\\xb3n</a> \\xe2\\x80\\x93\\n<a href=\"/wiki/Portal:Deporte\" title=\"Portal:Deporte\">Deporte</a> \\xe2\\x80\\x93\\n<a href=\"/wiki/Portal:Derecho\" title=\"Portal:Derecho\">Derecho</a> \\xe2\\x80\\x93 \\n<a href=\"/wiki/Portal:Econom%C3%ADa\" title=\"Portal:Econom\\xc3\\xada\">Econom\\xc3\\xada</a> \\xe2\\x80\\x93\\n<a href=\"/wiki/Portal:Feminismo\" title=\"Portal:Feminismo\">Feminismo</a> \\xe2\\x80\\x93 \\n<a href=\"/wiki/Portal:Filosof%C3%ADa\" title=\"Portal:Filosof\\xc3\\xada\">Filosof\\xc3\\xada</a> \\xe2\\x80\\x93 \\n<a href=\"/wiki/Portal:LGBT\" title=\"Portal:LGBT\">LGBT</a> \\xe2\\x80\\x93 \\n<a href=\"/wiki/Portal:Ling%C3%BC%C3%ADstica\" title=\"Portal:Ling\\xc3\\xbc\\xc3\\xadstica\">Ling\\xc3\\xbc\\xc3\\xadstica</a> \\xe2\\x80\\x93 \\n<a href=\"/wiki/Portal:Psicolog%C3%ADa\" title=\"Portal:Psicolog\\xc3\\xada\">Psicolog\\xc3\\xada</a> \\xe2\\x80\\x93 \\n<a href=\"/wiki/Portal:Sociolog%C3%ADa\" class=\"mw-disambig\" title=\"Portal:Sociolog\\xc3\\xada\">Sociolog\\xc3\\xada</a> \\n</p>\\n</div>\\n<div style=\"border-top: 1px dotted #c088fe; font-size: 89%; padding-bottom:.2em; padding-top:.2em;\">\\n<figure class=\"mw-halign-right noviewer\" typeof=\"mw:File\"><a href=\"/wiki/Archivo:Science-symbol-2.svg\" class=\"mw-file-description\" title=\"Ciencias naturales\"><img alt=\"Ciencias naturales\" src=\"//upload.wikimedia.org/wikipedia/commons/thumb/7/75/Science-symbol-2.svg/20px-Science-symbol-2.svg.png\" decoding=\"async\" width=\"20\" height=\"20\" class=\"mw-file-element\" srcset=\"//upload.wikimedia.org/wikipedia/commons/thumb/7/75/Science-symbol-2.svg/30px-Science-symbol-2.svg.png 1.5x, //upload.wikimedia.org/wikipedia/commons/thumb/7/75/Science-symbol-2.svg/40px-Science-symbol-2.svg.png 2x\" data-file-width=\"87\" data-file-height=\"87\"/></a><figcaption>Ciencias naturales</figcaption></figure>\\n<p><b><a href=\"/wiki/Portal:Ciencias_naturales\" title=\"Portal:Ciencias naturales\">Ciencias naturales</a></b>: \\n<a href=\"/wiki/Portal:Astronom%C3%ADa\" title=\"Portal:Astronom\\xc3\\xada\">Astronom\\xc3\\xada</a> \\xe2\\x80\\x93 \\n<a href=\"/wiki/Portal:Biolog%C3%ADa\" title=\"Portal:Biolog\\xc3\\xada\">Biolog\\xc3\\xada</a> \\xe2\\x80\\x93 \\n<a href=\"/wiki/Portal:Bot%C3%A1nica\" title=\"Portal:Bot\\xc3\\xa1nica\">Bot\\xc3\\xa1nica</a> \\xe2\\x80\\x93 \\n<a href=\"/wiki/Portal:F%C3%ADsica\" title=\"Portal:F\\xc3\\xadsica\">F\\xc3\\xadsica</a> \\xe2\\x80\\x93 \\n<a href=\"/wiki/Portal:Medicina\" title=\"Portal:Medicina\">Medicina</a> \\xe2\\x80\\x93 \\n<a href=\"/wiki/Portal:Matem%C3%A1tica\" title=\"Portal:Matem\\xc3\\xa1tica\">Matem\\xc3\\xa1tica</a> \\xe2\\x80\\x93 \\n<a href=\"/wiki/Portal:Qu%C3%ADmica\" title=\"Portal:Qu\\xc3\\xadmica\">Qu\\xc3\\xadmica</a> \\n</p>\\n</div>\\n<div style=\"border-top: 1px dotted #c088fe; font-size: 89%; padding-bottom:.2em; padding-top:.2em;\">\\n<figure class=\"mw-halign-right noviewer\" typeof=\"mw:File\"><a href=\"/wiki/Archivo:Ambox_globe.svg\" class=\"mw-file-description\" title=\"Geograf\\xc3\\xada\"><img alt=\"Geograf\\xc3\\xada\" src=\"//upload.wikimedia.org/wikipedia/commons/thumb/e/e2/Ambox_globe.svg/20px-Ambox_globe.svg.png\" decoding=\"async\" width=\"20\" height=\"20\" class=\"mw-file-element\" srcset=\"//upload.wikimedia.org/wikipedia/commons/thumb/e/e2/Ambox_globe.svg/30px-Ambox_globe.svg.png 1.5x, //upload.wikimedia.org/wikipedia/commons/thumb/e/e2/Ambox_globe.svg/40px-Ambox_globe.svg.png 2x\" data-file-width=\"512\" data-file-height=\"512\"/></a><figcaption>Geograf\\xc3\\xada</figcaption></figure>\\n<p><b><a href=\"/wiki/Portal:Geograf%C3%ADa\" title=\"Portal:Geograf\\xc3\\xada\">Geograf\\xc3\\xada</a></b>: \\n<a href=\"/wiki/Portal:%C3%81frica\" title=\"Portal:\\xc3\\x81frica\">\\xc3\\x81frica</a> \\xe2\\x80\\x93 \\n<a href=\"/wiki/Portal:Am%C3%A9rica\" title=\"Portal:Am\\xc3\\xa9rica\">Am\\xc3\\xa9rica</a> \\xe2\\x80\\x93 \\n<a href=\"/wiki/Portal:Ant%C3%A1rtida\" title=\"Portal:Ant\\xc3\\xa1rtida\">Ant\\xc3\\xa1rtida</a> \\xe2\\x80\\x93\\n<a href=\"/wiki/Portal:Asia\" title=\"Portal:Asia\">Asia</a> \\xe2\\x80\\x93 \\n<a href=\"/wiki/Portal:Europa\" title=\"Portal:Europa\">Europa</a> \\xe2\\x80\\x93 \\n<a href=\"/wiki/Portal:Ocean%C3%ADa\" title=\"Portal:Ocean\\xc3\\xada\">Ocean\\xc3\\xada</a> \\xe2\\x80\\x93 \\n<a href=\"/wiki/Portal:Pa%C3%ADses\" title=\"Portal:Pa\\xc3\\xadses\">Pa\\xc3\\xadses</a>\\n</p>\\n</div>\\n<div style=\"border-top: 1px dotted #c088fe; font-size: 89%; padding-bottom:.2em; padding-top:.2em;\">\\n<figure class=\"mw-halign-right noviewer\" typeof=\"mw:File\"><a href=\"/wiki/Archivo:History2.svg\" class=\"mw-file-description\" title=\"Historia\"><img alt=\"Historia\" src=\"//upload.wikimedia.org/wikipedia/commons/thumb/2/29/History2.svg/20px-History2.svg.png\" decoding=\"async\" width=\"20\" height=\"22\" class=\"mw-file-element\" srcset=\"//upload.wikimedia.org/wikipedia/commons/thumb/2/29/History2.svg/30px-History2.svg.png 1.5x, //upload.wikimedia.org/wikipedia/commons/thumb/2/29/History2.svg/40px-History2.svg.png 2x\" data-file-width=\"30\" data-file-height=\"33\"/></a><figcaption>Historia</figcaption></figure>\\n<p><b><a href=\"/wiki/Portal:Historia\" title=\"Portal:Historia\">Historia</a></b>: \\n<a href=\"/wiki/Portal:Prehistoria\" title=\"Portal:Prehistoria\">Prehistoria</a> \\xe2\\x80\\x93 \\n<a href=\"/wiki/Portal:Edad_Antigua\" title=\"Portal:Edad Antigua\">Edad Antigua</a> \\xe2\\x80\\x93 \\n<a href=\"/wiki/Portal:Edad_Media\" title=\"Portal:Edad Media\">Edad Media</a> \\xe2\\x80\\x93 \\n<a href=\"/wiki/Portal:Edad_Moderna\" title=\"Portal:Edad Moderna\">Edad Moderna</a> \\xe2\\x80\\x93 \\n<a href=\"/wiki/Portal:Edad_Contempor%C3%A1nea\" title=\"Portal:Edad Contempor\\xc3\\xa1nea\">Edad Contempor\\xc3\\xa1nea</a>\\n</p>\\n</div>\\n<div style=\"border-top: 1px dotted #c088fe; font-size: 89%; padding-bottom:.2em; padding-top:.2em;\">\\n<figure class=\"mw-halign-right noviewer\" typeof=\"mw:File\"><a href=\"/wiki/Archivo:Vote3_final.png\" class=\"mw-file-description\" title=\"Pol\\xc3\\xadtica\"><img alt=\"Pol\\xc3\\xadtica\" src=\"//upload.wikimedia.org/wikipedia/commons/thumb/9/94/Vote3_final.png/20px-Vote3_final.png\" decoding=\"async\" width=\"20\" height=\"20\" class=\"mw-file-element\" srcset=\"//upload.wikimedia.org/wikipedia/commons/thumb/9/94/Vote3_final.png/30px-Vote3_final.png 1.5x, //upload.wikimedia.org/wikipedia/commons/thumb/9/94/Vote3_final.png/40px-Vote3_final.png 2x\" data-file-width=\"146\" data-file-height=\"146\"/></a><figcaption>Pol\\xc3\\xadtica</figcaption></figure>\\n<p><b><a href=\"/wiki/Portal:Pol%C3%ADtica\" title=\"Portal:Pol\\xc3\\xadtica\">Pol\\xc3\\xadtica</a></b>:\\n<a href=\"/wiki/Portal:Marxismo\" title=\"Portal:Marxismo\">Marxismo</a>  \\xe2\\x80\\x93 \\n<a href=\"/wiki/Portal:Nacionalismo\" title=\"Portal:Nacionalismo\">Nacionalismo</a> \\xe2\\x80\\x93\\n<a href=\"/wiki/Portal:Socialismo\" title=\"Portal:Socialismo\">Socialismo</a> \\xe2\\x80\\x93 \\n<a href=\"/wiki/Portal:Terrorismo\" title=\"Portal:Terrorismo\">Terrorismo</a> \\n</p>\\n</div>\\n<div style=\"border-top: 1px dotted #c088fe; font-size: 89%; padding-bottom:.2em; padding-top:.2em;\">\\n<figure class=\"mw-halign-right noviewer\" typeof=\"mw:File\"><a href=\"/wiki/Archivo:P_religion_world.svg\" class=\"mw-file-description\" title=\"Religi\\xc3\\xb3n\"><img alt=\"Religi\\xc3\\xb3n\" src=\"//upload.wikimedia.org/wikipedia/commons/thumb/2/28/P_religion_world.svg/20px-P_religion_world.svg.png\" decoding=\"async\" width=\"20\" height=\"18\" class=\"mw-file-element\" srcset=\"//upload.wikimedia.org/wikipedia/commons/thumb/2/28/P_religion_world.svg/30px-P_religion_world.svg.png 1.5x, //upload.wikimedia.org/wikipedia/commons/thumb/2/28/P_religion_world.svg/40px-P_religion_world.svg.png 2x\" data-file-width=\"400\" data-file-height=\"360\"/></a><figcaption>Religi\\xc3\\xb3n</figcaption></figure>\\n<p><b><a href=\"/wiki/Portal:Religi%C3%B3n\" title=\"Portal:Religi\\xc3\\xb3n\">Religi\\xc3\\xb3n</a></b>:\\n<a href=\"/wiki/Portal:Ate%C3%ADsmo\" title=\"Portal:Ate\\xc3\\xadsmo\">Ate\\xc3\\xadsmo</a> \\xe2\\x80\\x93 \\n<a href=\"/wiki/Portal:Budismo\" title=\"Portal:Budismo\">Budismo</a> \\xe2\\x80\\x93 \\n<a href=\"/wiki/Portal:Cristianismo\" title=\"Portal:Cristianismo\">Cristianismo</a>  \\xe2\\x80\\x93 \\n<a href=\"/wiki/Portal:Iglesia_cat%C3%B3lica\" title=\"Portal:Iglesia cat\\xc3\\xb3lica\">Iglesia cat\\xc3\\xb3lica</a> \\xe2\\x80\\x93\\n<a href=\"/wiki/Portal:Islam\" title=\"Portal:Islam\">Islam</a> \\xe2\\x80\\x93 \\n<a href=\"/wiki/Portal:Juda%C3%ADsmo\" title=\"Portal:Juda\\xc3\\xadsmo\">Juda\\xc3\\xadsmo</a> \\xe2\\x80\\x93\\n<a href=\"/wiki/Portal:Mitolog%C3%ADa\" title=\"Portal:Mitolog\\xc3\\xada\">Mitolog\\xc3\\xada</a>\\n</p>\\n</div>\\n<div style=\"border-top: 1px dotted #c088fe; font-size: 89%; padding-bottom:.2em; padding-top:.2em;\">\\n<figure class=\"mw-halign-right noviewer\" typeof=\"mw:File\"><a href=\"/wiki/Archivo:Tecno-rueda.svg\" class=\"mw-file-description\" title=\"Tecnolog\\xc3\\xadas\"><img alt=\"Tecnolog\\xc3\\xadas\" src=\"//upload.wikimedia.org/wikipedia/commons/thumb/1/1f/Tecno-rueda.svg/20px-Tecno-rueda.svg.png\" decoding=\"async\" width=\"20\" height=\"20\" class=\"mw-file-element\" srcset=\"//upload.wikimedia.org/wikipedia/commons/thumb/1/1f/Tecno-rueda.svg/30px-Tecno-rueda.svg.png 1.5x, //upload.wikimedia.org/wikipedia/commons/thumb/1/1f/Tecno-rueda.svg/40px-Tecno-rueda.svg.png 2x\" data-file-width=\"48\" data-file-height=\"48\"/></a><figcaption>Tecnolog\\xc3\\xadas</figcaption></figure>\\n<p><b><a href=\"/wiki/Portal:Tecnolog%C3%ADa\" title=\"Portal:Tecnolog\\xc3\\xada\">Tecnolog\\xc3\\xadas</a></b>: \\n<a href=\"/wiki/Portal:Biotecnolog%C3%ADa\" title=\"Portal:Biotecnolog\\xc3\\xada\">Biotecnolog\\xc3\\xada</a> \\xe2\\x80\\x93 \\n<a href=\"/wiki/Portal:Exploraci%C3%B3n_espacial\" title=\"Portal:Exploraci\\xc3\\xb3n espacial\">Exploraci\\xc3\\xb3n espacial</a> \\xe2\\x80\\x93 \\n<a href=\"/wiki/Portal:Inform%C3%A1tica\" title=\"Portal:Inform\\xc3\\xa1tica\">Inform\\xc3\\xa1tica</a> \\xe2\\x80\\x93 \\n<a href=\"/wiki/Portal:Ingenier%C3%ADa\" title=\"Portal:Ingenier\\xc3\\xada\">Ingenier\\xc3\\xada</a> \\xe2\\x80\\x93 \\n<a href=\"/wiki/Portal:Software_libre\" title=\"Portal:Software libre\">Software libre</a> \\xe2\\x80\\x93 \\n<a href=\"/wiki/Portal:Videojuegos\" title=\"Portal:Videojuegos\">Videojuegos</a>\\n</p>\\n</div>\\n<div style=\"clear: both;\"></div>\\n</div>\\n</div>\\n<div class=\"main-wrapper-column\">\\n<link rel=\"mw-deduplicated-inline-style\" href=\"mw-data:TemplateStyles:r144107018\">\\n<div id=\"main-cur\" class=\"main-box\"><h2 class=\"main-header main-box-header\" data-mw-thread-id=\"h-Actualidad-Bienvenidos_a_Wikipedia,\"><span class=\"mw-headline\" id=\"Actualidad\"><span data-mw-comment-start=\"\" id=\"h-Actualidad-Bienvenidos_a_Wikipedia,\"></span><a href=\"/wiki/Portal:Actualidad\" title=\"Portal:Actualidad\">Actualidad</a><span data-mw-comment-end=\"h-Actualidad-Bienvenidos_a_Wikipedia,\"></span></span></h2>\\n<ul><li><a href=\"/wiki/Epidemia_de_dengue_de_2024_en_Argentina\" title=\"Epidemia de dengue de 2024 en Argentina\">Epidemia de dengue en Argentina</a></li>\\n<li><a href=\"/wiki/Guerra_Israel-Gaza_(2023-presente)\" title=\"Guerra Israel-Gaza (2023-presente)\">Guerra Israel-Gaza</a></li>\\n<li><a href=\"/wiki/Invasi%C3%B3n_rusa_de_Ucrania\" title=\"Invasi\\xc3\\xb3n rusa de Ucrania\">Invasi\\xc3\\xb3n rusa de Ucrania</a></li>\\n<li>26 de mayo-9 de junio: <a href=\"/wiki/Torneo_de_Roland_Garros_2024\" title=\"Torneo de Roland Garros 2024\">Torneo de Roland Garros</a></li>\\n<li>26 de mayo: Segunda vuelta de las <a href=\"/wiki/Elecciones_presidenciales_de_Lituania_de_2024\" title=\"Elecciones presidenciales de Lituania de 2024\">elecciones presidenciales de Lituania</a></li>\\n<li>26 de mayo: <a href=\"/wiki/NXT_Battleground\" title=\"NXT Battleground\">NXT Battleground</a></li>\\n<li>26 de mayo: <a href=\"/wiki/Double_or_Nothing_(2024)\" title=\"Double or Nothing (2024)\">Double or Nothing</a></li>\\n<li>24-26 de mayo: <a href=\"/wiki/Gran_Premio_de_Catalu%C3%B1a_de_Motociclismo_de_2024\" title=\"Gran Premio de Catalu\\xc3\\xb1a de Motociclismo de 2024\">Gran Premio de Catalu\\xc3\\xb1a de motociclismo</a></li>\\n<li>24-26 de mayo: Final Four de la <a href=\"/wiki/Euroliga_2023-24\" title=\"Euroliga 2023-24\">Euroliga de baloncesto</a></li>\\n<li>24-26 de mayo: <a href=\"/wiki/Anexo:Gran_Premio_de_M%C3%B3naco_de_2024\" title=\"Anexo:Gran Premio de M\\xc3\\xb3naco de 2024\">Gran Premio de M\\xc3\\xb3naco de F\\xc3\\xb3rmula 1</a></li>\\n<li>22 de mayo: <a href=\"/wiki/Colapso_de_templete_durante_mitin_en_San_Pedro_Garza_Garc%C3%ADa\" title=\"Colapso de templete durante mitin en San Pedro Garza Garc\\xc3\\xada\">Colapso de templete durante mitin en San Pedro Garza Garc\\xc3\\xada</a></li>\\n<li>20 de mayo-5 de junio: <a href=\"/wiki/Campeonato_Europeo_Sub-17_de_la_UEFA_2024\" title=\"Campeonato Europeo Sub-17 de la UEFA 2024\">Campeonato Europeo Sub-17 de la UEFA</a></li>\\n<li>20-26 de mayo: <a href=\"/wiki/Premier_Padel_2024\" title=\"Premier Padel 2024\">Premier Padel 2024</a>: Argentina P1</li>\\n<li>4-26 de mayo: <a href=\"/wiki/Giro_de_Italia_2024\" title=\"Giro de Italia 2024\">Giro de Italia</a></li></ul>\\n<div style=\"margin-top: .9em; margin-bottom: .9em;\">\\n<dl><dt><a href=\"/wiki/Anexo:Fallecidos_en_2024\" class=\"mw-redirect\" title=\"Anexo:Fallecidos en 2024\">Fallecimientos</a></dt></dl>\\n<ul><li>25 de mayo: <a href=\"/wiki/Grayson_Murray\" title=\"Grayson Murray\">Grayson Murray</a>, golfista estadounidense (30)</li></ul>\\n<figure class=\"mw-halign-right\" typeof=\"mw:File\"><a href=\"/wiki/Archivo:SantiagoOmarRiveros.jpg\" class=\"mw-file-description\" title=\"El militar argentino Santiago Riveros\"><img alt=\"El militar argentino Santiago Riveros\" src=\"//upload.wikimedia.org/wikipedia/commons/thumb/5/5e/SantiagoOmarRiveros.jpg/120px-SantiagoOmarRiveros.jpg\" decoding=\"async\" width=\"120\" height=\"155\" class=\"mw-file-element\" srcset=\"//upload.wikimedia.org/wikipedia/commons/thumb/5/5e/SantiagoOmarRiveros.jpg/180px-SantiagoOmarRiveros.jpg 1.5x, //upload.wikimedia.org/wikipedia/commons/5/5e/SantiagoOmarRiveros.jpg 2x\" data-file-width=\"200\" data-file-height=\"259\"/></a><figcaption>El militar argentino Santiago Riveros</figcaption></figure>\\n<ul><li>24 de mayo: <a href=\"/wiki/Santiago_Riveros\" title=\"Santiago Riveros\">Santiago Riveros</a>, militar argentino (100; <i>en la imagen</i>)</li>\\n<li>24 de mayo: <a href=\"/wiki/Doug_Ingle\" title=\"Doug Ingle\">Doug Ingle</a>, m\\xc3\\xbasico estadounidense (78)</li>\\n<li>24 de mayo: <a href=\"/wiki/Jos%C3%A9_Antonio_Murgas\" title=\"Jos\\xc3\\xa9 Antonio Murgas\">Jos\\xc3\\xa9 Antonio Murgas</a>, pol\\xc3\\xadtico colombiano (94)</li>\\n<li>24 de mayo: <a href=\"/wiki/Jorge_Arganis_D%C3%ADaz_Leal\" title=\"Jorge Arganis D\\xc3\\xadaz Leal\">Jorge Arganis D\\xc3\\xadaz Leal</a>, ingeniero y pol\\xc3\\xadtico mexicano (81)</li>\\n<li>24 de mayo: <a href=\"/wiki/Walter_Kappacher\" title=\"Walter Kappacher\">Walter Kappacher</a>, escritor austriaco (85)</li>\\n<li>23 de mayo: <a href=\"/wiki/Caleb_Carr\" title=\"Caleb Carr\">Caleb Carr</a>, escritor estadounidense (68)</li>\\n<li>23 de mayo: <a href=\"/wiki/John_Boardman\" title=\"John Boardman\">John Boardman</a>, arque\\xc3\\xb3logo e historiador brit\\xc3\\xa1nico (96)</li>\\n<li>23 de mayo: <a href=\"/wiki/Morgan_Spurlock\" title=\"Morgan Spurlock\">Morgan Spurlock</a>, cineasta estadounidense (53)</li></ul>\\n</div>\\n<dl><dt>Conmemoraciones y fiestas</dt></dl>\\n<ul><li>28 de mayo: <a href=\"/wiki/D%C3%ADa_Internacional_de_Acci%C3%B3n_para_la_Salud_de_las_Mujeres\" title=\"D\\xc3\\xada Internacional de Acci\\xc3\\xb3n para la Salud de las Mujeres\">D\\xc3\\xada Internacional de Acci\\xc3\\xb3n para la Salud de las Mujeres</a></li>\\n<li>28 de mayo: D\\xc3\\xada de la Independencia de <a href=\"/wiki/Armenia\" title=\"Armenia\">Armenia</a></li>\\n<li>28 de mayo: D\\xc3\\xada Nacional de <a href=\"/wiki/Etiop%C3%ADa\" title=\"Etiop\\xc3\\xada\">Etiop\\xc3\\xada</a></li>\\n<li>28 de mayo: D\\xc3\\xada Nacional de <a href=\"/wiki/Azerbaiy%C3%A1n\" title=\"Azerbaiy\\xc3\\xa1n\">Azerbaiy\\xc3\\xa1n</a></li>\\n<li>26 de mayo: D\\xc3\\xada Nacional de <a href=\"/wiki/Georgia\" title=\"Georgia\">Georgia</a></li>\\n<li>25-31 de mayo: Semana de Solidaridad con los Pueblos de los <a href=\"/wiki/Territorios_No_Aut%C3%B3nomos\" class=\"mw-redirect\" title=\"Territorios No Aut\\xc3\\xb3nomos\">Territorios No Aut\\xc3\\xb3nomos</a></li>\\n<li>20-26 de mayo: Semana Internacional de la <a href=\"/wiki/Educaci%C3%B3n_Art%C3%ADstica\" class=\"mw-redirect\" title=\"Educaci\\xc3\\xb3n Art\\xc3\\xadstica\">Educaci\\xc3\\xb3n Art\\xc3\\xadstica</a></li></ul>\\n<p><br/>\\n<b>V\\xc3\\xa9ase tambi\\xc3\\xa9n:</b> <a href=\"/wiki/Categor%C3%ADa:Actualidad\" title=\"Categor\\xc3\\xada:Actualidad\">Categor\\xc3\\xada:Actualidad</a>, <a href=\"/wiki/2024\" title=\"2024\">2024</a>, <a href=\"/wiki/Categor%C3%ADa:2024\" title=\"Categor\\xc3\\xada:2024\">Categor\\xc3\\xada:2024</a>\\n</p>\\n<div style=\"clear: both;\"></div>\\n<div class=\"main-footer\"><div class=\"main-footer-actions main-plainlist nomobile\">\\n<ul><li><a href=\"/wiki/Portal:Actualidad\" title=\"Portal:Actualidad\"><span class=\"mw-ui-button\"> Otros eventos actuales </span></a></li></ul>\\n</div><div id=\"mw-customcollapsible-cur\" class=\"main-footer-menu mw-collapsible mw-collapsed nomobile\">\\n<div class=\"main-footer-menuToggle mw-collapsible-toggle mw-customtoggle-main-cur\"><span typeof=\"mw:File\"><span title=\"Acciones adicionales\"><img alt=\"Acciones adicionales\" src=\"//upload.wikimedia.org/wikipedia/commons/thumb/b/b3/OOjs_UI_icon_ellipsis.svg/20px-OOjs_UI_icon_ellipsis.svg.png\" decoding=\"async\" width=\"20\" height=\"20\" class=\"mw-file-element\" srcset=\"//upload.wikimedia.org/wikipedia/commons/thumb/b/b3/OOjs_UI_icon_ellipsis.svg/30px-OOjs_UI_icon_ellipsis.svg.png 1.5x, //upload.wikimedia.org/wikipedia/commons/thumb/b/b3/OOjs_UI_icon_ellipsis.svg/40px-OOjs_UI_icon_ellipsis.svg.png 2x\" data-file-width=\"20\" data-file-height=\"20\"/></span></span></div>\\n<div class=\"main-footer-menuDropdown mw-collapsible-content main-plainlist\">\\n<ul><li><a href=\"/wiki/Categor%C3%ADa:Actualidad\" title=\"Categor\\xc3\\xada:Actualidad\"><span class=\"mw-ui-button mw-ui-quiet\"> Categor\\xc3\\xada de actualidad </span></a></li>\\n<li><a href=\"/wiki/2024\" title=\"2024\"><span class=\"mw-ui-button mw-ui-quiet\"> A\\xc3\\xb1o 2024 </span></a></li>\\n<li><a href=\"/wiki/Categor%C3%ADa:2024\" title=\"Categor\\xc3\\xada:2024\"><span class=\"mw-ui-button mw-ui-quiet\"> Categor\\xc3\\xada 2024 </span></a></li>\\n<li><a href=\"/wiki/Plantilla:Portada:Actualidad\" title=\"Plantilla:Portada:Actualidad\"><span class=\"mw-ui-button mw-ui-quiet\"> Plantilla </span></a></li></ul>\\n</div></div></div>\\n</div>\\n<link rel=\"mw-deduplicated-inline-style\" href=\"mw-data:TemplateStyles:r144107018\">\\n<div id=\"main-itd\" class=\"main-box\"><div id=\"Efem\\xc3\\xa9rides\" class=\"main-box-section\">Efem\\xc3\\xa9rides</div><h2 class=\"main-header main-box-header\" data-mw-thread-id=\"h-27_de_mayo-Bienvenidos_a_Wikipedia,\"><span class=\"mw-headline\" id=\"27_de_mayo\"><span data-mw-comment-start=\"\" id=\"h-27_de_mayo-Bienvenidos_a_Wikipedia,\"></span><a href=\"/wiki/27_de_mayo\" title=\"27 de mayo\">27 de mayo</a><span data-mw-comment-end=\"h-27_de_mayo-Bienvenidos_a_Wikipedia,\"></span></span></h2>\\n<figure class=\"mw-halign-right\" typeof=\"mw:File\"><a href=\"/wiki/Archivo:Jnehru.jpg\" class=\"mw-file-description\"><img src=\"//upload.wikimedia.org/wikipedia/commons/thumb/5/5f/Jnehru.jpg/120px-Jnehru.jpg\" decoding=\"async\" width=\"120\" height=\"172\" class=\"mw-file-element\" srcset=\"//upload.wikimedia.org/wikipedia/commons/thumb/5/5f/Jnehru.jpg/180px-Jnehru.jpg 1.5x, //upload.wikimedia.org/wikipedia/commons/thumb/5/5f/Jnehru.jpg/240px-Jnehru.jpg 2x\" data-file-width=\"1365\" data-file-height=\"1962\"/></a><figcaption></figcaption></figure>\\n<ul><li><b><a href=\"/wiki/1924\" title=\"1924\">1924</a></b> <i>(hace 100 a\\xc3\\xb1os)</i>: Nace <b><a href=\"/wiki/Jaime_Lusinchi\" title=\"Jaime Lusinchi\">Jaime Lusinchi</a></b>, pol\\xc3\\xadtico venezolano (f. 2014).</li>\\n<li><b><a href=\"/wiki/1949\" title=\"1949\">1949</a></b> <i>(hace 75 a\\xc3\\xb1os)</i>: En Shangh\\xc3\\xa1i (China), se publica el \\xc3\\xbaltimo n\\xc3\\xbamero del peri\\xc3\\xb3dico <i><b><a href=\"/wiki/Shen_Bao\" title=\"Shen Bao\">Shen Bao</a></b></i>.</li>\\n<li><b><a href=\"/wiki/1964\" title=\"1964\">1964</a></b> <i>(hace 60 a\\xc3\\xb1os)</i>: Fallece <b><a href=\"/wiki/Jawaharlal_Nehru\" title=\"Jawaharlal Nehru\">Jawaharlal Nehru</a></b>, pol\\xc3\\xadtico indio (n. 1889; <i>en la imagen</i>).</li>\\n<li><b><a href=\"/wiki/1974\" title=\"1974\">1974</a></b> <i>(hace 50 a\\xc3\\xb1os)</i>: Nace <b><a href=\"/wiki/Marjorie_Taylor_Greene\" title=\"Marjorie Taylor Greene\">Marjorie Taylor Greene</a></b>, pol\\xc3\\xadtica estadounidense.</li>\\n<li><b><a href=\"/wiki/1999\" title=\"1999\">1999</a></b> <i>(hace 25 a\\xc3\\xb1os)</i>: Nace <b><a href=\"/wiki/Matheus_Cunha\" title=\"Matheus Cunha\">Matheus Cunha</a></b>, futbolista brasile\\xc3\\xb1o.</li></ul>\\n<div style=\"clear: both;\"></div>\\n<div class=\"main-footer\"><div class=\"main-footer-actions main-plainlist nomobile\">\\n<ul><li><a href=\"/wiki/26_de_mayo\" title=\"26 de mayo\"><span class=\"mw-ui-button mw-ui-quiet\"> 26 de mayo </span></a></li>\\n<li><a href=\"/wiki/27_de_mayo\" title=\"27 de mayo\"><span class=\"mw-ui-button\"> 27 de mayo </span></a></li>\\n<li><a href=\"/wiki/28_de_mayo\" title=\"28 de mayo\"><span class=\"mw-ui-button mw-ui-quiet\"> 28 de mayo </span></a></li></ul>\\n</div><div id=\"mw-customcollapsible-itd\" class=\"main-footer-menu mw-collapsible mw-collapsed nomobile\">\\n<div class=\"main-footer-menuToggle mw-collapsible-toggle mw-customtoggle-main-itd\"><span typeof=\"mw:File\"><span title=\"Acciones adicionales\"><img alt=\"Acciones adicionales\" src=\"//upload.wikimedia.org/wikipedia/commons/thumb/b/b3/OOjs_UI_icon_ellipsis.svg/20px-OOjs_UI_icon_ellipsis.svg.png\" decoding=\"async\" width=\"20\" height=\"20\" class=\"mw-file-element\" srcset=\"//upload.wikimedia.org/wikipedia/commons/thumb/b/b3/OOjs_UI_icon_ellipsis.svg/30px-OOjs_UI_icon_ellipsis.svg.png 1.5x, //upload.wikimedia.org/wikipedia/commons/thumb/b/b3/OOjs_UI_icon_ellipsis.svg/40px-OOjs_UI_icon_ellipsis.svg.png 2x\" data-file-width=\"20\" data-file-height=\"20\"/></span></span></div>\\n<div class=\"main-footer-menuDropdown mw-collapsible-content main-plainlist\">\\n<ul><li><a href=\"/wiki/Plantilla:Efem%C3%A9rides\" title=\"Plantilla:Efem\\xc3\\xa9rides\"><span class=\"mw-ui-button mw-ui-quiet\"> Plantilla </span></a></li></ul>\\n</div></div></div>\\n</div>\\n<link rel=\"mw-deduplicated-inline-style\" href=\"mw-data:TemplateStyles:r144107018\">\\n<div id=\"main-wmfsp\" class=\"main-box\"><h2 class=\"main-header main-box-header\" data-mw-thread-id=\"h-Otros_proyectos_de_la_Fundaci\\xc3\\xb3n_Wikimedia-Bienvenidos_a_Wikipedia,\"><span id=\"Otros_proyectos_de_la_Fundaci.C3.B3n_Wikimedia\"></span><span class=\"mw-headline\" id=\"Otros_proyectos_de_la_Fundaci\\xc3\\xb3n_Wikimedia\"><span data-mw-comment-start=\"\" id=\"h-Otros_proyectos_de_la_Fundaci\\xc3\\xb3n_Wikimedia-Bienvenidos_a_Wikipedia,\"></span><a href=\"https://meta.wikimedia.org/wiki/Special:MyLanguage/Wikimedia_projects\" class=\"extiw\" title=\"meta:Special:MyLanguage/Wikimedia projects\">Otros proyectos</a> de la <a href=\"/wiki/Fundaci%C3%B3n_Wikimedia\" title=\"Fundaci\\xc3\\xb3n Wikimedia\">Fundaci\\xc3\\xb3n Wikimedia</a><span data-mw-comment-end=\"h-Otros_proyectos_de_la_Fundaci\\xc3\\xb3n_Wikimedia-Bienvenidos_a_Wikipedia,\"></span></span></h2>\\n<table style=\"background:transparent; margin: 0 auto;\">\\n\\n<tbody><tr>\\n<td style=\"padding: 8px;\"><figure class=\"mw-halign-center\" typeof=\"mw:File\"><a href=\"https://commons.wikimedia.org/wiki/Portada\" title=\"Wikimedia Commons\"><img alt=\"Wikimedia Commons\" src=\"//upload.wikimedia.org/wikipedia/commons/thumb/7/76/Notification-icon-Commons-logo.svg/30px-Notification-icon-Commons-logo.svg.png\" decoding=\"async\" width=\"30\" height=\"30\" class=\"mw-file-element\" srcset=\"//upload.wikimedia.org/wikipedia/commons/thumb/7/76/Notification-icon-Commons-logo.svg/45px-Notification-icon-Commons-logo.svg.png 1.5x, //upload.wikimedia.org/wikipedia/commons/thumb/7/76/Notification-icon-Commons-logo.svg/60px-Notification-icon-Commons-logo.svg.png 2x\" data-file-width=\"30\" data-file-height=\"30\"/></a><figcaption>Wikimedia Commons</figcaption></figure>\\n</td>\\n<td><b><a href=\"https://commons.wikimedia.org/wiki/Portada\" class=\"extiw\" title=\"commons:Portada\">Commons</a></b><br/><div style=\"font-size: 90%\">Im\\xc3\\xa1genes y multimedia</div>\\n</td>\\n<td>\\n</td>\\n<td style=\"padding: 8px;\"><figure class=\"mw-halign-center\" typeof=\"mw:File\"><a href=\"https://es.wiktionary.org/wiki/Wikcionario:Portada\" title=\"Wikcionario\"><img alt=\"Wikcionario\" src=\"//upload.wikimedia.org/wikipedia/commons/thumb/a/ac/Notification-icon-Wiktionary-logo.svg/30px-Notification-icon-Wiktionary-logo.svg.png\" decoding=\"async\" width=\"30\" height=\"30\" class=\"mw-file-element\" srcset=\"//upload.wikimedia.org/wikipedia/commons/thumb/a/ac/Notification-icon-Wiktionary-logo.svg/45px-Notification-icon-Wiktionary-logo.svg.png 1.5x, //upload.wikimedia.org/wikipedia/commons/thumb/a/ac/Notification-icon-Wiktionary-logo.svg/60px-Notification-icon-Wiktionary-logo.svg.png 2x\" data-file-width=\"30\" data-file-height=\"30\"/></a><figcaption>Wikcionario</figcaption></figure>\\n</td>\\n<td><b><a href=\"https://es.wiktionary.org/wiki/Wikcionario:Portada\" class=\"extiw\" title=\"wikt:Wikcionario:Portada\">Wikcionario</a></b><br/><div style=\"font-size: 90%\">Diccionario libre</div>\\n</td></tr>\\n<tr>\\n<td style=\"padding: 8px;\"><figure class=\"mw-halign-center\" typeof=\"mw:File\"><a href=\"https://www.wikidata.org/wiki/Wikidata:Portada\" title=\"Wikidata\"><img alt=\"Wikidata\" src=\"//upload.wikimedia.org/wikipedia/commons/thumb/6/67/Notification-icon-Wikidata-logo.svg/30px-Notification-icon-Wikidata-logo.svg.png\" decoding=\"async\" width=\"30\" height=\"30\" class=\"mw-file-element\" srcset=\"//upload.wikimedia.org/wikipedia/commons/thumb/6/67/Notification-icon-Wikidata-logo.svg/45px-Notification-icon-Wikidata-logo.svg.png 1.5x, //upload.wikimedia.org/wikipedia/commons/thumb/6/67/Notification-icon-Wikidata-logo.svg/60px-Notification-icon-Wikidata-logo.svg.png 2x\" data-file-width=\"30\" data-file-height=\"30\"/></a><figcaption>Wikidata</figcaption></figure>\\n</td>\\n<td><b><a href=\"https://www.wikidata.org/wiki/Wikidata:Portada\" class=\"extiw\" title=\"wikidata:Wikidata:Portada\">Wikidata</a></b><br/><div style=\"font-size: 90%\">Base de datos libre</div>\\n</td>\\n<td>\\n</td>\\n<td style=\"padding: 8px;\"><figure class=\"mw-halign-center\" typeof=\"mw:File\"><a href=\"https://es.wikibooks.org/wiki/Portada\" title=\"Wikilibros\"><img alt=\"Wikilibros\" src=\"//upload.wikimedia.org/wikipedia/commons/thumb/e/e0/Notification-icon-Wikibooks-logo.svg/30px-Notification-icon-Wikibooks-logo.svg.png\" decoding=\"async\" width=\"30\" height=\"30\" class=\"mw-file-element\" srcset=\"//upload.wikimedia.org/wikipedia/commons/thumb/e/e0/Notification-icon-Wikibooks-logo.svg/45px-Notification-icon-Wikibooks-logo.svg.png 1.5x, //upload.wikimedia.org/wikipedia/commons/thumb/e/e0/Notification-icon-Wikibooks-logo.svg/60px-Notification-icon-Wikibooks-logo.svg.png 2x\" data-file-width=\"30\" data-file-height=\"30\"/></a><figcaption>Wikilibros</figcaption></figure>\\n</td>\\n<td><b><a href=\"https://es.wikibooks.org/wiki/Portada\" class=\"extiw\" title=\"b:Portada\">Wikilibros</a></b><br/><div style=\"font-size: 90%\">Libros de texto y manuales</div>\\n</td></tr>\\n<tr>\\n<td style=\"padding: 8px;\"><figure class=\"mw-halign-center\" typeof=\"mw:File\"><a href=\"https://es.wikinews.org/wiki/Portada\" title=\"Wikinoticias\"><img alt=\"Wikinoticias\" src=\"//upload.wikimedia.org/wikipedia/commons/thumb/5/57/Notification-icon-Wikinews-logo.svg/30px-Notification-icon-Wikinews-logo.svg.png\" decoding=\"async\" width=\"30\" height=\"30\" class=\"mw-file-element\" srcset=\"//upload.wikimedia.org/wikipedia/commons/thumb/5/57/Notification-icon-Wikinews-logo.svg/45px-Notification-icon-Wikinews-logo.svg.png 1.5x, //upload.wikimedia.org/wikipedia/commons/thumb/5/57/Notification-icon-Wikinews-logo.svg/60px-Notification-icon-Wikinews-logo.svg.png 2x\" data-file-width=\"30\" data-file-height=\"30\"/></a><figcaption>Wikinoticias</figcaption></figure>\\n</td>\\n<td><b><a href=\"https://es.wikinews.org/wiki/Portada\" class=\"extiw\" title=\"n:Portada\">Wikinoticias</a></b><br/><div style=\"font-size: 90%\">Noticias libres</div>\\n</td>\\n<td>\\n</td>\\n<td style=\"padding: 8px;\"><figure class=\"mw-halign-center\" typeof=\"mw:File\"><a href=\"https://es.wikiquote.org/wiki/Portada\" title=\"Wikiquote\"><img alt=\"Wikiquote\" src=\"//upload.wikimedia.org/wikipedia/commons/thumb/5/5a/Notification-icon-Wikiquote.svg/30px-Notification-icon-Wikiquote.svg.png\" decoding=\"async\" width=\"30\" height=\"30\" class=\"mw-file-element\" srcset=\"//upload.wikimedia.org/wikipedia/commons/thumb/5/5a/Notification-icon-Wikiquote.svg/45px-Notification-icon-Wikiquote.svg.png 1.5x, //upload.wikimedia.org/wikipedia/commons/thumb/5/5a/Notification-icon-Wikiquote.svg/60px-Notification-icon-Wikiquote.svg.png 2x\" data-file-width=\"30\" data-file-height=\"30\"/></a><figcaption>Wikiquote</figcaption></figure>\\n</td>\\n<td><b><a href=\"https://es.wikiquote.org/wiki/Portada\" class=\"extiw\" title=\"q:Portada\">Wikiquote</a></b><br/><div style=\"font-size: 90%\">Colecci\\xc3\\xb3n de citas</div>\\n</td></tr>\\n<tr>\\n<td style=\"padding: 8px;\"><figure class=\"mw-halign-center\" typeof=\"mw:File\"><a href=\"https://es.wikisource.org/wiki/Portada\" title=\"Wikisource\"><img alt=\"Wikisource\" src=\"//upload.wikimedia.org/wikipedia/commons/thumb/5/5a/Notification-icon-Wikisource-logo.svg/30px-Notification-icon-Wikisource-logo.svg.png\" decoding=\"async\" width=\"30\" height=\"30\" class=\"mw-file-element\" srcset=\"//upload.wikimedia.org/wikipedia/commons/thumb/5/5a/Notification-icon-Wikisource-logo.svg/45px-Notification-icon-Wikisource-logo.svg.png 1.5x, //upload.wikimedia.org/wikipedia/commons/thumb/5/5a/Notification-icon-Wikisource-logo.svg/60px-Notification-icon-Wikisource-logo.svg.png 2x\" data-file-width=\"30\" data-file-height=\"30\"/></a><figcaption>Wikisource</figcaption></figure>\\n</td>\\n<td><b><a href=\"https://es.wikisource.org/wiki/Portada\" class=\"extiw\" title=\"s:Portada\">Wikisource</a></b><br/><div style=\"font-size: 90%\">Biblioteca libre</div>\\n</td>\\n<td>\\n</td>\\n<td style=\"padding: 8px;\"><figure class=\"mw-halign-center\" typeof=\"mw:File\"><a href=\"https://species.wikimedia.org/wiki/Portada\" title=\"Wikispecies\"><img alt=\"Wikispecies\" src=\"//upload.wikimedia.org/wikipedia/commons/thumb/0/08/Notification-icon-Wikispecies-logo.svg/30px-Notification-icon-Wikispecies-logo.svg.png\" decoding=\"async\" width=\"30\" height=\"30\" class=\"mw-file-element\" srcset=\"//upload.wikimedia.org/wikipedia/commons/thumb/0/08/Notification-icon-Wikispecies-logo.svg/45px-Notification-icon-Wikispecies-logo.svg.png 1.5x, //upload.wikimedia.org/wikipedia/commons/thumb/0/08/Notification-icon-Wikispecies-logo.svg/60px-Notification-icon-Wikispecies-logo.svg.png 2x\" data-file-width=\"30\" data-file-height=\"30\"/></a><figcaption>Wikispecies</figcaption></figure>\\n</td>\\n<td><b><a href=\"https://species.wikimedia.org/wiki/Portada\" class=\"extiw\" title=\"wikispecies:Portada\">Wikispecies</a></b><br/><div style=\"font-size: 90%\">Directorio de especies</div>\\n</td></tr>\\n<tr>\\n<td style=\"padding: 8px;\"><figure class=\"mw-halign-center\" typeof=\"mw:File\"><a href=\"https://es.wikiversity.org/wiki/Portada\" title=\"Wikiversidad\"><img alt=\"Wikiversidad\" src=\"//upload.wikimedia.org/wikipedia/commons/thumb/0/01/Notification-icon-Wikiversity-logo.svg/30px-Notification-icon-Wikiversity-logo.svg.png\" decoding=\"async\" width=\"30\" height=\"30\" class=\"mw-file-element\" srcset=\"//upload.wikimedia.org/wikipedia/commons/thumb/0/01/Notification-icon-Wikiversity-logo.svg/45px-Notification-icon-Wikiversity-logo.svg.png 1.5x, //upload.wikimedia.org/wikipedia/commons/thumb/0/01/Notification-icon-Wikiversity-logo.svg/60px-Notification-icon-Wikiversity-logo.svg.png 2x\" data-file-width=\"30\" data-file-height=\"30\"/></a><figcaption>Wikiversidad</figcaption></figure>\\n</td>\\n<td><b><a href=\"https://es.wikiversity.org/wiki/Portada\" class=\"extiw\" title=\"v:Portada\">Wikiversidad</a></b><br/><div style=\"font-size: 90%\">Recursos de aprendizaje</div>\\n</td>\\n<td>\\n</td>\\n<td style=\"padding: 8px;\"><figure class=\"mw-halign-center\" typeof=\"mw:File\"><a href=\"https://es.wikivoyage.org/wiki/es:P%C3%A1gina_principal\" title=\"Wikiviajes\"><img alt=\"Wikiviajes\" src=\"//upload.wikimedia.org/wikipedia/commons/thumb/4/47/Notification-icon-Wikivoyage-logo.svg/30px-Notification-icon-Wikivoyage-logo.svg.png\" decoding=\"async\" width=\"30\" height=\"30\" class=\"mw-file-element\" srcset=\"//upload.wikimedia.org/wikipedia/commons/thumb/4/47/Notification-icon-Wikivoyage-logo.svg/45px-Notification-icon-Wikivoyage-logo.svg.png 1.5x, //upload.wikimedia.org/wikipedia/commons/thumb/4/47/Notification-icon-Wikivoyage-logo.svg/60px-Notification-icon-Wikivoyage-logo.svg.png 2x\" data-file-width=\"30\" data-file-height=\"30\"/></a><figcaption>Wikiviajes</figcaption></figure>\\n</td>\\n<td><b><a href=\"https://es.wikivoyage.org/wiki/es:P%C3%A1gina_principal\" class=\"extiw\" title=\"voy:es:P\\xc3\\xa1gina principal\">Wikiviajes</a></b><br/><div style=\"font-size: 90%\">Gu\\xc3\\xada de viajes</div>\\n</td></tr>\\n<tr>\\n<td colspan=\"5\" style=\"padding: 8px; text-align: center;\"><span typeof=\"mw:File\"><a href=\"https://meta.wikimedia.org/wiki/Portada/Es\" title=\"Meta-Wiki\"><img alt=\"Meta-Wiki\" src=\"//upload.wikimedia.org/wikipedia/commons/thumb/8/86/Notification-icon-Meta-logo.svg/30px-Notification-icon-Meta-logo.svg.png\" decoding=\"async\" width=\"30\" height=\"30\" class=\"mw-file-element\" srcset=\"//upload.wikimedia.org/wikipedia/commons/thumb/8/86/Notification-icon-Meta-logo.svg/45px-Notification-icon-Meta-logo.svg.png 1.5x, //upload.wikimedia.org/wikipedia/commons/thumb/8/86/Notification-icon-Meta-logo.svg/60px-Notification-icon-Meta-logo.svg.png 2x\" data-file-width=\"30\" data-file-height=\"30\"/></a></span><span style=\"padding-left: 8px;\"><b><a href=\"https://meta.wikimedia.org/wiki/Portada/es\" class=\"extiw\" title=\"m:Portada/es\">Meta-Wiki</a></b> \\xe2\\x80\\x93 <span style=\"font-size: 90%\">Coordinaci\\xc3\\xb3n de proyectos</span></span>\\n</td></tr></tbody></table>\\n<div style=\"clear: both;\"></div>\\n</div>\\n</div>\\n</div>                                                             \\n<!-- \\nNewPP limit report\\nParsed by mw1364\\nCached time: 20240527001130\\nCache expiry: 3600\\nReduced expiry: true\\nComplications: [no\\xe2\\x80\\x90toc]\\nDiscussionTools time usage: 0.021 seconds\\nCPU time usage: 0.231 seconds\\nReal time usage: 0.298 seconds\\nPreprocessor visited node count: 4841/1000000\\nPost\\xe2\\x80\\x90expand include size: 65591/2097152 bytes\\nTemplate argument size: 25878/2097152 bytes\\nHighest expansion depth: 21/100\\nExpensive parser function count: 0/500\\nUnstrip recursion depth: 0/20\\nUnstrip post\\xe2\\x80\\x90expand size: 21451/5000000 bytes\\nLua time usage: 0.009/10.000 seconds\\nLua memory usage: 941680/52428800 bytes\\nNumber of Wikibase entities loaded: 0/400\\n-->\\n<!--\\nTransclusion expansion time report (%,ms,calls,template)\\n100.00%  163.309      1 -total\\n 83.86%  136.952      7 Plantilla:Portada:Secci\\xc3\\xb3n\\n 22.24%   36.328      4 Plantilla:Portada:Destacado\\n 15.28%   24.957      5 Plantilla:Portada:Destacado/D\\n 14.58%   23.808     14 Plantilla:T\\xc3\\xadtulo_sin_coletilla\\n 14.57%   23.788      1 Plantilla:Portada:Encabezado/OOUI\\n 13.89%   22.677      5 Plantilla:Portada:Resumen\\n 11.78%   19.230      1 Plantilla:Portada:Portales_II\\n 11.19%   18.280      5 Plantilla:ABDD\\n 10.27%   16.764      8 Plantilla:PortalIconos\\n-->\\n\\n<!-- Saved in parser cache with key eswiki:pcache:idhash:2271189-0!canonical and timestamp 20240527001130 and revision id 149134229. Rendering was triggered because: page-view\\n -->\\n</div><!--esi <esi:include src=\"/esitest-fa8a495983347898/content\" /> --><noscript><img src=\"https://login.wikimedia.org/wiki/Special:CentralAutoLogin/start?type=1x1\" alt=\"\" width=\"1\" height=\"1\" style=\"border: none; position: absolute;\"></noscript>\\n<div class=\"printfooter\" data-nosnippet=\"\">Obtenido de \\xc2\\xab<a dir=\"ltr\" href=\"https://es.wikipedia.org/w/index.php?title=Wikipedia:Portada&amp;oldid=149134229\">https://es.wikipedia.org/w/index.php?title=Wikipedia:Portada&amp;oldid=149134229</a>\\xc2\\xbb</div></div>\\n\\t\\t\\t\\t\\t<div id=\"catlinks\" class=\"catlinks catlinks-allhidden\" data-mw=\"interface\"></div>\\n\\t\\t\\t\\t\\t\\t\\n<div id=\"p-lang-btn\" class=\"vector-dropdown mw-portlet mw-portlet-lang\"  >\\n\\t<input type=\"checkbox\" id=\"p-lang-btn-checkbox\" role=\"button\" aria-haspopup=\"true\" data-event-name=\"ui.dropdown-p-lang-btn\" class=\"vector-dropdown-checkbox mw-interlanguage-selector\" aria-label=\"Ir a un art\\xc3\\xadculo en otro idioma. Disponible en 62 idiomas\"   >\\n\\t<label id=\"p-lang-btn-label\" for=\"p-lang-btn-checkbox\" class=\"vector-dropdown-label cdx-button cdx-button--fake-button cdx-button--fake-button--enabled cdx-button--weight-quiet cdx-button--action-progressive mw-portlet-lang-heading-62\" aria-hidden=\"true\"  ><span class=\"vector-icon mw-ui-icon-language-progressive mw-ui-icon-wikimedia-language-progressive\"></span>\\n\\n<span class=\"vector-dropdown-label-text\">62 idiomas</span>\\n\\t</label>\\n\\t<div class=\"vector-dropdown-content\">\\n\\n\\t\\t<div class=\"vector-menu-content\">\\n\\t\\t\\t\\n\\t\\t\\t<ul class=\"vector-menu-content-list\">\\n\\t\\t\\t\\t\\n\\t\\t\\t\\t<li class=\"interlanguage-link interwiki-an mw-list-item\"><a href=\"https://an.wikipedia.org/wiki/\" title=\"aragon\\xc3\\xa9s\" lang=\"an\" hreflang=\"an\" class=\"interlanguage-link-target\"><span>Aragon\\xc3\\xa9s</span></a></li><li class=\"interlanguage-link interwiki-ar mw-list-item\"><a href=\"https://ar.wikipedia.org/wiki/\" title=\"\\xc3\\xa1rabe\" lang=\"ar\" hreflang=\"ar\" class=\"interlanguage-link-target\"><span>\\xd8\\xa7\\xd9\\x84\\xd8\\xb9\\xd8\\xb1\\xd8\\xa8\\xd9\\x8a\\xd8\\xa9</span></a></li><li class=\"interlanguage-link interwiki-ast mw-list-item\"><a href=\"https://ast.wikipedia.org/wiki/\" title=\"asturiano\" lang=\"ast\" hreflang=\"ast\" class=\"interlanguage-link-target\"><span>Asturianu</span></a></li><li class=\"interlanguage-link interwiki-ay mw-list-item\"><a href=\"https://ay.wikipedia.org/wiki/\" title=\"aimara\" lang=\"ay\" hreflang=\"ay\" class=\"interlanguage-link-target\"><span>Aymar aru</span></a></li><li class=\"interlanguage-link interwiki-bg mw-list-item\"><a href=\"https://bg.wikipedia.org/wiki/\" title=\"b\\xc3\\xbalgaro\" lang=\"bg\" hreflang=\"bg\" class=\"interlanguage-link-target\"><span>\\xd0\\x91\\xd1\\x8a\\xd0\\xbb\\xd0\\xb3\\xd0\\xb0\\xd1\\x80\\xd1\\x81\\xd0\\xba\\xd0\\xb8</span></a></li><li class=\"interlanguage-link interwiki-bpy mw-list-item\"><a href=\"https://bpy.wikipedia.org/wiki/\" title=\"Bishnupriya\" lang=\"bpy\" hreflang=\"bpy\" class=\"interlanguage-link-target\"><span>\\xe0\\xa6\\xac\\xe0\\xa6\\xbf\\xe0\\xa6\\xb7\\xe0\\xa7\\x8d\\xe0\\xa6\\xa3\\xe0\\xa7\\x81\\xe0\\xa6\\xaa\\xe0\\xa7\\x8d\\xe0\\xa6\\xb0\\xe0\\xa6\\xbf\\xe0\\xa6\\xaf\\xe0\\xa6\\xbc\\xe0\\xa6\\xbe \\xe0\\xa6\\xae\\xe0\\xa6\\xa3\\xe0\\xa6\\xbf\\xe0\\xa6\\xaa\\xe0\\xa7\\x81\\xe0\\xa6\\xb0\\xe0\\xa7\\x80</span></a></li><li class=\"interlanguage-link interwiki-bs mw-list-item\"><a href=\"https://bs.wikipedia.org/wiki/\" title=\"bosnio\" lang=\"bs\" hreflang=\"bs\" class=\"interlanguage-link-target\"><span>Bosanski</span></a></li><li class=\"interlanguage-link interwiki-ca mw-list-item\"><a href=\"https://ca.wikipedia.org/wiki/\" title=\"catal\\xc3\\xa1n\" lang=\"ca\" hreflang=\"ca\" class=\"interlanguage-link-target\"><span>Catal\\xc3\\xa0</span></a></li><li class=\"interlanguage-link interwiki-cbk-zam mw-list-item\"><a href=\"https://cbk-zam.wikipedia.org/wiki/\" title=\"Chavacano\" lang=\"cbk\" hreflang=\"cbk\" class=\"interlanguage-link-target\"><span>Chavacano de Zamboanga</span></a></li><li class=\"interlanguage-link interwiki-ceb mw-list-item\"><a href=\"https://ceb.wikipedia.org/wiki/\" title=\"cebuano\" lang=\"ceb\" hreflang=\"ceb\" class=\"interlanguage-link-target\"><span>Cebuano</span></a></li><li class=\"interlanguage-link interwiki-ch mw-list-item\"><a href=\"https://ch.wikipedia.org/wiki/\" title=\"chamorro\" lang=\"ch\" hreflang=\"ch\" class=\"interlanguage-link-target\"><span>Chamoru</span></a></li><li class=\"interlanguage-link interwiki-cs mw-list-item\"><a href=\"https://cs.wikipedia.org/wiki/\" title=\"checo\" lang=\"cs\" hreflang=\"cs\" class=\"interlanguage-link-target\"><span>\\xc4\\x8ce\\xc5\\xa1tina</span></a></li><li class=\"interlanguage-link interwiki-da mw-list-item\"><a href=\"https://da.wikipedia.org/wiki/\" title=\"dan\\xc3\\xa9s\" lang=\"da\" hreflang=\"da\" class=\"interlanguage-link-target\"><span>Dansk</span></a></li><li class=\"interlanguage-link interwiki-de mw-list-item\"><a href=\"https://de.wikipedia.org/wiki/\" title=\"alem\\xc3\\xa1n\" lang=\"de\" hreflang=\"de\" class=\"interlanguage-link-target\"><span>Deutsch</span></a></li><li class=\"interlanguage-link interwiki-el mw-list-item\"><a href=\"https://el.wikipedia.org/wiki/\" title=\"griego\" lang=\"el\" hreflang=\"el\" class=\"interlanguage-link-target\"><span>\\xce\\x95\\xce\\xbb\\xce\\xbb\\xce\\xb7\\xce\\xbd\\xce\\xb9\\xce\\xba\\xce\\xac</span></a></li><li class=\"interlanguage-link interwiki-en mw-list-item\"><a href=\"https://en.wikipedia.org/wiki/\" title=\"ingl\\xc3\\xa9s\" lang=\"en\" hreflang=\"en\" class=\"interlanguage-link-target\"><span>English</span></a></li><li class=\"interlanguage-link interwiki-eo mw-list-item\"><a href=\"https://eo.wikipedia.org/wiki/\" title=\"esperanto\" lang=\"eo\" hreflang=\"eo\" class=\"interlanguage-link-target\"><span>Esperanto</span></a></li><li class=\"interlanguage-link interwiki-et mw-list-item\"><a href=\"https://et.wikipedia.org/wiki/\" title=\"estonio\" lang=\"et\" hreflang=\"et\" class=\"interlanguage-link-target\"><span>Eesti</span></a></li><li class=\"interlanguage-link interwiki-eu mw-list-item\"><a href=\"https://eu.wikipedia.org/wiki/\" title=\"euskera\" lang=\"eu\" hreflang=\"eu\" class=\"interlanguage-link-target\"><span>Euskara</span></a></li><li class=\"interlanguage-link interwiki-ext mw-list-item\"><a href=\"https://ext.wikipedia.org/wiki/\" title=\"Extremaduran\" lang=\"ext\" hreflang=\"ext\" class=\"interlanguage-link-target\"><span>Estreme\\xc3\\xb1u</span></a></li><li class=\"interlanguage-link interwiki-fa mw-list-item\"><a href=\"https://fa.wikipedia.org/wiki/\" title=\"persa\" lang=\"fa\" hreflang=\"fa\" class=\"interlanguage-link-target\"><span>\\xd9\\x81\\xd8\\xa7\\xd8\\xb1\\xd8\\xb3\\xdb\\x8c</span></a></li><li class=\"interlanguage-link interwiki-fi mw-list-item\"><a href=\"https://fi.wikipedia.org/wiki/\" title=\"fin\\xc3\\xa9s\" lang=\"fi\" hreflang=\"fi\" class=\"interlanguage-link-target\"><span>Suomi</span></a></li><li class=\"interlanguage-link interwiki-fr mw-list-item\"><a href=\"https://fr.wikipedia.org/wiki/\" title=\"franc\\xc3\\xa9s\" lang=\"fr\" hreflang=\"fr\" class=\"interlanguage-link-target\"><span>Fran\\xc3\\xa7ais</span></a></li><li class=\"interlanguage-link interwiki-gl mw-list-item\"><a href=\"https://gl.wikipedia.org/wiki/\" title=\"gallego\" lang=\"gl\" hreflang=\"gl\" class=\"interlanguage-link-target\"><span>Galego</span></a></li><li class=\"interlanguage-link interwiki-gn mw-list-item\"><a href=\"https://gn.wikipedia.org/wiki/\" title=\"guaran\\xc3\\xad\" lang=\"gn\" hreflang=\"gn\" class=\"interlanguage-link-target\"><span>Ava\\xc3\\xb1e\\'\\xe1\\xba\\xbd</span></a></li><li class=\"interlanguage-link interwiki-he mw-list-item\"><a href=\"https://he.wikipedia.org/wiki/\" title=\"hebreo\" lang=\"he\" hreflang=\"he\" class=\"interlanguage-link-target\"><span>\\xd7\\xa2\\xd7\\x91\\xd7\\xa8\\xd7\\x99\\xd7\\xaa</span></a></li><li class=\"interlanguage-link interwiki-hr mw-list-item\"><a href=\"https://hr.wikipedia.org/wiki/\" title=\"croata\" lang=\"hr\" hreflang=\"hr\" class=\"interlanguage-link-target\"><span>Hrvatski</span></a></li><li class=\"interlanguage-link interwiki-hu mw-list-item\"><a href=\"https://hu.wikipedia.org/wiki/\" title=\"h\\xc3\\xbangaro\" lang=\"hu\" hreflang=\"hu\" class=\"interlanguage-link-target\"><span>Magyar</span></a></li><li class=\"interlanguage-link interwiki-id mw-list-item\"><a href=\"https://id.wikipedia.org/wiki/\" title=\"indonesio\" lang=\"id\" hreflang=\"id\" class=\"interlanguage-link-target\"><span>Bahasa Indonesia</span></a></li><li class=\"interlanguage-link interwiki-it mw-list-item\"><a href=\"https://it.wikipedia.org/wiki/\" title=\"italiano\" lang=\"it\" hreflang=\"it\" class=\"interlanguage-link-target\"><span>Italiano</span></a></li><li class=\"interlanguage-link interwiki-ja mw-list-item\"><a href=\"https://ja.wikipedia.org/wiki/\" title=\"japon\\xc3\\xa9s\" lang=\"ja\" hreflang=\"ja\" class=\"interlanguage-link-target\"><span>\\xe6\\x97\\xa5\\xe6\\x9c\\xac\\xe8\\xaa\\x9e</span></a></li><li class=\"interlanguage-link interwiki-ko mw-list-item\"><a href=\"https://ko.wikipedia.org/wiki/\" title=\"coreano\" lang=\"ko\" hreflang=\"ko\" class=\"interlanguage-link-target\"><span>\\xed\\x95\\x9c\\xea\\xb5\\xad\\xec\\x96\\xb4</span></a></li><li class=\"interlanguage-link interwiki-la mw-list-item\"><a href=\"https://la.wikipedia.org/wiki/\" title=\"lat\\xc3\\xadn\" lang=\"la\" hreflang=\"la\" class=\"interlanguage-link-target\"><span>Latina</span></a></li><li class=\"interlanguage-link interwiki-lad mw-list-item\"><a href=\"https://lad.wikipedia.org/wiki/\" title=\"ladino\" lang=\"lad\" hreflang=\"lad\" class=\"interlanguage-link-target\"><span>Ladino</span></a></li><li class=\"interlanguage-link interwiki-lmo mw-list-item\"><a href=\"https://lmo.wikipedia.org/wiki/\" title=\"lombardo\" lang=\"lmo\" hreflang=\"lmo\" class=\"interlanguage-link-target\"><span>Lombard</span></a></li><li class=\"interlanguage-link interwiki-lt mw-list-item\"><a href=\"https://lt.wikipedia.org/wiki/\" title=\"lituano\" lang=\"lt\" hreflang=\"lt\" class=\"interlanguage-link-target\"><span>Lietuvi\\xc5\\xb3</span></a></li><li class=\"interlanguage-link interwiki-ms mw-list-item\"><a href=\"https://ms.wikipedia.org/wiki/\" title=\"malayo\" lang=\"ms\" hreflang=\"ms\" class=\"interlanguage-link-target\"><span>Bahasa Melayu</span></a></li><li class=\"interlanguage-link interwiki-mwl mw-list-item\"><a href=\"https://mwl.wikipedia.org/wiki/\" title=\"mirand\\xc3\\xa9s\" lang=\"mwl\" hreflang=\"mwl\" class=\"interlanguage-link-target\"><span>Mirand\\xc3\\xa9s</span></a></li><li class=\"interlanguage-link interwiki-nah mw-list-item\"><a href=\"https://nah.wikipedia.org/wiki/\" title=\"N\\xc4\\x81huatl\" lang=\"nah\" hreflang=\"nah\" class=\"interlanguage-link-target\"><span>N\\xc4\\x81huatl</span></a></li><li class=\"interlanguage-link interwiki-new mw-list-item\"><a href=\"https://new.wikipedia.org/wiki/\" title=\"nevar\\xc3\\xad\" lang=\"new\" hreflang=\"new\" class=\"interlanguage-link-target\"><span>\\xe0\\xa4\\xa8\\xe0\\xa5\\x87\\xe0\\xa4\\xaa\\xe0\\xa4\\xbe\\xe0\\xa4\\xb2 \\xe0\\xa4\\xad\\xe0\\xa4\\xbe\\xe0\\xa4\\xb7\\xe0\\xa4\\xbe</span></a></li><li class=\"interlanguage-link interwiki-nl mw-list-item\"><a href=\"https://nl.wikipedia.org/wiki/\" title=\"neerland\\xc3\\xa9s\" lang=\"nl\" hreflang=\"nl\" class=\"interlanguage-link-target\"><span>Nederlands</span></a></li><li class=\"interlanguage-link interwiki-nn mw-list-item\"><a href=\"https://nn.wikipedia.org/wiki/\" title=\"noruego nynorsk\" lang=\"nn\" hreflang=\"nn\" class=\"interlanguage-link-target\"><span>Norsk nynorsk</span></a></li><li class=\"interlanguage-link interwiki-no mw-list-item\"><a href=\"https://no.wikipedia.org/wiki/\" title=\"noruego bokmal\" lang=\"nb\" hreflang=\"nb\" class=\"interlanguage-link-target\"><span>Norsk bokm\\xc3\\xa5l</span></a></li><li class=\"interlanguage-link interwiki-oc mw-list-item\"><a href=\"https://oc.wikipedia.org/wiki/\" title=\"occitano\" lang=\"oc\" hreflang=\"oc\" class=\"interlanguage-link-target\"><span>Occitan</span></a></li><li class=\"interlanguage-link interwiki-pap mw-list-item\"><a href=\"https://pap.wikipedia.org/wiki/\" title=\"papiamento\" lang=\"pap\" hreflang=\"pap\" class=\"interlanguage-link-target\"><span>Papiamentu</span></a></li><li class=\"interlanguage-link interwiki-pl mw-list-item\"><a href=\"https://pl.wikipedia.org/wiki/\" title=\"polaco\" lang=\"pl\" hreflang=\"pl\" class=\"interlanguage-link-target\"><span>Polski</span></a></li><li class=\"interlanguage-link interwiki-pt mw-list-item\"><a href=\"https://pt.wikipedia.org/wiki/\" title=\"portugu\\xc3\\xa9s\" lang=\"pt\" hreflang=\"pt\" class=\"interlanguage-link-target\"><span>Portugu\\xc3\\xaas</span></a></li><li class=\"interlanguage-link interwiki-qu mw-list-item\"><a href=\"https://qu.wikipedia.org/wiki/\" title=\"quechua\" lang=\"qu\" hreflang=\"qu\" class=\"interlanguage-link-target\"><span>Runa Simi</span></a></li><li class=\"interlanguage-link interwiki-ro mw-list-item\"><a href=\"https://ro.wikipedia.org/wiki/\" title=\"rumano\" lang=\"ro\" hreflang=\"ro\" class=\"interlanguage-link-target\"><span>Rom\\xc3\\xa2n\\xc4\\x83</span></a></li><li class=\"interlanguage-link interwiki-ru mw-list-item\"><a href=\"https://ru.wikipedia.org/wiki/\" title=\"ruso\" lang=\"ru\" hreflang=\"ru\" class=\"interlanguage-link-target\"><span>\\xd0\\xa0\\xd1\\x83\\xd1\\x81\\xd1\\x81\\xd0\\xba\\xd0\\xb8\\xd0\\xb9</span></a></li><li class=\"interlanguage-link interwiki-simple mw-list-item\"><a href=\"https://simple.wikipedia.org/wiki/\" title=\"Simple English\" lang=\"en-simple\" hreflang=\"en-simple\" class=\"interlanguage-link-target\"><span>Simple English</span></a></li><li class=\"interlanguage-link interwiki-sk mw-list-item\"><a href=\"https://sk.wikipedia.org/wiki/\" title=\"eslovaco\" lang=\"sk\" hreflang=\"sk\" class=\"interlanguage-link-target\"><span>Sloven\\xc4\\x8dina</span></a></li><li class=\"interlanguage-link interwiki-sl mw-list-item\"><a href=\"https://sl.wikipedia.org/wiki/\" title=\"esloveno\" lang=\"sl\" hreflang=\"sl\" class=\"interlanguage-link-target\"><span>Sloven\\xc5\\xa1\\xc4\\x8dina</span></a></li><li class=\"interlanguage-link interwiki-sr mw-list-item\"><a href=\"https://sr.wikipedia.org/wiki/\" title=\"serbio\" lang=\"sr\" hreflang=\"sr\" class=\"interlanguage-link-target\"><span>\\xd0\\xa1\\xd1\\x80\\xd0\\xbf\\xd1\\x81\\xd0\\xba\\xd0\\xb8 / srpski</span></a></li><li class=\"interlanguage-link interwiki-sv mw-list-item\"><a href=\"https://sv.wikipedia.org/wiki/\" title=\"sueco\" lang=\"sv\" hreflang=\"sv\" class=\"interlanguage-link-target\"><span>Svenska</span></a></li><li class=\"interlanguage-link interwiki-te mw-list-item\"><a href=\"https://te.wikipedia.org/wiki/\" title=\"telugu\" lang=\"te\" hreflang=\"te\" class=\"interlanguage-link-target\"><span>\\xe0\\xb0\\xa4\\xe0\\xb1\\x86\\xe0\\xb0\\xb2\\xe0\\xb1\\x81\\xe0\\xb0\\x97\\xe0\\xb1\\x81</span></a></li><li class=\"interlanguage-link interwiki-th mw-list-item\"><a href=\"https://th.wikipedia.org/wiki/\" title=\"tailand\\xc3\\xa9s\" lang=\"th\" hreflang=\"th\" class=\"interlanguage-link-target\"><span>\\xe0\\xb9\\x84\\xe0\\xb8\\x97\\xe0\\xb8\\xa2</span></a></li><li class=\"interlanguage-link interwiki-tl mw-list-item\"><a href=\"https://tl.wikipedia.org/wiki/\" title=\"tagalo\" lang=\"tl\" hreflang=\"tl\" class=\"interlanguage-link-target\"><span>Tagalog</span></a></li><li class=\"interlanguage-link interwiki-tr mw-list-item\"><a href=\"https://tr.wikipedia.org/wiki/\" title=\"turco\" lang=\"tr\" hreflang=\"tr\" class=\"interlanguage-link-target\"><span>T\\xc3\\xbcrk\\xc3\\xa7e</span></a></li><li class=\"interlanguage-link interwiki-uk mw-list-item\"><a href=\"https://uk.wikipedia.org/wiki/\" title=\"ucraniano\" lang=\"uk\" hreflang=\"uk\" class=\"interlanguage-link-target\"><span>\\xd0\\xa3\\xd0\\xba\\xd1\\x80\\xd0\\xb0\\xd1\\x97\\xd0\\xbd\\xd1\\x81\\xd1\\x8c\\xd0\\xba\\xd0\\xb0</span></a></li><li class=\"interlanguage-link interwiki-vi mw-list-item\"><a href=\"https://vi.wikipedia.org/wiki/\" title=\"vietnamita\" lang=\"vi\" hreflang=\"vi\" class=\"interlanguage-link-target\"><span>Ti\\xe1\\xba\\xbfng Vi\\xe1\\xbb\\x87t</span></a></li><li class=\"interlanguage-link interwiki-zh mw-list-item\"><a href=\"https://zh.wikipedia.org/wiki/\" title=\"chino\" lang=\"zh\" hreflang=\"zh\" class=\"interlanguage-link-target\"><span>\\xe4\\xb8\\xad\\xe6\\x96\\x87</span></a></li>\\n\\t\\t\\t</ul>\\n\\t\\t\\t\\n\\t\\t</div>\\n\\n\\t</div>\\n</div>\\n\\n\\t\\t\\t\\t</div>\\n\\t\\t\\t</main>\\n\\t\\t\\t\\n\\t\\t</div>\\n\\t\\t<div class=\"mw-footer-container\">\\n\\t\\t\\t\\n<footer id=\"footer\" class=\"mw-footer\" role=\"contentinfo\" >\\n\\t<ul id=\"footer-info\">\\n\\t<li id=\"footer-info-lastmod\"> Esta p\\xc3\\xa1gina se edit\\xc3\\xb3 por \\xc3\\xbaltima vez el 8 feb 2023 a las 00:22.</li>\\n\\t<li id=\"footer-info-copyright\">El texto est\\xc3\\xa1 disponible bajo la <a rel=\"license\" href=\"https://es.wikipedia.org/wiki/Wikipedia:Texto_de_la_Licencia_Creative_Commons_Atribuci%C3%B3n-CompartirIgual_4.0_Internacional\">Licencia Creative Commons Atribuci\\xc3\\xb3n-CompartirIgual 4.0</a><a rel=\"license\" href=\"https://creativecommons.org/licenses/by-sa/4.0/deed.es\" style=\"display:none;\"></a>; pueden aplicarse cl\\xc3\\xa1usulas adicionales. Al usar este sitio aceptas nuestros <a href=\"https://foundation.wikimedia.org/wiki/Policy:Terms_of_Use/es\">t\\xc3\\xa9rminos de uso</a> y nuestra <a href=\"https://foundation.wikimedia.org/wiki/Policy:Privacy_policy/es\">pol\\xc3\\xadtica de privacidad</a>.<br/>Wikipedia&reg; es una marca registrada de la <a href=\"https://wikimediafoundation.org/es/\">Fundaci\\xc3\\xb3n Wikimedia</a>, una organizaci\\xc3\\xb3n sin \\xc3\\xa1nimo de lucro.</li>\\n</ul>\\n\\n\\t<ul id=\"footer-places\">\\n\\t<li id=\"footer-places-privacy\"><a href=\"https://foundation.wikimedia.org/wiki/Special:MyLanguage/Policy:Privacy_policy/es\">Pol\\xc3\\xadtica de privacidad</a></li>\\n\\t<li id=\"footer-places-about\"><a href=\"/wiki/Wikipedia:Acerca_de\">Acerca de Wikipedia</a></li>\\n\\t<li id=\"footer-places-disclaimers\"><a href=\"/wiki/Wikipedia:Limitaci%C3%B3n_general_de_responsabilidad\">Limitaci\\xc3\\xb3n de responsabilidad</a></li>\\n\\t<li id=\"footer-places-wm-codeofconduct\"><a href=\"https://foundation.wikimedia.org/wiki/Special:MyLanguage/Policy:Universal_Code_of_Conduct\">C\\xc3\\xb3digo de conducta</a></li>\\n\\t<li id=\"footer-places-developers\"><a href=\"https://developer.wikimedia.org\">Desarrolladores</a></li>\\n\\t<li id=\"footer-places-statslink\"><a href=\"https://stats.wikimedia.org/#/es.wikipedia.org\">Estad\\xc3\\xadsticas</a></li>\\n\\t<li id=\"footer-places-cookiestatement\"><a href=\"https://foundation.wikimedia.org/wiki/Special:MyLanguage/Policy:Cookie_statement/es\">Declaraci\\xc3\\xb3n de cookies</a></li>\\n\\t<li id=\"footer-places-mobileview\"><a href=\"//es.m.wikipedia.org/w/index.php?title=Wikipedia:Portada&amp;mobileaction=toggle_view_mobile\" class=\"noprint stopMobileRedirectToggle\">Versi\\xc3\\xb3n para m\\xc3\\xb3viles</a></li>\\n</ul>\\n\\n\\t<ul id=\"footer-icons\" class=\"noprint\">\\n\\t<li id=\"footer-copyrightico\"><a href=\"https://wikimediafoundation.org/\"><img src=\"/static/images/footer/wikimedia-button.png\" srcset=\"/static/images/footer/wikimedia-button-1.5x.png 1.5x, /static/images/footer/wikimedia-button-2x.png 2x\" width=\"88\" height=\"31\" alt=\"Wikimedia Foundation\" loading=\"lazy\" /></a></li>\\n\\t<li id=\"footer-poweredbyico\"><a href=\"https://www.mediawiki.org/\"><img src=\"/static/images/footer/poweredby_mediawiki_88x31.png\" alt=\"Powered by MediaWiki\" srcset=\"/static/images/footer/poweredby_mediawiki_132x47.png 1.5x, /static/images/footer/poweredby_mediawiki_176x62.png 2x\" width=\"88\" height=\"31\" loading=\"lazy\"></a></li>\\n</ul>\\n\\n</footer>\\n\\n\\t\\t</div>\\n\\t</div> \\n</div> \\n<div class=\"vector-settings\" id=\"p-dock-bottom\">\\n\\t<ul>\\n\\t\\t<li>\\n\\t\\t</li>\\n\\t</ul>\\n</div>\\n<script>(RLQ=window.RLQ||[]).push(function(){mw.log.warn(\"This page is using the deprecated ResourceLoader module \\\\\"mediawiki.ui.button\\\\\".\\\\n[1.41] Please use Codex. See migration guidelines: https://www.mediawiki.org/wiki/Codex/Migrating_from_MediaWiki_UI\");mw.config.set({\"wgHostname\":\"mw-web.eqiad.main-5b6c8cbc9d-c5z8x\",\"wgBackendResponseTime\":116,\"wgDiscussionToolsPageThreads\":[{\"headingLevel\":1,\"name\":\"h-\",\"type\":\"heading\",\"level\":0,\"id\":\"h-Bienvenidos_a_Wikipedia,\",\"replies\":[{\"headingLevel\":2,\"name\":\"h-\",\"type\":\"heading\",\"level\":0,\"id\":\"h-A_Thousand_Suns-Bienvenidos_a_Wikipedia,\",\"replies\":[]},{\"headingLevel\":2,\"name\":\"h-\",\"type\":\"heading\",\"level\":0,\"id\":\"h-Racismo_en_Quebec-Bienvenidos_a_Wikipedia,\",\"replies\":[]},{\"headingLevel\":2,\"name\":\"h-\",\"type\":\"heading\",\"level\":0,\"id\":\"h-Recurso_del_d\\xc3\\xada-Bienvenidos_a_Wikipedia,\",\"replies\":[]},{\"headingLevel\":2,\"name\":\"h-\",\"type\":\"heading\",\"level\":0,\"id\":\"h-Portales-Bienvenidos_a_Wikipedia,\",\"replies\":[]},{\"headingLevel\":2,\"name\":\"h-\",\"type\":\"heading\",\"level\":0,\"id\":\"h-Actualidad-Bienvenidos_a_Wikipedia,\",\"replies\":[]},{\"headingLevel\":2,\"name\":\"h-\",\"type\":\"heading\",\"level\":0,\"id\":\"h-27_de_mayo-Bienvenidos_a_Wikipedia,\",\"replies\":[]},{\"headingLevel\":2,\"name\":\"h-\",\"type\":\"heading\",\"level\":0,\"id\":\"h-Otros_proyectos_de_la_Fundaci\\xc3\\xb3n_Wikimedia-Bienvenidos_a_Wikipedia,\",\"replies\":[]}]}],\"wgPageParseReport\":{\"discussiontools\":{\"limitreport-timeusage\":\"0.021\"},\"limitreport\":{\"cputime\":\"0.231\",\"walltime\":\"0.298\",\"ppvisitednodes\":{\"value\":4841,\"limit\":1000000},\"postexpandincludesize\":{\"value\":65591,\"limit\":2097152},\"templateargumentsize\":{\"value\":25878,\"limit\":2097152},\"expansiondepth\":{\"value\":21,\"limit\":100},\"expensivefunctioncount\":{\"value\":0,\"limit\":500},\"unstrip-depth\":{\"value\":0,\"limit\":20},\"unstrip-size\":{\"value\":21451,\"limit\":5000000},\"entityaccesscount\":{\"value\":0,\"limit\":400},\"timingprofile\":[\"100.00%  163.309      1 -total\",\" 83.86%  136.952      7 Plantilla:Portada:Secci\\xc3\\xb3n\",\" 22.24%   36.328      4 Plantilla:Portada:Destacado\",\" 15.28%   24.957      5 Plantilla:Portada:Destacado/D\",\" 14.58%   23.808     14 Plantilla:T\\xc3\\xadtulo_sin_coletilla\",\" 14.57%   23.788      1 Plantilla:Portada:Encabezado/OOUI\",\" 13.89%   22.677      5 Plantilla:Portada:Resumen\",\" 11.78%   19.230      1 Plantilla:Portada:Portales_II\",\" 11.19%   18.280      5 Plantilla:ABDD\",\" 10.27%   16.764      8 Plantilla:PortalIconos\"]},\"scribunto\":{\"limitreport-timeusage\":{\"value\":\"0.009\",\"limit\":\"10.000\"},\"limitreport-memusage\":{\"value\":941680,\"limit\":52428800}},\"cachereport\":{\"origin\":\"mw1364\",\"timestamp\":\"20240527001130\",\"ttl\":3600,\"transientcontent\":true}}});});</script>\\n</body>\\n</html>'"
            ]
          },
          "metadata": {},
          "execution_count": 55
        }
      ]
    },
    {
      "cell_type": "markdown",
      "metadata": {
        "id": "XCxB7p2PVYEC"
      },
      "source": [
        "Mientras que `.content` le da acceso a los bytes brutos de la carga útil de la respuesta, a menudo querremos convertirlos en una cadena utilizando una codificación de caracteres como UTF-8. `Response` lo hará por nosotros cuando accedamos a `.text`:"
      ]
    },
    {
      "cell_type": "code",
      "execution_count": null,
      "metadata": {
        "id": "mFraZYApVYEC",
        "colab": {
          "base_uri": "https://localhost:8080/"
        },
        "outputId": "aa6bccce-c0ed-4a81-9f66-9c03fb5e0855"
      },
      "outputs": [
        {
          "output_type": "stream",
          "name": "stdout",
          "text": [
            "<!DOCTYPE html>\n",
            "<html class=\"client-nojs vector-feature-language-in-header-enabled vector-feature-language-in-main-page-header-disabled vector-feature-sticky-header-disabled vector-feature-page-tools-pinned-disabled vector-feature-toc-pinned-clientpref-1 vector-feature-main-menu-pinned-disabled vector-feature-limited-width-clientpref-1 vector-feature-limited-width-content-disabled vector-feature-custom-font-size-clientpref-1 vector-feature-appearance-enabled vector-feature-appearance-pinned-clientpref-1 vector-feature-night-mode-disabled skin-theme-clientpref-day vector-toc-not-available\" lang=\"es\" dir=\"ltr\">\n",
            "<head>\n",
            "<meta charset=\"UTF-8\">\n",
            "<title>Wikipedia, la enciclopedia libre</title>\n",
            "<script>(function(){var className=\"client-js vector-feature-language-in-header-enabled vector-feature-language-in-main-page-header-disabled vector-feature-sticky-header-disabled vector-feature-page-tools-pinned-disabled vector-feature-toc-pinned-clientpref-1 vector-feature-main-menu-pinned-disabled vector-feature-limited-width-clientpref-1 vector-feature-limited-width-content-disabled vector-feature-custom-font-size-clientpref-1 vector-feature-appearance-enabled vector-feature-appearance-pinned-clientpref-1 vector-feature-night-mode-disabled skin-theme-clientpref-day vector-toc-not-available\";var cookie=document.cookie.match(/(?:^|; )eswikimwclientpreferences=([^;]+)/);if(cookie){cookie[1].split('%2C').forEach(function(pref){className=className.replace(new RegExp('(^| )'+pref.replace(/-clientpref-\\w+$|[^\\w-]+/g,'')+'-clientpref-\\\\w+( |$)'),'$1'+pref+'$2');});}document.documentElement.className=className;}());RLCONF={\"wgBreakFrames\":false,\"wgSeparatorTransformTable\":[\",\\t.\",\" \\t,\"],\n",
            "\"wgDigitTransformTable\":[\"\",\"\"],\"wgDefaultDateFormat\":\"dmy\",\"wgMonthNames\":[\"\",\"enero\",\"febrero\",\"marzo\",\"abril\",\"mayo\",\"junio\",\"julio\",\"agosto\",\"septiembre\",\"octubre\",\"noviembre\",\"diciembre\"],\"wgRequestId\":\"22aaee3b-a680-42f1-b747-c6d68b40e5d0\",\"wgCanonicalNamespace\":\"Project\",\"wgCanonicalSpecialPageName\":false,\"wgNamespaceNumber\":4,\"wgPageName\":\"Wikipedia:Portada\",\"wgTitle\":\"Portada\",\"wgCurRevisionId\":149134229,\"wgRevisionId\":149134229,\"wgArticleId\":2271189,\"wgIsArticle\":true,\"wgIsRedirect\":false,\"wgAction\":\"view\",\"wgUserName\":null,\"wgUserGroups\":[\"*\"],\"wgCategories\":[],\"wgPageViewLanguage\":\"es\",\"wgPageContentLanguage\":\"es\",\"wgPageContentModel\":\"wikitext\",\"wgRelevantPageName\":\"Wikipedia:Portada\",\"wgRelevantArticleId\":2271189,\"wgIsProbablyEditable\":false,\"wgRelevantPageIsProbablyEditable\":false,\"wgRestrictionEdit\":[\"sysop\"],\"wgRestrictionMove\":[\"sysop\"],\"wgIsMainPage\":true,\"wgNoticeProject\":\"wikipedia\",\"wgCiteReferencePreviewsActive\":false,\"wgMediaViewerOnClick\":true,\n",
            "\"wgMediaViewerEnabledByDefault\":true,\"wgPopupsFlags\":6,\"wgVisualEditor\":{\"pageLanguageCode\":\"es\",\"pageLanguageDir\":\"ltr\",\"pageVariantFallbacks\":\"es\"},\"wgMFDisplayWikibaseDescriptions\":{\"search\":true,\"watchlist\":true,\"tagline\":true,\"nearby\":true},\"wgWMESchemaEditAttemptStepOversample\":false,\"wgWMEPageLength\":3000,\"wgULSCurrentAutonym\":\"español\",\"wgCentralAuthMobileDomain\":false,\"wgEditSubmitButtonLabelPublish\":true,\"wgDiscussionToolsFeaturesEnabled\":{\"replytool\":true,\"newtopictool\":true,\"sourcemodetoolbar\":true,\"topicsubscription\":false,\"autotopicsub\":false,\"visualenhancements\":false,\"visualenhancements_reply\":false,\"visualenhancements_pageframe\":false},\"wgDiscussionToolsFallbackEditMode\":\"source\",\"wgULSPosition\":\"interlanguage\",\"wgULSisCompactLinksEnabled\":false,\"wgVector2022LanguageInHeader\":true,\"wgULSisLanguageSelectorEmpty\":false,\"wgWikibaseItemId\":\"Q5296\",\"wgCheckUserClientHintsHeadersJsApi\":[\"architecture\",\"bitness\",\"brands\",\"fullVersionList\",\"mobile\",\"model\",\"platform\",\n",
            "\"platformVersion\"],\"GEHomepageSuggestedEditsEnableTopics\":true,\"wgGETopicsMatchModeEnabled\":true,\"wgGEStructuredTaskRejectionReasonTextInputEnabled\":false,\"wgGELevelingUpEnabledForUser\":false};RLSTATE={\"skins.vector.user.styles\":\"ready\",\"ext.gadget.imagenesinfobox\":\"ready\",\"ext.globalCssJs.user.styles\":\"ready\",\"site.styles\":\"ready\",\"user.styles\":\"ready\",\"skins.vector.user\":\"ready\",\"ext.globalCssJs.user\":\"ready\",\"user\":\"ready\",\"user.options\":\"loading\",\"ext.discussionTools.init.styles\":\"ready\",\"oojs-ui-core.styles\":\"ready\",\"oojs-ui.styles.indicators\":\"ready\",\"mediawiki.widgets.styles\":\"ready\",\"oojs-ui-core.icons\":\"ready\",\"skins.vector.search.codex.styles\":\"ready\",\"skins.vector.styles\":\"ready\",\"skins.vector.icons\":\"ready\",\"jquery.makeCollapsible.styles\":\"ready\",\"mediawiki.ui.button\":\"ready\",\"ext.wikimediamessages.styles\":\"ready\",\"ext.visualEditor.desktopArticleTarget.noscript\":\"ready\",\"ext.uls.interlanguage\":\"ready\",\"ext.wikimediaBadges\":\"ready\"};RLPAGEMODULES=[\"mediawiki.page.media\",\n",
            "\"site\",\"mediawiki.page.ready\",\"jquery.makeCollapsible\",\"skins.vector.js\",\"ext.centralNotice.geoIP\",\"ext.centralNotice.startUp\",\"ext.gadget.a-commons-directo\",\"ext.gadget.ReferenceTooltips\",\"ext.gadget.refToolbar\",\"ext.gadget.switcher\",\"ext.urlShortener.toolbar\",\"ext.centralauth.centralautologin\",\"mmv.head\",\"mmv.bootstrap.autostart\",\"ext.popups\",\"ext.visualEditor.desktopArticleTarget.init\",\"ext.visualEditor.targetLoader\",\"ext.echo.centralauth\",\"ext.discussionTools.init\",\"ext.eventLogging\",\"ext.wikimediaEvents\",\"ext.navigationTiming\",\"ext.uls.interface\",\"ext.cx.eventlogging.campaigns\",\"wikibase.client.vector-2022\",\"ext.checkUser.clientHints\"];</script>\n",
            "<script>(RLQ=window.RLQ||[]).push(function(){mw.loader.impl(function(){return[\"user.options@12s5i\",function($,jQuery,require,module){mw.user.tokens.set({\"patrolToken\":\"+\\\\\",\"watchToken\":\"+\\\\\",\"csrfToken\":\"+\\\\\"});\n",
            "}];});});</script>\n",
            "<link rel=\"stylesheet\" href=\"/w/load.php?lang=es&amp;modules=ext.discussionTools.init.styles%7Cext.uls.interlanguage%7Cext.visualEditor.desktopArticleTarget.noscript%7Cext.wikimediaBadges%7Cext.wikimediamessages.styles%7Cjquery.makeCollapsible.styles%7Cmediawiki.ui.button%7Cmediawiki.widgets.styles%7Coojs-ui-core.icons%2Cstyles%7Coojs-ui.styles.indicators%7Cskins.vector.icons%2Cstyles%7Cskins.vector.search.codex.styles&amp;only=styles&amp;skin=vector-2022\">\n",
            "<script async=\"\" src=\"/w/load.php?lang=es&amp;modules=startup&amp;only=scripts&amp;raw=1&amp;skin=vector-2022\"></script>\n",
            "<meta name=\"ResourceLoaderDynamicStyles\" content=\"\">\n",
            "<link rel=\"stylesheet\" href=\"/w/load.php?lang=es&amp;modules=ext.gadget.imagenesinfobox&amp;only=styles&amp;skin=vector-2022\">\n",
            "<link rel=\"stylesheet\" href=\"/w/load.php?lang=es&amp;modules=site.styles&amp;only=styles&amp;skin=vector-2022\">\n",
            "<noscript><link rel=\"stylesheet\" href=\"/w/load.php?lang=es&amp;modules=noscript&amp;only=styles&amp;skin=vector-2022\"></noscript>\n",
            "<meta name=\"generator\" content=\"MediaWiki 1.43.0-wmf.6\">\n",
            "<meta name=\"referrer\" content=\"origin\">\n",
            "<meta name=\"referrer\" content=\"origin-when-cross-origin\">\n",
            "<meta name=\"robots\" content=\"max-image-preview:standard\">\n",
            "<meta name=\"format-detection\" content=\"telephone=no\">\n",
            "<meta name=\"viewport\" content=\"width=1000\">\n",
            "<meta property=\"og:title\" content=\"Wikipedia, la enciclopedia libre\">\n",
            "<meta property=\"og:type\" content=\"website\">\n",
            "<link rel=\"preconnect\" href=\"//upload.wikimedia.org\">\n",
            "<link rel=\"alternate\" media=\"only screen and (max-width: 720px)\" href=\"//es.m.wikipedia.org/wiki/Wikipedia:Portada\">\n",
            "<link rel=\"apple-touch-icon\" href=\"/static/apple-touch/wikipedia.png\">\n",
            "<link rel=\"icon\" href=\"/static/favicon/wikipedia.ico\">\n",
            "<link rel=\"search\" type=\"application/opensearchdescription+xml\" href=\"/w/opensearch_desc.php\" title=\"Wikipedia (es)\">\n",
            "<link rel=\"EditURI\" type=\"application/rsd+xml\" href=\"//es.wikipedia.org/w/api.php?action=rsd\">\n",
            "<link rel=\"canonical\" href=\"https://es.wikipedia.org/wiki/Wikipedia:Portada\">\n",
            "<link rel=\"license\" href=\"https://creativecommons.org/licenses/by-sa/4.0/deed.es\">\n",
            "<link rel=\"alternate\" type=\"application/atom+xml\" title=\"Canal Atom de Wikipedia\" href=\"/w/index.php?title=Especial:CambiosRecientes&amp;feed=atom\">\n",
            "<link rel=\"dns-prefetch\" href=\"//meta.wikimedia.org\" />\n",
            "<link rel=\"dns-prefetch\" href=\"//login.wikimedia.org\">\n",
            "</head>\n",
            "<body class=\"ext-discussiontools-replytool-enabled ext-discussiontools-newtopictool-enabled ext-discussiontools-sourcemodetoolbar-enabled skin-vector skin-vector-search-vue mediawiki ltr sitedir-ltr mw-hide-empty-elt ns-4 ns-subject page-Wikipedia_Portada page-Main_Page rootpage-Wikipedia_Portada skin-vector-2022 action-view\"><a class=\"mw-jump-link\" href=\"#bodyContent\">Ir al contenido</a>\n",
            "<div class=\"vector-header-container\">\n",
            "\t<header class=\"vector-header mw-header\">\n",
            "\t\t<div class=\"vector-header-start\">\n",
            "\t\t\t<nav class=\"vector-main-menu-landmark\" aria-label=\"Sitio\" role=\"navigation\">\n",
            "\t\t\t\t\n",
            "<div id=\"vector-main-menu-dropdown\" class=\"vector-dropdown vector-main-menu-dropdown vector-button-flush-left vector-button-flush-right\"  >\n",
            "\t<input type=\"checkbox\" id=\"vector-main-menu-dropdown-checkbox\" role=\"button\" aria-haspopup=\"true\" data-event-name=\"ui.dropdown-vector-main-menu-dropdown\" class=\"vector-dropdown-checkbox \"  aria-label=\"Menú principal\"  >\n",
            "\t<label id=\"vector-main-menu-dropdown-label\" for=\"vector-main-menu-dropdown-checkbox\" class=\"vector-dropdown-label cdx-button cdx-button--fake-button cdx-button--fake-button--enabled cdx-button--weight-quiet cdx-button--icon-only \" aria-hidden=\"true\"  ><span class=\"vector-icon mw-ui-icon-menu mw-ui-icon-wikimedia-menu\"></span>\n",
            "\n",
            "<span class=\"vector-dropdown-label-text\">Menú principal</span>\n",
            "\t</label>\n",
            "\t<div class=\"vector-dropdown-content\">\n",
            "\n",
            "\n",
            "\t\t\t\t<div id=\"vector-main-menu-unpinned-container\" class=\"vector-unpinned-container\">\n",
            "\t\t\n",
            "<div id=\"vector-main-menu\" class=\"vector-main-menu vector-pinnable-element\">\n",
            "\t<div\n",
            "\tclass=\"vector-pinnable-header vector-main-menu-pinnable-header vector-pinnable-header-unpinned\"\n",
            "\tdata-feature-name=\"main-menu-pinned\"\n",
            "\tdata-pinnable-element-id=\"vector-main-menu\"\n",
            "\tdata-pinned-container-id=\"vector-main-menu-pinned-container\"\n",
            "\tdata-unpinned-container-id=\"vector-main-menu-unpinned-container\"\n",
            ">\n",
            "\t<div class=\"vector-pinnable-header-label\">Menú principal</div>\n",
            "\t<button class=\"vector-pinnable-header-toggle-button vector-pinnable-header-pin-button\" data-event-name=\"pinnable-header.vector-main-menu.pin\">mover a la barra lateral</button>\n",
            "\t<button class=\"vector-pinnable-header-toggle-button vector-pinnable-header-unpin-button\" data-event-name=\"pinnable-header.vector-main-menu.unpin\">ocultar</button>\n",
            "</div>\n",
            "\n",
            "\t\n",
            "<div id=\"p-navigation\" class=\"vector-menu mw-portlet mw-portlet-navigation\"  >\n",
            "\t<div class=\"vector-menu-heading\">\n",
            "\t\tNavegación\n",
            "\t</div>\n",
            "\t<div class=\"vector-menu-content\">\n",
            "\t\t\n",
            "\t\t<ul class=\"vector-menu-content-list\">\n",
            "\t\t\t\n",
            "\t\t\t<li id=\"n-mainpage-description\" class=\"mw-list-item\"><a href=\"/wiki/Wikipedia:Portada\" title=\"Visitar la página principal [z]\" accesskey=\"z\"><span>Portada</span></a></li><li id=\"n-portal\" class=\"mw-list-item\"><a href=\"/wiki/Portal:Comunidad\" title=\"Acerca del proyecto, lo que puedes hacer, dónde encontrar información\"><span>Portal de la comunidad</span></a></li><li id=\"n-currentevents\" class=\"mw-list-item\"><a href=\"/wiki/Portal:Actualidad\" title=\"Encuentra información de contexto sobre acontecimientos actuales\"><span>Actualidad</span></a></li><li id=\"n-recentchanges\" class=\"mw-list-item\"><a href=\"/wiki/Especial:CambiosRecientes\" title=\"Lista de cambios recientes en la wiki [r]\" accesskey=\"r\"><span>Cambios recientes</span></a></li><li id=\"n-newpages\" class=\"mw-list-item\"><a href=\"/wiki/Especial:P%C3%A1ginasNuevas\"><span>Páginas nuevas</span></a></li><li id=\"n-randompage\" class=\"mw-list-item\"><a href=\"/wiki/Especial:Aleatoria\" title=\"Cargar una página al azar [x]\" accesskey=\"x\"><span>Página aleatoria</span></a></li><li id=\"n-help\" class=\"mw-list-item\"><a href=\"/wiki/Ayuda:Contenidos\" title=\"El lugar para aprender\"><span>Ayuda</span></a></li><li id=\"n-sitesupport\" class=\"mw-list-item\"><a href=\"//donate.wikimedia.org/wiki/Special:FundraiserRedirector?utm_source=donate&amp;utm_medium=sidebar&amp;utm_campaign=C13_es.wikipedia.org&amp;uselang=es\" title=\"Apóyanos\"><span>Donaciones</span></a></li><li id=\"n-bug_in_article\" class=\"mw-list-item\"><a href=\"/wiki/Wikipedia:Informes_de_error\"><span>Notificar un error</span></a></li>\n",
            "\t\t</ul>\n",
            "\t\t\n",
            "\t</div>\n",
            "</div>\n",
            "\n",
            "\t\n",
            "\t\n",
            "</div>\n",
            "\n",
            "\t\t\t\t</div>\n",
            "\n",
            "\t</div>\n",
            "</div>\n",
            "\n",
            "\t\t</nav>\n",
            "\t\t\t\n",
            "<a href=\"/wiki/Wikipedia:Portada\" class=\"mw-logo\">\n",
            "\t<img class=\"mw-logo-icon\" src=\"/static/images/icons/wikipedia.png\" alt=\"\" aria-hidden=\"true\" height=\"50\" width=\"50\">\n",
            "\t<span class=\"mw-logo-container skin-invert\">\n",
            "\t\t<img class=\"mw-logo-wordmark\" alt=\"Wikipedia\" src=\"/static/images/mobile/copyright/wikipedia-wordmark-en.svg\" style=\"width: 7.5em; height: 1.125em;\">\n",
            "\t\t<img class=\"mw-logo-tagline\" alt=\"La enciclopedia libre\" src=\"/static/images/mobile/copyright/wikipedia-tagline-es.svg\" width=\"120\" height=\"13\" style=\"width: 7.5em; height: 0.8125em;\">\n",
            "\t</span>\n",
            "</a>\n",
            "\n",
            "\t\t</div>\n",
            "\t\t<div class=\"vector-header-end\">\n",
            "\t\t\t\n",
            "<div id=\"p-search\" role=\"search\" class=\"vector-search-box-vue  vector-search-box-collapses vector-search-box-show-thumbnail vector-search-box-auto-expand-width vector-search-box\">\n",
            "\t<a href=\"/wiki/Especial:Buscar\" class=\"cdx-button cdx-button--fake-button cdx-button--fake-button--enabled cdx-button--weight-quiet cdx-button--icon-only search-toggle\" id=\"\" title=\"Buscar en este wiki [f]\" accesskey=\"f\"><span class=\"vector-icon mw-ui-icon-search mw-ui-icon-wikimedia-search\"></span>\n",
            "\n",
            "<span>Buscar</span>\n",
            "\t</a>\n",
            "\t<div class=\"vector-typeahead-search-container\">\n",
            "\t\t<div class=\"cdx-typeahead-search cdx-typeahead-search--show-thumbnail cdx-typeahead-search--auto-expand-width\">\n",
            "\t\t\t<form action=\"/w/index.php\" id=\"searchform\" class=\"cdx-search-input cdx-search-input--has-end-button\">\n",
            "\t\t\t\t<div id=\"simpleSearch\" class=\"cdx-search-input__input-wrapper\"  data-search-loc=\"header-moved\">\n",
            "\t\t\t\t\t<div class=\"cdx-text-input cdx-text-input--has-start-icon\">\n",
            "\t\t\t\t\t\t<input\n",
            "\t\t\t\t\t\t\tclass=\"cdx-text-input__input\"\n",
            "\t\t\t\t\t\t\t type=\"search\" name=\"search\" placeholder=\"Buscar en Wikipedia\" aria-label=\"Buscar en Wikipedia\" autocapitalize=\"sentences\" title=\"Buscar en este wiki [f]\" accesskey=\"f\" id=\"searchInput\"\n",
            "\t\t\t\t\t\t\t>\n",
            "\t\t\t\t\t\t<span class=\"cdx-text-input__icon cdx-text-input__start-icon\"></span>\n",
            "\t\t\t\t\t</div>\n",
            "\t\t\t\t\t<input type=\"hidden\" name=\"title\" value=\"Especial:Buscar\">\n",
            "\t\t\t\t</div>\n",
            "\t\t\t\t<button class=\"cdx-button cdx-search-input__end-button\">Buscar</button>\n",
            "\t\t\t</form>\n",
            "\t\t</div>\n",
            "\t</div>\n",
            "</div>\n",
            "\n",
            "\t\t\t<nav class=\"vector-user-links vector-user-links-wide\" aria-label=\"Herramientas personales\" role=\"navigation\" >\n",
            "\t<div class=\"vector-user-links-main\">\n",
            "\t\n",
            "<div id=\"p-vector-user-menu-preferences\" class=\"vector-menu mw-portlet emptyPortlet\"  >\n",
            "\t<div class=\"vector-menu-content\">\n",
            "\t\t\n",
            "\t\t<ul class=\"vector-menu-content-list\">\n",
            "\t\t\t\n",
            "\t\t\t\n",
            "\t\t</ul>\n",
            "\t\t\n",
            "\t</div>\n",
            "</div>\n",
            "\n",
            "\t\n",
            "<div id=\"p-vector-user-menu-userpage\" class=\"vector-menu mw-portlet emptyPortlet\"  >\n",
            "\t<div class=\"vector-menu-content\">\n",
            "\t\t\n",
            "\t\t<ul class=\"vector-menu-content-list\">\n",
            "\t\t\t\n",
            "\t\t\t\n",
            "\t\t</ul>\n",
            "\t\t\n",
            "\t</div>\n",
            "</div>\n",
            "\n",
            "\t<nav class=\"vector-appearance-landmark\" aria-label=\"Apariencia\">\n",
            "\t\t\n",
            "<div id=\"vector-appearance-dropdown\" class=\"vector-dropdown \"  >\n",
            "\t<input type=\"checkbox\" id=\"vector-appearance-dropdown-checkbox\" role=\"button\" aria-haspopup=\"true\" data-event-name=\"ui.dropdown-vector-appearance-dropdown\" class=\"vector-dropdown-checkbox \"  aria-label=\"Apariencia\"  >\n",
            "\t<label id=\"vector-appearance-dropdown-label\" for=\"vector-appearance-dropdown-checkbox\" class=\"vector-dropdown-label cdx-button cdx-button--fake-button cdx-button--fake-button--enabled cdx-button--weight-quiet cdx-button--icon-only \" aria-hidden=\"true\"  ><span class=\"vector-icon mw-ui-icon-appearance mw-ui-icon-wikimedia-appearance\"></span>\n",
            "\n",
            "<span class=\"vector-dropdown-label-text\">Apariencia</span>\n",
            "\t</label>\n",
            "\t<div class=\"vector-dropdown-content\">\n",
            "\n",
            "\n",
            "\t\t\t<div id=\"vector-appearance-unpinned-container\" class=\"vector-unpinned-container\">\n",
            "\t\t\t\t\n",
            "\t\t\t</div>\n",
            "\t\t\n",
            "\t</div>\n",
            "</div>\n",
            "\n",
            "\t</nav>\n",
            "\t\n",
            "<div id=\"p-vector-user-menu-notifications\" class=\"vector-menu mw-portlet emptyPortlet\"  >\n",
            "\t<div class=\"vector-menu-content\">\n",
            "\t\t\n",
            "\t\t<ul class=\"vector-menu-content-list\">\n",
            "\t\t\t\n",
            "\t\t\t\n",
            "\t\t</ul>\n",
            "\t\t\n",
            "\t</div>\n",
            "</div>\n",
            "\n",
            "\t\n",
            "<div id=\"p-vector-user-menu-overflow\" class=\"vector-menu mw-portlet\"  >\n",
            "\t<div class=\"vector-menu-content\">\n",
            "\t\t\n",
            "\t\t<ul class=\"vector-menu-content-list\">\n",
            "\t\t\t<li id=\"pt-createaccount-2\" class=\"user-links-collapsible-item mw-list-item user-links-collapsible-item\"><a data-mw=\"interface\" href=\"/w/index.php?title=Especial:Crear_una_cuenta&amp;returnto=Wikipedia%3APortada\" title=\"Te recomendamos crear una cuenta e iniciar sesión; sin embargo, no es obligatorio\" class=\"\"><span>Crear una cuenta</span></a>\n",
            "</li>\n",
            "<li id=\"pt-login-2\" class=\"user-links-collapsible-item mw-list-item user-links-collapsible-item\"><a data-mw=\"interface\" href=\"/w/index.php?title=Especial:Entrar&amp;returnto=Wikipedia%3APortada\" title=\"Te recomendamos iniciar sesión, aunque no es obligatorio [o]\" accesskey=\"o\" class=\"\"><span>Acceder</span></a>\n",
            "</li>\n",
            "\n",
            "\t\t\t\n",
            "\t\t</ul>\n",
            "\t\t\n",
            "\t</div>\n",
            "</div>\n",
            "\n",
            "\t</div>\n",
            "\t\n",
            "<div id=\"vector-user-links-dropdown\" class=\"vector-dropdown vector-user-menu vector-button-flush-right vector-user-menu-logged-out\"  title=\"Más opciones\" >\n",
            "\t<input type=\"checkbox\" id=\"vector-user-links-dropdown-checkbox\" role=\"button\" aria-haspopup=\"true\" data-event-name=\"ui.dropdown-vector-user-links-dropdown\" class=\"vector-dropdown-checkbox \"  aria-label=\"Herramientas personales\"  >\n",
            "\t<label id=\"vector-user-links-dropdown-label\" for=\"vector-user-links-dropdown-checkbox\" class=\"vector-dropdown-label cdx-button cdx-button--fake-button cdx-button--fake-button--enabled cdx-button--weight-quiet cdx-button--icon-only \" aria-hidden=\"true\"  ><span class=\"vector-icon mw-ui-icon-ellipsis mw-ui-icon-wikimedia-ellipsis\"></span>\n",
            "\n",
            "<span class=\"vector-dropdown-label-text\">Herramientas personales</span>\n",
            "\t</label>\n",
            "\t<div class=\"vector-dropdown-content\">\n",
            "\n",
            "\n",
            "\t\t\n",
            "<div id=\"p-personal\" class=\"vector-menu mw-portlet mw-portlet-personal user-links-collapsible-item\"  title=\"Menú de usuario\" >\n",
            "\t<div class=\"vector-menu-content\">\n",
            "\t\t\n",
            "\t\t<ul class=\"vector-menu-content-list\">\n",
            "\t\t\t\n",
            "\t\t\t<li id=\"pt-createaccount\" class=\"user-links-collapsible-item mw-list-item\"><a href=\"/w/index.php?title=Especial:Crear_una_cuenta&amp;returnto=Wikipedia%3APortada\" title=\"Te recomendamos crear una cuenta e iniciar sesión; sin embargo, no es obligatorio\"><span class=\"vector-icon mw-ui-icon-userAdd mw-ui-icon-wikimedia-userAdd\"></span> <span>Crear una cuenta</span></a></li><li id=\"pt-login\" class=\"user-links-collapsible-item mw-list-item\"><a href=\"/w/index.php?title=Especial:Entrar&amp;returnto=Wikipedia%3APortada\" title=\"Te recomendamos iniciar sesión, aunque no es obligatorio [o]\" accesskey=\"o\"><span class=\"vector-icon mw-ui-icon-logIn mw-ui-icon-wikimedia-logIn\"></span> <span>Acceder</span></a></li>\n",
            "\t\t</ul>\n",
            "\t\t\n",
            "\t</div>\n",
            "</div>\n",
            "\n",
            "<div id=\"p-user-menu-anon-editor\" class=\"vector-menu mw-portlet mw-portlet-user-menu-anon-editor\"  >\n",
            "\t<div class=\"vector-menu-heading\">\n",
            "\t\tPáginas para editores desconectados <a href=\"/wiki/Ayuda:Introducci%C3%B3n\" aria-label=\"Obtenga más información sobre editar\"><span>más información</span></a>\n",
            "\t</div>\n",
            "\t<div class=\"vector-menu-content\">\n",
            "\t\t\n",
            "\t\t<ul class=\"vector-menu-content-list\">\n",
            "\t\t\t\n",
            "\t\t\t<li id=\"pt-anoncontribs\" class=\"mw-list-item\"><a href=\"/wiki/Especial:MisContribuciones\" title=\"Una lista de modificaciones hechas desde esta dirección IP [y]\" accesskey=\"y\"><span>Contribuciones</span></a></li><li id=\"pt-anontalk\" class=\"mw-list-item\"><a href=\"/wiki/Especial:MiDiscusi%C3%B3n\" title=\"Discusión sobre ediciones hechas desde esta dirección IP [n]\" accesskey=\"n\"><span>Discusión</span></a></li>\n",
            "\t\t</ul>\n",
            "\t\t\n",
            "\t</div>\n",
            "</div>\n",
            "\n",
            "\t\n",
            "\t</div>\n",
            "</div>\n",
            "\n",
            "</nav>\n",
            "\n",
            "\t\t</div>\n",
            "\t</header>\n",
            "</div>\n",
            "<div class=\"mw-page-container\">\n",
            "\t<div class=\"mw-page-container-inner\">\n",
            "\t\t<div class=\"vector-sitenotice-container\">\n",
            "\t\t\t<div id=\"siteNotice\" class=\"notheme\"><!-- CentralNotice --></div>\n",
            "\t\t</div>\n",
            "\t\t<div class=\"vector-column-start\">\n",
            "\t\t\t<div class=\"vector-main-menu-container\">\n",
            "\t\t<div id=\"mw-navigation\">\n",
            "\t\t\t<nav id=\"mw-panel\" class=\"vector-main-menu-landmark\" aria-label=\"Sitio\" role=\"navigation\">\n",
            "\t\t\t\t<div id=\"vector-main-menu-pinned-container\" class=\"vector-pinned-container\">\n",
            "\t\t\t\t\n",
            "\t\t\t\t</div>\n",
            "\t\t</nav>\n",
            "\t\t</div>\n",
            "\t</div>\n",
            "</div>\n",
            "\t\t<div class=\"mw-content-container\">\n",
            "\t\t\t<main id=\"content\" class=\"mw-body\" role=\"main\">\n",
            "\t\t\t\t<header class=\"mw-body-header vector-page-titlebar\">\n",
            "\t\t\t\t\t<h1 id=\"firstHeading\" class=\"firstHeading mw-first-heading\"><span class=\"mw-page-title-namespace\">Wikipedia</span><span class=\"mw-page-title-separator\">:</span><span class=\"mw-page-title-main\">Portada</span></h1>\n",
            "\t\t\t\t\t\t<div class=\"mw-indicators\">\n",
            "\t\t</div>\n",
            "</header>\n",
            "\t\t\t\t<div class=\"vector-page-toolbar\">\n",
            "\t\t\t\t\t<div class=\"vector-page-toolbar-container\">\n",
            "\t\t\t\t\t\t<div id=\"left-navigation\">\n",
            "\t\t\t\t\t\t\t<nav aria-label=\"Espacios de nombres\">\n",
            "\t\t\t\t\t\t\t\t\n",
            "<div id=\"p-associated-pages\" class=\"vector-menu vector-menu-tabs mw-portlet mw-portlet-associated-pages\"  >\n",
            "\t<div class=\"vector-menu-content\">\n",
            "\t\t\n",
            "\t\t<ul class=\"vector-menu-content-list\">\n",
            "\t\t\t\n",
            "\t\t\t<li id=\"ca-nstab-project\" class=\"selected vector-tab-noicon mw-list-item\"><a href=\"/wiki/Wikipedia:Portada\" title=\"Ver la página del proyecto [c]\" accesskey=\"c\"><span>Portada</span></a></li><li id=\"ca-talk\" class=\"vector-tab-noicon mw-list-item\"><a href=\"/wiki/Wikipedia_discusi%C3%B3n:Portada\" rel=\"discussion\" title=\"Discusión acerca de la página [t]\" accesskey=\"t\"><span>Discusión</span></a></li>\n",
            "\t\t</ul>\n",
            "\t\t\n",
            "\t</div>\n",
            "</div>\n",
            "\n",
            "\t\t\t\t\t\t\t\t\n",
            "<div id=\"p-variants\" class=\"vector-dropdown emptyPortlet\"  >\n",
            "\t<input type=\"checkbox\" id=\"p-variants-checkbox\" role=\"button\" aria-haspopup=\"true\" data-event-name=\"ui.dropdown-p-variants\" class=\"vector-dropdown-checkbox \" aria-label=\"Cambiar variante de idioma\"   >\n",
            "\t<label id=\"p-variants-label\" for=\"p-variants-checkbox\" class=\"vector-dropdown-label cdx-button cdx-button--fake-button cdx-button--fake-button--enabled cdx-button--weight-quiet\" aria-hidden=\"true\"  ><span class=\"vector-dropdown-label-text\">español</span>\n",
            "\t</label>\n",
            "\t<div class=\"vector-dropdown-content\">\n",
            "\n",
            "\n",
            "\t\t\t\t\t\n",
            "<div id=\"p-variants\" class=\"vector-menu mw-portlet mw-portlet-variants emptyPortlet\"  >\n",
            "\t<div class=\"vector-menu-content\">\n",
            "\t\t\n",
            "\t\t<ul class=\"vector-menu-content-list\">\n",
            "\t\t\t\n",
            "\t\t\t\n",
            "\t\t</ul>\n",
            "\t\t\n",
            "\t</div>\n",
            "</div>\n",
            "\n",
            "\t\t\t\t\n",
            "\t</div>\n",
            "</div>\n",
            "\n",
            "\t\t\t\t\t\t\t</nav>\n",
            "\t\t\t\t\t\t</div>\n",
            "\t\t\t\t\t\t<div id=\"right-navigation\" class=\"vector-collapsible\">\n",
            "\t\t\t\t\t\t\t<nav aria-label=\"Vistas\">\n",
            "\t\t\t\t\t\t\t\t\n",
            "<div id=\"p-views\" class=\"vector-menu vector-menu-tabs mw-portlet mw-portlet-views\"  >\n",
            "\t<div class=\"vector-menu-content\">\n",
            "\t\t\n",
            "\t\t<ul class=\"vector-menu-content-list\">\n",
            "\t\t\t\n",
            "\t\t\t<li id=\"ca-view\" class=\"selected vector-tab-noicon mw-list-item\"><a href=\"/wiki/Wikipedia:Portada\"><span>Leer</span></a></li><li id=\"ca-viewsource\" class=\"vector-tab-noicon mw-list-item\"><a href=\"/w/index.php?title=Wikipedia:Portada&amp;action=edit\" title=\"Esta página está protegida, pero puedes ver su código fuente [e]\" accesskey=\"e\"><span>Ver código fuente</span></a></li><li id=\"ca-history\" class=\"vector-tab-noicon mw-list-item\"><a href=\"/w/index.php?title=Wikipedia:Portada&amp;action=history\" title=\"Versiones anteriores de esta página [h]\" accesskey=\"h\"><span>Ver historial</span></a></li>\n",
            "\t\t</ul>\n",
            "\t\t\n",
            "\t</div>\n",
            "</div>\n",
            "\n",
            "\t\t\t\t\t\t\t</nav>\n",
            "\t\t\t\t\n",
            "\t\t\t\t\t\t\t<nav class=\"vector-page-tools-landmark\" aria-label=\"Página de herramientas\">\n",
            "\t\t\t\t\t\t\t\t\n",
            "<div id=\"vector-page-tools-dropdown\" class=\"vector-dropdown vector-page-tools-dropdown\"  >\n",
            "\t<input type=\"checkbox\" id=\"vector-page-tools-dropdown-checkbox\" role=\"button\" aria-haspopup=\"true\" data-event-name=\"ui.dropdown-vector-page-tools-dropdown\" class=\"vector-dropdown-checkbox \"  aria-label=\"Herramientas\"  >\n",
            "\t<label id=\"vector-page-tools-dropdown-label\" for=\"vector-page-tools-dropdown-checkbox\" class=\"vector-dropdown-label cdx-button cdx-button--fake-button cdx-button--fake-button--enabled cdx-button--weight-quiet\" aria-hidden=\"true\"  ><span class=\"vector-dropdown-label-text\">Herramientas</span>\n",
            "\t</label>\n",
            "\t<div class=\"vector-dropdown-content\">\n",
            "\n",
            "\n",
            "\t\t\t\t\t\t\t\t\t<div id=\"vector-page-tools-unpinned-container\" class=\"vector-unpinned-container\">\n",
            "\t\t\t\t\t\t\n",
            "<div id=\"vector-page-tools\" class=\"vector-page-tools vector-pinnable-element\">\n",
            "\t<div\n",
            "\tclass=\"vector-pinnable-header vector-page-tools-pinnable-header vector-pinnable-header-unpinned\"\n",
            "\tdata-feature-name=\"page-tools-pinned\"\n",
            "\tdata-pinnable-element-id=\"vector-page-tools\"\n",
            "\tdata-pinned-container-id=\"vector-page-tools-pinned-container\"\n",
            "\tdata-unpinned-container-id=\"vector-page-tools-unpinned-container\"\n",
            ">\n",
            "\t<div class=\"vector-pinnable-header-label\">Herramientas</div>\n",
            "\t<button class=\"vector-pinnable-header-toggle-button vector-pinnable-header-pin-button\" data-event-name=\"pinnable-header.vector-page-tools.pin\">mover a la barra lateral</button>\n",
            "\t<button class=\"vector-pinnable-header-toggle-button vector-pinnable-header-unpin-button\" data-event-name=\"pinnable-header.vector-page-tools.unpin\">ocultar</button>\n",
            "</div>\n",
            "\n",
            "\t\n",
            "<div id=\"p-cactions\" class=\"vector-menu mw-portlet mw-portlet-cactions emptyPortlet vector-has-collapsible-items\"  title=\"Más opciones\" >\n",
            "\t<div class=\"vector-menu-heading\">\n",
            "\t\tAcciones\n",
            "\t</div>\n",
            "\t<div class=\"vector-menu-content\">\n",
            "\t\t\n",
            "\t\t<ul class=\"vector-menu-content-list\">\n",
            "\t\t\t\n",
            "\t\t\t<li id=\"ca-more-view\" class=\"selected vector-more-collapsible-item mw-list-item\"><a href=\"/wiki/Wikipedia:Portada\"><span>Leer</span></a></li><li id=\"ca-more-viewsource\" class=\"vector-more-collapsible-item mw-list-item\"><a href=\"/w/index.php?title=Wikipedia:Portada&amp;action=edit\"><span>Ver código fuente</span></a></li><li id=\"ca-more-history\" class=\"vector-more-collapsible-item mw-list-item\"><a href=\"/w/index.php?title=Wikipedia:Portada&amp;action=history\"><span>Ver historial</span></a></li>\n",
            "\t\t</ul>\n",
            "\t\t\n",
            "\t</div>\n",
            "</div>\n",
            "\n",
            "<div id=\"p-tb\" class=\"vector-menu mw-portlet mw-portlet-tb\"  >\n",
            "\t<div class=\"vector-menu-heading\">\n",
            "\t\tGeneral\n",
            "\t</div>\n",
            "\t<div class=\"vector-menu-content\">\n",
            "\t\t\n",
            "\t\t<ul class=\"vector-menu-content-list\">\n",
            "\t\t\t\n",
            "\t\t\t<li id=\"t-whatlinkshere\" class=\"mw-list-item\"><a href=\"/wiki/Especial:LoQueEnlazaAqu%C3%AD/Wikipedia:Portada\" title=\"Lista de todas las páginas de la wiki que enlazan aquí [j]\" accesskey=\"j\"><span>Lo que enlaza aquí</span></a></li><li id=\"t-recentchangeslinked\" class=\"mw-list-item\"><a href=\"/wiki/Especial:CambiosEnEnlazadas/Wikipedia:Portada\" rel=\"nofollow\" title=\"Cambios recientes en las páginas que enlazan con esta [k]\" accesskey=\"k\"><span>Cambios en enlazadas</span></a></li><li id=\"t-upload\" class=\"mw-list-item\"><a href=\"//commons.wikimedia.org/wiki/Special:UploadWizard?uselang=es\" title=\"Subir archivos [u]\" accesskey=\"u\"><span>Subir archivo</span></a></li><li id=\"t-specialpages\" class=\"mw-list-item\"><a href=\"/wiki/Especial:P%C3%A1ginasEspeciales\" title=\"Lista de todas las páginas especiales [q]\" accesskey=\"q\"><span>Páginas especiales</span></a></li><li id=\"t-permalink\" class=\"mw-list-item\"><a href=\"/w/index.php?title=Wikipedia:Portada&amp;oldid=149134229\" title=\"Enlace permanente a esta versión de la página\"><span>Enlace permanente</span></a></li><li id=\"t-info\" class=\"mw-list-item\"><a href=\"/w/index.php?title=Wikipedia:Portada&amp;action=info\" title=\"Más información sobre esta página\"><span>Información de la página</span></a></li><li id=\"t-urlshortener\" class=\"mw-list-item\"><a href=\"/w/index.php?title=Especial:Acortador_de_URL&amp;url=https%3A%2F%2Fes.wikipedia.org%2Fwiki%2FWikipedia%3APortada\"><span>Obtener URL acortado</span></a></li><li id=\"t-urlshortener-qrcode\" class=\"mw-list-item\"><a href=\"/w/index.php?title=Especial:QrCode&amp;url=https%3A%2F%2Fes.wikipedia.org%2Fwiki%2FWikipedia%3APortada\"><span>Descargar código QR</span></a></li><li id=\"t-wikibase\" class=\"mw-list-item\"><a href=\"https://www.wikidata.org/wiki/Special:EntityPage/Q5296\" title=\"Enlace al elemento conectado del repositorio de datos [g]\" accesskey=\"g\"><span>Elemento de Wikidata</span></a></li>\n",
            "\t\t</ul>\n",
            "\t\t\n",
            "\t</div>\n",
            "</div>\n",
            "\n",
            "<div id=\"p-coll-print_export\" class=\"vector-menu mw-portlet mw-portlet-coll-print_export\"  >\n",
            "\t<div class=\"vector-menu-heading\">\n",
            "\t\tImprimir/exportar\n",
            "\t</div>\n",
            "\t<div class=\"vector-menu-content\">\n",
            "\t\t\n",
            "\t\t<ul class=\"vector-menu-content-list\">\n",
            "\t\t\t\n",
            "\t\t\t<li id=\"coll-create_a_book\" class=\"mw-list-item\"><a href=\"/w/index.php?title=Especial:Libro&amp;bookcmd=book_creator&amp;referer=Wikipedia%3APortada\"><span>Crear un libro</span></a></li><li id=\"coll-download-as-rl\" class=\"mw-list-item\"><a href=\"/w/index.php?title=Especial:DownloadAsPdf&amp;page=Wikipedia%3APortada&amp;action=show-download-screen\"><span>Descargar como PDF</span></a></li><li id=\"t-print\" class=\"mw-list-item\"><a href=\"/w/index.php?title=Wikipedia:Portada&amp;printable=yes\" title=\"Versión imprimible de esta página [p]\" accesskey=\"p\"><span>Versión para imprimir</span></a></li>\n",
            "\t\t</ul>\n",
            "\t\t\n",
            "\t</div>\n",
            "</div>\n",
            "\n",
            "<div id=\"p-wikibase-otherprojects\" class=\"vector-menu mw-portlet mw-portlet-wikibase-otherprojects\"  >\n",
            "\t<div class=\"vector-menu-heading\">\n",
            "\t\tEn otros proyectos\n",
            "\t</div>\n",
            "\t<div class=\"vector-menu-content\">\n",
            "\t\t\n",
            "\t\t<ul class=\"vector-menu-content-list\">\n",
            "\t\t\t\n",
            "\t\t\t<li class=\"wb-otherproject-link wb-otherproject-commons mw-list-item\"><a href=\"https://commons.wikimedia.org/wiki/Main_Page\" hreflang=\"en\"><span>Wikimedia Commons</span></a></li><li class=\"wb-otherproject-link wb-otherproject-foundation mw-list-item\"><a href=\"https://foundation.wikimedia.org/wiki/Home\" hreflang=\"en\"><span>Fundación Wikimedia</span></a></li><li class=\"wb-otherproject-link wb-otherproject-mediawiki mw-list-item\"><a href=\"https://www.mediawiki.org/wiki/MediaWiki\" hreflang=\"en\"><span>MediaWiki</span></a></li><li class=\"wb-otherproject-link wb-otherproject-meta mw-list-item\"><a href=\"https://meta.wikimedia.org/wiki/Main_Page\" hreflang=\"en\"><span>Meta-Wiki</span></a></li><li class=\"wb-otherproject-link wb-otherproject-outreach mw-list-item\"><a href=\"https://outreach.wikimedia.org/wiki/Main_Page\" hreflang=\"en\"><span>Divulgación de Wikimedia</span></a></li><li class=\"wb-otherproject-link wb-otherproject-sources mw-list-item\"><a href=\"https://wikisource.org/wiki/Main_Page\" hreflang=\"en\"><span>Wikisource multilingüe</span></a></li><li class=\"wb-otherproject-link wb-otherproject-species mw-list-item\"><a href=\"https://species.wikimedia.org/wiki/Main_Page\" hreflang=\"en\"><span>Wikiespecies</span></a></li><li class=\"wb-otherproject-link wb-otherproject-wikibooks mw-list-item\"><a href=\"https://es.wikibooks.org/wiki/Portada\" hreflang=\"es\"><span>Wikilibros</span></a></li><li class=\"wb-otherproject-link wb-otherproject-wikidata mw-list-item\"><a href=\"https://www.wikidata.org/wiki/Wikidata:Main_Page\" hreflang=\"en\"><span>Wikidata</span></a></li><li class=\"wb-otherproject-link wb-otherproject-wikifunctions mw-list-item\"><a href=\"https://www.wikifunctions.org/wiki/Wikifunctions:Main_Page\" hreflang=\"en\"><span>Wikifunciones</span></a></li><li class=\"wb-otherproject-link wb-otherproject-wikimania badge-Q70894304 mw-list-item\" title=\"\"><a href=\"https://wikimania.wikimedia.org/wiki/Wikimania\" hreflang=\"en\"><span>Wikimanía</span></a></li><li class=\"wb-otherproject-link wb-otherproject-wikinews mw-list-item\"><a href=\"https://es.wikinews.org/wiki/Portada\" hreflang=\"es\"><span>Wikinoticias</span></a></li><li class=\"wb-otherproject-link wb-otherproject-wikiquote mw-list-item\"><a href=\"https://es.wikiquote.org/wiki/Portada\" hreflang=\"es\"><span>Wikiquote</span></a></li><li class=\"wb-otherproject-link wb-otherproject-wikisource mw-list-item\"><a href=\"https://es.wikisource.org/wiki/Portada\" hreflang=\"es\"><span>Wikisource</span></a></li><li class=\"wb-otherproject-link wb-otherproject-wikiversity mw-list-item\"><a href=\"https://es.wikiversity.org/wiki/Portada\" hreflang=\"es\"><span>Wikiversidad</span></a></li><li class=\"wb-otherproject-link wb-otherproject-wikivoyage mw-list-item\"><a href=\"https://es.wikivoyage.org/wiki/P%C3%A1gina_principal\" hreflang=\"es\"><span>Wikiviajes</span></a></li><li class=\"wb-otherproject-link wb-otherproject-wiktionary mw-list-item\"><a href=\"https://es.wiktionary.org/wiki/Wikcionario:Portada\" hreflang=\"es\"><span>Wikcionario</span></a></li>\n",
            "\t\t</ul>\n",
            "\t\t\n",
            "\t</div>\n",
            "</div>\n",
            "\n",
            "</div>\n",
            "\n",
            "\t\t\t\t\t\t\t\t\t</div>\n",
            "\t\t\t\t\n",
            "\t</div>\n",
            "</div>\n",
            "\n",
            "\t\t\t\t\t\t\t</nav>\n",
            "\t\t\t\t\t\t</div>\n",
            "\t\t\t\t\t</div>\n",
            "\t\t\t\t</div>\n",
            "\t\t\t\t<div class=\"vector-column-end\">\n",
            "\t\t\t\t\t<div class=\"vector-sticky-pinned-container\">\n",
            "\t\t\t\t\t\t<nav class=\"vector-page-tools-landmark\" aria-label=\"Página de herramientas\">\n",
            "\t\t\t\t\t\t\t<div id=\"vector-page-tools-pinned-container\" class=\"vector-pinned-container\">\n",
            "\t\t\t\t\n",
            "\t\t\t\t\t\t\t</div>\n",
            "\t\t</nav>\n",
            "\t\t\t\t\t\t<nav class=\"vector-appearance-landmark\" aria-label=\"Apariencia\">\n",
            "\t\t\t\t\t\t\t<div id=\"vector-appearance-pinned-container\" class=\"vector-pinned-container\">\n",
            "\t\t\t\t<div id=\"vector-appearance\" class=\"vector-appearance vector-pinnable-element\">\n",
            "\t<div\n",
            "\tclass=\"vector-pinnable-header vector-appearance-pinnable-header vector-pinnable-header-pinned\"\n",
            "\tdata-feature-name=\"appearance-pinned\"\n",
            "\tdata-pinnable-element-id=\"vector-appearance\"\n",
            "\tdata-pinned-container-id=\"vector-appearance-pinned-container\"\n",
            "\tdata-unpinned-container-id=\"vector-appearance-unpinned-container\"\n",
            ">\n",
            "\t<div class=\"vector-pinnable-header-label\">Apariencia</div>\n",
            "\t<button class=\"vector-pinnable-header-toggle-button vector-pinnable-header-pin-button\" data-event-name=\"pinnable-header.vector-appearance.pin\">mover a la barra lateral</button>\n",
            "\t<button class=\"vector-pinnable-header-toggle-button vector-pinnable-header-unpin-button\" data-event-name=\"pinnable-header.vector-appearance.unpin\">ocultar</button>\n",
            "</div>\n",
            "\n",
            "\n",
            "</div>\n",
            "\n",
            "\t\t\t\t\t\t\t</div>\n",
            "\t\t</nav>\n",
            "\t\t\t\t\t</div>\n",
            "\t\t\t\t</div>\n",
            "\t\t\t\t<div id=\"bodyContent\" class=\"vector-body\" aria-labelledby=\"firstHeading\" data-mw-ve-target-container>\n",
            "\t\t\t\t\t<div class=\"vector-body-before-content\">\n",
            "\t\t\t\t\t\n",
            "\t\t\t\t\t\t<div id=\"siteSub\" class=\"noprint\">De Wikipedia, la enciclopedia libre</div>\n",
            "\t\t\t\t\t</div>\n",
            "\t\t\t\t\t<div id=\"contentSub\"><div id=\"mw-content-subtitle\"></div></div>\n",
            "\t\t\t\t\t\n",
            "\t\t\t\t\t\n",
            "\t\t\t\t\t<div id=\"mw-content-text\" class=\"mw-body-content\"><div class=\"mw-content-ltr mw-parser-output\" lang=\"es\" dir=\"ltr\"><style data-mw-deduplicate=\"TemplateStyles:r144107000\">.mw-parser-output .main-header{border-bottom-color:transparent;margin-bottom:0.25em;margin-top:0;padding-bottom:0;padding-top:0}.mw-parser-output .main-plainlist>ul{list-style:none;margin:0;padding:0}.mw-parser-output .main-plainlist li{margin-bottom:0}.mw-parser-output .main-top-right .mw-ui-quiet:hover,.mw-parser-output .main-top-right .mw-ui-quiet:focus,.mw-parser-output .main-footer .mw-ui-quiet:hover,.mw-parser-output .main-footer .mw-ui-quiet:focus{color:#0645ad}.mw-parser-output .mw-headline-number{display:none}@media(min-width:720px){.mw-parser-output .main-wikimedia{padding-top:1rem;padding-left:1rem;padding-right:1rem}}@media(min-width:1000px){.mw-parser-output .main-wrapper{display:flex;margin:0 -0.5rem}.mw-parser-output .main-wrapper-column{flex:1;margin:0 0.5rem}.mw-parser-output .main-wikimedia{padding-top:1rem;padding-left:1rem;padding-right:1rem}}@media(min-width:1000px){.mw-parser-output .main-wrapper-column{width:55%}.mw-parser-output .main-wrapper-column+.main-wrapper-column{width:45%}.mw-parser-output .main-wrapper-column{flex:inherit}}.mw-parser-output .main-box-image-only div{width:auto!important}body.skin-timeless .mw-parser-output .main-box-header:after,body.skin-timeless .mw-parser-output .main-top-header:after{border-bottom:0 solid transparent}</style>\n",
            "<style data-mw-deduplicate=\"TemplateStyles:r144107009\">.mw-parser-output .main-top{font-size:1rem;margin-top:1rem;padding-bottom:1.5rem}.mw-parser-output .main-top-left>p{font-size:0.875em;margin:0}.mw-parser-output .main-top-right{font-size:0.875em;margin-top:0.5em}.mw-parser-output .main-top-right>ul{display:none;margin-top:0.5rem}.mw-parser-output .main-top-right .mw-ui-button.mw-ui-quiet{padding-right:0}.mw-parser-output .main-top-header{border-bottom:0;margin-bottom:0;margin-top:0}.mw-parser-output .main-top-articleCount{margin-bottom:0}body.skin-minerva .mw-parser-output .main-top-articleCount{display:none}.mw-parser-output .main-top-mobileSearch{display:none;margin-top:1rem}body.skin-minerva .mw-parser-output .main-top-mobileSearch{display:block}.mw-parser-output .main-top-mobileSearchButton{background:#fff;border:none;box-shadow:0 2px 2px 0 rgba(0,0,0,0.25);color:#72777d;font-weight:normal;max-width:none;text-align:left;width:100%}@media(min-width:720px){.mw-parser-output .main-top{background-color:#f8f9fa;border:1px solid #c8ccd1;border-radius:2px;box-shadow:0 1px 1px rgba(0,0,0,.15);margin-bottom:1rem;padding:1rem}.mw-parser-output .main-top-right>ul{display:flex;flex-wrap:wrap}.mw-parser-output .main-top-articleCount{margin-bottom:0.5rem}body.skin-minerva .mw-parser-output .main-top-articleCount{display:block}body.skin-minerva .mw-parser-output .main-top-mobileSearch{display:none}}@media(min-width:1000px){.mw-parser-output .main-top{align-items:center;background-image:url(\"https://upload.wikimedia.org/wikipedia/commons/e/e3/Wikipedia_logo_letters_banner.svg\");background-position:right;background-repeat:no-repeat;display:flex;margin-bottom:1rem;margin-top:0.5rem;padding:0 1.5rem 0 0}.mw-parser-output .main-top-left{background-image:linear-gradient(to right,#f8f9fa 0%,#f8f9fa 70%,rgba(248,249,250,0)100%);flex:2;padding:2rem 0 2rem 1.5rem}.mw-parser-output .main-top-right{flex:3;margin-top:0;text-align:right}.mw-parser-output .main-top-right>ul{align-items:center;flex-direction:row-reverse;margin-top:0;text-align:left}.mw-parser-output .main-top-createArticle+li .mw-ui-button.mw-ui-quiet{padding-right:1em}}body.skin-modern .mw-parser-output .main-top-header{line-height:1.8rem;font-size:1.8rem}</style>\n",
            "<div class=\"main-top\">\n",
            "<div class=\"main-top-left\">\n",
            "<h1 class=\"main-top-header\" data-mw-thread-id=\"h-Bienvenidos_a_Wikipedia,\"><span id=\"Bienvenidos_a_Wikipedia.2C\"></span><span class=\"mw-headline\" id=\"Bienvenidos_a_Wikipedia,\"><span data-mw-comment-start=\"\" id=\"h-Bienvenidos_a_Wikipedia,\"></span><a href=\"/wiki/Wikipedia:Bienvenidos\" title=\"Wikipedia:Bienvenidos\">Bienvenidos</a> a Wikipedia,<span data-mw-comment-end=\"h-Bienvenidos_a_Wikipedia,\"></span></span></h1>\n",
            "<p>la enciclopedia de contenido libre<br/>que <a href=\"/wiki/Ayuda:Introducci%C3%B3n\" title=\"Ayuda:Introducción\">todos pueden editar</a>.\n",
            "</p>\n",
            "<div class=\"main-top-mobileSearch\"><a href=\"/wiki/Especial:Buscar\" title=\"Especial:Buscar\"><span class=\"mw-ui-button main-top-mobileSearchButton skin-minerva-search-trigger\">Buscar en 1 955 312 artículos</span></a></div>\n",
            "</div>\n",
            "<div class=\"main-top-right main-plainlist\">\n",
            "<p class=\"main-top-articleCount\"><b><a href=\"/wiki/Especial:Estad%C3%ADsticas\" title=\"Especial:Estadísticas\">1 955 312</a></b> artículos <a href=\"/wiki/Wikipedia_en_espa%C3%B1ol\" title=\"Wikipedia en español\">en español</a>.</p>\n",
            "<ul>\n",
            "<li><a href=\"/wiki/Wikipedia:Caf%C3%A9\" title=\"Wikipedia:Café\"><span class=\"mw-ui-button mw-ui-quiet\">Café</span></a></li>\n",
            "<li><a href=\"/wiki/Ayuda:C%C3%B3mo_puedes_colaborar\" title=\"Ayuda:Cómo puedes colaborar\"><span class=\"mw-ui-button mw-ui-quiet\">¿Cómo colaborar?</span></a></li>\n",
            "<li><a href=\"/wiki/Ayuda:Introducci%C3%B3n\" title=\"Ayuda:Introducción\"><span class=\"mw-ui-button mw-ui-quiet\">Primeros pasos</span></a></li>\n",
            "<li><a href=\"/wiki/Ayuda:Contenidos\" title=\"Ayuda:Contenidos\"><span class=\"mw-ui-button mw-ui-quiet\">Ayuda</span></a></li>\n",
            "<li><a href=\"/wiki/Wikipedia:Contacto\" title=\"Wikipedia:Contacto\"><span class=\"mw-ui-button mw-ui-quiet\">Contacto</span></a></li>\n",
            "</ul>\n",
            "</div>\n",
            "</div>\n",
            "<div class=\"main-wrapper\">\n",
            "<div class=\"main-wrapper-column\">\n",
            "<style data-mw-deduplicate=\"TemplateStyles:r144107018\">.mw-parser-output .main-box{background:#fff;border:solid #c8ccd1;border-width:1px 0;box-shadow:0 1px 1px rgba(0,0,0,0.15);margin:0 -1rem 1rem;padding:1rem}.mw-parser-output .main-box>p:last-child{margin-bottom:0}.mw-parser-output .main-box-image-only>.main-box-content{margin:0.5rem -1rem 0;text-align:center}.mw-parser-output .main-box-image-only>.main-box-content img{height:auto;max-width:100%}.mw-parser-output .main-box-imageCaption{text-align:center}.mw-parser-output .main-box-imageCaption>p{display:inline-block;margin-bottom:0;text-align:left}.mw-parser-output .main-box-section{color:#72777d;line-height:1.25;margin-top:-.125em}.mw-parser-output .main-box-header{margin-top:-.15em}.mw-parser-output .main-box-header a{color:inherit}.mw-parser-output .main-box-section+.main-box-header{margin-top:0}.mw-parser-output .main-box-header a:focus,.mw-parser-output .main-box:hover .main-box-header a,.mw-parser-output .main-box:hover .main-featuredLists-item>a{color:#0645ad}.mw-parser-output .main-footer{display:flex;justify-content:flex-end;margin-top:1rem;position:relative}.mw-parser-output .main-footer:empty{display:none}.mw-parser-output .main-footer-actions{flex:1}.mw-parser-output .main-footer-actions>ul{align-items:center;display:flex}.mw-parser-output .main-footer-menu{align-items:stretch;display:flex}.mw-parser-output .main-footer-menuToggle{align-items:center;display:flex;float:none;height:100%;opacity:0.87}.mw-parser-output .main-footer-menuToggle:hover{opacity:0.51}.mw-parser-output .main-footer-menuDropdown{background:#fff;border:1px solid #a2a9b1;border-radius:2px;box-shadow:0 2px 2px 0 rgba(0,0,0,0.25);max-width:15em;position:absolute;right:0;top:100%;z-index:100}.mw-parser-output .main-footer-menuDropdown .mw-ui-button{text-align:left;width:100%}@media(max-width:719px){.mw-parser-output .main-box-responsive-image>.floatleft,.mw-parser-output .main-box-responsive-image>.floatright{float:none;margin-left:-1rem;margin-right:-1rem;text-align:center}.mw-parser-output .main-box-responsive-image>.floatleft>a,.mw-parser-output .main-box-responsive-image>.floatright>a{display:block}}@media(min-width:720px){.mw-parser-output .main-box{border-radius:2px;border-width:1px;margin-bottom:1rem;margin-left:0;margin-right:0}}@media(min-width:1000px){.mw-parser-output .main-box{margin-bottom:1rem;padding:1rem}.mw-parser-output .main-box-image-only>.main-box-content{margin-left:-1rem;margin-right:-1rem}}</style>\n",
            "<div id=\"main-tfa\" class=\"main-box main-box-responsive-image\"><div id=\"Artículo_destacado\" class=\"main-box-section\">Artículo destacado</div><h2 class=\"main-header main-box-header\" data-mw-thread-id=\"h-A_Thousand_Suns-Bienvenidos_a_Wikipedia,\"><span class=\"mw-headline\" id=\"A_Thousand_Suns\"><span data-mw-comment-start=\"\" id=\"h-A_Thousand_Suns-Bienvenidos_a_Wikipedia,\"></span><a href=\"/wiki/A_Thousand_Suns\" title=\"A Thousand Suns\">A Thousand Suns</a><span data-mw-comment-end=\"h-A_Thousand_Suns-Bienvenidos_a_Wikipedia,\"></span></span></h2>\n",
            "<figure class=\"mw-halign-right\" typeof=\"mw:File/Thumb\"><a href=\"/wiki/Archivo:Ivy_Mike_001.jpg\" class=\"mw-file-description\"><img src=\"//upload.wikimedia.org/wikipedia/commons/thumb/3/35/Ivy_Mike_001.jpg/200px-Ivy_Mike_001.jpg\" decoding=\"async\" width=\"200\" height=\"159\" class=\"mw-file-element\" srcset=\"//upload.wikimedia.org/wikipedia/commons/thumb/3/35/Ivy_Mike_001.jpg/300px-Ivy_Mike_001.jpg 1.5x, //upload.wikimedia.org/wikipedia/commons/thumb/3/35/Ivy_Mike_001.jpg/400px-Ivy_Mike_001.jpg 2x\" data-file-width=\"800\" data-file-height=\"637\"/></a><figcaption>El álbum trata principalmente sobre el miedo a una guerra nuclear y su título hace referencia a las palabras pronunciadas por Oppenheimer tras la creación de la <a href=\"/wiki/Bomba_at%C3%B3mica\" title=\"Bomba atómica\">bomba atómica</a>.</figcaption></figure>\n",
            "<p><i><b>A Thousand Suns</b></i> es el cuarto <a href=\"/wiki/%C3%81lbum_de_estudio\" title=\"Álbum de estudio\">álbum de estudio</a> de la banda <a href=\"/wiki/Estados_Unidos\" title=\"Estados Unidos\">estadounidense</a> <a href=\"/wiki/Linkin_Park\" title=\"Linkin Park\">Linkin Park</a>, lanzado el 14 de septiembre de 2010 bajo el <a href=\"/wiki/Discogr%C3%A1fica\" class=\"mw-redirect\" title=\"Discográfica\">sello discográfico</a> de <a href=\"/wiki/Warner_Bros._Records\" class=\"mw-redirect\" title=\"Warner Bros. Records\">Warner Bros. Records</a>. La composición del álbum fue llevada a cabo por la banda, mientras que su producción estuvo a cargo del vocalista <a href=\"/wiki/Mike_Shinoda\" title=\"Mike Shinoda\">Mike Shinoda</a> y de <a href=\"/wiki/Rick_Rubin\" title=\"Rick Rubin\">Rick Rubin</a>, con quien el grupo había trabajado en su álbum de estudio anterior, <i><a href=\"/wiki/Minutes_to_Midnight\" title=\"Minutes to Midnight\">Minutes to Midnight</a></i> (2007). Las sesiones de grabación tuvieron lugar en los NRG Recording Studios en North Hollywood (<a href=\"/wiki/Los_%C3%81ngeles\" title=\"Los Ángeles\">Los Ángeles</a>, <a href=\"/wiki/California\" title=\"California\">California</a>) desde 2008 hasta principios de 2010.\n",
            "</p><p><i>A Thousand Suns</i> es un <a href=\"/wiki/%C3%81lbum_conceptual\" title=\"Álbum conceptual\">álbum conceptual</a> que trata principalmente sobre el miedo a una <a href=\"/wiki/Guerra_nuclear\" title=\"Guerra nuclear\">guerra nuclear</a>. La banda reconoció que, debido a la experimentación con sonidos nuevos y distintos, fue un cambio radical con respecto a sus trabajos anteriores. Shinoda afirmó en una entrevista de <a href=\"/wiki/MTV\" title=\"MTV\">MTV</a> que en su obra hacen referencia a numerosos problemas sociales como la «mezcla de ideas humanas con la tecnología» y los «temores [del hombre], el miedo de lo que va a ocurrir en el mundo». El título del álbum proviene de una cita del texto sagrado <a href=\"/wiki/Hinduismo\" title=\"Hinduismo\">hinduista</a> <i><a href=\"/wiki/Bhagavad_G%C4%ABt%C4%81\" class=\"mw-redirect\" title=\"Bhagavad Gītā\">Bhagavad Gītā</a></i>, recordada por <a href=\"/wiki/Robert_Oppenheimer\" title=\"Robert Oppenheimer\">Robert Oppenheimer</a> tras la creación de la <a href=\"/wiki/Bomba_at%C3%B3mica\" title=\"Bomba atómica\">bomba atómica</a>: «Si cientos de miles de soles aparecieran en el cielo al mismo tiempo, su brillo podría semejarse al de la refulgencia de la Persona Suprema en esa forma universal».\n",
            "</p>\n",
            "<div style=\"clear: both;\"></div>\n",
            "<div class=\"main-footer\"><div class=\"main-footer-actions main-plainlist nomobile\">\n",
            "<ul><li><a href=\"/wiki/A_Thousand_Suns\" title=\"A Thousand Suns\"><span class=\"mw-ui-button\"> Leer </span></a></li>\n",
            "<li><span class=\"nomobile\"><a href=\"/wiki/Wikipedia:Art%C3%ADculos_destacados/%C3%8Dndice\" title=\"Wikipedia:Artículos destacados/Índice\"><span class=\"mw-ui-button mw-ui-quiet\"> Todos los artículos destacados </span></a></span></li></ul>\n",
            "</div><div id=\"mw-customcollapsible-tfa\" class=\"main-footer-menu mw-collapsible mw-collapsed nomobile\">\n",
            "<div class=\"main-footer-menuToggle mw-collapsible-toggle mw-customtoggle-main-tfa\"><span typeof=\"mw:File\"><span title=\"Acciones adicionales\"><img alt=\"Acciones adicionales\" src=\"//upload.wikimedia.org/wikipedia/commons/thumb/b/b3/OOjs_UI_icon_ellipsis.svg/20px-OOjs_UI_icon_ellipsis.svg.png\" decoding=\"async\" width=\"20\" height=\"20\" class=\"mw-file-element\" srcset=\"//upload.wikimedia.org/wikipedia/commons/thumb/b/b3/OOjs_UI_icon_ellipsis.svg/30px-OOjs_UI_icon_ellipsis.svg.png 1.5x, //upload.wikimedia.org/wikipedia/commons/thumb/b/b3/OOjs_UI_icon_ellipsis.svg/40px-OOjs_UI_icon_ellipsis.svg.png 2x\" data-file-width=\"20\" data-file-height=\"20\"/></span></span></div>\n",
            "<div class=\"main-footer-menuDropdown mw-collapsible-content main-plainlist\">\n",
            "<ul><li><a href=\"/wiki/Wikipedia:Candidatos_a_art%C3%ADculos_destacados\" title=\"Wikipedia:Candidatos a artículos destacados\"><span class=\"mw-ui-button mw-ui-quiet\"> Candidatos </span></a></li></ul>\n",
            "<dl><dd><i>Anteriores:</i></dd></dl>\n",
            "<ul><li><a href=\"/wiki/Jesse_L._Brown\" title=\"Jesse L. Brown\"><span class=\"mw-ui-button mw-ui-quiet\"> Jesse L. Brown </span></a></li>\n",
            "<li><a href=\"/wiki/Donald_Dewar\" title=\"Donald Dewar\"><span class=\"mw-ui-button mw-ui-quiet\"> Donald Dewar </span></a></li>\n",
            "<li><a href=\"/wiki/Felipe_I_de_Tarento\" title=\"Felipe I de Tarento\"><span class=\"mw-ui-button mw-ui-quiet\"> Felipe I de Tarento </span></a></li></ul>\n",
            "</div></div></div>\n",
            "</div>\n",
            "<link rel=\"mw-deduplicated-inline-style\" href=\"mw-data:TemplateStyles:r144107018\">\n",
            "<div id=\"main-tga\" class=\"main-box main-box-responsive-image\"><div id=\"Artículo_bueno\" class=\"main-box-section\">Artículo bueno</div><h2 class=\"main-header main-box-header\" data-mw-thread-id=\"h-Racismo_en_Quebec-Bienvenidos_a_Wikipedia,\"><span class=\"mw-headline\" id=\"Racismo_en_Quebec\"><span data-mw-comment-start=\"\" id=\"h-Racismo_en_Quebec-Bienvenidos_a_Wikipedia,\"></span><a href=\"/wiki/Racismo_en_Quebec\" title=\"Racismo en Quebec\">Racismo en Quebec</a><span data-mw-comment-end=\"h-Racismo_en_Quebec-Bienvenidos_a_Wikipedia,\"></span></span></h2>\n",
            "<p>El <b>racismo en Quebec</b> se refiere a las actitudes, juicios y acciones discriminatorias basadas en la <a href=\"/wiki/Raza\" title=\"Raza\">raza</a>, <a href=\"/wiki/Etnia\" title=\"Etnia\">etnia</a> o <a href=\"/wiki/Nacionalidad\" title=\"Nacionalidad\">nacionalidad</a> que han ocurrido y continúan manifestándose en la <a href=\"/wiki/Quebec\" title=\"Quebec\">provincia de Quebec</a>, Canadá. A lo largo de la historia, la interacción entre las comunidades angloparlantes, francoparlantes y los pueblos indígenas, así como la inmigración de diferentes grupos étnicos, ha llevado a la formación de tensiones y conflictos raciales en diferentes momentos.\n",
            "</p><p>En Quebec, el racismo se ha identificado como un problema social que ha generado diversas interpretaciones sobre su naturaleza y alcance.\n",
            "</p>\n",
            "<div style=\"clear: both;\"></div>\n",
            "<div class=\"main-footer\"><div class=\"main-footer-actions main-plainlist nomobile\">\n",
            "<ul><li><a href=\"/wiki/Racismo_en_Quebec\" title=\"Racismo en Quebec\"><span class=\"mw-ui-button\"> Leer </span></a></li>\n",
            "<li><span class=\"nomobile\"><a href=\"/wiki/Wikipedia:Art%C3%ADculos_buenos/%C3%8Dndice\" title=\"Wikipedia:Artículos buenos/Índice\"><span class=\"mw-ui-button mw-ui-quiet\"> Todos los artículos buenos </span></a></span></li></ul>\n",
            "</div><div id=\"mw-customcollapsible-tga\" class=\"main-footer-menu mw-collapsible mw-collapsed nomobile\">\n",
            "<div class=\"main-footer-menuToggle mw-collapsible-toggle mw-customtoggle-main-tga\"><span typeof=\"mw:File\"><span title=\"Acciones adicionales\"><img alt=\"Acciones adicionales\" src=\"//upload.wikimedia.org/wikipedia/commons/thumb/b/b3/OOjs_UI_icon_ellipsis.svg/20px-OOjs_UI_icon_ellipsis.svg.png\" decoding=\"async\" width=\"20\" height=\"20\" class=\"mw-file-element\" srcset=\"//upload.wikimedia.org/wikipedia/commons/thumb/b/b3/OOjs_UI_icon_ellipsis.svg/30px-OOjs_UI_icon_ellipsis.svg.png 1.5x, //upload.wikimedia.org/wikipedia/commons/thumb/b/b3/OOjs_UI_icon_ellipsis.svg/40px-OOjs_UI_icon_ellipsis.svg.png 2x\" data-file-width=\"20\" data-file-height=\"20\"/></span></span></div>\n",
            "<div class=\"main-footer-menuDropdown mw-collapsible-content main-plainlist\">\n",
            "<ul><li><a href=\"/wiki/Wikipedia:Selecci%C3%B3n_de_art%C3%ADculos_buenos/nominaciones\" title=\"Wikipedia:Selección de artículos buenos/nominaciones\"><span class=\"mw-ui-button mw-ui-quiet\"> Candidatos </span></a></li></ul>\n",
            "<dl><dd><i>Anteriores:</i></dd></dl>\n",
            "<ul><li><a href=\"/wiki/Masacre_de_Tarapoto\" title=\"Masacre de Tarapoto\"><span class=\"mw-ui-button mw-ui-quiet\"> Masacre de Tarapoto </span></a></li>\n",
            "<li><a href=\"/wiki/Tillia_Tepe\" title=\"Tillia Tepe\"><span class=\"mw-ui-button mw-ui-quiet\"> Tillia Tepe </span></a></li>\n",
            "<li><a href=\"/wiki/Redada_del_bar_Abanicos\" title=\"Redada del bar Abanicos\"><span class=\"mw-ui-button mw-ui-quiet\"> Redada del bar Abanicos </span></a></li></ul>\n",
            "</div></div></div>\n",
            "</div>\n",
            "<link rel=\"mw-deduplicated-inline-style\" href=\"mw-data:TemplateStyles:r144107018\">\n",
            "<div id=\"main-potd\" class=\"main-box main-box-image-only\"><h2 class=\"main-header main-box-header\" data-mw-thread-id=\"h-Recurso_del_día-Bienvenidos_a_Wikipedia,\"><span id=\"Recurso_del_d.C3.ADa\"></span><span class=\"mw-headline\" id=\"Recurso_del_día\"><span data-mw-comment-start=\"\" id=\"h-Recurso_del_día-Bienvenidos_a_Wikipedia,\"></span><a href=\"/wiki/Wikipedia:Recurso_del_d%C3%ADa\" title=\"Wikipedia:Recurso del día\">Recurso del día</a><span data-mw-comment-end=\"h-Recurso_del_día-Bienvenidos_a_Wikipedia,\"></span></span></h2>\n",
            "<div class=\"main-box-content\"><figure class=\"mw-halign-center\" typeof=\"mw:File\"><a href=\"/wiki/Archivo:Bohinjsko_jezero_2.jpg\" class=\"mw-file-description\" title=\"Lago Bohinj\"><img alt=\"Lago Bohinj\" src=\"//upload.wikimedia.org/wikipedia/commons/thumb/4/46/Bohinjsko_jezero_2.jpg/500px-Bohinjsko_jezero_2.jpg\" decoding=\"async\" width=\"500\" height=\"325\" class=\"mw-file-element\" srcset=\"//upload.wikimedia.org/wikipedia/commons/thumb/4/46/Bohinjsko_jezero_2.jpg/750px-Bohinjsko_jezero_2.jpg 1.5x, //upload.wikimedia.org/wikipedia/commons/thumb/4/46/Bohinjsko_jezero_2.jpg/1000px-Bohinjsko_jezero_2.jpg 2x\" data-file-width=\"2956\" data-file-height=\"1924\"/></a><figcaption>Lago Bohinj</figcaption></figure></div>\n",
            "<div class=\"main-box-imageCaption\">\n",
            "<p>Lago Bohinj\n",
            "</p>\n",
            "</div>\n",
            "<p>El <b><a href=\"/wiki/Lago_Bohinj\" title=\"Lago Bohinj\">lago Bohinj</a></b> (en <a href=\"/wiki/Idioma_esloveno\" title=\"Idioma esloveno\">esloveno</a>: <i>Bohinjsko jezero</i>) es el lago más grande de <a href=\"/wiki/Eslovenia\" title=\"Eslovenia\">Eslovenia</a>. Está localizado en el municipio de <a href=\"/wiki/Bohinj\" title=\"Bohinj\">Bohinj</a>, al noroeste del país, y se encuentra dentro del <a href=\"/wiki/Parque_nacional_del_Triglav\" title=\"Parque nacional del Triglav\">parque nacional del Triglav</a>.\n",
            "</p>\n",
            "<div style=\"clear: both;\"></div>\n",
            "<div class=\"main-footer\"><div class=\"main-footer-actions main-plainlist nomobile\">\n",
            "<ul><li><a href=\"/wiki/Wikipedia:Recurso_del_d%C3%ADa\" title=\"Wikipedia:Recurso del día\"><span class=\"mw-ui-button mw-ui-quiet\"> Archivo </span></a></li></ul>\n",
            "</div></div>\n",
            "</div>\n",
            "<link rel=\"mw-deduplicated-inline-style\" href=\"mw-data:TemplateStyles:r144107018\">\n",
            "<div id=\"main-port\" class=\"main-box\"><h2 class=\"main-header main-box-header\" data-mw-thread-id=\"h-Portales-Bienvenidos_a_Wikipedia,\"><span class=\"mw-headline\" id=\"Portales\"><span data-mw-comment-start=\"\" id=\"h-Portales-Bienvenidos_a_Wikipedia,\"></span><a href=\"/wiki/Wikipedia:Portal\" title=\"Wikipedia:Portal\">Portales</a><span data-mw-comment-end=\"h-Portales-Bienvenidos_a_Wikipedia,\"></span></span></h2>\n",
            "<div style=\"font-size: 89%; padding-bottom:.2em; padding-top:.2em;\">\n",
            "<figure class=\"mw-halign-right noviewer\" typeof=\"mw:File\"><a href=\"/wiki/Archivo:Nuvola_apps_package_graphics.svg\" class=\"mw-file-description\" title=\"Artes\"><img alt=\"Artes\" src=\"//upload.wikimedia.org/wikipedia/commons/thumb/c/c3/Nuvola_apps_package_graphics.svg/20px-Nuvola_apps_package_graphics.svg.png\" decoding=\"async\" width=\"20\" height=\"20\" class=\"mw-file-element\" srcset=\"//upload.wikimedia.org/wikipedia/commons/thumb/c/c3/Nuvola_apps_package_graphics.svg/30px-Nuvola_apps_package_graphics.svg.png 1.5x, //upload.wikimedia.org/wikipedia/commons/thumb/c/c3/Nuvola_apps_package_graphics.svg/40px-Nuvola_apps_package_graphics.svg.png 2x\" data-file-width=\"128\" data-file-height=\"128\"/></a><figcaption>Artes</figcaption></figure>\n",
            "<p><b><a href=\"/wiki/Portal:Arte\" title=\"Portal:Arte\">Artes</a></b>: \n",
            "<a href=\"/wiki/Portal:Arquitectura\" title=\"Portal:Arquitectura\">Arquitectura</a> – \n",
            "<a href=\"/wiki/Portal:Cine\" title=\"Portal:Cine\">Cine</a> – \n",
            "<a href=\"/wiki/Portal:Danza\" title=\"Portal:Danza\">Danza</a> –\n",
            "<a href=\"/wiki/Portal:Literatura\" title=\"Portal:Literatura\">Literatura</a> – \n",
            "<a href=\"/wiki/Portal:M%C3%BAsica\" title=\"Portal:Música\">Música</a> – \n",
            "<a href=\"/wiki/Portal:M%C3%BAsica_cl%C3%A1sica\" title=\"Portal:Música clásica\">Música clásica</a> – \n",
            "<a href=\"/wiki/Portal:Pintura\" title=\"Portal:Pintura\">Pintura</a> – \n",
            "<a href=\"/wiki/Portal:Teatro\" title=\"Portal:Teatro\">Teatro</a>\n",
            "</p>\n",
            "</div>\n",
            "<div style=\"border-top: 1px dotted #c088fe; font-size: 89%; padding-bottom:.2em; padding-top:.2em;\">\n",
            "<figure class=\"mw-halign-right noviewer\" typeof=\"mw:File\"><a href=\"/wiki/Archivo:Sciences_humaines.svg\" class=\"mw-file-description\" title=\"Ciencias sociales\"><img alt=\"Ciencias sociales\" src=\"//upload.wikimedia.org/wikipedia/commons/thumb/3/3f/Sciences_humaines.svg/20px-Sciences_humaines.svg.png\" decoding=\"async\" width=\"20\" height=\"20\" class=\"mw-file-element\" srcset=\"//upload.wikimedia.org/wikipedia/commons/thumb/3/3f/Sciences_humaines.svg/30px-Sciences_humaines.svg.png 1.5x, //upload.wikimedia.org/wikipedia/commons/thumb/3/3f/Sciences_humaines.svg/40px-Sciences_humaines.svg.png 2x\" data-file-width=\"256\" data-file-height=\"256\"/></a><figcaption>Ciencias sociales</figcaption></figure>\n",
            "<p><b><a href=\"/wiki/Portal:Ciencias_humanas_y_sociales\" title=\"Portal:Ciencias humanas y sociales\">Ciencias sociales</a></b>:\n",
            "<a href=\"/wiki/Portal:Comunicaci%C3%B3n\" title=\"Portal:Comunicación\">Comunicación</a> –\n",
            "<a href=\"/wiki/Portal:Deporte\" title=\"Portal:Deporte\">Deporte</a> –\n",
            "<a href=\"/wiki/Portal:Derecho\" title=\"Portal:Derecho\">Derecho</a> – \n",
            "<a href=\"/wiki/Portal:Econom%C3%ADa\" title=\"Portal:Economía\">Economía</a> –\n",
            "<a href=\"/wiki/Portal:Feminismo\" title=\"Portal:Feminismo\">Feminismo</a> – \n",
            "<a href=\"/wiki/Portal:Filosof%C3%ADa\" title=\"Portal:Filosofía\">Filosofía</a> – \n",
            "<a href=\"/wiki/Portal:LGBT\" title=\"Portal:LGBT\">LGBT</a> – \n",
            "<a href=\"/wiki/Portal:Ling%C3%BC%C3%ADstica\" title=\"Portal:Lingüística\">Lingüística</a> – \n",
            "<a href=\"/wiki/Portal:Psicolog%C3%ADa\" title=\"Portal:Psicología\">Psicología</a> – \n",
            "<a href=\"/wiki/Portal:Sociolog%C3%ADa\" class=\"mw-disambig\" title=\"Portal:Sociología\">Sociología</a> \n",
            "</p>\n",
            "</div>\n",
            "<div style=\"border-top: 1px dotted #c088fe; font-size: 89%; padding-bottom:.2em; padding-top:.2em;\">\n",
            "<figure class=\"mw-halign-right noviewer\" typeof=\"mw:File\"><a href=\"/wiki/Archivo:Science-symbol-2.svg\" class=\"mw-file-description\" title=\"Ciencias naturales\"><img alt=\"Ciencias naturales\" src=\"//upload.wikimedia.org/wikipedia/commons/thumb/7/75/Science-symbol-2.svg/20px-Science-symbol-2.svg.png\" decoding=\"async\" width=\"20\" height=\"20\" class=\"mw-file-element\" srcset=\"//upload.wikimedia.org/wikipedia/commons/thumb/7/75/Science-symbol-2.svg/30px-Science-symbol-2.svg.png 1.5x, //upload.wikimedia.org/wikipedia/commons/thumb/7/75/Science-symbol-2.svg/40px-Science-symbol-2.svg.png 2x\" data-file-width=\"87\" data-file-height=\"87\"/></a><figcaption>Ciencias naturales</figcaption></figure>\n",
            "<p><b><a href=\"/wiki/Portal:Ciencias_naturales\" title=\"Portal:Ciencias naturales\">Ciencias naturales</a></b>: \n",
            "<a href=\"/wiki/Portal:Astronom%C3%ADa\" title=\"Portal:Astronomía\">Astronomía</a> – \n",
            "<a href=\"/wiki/Portal:Biolog%C3%ADa\" title=\"Portal:Biología\">Biología</a> – \n",
            "<a href=\"/wiki/Portal:Bot%C3%A1nica\" title=\"Portal:Botánica\">Botánica</a> – \n",
            "<a href=\"/wiki/Portal:F%C3%ADsica\" title=\"Portal:Física\">Física</a> – \n",
            "<a href=\"/wiki/Portal:Medicina\" title=\"Portal:Medicina\">Medicina</a> – \n",
            "<a href=\"/wiki/Portal:Matem%C3%A1tica\" title=\"Portal:Matemática\">Matemática</a> – \n",
            "<a href=\"/wiki/Portal:Qu%C3%ADmica\" title=\"Portal:Química\">Química</a> \n",
            "</p>\n",
            "</div>\n",
            "<div style=\"border-top: 1px dotted #c088fe; font-size: 89%; padding-bottom:.2em; padding-top:.2em;\">\n",
            "<figure class=\"mw-halign-right noviewer\" typeof=\"mw:File\"><a href=\"/wiki/Archivo:Ambox_globe.svg\" class=\"mw-file-description\" title=\"Geografía\"><img alt=\"Geografía\" src=\"//upload.wikimedia.org/wikipedia/commons/thumb/e/e2/Ambox_globe.svg/20px-Ambox_globe.svg.png\" decoding=\"async\" width=\"20\" height=\"20\" class=\"mw-file-element\" srcset=\"//upload.wikimedia.org/wikipedia/commons/thumb/e/e2/Ambox_globe.svg/30px-Ambox_globe.svg.png 1.5x, //upload.wikimedia.org/wikipedia/commons/thumb/e/e2/Ambox_globe.svg/40px-Ambox_globe.svg.png 2x\" data-file-width=\"512\" data-file-height=\"512\"/></a><figcaption>Geografía</figcaption></figure>\n",
            "<p><b><a href=\"/wiki/Portal:Geograf%C3%ADa\" title=\"Portal:Geografía\">Geografía</a></b>: \n",
            "<a href=\"/wiki/Portal:%C3%81frica\" title=\"Portal:África\">África</a> – \n",
            "<a href=\"/wiki/Portal:Am%C3%A9rica\" title=\"Portal:América\">América</a> – \n",
            "<a href=\"/wiki/Portal:Ant%C3%A1rtida\" title=\"Portal:Antártida\">Antártida</a> –\n",
            "<a href=\"/wiki/Portal:Asia\" title=\"Portal:Asia\">Asia</a> – \n",
            "<a href=\"/wiki/Portal:Europa\" title=\"Portal:Europa\">Europa</a> – \n",
            "<a href=\"/wiki/Portal:Ocean%C3%ADa\" title=\"Portal:Oceanía\">Oceanía</a> – \n",
            "<a href=\"/wiki/Portal:Pa%C3%ADses\" title=\"Portal:Países\">Países</a>\n",
            "</p>\n",
            "</div>\n",
            "<div style=\"border-top: 1px dotted #c088fe; font-size: 89%; padding-bottom:.2em; padding-top:.2em;\">\n",
            "<figure class=\"mw-halign-right noviewer\" typeof=\"mw:File\"><a href=\"/wiki/Archivo:History2.svg\" class=\"mw-file-description\" title=\"Historia\"><img alt=\"Historia\" src=\"//upload.wikimedia.org/wikipedia/commons/thumb/2/29/History2.svg/20px-History2.svg.png\" decoding=\"async\" width=\"20\" height=\"22\" class=\"mw-file-element\" srcset=\"//upload.wikimedia.org/wikipedia/commons/thumb/2/29/History2.svg/30px-History2.svg.png 1.5x, //upload.wikimedia.org/wikipedia/commons/thumb/2/29/History2.svg/40px-History2.svg.png 2x\" data-file-width=\"30\" data-file-height=\"33\"/></a><figcaption>Historia</figcaption></figure>\n",
            "<p><b><a href=\"/wiki/Portal:Historia\" title=\"Portal:Historia\">Historia</a></b>: \n",
            "<a href=\"/wiki/Portal:Prehistoria\" title=\"Portal:Prehistoria\">Prehistoria</a> – \n",
            "<a href=\"/wiki/Portal:Edad_Antigua\" title=\"Portal:Edad Antigua\">Edad Antigua</a> – \n",
            "<a href=\"/wiki/Portal:Edad_Media\" title=\"Portal:Edad Media\">Edad Media</a> – \n",
            "<a href=\"/wiki/Portal:Edad_Moderna\" title=\"Portal:Edad Moderna\">Edad Moderna</a> – \n",
            "<a href=\"/wiki/Portal:Edad_Contempor%C3%A1nea\" title=\"Portal:Edad Contemporánea\">Edad Contemporánea</a>\n",
            "</p>\n",
            "</div>\n",
            "<div style=\"border-top: 1px dotted #c088fe; font-size: 89%; padding-bottom:.2em; padding-top:.2em;\">\n",
            "<figure class=\"mw-halign-right noviewer\" typeof=\"mw:File\"><a href=\"/wiki/Archivo:Vote3_final.png\" class=\"mw-file-description\" title=\"Política\"><img alt=\"Política\" src=\"//upload.wikimedia.org/wikipedia/commons/thumb/9/94/Vote3_final.png/20px-Vote3_final.png\" decoding=\"async\" width=\"20\" height=\"20\" class=\"mw-file-element\" srcset=\"//upload.wikimedia.org/wikipedia/commons/thumb/9/94/Vote3_final.png/30px-Vote3_final.png 1.5x, //upload.wikimedia.org/wikipedia/commons/thumb/9/94/Vote3_final.png/40px-Vote3_final.png 2x\" data-file-width=\"146\" data-file-height=\"146\"/></a><figcaption>Política</figcaption></figure>\n",
            "<p><b><a href=\"/wiki/Portal:Pol%C3%ADtica\" title=\"Portal:Política\">Política</a></b>:\n",
            "<a href=\"/wiki/Portal:Marxismo\" title=\"Portal:Marxismo\">Marxismo</a>  – \n",
            "<a href=\"/wiki/Portal:Nacionalismo\" title=\"Portal:Nacionalismo\">Nacionalismo</a> –\n",
            "<a href=\"/wiki/Portal:Socialismo\" title=\"Portal:Socialismo\">Socialismo</a> – \n",
            "<a href=\"/wiki/Portal:Terrorismo\" title=\"Portal:Terrorismo\">Terrorismo</a> \n",
            "</p>\n",
            "</div>\n",
            "<div style=\"border-top: 1px dotted #c088fe; font-size: 89%; padding-bottom:.2em; padding-top:.2em;\">\n",
            "<figure class=\"mw-halign-right noviewer\" typeof=\"mw:File\"><a href=\"/wiki/Archivo:P_religion_world.svg\" class=\"mw-file-description\" title=\"Religión\"><img alt=\"Religión\" src=\"//upload.wikimedia.org/wikipedia/commons/thumb/2/28/P_religion_world.svg/20px-P_religion_world.svg.png\" decoding=\"async\" width=\"20\" height=\"18\" class=\"mw-file-element\" srcset=\"//upload.wikimedia.org/wikipedia/commons/thumb/2/28/P_religion_world.svg/30px-P_religion_world.svg.png 1.5x, //upload.wikimedia.org/wikipedia/commons/thumb/2/28/P_religion_world.svg/40px-P_religion_world.svg.png 2x\" data-file-width=\"400\" data-file-height=\"360\"/></a><figcaption>Religión</figcaption></figure>\n",
            "<p><b><a href=\"/wiki/Portal:Religi%C3%B3n\" title=\"Portal:Religión\">Religión</a></b>:\n",
            "<a href=\"/wiki/Portal:Ate%C3%ADsmo\" title=\"Portal:Ateísmo\">Ateísmo</a> – \n",
            "<a href=\"/wiki/Portal:Budismo\" title=\"Portal:Budismo\">Budismo</a> – \n",
            "<a href=\"/wiki/Portal:Cristianismo\" title=\"Portal:Cristianismo\">Cristianismo</a>  – \n",
            "<a href=\"/wiki/Portal:Iglesia_cat%C3%B3lica\" title=\"Portal:Iglesia católica\">Iglesia católica</a> –\n",
            "<a href=\"/wiki/Portal:Islam\" title=\"Portal:Islam\">Islam</a> – \n",
            "<a href=\"/wiki/Portal:Juda%C3%ADsmo\" title=\"Portal:Judaísmo\">Judaísmo</a> –\n",
            "<a href=\"/wiki/Portal:Mitolog%C3%ADa\" title=\"Portal:Mitología\">Mitología</a>\n",
            "</p>\n",
            "</div>\n",
            "<div style=\"border-top: 1px dotted #c088fe; font-size: 89%; padding-bottom:.2em; padding-top:.2em;\">\n",
            "<figure class=\"mw-halign-right noviewer\" typeof=\"mw:File\"><a href=\"/wiki/Archivo:Tecno-rueda.svg\" class=\"mw-file-description\" title=\"Tecnologías\"><img alt=\"Tecnologías\" src=\"//upload.wikimedia.org/wikipedia/commons/thumb/1/1f/Tecno-rueda.svg/20px-Tecno-rueda.svg.png\" decoding=\"async\" width=\"20\" height=\"20\" class=\"mw-file-element\" srcset=\"//upload.wikimedia.org/wikipedia/commons/thumb/1/1f/Tecno-rueda.svg/30px-Tecno-rueda.svg.png 1.5x, //upload.wikimedia.org/wikipedia/commons/thumb/1/1f/Tecno-rueda.svg/40px-Tecno-rueda.svg.png 2x\" data-file-width=\"48\" data-file-height=\"48\"/></a><figcaption>Tecnologías</figcaption></figure>\n",
            "<p><b><a href=\"/wiki/Portal:Tecnolog%C3%ADa\" title=\"Portal:Tecnología\">Tecnologías</a></b>: \n",
            "<a href=\"/wiki/Portal:Biotecnolog%C3%ADa\" title=\"Portal:Biotecnología\">Biotecnología</a> – \n",
            "<a href=\"/wiki/Portal:Exploraci%C3%B3n_espacial\" title=\"Portal:Exploración espacial\">Exploración espacial</a> – \n",
            "<a href=\"/wiki/Portal:Inform%C3%A1tica\" title=\"Portal:Informática\">Informática</a> – \n",
            "<a href=\"/wiki/Portal:Ingenier%C3%ADa\" title=\"Portal:Ingeniería\">Ingeniería</a> – \n",
            "<a href=\"/wiki/Portal:Software_libre\" title=\"Portal:Software libre\">Software libre</a> – \n",
            "<a href=\"/wiki/Portal:Videojuegos\" title=\"Portal:Videojuegos\">Videojuegos</a>\n",
            "</p>\n",
            "</div>\n",
            "<div style=\"clear: both;\"></div>\n",
            "</div>\n",
            "</div>\n",
            "<div class=\"main-wrapper-column\">\n",
            "<link rel=\"mw-deduplicated-inline-style\" href=\"mw-data:TemplateStyles:r144107018\">\n",
            "<div id=\"main-cur\" class=\"main-box\"><h2 class=\"main-header main-box-header\" data-mw-thread-id=\"h-Actualidad-Bienvenidos_a_Wikipedia,\"><span class=\"mw-headline\" id=\"Actualidad\"><span data-mw-comment-start=\"\" id=\"h-Actualidad-Bienvenidos_a_Wikipedia,\"></span><a href=\"/wiki/Portal:Actualidad\" title=\"Portal:Actualidad\">Actualidad</a><span data-mw-comment-end=\"h-Actualidad-Bienvenidos_a_Wikipedia,\"></span></span></h2>\n",
            "<ul><li><a href=\"/wiki/Epidemia_de_dengue_de_2024_en_Argentina\" title=\"Epidemia de dengue de 2024 en Argentina\">Epidemia de dengue en Argentina</a></li>\n",
            "<li><a href=\"/wiki/Guerra_Israel-Gaza_(2023-presente)\" title=\"Guerra Israel-Gaza (2023-presente)\">Guerra Israel-Gaza</a></li>\n",
            "<li><a href=\"/wiki/Invasi%C3%B3n_rusa_de_Ucrania\" title=\"Invasión rusa de Ucrania\">Invasión rusa de Ucrania</a></li>\n",
            "<li>26 de mayo-9 de junio: <a href=\"/wiki/Torneo_de_Roland_Garros_2024\" title=\"Torneo de Roland Garros 2024\">Torneo de Roland Garros</a></li>\n",
            "<li>26 de mayo: Segunda vuelta de las <a href=\"/wiki/Elecciones_presidenciales_de_Lituania_de_2024\" title=\"Elecciones presidenciales de Lituania de 2024\">elecciones presidenciales de Lituania</a></li>\n",
            "<li>26 de mayo: <a href=\"/wiki/NXT_Battleground\" title=\"NXT Battleground\">NXT Battleground</a></li>\n",
            "<li>26 de mayo: <a href=\"/wiki/Double_or_Nothing_(2024)\" title=\"Double or Nothing (2024)\">Double or Nothing</a></li>\n",
            "<li>24-26 de mayo: <a href=\"/wiki/Gran_Premio_de_Catalu%C3%B1a_de_Motociclismo_de_2024\" title=\"Gran Premio de Cataluña de Motociclismo de 2024\">Gran Premio de Cataluña de motociclismo</a></li>\n",
            "<li>24-26 de mayo: Final Four de la <a href=\"/wiki/Euroliga_2023-24\" title=\"Euroliga 2023-24\">Euroliga de baloncesto</a></li>\n",
            "<li>24-26 de mayo: <a href=\"/wiki/Anexo:Gran_Premio_de_M%C3%B3naco_de_2024\" title=\"Anexo:Gran Premio de Mónaco de 2024\">Gran Premio de Mónaco de Fórmula 1</a></li>\n",
            "<li>22 de mayo: <a href=\"/wiki/Colapso_de_templete_durante_mitin_en_San_Pedro_Garza_Garc%C3%ADa\" title=\"Colapso de templete durante mitin en San Pedro Garza García\">Colapso de templete durante mitin en San Pedro Garza García</a></li>\n",
            "<li>20 de mayo-5 de junio: <a href=\"/wiki/Campeonato_Europeo_Sub-17_de_la_UEFA_2024\" title=\"Campeonato Europeo Sub-17 de la UEFA 2024\">Campeonato Europeo Sub-17 de la UEFA</a></li>\n",
            "<li>20-26 de mayo: <a href=\"/wiki/Premier_Padel_2024\" title=\"Premier Padel 2024\">Premier Padel 2024</a>: Argentina P1</li>\n",
            "<li>4-26 de mayo: <a href=\"/wiki/Giro_de_Italia_2024\" title=\"Giro de Italia 2024\">Giro de Italia</a></li></ul>\n",
            "<div style=\"margin-top: .9em; margin-bottom: .9em;\">\n",
            "<dl><dt><a href=\"/wiki/Anexo:Fallecidos_en_2024\" class=\"mw-redirect\" title=\"Anexo:Fallecidos en 2024\">Fallecimientos</a></dt></dl>\n",
            "<ul><li>25 de mayo: <a href=\"/wiki/Grayson_Murray\" title=\"Grayson Murray\">Grayson Murray</a>, golfista estadounidense (30)</li></ul>\n",
            "<figure class=\"mw-halign-right\" typeof=\"mw:File\"><a href=\"/wiki/Archivo:SantiagoOmarRiveros.jpg\" class=\"mw-file-description\" title=\"El militar argentino Santiago Riveros\"><img alt=\"El militar argentino Santiago Riveros\" src=\"//upload.wikimedia.org/wikipedia/commons/thumb/5/5e/SantiagoOmarRiveros.jpg/120px-SantiagoOmarRiveros.jpg\" decoding=\"async\" width=\"120\" height=\"155\" class=\"mw-file-element\" srcset=\"//upload.wikimedia.org/wikipedia/commons/thumb/5/5e/SantiagoOmarRiveros.jpg/180px-SantiagoOmarRiveros.jpg 1.5x, //upload.wikimedia.org/wikipedia/commons/5/5e/SantiagoOmarRiveros.jpg 2x\" data-file-width=\"200\" data-file-height=\"259\"/></a><figcaption>El militar argentino Santiago Riveros</figcaption></figure>\n",
            "<ul><li>24 de mayo: <a href=\"/wiki/Santiago_Riveros\" title=\"Santiago Riveros\">Santiago Riveros</a>, militar argentino (100; <i>en la imagen</i>)</li>\n",
            "<li>24 de mayo: <a href=\"/wiki/Doug_Ingle\" title=\"Doug Ingle\">Doug Ingle</a>, músico estadounidense (78)</li>\n",
            "<li>24 de mayo: <a href=\"/wiki/Jos%C3%A9_Antonio_Murgas\" title=\"José Antonio Murgas\">José Antonio Murgas</a>, político colombiano (94)</li>\n",
            "<li>24 de mayo: <a href=\"/wiki/Jorge_Arganis_D%C3%ADaz_Leal\" title=\"Jorge Arganis Díaz Leal\">Jorge Arganis Díaz Leal</a>, ingeniero y político mexicano (81)</li>\n",
            "<li>24 de mayo: <a href=\"/wiki/Walter_Kappacher\" title=\"Walter Kappacher\">Walter Kappacher</a>, escritor austriaco (85)</li>\n",
            "<li>23 de mayo: <a href=\"/wiki/Caleb_Carr\" title=\"Caleb Carr\">Caleb Carr</a>, escritor estadounidense (68)</li>\n",
            "<li>23 de mayo: <a href=\"/wiki/John_Boardman\" title=\"John Boardman\">John Boardman</a>, arqueólogo e historiador británico (96)</li>\n",
            "<li>23 de mayo: <a href=\"/wiki/Morgan_Spurlock\" title=\"Morgan Spurlock\">Morgan Spurlock</a>, cineasta estadounidense (53)</li></ul>\n",
            "</div>\n",
            "<dl><dt>Conmemoraciones y fiestas</dt></dl>\n",
            "<ul><li>28 de mayo: <a href=\"/wiki/D%C3%ADa_Internacional_de_Acci%C3%B3n_para_la_Salud_de_las_Mujeres\" title=\"Día Internacional de Acción para la Salud de las Mujeres\">Día Internacional de Acción para la Salud de las Mujeres</a></li>\n",
            "<li>28 de mayo: Día de la Independencia de <a href=\"/wiki/Armenia\" title=\"Armenia\">Armenia</a></li>\n",
            "<li>28 de mayo: Día Nacional de <a href=\"/wiki/Etiop%C3%ADa\" title=\"Etiopía\">Etiopía</a></li>\n",
            "<li>28 de mayo: Día Nacional de <a href=\"/wiki/Azerbaiy%C3%A1n\" title=\"Azerbaiyán\">Azerbaiyán</a></li>\n",
            "<li>26 de mayo: Día Nacional de <a href=\"/wiki/Georgia\" title=\"Georgia\">Georgia</a></li>\n",
            "<li>25-31 de mayo: Semana de Solidaridad con los Pueblos de los <a href=\"/wiki/Territorios_No_Aut%C3%B3nomos\" class=\"mw-redirect\" title=\"Territorios No Autónomos\">Territorios No Autónomos</a></li>\n",
            "<li>20-26 de mayo: Semana Internacional de la <a href=\"/wiki/Educaci%C3%B3n_Art%C3%ADstica\" class=\"mw-redirect\" title=\"Educación Artística\">Educación Artística</a></li></ul>\n",
            "<p><br/>\n",
            "<b>Véase también:</b> <a href=\"/wiki/Categor%C3%ADa:Actualidad\" title=\"Categoría:Actualidad\">Categoría:Actualidad</a>, <a href=\"/wiki/2024\" title=\"2024\">2024</a>, <a href=\"/wiki/Categor%C3%ADa:2024\" title=\"Categoría:2024\">Categoría:2024</a>\n",
            "</p>\n",
            "<div style=\"clear: both;\"></div>\n",
            "<div class=\"main-footer\"><div class=\"main-footer-actions main-plainlist nomobile\">\n",
            "<ul><li><a href=\"/wiki/Portal:Actualidad\" title=\"Portal:Actualidad\"><span class=\"mw-ui-button\"> Otros eventos actuales </span></a></li></ul>\n",
            "</div><div id=\"mw-customcollapsible-cur\" class=\"main-footer-menu mw-collapsible mw-collapsed nomobile\">\n",
            "<div class=\"main-footer-menuToggle mw-collapsible-toggle mw-customtoggle-main-cur\"><span typeof=\"mw:File\"><span title=\"Acciones adicionales\"><img alt=\"Acciones adicionales\" src=\"//upload.wikimedia.org/wikipedia/commons/thumb/b/b3/OOjs_UI_icon_ellipsis.svg/20px-OOjs_UI_icon_ellipsis.svg.png\" decoding=\"async\" width=\"20\" height=\"20\" class=\"mw-file-element\" srcset=\"//upload.wikimedia.org/wikipedia/commons/thumb/b/b3/OOjs_UI_icon_ellipsis.svg/30px-OOjs_UI_icon_ellipsis.svg.png 1.5x, //upload.wikimedia.org/wikipedia/commons/thumb/b/b3/OOjs_UI_icon_ellipsis.svg/40px-OOjs_UI_icon_ellipsis.svg.png 2x\" data-file-width=\"20\" data-file-height=\"20\"/></span></span></div>\n",
            "<div class=\"main-footer-menuDropdown mw-collapsible-content main-plainlist\">\n",
            "<ul><li><a href=\"/wiki/Categor%C3%ADa:Actualidad\" title=\"Categoría:Actualidad\"><span class=\"mw-ui-button mw-ui-quiet\"> Categoría de actualidad </span></a></li>\n",
            "<li><a href=\"/wiki/2024\" title=\"2024\"><span class=\"mw-ui-button mw-ui-quiet\"> Año 2024 </span></a></li>\n",
            "<li><a href=\"/wiki/Categor%C3%ADa:2024\" title=\"Categoría:2024\"><span class=\"mw-ui-button mw-ui-quiet\"> Categoría 2024 </span></a></li>\n",
            "<li><a href=\"/wiki/Plantilla:Portada:Actualidad\" title=\"Plantilla:Portada:Actualidad\"><span class=\"mw-ui-button mw-ui-quiet\"> Plantilla </span></a></li></ul>\n",
            "</div></div></div>\n",
            "</div>\n",
            "<link rel=\"mw-deduplicated-inline-style\" href=\"mw-data:TemplateStyles:r144107018\">\n",
            "<div id=\"main-itd\" class=\"main-box\"><div id=\"Efemérides\" class=\"main-box-section\">Efemérides</div><h2 class=\"main-header main-box-header\" data-mw-thread-id=\"h-27_de_mayo-Bienvenidos_a_Wikipedia,\"><span class=\"mw-headline\" id=\"27_de_mayo\"><span data-mw-comment-start=\"\" id=\"h-27_de_mayo-Bienvenidos_a_Wikipedia,\"></span><a href=\"/wiki/27_de_mayo\" title=\"27 de mayo\">27 de mayo</a><span data-mw-comment-end=\"h-27_de_mayo-Bienvenidos_a_Wikipedia,\"></span></span></h2>\n",
            "<figure class=\"mw-halign-right\" typeof=\"mw:File\"><a href=\"/wiki/Archivo:Jnehru.jpg\" class=\"mw-file-description\"><img src=\"//upload.wikimedia.org/wikipedia/commons/thumb/5/5f/Jnehru.jpg/120px-Jnehru.jpg\" decoding=\"async\" width=\"120\" height=\"172\" class=\"mw-file-element\" srcset=\"//upload.wikimedia.org/wikipedia/commons/thumb/5/5f/Jnehru.jpg/180px-Jnehru.jpg 1.5x, //upload.wikimedia.org/wikipedia/commons/thumb/5/5f/Jnehru.jpg/240px-Jnehru.jpg 2x\" data-file-width=\"1365\" data-file-height=\"1962\"/></a><figcaption></figcaption></figure>\n",
            "<ul><li><b><a href=\"/wiki/1924\" title=\"1924\">1924</a></b> <i>(hace 100 años)</i>: Nace <b><a href=\"/wiki/Jaime_Lusinchi\" title=\"Jaime Lusinchi\">Jaime Lusinchi</a></b>, político venezolano (f. 2014).</li>\n",
            "<li><b><a href=\"/wiki/1949\" title=\"1949\">1949</a></b> <i>(hace 75 años)</i>: En Shanghái (China), se publica el último número del periódico <i><b><a href=\"/wiki/Shen_Bao\" title=\"Shen Bao\">Shen Bao</a></b></i>.</li>\n",
            "<li><b><a href=\"/wiki/1964\" title=\"1964\">1964</a></b> <i>(hace 60 años)</i>: Fallece <b><a href=\"/wiki/Jawaharlal_Nehru\" title=\"Jawaharlal Nehru\">Jawaharlal Nehru</a></b>, político indio (n. 1889; <i>en la imagen</i>).</li>\n",
            "<li><b><a href=\"/wiki/1974\" title=\"1974\">1974</a></b> <i>(hace 50 años)</i>: Nace <b><a href=\"/wiki/Marjorie_Taylor_Greene\" title=\"Marjorie Taylor Greene\">Marjorie Taylor Greene</a></b>, política estadounidense.</li>\n",
            "<li><b><a href=\"/wiki/1999\" title=\"1999\">1999</a></b> <i>(hace 25 años)</i>: Nace <b><a href=\"/wiki/Matheus_Cunha\" title=\"Matheus Cunha\">Matheus Cunha</a></b>, futbolista brasileño.</li></ul>\n",
            "<div style=\"clear: both;\"></div>\n",
            "<div class=\"main-footer\"><div class=\"main-footer-actions main-plainlist nomobile\">\n",
            "<ul><li><a href=\"/wiki/26_de_mayo\" title=\"26 de mayo\"><span class=\"mw-ui-button mw-ui-quiet\"> 26 de mayo </span></a></li>\n",
            "<li><a href=\"/wiki/27_de_mayo\" title=\"27 de mayo\"><span class=\"mw-ui-button\"> 27 de mayo </span></a></li>\n",
            "<li><a href=\"/wiki/28_de_mayo\" title=\"28 de mayo\"><span class=\"mw-ui-button mw-ui-quiet\"> 28 de mayo </span></a></li></ul>\n",
            "</div><div id=\"mw-customcollapsible-itd\" class=\"main-footer-menu mw-collapsible mw-collapsed nomobile\">\n",
            "<div class=\"main-footer-menuToggle mw-collapsible-toggle mw-customtoggle-main-itd\"><span typeof=\"mw:File\"><span title=\"Acciones adicionales\"><img alt=\"Acciones adicionales\" src=\"//upload.wikimedia.org/wikipedia/commons/thumb/b/b3/OOjs_UI_icon_ellipsis.svg/20px-OOjs_UI_icon_ellipsis.svg.png\" decoding=\"async\" width=\"20\" height=\"20\" class=\"mw-file-element\" srcset=\"//upload.wikimedia.org/wikipedia/commons/thumb/b/b3/OOjs_UI_icon_ellipsis.svg/30px-OOjs_UI_icon_ellipsis.svg.png 1.5x, //upload.wikimedia.org/wikipedia/commons/thumb/b/b3/OOjs_UI_icon_ellipsis.svg/40px-OOjs_UI_icon_ellipsis.svg.png 2x\" data-file-width=\"20\" data-file-height=\"20\"/></span></span></div>\n",
            "<div class=\"main-footer-menuDropdown mw-collapsible-content main-plainlist\">\n",
            "<ul><li><a href=\"/wiki/Plantilla:Efem%C3%A9rides\" title=\"Plantilla:Efemérides\"><span class=\"mw-ui-button mw-ui-quiet\"> Plantilla </span></a></li></ul>\n",
            "</div></div></div>\n",
            "</div>\n",
            "<link rel=\"mw-deduplicated-inline-style\" href=\"mw-data:TemplateStyles:r144107018\">\n",
            "<div id=\"main-wmfsp\" class=\"main-box\"><h2 class=\"main-header main-box-header\" data-mw-thread-id=\"h-Otros_proyectos_de_la_Fundación_Wikimedia-Bienvenidos_a_Wikipedia,\"><span id=\"Otros_proyectos_de_la_Fundaci.C3.B3n_Wikimedia\"></span><span class=\"mw-headline\" id=\"Otros_proyectos_de_la_Fundación_Wikimedia\"><span data-mw-comment-start=\"\" id=\"h-Otros_proyectos_de_la_Fundación_Wikimedia-Bienvenidos_a_Wikipedia,\"></span><a href=\"https://meta.wikimedia.org/wiki/Special:MyLanguage/Wikimedia_projects\" class=\"extiw\" title=\"meta:Special:MyLanguage/Wikimedia projects\">Otros proyectos</a> de la <a href=\"/wiki/Fundaci%C3%B3n_Wikimedia\" title=\"Fundación Wikimedia\">Fundación Wikimedia</a><span data-mw-comment-end=\"h-Otros_proyectos_de_la_Fundación_Wikimedia-Bienvenidos_a_Wikipedia,\"></span></span></h2>\n",
            "<table style=\"background:transparent; margin: 0 auto;\">\n",
            "\n",
            "<tbody><tr>\n",
            "<td style=\"padding: 8px;\"><figure class=\"mw-halign-center\" typeof=\"mw:File\"><a href=\"https://commons.wikimedia.org/wiki/Portada\" title=\"Wikimedia Commons\"><img alt=\"Wikimedia Commons\" src=\"//upload.wikimedia.org/wikipedia/commons/thumb/7/76/Notification-icon-Commons-logo.svg/30px-Notification-icon-Commons-logo.svg.png\" decoding=\"async\" width=\"30\" height=\"30\" class=\"mw-file-element\" srcset=\"//upload.wikimedia.org/wikipedia/commons/thumb/7/76/Notification-icon-Commons-logo.svg/45px-Notification-icon-Commons-logo.svg.png 1.5x, //upload.wikimedia.org/wikipedia/commons/thumb/7/76/Notification-icon-Commons-logo.svg/60px-Notification-icon-Commons-logo.svg.png 2x\" data-file-width=\"30\" data-file-height=\"30\"/></a><figcaption>Wikimedia Commons</figcaption></figure>\n",
            "</td>\n",
            "<td><b><a href=\"https://commons.wikimedia.org/wiki/Portada\" class=\"extiw\" title=\"commons:Portada\">Commons</a></b><br/><div style=\"font-size: 90%\">Imágenes y multimedia</div>\n",
            "</td>\n",
            "<td>\n",
            "</td>\n",
            "<td style=\"padding: 8px;\"><figure class=\"mw-halign-center\" typeof=\"mw:File\"><a href=\"https://es.wiktionary.org/wiki/Wikcionario:Portada\" title=\"Wikcionario\"><img alt=\"Wikcionario\" src=\"//upload.wikimedia.org/wikipedia/commons/thumb/a/ac/Notification-icon-Wiktionary-logo.svg/30px-Notification-icon-Wiktionary-logo.svg.png\" decoding=\"async\" width=\"30\" height=\"30\" class=\"mw-file-element\" srcset=\"//upload.wikimedia.org/wikipedia/commons/thumb/a/ac/Notification-icon-Wiktionary-logo.svg/45px-Notification-icon-Wiktionary-logo.svg.png 1.5x, //upload.wikimedia.org/wikipedia/commons/thumb/a/ac/Notification-icon-Wiktionary-logo.svg/60px-Notification-icon-Wiktionary-logo.svg.png 2x\" data-file-width=\"30\" data-file-height=\"30\"/></a><figcaption>Wikcionario</figcaption></figure>\n",
            "</td>\n",
            "<td><b><a href=\"https://es.wiktionary.org/wiki/Wikcionario:Portada\" class=\"extiw\" title=\"wikt:Wikcionario:Portada\">Wikcionario</a></b><br/><div style=\"font-size: 90%\">Diccionario libre</div>\n",
            "</td></tr>\n",
            "<tr>\n",
            "<td style=\"padding: 8px;\"><figure class=\"mw-halign-center\" typeof=\"mw:File\"><a href=\"https://www.wikidata.org/wiki/Wikidata:Portada\" title=\"Wikidata\"><img alt=\"Wikidata\" src=\"//upload.wikimedia.org/wikipedia/commons/thumb/6/67/Notification-icon-Wikidata-logo.svg/30px-Notification-icon-Wikidata-logo.svg.png\" decoding=\"async\" width=\"30\" height=\"30\" class=\"mw-file-element\" srcset=\"//upload.wikimedia.org/wikipedia/commons/thumb/6/67/Notification-icon-Wikidata-logo.svg/45px-Notification-icon-Wikidata-logo.svg.png 1.5x, //upload.wikimedia.org/wikipedia/commons/thumb/6/67/Notification-icon-Wikidata-logo.svg/60px-Notification-icon-Wikidata-logo.svg.png 2x\" data-file-width=\"30\" data-file-height=\"30\"/></a><figcaption>Wikidata</figcaption></figure>\n",
            "</td>\n",
            "<td><b><a href=\"https://www.wikidata.org/wiki/Wikidata:Portada\" class=\"extiw\" title=\"wikidata:Wikidata:Portada\">Wikidata</a></b><br/><div style=\"font-size: 90%\">Base de datos libre</div>\n",
            "</td>\n",
            "<td>\n",
            "</td>\n",
            "<td style=\"padding: 8px;\"><figure class=\"mw-halign-center\" typeof=\"mw:File\"><a href=\"https://es.wikibooks.org/wiki/Portada\" title=\"Wikilibros\"><img alt=\"Wikilibros\" src=\"//upload.wikimedia.org/wikipedia/commons/thumb/e/e0/Notification-icon-Wikibooks-logo.svg/30px-Notification-icon-Wikibooks-logo.svg.png\" decoding=\"async\" width=\"30\" height=\"30\" class=\"mw-file-element\" srcset=\"//upload.wikimedia.org/wikipedia/commons/thumb/e/e0/Notification-icon-Wikibooks-logo.svg/45px-Notification-icon-Wikibooks-logo.svg.png 1.5x, //upload.wikimedia.org/wikipedia/commons/thumb/e/e0/Notification-icon-Wikibooks-logo.svg/60px-Notification-icon-Wikibooks-logo.svg.png 2x\" data-file-width=\"30\" data-file-height=\"30\"/></a><figcaption>Wikilibros</figcaption></figure>\n",
            "</td>\n",
            "<td><b><a href=\"https://es.wikibooks.org/wiki/Portada\" class=\"extiw\" title=\"b:Portada\">Wikilibros</a></b><br/><div style=\"font-size: 90%\">Libros de texto y manuales</div>\n",
            "</td></tr>\n",
            "<tr>\n",
            "<td style=\"padding: 8px;\"><figure class=\"mw-halign-center\" typeof=\"mw:File\"><a href=\"https://es.wikinews.org/wiki/Portada\" title=\"Wikinoticias\"><img alt=\"Wikinoticias\" src=\"//upload.wikimedia.org/wikipedia/commons/thumb/5/57/Notification-icon-Wikinews-logo.svg/30px-Notification-icon-Wikinews-logo.svg.png\" decoding=\"async\" width=\"30\" height=\"30\" class=\"mw-file-element\" srcset=\"//upload.wikimedia.org/wikipedia/commons/thumb/5/57/Notification-icon-Wikinews-logo.svg/45px-Notification-icon-Wikinews-logo.svg.png 1.5x, //upload.wikimedia.org/wikipedia/commons/thumb/5/57/Notification-icon-Wikinews-logo.svg/60px-Notification-icon-Wikinews-logo.svg.png 2x\" data-file-width=\"30\" data-file-height=\"30\"/></a><figcaption>Wikinoticias</figcaption></figure>\n",
            "</td>\n",
            "<td><b><a href=\"https://es.wikinews.org/wiki/Portada\" class=\"extiw\" title=\"n:Portada\">Wikinoticias</a></b><br/><div style=\"font-size: 90%\">Noticias libres</div>\n",
            "</td>\n",
            "<td>\n",
            "</td>\n",
            "<td style=\"padding: 8px;\"><figure class=\"mw-halign-center\" typeof=\"mw:File\"><a href=\"https://es.wikiquote.org/wiki/Portada\" title=\"Wikiquote\"><img alt=\"Wikiquote\" src=\"//upload.wikimedia.org/wikipedia/commons/thumb/5/5a/Notification-icon-Wikiquote.svg/30px-Notification-icon-Wikiquote.svg.png\" decoding=\"async\" width=\"30\" height=\"30\" class=\"mw-file-element\" srcset=\"//upload.wikimedia.org/wikipedia/commons/thumb/5/5a/Notification-icon-Wikiquote.svg/45px-Notification-icon-Wikiquote.svg.png 1.5x, //upload.wikimedia.org/wikipedia/commons/thumb/5/5a/Notification-icon-Wikiquote.svg/60px-Notification-icon-Wikiquote.svg.png 2x\" data-file-width=\"30\" data-file-height=\"30\"/></a><figcaption>Wikiquote</figcaption></figure>\n",
            "</td>\n",
            "<td><b><a href=\"https://es.wikiquote.org/wiki/Portada\" class=\"extiw\" title=\"q:Portada\">Wikiquote</a></b><br/><div style=\"font-size: 90%\">Colección de citas</div>\n",
            "</td></tr>\n",
            "<tr>\n",
            "<td style=\"padding: 8px;\"><figure class=\"mw-halign-center\" typeof=\"mw:File\"><a href=\"https://es.wikisource.org/wiki/Portada\" title=\"Wikisource\"><img alt=\"Wikisource\" src=\"//upload.wikimedia.org/wikipedia/commons/thumb/5/5a/Notification-icon-Wikisource-logo.svg/30px-Notification-icon-Wikisource-logo.svg.png\" decoding=\"async\" width=\"30\" height=\"30\" class=\"mw-file-element\" srcset=\"//upload.wikimedia.org/wikipedia/commons/thumb/5/5a/Notification-icon-Wikisource-logo.svg/45px-Notification-icon-Wikisource-logo.svg.png 1.5x, //upload.wikimedia.org/wikipedia/commons/thumb/5/5a/Notification-icon-Wikisource-logo.svg/60px-Notification-icon-Wikisource-logo.svg.png 2x\" data-file-width=\"30\" data-file-height=\"30\"/></a><figcaption>Wikisource</figcaption></figure>\n",
            "</td>\n",
            "<td><b><a href=\"https://es.wikisource.org/wiki/Portada\" class=\"extiw\" title=\"s:Portada\">Wikisource</a></b><br/><div style=\"font-size: 90%\">Biblioteca libre</div>\n",
            "</td>\n",
            "<td>\n",
            "</td>\n",
            "<td style=\"padding: 8px;\"><figure class=\"mw-halign-center\" typeof=\"mw:File\"><a href=\"https://species.wikimedia.org/wiki/Portada\" title=\"Wikispecies\"><img alt=\"Wikispecies\" src=\"//upload.wikimedia.org/wikipedia/commons/thumb/0/08/Notification-icon-Wikispecies-logo.svg/30px-Notification-icon-Wikispecies-logo.svg.png\" decoding=\"async\" width=\"30\" height=\"30\" class=\"mw-file-element\" srcset=\"//upload.wikimedia.org/wikipedia/commons/thumb/0/08/Notification-icon-Wikispecies-logo.svg/45px-Notification-icon-Wikispecies-logo.svg.png 1.5x, //upload.wikimedia.org/wikipedia/commons/thumb/0/08/Notification-icon-Wikispecies-logo.svg/60px-Notification-icon-Wikispecies-logo.svg.png 2x\" data-file-width=\"30\" data-file-height=\"30\"/></a><figcaption>Wikispecies</figcaption></figure>\n",
            "</td>\n",
            "<td><b><a href=\"https://species.wikimedia.org/wiki/Portada\" class=\"extiw\" title=\"wikispecies:Portada\">Wikispecies</a></b><br/><div style=\"font-size: 90%\">Directorio de especies</div>\n",
            "</td></tr>\n",
            "<tr>\n",
            "<td style=\"padding: 8px;\"><figure class=\"mw-halign-center\" typeof=\"mw:File\"><a href=\"https://es.wikiversity.org/wiki/Portada\" title=\"Wikiversidad\"><img alt=\"Wikiversidad\" src=\"//upload.wikimedia.org/wikipedia/commons/thumb/0/01/Notification-icon-Wikiversity-logo.svg/30px-Notification-icon-Wikiversity-logo.svg.png\" decoding=\"async\" width=\"30\" height=\"30\" class=\"mw-file-element\" srcset=\"//upload.wikimedia.org/wikipedia/commons/thumb/0/01/Notification-icon-Wikiversity-logo.svg/45px-Notification-icon-Wikiversity-logo.svg.png 1.5x, //upload.wikimedia.org/wikipedia/commons/thumb/0/01/Notification-icon-Wikiversity-logo.svg/60px-Notification-icon-Wikiversity-logo.svg.png 2x\" data-file-width=\"30\" data-file-height=\"30\"/></a><figcaption>Wikiversidad</figcaption></figure>\n",
            "</td>\n",
            "<td><b><a href=\"https://es.wikiversity.org/wiki/Portada\" class=\"extiw\" title=\"v:Portada\">Wikiversidad</a></b><br/><div style=\"font-size: 90%\">Recursos de aprendizaje</div>\n",
            "</td>\n",
            "<td>\n",
            "</td>\n",
            "<td style=\"padding: 8px;\"><figure class=\"mw-halign-center\" typeof=\"mw:File\"><a href=\"https://es.wikivoyage.org/wiki/es:P%C3%A1gina_principal\" title=\"Wikiviajes\"><img alt=\"Wikiviajes\" src=\"//upload.wikimedia.org/wikipedia/commons/thumb/4/47/Notification-icon-Wikivoyage-logo.svg/30px-Notification-icon-Wikivoyage-logo.svg.png\" decoding=\"async\" width=\"30\" height=\"30\" class=\"mw-file-element\" srcset=\"//upload.wikimedia.org/wikipedia/commons/thumb/4/47/Notification-icon-Wikivoyage-logo.svg/45px-Notification-icon-Wikivoyage-logo.svg.png 1.5x, //upload.wikimedia.org/wikipedia/commons/thumb/4/47/Notification-icon-Wikivoyage-logo.svg/60px-Notification-icon-Wikivoyage-logo.svg.png 2x\" data-file-width=\"30\" data-file-height=\"30\"/></a><figcaption>Wikiviajes</figcaption></figure>\n",
            "</td>\n",
            "<td><b><a href=\"https://es.wikivoyage.org/wiki/es:P%C3%A1gina_principal\" class=\"extiw\" title=\"voy:es:Página principal\">Wikiviajes</a></b><br/><div style=\"font-size: 90%\">Guía de viajes</div>\n",
            "</td></tr>\n",
            "<tr>\n",
            "<td colspan=\"5\" style=\"padding: 8px; text-align: center;\"><span typeof=\"mw:File\"><a href=\"https://meta.wikimedia.org/wiki/Portada/Es\" title=\"Meta-Wiki\"><img alt=\"Meta-Wiki\" src=\"//upload.wikimedia.org/wikipedia/commons/thumb/8/86/Notification-icon-Meta-logo.svg/30px-Notification-icon-Meta-logo.svg.png\" decoding=\"async\" width=\"30\" height=\"30\" class=\"mw-file-element\" srcset=\"//upload.wikimedia.org/wikipedia/commons/thumb/8/86/Notification-icon-Meta-logo.svg/45px-Notification-icon-Meta-logo.svg.png 1.5x, //upload.wikimedia.org/wikipedia/commons/thumb/8/86/Notification-icon-Meta-logo.svg/60px-Notification-icon-Meta-logo.svg.png 2x\" data-file-width=\"30\" data-file-height=\"30\"/></a></span><span style=\"padding-left: 8px;\"><b><a href=\"https://meta.wikimedia.org/wiki/Portada/es\" class=\"extiw\" title=\"m:Portada/es\">Meta-Wiki</a></b> – <span style=\"font-size: 90%\">Coordinación de proyectos</span></span>\n",
            "</td></tr></tbody></table>\n",
            "<div style=\"clear: both;\"></div>\n",
            "</div>\n",
            "</div>\n",
            "</div>                                                             \n",
            "<!-- \n",
            "NewPP limit report\n",
            "Parsed by mw1364\n",
            "Cached time: 20240527001130\n",
            "Cache expiry: 3600\n",
            "Reduced expiry: true\n",
            "Complications: [no‐toc]\n",
            "DiscussionTools time usage: 0.021 seconds\n",
            "CPU time usage: 0.231 seconds\n",
            "Real time usage: 0.298 seconds\n",
            "Preprocessor visited node count: 4841/1000000\n",
            "Post‐expand include size: 65591/2097152 bytes\n",
            "Template argument size: 25878/2097152 bytes\n",
            "Highest expansion depth: 21/100\n",
            "Expensive parser function count: 0/500\n",
            "Unstrip recursion depth: 0/20\n",
            "Unstrip post‐expand size: 21451/5000000 bytes\n",
            "Lua time usage: 0.009/10.000 seconds\n",
            "Lua memory usage: 941680/52428800 bytes\n",
            "Number of Wikibase entities loaded: 0/400\n",
            "-->\n",
            "<!--\n",
            "Transclusion expansion time report (%,ms,calls,template)\n",
            "100.00%  163.309      1 -total\n",
            " 83.86%  136.952      7 Plantilla:Portada:Sección\n",
            " 22.24%   36.328      4 Plantilla:Portada:Destacado\n",
            " 15.28%   24.957      5 Plantilla:Portada:Destacado/D\n",
            " 14.58%   23.808     14 Plantilla:Título_sin_coletilla\n",
            " 14.57%   23.788      1 Plantilla:Portada:Encabezado/OOUI\n",
            " 13.89%   22.677      5 Plantilla:Portada:Resumen\n",
            " 11.78%   19.230      1 Plantilla:Portada:Portales_II\n",
            " 11.19%   18.280      5 Plantilla:ABDD\n",
            " 10.27%   16.764      8 Plantilla:PortalIconos\n",
            "-->\n",
            "\n",
            "<!-- Saved in parser cache with key eswiki:pcache:idhash:2271189-0!canonical and timestamp 20240527001130 and revision id 149134229. Rendering was triggered because: page-view\n",
            " -->\n",
            "</div><!--esi <esi:include src=\"/esitest-fa8a495983347898/content\" /> --><noscript><img src=\"https://login.wikimedia.org/wiki/Special:CentralAutoLogin/start?type=1x1\" alt=\"\" width=\"1\" height=\"1\" style=\"border: none; position: absolute;\"></noscript>\n",
            "<div class=\"printfooter\" data-nosnippet=\"\">Obtenido de «<a dir=\"ltr\" href=\"https://es.wikipedia.org/w/index.php?title=Wikipedia:Portada&amp;oldid=149134229\">https://es.wikipedia.org/w/index.php?title=Wikipedia:Portada&amp;oldid=149134229</a>»</div></div>\n",
            "\t\t\t\t\t<div id=\"catlinks\" class=\"catlinks catlinks-allhidden\" data-mw=\"interface\"></div>\n",
            "\t\t\t\t\t\t\n",
            "<div id=\"p-lang-btn\" class=\"vector-dropdown mw-portlet mw-portlet-lang\"  >\n",
            "\t<input type=\"checkbox\" id=\"p-lang-btn-checkbox\" role=\"button\" aria-haspopup=\"true\" data-event-name=\"ui.dropdown-p-lang-btn\" class=\"vector-dropdown-checkbox mw-interlanguage-selector\" aria-label=\"Ir a un artículo en otro idioma. Disponible en 62 idiomas\"   >\n",
            "\t<label id=\"p-lang-btn-label\" for=\"p-lang-btn-checkbox\" class=\"vector-dropdown-label cdx-button cdx-button--fake-button cdx-button--fake-button--enabled cdx-button--weight-quiet cdx-button--action-progressive mw-portlet-lang-heading-62\" aria-hidden=\"true\"  ><span class=\"vector-icon mw-ui-icon-language-progressive mw-ui-icon-wikimedia-language-progressive\"></span>\n",
            "\n",
            "<span class=\"vector-dropdown-label-text\">62 idiomas</span>\n",
            "\t</label>\n",
            "\t<div class=\"vector-dropdown-content\">\n",
            "\n",
            "\t\t<div class=\"vector-menu-content\">\n",
            "\t\t\t\n",
            "\t\t\t<ul class=\"vector-menu-content-list\">\n",
            "\t\t\t\t\n",
            "\t\t\t\t<li class=\"interlanguage-link interwiki-an mw-list-item\"><a href=\"https://an.wikipedia.org/wiki/\" title=\"aragonés\" lang=\"an\" hreflang=\"an\" class=\"interlanguage-link-target\"><span>Aragonés</span></a></li><li class=\"interlanguage-link interwiki-ar mw-list-item\"><a href=\"https://ar.wikipedia.org/wiki/\" title=\"árabe\" lang=\"ar\" hreflang=\"ar\" class=\"interlanguage-link-target\"><span>العربية</span></a></li><li class=\"interlanguage-link interwiki-ast mw-list-item\"><a href=\"https://ast.wikipedia.org/wiki/\" title=\"asturiano\" lang=\"ast\" hreflang=\"ast\" class=\"interlanguage-link-target\"><span>Asturianu</span></a></li><li class=\"interlanguage-link interwiki-ay mw-list-item\"><a href=\"https://ay.wikipedia.org/wiki/\" title=\"aimara\" lang=\"ay\" hreflang=\"ay\" class=\"interlanguage-link-target\"><span>Aymar aru</span></a></li><li class=\"interlanguage-link interwiki-bg mw-list-item\"><a href=\"https://bg.wikipedia.org/wiki/\" title=\"búlgaro\" lang=\"bg\" hreflang=\"bg\" class=\"interlanguage-link-target\"><span>Български</span></a></li><li class=\"interlanguage-link interwiki-bpy mw-list-item\"><a href=\"https://bpy.wikipedia.org/wiki/\" title=\"Bishnupriya\" lang=\"bpy\" hreflang=\"bpy\" class=\"interlanguage-link-target\"><span>বিষ্ণুপ্রিয়া মণিপুরী</span></a></li><li class=\"interlanguage-link interwiki-bs mw-list-item\"><a href=\"https://bs.wikipedia.org/wiki/\" title=\"bosnio\" lang=\"bs\" hreflang=\"bs\" class=\"interlanguage-link-target\"><span>Bosanski</span></a></li><li class=\"interlanguage-link interwiki-ca mw-list-item\"><a href=\"https://ca.wikipedia.org/wiki/\" title=\"catalán\" lang=\"ca\" hreflang=\"ca\" class=\"interlanguage-link-target\"><span>Català</span></a></li><li class=\"interlanguage-link interwiki-cbk-zam mw-list-item\"><a href=\"https://cbk-zam.wikipedia.org/wiki/\" title=\"Chavacano\" lang=\"cbk\" hreflang=\"cbk\" class=\"interlanguage-link-target\"><span>Chavacano de Zamboanga</span></a></li><li class=\"interlanguage-link interwiki-ceb mw-list-item\"><a href=\"https://ceb.wikipedia.org/wiki/\" title=\"cebuano\" lang=\"ceb\" hreflang=\"ceb\" class=\"interlanguage-link-target\"><span>Cebuano</span></a></li><li class=\"interlanguage-link interwiki-ch mw-list-item\"><a href=\"https://ch.wikipedia.org/wiki/\" title=\"chamorro\" lang=\"ch\" hreflang=\"ch\" class=\"interlanguage-link-target\"><span>Chamoru</span></a></li><li class=\"interlanguage-link interwiki-cs mw-list-item\"><a href=\"https://cs.wikipedia.org/wiki/\" title=\"checo\" lang=\"cs\" hreflang=\"cs\" class=\"interlanguage-link-target\"><span>Čeština</span></a></li><li class=\"interlanguage-link interwiki-da mw-list-item\"><a href=\"https://da.wikipedia.org/wiki/\" title=\"danés\" lang=\"da\" hreflang=\"da\" class=\"interlanguage-link-target\"><span>Dansk</span></a></li><li class=\"interlanguage-link interwiki-de mw-list-item\"><a href=\"https://de.wikipedia.org/wiki/\" title=\"alemán\" lang=\"de\" hreflang=\"de\" class=\"interlanguage-link-target\"><span>Deutsch</span></a></li><li class=\"interlanguage-link interwiki-el mw-list-item\"><a href=\"https://el.wikipedia.org/wiki/\" title=\"griego\" lang=\"el\" hreflang=\"el\" class=\"interlanguage-link-target\"><span>Ελληνικά</span></a></li><li class=\"interlanguage-link interwiki-en mw-list-item\"><a href=\"https://en.wikipedia.org/wiki/\" title=\"inglés\" lang=\"en\" hreflang=\"en\" class=\"interlanguage-link-target\"><span>English</span></a></li><li class=\"interlanguage-link interwiki-eo mw-list-item\"><a href=\"https://eo.wikipedia.org/wiki/\" title=\"esperanto\" lang=\"eo\" hreflang=\"eo\" class=\"interlanguage-link-target\"><span>Esperanto</span></a></li><li class=\"interlanguage-link interwiki-et mw-list-item\"><a href=\"https://et.wikipedia.org/wiki/\" title=\"estonio\" lang=\"et\" hreflang=\"et\" class=\"interlanguage-link-target\"><span>Eesti</span></a></li><li class=\"interlanguage-link interwiki-eu mw-list-item\"><a href=\"https://eu.wikipedia.org/wiki/\" title=\"euskera\" lang=\"eu\" hreflang=\"eu\" class=\"interlanguage-link-target\"><span>Euskara</span></a></li><li class=\"interlanguage-link interwiki-ext mw-list-item\"><a href=\"https://ext.wikipedia.org/wiki/\" title=\"Extremaduran\" lang=\"ext\" hreflang=\"ext\" class=\"interlanguage-link-target\"><span>Estremeñu</span></a></li><li class=\"interlanguage-link interwiki-fa mw-list-item\"><a href=\"https://fa.wikipedia.org/wiki/\" title=\"persa\" lang=\"fa\" hreflang=\"fa\" class=\"interlanguage-link-target\"><span>فارسی</span></a></li><li class=\"interlanguage-link interwiki-fi mw-list-item\"><a href=\"https://fi.wikipedia.org/wiki/\" title=\"finés\" lang=\"fi\" hreflang=\"fi\" class=\"interlanguage-link-target\"><span>Suomi</span></a></li><li class=\"interlanguage-link interwiki-fr mw-list-item\"><a href=\"https://fr.wikipedia.org/wiki/\" title=\"francés\" lang=\"fr\" hreflang=\"fr\" class=\"interlanguage-link-target\"><span>Français</span></a></li><li class=\"interlanguage-link interwiki-gl mw-list-item\"><a href=\"https://gl.wikipedia.org/wiki/\" title=\"gallego\" lang=\"gl\" hreflang=\"gl\" class=\"interlanguage-link-target\"><span>Galego</span></a></li><li class=\"interlanguage-link interwiki-gn mw-list-item\"><a href=\"https://gn.wikipedia.org/wiki/\" title=\"guaraní\" lang=\"gn\" hreflang=\"gn\" class=\"interlanguage-link-target\"><span>Avañe'ẽ</span></a></li><li class=\"interlanguage-link interwiki-he mw-list-item\"><a href=\"https://he.wikipedia.org/wiki/\" title=\"hebreo\" lang=\"he\" hreflang=\"he\" class=\"interlanguage-link-target\"><span>עברית</span></a></li><li class=\"interlanguage-link interwiki-hr mw-list-item\"><a href=\"https://hr.wikipedia.org/wiki/\" title=\"croata\" lang=\"hr\" hreflang=\"hr\" class=\"interlanguage-link-target\"><span>Hrvatski</span></a></li><li class=\"interlanguage-link interwiki-hu mw-list-item\"><a href=\"https://hu.wikipedia.org/wiki/\" title=\"húngaro\" lang=\"hu\" hreflang=\"hu\" class=\"interlanguage-link-target\"><span>Magyar</span></a></li><li class=\"interlanguage-link interwiki-id mw-list-item\"><a href=\"https://id.wikipedia.org/wiki/\" title=\"indonesio\" lang=\"id\" hreflang=\"id\" class=\"interlanguage-link-target\"><span>Bahasa Indonesia</span></a></li><li class=\"interlanguage-link interwiki-it mw-list-item\"><a href=\"https://it.wikipedia.org/wiki/\" title=\"italiano\" lang=\"it\" hreflang=\"it\" class=\"interlanguage-link-target\"><span>Italiano</span></a></li><li class=\"interlanguage-link interwiki-ja mw-list-item\"><a href=\"https://ja.wikipedia.org/wiki/\" title=\"japonés\" lang=\"ja\" hreflang=\"ja\" class=\"interlanguage-link-target\"><span>日本語</span></a></li><li class=\"interlanguage-link interwiki-ko mw-list-item\"><a href=\"https://ko.wikipedia.org/wiki/\" title=\"coreano\" lang=\"ko\" hreflang=\"ko\" class=\"interlanguage-link-target\"><span>한국어</span></a></li><li class=\"interlanguage-link interwiki-la mw-list-item\"><a href=\"https://la.wikipedia.org/wiki/\" title=\"latín\" lang=\"la\" hreflang=\"la\" class=\"interlanguage-link-target\"><span>Latina</span></a></li><li class=\"interlanguage-link interwiki-lad mw-list-item\"><a href=\"https://lad.wikipedia.org/wiki/\" title=\"ladino\" lang=\"lad\" hreflang=\"lad\" class=\"interlanguage-link-target\"><span>Ladino</span></a></li><li class=\"interlanguage-link interwiki-lmo mw-list-item\"><a href=\"https://lmo.wikipedia.org/wiki/\" title=\"lombardo\" lang=\"lmo\" hreflang=\"lmo\" class=\"interlanguage-link-target\"><span>Lombard</span></a></li><li class=\"interlanguage-link interwiki-lt mw-list-item\"><a href=\"https://lt.wikipedia.org/wiki/\" title=\"lituano\" lang=\"lt\" hreflang=\"lt\" class=\"interlanguage-link-target\"><span>Lietuvių</span></a></li><li class=\"interlanguage-link interwiki-ms mw-list-item\"><a href=\"https://ms.wikipedia.org/wiki/\" title=\"malayo\" lang=\"ms\" hreflang=\"ms\" class=\"interlanguage-link-target\"><span>Bahasa Melayu</span></a></li><li class=\"interlanguage-link interwiki-mwl mw-list-item\"><a href=\"https://mwl.wikipedia.org/wiki/\" title=\"mirandés\" lang=\"mwl\" hreflang=\"mwl\" class=\"interlanguage-link-target\"><span>Mirandés</span></a></li><li class=\"interlanguage-link interwiki-nah mw-list-item\"><a href=\"https://nah.wikipedia.org/wiki/\" title=\"Nāhuatl\" lang=\"nah\" hreflang=\"nah\" class=\"interlanguage-link-target\"><span>Nāhuatl</span></a></li><li class=\"interlanguage-link interwiki-new mw-list-item\"><a href=\"https://new.wikipedia.org/wiki/\" title=\"nevarí\" lang=\"new\" hreflang=\"new\" class=\"interlanguage-link-target\"><span>नेपाल भाषा</span></a></li><li class=\"interlanguage-link interwiki-nl mw-list-item\"><a href=\"https://nl.wikipedia.org/wiki/\" title=\"neerlandés\" lang=\"nl\" hreflang=\"nl\" class=\"interlanguage-link-target\"><span>Nederlands</span></a></li><li class=\"interlanguage-link interwiki-nn mw-list-item\"><a href=\"https://nn.wikipedia.org/wiki/\" title=\"noruego nynorsk\" lang=\"nn\" hreflang=\"nn\" class=\"interlanguage-link-target\"><span>Norsk nynorsk</span></a></li><li class=\"interlanguage-link interwiki-no mw-list-item\"><a href=\"https://no.wikipedia.org/wiki/\" title=\"noruego bokmal\" lang=\"nb\" hreflang=\"nb\" class=\"interlanguage-link-target\"><span>Norsk bokmål</span></a></li><li class=\"interlanguage-link interwiki-oc mw-list-item\"><a href=\"https://oc.wikipedia.org/wiki/\" title=\"occitano\" lang=\"oc\" hreflang=\"oc\" class=\"interlanguage-link-target\"><span>Occitan</span></a></li><li class=\"interlanguage-link interwiki-pap mw-list-item\"><a href=\"https://pap.wikipedia.org/wiki/\" title=\"papiamento\" lang=\"pap\" hreflang=\"pap\" class=\"interlanguage-link-target\"><span>Papiamentu</span></a></li><li class=\"interlanguage-link interwiki-pl mw-list-item\"><a href=\"https://pl.wikipedia.org/wiki/\" title=\"polaco\" lang=\"pl\" hreflang=\"pl\" class=\"interlanguage-link-target\"><span>Polski</span></a></li><li class=\"interlanguage-link interwiki-pt mw-list-item\"><a href=\"https://pt.wikipedia.org/wiki/\" title=\"portugués\" lang=\"pt\" hreflang=\"pt\" class=\"interlanguage-link-target\"><span>Português</span></a></li><li class=\"interlanguage-link interwiki-qu mw-list-item\"><a href=\"https://qu.wikipedia.org/wiki/\" title=\"quechua\" lang=\"qu\" hreflang=\"qu\" class=\"interlanguage-link-target\"><span>Runa Simi</span></a></li><li class=\"interlanguage-link interwiki-ro mw-list-item\"><a href=\"https://ro.wikipedia.org/wiki/\" title=\"rumano\" lang=\"ro\" hreflang=\"ro\" class=\"interlanguage-link-target\"><span>Română</span></a></li><li class=\"interlanguage-link interwiki-ru mw-list-item\"><a href=\"https://ru.wikipedia.org/wiki/\" title=\"ruso\" lang=\"ru\" hreflang=\"ru\" class=\"interlanguage-link-target\"><span>Русский</span></a></li><li class=\"interlanguage-link interwiki-simple mw-list-item\"><a href=\"https://simple.wikipedia.org/wiki/\" title=\"Simple English\" lang=\"en-simple\" hreflang=\"en-simple\" class=\"interlanguage-link-target\"><span>Simple English</span></a></li><li class=\"interlanguage-link interwiki-sk mw-list-item\"><a href=\"https://sk.wikipedia.org/wiki/\" title=\"eslovaco\" lang=\"sk\" hreflang=\"sk\" class=\"interlanguage-link-target\"><span>Slovenčina</span></a></li><li class=\"interlanguage-link interwiki-sl mw-list-item\"><a href=\"https://sl.wikipedia.org/wiki/\" title=\"esloveno\" lang=\"sl\" hreflang=\"sl\" class=\"interlanguage-link-target\"><span>Slovenščina</span></a></li><li class=\"interlanguage-link interwiki-sr mw-list-item\"><a href=\"https://sr.wikipedia.org/wiki/\" title=\"serbio\" lang=\"sr\" hreflang=\"sr\" class=\"interlanguage-link-target\"><span>Српски / srpski</span></a></li><li class=\"interlanguage-link interwiki-sv mw-list-item\"><a href=\"https://sv.wikipedia.org/wiki/\" title=\"sueco\" lang=\"sv\" hreflang=\"sv\" class=\"interlanguage-link-target\"><span>Svenska</span></a></li><li class=\"interlanguage-link interwiki-te mw-list-item\"><a href=\"https://te.wikipedia.org/wiki/\" title=\"telugu\" lang=\"te\" hreflang=\"te\" class=\"interlanguage-link-target\"><span>తెలుగు</span></a></li><li class=\"interlanguage-link interwiki-th mw-list-item\"><a href=\"https://th.wikipedia.org/wiki/\" title=\"tailandés\" lang=\"th\" hreflang=\"th\" class=\"interlanguage-link-target\"><span>ไทย</span></a></li><li class=\"interlanguage-link interwiki-tl mw-list-item\"><a href=\"https://tl.wikipedia.org/wiki/\" title=\"tagalo\" lang=\"tl\" hreflang=\"tl\" class=\"interlanguage-link-target\"><span>Tagalog</span></a></li><li class=\"interlanguage-link interwiki-tr mw-list-item\"><a href=\"https://tr.wikipedia.org/wiki/\" title=\"turco\" lang=\"tr\" hreflang=\"tr\" class=\"interlanguage-link-target\"><span>Türkçe</span></a></li><li class=\"interlanguage-link interwiki-uk mw-list-item\"><a href=\"https://uk.wikipedia.org/wiki/\" title=\"ucraniano\" lang=\"uk\" hreflang=\"uk\" class=\"interlanguage-link-target\"><span>Українська</span></a></li><li class=\"interlanguage-link interwiki-vi mw-list-item\"><a href=\"https://vi.wikipedia.org/wiki/\" title=\"vietnamita\" lang=\"vi\" hreflang=\"vi\" class=\"interlanguage-link-target\"><span>Tiếng Việt</span></a></li><li class=\"interlanguage-link interwiki-zh mw-list-item\"><a href=\"https://zh.wikipedia.org/wiki/\" title=\"chino\" lang=\"zh\" hreflang=\"zh\" class=\"interlanguage-link-target\"><span>中文</span></a></li>\n",
            "\t\t\t</ul>\n",
            "\t\t\t\n",
            "\t\t</div>\n",
            "\n",
            "\t</div>\n",
            "</div>\n",
            "\n",
            "\t\t\t\t</div>\n",
            "\t\t\t</main>\n",
            "\t\t\t\n",
            "\t\t</div>\n",
            "\t\t<div class=\"mw-footer-container\">\n",
            "\t\t\t\n",
            "<footer id=\"footer\" class=\"mw-footer\" role=\"contentinfo\" >\n",
            "\t<ul id=\"footer-info\">\n",
            "\t<li id=\"footer-info-lastmod\"> Esta página se editó por última vez el 8 feb 2023 a las 00:22.</li>\n",
            "\t<li id=\"footer-info-copyright\">El texto está disponible bajo la <a rel=\"license\" href=\"https://es.wikipedia.org/wiki/Wikipedia:Texto_de_la_Licencia_Creative_Commons_Atribuci%C3%B3n-CompartirIgual_4.0_Internacional\">Licencia Creative Commons Atribución-CompartirIgual 4.0</a><a rel=\"license\" href=\"https://creativecommons.org/licenses/by-sa/4.0/deed.es\" style=\"display:none;\"></a>; pueden aplicarse cláusulas adicionales. Al usar este sitio aceptas nuestros <a href=\"https://foundation.wikimedia.org/wiki/Policy:Terms_of_Use/es\">términos de uso</a> y nuestra <a href=\"https://foundation.wikimedia.org/wiki/Policy:Privacy_policy/es\">política de privacidad</a>.<br/>Wikipedia&reg; es una marca registrada de la <a href=\"https://wikimediafoundation.org/es/\">Fundación Wikimedia</a>, una organización sin ánimo de lucro.</li>\n",
            "</ul>\n",
            "\n",
            "\t<ul id=\"footer-places\">\n",
            "\t<li id=\"footer-places-privacy\"><a href=\"https://foundation.wikimedia.org/wiki/Special:MyLanguage/Policy:Privacy_policy/es\">Política de privacidad</a></li>\n",
            "\t<li id=\"footer-places-about\"><a href=\"/wiki/Wikipedia:Acerca_de\">Acerca de Wikipedia</a></li>\n",
            "\t<li id=\"footer-places-disclaimers\"><a href=\"/wiki/Wikipedia:Limitaci%C3%B3n_general_de_responsabilidad\">Limitación de responsabilidad</a></li>\n",
            "\t<li id=\"footer-places-wm-codeofconduct\"><a href=\"https://foundation.wikimedia.org/wiki/Special:MyLanguage/Policy:Universal_Code_of_Conduct\">Código de conducta</a></li>\n",
            "\t<li id=\"footer-places-developers\"><a href=\"https://developer.wikimedia.org\">Desarrolladores</a></li>\n",
            "\t<li id=\"footer-places-statslink\"><a href=\"https://stats.wikimedia.org/#/es.wikipedia.org\">Estadísticas</a></li>\n",
            "\t<li id=\"footer-places-cookiestatement\"><a href=\"https://foundation.wikimedia.org/wiki/Special:MyLanguage/Policy:Cookie_statement/es\">Declaración de cookies</a></li>\n",
            "\t<li id=\"footer-places-mobileview\"><a href=\"//es.m.wikipedia.org/w/index.php?title=Wikipedia:Portada&amp;mobileaction=toggle_view_mobile\" class=\"noprint stopMobileRedirectToggle\">Versión para móviles</a></li>\n",
            "</ul>\n",
            "\n",
            "\t<ul id=\"footer-icons\" class=\"noprint\">\n",
            "\t<li id=\"footer-copyrightico\"><a href=\"https://wikimediafoundation.org/\"><img src=\"/static/images/footer/wikimedia-button.png\" srcset=\"/static/images/footer/wikimedia-button-1.5x.png 1.5x, /static/images/footer/wikimedia-button-2x.png 2x\" width=\"88\" height=\"31\" alt=\"Wikimedia Foundation\" loading=\"lazy\" /></a></li>\n",
            "\t<li id=\"footer-poweredbyico\"><a href=\"https://www.mediawiki.org/\"><img src=\"/static/images/footer/poweredby_mediawiki_88x31.png\" alt=\"Powered by MediaWiki\" srcset=\"/static/images/footer/poweredby_mediawiki_132x47.png 1.5x, /static/images/footer/poweredby_mediawiki_176x62.png 2x\" width=\"88\" height=\"31\" loading=\"lazy\"></a></li>\n",
            "</ul>\n",
            "\n",
            "</footer>\n",
            "\n",
            "\t\t</div>\n",
            "\t</div> \n",
            "</div> \n",
            "<div class=\"vector-settings\" id=\"p-dock-bottom\">\n",
            "\t<ul>\n",
            "\t\t<li>\n",
            "\t\t</li>\n",
            "\t</ul>\n",
            "</div>\n",
            "<script>(RLQ=window.RLQ||[]).push(function(){mw.log.warn(\"This page is using the deprecated ResourceLoader module \\\"mediawiki.ui.button\\\".\\n[1.41] Please use Codex. See migration guidelines: https://www.mediawiki.org/wiki/Codex/Migrating_from_MediaWiki_UI\");mw.config.set({\"wgHostname\":\"mw-web.eqiad.main-5b6c8cbc9d-c5z8x\",\"wgBackendResponseTime\":116,\"wgDiscussionToolsPageThreads\":[{\"headingLevel\":1,\"name\":\"h-\",\"type\":\"heading\",\"level\":0,\"id\":\"h-Bienvenidos_a_Wikipedia,\",\"replies\":[{\"headingLevel\":2,\"name\":\"h-\",\"type\":\"heading\",\"level\":0,\"id\":\"h-A_Thousand_Suns-Bienvenidos_a_Wikipedia,\",\"replies\":[]},{\"headingLevel\":2,\"name\":\"h-\",\"type\":\"heading\",\"level\":0,\"id\":\"h-Racismo_en_Quebec-Bienvenidos_a_Wikipedia,\",\"replies\":[]},{\"headingLevel\":2,\"name\":\"h-\",\"type\":\"heading\",\"level\":0,\"id\":\"h-Recurso_del_día-Bienvenidos_a_Wikipedia,\",\"replies\":[]},{\"headingLevel\":2,\"name\":\"h-\",\"type\":\"heading\",\"level\":0,\"id\":\"h-Portales-Bienvenidos_a_Wikipedia,\",\"replies\":[]},{\"headingLevel\":2,\"name\":\"h-\",\"type\":\"heading\",\"level\":0,\"id\":\"h-Actualidad-Bienvenidos_a_Wikipedia,\",\"replies\":[]},{\"headingLevel\":2,\"name\":\"h-\",\"type\":\"heading\",\"level\":0,\"id\":\"h-27_de_mayo-Bienvenidos_a_Wikipedia,\",\"replies\":[]},{\"headingLevel\":2,\"name\":\"h-\",\"type\":\"heading\",\"level\":0,\"id\":\"h-Otros_proyectos_de_la_Fundación_Wikimedia-Bienvenidos_a_Wikipedia,\",\"replies\":[]}]}],\"wgPageParseReport\":{\"discussiontools\":{\"limitreport-timeusage\":\"0.021\"},\"limitreport\":{\"cputime\":\"0.231\",\"walltime\":\"0.298\",\"ppvisitednodes\":{\"value\":4841,\"limit\":1000000},\"postexpandincludesize\":{\"value\":65591,\"limit\":2097152},\"templateargumentsize\":{\"value\":25878,\"limit\":2097152},\"expansiondepth\":{\"value\":21,\"limit\":100},\"expensivefunctioncount\":{\"value\":0,\"limit\":500},\"unstrip-depth\":{\"value\":0,\"limit\":20},\"unstrip-size\":{\"value\":21451,\"limit\":5000000},\"entityaccesscount\":{\"value\":0,\"limit\":400},\"timingprofile\":[\"100.00%  163.309      1 -total\",\" 83.86%  136.952      7 Plantilla:Portada:Sección\",\" 22.24%   36.328      4 Plantilla:Portada:Destacado\",\" 15.28%   24.957      5 Plantilla:Portada:Destacado/D\",\" 14.58%   23.808     14 Plantilla:Título_sin_coletilla\",\" 14.57%   23.788      1 Plantilla:Portada:Encabezado/OOUI\",\" 13.89%   22.677      5 Plantilla:Portada:Resumen\",\" 11.78%   19.230      1 Plantilla:Portada:Portales_II\",\" 11.19%   18.280      5 Plantilla:ABDD\",\" 10.27%   16.764      8 Plantilla:PortalIconos\"]},\"scribunto\":{\"limitreport-timeusage\":{\"value\":\"0.009\",\"limit\":\"10.000\"},\"limitreport-memusage\":{\"value\":941680,\"limit\":52428800}},\"cachereport\":{\"origin\":\"mw1364\",\"timestamp\":\"20240527001130\",\"ttl\":3600,\"transientcontent\":true}}});});</script>\n",
            "</body>\n",
            "</html>\n"
          ]
        }
      ],
      "source": [
        "print(respuesta.text)"
      ]
    },
    {
      "cell_type": "markdown",
      "metadata": {
        "id": "N5XfnxQ0VYED"
      },
      "source": [
        "Dado que la decodificación de bytes a una cadena requiere un esquema de codificación, las peticiones intentarán adivinar la codificación basándose en las cabeceras de la respuesta si no se especifica una."
      ]
    },
    {
      "cell_type": "code",
      "source": [
        "print(respuesta.text)"
      ],
      "metadata": {
        "id": "fSJbpQ4cD4I8"
      },
      "execution_count": null,
      "outputs": []
    },
    {
      "cell_type": "markdown",
      "metadata": {
        "id": "L2KD0HdbVYED"
      },
      "source": [
        "**Headers (cabeceras)**\n",
        "Las headers pueden proporcionar información útil, como el tipo de contenido de la carga útil de la respuesta y un límite de tiempo para almacenar en caché la respuesta. Para ver estas cabeceras, acceda a `.headers`:"
      ]
    },
    {
      "cell_type": "code",
      "execution_count": null,
      "metadata": {
        "id": "NebrqKvNVYED",
        "colab": {
          "base_uri": "https://localhost:8080/"
        },
        "outputId": "c34ef33f-eb6d-4df5-ca50-e5ede1a5f683"
      },
      "outputs": [
        {
          "output_type": "execute_result",
          "data": {
            "text/plain": [
              "{'date': 'Mon, 27 May 2024 00:12:12 GMT', 'server': 'mw-web.eqiad.main-5b6c8cbc9d-c5z8x', 'x-content-type-options': 'nosniff', 'content-language': 'es', 'origin-trial': 'AonOP4SwCrqpb0nhZbg554z9iJimP3DxUDB8V4yu9fyyepauGKD0NXqTknWi4gnuDfMG6hNb7TDUDTsl0mDw9gIAAABmeyJvcmlnaW4iOiJodHRwczovL3dpa2lwZWRpYS5vcmc6NDQzIiwiZmVhdHVyZSI6IlRvcExldmVsVHBjZCIsImV4cGlyeSI6MTczNTM0Mzk5OSwiaXNTdWJkb21haW4iOnRydWV9', 'accept-ch': '', 'vary': 'Accept-Encoding,Cookie,Authorization', 'last-modified': 'Mon, 27 May 2024 00:11:29 GMT', 'content-type': 'text/html; charset=UTF-8', 'content-encoding': 'gzip', 'age': '46921', 'x-cache': 'cp1102 miss, cp1102 hit/4958', 'x-cache-status': 'hit-front', 'server-timing': 'cache;desc=\"hit-front\", host;desc=\"cp1102\"', 'strict-transport-security': 'max-age=106384710; includeSubDomains; preload', 'report-to': '{ \"group\": \"wm_nel\", \"max_age\": 604800, \"endpoints\": [{ \"url\": \"https://intake-logging.wikimedia.org/v1/events?stream=w3c.reportingapi.network_error&schema_uri=/w3c/reportingapi/network_error/1.0.0\" }] }', 'nel': '{ \"report_to\": \"wm_nel\", \"max_age\": 604800, \"failure_fraction\": 0.05, \"success_fraction\": 0.0}', 'x-client-ip': '35.245.122.90', 'cache-control': 'private, s-maxage=0, max-age=0, must-revalidate', 'set-cookie': 'NetworkProbeLimit=0.001;Path=/;Secure;Max-Age=3600', 'accept-ranges': 'bytes', 'content-length': '22202'}"
            ]
          },
          "metadata": {},
          "execution_count": 56
        }
      ],
      "source": [
        "respuesta.headers"
      ]
    },
    {
      "cell_type": "code",
      "source": [
        "print(type(respuesta.headers))\n",
        "print(respuesta.headers['date'])\n",
        "print(respuesta.headers['DATE'])"
      ],
      "metadata": {
        "id": "7nqH5T6CEeSR",
        "colab": {
          "base_uri": "https://localhost:8080/"
        },
        "outputId": "7a36de49-60a2-4551-8aac-46748dd31400"
      },
      "execution_count": null,
      "outputs": [
        {
          "output_type": "stream",
          "name": "stdout",
          "text": [
            "<class 'requests.structures.CaseInsensitiveDict'>\n",
            "Mon, 27 May 2024 00:12:12 GMT\n",
            "Mon, 27 May 2024 00:12:12 GMT\n"
          ]
        }
      ]
    },
    {
      "cell_type": "markdown",
      "metadata": {
        "id": "sFrHsWP0VYED"
      },
      "source": [
        "`.headers` devuelve un objeto similar a un diccionario, que permite acceder a los valores de las cabeceras por su clave. Por ejemplo, para ver el tipo de contenido de la carga útil de la respuesta, puede acceder a Content-Type:"
      ]
    },
    {
      "cell_type": "code",
      "execution_count": null,
      "metadata": {
        "id": "ycFw21QYVYED",
        "colab": {
          "base_uri": "https://localhost:8080/",
          "height": 55
        },
        "outputId": "38ff7fbc-bc8d-46a4-bddd-3f3915ed7e84"
      },
      "outputs": [
        {
          "output_type": "execute_result",
          "data": {
            "text/plain": [
              "'text/html; charset=UTF-8'"
            ],
            "application/vnd.google.colaboratory.intrinsic+json": {
              "type": "string"
            }
          },
          "metadata": {},
          "execution_count": 60
        }
      ],
      "source": [
        "respuesta.headers['Content-Type']"
      ]
    },
    {
      "cell_type": "markdown",
      "metadata": {
        "id": "6V49iZmCVYED"
      },
      "source": [
        "Sin embargo, hay algo especial en este objeto de cabecera tipo diccionario. La especificación HTTP define que las cabeceras no distinguen entre mayúsculas y minúsculas, lo que significa que podemos acceder a estas cabeceras sin preocuparnos por sus mayúsculas:"
      ]
    },
    {
      "cell_type": "code",
      "execution_count": null,
      "metadata": {
        "id": "FiQKNM0wVYED",
        "colab": {
          "base_uri": "https://localhost:8080/",
          "height": 55
        },
        "outputId": "db4cf23c-cc56-43a7-a0a8-b82a0685ebdc"
      },
      "outputs": [
        {
          "output_type": "execute_result",
          "data": {
            "text/plain": [
              "'text/html; charset=UTF-8'"
            ],
            "application/vnd.google.colaboratory.intrinsic+json": {
              "type": "string"
            }
          },
          "metadata": {},
          "execution_count": 61
        }
      ],
      "source": [
        "respuesta.headers['content-type']"
      ]
    },
    {
      "cell_type": "markdown",
      "metadata": {
        "id": "3BBNYcz9VYED"
      },
      "source": [
        "Tanto si utilizamos la clave `'content-type'` como `'Content-Type'`, obtendremos el mismo valor."
      ]
    },
    {
      "cell_type": "markdown",
      "source": [
        "## 6. Ejemplo: contando las vocales de un sitio\n",
        "\n",
        "Haremos un script que solicita el nombre de un sitio y  si el sitio existe cuenta cuantas ocurrencias tiene cada vocal no acentuada. Además el script devuelve un código. Si el sitio existe y está accesible el código devuelto es `200`. Si el sitio no existe o está caido u otro problema, devuelve el código del problema.\n",
        "\n",
        "Escribimos el escript completo y luego ingresemos tres sitios para ver como funciona: primero `https://wikipedia.org`,  que es un nombre válido, luego `wikipedia.org`, que no es válido y finalmente `https://wikipedia.arg`,  que tampoco es válido."
      ],
      "metadata": {
        "id": "PAnh7bmom8XT"
      }
    },
    {
      "cell_type": "code",
      "source": [
        "import requests\n",
        "\n",
        "def solicitar_nombre_del_sitio():\n",
        "    \"\"\"\n",
        "    Solicita el nombre de un sitio web\n",
        "    \"\"\"\n",
        "    nombre_sitio = input(\"Ingrese un sitio web: \").strip()\n",
        "    return nombre_sitio\n",
        "\n",
        "\n",
        "def contar_vocales(sitio):\n",
        "    \"\"\"\n",
        "    pre: sitio es un nómbre de un sitio web (debe incluir http o https en su nombre)\n",
        "    post: devuelve la ocurrencia de cada vocal no acentuada\n",
        "    \"\"\"\n",
        "    contador = {'a' : 0, 'e' : 0, 'i' : 0, 'o' : 0, 'u' : 0}\n",
        "    try :\n",
        "        response = requests.get(sitio)\n",
        "        status_code = response.status_code\n",
        "    except requests.exceptions.RequestException as e:\n",
        "        print(e) # imprime en la terminal el error que se produjo\n",
        "        status_code = 550\n",
        "    if status_code == 200:\n",
        "        texto_sitio = response.text.lower()\n",
        "        for letra in texto_sitio:\n",
        "            if letra in contador.keys():\n",
        "                contador[letra] += 1\n",
        "    return contador, status_code\n",
        "\n",
        "\n",
        "def main():\n",
        "    sitio = solicitar_nombre_del_sitio()\n",
        "    # probar con https://wikipedia.org, wikipedia.org y https://wikipedia.arg\n",
        "    vocales, status_code = contar_vocales(sitio)\n",
        "    print(vocales)\n",
        "    print(status_code)\n",
        "\n",
        "if __name__ == \"__main__\":\n",
        "    main()"
      ],
      "metadata": {
        "id": "Ba2xhmiYoEhp",
        "colab": {
          "base_uri": "https://localhost:8080/"
        },
        "outputId": "15197694-cbf8-4238-9dda-817dabeb7f02"
      },
      "execution_count": null,
      "outputs": [
        {
          "output_type": "stream",
          "name": "stdout",
          "text": [
            "Ingrese un sitio web: wikipedia.org\n",
            "Invalid URL 'wikipedia.org': No scheme supplied. Perhaps you meant https://wikipedia.org?\n",
            "{'a': 0, 'e': 0, 'i': 0, 'o': 0, 'u': 0}\n",
            "550\n"
          ]
        }
      ]
    },
    {
      "cell_type": "markdown",
      "source": [
        "El código que devuelve en la segunda coordenada la  función `contar_vocales()` nos permite saber que ocurrió cuando se quizo acceder al sitio y nos permite saber que el resultado es válido si y solo si  ese código  es `200`."
      ],
      "metadata": {
        "id": "I8q--NTVtjJp"
      }
    }
  ],
  "metadata": {
    "colab": {
      "provenance": []
    },
    "interpreter": {
      "hash": "df45a1d593e760cb2f2d0116876d0d9854c557dc207c92c5b1e029045d5f17a5"
    },
    "kernelspec": {
      "display_name": "Python 3.9.6 64-bit",
      "language": "python",
      "name": "python3"
    },
    "language_info": {
      "codemirror_mode": {
        "name": "ipython",
        "version": 3
      },
      "file_extension": ".py",
      "mimetype": "text/x-python",
      "name": "python",
      "nbconvert_exporter": "python",
      "pygments_lexer": "ipython3",
      "version": "3.9.6"
    }
  },
  "nbformat": 4,
  "nbformat_minor": 0
}