{
  "cells": [
    {
      "cell_type": "markdown",
      "metadata": {
        "id": "z2iU2o9C-OyY"
      },
      "source": [
        "## 3. Ciclos, tratamiento de fechas\n",
        "\n",
        "\n",
        "\n"
      ]
    },
    {
      "cell_type": "markdown",
      "metadata": {
        "id": "IBmUSBm8IqQt"
      },
      "source": [
        "### 1° Parte. Ciclos `while`"
      ]
    },
    {
      "cell_type": "markdown",
      "metadata": {
        "id": "EY7oQRCP-lSN"
      },
      "source": [
        "**Ejercicio 1.** Si se ingresa $7$ como dividendo y $3$ como divisor ¿cuántas veces se repite la ejecución del cuerpo del `while` en el programa siguiente? ¿Y si los números fueran $48$ y $9$?"
      ]
    },
    {
      "cell_type": "code",
      "execution_count": null,
      "metadata": {
        "id": "HtetmyBG-N9X"
      },
      "outputs": [],
      "source": [
        "def cociente(num, div: int) -> int:\n",
        "    \"\"\"\n",
        "    pre: num >= 0 and div >= 1\n",
        "    post: devuelve el cociente de la división de num por div\n",
        "    \"\"\"\n",
        "    coc, resto = 0, num\n",
        "    while div <= resto:\n",
        "        coc, resto = coc + 1, resto - div\n",
        "    return coc"
      ]
    },
    {
      "cell_type": "markdown",
      "metadata": {
        "id": "Rc50K-iz_uKH"
      },
      "source": [
        "**Respuesta:** para $7$ y $3$, dos veces, para $48$ y $9$ son $5$ veces."
      ]
    },
    {
      "cell_type": "markdown",
      "metadata": {
        "id": "zjFRkqQl_Jn3"
      },
      "source": [
        "**Ejercicio 2.** ¿Qué ocurre con la función `cociente()` del ejercicio 1 si `num` es negativo y `div` positivo? ¿Y si `num` es positivo y `div` negativo? ¿Y si ambos son negativos?\n"
      ]
    },
    {
      "cell_type": "markdown",
      "metadata": {
        "id": "E_XkMfX5_zfj"
      },
      "source": [
        "**Respuesta:** en el caso que `num` es negativo y `div` positivo, la condición del ciclo no se cumple nunca y por lo tanto se devuelve `0`.\n",
        "\n",
        "Si `num` es positivo y `div` negativo, se cumple en la primera iteración que `div <= num` y luego  romo se hace `resto = resto - div`,  el nuevo resto es más grande cada vez y por lo tanto el ciclo no termina.\n",
        "\n",
        "Si ambos son negativos y `div <= resto` el ciclo no termina porque `resto` va aumentando. Si `div > resto`,  devuelve  `0`."
      ]
    },
    {
      "cell_type": "markdown",
      "metadata": {
        "id": "zUpsbO1B_2YH"
      },
      "source": [
        "**Ejercicio 3.** Escribir en la siguiente celda de código la función `es_primo()` que determina si un número entero dado es primo o no."
      ]
    },
    {
      "cell_type": "markdown",
      "metadata": {
        "id": "MONMDLWReLBr"
      },
      "source": [
        "**Resouesta:** una forma de  comprobar que un número $n$ es primo es ver que para todo $d$ tal que $1 < d < n$, se cumple que $d$ no divide a $n$. La siguiente función implementa esta verificación.  "
      ]
    },
    {
      "cell_type": "code",
      "execution_count": 3,
      "metadata": {
        "id": "-XfXKi8IACj_"
      },
      "outputs": [],
      "source": [
        "# Solución\n",
        "def es_primo(n: int) -> bool:\n",
        "    \"\"\"\n",
        "    pre: type(n) == int y n > 0.\n",
        "    pos: Devuelve True si n es primo.\n",
        "    \"\"\"\n",
        "    assert (type(n) == int and n > 0), 'n debe ser un entero positivo'\n",
        "    primo = True\n",
        "    if n == 1:\n",
        "        primo = False\n",
        "    d = 2\n",
        "    while d < n:\n",
        "        if n % d == 0:\n",
        "            d = n\n",
        "            primo = False\n",
        "        else:\n",
        "            d = d + 1\n",
        "    return primo"
      ]
    },
    {
      "cell_type": "code",
      "execution_count": null,
      "metadata": {
        "id": "NOiBT81NhCXW"
      },
      "outputs": [],
      "source": [
        "# Pruebas\n",
        "print(es_primo(23)) # True\n",
        "print(es_primo(12)) # False\n",
        "print(es_primo(1)) # False\n",
        "print(es_primo(2)) # True\n",
        "print(es_primo(3)) # True\n",
        "print(es_primo(4)) # False\n",
        "print(es_primo(5)) # True\n",
        "print(es_primo(6)) # False"
      ]
    },
    {
      "cell_type": "markdown",
      "metadata": {
        "id": "8voA_M2NfVze"
      },
      "source": [
        "El programa anterior es correcto, pero en computación es importante también la complejidad del programa,  es decir, esencialmente, el tiempo que tarda. En este aspecto el programa se puede mejorar haciendo dos cambios:\n",
        "\n",
        "1. Si un número $n$ no es primo,  entonces hay un divisor $d$ tal que $1 < d \\le \\sqrt{n}$. Luego el `while` debería comprobar hasta  `n**0.5`.\n",
        "2. Si descubrimos dentro  del `while` un divisor de `n`,  entonces podemos cortar el ciclo.\n",
        "\n",
        "Teniendo esto en cuenta reescribimos el código."
      ]
    },
    {
      "cell_type": "code",
      "execution_count": 5,
      "metadata": {
        "id": "1ogvz9hOgPce"
      },
      "outputs": [],
      "source": [
        "def es_primo(n: int) -> bool:\n",
        "    \"\"\"\n",
        "    pre: type(n) == int y n > 0.\n",
        "    pos: Devuelve True si n es primo.\n",
        "    \"\"\"\n",
        "    assert (type(n) == int and n > 0), 'n debe ser un entero positivo'\n",
        "    primo = True\n",
        "    if n == 1:\n",
        "        primo = False\n",
        "    d = 2\n",
        "    while d <= n**0.5 and primo == True:\n",
        "        if n % d == 0:\n",
        "            d = n\n",
        "            primo = False\n",
        "        else:\n",
        "            d = d +1\n",
        "    return primo"
      ]
    },
    {
      "cell_type": "markdown",
      "metadata": {
        "id": "aZf67bNbADP4"
      },
      "source": [
        "**Ejercicio 4.** Escribir en la siguiente celda de código la función `factor_pequeno()` que dado un número entero mayor igual que $2$ devuelve su factor primo más pequeño."
      ]
    },
    {
      "cell_type": "markdown",
      "metadata": {
        "id": "NXein0Ddipo-"
      },
      "source": [
        "**Respuesta:** dado $n \\ge 2$,  el divisor más pequeño  mayor que $1$ es primo. Por lo tanto, la función solo encontrará el divisor más pequeño (que será primo).  "
      ]
    },
    {
      "cell_type": "code",
      "execution_count": 6,
      "metadata": {
        "id": "AP4S_xcsArLc"
      },
      "outputs": [],
      "source": [
        "# Solución \n",
        "def factor_pequeno(n: int) -> int:\n",
        "    \"\"\"\n",
        "    pre:  n entero, n >= 2\n",
        "    post: devuelve d > 1 tal que d | n y  si d' > 1 y d' | n,  entonces d <= d'\n",
        "    \"\"\"\n",
        "    assert type(n) == int and n >= 2, 'el parámetro debe ser un entero >= 2'\n",
        "    d = 2\n",
        "    while  d <= n and n % d != 0:\n",
        "        d = d + 1\n",
        "    return d"
      ]
    },
    {
      "cell_type": "code",
      "execution_count": null,
      "metadata": {
        "id": "nIeBlRKJnmLo"
      },
      "outputs": [],
      "source": [
        "print(factor_pequeno(17))\n",
        "print(factor_pequeno(12))\n",
        "print(factor_pequeno(161))\n",
        "print(factor_pequeno(100911))"
      ]
    },
    {
      "cell_type": "markdown",
      "metadata": {
        "id": "wCdAQ2FGAIul"
      },
      "source": [
        "**Ejercicio 5.** Escribir en la siguiente celda de código una función que dado un número entero imprime todos sus factores primos en orden creciente."
      ]
    },
    {
      "cell_type": "markdown",
      "metadata": {
        "id": "9IOb9twmjXUg"
      },
      "source": [
        "**Respuesta:** podemos usar la función del ejercicio anterior\n",
        "\n",
        "1. Dado $n$ encontramos $p$ el factor primo más pequeño de $n$.\n",
        "2. Ahora,  el factor más pequeño de $n/p$ es el siguiente factor más pequeño (y por lo tanto primo) de $n$,\n",
        "3. Repetimos el esquema del paso 2.  "
      ]
    },
    {
      "cell_type": "code",
      "execution_count": 12,
      "metadata": {
        "id": "JTONh6vFA2RV"
      },
      "outputs": [],
      "source": [
        "# Solución\n",
        "def factores_primos(n):\n",
        "    \"\"\"\n",
        "    pre: n entero,  n >= 2\n",
        "    pos: imprime todos los factores primos de n, con multiplicidad\n",
        "    \"\"\"\n",
        "    assert type(n) == int and n >= 2, 'el parámetro debe ser un entero >= 2'\n",
        "    cociente = n\n",
        "    while cociente > 1:\n",
        "        d = factor_pequeno(cociente)\n",
        "        print(d, end=' ')\n",
        "        cociente = cociente // d\n",
        "    print('')"
      ]
    },
    {
      "cell_type": "code",
      "execution_count": null,
      "metadata": {
        "id": "Ba2p05rtkiNy"
      },
      "outputs": [],
      "source": [
        "factores_primos(2)\n",
        "factores_primos(8)\n",
        "factores_primos(30)\n",
        "factores_primos(37)\n",
        "factores_primos(100911)"
      ]
    },
    {
      "cell_type": "markdown",
      "metadata": {
        "id": "oQ-eBbwDAI4A"
      },
      "source": [
        "**Ejercicio 6.** Escribir en la siguiente celda de código la función `max_div_propio()` que dado un número entero positivo devuelve su máximo divisor propio (*propio*  = que no sea el mismo número).\n"
      ]
    },
    {
      "cell_type": "code",
      "execution_count": 15,
      "metadata": {
        "id": "HCSL4V-w_8qW"
      },
      "outputs": [],
      "source": [
        "# Solución\n",
        "def max_div_propio(n):\n",
        "    divisor = 1\n",
        "    d = 1\n",
        "    while d < n:\n",
        "        if n % d == 0:\n",
        "            divisor = d\n",
        "        d += 1\n",
        "    return  divisor"
      ]
    },
    {
      "cell_type": "code",
      "execution_count": null,
      "metadata": {
        "id": "IJ3CTJdDAZQk"
      },
      "outputs": [],
      "source": [
        "# Pruebas\n",
        "print(max_div_propio(7))\n",
        "print(max_div_propio(12))\n",
        "print(max_div_propio(27))\n",
        "print(max_div_propio(100911))"
      ]
    },
    {
      "cell_type": "markdown",
      "metadata": {
        "id": "Jxizl6IpDNst"
      },
      "source": [
        "También se podría hacer el programa en base a la siguiente observación: dado $n$, si $d > 1$ es el divisor más pequeño de $n$, entonces $n/d$  es el divisor propio más grande  de $n$. Por lo tanto,"
      ]
    },
    {
      "cell_type": "code",
      "execution_count": 18,
      "metadata": {
        "id": "cFN_KcG8Drlg"
      },
      "outputs": [],
      "source": [
        "def max_div_propio(n):\n",
        "    return n // factor_pequeno(n)"
      ]
    },
    {
      "cell_type": "code",
      "execution_count": null,
      "metadata": {
        "id": "sKuYN0UgD8VU"
      },
      "outputs": [],
      "source": [
        "print(max_div_propio(7))\n",
        "print(max_div_propio(12))\n",
        "print(max_div_propio(27))\n",
        "print(max_div_propio(100911))"
      ]
    },
    {
      "cell_type": "markdown",
      "metadata": {
        "id": "98-ehonkAJBb"
      },
      "source": [
        "**Ejercicio 7.** Escribir en la siguiente celda de código la función `raiz_cuadrada_entera()` que dado un número $n$  devuelve la raíz cuadrada entera de  $n$. La raíz cuadrada entera de $n$, es el número entero $k$ tal que $k^2 \\le n < (k+1)^2$. En la solución no se debe utilizar la función `sqrt()` ni potencias fraccionarias.\n"
      ]
    },
    {
      "cell_type": "code",
      "execution_count": 20,
      "metadata": {
        "id": "OtKBWOiFA6Kv"
      },
      "outputs": [],
      "source": [
        "# Solución\n",
        "def raiz_cuadrada_entera(n: int) -> int:\n",
        "    \"\"\"\n",
        "    pre: n entero >= 0\n",
        "    pos: devuelve k tal que k**2 <= n < (k+1)**2\n",
        "    \"\"\"\n",
        "    assert type(n) == int and n >= 0, 'el parámetro debe ser un entero no negativo'\n",
        "    k = 0\n",
        "    while k**2 <= n:\n",
        "        k = k +1\n",
        "    return k - 1"
      ]
    },
    {
      "cell_type": "code",
      "execution_count": null,
      "metadata": {
        "id": "s6jSZDl03eJ7"
      },
      "outputs": [],
      "source": [
        "# Pruebas\n",
        "print(raiz_cuadrada_entera(4)) # 2\n",
        "print(raiz_cuadrada_entera(7)) # 2\n",
        "print(raiz_cuadrada_entera(18)) # 4\n",
        "print(raiz_cuadrada_entera(25)) # 5\n",
        "print(raiz_cuadrada_entera(100911)) # 317"
      ]
    },
    {
      "cell_type": "markdown",
      "metadata": {
        "id": "4xHWAoPzAJLk"
      },
      "source": [
        "**Ejercicio 8.** Escribir en la siguiente celda de código una función que calcula el máximo común divisor de dos números naturales positivos dados."
      ]
    },
    {
      "cell_type": "markdown",
      "metadata": {
        "id": "PEYD2ogF4UVu"
      },
      "source": [
        "**Respuesta:** la forma más directa de  calcular el  máximo común divisor de dos números es recorriendo todos los números no mayores a ambos y ver cual es el mayor que divide a ambos,"
      ]
    },
    {
      "cell_type": "code",
      "execution_count": 23,
      "metadata": {
        "id": "35dtJB91A4I_"
      },
      "outputs": [],
      "source": [
        "# Solución\n",
        "def mcd(a, b: int) -> int:\n",
        "    \"\"\"\n",
        "    pre: a, b enteros no negativos, alguno de los dos != 0\n",
        "    pos: devuelve mcd(a,b)\n",
        "    \"\"\"\n",
        "    assert type(a) == type(b) == int and a >= 0 and b>= 0, 'los parámetro deben ser enteros no negativos'\n",
        "    assert a > 0 or b > 0, 'uno de los parámetros debe ser positivo'\n",
        "    max_com_div = 1\n",
        "    d = 1\n",
        "    cota = min(a, b)\n",
        "    while d <= cota:\n",
        "        if a % d ==0 and b % d == 0:\n",
        "            max_com_div = d\n",
        "        d += 1\n",
        "    return  max_com_div"
      ]
    },
    {
      "cell_type": "code",
      "execution_count": null,
      "metadata": {
        "id": "0EWwKR575HuB"
      },
      "outputs": [],
      "source": [
        "# Pruebas\n",
        "print(mcd(5, 14))\n",
        "print(mcd(2, 6))\n",
        "print(mcd(8, 24))\n",
        "print(mcd(18, 24))\n",
        "print(mcd(19, 17))\n",
        "print(mcd(28458, 100911))\n",
        "# print(mcd(195654654656356356, 17563563563563677865465635)) # correr esta linea tarda mucho"
      ]
    },
    {
      "cell_type": "markdown",
      "metadata": {
        "id": "oo0arxQt5_ym"
      },
      "source": [
        "Este es un programa correcto pero muy malo a nivel de eficiencia. Debemos utilizar un poco de teoría de la divisibilidad para mejorar, notablemente la eficiencia. El  resultado que utilizaremos es el siguiente: sean $a, b$ no negativos y supongamos que $b>0$, entonces si\n",
        "\\begin{equation*}\n",
        "a = bq + r,\n",
        "\\end{equation*}\n",
        "donde $0\\le r <b$ (algoritmo de división),  vale lo siguiente\n",
        "\\begin{equation*}\n",
        "\\operatorname{mcd}(a,b) = \\operatorname{mcd}(b, r).\n",
        "\\end{equation*}\n",
        "Aplicando repetidas veces este  razonamiento reducimos el cálculo del $\\operatorname{mcd}$ a números cada vez más pequeños. Más aún,  en algún momento llegaremos a que el resto de dividir es $0$ y  ahí usaremos la propiedad de que si $a >0$,  entonces $\n",
        "\\operatorname{mcd}(a, 0) = a$.\n",
        "\n",
        "Implementemos el algoritmo:"
      ]
    },
    {
      "cell_type": "code",
      "execution_count": 28,
      "metadata": {
        "id": "PyIiYTYC8PUf"
      },
      "outputs": [],
      "source": [
        "def mcd(a, b: int) -> int:\n",
        "    \"\"\"\n",
        "    pre: a, b enteros no negativos, alguno de los dos != 0\n",
        "    pos: devuelve mcd(a,b)\n",
        "    \"\"\"\n",
        "    assert type(a) == type(b) == int and a >= 0 and b>= 0, 'los parámetro deben ser enteros no negativos'\n",
        "    assert a > 0 or b > 0, 'uno de los parámetros debe ser positivo'\n",
        "    x, y = max(a,b), min(a,b)\n",
        "    while y > 0:\n",
        "        x, y = max(x % y, y), min(x % y, y)\n",
        "    return x"
      ]
    },
    {
      "cell_type": "markdown",
      "metadata": {},
      "source": [
        "Este algoritmo es llamado el *algoritmo de Euclides.*"
      ]
    },
    {
      "cell_type": "code",
      "execution_count": null,
      "metadata": {
        "id": "e45tU5rg9NQ9"
      },
      "outputs": [],
      "source": [
        "# Pruebas\n",
        "print(mcd(5, 14))\n",
        "print(mcd(2, 6))\n",
        "print(mcd(8, 24))\n",
        "print(mcd(18, 24))\n",
        "print(mcd(19, 17))\n",
        "print(mcd(28458, 100911))\n",
        "print(mcd(195654654656356356, 17563563563563677865465635))  # correr esta linea es casi instantaneo"
      ]
    },
    {
      "cell_type": "markdown",
      "metadata": {
        "id": "Mxb_VkRIAWB6"
      },
      "source": [
        "**Ejercicio 9.** Escribir en la siguiente celda de código una función que  solicita el ingreso de una respuesta `s` o `n` (por “sí” o “no”? y que ante una respuesta diferente reporta un error y vuelve a solicitar se ingrese  `s` o `n` y sigue de esta manera hasta que finalmente se ha ingresado  `s` o `n`. La función devuelve lo último ingresado."
      ]
    },
    {
      "cell_type": "code",
      "execution_count": 33,
      "metadata": {
        "id": "FlY0I8BPA9kY"
      },
      "outputs": [],
      "source": [
        "# Solución\n",
        "def si_o_no():\n",
        "    respuesta = input(\"ingrese 's' o 'n': \")\n",
        "    while respuesta != 's' and respuesta != 'n':\n",
        "        respuesta = input(\"ingrese 's' o 'n'\")\n",
        "    return respuesta"
      ]
    },
    {
      "cell_type": "code",
      "execution_count": 32,
      "metadata": {
        "id": "EAKonUOv4M7G"
      },
      "outputs": [],
      "source": [
        "# si_o_no() # descomentar estalínea para probar la función"
      ]
    },
    {
      "cell_type": "markdown",
      "metadata": {
        "id": "X7U-imCQWxxv"
      },
      "source": [
        "**Ejercicio 10.**  Escribir en la siguiente celda de código una función que devuelve los valores de la siguiente función:\n",
        "\\begin{equation*}\n",
        "f(0) = 1,  \\qquad f(n) = 2\\cdot f(n-1) + n^2\\quad \\text{si $n\\ge 1$}\n",
        "\\end{equation*}"
      ]
    },
    {
      "cell_type": "code",
      "execution_count": 34,
      "metadata": {
        "id": "QTydq9QG7RMk"
      },
      "outputs": [],
      "source": [
        "# Solución\n",
        "def f(n):\n",
        "    assert type(n) == int  and n >=0\n",
        "    devuelve = 0\n",
        "    if n == 0:\n",
        "        devuelve = 1\n",
        "    else:\n",
        "        x = 1\n",
        "        for i in range(1, n +1):\n",
        "            x = 2 * x + i**2\n",
        "        devuelve = x\n",
        "    return  devuelve\n"
      ]
    },
    {
      "cell_type": "code",
      "execution_count": null,
      "metadata": {
        "id": "-DWbYZXj5Ji1"
      },
      "outputs": [],
      "source": [
        "# Pruebas\n",
        "print(f(0)) # 1\n",
        "print(f(1)) # 3\n",
        "print(f(2)) # 10\n",
        "print(f(3)) # 29\n",
        "print(f(30)) # 7516191742"
      ]
    },
    {
      "cell_type": "markdown",
      "metadata": {
        "id": "Sn53VIgIX9-_"
      },
      "source": [
        "**Ejercicio 11.**  Escribir en la siguiente celda de código una función que devuelve los valores de la siguiente función:\n",
        "\\begin{equation*}\n",
        "g(0) = 5,  \\qquad g(n) = \\frac12\\cdot g(n-1)^2 + 2n\\quad \\text{si $n\\ge 1$}\n",
        "\\end{equation*}"
      ]
    },
    {
      "cell_type": "code",
      "execution_count": 1,
      "metadata": {
        "id": "3FEB7e0tYS8_"
      },
      "outputs": [],
      "source": [
        "# Solución\n",
        "def g(n):\n",
        "    assert type(n) == int  and n >=0\n",
        "    devuelve = 0\n",
        "    if n == 0:\n",
        "        devuelve = 5\n",
        "    else:\n",
        "        x = 5\n",
        "        for i in range(1, n +1):\n",
        "            x = (1/2) * x**2 + 2*i\n",
        "        devuelve = x\n",
        "    return  devuelve"
      ]
    },
    {
      "cell_type": "code",
      "execution_count": 2,
      "metadata": {
        "id": "bW2mpVqO5hLR"
      },
      "outputs": [
        {
          "name": "stdout",
          "output_type": "stream",
          "text": [
            "g( 0 ) = 5\n",
            "g( 1 ) = 14.5\n",
            "g( 2 ) = 109.125\n",
            "g( 3 ) = 5960.1328125\n",
            "g( 4 ) = 17761599.57131958\n",
            "g( 5 ) = 157737209665959.94\n"
          ]
        },
        {
          "data": {
            "text/plain": [
              "'\\nDebe imprimir\\ng( 0 ) = 5\\ng( 1 ) = 14.5\\ng( 2 ) = 109.125\\ng( 3 ) = 5960.1328125\\ng( 4 ) = 17761599.57131958\\ng( 5 ) = 157737209665959.94\\n'"
            ]
          },
          "execution_count": 2,
          "metadata": {},
          "output_type": "execute_result"
        }
      ],
      "source": [
        "# Pruebas\n",
        "for n in range(6):\n",
        "    print('g(',n,') =', g(n))\n",
        "\n",
        "\"\"\"\n",
        "Debe imprimir\n",
        "g( 0 ) = 5\n",
        "g( 1 ) = 14.5\n",
        "g( 2 ) = 109.125\n",
        "g( 3 ) = 5960.1328125\n",
        "g( 4 ) = 17761599.57131958\n",
        "g( 5 ) = 157737209665959.94\n",
        "\"\"\""
      ]
    },
    {
      "cell_type": "markdown",
      "metadata": {
        "id": "k1CXKdEAYTNJ"
      },
      "source": [
        "**Ejercicio 12.**  Escribir en la siguiente celda de código una función que devuelve los valores de la siguiente función:\n",
        "\\begin{equation*}\n",
        " h(n) = \\sum_{i=1}^{n} 2\\cdot \\operatorname{log}(i) + n\\quad \\text{si $n\\ge 1$}\n",
        "\\end{equation*}"
      ]
    },
    {
      "cell_type": "code",
      "execution_count": 6,
      "metadata": {
        "id": "dS_ikENO7VVx"
      },
      "outputs": [],
      "source": [
        "# Solución\n",
        "from math import log10\n",
        "\n",
        "def h(n: int):\n",
        "    \"\"\"\n",
        "    pos: h(n)\n",
        "    \"\"\"\n",
        "    assert type(n) == int and n >= 0, 'el parámetro debe ser entero  >= 0'\n",
        "    suma = 0\n",
        "    for i in range(1, n + 1):\n",
        "        suma  = suma + 2 * log10(i)\n",
        "    return suma + n"
      ]
    },
    {
      "cell_type": "code",
      "execution_count": 8,
      "metadata": {},
      "outputs": [
        {
          "name": "stdout",
          "output_type": "stream",
          "text": [
            "1.0\n",
            "2.6020599913279625\n",
            "4.556302500767288\n",
            "6.760422483423212\n",
            "9.15836249209525\n"
          ]
        }
      ],
      "source": [
        "# Pruebas\n",
        "print(h(1)) # 1.0\n",
        "print(h(2)) # 2.6020599913279625\n",
        "print(h(3)) # 4.556302500767288\n",
        "print(h(4)) # 6.760422483423212\n",
        "print(h(5)) # 9.15836249209525"
      ]
    },
    {
      "cell_type": "markdown",
      "metadata": {
        "id": "yEv4XvIDY9kP"
      },
      "source": [
        "**Ejercicio 13.**  Escribir en la siguiente celda de código la función `t()` que devuelve los valores de la siguiente función:\n",
        "\\begin{equation*}\n",
        " \\sum_{k=0}^n k^2 a^k  \\quad \\text{si $n\\ge 0, a \\in \\mathbb R$.}\n",
        "\\end{equation*}\n",
        "En  este caso la función debe depender de dos parámetros: $n$ de tipo `int` y $a$ de tipo `float`."
      ]
    },
    {
      "cell_type": "code",
      "execution_count": 14,
      "metadata": {
        "id": "V6FBRVOfby5d"
      },
      "outputs": [],
      "source": [
        "# Solución\n",
        "def t(n: int, a:float):\n",
        "    \"\"\"\n",
        "    pre: n entero no negativo, a float\n",
        "    pos: devuelve \\sum_{k=0}^n k**2 * a**k\n",
        "    \"\"\"\n",
        "    assert type(n) == int and (type(a) == float or type(a) == int) and n >= 0, 'el primer parámetro debe ser entero no negativo y el segundo parámetro debe ser float'\n",
        "    suma = 0\n",
        "    for k in range(n + 1):\n",
        "        suma  = suma + k**2 * a**k\n",
        "    return suma"
      ]
    },
    {
      "cell_type": "code",
      "execution_count": 15,
      "metadata": {
        "id": "IXAaVKgYIt3M"
      },
      "outputs": [
        {
          "name": "stdout",
          "output_type": "stream",
          "text": [
            "True\n",
            "1146\n",
            "1081.3828125\n"
          ]
        }
      ],
      "source": [
        "# Pruebas\n",
        "n = 10\n",
        "print(t(n, 1) == n*(n + 1)*(2*n + 1) // 6) # True\n",
        "print(t(5, 2)) # 1146\n",
        "print(t(8, -1.5)) # 1081.3828125"
      ]
    },
    {
      "cell_type": "markdown",
      "metadata": {
        "id": "_0GgJMT4bzIw"
      },
      "source": [
        "**Ejercicio 14.** Sea $\\{a_n\\}_{n\\in\\mathbb N_0}$ la sucesión definida recursivamente por\n",
        "\n",
        "$$\\begin{cases}\n",
        "a_0=1, \\\\a_1=2, \\\\a_{n} = \\operatorname{log}(3n)a_{n-1}+(n-1)(n-3)a_{n-2}, \\text{ para $n\\geq 2$}.\n",
        "\\end{cases}$$\n",
        "\n",
        "Escribir en la siguiente celda de código una función `f` que implemente la sucesión (es decir `f(n)` $= a_n$).\n"
      ]
    },
    {
      "cell_type": "code",
      "execution_count": 16,
      "metadata": {
        "id": "uXwY6lc59Yhs"
      },
      "outputs": [],
      "source": [
        "# Solución\n",
        "from  math import log10\n",
        "\n",
        "def f(n: int) -> float:\n",
        "    \"\"\"\n",
        "    pre: n entero y n >= 0\n",
        "    post: devuelve a_n\n",
        "    \"\"\"\n",
        "    assert type(n) == int and n >= 0, ' el parámetro debe ser un entero >= 0'\n",
        "    ret = 0\n",
        "    if n == 0:\n",
        "        ret = 1\n",
        "    elif n == 1:\n",
        "        ret = 2\n",
        "    else:\n",
        "        # a_n = log10(3*n)*a_(n-1) + (n-1)*(n-3)*a_(n-2)\n",
        "        x, y = 1, 2 # x == a_0, y == a_1\n",
        "        for k in range(2,n+1):\n",
        "            # x es el anterior del anterior de a_k\n",
        "            # y es el anterior de a_k\n",
        "            x, y  = y, log10(3*k)*y + (k-1)*(k-3)*x\n",
        "            # x es el anterior del anterior de a_(k+1)\n",
        "            # y es el anterior de a_(k+1)\n",
        "        ret = y\n",
        "    return ret"
      ]
    },
    {
      "cell_type": "code",
      "execution_count": 17,
      "metadata": {
        "id": "HxWcm6HoPc2D"
      },
      "outputs": [
        {
          "name": "stdout",
          "output_type": "stream",
          "text": [
            "1\n",
            "2\n",
            "0.5563025007672873\n"
          ]
        }
      ],
      "source": [
        "# Pruebas\n",
        "print(f(0)) # 1\n",
        "print(f(1)) # 2\n",
        "print(f(2)) # 0.5563025007672873"
      ]
    },
    {
      "cell_type": "markdown",
      "metadata": {
        "id": "HinvOe_CcjGn"
      },
      "source": [
        "**Ejercicio 15.** Sea $\\{a_n\\}_{n\\in\\mathbb N_0}$ la sucesión definida recursivamente por\n",
        "\n",
        "$$\\begin{cases}\n",
        "   a_0=0, \\\\a_1=7, \\\\a_{n} = 5a_{n-1}+(1/2)^na_{n-2}, \\text{ para $n\\geq 2$}.\n",
        "  \\end{cases}$$\n",
        "\n",
        "Escribir en la siguiente celda de código una función `f` que implemente la sucesión (es decir `f(n)` $= a_n$).\n"
      ]
    },
    {
      "cell_type": "code",
      "execution_count": 19,
      "metadata": {
        "id": "ojg1DLUU4eIU"
      },
      "outputs": [],
      "source": [
        "# Solución\n",
        "def f(n: int) -> float:\n",
        "    \"\"\"\n",
        "    pre: n entero y n >= 0\n",
        "    post: devuelve a_n\n",
        "    \"\"\"\n",
        "    assert type(n) == int and n >= 0, ' el parámetro debe ser un entero >= 0'\n",
        "    ret = 0\n",
        "    if n == 0:\n",
        "        ret = 0\n",
        "    elif n == 1:\n",
        "        ret = 7\n",
        "    else:\n",
        "        # a_n = 5*a_(n-1) + ((1/2)**n * a_(n-2)\n",
        "        x, y = 1, 2 # x == a_0, y == a_1\n",
        "        for k in range(2,n+1):\n",
        "            # x es el anterior del anterior de a_k\n",
        "            # y es el anterior de a_k\n",
        "            x, y  = y, 5 * y + (1/2)**k * x\n",
        "            # x es el anterior del anterior de a_(k+1)\n",
        "            # y es el anterior de a_(k+1)\n",
        "        ret = y\n",
        "    return ret"
      ]
    },
    {
      "cell_type": "code",
      "execution_count": 20,
      "metadata": {
        "id": "A141njMWMoPQ"
      },
      "outputs": [
        {
          "name": "stdout",
          "output_type": "stream",
          "text": [
            "0\n",
            "7\n",
            "10.25\n",
            "51.5\n",
            "258.140625\n"
          ]
        }
      ],
      "source": [
        "# Pruebas\n",
        "print(f(0)) # 0\n",
        "print(f(1)) # 7\n",
        "print(f(2)) # 10.25\n",
        "print(f(3)) # 51.5\n",
        "print(f(4)) # 258.140625"
      ]
    },
    {
      "cell_type": "markdown",
      "metadata": {
        "id": "Sv8Iar8CJh7G"
      },
      "source": [
        "### 2° Parte. Tratamiento de fechas\n",
        "\n"
      ]
    },
    {
      "cell_type": "markdown",
      "metadata": {
        "id": "NtRopxhbJh7H"
      },
      "source": [
        "**Ejercicio 16.**  Escribir en la siguiente celda de código la función `numero_dias()` que  reciba una fecha (tres parámetros: día, mes y año) y devuelva el número de días a de la era moderna hasta ese día. Es decir, si le paso como fecha 1/1/1 me devuelve 1. Si le paso como fecha 31/12/1 devuelve 365. Si le paso 1/1/2 devuelve 366. Si le paso como fecha 4/7/1995, devuelve 728478. Si le paso 15/4/2020 devuelve 737530.\n"
      ]
    },
    {
      "cell_type": "markdown",
      "metadata": {
        "id": "uaeKg2YJnrF2"
      },
      "source": [
        "**Respuesta:** vamos a necesitar saber que años son bisiestos. Un  posible función para averiguarlo es:"
      ]
    },
    {
      "cell_type": "code",
      "execution_count": null,
      "metadata": {
        "id": "UtaNpMiGn7GH"
      },
      "outputs": [],
      "source": [
        "# Un  año es bisiesto si es divisible por 4, salvo que seamúltiplo de 100  y  no de 400\n",
        "def es_bisiesto(año):\n",
        "    assert type(año) == int and año >=1, 'el parámetro debe ser un entero positivo'\n",
        "    bis = False\n",
        "    if año % 4 == 0:\n",
        "        if año % 100 != 0:\n",
        "            bis = True\n",
        "        else:\n",
        "            if año % 400 == 0:\n",
        "                bis = True\n",
        "    return bis"
      ]
    },
    {
      "cell_type": "markdown",
      "metadata": {
        "id": "CFg1UorGoT1R"
      },
      "source": [
        "También hay una forma más corta de definir la función:"
      ]
    },
    {
      "cell_type": "code",
      "execution_count": 21,
      "metadata": {
        "id": "Jdo-MusZoaXf"
      },
      "outputs": [],
      "source": [
        "def es_bisiesto(año):\n",
        "    assert type(año) == int and año >=1, 'el parámetro debe ser un entero positivo'\n",
        "    return (año % 4 == 0  and año % 100 != 0) or año % 400 == 0"
      ]
    },
    {
      "cell_type": "markdown",
      "metadata": {
        "id": "K4HBxjXOul4T"
      },
      "source": [
        "Por otro lado, debemos comprobar que la fecha ingresada es correcta. Es decir la función para averiguar el número de días recibirá 3 parámetros `dd`, `mm`, `aaaa` y debemos comprobar si ese día existe."
      ]
    },
    {
      "cell_type": "code",
      "execution_count": 22,
      "metadata": {
        "id": "2CDA7bh7vev6"
      },
      "outputs": [],
      "source": [
        "def fecha_correcta(dd, mm, aaaa):\n",
        "    dias_meses = [31, 28, 31, 30, 31, 30, 31, 31, 30, 31, 30, 31]\n",
        "    devuelve = True\n",
        "    if aaaa < 1 or (mm < 1 or mm > 12) or dd < 1:\n",
        "        devuelve = False\n",
        "    else:\n",
        "        # ahora 1 <= aaa, 1 <= mm <= 12 y dd >=1\n",
        "        if mm !=2:\n",
        "            if dd > dias_meses[mm-1]:\n",
        "                devuelve = False\n",
        "        else:\n",
        "            if (es_bisiesto(aaaa) and dd > 29) or (not es_bisiesto(aaaa) and dd > 28):\n",
        "                devuelve = False\n",
        "    return devuelve"
      ]
    },
    {
      "cell_type": "markdown",
      "metadata": {
        "id": "J4uYrEjSyr6P"
      },
      "source": [
        "O una versión más corta\n"
      ]
    },
    {
      "cell_type": "code",
      "execution_count": 23,
      "metadata": {
        "id": "DVZxcYgMyx20"
      },
      "outputs": [],
      "source": [
        "def fecha_correcta(dd, mm, aaaa):\n",
        "    dias_meses = [31, 29, 31, 30, 31, 30, 31, 31, 30, 31, 30, 31]\n",
        "    devuelve = (1 <= aaaa) and (1 <= mm <= 12) and (1 <= dd <= dias_meses[mm-1])\n",
        "    if mm == 2 and not es_bisiesto(aaaa) and dd > 28:\n",
        "        devuelve = False\n",
        "    return devuelve"
      ]
    },
    {
      "cell_type": "markdown",
      "metadata": {
        "id": "j7pgvl2r3gS-"
      },
      "source": [
        "Finalmente, escribimos la función solicitada:"
      ]
    },
    {
      "cell_type": "code",
      "execution_count": 24,
      "metadata": {
        "id": "2mZnF2vXJh7H"
      },
      "outputs": [],
      "source": [
        "def numero_dias(dd, mm, aaaa: int):\n",
        "    assert fecha_correcta(dd, mm, aaaa), 'fecha incorrecta'\n",
        "    dias_meses = [31, 28, 31, 30, 31, 30, 31, 31, 30, 31, 30, 31]\n",
        "    devolver = 0\n",
        "    for año in range(1, aaaa):\n",
        "        if es_bisiesto(año):\n",
        "            devolver = devolver + 366\n",
        "        else:\n",
        "            devolver = devolver + 365\n",
        "    for mes in range(mm - 1):\n",
        "        if mes != 1:\n",
        "            devolver = devolver + dias_meses[mes]\n",
        "        elif mes == 1 and not es_bisiesto(aaaa):\n",
        "            devolver = devolver + 28\n",
        "        else:\n",
        "            devolver = devolver + 29\n",
        "\n",
        "    return  devolver + dd"
      ]
    },
    {
      "cell_type": "code",
      "execution_count": 25,
      "metadata": {
        "id": "_MEMwRkC0RP8"
      },
      "outputs": [
        {
          "name": "stdout",
          "output_type": "stream",
          "text": [
            "1\n",
            "365\n",
            "366\n",
            "728478\n",
            "737530\n"
          ]
        }
      ],
      "source": [
        "# Pruebas\n",
        "print(numero_dias(1, 1, 1)) # 1\n",
        "print(numero_dias(31, 12, 1)) # 365\n",
        "print(numero_dias(1, 1, 2)) # 366\n",
        "print(numero_dias(4, 7, 1995)) # 728478\n",
        "print(numero_dias(15, 4, 2020)) # 737530"
      ]
    },
    {
      "cell_type": "markdown",
      "metadata": {
        "id": "upbCFkH4Jh7I"
      },
      "source": [
        "**Ejercicio 17.** Escribir en la siguiente celda de código la función `dia_semana()` que reciba una fecha (tres parámetros) y devuelve una cadena de caracteres: `lunes` o `martes` o `miércoles` o ... o `domingo`,  que es el día de la semana correspondiente.\n",
        "\n",
        "Para hacer la función debe considerarse que el 1 de enero del año 1 fue lunes y luego utilizar la función `numero_dias()` definida anteriormente."
      ]
    },
    {
      "cell_type": "code",
      "execution_count": 26,
      "metadata": {
        "id": "Tqm69v-xFnzh"
      },
      "outputs": [],
      "source": [
        "# Solución\n",
        "def dia_semana(dd, mm, aaaa):\n",
        "    # pre:\n",
        "    # post:\n",
        "    # assert ...\n",
        "    # Hoy es martes 16/04/2024\n",
        "    dia = ''\n",
        "    n_dias = numero_dias(dd, mm, aaaa)\n",
        "    if n_dias % 7 == 2:\n",
        "        dia = 'martes'\n",
        "    elif n_dias % 7 == 3:\n",
        "        dia = 'miércoles'\n",
        "    elif n_dias % 7 == 4:\n",
        "        dia = 'jueves'\n",
        "    elif n_dias % 7 == 5:\n",
        "        dia = 'viernes'\n",
        "    elif n_dias % 7 == 6:\n",
        "        dia = 'sábado'\n",
        "    elif n_dias % 7 == 0:\n",
        "        dia = 'domingo'\n",
        "    elif n_dias % 7 == 1:\n",
        "        dia = 'lunes'\n",
        "    return dia"
      ]
    },
    {
      "cell_type": "code",
      "execution_count": null,
      "metadata": {
        "id": "CnOt4G7J4vN5"
      },
      "outputs": [],
      "source": [
        "print(dia_semana(16,4,2024)) # martes\n",
        "print(dia_semana(26,4,2024)) # viernes\n",
        "print(dia_semana(1,1,1)) # lunes\n",
        "print(dia_semana(3,3,2004)) # miércoles"
      ]
    },
    {
      "cell_type": "markdown",
      "metadata": {
        "id": "keRu5Ih1Jh7I"
      },
      "source": [
        "**Ejercicio 18.** Escribir en la siguiente celda de código un programa que solicita que se ingrese la fecha e imprima el día de la semana utilizando la función del ejercicio anterior."
      ]
    },
    {
      "cell_type": "code",
      "execution_count": null,
      "metadata": {
        "id": "LD5-g880Jh7I"
      },
      "outputs": [],
      "source": [
        "# Solución\n",
        "# Descomentar lo que sigue para probar el código\n",
        "\"\"\"\n",
        "dia = int(input('dia='))\n",
        "mes = int(input('mes='))\n",
        "año = int(input('año='))\n",
        "print(dia_semana(dia, mes, año))\n",
        "\"\"\""
      ]
    },
    {
      "cell_type": "markdown",
      "metadata": {
        "id": "kol6ySNsJh7J"
      },
      "source": [
        "**Ejercicio 19.** Escribir en la siguiente celda de código la función `fecha_x_numero_dias()` que dado un número de días a contar a partir del 31/12/añocero devuelve una terna dia/mes/año. Por ejemplo, si lo llamo con 728478 devuelve 4/7/1995. Si le paso 737530 me devuelve 15/4/2020."
      ]
    },
    {
      "cell_type": "markdown",
      "metadata": {
        "id": "EkjwkUElxjxv"
      },
      "source": [
        "**Rspuesta:** este es un programa más complicado que los anteriores. Supongamos que todos lo años tengan 365 días y todos los meses tengan 30  días. La idea es ir descontando a los días que se ingresan como input, los años x 365 hasta que queden menos de 365 días y eso determina el año. Con los meses algo parecido, ir descontando 30  días por mes hasta que queden menos de 30  días, lo cual determinará el mes. Los días que quedan determinan el día correspondiente a la fecha. El algoritmo se complica un poco debido a los años bisiestos y a que los meses tienen duración varibale."
      ]
    },
    {
      "cell_type": "code",
      "execution_count": 27,
      "metadata": {
        "id": "npKE_dzyJh7J"
      },
      "outputs": [],
      "source": [
        "def fecha_x_numero_dias(n_dias: int) -> tuple:\n",
        "    # pre: n_dias >= 1\n",
        "    # post: devuelve la fecha\n",
        "    año = 1\n",
        "    numero_dias = 0\n",
        "    while numero_dias < n_dias:\n",
        "        numero_dias_anterior = numero_dias\n",
        "        if es_bisiesto(año):\n",
        "            numero_dias += 366\n",
        "        else:\n",
        "            numero_dias += 365\n",
        "        año += 1\n",
        "    año = año - 1\n",
        "    numero_dias = numero_dias_anterior\n",
        "    dias_meses = [31, 28, 31, 30, 31, 30, 31, 31, 30, 31, 30, 31]\n",
        "    meses = ['ene', 'feb', 'mar', 'abr', 'may', 'jun', 'jul', 'ago', 'sep', 'oct', 'nov', 'dic']\n",
        "    i = 0\n",
        "    mes = 0\n",
        "    while numero_dias < n_dias:\n",
        "        numero_dias_anterior = numero_dias\n",
        "        if mes == 1:\n",
        "            if es_bisiesto(año):\n",
        "                numero_dias += 29\n",
        "            else:\n",
        "                numero_dias += 28\n",
        "        else:\n",
        "            numero_dias += dias_meses[mes]\n",
        "        mes += 1\n",
        "    numero_dias = numero_dias_anterior + 1\n",
        "    dia = 0\n",
        "    dia = n_dias - numero_dias + 1\n",
        "    return dia,  mes,  año"
      ]
    },
    {
      "cell_type": "code",
      "execution_count": 28,
      "metadata": {
        "id": "Nk3YhKgxRu9L"
      },
      "outputs": [
        {
          "name": "stdout",
          "output_type": "stream",
          "text": [
            "(1, 1, 1)\n",
            "(31, 12, 1)\n",
            "(1, 1, 2)\n",
            "(1, 1, 3)\n",
            "(1, 1, 4)\n",
            "(31, 12, 4)\n",
            "(1, 1, 5)\n",
            "(4, 7, 1995)\n",
            "(15, 4, 2020)\n"
          ]
        }
      ],
      "source": [
        "# Pruebas\n",
        "print(fecha_x_numero_dias(1)) # 1/1/1\n",
        "print(fecha_x_numero_dias(365)) # 31/12/1\n",
        "print(fecha_x_numero_dias(1+365)) # 1/1/2\n",
        "print(fecha_x_numero_dias(1+365+365)) # 1/1/3\n",
        "print(fecha_x_numero_dias(1+365+365+365)) # 1/1/4\n",
        "print(fecha_x_numero_dias(1+365+365+365+365)) # 31/12/4\n",
        "print(fecha_x_numero_dias(1+365+365+365+365+1)) # 1/1/5\n",
        "print(fecha_x_numero_dias(728478)) # 4/7/1995\n",
        "print(fecha_x_numero_dias(737530)) # 15/4/2020"
      ]
    },
    {
      "cell_type": "markdown",
      "metadata": {
        "id": "tk_EVBA4Jh7J"
      },
      "source": [
        "**Ejercicio 20.** Escribir en la siguiente celda de código la función `fecha_dif_dias()` que dada una fecha `dia`, `mes`, `año` y un número positivo `n` de días, devuelve la fecha que se obtiene `n` días después de la fecha dada. Por ejemplo, si le paso `15`, `4`, `2020` y `1` devuelve `16`, `4`, `2020`. Si le paso `4`, `7`, `1995` y `9052`devuelve `15`, `4`, `2020`."
      ]
    },
    {
      "cell_type": "markdown",
      "metadata": {
        "id": "Obx9zOJ42Ljg"
      },
      "source": [
        "**Respuesta:** este ejercicio lo podemos hacer utilizando las funciones anteriores. Primero con `numero_dias()` calculamos el número de días hasta la fecha actual y le sumamos `n`. Esto nos resultará en el número de días de la fecha que buscamos. Con la función `fecha_x_numero_dias()` recuperamos la fecha de ese día."
      ]
    },
    {
      "cell_type": "code",
      "execution_count": 29,
      "metadata": {
        "id": "7OeYgLSlFGSu"
      },
      "outputs": [],
      "source": [
        "# Solución\n",
        "def fecha_dif_dias(dia, mes , año, n):\n",
        "    nro_dias_fecha = numero_dias(dia, mes ,año) + n\n",
        "    return fecha_x_numero_dias(nro_dias_fecha)"
      ]
    },
    {
      "cell_type": "code",
      "execution_count": 30,
      "metadata": {
        "id": "-F_yTD6R10mB"
      },
      "outputs": [
        {
          "name": "stdout",
          "output_type": "stream",
          "text": [
            "(16, 4, 2020)\n",
            "(15, 4, 2020)\n"
          ]
        }
      ],
      "source": [
        "# Pruebas\n",
        "print(fecha_dif_dias(15, 4, 2020, 1)) # (16, 4, 2020)\n",
        "print(fecha_dif_dias(4, 7, 1995, 9052)) # (15, 4, 2020)"
      ]
    },
    {
      "cell_type": "markdown",
      "metadata": {
        "id": "ap8WYZFjJh7K"
      },
      "source": [
        "**Ejercicio 21.** Escribir en la siguiente celda de código la función `dif_dias_fechas()` que dadas dos fechas devuelve la cantidad de días que las separa.\n"
      ]
    },
    {
      "cell_type": "code",
      "execution_count": 31,
      "metadata": {
        "id": "CVnkGD7bJh7K"
      },
      "outputs": [],
      "source": [
        "# Solución\n",
        "def dif_dias_fechas(dia0, mes0 ,año0, dia1, mes1 ,año1):\n",
        "    return abs(numero_dias(dia1, mes1 ,año1) -  numero_dias(dia0, mes0 ,año0))"
      ]
    },
    {
      "cell_type": "code",
      "execution_count": 32,
      "metadata": {
        "id": "YOtx4uVpbiLV"
      },
      "outputs": [
        {
          "name": "stdout",
          "output_type": "stream",
          "text": [
            "1\n",
            "9052\n"
          ]
        }
      ],
      "source": [
        "# Pruebas\n",
        "print(dif_dias_fechas(15, 4, 2020, 16, 4, 2020)) # 1\n",
        "print(dif_dias_fechas(4, 7, 1995, 15, 4, 2020)) # 90952"
      ]
    }
  ],
  "metadata": {
    "colab": {
      "provenance": []
    },
    "kernelspec": {
      "display_name": "Python 3",
      "name": "python3"
    },
    "language_info": {
      "codemirror_mode": {
        "name": "ipython",
        "version": 3
      },
      "file_extension": ".py",
      "mimetype": "text/x-python",
      "name": "python",
      "nbconvert_exporter": "python",
      "pygments_lexer": "ipython3",
      "version": "3.10.4"
    }
  },
  "nbformat": 4,
  "nbformat_minor": 0
}
