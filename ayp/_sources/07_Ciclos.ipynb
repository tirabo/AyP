{
  "cells": [
    {
      "cell_type": "markdown",
      "metadata": {
        "id": "yIRnNcJ664Qq"
      },
      "source": [
        "# 7. Ciclos"
      ]
    },
    {
      "cell_type": "markdown",
      "metadata": {
        "id": "R22rHsKNE6_r"
      },
      "source": [
        "\n",
        "\n",
        "## 1. La instrucción `for`\n",
        "\n",
        "Ya hemos visto la instrucción `for`, la cual permite iterar una cantidad determinada de veces. El  esquema general del `for` es\n",
        "```\n",
        "for <var> in <iterable>:\n",
        "    <instrucción(es)>\n",
        "```\n",
        "Aquí `<var>` denota una variable cualquiera e `<iterable>` es un objeto iterable,  es decir un objeto que puede ser recorrido secuencialmente, como puede ser una cadena o una lista, un diccionario, un conjunto, etc.,  estructuras que veremos más adelante.\n",
        "\n",
        "El primer uso que dimos del `for` fue recorrer una lista de enteros de `0` a `n - 1` (para un `n` determinado) y  eso se hace con una instrucción del tipo:\n",
        "```\n",
        "for <var> in range(n):\n",
        "    <instrucción(es)>\n",
        "```\n",
        "Es decir `range(n)` es un iterable que contiene todos los números enteros de `0` a `n - 1` en orden. El `for` la va dando a la variable todos los valores de `0` a `n - 1`  y en ese orden. Por ejemplo,\n"
      ]
    },
    {
      "cell_type": "code",
      "execution_count": null,
      "metadata": {
        "colab": {
          "base_uri": "https://localhost:8080/"
        },
        "id": "lh3f8OWRE7Sc",
        "outputId": "1baf2aff-81da-42b4-c657-844bfcced9e1"
      },
      "outputs": [],
      "source": [
        "for i in range(5):\n",
        "    print(i)"
      ]
    },
    {
      "cell_type": "markdown",
      "metadata": {
        "id": "rRJ39DYtNlTO"
      },
      "source": [
        "imprime `0`, `1`, `2`, `3`, `4`, en ese orden.\n",
        "\n",
        "La  función `range()` además puede tomar otros argumentos: si `m`, `n` son dos enteros,  entonces `range(m, n)` es un iterable  que tiene todos los enteros de `m` a `n - 1`. Por  ejemplo,   "
      ]
    },
    {
      "cell_type": "code",
      "execution_count": null,
      "metadata": {
        "colab": {
          "base_uri": "https://localhost:8080/"
        },
        "id": "gDaKRFqYlOUb",
        "outputId": "5150403c-8f74-4cbe-ae09-ece681a6ac09"
      },
      "outputs": [],
      "source": [
        "for i in range(2, 5):\n",
        "    print(i)"
      ]
    },
    {
      "cell_type": "markdown",
      "metadata": {
        "id": "v2ashjuMugkC"
      },
      "source": [
        "Un iterable conocido son las cadenas. Con el `for` podemos recorrer una cadena desde el primer carácter hasta el último, por ejemplo"
      ]
    },
    {
      "cell_type": "code",
      "execution_count": null,
      "metadata": {
        "colab": {
          "base_uri": "https://localhost:8080/"
        },
        "id": "hx343wrnugkD",
        "outputId": "400781bc-c49c-46b6-f09e-1bebb4921cee"
      },
      "outputs": [],
      "source": [
        "for x in 'diccionario':\n",
        "    print(x)"
      ]
    },
    {
      "cell_type": "markdown",
      "metadata": {
        "id": "iOijjL2TugkD"
      },
      "source": [
        "Definamos una función que dada una palabra devuelva la palabra con las vocales eliminadas:"
      ]
    },
    {
      "cell_type": "code",
      "execution_count": null,
      "metadata": {
        "id": "-_yMyXXcugkD"
      },
      "outputs": [],
      "source": [
        "def eliminar_vocales(cadena: str) -> str:\n",
        "    # pre: cadena es una cadena de caracteres\n",
        "    # post: devuelve cadena sin vocales minúsculas\n",
        "    sin_vocales = ''\n",
        "    for x in cadena:\n",
        "        if x != 'a' and x != 'e' and x != 'i' and x != 'o' and x != 'u':\n",
        "            sin_vocales += x\n",
        "    return sin_vocales"
      ]
    },
    {
      "cell_type": "markdown",
      "metadata": {
        "id": "2vE6seOH-uab"
      },
      "source": [
        "Usando reglas elementales de lógica (`not (p or q) == not p and not q`) podemos hacer una segunda definición de la función:"
      ]
    },
    {
      "cell_type": "code",
      "execution_count": null,
      "metadata": {
        "id": "cBZbmFit-um-"
      },
      "outputs": [],
      "source": [
        "def eliminar_vocales(cadena: str) -> str:\n",
        "    # pre: cadena es una cadena de caracteres\n",
        "    # post: devuelve cadena sin vocales minúsculas\n",
        "    sin_vocales = ''\n",
        "    for x in cadena:\n",
        "        if not(x == 'a' or x == 'e' or x == 'i' or x == 'o' or x == 'u'):\n",
        "            sin_vocales += x\n",
        "    return sin_vocales"
      ]
    },
    {
      "cell_type": "markdown",
      "metadata": {
        "id": "1oEuPUQu-ux6"
      },
      "source": [
        "También podemos simplificar un poco la definición de la función con el uso de conjuntos (que veremos más adelante)"
      ]
    },
    {
      "cell_type": "code",
      "execution_count": null,
      "metadata": {
        "id": "209FfWxC-u9_"
      },
      "outputs": [],
      "source": [
        "def eliminar_vocales(cadena: str) -> str:\n",
        "    # pre: cadena es una cadena de caracteres\n",
        "    # post: devuelve cadena sin vocales minúsculas\n",
        "    sin_vocales = ''\n",
        "    for x in cadena:\n",
        "        if x not in {'a', 'e', 'i', 'o', 'u'}:\n",
        "            sin_vocales += x\n",
        "    return sin_vocales"
      ]
    },
    {
      "cell_type": "markdown",
      "metadata": {
        "id": "DfAtAsf9ZQ2o"
      },
      "source": [
        "O con listas:"
      ]
    },
    {
      "cell_type": "code",
      "execution_count": null,
      "metadata": {
        "id": "vZJaucOFZTN7"
      },
      "outputs": [],
      "source": [
        "def eliminar_vocales(cadena: str) -> str:\n",
        "    # pre: cadena es una cadena de caracteres\n",
        "    # post: devuelve cadena sin vocales minúsculas\n",
        "    sin_vocales = ''\n",
        "    for x in cadena:\n",
        "        if x not in ['a', 'e', 'i', 'o', 'u']:\n",
        "            sin_vocales += x\n",
        "    return sin_vocales"
      ]
    },
    {
      "cell_type": "markdown",
      "metadata": {
        "id": "TbEKCvy5_jd_"
      },
      "source": [
        "Esta última definición es quizás la más clara."
      ]
    },
    {
      "cell_type": "markdown",
      "metadata": {
        "id": "Kv7g4xUBugkD"
      },
      "source": [
        "Probemos la función:"
      ]
    },
    {
      "cell_type": "code",
      "execution_count": null,
      "metadata": {
        "colab": {
          "base_uri": "https://localhost:8080/"
        },
        "id": "OkTLbVdTugkD",
        "outputId": "d79f3f2b-1ac6-4c41-eaa1-67b2db9350a2"
      },
      "outputs": [],
      "source": [
        "print(eliminar_vocales('hola'))\n",
        "print(eliminar_vocales('abracadabra'))\n",
        "print(eliminar_vocales('murcielago'))\n",
        "print(eliminar_vocales('Algoritmos y programación')) # elimina vocales en cadenas de caracteres pero no detecta mayúsculas y acentos"
      ]
    },
    {
      "cell_type": "markdown",
      "metadata": {
        "id": "cCxZhWfmugkD"
      },
      "source": [
        "### La función `range()`\n",
        "\n",
        "La función `range()` además de tomar como argumento un entero positivo puede tomar otros argumentos: si `m`, `n` son dos enteros, entonces `range(m, n)` es un iterable que tiene todos los enteros de `m` a `n - 1`. Por ejemplo,"
      ]
    },
    {
      "cell_type": "code",
      "execution_count": null,
      "metadata": {
        "colab": {
          "base_uri": "https://localhost:8080/"
        },
        "id": "trInLgs0Nlcd",
        "outputId": "8a5377f9-dd67-49c7-a851-9aea91412efc"
      },
      "outputs": [],
      "source": [
        "for i in range(3, 8):\n",
        "    print(i)"
      ]
    },
    {
      "cell_type": "markdown",
      "metadata": {
        "id": "V_HvB_eyFFg4"
      },
      "source": [
        "imprime `3`, `4`, `5`, `6`, `7`, en ese orden. Observar que\n"
      ]
    },
    {
      "cell_type": "code",
      "execution_count": null,
      "metadata": {
        "id": "tbDBS7B8OUOi"
      },
      "outputs": [],
      "source": [
        "for i in range(8, 3):\n",
        "    print(i)"
      ]
    },
    {
      "cell_type": "markdown",
      "metadata": {
        "id": "Yv_J4kgfOK05"
      },
      "source": [
        "Es un conjunto de instrucciones correctas pero no imprime nada porque el iterable `range(8, 3)` es vacío.\n",
        "\n",
        "La  función `range()` también puede tomar tres argumentos: si `m`, `n`, `k` son tres enteros,  entonces\n",
        "\n",
        "    range(m, n, k)\n",
        "    \n",
        "es un iterable  que tiene todos los enteros desde `m` al entero *anterior* a `n ` \"saltando\"  de `k` en `k`. Por  ejemplo,   "
      ]
    },
    {
      "cell_type": "code",
      "execution_count": null,
      "metadata": {
        "colab": {
          "base_uri": "https://localhost:8080/"
        },
        "id": "k0BFZp0zFFot",
        "outputId": "c149a682-866d-4c69-da94-c9971f6c87d8"
      },
      "outputs": [],
      "source": [
        "for i in range(8, 16, 2):\n",
        "    print(i)"
      ]
    },
    {
      "cell_type": "markdown",
      "metadata": {
        "id": "3E5tZnlQFFyG"
      },
      "source": [
        "imprime todo los enteros pares de `8` a `15`. Otro ejemplo:"
      ]
    },
    {
      "cell_type": "code",
      "execution_count": null,
      "metadata": {
        "colab": {
          "base_uri": "https://localhost:8080/"
        },
        "id": "Fl5oTe_-FF7U",
        "outputId": "0537b29e-b1e9-4fe2-8607-7b6ce3ebebb5"
      },
      "outputs": [],
      "source": [
        "for i in range(16, 8, -2):\n",
        "    print(i)"
      ]
    },
    {
      "cell_type": "markdown",
      "metadata": {
        "id": "HqhhOpPcFGFV"
      },
      "source": [
        "imprime todo los enteros pares de `16` a `10` en orden descendente. Es decir,  en este caso  `range(16, 8, -2)` representa los enteros `16`, `14`, `12`,  `10`, en ese orden.   \n",
        "\n",
        "Es importante observar que `range(m, n, 1)` es lo mismo que `range(m, n)` y  que `range(0, n, 1)` es lo mismo que `range(n)`. Si los argumentos de `range()` no son enteros obtenemos un error.\n",
        "\n",
        "Cerremos esta sección con un ejemplo:\n"
      ]
    },
    {
      "cell_type": "code",
      "execution_count": null,
      "metadata": {
        "colab": {
          "base_uri": "https://localhost:8080/"
        },
        "id": "ERRPdc0OQ-b7",
        "outputId": "b246cce6-371b-4b32-b5d9-0ce2806974ab"
      },
      "outputs": [],
      "source": [
        "def cuenta_regresiva(n: int):\n",
        "    # pre: n  es un entero positivo\n",
        "    # post: imprime los enteros de n a 1 y finalmente la palabra ¡Despegue!\n",
        "    for i in range(n, 0, -1):\n",
        "        print(i)\n",
        "    print('¡Despegue!')\n",
        "\n",
        "cuenta_regresiva(10)"
      ]
    },
    {
      "cell_type": "markdown",
      "metadata": {
        "id": "oU6C_CAQRw4C"
      },
      "source": [
        "Observar que fue necesario poner como segundo argumento de `range()` el  número `0` pues el `for` recorre desde el  primer número (en este caso `10`) hasta el anterior a `0`,  que en este caso es `1`, pues el recorrido se hace de mayor a menor (eso es lo que indica el tercer parámetro de `range()`)."
      ]
    },
    {
      "cell_type": "markdown",
      "metadata": {
        "id": "HjQjcqwiFGeI"
      },
      "source": [
        "## 2. La instrucción `while`\n",
        "\n",
        "Las computadoras se utilizan a menudo para automatizar tareas repetitivas. Repetir tareas idénticas o similares sin cometer errores es algo que las computadoras hacen bien y las personas hacen mal. En un programa de computadora, la repetición también se llama *iteración*.\n",
        "\n",
        "Python proporciona instrucciones para hacer iteración. Una es la instrucción `for` que vimos más arriba.\n",
        "\n",
        "Otra es la instrucción `while`. El uso del `while` nos permite ejecutar una sección de código repetidas veces, de ahí su nombre. El código se ejecutará mientras una condición determinada se cumpla. Cuando se deje de cumplir, se saldrá del bucle y se continuará la ejecución normal. Llamaremos *iteración* a una ejecución completa del bloque de código.\n",
        "\n",
        "La sintaxis es:\n",
        "```\n",
        "while <condición>:\n",
        "    <instrucción(es)>\n",
        "```\n",
        "Mientras se cumpla la `<condición>` se ejecutará el cuerpo del `while`,  es decir las `<instrucción(es)>`, y cuando estas se terminen de ejecutar se  vuelve a comprobar la `<condiciòn>`. Cuando deje de cumplirse la `<condición>`, la ejecución abandonará el `while` y pasará a la instrucción siguiente.\n",
        "\n",
        "Aquí hay una versión de `cuenta_regresiva()` que usa  `while`:"
      ]
    },
    {
      "cell_type": "code",
      "execution_count": null,
      "metadata": {
        "colab": {
          "base_uri": "https://localhost:8080/"
        },
        "id": "Yn7Ry6HQFGn2",
        "outputId": "8e107708-d037-444e-92e4-8b83b93e4f22"
      },
      "outputs": [],
      "source": [
        "def cuenta_regresiva(n: int):\n",
        "    assert type(n) == int and n > 0, 'el parámetro debe ser un entero positivo'\n",
        "    \"\"\"\n",
        "    pre: n  es un entero positivo\n",
        "    post: imprime los enteros de n a 1 y finalmente la palabra ¡Despegue!\n",
        "    \"\"\"\n",
        "    while n > 0:\n",
        "        print(n)\n",
        "        n = n - 1\n",
        "    print ('¡Despegue!')\n",
        "\n",
        "cuenta_regresiva(10)"
      ]
    },
    {
      "cell_type": "markdown",
      "metadata": {
        "id": "4FwaYK0_FHHT"
      },
      "source": [
        "Si traducimos del inglés la palabra `while` (\"mientras\" en castellano) la declaración dice casi textualmente lo que hace: \"Mientras `n` es mayor  que `0`, imprimir `n` y luego disminuir `n` en `1`. Cuando llegués a `0`, imprimir `¡Despegue!`\"\n",
        "\n",
        "Más formalmente, aquí está el flujo de ejecución para una declaración `while`:\n",
        "\n",
        "1. Determinar si la condición es verdadera o falsa.\n",
        "2. Si es falsa, salir de la instrucción `while` y continuar la ejecución de la siguiente instrucción.\n",
        "3. Si la condición es verdadera, ejecutar el cuerpo y volver al paso 1.\n",
        "\n",
        "Este tipo de flujo se llama *bucle* o *ciclo* porque el tercer paso vuelve a la parte superior.\n",
        "\n",
        "El cuerpo del ciclo debe cambiar el valor de una o más variables para que la condición en algún momento se vuelva falsa y el ciclo termine. De lo contrario, el ciclo se repetirá para siempre, lo que se denomina *ciclo infinito*.\n",
        "\n",
        "En el caso de `cuenta_regresiva()` podemos probar que el ciclo termina: si `n` es negativo, el ciclo nunca se ejecuta. De lo contrario, `n` se vuelve más pequeño cada vez que pasa por el ciclo, por lo que siempre llegaremos a 0.\n",
        "\n",
        "Para algunos otros bucles, no es tan fácil de decir. Por ejemplo:"
      ]
    },
    {
      "cell_type": "code",
      "execution_count": null,
      "metadata": {
        "id": "6mvU-lKaFG9L"
      },
      "outputs": [],
      "source": [
        "def collatz(m: int): # tambien llamado \"Algoritmo de Siracusa\"\n",
        "    \"\"\"\n",
        "    pre: m > 0\n",
        "    post: imprime el todos los n (intermedios y final) que resultan de aplicar\n",
        "          el algoritmo de Collatz\n",
        "    \"\"\"\n",
        "    n = m\n",
        "    i = 0\n",
        "    while n != 1:\n",
        "        i += 1\n",
        "        print(n)\n",
        "        if n % 2 == 0: # n es par\n",
        "            n = n // 2\n",
        "        else: # n es impar\n",
        "            n = n * 3 + 1\n",
        "    print(n)\n",
        "    print('fin de Collatz para m =', m, 'en', i, 'pasos')\n",
        "\n",
        "collatz(645646456437465346536576756747456746774663655677)"
      ]
    },
    {
      "cell_type": "markdown",
      "metadata": {
        "id": "ICnkulTTFGyk"
      },
      "source": [
        "\n",
        "La condición para este ciclo es `n != 1`, por lo que el ciclo continuará hasta que `n` sea `1`, lo que hace que la condición sea falsa.\n",
        "\n",
        "Cada vez que pasa por el ciclo, el programa genera el valor de `n` y luego verifica si es par o impar. Si es par, `n` se divide por 2. Si es impar, el valor de `n` se reemplaza con `n * 3 + 1`. Por ejemplo, si el argumento pasado a `collatz()` es 3, los valores resultantes de `n` son 3, 10, 5, 16, 8, 4, 2, 1.\n"
      ]
    },
    {
      "cell_type": "code",
      "execution_count": null,
      "metadata": {
        "id": "4zv4EwqQHuCX"
      },
      "outputs": [],
      "source": [
        "collatz(3)\n",
        "collatz(31242341) # probar para números grandes"
      ]
    },
    {
      "cell_type": "markdown",
      "metadata": {
        "id": "Rg_P46JQHvuA"
      },
      "source": [
        "Dado que `n` a veces aumenta y a veces disminuye, no hay pruebas obvias de que `n` alguna vez llegue a 1, o de que el programa finalice. Para algunos valores particulares de `n`, podemos probar la terminación. Por ejemplo, si el valor inicial es una potencia de dos, `n` será par y  mas chico cada vez que pase por el ciclo hasta que llegue a 1. El ejemplo anterior termina con una secuencia de este tipo, comenzando con 16.\n",
        "\n",
        "Otro ejemplo:"
      ]
    },
    {
      "cell_type": "code",
      "execution_count": null,
      "metadata": {
        "colab": {
          "base_uri": "https://localhost:8080/"
        },
        "id": "_1k9xnicRB0b",
        "outputId": "13b7f167-5b2b-4488-b05b-0e9c05ab0b76"
      },
      "outputs": [],
      "source": [
        "collatz(2**20)"
      ]
    },
    {
      "cell_type": "markdown",
      "metadata": {
        "id": "6hy2vNTMRB-A"
      },
      "source": [
        "La pregunta difícil es si podemos probar que este programa termina para *todos* los valores positivos de `n`. Hasta ahora, nadie ha podido probarlo o refutarlo, pero se conjetura que el algoritmo siempre termina. Para más información ver en Wikipedia [\"Conjetura de Collatz\"](https://es.wikipedia.org/wiki/Conjetura_de_Collatz) o el vídeo [\"El problema matemático más simple que nadie puede resolver - Conjetura de Collatz\"](https://youtu.be/094y1Z2wpJg).\n",
        "\n",
        "Veamos otro ejemplo del ciclo `while`. Definamos la función `raiz_entera()` que dado un entero no negativo  `n` devuelve la raíz cuadrada entera de `n`.\n",
        "\n",
        "*Definición.* Sea $n \\in \\mathbb N$. Entonces $k$ es la *raíz entera de $n$* si \n",
        "\n",
        "$$\n",
        "k^2 \\le n < (k+1)^2.\n",
        "$$\n",
        "\n",
        "Imprimiendo la lista de cuadrados de 1 a 19 podemos ver que la raíz entera de `200` es `14`."
      ]
    },
    {
      "cell_type": "code",
      "execution_count": null,
      "metadata": {
        "colab": {
          "base_uri": "https://localhost:8080/"
        },
        "id": "NDn9cYeevvtp",
        "outputId": "b775095b-4f61-4946-aa1f-0994b70b92e5"
      },
      "outputs": [],
      "source": [
        "for i in range(20):\n",
        "  print(i, i**2)"
      ]
    },
    {
      "cell_type": "markdown",
      "metadata": {
        "id": "fsiqa1NeSvCN"
      },
      "source": [
        "Obviamente el método anterior, \"por inspección\"  no es el más conveniente para encontrar la raíz entera de un número.\n",
        "\n",
        "A  continuación, una forma de implementar la función raíz entera de `n`:"
      ]
    },
    {
      "cell_type": "code",
      "execution_count": null,
      "metadata": {
        "colab": {
          "base_uri": "https://localhost:8080/"
        },
        "id": "pcSClhiLFHRJ",
        "outputId": "36e731d8-5f87-4f32-af48-59a84fc5c1d4"
      },
      "outputs": [],
      "source": [
        "def raiz_entera(n: int) -> int:\n",
        "    \"\"\"\n",
        "    pre: n >= 0\n",
        "    post: devuelve k tal que k**2 <= n < (k + 1)**2\n",
        "    \"\"\"\n",
        "    k = 0\n",
        "    while k**2 <= n:\n",
        "        k = k + 1\n",
        "    return k - 1\n",
        "\n",
        "print(raiz_entera(17))\n",
        "print(raiz_entera(200))\n",
        "print(raiz_entera(2000000))"
      ]
    },
    {
      "cell_type": "markdown",
      "metadata": {
        "id": "7pO6DSBmFHds"
      },
      "source": [
        "Observar que el ciclo termina debido a que en cada paso `k` aumenta en 1 y entonces en algún paso `k**2` va a superar a `n`.\n",
        "\n",
        "En  el ejemplo anterior no podemos reemplazar el `while` por un `for` debido que *a priori* no sabemos cuantos pasos debemos hacer."
      ]
    },
    {
      "cell_type": "markdown",
      "metadata": {
        "id": "fsAdn21cugkI"
      },
      "source": [
        "**Observación.** Todo ciclo `for` con argumentos enteros puede ser reemplazado fácilmente   por un `while`,  por ejemplo\n",
        "\n",
        "```\n",
        "for i in range(n):\n",
        "    <bloque de código>\n",
        "```\n",
        "\n",
        "puede ser reemplazado por\n",
        "\n",
        "```\n",
        "i = 0\n",
        "while i < n:\n",
        "    <bloque de código>\n",
        "    i += 1\n",
        "```\n",
        "\n",
        "En el caso de trabajar con iterables es un poco más complicado pero es posible hacerlo. No lo veremos en este curso."
      ]
    },
    {
      "cell_type": "markdown",
      "metadata": {
        "id": "FmgmVihb6nWU"
      },
      "source": [
        "## 3. ¿`break` o no `break`?\n",
        "\n",
        "La respuesta corta es (casi) nunca usar `break`, pero veamos primero que significa esta instrucción.\n",
        "\n",
        "A veces no es clara cual es la condición para terminar un bucle hasta que se llega a una parte intermedia del cuerpo de instrucciones. En ese caso, es posible utilizar la instrucción `break` para terminar el ciclo.\n",
        "\n",
        "Por ejemplo, suponga que desea recibir información que el usuario ingresa por teclado hasta que escribe `listo`. Podrías escribir:\n",
        "\n",
        "```\n",
        "while True:\n",
        "    linea = input('> ')\n",
        "    if linea == 'listo':\n",
        "        break\n",
        "    print(linea)\n",
        "print('¡Listo!')\n",
        "```\n"
      ]
    },
    {
      "cell_type": "code",
      "execution_count": null,
      "metadata": {
        "colab": {
          "base_uri": "https://localhost:8080/"
        },
        "id": "ZpYxqP8sFHmR",
        "outputId": "22ab06c3-1eb8-49b7-cc54-9b6068591cc8"
      },
      "outputs": [],
      "source": [
        "# Pegar el código anterior en esta celda si se quiere ver como se ejecuta"
      ]
    },
    {
      "cell_type": "markdown",
      "metadata": {
        "id": "z-M_ya3kbfUs"
      },
      "source": [
        "\n",
        "\n",
        "La condición del bucle es `True`, que siempre es verdadera, por lo que el bucle se ejecuta hasta que llega a la sentencia `break`.\n",
        "\n",
        "Cada vez ingresa al cuerpo del `while` el programa  le muestra al usuario un corchete angular. Si el usuario escribe `listo`, la instrucción `break` termina el ciclo. De lo contrario, el programa imprime lo que escribe el usuario y vuelve al principio del ciclo. Aquí hay una muestra de ejecución:\n",
        "```\n",
        "> Hola\n",
        "Hola\n",
        "> listo\n",
        "¡Listo!\n",
        "```\n",
        "\n",
        "Sin embargo, no se recomienda escribir bucles con `break`. En  general, debe controlarse la iteración en el bucle por la condición  del `while`. Agregar un medio para detener repentinamente el ciclo fuera del enfoque normal puede hacer que el código sea difícil de entender y depurar. En el código anterior podría haberse evitado fácilmente el uso del `break` con lo siguiente:\n",
        "\n",
        "```\n",
        "linea = ''\n",
        "while linea != 'listo':\n",
        "    linea = input('> ')\n",
        "    print(linea)\n",
        "print('¡Listo!')\n",
        "```\n"
      ]
    },
    {
      "cell_type": "code",
      "execution_count": null,
      "metadata": {
        "colab": {
          "base_uri": "https://localhost:8080/"
        },
        "id": "FtTM0PGvbfgu",
        "outputId": "ba5e8532-f2db-4103-a6b5-60c743182ada"
      },
      "outputs": [],
      "source": []
    },
    {
      "cell_type": "markdown",
      "metadata": {
        "id": "3VIPcr6lyMdp"
      },
      "source": [
        "Otro ejemplo de lo que *no* es conveniente hacer:"
      ]
    },
    {
      "cell_type": "code",
      "execution_count": null,
      "metadata": {
        "colab": {
          "base_uri": "https://localhost:8080/"
        },
        "id": "qMhnjVEdxau1",
        "outputId": "859f8ee4-a38d-4663-edc1-638492b4dca3"
      },
      "outputs": [],
      "source": [
        "def raiz_entera(n: int) -> int:\n",
        "    # pre: n >= 0\n",
        "    # post: devuelve k tal que k**2 <= n < (k + 1)**2\n",
        "    k = 0\n",
        "    for x in range(n):\n",
        "        if x**2 > n:\n",
        "            k = x -1\n",
        "            break\n",
        "    return k\n",
        "\n",
        "print(raiz_entera(200))"
      ]
    },
    {
      "cell_type": "markdown",
      "metadata": {
        "id": "6-HpQJDt6nWZ"
      },
      "source": [
        "La forma correcta de calcular la raíz entera es como se vió en la sección anterior, es decir:"
      ]
    },
    {
      "cell_type": "code",
      "execution_count": null,
      "metadata": {
        "id": "OvkxZtOqugkK"
      },
      "outputs": [],
      "source": [
        "def raiz_entera(n: int) -> int:\n",
        "    # pre: n >= 0\n",
        "    # post: devuelve k tal que k**2 <= n < (k + 1)**2\n",
        "    k = 0\n",
        "    while k**2 <= n:\n",
        "        k = k + 1\n",
        "    return k - 1"
      ]
    },
    {
      "cell_type": "markdown",
      "metadata": {
        "id": "2z6zqILjbeY5"
      },
      "source": [
        "## 4. Ejemplos de uso correcto de ciclos\n",
        "\n",
        "Como ya vimos (casi) nunca debemos usar `break` en los ciclos.\n"
      ]
    },
    {
      "cell_type": "markdown",
      "metadata": {
        "id": "oSqRUwVNfafH"
      },
      "source": [
        "Veamos otro ejemplo, ahora con el `for`: supongamos  que queremos averiguar si un número `n` es primo o no. Una forma sencilla de hacerlo es ir dividiendo por todos los números de `2` hasta `n-1` y si encontramos que uno de esos número divide a `n` el número es compuesto, en caso contrario es primo. Una implementación rápida podría ser"
      ]
    },
    {
      "cell_type": "code",
      "execution_count": null,
      "metadata": {
        "colab": {
          "base_uri": "https://localhost:8080/",
          "height": 540
        },
        "id": "KSuTuVrdgK33",
        "outputId": "5bcfc079-7253-44ac-95ac-8cb216a4e2fd"
      },
      "outputs": [],
      "source": [
        "def es_primo(n: int) -> bool:\n",
        "    # pre: n > 0\n",
        "    # post: devuelve True si n  es primo, en caso contrario devuelve False\n",
        "    primo = True\n",
        "    for i in range(2, n):\n",
        "        if n % i == 0:\n",
        "            primo = False\n",
        "            print(i, 'es divisor de', n)\n",
        "    return primo\n",
        "\n",
        "print(es_primo(1070567)) # True\n",
        "print(es_primo(10705671)) # False\n",
        "# print(es_primo(10705670567056811)) # False (tarda mucho)\n",
        "# print(es_primo(563456345634569)) # True (tarda mucho)"
      ]
    },
    {
      "cell_type": "markdown",
      "metadata": {
        "id": "2L2Kd9uwCiBT"
      },
      "source": [
        "Observar que esta función verifica *todos* los números menores que el número de input. En particular `es_primo(n)` imprime todos los divisores de `n`. Por lo tanto,  no es una función eficiente, ni mucho menos, especialmente cuando el número es divisible por primos \"pequeños\".\n",
        "\n",
        "Con eso en mente, podemos implementar un  código que refleje la siguiente idea: \"todo número es primo hasta que se demuestre lo contrario y en ese caso devuelvo `False`\"."
      ]
    },
    {
      "cell_type": "code",
      "execution_count": null,
      "metadata": {
        "colab": {
          "base_uri": "https://localhost:8080/"
        },
        "id": "Yfp0fAmWB8n7",
        "outputId": "811b015a-6969-499b-b2c9-88ff6826c7bc"
      },
      "outputs": [],
      "source": [
        "def es_primo(n: int) -> bool:\n",
        "    # pre: n > 0\n",
        "    # post: devuelve True si n  es primo, en caso contrario devuelve False\n",
        "    primo = True\n",
        "    for i in range(2, n):\n",
        "        if n % i == 0:\n",
        "            primo = False\n",
        "            # print(i, 'es divisor de', n)\n",
        "            break\n",
        "    return primo\n",
        "\n",
        "print(es_primo(1070567)) # True\n",
        "print(es_primo(10705671)) # False\n",
        "print(es_primo(10705670567056811)) # False\n",
        "# print(es_primo(563456345634569)) # True (tarda mucho)"
      ]
    },
    {
      "cell_type": "markdown",
      "metadata": {
        "id": "42Gf7Eudg7bV"
      },
      "source": [
        "Esta implementación es correcta y traduce eficientemente el algoritmo que habíamos pensado.  Sin embargo, \"romper\" un ciclo `for` con un `break` no es una práctica recomendada. En este caso, donde el código es muy sencillo, no habría problemas, pero para códigos más complejos,  como ya dijimos, puede traer problemas.\n",
        "\n",
        "Una propuesta sin el uso de `break` puede ser la siguiente:"
      ]
    },
    {
      "cell_type": "code",
      "execution_count": null,
      "metadata": {
        "colab": {
          "base_uri": "https://localhost:8080/"
        },
        "id": "UuQM_F_sh6JO",
        "outputId": "326a0d8d-f3ca-4c22-a65d-96dc41583c33"
      },
      "outputs": [],
      "source": [
        "def es_primo(n: int) -> bool:\n",
        "    # pre: n > 0\n",
        "    # post: devuelve True si n  es primo, en caso contrario devuelve False\n",
        "    primo = True\n",
        "    i = 2\n",
        "    while i < n and primo == True:\n",
        "        if n % i == 0:\n",
        "            primo = False\n",
        "        i += 1\n",
        "    return primo\n",
        "\n",
        "print(es_primo(1070567)) # True\n",
        "print(es_primo(10705671)) # False\n",
        "print(es_primo(10705670567056811)) # False\n",
        "# print(es_primo(563456345634569)) # True (tarda mucho)"
      ]
    },
    {
      "cell_type": "markdown",
      "metadata": {
        "id": "RwOygMfGtk0B"
      },
      "source": [
        "El código anterior es igual de eficiente que el del `for` con un `break` pero está mejor estructurado."
      ]
    },
    {
      "cell_type": "markdown",
      "metadata": {
        "id": "GzECkc2piPKH"
      },
      "source": [
        "Observemos que el `for` debió ser reemplazado por el `while` puesto que estamos en el caso de un ciclo que no sabemos cuantas repeticiones tendrá.\n",
        "\n",
        "Hay muchas formas  de hacer este programa, veamos otra forma. Usualmente podemos usar la negación de la condición que disparaba el `break` como una condición del `while`:"
      ]
    },
    {
      "cell_type": "code",
      "execution_count": null,
      "metadata": {
        "colab": {
          "base_uri": "https://localhost:8080/"
        },
        "id": "6cjakvoVjm3w",
        "outputId": "995f7986-562e-478b-876b-a1e8b50239ce"
      },
      "outputs": [],
      "source": [
        "def es_primo(n: int) -> bool:\n",
        "    # pre: n > 0\n",
        "    # post: devuelve True si n  es primo, en caso contrario devuelve False\n",
        "    i = 2\n",
        "    while i < n and n % i != 0:\n",
        "        i += 1\n",
        "    if i < n:\n",
        "        return False\n",
        "    else:\n",
        "        return True\n",
        "\n",
        "print(es_primo(563456345634567)) # False"
      ]
    },
    {
      "cell_type": "markdown",
      "metadata": {
        "id": "pj3Bo_dzCfcE"
      },
      "source": [
        "La función definida arriba tiene dos `return` y eso es algo que debería evitarse, lo ideal es que haya un solo `return` al final del cuerpo de la función.  "
      ]
    },
    {
      "cell_type": "markdown",
      "metadata": {
        "id": "emyaBhcO2U2y"
      },
      "source": [
        "Es preferible la siguiente definición:"
      ]
    },
    {
      "cell_type": "code",
      "execution_count": null,
      "metadata": {
        "colab": {
          "base_uri": "https://localhost:8080/"
        },
        "id": "wlGSQXSa2che",
        "outputId": "ccefa683-40cf-4f55-888e-9c19197fcef0"
      },
      "outputs": [],
      "source": [
        "def es_primo(n: int) -> bool:\n",
        "    # pre: n > 0\n",
        "    # post: devuelve True si n  es primo, en caso contrario devuelve False\n",
        "    primo = True\n",
        "    i = 2\n",
        "    while i < n and n % i != 0:\n",
        "        i += 1\n",
        "    if i < n:\n",
        "        primo =  False\n",
        "    return primo\n",
        "\n",
        "print(es_primo(563456345634567)) # False"
      ]
    },
    {
      "cell_type": "markdown",
      "metadata": {
        "id": "5ygpXiERkA7r"
      },
      "source": [
        "O la forma más concisa,  que pareciera ser la mejor con este algoritmo en mente:"
      ]
    },
    {
      "cell_type": "code",
      "execution_count": null,
      "metadata": {
        "id": "RMw19YgYkEDD"
      },
      "outputs": [],
      "source": [
        "def es_primo(n: int) -> bool:\n",
        "    # pre: n > 0\n",
        "    # post: devuelve True si n  es primo, en caso contrario devuelve False\n",
        "    i = 2\n",
        "    while i < n and n % i != 0:\n",
        "        i += 1\n",
        "    return i == n"
      ]
    },
    {
      "cell_type": "markdown",
      "metadata": {
        "id": "v3VOTTs9bfp6"
      },
      "source": [
        "## 5. Método de Newton para la raíz cuadrada\n",
        "\n",
        "El *método de Newton* o de *Newton-Raphson* es un algoritmo para encontrar aproximaciones de los ceros o raíces de una función real. Una explicación completa se puede encontrar en Wikipedia en el artículo [Método de Newton](https://es.wikipedia.org/wiki/M%C3%A9todo_de_Newton).\n",
        "\n",
        "Se puede utilizar el  método de Newton para encontrar una aproximación numérica de la raíz cuadrada de un número real. Observar que si $a >0$\n",
        "\\begin{equation*}\n",
        "b = \\sqrt{a}\\quad \\Leftrightarrow \\quad b^2 = a \\quad\\Leftrightarrow\\quad b^2-a=0.\n",
        "\\end{equation*}\n",
        "Es decir, $\\sqrt{a}$ es raíz de la función $f(x) = x^2 -a$. El algoritmo que se obtiene de aplicar el  método de Newton a $f$ se puede describir de la siguiente forma:\n",
        "1. Sea $x_0$ un valor inicial arbitrario ($>0$).\n",
        "2. Sea\n",
        "\\begin{equation*}\n",
        "x_{n+1} = \\frac12(x_n + \\frac{a}{x_n}) \\tag{*}\n",
        "\\end{equation*}\n",
        "para $n \\ge 0$.\n",
        "\n",
        "3. Aplique la fórmula (*) desde $n=0$ en adelante hasta obtener un $x_n$ que se aproxime \"lo suficiente\".\n",
        "\n",
        "En el ítem 3. la frase \"lo suficiente\" no es del todo clara y  trataremos de interpretarla a lo largo de la sección.\n",
        "\n",
        "Veamos como funciona en algún caso particular, por ejemplo, si $a$ es $4$ y $x_0$ es $3$. De ahora en más, por ser más cómodo; llamaremos $x$  a $x_n$ (el valor original) e $y$ a $x_{n+1}$ (el valor que se obtiene). Luego la fórmula (*) se reescribe:\n",
        "\\begin{equation}\n",
        "y = \\frac12(x + \\frac{a}{x}) \\tag{*}\n",
        "\\end{equation}\n",
        "\n",
        "Con esta fórmula en mente, la primera aproximación a $\\sqrt{4} =2$ es\n"
      ]
    },
    {
      "cell_type": "code",
      "execution_count": null,
      "metadata": {
        "colab": {
          "base_uri": "https://localhost:8080/"
        },
        "id": "vKZOkNKjbfy4",
        "outputId": "98d18728-bef8-46a7-c84c-605e74074b7b"
      },
      "outputs": [],
      "source": [
        "a = 4\n",
        "x = 3\n",
        "y = (1/2)*(x + a/x)\n",
        "print(y)"
      ]
    },
    {
      "cell_type": "markdown",
      "metadata": {
        "id": "lW51NjoXbf8B"
      },
      "source": [
        "El resultado es `2.1666666666666665` que está más cerca que `3` de la respuesta correcta ($\\sqrt{4} = 2$). Si nosotros repetimos el proceso con la nueva estimación, se acerca aún más:\n"
      ]
    },
    {
      "cell_type": "code",
      "execution_count": null,
      "metadata": {
        "colab": {
          "base_uri": "https://localhost:8080/"
        },
        "id": "6GzSJcFrbgE-",
        "outputId": "68ab7faa-e85a-4094-c48a-5fe58e07b73e"
      },
      "outputs": [],
      "source": [
        "x = y # el nuevo x es el y  anterior\n",
        "y = (1/2)*(x + a/x)\n",
        "print(y)"
      ]
    },
    {
      "cell_type": "markdown",
      "metadata": {
        "id": "l2ks9L7rbgPc"
      },
      "source": [
        "De la celda anterior obtenemos `2.0064102564102564`. Después de algunas actualizaciones más, la estimación es muy precisa:"
      ]
    },
    {
      "cell_type": "code",
      "execution_count": null,
      "metadata": {
        "colab": {
          "base_uri": "https://localhost:8080/"
        },
        "id": "1JgqkRFobgaR",
        "outputId": "c2217001-1669-4ceb-f5aa-a141c31665db"
      },
      "outputs": [],
      "source": [
        "x = y\n",
        "y = (1/2)*(x + a/x)\n",
        "print(y)\n",
        "x = y\n",
        "y = (1/2)*(x + a/x)\n",
        "print(y)"
      ]
    },
    {
      "cell_type": "markdown",
      "metadata": {
        "id": "9qrl_WUm8X4W"
      },
      "source": [
        "Finalmente,  con una aproximación más obtenemos el resultado exacto:"
      ]
    },
    {
      "cell_type": "code",
      "execution_count": null,
      "metadata": {
        "colab": {
          "base_uri": "https://localhost:8080/"
        },
        "id": "XHZ-OT_N8YCs",
        "outputId": "7fb08f9f-e815-41aa-8c3b-372c685763b4"
      },
      "outputs": [],
      "source": [
        "x = y\n",
        "y = (1/2)*(x + a/x)\n",
        "print(y)"
      ]
    },
    {
      "cell_type": "markdown",
      "metadata": {
        "id": "qfyJxcFt7hUC"
      },
      "source": [
        "En general, no sabemos de antemano cuántos pasos se necesitan para llegar a la respuesta correcta, pero sabemos cuándo llegamos porque la estimación\n",
        "deja de cambiar:"
      ]
    },
    {
      "cell_type": "code",
      "execution_count": null,
      "metadata": {
        "colab": {
          "base_uri": "https://localhost:8080/"
        },
        "id": "uuUEI_9_7hbQ",
        "outputId": "a2380aa6-5aca-4f03-c327-59f1342acb09"
      },
      "outputs": [],
      "source": [
        "x = y\n",
        "y = (1/2)*(x + a/x)\n",
        "print(y)"
      ]
    },
    {
      "cell_type": "markdown",
      "metadata": {
        "id": "pAAuPwpK7hkP"
      },
      "source": [
        "Cuando `y == x`, podemos detenernos. Aquí hay un bucle que comienza\n",
        "con una estimación inicial, `x`, y la mejora hasta que deja de cambiar. Podemos escribir la función `raiz_cuadrada()` de la siguiente forma:\n"
      ]
    },
    {
      "cell_type": "code",
      "execution_count": null,
      "metadata": {
        "colab": {
          "base_uri": "https://localhost:8080/"
        },
        "id": "eI8lPcie7hs1",
        "outputId": "4e606dc7-ab04-4f97-deca-078a7dc3ec5e"
      },
      "outputs": [],
      "source": [
        "def raiz_cuadrada(a: float) -> float:\n",
        "    # pre: a > 0\n",
        "    # post: devuelve y una aproximación de la raíz cuadrada de a\n",
        "    x = a / 2 # aproximamos la raíz de a por a/2\n",
        "    y = (1/2)*(x + a/x)\n",
        "    while y != x:\n",
        "        x = y # el último calculado pasa a ser el que se usa para calcular el próximo\n",
        "        y = (1/2)*(x + a/x)\n",
        "    return y\n",
        "\n",
        "print(raiz_cuadrada(4), raiz_cuadrada(4)**2)\n",
        "print(raiz_cuadrada(9), raiz_cuadrada(9)**2)\n",
        "print(raiz_cuadrada(30), raiz_cuadrada(30)**2)\n",
        "print(raiz_cuadrada(101), raiz_cuadrada(101)**2)\n",
        "print(raiz_cuadrada(102), raiz_cuadrada(102)**2)"
      ]
    },
    {
      "cell_type": "markdown",
      "metadata": {
        "id": "Zj48R0CC7h04"
      },
      "source": [
        "Para muchos de los valores de `a` esto funciona bien, pero en general no es recomendable probar la igualdad de dos `float`. Los valores de coma flotante son solo aproximadamente correctos: la mayoría de los números racionales, como $ 1/3 $, y los números irracionales, como $\\sqrt{2}$, no se pueden representar exactamente con un `float`.\n",
        "\n",
        "En lugar de comprobar si `x` e `y` son exactamente iguales, es más seguro usar la función `abs` que devuelve el valor absoluto de un número real:  detenemos el bucle cuando `abs(x - y)` es menor que un error que consideramos aceptable. Redefinamos la función:"
      ]
    },
    {
      "cell_type": "code",
      "execution_count": null,
      "metadata": {
        "colab": {
          "base_uri": "https://localhost:8080/"
        },
        "id": "EmotVaV07h98",
        "outputId": "b7be1321-ef17-4e4b-f0ae-cff600256d64"
      },
      "outputs": [],
      "source": [
        "def raiz_cuadrada(a: float) -> float:\n",
        "    # pre: a > 0\n",
        "    # post: devuelve y una aproximación de la raíz cuadrada de a\n",
        "    x = a / 2 # aproximamos la raíz de a por a/2\n",
        "    y = (1/2)*(x + a/x)\n",
        "    error = 0.0001\n",
        "    while abs(x - y) > error:\n",
        "        x = y\n",
        "        y = (1/2)*(x + a/x)\n",
        "    return y\n",
        "\n",
        "print(raiz_cuadrada(4), raiz_cuadrada(4)**2)\n",
        "print(raiz_cuadrada(9), raiz_cuadrada(9)**2)\n",
        "print(raiz_cuadrada(30), raiz_cuadrada(30)**2)\n",
        "print(raiz_cuadrada(101), raiz_cuadrada(101)**2)\n",
        "print(raiz_cuadrada(102), raiz_cuadrada(102)**2)"
      ]
    },
    {
      "cell_type": "code",
      "execution_count": null,
      "metadata": {
        "colab": {
          "base_uri": "https://localhost:8080/"
        },
        "id": "XZSaplFc9xRu",
        "outputId": "c062155d-b65d-4e2c-99cc-e219ce81152c"
      },
      "outputs": [],
      "source": [
        "def raiz_cuadrada(a: float) -> float:\n",
        "    \"\"\"\n",
        "    pre: a > 0\n",
        "    post: devuelve y una aproximación de la raíz cuadrada de a\n",
        "    \"\"\"\n",
        "    x = a / 2 # aproximamos la raíz de a por a/2\n",
        "    y = (1/2)*(x + a/x)\n",
        "    error = 0.00001\n",
        "    while abs(x**2 - a) > error:\n",
        "        x = y\n",
        "        y = (1/2)*(x + a/x)\n",
        "    return y\n",
        "n = 4\n",
        "print('raíz cuadrada de:', n, 'es', raiz_cuadrada(n),'que elevado al cuadrado  es', raiz_cuadrada(n)**2)\n",
        "n = 9\n",
        "print('raíz cuadrada de:', n, 'es', raiz_cuadrada(n),'que elevado al cuadrado  es', raiz_cuadrada(n)**2)\n",
        "n = 30\n",
        "print('raíz cuadrada de:', n, 'es', raiz_cuadrada(n),'que elevado al cuadrado  es', raiz_cuadrada(n)**2)\n",
        "n = 101\n",
        "print('raíz cuadrada de:', n, 'es', raiz_cuadrada(n),'que elevado al cuadrado  es', raiz_cuadrada(n)**2)\n",
        "n = 102\n",
        "print('raíz cuadrada de:', n, 'es', raiz_cuadrada(n),'que elevado al cuadrado  es', raiz_cuadrada(n)**2)\n",
        "\n"
      ]
    },
    {
      "cell_type": "markdown",
      "metadata": {
        "id": "15isWc-3DjtS"
      },
      "source": [
        "Esta última sería la forma más correcta de escribir la función. La primera forma, sin el error, depende mucho de la implementación del compilador y se pueden obtener resultados inciertos."
      ]
    },
    {
      "cell_type": "markdown",
      "metadata": {
        "id": "AQacMVGhibPD"
      },
      "source": [
        "## 6. Programación defensiva\n",
        "\n",
        "El primer paso para obtener las resultados correctos de nuestros programas es asumir que los errores sucederán y protegerse contra ellos. Esto se llama programación defensiva, y la forma más común de hacerlo es agregar aserciones a nuestro código para que se compruebe a sí mismo a medida que se ejecuta. Una *aserción* es simplemente una declaración de que algo debe ser cierto en un cierto punto de un programa. La sintaxis de la aserción es la siguiente\n",
        "\n",
        "```\n",
        "assert condición, 'Cadena  que se imprime cuando condición == False'\n",
        "```\n",
        "\n",
        "\n",
        "\n",
        "Cuando Python ve una aserción, evalúa la condición de la aserción. Si es cierta, Python no hace nada, pero si es falsa, Python detiene el programa inmediatamente e imprime el mensaje de error explicitado por el programador. Por ejemplo, este fragmento de código suma todos los números de una lista de números positivos:\n"
      ]
    },
    {
      "cell_type": "code",
      "execution_count": null,
      "metadata": {
        "id": "THihhUwziwKq"
      },
      "outputs": [],
      "source": [
        "numeros = [1.5, 2.3, 0.7, 0.001, 4.4] # lista de números (veremos esto en profundidad más adelante)\n",
        "total = 0.0\n",
        "for n in numeros:\n",
        "    assert n > 0.0, 'Los datos solo deben contener valores positivos (' + str(n) + ' <= 0).'\n",
        "    total += n\n",
        "print('El total es:', total)"
      ]
    },
    {
      "cell_type": "markdown",
      "metadata": {
        "id": "JjwfI58xzqqY"
      },
      "source": [
        "En  caso que la lista de números contenga un número no positivo,  obtendremos un error por el `assert`:"
      ]
    },
    {
      "cell_type": "code",
      "execution_count": null,
      "metadata": {
        "id": "UX0btmvRz2zj"
      },
      "outputs": [],
      "source": [
        "numeros = [1.5, 2.3, 0.7, -0.001, 4.4]\n",
        "total = 0.0\n",
        "for n in numeros:\n",
        "    assert n > 0.0, 'Los datos solo deben contener valores positivos (' + str(n) + ' <= 0).'\n",
        "    total += n\n",
        "print('El total es:', total)"
      ]
    },
    {
      "cell_type": "markdown",
      "metadata": {
        "id": "guHfD7NP0AjJ"
      },
      "source": [
        "### Precondiciones y postcondiciones (revisado)\n",
        "Repasemos el concepto de precondición y postcondición y veamos que en algunos casos pueden verificarse con el comando `assert`. Como ya vimos, las *precondiciones* y *postcondiciones* son anotaciones dentro del cuerpo de una función que nos sirven para saber como deben ser los parámetros que recibe la función y  que es lo que hace la función:\n",
        "\n",
        "- *Precondición:* es algo que debe ser cierto cuando comienza la la función, para que esta funcione correctamente.\n",
        "- *Postcondición:* es algo que la función garantiza cierto cuando la misma termina.\n",
        "\n",
        "Las precondiciones y postcondiciones son parte de la documentación del programa y suelen escribirse como comentarios formales cuando se puede, o en caso contrario informales.\n",
        "\n",
        "En el caso que se puedan formalizar en Python,  se pueden reemplazar o completar con `assert`.\n",
        "\n",
        "Veamos un ejemplo con el máximo común divisor. La función escrita en la siguiente celda de código determina  el máximo común divisor de `a` y `b` cuando `a` y `b` son enteros no negativos y uno de ellos es mayor que 0.\n",
        "\n",
        "El algoritmo se basa en la dos propiedades siguientes: si $x$, $y$  son enteros,  con $y$ no nulo,  entonces:\n",
        "\\begin{align}\n",
        "\\operatorname{mcd}(x, y) &= \\operatorname{mcd}(x, y - x) \\\\\n",
        "\\operatorname{mcd}(0, y) &= y.\n",
        "\\end{align}"
      ]
    },
    {
      "cell_type": "code",
      "execution_count": null,
      "metadata": {
        "id": "4cfEdgrM3-La"
      },
      "outputs": [],
      "source": [
        "# 1º versión.\n",
        "def mcd(a, b: int) -> int:\n",
        "    x, y = min(a, b), max(a, b)\n",
        "    while x != 0: # \"mientras x distinto de 0\"\n",
        "        x, y = min(x, y - x), max(x, y - x)\n",
        "    return y\n",
        "\n",
        "mcd(15, 24)\n",
        "#mcd(-3, 2)"
      ]
    },
    {
      "cell_type": "markdown",
      "metadata": {
        "id": "CQbh3XNNHBTl"
      },
      "source": [
        "Esta función se comporta bien mientras `a` y `b` cumplan que son no negativos y al menos uno sea no nulo. Verificar, por ejemplo, que\n",
        "\n",
        "\n",
        "```\n",
        "mcd(-3, 2)\n",
        "```\n",
        "es una instrucción que no termina.\n",
        "\n",
        "Agreguemos ahora precondiciones y postcondiciones de manera informal:\n",
        "\n",
        "\n"
      ]
    },
    {
      "cell_type": "code",
      "execution_count": null,
      "metadata": {
        "id": "TElaRuxx1dfd"
      },
      "outputs": [],
      "source": [
        "# 2º versión.\n",
        "def mcd(a, b: int) -> int:\n",
        "    # pre: a y b no negativos, al menos uno de ellos no nulo.\n",
        "    # post: devuelve el mcd de a y b\n",
        "    x, y = min(a, b), max(a, b)\n",
        "    while x != 0: # \"mientras x distinto de 0\"\n",
        "        x, y = min(x, y - x), max(x, y - x)\n",
        "    return y"
      ]
    },
    {
      "cell_type": "markdown",
      "metadata": {
        "id": "xgPp3EqLD0_l"
      },
      "source": [
        "En  la tercera versión la precondición se escribe de manera formal, pero sigue siendo un comentario:"
      ]
    },
    {
      "cell_type": "code",
      "execution_count": null,
      "metadata": {
        "id": "VvQQvyPh2Rf9"
      },
      "outputs": [],
      "source": [
        "# 3º versión\n",
        "def mcd(a, b: int) -> int:\n",
        "    # pre: (a >= 0 and b >=0) and (a != 0 or b != 0).\n",
        "    # post: devuelve el mdc de a y b\n",
        "    x, y = min(a, b), max(a, b)\n",
        "    while x != 0: # \"mientras x distinto de 0\"\n",
        "        x, y = min(x, y - x), max(x, y - x)\n",
        "    return y"
      ]
    },
    {
      "cell_type": "markdown",
      "metadata": {
        "id": "zO95CrpMD_-1"
      },
      "source": [
        "La tercera versión no difiere en nada, al tiempo de ejecutarse, a la segunda versión, por lo tanto existe la posiblidad de entrar en un ciclo infinito para ciertos valores de `a`  y `b`.\n",
        "\n",
        "En  la tercera versión hemos formalizado la precondición en lenguaje Python y por lo tanto  la podemos formalizar programáticamente con `assert`:"
      ]
    },
    {
      "cell_type": "code",
      "execution_count": null,
      "metadata": {
        "id": "3j6SIAWB2ziP"
      },
      "outputs": [],
      "source": [
        "# 4º versión\n",
        "def mcd(a, b: int) -> int:\n",
        "    # pre: (a >= 0 and b >=0) and (a != 0 or b != 0).\n",
        "    assert type(a) == int and type(b) == int, \"Los parámetros deben ser enteros\"\n",
        "    assert (a >= 0 and b >=0) and (a != 0 or b != 0), \"Los parámetros deben ser no negativos, al menos uno de ellos no nulo\"\n",
        "    # post: devuelve el mdc de a y b\n",
        "    x, y = min(a, b), max(a, b)\n",
        "    while x != 0: # \"mientras x distinto de 0\"\n",
        "        x, y = min(x, y - x), max(x, y - x)\n",
        "    return y\n",
        "\n",
        "print(mcd(15, 24))\n",
        "# print(mcd(-3, 2))"
      ]
    },
    {
      "cell_type": "markdown",
      "metadata": {
        "id": "cK11z4vzJ1Vw"
      },
      "source": [
        "Esta cuarta versión produce un error y detiene el programa cuando `a` y `b` no cumplen la precondición. En  este caso el `assert` nos garantiza que no se producirá un ciclo infinito y por lo tanto juega un rol importante em el programa.\n",
        "\n",
        "En el caso de la función `mcd()` formalizar matemáticamente la  postcondición es posible, pero en general la postcondición no se implementa con un `assert`. Por lo tanto la podemos dejar escrita de manera informal o la escribimos con el formalismo de la matemática, pero sin hacer un `assert` para verificarla.\n",
        "\n",
        "Por otro  lado, hacer un `assert` para la postcondición no parece razonable, puesto que si la función está bien implementada la postcondición siempre debe cumplirse y si ocurriera en algún caso que no se cumple es porque la función está mal definida.\n"
      ]
    },
    {
      "cell_type": "code",
      "execution_count": null,
      "metadata": {
        "id": "UZMRX0H9KnFX"
      },
      "outputs": [],
      "source": [
        "# 5º versión\n",
        "def mcd(a, b: int) -> int:\n",
        "    # pre: (a >= 0 and b >=0) and (a != 0 or b != 0).\n",
        "    assert type(a) == int and type(b) == int, \"Los parámetros deben ser enteros\"\n",
        "    assert (a >= 0 and b >=0) and (a != 0 or b != 0), \"Los parámetros deben ser no negativos, al menos uno de ellos no nulo\"\n",
        "    # post: devuelve d tal que\n",
        "    #       1) a % d == 0 and b % d == 0, y\n",
        "    #       2) si c entero y (a % c == 0 and b % c == 0) => d % c == 0\n",
        "    x, y = min(a, b), max(a, b)\n",
        "    while x != 0: # \"mientras x distinto de 0\"\n",
        "        x, y = min(x, y - x), max(x, y - x)\n",
        "    return y"
      ]
    },
    {
      "cell_type": "markdown",
      "metadata": {},
      "source": [
        "## 7. Implementación iterativa de funciones recursivas\n",
        "\n",
        "Se puede implementar de forma iterativa una función recursiva y veremos a continuación algunos ejemplos."
      ]
    },
    {
      "cell_type": "markdown",
      "metadata": {},
      "source": [
        "Implementemos la función $n!$,  es decir la función definida recursivamente como $0!=1$ y $n! = n \\cdot (n-1)!$ para $n \\ge 1$."
      ]
    },
    {
      "cell_type": "code",
      "execution_count": null,
      "metadata": {},
      "outputs": [],
      "source": [
        "def  factorial(n: int) -> int:\n",
        "    \"\"\"\n",
        "    pre: n entero >= 0.\n",
        "    post: devuelve n!\n",
        "    \"\"\"\n",
        "    ret = 1\n",
        "    if n == 0:\n",
        "        ret = 1\n",
        "    else:\n",
        "        for i in range(1, n+1):\n",
        "            ret = i * ret\n",
        "    return ret"
      ]
    },
    {
      "cell_type": "code",
      "execution_count": null,
      "metadata": {},
      "outputs": [],
      "source": [
        "factorial(5)"
      ]
    },
    {
      "cell_type": "markdown",
      "metadata": {},
      "source": [
        "que se podría escribir en forma más simple:"
      ]
    },
    {
      "cell_type": "code",
      "execution_count": null,
      "metadata": {},
      "outputs": [],
      "source": [
        "def  factorial(n: int) -> int:\n",
        "    \"\"\"\n",
        "    pre: n entero >= 0.\n",
        "    post: devuelve n!\n",
        "    \"\"\"\n",
        "    ret = 1\n",
        "    for i in range(1, n+1):\n",
        "        ret = i * ret\n",
        "    return ret"
      ]
    },
    {
      "cell_type": "markdown",
      "metadata": {},
      "source": [
        "Como se puede observar la implementación iterativa de la recursión  es bastante sencilla:  sa va guardando  en una variable los valores intermedios y se van obteniendo nuevos valores usando la fórmula recursiva.\n",
        "\n",
        "Probemos la función para algunos valores:"
      ]
    },
    {
      "cell_type": "code",
      "execution_count": null,
      "metadata": {},
      "outputs": [],
      "source": [
        "for  i in range(10):\n",
        "    print(str(i)+'! =',factorial(i))"
      ]
    },
    {
      "cell_type": "markdown",
      "metadata": {},
      "source": [
        "Ahora implementemos una función un poco más complicada:  \n",
        "\\begin{equation*}\n",
        " f(n) = \\left\\{\\begin{matrix}\n",
        "  7,  \\qquad\\qquad\\qquad\\;\\text{ si $n=1$}  \\\\n^2f({n-1}) +2n, \\text{ para $n\\geq 2$}.\n",
        "  \\end{matrix}\\right.\n",
        "\\end{equation*}"
      ]
    },
    {
      "cell_type": "code",
      "execution_count": null,
      "metadata": {},
      "outputs": [],
      "source": [
        "def f(n: int) -> int:\n",
        "    \"\"\"\n",
        "    pre: n entero >= 1.\n",
        "    post: devuelve f(n)\n",
        "    \"\"\"\n",
        "    if n == 1:\n",
        "        ret = 7\n",
        "    else:\n",
        "        ret = 7\n",
        "        for i in range(2, n + 1):\n",
        "            ret = i**2 * ret + 2 * i\n",
        "    return ret"
      ]
    },
    {
      "cell_type": "markdown",
      "metadata": {},
      "source": [
        "Que podemos escribir en forma equivalente:"
      ]
    },
    {
      "cell_type": "code",
      "execution_count": null,
      "metadata": {},
      "outputs": [],
      "source": [
        "def f(n: int) -> int:\n",
        "    \"\"\"\n",
        "    pre: n entero >= 1.\n",
        "    post: devuelve f(n)\n",
        "    \"\"\"\n",
        "    ret = 7\n",
        "    for i in range(2, n + 1):\n",
        "        ret = i**2 * ret + 2 * i\n",
        "    return ret"
      ]
    },
    {
      "cell_type": "markdown",
      "metadata": {},
      "source": [
        "Es interesante ver la función en Python Tutor.\n",
        "\n",
        "Python Tutor es una herramienta en línea que permite visualizar el flujo de ejecución de programas escritos en Python. Python Tutor muestra el estado de las variables en cada línea de código y permite avanzar o retroceder en la ejecución del programa.\n",
        "\n",
        "Pegue el código anterior en Python Tutor ([https://pythontutor.com](https://pythontutor.com)) y calcule `f(4)`."
      ]
    },
    {
      "cell_type": "markdown",
      "metadata": {},
      "source": [
        "Aquí se muestran los valores de la función para valores de $1$ a $9$."
      ]
    },
    {
      "cell_type": "code",
      "execution_count": null,
      "metadata": {},
      "outputs": [],
      "source": [
        "for  i in range(1, 10):\n",
        "    print('f('+str(i)+') =',f(i))"
      ]
    },
    {
      "cell_type": "markdown",
      "metadata": {},
      "source": [
        "Cuando la función se basa en más de un caso anterior, también es posible obtenerla de forma iterativa. Por ejemplo sea:\n",
        "\n",
        " $$\n",
        " g(n) = \\begin{cases}\n",
        "     3, \\text{ si $n=0$}\\\\\n",
        "     5, \\text{ si $n=1$}\\\\ n\\cdot g(n-1)+6g(n-2), \\text{ para $n\\geq 2$}.\n",
        "    \\end{cases}\n",
        "$$\n",
        "\n",
        "Su implementación en Python podría ser:"
      ]
    },
    {
      "cell_type": "code",
      "execution_count": null,
      "metadata": {},
      "outputs": [],
      "source": [
        "def g(n: int) -> int:\n",
        "    \"\"\"\n",
        "    pre: n >= 0\n",
        "    post: devuelve g(n)\n",
        "    \"\"\"\n",
        "    if n == 0:\n",
        "        res = 3\n",
        "    elif n == 1:\n",
        "        res = 5\n",
        "    else:\n",
        "        x, y = 5, 3 # x es el anterior, y  es el anterior del anterior\n",
        "        for i in range(2, n + 1):\n",
        "            x, y = i * x + 6 * y, x\n",
        "        res = x\n",
        "    return res"
      ]
    },
    {
      "cell_type": "markdown",
      "metadata": {},
      "source": [
        "Como se observará,  ya no es tan sencillo como en los casos anteriores. Veamos como funciona la iteración, como para aclarar un poco.\n",
        "\n",
        "Supongamos que queremos calcular `g(3)`,  entonces se ingresa a la rama del `else` y  en el primer renglón establecemos que\n",
        "\n",
        "    x = 3 (es g(0))\n",
        "    y = 5 (es g(1))\n",
        "\n",
        "Estos son los dos valores que se utilizarán para hallar el próximo valor. En la primera iteración del `for` tenemos  que `i = 2` y por  lo tanto\n",
        "\n",
        "    x = 2 * 5 + 6 * 3 = 28 (es g(2))\n",
        "    y = 5                  (es g(1))\n",
        "\n",
        "Finalmente, `i = 3` y\n",
        "\n",
        "    x = 3 * 28 + 6 * 5 = 114 (es g(3))\n",
        "    y = 28                   (es g(2))\n",
        "\n",
        "Es decir, obtenemos que `g(3) = 114`.\n",
        "\n",
        "\n",
        "Verifiquemos algunos valores:"
      ]
    },
    {
      "cell_type": "code",
      "execution_count": null,
      "metadata": {},
      "outputs": [],
      "source": [
        "for  i in range(5):\n",
        "    print('g('+str(i)+') = '+str(g(i)))"
      ]
    },
    {
      "cell_type": "markdown",
      "metadata": {},
      "source": [
        "Podemos visualizar todos estos pasos en Python Tutor."
      ]
    },
    {
      "cell_type": "markdown",
      "metadata": {},
      "source": [
        "Finalmente, implementaremos la sumatoria de un serie de valores numéricos.\n",
        "\n",
        "Para ello necesitamos definir una función en Python con un número variable de parámetros. Para definir en Python una función con un número variable de parámetros, se utiliza el carácter asterisco (`*`) antes del nombre del último parámetro en la lista de parámetros de la función. Este parámetro se llama *parámetro de expansión* o *parámetro de lista*, y permite que la función acepte cualquier número de argumentos posicionales. Los argumentos se pasan separados por comas.\n",
        "\n",
        "En el caso que queramos definir sumatoria lo podremos hacer de la siguiente manera:\n"
      ]
    },
    {
      "cell_type": "code",
      "execution_count": null,
      "metadata": {},
      "outputs": [],
      "source": [
        "def sumatoria(*numeros):\n",
        "    \"\"\"\n",
        "    pre: numeros es una lista de números separados por comas\n",
        "    post: devuelve la suma de todo los números de la lista numeros\n",
        "    \"\"\"\n",
        "    suma = 0\n",
        "    for numero in numeros:\n",
        "        suma = suma + numero\n",
        "    return suma"
      ]
    },
    {
      "cell_type": "markdown",
      "metadata": {},
      "source": [
        "Probemos la función en algunos casos:"
      ]
    },
    {
      "cell_type": "code",
      "execution_count": null,
      "metadata": {},
      "outputs": [],
      "source": [
        "print(sumatoria(1, 2, 3))  # imprime 6\n",
        "print(sumatoria(10, 20, 30, 40, 50))  # imprime 150\n",
        "print(sumatoria(-1, 0, 1))  # imprime 0\n",
        "print(sumatoria()) # imprime 0\n"
      ]
    }
  ],
  "metadata": {
    "colab": {
      "provenance": []
    },
    "kernelspec": {
      "display_name": "Python 3 (ipykernel)",
      "language": "python",
      "name": "python3"
    },
    "language_info": {
      "codemirror_mode": {
        "name": "ipython",
        "version": 3
      },
      "file_extension": ".py",
      "mimetype": "text/x-python",
      "name": "python",
      "nbconvert_exporter": "python",
      "pygments_lexer": "ipython3",
      "version": "3.10.4"
    }
  },
  "nbformat": 4,
  "nbformat_minor": 0
}
