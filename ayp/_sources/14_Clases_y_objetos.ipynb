{
  "cells": [
    {
      "cell_type": "markdown",
      "metadata": {
        "id": "8L6Rn79DPQgi"
      },
      "source": [
        "# 14. Clases y objetos\n",
        "\n",
        "Una clase permite trabajar con un conjunto de objetos que comparten características.\n",
        "\n",
        "Después de haber aprendido lo que hemos visto de programación hasta ahora somos capaces de resolver muchos problemas utilizando selecciones, bucles y funciones. Sin embargo, estas características no son suficientes para desarrollar un software a gran escala.\n",
        "\n",
        "En este cuaderno se introduce la programación orientada a objetos lo cual permite definir tipos de datos y modularizar más aún los programas que escribimos  o los proyectos en que participamos."
      ]
    },
    {
      "cell_type": "markdown",
      "metadata": {
        "id": "uSSdgOQM9fcS"
      },
      "source": [
        "## 1. Tipos abstractos de datos\n",
        "\n",
        "Hemos visto ejemplos y ejercicios con muchas de las estructuras de datos usuales de los lenguajes de programación: enteros, reales, booleanos, strings, arreglos, tuplas, listas.\n",
        "\n",
        "Con estas estructuras de datos también es posible representar otras. Por ejemplo, hemos representado los naturales usando enteros y hemos representado las fechas utilizando ternas de enteros.\n",
        "\n",
        "De todas formas, no se obtiene el mismo grado de confianza en el funcionamiento de las operaciones sobre los tipos de datos nuestros que sobre los de Python: cuando representamos, por ejemplo, a las fechas como ternas de enteros, no hay ninguna garantía de que el programador los utilice apropiadamente: por error puede alterar el valor de uno de los elementos de la terna y transformar una fecha válida en una que no lo es.\n",
        "\n",
        "De la misma manera, cuando representamos a los naturales como enteros, puede ocurrir que por error modificamos el número y pasa a ser negativo.\n",
        "\n",
        "En nuestro auxilio surge la posibilidad, que tienen la mayoría de los lenguajes de programación, de definir apropiadamente un tipo nuevo, de manera de que el funcionamiento sea más confiable, entre muchas otras ventajas. La idea es definir un tipo nuevo y sus operaciones, de manera de que luego solamente se lo pueda manipular a través de dichas operaciones.\n",
        "\n",
        "En Python, y en la mayor parte de los lenguajes de programación modernos, definir un tipo nuevo es definir una *clase* y  cada elemento que pertenezca a esa clase (a ese tipo) se llamará un *objeto* de la clase. Los tipos ya definidos en Python son clases,  aunque nunca lo hayamos mecionado, por ejemplo `[1, 3, 7]` es un objeto o *instancia* de la clase `list`."
      ]
    },
    {
      "cell_type": "markdown",
      "metadata": {
        "id": "axBChZPvP-SV"
      },
      "source": [
        "## 2. Definición de clases\n",
        "\n",
        "Crear una clase es como si definiéramos un tipo nuevo  en el lenguaje. Utilizando la clase definida podemos crear elementos de esa clase, llamados objetos o instancias, y podemos operar sobre ellos con métodos propios de la clase.\n",
        "\n",
        "Los ingredientes más importantes de la definición de una clase son\n",
        "\n",
        "*   sus *atributos*, también llamados *campos* (fields) o *variables de estado* (instance variables)\n",
        "*   sus *métodos*, también llamados *métodos de instancias* (instance methods).\n",
        "\n",
        "Los atributos son los datos que utilizamos para representar el estado de un objeto. Los métodos son las funciones que se utilizan para acceder a los datos y modificarlos.\n",
        "\n",
        "Además de utilizar variables para almacenar datos y definir métodos, una clase proporciona un método especial, `__init__`. Este método, conocido como *inicializador* y se invoca para inicializar el estado de un nuevo objeto cuando se crea. Un inicializador puede realizar cualquier acción, pero los inicializadores en general se utilizan para crear las variables de estado de un objeto con valores iniciales.\n",
        "\n",
        "Python utiliza la siguiente sintaxis para definir una clase:\n",
        "\n",
        "```\n",
        "class Nombre:\n",
        "    inicializador\n",
        "    métodos\n",
        "```"
      ]
    },
    {
      "cell_type": "markdown",
      "metadata": {
        "id": "IAVDYZ_P1Jrc"
      },
      "source": [
        "Por  convención los nombres de las clases definidas por el programador tienen la primera letra mayúscula y todas las demás minúsculas"
      ]
    },
    {
      "cell_type": "markdown",
      "metadata": {
        "id": "C3LYkZ3j1Jrd"
      },
      "source": [
        "**Ejemplo. Círculos.** Ejemplifiquemos clases con  el ejemplo de  la  página 217 de Liang. Se quiere definir una clase que sea una abstracción de los círculos. No nos interesan las posibles coordenadas del círculo (su ubicación en el plano) solo el tamaño que tiene. Es decir el único atributo o variable de estado que nos interesa, y que abstrae el concepto de círculo, es el radio $r$,  que es un número real mayor que 0.\n",
        "\n",
        "Una vez dado el círculo nos interesa saber cual es su radio,  su perímetro y su área. También nos interesa modificar su radio. Todo es muy sencillo, esto sólo es un ejemplo para introducir el tema."
      ]
    },
    {
      "cell_type": "code",
      "execution_count": null,
      "metadata": {
        "id": "SkPd8VlT1Jre"
      },
      "outputs": [],
      "source": [
        "import math\n",
        "\n",
        "class Circulo:\n",
        "# Definición de objeto Circulo\n",
        "    def __init__(self, r = 1):\n",
        "        assert r > 0, \"el radio debe ser mayor que 0\"\n",
        "        self.radio = r\n",
        "    def get_radio(self):\n",
        "        return self.radio\n",
        "    def get_perimetro(self):\n",
        "        return 2 * self.radio * math.pi\n",
        "    def get_area(self):\n",
        "        return self.radio * self.radio * math.pi\n",
        "    def set_radio(self, r):\n",
        "        assert r > 0, \"el radio debe ser mayor que 0\"\n",
        "        self.radio = r\n"
      ]
    },
    {
      "cell_type": "markdown",
      "metadata": {
        "id": "iPv6OiFI7kTA"
      },
      "source": [
        "Cada clase comienza con una definición `def __init__()`  (guión bajo,  guión bajo, init, guión bajo, guión bajo) que crea el objeto cuando se invoca la clase.  En  el `__init__` se determinan los estados iniciales del objeto.  \n",
        "\n",
        "Cadá método que se aplica a un objeto de la cases debe ser tipo `def metodo(self, ... otros parámetros ...)`.\n",
        "\n",
        "Es decir, todos los métodos de los objetos , incluido el inicializador, tienen el primer parámetro `self`. Este parámetro se refiere al objeto que invoca el método. El parámetro `self` en los métodos se establece para hacer referencia al objeto que se acaba de crear.\n",
        "\n",
        "Se pueden definir funciones sin `self` y  estas funciones serán de la clase,  no de  objetos. Más tarde veremos ejemplos.  \n",
        "\n",
        "Veamos un ejemplo del uso de esta clase:"
      ]
    },
    {
      "cell_type": "code",
      "execution_count": null,
      "metadata": {
        "id": "g8zjHvPW1Jrl"
      },
      "outputs": [],
      "source": [
        "t = Circulo() # círculo de radio 1 (el valor por defecto)"
      ]
    },
    {
      "cell_type": "code",
      "execution_count": null,
      "metadata": {
        "id": "Hid6Ohgl9R9z"
      },
      "outputs": [],
      "source": [
        "print('Imprimimos el objeto t:',t)"
      ]
    },
    {
      "cell_type": "code",
      "execution_count": null,
      "metadata": {
        "id": "ZpGc19Yi9bjf"
      },
      "outputs": [],
      "source": [
        "print('Imprimimos el radio del círculo t:',t.get_radio())"
      ]
    },
    {
      "cell_type": "code",
      "execution_count": null,
      "metadata": {
        "id": "gn5iu_fX90La"
      },
      "outputs": [],
      "source": [
        "s = Circulo(5) # círculo de radio 5\n",
        "print('Imprimimos el nuevo objeto s:',s)"
      ]
    },
    {
      "cell_type": "code",
      "execution_count": null,
      "metadata": {
        "id": "1VUdcgZ996Pu"
      },
      "outputs": [],
      "source": [
        "print('Imprimimos el radio de s:',s.get_radio())\n",
        "print('Imprimimos el perímetro de s:',s.get_perimetro())\n",
        "print('Imprimimos el area de s:',s.get_area())"
      ]
    },
    {
      "cell_type": "code",
      "execution_count": null,
      "metadata": {
        "id": "gLNTdsFk-DiK"
      },
      "outputs": [],
      "source": [
        "s.set_radio(3)\n",
        "print('Imprimimos el nuevo radio de s:',s.get_radio())\n",
        "t.set_radio(3)\n",
        "print('Imprimimos el nuevo radio de t:',t.get_radio())"
      ]
    },
    {
      "cell_type": "code",
      "execution_count": null,
      "metadata": {
        "id": "nXVSH4oE-NNQ"
      },
      "outputs": [],
      "source": [
        "print('t y s son objetos diferentes:', t == s)\n",
        "# False: t y s son objetos diferentes (aunque son\n",
        "# circulos con el mismo radio)"
      ]
    },
    {
      "cell_type": "markdown",
      "metadata": {
        "id": "ghW356O_1Jrn"
      },
      "source": [
        "Coloquialmente, un método que obtiene datos se conoce como *getter*, y un método donde se modifican atributos se denomina *setter*.\n",
        "\n",
        "Un método getter puede tener un encabezado del tipo:\n",
        "\n",
        "```\n",
        "def get_nombre_de_la_propiedad(self):\n",
        "```\n",
        "\n",
        "Si el tipo de retorno es booleano, por convención un método getter suele definirse de la siguiente manera:\n",
        "```\n",
        "def is_nombre de_la_propiedad(self):\n",
        "```\n",
        "\n",
        "Un método setter puede tener la siguiente cabecera:\n",
        "\n",
        "```\n",
        "def set_nombre_de_la_propiedad(self, valor):\n",
        "```\n",
        "\n",
        "Obviamente los nombres de los métodos pueden ser arbitrarios, con los límites sintácticos que impone Python"
      ]
    },
    {
      "cell_type": "markdown",
      "metadata": {
        "id": "ruh26TML1Jro"
      },
      "source": [
        "## 3. Ocultar los atributos de una clase\n",
        "\n",
        "Los atributos definidos en la clase  `Circulo`, así como fueron definidos son públicos, podemos acceder a ellos directamente.\n",
        "\n",
        "Podés acceder a los  datos a través de variables de estado directamente desde un objeto. Por ejemplo, el siguiente código, que permite acceder al radio del círculo desde `c.radio`, es legal:"
      ]
    },
    {
      "cell_type": "code",
      "execution_count": null,
      "metadata": {
        "id": "NRFk9Due1Jrp"
      },
      "outputs": [],
      "source": [
        "c = Circulo(5)\n",
        "print(c.get_radio())\n",
        "c.radio = 5.4 # Se accede directamente a la variable radio de la instancia c y se la modifica\n",
        "print(c.radio) # Se accede directamente a la variable radio de la instancia c y se imprime\n",
        "print(c.get_radio()) #  Se accede al radio de c por el método especificado en la clase"
      ]
    },
    {
      "cell_type": "markdown",
      "metadata": {
        "id": "aSHJcOyW1Jrq"
      },
      "source": [
        "Sin embargo, el acceso directo a un atributo de un objeto no es una buena práctica por dos razones:\n",
        "\n",
        "- En primer lugar, los datos pueden ser manipulados. Por ejemplo, el radio en la clase `Circulo` debe ser positivo, pero puede ser fijado por error a un valor arbitrario (por ejemplo `c.radio = -5`).\n",
        "- En segundo lugar, la clase se vuelve difícil de mantener y vulnerable a los errores. Veremos ejemplos de esto más adelante.\n",
        "\n",
        "Ahora veamos un ejemplo con la clase `Circulo` de asignaciones no desadas:"
      ]
    },
    {
      "cell_type": "code",
      "execution_count": null,
      "metadata": {
        "id": "LUjwCxeZprkT"
      },
      "outputs": [],
      "source": [
        "c.radio = -1\n",
        "print(c.get_radio())\n",
        "c.radio = 'Hola'\n",
        "print(c.get_radio())"
      ]
    },
    {
      "cell_type": "markdown",
      "metadata": {
        "id": "pFu7jFq6p40d"
      },
      "source": [
        "Para evitar las modificaciones directas de los campos de datos, no se debe permitir el acceso directo a las variables de estado o atributos de la clase.\n",
        "\n",
        "Esto se conoce como *ocultación de datos*. Esto se puede hacer definiendo *variables privadas*. En Python, las variables privadas se definen con dos guiones bajos iniciales. También podés definir un método privado con dos guiones bajos al comienzo del nombre del método.\n",
        "\n",
        "Modifiquemos la clase `Circulo` de tal forma que todas las variables de estado sean privadas:"
      ]
    },
    {
      "cell_type": "code",
      "execution_count": null,
      "metadata": {
        "id": "URRc9KFU1Jrq"
      },
      "outputs": [],
      "source": [
        "import math\n",
        "\n",
        "class Circulo:\n",
        "# Definición de objeto Circulo\n",
        "    def __init__(self, r = 1):\n",
        "        self.__radio = r\n",
        "    def get_radio(self):\n",
        "        return self.__radio\n",
        "    def get_perimetro(self):\n",
        "        return 2 * self.__radio * math.pi\n",
        "    def get_area(self):\n",
        "        return self.__radio * self.__radio * math.pi\n",
        "    def set_radio(self, r):\n",
        "        assert r > 0, \"El radio debe ser mayor que 0\"\n",
        "        self.__radio = r\n"
      ]
    },
    {
      "cell_type": "markdown",
      "metadata": {
        "id": "QMr7mQvr1Jrr"
      },
      "source": [
        "Ahora cualquier intento de acceder directamente a las variables de estado de la clase resultarán en un error."
      ]
    },
    {
      "cell_type": "code",
      "execution_count": null,
      "metadata": {
        "id": "MDvRoX3f1Jrs"
      },
      "outputs": [],
      "source": [
        "c = Circulo() # círculo de radio 1 (el valor por defecto)\n",
        "print(c.get_radio())\n",
        "# print(c.__radio) # Atributo privado (descomentar la línea produce error)\n",
        "t = Circulo(5)\n",
        "# t.__radio = 2 # Atributo privado (descomentar la línea produce error)\n",
        "print(t.get_radio())\n",
        "t.set_radio(2) # Esto está bien"
      ]
    },
    {
      "cell_type": "markdown",
      "metadata": {
        "id": "X7eU75lU1Jrs"
      },
      "source": [
        "## 4. Sobrecarga de operadores y métodos especiales\n",
        "\n",
        "\n",
        "Python permite definir en las clases *métodos especiales* para operadores y funciones para realizar operaciones comunes. Estos métodos tienen un nombre específico para que Python reconozca la asociación.\n",
        "\n",
        "Expliquemos desarrollando un poco más la clase `Circulo`.  Supongamos que queremos hacer los siguiente\n",
        "```\n",
        "> c = Circulo(3)\n",
        "> print(c)\n",
        "'circulo de radio 3'\n",
        "```\n",
        "Sin embargo,  como ya hemos visto que escibiendo el siguiente código\n"
      ]
    },
    {
      "cell_type": "code",
      "execution_count": null,
      "metadata": {
        "id": "7A8JJRDw1Jrt"
      },
      "outputs": [],
      "source": [
        "c = Circulo(3)\n",
        "print(c)"
      ]
    },
    {
      "cell_type": "markdown",
      "metadata": {
        "id": "i54LdkkQ1Jrt"
      },
      "source": [
        "nos dice que `c` es un objeto de la clase `Circulo` y nos da un número de referencia.\n",
        "\n",
        "¿Cómo podemos hacer que el `print` se comporte como queremos?\n",
        "\n",
        "Lo  que debemos hacer es sobreescribir el  método `__str__` de la clase. Este es un método oculto común a todas las clases que convierte un objeto en una cadena, es decir en una representación legible del objeto.\n",
        "\n",
        "Reescribamos entonces la clase `Circulo`:"
      ]
    },
    {
      "cell_type": "code",
      "execution_count": null,
      "metadata": {
        "id": "N0Kn4szS1Jru"
      },
      "outputs": [],
      "source": [
        "import math\n",
        "\n",
        "class Circulo:\n",
        "# Definición de objeto Circulo\n",
        "    def __init__(self, r = 1):\n",
        "        self.__radio = r\n",
        "    def get_radio(self):\n",
        "        return self.__radio\n",
        "    def get_perimetro(self):\n",
        "        return 2 * self.__radio * math.pi\n",
        "    def get_area(self):\n",
        "        return self.__radio * self.__radio * math.pi\n",
        "    def set_radio(self, r):\n",
        "        assert r > 0, \"El radio debe ser mayor que 0\"\n",
        "        self.__radio = r\n",
        "    def __str__(self):\n",
        "        return \"círculo de radio \" + str(self.__radio)\n",
        "    def __eq__(self, otro):\n",
        "        # otro es objeto de la clase círculo\n",
        "        return self.__radio == otro.__radio\n"
      ]
    },
    {
      "cell_type": "markdown",
      "metadata": {
        "id": "WVlmHhVe1Jru"
      },
      "source": [
        "Probemos entonces la nueva definción de la clase:"
      ]
    },
    {
      "cell_type": "code",
      "execution_count": null,
      "metadata": {
        "id": "iJPYZlZz1Jrv"
      },
      "outputs": [],
      "source": [
        "c = Circulo(3)\n",
        "circulo = str(c)\n",
        "print(circulo)"
      ]
    },
    {
      "cell_type": "markdown",
      "metadata": {
        "id": "nxrfBBvve-OZ"
      },
      "source": [
        "O directamente"
      ]
    },
    {
      "cell_type": "code",
      "execution_count": null,
      "metadata": {
        "id": "_igfUzdSe9bc"
      },
      "outputs": [],
      "source": [
        "c = Circulo(3)\n",
        "print(c)"
      ]
    },
    {
      "cell_type": "markdown",
      "metadata": {
        "id": "EjzrcMXz1Jrw"
      },
      "source": [
        "Obervemos que en la clase hemos agregado otro método, `__eq__`, para averiguar si dos círculos son iguales, donde consideramos dos círculos iguales si tienen el mismo radio. Antes de introducir este método la igualdad entre objetos diferentes siempre resultaba falsa, aún para círculos del mismo radio. La igualdad incorporada por defecto en las nuevas clases solo se verifica si el objeto es el mismo,  no si son conceptualmente iguales.\n",
        "\n",
        "Verifiquemos la igualdad:"
      ]
    },
    {
      "cell_type": "code",
      "execution_count": null,
      "metadata": {
        "id": "oNm3Durd1Jrw"
      },
      "outputs": [],
      "source": [
        "c1, c2 = Circulo(3), Circulo(7)\n",
        "print(c1 == c2)\n",
        "c2.set_radio(3)\n",
        "print(c1 == c2)"
      ]
    },
    {
      "cell_type": "markdown",
      "metadata": {
        "id": "Pipzu13W1Jrx"
      },
      "source": [
        "Los métodos `__str__` y `__eq__` son solo algunos métodos que podemos sobreescribir  en una clase.\n",
        "\n",
        "Python tiene métodos especiales que refieren a operadores muy utilizados,  como ser `+`, `*`, etc. y que nos permiten definir,  si así lo deseamos, estos operadores en nuestras clases.\n",
        "\n"
      ]
    },
    {
      "cell_type": "markdown",
      "metadata": {
        "id": "_FSzJMTbalxI"
      },
      "source": [
        "### Ejemplo. Tuplas como vectores.\n",
        "\n",
        "Definamos la clase de 2-uplas de números `int` o `float` con la suma y resta coordenada a coordenada. Para hacer esto vamos a sobreescribir dós métodos especiales: la suma y la resta."
      ]
    },
    {
      "cell_type": "code",
      "execution_count": null,
      "metadata": {
        "id": "Pd--b8fc1Jrx"
      },
      "outputs": [],
      "source": [
        "class Dos_upla:\n",
        "# Definición de objeto 2-upla\n",
        "    def __init__(self, x, y):\n",
        "        assert (type(x) == int or type(x) == float) and (type(y) == int or type(y) == float), \"Los parámetros deben ser int o float\"\n",
        "        self.__upla_x = x\n",
        "        self.__upla_y = y\n",
        "    def __add__(self, otro):\n",
        "        # suma dos 2-uplas\n",
        "        return Dos_upla(self.__upla_x + otro.__upla_x, self.__upla_y + otro.__upla_y)\n",
        "    def __sub__(self, otro):\n",
        "        # resta dos 2-uplas\n",
        "        return Dos_upla(self.__upla_x - otro.__upla_x, self.__upla_y - otro.__upla_y)\n",
        "    def __str__(self):\n",
        "        return \"(\" + str(float(self.__upla_x)) + \", \" + str(float( self.__upla_y)) + \")\"\n",
        "    def __eq__(self, otro):\n",
        "        return self.__upla_x == otro.__upla_x and self.__upla_y == otro.__upla_y\n"
      ]
    },
    {
      "cell_type": "markdown",
      "metadata": {
        "id": "vKAT6mQU1Jry"
      },
      "source": [
        "Probemos la nueva clase:"
      ]
    },
    {
      "cell_type": "code",
      "execution_count": null,
      "metadata": {
        "id": "422nRX5A1Jry"
      },
      "outputs": [],
      "source": [
        "par = Dos_upla(3.0, 4)\n",
        "print(par)\n",
        "otro_par = Dos_upla(-5, 2)\n",
        "print(otro_par)\n",
        "print(par + otro_par)\n",
        "print(par - otro_par)\n",
        "print(par + otro_par == Dos_upla(2, 6))\n",
        "print(par + otro_par == Dos_upla(-2, 6))"
      ]
    },
    {
      "cell_type": "markdown",
      "metadata": {
        "id": "oRxy863Vf5Wh"
      },
      "source": [
        "\n",
        "\n",
        "El  opuesto de un vector se hace sobrescribiendo el método `__neg__`, si `v` es la dos ulpla que representa $(a,b)$ entonces `-v` será $(-a, -b)$.\n",
        "\n",
        "El producto escalar de dos vectores de  $\\mathbb R^2$ se define como\n",
        "$$\n",
        "(a, b) \\cdot (a', b') = aa' + bb'.\n",
        "$$\n",
        "Este producto se definirá sobrecargando el  operador `*`, es decir definiendo el método `__prod__` en la definición de la clase."
      ]
    },
    {
      "cell_type": "code",
      "execution_count": null,
      "metadata": {
        "id": "iobIKYc4h7Bz"
      },
      "outputs": [],
      "source": [
        "class Dos_upla:\n",
        "# Definición de objeto 2-upla\n",
        "    def __init__(self, x, y):\n",
        "        assert (type(x) == int or type(x) == float) and (type(y) == int or type(y) == float), \"Los parámetros deben ser int o float\"\n",
        "        self.__upla_x = x\n",
        "        self.__upla_y = y\n",
        "\n",
        "    def __add__(self, otro):\n",
        "        # suma dos 2-uplas\n",
        "        return Dos_upla(self.__upla_x + otro.__upla_x, self.__upla_y + otro.__upla_y)\n",
        "\n",
        "    def __sub__(self, otro):\n",
        "        # resta dos 2-uplas\n",
        "        return Dos_upla(self.__upla_x - otro.__upla_x, self.__upla_y - otro.__upla_y)\n",
        "\n",
        "    def __neg__(self):\n",
        "        # el opuesto de una 2-upla\n",
        "        return Dos_upla(-self.__upla_x, -self.__upla_y)\n",
        "\n",
        "    def __mul__(self, otro):\n",
        "        assert isinstance(otro, Dos_upla), 'Ambos factores deben ser Dos_upla'\n",
        "        return self.__upla_x * otro.__upla_x + self.__upla_y * otro.__upla_y\n",
        "\n",
        "    def __str__(self):\n",
        "        return \"(\" + str(float(self.__upla_x)) + \", \" + str(float( self.__upla_y)) + \")\"\n",
        "\n",
        "    def __eq__(self, otro):\n",
        "        return self.__upla_x == otro.__upla_x and self.__upla_y == otro.__upla_y"
      ]
    },
    {
      "cell_type": "markdown",
      "metadata": {
        "id": "_IETDiUfkDBb"
      },
      "source": [
        "Problemos esta clase con los nuevos métodos."
      ]
    },
    {
      "cell_type": "code",
      "execution_count": null,
      "metadata": {
        "id": "6SA-IgItkHx4"
      },
      "outputs": [],
      "source": [
        "par = Dos_upla(3.0, 4)\n",
        "print(par)\n",
        "print(-par) # opuesto\n",
        "otro_par = Dos_upla(-5, 2)\n",
        "print(otro_par)\n",
        "print(par * otro_par)"
      ]
    },
    {
      "cell_type": "markdown",
      "metadata": {
        "id": "eXitvBMM1Jrz"
      },
      "source": [
        "En nuestra clase está faltando una operación elemental: recuperar cada coordenada. Cuando tenemos una lista o una tupla de Python la notación corchete nos permite recuperar los elementos de la lista o tupla, por ejemplo si `v` es una lista o tupla, `v[1]` recuperará el segundo elemento de `v`.\n",
        "\n",
        "Los métodos especiales también nos permite, con el método `__getitem__`, recuperar las coordenadas del par con la notación `[]`. Más aún, el  método `__setitem__` permite modificar las coordenadas del par  con la notación `[]`:"
      ]
    },
    {
      "cell_type": "code",
      "execution_count": null,
      "metadata": {
        "id": "OH-6czAxmYlf"
      },
      "outputs": [],
      "source": [
        "class Dos_upla:\n",
        "# Definición de objeto 2-upla\n",
        "    def __init__(self, x, y):\n",
        "        assert (type(x) == int or type(x) == float) and (type(y) == int or type(y) == float), \"Los parámetros deben ser int o float\"\n",
        "        self.__upla_x = float(x)\n",
        "        self.__upla_y = float(y)\n",
        "\n",
        "    def __getitem__(self, index):\n",
        "        # Se accede a los elementos de la tupla por medio de índices\n",
        "        assert type(index) == int and 0 <= index <= 1, \"El índice debe ser 0 o 1\"\n",
        "        if index == 0:\n",
        "            return self.__upla_x\n",
        "        else:\n",
        "            return self.__upla_y\n",
        "\n",
        "    def __setitem__(self, index, valor):\n",
        "        # Se modifica un elemento de la tupla por medio de índices\n",
        "        assert type(index) == int and 0 <= index <= 1, \"El índice debe ser 0 o 1\"\n",
        "        assert type(valor) == int or type(valor) == float, \"El valor debe ser un int o float\"\n",
        "        if index == 0:\n",
        "            self.__upla_x = valor\n",
        "        else:\n",
        "            self.__upla_y = valor\n",
        "\n",
        "    def __contains__(self, valor):\n",
        "        return valor == self.__upla_x or valor == self.__upla_y\n",
        "\n",
        "    def __add__(self, otro):\n",
        "        # suma dos 2-uplas\n",
        "        return Dos_upla(self.__upla_x + otro.__upla_x, self.__upla_y + otro.__upla_y)\n",
        "\n",
        "    def __sub__(self, otro):\n",
        "        # resta dos 2-uplas\n",
        "        return Dos_upla(self.__upla_x - otro.__upla_x, self.__upla_y - otro.__upla_y)\n",
        "\n",
        "    def __neg__(self):\n",
        "        # el opuesto de una 2-upla\n",
        "        return Dos_upla(-self.__upla_x, -self.__upla_y)\n",
        "\n",
        "    def __mul__(self, otro):\n",
        "        assert isinstance(otro, Dos_upla), 'Ambos factores deben ser Dos_upla'\n",
        "        return otro.__upla_x*self.__upla_x + otro.__upla_y*self.__upla_y\n",
        "\n",
        "    def __str__(self):\n",
        "        return \"(\" + str(float(self.__upla_x)) + \", \" + str(float( self.__upla_y)) + \")\"\n",
        "\n",
        "    def __eq__(self, otro):\n",
        "        return self.__upla_x == otro.__upla_x and self.__upla_y == otro.__upla_y"
      ]
    },
    {
      "cell_type": "markdown",
      "metadata": {
        "id": "UqxZ47I3_94f"
      },
      "source": [
        "También agregamos un método especial `__contains__` que nos permite verificar si un elemento está en la 2-upla. Por  ejemplo, si `2 in Dos_upla(-1,2)` es `True` y  `1 in Dos_upla(-1,2)` es `False`."
      ]
    },
    {
      "cell_type": "markdown",
      "metadata": {
        "id": "jsY3LKd6nCZa"
      },
      "source": [
        "Problemos la clase con algunos ejemplos."
      ]
    },
    {
      "cell_type": "code",
      "execution_count": null,
      "metadata": {
        "id": "yRY9OWyK1Jr0"
      },
      "outputs": [],
      "source": [
        "par = Dos_upla(3, 4)\n",
        "print(par)\n",
        "print(par[0]) # esto corresponde al método especial __getitem__\n",
        "par[0] = -3 # esto corresponde al método especial __setitem__\n",
        "print(par)\n",
        "otro_par = Dos_upla(-3, 4)\n",
        "print(par == otro_par)\n",
        "print (4 in otro_par)\n",
        "print (3 in otro_par)"
      ]
    },
    {
      "cell_type": "markdown",
      "metadata": {
        "id": "Fo_5yEbLm0TF"
      },
      "source": [
        "Más generalmente, podemos definir $n$-uplas. Es muy similar a las 2-uplas. Implementamos parcialmente la clase y  dejamos como ejercicio completarla.  "
      ]
    },
    {
      "cell_type": "code",
      "execution_count": null,
      "metadata": {
        "id": "eZt5OrIehhzR"
      },
      "outputs": [],
      "source": [
        "class N_upla:\n",
        "# Definición de objeto n-upla\n",
        "    def __init__(self, x):\n",
        "        # x es una n-tupla\n",
        "        assert type(x) == tuple, 'el parametro debe ser una tupla'\n",
        "        assert all(isinstance(elem, int) or isinstance(elem, float) for  elem in x), \"las coordenadas deben ser int o float\"\n",
        "        self.__len = len(x)\n",
        "        self.__x = []\n",
        "        for i in range(len(x)):\n",
        "            self.__x.append(x[i])\n",
        "\n",
        "    def __getitem__(self, index):\n",
        "        # Se accede a los elementos de la tupla por medio de índices\n",
        "        assert type(index) == int and 0 <= index < self.__len, \"índice fuera de rango\"\n",
        "        return self.__x[index]\n",
        "\n",
        "    def __setitem__(self, index, valor):\n",
        "        # Se modifica un elemento de la tupla por medio de índices\n",
        "        assert type(index) == int and 0 <= index < self.__len, \"índice fuera de rango\"\n",
        "        assert type(valor) == int, \"el valor debe ser un entero\"\n",
        "        self.__x[index] = valor\n",
        "\n",
        "    def __add__(self, otro):\n",
        "        __suma = []\n",
        "        assert self.__len == otro.__len, 'las uplas deben ser de la misma dimensión'\n",
        "        for i in range(self.__len ):\n",
        "            __suma.append(self.__x[i] + otro.__x[i])\n",
        "        return N_upla(tuple(__suma))\n",
        "\n",
        "    def __contains__(self, valor):\n",
        "        return valor in self.__x\n",
        "\n",
        "    def __sub__(self, otro):\n",
        "        # definir la resta\n",
        "        pass\n",
        "\n",
        "    def __mul__(self, otro):\n",
        "        # producto escalar\n",
        "        assert self.__len == otro.__len, 'las uplas deben ser de la misma dimensión'\n",
        "        __esc = 0\n",
        "        for i in range(self.__len ):\n",
        "            __esc += self.__x[i] * otro.__x[i]\n",
        "        return __esc\n",
        "\n",
        "    def __eq__(self, otro):\n",
        "        #definir la igualdad\n",
        "        pass\n",
        "\n",
        "    def __str__(self):\n",
        "        __ret = '('\n",
        "        for i in range(self.__len ):\n",
        "            __ret += str(self.__x[i]) + ', '\n",
        "        __ret = __ret[:-2] +')'\n",
        "        return __ret\n",
        "\n",
        "x = N_upla((1,2,3))\n",
        "y = N_upla((1,-1,2))\n",
        "print(x)\n",
        "print(y)\n",
        "print(x + y)\n",
        "print(x * y)"
      ]
    },
    {
      "cell_type": "markdown",
      "metadata": {
        "id": "8h0cHZ8jsYXc"
      },
      "source": [
        "Observemos primero que para trabajar con la clase `N_upla` siempre debemos trabajar con objetos de la misma longitud, en caso contrario se producirán errores en el caso de queres sumarlas o hacer otras operaciones binarias. Por ejemplo"
      ]
    },
    {
      "cell_type": "code",
      "execution_count": null,
      "metadata": {
        "id": "In2CHRIZs4XA"
      },
      "outputs": [],
      "source": [
        "x = N_upla((1,2,3, 4)) # 4 coordenadas\n",
        "y = N_upla((1,-1,2)) # 3 coordenadas\n",
        "print(x)\n",
        "print(y)\n",
        "# print(x + y) # descomentar esta linea produce un error"
      ]
    },
    {
      "cell_type": "markdown",
      "metadata": {
        "id": "pu5p49FmtQyJ"
      },
      "source": [
        "Lo más conveniente es agregar instrucciones `assert` en la suma y producto para comprobar que los vectores tiene la misma longitud.\n",
        "\n",
        "Otra observación importante es que no tenemos un método para recuperar cada coordenada de los vectores. Veremos que esto se puede implementar como en el caso de `Dos_upla`, pero por ahora tratar de recuperar un elemento con la notación corchete devuelve un error, por ejemplo"
      ]
    },
    {
      "cell_type": "code",
      "execution_count": null,
      "metadata": {
        "id": "S7pd_96Mt8ho"
      },
      "outputs": [],
      "source": [
        "x = N_upla((1,2,3))\n",
        "# x[1] # descomentar esta linea produce un error"
      ]
    },
    {
      "cell_type": "markdown",
      "metadata": {
        "id": "WT7bGfjlu1Wa"
      },
      "source": [
        "Sin embargo, cuando definimos le método `__add__` y  el  método `__mul__`en la clase `N_upla` usamos la notación corchete y no tuvimos problemas. Esto se debe a que cuando trabajamos internamente en la clase ella \"sabe\" que los objetos de la clase son en realidad listas.  "
      ]
    },
    {
      "cell_type": "markdown",
      "metadata": {
        "id": "0vqbfUmvr6_V"
      },
      "source": [
        "Ejemplificamos con la clase `N_upla`:"
      ]
    },
    {
      "cell_type": "code",
      "execution_count": null,
      "metadata": {
        "id": "OUt0woyKsB3k"
      },
      "outputs": [],
      "source": [
        "class N_upla:\n",
        "# Definición de objeto n-upla\n",
        "    def __init__(self, x):\n",
        "        # x es una n-tupla\n",
        "        assert type(x) == tuple, 'el parametro debe ser una tupla'\n",
        "        # Hacer un assert para verificar que son todos enteros\n",
        "        self.__len = len(x)\n",
        "        self.__x = []\n",
        "        for i in range(len(x)):\n",
        "            self.__x.append(x[i])\n",
        "\n",
        "    def __getitem__(self, index):\n",
        "        # Se accede a los elementos de la tupla por medio de índices\n",
        "        assert type(index) == int and 0 <= index < self.__len, \"El índice debe ser correcto\"\n",
        "        return self.__x[index]\n",
        "\n",
        "    def __setitem__(self, index, valor):\n",
        "        # Se modifica un elemento de la tupla por medio de índices\n",
        "        assert type(index) == int and 0 <= index < self.__len, \"El índice debe ser correcto\"\n",
        "        assert type(valor) == int, \"El valor debe ser un entero\"\n",
        "        self.__x[index] = valor\n",
        "\n",
        "    def __add__(self, otro):\n",
        "        assert self.__len == otro.__len, 'las uplas deben ser de la misma dimensión'\n",
        "        __suma = []\n",
        "        for i in range(self.__len ):\n",
        "            __suma.append(self.__x[i] + otro.__x[i])\n",
        "        return N_upla(tuple(__suma))\n",
        "\n",
        "    def __contains__(self, valor):\n",
        "        return valor in self.__x\n",
        "\n",
        "    def __sub__(self, otro):\n",
        "        # definir la resta\n",
        "        pass\n",
        "\n",
        "    def __mul__(self, otro):\n",
        "        # producto escalar\n",
        "        assert self.__len == otro.__len, 'las uplas deben ser de la misma dimensión'\n",
        "        __esc = 0\n",
        "        for i in range(self.__len ):\n",
        "            __esc += self.__x[i] * otro.__x[i]\n",
        "        return __esc\n",
        "\n",
        "    def __eq__(self, otro):\n",
        "        #definir la igualdad\n",
        "        pass\n",
        "\n",
        "    def __str__(self):\n",
        "        __ret = '('\n",
        "        for i in range(self.__len ):\n",
        "            __ret += str(self.__x[i]) + ', '\n",
        "        __ret = __ret[:-2] +')'\n",
        "        return __ret"
      ]
    },
    {
      "cell_type": "markdown",
      "metadata": {
        "id": "u7uWN-Nmtd9z"
      },
      "source": [
        "Algunos ejemplos:"
      ]
    },
    {
      "cell_type": "code",
      "execution_count": null,
      "metadata": {
        "id": "KwqvlQeVtgDK"
      },
      "outputs": [],
      "source": [
        "x = N_upla((1,2,3))\n",
        "print(x[0], x[1], x[2])\n",
        "x[1] = -100\n",
        "print(x[0], x[1], x[2])"
      ]
    },
    {
      "cell_type": "markdown",
      "metadata": {
        "id": "7hfxuDq0L2Qj"
      },
      "source": [
        "### Ejemplo: los números complejos\n",
        "\n",
        "Los números complejos ($\\mathbb C$) están determinados por un par de números, la parte real y la parte imaginaria. Es decir,  un número complejo es  un $a + bi$,  con $a$ y $b$ reales e $i$ que simboliza $\\sqrt{-1}$.\n",
        "\n",
        "La suma de complejos es:\n",
        "\\begin{equation*}\n",
        "(a+ bi) + (a' + b'i) = (a+a') + (b+b')i.\n",
        "\\end{equation*}\n",
        "El producto de números complejos respeta que $i \\cdot i = -1$ y  las prpiedades asociativas, conmutativas y distributivas. Lo que resulta en,\n",
        "\\begin{equation*}\n",
        "(a+ bi) \\cdot (a' + b'i) = (aa'-bb') + (ab'+ba)i.\n",
        "\\end{equation*}\n",
        "\n",
        "¿Cuando $a+ bi$  y $a' + b'i$ son iguales? Son iguales si y solo si $a=a'$ y $b = b'$.\n",
        "\n",
        "Hagamos una posible definición de la clase:"
      ]
    },
    {
      "cell_type": "code",
      "execution_count": null,
      "metadata": {
        "id": "zcdiGowHN1nD"
      },
      "outputs": [],
      "source": [
        "class Complejo:\n",
        "    def __init__(self, a, b):\n",
        "        assert (type(a) == int or type(a) == float) and (type(b) == int or type(b) == float), \"Los parámetros deben ser int o float\"\n",
        "        self.__real = float(a)\n",
        "        self.__imag = float(b)\n",
        "\n",
        "    def __add__(self, otro):\n",
        "        assert isinstance(otro, Complejo), 'los sumandos deben ser complejos'\n",
        "        return Complejo(self.__real + otro.__real, self.__imag + otro.__imag)\n",
        "\n",
        "    def __eq__(self, otro):\n",
        "        assert isinstance(otro, Complejo), 'deben ser complejos'\n",
        "        return (self.__real == otro.__real) and (self.__imag == otro.__imag)\n",
        "\n",
        "    def __str__(self):\n",
        "        return str(self.__real) +' + '+ str(self.__imag) + ' i'\n"
      ]
    },
    {
      "cell_type": "code",
      "execution_count": null,
      "metadata": {
        "id": "EJfgv-ukPFF9"
      },
      "outputs": [],
      "source": [
        "z, w = Complejo(1,2), Complejo(3, 4)\n",
        "print(z+w)\n",
        "u = Complejo(4, 6)\n",
        "print (u == z + w)"
      ]
    },
    {
      "cell_type": "markdown",
      "metadata": {
        "id": "VSOMo4Q91Jr0"
      },
      "source": [
        "### 5. Métodos especiales\n",
        "\n",
        "Una lista de métodos especiales de Python, no todos, es la siguiente:\n",
        "\n",
        "\n",
        "| Operador/función | Método | Descripción|\n",
        "| :------------- | :---------- | :----------- |\n",
        "|`+`|`__add__(self, otro)`| Suma|\n",
        "|`*`|`__mul__(self, otro)`| Multiplicación|\n",
        "|`-`|`__sub__(self, otro)`| Resta|\n",
        "|`-`|`__neg__(self)`| Opuesto|\n",
        "|`/`|`__truediv__(self, otro)`| División|\n",
        "|`%`|`__mod__(self, otro)`| Resto|\n",
        "|`<`|`__lt__(self, otro)`| Menor que|\n",
        "|`<=`|`__le__(self, otro)`| Menor igual que|\n",
        "|`==`|`__eq__(self, otro)`| Igual a|\n",
        "|`!=`|`__ne__(self, otro)`| Distinto a|\n",
        "|`>`|`__gt__(self, otro)`| Mayor que|\n",
        "|`>=`|`__ge__(self, otro)`| Mayor o igual que|\n",
        "|`[index]`|`__getitem__(self, index)`| Obtiene la coordenada index|\n",
        "|`[index]`|`__setitem__(self, index, valor)`| Modifica la coordenada index|\n",
        "|`in`|`__contains__(self, valor)`| Controla pertenencia|\n",
        "|`len`|`__len__(self)`| El número de elementos|\n",
        "|`str`|`__str__(self)`| La representación como cadena|\n"
      ]
    }
  ],
  "metadata": {
    "colab": {
      "provenance": []
    },
    "interpreter": {
      "hash": "df45a1d593e760cb2f2d0116876d0d9854c557dc207c92c5b1e029045d5f17a5"
    },
    "kernelspec": {
      "display_name": "Python 3.9.6 64-bit",
      "language": "python",
      "name": "python3"
    },
    "language_info": {
      "codemirror_mode": {
        "name": "ipython",
        "version": 3
      },
      "file_extension": ".py",
      "mimetype": "text/x-python",
      "name": "python",
      "nbconvert_exporter": "python",
      "pygments_lexer": "ipython3",
      "version": "3.9.6"
    }
  },
  "nbformat": 4,
  "nbformat_minor": 0
}
