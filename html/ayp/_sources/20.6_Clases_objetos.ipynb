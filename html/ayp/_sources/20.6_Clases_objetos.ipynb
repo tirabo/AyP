{
  "cells": [
    {
      "cell_type": "markdown",
      "metadata": {
        "id": "W4mxQGPYFd6o"
      },
      "source": [
        "\n",
        "## 6. Tipos abstractos de datos (clases)"
      ]
    },
    {
      "cell_type": "markdown",
      "metadata": {
        "id": "R5bDrP24Fd7D"
      },
      "source": [
        "**Ejercicio 1.** Definir una clase `Alumno` que tenga los siguientes atributos y métodos:\n",
        "\n",
        "Atributos:\n",
        "- `nombre`: el nombre del alumno.\n",
        "- `edad`: la edad del alumno.\n",
        "- `notas`: una lista con las notas del alumno (cada nota es un número entre 0 y 10).\n",
        "\n",
        "Métodos getter:\n",
        "- `promedio()`: devuelve el promedio de las notas del alumno.\n",
        "- `nota_maxima()`: devuelve la nota máxima obtenida por el alumno.\n",
        "- `nota_minima()`: devuelve la nota mínima obtenida por el alumno.\n",
        "- `aprobo()`: devuelve `True` si el alumno aprobó (es decir, si su promedio es mayor o igual a 4), y `False` en caso contrario.\n",
        "- `notas()`: devuleve la lista de notas.\n",
        "\n",
        "Métodos setter:\n",
        "- `agregar_nota(num)`: agrega la nota `num` a la lista de notas.\n",
        "\n"
      ]
    },
    {
      "cell_type": "code",
      "execution_count": null,
      "metadata": {
        "id": "uNef7C1iFd7D"
      },
      "outputs": [],
      "source": [
        "# Definir la clase Alumno"
      ]
    },
    {
      "cell_type": "markdown",
      "metadata": {
        "id": "DnRaXp1vFd7E"
      },
      "source": [
        "Comprobar en el siguiente ejemplo."
      ]
    },
    {
      "cell_type": "code",
      "execution_count": null,
      "metadata": {
        "id": "J6GWFTHFFd7E"
      },
      "outputs": [],
      "source": [
        "# Creación de tres instancias de la clase Alumno\n",
        "alumno1 = Alumno(\"Juan\", 20, [8, 7, 9, 10, 6])\n",
        "alumno2 = Alumno(\"María\", 22, [7, 7, 8, 9, 8])\n",
        "alumno3 = Alumno(\"Pedro\", 19, [5, 6, 4, 1, 1])\n",
        "\n",
        "# Llamada a los métodos de la clase Alumno\n",
        "print(\"Alumno 1:\")\n",
        "print(\"Promedio:\", alumno1.promedio())          # Promedio: 8.0\n",
        "print(\"Nota máxima:\", alumno1.nota_maxima())    # Nota máxima: 10\n",
        "print(\"Nota mínima:\", alumno1.nota_minima())    # Nota mínima: 6\n",
        "print(\"¿Aprobó?\", alumno1.aprobo(),'\\n')        # ¿Aprobó? True\n",
        "\n",
        "print(\"Alumno 2:\")\n",
        "print(\"Promedio:\", alumno2.promedio())          # Promedio: 8.0\n",
        "print(\"Nota máxima:\", alumno2.nota_maxima())    # Nota máxima: 9\n",
        "print(\"Nota mínima:\", alumno2.nota_minima())    # Nota mínima: 7\n",
        "print(\"¿Aprobó?\", alumno2.aprobo(),'\\n')        # ¿Aprobó? True\n",
        "\n",
        "print(\"Alumno 3:\")\n",
        "print(\"Promedio:\", alumno3.promedio())          # Promedio: 3.4\n",
        "print(\"Notas:\", alumno3.notas())                # Notas: [5, 6, 4, 1, 1]\n",
        "print(\"Nota máxima:\", alumno3.nota_maxima())    # Nota máxima: 6\n",
        "print(\"Nota mínima:\", alumno3.nota_minima())    # Nota mínima: 1\n",
        "print(\"¿Aprobó?\", alumno3.aprobo(),'\\n')        # ¿Aprobó? False\n",
        "\n",
        "print(\"Alumno 3 (con otra nota):\")\n",
        "alumno3.agregar_nota(10)                        # Agrega 10 a las notas\n",
        "print(\"Notas:\", alumno3.notas())                # Notas: [5, 6, 4, 1, 1, 10]\n",
        "print(\"Promedio:\", alumno3.promedio())          # Promedio: 4.5\n",
        "print(\"Nota máxima:\", alumno3.nota_maxima())    # Nota máxima: 10\n",
        "print(\"Nota mínima:\", alumno3.nota_minima())    # Nota mínima: 1\n",
        "print(\"¿Aprobó?\", alumno3.aprobo(),'\\n')        # ¿Aprobó? True"
      ]
    },
    {
      "cell_type": "markdown",
      "metadata": {
        "id": "_n7QUAfLxrF0"
      },
      "source": [
        "**Ejercicio 2.** Escribir una clase Python `Restaurante`  que tenga los siguientes atributos y métodos:\n",
        "\n",
        "Atributos:\n",
        "- `menu`: lista de los productos del menu.\n",
        "- `mesas`: cantidad de mesas del restaurant.\n",
        "- `reservas`: lista de mesas reservadas.\n",
        "- `ordenes`: una lista de ordenes de los clientes. Cada órden es una lista de items del menú.\n",
        "\n",
        "Métodos:\n",
        "- `menu_items()`: devuelve los items del menú.\n",
        "- `mesas_reservadas()`: devuelve la lista de mesas reservadas.\n",
        "- `ordenes()`:  devuelve la lista de ordenes de los clientes.\n",
        "\n",
        "- `agregar_item(item)`: agrega al menú la comida ingresada como parámetro (`item`).\n",
        "- `reservar_mesa(nro_mesa)`: reserva la mesa indicada en el parámetro.\n",
        "- `tomar_orden(orden, nro_mesa)`: toma una `orden` (lista de items del menú) para la mesa `nro_mesa` .\n",
        "\n",
        "\n",
        "Reescribir el método `__str__` de tal forma que imprima todos los atributos de un objeto de la clase `Restaurante`."
      ]
    },
    {
      "cell_type": "code",
      "execution_count": null,
      "metadata": {
        "id": "exqjI4Xt65s6"
      },
      "outputs": [],
      "source": [
        "# Definir la clase Restaurante"
      ]
    },
    {
      "cell_type": "code",
      "execution_count": null,
      "metadata": {
        "id": "WJhLfOub-LQk"
      },
      "outputs": [],
      "source": [
        "# Tests\n",
        "pipo = Restaurante(10) # un restaurante de 10 mesas (numeradas de 0 a 9)\n",
        "pipo.agregar_item('fideos')\n",
        "pipo.agregar_item('arroz con pollo')\n",
        "pipo.agregar_item('milanesa napolitana')\n",
        "pipo.agregar_item('bife de chorizo')\n",
        "pipo.agregar_item('costeleta')\n",
        "pipo.agregar_item('flan')\n",
        "pipo.agregar_item('helado')\n",
        "pipo.agregar_item('cafe')\n",
        "print(pipo.menu_items()) # ['fideos', 'arroz con pollo', 'milanesa napolitana', 'bife de chorizo', 'costeleta', 'flan', 'helado', 'cafe']\n",
        "\n",
        "pipo.reservar_mesa(1)\n",
        "pipo.reservar_mesa(5)\n",
        "pipo.reservar_mesa(7)\n",
        "print(pipo.mesas_reservadas()) # [1, 5, 7]\n",
        "\n",
        "pipo.tomar_orden(['fideos', 'flan', 'cafe'], 0)\n",
        "pipo.tomar_orden(['milanesa napolitana', 'helado'], 8)\n",
        "pipo.tomar_orden(['arroz con pollo', 'bife de chorizo', 'flan', 'helado', 'cafe', 'cafe'], 1)\n",
        "pipo.tomar_orden(['costeleta', 'flan', 'cafe'], 6)\n",
        "print(pipo.ordenes())\n",
        "# [['fideos', 'flan', 'cafe'], ['arroz con pollo', 'bife de chorizo', 'flan', 'helado', 'cafe', 'cafe'], [], [], [], [], ['costeleta', 'flan', 'cafe'], [], ['milanesa napolitana', 'helado'], []]\n",
        "print(pipo)\n",
        "# Cantidad de mesas: 10\n",
        "# Menú: ['fideos', 'arroz con pollo', 'milanesa napolitana', 'bife de chorizo', 'costeleta', 'flan', 'helado', 'cafe']\n",
        "# Mesas reservadas: [1, 5, 7]\n",
        "# Pedidos: [['fideos', 'flan', 'cafe'], ['arroz con pollo', 'bife de chorizo', 'flan', 'helado', 'cafe', 'cafe'], [], [], [], [], ['costeleta', 'flan', 'cafe'], [], ['milanesa napolitana', 'helado'], []]\n"
      ]
    },
    {
      "cell_type": "markdown",
      "metadata": {
        "id": "ViUelSOSFd7G"
      },
      "source": [
        "\n",
        "**Ejercicio 3.** Crer una clase `Robot` que simule los movimientos de un robot y calcule la posición en la que se encuentra cada momento. El robot se moverá por un tablero infinito de coordenadas y su posición está determinata por un par de enteros $(x, y)$.\n",
        "\n",
        "Se podrán realizar los siguientes movimientos:\n",
        "- avanzar hacia adelante (`A`), es decir se desplaza hacia arriba,\n",
        "- retroceder (`R`), se desplaza hacia abajo,  \n",
        "- avanzar hacia la izquierda (`I`), se despaza hacia la izquierda, y\n",
        "- avanzar hacia la derecha (`D`), se despaza hacia la derecha.\n",
        "\n",
        "El robot tendrá un método llamado `mueve()` que recibirá la orden como parámetro y otro método, `posicion_actual()`,  que indicará su posición. Al crear el robot este se inicializará a las coordenadas $(0,0)$."
      ]
    },
    {
      "cell_type": "code",
      "execution_count": null,
      "metadata": {
        "id": "KNiLSZngFd7G"
      },
      "outputs": [],
      "source": [
        "# Definir la clase Robot"
      ]
    },
    {
      "cell_type": "code",
      "execution_count": null,
      "metadata": {
        "id": "mHwsLnurFd7H"
      },
      "outputs": [],
      "source": [
        "# Probar la clase Robot\n",
        "mi_robot = Robot()\n",
        "mi_robot.mueve('A')\n",
        "print('Posición actual:', mi_robot.posicion_actual()) # (0,1)\n",
        "mi_robot.mueve('A')\n",
        "print('Posición actual:', mi_robot.posicion_actual()) # (0,2)\n",
        "mi_robot.mueve('I')\n",
        "print('Posición actual:', mi_robot.posicion_actual()) # (-1,2)\n",
        "mi_robot.mueve('A')\n",
        "print('Posición actual:', mi_robot.posicion_actual()) # (-1,3)\n",
        "mi_robot.mueve('I')\n",
        "print('Posición actual:', mi_robot.posicion_actual()) # (-2,3)\n",
        "mi_robot.mueve('D')\n",
        "print('Posición actual:', mi_robot.posicion_actual()) # (-1,3)\n",
        "mi_robot.mueve('R')\n",
        "print('Posición actual:', mi_robot.posicion_actual()) # (-1,2)\n",
        "mi_robot.mueve('D')\n",
        "print('Posición actual:', mi_robot.posicion_actual()) # (0,2)\n",
        "mi_robot.mueve('D')\n",
        "print('Posición actual:', mi_robot.posicion_actual()) # (1,2)"
      ]
    },
    {
      "cell_type": "markdown",
      "metadata": {
        "id": "dIWYEW9BFd7H"
      },
      "source": [
        "\n",
        "**Ejercicio 4.** Mejora el ejercicio anterior de forma que el robot pueda recibir una secuencia de movimientos.\n",
        "Por ejemplo:\n",
        "- `mueve(\"AADDADIR\")`\n",
        "\n",
        "También deberá tener otros dos métodos: uno que devuelva todas las órdenes recibidas, que lo llamaremos `ordenes_recibidas()` y otro capaz de listar los movimientos necesarios para volver a la posición inicial $(0,0)$. A este último método lo llamaremos `volver_al_origen()`.\n"
      ]
    },
    {
      "cell_type": "code",
      "execution_count": null,
      "metadata": {
        "id": "V-vcw0_yFd7H"
      },
      "outputs": [],
      "source": [
        "# Redefinir la clase Robot"
      ]
    },
    {
      "cell_type": "code",
      "execution_count": null,
      "metadata": {
        "id": "twly97jbFd7H"
      },
      "outputs": [],
      "source": [
        "# Tests\n",
        "mi_robot = Robot()\n",
        "mi_robot.mueve('AADAD')\n",
        "print('Posición actual:',mi_robot.posicion_actual()) # Posición actual: (2, 3)\n",
        "mi_robot.mueve('IAADR')\n",
        "print('Posición actual:',mi_robot.posicion_actual()) # Posición actual: (2, 4)\n",
        "print('Órdenes recibidas:', mi_robot.ordenes_recibidas()) # Órdenes recibidas: AADADIAADR\n",
        "print('Secuencia para posición inicial:', mi_robot.volver_al_origen())\n",
        "atras =  mi_robot.volver_al_origen()\n",
        "mi_robot.mueve(atras)\n",
        "print('Posición actual:',mi_robot.posicion_actual()) # Posición actual: (0, 0)"
      ]
    },
    {
      "cell_type": "markdown",
      "metadata": {
        "id": "r07dOYL5UG_6"
      },
      "source": [
        "**Ejercicio 5.** Definir una clase `Triangulo` que tenga los siguientes atributos y métodos:\n",
        "\n",
        "Atributos:\n",
        "- `lado_a`: unos de los lados del triángulo.\n",
        "- `lado_b`: otro lado del triángulo.\n",
        "- `lado_c`: otro lado del triángulo.\n",
        "\n",
        "Los tres son `float`. Los atributos deben ser ocultos.\n",
        "\n",
        "La clase debe iniciarse con los 3 lados como parámetros.\n",
        "\n",
        "Métodos setter:\n",
        "- `establecer_lados()`: recibe tres `float`, que serán los lados del triángulo, es decir son los valores de los tres atributos.  \n",
        "\n",
        "Métodos getter:\n",
        "- `lados()`: devuelve una 3-upla con  los lados del triángulo, no importa el orden.\n",
        "- `calcular_area()`: calcula el área del triángulo y devuelve el resultado. Para implementar esté método hay que usar un poco de trigonometría o directamente utilizar la fórmula de Herón (buscar en internet).\n",
        "- `calcular_perimetro()`: calcula el perímetro del triángulo y devuelve el resultado.\n",
        "- `es_equilatero()`: devuelve `True` si el triángulo es equilátero y `False` en caso contrario.\n",
        "- `es_isosceles()`: devuelve `True` si el triángulo es isósceles y `False` en caso contrario.\n",
        "- `son_iguales(otro)`: recibe `otro` de la clase `Triangulo` y compara si los triángulos son iguales, es decir si tienen los mismos lados, no importa el orden.\n",
        "\n",
        "Es importante que los métodos `__init__` y `establecer_lados()` verifiquen con `assert` que los tres números pueden ser los lados de un triángulo,  es decir que  la suma de cualesquiera dos lados es mayor que el restante lado.  "
      ]
    },
    {
      "cell_type": "code",
      "execution_count": null,
      "metadata": {
        "id": "Vp4haEbLFd7I"
      },
      "outputs": [],
      "source": [
        "# Definir la clase Triangulo"
      ]
    },
    {
      "cell_type": "markdown",
      "metadata": {
        "id": "qLRsXXXGFd7I"
      },
      "source": [
        "\n",
        "Después de definida la clase `Triangulo` hagamos algunas pruebas."
      ]
    },
    {
      "cell_type": "code",
      "execution_count": null,
      "metadata": {
        "id": "8Edtre7RFd7I"
      },
      "outputs": [],
      "source": [
        "# Creación de una instancia de la clase Triangulo\n",
        "triangulo_1 = Triangulo(4, 5, 3)\n",
        "\n",
        "# Llamada a los métodos de la clase Triangulo\n",
        "print(\"Área:\", triangulo_1.calcular_area())       # Área: 6\n",
        "print(\"Perímetro:\", triangulo_1.calcular_perimetro()) # Perímetro: 12\n",
        "print(\"¿Es isosceles?\",triangulo_1.es_isosceles())   # ¿Es isosceles? False"
      ]
    },
    {
      "cell_type": "code",
      "execution_count": null,
      "metadata": {
        "id": "rgZXoX2MFd7J"
      },
      "outputs": [],
      "source": [
        "# Creación de dos instancias de la clase Triangulo\n",
        "triangulo_2 = Triangulo(5, 3, 5)\n",
        "triangulo_3 = Triangulo(5, 5, 3)\n",
        "# Llamada a los métodos de la clase Triangulo\n",
        "print(\"Perímetro:\", triangulo_2.calcular_perimetro()) # Perímetro: 13\n",
        "print(\"¿Es isosceles?\",triangulo_2.es_isosceles())   # ¿Es isosceles? True\n",
        "print(\"¿Es equilátero?\",triangulo_2.es_equilatero())   # ¿Es equilátero? False\n",
        "print(\"¿Son iguales?\",triangulo_2.son_iguales(triangulo_3))   # ¿Son iguales? True\n",
        "\n",
        "triangulo_3.establecer_lados(5,6,3)\n",
        "print('Lados del triángulo 3:', triangulo_3.lados()) # (5,6,3) o una permutación\n",
        "print(\"¿Son iguales?\",triangulo_2.son_iguales(triangulo_3))   # ¿Son iguales? False\n",
        "\n",
        "triangulo_4 = Triangulo(3, 3, 3)\n",
        "print(\"¿Es isosceles?\",triangulo_4.es_isosceles())   # ¿Es isosceles? True\n",
        "print(\"¿Es equilátero?\",triangulo_4.es_equilatero())   # ¿Es equilátero? True"
      ]
    },
    {
      "cell_type": "markdown",
      "metadata": {
        "id": "bLEK3h-NFd7J"
      },
      "source": [
        "**Ejercicio 6.** El tipo contador se define por lo que sabemos de él: sus cuatro\n",
        "operaciones\n",
        "- `Contador()` crea un contador en `0`.\n",
        "- `incrementar()` incrementa en `1` el contador.\n",
        "- `comprobar()` comprueba si el contador está en `0`.\n",
        "- `decrementar()` baja el contador en `1` si el estado no es `0`, si no da error.\n",
        "\n",
        "Ninguna otra operación está permitida (por ejemplo no se puede saber el estado del contador,  salvo que esté en `0` o no).\n",
        "\n",
        "Implementar contador  y escribir un algoritmo que revise si los paréntesis de una expresión dada por una secuencia de caracteres están balanceados, usando el tipo abstracto de datos contador.\n",
        "\n",
        "*Observación.* Para que una expresión tenga los paréntesis balanceados no solo es necesario que la cantidad de paréntesis que abren sea igual a la de los que cierran, sino que también en ningún lugar de la expresión puede haber más paréntesis que cierran de los que abren. Por ejemplo,\n",
        "\n",
        "```\n",
        "(a + b)) + ((a - b)\n",
        "```\n",
        "no es una expresión válida.\n",
        "\n",
        "\n"
      ]
    },
    {
      "cell_type": "code",
      "execution_count": null,
      "metadata": {
        "id": "D7kqlycpFd7J"
      },
      "outputs": [],
      "source": [
        "class Contador():\n",
        "    pass # Escribir más abajo el código (eliminar esta línea)\n",
        "\n",
        "def p_balanceados(cadena: str) -> bool:\n",
        "    bal = True\n",
        "    # escribir el código a partir de esta línea\n",
        "\n",
        "    return bal"
      ]
    },
    {
      "cell_type": "code",
      "execution_count": null,
      "metadata": {
        "id": "6VxvKJ_MFd7J"
      },
      "outputs": [],
      "source": [
        "# Tests\n",
        "print(p_balanceados('((a + b) + (a - b))')) # True\n",
        "print(p_balanceados('(a + b))')) # False\n",
        "print(p_balanceados('(a + b)) + ((a - b)')) # False\n",
        "print(p_balanceados('(()(a + b) + (a - b))')) # True"
      ]
    },
    {
      "cell_type": "markdown",
      "metadata": {
        "id": "tHhJYGB9Fd7K"
      },
      "source": [
        "**Ejercicio 7. Restos módulo $n$ ($\\mathbb Z_n$)**\n",
        "\n",
        "Debido a las propiedades de la congruencia, dado $n > 0$ tenemos una  aritmética de los restos módulo $n$. Si $ 0 \\le a, b < n$,  entonces\n",
        "\\begin{align}\n",
        "a+b &= c&&\\text{si $c$ es el resto de dividir $a+b$ por $n$}, \\\\\n",
        "a\\cdot b &= u&&\\text{si $u$ es el resto de dividir $a\\cdot b$ por $n$},\n",
        "\\end{align}\n",
        "La compatibilidad de la suma y la multiplicación con la congruencia, permiten probar que la suma y el producto módulo $n$ son asociativos y conmutativos, el $0$ es el elemento neutro de la suma, el $1$ es el elemento neutro del producto y todo número $a$ con $0 < a < n$ tiene opuesto aditivo (que es $n-a$). Debido a estas propiedades se dice que los restos módulo $n$,  denotados $\\mathbb Z_n$, son un *anillo conmutativo con unidad*.\n",
        "\n",
        "\n",
        "El  operador $\\%$ de Python, definido $a \\,\\%\\, n$ igual a resto de dividir $a$ por $n$, permite definir fácilmente la aritmética módulo $n$.\n",
        "\n",
        "En  \n",
        "\\begin{equation*}\n",
        "\\mathbb Z_n = \\{0, 1, \\ldots, n-1\\}\n",
        "\\end{equation*}\n",
        "la suma y la multiplicación se definen de la siguiente manera:\n",
        "\\begin{align}\n",
        "a +_{\\mathbb Z_n} b &:= (a +b) \\,\\% \\,n \\\\\n",
        "a \\times_{\\mathbb Z_n} b &:= (a \\cdot b)\\,\\% \\,n.\n",
        "\\end{align}\n",
        "\n",
        "Una implementación como clase de $\\mathbb Z_n$ y su aritmética podría ser la siguiente.\n"
      ]
    },
    {
      "cell_type": "code",
      "execution_count": null,
      "metadata": {
        "id": "lDceS3rgFd7K"
      },
      "outputs": [],
      "source": [
        "class Modulo:\n",
        "    def __init__(self, valor, modulo):\n",
        "        self.__valor = valor % modulo\n",
        "        self.__modulo = modulo\n",
        "\n",
        "    def __add__(self, otro):\n",
        "        return Modulo(self.__valor + otro.__valor, self.__modulo)\n",
        "\n",
        "    def __sub__(self, otro):\n",
        "        return Modulo(self.__valor - otro.__valor, self.__modulo)\n",
        "\n",
        "    def __mul__(self, otro):\n",
        "        return Modulo(self.__valor * otro.__valor, self.__modulo)\n",
        "\n",
        "    def __eq__(self, otro):\n",
        "        return self.__valor == otro.__valor\n",
        "\n",
        "    def __str__(self):\n",
        "        return f\"{self.__valor} (mod {self.__modulo})\"\n"
      ]
    },
    {
      "cell_type": "markdown",
      "metadata": {
        "id": "OnEoujqQFd7K"
      },
      "source": [
        "Ejemplos de uso:"
      ]
    },
    {
      "cell_type": "code",
      "execution_count": null,
      "metadata": {
        "id": "4ovlB-8TFd7K"
      },
      "outputs": [],
      "source": [
        "a = Modulo(7, 5)\n",
        "b = Modulo(11, 5)\n",
        "\n",
        "print(a)            # Salida: \"2 (mod 5)\"\n",
        "print(b)            # Salida: \"1 (mod 5)\"\n",
        "\n",
        "c = a + b\n",
        "print(c)            # Salida: \"3 (mod 5)\"\n",
        "\n",
        "d = a - b\n",
        "print(d)            # Salida: \"1 (mod 5)\"\n",
        "\n",
        "e = a * b\n",
        "print(e)            # Salida: \"3 (mod 5)\"\n",
        "\n",
        "print(a == Modulo(2, 5))    # Salida: True"
      ]
    },
    {
      "cell_type": "markdown",
      "metadata": {
        "id": "nFCa1gHqFd7L"
      },
      "source": [
        "Si $n = p$ es un número primo entonces, para cualquier  $b$ tal que $0 < b < p$ existen $s, t \\in \\mathbb Z$ tal que\n",
        "\\begin{equation*}\n",
        "1 =sb +tp. \\tag{1}\n",
        "\\end{equation*}\n",
        "Por lo tanto\n",
        "\\begin{equation*}\n",
        "bs \\equiv 1 \\pmod{p}.\n",
        "\\end{equation*}\n",
        "Es decir $s$ es el inverso multiplicativo de $b$ módulo $p$. Esto nos permite definir  la división entre restos módulo $p$. Si $a \\in \\mathbb Z$,  y $b, s$ como en (1),  entonces\n",
        "\\begin{equation*}\n",
        "a / b := as\\, \\% \\,{p}.\n",
        "\\end{equation*}\n",
        "Debido a la existencia de la división por $x$ con  $x \\not\\equiv 0 \\pmod{p}$, $\\mathbb Z_p$ es lo que se denomina un *cuerpo.*\n",
        "\n",
        "Implementar en la siguiente celda de código la división en $\\mathbb Z_p$. Sugerimos implementar un método oculto que calcule el $s$ de la ecuación (1).\n"
      ]
    },
    {
      "cell_type": "code",
      "execution_count": null,
      "metadata": {
        "id": "tASDhG-sFd7L"
      },
      "outputs": [],
      "source": [
        "class Modulo_p:\n",
        "    def __init__(self, valor, modulo):\n",
        "        # assert all(modulo % i != 0 for i in range(1, modulo)), 'el segundo parámetro no es primo'\n",
        "        self.__valor = valor % modulo\n",
        "        self.__modulo = modulo\n",
        "\n",
        "    def __add__(self, otro):\n",
        "        return Modulo_p(self.__valor + otro.__valor, self.__modulo)\n",
        "\n",
        "    def __sub__(self, otro):\n",
        "        return Modulo_p(self.__valor - otro.__valor, self.__modulo)\n",
        "\n",
        "    def __mul__(self, otro):\n",
        "        return Modulo_p(self.__valor * otro.__valor, self.__modulo)\n",
        "\n",
        "    def __inverso(numero):\n",
        "        \"\"\"\n",
        "        Función oculta (implementarla)\n",
        "        Devuelve s tal que 1 = s * numero + t * modulo\n",
        "        \"\"\"\n",
        "        return 1\n",
        "\n",
        "    def __truediv__(self, otro):\n",
        "        return Modulo_p(self.__valor, self.__modulo) * Modulo_p(Modulo_p.__inverso(otro), self.__modulo)\n",
        "\n",
        "    def __eq__(self, otro):\n",
        "        return self.__valor == otro.__valor\n",
        "\n",
        "    def __str__(self):\n",
        "        return f\"{self.__valor} (mod {self.__modulo})\"\n"
      ]
    },
    {
      "cell_type": "markdown",
      "metadata": {
        "id": "a0fLBD8zFd7L"
      },
      "source": [
        "Podemos testear la clase recién definida."
      ]
    },
    {
      "cell_type": "code",
      "execution_count": null,
      "metadata": {
        "id": "bZ9rh2XmFd7L"
      },
      "outputs": [],
      "source": [
        "x = Modulo_p(12, 7)\n",
        "y = Modulo_p(16, 7)\n",
        "print(x,',', y)\n",
        "print(x + y) # 0 (mod 7)\n",
        "print(x * y) # 3 (mod 7)\n",
        "print(x / y) # 6 (mod 7) (cuando esté implementado)"
      ]
    },
    {
      "cell_type": "markdown",
      "metadata": {
        "id": "m2t5FsaYFd7L"
      },
      "source": [
        "**Ejercicio 8. Números complejos.** Los números complejos son una extensión de los números reales que incluyen un nuevo tipo de número llamado *número imaginario*, representado por la letra $i$. Los números complejos tienen la forma $a + b\\cdot i$, donde $a$ y $b$ son números reales e $i$ es la unidad imaginaria, que satisface la propiedad $i^2 = -1$.\n",
        "\n",
        "Las operaciones básicas con números complejos incluyen la suma, resta, multiplicación, conjugación y división. A continuación, se describen estas operaciones:\n",
        "\n",
        "- *Suma.* Para sumar dos números complejos, se suman las partes reales y las partes imaginarias por separado. Es decir, si $z_1 = a_1 + b_1i$ y $z_2 = a_2 + b_2i$, entonces \n",
        "\\begin{equation*}\n",
        "z_1 + z_2 = (a_1 + a_2) + (b_1 + b_2)i.\n",
        "\\end{equation*}\n",
        "\n",
        "- *Resta.* Para restar dos números complejos, se restan las partes reales y las partes imaginarias por separado. Es decir, si $z_1 = a_1 + b_1i$ y $z_2 = a_2 + b_2i$, entonces \n",
        "\\begin{equation*}\n",
        "z_1 - z_2 = (a_1 - a_2) + (b_1 - b_2)i.\n",
        "\\end{equation*}\n",
        "\n",
        "- *Multiplicación.* Para multiplicar dos números complejos, se utiliza la propiedad $i^2 = -1$ y se aplican las reglas de distributividad. Es decir, si  $z_1 = a_1 + b_1i$ y $z_2 = a_2 + b_2i$, entonces \n",
        "\\begin{equation*}\n",
        "z_1 \\cdot z_2 = (a_1a_2 - b_1b_2) + (a_1b_2 + a_2b_1)i.\n",
        "\\end{equation*}\n",
        "\n",
        "- *Conjugación.* La conjugación de un número complejo es $$\\overline{a + bi} = a - bi.$$\n",
        "Observar que $$(a + bi)(\\overline{a + bi}) = a^2 + b^2 \\in \\mathbb R_{\\ge 0}.$$\n",
        "La norma de un número complejo $z$ se define como\n",
        "\\begin{equation*}\n",
        "||z|| = \\sqrt{z \\cdot \\overline{z}}\n",
        "\\end{equation*}\n",
        "Si representamos el número complejo $z = a +bi$ con coordenada $(a,b)$ en el plano entonces $||a+bi||= \\sqrt{a^2+b^2}$,  que no es otra cosa, por  el teorema de Pitágoras, que  la longitud del vector $(a,b)$."
      ]
    },
    {
      "cell_type": "markdown",
      "metadata": {
        "id": "jXZSajYmFd7M"
      },
      "source": [
        "Más allá de la interpretación de los números complejos, las consideraciones anteriores nos permiten definir la clase de números complejos con las operaciones mencionadas y  el TAD sería el siguiente.\n",
        "\n",
        "Los números complejos son\n",
        "\\begin{equation*}\n",
        "\\mathbb C = \\{a + bi: a,b \\in \\mathbb R\\}\n",
        "\\end{equation*}\n",
        "tal que\n",
        "\n",
        "- $a+bi = a' +b'i$ si y solo si $a=a'$ y $b=b'$\n",
        "\n",
        "Si $z_1 = a_1 + b_1i$ y $z_2 = a_2 + b_2i$, entonces\n",
        "\n",
        "-  $z_1 + z_2 := (a_1 + a_2) + (b_1 + b_2)i$,\n",
        "-  $z_1 - z_2 := (a_1 - a_2) + (b_1 - b_2)i$,\n",
        "-  $z_1 \\cdot z_2 := (a_1a_2 - b_1b_2) + (a_1b_2 + a_2b_1)i$,\n",
        "- $\\overline{a+bi} := a-bi$"
      ]
    },
    {
      "cell_type": "markdown",
      "metadata": {
        "id": "OOcAklz3Fd7M"
      },
      "source": [
        "Debemos mencionar que si $z = a + bi$,  entonces $a$ es la *parte real de $z$*, $b$ es *la parte imaginaria de $z$* y todas las operaciones se pueden implementar a partir de la parte real e imaginaria de los números involucrados.\n",
        "\n",
        "Definamos la clase `Complejo`."
      ]
    },
    {
      "cell_type": "code",
      "execution_count": null,
      "metadata": {
        "id": "efepayK9HJYN"
      },
      "outputs": [],
      "source": [
        "class Complejo:\n",
        "    def __init__(self, a, b):\n",
        "        self.__parte_real = float(a)\n",
        "        self.__parte_imaginaria = float(b)\n",
        "\n",
        "    def parte_real(self):\n",
        "        return self.__parte_real\n",
        "\n",
        "    def parte_imaginaria(self):\n",
        "        return self.__parte_imaginaria\n",
        "\n",
        "    def __add__(self, otro):\n",
        "        # Suma de números complejos\n",
        "        # (a + bi) + (c + di) = (a + c) + (b + d)i\n",
        "        assert isinstance(otro, Complejo), 'se deben sumar complejos'\n",
        "        return Complejo(self.parte_real() + otro.parte_real(), self.parte_imaginaria() + otro.parte_imaginaria())\n",
        "\n",
        "    def __sub__(self, otro):\n",
        "        # Resta de números complejos\n",
        "        # (a + bi) - (c + di) = (a - c) + (b - d)i\n",
        "        return Complejo(self.__parte_real - otro.__parte_real, self.__parte_imaginaria - otro.__parte_imaginaria)\n",
        "\n",
        "    def __mul__(self, otro):\n",
        "        # Multiplicación de números complejos\n",
        "        # (a + bi)(c + di) = (ac - bd) + (ad + bc)i\n",
        "        a = self.parte_real()\n",
        "        b = self.__parte_imaginaria\n",
        "        c = otro.__parte_real\n",
        "        d = otro.__parte_imaginaria\n",
        "        return Complejo(a*c + (-1)*b*d, a*d + b*c)\n",
        "\n",
        "    def norma(self):\n",
        "    # Norma de un número complejo\n",
        "        # ||a, b|| = (a**2 + b**2) ** (1/2)\n",
        "        return ((self.__parte_real ** 2 + self.__parte_imaginaria ** 2) ** (1/2))\n",
        "\n",
        "    def conjugado(self):\n",
        "    # Conjudado de un número complejo\n",
        "        # a + bi => a - bi (Conjugado)\n",
        "        return Complejo(self.__parte_real, (-1) * self.__parte_imaginaria)\n",
        "\n",
        "    def __eq__(self, otro) -> bool:\n",
        "        return self.parte_real() == otro.parte_real() and self.parte_imaginaria() == otro.parte_imaginaria()\n",
        "\n",
        "    def __str__(self):\n",
        "        if self.__parte_real == 0:\n",
        "            return f\"{self.__parte_imaginaria}i\"\n",
        "        else:\n",
        "            if  self.__parte_imaginaria > 0:\n",
        "                return f\"{self.__parte_real}+{self.__parte_imaginaria}i\"\n",
        "            elif  self.__parte_imaginaria == 0:\n",
        "                return f\"{self.__parte_real}\"\n",
        "            else:\n",
        "                return f\"{self.__parte_real}{self.__parte_imaginaria}i\""
      ]
    },
    {
      "cell_type": "markdown",
      "metadata": {
        "id": "wFLUPpuhRbSY"
      },
      "source": [
        "Hagamos algunos tests:"
      ]
    },
    {
      "cell_type": "code",
      "execution_count": null,
      "metadata": {
        "id": "idJHaFYQLhMY"
      },
      "outputs": [],
      "source": [
        "z1 = Complejo(2,3)\n",
        "print(z1) # 2.0+3.0i\n",
        "z2 =  Complejo(2,0)\n",
        "print(z2) # 2.0\n",
        "print(z1 * z2) # 4.0+6.0i\n",
        "z3 = Complejo(0, -1)\n",
        "print(z3) # -1.0i\n",
        "print(z1 * z3) # 3.0-2.0i\n",
        "z4 = Complejo(2.0, 3)\n",
        "print(z1 == z4) # True\n",
        "print(z1 == z2) # False"
      ]
    },
    {
      "cell_type": "markdown",
      "metadata": {
        "id": "PSOLDv77aGNL"
      },
      "source": [
        "\n",
        "- *División.* Para dividir dos números complejos, se utiliza la conjugación y se aplican las reglas de multiplicación.\n",
        "Por lo visto más arriba,\n",
        "\\begin{equation*}\n",
        "z \\cdot \\frac{\\overline{z}}{||z||^2} = 1.\n",
        "\\end{equation*}\n",
        "Por lo tanto\n",
        "\\begin{equation*}\n",
        "z^{-1} = \\frac{\\overline{z}}{||z||^2}\n",
        "\\end{equation*}\n",
        "y entonces si $z_2 \\ne 0 + 0i$,\n",
        "\\begin{equation*}\n",
        "\\frac{z_1}{z_2} = \\frac{z_1 \\cdot \\overline{z_2}}{||z_2||^2}.\n",
        "\\end{equation*}\n",
        "\n",
        "Por ejemplo,\n",
        "\\begin{align}\n",
        "\\frac{2+i}{1 +2i} &= (2+i)(1+2i)^{-1} = \\frac{ (2 +i)(\\overline{1+2i})}{(1+2i)(1-2i)} \\\\\n",
        "&= \\frac{(2 +i)(1-2i)}{5} =  \\frac{4-i}{5} = \\frac45 - \\frac15 i.\n",
        "\\end{align}\n"
      ]
    },
    {
      "cell_type": "markdown",
      "metadata": {
        "id": "WfIEPc1vRimw"
      },
      "source": [
        "En la siguiente celda de código implementar en la clase `Complejo` la división de números complejos. Para ello debe sobrescribirse el método `__truediv__`."
      ]
    },
    {
      "cell_type": "code",
      "execution_count": null,
      "metadata": {
        "id": "B6P4dP8DRZc0"
      },
      "outputs": [],
      "source": [
        "class Complejo:\n",
        "    def __init__(self, a, b):\n",
        "        self.__parte_real = a\n",
        "        self.__parte_imaginaria = b\n",
        "\n",
        "    def parte_real(self):\n",
        "        return self.__parte_real\n",
        "\n",
        "    def parte_imaginaria(self):\n",
        "        return self.__parte_imaginaria\n",
        "\n",
        "    def __add__(self, otro):\n",
        "        # Suma de números complejos\n",
        "        # (a + bi) + (c + di) = (a + c) + (b + d)i\n",
        "        assert isinstance(otro, Complejo), 'se deben sumar complejos'\n",
        "        return Complejo(self.parte_real() + otro.parte_real(), self.parte_imaginaria() + otro.parte_imaginaria())\n",
        "\n",
        "    def __sub__(self, otro):\n",
        "        # Resta de números complejos\n",
        "        # (a + bi) - (c + di) = (a - c) + (b - d)i\n",
        "        return Complejo(self.__parte_real - otro.__parte_real, self.__parte_imaginaria - otro.__parte_imaginaria)\n",
        "\n",
        "    def __mul__(self, otro):\n",
        "        # Multiplicación de números complejos\n",
        "        # (a + bi)(c + di) = (ac - bd) + (ad + bc)i\n",
        "        a = self.parte_real()\n",
        "        b = self.__parte_imaginaria\n",
        "        c = otro.__parte_real\n",
        "        d = otro.__parte_imaginaria\n",
        "        return Complejo(a*c + (-1)*b*d, a*d + b*c)\n",
        "\n",
        "    def __truediv__(self, otro):\n",
        "        # División de números complejos (con el operador /)\n",
        "        return 1\n",
        "\n",
        "    def norma(self):\n",
        "    # Norma de un número complejo\n",
        "        # ||a, b|| = (a**2 + b**2) ** (1/2)\n",
        "        return ((self.__parte_real ** 2 + self.__parte_imaginaria ** 2) ** (1/2))\n",
        "\n",
        "    def conjugado(self):\n",
        "    # Conjudado de un número complejo\n",
        "        # a + bi => a - bi (Conjugado)\n",
        "        return Complejo(self.__parte_real, (-1) * self.__parte_imaginaria)\n",
        "\n",
        "    def __eq__(self, otro) -> bool:\n",
        "        return self.parte_real() == otro.parte_real() and self.parte_imaginaria() == otro.parte_imaginaria()\n",
        "\n",
        "    def __str__(self):\n",
        "        if self.__parte_real == 0:\n",
        "            return f\"{self.__parte_imaginaria}i\"\n",
        "        else:\n",
        "            if  self.__parte_imaginaria > 0:\n",
        "                return f\"{self.__parte_real}+{self.__parte_imaginaria}i\"\n",
        "            elif  self.__parte_imaginaria == 0:\n",
        "                return f\"{self.__parte_real}\"\n",
        "            else:\n",
        "                return f\"{self.__parte_real}{self.__parte_imaginaria}i\""
      ]
    },
    {
      "cell_type": "markdown",
      "metadata": {
        "id": "bnQUmQQKRaJq"
      },
      "source": [
        "Algunos tests:"
      ]
    },
    {
      "cell_type": "code",
      "execution_count": null,
      "metadata": {
        "id": "wXLGA1SDRwI8"
      },
      "outputs": [],
      "source": [
        "# Tests\n",
        "z1 = Complejo(2,3)\n",
        "z2 =  Complejo(2,0)\n",
        "print(z1 / z2) # 1.0+1.5i\n",
        "z3 = Complejo(0, -1)\n",
        "print(z1 / z3) # -3.0+2.0i\n",
        "z4 = Complejo(2,5)\n",
        "print(z1 / z4) # 0.6551724137931034-0.13793103448275862i"
      ]
    },
    {
      "cell_type": "markdown",
      "metadata": {
        "id": "c40lD2cdFd7O"
      },
      "source": [
        "**Ejercicio 9.** Repasemos el tipo de datos fracción con una implementación ligeramente diferente a la dada en la teórica. Implementar el tipo de datos fracción, con las operaciones:\n",
        "- `Fracion(a, b)`: constructor a partir de dos enteros `a` y `b != 0`, que representa la fracción `a / b`,\n",
        "- `es_nulo`: comprueba si una fracción es igual a `0`,\n",
        "- `+`: suma dos fracciones,\n",
        "- `- a / b`: devuelve el opuesto aditivo de `a / b`,\n",
        "- `-`: resta dos fracciones,\n",
        "- `*`: multiplica dos fracciones,\n",
        "- `==`:  determina si los números que representas las fracciones son iguales,\n",
        "- `print`: imprime `a / b`.\n",
        "\n",
        "Todas las operaciones deben devolver la fracción simplificada, donde el numerador es un entero y el denominador es un entero positivo sin factores en común con el numerador.\n",
        "\n",
        "*Ayuda.*\n",
        "- `__add__`:  es el método que permite sobreescrbir  `+` (la suma de dos elementos),\n",
        "- `__neg__`:  es el método que permite sobreescrbir  `-` de un elemento,\n",
        "- `__sub__`:  es el método que permite sobreescrbir  `-` (la resta de dos elementos),\n",
        "- `__mul__`:  es el método que permite sobreescrbir  `*`,\n",
        "- `__eq__`:  es el método que permite sobreescrbir  `==`."
      ]
    },
    {
      "cell_type": "code",
      "execution_count": null,
      "metadata": {
        "id": "FVQjXSuNFd7O"
      },
      "outputs": [],
      "source": [
        "class Fraccion:\n",
        "    def __init__(self, numerador, denominador):\n",
        "        assert denominador != 0,'Error:  el denominador debe ser distinto de 0'\n",
        "        if denominador > 0:\n",
        "            self.__num = numerador\n",
        "            self.__den = denominador\n",
        "        else:\n",
        "            self.__num = - numerador\n",
        "            self.__den = - denominador\n",
        "        d = Fraccion.__mcd(self.__num, self.__den)\n",
        "        self.__num, self.__den = self.__num // d, self.__den // d\n",
        "\n",
        "    def __str__(self):\n",
        "        # Devuelve una cadena que representa la fracción (modificar el return)\n",
        "        return ''\n",
        "\n",
        "    def es_nulo(self):\n",
        "        # Comprueba si la fracción es nula (modificar el  return)\n",
        "        return False\n",
        "\n",
        "    def __mcd(a, b):\n",
        "        # calcula el máximo comun divisor de a y b\n",
        "        i, j = abs(a), abs(b)\n",
        "        while j != 0:\n",
        "            resto = i % j  # i = q * j + resto\n",
        "            i, j = j, resto\n",
        "        return i\n",
        "\n",
        "    def __add__(self, otra_fraccion):\n",
        "        # reemplazar\n",
        "        return Fraccion(0,1)\n",
        "\n",
        "    # Agregar los métodos que faltan\n",
        "\n",
        "\n"
      ]
    },
    {
      "cell_type": "code",
      "execution_count": null,
      "metadata": {
        "id": "oFiZku3VFd7O"
      },
      "outputs": [],
      "source": [
        "# Tests\n",
        "x = Fraccion(2,4)\n",
        "y = Fraccion(2,3)\n",
        "z = Fraccion(5, -3)\n",
        "print('x =',x,', y =', y,', z =', z) # x = 1/2 , y = 2/3 , z = -5/3\n",
        "cero = Fraccion(0, 1)\n",
        "uno = Fraccion(1, 1)\n",
        "print('x + y =',x + y) # x + y = 7/6\n",
        "# Descomentar las líneas siguientes cuando esté implementado Fraccion()\n",
        "# print ('x * uno =',x * uno) # x * uno = 1/2\n",
        "# print('x + cero =',x + cero) # x + cero = 1/2\n",
        "# print('x * cero =',x * cero) # x * cero = 0/1\n",
        "# print ('x - y =',x - y) # x - y = -1/6\n",
        "# print('-y =',-y) # -y = -2/3\n",
        "# print('¿x = y?:',x == y) # ¿x = y?: False\n",
        "# print('¿3/5 = 6/10?', Fraccion(3,5) == Fraccion(6,10)) # ¿3/5 = 6/10? True"
      ]
    },
    {
      "cell_type": "markdown",
      "metadata": {
        "id": "eo5REoLlFd7O"
      },
      "source": [
        "**Ejercicio 10. Grafos.**  Un *grafo* $G$ consiste de un  conjunto finito $V$, cuyos miembros son llamados  *vértices*,  y un conjunto $E$ de $2$-subconjuntos de $V$, cuyos miembros son llamados *aristas*.  \n",
        "\n",
        "Un ejemplo típico de un grafo $G = (V, E)$ es dado por los conjuntos\n",
        "\\begin{equation*}\n",
        "V = \\{a, b, c, d, z\\}, \\quad  E = \\{\\{a, b\\}, \\{a, d\\}, \\{b, z\\}, \\{c, d\\}, \\{d, z\\}\\}.\n",
        "\\end{equation*}\n",
        "Este ejemplo y la definición misma no son demasiado esclarecedores, y\n",
        "solamente cuando consideramos la representación pictórica de un grafo es\n",
        "cuando se hace la luz:  los vértices los dibujamos como puntos en el plano y las aristas como líneas que unen los vértices. En  el ejemplo:\n",
        "\n",
        "\n"
      ]
    },
    {
      "cell_type": "markdown",
      "metadata": {
        "id": "AC2ybWulfFTd"
      },
      "source": [
        "![image.png](data:image/png;base64,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)"
      ]
    },
    {
      "cell_type": "markdown",
      "metadata": {
        "id": "6qsj2QjxfDMw"
      },
      "source": [
        "\n",
        "El tipo *grafo* no existe en los lenguajes de programación y si queremos trabajar con grafos una buena opción sería implementarlo.\n",
        "\n",
        "El tipo abstracto grafo que implementaremos se describe de la siguiente manera:\n",
        " - `Grafo()` crea un grafo  vacío.\n",
        " - `vertices()` lista los vértices del grafo.\n",
        " - `aristas()` lista las aristas del grafo.\n",
        " - `adyacentes(v)` lista los vértices adyacentes a `v`.\n",
        " - `agregar_vertice()` agrega un vértice.\n",
        " - `agregar_arista(e)` agrega la arista `e` al grafo.\n",
        " - `quitar_arista(e)` quita la arista `e` del grafo.\n",
        " - `copiar()` copia el grafo para manipularlo sin cambiar el grafo original.\n",
        "\n",
        "El constructor `Grafo` puede recibir dos argumentos, donde el primer argumento  es el conjunto de vértices y el segundo argumento es el conjunto de aristas y donde cada arista se representa por una 2-upla. Por ejemplo,\n",
        "```\n",
        "G = Grafo({'a', 'b', 'c'}, {('a', 'b'), ('a', 'c')})\n",
        "```\n",
        "crea un grafo cuya formulación matemática es\n",
        "\\begin{equation*}\n",
        "G = (\\{a,b,c\\}, \\{\\{a,b\\},\\{a,c\\}\\})\n",
        "\\end{equation*}\n",
        "\n",
        "A continuación haremos la implementación de `Grafo` usando internamente el tipo `set` (conjunto) y `frozenset` (conjunto inmutable) de Python y seguirá lo más posible la definición de grafo. El ejercicio consiste en implementar el método `adyacentes()` y `quitar_arista()`.\n",
        "\n",
        "*Observación.* El  tipo `set` conceptualmente es similar al tipo `list`: un  conjunto puede ser mirado como una lista donde no importa el orden y no hay repetición. Sin embargo,  una diferencia importante  en la implementación en Python es que no se permiten conjuntos de conjuntos. Por ejemplo es válido\n",
        "```\n",
        "{1, 2, 3, 4, 5}\n",
        "```\n",
        "y no es válido\n",
        "```\n",
        "{{1,2}, {3,4}, {5,6}}.\n",
        "```\n",
        "La razón es que Python exige que los elementos de conjuntos sean inmutables y `set` es mutable. Para poder hacer conjuntos de conjuntos necesitamos el tipo `frozenset` (\"conjunto congelado\") que es un tipo conjunto, pero inmutable. Por lo tanto, podemos hacer, por ejemplo,\n",
        "```\n",
        "{frozenset({1,2}), frozenset({3,4}), frozenset({5,6})},\n",
        "```\n",
        "que representa un conjunto de conjuntos.\n",
        "\n",
        "Documentación sobre los tipos `set` y `frozenset`: en  \n",
        "- https://docs.python.org/es/3/tutorial/datastructures.html#sets y\n",
        "- https://docs.python.org/es/3/library/stdtypes.html?#set\n"
      ]
    },
    {
      "cell_type": "code",
      "execution_count": null,
      "metadata": {
        "id": "limdTAjiFd7P"
      },
      "outputs": [],
      "source": [
        "class Grafo:\n",
        "    def __init__(self, vertices_o = set({}), aristas_o = set({})):\n",
        "        # pre: vertices_o es el conjunto de vértices y arista_o es un conjunto de pares (x,y) con x, y in vertices_o\n",
        "        #      Las aristas se ingresan como pares ordenados pero internamente se convierten a frozenset\n",
        "        # Incluimos estos parámetros para tener la posibilidad de empezar con un grafo no vacío.\n",
        "        assert type(vertices_o) == set and type(aristas_o) == set and all(type(x) == tuple and len(x) == 2 for x in aristas_o) , 'Error: no son conjuntos apropiados.'\n",
        "        assert all(x[0] != x[1] and all(y in vertices_o for y in x) for x in aristas_o) , 'Error: aristas no apropiadas.'\n",
        "\n",
        "        self.__aristas = {frozenset(e) for e in aristas_o} # una copia de aristas y se convierten a frozenset (conjuntos por comprensión, similar a listas)\n",
        "        self.__vertices = {v for v in vertices_o}  # una copia de el conjunto de los vértices del grafo\n",
        "        # Las variable anteriores nos dan el estado del grafo (sus vértices y aristas)\n",
        "\n",
        "    def vertices(self):\n",
        "        # post:  devuelve el conjunto de vértices del grafo\n",
        "        return {v for v in self.__vertices}\n",
        "\n",
        "    def aristas(self):\n",
        "        # post:  devuelve el conjunto de aristas del grafo\n",
        "        return {tuple(e) for e in self.__aristas}\n",
        "\n",
        "    def __str__(self):\n",
        "        return str((self.vertices(), self.aristas())) # imprime el conjunto de vértices y el conjunto de aristas del grafo\n",
        "\n",
        "    def adyacentes(self, vertice):\n",
        "        # pre: vertice es un vértice del grafo\n",
        "        # post: devuelve el conjunto de vertices adyacentes a vertice\n",
        "        pass # completar. Es un método que recorre todas las aristas.\n",
        "        return set()\n",
        "\n",
        "    def agregar_vertice(self, new_vert):\n",
        "        # post: agrega un vértice, si el vértice ya estaba no cambia nada\n",
        "        self.__vertices.add(new_vert) # aumento en 1 la cantidad de vértices (si el vértice no estaba).\n",
        "\n",
        "    def quitar_arista(self, e):\n",
        "        # pre: e == (x, y) arista\n",
        "        # post: quita arista {x, y} (si está). En  caso contrario no hace nada.\n",
        "        assert type(e) == tuple and len(e) == 2 and e[0] != e[1], 'Error: el argumento debe ser una 2-upla de dos elementos'\n",
        "        pass # completar Ayuda: discard es un método de set que descarta si está y si no no cambia nada\n",
        "\n",
        "    def agregar_arista(self, e):\n",
        "        # pre: e == (x, y)\n",
        "        # post: si x, y son vértices del grafo, agrega arista e = {x, y} (si no está).\n",
        "        #       En  caso contrario no hace nada.\n",
        "        assert type(e) == tuple and len(e) == 2 and e[0] != e[1], 'Error: el argumento debe ser una 2-upla de dos elementos'\n",
        "        e_set = frozenset(e)\n",
        "        if e_set.issubset(self.__vertices): # comprueba que los vértices de e son vértices del grafo\n",
        "            self.__aristas.add(e_set) # agrega la arista\n",
        "\n",
        "    def copiar(self):\n",
        "        # post: devuelve una copia del grafo\n",
        "        return Grafo(self.__vertices, self.aristas())\n"
      ]
    },
    {
      "cell_type": "code",
      "execution_count": null,
      "metadata": {
        "id": "PbZ1bVwqFd7P"
      },
      "outputs": [],
      "source": [
        "# Tests\n",
        "\n",
        "G1 = Grafo({0, 1, 2, 3, 4, 5, 6}, {(0, 3), (0, 4), (0, 5), (0, 6), (1, 2), (1, 4), (2, 5), (3, 4), (4, 5), (5, 6)})\n",
        "print('G1:',G1)\n",
        "G1.agregar_arista((0,1))\n",
        "print('G1 + (0, 1):',G1)\n",
        "print('Adyacentes a 1:', G1.adyacentes(1))\n",
        "G1.quitar_arista((1,2))\n",
        "print('G1 + (0, 1)- (1, 2):',G1)\n",
        "print('Adyacentes a 1:',G1.adyacentes(1))\n",
        "G1.agregar_vertice(7)\n",
        "print('G1 + vértice 7, vértices:',G1.vertices())\n",
        "G2 = G1.copiar()\n",
        "print('G2 es copia de G1:', G2)\n",
        "G3 = Grafo({'a','b', 'c'}, {('a','b'), ('a','c')})\n",
        "print('G3:', G3)\n",
        "print('G3, vértices:', G3.vertices())\n",
        "print('G3, aristas:', G3.aristas())\n",
        "G3.agregar_vertice('d')\n",
        "print('G3 + vértice d', G3)\n",
        "G3.agregar_arista(('b','d'))\n",
        "print('G3 + arista (b, d):', G3)\n",
        "G3.quitar_arista(('a', 'b'))\n",
        "print('G3 - arista (a, b):', G3)"
      ]
    },
    {
      "cell_type": "markdown",
      "metadata": {
        "id": "Jmj10nR4Fd7P"
      },
      "source": [
        "**Ejercicio 11. Grafos (2).** Pese a que la implementación anterior es muy natural y responde a la definición de grafo, un método más eficiente para representar grafos son las  *listas de adyacencia*.\n",
        "\n",
        "Podemos representar un grafo $G=(V,E)$ por su *lista de adyacencia*, donde cada vértice $v \\in V$ encabeza una lista de aquellos vértices que son adyacentes a $v$. A la lista encabezada por $v$ le llamaremos *columna de $v$*.\n",
        "\n",
        "**Ejemplo.** Sea $G$ el grafo con vértices $\\{0, 1, 2, 3, 4, 5, 6\\}$ y  aristas  $\\{\\{0, 3\\}, \\{0, 4\\}, \\{0, 5\\}, \\{0, 6\\}, \\{1, 2\\}, \\{1, 4\\}, \\{2, 5\\}, \\{3, 4\\}, \\{4, 5\\}, \\{5, 6\\}\\}$. Su lista de ayacencia es:\n",
        "\n",
        "| 0 | 1 | 2 | 3 | 4 | 5 | 6 |\n",
        "|---|---|---|---|---|---|---|\n",
        "| 3 | 2 | 1 | 0 | 0 | 0 | 0 |\n",
        "| 4 | 4 | 5 | 4 | 1 | 2 | 5 |\n",
        "| 5 |   |   |   | 5 | 6 |  |\n",
        "| 6 |   |   |   |   |  |  |"
      ]
    },
    {
      "cell_type": "markdown",
      "metadata": {
        "id": "ralv12ynFd7P"
      },
      "source": [
        "\n",
        "\n",
        "\n",
        "En  la celda de código siguiente se implementa el tipo `Grafo()` de esta manera y  debés completar la definición de los métodos que faltan.\n",
        "\n",
        "El tipo abstracto grafo es exactamente igual que en el ejercicio anterior. Las aristas se representan internamente con  una lista `[x, y]` (`[y, x]`, aunque no es la misma lista, representa la misma arista).\n",
        "\n",
        "Para la implementación de grafo usando listas de adyacencia usaremos el tipo `dict`, es decir *diccionario*. Reecordemos que un  diccionario es como una lista salvo que en vez de utilizar los enteros de `0` en adelante como índices usa  cualquier *clave* (inmutable). Por ejemplo,\n",
        "```\n",
        "diccionario = {}\n",
        "diccionario['a'] = ['b', 'c']\n",
        "diccionario['b'] = ['a']\n",
        "diccionario['c'] = ['a']\n",
        "```\n",
        "crea un diccionario donde recupero `['b', 'c']` con la clave `'a'`, recupero `['a']` con la clave `'b'`, etc.\n",
        "\n",
        "Además de la ventaja obvia de poder usar cualquier clave o índice, otra ventaja de los diccionarios es que si la clave no existe se crea con una declaración de la forma\n",
        "```\n",
        "dicionario[clave] = elemento\n",
        "```"
      ]
    },
    {
      "cell_type": "markdown",
      "metadata": {
        "id": "ALkXq4jhFd7Q"
      },
      "source": [
        "\n",
        "*Observación 1.* ¿Por qué es más eficiente la representación de un grafo por una lista de adyacencia que por los conjuntos que lo definen?. En  los algoritmos sobre grafos una de las operaciones más utilizadas es encontrar los vértices adyacentes a un vértice dado `v`. En la implementación natural para conjuntos  esto supone recorrer todas las aristas del grafo para determinar en cuales de ellas se encuentra `v`. En un grafo  de  millones de aristas esto supone millones de operaciones. En cambio si trabajamos con listas de adyacencia es simplemente devolver la lista correspondiente a `v`. En un grafo  de millones de aristas supone una cantidad de operaciones del orden de la valencia de `v` (que puede ser un número muy pequeño).   \n",
        "\n",
        "\n",
        "*Observación 2.* Como cada arista se encuentra dos veces en una lista de adyacencia (si $w$ está en la columna de $v$,  entonces $v$  está en la columna de $w$) podemos llegar a pensar que la representación por listas de adyacencia utiliza \"demasiado espacio\" (el doble de lo necesario). Sin embargo,  esta representación ocupa el mismo espacio que la de conjuntos: en la  lista de adyacencia de un grafo $G$, en cada columna $v$  se encuentran $\\delta(v)$ vértices. Por lo tanto la tabla tiene $\\sum_{v \\in V} \\delta(v)$  entradas. Uno de los primeros teoremas de la teoría de grafos nos dice que $\\sum_{v \\in V} \\delta(v)= 2|E|$,  es decir el número de entradas de la tabla es dos veces el número de aristas. Por otro lado, como cada arista ocupa 2 espacios (los dos vértices),  el número de espacios necesario para representar $G$  como conjunto  es también $2|E|$.\n",
        "\n",
        "*Conclusión:* las representaciones de un grafo por definición o por listas de adyacencia ocupan el mismo espacio."
      ]
    },
    {
      "cell_type": "code",
      "execution_count": null,
      "metadata": {
        "id": "zyOBgBSfFd7Q"
      },
      "outputs": [],
      "source": [
        "class Grafo:\n",
        "    def __init__(self, vertices_o = set({}), aristas_o = set({})):\n",
        "        # pre: vertices_o es el conjunto de vértices y arista_o es un lista de pares (x,y) con x, y in vertices_o\n",
        "        # Incluimos estos parámetros para tener la posibilidad de empezar con un grafo no vacío.\n",
        "        assert type(vertices_o) == set and type(aristas_o) == set and all(type(x) == tuple and len(x) == 2 for x in aristas_o) , 'Error: no son conjuntos apropiados.'\n",
        "        assert all(x[0] != x[1] and all(y in vertices_o for y in x) for x in aristas_o) , 'Error: aristas no apropiadas.'\n",
        "\n",
        "        self.__graph = {} # esta será la lista de adyacencia: un diccionario de listas\n",
        "        for v in vertices_o:\n",
        "            self.__graph[v] = []\n",
        "        # self.__graph asocia a cada vértice de vertices_o una lista vacía\n",
        "        # Ahora construimos la lista de adyacencia\n",
        "        for u in aristas_o:\n",
        "            if u[1] not in self.__graph[u[0]]:\n",
        "                self.__graph[u[0]].append(u[1])\n",
        "                self.__graph[u[1]].append(u[0])\n",
        "        # Las variable  self.__graph nos da el estado del grafo (sus vértices y aristas).\n",
        "        # Los vértices son las claves del diccionario (self.__graph.keys())\n",
        "\n",
        "    def vertices(self):\n",
        "        # post:  devuelve el conjunto de vértices del grafo\n",
        "        return {v for v in self.__graph.keys()}\n",
        "\n",
        "    def aristas(self):\n",
        "        # post:  devuelve el conjunto de aristas del grafo\n",
        "        arsts = set({})\n",
        "        pass # Completar\n",
        "        return arsts\n",
        "\n",
        "    def __str__(self):\n",
        "        return str((self.vertices(), self.aristas()))\n",
        "\n",
        "    def valencia(self, vert):\n",
        "        # pre: 0 <= vert < len(self.__vertices)\n",
        "        # post: devuelve la valencia del vértice  v\n",
        "        assert vert in self.__graph, 'Error:  el vértice '+str(vert)+' no pertenece al grafo'\n",
        "        return len(self.__graph[vert])\n",
        "\n",
        "    def adyacentes(self,vert):\n",
        "        # pre: 0 <= v < len(self.__vertices)\n",
        "        # post: devuelve los vertices adyacentes a vert\n",
        "        assert vert in self.__graph, 'Error:  el vértice '+str(vert)+' no pertenece al grafo'\n",
        "        # Completar\n",
        "        return set()\n",
        "\n",
        "    def agregar_vertice(self, new_vert):\n",
        "        # post: agrega un vértice\n",
        "        if new_vert not in self.__graph.keys():\n",
        "            self.__graph[new_vert] = [] # aumento en 1 el tamaño de la lista de adyacencia.\n",
        "\n",
        "    def agregar_arista(self, e): #\n",
        "        # pre: e == (x, y)\n",
        "        # post: si x, y son vértices del grafo, agrega arista e = {x, y} (si no está).\n",
        "        #       En  caso contrario no hace nada.\n",
        "        assert type(e) == tuple and len(e) == 2 and e[0] != e[1], 'Error: el argumento debe ser un par de elementos distintos'\n",
        "        if all(v in self.__graph for v in e): # comprueba que los vértices de e son vértices del grafo\n",
        "            if e[1] not in self.__graph[e[0]]: # comprueba que la arista no esté\n",
        "                self.__graph[e[1]].append(e[0]) # agrega la arista\n",
        "                self.__graph[e[0]].append(e[1]) # agrega la arista\n",
        "\n",
        "    def quitar_arista(self, e):\n",
        "        # pre: e = (x, y) arista\n",
        "        # post: quita arista e (si está). En  caso contrario no hace nada.\n",
        "        assert type(e) == tuple and len(e) == 2 and e[0] != e[1], 'Error: el argumento debe ser una 2-upla de elementos distintos'\n",
        "        if all(v in self.__graph.keys() for v in e) and e[1] in self.__graph[e[0]]: # comprueba que e  es arista\n",
        "            pass # Completar\n",
        "\n",
        "    def copiar(self):\n",
        "        # post: devuelve una copia del grafo\n",
        "        return Grafo(self.vertices(), self.aristas())"
      ]
    },
    {
      "cell_type": "code",
      "execution_count": null,
      "metadata": {
        "id": "nm_dcHm1Fd7Q"
      },
      "outputs": [],
      "source": [
        "# Tests\n",
        "\n",
        "G1 = Grafo({0, 1, 2, 3, 4, 5, 6},{(0, 3), (0, 4), (0, 5), (0, 6), (1, 2), (1, 4), (2, 5), (3, 4), (4, 5), (5, 6)})\n",
        "print('G1:',G1)\n",
        "G1.agregar_arista((0,1))\n",
        "print('G1 + (0,1):',G1)\n",
        "print('Adyacentes a 1:',G1.adyacentes(1))\n",
        "G1.quitar_arista((1,2))\n",
        "print('G1 + (0,1) - (1,2):',G1)\n",
        "print('Adyacentes a 1:',G1.adyacentes(1))\n",
        "G1.agregar_vertice(7)\n",
        "print('G1 + vértice 7, vértices:',G1.vertices())\n",
        "G2 = G1.copiar()\n",
        "print('G2, copia de G1;', G2)"
      ]
    },
    {
      "cell_type": "markdown",
      "metadata": {
        "id": "jt2OzhQxFd7Q"
      },
      "source": [
        "**Ejercicio 12 (optativo).** Sea $G$ un grafo. Un  *recorrido euleriano en $G$* es una caminata o circuito que no repite aristas. Es decir es una sucesión $v_0$, $v_1$, $\\ldots$, $v_r$ de vértices tal que $\\{v_i, v_{i+1}\\}$ es arista para $0 \\le i < r$ y no se repite ninguna arista.\n",
        "\n",
        "Un *recorrido euleriano maximal*  es un recorrido euleriano que respetando la condición de no repetir aristas no es posible continuarlo (no se puede avanzar más desde el último vértice sin repetir aristas).\n",
        "\n",
        "Usando la clase `Grafo()` del  ejercicio 5 o 6 definir\n",
        "```\n",
        "recorrido_euleriano_max(L, v_ini)\n",
        "```\n",
        "que dado un grafo `L` y un vértice `v_ini` de `L`, devuelve una lista de vértices que forma una recorrido euleriano  en `L` con origen en `v_ini`. Más aún, se requiere que después de aplicar esta función,  `L` se haya modificado de tal forma que se le han quitado todas las aristas usadas en el recorrido.\n",
        "\n",
        "Una forma conceptualmente sencilla de implementar el algoritmo es:\n",
        "\n",
        "1. Comienzo  con `v0 = v_ini`  y una lista `sub_caminata = [v0]` de vértices,\n",
        "2. encuentro un vértice `v1` adyacente a `v0`. Si no lo encuentro, devuelvo `sub_caminata` (y termina el script). Si lo encuentro,\n",
        "3. agrego el vértice `v1` a `sub_caminata`, elimino la arista `v0` `v1` de `L` y hago la asignación `v0 = v1`,\n",
        "4. Vuelvo al paso 2.\n",
        "\n",
        "Siguiendo este algoritmo, como en cada paso se elimina una arista, en algún momento terminaremos. Más aún, como cada arista que usamos de `L` es eliminada, la caminata determinada por `sub_caminata` no repite aristas.\n",
        "\n",
        "\n",
        "*Observación.* La función debería funcionar de la misma forma con la implementación de grafo como conjuntos (ejercicio 5) o  como lista de adyacencia (ejercicio 6),  aunque puede ocurrir que los resultados  (caminatas) aplicados a ciertos grafos sean diferentes.  \n",
        "\n",
        "\n"
      ]
    },
    {
      "cell_type": "code",
      "execution_count": null,
      "metadata": {
        "id": "opiZwyZ7Fd7Q"
      },
      "outputs": [],
      "source": [
        "def recorrido_euleriano_max(L, v_ini):\n",
        "    # pre: v_ini vértice de L\n",
        "    # post: devuelve caminata o circuito, exhaustivo que no repite aristas\n",
        "    # mod: L termina sin las aristas usadas en la caminata.\n",
        "    assert isinstance(L, Grafo) and v_ini in L.vertices(), 'Error: el primer argumento debe ser un grafo y el segundo un vértice del grafo'\n",
        "    v0 = v_ini # vérice inicial\n",
        "    sub_caminata = [v0]  # sub caminata\n",
        "    pass # Completar\n",
        "    return sub_caminata"
      ]
    },
    {
      "cell_type": "code",
      "execution_count": null,
      "metadata": {
        "id": "3NG14_9kFd7R"
      },
      "outputs": [],
      "source": [
        "# Tests (fijarse si las caminatas son iguales para el grafo definido como conjunto y el grafo definido como lista de adyacencia)\n",
        "\n",
        "# Grafo 1\n",
        "G1 = Grafo({0, 1, 2, 3, 4, 5, 6}, {(0, 3), (0, 4), (0, 5), (0, 6), (1, 2), (1, 4), (2, 5), (3, 4), (4, 5), (5, 6)})\n",
        "print(G1) #lista de adyacencia: [[3,4,5,6], [2,4], [1,5], [0,4], [0,1,3,5], [0,2,4,6], [0,5]]\n",
        "print(recorrido_euleriano_max(G1, 0),'\\n') # uno posible: [0, 3, 4, 0, 5, 2, 1, 4, 5, 6, 0]\n",
        "\n",
        "# Grafo 2 (cíclico)\n",
        "G2 = Grafo({0, 1, 2, 3, 4, 5}, {(0, 1), (0, 5), (1, 2), (2, 3), (3, 4), (4, 5)})\n",
        "print(G2)  #lista de adyacencia: [[1,5],[0, 2],[1,3],[2,4],[3,5],[4,0]]\n",
        "print(recorrido_euleriano_max(G2, 0),'\\n') # uno posible: [0, 1, 2, 3, 4, 5, 0]\n",
        "\n",
        "# Grafo 3\n",
        "G3 = Grafo({0, 1, 2, 3, 4, 5}, {(0, 2), (0, 4), (0, 5), (1, 3), (1, 5), (2, 3), (2, 4), (2, 5), (3, 4), (4, 5)})\n",
        "print(G3) #lista de adyacencia: [[2, 4, 5], [3, 5], [0, 3, 4, 5], [1, 2, 4], [0, 2, 3, 5], [0, 1, 2, 4]]\n",
        "print(recorrido_euleriano_max(G3, 1),'\\n') # uno posible: [1, 3, 2, 0, 4, 2, 5, 0]\n"
      ]
    },
    {
      "cell_type": "markdown",
      "metadata": {
        "id": "WccqIHn5Fd7R"
      },
      "source": [
        "**Ejercicio 13 (optativo).** *(Algoritmo de Hierholzer).*  Sea $G$ un grafo conexo. Un *circuito euleriano*  es un recorrido en el grafo con origen y final en el mismo vértice que  pasa por cada arista del grafo una sola vez. Una *caminata euleriana*  es un recorrido en el grafo con origen y final en distintos vértices que  pasa por cada arista del grafo una sola vez.\n",
        "\n",
        "Eüler probó que si el grafo tiene más de dós vértices con valencia impar el problema de encontrar caminatas o circuitos eulerianos no tiene solución.\n",
        "\n",
        "Hierholzer probó en 1871 que si las valencias del grafo son todas pares existen circuitos eulerianos con origen en cualquier punto  y  que si hay 2 vértices de valencia impar hay caminatas eulerianas de uno de esos vértices al otro. Hierholzer probó esas afirmaciones dando un algoritmo que permitía  encontrar un circuito o caminata euleriana (según correponda). El algorimo es el siguiente: sea $v$ un vértice en $G$, cualquiera si todas las valencias son pares o impar  en caso contrario.\n",
        "- **Paso 1.** Haga un recorrido euleriano maximal desde $v$.\n",
        "- **Paso iterativo.**\n",
        "  - Mientras en la caminata ya realizada exista un vértice $u$  que tenga aristas que no formen parte de la caminata, realice otro recorrido  euleriano maximal partiendo  de $u$ y siguiendo las aristas no utilizadas.\n",
        "  - Inserte en $u$ este recorrido a la caminata  anterior obteniendo una nueva caminata (más larga).\n",
        "  - Si aún queda alguna arista sin recorrer vuelva al inicio del paso iterativo.\n",
        "\n",
        "El ejercicio consiste en implementar, completando el código escrito más abajo,  el algoritmo de Hierholzer. En  este caso, el grafo original no se debe modificar.\n",
        "\n"
      ]
    },
    {
      "cell_type": "code",
      "execution_count": null,
      "metadata": {
        "id": "d97-BDWXFd7R"
      },
      "outputs": [],
      "source": [
        "def algoritmo_Hierholzer(G, v_ini) -> list:\n",
        "    # pre: v_ini vértices de G  a) G grafo con todos los vértices de valencia par, o\n",
        "    #      b) solo hay dos vertices de valencia impar y v_ini es uno de ellos\n",
        "    # post: devuelve 'caminata' una lista de vértices que forma un caminata o circuito euleriano que empieza en v_ini.\n",
        "    assert isinstance(G, Grafo) and v_ini in G.vertices(), 'el primer argumento debe ser un grafo y el segundo un vértice del grafo'\n",
        "    vertices_impares = {v for v in G.vertices() if len(G.adyacentes(v)) % 2 == 1}\n",
        "    assert len(vertices_impares) <= 2, 'solo es posible una caminata o circuito euleriano si la cantidad de vértices impares es 0 o 2'\n",
        "    assert len(vertices_impares) == 2 and v_ini in vertices_impares, 'el vértice debe ser impar'\n",
        "\n",
        "    libres = G.copiar() # sub grafo de aristas no utilizadas\n",
        "    caminata = recorrido_euleriano_max(libres, v_ini) # el subgrafo libres que queda es todo de valencias pares (¿por qué?)\n",
        "    while len(libres.aristas()) > 0:\n",
        "         break # Completar (eliminar primero el break)\n",
        "    return caminata"
      ]
    },
    {
      "cell_type": "code",
      "execution_count": null,
      "metadata": {
        "id": "zkfWg_qHFd7R"
      },
      "outputs": [],
      "source": [
        "# Tests\n",
        "# Grafo 6 (dos valencias impares)\n",
        "G6 = Grafo({0, 1, 2, 3, 4, 5, 6, 7, 8, 9, 10, 11}, {(0, 1), (1, 2), (2, 3), (2, 4), (2, 7), (3, 4), (4, 5), (4, 6), (5, 6), (7, 8), (8, 9), (8, 10), (8, 11), (9, 10)})\n",
        "print('Lista de adyacencia: ', G6)\n",
        "print('Caminata euleriana:', algoritmo_Hierholzer(G6, 0)) # una posible: [0, 1, 2, 3, 4, 5, 6, 4, 2, 7, 8, 9, 10, 8, 11]\n",
        "\n",
        "# Grafo 7 (todas valencias pares)\n",
        "G7 = Grafo({0, 1, 2, 3, 4, 5, 6, 7, 8, 9, 10, 11}, {(0, 1), (0, 11), (1, 2), (2, 3), (2, 4), (2, 7), (3, 4), (4, 5), (4, 6), (5, 6), (7, 8), (8, 9), (8, 10), (8, 11), (9, 10)})\n",
        "\n",
        "print('Lista de adyacencia: ', G7)\n",
        "print('Circuito euleriano:', algoritmo_Hierholzer(G7, 0)) # uno posible [0, 1, 2, 3, 4, 5, 6, 4, 2, 7, 8, 9, 10, 8, 11, 0]\n",
        "\n",
        "# Grafo 8 (todas valencias pares)\n",
        "G8 = Grafo({'a', 'b', 'c', 'd', 'e', 'f', 'g', 'h', 'i', 9, 10, 11}, {('a', 'b'), ('a', 11), ('b', 'c'), ('c', 'd'), ('c', 'e'),\n",
        "                                                                      ('c', 'h'), ('d', 'e'), ('e', 'f'), ('e', 'g'), ('f', 'g'), ('h', 'i'), ('i', 9), ('i', 10), ('i', 11), (9, 10)})\n",
        "\n",
        "print('Lista de adyacencia: ', G8)\n",
        "print('Circuito euleriano:', algoritmo_Hierholzer(G8, 'a')) # uno posible [0, 1, 2, 3, 4, 5, 6, 4, 2, 7, 8, 9, 10, 8, 11, 0]"
      ]
    }
  ],
  "metadata": {
    "colab": {
      "provenance": []
    },
    "kernelspec": {
      "display_name": "Python 3",
      "name": "python3"
    },
    "language_info": {
      "name": "python"
    }
  },
  "nbformat": 4,
  "nbformat_minor": 0
}
