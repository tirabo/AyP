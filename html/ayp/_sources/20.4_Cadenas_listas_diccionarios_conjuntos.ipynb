{
  "cells": [
    {
      "cell_type": "markdown",
      "metadata": {
        "id": "f7MhyigAaW3j"
      },
      "source": [
        "## 4. Cadenas, listas, diccionarios y conjuntos\n",
        "\n",
        "### 1° Parte. Cadenas\n",
        "\n"
      ]
    },
    {
      "cell_type": "markdown",
      "metadata": {
        "id": "NCy4GGuAaXtr"
      },
      "source": [
        "**Ejercicio 1.** Escribir una función que recibe una cadena de caracteres y devuelve el número de letras `a` que hay en la cadena recibida.\n",
        "\n",
        "*Ejemplo.*\n",
        "\n",
        "\n",
        "```\n",
        "contar_a('sdaeraad') # devuelve 3\n",
        "contar_a('sdf ghhj aaa uiio abab') # devuelve 5\n",
        "```"
      ]
    },
    {
      "cell_type": "code",
      "execution_count": 2,
      "metadata": {
        "id": "sPdPV6M3IqCn"
      },
      "outputs": [],
      "source": [
        "# Solución\n",
        "def contar_a(cadena: str) -> int:\n",
        "    contador = 0\n",
        "    for letra in cadena:\n",
        "        if letra == \"a\":\n",
        "            contador += 1\n",
        "    return contador\n"
      ]
    },
    {
      "cell_type": "code",
      "execution_count": 1,
      "metadata": {
        "colab": {
          "base_uri": "https://localhost:8080/"
        },
        "id": "cSDhKfHzWkmr",
        "outputId": "020b4fb1-779a-4198-faf9-aa16fd2bc737"
      },
      "outputs": [
        {
          "name": "stdout",
          "output_type": "stream",
          "text": [
            "3\n",
            "5\n"
          ]
        }
      ],
      "source": [
        "# Pruebas\n",
        "print(contar_a('sdaeraad')) #  3\n",
        "print(contar_a('sdf ghhj aaa uiio abab'))  # 5"
      ]
    },
    {
      "cell_type": "markdown",
      "metadata": {
        "id": "DpLVu4edagki"
      },
      "source": [
        "**Ejercicio 2.**\n",
        "Escribir una función como la anterior, solo que cuenta todas las `a` mayúsculas y minúsculas.\n"
      ]
    },
    {
      "cell_type": "code",
      "execution_count": 11,
      "metadata": {
        "id": "VbUUVfdkoJRI"
      },
      "outputs": [],
      "source": [
        "# Solución\n",
        "def contar_a_A(cadena: str) -> int:\n",
        "    \"\"\"\n",
        "    pre: cadena es una cadena de caracteres\n",
        "    post: devuelve la cantidad de letras 'a' y 'A' en la cadena\n",
        "    \"\"\"\n",
        "    contador = 0\n",
        "    for letra in cadena:\n",
        "        if letra == \"a\" or letra == \"A\":\n",
        "            contador += 1\n",
        "    return contador"
      ]
    },
    {
      "cell_type": "code",
      "execution_count": 12,
      "metadata": {},
      "outputs": [
        {
          "name": "stdout",
          "output_type": "stream",
          "text": [
            "3\n",
            "5\n",
            "4\n",
            "7\n"
          ]
        }
      ],
      "source": [
        "# Pruebas\n",
        "print(contar_a_A('sdaeraad')) #  3\n",
        "print(contar_a_A('sdf ghhj aaa uiio abab'))  # 5\n",
        "print(contar_a_A('sdaAeraad')) #  4\n",
        "print(contar_a_A('sdf ghhj aAaAa uiio abab'))  # 7"
      ]
    },
    {
      "cell_type": "markdown",
      "metadata": {
        "id": "0eeA4sU4aj_R"
      },
      "source": [
        "**Ejercicio 3.** Definir la función `contar_a_b_c()` que recibe una cadena de caracteres y devuelve 3 números. El primero de esos números es el número de letras `a`, el segundo es el número de letras `b` y el tercero es el número de letras `c`.\n",
        "\n",
        "\n",
        "\n",
        "*Ejemplo.*\n",
        "```\n",
        "contar_abc('sdaerbaccad')\n",
        "```\n",
        "devuelve\n",
        "```\n",
        "3, 1, 2\n",
        "```\n",
        "\n"
      ]
    },
    {
      "cell_type": "code",
      "execution_count": 18,
      "metadata": {
        "id": "pgvVyCnrIu-d"
      },
      "outputs": [],
      "source": [
        "# Solución\n",
        "def contar_a_b_c(cadena: str) -> int:\n",
        "    \"\"\"\n",
        "    pre: cadena es una cadena de caracteres\n",
        "    post: devuelve la cantidad de letras 'a', 'b' y 'c', respectivamente,  en la cadena\n",
        "    \"\"\"\n",
        "    assert type(cadena) == str, \"el parámetro debe ser una cadena de caracteres\"\n",
        "    contador_a, contador_b, contador_c = 0, 0 , 0\n",
        "    for letra in cadena:\n",
        "        if letra == \"a\":\n",
        "            contador_a += 1\n",
        "        elif letra == \"b\":\n",
        "            contador_b += 1\n",
        "        elif letra == \"c\":\n",
        "            contador_c += 1\n",
        "    return contador_a, contador_b, contador_c"
      ]
    },
    {
      "cell_type": "code",
      "execution_count": 21,
      "metadata": {},
      "outputs": [
        {
          "name": "stdout",
          "output_type": "stream",
          "text": [
            "(3, 0, 0)\n",
            "(7, 0, 4)\n",
            "(6, 1, 3)\n"
          ]
        }
      ],
      "source": [
        "# Pruebas\n",
        "print(contar_a_b_c('sdaeraad')) #  (3, 0, 0)\n",
        "print(contar_a_b_c('cadena es una cadena de caracteres'))  # (7, 0, 4)\n",
        "print(contar_a_b_c(\"el parámetro debe ser una cadena de caracteres\")) #  (6, 1, 3)"
      ]
    },
    {
      "cell_type": "markdown",
      "metadata": {
        "id": "hJcYyT-oakUU"
      },
      "source": [
        "**Ejercicio 4.**  Igual que el anterior, pero ahora definir la función `contar_aA_bB_cC()` donde se se cuentan las `a` junto con las `A`, las `b` junto con `B` y las `c` junto con `C`.\n",
        "\n",
        "*Ejemplo.*\n",
        "```\n",
        "contar_aA_bB_cC()('arstABbcqqCaccbbb')\n",
        "```\n",
        "devuelve\n",
        "```\n",
        "3, 5, 4\n",
        "```"
      ]
    },
    {
      "cell_type": "code",
      "execution_count": 24,
      "metadata": {
        "id": "B01l6vhDakde"
      },
      "outputs": [],
      "source": [
        "# Solución\n",
        "def contar_aA_bB_cC(cadena: str) -> int:\n",
        "    \"\"\"\n",
        "    pre: cadena es una cadena de caracteres\n",
        "    post: devuelve la cantidad de letras 'a', 'b' y 'c', mayúsculas o minúsculas respectivamente,  en la cadena\n",
        "    \"\"\"\n",
        "    assert type(cadena) == str, \"el parámetro debe ser una cadena de caracteres\"\n",
        "    contador_a, contador_b, contador_c = 0, 0 , 0\n",
        "    for letra in cadena:\n",
        "        if letra == \"a\" or letra == \"A\":\n",
        "            contador_a += 1\n",
        "        elif letra == \"b\" or letra == \"B\":\n",
        "            contador_b += 1\n",
        "        elif letra == \"c\" or letra == \"C\":\n",
        "            contador_c += 1\n",
        "    return contador_a, contador_b, contador_c"
      ]
    },
    {
      "cell_type": "code",
      "execution_count": 28,
      "metadata": {},
      "outputs": [
        {
          "name": "stdout",
          "output_type": "stream",
          "text": [
            "(3, 5, 4)\n",
            "(7, 0, 4)\n"
          ]
        }
      ],
      "source": [
        "# Pruebas\n",
        "print(contar_aA_bB_cC('arstABbcqqCaccbbb')) # (3, 5, 4)\n",
        "print(contar_aA_bB_cC('Cadena es una cadena de caracteres')) # (7, 0, 4)"
      ]
    },
    {
      "cell_type": "markdown",
      "metadata": {
        "id": "1GEN6ftXakoR"
      },
      "source": [
        "**Ejercicio 5.** Definir una función que recibe 3 números enteros no negativos y devuelve una cadena de caracteres con tantas `a` como dice el primer número de la lista, tantas `b` como dice el segundo y tantas `c` como dice el tercero.\n",
        "*Ejemplo.*\n",
        "```\n",
        "numeros_cadena(3, 5, 4)\n",
        "```\n",
        "devuelve\n",
        "```\n",
        "aaabbbbbcccc\n",
        "```"
      ]
    },
    {
      "cell_type": "code",
      "execution_count": null,
      "metadata": {
        "id": "Z17r5aaZI0NT"
      },
      "outputs": [],
      "source": [
        "def numeros_cadena(n1,n2,n3: int) -> str:\n",
        "  a = \"a\"*n1\n",
        "  b = \"b\"*n2\n",
        "  c = \"c\"*n3\n",
        "  return a + b +c\n",
        "\n"
      ]
    },
    {
      "cell_type": "code",
      "execution_count": null,
      "metadata": {
        "colab": {
          "base_uri": "https://localhost:8080/",
          "height": 35
        },
        "id": "rAgPGrkvZnYR",
        "outputId": "04b788d5-f5f5-41dc-a4c5-bbe9fa3932fa"
      },
      "outputs": [
        {
          "data": {
            "application/vnd.google.colaboratory.intrinsic+json": {
              "type": "string"
            },
            "text/plain": [
              "'aaabbbbbcccc'"
            ]
          },
          "execution_count": 10,
          "metadata": {},
          "output_type": "execute_result"
        }
      ],
      "source": [
        "numeros_cadena(3, 5, 4)"
      ]
    },
    {
      "cell_type": "markdown",
      "metadata": {
        "id": "HbdezIa4ak8L"
      },
      "source": [
        "**Ejercicio 6.** Definir una función que recibe una cadena de caracteres con letras `a`, `b` y `c`, minúsculas o mayúsculas, y devuelve una permutación *ordenada* de esa cadena. Por ejemplo, si recibe `aABbcCaccbbb` devuelve `aaabbbbbcccc`. Debería poder hacerse en pocas líneas combinando las soluciones a los ejercicios 4 y 5.\n",
        "\n",
        "*Observación.* Si una función devuelve múltiples valores, podemos recuperar estos valores con una asignación múltiple. Por ejemplo, con la notación del  enunciado del ejercicio 4, si hacemos\n",
        "```\n",
        "na, nb, nc = contar_aAbBcC('aABbcCaccbbb')\n",
        "```\n",
        "obtenemos que  `na` vale 3,  `nb` vale 5 y `nc` vale 4."
      ]
    },
    {
      "cell_type": "code",
      "execution_count": null,
      "metadata": {
        "id": "_8K7rkpLalFc"
      },
      "outputs": [],
      "source": []
    },
    {
      "cell_type": "markdown",
      "metadata": {
        "id": "xgA3Y4gS_VkL"
      },
      "source": [
        "### 2° Parte. Listas"
      ]
    },
    {
      "cell_type": "markdown",
      "metadata": {
        "id": "gGkMsQwlXxqV"
      },
      "source": [
        "**Ejercicio 1.** Escribir las sentencias necesarias para hacer lo siguiente:\n",
        "\n",
        "1. Crear una lista con 10 valores booleanos falsos.\n",
        "2. Asignar el valor `5.5` al último elemento de una lista.\n",
        "3. Mostrar la suma de los dos primeros elementos de una lista.\n",
        "4. Calcular la suma de los cinco primeros elementos de la lista.\n",
        "5. Encuentrar el elemento mínimo de una lista numérica (sin usar `min`).\n",
        "6. Generar aleatoriamente un índice y mostrar el elemento de este índice en la lista.\n"
      ]
    },
    {
      "cell_type": "code",
      "execution_count": null,
      "metadata": {
        "colab": {
          "base_uri": "https://localhost:8080/"
        },
        "id": "r-etV-bbXyH8",
        "outputId": "150f2635-93fe-4332-9123-87f72fcafbdf"
      },
      "outputs": [
        {
          "name": "stdout",
          "output_type": "stream",
          "text": [
            "[False, False, False, False, False, False, False, False, False, False]\n",
            "[False, False, False, False, False, False, False, False, False, 5.5]\n",
            "-21\n",
            "-22\n",
            "-18\n",
            "[92, 39, 100, 39, 2, 72, 98, 52, 67, 88, 1, 41, 66, 93, 71, 3, 51, 95, 47, 49]\n",
            "10 1\n"
          ]
        }
      ],
      "source": [
        "# 1.1\n",
        "print([False] * 10)\n",
        "lista = [False] * 10\n",
        "# 1.2\n",
        "lista[-1] = 5.5\n",
        "lista[len(lista) - 1]\n",
        "print(lista)\n",
        "# 1.3\n",
        "def sum2(lista):\n",
        "    return lista[0] + lista[1]\n",
        "print(sum2([1,-22,3]))\n",
        "# 1.4\n",
        "\n",
        "# 1.5\n",
        "print(min([1,-22,3])) # minimo de la lista\n",
        "print(sum([1,-22,3])) # suma los elementos de la lista\n",
        "# 1.6\n",
        "from random import randint\n",
        "lista = []\n",
        "for _ in range(20):\n",
        "    lista.append(randint(1, 100))\n",
        "print(lista)\n",
        "indice = randint(0, 19)\n",
        "print(indice, lista[indice])"
      ]
    },
    {
      "cell_type": "markdown",
      "metadata": {
        "id": "YDW5rDNzXy-3"
      },
      "source": [
        "**Ejercicio 2.** Predecir y explicar el porqué del comportamiento de cada uno de los siguentes programas."
      ]
    },
    {
      "cell_type": "code",
      "execution_count": null,
      "metadata": {
        "colab": {
          "base_uri": "https://localhost:8080/"
        },
        "id": "DwqgH2_xXzJz",
        "outputId": "7c615734-443d-4ecc-9e08-7391bb66df32"
      },
      "outputs": [
        {
          "name": "stdout",
          "output_type": "stream",
          "text": [
            "numero es 0 y numeros[0] es 3\n"
          ]
        }
      ],
      "source": [
        "def main():\n",
        "    numero = 0\n",
        "    numeros = [10]\n",
        "    m(numero, numeros)\n",
        "    print(\"numero es\", numero, \"y numeros[0] es\", numeros[0])\n",
        "\n",
        "def m(x, y):\n",
        "    x = 3\n",
        "    y[0] = 3\n",
        "\n",
        "main()"
      ]
    },
    {
      "cell_type": "code",
      "execution_count": null,
      "metadata": {
        "colab": {
          "base_uri": "https://localhost:8080/"
        },
        "id": "yXE9LZSSceUE",
        "outputId": "f8ae16c1-a308-4ae8-e724-71821dec40b6"
      },
      "outputs": [
        {
          "name": "stdout",
          "output_type": "stream",
          "text": [
            "[5, 4, 3, 2, 1]\n",
            "1 2 3 4 5 "
          ]
        }
      ],
      "source": [
        "def main():\n",
        "    lst = [1, 2, 3, 4, 5]\n",
        "    reverse(lst) # da vuelta la lista\n",
        "    for value in lst:\n",
        "        # print(lst[value-1])\n",
        "        print(lst[value-1], end = ' ')\n",
        "\n",
        "def reverse(lst):\n",
        "    newLst = len(lst) * [0]\n",
        "    for i in range(len(lst)):\n",
        "        newLst[i] = lst[len(lst) - 1 - i]\n",
        "    lst = newLst\n",
        "    print(lst)\n",
        "\n",
        "main()"
      ]
    },
    {
      "cell_type": "code",
      "execution_count": null,
      "metadata": {
        "colab": {
          "base_uri": "https://localhost:8080/"
        },
        "id": "lXLR8Nclcecv",
        "outputId": "5d4af6aa-bac9-480c-d271-eff1b12e6eba"
      },
      "outputs": [
        {
          "name": "stdout",
          "output_type": "stream",
          "text": [
            "[1, 2, 3]\n",
            "[2, 3]\n"
          ]
        }
      ],
      "source": [
        "def main():\n",
        "    list1 = m(1)\n",
        "    print(list1)\n",
        "    list2 = m(1)\n",
        "    print(list2)\n",
        "\n",
        "def m(x, lst = [1, 1, 2, 3]):\n",
        "    if x in lst:\n",
        "        lst.remove(x)\n",
        "    return lst\n",
        "\n",
        "main()"
      ]
    },
    {
      "cell_type": "code",
      "execution_count": null,
      "metadata": {
        "colab": {
          "base_uri": "https://localhost:8080/"
        },
        "id": "GuwUGNpKcelp",
        "outputId": "10559354-02a7-49b1-8b94-63300360ce19"
      },
      "outputs": [
        {
          "name": "stdout",
          "output_type": "stream",
          "text": [
            "1\n",
            "[1, 2, 3]\n",
            "1\n",
            "[1, 2, 3]\n"
          ]
        }
      ],
      "source": [
        "def main():\n",
        "    list1 = m(1)\n",
        "    print(list1)\n",
        "    list2 = m(1)\n",
        "    print(list2)\n",
        "\n",
        "def m(x, lst = None):\n",
        "    if lst == None:\n",
        "        lst = [1, 1, 2, 3]\n",
        "    if x in lst:\n",
        "        print(x)\n",
        "        lst.remove(x)\n",
        "    return lst\n",
        "\n",
        "main()"
      ]
    },
    {
      "cell_type": "markdown",
      "metadata": {
        "id": "DnQpkLjSXzUS"
      },
      "source": [
        "**Ejercicio 3.**\n",
        "Definir una función que dado un número natural `n >= 2` devuelve la lista de todos los números primos entre `2` y `n-1`. Pueden usar que `list(range(2,n))` es la lista de todos los números entre `2` y `n-1`.\n"
      ]
    },
    {
      "cell_type": "code",
      "execution_count": null,
      "metadata": {
        "id": "ttevvr1GXzew"
      },
      "outputs": [],
      "source": [
        "def es_primo(n):\n",
        "    ret = True\n",
        "    for i in range(2, n):\n",
        "        if n % i == 0:\n",
        "            ret = False\n",
        "    return ret\n",
        "\n",
        "def lista_primos_hasta(n):\n",
        "    ret = []\n",
        "\n",
        "    return ret\n",
        "\n"
      ]
    },
    {
      "cell_type": "code",
      "execution_count": null,
      "metadata": {
        "id": "2jH-RZa2Ug8Y"
      },
      "outputs": [],
      "source": []
    },
    {
      "cell_type": "markdown",
      "metadata": {
        "id": "fIYe2uPHXzpC"
      },
      "source": [
        "**Ejercicio 4.** Escribir una función que recibe una lista y dos posiciones de la lista e intercambia los valores que hay en esas posiciones. No lleva `return` porque modifica la propia lista que recibe como parámetro. Acá podemos usar el `assert` para asegurarnos que las posiciones pertenezcan a la lista.\n"
      ]
    },
    {
      "cell_type": "code",
      "execution_count": null,
      "metadata": {
        "colab": {
          "base_uri": "https://localhost:8080/"
        },
        "id": "Ew-S2nhKXz1b",
        "outputId": "99363bd8-2e8c-4de0-be41-3551680d62fe"
      },
      "outputs": [
        {
          "name": "stdout",
          "output_type": "stream",
          "text": [
            "None\n",
            "[1, 5, 3, 4, 2]\n"
          ]
        }
      ],
      "source": [
        "def intercambia(lista: list, i, j: int):\n",
        "    \"\"\"\n",
        "    pre: 0 <= i , j < len(lista)\n",
        "    pos: intercambia lista[i] con lista[j]\n",
        "    \"\"\"\n",
        "    assert type(lista) == list and type(i) == int and type(j) == int,'el primer parámetro debe ser tipo lista, los dos parámetros siguientes deben ser int'\n",
        "    assert 0 <= i < len(lista) and 0 <= j < len(lista)\n",
        "    lista[i], lista[j] = lista[j], lista[i]\n",
        "\n",
        "lista = [1,2,3,4,5]\n",
        "\n",
        "print(intercambia(lista, 1, 4))\n",
        "print(lista)"
      ]
    },
    {
      "cell_type": "markdown",
      "metadata": {
        "id": "nEly6ZIoYx1t"
      },
      "source": [
        "**Ejercicio 5.** Escribir una función que  dado un elemento, devuelve la posición que ese elemento tiene en la lista. Si el elemento no está en la lista devuelve `-1`."
      ]
    },
    {
      "cell_type": "code",
      "execution_count": null,
      "metadata": {
        "id": "ATb38YZ9xmW2"
      },
      "outputs": [],
      "source": [
        "def pos(x, list: list) -> int:\n",
        "  devuelve = -1\n",
        "  for k in range(len(list)):\n",
        "    if list[k] == x:\n",
        "      devuelve = k\n",
        "  return devuelve"
      ]
    },
    {
      "cell_type": "code",
      "execution_count": null,
      "metadata": {
        "colab": {
          "base_uri": "https://localhost:8080/"
        },
        "id": "de1BQO5EhhL7",
        "outputId": "d3b7bb55-4f9d-43c9-9dee-b8cf3e5fcca5"
      },
      "outputs": [
        {
          "data": {
            "text/plain": [
              "-1"
            ]
          },
          "execution_count": 36,
          "metadata": {},
          "output_type": "execute_result"
        }
      ],
      "source": [
        "pos(6, [1,2,3,4,5])"
      ]
    },
    {
      "cell_type": "markdown",
      "metadata": {
        "id": "QaWIBkeOYymB"
      },
      "source": [
        "**Ejercicio 6.** Escribir una función que devuelve el menor elemento de la lista a partir de un cierto índice: esta función recibe la lista y un índice de la lista y devuelve el menor elemento desde ese índice en adelante.\n"
      ]
    },
    {
      "cell_type": "code",
      "execution_count": null,
      "metadata": {
        "id": "btqimAETYzES"
      },
      "outputs": [],
      "source": [
        "def menor_elem(j:int,lista:list) -> int:\n",
        "  minimo = lista[j]\n",
        "  for k in range(j,len(lista)):\n",
        "    if lista[k] <= lista [j]:\n",
        "      minimo = lista[k]\n",
        "      lista[j] = lista[k]\n",
        "  return minimo\n",
        "\n",
        "\n",
        "\n"
      ]
    },
    {
      "cell_type": "code",
      "execution_count": null,
      "metadata": {
        "colab": {
          "base_uri": "https://localhost:8080/"
        },
        "id": "kcYn6a8akkWw",
        "outputId": "316a77c5-57ca-4a2a-e623-2b31f6f18960"
      },
      "outputs": [
        {
          "data": {
            "text/plain": [
              "1"
            ]
          },
          "execution_count": 40,
          "metadata": {},
          "output_type": "execute_result"
        }
      ],
      "source": [
        "menor_elem(3,[6,2,8,4,5,1,7,3,9])"
      ]
    },
    {
      "cell_type": "markdown",
      "metadata": {
        "id": "_MkIMSmaYzQx"
      },
      "source": [
        "**Ejercicio 7.** Igual que el ejercicio anterior pero devuelve la posición de ese elemento."
      ]
    },
    {
      "cell_type": "code",
      "execution_count": null,
      "metadata": {
        "id": "tskmakVzYzqQ"
      },
      "outputs": [],
      "source": []
    },
    {
      "cell_type": "markdown",
      "metadata": {
        "id": "ycvMEcY__J-w"
      },
      "source": [
        "<a name=\"ej08\">**Ejercicio 8.**</a>  Escribir la función `contar_letras()`que recibe una cadena de caracteres y devuelve una lista de 26 números. El primero de esos números (el que se encuentra en la posición 0 de la lista) es el número de letras `a`. El segundo es el número de letras `b`, etc. El último, es el número de letras `z`.\n",
        "\n",
        "*Observación.* La posición 0 de la lista que se devuelve corresponde a la letra `a`, la posición 1 corresponde a la letra `b`, etc.\n",
        "\n",
        "En general las posiciones de las letras está dadas por\n",
        "```\n",
        "letras = ['a', 'b', 'c', 'd', 'e', 'f', 'g', 'h', 'i', 'j', 'k', 'l', 'm', 'n', 'o', 'p', 'q', 'r', 's', 't', 'u', 'v', 'w', 'x', 'y', 'z']\n",
        "```\n",
        "\n",
        "*Ejemplo.*\n",
        "```\n",
        "contar_letras('sdaeraad') = [3, 0, 0, 2, 1, 0, ...]\n",
        "```\n",
        "\n"
      ]
    },
    {
      "cell_type": "code",
      "execution_count": null,
      "metadata": {
        "id": "0iil3eFjakK1"
      },
      "outputs": [],
      "source": [
        "\n"
      ]
    },
    {
      "cell_type": "markdown",
      "metadata": {
        "id": "O_MRWMWv_J-w"
      },
      "source": [
        "<a name=\"ej09\">**Ejercicio 9.**</a> Definir una función que recibe una lista de 26 números y devuelve una cadena de caracteres con tantas `a` como dice el primer número de la lista, tantas `b` como dice el segundo, etc."
      ]
    },
    {
      "cell_type": "code",
      "execution_count": null,
      "metadata": {
        "id": "JZZO6sIMakxM"
      },
      "outputs": [],
      "source": []
    },
    {
      "cell_type": "markdown",
      "metadata": {
        "id": "TI6I1pHc_J-w"
      },
      "source": [
        "**Ejercicio 10.** Definir una función que recibe una cadena de caracteres y devuelve una permutación *ordenada* de esa cadena. Por ejemplo, si recibe `abracadabra, pata de cabra` devuelve `aaaaaaaaabbbccddeprrrt`. Debería poder hacerse combinando las soluciones a los ejercicios [8](#ej1) y [9](#ej9)."
      ]
    },
    {
      "cell_type": "code",
      "execution_count": null,
      "metadata": {
        "id": "XzQcPLIn_J-w"
      },
      "outputs": [],
      "source": []
    },
    {
      "cell_type": "markdown",
      "metadata": {
        "id": "wm-aaVe7Eq1O"
      },
      "source": [
        "### 3° Parte. Diccionarios y conjuntos"
      ]
    },
    {
      "cell_type": "markdown",
      "metadata": {
        "id": "LB5LbLTsE1Gn"
      },
      "source": [
        "**Ejercicio 1.**  Usá un diccionario para almacenar información sobre una persona que conocés.\n",
        "Guardá su nombre, apellido, edad y la ciudad en la que vive. Debe tener claves como `nombre`, `apellido`, `edad` y `ciudad`. Imprimir cada campo del diccionario."
      ]
    },
    {
      "cell_type": "code",
      "execution_count": null,
      "metadata": {
        "colab": {
          "base_uri": "https://localhost:8080/"
        },
        "id": "oDr2PHrlFDYY",
        "outputId": "d17570c2-ef5e-4d28-e84d-a7c5d33d3fdf"
      },
      "outputs": [
        {
          "name": "stdout",
          "output_type": "stream",
          "text": [
            "{'nombre': 'Javier', 'apellido': 'Lezama', 'edad': 41, 'ciudad': 'Córdoba'}\n"
          ]
        }
      ],
      "source": [
        "d ={\"nombre\": \"Javier\", \"apellido\": \"Lezama\", \"edad\": 41, \"ciudad\": \"Córdoba\"}\n",
        "print(d)"
      ]
    },
    {
      "cell_type": "markdown",
      "metadata": {
        "id": "Fo-ezAgoE_C-"
      },
      "source": [
        "**Ejercicio 2.**  Usar un diccionario para almacenar el equipo de fútbol preferido de las personas.\n",
        "Pensá en cinco nombres y utilízalos como claves en tu diccionario. Por cada persona almacená el equipo de fútbol  como un valor en su diccionario (si no la conocés, inventalo).\n",
        "\n",
        "Imprimí el nombre de cada persona y su el equipo de fútbol favorito."
      ]
    },
    {
      "cell_type": "code",
      "execution_count": null,
      "metadata": {
        "id": "YQs90RX8EKkp"
      },
      "outputs": [],
      "source": []
    },
    {
      "cell_type": "markdown",
      "metadata": {
        "id": "cOjb5pnIFMkz"
      },
      "source": [
        "**Ejercicio 3.** Glosario: se puede utilizar un diccionario de Python para modelar un diccionario real.\n",
        "Sin embargo, para evitar confusiones, llamémoslo glosario.\n",
        "- Pensá en cinco palabras de programación que hayas aprendido en las lecciones anteriores. Utilizá estas palabras como claves en tu glosario y almacená sus\n",
        "significados como valores.\n",
        "- Imprimí cada palabra y su significado como una salida con un formato prolijo. Se podría imprimir la palabra seguida de dos puntos y luego su significado, o imprimir la palabra en una línea y luego imprimir su significado con sangría en una segunda línea. Utilizá el carácter de nueva línea (`\\n`) para insertar una línea en blanco entre el significado de cada palabra y la palabra siguiente.\n"
      ]
    },
    {
      "cell_type": "code",
      "execution_count": null,
      "metadata": {
        "id": "Oirei7lzFM83"
      },
      "outputs": [],
      "source": [
        "glosario = {} # equivalentemente, glosario = dict()\n",
        "glosario['lista'] = 'aaaa bbbb ccc'\n",
        "glosario['cadena'] = 'dsafAS SDVSD agfdg'\n",
        "glosario['in'] = 'sdf gyjjtj jh'\n"
      ]
    },
    {
      "cell_type": "code",
      "execution_count": null,
      "metadata": {
        "colab": {
          "base_uri": "https://localhost:8080/"
        },
        "id": "VTKQa4n4SEUA",
        "outputId": "87612f3b-dd01-45f8-fa6c-56b317530dc6"
      },
      "outputs": [
        {
          "name": "stdout",
          "output_type": "stream",
          "text": [
            "lista: aaaa bbbb ccc\n",
            "cadena: dsafAS SDVSD agfdg\n",
            "in: sdf gyjjtj jh\n"
          ]
        }
      ],
      "source": [
        "for palabra in glosario:\n",
        "    print(palabra + ': ' + glosario[palabra])"
      ]
    },
    {
      "cell_type": "code",
      "execution_count": null,
      "metadata": {
        "colab": {
          "base_uri": "https://localhost:8080/"
        },
        "id": "OE3YF0OlSdaT",
        "outputId": "c9820457-d59d-4d3c-8181-4cea55ddf17f"
      },
      "outputs": [
        {
          "name": "stdout",
          "output_type": "stream",
          "text": [
            "lista\n",
            "\taaaa bbbb ccc\n",
            "cadena\n",
            "\tdsafAS SDVSD agfdg\n",
            "in\n",
            "\tsdf gyjjtj jh\n"
          ]
        }
      ],
      "source": [
        "for palabra in glosario:\n",
        "    print(palabra + '\\n\\t' + glosario[palabra])"
      ]
    },
    {
      "cell_type": "markdown",
      "metadata": {
        "id": "9PBuG1vzH5s6"
      },
      "source": [
        "**Ejercicio 4.**  Ríos: hacé un diccionario que contenga tres ríos y el país que atraviesa cada río. Un par clave-valor podría ser `nilo`: `egipto` (aunque el Nilo  pasa por varios paises).\n",
        "- Usá un bucle para imprimir una oración sobre cada río, como *El Nilo corre\n",
        "a través de Egipto* (esta cadenas no están en el diccionario).\n",
        "-  Utilizá un bucle para imprimir el nombre de cada río incluido en el diccionario.\n",
        "- Utilizá un bucle para imprimir el nombre de cada país incluido en el diccionario.\n",
        "\n"
      ]
    },
    {
      "cell_type": "code",
      "execution_count": null,
      "metadata": {
        "id": "Ag-0cmb4H59l"
      },
      "outputs": [],
      "source": []
    },
    {
      "cell_type": "markdown",
      "metadata": {
        "id": "1GuUDqEYJQCl"
      },
      "source": [
        "**Ejercicio 5.** Personas: comenzá con el programa que escribiste para el ejercicio 1. Creá dos nuevos diccionarios que representen a diferentes personas y almacená los tres diccionarios en una lista llamada `personas`.\n",
        "\n",
        "Recorré la lista de personas.\n",
        "\n",
        "Mientras vayas recorriendo  la lista, imprimí todo lo que sepa sobre cada persona.\n"
      ]
    },
    {
      "cell_type": "code",
      "execution_count": null,
      "metadata": {
        "id": "Xu3x5zb8JT23"
      },
      "outputs": [],
      "source": []
    },
    {
      "cell_type": "markdown",
      "metadata": {
        "id": "RnlkL88jJUNY"
      },
      "source": [
        "**Ejercicio 6.** Lista de diccionarios. Hacé varios diccionarios, donde cada diccionario represente una mascota diferente. En cada diccionario, incluí el tipo de animal y el nombre del propietario.\n",
        "\n",
        "Guardá estos diccionarios en una lista llamada `mascotas`. A continuación, recorré tu lista y e imprimí todo lo que sabés sobre cada mascota.\n"
      ]
    },
    {
      "cell_type": "code",
      "execution_count": null,
      "metadata": {
        "id": "g7fg77UhJXil"
      },
      "outputs": [],
      "source": []
    },
    {
      "cell_type": "markdown",
      "metadata": {
        "id": "8u6eElTdJYtr"
      },
      "source": [
        "**Ejercicio 7.** Lugares favoritos. Creá un diccionario llamado `lugares_favoritos`. Pensá en tres nombres de personas para usar como claves en el diccionario y almacená de uno a tres lugares favoritos por cada persona.\n",
        "\n",
        "Recorré el diccionario e imprimí el nombre de cada persona y sus lugares favoritos.\n"
      ]
    },
    {
      "cell_type": "code",
      "execution_count": null,
      "metadata": {
        "id": "tBekky1_JbQX"
      },
      "outputs": [],
      "source": []
    },
    {
      "cell_type": "markdown",
      "metadata": {
        "id": "p52cjGprJb14"
      },
      "source": [
        "**Ejercicio 8.** Modificá su programa del ejercicio 2 para que cada persona pueda tener más de un equipo favorito (sí, eso puede ocurrir...). Luego imprimí el nombre de cada persona junto  su/sus equipo/s favorito/s.\n"
      ]
    },
    {
      "cell_type": "code",
      "execution_count": null,
      "metadata": {
        "id": "c5IeMf7NJdoZ"
      },
      "outputs": [],
      "source": []
    },
    {
      "cell_type": "markdown",
      "metadata": {
        "id": "zWu-ID1EJeL_"
      },
      "source": [
        "**Ejercicio 9.** Diccionario de diccionarios.  Hacé un diccionario llamado `ciudades`. Utilizá los nombres de tres ciudades como claves en tu diccionario. Por cada ciudad, creá un diccionario de información sobre ella que incluya el país en el que se encuentra, su población aproximada y un hecho relevante sobre esa ciudad.\n",
        "\n",
        "Las claves del diccionario de cada ciudad deberían ser algo así como\n",
        "`país`, `población` y `hecho`.\n",
        "\n",
        "Imprimí  el nombre de cada ciudad y toda la información información que ha almacenado sobre ella.\n"
      ]
    },
    {
      "cell_type": "code",
      "execution_count": null,
      "metadata": {
        "id": "EZSA1RygJg4s"
      },
      "outputs": [],
      "source": []
    },
    {
      "cell_type": "markdown",
      "metadata": {
        "id": "mEUoZBoL-h71"
      },
      "source": [
        "**Ejercicio 10.**\n",
        "<ol type=\"a\">\n",
        "  <li>Escribir una función que tome dos conjuntos como parámetros y devuelva su unión.</li>\n",
        "  <li>Escribir una función que tome dos conjuntos como parámetros y devuelva su intersección.</li>\n",
        "  <li>Escribir una función que tome un conjunto y un elemento como parámetros, y agregue ese elemento al conjunto.</li>\n",
        "  <li>Escribir una función que tome una lista de conjuntos como parámetro y devuelva la intersección de todos ellos.</li>\n",
        "</ol>"
      ]
    },
    {
      "cell_type": "code",
      "execution_count": null,
      "metadata": {
        "id": "yRSDr7_T_VeS"
      },
      "outputs": [],
      "source": []
    },
    {
      "cell_type": "markdown",
      "metadata": {
        "id": "G_JX8ihd_WAC"
      },
      "source": [
        "**Ejercicio 11.**\n",
        "\n",
        "<ol type=\"a\">\n",
        "  <li>Escribir una función que tome una lista y un conjunto como parámetros, y verifique si todos los elementos de la lista están presentes en el conjunto.</li>\n",
        "  <li>Escribir una función que tome una lista como parámetro y devuelva una nueva lista sin elementos duplicados, utilizando conjuntos.</li>\n",
        "</ol>\n",
        "\n",
        "\n"
      ]
    },
    {
      "cell_type": "code",
      "execution_count": null,
      "metadata": {
        "colab": {
          "base_uri": "https://localhost:8080/"
        },
        "id": "8oecCuI3_9Ka",
        "outputId": "c7ed20f7-f458-44d8-bd4c-58faf413d7e8"
      },
      "outputs": [
        {
          "data": {
            "text/plain": [
              "True"
            ]
          },
          "execution_count": 48,
          "metadata": {},
          "output_type": "execute_result"
        }
      ],
      "source": [
        "def sub(lista: list, conjunto: set):\n",
        "    ret = True\n",
        "    for elem in lista:\n",
        "        if elem not in conjunto:\n",
        "            ret = False\n",
        "    return ret\n",
        "\n",
        "sub([\"a\",\"b\",\"c\",\"d\"], {\"a\",\"b\",\"c\",\"d\"})"
      ]
    },
    {
      "cell_type": "markdown",
      "metadata": {
        "id": "YwsKx4t71kww"
      },
      "source": [
        "**Ejercicio 12.** El número que tiene la mayor frecuencia en una serie se conoce como la *moda* de la serie. La moda es el valor que aparece con mayor frecuencia o repetición en un conjunto de datos. En otras palabras, es el número que se repite más veces en la serie.\n",
        "\n",
        "Por ejemplo, en la serie $\\{2, 4, 4, 6, 6, 6, 8\\}$, el número $6$ es la moda, ya que se repite más veces que cualquier otro número en la serie.\n",
        "\n",
        "Es importante tener en cuenta que una serie puede tener múltiples modas si varios números tienen la misma frecuencia máxima. En tal caso, se dice que la serie tiene *múltiples modas.*\n",
        "\n",
        "Escribir la función `moda()` que devuelva la moda de una lista de números enteros. Si hay múltiples módas devuelve alguna de ellas.\n",
        "\n",
        "Solo se permite,  a nivel de operaciónes, métodos o funciones en listas, acceder para leer o modificar los elementos de una lista por el índice. En el caso de diccionarios acceder para leer o modificar a elementos por su clave. No está permitido utilizar  `max()`, `sorted()` o métodos similares.\n",
        "\n",
        "Para implementar la función `moda()` puede seguir los siguientes pasos:\n",
        "\n",
        "1. Hacer un diccionario donde las claves son los elementos de la lista y los valores son la cantidad de repeticiones de cada elemento en la lista.\n",
        "2. Encontrar y devolver una de las claves del diccionario cuyo valor sea máximo.\n",
        "\n"
      ]
    },
    {
      "cell_type": "code",
      "execution_count": null,
      "metadata": {
        "id": "QifeOzP-_5vP"
      },
      "outputs": [],
      "source": []
    },
    {
      "cell_type": "markdown",
      "metadata": {
        "id": "HoeQV1Mu_5nd"
      },
      "source": [
        "### 4° Parte. Definiciones por comprensión"
      ]
    },
    {
      "cell_type": "markdown",
      "metadata": {
        "id": "vr7bN4LiADXQ"
      },
      "source": [
        "**Ejercicio 1.**  Crear una lista con los números impares entre 50 y 100."
      ]
    },
    {
      "cell_type": "code",
      "execution_count": null,
      "metadata": {
        "id": "_n5YHpGZADXZ"
      },
      "outputs": [],
      "source": [
        "list = [i for i in range(50,100) if i%2 !=0]"
      ]
    },
    {
      "cell_type": "code",
      "execution_count": null,
      "metadata": {
        "colab": {
          "base_uri": "https://localhost:8080/"
        },
        "id": "PcrIY1Mqpwje",
        "outputId": "51b0ffe1-36e0-45da-df22-94fd819a87a2"
      },
      "outputs": [
        {
          "data": {
            "text/plain": [
              "[51,\n",
              " 53,\n",
              " 55,\n",
              " 57,\n",
              " 59,\n",
              " 61,\n",
              " 63,\n",
              " 65,\n",
              " 67,\n",
              " 69,\n",
              " 71,\n",
              " 73,\n",
              " 75,\n",
              " 77,\n",
              " 79,\n",
              " 81,\n",
              " 83,\n",
              " 85,\n",
              " 87,\n",
              " 89,\n",
              " 91,\n",
              " 93,\n",
              " 95,\n",
              " 97,\n",
              " 99]"
            ]
          },
          "execution_count": 50,
          "metadata": {},
          "output_type": "execute_result"
        }
      ],
      "source": [
        "list"
      ]
    },
    {
      "cell_type": "markdown",
      "metadata": {
        "id": "wckuUb1uADXa"
      },
      "source": [
        "**Ejercicio 2.**  Crear una lista de los nombres de las personas en una lista dada que tienen más de 4 caracteres."
      ]
    },
    {
      "cell_type": "code",
      "execution_count": null,
      "metadata": {
        "id": "OkBv7dzcADXa"
      },
      "outputs": [],
      "source": [
        "nombres = [\"Juan\", \"María\", \"Pedro\", \"Ana\", \"Pablo\", \"Gabriel\"]\n",
        "nombres_largos = [k for k in nombres if len(k)>=5] # reemplazar [] por una lista por comprensión"
      ]
    },
    {
      "cell_type": "code",
      "execution_count": null,
      "metadata": {
        "colab": {
          "base_uri": "https://localhost:8080/"
        },
        "id": "x2tJgBgnqdLI",
        "outputId": "68e576c9-1561-49b7-ec2c-c565746603a1"
      },
      "outputs": [
        {
          "data": {
            "text/plain": [
              "['María', 'Pedro', 'Pablo', 'Gabriel']"
            ]
          },
          "execution_count": 52,
          "metadata": {},
          "output_type": "execute_result"
        }
      ],
      "source": [
        "nombres_largos"
      ]
    },
    {
      "cell_type": "markdown",
      "metadata": {
        "id": "-hX0sJ5pADXa"
      },
      "source": [
        "**Ejercicio 3.** Crear una lista de las palabras en una cadena dada que tienen más de 3 letras.\n"
      ]
    },
    {
      "cell_type": "code",
      "execution_count": null,
      "metadata": {
        "id": "BDIRx1coADXa"
      },
      "outputs": [],
      "source": [
        "cadena = \"Hola mundo, esto es una cadena de prueba\"\n",
        "palabras = cadena.split() # crea una lista con cada una de las palabras\n",
        "palabras_largas = [] # reemplazar [] por una lista por comprensión"
      ]
    },
    {
      "cell_type": "markdown",
      "metadata": {
        "id": "CiY3rLE5ADXa"
      },
      "source": [
        "**Ejercicio 4.**  Crear un diccionario a partir de una lista de tuplas, donde la clave es el primer elemento de la tupla y el valor es el segundo elemento."
      ]
    },
    {
      "cell_type": "code",
      "execution_count": null,
      "metadata": {
        "id": "3O6FS3lNADXa"
      },
      "outputs": [],
      "source": [
        "lista_tuplas = [(1, \"uno\"), (2, \"dos\"), (3, \"tres\")]\n",
        "diccionario = {} # reemplazar {} por un diccionario por comprensión"
      ]
    },
    {
      "cell_type": "markdown",
      "metadata": {
        "id": "vE-cPpbpADXa"
      },
      "source": [
        "**Ejercicio 5.** Crear un diccionario a partir de dos listas de igual longitud, donde la clave es el elemento de la primera lista y el valor es el elemento correspondiente de la segunda lista."
      ]
    },
    {
      "cell_type": "code",
      "execution_count": null,
      "metadata": {
        "id": "B-ooC6ykADXb"
      },
      "outputs": [],
      "source": [
        "keys = [\"nombre\", \"edad\", \"ciudad\"]\n",
        "values = [\"Juan\", 25, \"Madrid\"]\n",
        "diccionario = {} # reemplazar {} por un diccionario por comprensión\n"
      ]
    },
    {
      "cell_type": "markdown",
      "metadata": {
        "id": "v9H7IhoqADXb"
      },
      "source": [
        "**Ejercicio 6.** Crear una lista de los números pares y los números impares de 1 a 10, donde los números pares son multiplicados por 2 y los impares son multiplicados por 3.\n"
      ]
    },
    {
      "cell_type": "code",
      "execution_count": null,
      "metadata": {
        "id": "khYyv4-GADXb"
      },
      "outputs": [],
      "source": []
    },
    {
      "cell_type": "markdown",
      "metadata": {
        "id": "kgXuMDUUADXb"
      },
      "source": [
        "**Ejercicio 7.** Crear una lista de los nombres de una lista dada donde los nombres que comienzan por `A` son reemplazados por `Nombre empieza por A` y los demás nombres por `Nombre no empieza por A`.\n",
        "\n",
        "\n"
      ]
    },
    {
      "cell_type": "code",
      "execution_count": null,
      "metadata": {
        "id": "bBF92qaIADXb"
      },
      "outputs": [],
      "source": [
        "nombres = [\"Ana\", \"Pedro\", \"Luis\", \"Alberto\"]\n",
        "resultado = [] # reemplazar [] por una lista por comprensión"
      ]
    },
    {
      "cell_type": "markdown",
      "metadata": {
        "id": "edk1j1J2ADXb"
      },
      "source": [
        "**Ejercicio 8 (pivotear).** Dada una lista de números (enteros o punto flotante)  y un número `x` de la lista,  *pivotear la lista por `x`* es reorganizar los elementos de la lista de manera que todos los elementos menores o iguales a `x` estén a la izquierda de `x` y todos los elementos mayores a `x` estén a la derecha de `x`.\n",
        "\n",
        "Por  ejemplo, dada la lista\n",
        "\n",
        "    [6, 3, 5, 4, 8, 7, 6, 5, 2, 3]\n",
        "    \n",
        "La lista pivoteada por `4` resultaría\n",
        "\n",
        "    [2, 3, 3, 4, 5, 6, 8, 7, 6, 5]\n",
        "\n",
        "Obviamente, puede haber más de una forma de pivotear la lista.\n",
        "\n",
        "Dada la lista `lista_num`, usando listas por comprensión construya una lista que es la original pivoteada por el primer elemento. Va a ser necesario hacer más de una lista por comprensión."
      ]
    },
    {
      "cell_type": "code",
      "execution_count": null,
      "metadata": {
        "colab": {
          "base_uri": "https://localhost:8080/"
        },
        "id": "hmCKKGlWADXb",
        "outputId": "b846c0d3-d021-4255-f0d7-f939426841e5"
      },
      "outputs": [
        {
          "name": "stdout",
          "output_type": "stream",
          "text": [
            "[5, 14, 10, 18, 13, 11, 9, 17, 19, 11]\n"
          ]
        }
      ],
      "source": [
        "# Esta celda nos prermite hacer tests\n",
        "from random import randint\n",
        "lista_num = [randint(1,20) for _ in range(10)] # lista de 10 números enteros al azar de 1 a 20\n",
        "print(lista_num)"
      ]
    },
    {
      "cell_type": "code",
      "execution_count": null,
      "metadata": {
        "colab": {
          "base_uri": "https://localhost:8080/"
        },
        "id": "zWClalRCADXb",
        "outputId": "65388cfd-20c6-4c6d-f47f-38afa4db984a"
      },
      "outputs": [
        {
          "name": "stdout",
          "output_type": "stream",
          "text": [
            "[5, 10, 9, 11, 14, 18, 13, 17, 19]\n"
          ]
        }
      ],
      "source": [
        "pivoteada = [x for x in lista_num if x < 11] + [11] + [x for x in lista_num if x > 11]\n",
        "print(pivoteada)"
      ]
    }
  ],
  "metadata": {
    "colab": {
      "provenance": []
    },
    "kernelspec": {
      "display_name": "Python 3",
      "name": "python3"
    },
    "language_info": {
      "codemirror_mode": {
        "name": "ipython",
        "version": 3
      },
      "file_extension": ".py",
      "mimetype": "text/x-python",
      "name": "python",
      "nbconvert_exporter": "python",
      "pygments_lexer": "ipython3",
      "version": "3.10.4"
    }
  },
  "nbformat": 4,
  "nbformat_minor": 0
}
