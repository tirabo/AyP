{
  "cells": [
    {
      "cell_type": "markdown",
      "metadata": {
        "id": "ELY2TD-rKBs5"
      },
      "source": [
        "# Variables y funciones aplicadas a Turtle\n",
        "\n",
        "\n",
        "Como  en el comienzo de cada cuadernos, necesitamos instalar la biblioteca  \"ColabTurtle\". La instalamos ejecutando la siguiente línea, clicando ![image.png](data:image/png;base64,iVBORw0KGgoAAAANSUhEUgAAACIAAAAkCAYAAADsHujfAAABcklEQVRYCe2VvQ2DMBCFMxsttNBCyw4wBEMwBC1DULOJo1c86XKyzz+JIgoX1tnGPn9595PXfd/uCeP1BAgwVBAdiapIVUQroNc1R36myHmebts2N8/zx8AevumHYuvs0BzH4YZhcE3TmGOaJoezMQB+zwJZlsV83Ae3rmsSTDLIOI7ZEASDOvzlIZsEUqIEIWhjykRBEGc6+9ZaORMF6fs+CIJw5ahlhcgEQRlaKqB0EfN9313btuZZ+gmVtgmCnkAHPksQwOCBlISGT1/CmiB4yAfAPQkC59d1RUOl7xDqpyB0aoXq7yBd13nV/AsIQoN+wdD5bBFIbrKiPH2Py72iZM0p31AoJATmReWL5LMaGhSIhUKCoLyZ0NqaVYPDj2nxgMlp41IBOYcPrYJcRxXh4ZSuKR+Wcysk9J8MggslysSUKALBJeRMijo4Y/3tE4A2SxFegkUZoiegQcmBvVCJyvt6XgyiHX27riBawcco8gakA+ZpeypPEgAAAABJRU5ErkJggg==):"
      ]
    },
    {
      "cell_type": "code",
      "execution_count": null,
      "metadata": {
        "id": "Iz-52mhxKgMG"
      },
      "outputs": [],
      "source": [
        "!pip3 install ColabTurtle"
      ]
    },
    {
      "cell_type": "markdown",
      "metadata": {
        "id": "xaAmCnh9Lt0E"
      },
      "source": [
        "Hemos instalado la biblioteca. La primera linea de la siguiente celda de código nos permite utilizar *todas* las instrucciones de esa biblioteca. La segunda línea nos permite usar la función `choice` de la biblioteca `random`."
      ]
    },
    {
      "cell_type": "code",
      "execution_count": null,
      "metadata": {
        "id": "2aPB_Yl0MKnN"
      },
      "outputs": [],
      "source": [
        "from ColabTurtle.Turtle import *\n",
        "from random import choice"
      ]
    },
    {
      "cell_type": "markdown",
      "metadata": {
        "id": "4ZrItKVDhzsJ"
      },
      "source": [
        "## 1. Introducción\n",
        "\n",
        "En la clase pasada definimos la función `pizarra_vacía()` que inicializa la pantalla de la forma que nosotros consideramos conveniente:"
      ]
    },
    {
      "cell_type": "code",
      "execution_count": null,
      "metadata": {
        "id": "KGde0qtmNREd"
      },
      "outputs": [],
      "source": [
        "def pizarra_vacia():\n",
        "    initializeTurtle()\n",
        "    bgcolor('white')\n",
        "    color('black')\n",
        "    right(90)"
      ]
    },
    {
      "cell_type": "code",
      "execution_count": null,
      "metadata": {
        "id": "o_3aWT5w90as"
      },
      "outputs": [],
      "source": [
        "pizarra_vacia()"
      ]
    },
    {
      "cell_type": "markdown",
      "metadata": {
        "id": "6PnHnMqvq01J"
      },
      "source": [
        "Como ya mencionamos una función debe comenzar con la palabra reservada `def`,  a continuación colocamos el nombre de la función (y sus argumentos) y finalizamos la línea con `:` (dos puntos). Las líneas siguientes si están sangradas forman parte del *cuerpo* de la función y son las sentencias que se ejecutan cuando utilizamos la función. La definición de la función termina cuando termina el código o comenzamos una línea pegada al margen.\n",
        "\n",
        "Podemos definir, por ejemplo, una función para dibujar triángulos:"
      ]
    },
    {
      "cell_type": "code",
      "execution_count": null,
      "metadata": {
        "id": "IEnhNjzurAC2"
      },
      "outputs": [],
      "source": [
        "def dibujar_triangulo():\n",
        "    for _ in range(3):\n",
        "        forward(100)\n",
        "        right(120)\n",
        "    hideturtle()\n",
        "print('Hola') # no es parte de la definición de la función"
      ]
    },
    {
      "cell_type": "code",
      "execution_count": null,
      "metadata": {
        "id": "WN9XGbMJkH9X"
      },
      "outputs": [],
      "source": [
        "pizarra_vacia()\n",
        "dibujar_triangulo()"
      ]
    },
    {
      "cell_type": "markdown",
      "metadata": {
        "id": "3eJaDaMyjNVV"
      },
      "source": [
        "Dentro de esta función utilizamos el ciclo `for` para dibujar los tres lados del triángulo. Esta función no tiene argumentos y siempre dibuja un triángulo equilátero de lados `100`."
      ]
    },
    {
      "cell_type": "code",
      "execution_count": null,
      "metadata": {
        "id": "K_hVj04Ijic_"
      },
      "outputs": [],
      "source": [
        "pizarra_vacia() # inicializar pantalla\n",
        "dibujar_triangulo()\n",
        "forward(100)\n",
        "color('blue')\n",
        "face(180)\n",
        "showturtle()\n",
        "dibujar_triangulo()"
      ]
    },
    {
      "cell_type": "markdown",
      "metadata": {
        "id": "DSM13ekENGvj"
      },
      "source": [
        "**Ejercicio.** Usando la función `dibujar_triangulo()` definir la función `dibujar_hexagono()`que dibuja un hexágono con sus diagonales. En otra celda ejecutar la función."
      ]
    },
    {
      "cell_type": "code",
      "execution_count": null,
      "metadata": {
        "id": "D046kZbnNclR"
      },
      "outputs": [],
      "source": [
        "def dibujar_hexagomo():\n",
        "    for _ in  range(6):\n",
        "        dibujar_triangulo()\n",
        "        left(60)"
      ]
    },
    {
      "cell_type": "code",
      "execution_count": null,
      "metadata": {
        "id": "eSJ8TutoofhC"
      },
      "outputs": [],
      "source": [
        "pizarra_vacia()\n",
        "speed(6)\n",
        "dibujar_hexagomo()"
      ]
    },
    {
      "cell_type": "markdown",
      "metadata": {
        "id": "7UmT1tKbtl9w"
      },
      "source": [
        "## 2. Ciclos"
      ]
    },
    {
      "cell_type": "markdown",
      "metadata": {
        "id": "uW5W2BxXtqT7"
      },
      "source": [
        "Además del ciclo `for`, que permite hacer un número determinado de repeticiones, ya mencionamos que hay un ciclo `while` que se ejecuta bajo cierta condición y  deja de ejecutarse cuando esa condición no se cumple.\n",
        "\n",
        "En ambos ciclos se suele llamar *cuerpo* a las instrucciones que siguen a cada ciclo y se repiten. Dentro del cuerpo muy frecuentemente pueden distinguirse instrucciones que son para el procesamiento propiamente dicho, y otras instrucciones que son preparatorias del siguiente procesamiento. Se recomienda que esas dos porciones de código sean nítidamente identificables.\n"
      ]
    },
    {
      "cell_type": "markdown",
      "metadata": {
        "id": "TZbLvqvPBPr9"
      },
      "source": [
        "Los ciclos `while` son ciclos de una complejidad mayor y  pueden dar lugar a programas cuya ejecución nunca termina.\n",
        "\n",
        "Veremos más adelante,  en esta clase, la definición del ciclo `while`y  algunos ejemplos.\n",
        "\n",
        "Repasemos a continuación con un ejemplo el ciclo `para` o `for`."
      ]
    },
    {
      "cell_type": "markdown",
      "metadata": {
        "id": "fin8W894fkrt"
      },
      "source": [
        "### Ciclo `for`"
      ]
    },
    {
      "cell_type": "markdown",
      "metadata": {
        "id": "NazouyVpnLmI"
      },
      "source": [
        "Recordemos que la sintaxis del ciclo `for` que utilizamos hasta ahora era\n",
        "\n",
        "```\n",
        "for _ in range(n):\n",
        "     <bloque de código a ejecutar n veces>\n",
        "```\n",
        "Esto nos permitía dibujar estructuras repetitivas, por ejemplo un cuadrado repitiendo el dibujo de los lados 4 veces:\n",
        "\n",
        "\n",
        "\n",
        "\n"
      ]
    },
    {
      "cell_type": "code",
      "execution_count": null,
      "metadata": {
        "id": "cVdyggv8n8zs"
      },
      "outputs": [],
      "source": [
        "pizarra_vacia()\n",
        "\n",
        "for _ in range(4):\n",
        "    forward(20)\n",
        "    right(90)"
      ]
    },
    {
      "cell_type": "markdown",
      "metadata": {
        "id": "R7Oc8qkDoauO"
      },
      "source": [
        "Incluso podemos repetir patrones ya definido por repetición con el uso de bloques anidados.\n",
        "\n"
      ]
    },
    {
      "cell_type": "code",
      "execution_count": null,
      "metadata": {
        "id": "SSb72qzfoq7-"
      },
      "outputs": [],
      "source": [
        "pizarra_vacia()\n",
        "\n",
        "for _ in range(6):\n",
        "    for _ in range(4): # procesamiento propiamente dicho (esta y las dos líneas siguentes)\n",
        "        forward(20)\n",
        "        right(90)\n",
        "    penup() # preparatorias del siguiente procesamiento (esta y las dos líneas siguentes)\n",
        "    forward(30)\n",
        "    pendown()"
      ]
    },
    {
      "cell_type": "markdown",
      "metadata": {
        "id": "MlWKHVJqfoHn"
      },
      "source": [
        "El uso que le damos al `for`hasta ahora es muy limitado.  \n",
        "\n",
        "Supongamos que queremos dibujar una espiral de la siguiente forma:\n",
        "\n",
        "![image.png](data:image/png;base64,iVBORw0KGgoAAAANSUhEUgAAAHEAAABqCAYAAACLb76IAAAAAXNSR0IArs4c6QAAAARnQU1BAACxjwv8YQUAAAAJcEhZcwAAEnQAABJ0Ad5mH3gAAAMDSURBVHhe7d2/jqFRHMbxY0MpGR2FhkKl0EkU6MUlaHWuQII7wR1wAyi01BJBhY5IRGnfw28zs4hi3r/n8XySkznvOzuTmf3uchzjndDVoshof+QtGYwRATAiAEYEwIgAGBEAIwJgRACMCIARATAiAEYEwIgAGBEAIwJwLWKn01GxWOw29JxcpJ8UdtpgMNBPNP839Dlyhyv/E+fzucy+vTpHzuB9IgBGBMCIABgRACMCYEQAjAiAEQEwIgBXXouh90rb7bYc3enjVqslR681m001nU5VIpFQmUxGzuLYbrdquVyqZDKput2unHXAbfPNYVawp71Tfe6dUqn09DHIIx6Py3duX2BuTieTicw+w36/V/1+X47sCUxE6x+UzD7H5XKRmT1c2PjIqfv9wCxsQqGQzL49fg6T6YXMZrORo7vRaKSstYAc2aAjOu03C5vHP68HklcLNyuivNce3pwCYEQAjAiAEQEwIgBGBGB0xH8/oKwfY/o5UqmUfEX+MDbicDi8bQYcj0c545/1eq3y+bwcec/YiEH7YeTFYiEz7xkbMZfLySwYotGozLxnbMRqtXq7Of36+pIz/kqn0zLzntELG72hfjgcbk9jeTn0xnWQGB2R7hgRACMCYEQAjAiAEQEwIgBGBMCIABgRACMCYEQAjAiAEQEwIgBGBMCIABgRACMCYEQAjAiAEQEwIgBGBMCIABgRACMCYEQAjAiAEQEwIgBeoO8X9Gv0e72eHN3pC+29e91iuVxW4/FYju4+4gJ9Jo1sNivfyWu8QJ8BdrudzLwXmIivbk5NEg6HZea9wEQsFosyM1O9XpeZ9/grFWyYzWbqfD6rWq12G+98xMIGHRc29BYjAmBEAIwIgBEBMCIAzyLqx4k/r9b7aePxMaKTXIno5wVcTXI6nWRmjysR/dwMNslqtZKZPa5ELBQKMqN3KpWKzGySnRvH6W0m677gaauJQ10jkci10WjI35R9rmyAk7f4EAMAIwJgRACMCIARATAiAEYEwIgAGNF4Sv0F6XPqHNXumMIAAAAASUVORK5CYII=)"
      ]
    },
    {
      "cell_type": "markdown",
      "metadata": {
        "id": "b8GTR8Q1l-3j"
      },
      "source": [
        "\n",
        "\n",
        "Podemos realizar el dibujo dibujando los 8 segmentos que componen el espiral uno por uno. Eso lo hacemos con el siguiente programa:"
      ]
    },
    {
      "cell_type": "code",
      "execution_count": null,
      "metadata": {
        "id": "ryj5ycOCnJQ0"
      },
      "outputs": [],
      "source": [
        "# configuración pizarra inicial\n",
        "pizarra_vacia()\n",
        "speed(3)\n",
        "\n",
        "# dibuja espiral\n",
        "forward(25)\n",
        "right(90)\n",
        "forward(30)\n",
        "right(90)\n",
        "forward(35)\n",
        "right(90)\n",
        "forward(40)\n",
        "right(90)\n",
        "forward(45)\n",
        "right(90)\n",
        "forward(50)\n",
        "right(90)\n",
        "forward(55)\n",
        "right(90)\n",
        "forward(60)\n",
        "right(90)"
      ]
    },
    {
      "cell_type": "markdown",
      "metadata": {
        "id": "A4iZeu98n1IT"
      },
      "source": [
        "¿Es esta una forma conveniente de resolverlo?\n",
        "\n",
        "Claramente no, ya que estamos escribiendo 8 veces *casi* el mismo trozo de programa:\n",
        "\n",
        "```\n",
        "forward(  )\n",
        "right(90)\n",
        "```"
      ]
    },
    {
      "cell_type": "markdown",
      "metadata": {
        "id": "NXrwisG4SZf4"
      },
      "source": [
        "Sin embargo,  no alcanza con un  `for _ in range(8)` que nos permitiría repetir *exactamente* lo mismo 8 veces. En este programa no se repite exactamente lo mismo: en cada ejecución del *cuerpo* del ciclo debe dibujar una línea de una longitud *diferente*."
      ]
    },
    {
      "cell_type": "markdown",
      "metadata": {
        "id": "58hG0gUIvKFa"
      },
      "source": [
        "El problema es que   el argumento de `forward()` es *variable*. En la próxima sección explicamos el uso de variables lo que, en particular,  nos permitirá escribir elegantemente el código de la espiral cuadrada."
      ]
    },
    {
      "cell_type": "markdown",
      "metadata": {
        "id": "xM-wnw2o1e6b"
      },
      "source": [
        "## 3. Variables"
      ]
    },
    {
      "cell_type": "markdown",
      "metadata": {
        "id": "ybjFkvg-pP9i"
      },
      "source": [
        "Afortunadamente, los lenguajes de programación nos permiten utilizar *variables*. Una variable sirve justamente para representar un valor que puede ser diferente en cada ejecución del código:\n",
        "\n",
        "Una variable está representada por un nombre, digamos `longitud`, y le podemos asignar un valor, supongamos `25`. En Python se hace de la siguiente manera:\n",
        "```\n",
        "longitud = 25\n",
        "```\n",
        "Entonces, podemos usar `longitud` en diferentes partes del código e ir variando su valor según nos convenga.\n",
        "```\n",
        "forward(longitud) # avanza 25\n",
        "right(90) # gira 90 grados\n",
        "longitud = 30 # cambiamos el valor de la variable\n",
        "forward(longitud) # avanza 30\n",
        "right(90) # gira 90 grados\n",
        "```\n"
      ]
    },
    {
      "cell_type": "markdown",
      "metadata": {
        "id": "eU4KDtsdTTIu"
      },
      "source": [
        "Repitamos nuesto código de la espiral cuadrada, pero donde el alrgumento de los `forward()` sea una variable:"
      ]
    },
    {
      "cell_type": "code",
      "execution_count": null,
      "metadata": {
        "id": "f7DQfkOGD5Xj"
      },
      "outputs": [],
      "source": [
        "# configuración pizarra inicial\n",
        "pizarra_vacia()\n",
        "speed(5)\n",
        "\n",
        "# dibuja espiral\n",
        "longitud = 25\n",
        "forward(longitud)\n",
        "right(90)\n",
        "longitud = 30\n",
        "forward(longitud)\n",
        "right(90)\n",
        "longitud = 35\n",
        "forward(longitud)\n",
        "right(90)\n",
        "longitud = 40\n",
        "forward(longitud)\n",
        "right(90)\n",
        "longitud = 45\n",
        "forward(longitud)\n",
        "right(90)\n",
        "longitud = 50\n",
        "forward(longitud)\n",
        "right(90)\n",
        "longitud = 55\n",
        "forward(longitud)\n",
        "right(90)\n",
        "longitud = 60\n",
        "forward(longitud)\n",
        "right(90)\n"
      ]
    },
    {
      "cell_type": "markdown",
      "metadata": {
        "id": "zlZo8IezqS9m"
      },
      "source": [
        "En este ejemplo `longitud` es una variable.\n",
        "\n",
        "Cada vez que se ejecuten estas dos instrucciones:\n",
        "\n",
        "```\n",
        "forward(longitud)\n",
        "right(90)\n",
        "```\n",
        "\n",
        "se dibujará una línea cuyo largo estará determinado por el valor de la variable `longitud` en ese momento, y luego girará 90 grados a la derecha."
      ]
    },
    {
      "cell_type": "markdown",
      "metadata": {
        "id": "F1oRGgmLq27T"
      },
      "source": [
        "La solución al ejercicio, consistiría en ejecutar esas dos instrucciones sucesivamente con los siguientes valores de la variable `longitud`: 25, 30, 35, 40, 45, 50, 55 y 60."
      ]
    },
    {
      "cell_type": "markdown",
      "metadata": {
        "id": "s3-vO-B2rUgq"
      },
      "source": [
        "Existen diferentes maneras de escribir esto en Python utilizando el ciclo `for`. Una podría ser la siguiente:"
      ]
    },
    {
      "cell_type": "code",
      "execution_count": null,
      "metadata": {
        "id": "NBRL_CvlfNOe"
      },
      "outputs": [],
      "source": [
        "# configuración pizarra inicial\n",
        "pizarra_vacia()\n",
        "speed(10)\n",
        "\n",
        "# dibuja espiral\n",
        "for contador in range(8): # contador tomas los valores 0, 1, 2, 3, 4, 5, 6, 7\n",
        "    longitud = 25 + contador * 5\n",
        "    forward(longitud)\n",
        "    right(90)"
      ]
    },
    {
      "cell_type": "markdown",
      "metadata": {
        "id": "wSNsDmJMT9LX"
      },
      "source": [
        "Aclaremos que la sintaxis de la línea 8  indica que la variable `contador` va a variar de a $1$ de $0$ a $7$ y en ese orden. Es decir los valores sucesivos de la variable `contador` serán: $0$, $1$, $2$, $3$, $4$, $5$, $6$, $7$.\n",
        "\n",
        "Podemos escribir equivalentemente:"
      ]
    },
    {
      "cell_type": "code",
      "execution_count": null,
      "metadata": {
        "id": "opvwhYlrqH7x"
      },
      "outputs": [],
      "source": [
        "# configuración pizarra inicial\n",
        "pizarra_vacia()\n",
        "speed(5)\n",
        "\n",
        "# dibuja espiral\n",
        "longitud = 25\n",
        "for _ in range(8):\n",
        "    forward(longitud)\n",
        "    longitud = longitud + 5\n",
        "    right(90)"
      ]
    },
    {
      "cell_type": "markdown",
      "metadata": {
        "id": "qvI8KKlArWSF"
      },
      "source": [
        "En el código anterior en  la línea 6 inicializamos el valor de la variable `longitud` a 25. Una vez dentro del ciclo, en la línea 8 incrementamos la variable en  `5`. Es decir, a la variable `longitud` le asignamos el valor actual de ella misma más `5`."
      ]
    },
    {
      "cell_type": "markdown",
      "metadata": {
        "id": "r4KEGeviqJvh"
      },
      "source": [
        "**La función `range()`.** Hasta aquí  usamos dos variables `contador` y `longitud`. La variable longitud puede ser eliminada como veremos en las próximas líneas de código. En  cambio la variable `contador` o algo equivalente no puede ser eliminado."
      ]
    },
    {
      "cell_type": "code",
      "execution_count": null,
      "metadata": {
        "id": "JGJ3K8m7Um-y"
      },
      "outputs": [],
      "source": [
        "pizarra_vacia()\n",
        "speed(5)\n",
        "\n",
        "# dibuja espiral\n",
        "for contador in range(8):\n",
        "    forward(25 + contador * 5)\n",
        "    right(90)"
      ]
    },
    {
      "cell_type": "markdown",
      "metadata": {
        "id": "DtuRr8pmnZQm"
      },
      "source": [
        "La función `range()` es muy versátil y nos permite obtener un código más compacto:"
      ]
    },
    {
      "cell_type": "code",
      "execution_count": null,
      "metadata": {
        "id": "McSgl7LiU9_9"
      },
      "outputs": [],
      "source": [
        "pizarra_vacia()\n",
        "speed(5)\n",
        "\n",
        "# dibuja espiral\n",
        "for longitud in range(25, 61, 5):\n",
        "    forward(longitud)\n",
        "    right(90)"
      ]
    },
    {
      "cell_type": "markdown",
      "metadata": {
        "id": "6cIob_SjU9Aa"
      },
      "source": [
        "Después veremos mejor la función `range()` pero por ahora digamos  que\n",
        "\n",
        "\n",
        "```\n",
        "for longitud in range(25, 61, 5)\n",
        "```\n",
        "recorre todos los valores de 25 a 60 \"saltando\"  de a 5.\n",
        "\n",
        "Podemos modificar los argumentos del range y se generarán otros dibujos.\n"
      ]
    },
    {
      "cell_type": "code",
      "execution_count": null,
      "metadata": {
        "id": "m-2La63af3jb"
      },
      "outputs": [],
      "source": [
        "# configuración pizarra inicial\n",
        "pizarra_vacia()\n",
        "speed(5)\n",
        "\n",
        "# dibuja espiral\n",
        "for longitud in range(20, 121, 5):\n",
        "    forward(longitud)\n",
        "    right(90)"
      ]
    },
    {
      "cell_type": "markdown",
      "metadata": {
        "id": "KinSFLt9z6QX"
      },
      "source": [
        "Veamos que podemos generalizar fácilmente la solución para construir espirales más grandes."
      ]
    },
    {
      "cell_type": "code",
      "execution_count": null,
      "metadata": {
        "id": "Dcjbt3TNzQlG"
      },
      "outputs": [],
      "source": [
        "# configuración pizarra inicial\n",
        "pizarra_vacia()\n",
        "speed(10)\n",
        "\n",
        "\n",
        "# dibuja espiral\n",
        "lados = 50 # cantidad de lados de la espiral\n",
        "for longitud in range(25, 25 + 5 * lados, 5):\n",
        "    forward(longitud)\n",
        "    right(90)"
      ]
    },
    {
      "cell_type": "markdown",
      "metadata": {
        "id": "UEQQrQxxWUOA"
      },
      "source": [
        "Aquí la variable `lados` no es imprescindible pero sirve para clarificar un poco el código."
      ]
    },
    {
      "cell_type": "markdown",
      "metadata": {
        "id": "sAZ7XTmL3KcV"
      },
      "source": [
        "### Comentarios sobre las variables:\n",
        "\n",
        "*   Representan valores que pueden ser diferentes cada vez que se ejecuta la porción de código donde aparece\n",
        "*   Permite nombrar un elemento, por ejemplo, llamarle `longitud` al valor, esto aporta legibilidad\n",
        "*   Durante la ejecución del programa, se les destina un espacio en la memoria\n",
        "*   Convención (Python): los nombres de las variables van en minúscula, puede ser una letra, una palabra, o más de una palabra separadas por guion bajo (por ejemplo: `longitud_lado`).\n",
        "* Recomendación: evitar nombres extremadamente largos o extremadamente cortos o incomprensibles (mejor `longitud_lado` que `lgtdld`). Nunca llamar `l` (la letra ele) o `O` (la letra o mayúscula) a una variable."
      ]
    },
    {
      "cell_type": "markdown",
      "metadata": {
        "id": "DMJdoaOpx-Oa"
      },
      "source": [
        "### Comentarios adicionales sobre las variables que se usan como índice del `for`:\n",
        "\n",
        "*   Es común usar nombres muy cortos (`i`, `j`, `x` ...) aunque siempre es recomendable usar nombres \"informativos\"\n",
        "*   No es recomendable que la variable que se usa como índice del `for` se utilice fuera del cuerpo del `for`, aunque Python lo permite.\n",
        "* **Nunca** modificar dentro del `for` la variable que se usa como índice del `for`, aunque Python lo permite.\n",
        "*   Cuando la variable no aparece en el cuerpo del `for` se trata de un `repetir n veces`, se recomienda reemplazar por guion bajo `_`."
      ]
    },
    {
      "cell_type": "markdown",
      "metadata": {
        "id": "7s5yIG_qXHKP"
      },
      "source": [
        "Como ejemplo de lo que **no** hay que hacer es  el siguiente:"
      ]
    },
    {
      "cell_type": "code",
      "execution_count": null,
      "metadata": {
        "id": "0sdYKSgsXXS6"
      },
      "outputs": [],
      "source": [
        "for i in range(10):\n",
        "    print('i:', i)\n",
        "    i = 5\n",
        "print('i final:', i)"
      ]
    },
    {
      "cell_type": "markdown",
      "metadata": {
        "id": "RdErObrpZFTd"
      },
      "source": [
        "El resultado es confuso y por lo tanto es mejor no hacer este tipo de cosas."
      ]
    },
    {
      "cell_type": "markdown",
      "metadata": {
        "id": "DUiLBHkmX4ak"
      },
      "source": [
        "## 4. El ciclo `while` (mientras)\n",
        "\n"
      ]
    },
    {
      "cell_type": "markdown",
      "metadata": {
        "id": "kv4-XiAUYYJC"
      },
      "source": [
        "No siempre podemos modelizar un problema con un `for`, pues,  como ya mencionamos, hay veces que no sabemos cuantas iteraciones debemos hacer. En  esos casos debemos usar un ciclo `while`.\n",
        "\n",
        "El ciclo `while` se utiliza para repetir un bloque de código mientras una condición sea verdadera. Es importante resaltar que la condición se evalúa antes de ejecutar el bloque de código.\n",
        "\n",
        "La sintaxis es la siguiente:\n",
        "\n",
        "        while condición:\n",
        "            <bloque de código a ejecutar mientras la condición sea verdadera>\n",
        "\n",
        "Hagamos un ejemplo sencillo:\n",
        "\n"
      ]
    },
    {
      "cell_type": "code",
      "execution_count": null,
      "metadata": {
        "id": "4jvRn8XgYh8O"
      },
      "outputs": [],
      "source": [
        "i = 1\n",
        "while i <= 5:\n",
        "    print(i)\n",
        "    i = i + 1"
      ]
    },
    {
      "cell_type": "markdown",
      "metadata": {
        "id": "GsIo3qTnY-BI"
      },
      "source": [
        "Expliquemos línea a línea el código:\n",
        "\n",
        "1. En la línea 1 creamos la variable `i`y le asignamos el valor `1`.\n",
        "2. En la línea 2 comenzamos el ciclo con el `while` y  a continuación escribimos la condición *i menor o igual a 5*. Podrìamos traducir toda la línea 2 al lenguaje coloquial: *mientras i sea menor o igual a 5*.\n",
        "\n",
        "En las dos líneas siguientes ponemos el bloque de código que será ejecutado mientras la variable  `i`sea menor o igual a `5`.\n",
        "\n",
        "3. en la línea 3 imprimimos en pantalla el valor de la variable.\n",
        "4.  en la línea 4  incrementamos la variable en  `1`. Es decir,  a la variable `i`le asignamos el valor actual de ella misma más `1`."
      ]
    },
    {
      "cell_type": "markdown",
      "metadata": {
        "id": "WzK3f45Ha2mF"
      },
      "source": [
        "En  interesante probar el código en  [Python Tutor](https://pythontutor.com/python-compiler.html#mode=edit) y así ver como funciona.\n",
        "\n",
        "Volveremos sobre este tema más adelante. Algo que debemos mencionar, es que con los `while`se introduce una herramienta poderosa pero que  puede producir programas que no terminen. Por ejemplo,  si ejecutamos el programa\n",
        "\n",
        "```\n",
        "i = 1\n",
        "while i >= 1:\n",
        "    print(i)\n",
        "    i = i + 1\n",
        "```\n",
        "Su ejecución no termina, pues al comienzo `i`vale `1` y por lo tanto cumple con la condición. Luego de cada iteración el valor de `i` siempre es mayor que `1`y por lo tanto la condición del `while` nunca deja de valer.  \n",
        "\n"
      ]
    },
    {
      "cell_type": "code",
      "execution_count": null,
      "metadata": {
        "id": "nR8Pcukp2t3e"
      },
      "outputs": [],
      "source": [
        "# Ejecutar esta celda no termina\n",
        "i = 1\n",
        "while i >= 1\n",
        "    print(i)\n",
        "    i = i + 1"
      ]
    },
    {
      "cell_type": "markdown",
      "metadata": {
        "id": "EyBeXZ9odtcy"
      },
      "source": [
        "### **Ejemplo.** El cañón.\n",
        "\n",
        "Hagamos un ejemplo con Turtle del uso del  ciclo `while`.\n",
        "\n",
        "En el costado derecho  de la pantalla de Turtle  aparecerá un punto verde a la altura 250 y con coordenada x entre 401 y 800, elegida al azar,  que será un \"objetivo\". En  el lado izquierdo de la pantalla se ubicará un \"cañonero\",  un punto negro,  a la misma altura que el objetivo. El cañonero no sabe la distancia al objetivo, pero enviará una bala de cañón  roja que avanzará de a 1 unidad hasta alcanzar el objetivo.  \n",
        "\n",
        "Primero dibujemos el objetivo y el cañonero."
      ]
    },
    {
      "cell_type": "code",
      "execution_count": null,
      "metadata": {
        "id": "QAYZ6f4_f86r"
      },
      "outputs": [],
      "source": [
        "pizarra_vacia()\n",
        "from random import randint\n",
        "\n",
        "x_o, y_o = randint(401, 800), 250 # posición del objetivo\n",
        "x_c, y_c = randint(1, 400), 250 # posición del cañonero (a la misma altura que el objetivo)\n",
        "\n",
        "hideturtle() # oculto la tortuga\n",
        "width(10) # ensanchamos el lápiz para que se vean objetivo y cañonero\n",
        "\n",
        "# Dibujo el objetivo\n",
        "color('green')\n",
        "penup()\n",
        "goto(x_o, y_o)\n",
        "pendown()\n",
        "forward(1)\n",
        "\n",
        "# Dibujo el cañonero\n",
        "color('black')\n",
        "penup()\n",
        "goto(x_c, y_c)\n",
        "pendown()\n",
        "forward(1)"
      ]
    },
    {
      "cell_type": "markdown",
      "metadata": {
        "id": "RQ0q_2UFioXW"
      },
      "source": [
        "Ahora lanzamos la bala de cañón:"
      ]
    },
    {
      "cell_type": "code",
      "execution_count": null,
      "metadata": {
        "id": "QqrJcFBJisoG"
      },
      "outputs": [],
      "source": [
        "width(1) # hacemos una trazado fino de la trayectoria\n",
        "color('red') # la bala hace una trayectoria roja\n",
        "speed(12) # velocidad de la bala\n",
        "\n",
        "pos_bala = x_c  # la bala parte de la posición del cañonero\n",
        "while pos_bala < x_o: # mientras la bala no llegue al objetivo.\n",
        "    pos_bala = pos_bala + 1 # avanzo 1 la bala\n",
        "    forward(1)        # dibujo la bala"
      ]
    },
    {
      "cell_type": "markdown",
      "metadata": {
        "id": "sIe6K1kbk-6E"
      },
      "source": [
        "Podíamos haber hecho que el cañonero esté también a una altura al azar, pero para solucionar el problema hubiera requerido un poco de trigonometría y  algunas modificaciones menores del código. Como la idea es solo mostrar el funcionamiento del `while` preferimos hacer el problema más sencillo."
      ]
    },
    {
      "cell_type": "markdown",
      "metadata": {
        "id": "Mv6tzoLo5cu1"
      },
      "source": [
        "Encapsulemos el código en funciones:"
      ]
    },
    {
      "cell_type": "code",
      "execution_count": null,
      "metadata": {
        "id": "tdOFykkA5kFh"
      },
      "outputs": [],
      "source": [
        "def bala_canhon():\n",
        "    # Dibujo el objetivo\n",
        "    color('green')\n",
        "    penup()\n",
        "    goto(x_o, y_o)\n",
        "    pendown()\n",
        "    forward(1)\n",
        "\n",
        "    # Dibujo el cañonero\n",
        "    color('black')\n",
        "    penup()\n",
        "    goto(x_c, y_c)\n",
        "    pendown()\n",
        "    forward(1)\n",
        "\n",
        "    width(1) # hacemos una trazado fino de la trayectoria\n",
        "    color('red') # la bala hace una trayectoria roja\n",
        "    speed(12) # velocidad de la bala\n",
        "\n",
        "    pos_bala = x_c  # la bala parte de la posición del cañonero\n",
        "    while pos_bala < x_o: # mientras la bala no llegue al objetivo.\n",
        "        pos_bala = pos_bala + 1 # avanzo 1 la bala\n",
        "        forward(1)"
      ]
    },
    {
      "cell_type": "code",
      "execution_count": null,
      "metadata": {
        "id": "x96bwBww6DJE"
      },
      "outputs": [],
      "source": [
        "pizarra_vacia()\n",
        "bala_canhon()"
      ]
    },
    {
      "cell_type": "markdown",
      "metadata": {
        "id": "RN66L9v2LlOn"
      },
      "source": [
        "## 5. Definición de funciones"
      ]
    },
    {
      "cell_type": "markdown",
      "metadata": {
        "id": "zZVVRk3eLstH"
      },
      "source": [
        "Ya hemos hablado un poco de funciones y como definirlas,  ahora profundizaremos un poco más sobre el tema.\n",
        "\n",
        "Recordemos que podemos dibujar un cuadrado de lado 50  utilizando el siguiente código:"
      ]
    },
    {
      "cell_type": "code",
      "execution_count": null,
      "metadata": {
        "id": "f0dahg24LrQo"
      },
      "outputs": [],
      "source": [
        "# configuración pizarra inicial\n",
        "initializeTurtle()\n",
        "bgcolor('white')\n",
        "color('black')\n",
        "right(90)\n",
        "\n",
        "# dibuja cuadrado\n",
        "for _ in range(4):\n",
        "    forward(50)\n",
        "    right(90)"
      ]
    },
    {
      "cell_type": "markdown",
      "metadata": {
        "id": "sdNYqiVfNHgj"
      },
      "source": [
        "Estas líneas están bien y el programa hace lo que nosotros queremos. Sin embargo,  si queremos usar repetidamente la pizarra o si queremos dibujar muchos cuadrado en una pizarra, convendrá modularizar un poco. Para inicializar la pizarras hemos definido la siguiente función:"
      ]
    },
    {
      "cell_type": "code",
      "execution_count": null,
      "metadata": {
        "id": "l6XPY82SNS3v"
      },
      "outputs": [],
      "source": [
        "def pizarra_vacia():\n",
        "    initializeTurtle()\n",
        "    bgcolor('white')\n",
        "    color('black')\n",
        "    right(90)"
      ]
    },
    {
      "cell_type": "markdown",
      "metadata": {
        "id": "ay_XZOV0N1U-"
      },
      "source": [
        "Esta función no tiene argumentos e inicializa la pantalla.\n",
        "\n",
        "Veamos a continuación una función que nos permitirá dibujar cuadrados de tamaño arbitrario.\n",
        "\n",
        "\n",
        "\n",
        "\n"
      ]
    },
    {
      "cell_type": "markdown",
      "metadata": {
        "id": "CUKU0JNIFoXX"
      },
      "source": [
        "### Función `dibujar_cuadrado()`\n",
        "\n",
        "Vamos a definir ahora una función con un argumento,  específicamente la función `dibujar_cuadrado()` que toma un argumento y dibuja un cuadrado cuyos lados tienen la longitud dada por el argumento."
      ]
    },
    {
      "cell_type": "code",
      "execution_count": null,
      "metadata": {
        "id": "Gz0Yr-iZFv8R"
      },
      "outputs": [],
      "source": [
        "def dibujar_cuadrado(longitud_lado):\n",
        "    for _ in range(4):\n",
        "        forward(longitud_lado)\n",
        "        right(90)"
      ]
    },
    {
      "cell_type": "markdown",
      "metadata": {
        "id": "eiMFdr5NtoBY"
      },
      "source": [
        "Entonces podemos hacer"
      ]
    },
    {
      "cell_type": "code",
      "execution_count": null,
      "metadata": {
        "id": "UOsrVDQAtq66"
      },
      "outputs": [],
      "source": [
        "pizarra_vacia()\n",
        "dibujar_cuadrado(50)"
      ]
    },
    {
      "cell_type": "markdown",
      "metadata": {
        "id": "yveo-LE2trKB"
      },
      "source": [
        "y"
      ]
    },
    {
      "cell_type": "code",
      "execution_count": null,
      "metadata": {
        "id": "7pE8HxuEtrXC"
      },
      "outputs": [],
      "source": [
        "pizarra_vacia()\n",
        "dibujar_cuadrado(75)\n",
        "hideturtle()"
      ]
    },
    {
      "cell_type": "markdown",
      "metadata": {
        "id": "PhS813lmZRQn"
      },
      "source": [
        "En la definición de `dibujar_cuadrado()` la expresión `longitud_lado` es una variable. Cuando escribimos la definición de la función `dibujar_cuadrado`, desconocemos el valor de la variable. Su valor recién se conocerá cuando se utilice la función.\n",
        "\n",
        "Esta variable se llama *parámetro* de la función `dibujar_cuadrado()`."
      ]
    },
    {
      "cell_type": "markdown",
      "metadata": {
        "id": "KoHNNWSnCet5"
      },
      "source": [
        "### Ejemplo con el ciclo `for`"
      ]
    },
    {
      "cell_type": "markdown",
      "metadata": {
        "id": "ghiCL23El6hI"
      },
      "source": [
        "Queremos hacer el siguiente dibujo:\n",
        "\n",
        "![image.png](data:image/png;base64,iVBORw0KGgoAAAANSUhEUgAAAJcAAACUCAYAAACeC7vXAAAAAXNSR0IArs4c6QAAAARnQU1BAACxjwv8YQUAAAAJcEhZcwAAEnQAABJ0Ad5mH3gAAAQvSURBVHhe7d1NSiNBGIfxiggdESQeIKBewAO4MOJFPIIbwYVgBBfexiPoFdwI7ty5caHgwg/UyZu8GTHp9Eza+redyvODYqp7eiaDeZiU/THT+OwJgMCC/whER1yQIS7IEBdkiAsyxAUZ4oIMcUGGuCBDXJAhLsgQF2SICzLEBRniggxxQYa4IENckCEu6Ng99LHZb8tIY6ysrHyen5/7Ozud6A9oZFkWXl9ffQsp6AUWHh8ffev/RY+r0Wj4DCkpk0n0NRdxYSh6XPaxCJhKvltsNpv9v1ZTH3nyjhuObrfrR32xfXnHDkeevOOGI9ZrlMGpCMgQF2SICzLEBRniggxxQYa4IENckCEuyBAXZIgLMsQFGeKCDHFBhrggQ1yQIS7IEBdkiAsyxAUZ4oIMcUGGuCBDXJAhLsgQF2SICzLEBRniggxxQYa4IENckCEuyBAXZIgLMsQFGeKCDHFBhrggQ1yQIS7IEBdkiAsyxAUZ4oIMcUGGuCBDXJAhLsgQF2SICzLEBRniggxxQYa4IENckGl89vg8iqWlpfD8/OxbA4uLi+Ho6Mi30tXtdn32pejLe3JyMvZrbPv4+Ni3xjUaDZ99+e3XmMjiiinLMvtTMHwU6b3JY8fbviKjx9soUsVrTBL9Y/H9/d1nmHesuYTyPl7mSfS4bM2Fge3tbZ/Np+gL+tXV1fDw8OBbA81mMxweHvpW2m5ubsLd3V3Y2toKp6envjcfC/optVqtv4vA4bB9GGcL69Gvle0rMnq8jSJVvMYkrLkgQ1yQIS7IEBdkiAsyxAWZSuKy81527oTxfdj5ppRFj+vt7c1nKMNOwqYielxcuP4ZO7ufiuhxZVnmM5Rhl41SET0uu7aI6dkarNPp/PN65CypZEG/trbWv/DJmDw+Pj7CxcWFf8XSUElcmE/EBRniggxxQYa4IENckIl+D/36+nq4vb31rYFWqxX29/d9Cz+Rdz2y6C1M6h76drv9975rRjWjiN0vP3q87SsyeryNMqJ/LD49PfkM8y56XAsLLOOqlPcRVhfRS9jY2PAZqlDnB2+jL+h3dnbC5eWlbw3YtcW9vT3fwk/V7cHbiSyumDqdzreFoA3bh9+R1IIeGCIuyBAXZIgLMsQFGeKCjn/XGE3eqQhGvcbMnoq4v7/3Geqqqgdvo8fFhev6q+rB2+hxtdttn6GuqnrwNnpcu7u7PkPdVP3gbSXfLdqF0t76jvHLo+oHbyuJC/OJuCBDXJAhLsgQF2SICzLR76HPu2fbzq3YwGwYff9MqUwsrpgODg6+XfBkpDHKiP6xeHV15TPMu+hx8Q/upqfsg7fR4zo7O+v/b/xIR9kHb6Mv6M319XX/f4Z9eXkJm5ubYXl52X8Gs2KaB28nkcQFGM5zQYa4IENckCEuyBAXZIgLMsQFGeKCDHFBJIQ/7XOc/oiO7HoAAAAASUVORK5CYII=)\n",
        "\n",
        "Observemos que esto lo podemos pensar como la superposición de 5  cuadrados de diferente tamaño.  "
      ]
    },
    {
      "cell_type": "markdown",
      "metadata": {
        "id": "W3HDfTB2gpp7"
      },
      "source": [
        "Nuevamente,  no alcanza con `for _ in range(5)` que nos permitiría repetir *exactamente* lo mismo 5 veces, ya que en esta solución no se repite exactamente lo mismo: en cada ejecución del cuerpo del ciclo se dibuja un cuadrado de una longitud diferente.\n",
        "\n",
        "Podemos realizar el dibujo del ejercicio con el siguiente programa, por cierto espantoso:"
      ]
    },
    {
      "cell_type": "code",
      "execution_count": null,
      "metadata": {
        "id": "TR15QYGiqrk0"
      },
      "outputs": [],
      "source": [
        "# configuración pizarra inicial\n",
        "pizarra_vacia()\n",
        "\n",
        "# dibuja túnel\n",
        "forward(50) # 1° cuadrado\n",
        "right(90)\n",
        "forward(50)\n",
        "right(90)\n",
        "forward(50)\n",
        "right(90)\n",
        "forward(50)\n",
        "right(90)\n",
        "forward(60) # 2° cuadrado\n",
        "right(90)\n",
        "forward(60)\n",
        "right(90)\n",
        "forward(60)\n",
        "right(90)\n",
        "forward(60)\n",
        "right(90)\n",
        "forward(70) # 3° cuadrado\n",
        "right(90)\n",
        "forward(70)\n",
        "right(90)\n",
        "forward(70)\n",
        "right(90)\n",
        "forward(70)\n",
        "right(90)\n",
        "forward(80)\n",
        "right(90)\n",
        "forward(80) # 4° cuadrado\n",
        "right(90)\n",
        "forward(80)\n",
        "right(90)\n",
        "forward(80)\n",
        "right(90)\n",
        "forward(90) # 5° cuadrado\n",
        "right(90)\n",
        "forward(90)\n",
        "right(90)\n",
        "forward(90)\n",
        "right(90)\n",
        "forward(90)\n",
        "right(90)"
      ]
    },
    {
      "cell_type": "markdown",
      "metadata": {
        "id": "O7I5RR4Bxz6A"
      },
      "source": [
        "O el programa siguiente que es un poco mejor y se basa en que está definida la función `dibujar_cuadrado()` con la longitud del lado como parámetro:"
      ]
    },
    {
      "cell_type": "code",
      "execution_count": null,
      "metadata": {
        "id": "I7yUNMWwj4U1"
      },
      "outputs": [],
      "source": [
        "# configuración pizarra inicial\n",
        "pizarra_vacia()\n",
        "\n",
        "# dibuja túnel\n",
        "speed(10)\n",
        "dibujar_cuadrado(50) # 1° cuadrado\n",
        "dibujar_cuadrado(60) # 2° cuadrado\n",
        "dibujar_cuadrado(70) # 3° cuadrado\n",
        "dibujar_cuadrado(80) # 4° cuadrado\n",
        "dibujar_cuadrado(90) # 5° cuadrado"
      ]
    },
    {
      "cell_type": "markdown",
      "metadata": {
        "id": "oTRzjEa2GhI3"
      },
      "source": [
        "Nuevamente podemos valernos del ciclo `for` para evitar la repetición de código y nos quede un código correcto,  elegante y modular:"
      ]
    },
    {
      "cell_type": "code",
      "execution_count": null,
      "metadata": {
        "id": "RAvxXwS5Gtba"
      },
      "outputs": [],
      "source": [
        "# configuración pizarra inicial\n",
        "pizarra_vacia()\n",
        "\n",
        "# dibuja túnel\n",
        "speed(10)\n",
        "longitud = 50\n",
        "for _ in range(5):\n",
        "    dibujar_cuadrado(longitud)\n",
        "    longitud = longitud + 10"
      ]
    },
    {
      "cell_type": "markdown",
      "metadata": {
        "id": "mU-aTjC2JG6s"
      },
      "source": [
        "Nuevamente, escribiendo convenientemente el código, agregar unos cuadrados más es muy sencillo:"
      ]
    },
    {
      "cell_type": "code",
      "execution_count": null,
      "metadata": {
        "id": "W9k5Ar2WJFb3"
      },
      "outputs": [],
      "source": [
        "# configuración pizarra inicial\n",
        "pizarra_vacia()\n",
        "\n",
        "# dibuja túnel\n",
        "speed(10)\n",
        "longitud = 50\n",
        "for _ in range(10):\n",
        "    dibujar_cuadrado(longitud)\n",
        "    longitud = longitud + 10"
      ]
    },
    {
      "cell_type": "markdown",
      "metadata": {
        "id": "ruIgn9T-8cWa"
      },
      "source": [
        "También lo podríamos haber hecho con un `while`:"
      ]
    },
    {
      "cell_type": "code",
      "execution_count": null,
      "metadata": {
        "id": "kTkTJK708khS"
      },
      "outputs": [],
      "source": [
        "# configuración pizarra inicial\n",
        "pizarra_vacia()\n",
        "\n",
        "# dibuja túnel\n",
        "speed(10)\n",
        "longitud = 50\n",
        "i = 0\n",
        "while i < 10:\n",
        "    dibujar_cuadrado(longitud)\n",
        "    longitud = longitud + 10\n",
        "    i = i +1"
      ]
    },
    {
      "cell_type": "markdown",
      "metadata": {
        "id": "wenh8ojHaiCU"
      },
      "source": [
        "### Funciones que devuelven valores\n",
        "\n",
        "Las funciones que definimos arriba no devuelven valores, pero es claro que nos interesa tener funciones que devuelvan valores. Por ejemplo, definamos la función que calcula el área de un triángulo sabiendo su base y altura:"
      ]
    },
    {
      "cell_type": "code",
      "execution_count": null,
      "metadata": {
        "id": "2oDWIR2wbCGr"
      },
      "outputs": [],
      "source": [
        "def area_triangulo(base, altura):\n",
        "    area = base * altura / 2\n",
        "    return area\n",
        "\n",
        "print(area_triangulo(5, 4))\n",
        "print(area_triangulo(3, 7))"
      ]
    },
    {
      "cell_type": "markdown",
      "metadata": {
        "id": "rU6MYPfhbQDM"
      },
      "source": [
        "La instrucción `return` devuelve el valor que sigue a continuación y detiene la ejecución de la función. Aunque no es obligatorio, siempre es conveniente que sea la última línea del cuerpo de la función."
      ]
    },
    {
      "cell_type": "code",
      "execution_count": null,
      "metadata": {
        "id": "ovg4ENbncIPw"
      },
      "outputs": [],
      "source": [
        "def area_triangulo(base, altura):\n",
        "    area = base * altura / 2\n",
        "    print(area)\n",
        "    return area\n",
        "\n",
        "area_triangulo(5, 4)\n",
        "area_triangulo(3, 7)\n",
        "pass"
      ]
    },
    {
      "cell_type": "markdown",
      "metadata": {
        "id": "ZMJ0qVuocbFz"
      },
      "source": [
        "El código de arriba no es lo mismo que"
      ]
    },
    {
      "cell_type": "code",
      "execution_count": null,
      "metadata": {
        "id": "MqjhJH3ncfo4"
      },
      "outputs": [],
      "source": [
        "def area_triangulo(base, altura):\n",
        "    area = base * altura / 2\n",
        "    return area\n",
        "    print(area)\n",
        "\n",
        "area_triangulo(5, 4)\n",
        "area_triangulo(3, 7)\n",
        "pass"
      ]
    },
    {
      "cell_type": "markdown",
      "metadata": {
        "id": "xBeO4Byycl_o"
      },
      "source": [
        "En la línea 3 se detiene la ejecución de código de la función, por eso el `print` de la línea 4 no produce ningún resultado."
      ]
    },
    {
      "cell_type": "markdown",
      "metadata": {
        "id": "77ms-8B0cGuS"
      },
      "source": [
        "Las funciones juegan un rol extremadamente importante en los lenguajes modernos de programación  y profundizaremos en ellas en clases subsiguientes.   "
      ]
    },
    {
      "cell_type": "markdown",
      "metadata": {
        "id": "ZOOh2GCoPnnP"
      },
      "source": [
        "### Comentarios sobre las funciones:\n",
        "\n",
        "*   Todos los lenguajes de programación modernos permiten definir funciones.\n",
        "*   Esto contribuye a generalizar y dar nombres a porciones de código, facilitando su reutilización.\n",
        "*   Realizan abstracciones que aportan legibilidad.\n",
        "*   Se deben definir funciones cuando se identifican *porciones de código que tienen sentido.*\n",
        "*   Convención (Python): los nombres de las funciones van en minúscula, puede ser una palabra, o más de una palabra separadas por guion bajo (por ejemplo: `dibujar_cuadrado`).\n",
        "\n",
        "Las funciones pueden tener 0, 1, 2 ó más parámetros. Incluso pueden tener un número indeterminado de parámetros.\n",
        "\n",
        "Un ejemplo de función sin parámetros es `pizarra_vacía()`. A veces se dicen, quizás lo escucharán en algunos ámbitos, que una función sin parámetros es un *procedimiento*.\n",
        "\n",
        "Un ejemplo de función con 1 parámetro es `dibujar_cuadrado()`."
      ]
    },
    {
      "cell_type": "markdown",
      "metadata": {
        "id": "SyrqYhVb0O8W"
      },
      "source": [
        "En  ejemplos anteriores hemos aumentado o cambiado la velocidad de la tortuga por comodidad. Podemos mejorar la definición de la función `pizarra_vacia()` agregando un parámetro que indique la velocidad."
      ]
    },
    {
      "cell_type": "code",
      "execution_count": null,
      "metadata": {
        "id": "451-8VDXTB2j"
      },
      "outputs": [],
      "source": [
        "def pizarra_vacia(velocidad = 5):\n",
        "    initializeTurtle()\n",
        "    bgcolor('white')\n",
        "    color('black')\n",
        "    speed(velocidad)\n",
        "    right(90)"
      ]
    },
    {
      "cell_type": "markdown",
      "metadata": {
        "id": "QwU11-_uTQen"
      },
      "source": [
        "Esta función tiene una parámetro *optativo*, el parámetro `velocidad`. Cuando le damos un valor al parámetro entonces esa será la velocidad de la tortuga. En  cambio, si no le damos un valor, la velocidad será 5,  el *valor por defecto*. Eso quiere decir que cuando  invocamos\n",
        "\n",
        "```\n",
        "pizarra_vacia()\n",
        "```\n",
        "\n",
        "internamente la variable `velocidad` vale `5`. Mientras que si ejecutamos, por ejemplo,\n",
        "\n",
        "```\n",
        "pizarra_vacia(12)\n",
        "```\n",
        "la velocidad de la tortuga será  `12`.\n",
        "\n",
        "\n"
      ]
    },
    {
      "cell_type": "markdown",
      "metadata": {
        "id": "ZTjCaEwWL9Ws"
      },
      "source": [
        "Podríamos hacer que la función `pizarra_vacia()` tenga más parámetros optativos,  como el color de la pizarra y el color del lápiz:"
      ]
    },
    {
      "cell_type": "code",
      "execution_count": null,
      "metadata": {
        "id": "EUKJyktQMN3Z"
      },
      "outputs": [],
      "source": [
        "def pizarra_vacia(velocidad = 5, fondo = 'white', lapiz ='black', ancho = 1):\n",
        "    initializeTurtle()\n",
        "    bgcolor(fondo)\n",
        "    color(lapiz)\n",
        "    speed(velocidad)\n",
        "    width(ancho)\n",
        "    right(90)"
      ]
    },
    {
      "cell_type": "markdown",
      "metadata": {
        "id": "D9QiST8KMj-G"
      },
      "source": [
        "Entonces, la podríamos utilizar de la siguiente manera:"
      ]
    },
    {
      "cell_type": "code",
      "execution_count": null,
      "metadata": {
        "id": "G1LISrvvv6nP"
      },
      "outputs": [],
      "source": [
        "pizarra_vacia(10, 'green')"
      ]
    },
    {
      "cell_type": "markdown",
      "metadata": {
        "id": "oQ6zQG4CMvwQ"
      },
      "source": [
        "Los parámetro son optativos y obedecen a ciertas reglas. Por ejemplo,  no estaría bien poner\n",
        "\n",
        "```\n",
        "pizarra_vacia('green')\n",
        "```\n",
        "\n",
        "porque pensaría que `green` es la velocidad. Si queremos saltear algún parámetro optativo, los otros debe ser especificados explícitamente.\n"
      ]
    },
    {
      "cell_type": "code",
      "execution_count": null,
      "metadata": {
        "id": "wjFQfuuNNMHD"
      },
      "outputs": [],
      "source": [
        "pizarra_vacia(fondo ='green')"
      ]
    },
    {
      "cell_type": "code",
      "execution_count": null,
      "metadata": {
        "id": "UpIeiXJTMqSL"
      },
      "outputs": [],
      "source": [
        "pizarra_vacia(lapiz = 'black', fondo ='green')"
      ]
    },
    {
      "cell_type": "markdown",
      "metadata": {
        "id": "8WUGLkRZl4gU"
      },
      "source": [
        "## 6. La bola de billar\n",
        "\n",
        "Un  ejemplo bastante más complejo del uso de funciones, bucles y condicionales en Python es el de *La bola de billar*.\n",
        "\n",
        "En  este ejemplo se hace una simulación de una bola de billar rebotando contra las paredes de la mesa.\n",
        "\n",
        "Es un ejemplo demasiado legro para desarrollarlo en clase, pero el  alumno interesado puede verlo en un Colab que se ha subido junto a esta clase, llamado `La bola de billar`. En  ese cuaderno se explica pasa a paso la implementación.\n",
        "\n",
        "También hemos subido  la implementación del mismo problema en el Turtle de Python puro (no Colab) y es un poco diferente, pues la biblioteca Turtle de Colab  no es igual a la biblioteca Turtle de Python. El archivo es `bola_de_billar.py`.\n",
        "\n",
        "Finalmente, hemos subido una implementación utilizando la biblioteca `pygame`. Esta es un biblioteca orientada a juegos (tipo Pacman) y  en este caso se implementa la bola de billar en forma mucho más eficiente y de mejor aspecto. El archivo es `bola_de_billar_pygame.py`\n",
        "\n",
        "Obviamente, la lógica en todas las implementaciones es muy similar."
      ]
    },
    {
      "cell_type": "markdown",
      "metadata": {
        "id": "TvpBUNS6g8Gb"
      },
      "source": [
        "## 7. Ejemplo: dibujar un triángulo arbitrario\n",
        "\n",
        "Todos sabemos (creo) que el triángulo es una figura geométrica *rígida*,  es decir es indeformable. Está es una importante propiedad utilizada, por ejemplo, en algunos sistemas constructivos.  \n",
        "\n",
        "La propiedad de ser indeformable es equivalente a la propiedad de que dados tres segmentos existe a lo más un único polígono de tres lados formado por esos segmentos.\n",
        "\n",
        "Más específicamente,  dadas tres medidas $a$, $b$, $c$ mayores que $0$ y tal que la suma de  cualesquiera dos de ellas es mayor que la tercera,  existe un único triángulo (salvo desplazamientos y rotaciones) con lados que tienen esas tres medidas.\n",
        "\n",
        "\n"
      ]
    },
    {
      "cell_type": "markdown",
      "metadata": {
        "id": "EMY30hVQ-9Im"
      },
      "source": [
        "Pero, ¿cómo construimos un triángulo con lados $a$, $b$, $c$?\n",
        "\n",
        "Debemos usar el teorema del coseno que es una generalización del teorema de Pitágoras.\n",
        "\n",
        "**Teorema del coseno.** *Dado un triángulo cualquiera, siendo $\\alpha$, $\\beta$, $\\gamma$ los ángulos, y $a$, $b$, $c$, los lados respectivamente opuestos a estos ángulos entonces:*\n",
        "$$\n",
        "c^{2}=a^{2}+b^{2}-2ab\\cos \\gamma.\n",
        "$$  \n",
        "\n",
        "Por lo tanto, podemos despejar los ángulos usando dos veces el teorema y el hecho de que la suma de los ángulos interiores de un triángulo es $180^º$.\n",
        "\n",
        "\\begin{align}\n",
        "a^{2}&=b^{2}+c^{2}-2bc\\cos \\alpha,\\\\\n",
        "b^{2}&=a^{2}+c^{2}-2ac\\cos \\beta. \\\\\n",
        "\\end{align}  \n",
        "En consecuencia,\n",
        "\\begin{align}\n",
        "\\cos \\alpha &= \\frac{b^{2}+c^{2}- a^{2}}{2bc}, \\\\\n",
        "\\cos \\beta &= \\frac{a^{2}+c^{2}- b^{2}}{2ac}.\\\\\n",
        "\\end{align}\n",
        "Por consiguiente,\n",
        "\\begin{align}\n",
        "\\alpha &= \\arccos\\left(\\frac{b^{2}+c^{2}- a^{2}}{2ab}\\right), \\tag{1}\\\\\n",
        "\\beta &= \\arccos\\left(\\frac{a^{2}+c^{2}- b^{2}}{2ac}\\right),\\tag{2}\\\\\n",
        "\\gamma &= 180 - \\alpha- \\beta.\\tag{3}\n",
        "\\end{align}\n"
      ]
    },
    {
      "cell_type": "markdown",
      "metadata": {
        "id": "oU79UODJ_ZnN"
      },
      "source": [
        "Intentemos ahora usando las fórmulas (1), (2) y (3) dibujar un triángulo de lados $a$, $b$, $c$. Debemos tener en cuenta las siguientes consideraciones\n",
        "\n",
        "- Python no tiene en forma nativa la función $\\arccos(\\theta)$ y  debemos importar el módulo `math` para adquirirla.\n",
        "- Las funciones trigonométricas del módulo `math` tienen como argumentos ángulos en *radianes*, no en grados sexagesimales.\n",
        "\n",
        "Esto último no influye demasiado en las fórmulas. En realidad (1) y (2) quedan iguales y solo debemos tener cuadrado con la fórmula (3) que pasaría a ser\n",
        "$$\n",
        "\\gamma = \\pi - \\alpha- \\beta.\\tag{3'}\n",
        "$$\n",
        "\n",
        "Lo más importante de la segunda observación es que como `turtle` maneja solo grados sexagesimales necesitamos funciones para convertir grados a radianes y radianes a grados.\n",
        "\n",
        "Comencemos,  y lo primero que debemos hacer es importar el módulo `math` y lo haremos de la siguiente manera:"
      ]
    },
    {
      "cell_type": "code",
      "execution_count": null,
      "metadata": {
        "id": "IsZJpairDB6X"
      },
      "outputs": [],
      "source": [
        "from math import *"
      ]
    },
    {
      "cell_type": "markdown",
      "metadata": {
        "id": "qiVEPi3lDbUB"
      },
      "source": [
        "Esta forma de importar `math` permite traer todas las funciones y usarlas en forma sencilla. También importa algunas constantes importantes, como, por ejemplo, el valor aproximado de $\\pi$."
      ]
    },
    {
      "cell_type": "code",
      "execution_count": null,
      "metadata": {
        "id": "wBn-j1RLDvyD"
      },
      "outputs": [],
      "source": [
        "print(pi)\n",
        "print(cos(pi)) # debería dar -1\n",
        "print(sin(pi)) # debería dar 0\n",
        "print(cos(pi/4)) # aproximadamente raíz de 2 sobre 2\n",
        "print(2**0.5/2) # raiz de 2 sobre 2\n",
        "print(acos(-1)) # pi. arcocoseno es la función acos() de Python math\n",
        "print(acos(0)) # pi/2\n",
        "print(pi/2)\n",
        "print(acos(1)) # 0.0"
      ]
    },
    {
      "cell_type": "markdown",
      "metadata": {
        "id": "XOfZENjeF4fy"
      },
      "source": [
        "Veamos ahora las funciones para convertir grados a radianes y radianes a grados. Son muy sencillas:"
      ]
    },
    {
      "cell_type": "code",
      "execution_count": null,
      "metadata": {
        "id": "s6Ti-LjYGBWJ"
      },
      "outputs": [],
      "source": [
        "def grad_a_rad(angulo_g):\n",
        "    return angulo_g * pi / 180\n",
        "\n",
        "def rad_a_grad(angulo_r):\n",
        "    return angulo_r * 180 / pi"
      ]
    },
    {
      "cell_type": "markdown",
      "metadata": {
        "id": "mziwFbUYGxnL"
      },
      "source": [
        "Recordemos que el `return` indica que la función devuelve un valor. En el caso  de la función  `grad_a_rad()` recibe el valor de un ángulo en radianes, lo convierte a grados y lo devuelve. Ese valor que devuelve puede ser asignado a una variable que luego podrá ser utilizada. Por ejemplo,"
      ]
    },
    {
      "cell_type": "code",
      "execution_count": null,
      "metadata": {
        "id": "TffyfHwjHXWD"
      },
      "outputs": [],
      "source": [
        "ang_1 = rad_a_grad(pi)\n",
        "ang_2 = rad_a_grad(pi/4)\n",
        "\n",
        "print(ang_1, ang_2)"
      ]
    },
    {
      "cell_type": "markdown",
      "metadata": {
        "id": "tWMkoP_0H-TK"
      },
      "source": [
        "Ya estamos en condiciones de definir  funciones que nos devuelvan los ángulos del triángulo. Podríamos definir tres funciones, pero será más sencillo hacer una función que devuelva tres valores. Los valores que devuelve son una traducción directa a Python de las fórmulas matemáticas (1), (2) y (3'),  "
      ]
    },
    {
      "cell_type": "code",
      "execution_count": null,
      "metadata": {
        "id": "zvhtvl8sIOXC"
      },
      "outputs": [],
      "source": [
        "def angulos_triangulo(a, b, c):\n",
        "    # pre: a, b, c números tq a + b > c, a + c > b, b + c > a\n",
        "    # post: devuelve los ángulos alfa, beta, gama del triángulo abc en radianes\n",
        "    alfa = acos((b**2 + c**2 - a**2) / (2*b*c))\n",
        "    beta = acos((a**2 + c**2 - b**2) / (2*a*c))\n",
        "    gama = pi - alfa - beta\n",
        "    return alfa, beta, gama"
      ]
    },
    {
      "cell_type": "markdown",
      "metadata": {
        "id": "7VwX6YzndCZP"
      },
      "source": [
        "Como ya fue dicho, cuando se ejecuta un `return` se detiene la ejecución de la función. En consecuencia, no puedo devolver 2 o más valores con varios `return` (el primero que se ejecuta \"para\" la función). La forma de devolver varios valores es poniéndolos a la derecha del `return` separados por comas."
      ]
    },
    {
      "cell_type": "markdown",
      "metadata": {
        "id": "rTyDDIoKdAM_"
      },
      "source": [
        "Por ejemplo ¿cuáles son los  ángulos de un triángulo  con lados  3, 5 y 8?"
      ]
    },
    {
      "cell_type": "code",
      "execution_count": null,
      "metadata": {
        "id": "ao5A63_ydW2s"
      },
      "outputs": [],
      "source": [
        "alfa, beta, gama = angulos_triangulo(4, 5, 8) # ángulos del triángulo abc en radianes\n",
        "print(alfa, beta, gama)\n",
        "print(rad_a_grad(alfa),rad_a_grad(beta),rad_a_grad(gama)) # en grado sexagesimales"
      ]
    },
    {
      "cell_type": "markdown",
      "metadata": {
        "id": "zRRHUzfdd0mh"
      },
      "source": [
        "En la línea 1 se recuperan en tres variables separadas por comas los tres valores que devuelve la función `angulos_triangulo()`.\n",
        "\n",
        "En la linea 2 se imprimen esto valores.\n",
        "\n",
        "Si nos interesa saber los valores en grados sexagesimales podemos hacer lo siguiente:"
      ]
    },
    {
      "cell_type": "code",
      "execution_count": null,
      "metadata": {
        "id": "tTZR6HNKeGXG"
      },
      "outputs": [],
      "source": [
        "alfa, beta, gama = rad_a_grad(alfa), rad_a_grad(beta), rad_a_grad(gama)\n",
        "print(alfa, beta, gama)"
      ]
    },
    {
      "cell_type": "markdown",
      "metadata": {
        "id": "FtSuTuUWeZTn"
      },
      "source": [
        "En la linea 1 le reasignamos los valores a las variables, incluso usando las misma variables.\n",
        "\n",
        "En  la linea 2 imprimimos los valores en grados sexagesimales en notación decimal (por ejemplo $10.5$ son $10° 30'$)."
      ]
    },
    {
      "cell_type": "markdown",
      "metadata": {
        "id": "9TsonUcBJuhl"
      },
      "source": [
        "Ahora podemos definir la función para dibujar un triángulo  de lados $a$, $b$, $c$:"
      ]
    },
    {
      "cell_type": "code",
      "execution_count": null,
      "metadata": {
        "id": "x6tYsmS8J9-H"
      },
      "outputs": [],
      "source": [
        "def dibujar_triangulo(a, b, c):\n",
        "    # pre: a, b, c números a, b, c > 0 tq a + b > c, a + c > b, b + c > a\n",
        "    # post: dibuja el triángulo abc\n",
        "    alfa, beta, gama = angulos_triangulo(a, b, c) # ángulos del triángulo abc en radianes\n",
        "    ang_a, ang_b, ang_c = rad_a_grad(alfa), rad_a_grad(beta), rad_a_grad(gama)\n",
        "    #  ángulos en grado sexagesimales\n",
        "    print('Ángulos del triángulo:',ang_a, ang_b,  ang_c)\n",
        "    forward(a)\n",
        "    right(180 - ang_c)\n",
        "    forward(b)\n",
        "    right(180 - ang_a)\n",
        "    forward(c)\n",
        "    right(180 - ang_b)\n",
        "\n"
      ]
    },
    {
      "cell_type": "markdown",
      "metadata": {
        "id": "kP2WyxIhLWh5"
      },
      "source": [
        "En la línea 4 se recuperan en tres variables separadas por comas los tres valores que devuelve la función `angulos_triangulo()`.\n",
        "\n",
        "En la línea 5 se hace una asignación simultanea de 3  variables.\n",
        "\n",
        "Observen que estamos usando funciones dentro de funciones y  el código lejos de ser \"código espagueti\" está modularizado.\n",
        "\n",
        "Algunas funciones no las hemos utilizado, pero no importa, el objetivo es que el código sea lo más claro posible y también se busca que sea reutilizable y generalizable.\n",
        "\n",
        "Probemos dibujar triángulos:"
      ]
    },
    {
      "cell_type": "code",
      "execution_count": null,
      "metadata": {
        "id": "p_5U6PTZeQ8v"
      },
      "outputs": [],
      "source": [
        "pizarra_vacia()\n",
        "dibujar_triangulo(150, 150, 150) # triángulo equilátero\n",
        "hideturtle()"
      ]
    },
    {
      "cell_type": "code",
      "execution_count": null,
      "metadata": {
        "id": "JuRfdUCtLZE5"
      },
      "outputs": [],
      "source": [
        "pizarra_vacia()\n",
        "dibujar_triangulo(300, 200, 200) # triángulo isosceles\n",
        "hideturtle()"
      ]
    },
    {
      "cell_type": "code",
      "execution_count": null,
      "metadata": {
        "id": "BjjVHzb0eD9r"
      },
      "outputs": [],
      "source": [
        "pizarra_vacia()\n",
        "dibujar_triangulo(230, 350, 150) # triángulo escaleno\n",
        "hideturtle()"
      ]
    },
    {
      "cell_type": "markdown",
      "metadata": {
        "id": "ERly-VYEfPh2"
      },
      "source": [
        "Por supuesto que podemos extender la función y dibujar triángulos en diferentes orientaciones, con diferentes colores, etc. Dejamos eso a ustedes por si quieren experimentar.  \n",
        "\n",
        "Otra forma de dibujar,  más lenta pero interesante, es avanzando de a 1 y usar iteraciones. Para eso también modularizamos y definimos nuestra propia versión de la función `forward()`, que llamaremos `avanzar()`, utilizando la instrucción `forward(1)`:"
      ]
    },
    {
      "cell_type": "code",
      "execution_count": null,
      "metadata": {
        "id": "qpX03t6fgp2S"
      },
      "outputs": [],
      "source": [
        "def avanzar(pixeles):\n",
        "    # pre: pixeles entero >= 0\n",
        "    # post: avanza pixeles en la dirección actual\n",
        "    for _ in range(pixeles):\n",
        "        forward(1)"
      ]
    },
    {
      "cell_type": "markdown",
      "metadata": {
        "id": "of2TzyAe2w_0"
      },
      "source": [
        "Luego podemos definir otra función que dibuja triángulos:"
      ]
    },
    {
      "cell_type": "code",
      "execution_count": null,
      "metadata": {
        "id": "jJNKN3bXhD3-"
      },
      "outputs": [],
      "source": [
        "def triangulo_lento(a, b, c):\n",
        "    # pre: a, b, c números tq a + b > c, a + c > b, b + c > a\n",
        "    # post: dibuja el triángulo abc\n",
        "    alfa, beta, gama = angulos_triangulo(a, b, c) # ángulos del triángulo abc en radianes\n",
        "    ang_a, ang_b, ang_c = rad_a_grad(alfa), rad_a_grad(beta), rad_a_grad(gama) #  ángulos en grado sexagesimales\n",
        "    print(ang_a, ang_b,  ang_c)\n",
        "    avanzar(a)\n",
        "    right(180 - ang_c)\n",
        "    avanzar(b)\n",
        "    right(180 - ang_a)\n",
        "    avanzar(c)\n",
        "    right(180 - ang_b)"
      ]
    },
    {
      "cell_type": "markdown",
      "metadata": {
        "id": "oY96ln8Phrr8"
      },
      "source": [
        "Probemosla:"
      ]
    },
    {
      "cell_type": "code",
      "execution_count": null,
      "metadata": {
        "id": "gz3f68mLhwk4"
      },
      "outputs": [],
      "source": [
        "pizarra_vacia(10) # la aceleramos un poco\n",
        "triangulo_lento(230, 350, 150) # triángulo escaleno\n",
        "hideturtle()"
      ]
    },
    {
      "cell_type": "markdown",
      "metadata": {
        "id": "FXniDFAIkMtE"
      },
      "source": [
        "La función `getheading()` devuelve el ángulo hacia donde apunta la tortuga, la función `goto()` envía la tortuga a las coordenada especificadas. las funciones `getx()`, `gety()` devuelven las coordenadas $x$ e $y$, respectivamente, de la posición de la tortuga. Utilizando estas funciones resolver el siguiente ejercicio.\n",
        "\n",
        "**Ejercicio.** Definir la función `avanzar()` sin usar `forward()` ni `forward(1)`, solo usando  `getheading()`, `goto()`, `getx()` y `gety()`.\n",
        "\n",
        "*Observación.* No es difícil, usando un poco de trigonometría, dibujar un segmento que parta de cierta posición y vaya en la dirección correcta. Primero deberías pensar en este problema.\n",
        "\n",
        "Un poco más complicado es darse cuenta de como dibujar el segmento con la longitud deseada.   "
      ]
    },
    {
      "cell_type": "code",
      "execution_count": null,
      "metadata": {
        "id": "AP1eiaA0iwgx"
      },
      "outputs": [],
      "source": [
        "def avanzar(pixeles):\n",
        "    # pre: pixeles entero >= 0\n",
        "    # post: avanza pixeles en la dirección actual\n",
        "    pass  # reemplazar `pass` (que no hace nada) por líneas de código\n",
        "\n",
        "pizarra_vacia(8) # la aceleramos un poco\n",
        "face(45)\n",
        "avanzar(100)\n",
        "hideturtle()\n"
      ]
    }
  ],
  "metadata": {
    "colab": {
      "collapsed_sections": [
        "sAZ7XTmL3KcV"
      ],
      "provenance": []
    },
    "kernelspec": {
      "display_name": "Python 3",
      "name": "python3"
    },
    "language_info": {
      "codemirror_mode": {
        "name": "ipython",
        "version": 3
      },
      "file_extension": ".py",
      "mimetype": "text/x-python",
      "name": "python",
      "nbconvert_exporter": "python",
      "pygments_lexer": "ipython3",
      "version": "3.10.4"
    }
  },
  "nbformat": 4,
  "nbformat_minor": 0
}
