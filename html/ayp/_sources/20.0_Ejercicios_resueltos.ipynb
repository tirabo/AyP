{
  "cells": [
    {
      "cell_type": "markdown",
      "metadata": {
        "id": "tJaE2QJfW_n8"
      },
      "source": [
        "# Ejercicios resueltos\n",
        "\n",
        "A continuación presentamos ejercicios resueltos para las diferentes clases del curso. "
      ]
    }
  ],
  "metadata": {
    "colab": {
      "provenance": []
    },
    "kernelspec": {
      "display_name": "Python 3",
      "name": "python3"
    },
    "language_info": {
      "codemirror_mode": {
        "name": "ipython",
        "version": 3
      },
      "file_extension": ".py",
      "mimetype": "text/x-python",
      "name": "python",
      "nbconvert_exporter": "python",
      "pygments_lexer": "ipython3",
      "version": "3.10.4"
    }
  },
  "nbformat": 4,
  "nbformat_minor": 0
}
