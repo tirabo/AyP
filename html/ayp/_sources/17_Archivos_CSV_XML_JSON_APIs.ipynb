{
  "cells": [
    {
      "cell_type": "markdown",
      "metadata": {
        "id": "O4cEbRnEIl8p"
      },
      "source": [
        "# Interacción con archivos CSV, XML y JSON\n",
        "\n",
        "Es común que cuando interactuamos y obtenemos datos de páginas o sitios de Internet estos datos se encuentren en formatos estructurados. Veremos a continuación, brevemente, como podemos obtener datos de archivos CSV, XML y JSON."
      ]
    },
    {
      "cell_type": "markdown",
      "metadata": {
        "id": "UckRYiOYDsCL"
      },
      "source": [
        "## 1. Archivos CSV\n",
        "\n",
        "La forma estructurada más sencilla de información es un archivo CSV,  que es similar a una hoja de una planilla de cálculo.\n",
        "\n",
        "Un archivo CSV (Comma Separated Values) es un tipo de archivo de texto que se utiliza comúnmente para almacenar datos tabulares. Los datos en un archivo CSV se organizan en filas y columnas, donde cada fila corresponde a un registro y cada columna corresponde a un campo en ese registro. Los campos en un archivo CSV se separan por un carácter delimitador, como una coma, un punto y coma o una tabulación.\n",
        "\n",
        "Cada registro en un archivo CSV se almacena en una nueva línea, y los valores de los campos pueden estar rodeados de comillas dobles si contienen el carácter delimitador. Por ejemplo, el siguiente es un ejemplo de un archivo CSV que contiene información sobre personas:\n",
        "\n",
        "    nombre,edad,ciudad\n",
        "    Juan,30,\"Quito, Centro\"\n",
        "    María,25,Medellín\n",
        "    Pedro,40,Lima\n",
        "\n",
        "En este ejemplo, la primera línea del archivo CSV contiene los nombres de los campos (`nombre`, `edad` y `ciudad`), mientras que las siguientes líneas contienen los datos de los registros.\n",
        "\n",
        "Los archivos CSV son una forma común de intercambiar datos entre diferentes programas o sistemas, ya que son un formato simple y legible por humanos. También se pueden abrir y editar fácilmente en programas de hojas de cálculo, como Microsoft Excel o Google Sheets.\n",
        "\n",
        "Por otro lado,  tiene la limitación de que la información se puede estructurar unicamente en filas y columnas.\n"
      ]
    },
    {
      "cell_type": "markdown",
      "metadata": {
        "id": "3ne8JSYyjoB6"
      },
      "source": [
        "Construyamos un ejemplo sencillo:"
      ]
    },
    {
      "cell_type": "code",
      "execution_count": 1,
      "metadata": {
        "id": "2vZCzMsGjr2J"
      },
      "outputs": [],
      "source": [
        "with open('archivo.csv', 'w') as csvfile:\n",
        "    csvfile.write('nombre, edad,ciudad\\n')\n",
        "    csvfile.write('\"Perez,Juan\", 30, Quito\\n')\n",
        "    csvfile.write('María, 25, Medellín\\n')\n",
        "    csvfile.write('Pedro, 40, Lima\\n')"
      ]
    },
    {
      "cell_type": "markdown",
      "metadata": {
        "id": "FKuaoouZEk8c"
      },
      "source": [
        "Para leer un archivo CSV en Python, puede utilizar el módulo `csv`. Este módulo proporciona una forma fácil de leer y escribir archivos CSV. A continuación, se muestra un ejemplo de cómo leer un archivo CSV y obtener los valores de los campos:\n",
        "\n",
        "Usaremos un archivo CSV  que recién hemos creado. \n",
        "\n",
        "Para leer este archivo, se puede usar el siguiente código en Python:"
      ]
    },
    {
      "cell_type": "code",
      "execution_count": 2,
      "metadata": {
        "id": "7T1px3ZRGIYY"
      },
      "outputs": [],
      "source": [
        "import csv\n",
        "\n",
        "# abre el archivo CSV en modo lectura\n",
        "with open('archivo.csv', newline='') as csvfile:\n",
        "    reader = csv.reader(csvfile, delimiter=',', quotechar='\"') # crea un objeto reader de CSV\n",
        "    valores = []\n",
        "    # iteramos sobre las filas del archivo CSV:\n",
        "    for fila in reader:\n",
        "        valores.append(fila)\n"
      ]
    },
    {
      "cell_type": "markdown",
      "metadata": {},
      "source": [
        "En este código, usamos  `with open()` para abrir el archivo CSV en modo lectura. A continuación, creamos un objeto lector de CSV usando la función `csv.reader()`. Este objeto lector toma el archivo CSV y los parámetros `delimiter` y `quotechar`, que indican el carácter delimitador y el carácter de comillas, respectivamente. En este ejemplo, estamos usando comas como delimitadores y comillas dobles como caracteres de comillas.\n",
        "\n",
        "Luego, iteramos sobre las filas del archivo CSV utilizando un ciclo `for`. Guardamos las filas del archivo CSV  en la lista `valores` .\n",
        "\n",
        "Imprimamos su contenido:"
      ]
    },
    {
      "cell_type": "code",
      "execution_count": null,
      "metadata": {
        "colab": {
          "base_uri": "https://localhost:8080/"
        },
        "id": "xZ561XaCXsbM",
        "outputId": "03846925-9048-40be-8165-712aa56f962a"
      },
      "outputs": [],
      "source": [
        "\n",
        "for i in range(min(10, len(valores))):\n",
        "    fila = valores[i]\n",
        "    print(fila[0], fila[1], fila[2])"
      ]
    },
    {
      "cell_type": "markdown",
      "metadata": {
        "id": "dHD-xHQkFk7t"
      },
      "source": [
        "En resumen, para leer un archivo CSV en Python, puede usar el módulo `csv` y la función `csv.reader()`. Para obtener los valores de los campos, simplemente iteramos sobre el objeto `reader`.\n",
        "\n",
        "También podríamos haber hecho `valores = list(reader)` e iteramos sobre la lista."
      ]
    },
    {
      "cell_type": "markdown",
      "metadata": {
        "id": "M-ZrLUs4rNWk"
      },
      "source": [
        "Finalmente,  como la primera fila son los id de los campos, no son valores que nos interesan. Una forma eficiente de leer solo los valores es la siguiente:"
      ]
    },
    {
      "cell_type": "code",
      "execution_count": 6,
      "metadata": {
        "id": "SHVP0bTTre0F"
      },
      "outputs": [],
      "source": [
        "with open('archivo.csv', newline='') as csvfile:\n",
        "    reader = csv.reader(csvfile, delimiter=',', quotechar='\"') # crea un objeto reader de CSV\n",
        "    next(reader) # salta la primera fila\n",
        "    valores = []\n",
        "    for fila in reader:\n",
        "        valores.append(fila)"
      ]
    },
    {
      "cell_type": "markdown",
      "metadata": {},
      "source": [
        "E imprimimos su contenido:"
      ]
    },
    {
      "cell_type": "code",
      "execution_count": null,
      "metadata": {},
      "outputs": [],
      "source": [
        "print(valores)"
      ]
    },
    {
      "cell_type": "markdown",
      "metadata": {
        "id": "1UiG9ZcuIl9A"
      },
      "source": [
        "## 2. Lectura y escritura de archivos JSON\n",
        "\n",
        "JSON, cuyo nombre corresponde a las siglas *JavaScript Object Notation* o *Notación de Objetos de JavaScript*, es un formato ligero de intercambio de datos, que resulta sencillo de leer y escribir para los programadores y simple de interpretar y generar para las máquinas.\n",
        "\n",
        "JSON es un formato de texto completamente independiente de lenguaje y puede ser interpretado y creado por los siguientes lenguajes:\n",
        "\n",
        "- C\n",
        "- C++\n",
        "- C#\n",
        "- Java\n",
        "- JavaScript\n",
        "- Perl\n",
        "- Python\n",
        "- etc.\n",
        "\n",
        "Muchos lenguajes de programación proporcionan métodos para analizar una cadena de texto con este formato en un objeto nativo y viceversa.\n",
        "\n",
        "Pese a su nombre, no es necesariamente parte de JavaScript, de hecho, es un estándar basado en texto plano para el intercambio de datos, por lo que se usa en muchos sistemas que requieren mostrar o enviar información para ser interpretada por otros sistemas.\n",
        "\n",
        "Una de las características de JSON, al ser un formato que es independiente de cualquier lenguaje de programación, es que los servicios que comparten información por este método no necesitan hablar el mismo idioma, es decir, el emisor puede ser Java y el receptor Python, pues cada uno tiene su propia librería para codificar y decodificar cadenas en este formato.\n",
        "\n"
      ]
    },
    {
      "cell_type": "markdown",
      "metadata": {},
      "source": [
        "La estructura de los documentos JSON se basa en dos estructuras de datos fundamentales:\n",
        "\n",
        "**Objetos.** Son conjuntos no ordenados de pares clave-valor, donde las claves son cadenas de texto y los valores pueden ser de cualquier tipo de dato válido en JSON.\n",
        "\n",
        "Ejemplo de un objeto JSON:\n",
        "\n",
        "```\n",
        "{\n",
        "    \"nombre\": \"Pepito Conejo\",\n",
        "    \"edad\": 25,\n",
        "    \"carnet_de_conducir\": true\n",
        "}\n",
        "```\n",
        "\n",
        "**Matrices.** Son listas ordenadas de valores que pueden ser de cualquier tipo de dato.\n",
        "\n",
        "Ejemplo de una matriz JSON:\n",
        "\n",
        "```\n",
        "[1, \"pepe\", 3.14, \"Pepito Conejo\"]\n",
        "```\n",
        "\n",
        "Dentro de una matriz puede haber datos, objetos JSON o matrices. \n",
        "\n",
        "Como habrán notado, lo notable de JSON  es que los archivos de texto en formato JSON son muy parecidos a los diccionarios y listas de Python,  con una sintaxis idéntica."
      ]
    },
    {
      "cell_type": "markdown",
      "metadata": {
        "id": "lFjbOX9dhqWt"
      },
      "source": [
        "Ahora veremos como convertir objetos de Ptyhon que son combinación de diccionarios y listas a un cadena que puede ser guardada como archivo JSON. \n",
        "\n",
        "Primero creemos el objeto: será una lista de diccionarios,  cada diccionario tendrá un `id` como clave cuyo valor será un número entero, los haremos consecutivos, y tres claves más `min`, `max`, `prom`, donde `min` es un número aleatorio del  $0$ al $1000$, `max` es un número aleatorio del $1001$ al $2000$ y `prom` es el promedio de `min` y `max`.\n",
        "\n"
      ]
    },
    {
      "cell_type": "code",
      "execution_count": null,
      "metadata": {},
      "outputs": [],
      "source": [
        "from random import randint\n",
        "lista = []\n",
        "for i in range(10):\n",
        "    mini_, maxi_ = randint(0, 1000), randint(1001, 2000)\n",
        "    lista.append({'id': i, 'min': mini_, 'max': maxi_, 'prom': (mini_ + maxi_) / 2})\n",
        "\n",
        "print(lista)\n"
      ]
    },
    {
      "cell_type": "markdown",
      "metadata": {},
      "source": [
        "Ahora transformemos el objeto lista a una cadena JSON. Para ellos utilizamos `json.dumps()` que transforma un diccionario o lista en una cadena con  estructura JSON. "
      ]
    },
    {
      "cell_type": "code",
      "execution_count": null,
      "metadata": {},
      "outputs": [],
      "source": [
        "import  json\n",
        "\n",
        "json_ = json.dumps(lista) # transforma a JSON (es una str)\n",
        "\n",
        "with open('archivo.json', 'w') as f:\n",
        "    f.write(json_) # guarda el JSON en el archivo\n",
        "\n",
        "print(json_)"
      ]
    },
    {
      "cell_type": "markdown",
      "metadata": {},
      "source": [
        "La  variable  `json_` es de tipo `str` y cuando la imprimimos queda muy parecida a `print(lista)`, pero que quede claro  que `lista`, una lista, es un objeto muy diferente a  `json_`, una cadena."
      ]
    },
    {
      "cell_type": "markdown",
      "metadata": {},
      "source": [
        "Ahora recuperemos el archivo que contiene JSON con las estructuras correspondientes (listas, diccionarios). Para hacer esto  utilizaremos `json.loads()` que transforma una cadena JSON en listas y diccionarios. "
      ]
    },
    {
      "cell_type": "code",
      "execution_count": null,
      "metadata": {
        "colab": {
          "base_uri": "https://localhost:8080/"
        },
        "id": "wIUb-MzXIl9B",
        "outputId": "c4fbef37-b992-4b04-edbb-ca7a1d49ecfc"
      },
      "outputs": [],
      "source": [
        "with open('archivo.json', 'r') as f:\n",
        "    data = f.read() # data es una str\n",
        "\n",
        "archivo = json.loads(data) # el archivo es (en este caso) una lista de diccionarios\n",
        "print('Tipo del archivo:', type(archivo))\n",
        "print('Tipo del primer elemento del archivo:',type(archivo[0]))\n",
        "\n",
        "print('\\nImprimimos todo el archivo:')\n",
        "print(archivo)\n",
        "\n",
        "print('\\nImprimimos alguna información del archivo:')\n",
        "for item in archivo:\n",
        "    print(item['prom'])"
      ]
    },
    {
      "cell_type": "markdown",
      "metadata": {
        "id": "_bU2MV2eIl9B"
      },
      "source": [
        "Veamos otro ejemplo de  `json.dumps()`:"
      ]
    },
    {
      "cell_type": "code",
      "execution_count": 4,
      "metadata": {
        "colab": {
          "base_uri": "https://localhost:8080/"
        },
        "id": "kK5D4Fow3yEo",
        "outputId": "24d575f4-1b5d-4c14-ef6b-03c3c673fc46"
      },
      "outputs": [
        {
          "name": "stdout",
          "output_type": "stream",
          "text": [
            "cadena: <class 'str'> {'a': {2: 0}, 'b': {1: 5}}\n",
            "Un diccionario:\t\t\t <class 'dict'> {'a': {2: 0}, 'b': {1: 5}}\n",
            "Un JSON:\t\t\t <class 'str'> {\"a\": {\"2\": 0}, \"b\": {\"1\": 5}}\n",
            "De nuevo un diccionario:\t <class 'dict'> {'a': {'2': 0}, 'b': {'1': 5}}\n"
          ]
        }
      ],
      "source": [
        "import json\n",
        "u = {'a': {2 : 0 }, 'b': {1 : 5 }} # u es un diccionario\n",
        "cadena = str(u)\n",
        "print('cadena:', type(cadena),cadena)\n",
        "# dic = json.loads(cadena) # no  funciona\n",
        "print ('Un diccionario:\\t\\t\\t',type(u), u)\n",
        "x = json.dumps(u) # transforma a JSON (es una str)\n",
        "print('Un JSON:\\t\\t\\t', type(x), x)\n",
        "y = json.loads(x)\n",
        "print('De nuevo un diccionario:\\t',type(y), y)"
      ]
    },
    {
      "cell_type": "markdown",
      "metadata": {
        "id": "_WuMNEtuLYfu"
      },
      "source": [
        "Observar que el diccionario original cambia las claves numérica de *TODOS* los diccionarios a tipo `str`, incluso los diccionarios que son valores de otro diccionario.\n",
        "\n",
        "Los valores numéricos se mantienen numéricos. Si un valor es un lista,  se mantiene lista."
      ]
    },
    {
      "cell_type": "markdown",
      "metadata": {
        "id": "Jli-TtyZ3zPw"
      },
      "source": [
        "**Ejemplo.** Crearemos una lista de diccionarios y queremos escribir uno por línea en un archivo, para que luego sea leido usando `json.loads()`.\n",
        "\n",
        "En  la celda de código siguiente implementamos un ejemplo: creamos una lista con 100 diccionarios tipo\n",
        "\n",
        "\n",
        "`{'x' : entero al azar, 'y' : entero al azar, nº de orden en la lista : [entero al azar, entero al azar] }` \n",
        "\n",
        "y los guardaremos en el archivo `prueba.txt`, uno en cada linea utilizando `json.dumps()`."
      ]
    },
    {
      "cell_type": "code",
      "execution_count": null,
      "metadata": {
        "id": "kYbT-pj5xCwC"
      },
      "outputs": [],
      "source": [
        "import json\n",
        "import random\n",
        "\n",
        "\n",
        "\n",
        "lista_dic = []\n",
        "for i in range(100):\n",
        "  x, y, w0, w1 = random.randint(1, 1000), random.randint(1, 1000), random.randint(1, 1000), random.randint(1, 1000)\n",
        "  lista_dic.append({ 'x' : x, 'y' : y, i : [w0 , w1]})\n",
        "\n",
        "# Guardamos en el archivo prueba.txt, línea por línea el diccionario.\n",
        "\n",
        "with open('prueba.txt', 'w') as f:\n",
        "    for i in range(len(lista_dic)):\n",
        "        f.write(json.dumps(lista_dic[i])+'\\n') # \\n pasa de renglón\n",
        "\n",
        "# Revisar el archivo prueba.txt"
      ]
    },
    {
      "cell_type": "markdown",
      "metadata": {},
      "source": [
        "Para leer debemos hacerlo también linea por linea, pues el archivo no tiene la estructura lógica de un diccionario o lista (debería abrir con `{` o `[` y cerrar con `}` o  `]`,  respectivamente). Haremos una lista de diccionarios a partir de `prueba.txt`."
      ]
    },
    {
      "cell_type": "code",
      "execution_count": null,
      "metadata": {
        "id": "O_k_1cpJxBSo"
      },
      "outputs": [],
      "source": [
        "lista_dic2 = []\n",
        "with open('prueba.txt', 'r') as f:\n",
        "    for linea in f:\n",
        "        lista_dic2.append(json.loads(linea))\n",
        "\n",
        "print(lista_dic2)\n",
        "\n",
        "print(type(lista_dic2[3]), lista_dic2[3]) # comprobamos que cada coordenada\n",
        "# es un diccionario\n",
        "\n",
        "# Importante:  las claves numéricas pasaron a str. Los valores matienen su tipo (int, list, etc)\n",
        "print(lista_dic[3][3])\n",
        "print(lista_dic2[3]['3']) # No estaría bien  print(lista_dic2[3][3])"
      ]
    },
    {
      "cell_type": "markdown",
      "metadata": {
        "id": "iEYYnfh_UMud"
      },
      "source": [
        "*Ejemplos de cosas que  **NO** funcionan.*\n"
      ]
    },
    {
      "cell_type": "code",
      "execution_count": null,
      "metadata": {
        "id": "_CkqukDhUaqC"
      },
      "outputs": [],
      "source": [
        "import json\n",
        "# Si hacemos json.dumps()  de una string, Python lo hace, pero no es el resultado que esperamos.\n",
        "x = json.dumps(\"{'a': {2 : 0 }, 'b': {1 : 5 }}\")\n",
        "print(type(x), x)\n",
        "y = json.loads(x)\n",
        "print(type(y), y) # json.loads() en este caso devuelve una string!\n",
        "# y es una string que \"parece\" un diccionario. Pero no lo es.\n",
        "# z = json.loads(y) #  esto directamente da error\n"
      ]
    },
    {
      "cell_type": "markdown",
      "metadata": {
        "id": "NZOXLKbUV_d-"
      },
      "source": [
        "**Recomendación:** Usar `json.loads()` y `json.dumps()` de forma prolija y de acuerdo a los lineamientos escritos más arriba. Quizás haciendo aguna  \"magia\" con los `replace()` se pueda arreglar la celda de código anterior, pero es mejor no hacerlo."
      ]
    },
    {
      "cell_type": "markdown",
      "metadata": {
        "id": "th0uqz31ksd5"
      },
      "source": [
        "## 3. Lectura de archivos JSON en internet\n",
        "\n",
        "\n",
        "Para leer un archivo JSON desde internet utilizando el módulo `requests` en Python, se puede hacer lo siguiente:\n",
        "\n",
        "    import requests\n",
        "\n",
        "Hcemos una solicitud HTTP GET al servidor que contiene el archivo JSON utilizando la función `get()` de `requests`. La respuesta de la solicitud será un objeto `Response` que contiene la información de la respuesta del servidor.\n",
        "\n",
        "    response = requests.get(url)\n",
        "\n",
        "Donde `url` es la dirección URL del archivo JSON que deseamos leer.\n",
        "\n",
        "Verificamos que la solicitud se haya realizado correctamente en base al código de estado de la respuesta. Si el código de estado es `200`, significa que la solicitud se realizó correctamente.\n",
        "\n",
        "Si la solicitud se realizó correctamente, puedes acceder al contenido del archivo JSON utilizando el método `json()` del objeto `Response`. Este método decodifica el contenido JSON y devuelve un objeto Python que representa los datos del archivo JSON.\n",
        "\n",
        "    if response.status_code == 200:\n",
        "        # El archivo JSON fue encontrado y cargado correctamente\n",
        "        data = response.json()\n",
        "    else:\n",
        "        print('Hubo un problema al cargar el archivo JSON')\n",
        "\n",
        "El objeto data ahora contiene los datos del archivo JSON, los cuales podemos utilizar en tu programa como cualquier otro objeto Python."
      ]
    },
    {
      "cell_type": "markdown",
      "metadata": {
        "id": "zZKCZEJD4LKE"
      },
      "source": [
        "**Ejemplo.** Leeremos un archivo de internet con los siguientes datos:  \n",
        "\n",
        "    {\"catalog\":\n",
        "        {\"book\":\n",
        "        [\n",
        "            {\"@id\": \"bk101\",\n",
        "                \"author\": [\"Gambardella, Matthew\"],\n",
        "                \"title\": \"XML Developer's Guide\",\n",
        "                \"genre\": \"Computer\",\n",
        "                \"price\": \"44.95\",\n",
        "                \"publish_date\": \"2000-10-01\",\n",
        "                \"description\": \"An in-depth look at creating applications with XML.\"},\n",
        "            {\"@id\": \"bk102\",\n",
        "                \"author\": [\"Ralls, Kim\", \"Gambardella, Matthew\"],\n",
        "                \"title\": \"Midnight Rain\",\n",
        "                \"genre\": \"Fantasy\",\n",
        "                \"price\": \"5.95\",\n",
        "                \"publish_date\": \"2000-12-16\",\n",
        "                \"description\": \"A former architect battles ...\"},\n",
        "            ...\n",
        "            ...\n",
        "        ]\n",
        "        }\n",
        "    }\n",
        "\n",
        "El archivo completo se encuentra en\n",
        "\n",
        "    https://raw.githubusercontent.com/tirabo/Algoritmos-y-Programacion/main/2023/archivos/books.json\n",
        "\n",
        "Leamos el archivo:"
      ]
    },
    {
      "cell_type": "code",
      "execution_count": 5,
      "metadata": {
        "id": "WbroI5v_4nyi"
      },
      "outputs": [
        {
          "name": "stdout",
          "output_type": "stream",
          "text": [
            "200\n"
          ]
        }
      ],
      "source": [
        "import requests\n",
        "\n",
        "url = 'https://raw.githubusercontent.com/tirabo/Algoritmos-y-Programacion/main/2023/archivos/books.json'\n",
        "response = requests.get(url)\n",
        "\n",
        "if response.status_code == 200:\n",
        "    # El archivo JSON fue encontrado y cargado correctamente\n",
        "    data = response.json()\n",
        "else:\n",
        "    print('Hubo un problema al cargar el archivo JSON')\n",
        "print(response.status_code)"
      ]
    },
    {
      "cell_type": "markdown",
      "metadata": {
        "id": "z6nbydq9482o"
      },
      "source": [
        "Imprimamos su contenido:"
      ]
    },
    {
      "cell_type": "code",
      "execution_count": 6,
      "metadata": {
        "id": "-b-yzKC05Bzy"
      },
      "outputs": [
        {
          "name": "stdout",
          "output_type": "stream",
          "text": [
            "<class 'dict'>\n",
            "{'catalog': {'book': [{'@id': 'bk101', 'author': ['Gambardella, Matthew'], 'title': \"XML Developer's Guide\", 'genre': 'Computer', 'price': '44.95', 'publish_date': '2000-10-01', 'description': 'An in-depth look at creating applications with XML.'}, {'@id': 'bk102', 'author': ['Ralls, Kim', 'Gambardella, Matthew'], 'title': 'Midnight Rain', 'genre': 'Fantasy', 'price': '5.95', 'publish_date': '2000-12-16', 'description': 'A former architect battles corporate zombies, an evil sorceress, and her own childhood to become queen of the world.'}, {'@id': 'bk103', 'author': ['Corets, Eva'], 'title': 'Maeve Ascendant', 'genre': 'Fantasy', 'price': '5.95', 'publish_date': '2000-11-17', 'description': 'After the collapse of a nanotechnology society in England, the young survivors lay the foundation for a new society.'}, {'@id': 'bk104', 'author': ['Corets, Eva'], 'title': \"Oberon's Legacy\", 'genre': 'Fantasy', 'price': '5.95', 'publish_date': '2001-03-10', 'description': 'In post-apocalypse England, the mysterious agent known only as Oberon helps to create a new life for the inhabitants of London. Sequel to Maeve Ascendant.'}, {'@id': 'bk105', 'author': ['Corets, Eva'], 'title': 'The Sundered Grail', 'genre': 'Fantasy', 'price': '5.95', 'publish_date': '2001-09-10', 'description': \"The two daughters of Maeve, half-sisters, battle one another for control of England. Sequel to Oberon's Legacy.\"}, {'@id': 'bk106', 'author': ['Randall, Cynthia'], 'title': 'Lover Birds', 'genre': 'Romance', 'price': '4.95', 'publish_date': '2000-09-02', 'description': 'When Carla meets Paul at an ornithology conference, tempers fly as feathers get ruffled.'}, {'@id': 'bk107', 'author': ['Thurman, Paula'], 'title': 'Splish Splash', 'genre': 'Romance', 'price': '4.95', 'publish_date': '2000-11-02', 'description': 'A deep sea diver finds true love twenty thousand leagues beneath the sea.'}, {'@id': 'bk108', 'author': ['Knorr, Stefan'], 'title': 'Creepy Crawlies', 'genre': 'Horror', 'price': '4.95', 'publish_date': '2000-12-06', 'description': 'An anthology of horror stories about roaches, centipedes, scorpions  and other insects.'}, {'@id': 'bk109', 'author': ['Kress, Peter'], 'title': 'Paradox Lost', 'genre': 'Science Fiction', 'price': '6.95', 'publish_date': '2000-11-02', 'description': 'After an inadvertant trip through a Heisenberg Uncertainty Device, James Salway discovers the problems of being quantum.'}, {'@id': 'bk110', 'author': [\"O'Brien, Tim\"], 'title': 'Microsoft .NET: The Programming Bible', 'genre': 'Computer', 'price': '36.95', 'publish_date': '2000-12-09', 'description': \"Microsoft's .NET initiative is explored in detail in this deep programmer's reference.\"}, {'@id': 'bk111', 'author': [\"O'Brien, Tim\"], 'title': 'MSXML3: A Comprehensive Guide', 'genre': 'Computer', 'price': '36.95', 'publish_date': '2000-12-01', 'description': 'The Microsoft MSXML3 parser is covered in detail, with attention to XML DOM interfaces, XSLT processing, SAX and more.'}, {'@id': 'bk112', 'author': ['Galos, Mike'], 'title': 'Visual Studio 7: A Comprehensive Guide', 'genre': 'Computer', 'price': '49.95', 'publish_date': '2001-04-16', 'description': 'Microsoft Visual Studio 7 is explored in depth, looking at how Visual Basic, Visual C++, C#, and ASP+ are integrated into a comprehensive development environment.'}]}}\n"
          ]
        }
      ],
      "source": [
        "print(type(data))\n",
        "print(data)"
      ]
    },
    {
      "cell_type": "markdown",
      "metadata": {
        "id": "UbyCi_zl5PxB"
      },
      "source": [
        "Luego si deseamos obtener metadatos del primer libro podemos hacer:"
      ]
    },
    {
      "cell_type": "code",
      "execution_count": 7,
      "metadata": {
        "id": "cVu2U0rj5WAV"
      },
      "outputs": [
        {
          "data": {
            "text/plain": [
              "{'@id': 'bk101',\n",
              " 'author': ['Gambardella, Matthew'],\n",
              " 'title': \"XML Developer's Guide\",\n",
              " 'genre': 'Computer',\n",
              " 'price': '44.95',\n",
              " 'publish_date': '2000-10-01',\n",
              " 'description': 'An in-depth look at creating applications with XML.'}"
            ]
          },
          "execution_count": 7,
          "metadata": {},
          "output_type": "execute_result"
        }
      ],
      "source": [
        "data['catalog']['book'][0]"
      ]
    },
    {
      "cell_type": "markdown",
      "metadata": {
        "id": "dVKsgW405qcz"
      },
      "source": [
        "Si deseamos imprimir los títulos de todos los libros podemos hacer:"
      ]
    },
    {
      "cell_type": "code",
      "execution_count": null,
      "metadata": {
        "id": "KwhdTfnp5w8q"
      },
      "outputs": [],
      "source": [
        "for libro in data['catalog']['book']:\n",
        "    print(libro['title'])"
      ]
    },
    {
      "cell_type": "markdown",
      "metadata": {
        "id": "dBj7xJd9NmGI"
      },
      "source": [
        "## 4. Lectura y escritura de archivos XML\n",
        "\n",
        "Un archivo XML (Extensible Markup Language) es un tipo de archivo de texto que se utiliza para almacenar y transportar datos de manera estructurada. Un archivo XML está compuesto por una serie de etiquetas que definen elementos y atributos que describen la estructura y los datos contenidos en el archivo.\n",
        "\n",
        "Cada elemento en un archivo XML está compuesto por una etiqueta de apertura y una etiqueta de cierre, y puede contener elementos anidados y atributos. Por ejemplo, el siguiente es un ejemplo simple de un archivo XML que contiene información sobre una persona:\n",
        "\n",
        "    <persona>\n",
        "    <nombre>Juan</nombre>\n",
        "    <edad>30</edad>\n",
        "    <ciudad>Córdoba</ciudad>\n",
        "    </persona>\n",
        "\n",
        "En este ejemplo, el elemento `persona` es el elemento raíz del archivo XML, y contiene tres elementos anidados: `nombre`, `edad` y `ciudad`. Cada uno de estos elementos tiene un valor asociado, que se encuentra entre las etiquetas de apertura y cierre.\n",
        "\n",
        "Los archivos XML se utilizan comúnmente para intercambiar datos entre diferentes sistemas o aplicaciones, ya que proporcionan una forma estructurada y legible por máquinas para representar la información. También se pueden utilizar para definir y describir documentos y aplicaciones complejas, como documentos de ayuda en línea, aplicaciones web y formatos de archivo personalizados.\n",
        "\n",
        "Esta estructura se puede implmentar en JSON también:\n",
        "\n",
        "\n",
        "    {'persona':  [{'nombre': 'Juan'}, {'edad': '30'}, {'ciudad': 'Córdoba'}]\n",
        "\n",
        "Obviamente hay otras formas de hacerlo.\n"
      ]
    },
    {
      "cell_type": "markdown",
      "metadata": {
        "id": "_fhteHL6VFL-"
      },
      "source": [
        "### 4.1. Elementos y atributos\n",
        "En XML, los *elementos* son las partes principales de un documento XML y representan los distintos elementos de información que se están describiendo en el documento. Los elementos tienen un nombre que los identifica y pueden contener *otros elementos*, *atributos* o *texto*.\n",
        "\n",
        "Por ejemplo, en el siguiente fragmento de código XML, `<trkpt>` y `<ele>` son elementos:\n",
        "\n",
        "    <trkpt lat=\"-30.9424310\" lon=\"-64.2770290\">\n",
        "        <ele>740.7</ele>\n",
        "    </trkpt>\n",
        "\n",
        "Los *atributos*, por otro lado, proporcionan información adicional sobre los elementos y se utilizan para describir características específicas del elemento. Los atributos se incluyen dentro de la etiqueta del elemento y tienen un nombre y un valor.\n",
        "\n",
        "En el ejemplo anterior, `lat` y `lon` son atributos del elemento `<trkpt>`. El valor de los atributos se especifica entre comillas dobles después del nombre del atributo, separado por un signo igual.\n",
        "\n",
        "Los elementos y atributos en XML se utilizan para estructurar y describir los datos de forma clara y organizada. Los elementos proporcionan la estructura general del documento XML y los atributos permiten proporcionar información adicional sobre los elementos."
      ]
    },
    {
      "cell_type": "markdown",
      "metadata": {
        "id": "GrNvfT07UgvE"
      },
      "source": [
        "### 4.2. xml.dom\n",
        "\n",
        "La biblioteca `xml.dom` de Python es una biblioteca estándar que proporciona una forma de analizar y manipular documentos XML mediante el modelo de objetos del documento (DOM, por sus siglas en inglés). El modelo DOM representa el documento XML como un árbol de nodos, donde cada nodo representa un elemento, atributo, texto u otro tipo de contenido en el documento.\n",
        "\n",
        "Para obtener elementos y atributos de un documento XML utilizando la biblioteca xml.dom, puedes seguir estos pasos:\n",
        "\n",
        "Importar la biblioteca y abrir el archivo XML:\n",
        "\n",
        "    import xml.dom.minidom\n",
        "    # Abrir archivo XML\n",
        "    doc = xml.dom.minidom.parse(\"archivo.xml\")\n",
        "\n",
        "\n",
        "Si los datos vienen dados por una cadena, en vez de un archivo,  cambia un poco el código:\n",
        "\n",
        "    import xml.dom.minidom\n",
        "    # Abrir cadena XML\n",
        "    doc = xml.dom.minidom.parseString(xml_string)\n",
        "\n",
        "Obtener los elementos del documento mediante el método `getElementsByTagName`:\n",
        "\n",
        "    # Obtener elementos\n",
        "    elementos = doc.getElementsByTagName(\"nombre_del_elemento\")\n",
        "Obtener los atributos de un elemento mediante el método `getAttribute`:\n",
        "\n",
        "    # Obtener atributo\n",
        "    valor_atributo = elementos[0].getAttribute(\"nombre_del_atributo\")\n",
        "Obtener el contenido de un elemento mediante el método `firstChild.nodeValue`:\n",
        "\n",
        "    # Obtener contenido\n",
        "    contenido = elementos[0].firstChild.nodeValue\n",
        "En el ejemplo anterior, se utiliza `xml.dom.minidom` para parsear el archivo XML y convertirlo en un objeto `Document`. Luego, se utiliza el método `getElementsByTagName` para obtener todos los elementos del documento con un nombre de etiqueta específico. Una vez que se tienen los elementos, se pueden obtener sus atributos utilizando el método `getAttribute` y su contenido utilizando la propiedad `firstChild.nodeValue`.\n",
        "\n",
        "Es importante tener en cuenta que el método `getElementsByTagName` devuelve una lista de elementos, incluso si solo hay un elemento con el nombre de etiqueta especificado en el documento. Por lo tanto, en el ejemplo anterior se utiliza `elementos[0]` para acceder al primer elemento de la lista. Si se espera que solo haya un elemento con el nombre de etiqueta especificado en el documento, se puede utilizar `getElementsByTagName(nombre_del_elemento)[0]` para obtener directamente ese elemento."
      ]
    },
    {
      "cell_type": "markdown",
      "metadata": {
        "id": "Y3rY6K00SRmc"
      },
      "source": [
        "### 4.3. Ejemplo\n",
        "Veamos ahora un archivo XML de internet,  con una estructura no demasiado complicada pero con más registros. El archivo que vamos a leer es `books.xml` y su estrucura es:\n",
        "\n",
        "    <?xml version=\"1.0\"?>\n",
        "    <catalog>\n",
        "    <book id=\"bk101\">\n",
        "        <author>Gambardella, Matthew</author>\n",
        "        <title>XML Developer's Guide</title>\n",
        "        <genre>Computer</genre>\n",
        "        <price>44.95</price>\n",
        "        <publish_date>2000-10-01</publish_date>\n",
        "        <description>An in-depth look at creating applications\n",
        "        with XML.</description>\n",
        "    </book>\n",
        "    <book id=\"bk102\">\n",
        "        <author>Ralls, Kim</author>\n",
        "        <author>Gambardella, Matthew</author>\n",
        "        <title>Midnight Rain</title>\n",
        "        <genre>Fantasy</genre>\n",
        "        <price>5.95</price>\n",
        "        <publish_date>2000-12-16</publish_date>\n",
        "        <description>A former architect battles corporate zombies,\n",
        "        an evil sorceress, and her own childhood to become queen\n",
        "        of the world.</description>\n",
        "    </book>\n",
        "        ...\n",
        "        ...\n",
        "    </catalog>\n",
        "\n",
        "Es decir, es un catálogo de libros y  cada libro contiene información sobre el título,  su autor o autores,  etc. Observar que este archivo no puede ser representado en formato CSV, pues el elemento `author`se puede repetir un número indeterminado de veces.\n",
        "\n",
        "La ubicación del archivo es\n",
        "\n",
        "    https://raw.githubusercontent.com/tirabo/Algoritmos-y-Programacion/main/2023/archivos/books.xml"
      ]
    },
    {
      "cell_type": "code",
      "execution_count": 8,
      "metadata": {
        "id": "wKwxox4cQ611"
      },
      "outputs": [
        {
          "data": {
            "text/plain": [
              "200"
            ]
          },
          "execution_count": 8,
          "metadata": {},
          "output_type": "execute_result"
        }
      ],
      "source": [
        "import requests\n",
        "\n",
        "respuesta = requests.get('https://raw.githubusercontent.com/tirabo/Algoritmos-y-Programacion/main/2023/archivos/books.xml')\n",
        "xml_string = respuesta.content\n",
        "respuesta.status_code"
      ]
    },
    {
      "cell_type": "markdown",
      "metadata": {
        "id": "hw5eZuVtYCcf"
      },
      "source": [
        "`200` nos indica que el archivo ha sido leido sin inconvenientes.\n",
        "\n",
        "Ahora procederemos a \"parsear\"  el archivo (que es un XML), usando las instrucciones que vimos más arriba:"
      ]
    },
    {
      "cell_type": "code",
      "execution_count": 10,
      "metadata": {
        "id": "CDAA8vqmYZVK"
      },
      "outputs": [
        {
          "name": "stdout",
          "output_type": "stream",
          "text": [
            "tipo  de dom: <class 'xml.dom.minidom.Document'>\n",
            "El  primer elemento book: <DOM Element: book at 0x222f0b5b6d0>\n",
            "El  segundo elemento book: <DOM Element: book at 0x222f0ed68c0>\n",
            "Atributo 'id' del primer elemento 'book': bk101\n",
            "Atributo 'id' del segundo elemento 'book': bk102\n",
            "<class 'str'> : \n",
            "      \n",
            "El primer autor del primer libro es: <class 'str'> : Gambardella, Matthew\n"
          ]
        }
      ],
      "source": [
        "import xml.dom.minidom\n",
        "# Abrir cadena XML\n",
        "dom = xml.dom.minidom.parseString(xml_string) # cuando viene dado por una cadena\n",
        "print('tipo  de dom:', type(dom))\n",
        "# Obtener elementos\n",
        "elementos = dom.getElementsByTagName(\"book\")\n",
        "print('El  primer elemento book:',elementos[0])\n",
        "print('El  segundo elemento book:',elementos[1])\n",
        "# Obtener atributo\n",
        "valor_atributo = elementos[0].getAttribute(\"id\")\n",
        "print('Atributo \\'id\\' del primer elemento \\'book\\':', valor_atributo)\n",
        "valor_atributo_1 = elementos[1].getAttribute(\"id\")\n",
        "print('Atributo \\'id\\' del segundo elemento \\'book\\':', valor_atributo_1)\n",
        "\n",
        "# Obtener contenido\n",
        "contenido = elementos[0].firstChild.nodeValue\n",
        "print(type(contenido),':', contenido) # no hay contenido de texto\n",
        "autor = elementos[0].getElementsByTagName(\"author\")\n",
        "contenido = autor[0].firstChild.nodeValue\n",
        "print('El primer autor del primer libro es:', type(contenido),':', contenido)\n"
      ]
    },
    {
      "cell_type": "markdown",
      "metadata": {
        "id": "A518X73tb7pB"
      },
      "source": [
        "Observar que el segundo libro tiene dos autores, por lo tanto para recuperar todos los autores por cada `id` podemos hacer:"
      ]
    },
    {
      "cell_type": "code",
      "execution_count": null,
      "metadata": {
        "id": "Co8-xspicIrz"
      },
      "outputs": [],
      "source": [
        "libros = []\n",
        "for elemento in elementos:\n",
        "    id_libro = elemento.getAttribute(\"id\")\n",
        "    autores_obj = elemento.getElementsByTagName(\"author\")\n",
        "    autores = []\n",
        "    for autor in autores_obj:\n",
        "        autores.append(autor.firstChild.nodeValue)\n",
        "    libros.append((id_libro,  autores))\n",
        "\n",
        "for libro in libros:\n",
        "    print(libro)\n"
      ]
    },
    {
      "cell_type": "markdown",
      "metadata": {
        "id": "e5Heg9QlrWvG"
      },
      "source": [
        "## 5. Uso de APIs\n",
        "\n",
        "Una API (Interfaz de Programación de Aplicaciones) es un conjunto de reglas y protocolos que permite que diferentes aplicaciones de software se comuniquen e intercambien datos entre sí. Es como un puente que conecta aplicaciones y les permite compartir información y funcionalidades.\n",
        "\n",
        "\n",
        "Por ejemplo, (ver [2]), si se tiene una app para móviles acerca de recetas y se hace una búsqueda de una determinada receta, se puede utilizar una API para que esta aplicación se comunique con el sitio web de recetas y pida las recetas que cumplen con los criterios de búsqueda. La API entonces se encarga de recibir la solicitud, buscar las recetas apropiadas y regresar los resultados a la aplicación. Una API es una forma de conectar diferentes aplicaciones y hacer que trabajen juntas de manera más eficiente y efectiva.\n",
        "\n",
        "Las APIS *no* son lenguaje dependientes,  es decir cualquier lenguaje moderno de programación (Python, Java, C++, etc) puede invocar y utilizar una API bien definida.\n",
        "\n",
        "Algunas características clave de las APIs:\n",
        "\n",
        "- Permiten que aplicaciones se comuniquen de manera segura y controlada, sin exponer todos los detalles internos de cada sistema. [1][2][4]\n",
        "- Proporcionan una forma estandarizada y documentada para que los desarrolladores puedan acceder a los datos y funcionalidades de otras aplicaciones. [1][2][4]\n",
        "- Facilitan el desarrollo de aplicaciones al permitir reutilizar funciones y datos existentes, en lugar de tener que crearlos desde cero. [1][4]\n",
        "- Pueden ser públicas (abiertas al público), privadas (solo para uso interno) o asociadas a socios comerciales. [1][4]\n",
        "- Utilizan protocolos como HTTP, REST y SOAP para definir cómo se realizan las solicitudes y respuestas entre aplicaciones. [3][4]\n",
        "\n",
        "En resumen, las APIs son la forma en que las aplicaciones se comunican y comparten información de manera segura y estandarizada, lo que permite a los desarrolladores crear nuevas funcionalidades y experiencias de usuario más rápidamente. [1][4]\n",
        "\n",
        "Referencias:\n",
        "\n",
        "- [1] https://www.ibm.com/topics/api\n",
        "- [2] https://es.wikipedia.org/wiki/API\n",
        "- [3] https://www.techtarget.com/searchapparchitecture/definition/application-program-interface-API\n",
        "- [4] https://www.mulesoft.com/resources/api/what-is-an-api\n",
        "- [5] https://www.computer.org/publications/tech-news/trends/what-are-apis/"
      ]
    },
    {
      "cell_type": "markdown",
      "metadata": {
        "id": "uJjLozwQrzFf"
      },
      "source": [
        "### Ejemplo: la API del NOAA\n",
        "\n",
        "La Oficina Nacional de Administración Oceánica y Atmosférica (National Oceanic and Atmospheric Administration, NOAA) es una agencia científica del Departamento de Comercio de los Estados Unidos cuyas actividades se centran en monitorear las condiciones de los océanos y la atmósfera.\n",
        "\n",
        "El NOAA ofrece distintos *datasets* (conjuntos de datos estructurados) sin limitaciones. Los datos puedes ser bajados directamente del sitio web https://www.noaa.gov/ o, alternativamente, accedidos por API.\n",
        "\n",
        "En esta sección accederemos a los datasets utilizando la API. Para utilizar la API se debe solicitar  un *token* al NOAA (ver *Referencias*, más abajo). El token es una cadena de caracteres que funciona como id y password al mismo tiempo.\n",
        "\n",
        "Ahora utilizaremos un token obtenido para esta clase,  pero pueden obtener rápidamente una en forma individual.\n",
        "\n",
        "Si al comienzo ponemos\n",
        "\n",
        "    import requests\n",
        "    token = 'nuestro token'\n",
        "    my_headers = {'token' : token}\n",
        "    response = requests.get('https://www.ncdc.noaa.gov/cdo-web/api/v2/datasets', headers=my_headers)\n",
        "    respuesta = response.json()\n",
        "    resultados = respuesta['results'] # Datasets disponible\n",
        "    for w in resultados:\n",
        "      pass\n",
        "      print(w['uid'],':',w['name'])\n",
        "\n",
        "obtendremos el `id` de cada uno de los datasets ofrecidos por el NOAA via API y una breve descripción de los mismos.\n",
        "\n",
        "Implementamos el código de más arriba agregando el token y  excepciones para que el código sea más robusto.\n",
        "\n"
      ]
    },
    {
      "cell_type": "code",
      "execution_count": 1,
      "metadata": {
        "colab": {
          "base_uri": "https://localhost:8080/"
        },
        "id": "76qmvoZEuT_e",
        "outputId": "4266860c-143d-45b9-c552-6dffe8eff444"
      },
      "outputs": [
        {
          "name": "stdout",
          "output_type": "stream",
          "text": [
            "a\n"
          ]
        }
      ],
      "source": [
        "import requests\n",
        "token = 'LsJXpYprYMzOKjMtqAlDmMUzwGelIQDf'\n",
        "my_headers = {'token' : token}\n",
        "try :\n",
        "    response = requests.get('https://www.ncdc.noaa.gov/cdo-web/api/v2/datasets', headers=my_headers)\n",
        "    status_code = response.status_code\n",
        "except requests.exceptions.RequestException as e:\n",
        "    print(e) # imprime en la terminal el error que se produjo\n",
        "    status_code = 550\n",
        "\n",
        "respuesta = response.json()\n",
        "resultados = respuesta['results'] # Datasets disponible\n",
        "for w in resultados:\n",
        "    pass\n",
        "    print(w['uid'],':',w['name'])"
      ]
    },
    {
      "cell_type": "markdown",
      "metadata": {
        "id": "cDy_Vb6NuVHG"
      },
      "source": [
        "La API permite una variedad de consultas, por ejemplo:\n",
        "\n",
        "\n"
      ]
    },
    {
      "cell_type": "code",
      "execution_count": 2,
      "metadata": {
        "id": "6woop6MGrzFh"
      },
      "outputs": [],
      "source": [
        "# Ejemplo: datasets  disponible en la ciudad US390029\n",
        "import requests\n",
        "token = 'LsJXpYprYMzOKjMtqAlDmMUzwGelIQDf'\n",
        "my_headers = {'token' : token}\n",
        "try :\n",
        "    response = requests.get('https://www.ncdc.noaa.gov/cdo-web/api/v2/datasets?locationid=CITY:US390029', headers=my_headers)\n",
        "    status_code = response.status_code\n",
        "except requests.exceptions.RequestException as e:\n",
        "    print(e) # imprime en la terminal el error que se produjo\n",
        "    status_code = 550\n",
        "respuesta = response.json()\n",
        "print(respuesta)"
      ]
    },
    {
      "cell_type": "markdown",
      "metadata": {
        "id": "3eiczllvwf2D"
      },
      "source": [
        "nos devuelve todos los datasets disponibles para determinada localidad,  en este caso `US390029` que es la ciudad de Zanesville, OH US.\n",
        "\n",
        "También podemos obtener, por ejemplo, datos climatológicos de una determinada localidad durante un período determinado de tiempo: la consulta\n",
        "\n"
      ]
    },
    {
      "cell_type": "code",
      "execution_count": null,
      "metadata": {
        "colab": {
          "base_uri": "https://localhost:8080/"
        },
        "id": "o-yfxO4LrzFh",
        "outputId": "63aca629-7cc0-4b1c-de49-440e150c82dc"
      },
      "outputs": [],
      "source": [
        "# Datos climatológicos diarios (temperatura máxima, temperatura mínima y precipitaciones) en un período de tiempo en\n",
        "# la estación meteorológica  AR000087344 (Aeropuerto de Córdoba)\n",
        "fecha_ini, fecha_fin = '2024-04-24', '2024-04-30'\n",
        "try :\n",
        "    response = requests.get('https://www.ncdc.noaa.gov/cdo-web/api/v2/data?datasetid=GHCND&stationid=GHCND:AR000087344&limit=1000&units=metric&startdate='+fecha_ini+'&enddate='+fecha_fin+'', headers=my_headers)\n",
        "    status_code = response.status_code\n",
        "except requests.exceptions.RequestException as e:\n",
        "    print(e) # imprime en la terminal el error que se produjo\n",
        "    status_code = 550\n",
        "respuesta = response.json()\n",
        "print(type(respuesta))\n",
        "for  item in respuesta:\n",
        "    print(item)"
      ]
    },
    {
      "cell_type": "markdown",
      "metadata": {
        "id": "14FY3fBVyLxe"
      },
      "source": [
        "nos devuelve un sumario de temperaturas y precipitaciones diarias en el mes de mayo de la estación meteorológica del Aeropuerto de Córdoba,  que está codificada `AR000087344`.  \n",
        "\n",
        "\n",
        "Observar que la respuesta recibida puede ser convertida a JSON, pues así lo permite la API. En  este caso particular, la respuesta JSON es un diccionario con dos claves: `metadata` y `results`. El campo `metadata` nos da información sobre tipo de datos, formato, etc. Mientras que `results` es el contenido que nos interesa."
      ]
    },
    {
      "cell_type": "code",
      "execution_count": null,
      "metadata": {
        "colab": {
          "base_uri": "https://localhost:8080/"
        },
        "id": "xgYNwm1Bz6Tn",
        "outputId": "29b9c392-a9a9-4f28-f19e-c9e490032fb5"
      },
      "outputs": [],
      "source": [
        "print(respuesta['metadata'])\n",
        "print(respuesta['results'])"
      ]
    },
    {
      "cell_type": "markdown",
      "metadata": {
        "id": "v4hPWMBM0Lrv"
      },
      "source": [
        "`respuesta['results']`es una lista con datos meteorológicos de la localidad en el período especificado:"
      ]
    },
    {
      "cell_type": "code",
      "execution_count": null,
      "metadata": {
        "colab": {
          "base_uri": "https://localhost:8080/"
        },
        "id": "pYqVRCiI0afI",
        "outputId": "742f31ac-9aba-4195-829e-7b059c8fc035"
      },
      "outputs": [],
      "source": [
        "for  data in respuesta['results']:\n",
        "    print(data)"
      ]
    },
    {
      "cell_type": "markdown",
      "metadata": {
        "id": "bP0qnSqI1b_C"
      },
      "source": [
        "Observar que cada elemento de  `resultados` es un diccionario y en ese diccionario  estan las claves`date`, `datatype` y `value`.\n",
        "- `date` indica el día.\n",
        "- Si el `datatype` es `TMAX`,  entonces `value` indica la temperatura máxima del día.\n",
        "- Si el `datatype` es `TMIN`,  entonces `value` indica la temperatura mínima del día.\n",
        "- Si el `datatype` es `TAVG`,  entonces `value` indica la temperatura promedio del día.\n",
        "- Si el `datatype` es `PRCP`,  entonces `value` indica la precipitación (en mm) de ese día.\n",
        "\n",
        "Es importante notar que no todos los datos se encuentran para todos los días.\n"
      ]
    },
    {
      "cell_type": "markdown",
      "metadata": {
        "id": "Kai4rmiKxlqG"
      },
      "source": [
        "\n",
        "\n",
        "En las referencias a continuación se encuentra como obtener el token, la descripción de la API, la lista de estaciones meteorológicas y mucha más información.\n",
        "\n",
        "\n",
        "\n",
        "*Referencias*\n",
        "- https://www.ncdc.noaa.gov/ National Centers for Environmental Information (37 petabytes)\n",
        "- https://www.ncei.noaa.gov/support/access-data-service-api-user-documentation\n",
        "- Para bajar estaciones meteorolgógicas:  https://www1.ncdc.noaa.gov/pub/data/ghcn/daily/ghcnd-stations.txt\n",
        "- https://www.ncdc.noaa.gov/ghcn-daily-description\n",
        "- Para bajar manual de ghcn-daily: https://www1.ncdc.noaa.gov/pub/data/ghcn/daily/readme.txt\n",
        "- Para pedir token: https://www.ncdc.noaa.gov/cdo-web/token\n",
        "- Climate Data Online - Web Services Documentation: https://www.ncdc.noaa.gov/cdo-web/webservices/v2#gettingStarted\n",
        "- Manual genérico para uso de APIs en Python: https://www.nylas.com/blog/use-python-requests-module-rest-apis/"
      ]
    },
    {
      "cell_type": "markdown",
      "metadata": {
        "id": "Qe4LVbw0rzFi"
      },
      "source": [
        "### Otros ejemplos de APIs\n",
        "\n",
        "Algunas APIs interesantes para practicar son:\n",
        "\n",
        "\n",
        "- **PokéAPI**: Proporciona datos sobre Pokémon como movimientos, habilidades, tipos, etc. Permite crear fácilmente un Pokédex. [2][3]\n",
        "- **API de la NASA**: Permite acceder a datos de la NASA como imágenes de satélites, clima en Marte, etc. Requiere registro para obtener acceso a algunos datos. [1][2]\n",
        "- **API de Marvel**: Ofrece contenido de Marvel como personajes, cómics, películas y videojuegos. Requiere registro en developer.marvel.com. [3]\n",
        "- **COVID Tracking API**: Proporciona datos de COVID-19 a nivel mundial como contagios, pruebas, hospitalizaciones y muertes. [3]\n",
        "- **OpenWeather APIs**: Permite obtener información meteorológica actual, histórica y pronósticos. También ofrece mapas. [3]\n",
        "\n",
        "Todas estas APIs son de datos públicos,  algunas requieren registro. Tambén algunas pueden tener un límite diario de consultas.\n",
        "\n",
        "\n",
        "\n",
        "Las siguientes APIs  son de suma utilidad para algunos desarrolladores, pero o bien son pagas o bien requieren un un complicado proceso de registro. O  ambas cosas!\n",
        "\n",
        "\n",
        "## APIs de servicios populares\n",
        "\n",
        "- **API de Google Maps**: Agrega funcionalidades de mapas a aplicaciones web como mostrar ubicaciones, calcular rutas, obtener direcciones. [4]\n",
        "- **API de Facebook**: Integra funcionalidades sociales como compartir contenido, autenticación de usuarios, conexión a la red de Facebook. [4]\n",
        "- **API de Twitter**: Permite enviar y recibir tweets, buscar tweets, compartir contenido a través de Twitter. [4]\n",
        "\n",
        "\n",
        "\n",
        "Referencias:\n",
        "\n",
        "- [1] https://platzi.com/blog/12-api-gratis-para-desarrolladores-frontend/\n",
        "- [2] https://www.youtube.com/watch?v=xOsqjAyIWwI\n",
        "- [3] https://ed.team/blog/las-mejores-apis-publicas-para-practicar\n",
        "- [4] https://www.nucba.com.ar/blog/posts/mejores-apis-para-practicar\n",
        "- [5] https://www.youtube.com/watch?v=ZgV3ohcNXYQ"
      ]
    }
  ],
  "metadata": {
    "colab": {
      "provenance": []
    },
    "interpreter": {
      "hash": "df45a1d593e760cb2f2d0116876d0d9854c557dc207c92c5b1e029045d5f17a5"
    },
    "kernelspec": {
      "display_name": "Python 3.9.6 64-bit",
      "language": "python",
      "name": "python3"
    },
    "language_info": {
      "codemirror_mode": {
        "name": "ipython",
        "version": 3
      },
      "file_extension": ".py",
      "mimetype": "text/x-python",
      "name": "python",
      "nbconvert_exporter": "python",
      "pygments_lexer": "ipython3",
      "version": "3.10.12"
    }
  },
  "nbformat": 4,
  "nbformat_minor": 0
}
